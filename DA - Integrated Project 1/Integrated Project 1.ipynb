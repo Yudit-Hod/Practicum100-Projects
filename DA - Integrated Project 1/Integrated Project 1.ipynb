{
 "cells": [
  {
   "cell_type": "markdown",
   "metadata": {},
   "source": [
    "# 2017's Advertising campaigns for video games"
   ]
  },
  {
   "cell_type": "markdown",
   "metadata": {},
   "source": [
    "The online store Ice, which sells video games all over the world wants to forecast the most profitable games of 2017. This report will allow us to spot potential big winners and plan advertising campaigns.\n",
    "The data is going back to 2016 and we’re planning a campaign for 2017.\n",
    "\n",
    "The dataset contains The Entertainment Software Rating Board evaluates a game's content and assigns an age rating such as Teen or Mature. The user and expert reviews, genres, platforms (e.g. Xbox or PlayStation), and historical data on game sales are available from open sources."
   ]
  },
  {
   "cell_type": "markdown",
   "metadata": {},
   "source": [
    "**Project Steps** <a class=\"anchor\" id=\"table_of_contents\"></a>  \n",
    "[Data file and general info](#chapter1)  \n",
    "[Data Preprocessing](#chapter2)  \n",
    "[Analyzing the data](#chapter3)  \n",
    "[User profile](#chapter4)  \n",
    "[Testing hypothesis](#chapter5)    \n",
    "[Overall conclusion](#chapter6)  "
   ]
  },
  {
   "cell_type": "markdown",
   "metadata": {},
   "source": [
    "Data description:\n",
    "- Name\n",
    "- Platform\n",
    "- Year_of_Release\n",
    "- Genre\n",
    "- NA_sales (North American sales in USD million)\n",
    "- EU_sales (sales in Europe in USD million)\n",
    "- JP_sales (sales in Japan in USD million)\n",
    "- Other_sales (sales in other countries in USD million)\n",
    "- Critic_Score (maximum of 100)\n",
    "- User_Score (maximum of 10)\n",
    "- Rating (ESRB)   \n",
    "  **Data for 2016 may be incomplete.**"
   ]
  },
  {
   "cell_type": "markdown",
   "metadata": {},
   "source": [
    "## 1. Data file and general info\n",
    "<a class=\"anchor\" id=\"chapter1\"></a>"
   ]
  },
  {
   "cell_type": "code",
   "execution_count": 1,
   "metadata": {},
   "outputs": [
    {
     "name": "stdout",
     "output_type": "stream",
     "text": [
      "Defaulting to user installation because normal site-packages is not writeable\n",
      "Requirement already up-to-date: sidetable in /home/jovyan/.local/lib/python3.7/site-packages (0.8.0)\n",
      "Requirement already satisfied, skipping upgrade: pandas>=1.0 in /home/jovyan/.local/lib/python3.7/site-packages (from sidetable) (1.3.0)\n",
      "Requirement already satisfied, skipping upgrade: python-dateutil>=2.7.3 in /opt/conda/lib/python3.7/site-packages (from pandas>=1.0->sidetable) (2.8.1)\n",
      "Requirement already satisfied, skipping upgrade: pytz>=2017.3 in /opt/conda/lib/python3.7/site-packages (from pandas>=1.0->sidetable) (2021.1)\n",
      "Requirement already satisfied, skipping upgrade: numpy>=1.17.3 in /home/jovyan/.local/lib/python3.7/site-packages (from pandas>=1.0->sidetable) (1.21.0)\n",
      "Requirement already satisfied, skipping upgrade: six>=1.5 in /opt/conda/lib/python3.7/site-packages (from python-dateutil>=2.7.3->pandas>=1.0->sidetable) (1.15.0)\n",
      "Defaulting to user installation because normal site-packages is not writeable\n",
      "Collecting squarify\n",
      "  Downloading squarify-0.4.3-py3-none-any.whl (4.3 kB)\n",
      "Installing collected packages: squarify\n",
      "Successfully installed squarify-0.4.3\n"
     ]
    }
   ],
   "source": [
    "#import libraries of functions\n",
    "\n",
    "#!pip install sidetable\n",
    "#!pip install squarify\n",
    "import pandas as pd\n",
    "import numpy as np\n",
    "import seaborn as sns\n",
    "import matplotlib.pyplot as plt\n",
    "from matplotlib import cm\n",
    "import sidetable\n",
    "import squarify\n",
    "import scipy.stats as st\n",
    "import matplotlib.ticker as mtick\n",
    "\n",
    "#open the data file locally\n",
    "try:\n",
    "    df = pd.read_csv('games.csv')\n",
    "    \n",
    "#open the data file on the platform    \n",
    "except:\n",
    "    df = pd.read_csv('/datasets/games.csv')"
   ]
  },
  {
   "cell_type": "code",
   "execution_count": 2,
   "metadata": {},
   "outputs": [
    {
     "name": "stdout",
     "output_type": "stream",
     "text": [
      "<class 'pandas.core.frame.DataFrame'>\n",
      "RangeIndex: 16715 entries, 0 to 16714\n",
      "Data columns (total 11 columns):\n",
      " #   Column           Non-Null Count  Dtype  \n",
      "---  ------           --------------  -----  \n",
      " 0   Name             16713 non-null  object \n",
      " 1   Platform         16715 non-null  object \n",
      " 2   Year_of_Release  16446 non-null  float64\n",
      " 3   Genre            16713 non-null  object \n",
      " 4   NA_sales         16715 non-null  float64\n",
      " 5   EU_sales         16715 non-null  float64\n",
      " 6   JP_sales         16715 non-null  float64\n",
      " 7   Other_sales      16715 non-null  float64\n",
      " 8   Critic_Score     8137 non-null   float64\n",
      " 9   User_Score       10014 non-null  object \n",
      " 10  Rating           9949 non-null   object \n",
      "dtypes: float64(6), object(5)\n",
      "memory usage: 1.4+ MB\n"
     ]
    }
   ],
   "source": [
    "#names of columns, types and counts\n",
    "df.info()"
   ]
  },
  {
   "cell_type": "code",
   "execution_count": 3,
   "metadata": {},
   "outputs": [
    {
     "data": {
      "text/html": [
       "<div>\n",
       "<style scoped>\n",
       "    .dataframe tbody tr th:only-of-type {\n",
       "        vertical-align: middle;\n",
       "    }\n",
       "\n",
       "    .dataframe tbody tr th {\n",
       "        vertical-align: top;\n",
       "    }\n",
       "\n",
       "    .dataframe thead th {\n",
       "        text-align: right;\n",
       "    }\n",
       "</style>\n",
       "<table border=\"1\" class=\"dataframe\">\n",
       "  <thead>\n",
       "    <tr style=\"text-align: right;\">\n",
       "      <th></th>\n",
       "      <th>Name</th>\n",
       "      <th>Platform</th>\n",
       "      <th>Year_of_Release</th>\n",
       "      <th>Genre</th>\n",
       "      <th>NA_sales</th>\n",
       "      <th>EU_sales</th>\n",
       "      <th>JP_sales</th>\n",
       "      <th>Other_sales</th>\n",
       "      <th>Critic_Score</th>\n",
       "      <th>User_Score</th>\n",
       "      <th>Rating</th>\n",
       "    </tr>\n",
       "  </thead>\n",
       "  <tbody>\n",
       "    <tr>\n",
       "      <th>0</th>\n",
       "      <td>Wii Sports</td>\n",
       "      <td>Wii</td>\n",
       "      <td>2006.0</td>\n",
       "      <td>Sports</td>\n",
       "      <td>41.36</td>\n",
       "      <td>28.96</td>\n",
       "      <td>3.77</td>\n",
       "      <td>8.45</td>\n",
       "      <td>76.0</td>\n",
       "      <td>8</td>\n",
       "      <td>E</td>\n",
       "    </tr>\n",
       "    <tr>\n",
       "      <th>1</th>\n",
       "      <td>Super Mario Bros.</td>\n",
       "      <td>NES</td>\n",
       "      <td>1985.0</td>\n",
       "      <td>Platform</td>\n",
       "      <td>29.08</td>\n",
       "      <td>3.58</td>\n",
       "      <td>6.81</td>\n",
       "      <td>0.77</td>\n",
       "      <td>NaN</td>\n",
       "      <td>NaN</td>\n",
       "      <td>NaN</td>\n",
       "    </tr>\n",
       "    <tr>\n",
       "      <th>2</th>\n",
       "      <td>Mario Kart Wii</td>\n",
       "      <td>Wii</td>\n",
       "      <td>2008.0</td>\n",
       "      <td>Racing</td>\n",
       "      <td>15.68</td>\n",
       "      <td>12.76</td>\n",
       "      <td>3.79</td>\n",
       "      <td>3.29</td>\n",
       "      <td>82.0</td>\n",
       "      <td>8.3</td>\n",
       "      <td>E</td>\n",
       "    </tr>\n",
       "    <tr>\n",
       "      <th>3</th>\n",
       "      <td>Wii Sports Resort</td>\n",
       "      <td>Wii</td>\n",
       "      <td>2009.0</td>\n",
       "      <td>Sports</td>\n",
       "      <td>15.61</td>\n",
       "      <td>10.93</td>\n",
       "      <td>3.28</td>\n",
       "      <td>2.95</td>\n",
       "      <td>80.0</td>\n",
       "      <td>8</td>\n",
       "      <td>E</td>\n",
       "    </tr>\n",
       "    <tr>\n",
       "      <th>4</th>\n",
       "      <td>Pokemon Red/Pokemon Blue</td>\n",
       "      <td>GB</td>\n",
       "      <td>1996.0</td>\n",
       "      <td>Role-Playing</td>\n",
       "      <td>11.27</td>\n",
       "      <td>8.89</td>\n",
       "      <td>10.22</td>\n",
       "      <td>1.00</td>\n",
       "      <td>NaN</td>\n",
       "      <td>NaN</td>\n",
       "      <td>NaN</td>\n",
       "    </tr>\n",
       "  </tbody>\n",
       "</table>\n",
       "</div>"
      ],
      "text/plain": [
       "                       Name Platform  Year_of_Release         Genre  NA_sales  \\\n",
       "0                Wii Sports      Wii           2006.0        Sports     41.36   \n",
       "1         Super Mario Bros.      NES           1985.0      Platform     29.08   \n",
       "2            Mario Kart Wii      Wii           2008.0        Racing     15.68   \n",
       "3         Wii Sports Resort      Wii           2009.0        Sports     15.61   \n",
       "4  Pokemon Red/Pokemon Blue       GB           1996.0  Role-Playing     11.27   \n",
       "\n",
       "   EU_sales  JP_sales  Other_sales  Critic_Score User_Score Rating  \n",
       "0     28.96      3.77         8.45          76.0          8      E  \n",
       "1      3.58      6.81         0.77           NaN        NaN    NaN  \n",
       "2     12.76      3.79         3.29          82.0        8.3      E  \n",
       "3     10.93      3.28         2.95          80.0          8      E  \n",
       "4      8.89     10.22         1.00           NaN        NaN    NaN  "
      ]
     },
     "execution_count": 3,
     "metadata": {},
     "output_type": "execute_result"
    }
   ],
   "source": [
    "#show general info \n",
    "df.head()"
   ]
  },
  {
   "cell_type": "code",
   "execution_count": 4,
   "metadata": {},
   "outputs": [
    {
     "data": {
      "text/html": [
       "<div>\n",
       "<style scoped>\n",
       "    .dataframe tbody tr th:only-of-type {\n",
       "        vertical-align: middle;\n",
       "    }\n",
       "\n",
       "    .dataframe tbody tr th {\n",
       "        vertical-align: top;\n",
       "    }\n",
       "\n",
       "    .dataframe thead th {\n",
       "        text-align: right;\n",
       "    }\n",
       "</style>\n",
       "<table border=\"1\" class=\"dataframe\">\n",
       "  <thead>\n",
       "    <tr style=\"text-align: right;\">\n",
       "      <th></th>\n",
       "      <th>Name</th>\n",
       "      <th>Platform</th>\n",
       "      <th>Year_of_Release</th>\n",
       "      <th>Genre</th>\n",
       "      <th>NA_sales</th>\n",
       "      <th>EU_sales</th>\n",
       "      <th>JP_sales</th>\n",
       "      <th>Other_sales</th>\n",
       "      <th>Critic_Score</th>\n",
       "      <th>User_Score</th>\n",
       "      <th>Rating</th>\n",
       "    </tr>\n",
       "  </thead>\n",
       "  <tbody>\n",
       "    <tr>\n",
       "      <th>16710</th>\n",
       "      <td>Samurai Warriors: Sanada Maru</td>\n",
       "      <td>PS3</td>\n",
       "      <td>2016.0</td>\n",
       "      <td>Action</td>\n",
       "      <td>0.00</td>\n",
       "      <td>0.00</td>\n",
       "      <td>0.01</td>\n",
       "      <td>0.0</td>\n",
       "      <td>NaN</td>\n",
       "      <td>NaN</td>\n",
       "      <td>NaN</td>\n",
       "    </tr>\n",
       "    <tr>\n",
       "      <th>16711</th>\n",
       "      <td>LMA Manager 2007</td>\n",
       "      <td>X360</td>\n",
       "      <td>2006.0</td>\n",
       "      <td>Sports</td>\n",
       "      <td>0.00</td>\n",
       "      <td>0.01</td>\n",
       "      <td>0.00</td>\n",
       "      <td>0.0</td>\n",
       "      <td>NaN</td>\n",
       "      <td>NaN</td>\n",
       "      <td>NaN</td>\n",
       "    </tr>\n",
       "    <tr>\n",
       "      <th>16712</th>\n",
       "      <td>Haitaka no Psychedelica</td>\n",
       "      <td>PSV</td>\n",
       "      <td>2016.0</td>\n",
       "      <td>Adventure</td>\n",
       "      <td>0.00</td>\n",
       "      <td>0.00</td>\n",
       "      <td>0.01</td>\n",
       "      <td>0.0</td>\n",
       "      <td>NaN</td>\n",
       "      <td>NaN</td>\n",
       "      <td>NaN</td>\n",
       "    </tr>\n",
       "    <tr>\n",
       "      <th>16713</th>\n",
       "      <td>Spirits &amp; Spells</td>\n",
       "      <td>GBA</td>\n",
       "      <td>2003.0</td>\n",
       "      <td>Platform</td>\n",
       "      <td>0.01</td>\n",
       "      <td>0.00</td>\n",
       "      <td>0.00</td>\n",
       "      <td>0.0</td>\n",
       "      <td>NaN</td>\n",
       "      <td>NaN</td>\n",
       "      <td>NaN</td>\n",
       "    </tr>\n",
       "    <tr>\n",
       "      <th>16714</th>\n",
       "      <td>Winning Post 8 2016</td>\n",
       "      <td>PSV</td>\n",
       "      <td>2016.0</td>\n",
       "      <td>Simulation</td>\n",
       "      <td>0.00</td>\n",
       "      <td>0.00</td>\n",
       "      <td>0.01</td>\n",
       "      <td>0.0</td>\n",
       "      <td>NaN</td>\n",
       "      <td>NaN</td>\n",
       "      <td>NaN</td>\n",
       "    </tr>\n",
       "  </tbody>\n",
       "</table>\n",
       "</div>"
      ],
      "text/plain": [
       "                                Name Platform  Year_of_Release       Genre  \\\n",
       "16710  Samurai Warriors: Sanada Maru      PS3           2016.0      Action   \n",
       "16711               LMA Manager 2007     X360           2006.0      Sports   \n",
       "16712        Haitaka no Psychedelica      PSV           2016.0   Adventure   \n",
       "16713               Spirits & Spells      GBA           2003.0    Platform   \n",
       "16714            Winning Post 8 2016      PSV           2016.0  Simulation   \n",
       "\n",
       "       NA_sales  EU_sales  JP_sales  Other_sales  Critic_Score User_Score  \\\n",
       "16710      0.00      0.00      0.01          0.0           NaN        NaN   \n",
       "16711      0.00      0.01      0.00          0.0           NaN        NaN   \n",
       "16712      0.00      0.00      0.01          0.0           NaN        NaN   \n",
       "16713      0.01      0.00      0.00          0.0           NaN        NaN   \n",
       "16714      0.00      0.00      0.01          0.0           NaN        NaN   \n",
       "\n",
       "      Rating  \n",
       "16710    NaN  \n",
       "16711    NaN  \n",
       "16712    NaN  \n",
       "16713    NaN  \n",
       "16714    NaN  "
      ]
     },
     "execution_count": 4,
     "metadata": {},
     "output_type": "execute_result"
    }
   ],
   "source": [
    "df.tail()"
   ]
  },
  {
   "cell_type": "markdown",
   "metadata": {},
   "source": [
    "We can see that there are games with sales less than million, so they appear with 0.0 in the sales columns. There are missing values in the raiting and the two kind of scores, later we'll decide how to hendle them. The `Year_of_Release` should be changed to 'int' type. The scales of `Critic_Score` and `User_Score` are different, maybe it is better to make it as a percentage of the highest score possible. Let's see some statistical info about the data:"
   ]
  },
  {
   "cell_type": "code",
   "execution_count": 5,
   "metadata": {},
   "outputs": [
    {
     "data": {
      "text/html": [
       "<div>\n",
       "<style scoped>\n",
       "    .dataframe tbody tr th:only-of-type {\n",
       "        vertical-align: middle;\n",
       "    }\n",
       "\n",
       "    .dataframe tbody tr th {\n",
       "        vertical-align: top;\n",
       "    }\n",
       "\n",
       "    .dataframe thead th {\n",
       "        text-align: right;\n",
       "    }\n",
       "</style>\n",
       "<table border=\"1\" class=\"dataframe\">\n",
       "  <thead>\n",
       "    <tr style=\"text-align: right;\">\n",
       "      <th></th>\n",
       "      <th>Year_of_Release</th>\n",
       "      <th>NA_sales</th>\n",
       "      <th>EU_sales</th>\n",
       "      <th>JP_sales</th>\n",
       "      <th>Other_sales</th>\n",
       "      <th>Critic_Score</th>\n",
       "    </tr>\n",
       "  </thead>\n",
       "  <tbody>\n",
       "    <tr>\n",
       "      <th>count</th>\n",
       "      <td>16446.000000</td>\n",
       "      <td>16715.000000</td>\n",
       "      <td>16715.000000</td>\n",
       "      <td>16715.000000</td>\n",
       "      <td>16715.000000</td>\n",
       "      <td>8137.000000</td>\n",
       "    </tr>\n",
       "    <tr>\n",
       "      <th>mean</th>\n",
       "      <td>2006.484616</td>\n",
       "      <td>0.263377</td>\n",
       "      <td>0.145060</td>\n",
       "      <td>0.077617</td>\n",
       "      <td>0.047342</td>\n",
       "      <td>68.967679</td>\n",
       "    </tr>\n",
       "    <tr>\n",
       "      <th>std</th>\n",
       "      <td>5.877050</td>\n",
       "      <td>0.813604</td>\n",
       "      <td>0.503339</td>\n",
       "      <td>0.308853</td>\n",
       "      <td>0.186731</td>\n",
       "      <td>13.938165</td>\n",
       "    </tr>\n",
       "    <tr>\n",
       "      <th>min</th>\n",
       "      <td>1980.000000</td>\n",
       "      <td>0.000000</td>\n",
       "      <td>0.000000</td>\n",
       "      <td>0.000000</td>\n",
       "      <td>0.000000</td>\n",
       "      <td>13.000000</td>\n",
       "    </tr>\n",
       "    <tr>\n",
       "      <th>25%</th>\n",
       "      <td>2003.000000</td>\n",
       "      <td>0.000000</td>\n",
       "      <td>0.000000</td>\n",
       "      <td>0.000000</td>\n",
       "      <td>0.000000</td>\n",
       "      <td>60.000000</td>\n",
       "    </tr>\n",
       "    <tr>\n",
       "      <th>50%</th>\n",
       "      <td>2007.000000</td>\n",
       "      <td>0.080000</td>\n",
       "      <td>0.020000</td>\n",
       "      <td>0.000000</td>\n",
       "      <td>0.010000</td>\n",
       "      <td>71.000000</td>\n",
       "    </tr>\n",
       "    <tr>\n",
       "      <th>75%</th>\n",
       "      <td>2010.000000</td>\n",
       "      <td>0.240000</td>\n",
       "      <td>0.110000</td>\n",
       "      <td>0.040000</td>\n",
       "      <td>0.030000</td>\n",
       "      <td>79.000000</td>\n",
       "    </tr>\n",
       "    <tr>\n",
       "      <th>max</th>\n",
       "      <td>2016.000000</td>\n",
       "      <td>41.360000</td>\n",
       "      <td>28.960000</td>\n",
       "      <td>10.220000</td>\n",
       "      <td>10.570000</td>\n",
       "      <td>98.000000</td>\n",
       "    </tr>\n",
       "  </tbody>\n",
       "</table>\n",
       "</div>"
      ],
      "text/plain": [
       "       Year_of_Release      NA_sales      EU_sales      JP_sales  \\\n",
       "count     16446.000000  16715.000000  16715.000000  16715.000000   \n",
       "mean       2006.484616      0.263377      0.145060      0.077617   \n",
       "std           5.877050      0.813604      0.503339      0.308853   \n",
       "min        1980.000000      0.000000      0.000000      0.000000   \n",
       "25%        2003.000000      0.000000      0.000000      0.000000   \n",
       "50%        2007.000000      0.080000      0.020000      0.000000   \n",
       "75%        2010.000000      0.240000      0.110000      0.040000   \n",
       "max        2016.000000     41.360000     28.960000     10.220000   \n",
       "\n",
       "        Other_sales  Critic_Score  \n",
       "count  16715.000000   8137.000000  \n",
       "mean       0.047342     68.967679  \n",
       "std        0.186731     13.938165  \n",
       "min        0.000000     13.000000  \n",
       "25%        0.000000     60.000000  \n",
       "50%        0.010000     71.000000  \n",
       "75%        0.030000     79.000000  \n",
       "max       10.570000     98.000000  "
      ]
     },
     "execution_count": 5,
     "metadata": {},
     "output_type": "execute_result"
    }
   ],
   "source": [
    "#show statistic summary for numeric values\n",
    "df.describe(include = 'number')"
   ]
  },
  {
   "cell_type": "markdown",
   "metadata": {},
   "source": [
    "We see that the first game was released in 1980 and most of the games were released after 2000. The highest sales are in the North American market. The lowest critic's score is 13 and the highest is 98. Now let's check the categorical values:"
   ]
  },
  {
   "cell_type": "code",
   "execution_count": 6,
   "metadata": {},
   "outputs": [
    {
     "data": {
      "text/html": [
       "<div>\n",
       "<style scoped>\n",
       "    .dataframe tbody tr th:only-of-type {\n",
       "        vertical-align: middle;\n",
       "    }\n",
       "\n",
       "    .dataframe tbody tr th {\n",
       "        vertical-align: top;\n",
       "    }\n",
       "\n",
       "    .dataframe thead th {\n",
       "        text-align: right;\n",
       "    }\n",
       "</style>\n",
       "<table border=\"1\" class=\"dataframe\">\n",
       "  <thead>\n",
       "    <tr style=\"text-align: right;\">\n",
       "      <th></th>\n",
       "      <th>Name</th>\n",
       "      <th>Platform</th>\n",
       "      <th>Genre</th>\n",
       "      <th>User_Score</th>\n",
       "      <th>Rating</th>\n",
       "    </tr>\n",
       "  </thead>\n",
       "  <tbody>\n",
       "    <tr>\n",
       "      <th>count</th>\n",
       "      <td>16713</td>\n",
       "      <td>16715</td>\n",
       "      <td>16713</td>\n",
       "      <td>10014</td>\n",
       "      <td>9949</td>\n",
       "    </tr>\n",
       "    <tr>\n",
       "      <th>unique</th>\n",
       "      <td>11559</td>\n",
       "      <td>31</td>\n",
       "      <td>12</td>\n",
       "      <td>96</td>\n",
       "      <td>8</td>\n",
       "    </tr>\n",
       "    <tr>\n",
       "      <th>top</th>\n",
       "      <td>Need for Speed: Most Wanted</td>\n",
       "      <td>PS2</td>\n",
       "      <td>Action</td>\n",
       "      <td>tbd</td>\n",
       "      <td>E</td>\n",
       "    </tr>\n",
       "    <tr>\n",
       "      <th>freq</th>\n",
       "      <td>12</td>\n",
       "      <td>2161</td>\n",
       "      <td>3369</td>\n",
       "      <td>2424</td>\n",
       "      <td>3990</td>\n",
       "    </tr>\n",
       "  </tbody>\n",
       "</table>\n",
       "</div>"
      ],
      "text/plain": [
       "                               Name Platform   Genre User_Score Rating\n",
       "count                         16713    16715   16713      10014   9949\n",
       "unique                        11559       31      12         96      8\n",
       "top     Need for Speed: Most Wanted      PS2  Action        tbd      E\n",
       "freq                             12     2161    3369       2424   3990"
      ]
     },
     "execution_count": 6,
     "metadata": {},
     "output_type": "execute_result"
    }
   ],
   "source": [
    "#show statistic summary for categorical values\n",
    "df.describe(include = 'object')"
   ]
  },
  {
   "cell_type": "markdown",
   "metadata": {},
   "source": [
    "**Conclusions from first impressions of the data**"
   ]
  },
  {
   "cell_type": "markdown",
   "metadata": {},
   "source": [
    "- We have missing values in the scores and raiting, so we need to decide how to hendle them.\n",
    "- The biggest market is North America, followed by Europe, Japan and the other countries.\n",
    "- The `Critic_Score` and `User_Score` are pretty much the same for each game but in different scales.\n",
    "- We need to change the type of `Year_of_Release` to 'int'\n",
    "- The `User_Score` type is 'object' because of the records 'tbd', we need to change it to other numeric identifier.\n",
    "- The column names contains upper case words so it is better to convert them all to lower case.\n",
    "- The `User_Score` appears as 'object' type because of the records 'tbd', but it should be 'float' type. We have 2,424 such records, later we will decide how to hendle them. We have 8 unique values in the Rating of the ESRB, the most common is 'E' which means 'everyone'. There are 12 genres, 31 platform where PS2\tis the most mentioned and there are 11559 different games."
   ]
  },
  {
   "cell_type": "markdown",
   "metadata": {},
   "source": [
    "## 2. Data Preprocessing\n",
    "<a class=\"anchor\" id=\"chapter2\"></a>"
   ]
  },
  {
   "cell_type": "markdown",
   "metadata": {},
   "source": [
    "First of all we'll creat a copy of the original data and convert all the column name to lower case"
   ]
  },
  {
   "cell_type": "code",
   "execution_count": 7,
   "metadata": {},
   "outputs": [],
   "source": [
    "#creat a copy of the data so it could be manipulated without affecting the original data\n",
    "df_original = df.copy(deep=True)"
   ]
  },
  {
   "cell_type": "code",
   "execution_count": 8,
   "metadata": {},
   "outputs": [
    {
     "data": {
      "text/html": [
       "<div>\n",
       "<style scoped>\n",
       "    .dataframe tbody tr th:only-of-type {\n",
       "        vertical-align: middle;\n",
       "    }\n",
       "\n",
       "    .dataframe tbody tr th {\n",
       "        vertical-align: top;\n",
       "    }\n",
       "\n",
       "    .dataframe thead th {\n",
       "        text-align: right;\n",
       "    }\n",
       "</style>\n",
       "<table border=\"1\" class=\"dataframe\">\n",
       "  <thead>\n",
       "    <tr style=\"text-align: right;\">\n",
       "      <th></th>\n",
       "      <th>name</th>\n",
       "      <th>platform</th>\n",
       "      <th>year_of_release</th>\n",
       "      <th>genre</th>\n",
       "      <th>na_sales</th>\n",
       "      <th>eu_sales</th>\n",
       "      <th>jp_sales</th>\n",
       "      <th>other_sales</th>\n",
       "      <th>critic_score</th>\n",
       "      <th>user_score</th>\n",
       "      <th>rating</th>\n",
       "    </tr>\n",
       "  </thead>\n",
       "  <tbody>\n",
       "    <tr>\n",
       "      <th>0</th>\n",
       "      <td>Wii Sports</td>\n",
       "      <td>Wii</td>\n",
       "      <td>2006.0</td>\n",
       "      <td>Sports</td>\n",
       "      <td>41.36</td>\n",
       "      <td>28.96</td>\n",
       "      <td>3.77</td>\n",
       "      <td>8.45</td>\n",
       "      <td>76.0</td>\n",
       "      <td>8</td>\n",
       "      <td>E</td>\n",
       "    </tr>\n",
       "    <tr>\n",
       "      <th>1</th>\n",
       "      <td>Super Mario Bros.</td>\n",
       "      <td>NES</td>\n",
       "      <td>1985.0</td>\n",
       "      <td>Platform</td>\n",
       "      <td>29.08</td>\n",
       "      <td>3.58</td>\n",
       "      <td>6.81</td>\n",
       "      <td>0.77</td>\n",
       "      <td>NaN</td>\n",
       "      <td>NaN</td>\n",
       "      <td>NaN</td>\n",
       "    </tr>\n",
       "    <tr>\n",
       "      <th>2</th>\n",
       "      <td>Mario Kart Wii</td>\n",
       "      <td>Wii</td>\n",
       "      <td>2008.0</td>\n",
       "      <td>Racing</td>\n",
       "      <td>15.68</td>\n",
       "      <td>12.76</td>\n",
       "      <td>3.79</td>\n",
       "      <td>3.29</td>\n",
       "      <td>82.0</td>\n",
       "      <td>8.3</td>\n",
       "      <td>E</td>\n",
       "    </tr>\n",
       "    <tr>\n",
       "      <th>3</th>\n",
       "      <td>Wii Sports Resort</td>\n",
       "      <td>Wii</td>\n",
       "      <td>2009.0</td>\n",
       "      <td>Sports</td>\n",
       "      <td>15.61</td>\n",
       "      <td>10.93</td>\n",
       "      <td>3.28</td>\n",
       "      <td>2.95</td>\n",
       "      <td>80.0</td>\n",
       "      <td>8</td>\n",
       "      <td>E</td>\n",
       "    </tr>\n",
       "    <tr>\n",
       "      <th>4</th>\n",
       "      <td>Pokemon Red/Pokemon Blue</td>\n",
       "      <td>GB</td>\n",
       "      <td>1996.0</td>\n",
       "      <td>Role-Playing</td>\n",
       "      <td>11.27</td>\n",
       "      <td>8.89</td>\n",
       "      <td>10.22</td>\n",
       "      <td>1.00</td>\n",
       "      <td>NaN</td>\n",
       "      <td>NaN</td>\n",
       "      <td>NaN</td>\n",
       "    </tr>\n",
       "  </tbody>\n",
       "</table>\n",
       "</div>"
      ],
      "text/plain": [
       "                       name platform  year_of_release         genre  na_sales  \\\n",
       "0                Wii Sports      Wii           2006.0        Sports     41.36   \n",
       "1         Super Mario Bros.      NES           1985.0      Platform     29.08   \n",
       "2            Mario Kart Wii      Wii           2008.0        Racing     15.68   \n",
       "3         Wii Sports Resort      Wii           2009.0        Sports     15.61   \n",
       "4  Pokemon Red/Pokemon Blue       GB           1996.0  Role-Playing     11.27   \n",
       "\n",
       "   eu_sales  jp_sales  other_sales  critic_score user_score rating  \n",
       "0     28.96      3.77         8.45          76.0          8      E  \n",
       "1      3.58      6.81         0.77           NaN        NaN    NaN  \n",
       "2     12.76      3.79         3.29          82.0        8.3      E  \n",
       "3     10.93      3.28         2.95          80.0          8      E  \n",
       "4      8.89     10.22         1.00           NaN        NaN    NaN  "
      ]
     },
     "execution_count": 8,
     "metadata": {},
     "output_type": "execute_result"
    }
   ],
   "source": [
    "#convert to lower case\n",
    "df.columns = df.columns.str.lower()\n",
    "#check if changed\n",
    "df.head()"
   ]
  },
  {
   "cell_type": "markdown",
   "metadata": {},
   "source": [
    "Now we'll see how many missing values we have and decide how to handle them."
   ]
  },
  {
   "cell_type": "code",
   "execution_count": 9,
   "metadata": {},
   "outputs": [
    {
     "data": {
      "text/html": [
       "<style type=\"text/css\">\n",
       "</style>\n",
       "<table id=\"T_57983_\">\n",
       "  <thead>\n",
       "    <tr>\n",
       "      <th class=\"blank level0\" >&nbsp;</th>\n",
       "      <th class=\"col_heading level0 col0\" >missing</th>\n",
       "      <th class=\"col_heading level0 col1\" >total</th>\n",
       "      <th class=\"col_heading level0 col2\" >percent</th>\n",
       "    </tr>\n",
       "  </thead>\n",
       "  <tbody>\n",
       "    <tr>\n",
       "      <th id=\"T_57983_level0_row0\" class=\"row_heading level0 row0\" >critic_score</th>\n",
       "      <td id=\"T_57983_row0_col0\" class=\"data row0 col0\" >8,578</td>\n",
       "      <td id=\"T_57983_row0_col1\" class=\"data row0 col1\" >16,715</td>\n",
       "      <td id=\"T_57983_row0_col2\" class=\"data row0 col2\" >51.32%</td>\n",
       "    </tr>\n",
       "    <tr>\n",
       "      <th id=\"T_57983_level0_row1\" class=\"row_heading level0 row1\" >rating</th>\n",
       "      <td id=\"T_57983_row1_col0\" class=\"data row1 col0\" >6,766</td>\n",
       "      <td id=\"T_57983_row1_col1\" class=\"data row1 col1\" >16,715</td>\n",
       "      <td id=\"T_57983_row1_col2\" class=\"data row1 col2\" >40.48%</td>\n",
       "    </tr>\n",
       "    <tr>\n",
       "      <th id=\"T_57983_level0_row2\" class=\"row_heading level0 row2\" >user_score</th>\n",
       "      <td id=\"T_57983_row2_col0\" class=\"data row2 col0\" >6,701</td>\n",
       "      <td id=\"T_57983_row2_col1\" class=\"data row2 col1\" >16,715</td>\n",
       "      <td id=\"T_57983_row2_col2\" class=\"data row2 col2\" >40.09%</td>\n",
       "    </tr>\n",
       "    <tr>\n",
       "      <th id=\"T_57983_level0_row3\" class=\"row_heading level0 row3\" >year_of_release</th>\n",
       "      <td id=\"T_57983_row3_col0\" class=\"data row3 col0\" >269</td>\n",
       "      <td id=\"T_57983_row3_col1\" class=\"data row3 col1\" >16,715</td>\n",
       "      <td id=\"T_57983_row3_col2\" class=\"data row3 col2\" >1.61%</td>\n",
       "    </tr>\n",
       "    <tr>\n",
       "      <th id=\"T_57983_level0_row4\" class=\"row_heading level0 row4\" >name</th>\n",
       "      <td id=\"T_57983_row4_col0\" class=\"data row4 col0\" >2</td>\n",
       "      <td id=\"T_57983_row4_col1\" class=\"data row4 col1\" >16,715</td>\n",
       "      <td id=\"T_57983_row4_col2\" class=\"data row4 col2\" >0.01%</td>\n",
       "    </tr>\n",
       "    <tr>\n",
       "      <th id=\"T_57983_level0_row5\" class=\"row_heading level0 row5\" >genre</th>\n",
       "      <td id=\"T_57983_row5_col0\" class=\"data row5 col0\" >2</td>\n",
       "      <td id=\"T_57983_row5_col1\" class=\"data row5 col1\" >16,715</td>\n",
       "      <td id=\"T_57983_row5_col2\" class=\"data row5 col2\" >0.01%</td>\n",
       "    </tr>\n",
       "    <tr>\n",
       "      <th id=\"T_57983_level0_row6\" class=\"row_heading level0 row6\" >platform</th>\n",
       "      <td id=\"T_57983_row6_col0\" class=\"data row6 col0\" >0</td>\n",
       "      <td id=\"T_57983_row6_col1\" class=\"data row6 col1\" >16,715</td>\n",
       "      <td id=\"T_57983_row6_col2\" class=\"data row6 col2\" >0.00%</td>\n",
       "    </tr>\n",
       "    <tr>\n",
       "      <th id=\"T_57983_level0_row7\" class=\"row_heading level0 row7\" >na_sales</th>\n",
       "      <td id=\"T_57983_row7_col0\" class=\"data row7 col0\" >0</td>\n",
       "      <td id=\"T_57983_row7_col1\" class=\"data row7 col1\" >16,715</td>\n",
       "      <td id=\"T_57983_row7_col2\" class=\"data row7 col2\" >0.00%</td>\n",
       "    </tr>\n",
       "    <tr>\n",
       "      <th id=\"T_57983_level0_row8\" class=\"row_heading level0 row8\" >eu_sales</th>\n",
       "      <td id=\"T_57983_row8_col0\" class=\"data row8 col0\" >0</td>\n",
       "      <td id=\"T_57983_row8_col1\" class=\"data row8 col1\" >16,715</td>\n",
       "      <td id=\"T_57983_row8_col2\" class=\"data row8 col2\" >0.00%</td>\n",
       "    </tr>\n",
       "    <tr>\n",
       "      <th id=\"T_57983_level0_row9\" class=\"row_heading level0 row9\" >jp_sales</th>\n",
       "      <td id=\"T_57983_row9_col0\" class=\"data row9 col0\" >0</td>\n",
       "      <td id=\"T_57983_row9_col1\" class=\"data row9 col1\" >16,715</td>\n",
       "      <td id=\"T_57983_row9_col2\" class=\"data row9 col2\" >0.00%</td>\n",
       "    </tr>\n",
       "    <tr>\n",
       "      <th id=\"T_57983_level0_row10\" class=\"row_heading level0 row10\" >other_sales</th>\n",
       "      <td id=\"T_57983_row10_col0\" class=\"data row10 col0\" >0</td>\n",
       "      <td id=\"T_57983_row10_col1\" class=\"data row10 col1\" >16,715</td>\n",
       "      <td id=\"T_57983_row10_col2\" class=\"data row10 col2\" >0.00%</td>\n",
       "    </tr>\n",
       "  </tbody>\n",
       "</table>\n"
      ],
      "text/plain": [
       "<pandas.io.formats.style.Styler at 0x7fca70213f50>"
      ]
     },
     "execution_count": 9,
     "metadata": {},
     "output_type": "execute_result"
    }
   ],
   "source": [
    "#show how many missing values in each column\n",
    "df.stb.missing(style = True)"
   ]
  },
  {
   "cell_type": "markdown",
   "metadata": {},
   "source": [
    "The `critic_score` and the `user_score` are missing in about half of the data. We think it will be better to leave them unchanged as for most parts of the research these columns are not relevant. In the places that we would like to see the affect we will use only rows that has all the information needed. Probably we have some problems with the data sources so it will be better to update the data engineers. As we mentioned before, we have some 'tbd' values in the `user_score` column. It is reasonable that new games that were released in the last year won't have scores yet, let's check if those records are from the last year."
   ]
  },
  {
   "cell_type": "code",
   "execution_count": 10,
   "metadata": {},
   "outputs": [
    {
     "data": {
      "text/plain": [
       "2009.0    405\n",
       "2010.0    331\n",
       "2008.0    326\n",
       "2011.0    217\n",
       "2002.0    192\n",
       "2007.0    192\n",
       "2006.0    124\n",
       "2005.0    121\n",
       "2004.0    107\n",
       "2003.0     95\n",
       "2001.0     82\n",
       "2000.0     43\n",
       "2015.0     38\n",
       "2016.0     34\n",
       "2012.0     24\n",
       "2014.0     21\n",
       "2013.0     15\n",
       "1999.0      8\n",
       "1997.0      1\n",
       "Name: year_of_release, dtype: int64"
      ]
     },
     "execution_count": 10,
     "metadata": {},
     "output_type": "execute_result"
    }
   ],
   "source": [
    "#check in which years the 'user_score' is 'tbd'\n",
    "df[df.user_score == 'tbd']['year_of_release'].value_counts()"
   ]
  },
  {
   "cell_type": "markdown",
   "metadata": {},
   "source": [
    "Maybe there were too few votes and that's why it was labeled as 'tbd'. For us 'tbd' doesn't give much information so we can replace it with NaN values. As we mentioned, this column should be of type float, so while converting it we will replace the strings 'tbd' with NaN."
   ]
  },
  {
   "cell_type": "code",
   "execution_count": 11,
   "metadata": {},
   "outputs": [
    {
     "data": {
      "text/plain": [
       "0"
      ]
     },
     "execution_count": 11,
     "metadata": {},
     "output_type": "execute_result"
    }
   ],
   "source": [
    "#convert the type of the column to numeric (float)\n",
    "df['user_score'] = pd.to_numeric(df['user_score'], errors='coerce')\n",
    "#check if there are rows with 'tbd'\n",
    "len(df[df['user_score']=='tbd'])"
   ]
  },
  {
   "cell_type": "markdown",
   "metadata": {},
   "source": [
    "The `rating` will be hard to fill as we don't know all the games and it will be hard to estimate the target audience. For the `year_of_release` missing values - we'll try to fill the years based on the game name and the rest of the platforms that have this information. There are also names that contain the year so we'll use it. The rest of the rows with the year missing values will be removed. The `genre` and `name` are missing only 2 values, probably in the same rows, if so, we'll remove them too because we can't fill them."
   ]
  },
  {
   "cell_type": "code",
   "execution_count": 12,
   "metadata": {},
   "outputs": [
    {
     "data": {
      "text/html": [
       "<div>\n",
       "<style scoped>\n",
       "    .dataframe tbody tr th:only-of-type {\n",
       "        vertical-align: middle;\n",
       "    }\n",
       "\n",
       "    .dataframe tbody tr th {\n",
       "        vertical-align: top;\n",
       "    }\n",
       "\n",
       "    .dataframe thead th {\n",
       "        text-align: right;\n",
       "    }\n",
       "</style>\n",
       "<table border=\"1\" class=\"dataframe\">\n",
       "  <thead>\n",
       "    <tr style=\"text-align: right;\">\n",
       "      <th></th>\n",
       "      <th>name</th>\n",
       "      <th>platform</th>\n",
       "      <th>year_of_release</th>\n",
       "      <th>genre</th>\n",
       "      <th>na_sales</th>\n",
       "      <th>eu_sales</th>\n",
       "      <th>jp_sales</th>\n",
       "      <th>other_sales</th>\n",
       "      <th>critic_score</th>\n",
       "      <th>user_score</th>\n",
       "      <th>rating</th>\n",
       "    </tr>\n",
       "  </thead>\n",
       "  <tbody>\n",
       "    <tr>\n",
       "      <th>659</th>\n",
       "      <td>NaN</td>\n",
       "      <td>GEN</td>\n",
       "      <td>1993.0</td>\n",
       "      <td>NaN</td>\n",
       "      <td>1.78</td>\n",
       "      <td>0.53</td>\n",
       "      <td>0.00</td>\n",
       "      <td>0.08</td>\n",
       "      <td>NaN</td>\n",
       "      <td>NaN</td>\n",
       "      <td>NaN</td>\n",
       "    </tr>\n",
       "    <tr>\n",
       "      <th>14244</th>\n",
       "      <td>NaN</td>\n",
       "      <td>GEN</td>\n",
       "      <td>1993.0</td>\n",
       "      <td>NaN</td>\n",
       "      <td>0.00</td>\n",
       "      <td>0.00</td>\n",
       "      <td>0.03</td>\n",
       "      <td>0.00</td>\n",
       "      <td>NaN</td>\n",
       "      <td>NaN</td>\n",
       "      <td>NaN</td>\n",
       "    </tr>\n",
       "  </tbody>\n",
       "</table>\n",
       "</div>"
      ],
      "text/plain": [
       "      name platform  year_of_release genre  na_sales  eu_sales  jp_sales  \\\n",
       "659    NaN      GEN           1993.0   NaN      1.78      0.53      0.00   \n",
       "14244  NaN      GEN           1993.0   NaN      0.00      0.00      0.03   \n",
       "\n",
       "       other_sales  critic_score  user_score rating  \n",
       "659           0.08           NaN         NaN    NaN  \n",
       "14244         0.00           NaN         NaN    NaN  "
      ]
     },
     "execution_count": 12,
     "metadata": {},
     "output_type": "execute_result"
    }
   ],
   "source": [
    "#check the rows that missing both name and genre\n",
    "df[df[['name','genre']].isna().all(axis = 1)]"
   ]
  },
  {
   "cell_type": "markdown",
   "metadata": {},
   "source": [
    "As we suspected, the values are missing both at the same time so we'll remove them."
   ]
  },
  {
   "cell_type": "code",
   "execution_count": 13,
   "metadata": {},
   "outputs": [
    {
     "data": {
      "text/plain": [
       "0"
      ]
     },
     "execution_count": 13,
     "metadata": {},
     "output_type": "execute_result"
    }
   ],
   "source": [
    "#drop the lines in which name and genre are missing\n",
    "df.drop(df[df['name'].isna() & df['genre'].isna()].index,inplace = True)\n",
    "#check if cahnged\n",
    "len(df[df[['name','genre']].isna().all(axis = 1)])"
   ]
  },
  {
   "cell_type": "markdown",
   "metadata": {},
   "source": [
    "No more missing values in `genre` and `name`. Lets see the rows with missing values in the `year_of_release`."
   ]
  },
  {
   "cell_type": "code",
   "execution_count": 14,
   "metadata": {},
   "outputs": [
    {
     "data": {
      "text/html": [
       "<div>\n",
       "<style scoped>\n",
       "    .dataframe tbody tr th:only-of-type {\n",
       "        vertical-align: middle;\n",
       "    }\n",
       "\n",
       "    .dataframe tbody tr th {\n",
       "        vertical-align: top;\n",
       "    }\n",
       "\n",
       "    .dataframe thead th {\n",
       "        text-align: right;\n",
       "    }\n",
       "</style>\n",
       "<table border=\"1\" class=\"dataframe\">\n",
       "  <thead>\n",
       "    <tr style=\"text-align: right;\">\n",
       "      <th></th>\n",
       "      <th>name</th>\n",
       "      <th>platform</th>\n",
       "      <th>year_of_release</th>\n",
       "      <th>genre</th>\n",
       "      <th>na_sales</th>\n",
       "      <th>eu_sales</th>\n",
       "      <th>jp_sales</th>\n",
       "      <th>other_sales</th>\n",
       "      <th>critic_score</th>\n",
       "      <th>user_score</th>\n",
       "      <th>rating</th>\n",
       "    </tr>\n",
       "  </thead>\n",
       "  <tbody>\n",
       "    <tr>\n",
       "      <th>183</th>\n",
       "      <td>Madden NFL 2004</td>\n",
       "      <td>PS2</td>\n",
       "      <td>NaN</td>\n",
       "      <td>Sports</td>\n",
       "      <td>4.26</td>\n",
       "      <td>0.26</td>\n",
       "      <td>0.01</td>\n",
       "      <td>0.71</td>\n",
       "      <td>94.0</td>\n",
       "      <td>8.5</td>\n",
       "      <td>E</td>\n",
       "    </tr>\n",
       "    <tr>\n",
       "      <th>377</th>\n",
       "      <td>FIFA Soccer 2004</td>\n",
       "      <td>PS2</td>\n",
       "      <td>NaN</td>\n",
       "      <td>Sports</td>\n",
       "      <td>0.59</td>\n",
       "      <td>2.36</td>\n",
       "      <td>0.04</td>\n",
       "      <td>0.51</td>\n",
       "      <td>84.0</td>\n",
       "      <td>6.4</td>\n",
       "      <td>E</td>\n",
       "    </tr>\n",
       "    <tr>\n",
       "      <th>456</th>\n",
       "      <td>LEGO Batman: The Videogame</td>\n",
       "      <td>Wii</td>\n",
       "      <td>NaN</td>\n",
       "      <td>Action</td>\n",
       "      <td>1.80</td>\n",
       "      <td>0.97</td>\n",
       "      <td>0.00</td>\n",
       "      <td>0.29</td>\n",
       "      <td>74.0</td>\n",
       "      <td>7.9</td>\n",
       "      <td>E10+</td>\n",
       "    </tr>\n",
       "    <tr>\n",
       "      <th>475</th>\n",
       "      <td>wwe Smackdown vs. Raw 2006</td>\n",
       "      <td>PS2</td>\n",
       "      <td>NaN</td>\n",
       "      <td>Fighting</td>\n",
       "      <td>1.57</td>\n",
       "      <td>1.02</td>\n",
       "      <td>0.00</td>\n",
       "      <td>0.41</td>\n",
       "      <td>NaN</td>\n",
       "      <td>NaN</td>\n",
       "      <td>NaN</td>\n",
       "    </tr>\n",
       "    <tr>\n",
       "      <th>609</th>\n",
       "      <td>Space Invaders</td>\n",
       "      <td>2600</td>\n",
       "      <td>NaN</td>\n",
       "      <td>Shooter</td>\n",
       "      <td>2.36</td>\n",
       "      <td>0.14</td>\n",
       "      <td>0.00</td>\n",
       "      <td>0.03</td>\n",
       "      <td>NaN</td>\n",
       "      <td>NaN</td>\n",
       "      <td>NaN</td>\n",
       "    </tr>\n",
       "    <tr>\n",
       "      <th>627</th>\n",
       "      <td>Rock Band</td>\n",
       "      <td>X360</td>\n",
       "      <td>NaN</td>\n",
       "      <td>Misc</td>\n",
       "      <td>1.93</td>\n",
       "      <td>0.33</td>\n",
       "      <td>0.00</td>\n",
       "      <td>0.21</td>\n",
       "      <td>92.0</td>\n",
       "      <td>8.2</td>\n",
       "      <td>T</td>\n",
       "    </tr>\n",
       "    <tr>\n",
       "      <th>657</th>\n",
       "      <td>Frogger's Adventures: Temple of the Frog</td>\n",
       "      <td>GBA</td>\n",
       "      <td>NaN</td>\n",
       "      <td>Adventure</td>\n",
       "      <td>2.15</td>\n",
       "      <td>0.18</td>\n",
       "      <td>0.00</td>\n",
       "      <td>0.07</td>\n",
       "      <td>73.0</td>\n",
       "      <td>NaN</td>\n",
       "      <td>E</td>\n",
       "    </tr>\n",
       "    <tr>\n",
       "      <th>678</th>\n",
       "      <td>LEGO Indiana Jones: The Original Adventures</td>\n",
       "      <td>Wii</td>\n",
       "      <td>NaN</td>\n",
       "      <td>Action</td>\n",
       "      <td>1.51</td>\n",
       "      <td>0.61</td>\n",
       "      <td>0.00</td>\n",
       "      <td>0.21</td>\n",
       "      <td>78.0</td>\n",
       "      <td>6.6</td>\n",
       "      <td>E10+</td>\n",
       "    </tr>\n",
       "    <tr>\n",
       "      <th>719</th>\n",
       "      <td>Call of Duty 3</td>\n",
       "      <td>Wii</td>\n",
       "      <td>NaN</td>\n",
       "      <td>Shooter</td>\n",
       "      <td>1.17</td>\n",
       "      <td>0.84</td>\n",
       "      <td>0.00</td>\n",
       "      <td>0.23</td>\n",
       "      <td>69.0</td>\n",
       "      <td>6.7</td>\n",
       "      <td>T</td>\n",
       "    </tr>\n",
       "    <tr>\n",
       "      <th>805</th>\n",
       "      <td>Rock Band</td>\n",
       "      <td>Wii</td>\n",
       "      <td>NaN</td>\n",
       "      <td>Misc</td>\n",
       "      <td>1.33</td>\n",
       "      <td>0.56</td>\n",
       "      <td>0.00</td>\n",
       "      <td>0.20</td>\n",
       "      <td>80.0</td>\n",
       "      <td>6.3</td>\n",
       "      <td>T</td>\n",
       "    </tr>\n",
       "  </tbody>\n",
       "</table>\n",
       "</div>"
      ],
      "text/plain": [
       "                                            name platform  year_of_release  \\\n",
       "183                              Madden NFL 2004      PS2              NaN   \n",
       "377                             FIFA Soccer 2004      PS2              NaN   \n",
       "456                   LEGO Batman: The Videogame      Wii              NaN   \n",
       "475                   wwe Smackdown vs. Raw 2006      PS2              NaN   \n",
       "609                               Space Invaders     2600              NaN   \n",
       "627                                    Rock Band     X360              NaN   \n",
       "657     Frogger's Adventures: Temple of the Frog      GBA              NaN   \n",
       "678  LEGO Indiana Jones: The Original Adventures      Wii              NaN   \n",
       "719                               Call of Duty 3      Wii              NaN   \n",
       "805                                    Rock Band      Wii              NaN   \n",
       "\n",
       "         genre  na_sales  eu_sales  jp_sales  other_sales  critic_score  \\\n",
       "183     Sports      4.26      0.26      0.01         0.71          94.0   \n",
       "377     Sports      0.59      2.36      0.04         0.51          84.0   \n",
       "456     Action      1.80      0.97      0.00         0.29          74.0   \n",
       "475   Fighting      1.57      1.02      0.00         0.41           NaN   \n",
       "609    Shooter      2.36      0.14      0.00         0.03           NaN   \n",
       "627       Misc      1.93      0.33      0.00         0.21          92.0   \n",
       "657  Adventure      2.15      0.18      0.00         0.07          73.0   \n",
       "678     Action      1.51      0.61      0.00         0.21          78.0   \n",
       "719    Shooter      1.17      0.84      0.00         0.23          69.0   \n",
       "805       Misc      1.33      0.56      0.00         0.20          80.0   \n",
       "\n",
       "     user_score rating  \n",
       "183         8.5      E  \n",
       "377         6.4      E  \n",
       "456         7.9   E10+  \n",
       "475         NaN    NaN  \n",
       "609         NaN    NaN  \n",
       "627         8.2      T  \n",
       "657         NaN      E  \n",
       "678         6.6   E10+  \n",
       "719         6.7      T  \n",
       "805         6.3      T  "
      ]
     },
     "execution_count": 14,
     "metadata": {},
     "output_type": "execute_result"
    }
   ],
   "source": [
    "df[df['year_of_release'].isna()].head(10)"
   ]
  },
  {
   "cell_type": "markdown",
   "metadata": {},
   "source": [
    "We'll try to fill the games that appear on more than one platform and take the mean of the years for that game."
   ]
  },
  {
   "cell_type": "code",
   "execution_count": 15,
   "metadata": {},
   "outputs": [],
   "source": [
    "#fill the year of a game based on other platforms\n",
    "df['year_of_release'].fillna(df.groupby('name')['year_of_release'].transform('mean'), inplace = True)"
   ]
  },
  {
   "cell_type": "markdown",
   "metadata": {},
   "source": [
    "There are names that contain the year it was released (or close enough), so we will fill those records by the name."
   ]
  },
  {
   "cell_type": "code",
   "execution_count": 16,
   "metadata": {},
   "outputs": [],
   "source": [
    "#fill the year of a game based on years that appears in it's name\n",
    "def fill_year(row):\n",
    "    name = row['name']\n",
    "    for word in name.split():\n",
    "        if word.isdigit() and int(word) > 1980:\n",
    "            return int(word)\n",
    "\n",
    "df['year_of_release'].fillna(df[df['year_of_release'].isna()].apply(fill_year, axis = 1), inplace = True)"
   ]
  },
  {
   "cell_type": "markdown",
   "metadata": {},
   "source": [
    "Now we'll remove the rest of the rows with the missing values."
   ]
  },
  {
   "cell_type": "code",
   "execution_count": 17,
   "metadata": {},
   "outputs": [],
   "source": [
    "#remove rows with missing values in 'year_of_release'\n",
    "df.drop(df[df['year_of_release'].isna()].index, inplace = True)"
   ]
  },
  {
   "cell_type": "code",
   "execution_count": 18,
   "metadata": {},
   "outputs": [
    {
     "data": {
      "text/html": [
       "<style type=\"text/css\">\n",
       "</style>\n",
       "<table id=\"T_115d5_\">\n",
       "  <thead>\n",
       "    <tr>\n",
       "      <th class=\"blank level0\" >&nbsp;</th>\n",
       "      <th class=\"col_heading level0 col0\" >missing</th>\n",
       "      <th class=\"col_heading level0 col1\" >total</th>\n",
       "      <th class=\"col_heading level0 col2\" >percent</th>\n",
       "    </tr>\n",
       "  </thead>\n",
       "  <tbody>\n",
       "    <tr>\n",
       "      <th id=\"T_115d5_level0_row0\" class=\"row_heading level0 row0\" >user_score</th>\n",
       "      <td id=\"T_115d5_row0_col0\" class=\"data row0 col0\" >9,031</td>\n",
       "      <td id=\"T_115d5_row0_col1\" class=\"data row0 col1\" >16,574</td>\n",
       "      <td id=\"T_115d5_row0_col2\" class=\"data row0 col2\" >54.49%</td>\n",
       "    </tr>\n",
       "    <tr>\n",
       "      <th id=\"T_115d5_level0_row1\" class=\"row_heading level0 row1\" >critic_score</th>\n",
       "      <td id=\"T_115d5_row1_col0\" class=\"data row1 col0\" >8,495</td>\n",
       "      <td id=\"T_115d5_row1_col1\" class=\"data row1 col1\" >16,574</td>\n",
       "      <td id=\"T_115d5_row1_col2\" class=\"data row1 col2\" >51.25%</td>\n",
       "    </tr>\n",
       "    <tr>\n",
       "      <th id=\"T_115d5_level0_row2\" class=\"row_heading level0 row2\" >rating</th>\n",
       "      <td id=\"T_115d5_row2_col0\" class=\"data row2 col0\" >6,703</td>\n",
       "      <td id=\"T_115d5_row2_col1\" class=\"data row2 col1\" >16,574</td>\n",
       "      <td id=\"T_115d5_row2_col2\" class=\"data row2 col2\" >40.44%</td>\n",
       "    </tr>\n",
       "    <tr>\n",
       "      <th id=\"T_115d5_level0_row3\" class=\"row_heading level0 row3\" >name</th>\n",
       "      <td id=\"T_115d5_row3_col0\" class=\"data row3 col0\" >0</td>\n",
       "      <td id=\"T_115d5_row3_col1\" class=\"data row3 col1\" >16,574</td>\n",
       "      <td id=\"T_115d5_row3_col2\" class=\"data row3 col2\" >0.00%</td>\n",
       "    </tr>\n",
       "    <tr>\n",
       "      <th id=\"T_115d5_level0_row4\" class=\"row_heading level0 row4\" >platform</th>\n",
       "      <td id=\"T_115d5_row4_col0\" class=\"data row4 col0\" >0</td>\n",
       "      <td id=\"T_115d5_row4_col1\" class=\"data row4 col1\" >16,574</td>\n",
       "      <td id=\"T_115d5_row4_col2\" class=\"data row4 col2\" >0.00%</td>\n",
       "    </tr>\n",
       "    <tr>\n",
       "      <th id=\"T_115d5_level0_row5\" class=\"row_heading level0 row5\" >year_of_release</th>\n",
       "      <td id=\"T_115d5_row5_col0\" class=\"data row5 col0\" >0</td>\n",
       "      <td id=\"T_115d5_row5_col1\" class=\"data row5 col1\" >16,574</td>\n",
       "      <td id=\"T_115d5_row5_col2\" class=\"data row5 col2\" >0.00%</td>\n",
       "    </tr>\n",
       "    <tr>\n",
       "      <th id=\"T_115d5_level0_row6\" class=\"row_heading level0 row6\" >genre</th>\n",
       "      <td id=\"T_115d5_row6_col0\" class=\"data row6 col0\" >0</td>\n",
       "      <td id=\"T_115d5_row6_col1\" class=\"data row6 col1\" >16,574</td>\n",
       "      <td id=\"T_115d5_row6_col2\" class=\"data row6 col2\" >0.00%</td>\n",
       "    </tr>\n",
       "    <tr>\n",
       "      <th id=\"T_115d5_level0_row7\" class=\"row_heading level0 row7\" >na_sales</th>\n",
       "      <td id=\"T_115d5_row7_col0\" class=\"data row7 col0\" >0</td>\n",
       "      <td id=\"T_115d5_row7_col1\" class=\"data row7 col1\" >16,574</td>\n",
       "      <td id=\"T_115d5_row7_col2\" class=\"data row7 col2\" >0.00%</td>\n",
       "    </tr>\n",
       "    <tr>\n",
       "      <th id=\"T_115d5_level0_row8\" class=\"row_heading level0 row8\" >eu_sales</th>\n",
       "      <td id=\"T_115d5_row8_col0\" class=\"data row8 col0\" >0</td>\n",
       "      <td id=\"T_115d5_row8_col1\" class=\"data row8 col1\" >16,574</td>\n",
       "      <td id=\"T_115d5_row8_col2\" class=\"data row8 col2\" >0.00%</td>\n",
       "    </tr>\n",
       "    <tr>\n",
       "      <th id=\"T_115d5_level0_row9\" class=\"row_heading level0 row9\" >jp_sales</th>\n",
       "      <td id=\"T_115d5_row9_col0\" class=\"data row9 col0\" >0</td>\n",
       "      <td id=\"T_115d5_row9_col1\" class=\"data row9 col1\" >16,574</td>\n",
       "      <td id=\"T_115d5_row9_col2\" class=\"data row9 col2\" >0.00%</td>\n",
       "    </tr>\n",
       "    <tr>\n",
       "      <th id=\"T_115d5_level0_row10\" class=\"row_heading level0 row10\" >other_sales</th>\n",
       "      <td id=\"T_115d5_row10_col0\" class=\"data row10 col0\" >0</td>\n",
       "      <td id=\"T_115d5_row10_col1\" class=\"data row10 col1\" >16,574</td>\n",
       "      <td id=\"T_115d5_row10_col2\" class=\"data row10 col2\" >0.00%</td>\n",
       "    </tr>\n",
       "  </tbody>\n",
       "</table>\n"
      ],
      "text/plain": [
       "<pandas.io.formats.style.Styler at 0x7fca6f052bd0>"
      ]
     },
     "execution_count": 18,
     "metadata": {},
     "output_type": "execute_result"
    }
   ],
   "source": [
    "#show how many missing values in each column\n",
    "df.stb.missing(style = True)"
   ]
  },
  {
   "cell_type": "code",
   "execution_count": 19,
   "metadata": {},
   "outputs": [
    {
     "name": "stdout",
     "output_type": "stream",
     "text": [
      "<class 'pandas.core.frame.DataFrame'>\n",
      "Int64Index: 16574 entries, 0 to 16714\n",
      "Data columns (total 11 columns):\n",
      " #   Column           Non-Null Count  Dtype  \n",
      "---  ------           --------------  -----  \n",
      " 0   name             16574 non-null  object \n",
      " 1   platform         16574 non-null  object \n",
      " 2   year_of_release  16574 non-null  int64  \n",
      " 3   genre            16574 non-null  object \n",
      " 4   na_sales         16574 non-null  float64\n",
      " 5   eu_sales         16574 non-null  float64\n",
      " 6   jp_sales         16574 non-null  float64\n",
      " 7   other_sales      16574 non-null  float64\n",
      " 8   critic_score     8079 non-null   float64\n",
      " 9   user_score       7543 non-null   float64\n",
      " 10  rating           9871 non-null   object \n",
      "dtypes: float64(6), int64(1), object(4)\n",
      "memory usage: 1.5+ MB\n"
     ]
    }
   ],
   "source": [
    "#change the type to int\n",
    "df['year_of_release'] = df['year_of_release'].astype('int')\n",
    "#check if changed\n",
    "df.info()"
   ]
  },
  {
   "cell_type": "markdown",
   "metadata": {},
   "source": [
    "Now we'll calculate the total sales for each game."
   ]
  },
  {
   "cell_type": "code",
   "execution_count": 20,
   "metadata": {},
   "outputs": [
    {
     "data": {
      "text/html": [
       "<div>\n",
       "<style scoped>\n",
       "    .dataframe tbody tr th:only-of-type {\n",
       "        vertical-align: middle;\n",
       "    }\n",
       "\n",
       "    .dataframe tbody tr th {\n",
       "        vertical-align: top;\n",
       "    }\n",
       "\n",
       "    .dataframe thead th {\n",
       "        text-align: right;\n",
       "    }\n",
       "</style>\n",
       "<table border=\"1\" class=\"dataframe\">\n",
       "  <thead>\n",
       "    <tr style=\"text-align: right;\">\n",
       "      <th></th>\n",
       "      <th>name</th>\n",
       "      <th>platform</th>\n",
       "      <th>year_of_release</th>\n",
       "      <th>genre</th>\n",
       "      <th>na_sales</th>\n",
       "      <th>eu_sales</th>\n",
       "      <th>jp_sales</th>\n",
       "      <th>other_sales</th>\n",
       "      <th>critic_score</th>\n",
       "      <th>user_score</th>\n",
       "      <th>rating</th>\n",
       "      <th>total_sales</th>\n",
       "    </tr>\n",
       "  </thead>\n",
       "  <tbody>\n",
       "    <tr>\n",
       "      <th>0</th>\n",
       "      <td>Wii Sports</td>\n",
       "      <td>Wii</td>\n",
       "      <td>2006</td>\n",
       "      <td>Sports</td>\n",
       "      <td>41.36</td>\n",
       "      <td>28.96</td>\n",
       "      <td>3.77</td>\n",
       "      <td>8.45</td>\n",
       "      <td>76.0</td>\n",
       "      <td>8.0</td>\n",
       "      <td>E</td>\n",
       "      <td>82.54</td>\n",
       "    </tr>\n",
       "    <tr>\n",
       "      <th>1</th>\n",
       "      <td>Super Mario Bros.</td>\n",
       "      <td>NES</td>\n",
       "      <td>1985</td>\n",
       "      <td>Platform</td>\n",
       "      <td>29.08</td>\n",
       "      <td>3.58</td>\n",
       "      <td>6.81</td>\n",
       "      <td>0.77</td>\n",
       "      <td>NaN</td>\n",
       "      <td>NaN</td>\n",
       "      <td>NaN</td>\n",
       "      <td>40.24</td>\n",
       "    </tr>\n",
       "    <tr>\n",
       "      <th>2</th>\n",
       "      <td>Mario Kart Wii</td>\n",
       "      <td>Wii</td>\n",
       "      <td>2008</td>\n",
       "      <td>Racing</td>\n",
       "      <td>15.68</td>\n",
       "      <td>12.76</td>\n",
       "      <td>3.79</td>\n",
       "      <td>3.29</td>\n",
       "      <td>82.0</td>\n",
       "      <td>8.3</td>\n",
       "      <td>E</td>\n",
       "      <td>35.52</td>\n",
       "    </tr>\n",
       "    <tr>\n",
       "      <th>3</th>\n",
       "      <td>Wii Sports Resort</td>\n",
       "      <td>Wii</td>\n",
       "      <td>2009</td>\n",
       "      <td>Sports</td>\n",
       "      <td>15.61</td>\n",
       "      <td>10.93</td>\n",
       "      <td>3.28</td>\n",
       "      <td>2.95</td>\n",
       "      <td>80.0</td>\n",
       "      <td>8.0</td>\n",
       "      <td>E</td>\n",
       "      <td>32.77</td>\n",
       "    </tr>\n",
       "    <tr>\n",
       "      <th>4</th>\n",
       "      <td>Pokemon Red/Pokemon Blue</td>\n",
       "      <td>GB</td>\n",
       "      <td>1996</td>\n",
       "      <td>Role-Playing</td>\n",
       "      <td>11.27</td>\n",
       "      <td>8.89</td>\n",
       "      <td>10.22</td>\n",
       "      <td>1.00</td>\n",
       "      <td>NaN</td>\n",
       "      <td>NaN</td>\n",
       "      <td>NaN</td>\n",
       "      <td>31.38</td>\n",
       "    </tr>\n",
       "  </tbody>\n",
       "</table>\n",
       "</div>"
      ],
      "text/plain": [
       "                       name platform  year_of_release         genre  na_sales  \\\n",
       "0                Wii Sports      Wii             2006        Sports     41.36   \n",
       "1         Super Mario Bros.      NES             1985      Platform     29.08   \n",
       "2            Mario Kart Wii      Wii             2008        Racing     15.68   \n",
       "3         Wii Sports Resort      Wii             2009        Sports     15.61   \n",
       "4  Pokemon Red/Pokemon Blue       GB             1996  Role-Playing     11.27   \n",
       "\n",
       "   eu_sales  jp_sales  other_sales  critic_score  user_score rating  \\\n",
       "0     28.96      3.77         8.45          76.0         8.0      E   \n",
       "1      3.58      6.81         0.77           NaN         NaN    NaN   \n",
       "2     12.76      3.79         3.29          82.0         8.3      E   \n",
       "3     10.93      3.28         2.95          80.0         8.0      E   \n",
       "4      8.89     10.22         1.00           NaN         NaN    NaN   \n",
       "\n",
       "   total_sales  \n",
       "0        82.54  \n",
       "1        40.24  \n",
       "2        35.52  \n",
       "3        32.77  \n",
       "4        31.38  "
      ]
     },
     "execution_count": 20,
     "metadata": {},
     "output_type": "execute_result"
    }
   ],
   "source": [
    "df['total_sales'] = df[['na_sales','eu_sales','jp_sales','other_sales']].sum(axis=1)\n",
    "df.head()"
   ]
  },
  {
   "cell_type": "markdown",
   "metadata": {},
   "source": [
    "## 3. Analyzing the data\n",
    "<a class=\"anchor\" id=\"chapter3\"></a>"
   ]
  },
  {
   "cell_type": "markdown",
   "metadata": {},
   "source": [
    "First we want to know how many games were released in different years. We'll creat a subset, gropued by year and count the amount of games released on each year."
   ]
  },
  {
   "cell_type": "code",
   "execution_count": 21,
   "metadata": {},
   "outputs": [
    {
     "data": {
      "text/html": [
       "<div>\n",
       "<style scoped>\n",
       "    .dataframe tbody tr th:only-of-type {\n",
       "        vertical-align: middle;\n",
       "    }\n",
       "\n",
       "    .dataframe tbody tr th {\n",
       "        vertical-align: top;\n",
       "    }\n",
       "\n",
       "    .dataframe thead th {\n",
       "        text-align: right;\n",
       "    }\n",
       "</style>\n",
       "<table border=\"1\" class=\"dataframe\">\n",
       "  <thead>\n",
       "    <tr style=\"text-align: right;\">\n",
       "      <th></th>\n",
       "      <th>year_of_release</th>\n",
       "      <th>name</th>\n",
       "    </tr>\n",
       "  </thead>\n",
       "  <tbody>\n",
       "    <tr>\n",
       "      <th>0</th>\n",
       "      <td>1980</td>\n",
       "      <td>9</td>\n",
       "    </tr>\n",
       "    <tr>\n",
       "      <th>1</th>\n",
       "      <td>1981</td>\n",
       "      <td>46</td>\n",
       "    </tr>\n",
       "    <tr>\n",
       "      <th>2</th>\n",
       "      <td>1982</td>\n",
       "      <td>36</td>\n",
       "    </tr>\n",
       "    <tr>\n",
       "      <th>3</th>\n",
       "      <td>1983</td>\n",
       "      <td>17</td>\n",
       "    </tr>\n",
       "    <tr>\n",
       "      <th>4</th>\n",
       "      <td>1984</td>\n",
       "      <td>14</td>\n",
       "    </tr>\n",
       "  </tbody>\n",
       "</table>\n",
       "</div>"
      ],
      "text/plain": [
       "   year_of_release  name\n",
       "0             1980     9\n",
       "1             1981    46\n",
       "2             1982    36\n",
       "3             1983    17\n",
       "4             1984    14"
      ]
     },
     "execution_count": 21,
     "metadata": {},
     "output_type": "execute_result"
    }
   ],
   "source": [
    "#creat a subset\n",
    "grouped_by_year = df.groupby('year_of_release')['name'].count().reset_index().sort_values(by='year_of_release')\n",
    "grouped_by_year.head()"
   ]
  },
  {
   "cell_type": "code",
   "execution_count": 22,
   "metadata": {},
   "outputs": [
    {
     "data": {
      "image/png": "[encoded data removed]",
      "text/plain": [
       "<Figure size 1008x576 with 1 Axes>"
      ]
     },
     "metadata": {},
     "output_type": "display_data"
    }
   ],
   "source": [
    "#plot the data\n",
    "sns.set()\n",
    "fig,ax=plt.subplots(figsize=(14,8))\n",
    "#draw lines\n",
    "ax.vlines(x=grouped_by_year.year_of_release, ymin = 0, ymax = grouped_by_year.name, color = 'blue', alpha = 0.7, linewidth = 2)\n",
    "#draw circles\n",
    "ax.scatter(x=grouped_by_year.year_of_release,y=grouped_by_year.name, s = 75, color = 'black')\n",
    "\n",
    "ax.set_title('Lollipop for games released in each year', fontdict={'size':15});\n",
    "ax.set_ylabel('Number of games');\n",
    "#add ticks for each year and label them\n",
    "ax.set_xticks(grouped_by_year.year_of_release);\n",
    "ax.set_xticklabels(grouped_by_year.year_of_release, rotation = 90);\n",
    "\n",
    "#add the exact amount on each point\n",
    "for row in grouped_by_year.itertuples():\n",
    "    ax.text(row.year_of_release, row.name + 30, s = round(row.name))"
   ]
  },
  {
   "cell_type": "markdown",
   "metadata": {},
   "source": [
    "As we can see, most of the games were released after 2001, there was a huge jump in productions.\n",
    "Now we want to see what are the most profitable platforms over the years."
   ]
  },
  {
   "cell_type": "code",
   "execution_count": 23,
   "metadata": {},
   "outputs": [
    {
     "data": {
      "text/html": [
       "<div>\n",
       "<style scoped>\n",
       "    .dataframe tbody tr th:only-of-type {\n",
       "        vertical-align: middle;\n",
       "    }\n",
       "\n",
       "    .dataframe tbody tr th {\n",
       "        vertical-align: top;\n",
       "    }\n",
       "\n",
       "    .dataframe thead th {\n",
       "        text-align: right;\n",
       "    }\n",
       "</style>\n",
       "<table border=\"1\" class=\"dataframe\">\n",
       "  <thead>\n",
       "    <tr style=\"text-align: right;\">\n",
       "      <th></th>\n",
       "      <th>platform</th>\n",
       "      <th>total_sales</th>\n",
       "    </tr>\n",
       "  </thead>\n",
       "  <tbody>\n",
       "    <tr>\n",
       "      <th>0</th>\n",
       "      <td>PCFX</td>\n",
       "      <td>0.03</td>\n",
       "    </tr>\n",
       "    <tr>\n",
       "      <th>1</th>\n",
       "      <td>GG</td>\n",
       "      <td>0.04</td>\n",
       "    </tr>\n",
       "    <tr>\n",
       "      <th>2</th>\n",
       "      <td>3DO</td>\n",
       "      <td>0.10</td>\n",
       "    </tr>\n",
       "    <tr>\n",
       "      <th>3</th>\n",
       "      <td>TG16</td>\n",
       "      <td>0.16</td>\n",
       "    </tr>\n",
       "    <tr>\n",
       "      <th>4</th>\n",
       "      <td>WS</td>\n",
       "      <td>1.42</td>\n",
       "    </tr>\n",
       "  </tbody>\n",
       "</table>\n",
       "</div>"
      ],
      "text/plain": [
       "  platform  total_sales\n",
       "0     PCFX         0.03\n",
       "1       GG         0.04\n",
       "2      3DO         0.10\n",
       "3     TG16         0.16\n",
       "4       WS         1.42"
      ]
     },
     "metadata": {},
     "output_type": "display_data"
    },
    {
     "data": {
      "text/html": [
       "<div>\n",
       "<style scoped>\n",
       "    .dataframe tbody tr th:only-of-type {\n",
       "        vertical-align: middle;\n",
       "    }\n",
       "\n",
       "    .dataframe tbody tr th {\n",
       "        vertical-align: top;\n",
       "    }\n",
       "\n",
       "    .dataframe thead th {\n",
       "        text-align: right;\n",
       "    }\n",
       "</style>\n",
       "<table border=\"1\" class=\"dataframe\">\n",
       "  <thead>\n",
       "    <tr style=\"text-align: right;\">\n",
       "      <th></th>\n",
       "      <th>platform</th>\n",
       "      <th>total_sales</th>\n",
       "    </tr>\n",
       "  </thead>\n",
       "  <tbody>\n",
       "    <tr>\n",
       "      <th>26</th>\n",
       "      <td>DS</td>\n",
       "      <td>804.28</td>\n",
       "    </tr>\n",
       "    <tr>\n",
       "      <th>27</th>\n",
       "      <td>Wii</td>\n",
       "      <td>903.31</td>\n",
       "    </tr>\n",
       "    <tr>\n",
       "      <th>28</th>\n",
       "      <td>PS3</td>\n",
       "      <td>935.19</td>\n",
       "    </tr>\n",
       "    <tr>\n",
       "      <th>29</th>\n",
       "      <td>X360</td>\n",
       "      <td>966.67</td>\n",
       "    </tr>\n",
       "    <tr>\n",
       "      <th>30</th>\n",
       "      <td>PS2</td>\n",
       "      <td>1250.92</td>\n",
       "    </tr>\n",
       "  </tbody>\n",
       "</table>\n",
       "</div>"
      ],
      "text/plain": [
       "   platform  total_sales\n",
       "26       DS       804.28\n",
       "27      Wii       903.31\n",
       "28      PS3       935.19\n",
       "29     X360       966.67\n",
       "30      PS2      1250.92"
      ]
     },
     "metadata": {},
     "output_type": "display_data"
    }
   ],
   "source": [
    "#the total sales over years in each platform \n",
    "group1=df.groupby(['platform'])[['platform','total_sales']].sum().sort_values('total_sales').reset_index()\n",
    "display(group1.head(), group1.tail())"
   ]
  },
  {
   "cell_type": "markdown",
   "metadata": {},
   "source": [
    "Now we'll use the z-score to define what platforms considered as above the avarage in terms of total sales."
   ]
  },
  {
   "cell_type": "code",
   "execution_count": 24,
   "metadata": {},
   "outputs": [],
   "source": [
    "#creat a z-score based on the total sales\n",
    "group1['z_score'] = (group1['total_sales']-group1['total_sales'].mean())/group1['total_sales'].std()\n",
    "#assign the red color for below the average and green for above\n",
    "group1['colors'] = ['red' if x < 0 else 'green' for x in group1['z_score']]"
   ]
  },
  {
   "cell_type": "code",
   "execution_count": 25,
   "metadata": {},
   "outputs": [
    {
     "data": {
      "image/png": "[encoded data removed]",
      "text/plain": [
       "<Figure size 864x576 with 1 Axes>"
      ]
     },
     "metadata": {},
     "output_type": "display_data"
    }
   ],
   "source": [
    "#plot the desired info\n",
    "plt.figure(figsize=(12,8))\n",
    "plt.hlines(y = group1.platform, xmin = 0, xmax= group1.z_score, color = group1.colors, alpha = 0.4, linewidth = 10);\n",
    "plt.title('Most profitable platforms', fontdict={'size':15});"
   ]
  },
  {
   "cell_type": "markdown",
   "metadata": {},
   "source": [
    "Now we will check the total sales per year for each one of the top 6 platforms that has the greatest total sales."
   ]
  },
  {
   "cell_type": "code",
   "execution_count": 26,
   "metadata": {},
   "outputs": [
    {
     "data": {
      "text/html": [
       "<div>\n",
       "<style scoped>\n",
       "    .dataframe tbody tr th:only-of-type {\n",
       "        vertical-align: middle;\n",
       "    }\n",
       "\n",
       "    .dataframe tbody tr th {\n",
       "        vertical-align: top;\n",
       "    }\n",
       "\n",
       "    .dataframe thead th {\n",
       "        text-align: right;\n",
       "    }\n",
       "</style>\n",
       "<table border=\"1\" class=\"dataframe\">\n",
       "  <thead>\n",
       "    <tr style=\"text-align: right;\">\n",
       "      <th></th>\n",
       "      <th>platform</th>\n",
       "      <th>year_of_release</th>\n",
       "      <th>total_sales</th>\n",
       "    </tr>\n",
       "  </thead>\n",
       "  <tbody>\n",
       "    <tr>\n",
       "      <th>28</th>\n",
       "      <td>DS</td>\n",
       "      <td>1985</td>\n",
       "      <td>0.02</td>\n",
       "    </tr>\n",
       "    <tr>\n",
       "      <th>29</th>\n",
       "      <td>DS</td>\n",
       "      <td>2004</td>\n",
       "      <td>17.27</td>\n",
       "    </tr>\n",
       "    <tr>\n",
       "      <th>124</th>\n",
       "      <td>PS</td>\n",
       "      <td>1994</td>\n",
       "      <td>6.03</td>\n",
       "    </tr>\n",
       "    <tr>\n",
       "      <th>125</th>\n",
       "      <td>PS</td>\n",
       "      <td>1995</td>\n",
       "      <td>35.96</td>\n",
       "    </tr>\n",
       "    <tr>\n",
       "      <th>134</th>\n",
       "      <td>PS2</td>\n",
       "      <td>2000</td>\n",
       "      <td>39.17</td>\n",
       "    </tr>\n",
       "    <tr>\n",
       "      <th>135</th>\n",
       "      <td>PS2</td>\n",
       "      <td>2001</td>\n",
       "      <td>166.43</td>\n",
       "    </tr>\n",
       "    <tr>\n",
       "      <th>146</th>\n",
       "      <td>PS3</td>\n",
       "      <td>2001</td>\n",
       "      <td>0.48</td>\n",
       "    </tr>\n",
       "    <tr>\n",
       "      <th>147</th>\n",
       "      <td>PS3</td>\n",
       "      <td>2005</td>\n",
       "      <td>0.19</td>\n",
       "    </tr>\n",
       "    <tr>\n",
       "      <th>203</th>\n",
       "      <td>Wii</td>\n",
       "      <td>2006</td>\n",
       "      <td>140.19</td>\n",
       "    </tr>\n",
       "    <tr>\n",
       "      <th>204</th>\n",
       "      <td>Wii</td>\n",
       "      <td>2007</td>\n",
       "      <td>153.41</td>\n",
       "    </tr>\n",
       "    <tr>\n",
       "      <th>219</th>\n",
       "      <td>X360</td>\n",
       "      <td>2005</td>\n",
       "      <td>9.22</td>\n",
       "    </tr>\n",
       "    <tr>\n",
       "      <th>220</th>\n",
       "      <td>X360</td>\n",
       "      <td>2006</td>\n",
       "      <td>51.79</td>\n",
       "    </tr>\n",
       "  </tbody>\n",
       "</table>\n",
       "</div>"
      ],
      "text/plain": [
       "    platform  year_of_release  total_sales\n",
       "28        DS             1985         0.02\n",
       "29        DS             2004        17.27\n",
       "124       PS             1994         6.03\n",
       "125       PS             1995        35.96\n",
       "134      PS2             2000        39.17\n",
       "135      PS2             2001       166.43\n",
       "146      PS3             2001         0.48\n",
       "147      PS3             2005         0.19\n",
       "203      Wii             2006       140.19\n",
       "204      Wii             2007       153.41\n",
       "219     X360             2005         9.22\n",
       "220     X360             2006        51.79"
      ]
     },
     "metadata": {},
     "output_type": "display_data"
    }
   ],
   "source": [
    "top6 = group1['platform'].tail(6)\n",
    "group2=df.groupby(['platform','year_of_release'])['total_sales'].sum().reset_index()\n",
    "group2 = group2.query('platform in @top6')\n",
    "#show the first two years for each top platform\n",
    "display(group2.groupby('platform').head(2))"
   ]
  },
  {
   "cell_type": "code",
   "execution_count": 27,
   "metadata": {},
   "outputs": [
    {
     "data": {
      "image/png": "[encoded data removed]",
      "text/plain": [
       "<Figure size 864x576 with 1 Axes>"
      ]
     },
     "metadata": {},
     "output_type": "display_data"
    }
   ],
   "source": [
    "#plot the info\n",
    "plt.figure(figsize=(12,8))\n",
    "sns.lineplot(data = group2, x='year_of_release', y='total_sales', hue = 'platform')\n",
    "plt.title('Lifecycle of the top platforms',fontdict={'size':15});"
   ]
  },
  {
   "cell_type": "markdown",
   "metadata": {},
   "source": [
    "It seems that a lifspan of a platform is about 10 years and usually it grows pretty fast. About every 5 years there is a new platform, but in recent years, probably due to the development of technological capabilities, the frequency of rise of a new platform has increased. We will consider in our research games from 2013 onwards because we want to assure that the data we have is for platforms that are still in the game and not about to disappear. We have here few outliers as we know that the DS platform was released in 2004 and the PS3 in 2006, might be according to a typo."
   ]
  },
  {
   "cell_type": "code",
   "execution_count": 28,
   "metadata": {},
   "outputs": [
    {
     "data": {
      "text/plain": [
       "2237"
      ]
     },
     "execution_count": 28,
     "metadata": {},
     "output_type": "execute_result"
    }
   ],
   "source": [
    "df_filtered = df.query('year_of_release >= 2013')\n",
    "len(df_filtered)"
   ]
  },
  {
   "cell_type": "markdown",
   "metadata": {},
   "source": [
    "The next question we want to answer is which platforms are leading in sales in the last few years?"
   ]
  },
  {
   "cell_type": "code",
   "execution_count": 29,
   "metadata": {},
   "outputs": [
    {
     "data": {
      "text/html": [
       "<div>\n",
       "<style scoped>\n",
       "    .dataframe tbody tr th:only-of-type {\n",
       "        vertical-align: middle;\n",
       "    }\n",
       "\n",
       "    .dataframe tbody tr th {\n",
       "        vertical-align: top;\n",
       "    }\n",
       "\n",
       "    .dataframe thead th {\n",
       "        text-align: right;\n",
       "    }\n",
       "</style>\n",
       "<table border=\"1\" class=\"dataframe\">\n",
       "  <thead>\n",
       "    <tr style=\"text-align: right;\">\n",
       "      <th></th>\n",
       "      <th>platform</th>\n",
       "      <th>total_sales</th>\n",
       "    </tr>\n",
       "  </thead>\n",
       "  <tbody>\n",
       "    <tr>\n",
       "      <th>0</th>\n",
       "      <td>DS</td>\n",
       "      <td>1.54</td>\n",
       "    </tr>\n",
       "    <tr>\n",
       "      <th>1</th>\n",
       "      <td>PSP</td>\n",
       "      <td>3.74</td>\n",
       "    </tr>\n",
       "    <tr>\n",
       "      <th>2</th>\n",
       "      <td>Wii</td>\n",
       "      <td>13.66</td>\n",
       "    </tr>\n",
       "    <tr>\n",
       "      <th>3</th>\n",
       "      <td>PSV</td>\n",
       "      <td>32.99</td>\n",
       "    </tr>\n",
       "    <tr>\n",
       "      <th>4</th>\n",
       "      <td>PC</td>\n",
       "      <td>40.06</td>\n",
       "    </tr>\n",
       "    <tr>\n",
       "      <th>5</th>\n",
       "      <td>WiiU</td>\n",
       "      <td>64.63</td>\n",
       "    </tr>\n",
       "    <tr>\n",
       "      <th>6</th>\n",
       "      <td>X360</td>\n",
       "      <td>136.80</td>\n",
       "    </tr>\n",
       "    <tr>\n",
       "      <th>7</th>\n",
       "      <td>3DS</td>\n",
       "      <td>143.25</td>\n",
       "    </tr>\n",
       "    <tr>\n",
       "      <th>8</th>\n",
       "      <td>XOne</td>\n",
       "      <td>159.32</td>\n",
       "    </tr>\n",
       "    <tr>\n",
       "      <th>9</th>\n",
       "      <td>PS3</td>\n",
       "      <td>181.43</td>\n",
       "    </tr>\n",
       "    <tr>\n",
       "      <th>10</th>\n",
       "      <td>PS4</td>\n",
       "      <td>314.14</td>\n",
       "    </tr>\n",
       "  </tbody>\n",
       "</table>\n",
       "</div>"
      ],
      "text/plain": [
       "   platform  total_sales\n",
       "0        DS         1.54\n",
       "1       PSP         3.74\n",
       "2       Wii        13.66\n",
       "3       PSV        32.99\n",
       "4        PC        40.06\n",
       "5      WiiU        64.63\n",
       "6      X360       136.80\n",
       "7       3DS       143.25\n",
       "8      XOne       159.32\n",
       "9       PS3       181.43\n",
       "10      PS4       314.14"
      ]
     },
     "execution_count": 29,
     "metadata": {},
     "output_type": "execute_result"
    }
   ],
   "source": [
    "#sum the total sales in the last years for each platform\n",
    "group3 = df_filtered.groupby('platform')[['platform','total_sales']].sum().sort_values('total_sales').reset_index()\n",
    "group3"
   ]
  },
  {
   "cell_type": "code",
   "execution_count": 30,
   "metadata": {},
   "outputs": [],
   "source": [
    "#organizing the data for squarify\n",
    "sizes = group3.total_sales.values.tolist()\n",
    "labels = group3.apply(lambda x: str(x[0]) +\"\\n$\" + str(round(x[1])), axis = 1)"
   ]
  },
  {
   "cell_type": "code",
   "execution_count": 31,
   "metadata": {},
   "outputs": [
    {
     "data": {
      "image/png": "[encoded data removed]",
      "text/plain": [
       "<Figure size 1080x720 with 1 Axes>"
      ]
     },
     "metadata": {},
     "output_type": "display_data"
    }
   ],
   "source": [
    "#plot the desired info\n",
    "plt.figure(figsize = (15,10))\n",
    "squarify.plot(sizes = sizes, label = labels, alpha =0.5);\n",
    "plt.title('Platforms leading in sales during 2013-2016',fontdict={'size':15});"
   ]
  },
  {
   "cell_type": "markdown",
   "metadata": {},
   "source": [
    "We can see that PS4 is leading, followed by PS3, XOne, 3DS, X360 and WiiU. So now we want to determine the trend of each platform. Which ones are growing or shrinking? We will make few visualizations that will help us with selecting the potentially profitable platforms."
   ]
  },
  {
   "cell_type": "code",
   "execution_count": 32,
   "metadata": {},
   "outputs": [],
   "source": [
    "#sum of the total sales for each platform in each year\n",
    "group4 = df_filtered.groupby(['platform','year_of_release'])['total_sales'].sum().reset_index()"
   ]
  },
  {
   "cell_type": "code",
   "execution_count": 33,
   "metadata": {},
   "outputs": [
    {
     "data": {
      "image/png": "[encoded data removed]",
      "text/plain": [
       "<Figure size 720x504 with 1 Axes>"
      ]
     },
     "metadata": {},
     "output_type": "display_data"
    }
   ],
   "source": [
    "plt.figure(figsize=(10,7))\n",
    "sns.lineplot(data = group4, x='year_of_release', y='total_sales', hue = 'platform')\n",
    "plt.title('Sum of total sales',fontdict={'size':15});"
   ]
  },
  {
   "cell_type": "code",
   "execution_count": 34,
   "metadata": {},
   "outputs": [
    {
     "data": {
      "text/html": [
       "<div>\n",
       "<style scoped>\n",
       "    .dataframe tbody tr th:only-of-type {\n",
       "        vertical-align: middle;\n",
       "    }\n",
       "\n",
       "    .dataframe tbody tr th {\n",
       "        vertical-align: top;\n",
       "    }\n",
       "\n",
       "    .dataframe thead th {\n",
       "        text-align: right;\n",
       "    }\n",
       "</style>\n",
       "<table border=\"1\" class=\"dataframe\">\n",
       "  <thead>\n",
       "    <tr style=\"text-align: right;\">\n",
       "      <th>platform</th>\n",
       "      <th>3DS</th>\n",
       "      <th>DS</th>\n",
       "      <th>PC</th>\n",
       "      <th>PS3</th>\n",
       "      <th>PS4</th>\n",
       "      <th>PSP</th>\n",
       "      <th>PSV</th>\n",
       "      <th>Wii</th>\n",
       "      <th>WiiU</th>\n",
       "      <th>X360</th>\n",
       "      <th>XOne</th>\n",
       "    </tr>\n",
       "    <tr>\n",
       "      <th>year_of_release</th>\n",
       "      <th></th>\n",
       "      <th></th>\n",
       "      <th></th>\n",
       "      <th></th>\n",
       "      <th></th>\n",
       "      <th></th>\n",
       "      <th></th>\n",
       "      <th></th>\n",
       "      <th></th>\n",
       "      <th></th>\n",
       "      <th></th>\n",
       "    </tr>\n",
       "  </thead>\n",
       "  <tbody>\n",
       "    <tr>\n",
       "      <th>2013</th>\n",
       "      <td>56.57</td>\n",
       "      <td>1.54</td>\n",
       "      <td>13.01</td>\n",
       "      <td>113.25</td>\n",
       "      <td>25.99</td>\n",
       "      <td>3.38</td>\n",
       "      <td>10.59</td>\n",
       "      <td>8.59</td>\n",
       "      <td>21.65</td>\n",
       "      <td>88.58</td>\n",
       "      <td>18.96</td>\n",
       "    </tr>\n",
       "    <tr>\n",
       "      <th>2014</th>\n",
       "      <td>43.76</td>\n",
       "      <td>0.00</td>\n",
       "      <td>13.28</td>\n",
       "      <td>47.76</td>\n",
       "      <td>100.00</td>\n",
       "      <td>0.24</td>\n",
       "      <td>11.90</td>\n",
       "      <td>3.75</td>\n",
       "      <td>22.03</td>\n",
       "      <td>34.74</td>\n",
       "      <td>54.07</td>\n",
       "    </tr>\n",
       "    <tr>\n",
       "      <th>2015</th>\n",
       "      <td>27.78</td>\n",
       "      <td>0.00</td>\n",
       "      <td>8.52</td>\n",
       "      <td>16.82</td>\n",
       "      <td>118.90</td>\n",
       "      <td>0.12</td>\n",
       "      <td>6.25</td>\n",
       "      <td>1.14</td>\n",
       "      <td>16.35</td>\n",
       "      <td>11.96</td>\n",
       "      <td>60.14</td>\n",
       "    </tr>\n",
       "    <tr>\n",
       "      <th>2016</th>\n",
       "      <td>15.14</td>\n",
       "      <td>0.00</td>\n",
       "      <td>5.25</td>\n",
       "      <td>3.60</td>\n",
       "      <td>69.25</td>\n",
       "      <td>0.00</td>\n",
       "      <td>4.25</td>\n",
       "      <td>0.18</td>\n",
       "      <td>4.60</td>\n",
       "      <td>1.52</td>\n",
       "      <td>26.15</td>\n",
       "    </tr>\n",
       "  </tbody>\n",
       "</table>\n",
       "</div>"
      ],
      "text/plain": [
       "platform           3DS    DS     PC     PS3     PS4   PSP    PSV   Wii   WiiU  \\\n",
       "year_of_release                                                                 \n",
       "2013             56.57  1.54  13.01  113.25   25.99  3.38  10.59  8.59  21.65   \n",
       "2014             43.76  0.00  13.28   47.76  100.00  0.24  11.90  3.75  22.03   \n",
       "2015             27.78  0.00   8.52   16.82  118.90  0.12   6.25  1.14  16.35   \n",
       "2016             15.14  0.00   5.25    3.60   69.25  0.00   4.25  0.18   4.60   \n",
       "\n",
       "platform          X360   XOne  \n",
       "year_of_release                \n",
       "2013             88.58  18.96  \n",
       "2014             34.74  54.07  \n",
       "2015             11.96  60.14  \n",
       "2016              1.52  26.15  "
      ]
     },
     "execution_count": 34,
     "metadata": {},
     "output_type": "execute_result"
    }
   ],
   "source": [
    "#another way to show the data by pivot table\n",
    "group5 = pd.pivot_table(\n",
    "    df_filtered,index= 'year_of_release', columns = 'platform', values = 'total_sales', aggfunc = 'sum', fill_value = 0)\n",
    "group5"
   ]
  },
  {
   "cell_type": "code",
   "execution_count": 35,
   "metadata": {},
   "outputs": [
    {
     "data": {
      "image/png": "[encoded data removed]",
      "text/plain": [
       "<Figure size 1080x648 with 2 Axes>"
      ]
     },
     "metadata": {},
     "output_type": "display_data"
    }
   ],
   "source": [
    "plt.figure(figsize = (15,9))\n",
    "sns.heatmap(group5.T,cmap = 'YlGnBu');\n",
    "plt.title('Total sales of platforms',fontdict={'size':15});"
   ]
  },
  {
   "cell_type": "code",
   "execution_count": 36,
   "metadata": {},
   "outputs": [
    {
     "data": {
      "text/html": [
       "<div>\n",
       "<style scoped>\n",
       "    .dataframe tbody tr th:only-of-type {\n",
       "        vertical-align: middle;\n",
       "    }\n",
       "\n",
       "    .dataframe tbody tr th {\n",
       "        vertical-align: top;\n",
       "    }\n",
       "\n",
       "    .dataframe thead th {\n",
       "        text-align: right;\n",
       "    }\n",
       "</style>\n",
       "<table border=\"1\" class=\"dataframe\">\n",
       "  <thead>\n",
       "    <tr style=\"text-align: right;\">\n",
       "      <th>platform</th>\n",
       "      <th>3DS</th>\n",
       "      <th>DS</th>\n",
       "      <th>PC</th>\n",
       "      <th>PS3</th>\n",
       "      <th>PS4</th>\n",
       "      <th>PSP</th>\n",
       "      <th>PSV</th>\n",
       "      <th>Wii</th>\n",
       "      <th>WiiU</th>\n",
       "      <th>X360</th>\n",
       "      <th>XOne</th>\n",
       "    </tr>\n",
       "    <tr>\n",
       "      <th>year_of_release</th>\n",
       "      <th></th>\n",
       "      <th></th>\n",
       "      <th></th>\n",
       "      <th></th>\n",
       "      <th></th>\n",
       "      <th></th>\n",
       "      <th></th>\n",
       "      <th></th>\n",
       "      <th></th>\n",
       "      <th></th>\n",
       "      <th></th>\n",
       "    </tr>\n",
       "  </thead>\n",
       "  <tbody>\n",
       "    <tr>\n",
       "      <th>2013</th>\n",
       "      <td>NaN</td>\n",
       "      <td>NaN</td>\n",
       "      <td>NaN</td>\n",
       "      <td>NaN</td>\n",
       "      <td>NaN</td>\n",
       "      <td>NaN</td>\n",
       "      <td>NaN</td>\n",
       "      <td>NaN</td>\n",
       "      <td>NaN</td>\n",
       "      <td>NaN</td>\n",
       "      <td>NaN</td>\n",
       "    </tr>\n",
       "    <tr>\n",
       "      <th>2014</th>\n",
       "      <td>-12.81</td>\n",
       "      <td>-1.54</td>\n",
       "      <td>0.27</td>\n",
       "      <td>-65.49</td>\n",
       "      <td>74.01</td>\n",
       "      <td>-3.14</td>\n",
       "      <td>1.31</td>\n",
       "      <td>-4.84</td>\n",
       "      <td>0.38</td>\n",
       "      <td>-53.84</td>\n",
       "      <td>35.11</td>\n",
       "    </tr>\n",
       "    <tr>\n",
       "      <th>2015</th>\n",
       "      <td>-15.98</td>\n",
       "      <td>0.00</td>\n",
       "      <td>-4.76</td>\n",
       "      <td>-30.94</td>\n",
       "      <td>18.90</td>\n",
       "      <td>-0.12</td>\n",
       "      <td>-5.65</td>\n",
       "      <td>-2.61</td>\n",
       "      <td>-5.68</td>\n",
       "      <td>-22.78</td>\n",
       "      <td>6.07</td>\n",
       "    </tr>\n",
       "    <tr>\n",
       "      <th>2016</th>\n",
       "      <td>-12.64</td>\n",
       "      <td>0.00</td>\n",
       "      <td>-3.27</td>\n",
       "      <td>-13.22</td>\n",
       "      <td>-49.65</td>\n",
       "      <td>-0.12</td>\n",
       "      <td>-2.00</td>\n",
       "      <td>-0.96</td>\n",
       "      <td>-11.75</td>\n",
       "      <td>-10.44</td>\n",
       "      <td>-33.99</td>\n",
       "    </tr>\n",
       "  </tbody>\n",
       "</table>\n",
       "</div>"
      ],
      "text/plain": [
       "platform           3DS    DS    PC    PS3    PS4   PSP   PSV   Wii   WiiU  \\\n",
       "year_of_release                                                             \n",
       "2013               NaN   NaN   NaN    NaN    NaN   NaN   NaN   NaN    NaN   \n",
       "2014            -12.81 -1.54  0.27 -65.49  74.01 -3.14  1.31 -4.84   0.38   \n",
       "2015            -15.98  0.00 -4.76 -30.94  18.90 -0.12 -5.65 -2.61  -5.68   \n",
       "2016            -12.64  0.00 -3.27 -13.22 -49.65 -0.12 -2.00 -0.96 -11.75   \n",
       "\n",
       "platform          X360   XOne  \n",
       "year_of_release                \n",
       "2013               NaN    NaN  \n",
       "2014            -53.84  35.11  \n",
       "2015            -22.78   6.07  \n",
       "2016            -10.44 -33.99  "
      ]
     },
     "execution_count": 36,
     "metadata": {},
     "output_type": "execute_result"
    }
   ],
   "source": [
    "#calculate the difference between the total sales of the previous year\n",
    "dynamics = group5 - group5.shift(+1)\n",
    "dynamics"
   ]
  },
  {
   "cell_type": "code",
   "execution_count": 37,
   "metadata": {},
   "outputs": [
    {
     "data": {
      "image/png": "[encoded data removed]",
      "text/plain": [
       "<Figure size 1080x648 with 2 Axes>"
      ]
     },
     "metadata": {},
     "output_type": "display_data"
    }
   ],
   "source": [
    "plt.figure(figsize = (15,9))\n",
    "sns.heatmap(dynamics.T,cmap = 'RdBu_r',annot=True, fmt=\".2f\");\n",
    "plt.title('Changes of total sales of platforms',fontdict={'size':15});"
   ]
  },
  {
   "cell_type": "markdown",
   "metadata": {},
   "source": [
    "We can inferr from the graphs that the platform that are still \"alive\" are 3DS, PS4 and XOne where PS4 is the most profitable, followed by XOne and 3DS. Also the PC platform is still in the game together with WiiU and PSV but their revenue was always pretty low. We see that PS3 and X360 were pretty high in revenue but till today they already about to fade away. We have some flactuations of the total sales of PS4 and XOne but they are in their first years so we assume it is part of the growing path. From all we mentioend above, we choose the PS4, XOne, 3DS, PC, WiiU and PSV as the potentially profitable platforms.\n",
    "Now we want to see the distribution of the global sales and the mean sales of the platforms."
   ]
  },
  {
   "cell_type": "code",
   "execution_count": 38,
   "metadata": {},
   "outputs": [],
   "source": [
    "#our chosen platforms\n",
    "potentially_profitable = ['PS4','XOne','3DS','PC','WiiU','PSV']\n",
    "#filter the data for the relevant platforms\n",
    "df_filtered = df_filtered.query('platform in @potentially_profitable')"
   ]
  },
  {
   "cell_type": "code",
   "execution_count": 39,
   "metadata": {},
   "outputs": [],
   "source": [
    "#global sales of all games of each platform in each year\n",
    "grouped1=df_filtered.groupby(['platform','year_of_release'])['total_sales'].sum().reset_index()\n",
    "ordered1=grouped1.groupby(['platform'])['total_sales'].sum().sort_values().reset_index()['platform']\n",
    "\n",
    "#average sales of a game for each platform in each year\n",
    "grouped2=df_filtered.groupby(['platform','year_of_release'])['total_sales'].mean().reset_index()\n",
    "ordered2=grouped2.groupby(['platform'])['total_sales'].sum().sort_values().reset_index()['platform']"
   ]
  },
  {
   "cell_type": "code",
   "execution_count": 40,
   "metadata": {
    "scrolled": false
   },
   "outputs": [
    {
     "data": {
      "image/png": "[encoded data removed]",
      "text/plain": [
       "<Figure size 1224x576 with 2 Axes>"
      ]
     },
     "metadata": {},
     "output_type": "display_data"
    }
   ],
   "source": [
    "#plot the desired data\n",
    "fig, axes = plt.subplots(1,2,figsize=(17, 8))\n",
    "sns.boxplot(x='platform',y='total_sales',data=grouped1,order=ordered1, ax=axes[0])\n",
    "sns.boxplot(x='platform',y='total_sales',data=grouped2,order=ordered2, ax=axes[1]);\n",
    "axes[0].set_title('Global sales of all games',fontdict={'size':15})\n",
    "axes[1].set_title('Average sales of a game',fontdict={'size':15});"
   ]
  },
  {
   "cell_type": "markdown",
   "metadata": {},
   "source": [
    "We can see here that PS4 is the most profitable platform in terms of total and mean sales. Also the XOne has high total and mean sales. The less profitable platforms in total and for mean are PSV and PC.\n",
    "Now we want to see the affect of the critic and users score on the total sales. First we'll see the correlations for PS4."
   ]
  },
  {
   "cell_type": "code",
   "execution_count": 41,
   "metadata": {},
   "outputs": [],
   "source": [
    "#take only rows that has no missing values\n",
    "group6 = df_filtered[df_filtered.notna().all(axis=1)]\n",
    "group6 = pd.pivot_table(group6,index= ['platform','name'], values = ['critic_score','user_score','total_sales']).reset_index()"
   ]
  },
  {
   "cell_type": "code",
   "execution_count": 42,
   "metadata": {},
   "outputs": [],
   "source": [
    "#save the data of platform PS4\n",
    "PS4 = group6.query('platform == \"PS4\"')"
   ]
  },
  {
   "cell_type": "code",
   "execution_count": 43,
   "metadata": {},
   "outputs": [
    {
     "data": {
      "image/png": "[encoded data removed]",
      "text/plain": [
       "<Figure size 864x360 with 2 Axes>"
      ]
     },
     "metadata": {},
     "output_type": "display_data"
    }
   ],
   "source": [
    "fig, axes = plt.subplots(1,2,figsize=(12, 5))\n",
    "sns.scatterplot(x='critic_score',y='total_sales',data=PS4, ax=axes[0])\n",
    "sns.scatterplot(x='user_score',y='total_sales',data=PS4, ax=axes[1]);\n",
    "axes[0].set_title('Corelation between critic score and total sales for PS4',fontdict={'size':13})\n",
    "axes[1].set_title('Corelation between user score and total sales for PS4',fontdict={'size':13});"
   ]
  },
  {
   "cell_type": "code",
   "execution_count": 44,
   "metadata": {},
   "outputs": [
    {
     "data": {
      "text/html": [
       "<div>\n",
       "<style scoped>\n",
       "    .dataframe tbody tr th:only-of-type {\n",
       "        vertical-align: middle;\n",
       "    }\n",
       "\n",
       "    .dataframe tbody tr th {\n",
       "        vertical-align: top;\n",
       "    }\n",
       "\n",
       "    .dataframe thead th {\n",
       "        text-align: right;\n",
       "    }\n",
       "</style>\n",
       "<table border=\"1\" class=\"dataframe\">\n",
       "  <thead>\n",
       "    <tr style=\"text-align: right;\">\n",
       "      <th></th>\n",
       "      <th>critic_score</th>\n",
       "      <th>total_sales</th>\n",
       "      <th>user_score</th>\n",
       "    </tr>\n",
       "  </thead>\n",
       "  <tbody>\n",
       "    <tr>\n",
       "      <th>critic_score</th>\n",
       "      <td>1.000000</td>\n",
       "      <td>0.323337</td>\n",
       "      <td>0.486243</td>\n",
       "    </tr>\n",
       "    <tr>\n",
       "      <th>total_sales</th>\n",
       "      <td>0.323337</td>\n",
       "      <td>1.000000</td>\n",
       "      <td>0.006050</td>\n",
       "    </tr>\n",
       "    <tr>\n",
       "      <th>user_score</th>\n",
       "      <td>0.486243</td>\n",
       "      <td>0.006050</td>\n",
       "      <td>1.000000</td>\n",
       "    </tr>\n",
       "  </tbody>\n",
       "</table>\n",
       "</div>"
      ],
      "text/plain": [
       "              critic_score  total_sales  user_score\n",
       "critic_score      1.000000     0.323337    0.486243\n",
       "total_sales       0.323337     1.000000    0.006050\n",
       "user_score        0.486243     0.006050    1.000000"
      ]
     },
     "execution_count": 44,
     "metadata": {},
     "output_type": "execute_result"
    }
   ],
   "source": [
    "#calculate the correlation between reviews and sales\n",
    "group6.corr()"
   ]
  },
  {
   "cell_type": "markdown",
   "metadata": {},
   "source": [
    "There is a noticeable positive corelation between critic score and total sales, while the user score has a very weak positive correlation. It makes sense because the critics usually get access before the game goes on sale and their opinion is an influential factor on consumers purchasing the games. Usually the user's rating is done already after the purchase so it makes sense that it will not affect sales. We want to see if these correlations also exist for other platforms."
   ]
  },
  {
   "cell_type": "code",
   "execution_count": 45,
   "metadata": {
    "scrolled": false
   },
   "outputs": [
    {
     "data": {
      "image/png": "[encoded data removed]",
      "text/plain": [
       "<Figure size 864x360 with 2 Axes>"
      ]
     },
     "metadata": {},
     "output_type": "display_data"
    },
    {
     "data": {
      "text/plain": [
       "None"
      ]
     },
     "metadata": {},
     "output_type": "display_data"
    },
    {
     "data": {
      "text/html": [
       "<div>\n",
       "<style scoped>\n",
       "    .dataframe tbody tr th:only-of-type {\n",
       "        vertical-align: middle;\n",
       "    }\n",
       "\n",
       "    .dataframe tbody tr th {\n",
       "        vertical-align: top;\n",
       "    }\n",
       "\n",
       "    .dataframe thead th {\n",
       "        text-align: right;\n",
       "    }\n",
       "</style>\n",
       "<table border=\"1\" class=\"dataframe\">\n",
       "  <thead>\n",
       "    <tr style=\"text-align: right;\">\n",
       "      <th></th>\n",
       "      <th>critic_score</th>\n",
       "      <th>total_sales</th>\n",
       "      <th>user_score</th>\n",
       "    </tr>\n",
       "  </thead>\n",
       "  <tbody>\n",
       "    <tr>\n",
       "      <th>critic_score</th>\n",
       "      <td>1.000000</td>\n",
       "      <td>0.409930</td>\n",
       "      <td>0.491255</td>\n",
       "    </tr>\n",
       "    <tr>\n",
       "      <th>total_sales</th>\n",
       "      <td>0.409930</td>\n",
       "      <td>1.000000</td>\n",
       "      <td>-0.075916</td>\n",
       "    </tr>\n",
       "    <tr>\n",
       "      <th>user_score</th>\n",
       "      <td>0.491255</td>\n",
       "      <td>-0.075916</td>\n",
       "      <td>1.000000</td>\n",
       "    </tr>\n",
       "  </tbody>\n",
       "</table>\n",
       "</div>"
      ],
      "text/plain": [
       "              critic_score  total_sales  user_score\n",
       "critic_score      1.000000     0.409930    0.491255\n",
       "total_sales       0.409930     1.000000   -0.075916\n",
       "user_score        0.491255    -0.075916    1.000000"
      ]
     },
     "metadata": {},
     "output_type": "display_data"
    },
    {
     "data": {
      "image/png": "[encoded data removed]",
      "text/plain": [
       "<Figure size 864x360 with 2 Axes>"
      ]
     },
     "metadata": {},
     "output_type": "display_data"
    },
    {
     "data": {
      "text/plain": [
       "None"
      ]
     },
     "metadata": {},
     "output_type": "display_data"
    },
    {
     "data": {
      "text/html": [
       "<div>\n",
       "<style scoped>\n",
       "    .dataframe tbody tr th:only-of-type {\n",
       "        vertical-align: middle;\n",
       "    }\n",
       "\n",
       "    .dataframe tbody tr th {\n",
       "        vertical-align: top;\n",
       "    }\n",
       "\n",
       "    .dataframe thead th {\n",
       "        text-align: right;\n",
       "    }\n",
       "</style>\n",
       "<table border=\"1\" class=\"dataframe\">\n",
       "  <thead>\n",
       "    <tr style=\"text-align: right;\">\n",
       "      <th></th>\n",
       "      <th>critic_score</th>\n",
       "      <th>total_sales</th>\n",
       "      <th>user_score</th>\n",
       "    </tr>\n",
       "  </thead>\n",
       "  <tbody>\n",
       "    <tr>\n",
       "      <th>critic_score</th>\n",
       "      <td>1.000000</td>\n",
       "      <td>0.181365</td>\n",
       "      <td>0.476534</td>\n",
       "    </tr>\n",
       "    <tr>\n",
       "      <th>total_sales</th>\n",
       "      <td>0.181365</td>\n",
       "      <td>1.000000</td>\n",
       "      <td>-0.081140</td>\n",
       "    </tr>\n",
       "    <tr>\n",
       "      <th>user_score</th>\n",
       "      <td>0.476534</td>\n",
       "      <td>-0.081140</td>\n",
       "      <td>1.000000</td>\n",
       "    </tr>\n",
       "  </tbody>\n",
       "</table>\n",
       "</div>"
      ],
      "text/plain": [
       "              critic_score  total_sales  user_score\n",
       "critic_score      1.000000     0.181365    0.476534\n",
       "total_sales       0.181365     1.000000   -0.081140\n",
       "user_score        0.476534    -0.081140    1.000000"
      ]
     },
     "metadata": {},
     "output_type": "display_data"
    },
    {
     "data": {
      "image/png": "[encoded data removed]",
      "text/plain": [
       "<Figure size 864x360 with 2 Axes>"
      ]
     },
     "metadata": {},
     "output_type": "display_data"
    },
    {
     "data": {
      "text/plain": [
       "None"
      ]
     },
     "metadata": {},
     "output_type": "display_data"
    },
    {
     "data": {
      "text/html": [
       "<div>\n",
       "<style scoped>\n",
       "    .dataframe tbody tr th:only-of-type {\n",
       "        vertical-align: middle;\n",
       "    }\n",
       "\n",
       "    .dataframe tbody tr th {\n",
       "        vertical-align: top;\n",
       "    }\n",
       "\n",
       "    .dataframe thead th {\n",
       "        text-align: right;\n",
       "    }\n",
       "</style>\n",
       "<table border=\"1\" class=\"dataframe\">\n",
       "  <thead>\n",
       "    <tr style=\"text-align: right;\">\n",
       "      <th></th>\n",
       "      <th>critic_score</th>\n",
       "      <th>total_sales</th>\n",
       "      <th>user_score</th>\n",
       "    </tr>\n",
       "  </thead>\n",
       "  <tbody>\n",
       "    <tr>\n",
       "      <th>critic_score</th>\n",
       "      <td>1.000000</td>\n",
       "      <td>0.379504</td>\n",
       "      <td>0.721313</td>\n",
       "    </tr>\n",
       "    <tr>\n",
       "      <th>total_sales</th>\n",
       "      <td>0.379504</td>\n",
       "      <td>1.000000</td>\n",
       "      <td>0.408692</td>\n",
       "    </tr>\n",
       "    <tr>\n",
       "      <th>user_score</th>\n",
       "      <td>0.721313</td>\n",
       "      <td>0.408692</td>\n",
       "      <td>1.000000</td>\n",
       "    </tr>\n",
       "  </tbody>\n",
       "</table>\n",
       "</div>"
      ],
      "text/plain": [
       "              critic_score  total_sales  user_score\n",
       "critic_score      1.000000     0.379504    0.721313\n",
       "total_sales       0.379504     1.000000    0.408692\n",
       "user_score        0.721313     0.408692    1.000000"
      ]
     },
     "metadata": {},
     "output_type": "display_data"
    },
    {
     "data": {
      "image/png": "[encoded data removed]",
      "text/plain": [
       "<Figure size 864x360 with 2 Axes>"
      ]
     },
     "metadata": {},
     "output_type": "display_data"
    },
    {
     "data": {
      "text/plain": [
       "None"
      ]
     },
     "metadata": {},
     "output_type": "display_data"
    },
    {
     "data": {
      "text/html": [
       "<div>\n",
       "<style scoped>\n",
       "    .dataframe tbody tr th:only-of-type {\n",
       "        vertical-align: middle;\n",
       "    }\n",
       "\n",
       "    .dataframe tbody tr th {\n",
       "        vertical-align: top;\n",
       "    }\n",
       "\n",
       "    .dataframe thead th {\n",
       "        text-align: right;\n",
       "    }\n",
       "</style>\n",
       "<table border=\"1\" class=\"dataframe\">\n",
       "  <thead>\n",
       "    <tr style=\"text-align: right;\">\n",
       "      <th></th>\n",
       "      <th>critic_score</th>\n",
       "      <th>total_sales</th>\n",
       "      <th>user_score</th>\n",
       "    </tr>\n",
       "  </thead>\n",
       "  <tbody>\n",
       "    <tr>\n",
       "      <th>critic_score</th>\n",
       "      <td>1.000000</td>\n",
       "      <td>0.339235</td>\n",
       "      <td>0.769536</td>\n",
       "    </tr>\n",
       "    <tr>\n",
       "      <th>total_sales</th>\n",
       "      <td>0.339235</td>\n",
       "      <td>1.000000</td>\n",
       "      <td>0.272990</td>\n",
       "    </tr>\n",
       "    <tr>\n",
       "      <th>user_score</th>\n",
       "      <td>0.769536</td>\n",
       "      <td>0.272990</td>\n",
       "      <td>1.000000</td>\n",
       "    </tr>\n",
       "  </tbody>\n",
       "</table>\n",
       "</div>"
      ],
      "text/plain": [
       "              critic_score  total_sales  user_score\n",
       "critic_score      1.000000     0.339235    0.769536\n",
       "total_sales       0.339235     1.000000    0.272990\n",
       "user_score        0.769536     0.272990    1.000000"
      ]
     },
     "metadata": {},
     "output_type": "display_data"
    }
   ],
   "source": [
    "#function for graphing and calculating the correlations\n",
    "def multi_scatter(df):\n",
    "    platforms = ['XOne','PC','WiiU','3DS']\n",
    "    for i in platforms:\n",
    "        info = df.query('platform == @i')\n",
    "        fig, axes = plt.subplots(1,2,figsize=(12, 5))\n",
    "        sns.scatterplot(x='critic_score',y='total_sales',data=info, ax=axes[0])\n",
    "        sns.scatterplot(x='user_score',y='total_sales',data=info, ax=axes[1]);\n",
    "        axes[0].set_title('Corelation between critic score and total sales for ' + i,fontdict={'size':13})\n",
    "        axes[1].set_title('Corelation between user score and total sales for ' + i,fontdict={'size':13});\n",
    "        display(plt.show(), info.corr())\n",
    "        \n",
    "multi_scatter(group6)"
   ]
  },
  {
   "cell_type": "markdown",
   "metadata": {},
   "source": [
    "For XOne, PC and 3DS the critic score also has a positive correlation with the total sales while the users score for XOne and PC have a negative correlation which could be explained by the fact that there can be sponsored reviews but in practice the product is less successful to the consumers' opinion.\n",
    "For WiiU wee see the opposite, the users score has a lareger positive correlation with the total sales than the critic score.\n",
    "\n",
    "We want to see if games have different sales for different platforms. We will select games that appear on three selected platforms and make a comparison in their sales."
   ]
  },
  {
   "cell_type": "code",
   "execution_count": 46,
   "metadata": {},
   "outputs": [],
   "source": [
    "multi_platform = df_filtered['name'].value_counts()\n",
    "#save the games that has at least 3 different platforms\n",
    "multi_platform = multi_platform[multi_platform > 2]"
   ]
  },
  {
   "cell_type": "code",
   "execution_count": 47,
   "metadata": {},
   "outputs": [],
   "source": [
    "#list of the platforms we want to compare\n",
    "platforms = ['XOne','PS4','3DS']\n",
    "#save the games from before but only for the relevant platforms\n",
    "group7 = df_filtered.query('name in @multi_platform.index and platform in @platforms')\n",
    "group7 = pd.pivot_table(group7, index=['name','platform'], values = 'total_sales').reset_index()"
   ]
  },
  {
   "cell_type": "code",
   "execution_count": 48,
   "metadata": {},
   "outputs": [],
   "source": [
    "#count for each game in how many platforms of the 3 it appears\n",
    "valid_info = group7['name'].value_counts()\n",
    "#save the names of those who appear in all 3\n",
    "valid_info = valid_info[valid_info == 3]\n",
    "#create a table that con\n",
    "group7 = group7.query('name in @valid_info.index')"
   ]
  },
  {
   "cell_type": "code",
   "execution_count": 49,
   "metadata": {},
   "outputs": [
    {
     "data": {
      "image/png": "[encoded data removed]",
      "text/plain": [
       "<Figure size 720x576 with 1 Axes>"
      ]
     },
     "metadata": {},
     "output_type": "display_data"
    }
   ],
   "source": [
    "games_3_platform = pd.pivot_table(group7, index = 'name',columns = 'platform', values = 'total_sales')\n",
    "percentages = games_3_platform.div(games_3_platform.sum(axis=1), axis =0)\n",
    "ax=percentages.plot(kind = 'barh', figsize = (10,8))\n",
    "plt.title(\"Platform's share of the total sales\",fontdict={'size':15})\n",
    "plt.xlabel('percentage of the total sales')\n",
    "#changing xlables ticks to percentages\n",
    "ax.xaxis.set_major_formatter(mtick.PercentFormatter(1.0))"
   ]
  },
  {
   "cell_type": "markdown",
   "metadata": {},
   "source": [
    "We can see that for the same games most of the time the PS4 platform is much more profitable than the others. Probably much more people use this platform. Also most of the time the XOne is more profitable than 3DS.  \n",
    "Now we want to see the difference between genres."
   ]
  },
  {
   "cell_type": "code",
   "execution_count": 50,
   "metadata": {},
   "outputs": [],
   "source": [
    "#global sales of all games of each genre in each year\n",
    "grouped3=df_filtered.groupby(['genre','year_of_release'])['total_sales'].sum().reset_index()\n",
    "ordered3=grouped3.groupby(['genre'])['total_sales'].sum().sort_values().reset_index()['genre']\n",
    "\n",
    "#average sales of a game for each genre in each year\n",
    "grouped4=df_filtered.groupby(['genre','year_of_release'])['total_sales'].mean().reset_index()\n",
    "ordered4=grouped4.groupby(['genre'])['total_sales'].sum().sort_values().reset_index()['genre']"
   ]
  },
  {
   "cell_type": "code",
   "execution_count": 51,
   "metadata": {},
   "outputs": [
    {
     "data": {
      "image/png": "[encoded data removed]",
      "text/plain": [
       "<Figure size 1224x576 with 2 Axes>"
      ]
     },
     "metadata": {},
     "output_type": "display_data"
    }
   ],
   "source": [
    "#plot the desired data\n",
    "fig, axes = plt.subplots(1,2,figsize=(17, 8))\n",
    "sns.boxplot(y='genre',x='total_sales', orient = \"h\", data=grouped3,order=ordered3, ax=axes[0])\n",
    "sns.boxplot(y='genre',x='total_sales', orient = \"h\", data=grouped4,order=ordered4, ax=axes[1]);\n",
    "axes[0].set_title('Global sales of genre',fontdict={'size':15})\n",
    "axes[1].set_title('Average sales of genre',fontdict={'size':15});"
   ]
  },
  {
   "cell_type": "markdown",
   "metadata": {},
   "source": [
    "We see that the highest global revnue is for 'Action' games but the 'Shooter', 'Sports' and 'Platform' are more profitable per game, probably there are a lot of 'Action' games and that's why the global revenue is high. We also can say that 'Adventure', 'Puzzle' and 'Stratagy' are the less profitable genres."
   ]
  },
  {
   "cell_type": "markdown",
   "metadata": {},
   "source": [
    "### Conclusions"
   ]
  },
  {
   "cell_type": "markdown",
   "metadata": {},
   "source": [
    "- Most of the games were released after 2001, there was a huge jump in production.\n",
    "- The lifespan of a platform is about 10 years so we focus in our research on the last 4 years at max so we'll have relevant data. \n",
    "- PS4 is leading in terms of global total sales, followed by PS3, XOne, 3DS, X360 and WiiU\n",
    "- The platform that are still \"alive\" are WiiU, PC, PSV, 3DS, PS4 and XOne where PS4 is the most profitable, followed by XOne and 3DS. WiiU, PC and PSV revenues are exist but they are pretty low.\n",
    "- PS4 and XOne are the most profitable platforms in terms of total and mean sales. The most profitable games of 2017 probably will be of PS4 and XOne.\n",
    "- Critic score has a positive correlation with the total sales.\n",
    "- For games that are distributed for several platforms, the most profitable platform is PS4 followed by XOne and 3DS.\n",
    "- The most profitable genres (mean profit per game) are 'Shooter','Sports' and 'Platform' while the 'Adventure', 'Puzzle' and 'Stratagy' are the less profitable genres.\n",
    "- The most profitable genre in terms of global sales is 'Action', probably there are a lot of 'Action' games."
   ]
  },
  {
   "cell_type": "markdown",
   "metadata": {},
   "source": [
    "## 4. User profile for each region\n",
    "<a class=\"anchor\" id=\"chapter4\"></a>"
   ]
  },
  {
   "cell_type": "markdown",
   "metadata": {},
   "source": [
    "We wnat to define for each region (NA, EU, JP):\n",
    "- The top five platforms and their market shares in each region.\n",
    "- The top five genres.\n",
    "- Do ESRB ratings affect sales in individual regions?"
   ]
  },
  {
   "cell_type": "code",
   "execution_count": 52,
   "metadata": {},
   "outputs": [],
   "source": [
    "na = df_filtered.drop(['eu_sales', 'jp_sales','other_sales'], axis=1)\n",
    "eu = df_filtered.drop(['na_sales', 'jp_sales','other_sales'], axis=1)\n",
    "jp = df_filtered.drop(['eu_sales', 'na_sales','other_sales'], axis=1)"
   ]
  },
  {
   "cell_type": "code",
   "execution_count": 53,
   "metadata": {},
   "outputs": [
    {
     "data": {
      "text/plain": [
       "platform\n",
       "PS4     38.087566\n",
       "XOne    32.616462\n",
       "3DS     13.380035\n",
       "WiiU    10.231173\n",
       "PC       3.919440\n",
       "Name: na_sales, dtype: float64"
      ]
     },
     "execution_count": 53,
     "metadata": {},
     "output_type": "execute_result"
    }
   ],
   "source": [
    "#the top 5 platforms in the NA market\n",
    "(na.groupby('platform')['na_sales'].sum().nlargest(5)/df_filtered['na_sales'].sum())*100"
   ]
  },
  {
   "cell_type": "code",
   "execution_count": 54,
   "metadata": {},
   "outputs": [
    {
     "data": {
      "text/plain": [
       "platform\n",
       "PS4     51.225357\n",
       "XOne    18.730712\n",
       "3DS     11.240606\n",
       "PC       9.381694\n",
       "WiiU     7.206913\n",
       "Name: eu_sales, dtype: float64"
      ]
     },
     "execution_count": 54,
     "metadata": {},
     "output_type": "execute_result"
    }
   ],
   "source": [
    "#the top 5 platforms in the EU market\n",
    "(eu.groupby('platform')['eu_sales'].sum().nlargest(5)/df_filtered['eu_sales'].sum())*100"
   ]
  },
  {
   "cell_type": "code",
   "execution_count": 55,
   "metadata": {},
   "outputs": [
    {
     "data": {
      "text/plain": [
       "platform\n",
       "3DS     59.702412\n",
       "PSV     16.367318\n",
       "PS4     14.051770\n",
       "WiiU     9.579151\n",
       "XOne     0.299348\n",
       "Name: jp_sales, dtype: float64"
      ]
     },
     "execution_count": 55,
     "metadata": {},
     "output_type": "execute_result"
    }
   ],
   "source": [
    "#the top 5 platforms in the JP market\n",
    "(jp.groupby('platform')['jp_sales'].sum().nlargest(5)/df_filtered['jp_sales'].sum())*100"
   ]
  },
  {
   "cell_type": "markdown",
   "metadata": {},
   "source": [
    "For NA mraket PS4 is responsible for **more than third** of total profits in this market. XOne is responsible for almost third of the profits and PC has the smallest share out of these top 5.\n",
    "For EU market PS4 is significantly leading in profits and responsible for **more than half** of the profits in this market. Also here we have the same platforms as in NA but with a little bit different shares. Here the smallest of the top 5 is WiiU.\n",
    "The JP market has some significant differences:\n",
    "The leading platform is 3DS and is responsible for **more than half** of the profits! PSV is above PS4 and XOne is the smallest of the top 5.  \n",
    "Now we'll check the top 5 genres."
   ]
  },
  {
   "cell_type": "code",
   "execution_count": 56,
   "metadata": {},
   "outputs": [
    {
     "data": {
      "text/plain": [
       "genre\n",
       "Shooter         26.399299\n",
       "Action          25.747811\n",
       "Role-Playing    13.281961\n",
       "Sports          12.991243\n",
       "Platform         4.966725\n",
       "Name: na_sales, dtype: float64"
      ]
     },
     "execution_count": 56,
     "metadata": {},
     "output_type": "execute_result"
    }
   ],
   "source": [
    "#the top 5 genres in the NA market\n",
    "(na.groupby('genre')['na_sales'].sum().nlargest(5)/df_filtered['na_sales'].sum())*100"
   ]
  },
  {
   "cell_type": "code",
   "execution_count": 57,
   "metadata": {},
   "outputs": [
    {
     "data": {
      "text/plain": [
       "genre\n",
       "Action          27.026831\n",
       "Shooter         23.559525\n",
       "Sports          14.025342\n",
       "Role-Playing    11.618197\n",
       "Racing           5.511382\n",
       "Name: eu_sales, dtype: float64"
      ]
     },
     "execution_count": 57,
     "metadata": {},
     "output_type": "execute_result"
    }
   ],
   "source": [
    "#the top 5 genres in the EU market\n",
    "(eu.groupby('genre')['eu_sales'].sum().nlargest(5)/df_filtered['eu_sales'].sum())*100"
   ]
  },
  {
   "cell_type": "code",
   "execution_count": 58,
   "metadata": {},
   "outputs": [
    {
     "data": {
      "text/plain": [
       "genre\n",
       "Role-Playing    39.478781\n",
       "Action          26.298644\n",
       "Misc             7.281211\n",
       "Fighting         4.692728\n",
       "Platform         4.182074\n",
       "Name: jp_sales, dtype: float64"
      ]
     },
     "execution_count": 58,
     "metadata": {},
     "output_type": "execute_result"
    }
   ],
   "source": [
    "#the top 5 genres in the JP market\n",
    "(jp.groupby('genre')['jp_sales'].sum().nlargest(5)/df_filtered['jp_sales'].sum())*100"
   ]
  },
  {
   "cell_type": "markdown",
   "metadata": {},
   "source": [
    "There is almost the same shares in the NA and EU market in terms of profit by genre. The leading genre in profits are 'Action',  'Shooter', 'Sports' and 'Role playing'. In the JP market the biggest shares are of 'Role playing' and 'Action' while the 'Shooter' is out of the top 5.  \n",
    "Now we want to see what is the correlation between the ESRB raiting and the sales in each region."
   ]
  },
  {
   "cell_type": "code",
   "execution_count": 59,
   "metadata": {},
   "outputs": [
    {
     "data": {
      "image/png": "[encoded data removed]",
      "text/plain": [
       "<Figure size 432x288 with 1 Axes>"
      ]
     },
     "metadata": {},
     "output_type": "display_data"
    },
    {
     "data": {
      "text/plain": [
       "None"
      ]
     },
     "metadata": {},
     "output_type": "display_data"
    },
    {
     "data": {
      "text/plain": [
       "0.17389966933492462"
      ]
     },
     "metadata": {},
     "output_type": "display_data"
    },
    {
     "data": {
      "image/png": "[encoded data removed]",
      "text/plain": [
       "<Figure size 432x288 with 1 Axes>"
      ]
     },
     "metadata": {},
     "output_type": "display_data"
    },
    {
     "data": {
      "text/plain": [
       "None"
      ]
     },
     "metadata": {},
     "output_type": "display_data"
    },
    {
     "data": {
      "text/plain": [
       "0.1710559311103628"
      ]
     },
     "metadata": {},
     "output_type": "display_data"
    },
    {
     "data": {
      "image/png": "[encoded data removed]",
      "text/plain": [
       "<Figure size 432x288 with 1 Axes>"
      ]
     },
     "metadata": {},
     "output_type": "display_data"
    },
    {
     "data": {
      "text/plain": [
       "None"
      ]
     },
     "metadata": {},
     "output_type": "display_data"
    },
    {
     "data": {
      "text/plain": [
       "-0.007722230718076868"
      ]
     },
     "metadata": {},
     "output_type": "display_data"
    }
   ],
   "source": [
    "regions = {\"na\" : na, 'eu': eu, 'jp': jp}\n",
    "#loop over the list, plot and calculate the correlations\n",
    "for k,v in regions.items():\n",
    "    column = k+\"_sales\"\n",
    "    sns.scatterplot(x='rating',y=column,data=v )\n",
    "    plt.title('Corelation between rating and sales for ' +k.upper() +' market',fontdict={'size':13})\n",
    "    #make a numeric categorization for estimating the correlation\n",
    "    v['categorized'] = v['rating'].replace(['M', 'E', 'T', 'E10+'], [4, 3, 2, 1])\n",
    "    \n",
    "    display(plt.show(), v['categorized'].corr(v[column]))"
   ]
  },
  {
   "cell_type": "markdown",
   "metadata": {},
   "source": [
    "There is some positive correlation between the rating and the sales for NA and EU market, the highest in sales are probably of the 'M' (mature,17+) and 'E' (everyone). For the JP market it doesn't seem to have the same effect."
   ]
  },
  {
   "cell_type": "markdown",
   "metadata": {},
   "source": [
    "### Conclusion"
   ]
  },
  {
   "cell_type": "markdown",
   "metadata": {},
   "source": [
    "- The top platforms in NA and EU are the same but have different shares. In both the PS4 and XOne are the biggest and PSV and is the smallest. The share of the XOne is bigger in NA than in EU.\n",
    "- The top platform in JP is 3DS and XOne and PC are the smallest.\n",
    "- The most popular genre are almost the same in the NA and EU and has pretty similar shares. The most dominant are 'Action', 'Shooters','Sports' and 'Role Playing' while in JP the majority is 'Role Playing' and 'Action' and 'Shooters' and 'Sports' are not in the top 5.\n",
    "- The most profitable ratings are 'M' and 'E' for NA and EU markets."
   ]
  },
  {
   "cell_type": "markdown",
   "metadata": {},
   "source": [
    "## 5. Testing hypotheses\n",
    "<a class=\"anchor\" id=\"chapter5\"></a>"
   ]
  },
  {
   "cell_type": "markdown",
   "metadata": {},
   "source": [
    "We want to test two hypothesis:\n",
    "- The average user ratings of the XOne and PC platforms are the same\n",
    "- The average user ratings for the Action and Sports genres are different.\n",
    "\n",
    "For the first hypothesis we'll define the null hypothesis and the alternative hepothesis as follow:\n",
    "- $H_0$ : $\\mu$(`user_score` of XOne) = $\\mu$(`user_score` of PC)  \n",
    "- $H_a$ : $\\mu$(`user_score` of XOne) != $\\mu$(`user_score` of PC)  \n",
    "\n",
    "First we will check if our distribution is normal with Shapiro-Wilk test for normality and than we'll decide which test to choose. The hypothesis for the Shapiro-Wilk are as follow:\n",
    "- $H_0$ : the data has a normal distribution\n",
    "- $H_a$ : the data doesn't have a normal distribution\n",
    "\n",
    "For all the tests we'll define the critical statistical significance level as 0.05"
   ]
  },
  {
   "cell_type": "code",
   "execution_count": 60,
   "metadata": {},
   "outputs": [],
   "source": [
    "user_XOne = df_filtered.query('platform == \"XOne\"')['user_score'].notna()\n",
    "user_PC = df_filtered.query('platform == \"PC\"')['user_score'].notna()"
   ]
  },
  {
   "cell_type": "code",
   "execution_count": 61,
   "metadata": {},
   "outputs": [
    {
     "data": {
      "text/plain": [
       "ShapiroResult(statistic=0.5491431355476379, pvalue=8.461930478373724e-25)"
      ]
     },
     "metadata": {},
     "output_type": "display_data"
    },
    {
     "data": {
      "text/plain": [
       "ShapiroResult(statistic=0.4626051187515259, pvalue=8.868836568985074e-24)"
      ]
     },
     "metadata": {},
     "output_type": "display_data"
    }
   ],
   "source": [
    "#check if the distribution is normal\n",
    "display(st.shapiro(user_XOne), st.shapiro(user_PC))"
   ]
  },
  {
   "cell_type": "markdown",
   "metadata": {},
   "source": [
    "The p-value is much less than 0.05 which means that the assumption of **normality *was* rejected**, so we will choose the Mann-Whitney U test that doesn't require a normal distribution."
   ]
  },
  {
   "cell_type": "code",
   "execution_count": 62,
   "metadata": {},
   "outputs": [
    {
     "name": "stdout",
     "output_type": "stream",
     "text": [
      "p-value:  0.03254080130900971\n",
      "We reject the null hypothesis\n"
     ]
    }
   ],
   "source": [
    "alpha = 0.05 # critical statistical significance level\n",
    "#check if the means of the groups are equal\n",
    "results = st.mannwhitneyu(user_XOne, user_PC)\n",
    "\n",
    "print('p-value: ', results.pvalue)\n",
    "\n",
    "if results.pvalue < alpha:\n",
    "    print(\"We reject the null hypothesis\")\n",
    "else:\n",
    "    print(\"We can't reject the null hypothesis\") "
   ]
  },
  {
   "cell_type": "markdown",
   "metadata": {},
   "source": [
    "The null hypothesis was rejected, therefore, we can conclude that the average user score of XOne games differs from average user score of PC games.\n",
    "\n",
    "Now we will test the second hypothesis. For the second hypothesis we'll define the null hypothesis and the alternative hepothesis as follow:\n",
    "- $H_0$ : $\\mu$(`user_score` of Action) = $\\mu$(`user_score` of Sports)  \n",
    "- $H_a$ : $\\mu$(`user_score` of Action) != $\\mu$(`user_score` of Sports)\n",
    "\n",
    "First we will check if our distribution is normal with Shapiro-Wilk test as we explained before."
   ]
  },
  {
   "cell_type": "code",
   "execution_count": 63,
   "metadata": {},
   "outputs": [],
   "source": [
    "user_action = df_filtered.query('genre == \"Action\"')['user_score'].notna()\n",
    "user_sports = df_filtered.query('genre == \"Sports\"')['user_score'].notna()"
   ]
  },
  {
   "cell_type": "code",
   "execution_count": 64,
   "metadata": {},
   "outputs": [
    {
     "data": {
      "text/plain": [
       "ShapiroResult(statistic=0.636524498462677, pvalue=5.1377956072763594e-33)"
      ]
     },
     "metadata": {},
     "output_type": "display_data"
    },
    {
     "data": {
      "text/plain": [
       "ShapiroResult(statistic=0.4947774410247803, pvalue=4.962054869431303e-19)"
      ]
     },
     "metadata": {},
     "output_type": "display_data"
    }
   ],
   "source": [
    "#check if the distribution is normal\n",
    "display(st.shapiro(user_action), st.shapiro(user_sports))"
   ]
  },
  {
   "cell_type": "markdown",
   "metadata": {},
   "source": [
    "Also here the p-value is much less than 0.05 which means that the assumption of **normality *was* rejected**, so we will choose the Mann-Whitney U test that doesn't require a normal distribution."
   ]
  },
  {
   "cell_type": "code",
   "execution_count": 65,
   "metadata": {},
   "outputs": [
    {
     "name": "stdout",
     "output_type": "stream",
     "text": [
      "p-value:  2.4482079743329375e-09\n",
      "We reject the null hypothesis\n"
     ]
    }
   ],
   "source": [
    "alpha = 0.05 # critical statistical significance level\n",
    "#check if the means of the groups are equal\n",
    "results = st.mannwhitneyu(user_action, user_sports)\n",
    "\n",
    "print('p-value: ', results.pvalue)\n",
    "\n",
    "if results.pvalue < alpha:\n",
    "    print(\"We reject the null hypothesis\")\n",
    "else:\n",
    "    print(\"We can't reject the null hypothesis\") "
   ]
  },
  {
   "cell_type": "markdown",
   "metadata": {},
   "source": [
    "The null hypothesis was rejected, therefore, we can conclude that there is a difference between the average user score of 'Action' games and average user score of 'Sports' games."
   ]
  },
  {
   "cell_type": "markdown",
   "metadata": {},
   "source": [
    "## 6. General conclusion\n",
    "<a class=\"anchor\" id=\"chapter6\"></a>"
   ]
  },
  {
   "cell_type": "markdown",
   "metadata": {},
   "source": [
    "In this study, we analayzed the collected data about games such as user and expert reviews, genres, platforms and historical data on game sales. The aim of this research was to spot potential big winners and plan advertising campaigns.\n",
    "\n",
    "The quality of the data was good enough for the sales but pretty poor for the reviews and the age rating. We should consider using more up to date resources for this information next time.\n",
    "\n",
    "The start of the gaming industry was around 1980 and the big boom was at the beggining of 2000's. The biggest market is North America, followed by Europe, Japan and the other countries. We found that the lifespan of common platform is about 10 years and about every 3-5 years new platforms arise. So we chose to focus on the last 4 years (2013-2016) so we'll have relevant data for our predictions.   \n",
    "In this time frame the leading platform in terms of sales was PS4 followed by PS3, XOne, 3DS, X360 and WiiU. We inferred from the graphs that the platform that are still \"alive\" are 3DS, PS4 and XOne where PS4 is the most profitable, followed by XOne and 3DS. Also the PC platform is still in the game together with WiiU and PSV but their revenue was always pretty low. We saw that PS3 and X360 were pretty high in revenue but till today they already about to fade away. From all we mentioend above, we choose the **PS4, XOne, 3DS, PC, WiiU and PSV as the potentially profitable platforms** and continued our study with only these platforms.\n",
    "\n",
    "We found out that in terms of total and mean sales **PS4 is the most profitable platform together with XOne**, as they are both growing platforms. The **less profitable platforms in total and mean sales are PSV and PC**.  \n",
    "We wanted to test whether reviews had an effect on sales and we found that there is a noticeable positive corelation between critic score and total sales, while the user score has a very weak positive correlation. It makes sense because the critics usually get access before the game goes on sale and their opinion is an influential factor on consumers purchasing the games. Usually the user's rating is done already after the purchase so it makes sense that it will not affect sales.\n",
    "\n",
    "For games that are not platform-exclusive we wanted to see if there's a difference in sales between the platform. We made the comparison between PS4, XOne and 3DS and found that in general the **PS4 version has bigger sales than others, usually followed by XOne**.\n",
    "\n",
    "Next we wanted to examine whether certain genres can be generalized as more profitable or less profitable. We saw that the highest global revnue is for 'Action' games but the **'Shooter', 'Sports' and 'Platform' are more profitable per game**, probably there are a lot of 'Action' games and that's why the global revenue is high. We also can say that **'Adventure', 'Puzzle' and 'Stratagy' are the less profitable genres**.\n",
    "\n",
    "Then we wnated to define for each region the top five platforms, top five genres and test if ESRB ratings affect sales in individual regions. We found that for NA mraket **PS4 is responsible for *more than third* of total profits** in this market. **XOne is responsible for almost third of the profits**. For EU market **PS4 is significantly leading in profits and responsible for more than half of the profits** in this market. Also here we have the same platforms as in NA but with a little bit different shares. The JP market has some significant differences: The leading platform is **3DS and is responsible for more than half of the profits!** PSV is above PS4 and XOne is the smallest of the top 5.\n",
    "For the genres we found that there is almost the same shares in the NA and EU market in terms of profit by genre. The **leading genre in profits are 'Action', 'Shooter', 'Sports' and 'Role playing'**. In the JP market the biggest shares are of 'Role playing' and 'Action' while the 'Shooter' is out of the top 5.\n",
    "There is some positive correlation between the rating and the sales for NA and EU market, the highest in sales are probably of the 'M' (mature,17+) and 'E' (everyone). For the JP market it doesn't seem to have the same effect.\n",
    "\n",
    "**From all that is mentioned above we recommend to focus the advertising efforts:**\n",
    "- **NA and EU - games that are distributed on PS4 and XOne of the following genres: 'Shooter', 'Sports' and 'Platform' as they are the most profitable per game and found in the top 5. Preffered those who have 'M' and 'E' age ratings.**\n",
    "- **JP - games that are distributed on 3DS and PS4 'Platform', 'Fighting' and 'Role-Playing' as they are the most profitable per game and found in the top 5. Preffered those who have 'E' age ratings.**"
   ]
  }
 ],
 "metadata": {
  "ExecuteTimeLog": [
   {
    "duration": 1990,
    "start_time": "2021-07-14T06:02:04.287Z"
   },
   {
    "duration": 185,
    "start_time": "2021-07-14T06:02:06.099Z"
   },
   {
    "duration": 173,
    "start_time": "2021-07-14T06:02:06.112Z"
   },
   {
    "duration": 174,
    "start_time": "2021-07-14T06:02:06.114Z"
   },
   {
    "duration": 132,
    "start_time": "2021-07-14T06:02:06.158Z"
   },
   {
    "duration": 132,
    "start_time": "2021-07-14T06:02:06.160Z"
   },
   {
    "duration": 132,
    "start_time": "2021-07-14T06:02:06.162Z"
   },
   {
    "duration": 133,
    "start_time": "2021-07-14T06:02:06.164Z"
   },
   {
    "duration": 133,
    "start_time": "2021-07-14T06:02:06.166Z"
   },
   {
    "duration": 133,
    "start_time": "2021-07-14T06:02:06.168Z"
   },
   {
    "duration": 133,
    "start_time": "2021-07-14T06:02:06.170Z"
   },
   {
    "duration": 135,
    "start_time": "2021-07-14T06:02:06.171Z"
   },
   {
    "duration": 135,
    "start_time": "2021-07-14T06:02:06.173Z"
   },
   {
    "duration": 136,
    "start_time": "2021-07-14T06:02:06.174Z"
   },
   {
    "duration": 102,
    "start_time": "2021-07-14T06:02:06.211Z"
   },
   {
    "duration": 102,
    "start_time": "2021-07-14T06:02:06.213Z"
   },
   {
    "duration": 103,
    "start_time": "2021-07-14T06:02:06.214Z"
   },
   {
    "duration": 105,
    "start_time": "2021-07-14T06:02:06.215Z"
   },
   {
    "duration": 105,
    "start_time": "2021-07-14T06:02:06.216Z"
   },
   {
    "duration": 93,
    "start_time": "2021-07-14T06:02:06.229Z"
   },
   {
    "duration": 123,
    "start_time": "2021-07-14T06:02:06.232Z"
   },
   {
    "duration": 123,
    "start_time": "2021-07-14T06:02:06.234Z"
   },
   {
    "duration": 124,
    "start_time": "2021-07-14T06:02:06.235Z"
   },
   {
    "duration": 126,
    "start_time": "2021-07-14T06:02:06.236Z"
   },
   {
    "duration": 123,
    "start_time": "2021-07-14T06:02:06.241Z"
   },
   {
    "duration": 125,
    "start_time": "2021-07-14T06:02:06.242Z"
   },
   {
    "duration": 124,
    "start_time": "2021-07-14T06:02:06.245Z"
   },
   {
    "duration": 125,
    "start_time": "2021-07-14T06:02:06.246Z"
   },
   {
    "duration": 65,
    "start_time": "2021-07-14T06:02:06.308Z"
   },
   {
    "duration": 67,
    "start_time": "2021-07-14T06:02:06.309Z"
   },
   {
    "duration": 68,
    "start_time": "2021-07-14T06:02:06.310Z"
   },
   {
    "duration": 69,
    "start_time": "2021-07-14T06:02:06.311Z"
   },
   {
    "duration": 71,
    "start_time": "2021-07-14T06:02:06.312Z"
   },
   {
    "duration": 72,
    "start_time": "2021-07-14T06:02:06.313Z"
   },
   {
    "duration": 74,
    "start_time": "2021-07-14T06:02:06.313Z"
   },
   {
    "duration": 75,
    "start_time": "2021-07-14T06:02:06.314Z"
   },
   {
    "duration": 76,
    "start_time": "2021-07-14T06:02:06.315Z"
   },
   {
    "duration": 138,
    "start_time": "2021-07-14T06:02:06.316Z"
   },
   {
    "duration": 95,
    "start_time": "2021-07-14T06:02:06.362Z"
   },
   {
    "duration": 93,
    "start_time": "2021-07-14T06:02:06.366Z"
   },
   {
    "duration": 95,
    "start_time": "2021-07-14T06:02:06.367Z"
   },
   {
    "duration": 84,
    "start_time": "2021-07-14T06:02:06.380Z"
   },
   {
    "duration": 85,
    "start_time": "2021-07-14T06:02:06.381Z"
   },
   {
    "duration": 85,
    "start_time": "2021-07-14T06:02:06.383Z"
   },
   {
    "duration": 87,
    "start_time": "2021-07-14T06:02:06.384Z"
   },
   {
    "duration": 88,
    "start_time": "2021-07-14T06:02:06.385Z"
   },
   {
    "duration": 89,
    "start_time": "2021-07-14T06:02:06.386Z"
   },
   {
    "duration": 90,
    "start_time": "2021-07-14T06:02:06.387Z"
   },
   {
    "duration": 91,
    "start_time": "2021-07-14T06:02:06.388Z"
   },
   {
    "duration": 51,
    "start_time": "2021-07-14T06:02:06.431Z"
   },
   {
    "duration": 51,
    "start_time": "2021-07-14T06:02:06.433Z"
   },
   {
    "duration": 52,
    "start_time": "2021-07-14T06:02:06.434Z"
   },
   {
    "duration": 55,
    "start_time": "2021-07-14T06:02:06.434Z"
   },
   {
    "duration": 56,
    "start_time": "2021-07-14T06:02:06.435Z"
   },
   {
    "duration": 57,
    "start_time": "2021-07-14T06:02:06.436Z"
   },
   {
    "duration": 118,
    "start_time": "2021-07-14T06:02:06.437Z"
   },
   {
    "duration": 120,
    "start_time": "2021-07-14T06:02:06.438Z"
   },
   {
    "duration": 121,
    "start_time": "2021-07-14T06:02:06.439Z"
   },
   {
    "duration": 122,
    "start_time": "2021-07-14T06:02:06.440Z"
   },
   {
    "duration": 124,
    "start_time": "2021-07-14T06:02:06.441Z"
   },
   {
    "duration": 125,
    "start_time": "2021-07-14T06:02:06.442Z"
   },
   {
    "duration": 122,
    "start_time": "2021-07-14T06:02:06.447Z"
   },
   {
    "duration": 124,
    "start_time": "2021-07-14T06:02:06.448Z"
   },
   {
    "duration": 125,
    "start_time": "2021-07-14T06:02:06.449Z"
   },
   {
    "duration": 126,
    "start_time": "2021-07-14T06:02:06.450Z"
   },
   {
    "duration": 1799,
    "start_time": "2021-07-14T06:02:31.058Z"
   },
   {
    "duration": 18,
    "start_time": "2021-07-14T06:02:32.860Z"
   },
   {
    "duration": 29,
    "start_time": "2021-07-14T06:02:32.881Z"
   },
   {
    "duration": 42,
    "start_time": "2021-07-14T06:02:32.912Z"
   },
   {
    "duration": 39,
    "start_time": "2021-07-14T06:02:32.957Z"
   },
   {
    "duration": 63,
    "start_time": "2021-07-14T06:02:32.998Z"
   },
   {
    "duration": 4,
    "start_time": "2021-07-14T06:02:33.064Z"
   },
   {
    "duration": 30,
    "start_time": "2021-07-14T06:02:33.071Z"
   },
   {
    "duration": 668,
    "start_time": "2021-07-14T06:02:33.105Z"
   },
   {
    "duration": 12,
    "start_time": "2021-07-14T06:02:33.775Z"
   },
   {
    "duration": 22,
    "start_time": "2021-07-14T06:02:33.789Z"
   },
   {
    "duration": 50,
    "start_time": "2021-07-14T06:02:33.813Z"
   },
   {
    "duration": 35,
    "start_time": "2021-07-14T06:02:33.865Z"
   },
   {
    "duration": 40,
    "start_time": "2021-07-14T06:02:33.902Z"
   },
   {
    "duration": 44,
    "start_time": "2021-07-14T06:02:33.944Z"
   },
   {
    "duration": 11,
    "start_time": "2021-07-14T06:02:33.990Z"
   },
   {
    "duration": 21,
    "start_time": "2021-07-14T06:02:34.003Z"
   },
   {
    "duration": 30,
    "start_time": "2021-07-14T06:02:34.026Z"
   },
   {
    "duration": 19,
    "start_time": "2021-07-14T06:02:34.059Z"
   },
   {
    "duration": 29,
    "start_time": "2021-07-14T06:02:34.080Z"
   },
   {
    "duration": 45,
    "start_time": "2021-07-14T06:02:34.111Z"
   },
   {
    "duration": 757,
    "start_time": "2021-07-14T06:02:34.159Z"
   },
   {
    "duration": 23,
    "start_time": "2021-07-14T06:02:34.919Z"
   },
   {
    "duration": 8,
    "start_time": "2021-07-14T06:02:34.956Z"
   },
   {
    "duration": 486,
    "start_time": "2021-07-14T06:02:34.966Z"
   },
   {
    "duration": 22,
    "start_time": "2021-07-14T06:02:35.458Z"
   },
   {
    "duration": 453,
    "start_time": "2021-07-14T06:02:35.483Z"
   },
   {
    "duration": 20,
    "start_time": "2021-07-14T06:02:35.939Z"
   },
   {
    "duration": 33,
    "start_time": "2021-07-14T06:02:35.962Z"
   },
   {
    "duration": 9,
    "start_time": "2021-07-14T06:02:35.997Z"
   },
   {
    "duration": 433,
    "start_time": "2021-07-14T06:02:36.008Z"
   },
   {
    "duration": 19,
    "start_time": "2021-07-14T06:02:36.425Z"
   },
   {
    "duration": 18,
    "start_time": "2021-07-14T06:02:36.427Z"
   },
   {
    "duration": 18,
    "start_time": "2021-07-14T06:02:36.429Z"
   },
   {
    "duration": 17,
    "start_time": "2021-07-14T06:02:36.431Z"
   },
   {
    "duration": 17,
    "start_time": "2021-07-14T06:02:36.432Z"
   },
   {
    "duration": 17,
    "start_time": "2021-07-14T06:02:36.434Z"
   },
   {
    "duration": 16,
    "start_time": "2021-07-14T06:02:36.436Z"
   },
   {
    "duration": 16,
    "start_time": "2021-07-14T06:02:36.437Z"
   },
   {
    "duration": 15,
    "start_time": "2021-07-14T06:02:36.439Z"
   },
   {
    "duration": 14,
    "start_time": "2021-07-14T06:02:36.441Z"
   },
   {
    "duration": 15,
    "start_time": "2021-07-14T06:02:36.442Z"
   },
   {
    "duration": 13,
    "start_time": "2021-07-14T06:02:36.445Z"
   },
   {
    "duration": 13,
    "start_time": "2021-07-14T06:02:36.446Z"
   },
   {
    "duration": 13,
    "start_time": "2021-07-14T06:02:36.448Z"
   },
   {
    "duration": 13,
    "start_time": "2021-07-14T06:02:36.449Z"
   },
   {
    "duration": 12,
    "start_time": "2021-07-14T06:02:36.451Z"
   },
   {
    "duration": 12,
    "start_time": "2021-07-14T06:02:36.452Z"
   },
   {
    "duration": 12,
    "start_time": "2021-07-14T06:02:36.454Z"
   },
   {
    "duration": 12,
    "start_time": "2021-07-14T06:02:36.455Z"
   },
   {
    "duration": 12,
    "start_time": "2021-07-14T06:02:36.456Z"
   },
   {
    "duration": 12,
    "start_time": "2021-07-14T06:02:36.457Z"
   },
   {
    "duration": 12,
    "start_time": "2021-07-14T06:02:36.459Z"
   },
   {
    "duration": 12,
    "start_time": "2021-07-14T06:02:36.460Z"
   },
   {
    "duration": 12,
    "start_time": "2021-07-14T06:02:36.461Z"
   },
   {
    "duration": 10,
    "start_time": "2021-07-14T06:02:36.464Z"
   },
   {
    "duration": 11,
    "start_time": "2021-07-14T06:02:36.465Z"
   },
   {
    "duration": 11,
    "start_time": "2021-07-14T06:02:36.466Z"
   },
   {
    "duration": 10,
    "start_time": "2021-07-14T06:02:36.468Z"
   },
   {
    "duration": 10,
    "start_time": "2021-07-14T06:02:36.469Z"
   },
   {
    "duration": 10,
    "start_time": "2021-07-14T06:02:36.470Z"
   },
   {
    "duration": 0,
    "start_time": "2021-07-14T06:02:36.482Z"
   },
   {
    "duration": -3,
    "start_time": "2021-07-14T06:02:36.486Z"
   },
   {
    "duration": -4,
    "start_time": "2021-07-14T06:02:36.488Z"
   },
   {
    "duration": -3,
    "start_time": "2021-07-14T06:02:36.489Z"
   },
   {
    "duration": 9714,
    "start_time": "2021-07-14T06:03:14.063Z"
   },
   {
    "duration": 18,
    "start_time": "2021-07-14T06:03:23.780Z"
   },
   {
    "duration": 36,
    "start_time": "2021-07-14T06:03:23.801Z"
   },
   {
    "duration": 32,
    "start_time": "2021-07-14T06:03:23.840Z"
   },
   {
    "duration": 64,
    "start_time": "2021-07-14T06:03:23.874Z"
   },
   {
    "duration": 36,
    "start_time": "2021-07-14T06:03:23.941Z"
   },
   {
    "duration": 5,
    "start_time": "2021-07-14T06:03:23.979Z"
   },
   {
    "duration": 34,
    "start_time": "2021-07-14T06:03:23.986Z"
   },
   {
    "duration": 678,
    "start_time": "2021-07-14T06:03:24.024Z"
   },
   {
    "duration": 11,
    "start_time": "2021-07-14T06:03:24.706Z"
   },
   {
    "duration": 37,
    "start_time": "2021-07-14T06:03:24.719Z"
   },
   {
    "duration": 24,
    "start_time": "2021-07-14T06:03:24.758Z"
   },
   {
    "duration": 39,
    "start_time": "2021-07-14T06:03:24.785Z"
   },
   {
    "duration": 53,
    "start_time": "2021-07-14T06:03:24.826Z"
   },
   {
    "duration": 44,
    "start_time": "2021-07-14T06:03:24.882Z"
   },
   {
    "duration": 27,
    "start_time": "2021-07-14T06:03:24.928Z"
   },
   {
    "duration": 32,
    "start_time": "2021-07-14T06:03:24.957Z"
   },
   {
    "duration": 31,
    "start_time": "2021-07-14T06:03:24.992Z"
   },
   {
    "duration": 30,
    "start_time": "2021-07-14T06:03:25.026Z"
   },
   {
    "duration": 26,
    "start_time": "2021-07-14T06:03:25.059Z"
   },
   {
    "duration": 13,
    "start_time": "2021-07-14T06:03:25.088Z"
   },
   {
    "duration": 772,
    "start_time": "2021-07-14T06:03:25.104Z"
   },
   {
    "duration": 22,
    "start_time": "2021-07-14T06:03:25.879Z"
   },
   {
    "duration": 7,
    "start_time": "2021-07-14T06:03:25.903Z"
   },
   {
    "duration": 499,
    "start_time": "2021-07-14T06:03:25.912Z"
   },
   {
    "duration": 21,
    "start_time": "2021-07-14T06:03:26.413Z"
   },
   {
    "duration": 456,
    "start_time": "2021-07-14T06:03:26.440Z"
   },
   {
    "duration": 9,
    "start_time": "2021-07-14T06:03:26.899Z"
   },
   {
    "duration": 40,
    "start_time": "2021-07-14T06:03:26.910Z"
   },
   {
    "duration": 21,
    "start_time": "2021-07-14T06:03:26.955Z"
   },
   {
    "duration": 358,
    "start_time": "2021-07-14T06:03:26.979Z"
   },
   {
    "duration": 20,
    "start_time": "2021-07-14T06:03:27.340Z"
   },
   {
    "duration": 562,
    "start_time": "2021-07-14T06:03:27.362Z"
   },
   {
    "duration": 55,
    "start_time": "2021-07-14T06:03:27.927Z"
   },
   {
    "duration": 494,
    "start_time": "2021-07-14T06:03:27.985Z"
   },
   {
    "duration": 24,
    "start_time": "2021-07-14T06:03:28.483Z"
   },
   {
    "duration": 653,
    "start_time": "2021-07-14T06:03:28.510Z"
   },
   {
    "duration": 10,
    "start_time": "2021-07-14T06:03:29.166Z"
   },
   {
    "duration": 41,
    "start_time": "2021-07-14T06:03:29.179Z"
   },
   {
    "duration": 618,
    "start_time": "2021-07-14T06:03:29.223Z"
   },
   {
    "duration": 27,
    "start_time": "2021-07-14T06:03:29.844Z"
   },
   {
    "duration": 8,
    "start_time": "2021-07-14T06:03:29.874Z"
   },
   {
    "duration": 577,
    "start_time": "2021-07-14T06:03:29.885Z"
   },
   {
    "duration": 14,
    "start_time": "2021-07-14T06:03:30.465Z"
   },
   {
    "duration": 2345,
    "start_time": "2021-07-14T06:03:30.483Z"
   },
   {
    "duration": 6,
    "start_time": "2021-07-14T06:03:32.830Z"
   },
   {
    "duration": 20,
    "start_time": "2021-07-14T06:03:32.855Z"
   },
   {
    "duration": 9,
    "start_time": "2021-07-14T06:03:32.878Z"
   },
   {
    "duration": 567,
    "start_time": "2021-07-14T06:03:32.889Z"
   },
   {
    "duration": 19,
    "start_time": "2021-07-14T06:03:33.458Z"
   },
   {
    "duration": 898,
    "start_time": "2021-07-14T06:03:33.479Z"
   },
   {
    "duration": 8,
    "start_time": "2021-07-14T06:03:34.380Z"
   },
   {
    "duration": 22,
    "start_time": "2021-07-14T06:03:34.391Z"
   },
   {
    "duration": 13,
    "start_time": "2021-07-14T06:03:34.416Z"
   },
   {
    "duration": 14,
    "start_time": "2021-07-14T06:03:34.456Z"
   },
   {
    "duration": 27,
    "start_time": "2021-07-14T06:03:34.473Z"
   },
   {
    "duration": 18,
    "start_time": "2021-07-14T06:03:34.503Z"
   },
   {
    "duration": 34,
    "start_time": "2021-07-14T06:03:34.524Z"
   },
   {
    "duration": 795,
    "start_time": "2021-07-14T06:03:34.561Z"
   },
   {
    "duration": 10,
    "start_time": "2021-07-14T06:03:35.358Z"
   },
   {
    "duration": 15,
    "start_time": "2021-07-14T06:03:35.370Z"
   },
   {
    "duration": 8,
    "start_time": "2021-07-14T06:03:35.388Z"
   },
   {
    "duration": 23,
    "start_time": "2021-07-14T06:03:35.398Z"
   },
   {
    "duration": 34,
    "start_time": "2021-07-14T06:03:35.424Z"
   },
   {
    "duration": 9,
    "start_time": "2021-07-14T06:03:35.461Z"
   }
  ],
  "kernelspec": {
   "display_name": "Python 3",
   "language": "python",
   "name": "python3"
  },
  "language_info": {
   "codemirror_mode": {
    "name": "ipython",
    "version": 3
   },
   "file_extension": ".py",
   "mimetype": "text/x-python",
   "name": "python",
   "nbconvert_exporter": "python",
   "pygments_lexer": "ipython3",
   "version": "3.8.5"
  },
  "toc": {
   "base_numbering": 1,
   "nav_menu": {},
   "number_sections": true,
   "sideBar": true,
   "skip_h1_title": true,
   "title_cell": "Table of Contents",
   "title_sidebar": "Contents",
   "toc_cell": false,
   "toc_position": {},
   "toc_section_display": true,
   "toc_window_display": false
  }
 },
 "nbformat": 4,
 "nbformat_minor": 4
}
