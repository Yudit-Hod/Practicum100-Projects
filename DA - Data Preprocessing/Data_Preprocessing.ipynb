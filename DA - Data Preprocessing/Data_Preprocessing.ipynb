{
 "cells": [
  {
   "cell_type": "markdown",
   "metadata": {},
   "source": [
    "# Analyzing borrowers’ risk of defaulting\n",
    "\n",
    "In this project we'll prepare a report for a bank’s loan division. We’ll need to find out if a customer’s marital status and number of children has an impact on whether they will default on a loan. The report will be based on data collected by the bank on customers’ credit worthiness.\n",
    "\n",
    "The report will be considered when building a credit scoring of a potential customer. We'll start with preprocessing the data including filling missing values, removing duplicates, changing data types and categorizing the data so we can make worthy and valueble conclusions."
   ]
  },
  {
   "cell_type": "markdown",
   "metadata": {},
   "source": [
    "##  Data file and general info"
   ]
  },
  {
   "cell_type": "code",
   "execution_count": 1,
   "metadata": {},
   "outputs": [
    {
     "name": "stdout",
     "output_type": "stream",
     "text": [
      "<class 'pandas.core.frame.DataFrame'>\n",
      "RangeIndex: 21525 entries, 0 to 21524\n",
      "Data columns (total 12 columns):\n",
      "children            21525 non-null int64\n",
      "days_employed       19351 non-null float64\n",
      "dob_years           21525 non-null int64\n",
      "education           21525 non-null object\n",
      "education_id        21525 non-null int64\n",
      "family_status       21525 non-null object\n",
      "family_status_id    21525 non-null int64\n",
      "gender              21525 non-null object\n",
      "income_type         21525 non-null object\n",
      "debt                21525 non-null int64\n",
      "total_income        19351 non-null float64\n",
      "purpose             21525 non-null object\n",
      "dtypes: float64(2), int64(5), object(5)\n",
      "memory usage: 2.0+ MB\n"
     ]
    },
    {
     "data": {
      "text/plain": [
       "None"
      ]
     },
     "metadata": {},
     "output_type": "display_data"
    },
    {
     "data": {
      "text/html": [
       "<div>\n",
       "<style scoped>\n",
       "    .dataframe tbody tr th:only-of-type {\n",
       "        vertical-align: middle;\n",
       "    }\n",
       "\n",
       "    .dataframe tbody tr th {\n",
       "        vertical-align: top;\n",
       "    }\n",
       "\n",
       "    .dataframe thead th {\n",
       "        text-align: right;\n",
       "    }\n",
       "</style>\n",
       "<table border=\"1\" class=\"dataframe\">\n",
       "  <thead>\n",
       "    <tr style=\"text-align: right;\">\n",
       "      <th></th>\n",
       "      <th>children</th>\n",
       "      <th>days_employed</th>\n",
       "      <th>dob_years</th>\n",
       "      <th>education</th>\n",
       "      <th>education_id</th>\n",
       "      <th>family_status</th>\n",
       "      <th>family_status_id</th>\n",
       "      <th>gender</th>\n",
       "      <th>income_type</th>\n",
       "      <th>debt</th>\n",
       "      <th>total_income</th>\n",
       "      <th>purpose</th>\n",
       "    </tr>\n",
       "  </thead>\n",
       "  <tbody>\n",
       "    <tr>\n",
       "      <td>0</td>\n",
       "      <td>1</td>\n",
       "      <td>-8437.673028</td>\n",
       "      <td>42</td>\n",
       "      <td>bachelor's degree</td>\n",
       "      <td>0</td>\n",
       "      <td>married</td>\n",
       "      <td>0</td>\n",
       "      <td>F</td>\n",
       "      <td>employee</td>\n",
       "      <td>0</td>\n",
       "      <td>40620.102</td>\n",
       "      <td>purchase of the house</td>\n",
       "    </tr>\n",
       "    <tr>\n",
       "      <td>1</td>\n",
       "      <td>1</td>\n",
       "      <td>-4024.803754</td>\n",
       "      <td>36</td>\n",
       "      <td>secondary education</td>\n",
       "      <td>1</td>\n",
       "      <td>married</td>\n",
       "      <td>0</td>\n",
       "      <td>F</td>\n",
       "      <td>employee</td>\n",
       "      <td>0</td>\n",
       "      <td>17932.802</td>\n",
       "      <td>car purchase</td>\n",
       "    </tr>\n",
       "    <tr>\n",
       "      <td>2</td>\n",
       "      <td>0</td>\n",
       "      <td>-5623.422610</td>\n",
       "      <td>33</td>\n",
       "      <td>Secondary Education</td>\n",
       "      <td>1</td>\n",
       "      <td>married</td>\n",
       "      <td>0</td>\n",
       "      <td>M</td>\n",
       "      <td>employee</td>\n",
       "      <td>0</td>\n",
       "      <td>23341.752</td>\n",
       "      <td>purchase of the house</td>\n",
       "    </tr>\n",
       "    <tr>\n",
       "      <td>3</td>\n",
       "      <td>3</td>\n",
       "      <td>-4124.747207</td>\n",
       "      <td>32</td>\n",
       "      <td>secondary education</td>\n",
       "      <td>1</td>\n",
       "      <td>married</td>\n",
       "      <td>0</td>\n",
       "      <td>M</td>\n",
       "      <td>employee</td>\n",
       "      <td>0</td>\n",
       "      <td>42820.568</td>\n",
       "      <td>supplementary education</td>\n",
       "    </tr>\n",
       "    <tr>\n",
       "      <td>4</td>\n",
       "      <td>0</td>\n",
       "      <td>340266.072047</td>\n",
       "      <td>53</td>\n",
       "      <td>secondary education</td>\n",
       "      <td>1</td>\n",
       "      <td>civil partnership</td>\n",
       "      <td>1</td>\n",
       "      <td>F</td>\n",
       "      <td>retiree</td>\n",
       "      <td>0</td>\n",
       "      <td>25378.572</td>\n",
       "      <td>to have a wedding</td>\n",
       "    </tr>\n",
       "    <tr>\n",
       "      <td>5</td>\n",
       "      <td>0</td>\n",
       "      <td>-926.185831</td>\n",
       "      <td>27</td>\n",
       "      <td>bachelor's degree</td>\n",
       "      <td>0</td>\n",
       "      <td>civil partnership</td>\n",
       "      <td>1</td>\n",
       "      <td>M</td>\n",
       "      <td>business</td>\n",
       "      <td>0</td>\n",
       "      <td>40922.170</td>\n",
       "      <td>purchase of the house</td>\n",
       "    </tr>\n",
       "    <tr>\n",
       "      <td>6</td>\n",
       "      <td>0</td>\n",
       "      <td>-2879.202052</td>\n",
       "      <td>43</td>\n",
       "      <td>bachelor's degree</td>\n",
       "      <td>0</td>\n",
       "      <td>married</td>\n",
       "      <td>0</td>\n",
       "      <td>F</td>\n",
       "      <td>business</td>\n",
       "      <td>0</td>\n",
       "      <td>38484.156</td>\n",
       "      <td>housing transactions</td>\n",
       "    </tr>\n",
       "    <tr>\n",
       "      <td>7</td>\n",
       "      <td>0</td>\n",
       "      <td>-152.779569</td>\n",
       "      <td>50</td>\n",
       "      <td>SECONDARY EDUCATION</td>\n",
       "      <td>1</td>\n",
       "      <td>married</td>\n",
       "      <td>0</td>\n",
       "      <td>M</td>\n",
       "      <td>employee</td>\n",
       "      <td>0</td>\n",
       "      <td>21731.829</td>\n",
       "      <td>education</td>\n",
       "    </tr>\n",
       "    <tr>\n",
       "      <td>8</td>\n",
       "      <td>2</td>\n",
       "      <td>-6929.865299</td>\n",
       "      <td>35</td>\n",
       "      <td>BACHELOR'S DEGREE</td>\n",
       "      <td>0</td>\n",
       "      <td>civil partnership</td>\n",
       "      <td>1</td>\n",
       "      <td>F</td>\n",
       "      <td>employee</td>\n",
       "      <td>0</td>\n",
       "      <td>15337.093</td>\n",
       "      <td>having a wedding</td>\n",
       "    </tr>\n",
       "    <tr>\n",
       "      <td>9</td>\n",
       "      <td>0</td>\n",
       "      <td>-2188.756445</td>\n",
       "      <td>41</td>\n",
       "      <td>secondary education</td>\n",
       "      <td>1</td>\n",
       "      <td>married</td>\n",
       "      <td>0</td>\n",
       "      <td>M</td>\n",
       "      <td>employee</td>\n",
       "      <td>0</td>\n",
       "      <td>23108.150</td>\n",
       "      <td>purchase of the house for my family</td>\n",
       "    </tr>\n",
       "  </tbody>\n",
       "</table>\n",
       "</div>"
      ],
      "text/plain": [
       "   children  days_employed  dob_years            education  education_id  \\\n",
       "0         1   -8437.673028         42    bachelor's degree             0   \n",
       "1         1   -4024.803754         36  secondary education             1   \n",
       "2         0   -5623.422610         33  Secondary Education             1   \n",
       "3         3   -4124.747207         32  secondary education             1   \n",
       "4         0  340266.072047         53  secondary education             1   \n",
       "5         0    -926.185831         27    bachelor's degree             0   \n",
       "6         0   -2879.202052         43    bachelor's degree             0   \n",
       "7         0    -152.779569         50  SECONDARY EDUCATION             1   \n",
       "8         2   -6929.865299         35    BACHELOR'S DEGREE             0   \n",
       "9         0   -2188.756445         41  secondary education             1   \n",
       "\n",
       "       family_status  family_status_id gender income_type  debt  total_income  \\\n",
       "0            married                 0      F    employee     0     40620.102   \n",
       "1            married                 0      F    employee     0     17932.802   \n",
       "2            married                 0      M    employee     0     23341.752   \n",
       "3            married                 0      M    employee     0     42820.568   \n",
       "4  civil partnership                 1      F     retiree     0     25378.572   \n",
       "5  civil partnership                 1      M    business     0     40922.170   \n",
       "6            married                 0      F    business     0     38484.156   \n",
       "7            married                 0      M    employee     0     21731.829   \n",
       "8  civil partnership                 1      F    employee     0     15337.093   \n",
       "9            married                 0      M    employee     0     23108.150   \n",
       "\n",
       "                               purpose  \n",
       "0                purchase of the house  \n",
       "1                         car purchase  \n",
       "2                purchase of the house  \n",
       "3              supplementary education  \n",
       "4                    to have a wedding  \n",
       "5                purchase of the house  \n",
       "6                 housing transactions  \n",
       "7                            education  \n",
       "8                     having a wedding  \n",
       "9  purchase of the house for my family  "
      ]
     },
     "metadata": {},
     "output_type": "display_data"
    }
   ],
   "source": [
    "import pandas as pd\n",
    "import nltk\n",
    "from nltk.stem import SnowballStemmer\n",
    "from nltk.stem import WordNetLemmatizer\n",
    "from nltk.corpus import stopwords\n",
    "\n",
    "#open the data file\n",
    "try:\n",
    "    df = pd.read_csv('credit_scoring_eng.csv')\n",
    "except:\n",
    "    df = pd.read_csv('/datasets/credit_scoring_eng.csv')\n",
    "\n",
    "#show general information\n",
    "display(df.info(),df.head(10))"
   ]
  },
  {
   "cell_type": "code",
   "execution_count": 2,
   "metadata": {},
   "outputs": [
    {
     "data": {
      "text/plain": [
       "[array([ 1,  0,  3,  2, -1,  4, 20,  5]),\n",
       " array([42, 36, 33, 32, 53, 27, 43, 50, 35, 41, 40, 65, 54, 56, 26, 48, 24,\n",
       "        21, 57, 67, 28, 63, 62, 47, 34, 68, 25, 31, 30, 20, 49, 37, 45, 61,\n",
       "        64, 44, 52, 46, 23, 38, 39, 51,  0, 59, 29, 60, 55, 58, 71, 22, 73,\n",
       "        66, 69, 19, 72, 70, 74, 75]),\n",
       " array([\"bachelor's degree\", 'secondary education', 'Secondary Education',\n",
       "        'SECONDARY EDUCATION', \"BACHELOR'S DEGREE\", 'some college',\n",
       "        'primary education', \"Bachelor's Degree\", 'SOME COLLEGE',\n",
       "        'Some College', 'PRIMARY EDUCATION', 'Primary Education',\n",
       "        'Graduate Degree', 'GRADUATE DEGREE', 'graduate degree'],\n",
       "       dtype=object),\n",
       " array(['married', 'civil partnership', 'widow / widower', 'divorced',\n",
       "        'unmarried'], dtype=object),\n",
       " array(['F', 'M', 'XNA'], dtype=object),\n",
       " array(['employee', 'retiree', 'business', 'civil servant', 'unemployed',\n",
       "        'entrepreneur', 'student', 'paternity / maternity leave'],\n",
       "       dtype=object),\n",
       " array(['purchase of the house', 'car purchase', 'supplementary education',\n",
       "        'to have a wedding', 'housing transactions', 'education',\n",
       "        'having a wedding', 'purchase of the house for my family',\n",
       "        'buy real estate', 'buy commercial real estate',\n",
       "        'buy residential real estate', 'construction of own property',\n",
       "        'property', 'building a property', 'buying a second-hand car',\n",
       "        'buying my own car', 'transactions with commercial real estate',\n",
       "        'building a real estate', 'housing',\n",
       "        'transactions with my real estate', 'cars', 'to become educated',\n",
       "        'second-hand car purchase', 'getting an education', 'car',\n",
       "        'wedding ceremony', 'to get a supplementary education',\n",
       "        'purchase of my own house', 'real estate transactions',\n",
       "        'getting higher education', 'to own a car', 'purchase of a car',\n",
       "        'profile education', 'university education',\n",
       "        'buying property for renting out', 'to buy a car',\n",
       "        'housing renovation', 'going to university'], dtype=object)]"
      ]
     },
     "metadata": {},
     "output_type": "display_data"
    }
   ],
   "source": [
    "#show additional information\n",
    "display(\n",
    "    [df['children'].unique(),df['dob_years'].unique(), df['education'].unique(), \n",
    "     df['family_status'].unique(), df['gender'].unique(), df['income_type'].unique(), df['purpose'].unique(), ]\n",
    "       )"
   ]
  },
  {
   "cell_type": "markdown",
   "metadata": {},
   "source": [
    "### Conclusion"
   ]
  },
  {
   "cell_type": "markdown",
   "metadata": {},
   "source": [
    "- There are missing values in `days_employed` and `total_income` columns. They have the same amount of records, so it's better to check if it's related to each other.\n",
    "- A more convinient way to call the column `dob_years`, would probably be `age`.\n",
    "- Ask the data engineers how and from where the information about `days_employed` gathered, becuase it doesn't make any sense.\n",
    "- Maybe we can reduce memory usage by changing the int64, to int32.\n",
    "- The `education` values have duplicates, thus they should be standardized, lowercase preffered.\n",
    "- The `children` column has some negative or extreme values that doesn't make sense. Also the `dob_years` column have some values of 0 which is probably wrong.\n",
    "- The `purpose` column should become standardized to simple categories by stemming and lemmatizing.\n",
    "- Maybe the `total_income` should be changed to int, because in such big numbers the floating point is irelevant.\n",
    "- The `debt` coulmn should be boolean.\n",
    "- The `gender` column has a 'XNA' value which probably means the standart gender value was missing, we'll think how to deal with it based on other information."
   ]
  },
  {
   "cell_type": "markdown",
   "metadata": {},
   "source": [
    "## Data preprocessing"
   ]
  },
  {
   "cell_type": "markdown",
   "metadata": {},
   "source": [
    "### Processing missing values"
   ]
  },
  {
   "cell_type": "markdown",
   "metadata": {},
   "source": [
    "First we will save a copy of the original data frame and change the `dob_years` to `age`. Than we'll check on which columns the missing values are."
   ]
  },
  {
   "cell_type": "code",
   "execution_count": 3,
   "metadata": {},
   "outputs": [
    {
     "data": {
      "text/plain": [
       "Index(['children', 'days_employed', 'age', 'education', 'education_id',\n",
       "       'family_status', 'family_status_id', 'gender', 'income_type', 'debt',\n",
       "       'total_income', 'purpose'],\n",
       "      dtype='object')"
      ]
     },
     "execution_count": 3,
     "metadata": {},
     "output_type": "execute_result"
    }
   ],
   "source": [
    "#save a copy of the original dataset\n",
    "df_original = df.copy()\n",
    "#replace the 'dob_years' column name to 'age'\n",
    "column_name = list(df.columns)\n",
    "column_name[2] = 'age'\n",
    "df.set_axis(column_name,axis = 'columns',inplace = True)\n",
    "#check if changed\n",
    "df.columns"
   ]
  },
  {
   "cell_type": "markdown",
   "metadata": {},
   "source": [
    "Now we'll check for the 'XNA' value in the `gender` column.   We'll check the amount and decide how to act."
   ]
  },
  {
   "cell_type": "code",
   "execution_count": 4,
   "metadata": {},
   "outputs": [
    {
     "data": {
      "text/html": [
       "<div>\n",
       "<style scoped>\n",
       "    .dataframe tbody tr th:only-of-type {\n",
       "        vertical-align: middle;\n",
       "    }\n",
       "\n",
       "    .dataframe tbody tr th {\n",
       "        vertical-align: top;\n",
       "    }\n",
       "\n",
       "    .dataframe thead th {\n",
       "        text-align: right;\n",
       "    }\n",
       "</style>\n",
       "<table border=\"1\" class=\"dataframe\">\n",
       "  <thead>\n",
       "    <tr style=\"text-align: right;\">\n",
       "      <th></th>\n",
       "      <th>children</th>\n",
       "      <th>days_employed</th>\n",
       "      <th>age</th>\n",
       "      <th>education</th>\n",
       "      <th>education_id</th>\n",
       "      <th>family_status</th>\n",
       "      <th>family_status_id</th>\n",
       "      <th>gender</th>\n",
       "      <th>income_type</th>\n",
       "      <th>debt</th>\n",
       "      <th>total_income</th>\n",
       "      <th>purpose</th>\n",
       "    </tr>\n",
       "  </thead>\n",
       "  <tbody>\n",
       "    <tr>\n",
       "      <td>10701</td>\n",
       "      <td>0</td>\n",
       "      <td>-2358.600502</td>\n",
       "      <td>24</td>\n",
       "      <td>some college</td>\n",
       "      <td>2</td>\n",
       "      <td>civil partnership</td>\n",
       "      <td>1</td>\n",
       "      <td>XNA</td>\n",
       "      <td>business</td>\n",
       "      <td>0</td>\n",
       "      <td>32624.825</td>\n",
       "      <td>buy real estate</td>\n",
       "    </tr>\n",
       "  </tbody>\n",
       "</table>\n",
       "</div>"
      ],
      "text/plain": [
       "       children  days_employed  age     education  education_id  \\\n",
       "10701         0   -2358.600502   24  some college             2   \n",
       "\n",
       "           family_status  family_status_id gender income_type  debt  \\\n",
       "10701  civil partnership                 1    XNA    business     0   \n",
       "\n",
       "       total_income          purpose  \n",
       "10701     32624.825  buy real estate  "
      ]
     },
     "execution_count": 4,
     "metadata": {},
     "output_type": "execute_result"
    }
   ],
   "source": [
    "df[df['gender'] == 'XNA']"
   ]
  },
  {
   "cell_type": "markdown",
   "metadata": {},
   "source": [
    "There is only one record, so it will be better to remove it than guessing the gender."
   ]
  },
  {
   "cell_type": "code",
   "execution_count": 5,
   "metadata": {},
   "outputs": [
    {
     "data": {
      "text/plain": [
       "array(['F', 'M'], dtype=object)"
      ]
     },
     "execution_count": 5,
     "metadata": {},
     "output_type": "execute_result"
    }
   ],
   "source": [
    "#remove the row that contains 'XNA' value\n",
    "df = df[df['gender'] != 'XNA']\n",
    "#check the change\n",
    "df['gender'].unique()"
   ]
  },
  {
   "cell_type": "markdown",
   "metadata": {},
   "source": [
    "No more 'XNA' values."
   ]
  },
  {
   "cell_type": "markdown",
   "metadata": {},
   "source": [
    "There are also some negative values in `children` and `days_employed` which don't make sense. We will change them at first to positive numbers."
   ]
  },
  {
   "cell_type": "code",
   "execution_count": 6,
   "metadata": {},
   "outputs": [],
   "source": [
    "#make all values positive\n",
    "df['days_employed'] = abs(df['days_employed'])\n",
    "df['children'] = abs(df['children'])"
   ]
  },
  {
   "cell_type": "markdown",
   "metadata": {},
   "source": [
    "The column `dob_years` has been changed successfully to`age`, there are only two genders categories and all values are positive!\n",
    "Now for the missing values:"
   ]
  },
  {
   "cell_type": "code",
   "execution_count": 7,
   "metadata": {},
   "outputs": [
    {
     "data": {
      "text/plain": [
       "children             0.000000\n",
       "days_employed       10.100353\n",
       "age                  0.000000\n",
       "education            0.000000\n",
       "education_id         0.000000\n",
       "family_status        0.000000\n",
       "family_status_id     0.000000\n",
       "gender               0.000000\n",
       "income_type          0.000000\n",
       "debt                 0.000000\n",
       "total_income        10.100353\n",
       "purpose              0.000000\n",
       "dtype: float64"
      ]
     },
     "execution_count": 7,
     "metadata": {},
     "output_type": "execute_result"
    }
   ],
   "source": [
    "#check the misiing values by columns, show in percentage\n",
    "df.isna().sum()*100/len(df)"
   ]
  },
  {
   "cell_type": "code",
   "execution_count": 8,
   "metadata": {},
   "outputs": [
    {
     "data": {
      "text/plain": [
       "2174"
      ]
     },
     "execution_count": 8,
     "metadata": {},
     "output_type": "execute_result"
    }
   ],
   "source": [
    "#check if all the missing values related to each other\n",
    "len(df[df['days_employed'].isnull() & df['total_income'].isnull()])"
   ]
  },
  {
   "cell_type": "markdown",
   "metadata": {},
   "source": [
    "As we can see, the values of `'total_income` and `days_employed` *missing both at the same rows*.\n",
    "Probably they related to each other, maybe calculated one from another. The percentage of the missing values is around 10% of all the records. Now we will check if there's a difference between the genders."
   ]
  },
  {
   "cell_type": "code",
   "execution_count": 9,
   "metadata": {},
   "outputs": [
    {
     "data": {
      "text/plain": [
       "F    1484\n",
       "M     690\n",
       "Name: gender, dtype: int64"
      ]
     },
     "execution_count": 9,
     "metadata": {},
     "output_type": "execute_result"
    }
   ],
   "source": [
    "#check if the missing values related to a gender\n",
    "missing_by_gender = df[df['days_employed'].isnull()]['gender'].value_counts()\n",
    "missing_by_gender"
   ]
  },
  {
   "cell_type": "markdown",
   "metadata": {},
   "source": [
    "Women's records missing values are more then twice then men's. We can try to evaluate the total income, based on other parameters too. The total income is a quantitative variables so we can try to fill it with median or mean.\n",
    "We'll check if there's a differnce in the total income based on education and the gender to decide how to fill the missing values. Also we'll check why more women lack that information. We won't change the `days_employed` values because we don't need them for our analyzings right now.\n",
    "First we will check what is the percentage of the missing values by gender:"
   ]
  },
  {
   "cell_type": "code",
   "execution_count": 10,
   "metadata": {},
   "outputs": [
    {
     "name": "stdout",
     "output_type": "stream",
     "text": [
      "The precentage of women missing values: 10.42%\n",
      "The precentage of man missing values: 9.47%\n"
     ]
    }
   ],
   "source": [
    "#totals of each gender\n",
    "totals_gender = df['gender'].value_counts()\n",
    "\n",
    "#calculate the precentage of the missing values by gender\n",
    "women_precentage = missing_by_gender[0]/totals_gender[0]\n",
    "print('The precentage of women missing values: {:.2%}'.format(women_precentage))\n",
    "men_precentage = missing_by_gender[1]/totals_gender[1]\n",
    "print('The precentage of man missing values: {:.2%}'.format(men_precentage))"
   ]
  },
  {
   "cell_type": "markdown",
   "metadata": {},
   "source": [
    "It doesn't seem to tend by gender, it has almost the same percantge as the missing values in total.\n",
    "Let's check if there are other tendencies "
   ]
  },
  {
   "cell_type": "code",
   "execution_count": 11,
   "metadata": {},
   "outputs": [
    {
     "name": "stdout",
     "output_type": "stream",
     "text": [
      "The precentage of employees missing values: 9.94%\n",
      "The precentage of businesses missing values: 9.99%\n",
      "The precentage of retirees missing values: 10.71%\n",
      "The precentage of civil servants missing values: 10.08%\n",
      "The precentage of entrepreneur missing values: 50.00%\n"
     ]
    }
   ],
   "source": [
    "#check if the missing values related to the type of income\n",
    "missing_by_income = df[df['days_employed'].isnull()]['income_type'].value_counts()\n",
    "totals_income = df['income_type'].value_counts()\n",
    "#print(totals_income) for knowing the right index\n",
    "#print()\n",
    "print('The precentage of employees missing values: {:.2%}'.format(missing_by_income[0]/totals_income[0]))\n",
    "print('The precentage of businesses missing values: {:.2%}'.format(missing_by_income[1]/totals_income[1]))\n",
    "print('The precentage of retirees missing values: {:.2%}'.format(missing_by_income[2]/totals_income[2]))\n",
    "print('The precentage of civil servants missing values: {:.2%}'.format(missing_by_income[3]/totals_income[3]))\n",
    "print('The precentage of entrepreneur missing values: {:.2%}'.format(missing_by_income[4]/totals_income[4]))"
   ]
  },
  {
   "cell_type": "markdown",
   "metadata": {},
   "source": [
    "Again we see that the values are about the same, except the entrepreneur. Let's check!"
   ]
  },
  {
   "cell_type": "code",
   "execution_count": 12,
   "metadata": {},
   "outputs": [
    {
     "data": {
      "text/plain": [
       "M    1\n",
       "F    1\n",
       "Name: gender, dtype: int64"
      ]
     },
     "execution_count": 12,
     "metadata": {},
     "output_type": "execute_result"
    }
   ],
   "source": [
    "df[df['income_type'] == 'entrepreneur']['gender'].value_counts()"
   ]
  },
  {
   "cell_type": "markdown",
   "metadata": {},
   "source": [
    "We have only two records so the missing values are not related to income type."
   ]
  },
  {
   "cell_type": "code",
   "execution_count": 13,
   "metadata": {},
   "outputs": [
    {
     "name": "stdout",
     "output_type": "stream",
     "text": [
      "The precentage of married missing values: 9.99%\n",
      "The precentage of civil partnership missing values: 10.58%\n",
      "The precentage of unmarried missing values: 10.24%\n",
      "The precentage of divorced missing values: 9.37%\n",
      "The precentage of widow / widower missing values: 9.90%\n"
     ]
    }
   ],
   "source": [
    "missing_by_status = df[df['days_employed'].isnull()]['family_status'].value_counts()\n",
    "missing_by_status\n",
    "totals_status = df['family_status'].value_counts()\n",
    "#print(totals_status) for knowing the right index\n",
    "#print()\n",
    "print('The precentage of married missing values: {:.2%}'.format(missing_by_status[0]/totals_status[0]))\n",
    "print('The precentage of civil partnership missing values: {:.2%}'.format(missing_by_status[1]/totals_status[1]))\n",
    "print('The precentage of unmarried missing values: {:.2%}'.format(missing_by_status[2]/totals_status[2]))\n",
    "print('The precentage of divorced missing values: {:.2%}'.format(missing_by_status[3]/totals_status[3]))\n",
    "print('The precentage of widow / widower missing values: {:.2%}'.format(missing_by_status[4]/totals_status[4]))"
   ]
  },
  {
   "cell_type": "markdown",
   "metadata": {},
   "source": [
    "It seems like there is no clear tendecy, and the percentage still the same. We'll try to think of a strategy for filling the missing values. First we'll try to fill the total income column. Let's see if the income depend on other parameters. Usually the education and the type of income affect the income, also the gender..."
   ]
  },
  {
   "cell_type": "code",
   "execution_count": 14,
   "metadata": {},
   "outputs": [
    {
     "data": {
      "text/html": [
       "<div>\n",
       "<style scoped>\n",
       "    .dataframe tbody tr th:only-of-type {\n",
       "        vertical-align: middle;\n",
       "    }\n",
       "\n",
       "    .dataframe tbody tr th {\n",
       "        vertical-align: top;\n",
       "    }\n",
       "\n",
       "    .dataframe thead tr th {\n",
       "        text-align: left;\n",
       "    }\n",
       "\n",
       "    .dataframe thead tr:last-of-type th {\n",
       "        text-align: right;\n",
       "    }\n",
       "</style>\n",
       "<table border=\"1\" class=\"dataframe\">\n",
       "  <thead>\n",
       "    <tr>\n",
       "      <th></th>\n",
       "      <th colspan=\"2\" halign=\"left\">total_income</th>\n",
       "    </tr>\n",
       "    <tr>\n",
       "      <th></th>\n",
       "      <th>mean</th>\n",
       "      <th>median</th>\n",
       "    </tr>\n",
       "    <tr>\n",
       "      <th>education</th>\n",
       "      <th></th>\n",
       "      <th></th>\n",
       "    </tr>\n",
       "  </thead>\n",
       "  <tbody>\n",
       "    <tr>\n",
       "      <td>bachelor's degree</td>\n",
       "      <td>33142.802434</td>\n",
       "      <td>28054.5310</td>\n",
       "    </tr>\n",
       "    <tr>\n",
       "      <td>graduate degree</td>\n",
       "      <td>27960.024667</td>\n",
       "      <td>25161.5835</td>\n",
       "    </tr>\n",
       "    <tr>\n",
       "      <td>primary education</td>\n",
       "      <td>21144.882211</td>\n",
       "      <td>18741.9760</td>\n",
       "    </tr>\n",
       "    <tr>\n",
       "      <td>secondary education</td>\n",
       "      <td>24594.503037</td>\n",
       "      <td>21836.5830</td>\n",
       "    </tr>\n",
       "    <tr>\n",
       "      <td>some college</td>\n",
       "      <td>29040.132990</td>\n",
       "      <td>25608.7945</td>\n",
       "    </tr>\n",
       "  </tbody>\n",
       "</table>\n",
       "</div>"
      ],
      "text/plain": [
       "                     total_income            \n",
       "                             mean      median\n",
       "education                                    \n",
       "bachelor's degree    33142.802434  28054.5310\n",
       "graduate degree      27960.024667  25161.5835\n",
       "primary education    21144.882211  18741.9760\n",
       "secondary education  24594.503037  21836.5830\n",
       "some college         29040.132990  25608.7945"
      ]
     },
     "execution_count": 14,
     "metadata": {},
     "output_type": "execute_result"
    }
   ],
   "source": [
    "#check the difference in the total income based on education\n",
    "#first standardize the education column so it will be easier to analayz\n",
    "df['education'] = df['education'].str.lower()\n",
    "df.groupby('education').agg({'total_income':['mean', 'median']})"
   ]
  },
  {
   "cell_type": "markdown",
   "metadata": {},
   "source": [
    "We can see there are differences in the total income, based on the eduction. Now we'll check if it also depends on income type and gender."
   ]
  },
  {
   "cell_type": "code",
   "execution_count": 15,
   "metadata": {},
   "outputs": [
    {
     "data": {
      "text/html": [
       "<div>\n",
       "<style scoped>\n",
       "    .dataframe tbody tr th:only-of-type {\n",
       "        vertical-align: middle;\n",
       "    }\n",
       "\n",
       "    .dataframe tbody tr th {\n",
       "        vertical-align: top;\n",
       "    }\n",
       "\n",
       "    .dataframe thead tr th {\n",
       "        text-align: left;\n",
       "    }\n",
       "\n",
       "    .dataframe thead tr:last-of-type th {\n",
       "        text-align: right;\n",
       "    }\n",
       "</style>\n",
       "<table border=\"1\" class=\"dataframe\">\n",
       "  <thead>\n",
       "    <tr>\n",
       "      <th></th>\n",
       "      <th></th>\n",
       "      <th colspan=\"2\" halign=\"left\">total_income</th>\n",
       "    </tr>\n",
       "    <tr>\n",
       "      <th></th>\n",
       "      <th></th>\n",
       "      <th>mean</th>\n",
       "      <th>median</th>\n",
       "    </tr>\n",
       "    <tr>\n",
       "      <th>income_type</th>\n",
       "      <th>gender</th>\n",
       "      <th></th>\n",
       "      <th></th>\n",
       "    </tr>\n",
       "  </thead>\n",
       "  <tbody>\n",
       "    <tr>\n",
       "      <td rowspan=\"2\" valign=\"top\">business</td>\n",
       "      <td>F</td>\n",
       "      <td>29475.489877</td>\n",
       "      <td>25731.3245</td>\n",
       "    </tr>\n",
       "    <tr>\n",
       "      <td>M</td>\n",
       "      <td>37284.334474</td>\n",
       "      <td>31491.0080</td>\n",
       "    </tr>\n",
       "    <tr>\n",
       "      <td rowspan=\"2\" valign=\"top\">civil servant</td>\n",
       "      <td>F</td>\n",
       "      <td>24908.849830</td>\n",
       "      <td>21917.1980</td>\n",
       "    </tr>\n",
       "    <tr>\n",
       "      <td>M</td>\n",
       "      <td>34036.170503</td>\n",
       "      <td>29754.3915</td>\n",
       "    </tr>\n",
       "    <tr>\n",
       "      <td rowspan=\"2\" valign=\"top\">employee</td>\n",
       "      <td>F</td>\n",
       "      <td>23818.105441</td>\n",
       "      <td>20898.4980</td>\n",
       "    </tr>\n",
       "    <tr>\n",
       "      <td>M</td>\n",
       "      <td>28956.563225</td>\n",
       "      <td>25945.7880</td>\n",
       "    </tr>\n",
       "    <tr>\n",
       "      <td rowspan=\"2\" valign=\"top\">entrepreneur</td>\n",
       "      <td>F</td>\n",
       "      <td>79866.103000</td>\n",
       "      <td>79866.1030</td>\n",
       "    </tr>\n",
       "    <tr>\n",
       "      <td>M</td>\n",
       "      <td>NaN</td>\n",
       "      <td>NaN</td>\n",
       "    </tr>\n",
       "    <tr>\n",
       "      <td>paternity / maternity leave</td>\n",
       "      <td>F</td>\n",
       "      <td>8612.661000</td>\n",
       "      <td>8612.6610</td>\n",
       "    </tr>\n",
       "    <tr>\n",
       "      <td rowspan=\"2\" valign=\"top\">retiree</td>\n",
       "      <td>F</td>\n",
       "      <td>21446.167378</td>\n",
       "      <td>18529.2465</td>\n",
       "    </tr>\n",
       "    <tr>\n",
       "      <td>M</td>\n",
       "      <td>24117.476626</td>\n",
       "      <td>20918.3620</td>\n",
       "    </tr>\n",
       "    <tr>\n",
       "      <td>student</td>\n",
       "      <td>M</td>\n",
       "      <td>15712.260000</td>\n",
       "      <td>15712.2600</td>\n",
       "    </tr>\n",
       "    <tr>\n",
       "      <td rowspan=\"2\" valign=\"top\">unemployed</td>\n",
       "      <td>F</td>\n",
       "      <td>32435.602000</td>\n",
       "      <td>32435.6020</td>\n",
       "    </tr>\n",
       "    <tr>\n",
       "      <td>M</td>\n",
       "      <td>9593.119000</td>\n",
       "      <td>9593.1190</td>\n",
       "    </tr>\n",
       "  </tbody>\n",
       "</table>\n",
       "</div>"
      ],
      "text/plain": [
       "                                    total_income            \n",
       "                                            mean      median\n",
       "income_type                 gender                          \n",
       "business                    F       29475.489877  25731.3245\n",
       "                            M       37284.334474  31491.0080\n",
       "civil servant               F       24908.849830  21917.1980\n",
       "                            M       34036.170503  29754.3915\n",
       "employee                    F       23818.105441  20898.4980\n",
       "                            M       28956.563225  25945.7880\n",
       "entrepreneur                F       79866.103000  79866.1030\n",
       "                            M                NaN         NaN\n",
       "paternity / maternity leave F        8612.661000   8612.6610\n",
       "retiree                     F       21446.167378  18529.2465\n",
       "                            M       24117.476626  20918.3620\n",
       "student                     M       15712.260000  15712.2600\n",
       "unemployed                  F       32435.602000  32435.6020\n",
       "                            M        9593.119000   9593.1190"
      ]
     },
     "execution_count": 15,
     "metadata": {},
     "output_type": "execute_result"
    }
   ],
   "source": [
    "#check the difference in the total income based on income type and gender\n",
    "df.groupby(['income_type','gender']).agg({'total_income':['mean', 'median']})"
   ]
  },
  {
   "cell_type": "markdown",
   "metadata": {},
   "source": [
    "As we can see, in all categories except the **'unemployed'** and **'maternity leave'**, men earn more money. We don't know about **'entrepreneur'** because there is not enough information. Also the total income veries between the different income types, where the income types of people that are being well paid are entrepreneur, unemployed (for women) and business. In conclusion, the total income depend on gender, education and type of income, thus we will fill the missing values, based on these parameters. In some categories the mean and median are slightly different, so median is prefferd. Because there is only one man as an entrepreneur, and there is not enough information to base on for calculating the median, we'll delete this record. The `days_employed` missing values won't be changed because they are irrelevant for now and we don't know the right way to do so."
   ]
  },
  {
   "cell_type": "code",
   "execution_count": 16,
   "metadata": {},
   "outputs": [
    {
     "data": {
      "text/plain": [
       "1"
      ]
     },
     "metadata": {},
     "output_type": "display_data"
    },
    {
     "data": {
      "text/plain": [
       "5936    entrepreneur\n",
       "Name: income_type, dtype: object"
      ]
     },
     "metadata": {},
     "output_type": "display_data"
    },
    {
     "data": {
      "text/plain": [
       "None"
      ]
     },
     "metadata": {},
     "output_type": "display_data"
    },
    {
     "data": {
      "text/plain": [
       "children               0\n",
       "days_employed       2173\n",
       "age                    0\n",
       "education              0\n",
       "education_id           0\n",
       "family_status          0\n",
       "family_status_id       0\n",
       "gender                 0\n",
       "income_type            0\n",
       "debt                   0\n",
       "total_income           0\n",
       "purpose                0\n",
       "dtype: int64"
      ]
     },
     "metadata": {},
     "output_type": "display_data"
    }
   ],
   "source": [
    "df['total_income'].fillna(df.groupby(['gender','education','income_type'])['total_income'].transform('median'), inplace = True)\n",
    "#check that missing values were filled and the only male entrepreneur left           \n",
    "display(df['total_income'].isna().sum(), df[df['total_income'].isnull()]['income_type'])\n",
    "#delete the last row with missing value\n",
    "display(df.dropna(subset = ['total_income'], inplace = True), df.isnull().sum())"
   ]
  },
  {
   "cell_type": "markdown",
   "metadata": {},
   "source": [
    "The only missing values are on the `days_employed` column but we left it like this intentionally."
   ]
  },
  {
   "cell_type": "markdown",
   "metadata": {},
   "source": [
    "#### Conclusion"
   ]
  },
  {
   "cell_type": "markdown",
   "metadata": {},
   "source": [
    "10% of the rows were missing the values of `days_employed` and `toal_income`. The data in `days_employed` and `toal_income` based on each other, because we don't know how, it's better to try to fill the data we can find. The days employed are not for sure relevant for our research, but the total income is, so based on selected parameters we calculated the median based on those parameters. Also the `days_employed` column has a lot of wierd values, but as we mentioned, we considered it as irrelevant and decided to leave it untouched. "
   ]
  },
  {
   "cell_type": "markdown",
   "metadata": {},
   "source": [
    "### Data type replacement"
   ]
  },
  {
   "cell_type": "markdown",
   "metadata": {},
   "source": [
    "The `total_income` column should be changed to int because the floating point is giving extra irrelevant information and it makes it clean and easy to analayz. The `days_employed` won't be changed, there are still missing values and we don't use it for our calculations. We'll change the type of `debt` column to boolean, because it makes more sense, and all the ids cloumns we'll change to less memory consumable int type (the original memory usage is very low, but we'll do it for practice). Also there were negative values of children and an extreme one as 20, we assume these are typos so we already converted negative values to positive, and now we will change the 20 to 2."
   ]
  },
  {
   "cell_type": "code",
   "execution_count": 17,
   "metadata": {},
   "outputs": [
    {
     "name": "stdout",
     "output_type": "stream",
     "text": [
      "<class 'pandas.core.frame.DataFrame'>\n",
      "Int64Index: 21523 entries, 0 to 21524\n",
      "Data columns (total 12 columns):\n",
      "children            21523 non-null int32\n",
      "days_employed       19350 non-null float64\n",
      "age                 21523 non-null int8\n",
      "education           21523 non-null object\n",
      "education_id        21523 non-null int8\n",
      "family_status       21523 non-null object\n",
      "family_status_id    21523 non-null int8\n",
      "gender              21523 non-null object\n",
      "income_type         21523 non-null object\n",
      "debt                21523 non-null bool\n",
      "total_income        21523 non-null int64\n",
      "purpose             21523 non-null object\n",
      "dtypes: bool(1), float64(1), int32(1), int64(1), int8(3), object(5)\n",
      "memory usage: 1.5+ MB\n"
     ]
    },
    {
     "data": {
      "text/plain": [
       "None"
      ]
     },
     "metadata": {},
     "output_type": "display_data"
    },
    {
     "data": {
      "text/plain": [
       "array([1, 0, 3, 2, 4, 5])"
      ]
     },
     "metadata": {},
     "output_type": "display_data"
    }
   ],
   "source": [
    "#change data types\n",
    "df = df.astype(\n",
    "    {'age':'int8','children':'int32', 'education_id':'int8','family_status_id':'int8' ,'total_income':'int','debt':'bool'})\n",
    "#convert the 20 to 2\n",
    "df.loc[df['children'] == 20,'children'] = 2\n",
    "#check if changed\n",
    "display(df.info(), df['children'].unique())"
   ]
  },
  {
   "cell_type": "markdown",
   "metadata": {},
   "source": [
    "#### Conclusion"
   ]
  },
  {
   "cell_type": "markdown",
   "metadata": {},
   "source": [
    "As we can see, the relevant columns types have been changed and also the memory usage lowered from 2MB to 1.3MB. Because the change is between numeric types, we used the astype() method."
   ]
  },
  {
   "cell_type": "markdown",
   "metadata": {},
   "source": [
    "### Processing duplicates"
   ]
  },
  {
   "cell_type": "markdown",
   "metadata": {},
   "source": [
    "At first, let's see amount of duplicates and display a small amount of data to see what we can infer from it."
   ]
  },
  {
   "cell_type": "code",
   "execution_count": 18,
   "metadata": {
    "scrolled": false
   },
   "outputs": [
    {
     "data": {
      "text/plain": [
       "71"
      ]
     },
     "metadata": {},
     "output_type": "display_data"
    },
    {
     "data": {
      "text/html": [
       "<div>\n",
       "<style scoped>\n",
       "    .dataframe tbody tr th:only-of-type {\n",
       "        vertical-align: middle;\n",
       "    }\n",
       "\n",
       "    .dataframe tbody tr th {\n",
       "        vertical-align: top;\n",
       "    }\n",
       "\n",
       "    .dataframe thead th {\n",
       "        text-align: right;\n",
       "    }\n",
       "</style>\n",
       "<table border=\"1\" class=\"dataframe\">\n",
       "  <thead>\n",
       "    <tr style=\"text-align: right;\">\n",
       "      <th></th>\n",
       "      <th>children</th>\n",
       "      <th>days_employed</th>\n",
       "      <th>age</th>\n",
       "      <th>education</th>\n",
       "      <th>education_id</th>\n",
       "      <th>family_status</th>\n",
       "      <th>family_status_id</th>\n",
       "      <th>gender</th>\n",
       "      <th>income_type</th>\n",
       "      <th>debt</th>\n",
       "      <th>total_income</th>\n",
       "      <th>purpose</th>\n",
       "    </tr>\n",
       "  </thead>\n",
       "  <tbody>\n",
       "    <tr>\n",
       "      <td>2849</td>\n",
       "      <td>0</td>\n",
       "      <td>NaN</td>\n",
       "      <td>41</td>\n",
       "      <td>secondary education</td>\n",
       "      <td>1</td>\n",
       "      <td>married</td>\n",
       "      <td>0</td>\n",
       "      <td>F</td>\n",
       "      <td>employee</td>\n",
       "      <td>False</td>\n",
       "      <td>19860</td>\n",
       "      <td>purchase of the house for my family</td>\n",
       "    </tr>\n",
       "    <tr>\n",
       "      <td>3290</td>\n",
       "      <td>0</td>\n",
       "      <td>NaN</td>\n",
       "      <td>58</td>\n",
       "      <td>secondary education</td>\n",
       "      <td>1</td>\n",
       "      <td>civil partnership</td>\n",
       "      <td>1</td>\n",
       "      <td>F</td>\n",
       "      <td>retiree</td>\n",
       "      <td>False</td>\n",
       "      <td>18046</td>\n",
       "      <td>to have a wedding</td>\n",
       "    </tr>\n",
       "    <tr>\n",
       "      <td>4182</td>\n",
       "      <td>1</td>\n",
       "      <td>NaN</td>\n",
       "      <td>34</td>\n",
       "      <td>bachelor's degree</td>\n",
       "      <td>0</td>\n",
       "      <td>civil partnership</td>\n",
       "      <td>1</td>\n",
       "      <td>F</td>\n",
       "      <td>employee</td>\n",
       "      <td>False</td>\n",
       "      <td>24590</td>\n",
       "      <td>wedding ceremony</td>\n",
       "    </tr>\n",
       "    <tr>\n",
       "      <td>4851</td>\n",
       "      <td>0</td>\n",
       "      <td>NaN</td>\n",
       "      <td>60</td>\n",
       "      <td>secondary education</td>\n",
       "      <td>1</td>\n",
       "      <td>civil partnership</td>\n",
       "      <td>1</td>\n",
       "      <td>F</td>\n",
       "      <td>retiree</td>\n",
       "      <td>False</td>\n",
       "      <td>18046</td>\n",
       "      <td>wedding ceremony</td>\n",
       "    </tr>\n",
       "    <tr>\n",
       "      <td>5557</td>\n",
       "      <td>0</td>\n",
       "      <td>NaN</td>\n",
       "      <td>58</td>\n",
       "      <td>secondary education</td>\n",
       "      <td>1</td>\n",
       "      <td>civil partnership</td>\n",
       "      <td>1</td>\n",
       "      <td>F</td>\n",
       "      <td>retiree</td>\n",
       "      <td>False</td>\n",
       "      <td>18046</td>\n",
       "      <td>to have a wedding</td>\n",
       "    </tr>\n",
       "  </tbody>\n",
       "</table>\n",
       "</div>"
      ],
      "text/plain": [
       "      children  days_employed  age            education  education_id  \\\n",
       "2849         0            NaN   41  secondary education             1   \n",
       "3290         0            NaN   58  secondary education             1   \n",
       "4182         1            NaN   34    bachelor's degree             0   \n",
       "4851         0            NaN   60  secondary education             1   \n",
       "5557         0            NaN   58  secondary education             1   \n",
       "\n",
       "          family_status  family_status_id gender income_type   debt  \\\n",
       "2849            married                 0      F    employee  False   \n",
       "3290  civil partnership                 1      F     retiree  False   \n",
       "4182  civil partnership                 1      F    employee  False   \n",
       "4851  civil partnership                 1      F     retiree  False   \n",
       "5557  civil partnership                 1      F     retiree  False   \n",
       "\n",
       "      total_income                              purpose  \n",
       "2849         19860  purchase of the house for my family  \n",
       "3290         18046                    to have a wedding  \n",
       "4182         24590                     wedding ceremony  \n",
       "4851         18046                     wedding ceremony  \n",
       "5557         18046                    to have a wedding  "
      ]
     },
     "metadata": {},
     "output_type": "display_data"
    },
    {
     "data": {
      "text/html": [
       "<div>\n",
       "<style scoped>\n",
       "    .dataframe tbody tr th:only-of-type {\n",
       "        vertical-align: middle;\n",
       "    }\n",
       "\n",
       "    .dataframe tbody tr th {\n",
       "        vertical-align: top;\n",
       "    }\n",
       "\n",
       "    .dataframe thead th {\n",
       "        text-align: right;\n",
       "    }\n",
       "</style>\n",
       "<table border=\"1\" class=\"dataframe\">\n",
       "  <thead>\n",
       "    <tr style=\"text-align: right;\">\n",
       "      <th></th>\n",
       "      <th>children</th>\n",
       "      <th>days_employed</th>\n",
       "      <th>age</th>\n",
       "      <th>education</th>\n",
       "      <th>education_id</th>\n",
       "      <th>family_status</th>\n",
       "      <th>family_status_id</th>\n",
       "      <th>gender</th>\n",
       "      <th>income_type</th>\n",
       "      <th>debt</th>\n",
       "      <th>total_income</th>\n",
       "      <th>purpose</th>\n",
       "    </tr>\n",
       "  </thead>\n",
       "  <tbody>\n",
       "    <tr>\n",
       "      <td>20702</td>\n",
       "      <td>0</td>\n",
       "      <td>NaN</td>\n",
       "      <td>64</td>\n",
       "      <td>secondary education</td>\n",
       "      <td>1</td>\n",
       "      <td>married</td>\n",
       "      <td>0</td>\n",
       "      <td>F</td>\n",
       "      <td>retiree</td>\n",
       "      <td>False</td>\n",
       "      <td>18046</td>\n",
       "      <td>supplementary education</td>\n",
       "    </tr>\n",
       "    <tr>\n",
       "      <td>21032</td>\n",
       "      <td>0</td>\n",
       "      <td>NaN</td>\n",
       "      <td>60</td>\n",
       "      <td>secondary education</td>\n",
       "      <td>1</td>\n",
       "      <td>married</td>\n",
       "      <td>0</td>\n",
       "      <td>F</td>\n",
       "      <td>retiree</td>\n",
       "      <td>False</td>\n",
       "      <td>18046</td>\n",
       "      <td>to become educated</td>\n",
       "    </tr>\n",
       "    <tr>\n",
       "      <td>21132</td>\n",
       "      <td>0</td>\n",
       "      <td>NaN</td>\n",
       "      <td>47</td>\n",
       "      <td>secondary education</td>\n",
       "      <td>1</td>\n",
       "      <td>married</td>\n",
       "      <td>0</td>\n",
       "      <td>F</td>\n",
       "      <td>employee</td>\n",
       "      <td>False</td>\n",
       "      <td>19860</td>\n",
       "      <td>housing renovation</td>\n",
       "    </tr>\n",
       "    <tr>\n",
       "      <td>21281</td>\n",
       "      <td>1</td>\n",
       "      <td>NaN</td>\n",
       "      <td>30</td>\n",
       "      <td>bachelor's degree</td>\n",
       "      <td>0</td>\n",
       "      <td>married</td>\n",
       "      <td>0</td>\n",
       "      <td>F</td>\n",
       "      <td>employee</td>\n",
       "      <td>False</td>\n",
       "      <td>24590</td>\n",
       "      <td>buy commercial real estate</td>\n",
       "    </tr>\n",
       "    <tr>\n",
       "      <td>21415</td>\n",
       "      <td>0</td>\n",
       "      <td>NaN</td>\n",
       "      <td>54</td>\n",
       "      <td>secondary education</td>\n",
       "      <td>1</td>\n",
       "      <td>married</td>\n",
       "      <td>0</td>\n",
       "      <td>F</td>\n",
       "      <td>retiree</td>\n",
       "      <td>False</td>\n",
       "      <td>18046</td>\n",
       "      <td>housing transactions</td>\n",
       "    </tr>\n",
       "  </tbody>\n",
       "</table>\n",
       "</div>"
      ],
      "text/plain": [
       "       children  days_employed  age            education  education_id  \\\n",
       "20702         0            NaN   64  secondary education             1   \n",
       "21032         0            NaN   60  secondary education             1   \n",
       "21132         0            NaN   47  secondary education             1   \n",
       "21281         1            NaN   30    bachelor's degree             0   \n",
       "21415         0            NaN   54  secondary education             1   \n",
       "\n",
       "      family_status  family_status_id gender income_type   debt  total_income  \\\n",
       "20702       married                 0      F     retiree  False         18046   \n",
       "21032       married                 0      F     retiree  False         18046   \n",
       "21132       married                 0      F    employee  False         19860   \n",
       "21281       married                 0      F    employee  False         24590   \n",
       "21415       married                 0      F     retiree  False         18046   \n",
       "\n",
       "                          purpose  \n",
       "20702     supplementary education  \n",
       "21032          to become educated  \n",
       "21132          housing renovation  \n",
       "21281  buy commercial real estate  \n",
       "21415        housing transactions  "
      ]
     },
     "metadata": {},
     "output_type": "display_data"
    }
   ],
   "source": [
    "display(df.duplicated().sum(),df[df.duplicated()].head(), df[df.duplicated()].tail())"
   ]
  },
  {
   "cell_type": "markdown",
   "metadata": {},
   "source": [
    "We can see a lot of nan values in the `days_employed` column, let's check if all the duplicates are missing this value."
   ]
  },
  {
   "cell_type": "code",
   "execution_count": 19,
   "metadata": {},
   "outputs": [
    {
     "data": {
      "text/plain": [
       "71"
      ]
     },
     "execution_count": 19,
     "metadata": {},
     "output_type": "execute_result"
    }
   ],
   "source": [
    "#check the amount of duplicates, where the days_employed is missing\n",
    "df[df['days_employed'].isnull()].duplicated().sum()"
   ]
  },
  {
   "cell_type": "markdown",
   "metadata": {},
   "source": [
    "All the duplicated rows are with nan values in the `days_employed` and `total_income` (before we changed the missing values in `total_income`). We will pass this information to the data engineers so they'l investigate it. We'll remove those duplicated rows and reset the indexes."
   ]
  },
  {
   "cell_type": "code",
   "execution_count": 20,
   "metadata": {},
   "outputs": [
    {
     "data": {
      "text/plain": [
       "0"
      ]
     },
     "execution_count": 20,
     "metadata": {},
     "output_type": "execute_result"
    }
   ],
   "source": [
    "#drop the duplicated rows\n",
    "df = df.drop_duplicates().reset_index(drop = True)\n",
    "#check if it changed\n",
    "df.duplicated().sum()"
   ]
  },
  {
   "cell_type": "markdown",
   "metadata": {},
   "source": [
    "#### Conclusion"
   ]
  },
  {
   "cell_type": "markdown",
   "metadata": {},
   "source": [
    "The duplicates found only in the rows where the `days_employed` and `total_income` where missing. It is better to inform the source who gave us the data so they'll explain or fix it, maybe there is a bug. The duplicated values have been removed."
   ]
  },
  {
   "cell_type": "markdown",
   "metadata": {},
   "source": [
    "### Categorizing Data"
   ]
  },
  {
   "cell_type": "markdown",
   "metadata": {},
   "source": [
    "We need to categorize the `purpose` column to one or two simple words, the `total_income` to income levels, `children` to has or not and also will be helpful to categorize by `age`, so we can get the right conclusions. We'll start with categorizing the purpose. First we will find the unique purposes, tokenize them while ignoring stop words (a, the, to etc.). Then we'll lemmatize this group of words, stem them and find the most frequent and describeful for each category and save them in a unique list. Then a function will get the purpose of a specific record, and will stem the words and check if there's any compatibility to the categories list of words."
   ]
  },
  {
   "cell_type": "code",
   "execution_count": 21,
   "metadata": {},
   "outputs": [
    {
     "data": {
      "text/plain": [
       "array(['purchase of the house', 'car purchase', 'supplementary education',\n",
       "       'to have a wedding', 'housing transactions', 'education',\n",
       "       'having a wedding', 'purchase of the house for my family',\n",
       "       'buy real estate', 'buy commercial real estate',\n",
       "       'buy residential real estate', 'construction of own property',\n",
       "       'property', 'building a property', 'buying a second-hand car',\n",
       "       'buying my own car', 'transactions with commercial real estate',\n",
       "       'building a real estate', 'housing',\n",
       "       'transactions with my real estate', 'cars', 'to become educated',\n",
       "       'second-hand car purchase', 'getting an education', 'car',\n",
       "       'wedding ceremony', 'to get a supplementary education',\n",
       "       'purchase of my own house', 'real estate transactions',\n",
       "       'getting higher education', 'to own a car', 'purchase of a car',\n",
       "       'profile education', 'university education',\n",
       "       'buying property for renting out', 'to buy a car',\n",
       "       'housing renovation', 'going to university'], dtype=object)"
      ]
     },
     "metadata": {},
     "output_type": "display_data"
    },
    {
     "data": {
      "text/plain": [
       "'purchase of the house car purchase supplementary education to have a wedding housing transactions education having a wedding purchase of the house for my family buy real estate buy commercial real estate buy residential real estate construction of own property property building a property buying a second-hand car buying my own car transactions with commercial real estate building a real estate housing transactions with my real estate cars to become educated second-hand car purchase getting an education car wedding ceremony to get a supplementary education purchase of my own house real estate transactions getting higher education to own a car purchase of a car profile education university education buying property for renting out to buy a car housing renovation going to university'"
      ]
     },
     "metadata": {},
     "output_type": "display_data"
    },
    {
     "data": {
      "text/plain": [
       "{'become',\n",
       " 'building',\n",
       " 'buy',\n",
       " 'buying',\n",
       " 'car',\n",
       " 'cars',\n",
       " 'ceremony',\n",
       " 'commercial',\n",
       " 'construction',\n",
       " 'educated',\n",
       " 'education',\n",
       " 'estate',\n",
       " 'family',\n",
       " 'get',\n",
       " 'getting',\n",
       " 'going',\n",
       " 'higher',\n",
       " 'house',\n",
       " 'housing',\n",
       " 'profile',\n",
       " 'property',\n",
       " 'purchase',\n",
       " 'real',\n",
       " 'renovation',\n",
       " 'renting',\n",
       " 'residential',\n",
       " 'second-hand',\n",
       " 'supplementary',\n",
       " 'transactions',\n",
       " 'university',\n",
       " 'wedding'}"
      ]
     },
     "metadata": {},
     "output_type": "display_data"
    }
   ],
   "source": [
    "#convert the unique values of 'purpose' column to one long string\n",
    "words = \" \".join(df['purpose'].unique().astype('str'))\n",
    "#tokenize the words of the string\n",
    "tokenized = nltk.word_tokenize(words)\n",
    "#ignore stop words (by using stopwords.words('english')) and duplicates (by using set())\n",
    "filtered_words = set(list(filter(lambda word: word not in stopwords.words('english'), tokenized)))\n",
    "#show the unique values of the 'purpose' column, the string we got and the filtered values \n",
    "display(df['purpose'].unique(),words,filtered_words)"
   ]
  },
  {
   "cell_type": "code",
   "execution_count": 22,
   "metadata": {},
   "outputs": [
    {
     "name": "stdout",
     "output_type": "stream",
     "text": [
      "renovation --> renov\n",
      "commercial --> commerci\n",
      "university --> univers\n",
      "going --> go\n",
      "estate --> estat\n",
      "car --> car\n",
      "supplementary --> supplementari\n",
      "real --> real\n",
      "get --> get\n",
      "purchase --> purchas\n",
      "residential --> residenti\n",
      "housing --> hous\n",
      "ceremony --> ceremoni\n",
      "second-hand --> second-hand\n",
      "higher --> higher\n",
      "transaction --> transact\n",
      "renting --> rent\n",
      "getting --> get\n",
      "buying --> buy\n",
      "educated --> educ\n",
      "profile --> profil\n",
      "building --> build\n",
      "become --> becom\n",
      "family --> famili\n",
      "house --> hous\n",
      "property --> properti\n",
      "education --> educ\n",
      "buy --> buy\n",
      "construction --> construct\n",
      "wedding --> wed\n",
      "car --> car\n"
     ]
    }
   ],
   "source": [
    "wordnet_lemma = WordNetLemmatizer()\n",
    "#lemmatize the nouns in the list of the filtered words\n",
    "lemmas = [wordnet_lemma.lemmatize(w, pos='n') for w in filtered_words]\n",
    "#stem the lemmas and print how it changed\n",
    "english_stemmer = SnowballStemmer('english')\n",
    "for word in lemmas:\n",
    "    stemmed_word = english_stemmer.stem(word)\n",
    "    print(word,'-->',stemmed_word)"
   ]
  },
  {
   "cell_type": "markdown",
   "metadata": {},
   "source": [
    "From this list we can find the main words of each purpose that will help us to categorize the column."
   ]
  },
  {
   "cell_type": "code",
   "execution_count": 23,
   "metadata": {},
   "outputs": [],
   "source": [
    "#the list of the main stemmed words for each purpose    \n",
    "real_estate = ['estat', 'hous', 'properti']   \n",
    "wedding = ['wed']\n",
    "education = ['educ','univers']\n",
    "car = ['car']"
   ]
  },
  {
   "cell_type": "code",
   "execution_count": 24,
   "metadata": {
    "scrolled": true
   },
   "outputs": [
    {
     "data": {
      "text/plain": [
       "array(['real estate', 'car', 'education', 'wedding'], dtype=object)"
      ]
     },
     "metadata": {},
     "output_type": "display_data"
    },
    {
     "data": {
      "text/html": [
       "<div>\n",
       "<style scoped>\n",
       "    .dataframe tbody tr th:only-of-type {\n",
       "        vertical-align: middle;\n",
       "    }\n",
       "\n",
       "    .dataframe tbody tr th {\n",
       "        vertical-align: top;\n",
       "    }\n",
       "\n",
       "    .dataframe thead th {\n",
       "        text-align: right;\n",
       "    }\n",
       "</style>\n",
       "<table border=\"1\" class=\"dataframe\">\n",
       "  <thead>\n",
       "    <tr style=\"text-align: right;\">\n",
       "      <th></th>\n",
       "      <th>purpose</th>\n",
       "      <th>purpose_group</th>\n",
       "    </tr>\n",
       "  </thead>\n",
       "  <tbody>\n",
       "    <tr>\n",
       "      <td>0</td>\n",
       "      <td>purchase of the house</td>\n",
       "      <td>real estate</td>\n",
       "    </tr>\n",
       "    <tr>\n",
       "      <td>1</td>\n",
       "      <td>car purchase</td>\n",
       "      <td>car</td>\n",
       "    </tr>\n",
       "    <tr>\n",
       "      <td>2</td>\n",
       "      <td>purchase of the house</td>\n",
       "      <td>real estate</td>\n",
       "    </tr>\n",
       "    <tr>\n",
       "      <td>3</td>\n",
       "      <td>supplementary education</td>\n",
       "      <td>education</td>\n",
       "    </tr>\n",
       "    <tr>\n",
       "      <td>4</td>\n",
       "      <td>to have a wedding</td>\n",
       "      <td>wedding</td>\n",
       "    </tr>\n",
       "  </tbody>\n",
       "</table>\n",
       "</div>"
      ],
      "text/plain": [
       "                   purpose purpose_group\n",
       "0    purchase of the house   real estate\n",
       "1             car purchase           car\n",
       "2    purchase of the house   real estate\n",
       "3  supplementary education     education\n",
       "4        to have a wedding       wedding"
      ]
     },
     "metadata": {},
     "output_type": "display_data"
    }
   ],
   "source": [
    "#function for categorizing the purpose column\n",
    "def group_by_purpose(purpose):\n",
    "    stemmed_purpose = []\n",
    "    for word in purpose.split(' '):\n",
    "        stemmed_word = english_stemmer.stem(word)\n",
    "        stemmed_purpose.append(stemmed_word)\n",
    "        \n",
    "    #check if any word in the purpose is in the key values of the purpose categories\n",
    "    if any(item in stemmed_purpose for item in real_estate):\n",
    "        return 'real estate'\n",
    "    elif any(item in stemmed_purpose for item in wedding):    \n",
    "        return 'wedding'\n",
    "    elif any(item in stemmed_purpose for item in education):    \n",
    "        return 'education'\n",
    "    elif any(item in stemmed_purpose for item in car):    \n",
    "        return 'car'\n",
    "    return 'N/A'\n",
    "\n",
    "#apply the function on the 'purpose' column\n",
    "df['purpose_group'] = df['purpose'].apply(group_by_purpose)\n",
    "#check there's no 'N/A' values \n",
    "display(df['purpose_group'].unique() ,df[['purpose','purpose_group']].head())"
   ]
  },
  {
   "cell_type": "markdown",
   "metadata": {},
   "source": [
    "We succeded in categorizing the `purpose` column, now we'll check the distribution of the income so we'll be able to categorize the `total_income` into income levels:"
   ]
  },
  {
   "cell_type": "code",
   "execution_count": 25,
   "metadata": {},
   "outputs": [
    {
     "data": {
      "text/plain": [
       "count     21452.000000\n",
       "mean      26474.475573\n",
       "std       15745.102943\n",
       "min        3306.000000\n",
       "25%       17199.000000\n",
       "50%       23181.000000\n",
       "75%       31501.000000\n",
       "max      362496.000000\n",
       "Name: total_income, dtype: float64"
      ]
     },
     "execution_count": 25,
     "metadata": {},
     "output_type": "execute_result"
    }
   ],
   "source": [
    "df['total_income'].describe()"
   ]
  },
  {
   "cell_type": "markdown",
   "metadata": {},
   "source": [
    "We'll devide the income level to 5 levels:\n",
    "low, below average, average, above average, high"
   ]
  },
  {
   "cell_type": "code",
   "execution_count": 26,
   "metadata": {},
   "outputs": [
    {
     "data": {
      "text/html": [
       "<div>\n",
       "<style scoped>\n",
       "    .dataframe tbody tr th:only-of-type {\n",
       "        vertical-align: middle;\n",
       "    }\n",
       "\n",
       "    .dataframe tbody tr th {\n",
       "        vertical-align: top;\n",
       "    }\n",
       "\n",
       "    .dataframe thead th {\n",
       "        text-align: right;\n",
       "    }\n",
       "</style>\n",
       "<table border=\"1\" class=\"dataframe\">\n",
       "  <thead>\n",
       "    <tr style=\"text-align: right;\">\n",
       "      <th></th>\n",
       "      <th>total_income</th>\n",
       "      <th>income_level</th>\n",
       "    </tr>\n",
       "  </thead>\n",
       "  <tbody>\n",
       "    <tr>\n",
       "      <td>0</td>\n",
       "      <td>40620</td>\n",
       "      <td>high</td>\n",
       "    </tr>\n",
       "    <tr>\n",
       "      <td>1</td>\n",
       "      <td>17932</td>\n",
       "      <td>below average</td>\n",
       "    </tr>\n",
       "    <tr>\n",
       "      <td>2</td>\n",
       "      <td>23341</td>\n",
       "      <td>average</td>\n",
       "    </tr>\n",
       "    <tr>\n",
       "      <td>3</td>\n",
       "      <td>42820</td>\n",
       "      <td>high</td>\n",
       "    </tr>\n",
       "    <tr>\n",
       "      <td>4</td>\n",
       "      <td>25378</td>\n",
       "      <td>above average</td>\n",
       "    </tr>\n",
       "  </tbody>\n",
       "</table>\n",
       "</div>"
      ],
      "text/plain": [
       "   total_income   income_level\n",
       "0         40620           high\n",
       "1         17932  below average\n",
       "2         23341        average\n",
       "3         42820           high\n",
       "4         25378  above average"
      ]
     },
     "execution_count": 26,
     "metadata": {},
     "output_type": "execute_result"
    }
   ],
   "source": [
    "def group_by_income(income):\n",
    "    if income < 15000:\n",
    "        return 'low'\n",
    "    elif income < 20000:\n",
    "        return 'below average'\n",
    "    elif income < 25000:\n",
    "        return 'average'\n",
    "    elif income < 30000:\n",
    "        return 'above average'\n",
    "    return 'high'\n",
    "\n",
    "#apply the function on the 'income' column\n",
    "df['income_level'] = df['total_income'].apply(group_by_income)\n",
    "#check if changed \n",
    "df[['total_income','income_level']].head()"
   ]
  },
  {
   "cell_type": "markdown",
   "metadata": {},
   "source": [
    "Now will categorize the `children` column, if a person has at least one kid it indicates True."
   ]
  },
  {
   "cell_type": "code",
   "execution_count": 27,
   "metadata": {
    "scrolled": true
   },
   "outputs": [
    {
     "data": {
      "text/html": [
       "<div>\n",
       "<style scoped>\n",
       "    .dataframe tbody tr th:only-of-type {\n",
       "        vertical-align: middle;\n",
       "    }\n",
       "\n",
       "    .dataframe tbody tr th {\n",
       "        vertical-align: top;\n",
       "    }\n",
       "\n",
       "    .dataframe thead th {\n",
       "        text-align: right;\n",
       "    }\n",
       "</style>\n",
       "<table border=\"1\" class=\"dataframe\">\n",
       "  <thead>\n",
       "    <tr style=\"text-align: right;\">\n",
       "      <th></th>\n",
       "      <th>children</th>\n",
       "      <th>has_kids</th>\n",
       "    </tr>\n",
       "  </thead>\n",
       "  <tbody>\n",
       "    <tr>\n",
       "      <td>0</td>\n",
       "      <td>1</td>\n",
       "      <td>True</td>\n",
       "    </tr>\n",
       "    <tr>\n",
       "      <td>1</td>\n",
       "      <td>1</td>\n",
       "      <td>True</td>\n",
       "    </tr>\n",
       "    <tr>\n",
       "      <td>2</td>\n",
       "      <td>0</td>\n",
       "      <td>False</td>\n",
       "    </tr>\n",
       "    <tr>\n",
       "      <td>3</td>\n",
       "      <td>3</td>\n",
       "      <td>True</td>\n",
       "    </tr>\n",
       "    <tr>\n",
       "      <td>4</td>\n",
       "      <td>0</td>\n",
       "      <td>False</td>\n",
       "    </tr>\n",
       "  </tbody>\n",
       "</table>\n",
       "</div>"
      ],
      "text/plain": [
       "   children  has_kids\n",
       "0         1      True\n",
       "1         1      True\n",
       "2         0     False\n",
       "3         3      True\n",
       "4         0     False"
      ]
     },
     "execution_count": 27,
     "metadata": {},
     "output_type": "execute_result"
    }
   ],
   "source": [
    "def group_by_children(children):\n",
    "    if children != 0:\n",
    "        return True\n",
    "    return False\n",
    "\n",
    "#apply the function on the 'income' column\n",
    "df['has_kids'] = df['children'].apply(group_by_children)\n",
    "#check if changed \n",
    "df[['children','has_kids']].head()"
   ]
  },
  {
   "cell_type": "markdown",
   "metadata": {},
   "source": [
    "It can help to group the records by age, maybe can add some valuble conclusions."
   ]
  },
  {
   "cell_type": "code",
   "execution_count": 28,
   "metadata": {},
   "outputs": [
    {
     "data": {
      "text/plain": [
       "array(['30-59', '18-29', '60+', 'N/A'], dtype=object)"
      ]
     },
     "execution_count": 28,
     "metadata": {},
     "output_type": "execute_result"
    }
   ],
   "source": [
    "def group_by_age(age):\n",
    "    if age < 18:\n",
    "        return 'N/A'\n",
    "    elif age < 30:\n",
    "        return '18-29'\n",
    "    elif age < 60:\n",
    "        return '30-59'\n",
    "    return '60+'\n",
    "\n",
    "#apply the function on the 'age' column\n",
    "df['age_group'] = df['age'].apply(group_by_age)\n",
    "#check if changed \n",
    "df['age_group'].unique()"
   ]
  },
  {
   "cell_type": "markdown",
   "metadata": {},
   "source": [
    "#### Conclusion"
   ]
  },
  {
   "cell_type": "markdown",
   "metadata": {},
   "source": [
    "Categorizing will help us to filter the data as desired to make our conclusions."
   ]
  },
  {
   "cell_type": "markdown",
   "metadata": {},
   "source": [
    "## Answer these questions"
   ]
  },
  {
   "cell_type": "markdown",
   "metadata": {},
   "source": [
    "- Is there a relation between having kids and repaying a loan on time?"
   ]
  },
  {
   "cell_type": "code",
   "execution_count": 29,
   "metadata": {},
   "outputs": [
    {
     "data": {
      "text/html": [
       "<div>\n",
       "<style scoped>\n",
       "    .dataframe tbody tr th:only-of-type {\n",
       "        vertical-align: middle;\n",
       "    }\n",
       "\n",
       "    .dataframe tbody tr th {\n",
       "        vertical-align: top;\n",
       "    }\n",
       "\n",
       "    .dataframe thead th {\n",
       "        text-align: right;\n",
       "    }\n",
       "</style>\n",
       "<table border=\"1\" class=\"dataframe\">\n",
       "  <thead>\n",
       "    <tr style=\"text-align: right;\">\n",
       "      <th>debt</th>\n",
       "      <th>has_kids</th>\n",
       "      <th>False</th>\n",
       "      <th>True</th>\n",
       "      <th>All</th>\n",
       "      <th>default_rate</th>\n",
       "    </tr>\n",
       "  </thead>\n",
       "  <tbody>\n",
       "    <tr>\n",
       "      <td>0</td>\n",
       "      <td>False</td>\n",
       "      <td>13026</td>\n",
       "      <td>1063</td>\n",
       "      <td>14089</td>\n",
       "      <td>7.544893</td>\n",
       "    </tr>\n",
       "    <tr>\n",
       "      <td>1</td>\n",
       "      <td>True</td>\n",
       "      <td>6685</td>\n",
       "      <td>678</td>\n",
       "      <td>7363</td>\n",
       "      <td>9.208203</td>\n",
       "    </tr>\n",
       "    <tr>\n",
       "      <td>2</td>\n",
       "      <td>All</td>\n",
       "      <td>19711</td>\n",
       "      <td>1741</td>\n",
       "      <td>21452</td>\n",
       "      <td>8.115793</td>\n",
       "    </tr>\n",
       "  </tbody>\n",
       "</table>\n",
       "</div>"
      ],
      "text/plain": [
       "debt has_kids  False  True    All  default_rate\n",
       "0       False  13026  1063  14089      7.544893\n",
       "1        True   6685   678   7363      9.208203\n",
       "2         All  19711  1741  21452      8.115793"
      ]
     },
     "metadata": {},
     "output_type": "display_data"
    },
    {
     "data": {
      "text/html": [
       "<div>\n",
       "<style scoped>\n",
       "    .dataframe tbody tr th:only-of-type {\n",
       "        vertical-align: middle;\n",
       "    }\n",
       "\n",
       "    .dataframe tbody tr th {\n",
       "        vertical-align: top;\n",
       "    }\n",
       "\n",
       "    .dataframe thead th {\n",
       "        text-align: right;\n",
       "    }\n",
       "</style>\n",
       "<table border=\"1\" class=\"dataframe\">\n",
       "  <thead>\n",
       "    <tr style=\"text-align: right;\">\n",
       "      <th>debt</th>\n",
       "      <th>children</th>\n",
       "      <th>False</th>\n",
       "      <th>True</th>\n",
       "      <th>All</th>\n",
       "      <th>default_rate</th>\n",
       "    </tr>\n",
       "  </thead>\n",
       "  <tbody>\n",
       "    <tr>\n",
       "      <td>0</td>\n",
       "      <td>0</td>\n",
       "      <td>13026.0</td>\n",
       "      <td>1063.0</td>\n",
       "      <td>14089</td>\n",
       "      <td>7.544893</td>\n",
       "    </tr>\n",
       "    <tr>\n",
       "      <td>1</td>\n",
       "      <td>1</td>\n",
       "      <td>4410.0</td>\n",
       "      <td>445.0</td>\n",
       "      <td>4855</td>\n",
       "      <td>9.165808</td>\n",
       "    </tr>\n",
       "    <tr>\n",
       "      <td>2</td>\n",
       "      <td>2</td>\n",
       "      <td>1926.0</td>\n",
       "      <td>202.0</td>\n",
       "      <td>2128</td>\n",
       "      <td>9.492481</td>\n",
       "    </tr>\n",
       "    <tr>\n",
       "      <td>3</td>\n",
       "      <td>3</td>\n",
       "      <td>303.0</td>\n",
       "      <td>27.0</td>\n",
       "      <td>330</td>\n",
       "      <td>8.181818</td>\n",
       "    </tr>\n",
       "    <tr>\n",
       "      <td>4</td>\n",
       "      <td>4</td>\n",
       "      <td>37.0</td>\n",
       "      <td>4.0</td>\n",
       "      <td>41</td>\n",
       "      <td>9.756098</td>\n",
       "    </tr>\n",
       "    <tr>\n",
       "      <td>5</td>\n",
       "      <td>5</td>\n",
       "      <td>9.0</td>\n",
       "      <td>NaN</td>\n",
       "      <td>9</td>\n",
       "      <td>NaN</td>\n",
       "    </tr>\n",
       "    <tr>\n",
       "      <td>6</td>\n",
       "      <td>All</td>\n",
       "      <td>19711.0</td>\n",
       "      <td>1741.0</td>\n",
       "      <td>21452</td>\n",
       "      <td>8.115793</td>\n",
       "    </tr>\n",
       "  </tbody>\n",
       "</table>\n",
       "</div>"
      ],
      "text/plain": [
       "debt children    False    True    All  default_rate\n",
       "0           0  13026.0  1063.0  14089      7.544893\n",
       "1           1   4410.0   445.0   4855      9.165808\n",
       "2           2   1926.0   202.0   2128      9.492481\n",
       "3           3    303.0    27.0    330      8.181818\n",
       "4           4     37.0     4.0     41      9.756098\n",
       "5           5      9.0     NaN      9           NaN\n",
       "6         All  19711.0  1741.0  21452      8.115793"
      ]
     },
     "metadata": {},
     "output_type": "display_data"
    }
   ],
   "source": [
    "#creat a pivot table to show the relation between having kids and repaying a loan on time\n",
    "having_kids = pd.pivot_table(df, index='has_kids', columns='debt', values='children', aggfunc='count', margins=True).reset_index()\n",
    "having_kids['default_rate'] = (having_kids[True]/having_kids['All'])*100\n",
    "having_kids2 = pd.pivot_table(df, index='children', columns='debt', values='has_kids', aggfunc='count', margins=True).reset_index()\n",
    "having_kids2['default_rate'] = (having_kids2[True]/having_kids2['All'])*100\n",
    "display(having_kids,having_kids2)"
   ]
  },
  {
   "cell_type": "markdown",
   "metadata": {},
   "source": [
    "### Conclusion"
   ]
  },
  {
   "cell_type": "markdown",
   "metadata": {},
   "source": [
    "From the above tables we can infer that people with kids are more likely to default on a loan than people without kids. People with four kids are the most likely to default on a loan, but there are only 41 records so maybe additional information will help. Parents usually have much more expenses and they want to fulfil their children's needs, that might affect their ability to repay their debts on time."
   ]
  },
  {
   "cell_type": "markdown",
   "metadata": {},
   "source": [
    "- Is there a relation between marital status and repaying a loan on time?"
   ]
  },
  {
   "cell_type": "code",
   "execution_count": 30,
   "metadata": {},
   "outputs": [
    {
     "data": {
      "text/html": [
       "<div>\n",
       "<style scoped>\n",
       "    .dataframe tbody tr th:only-of-type {\n",
       "        vertical-align: middle;\n",
       "    }\n",
       "\n",
       "    .dataframe tbody tr th {\n",
       "        vertical-align: top;\n",
       "    }\n",
       "\n",
       "    .dataframe thead th {\n",
       "        text-align: right;\n",
       "    }\n",
       "</style>\n",
       "<table border=\"1\" class=\"dataframe\">\n",
       "  <thead>\n",
       "    <tr style=\"text-align: right;\">\n",
       "      <th>debt</th>\n",
       "      <th>family_status</th>\n",
       "      <th>False</th>\n",
       "      <th>True</th>\n",
       "      <th>All</th>\n",
       "      <th>default_rate</th>\n",
       "    </tr>\n",
       "  </thead>\n",
       "  <tbody>\n",
       "    <tr>\n",
       "      <td>0</td>\n",
       "      <td>civil partnership</td>\n",
       "      <td>3762</td>\n",
       "      <td>388</td>\n",
       "      <td>4150</td>\n",
       "      <td>9.349398</td>\n",
       "    </tr>\n",
       "    <tr>\n",
       "      <td>1</td>\n",
       "      <td>divorced</td>\n",
       "      <td>1110</td>\n",
       "      <td>85</td>\n",
       "      <td>1195</td>\n",
       "      <td>7.112971</td>\n",
       "    </tr>\n",
       "    <tr>\n",
       "      <td>2</td>\n",
       "      <td>married</td>\n",
       "      <td>11407</td>\n",
       "      <td>931</td>\n",
       "      <td>12338</td>\n",
       "      <td>7.545793</td>\n",
       "    </tr>\n",
       "    <tr>\n",
       "      <td>3</td>\n",
       "      <td>unmarried</td>\n",
       "      <td>2536</td>\n",
       "      <td>274</td>\n",
       "      <td>2810</td>\n",
       "      <td>9.750890</td>\n",
       "    </tr>\n",
       "    <tr>\n",
       "      <td>4</td>\n",
       "      <td>widow / widower</td>\n",
       "      <td>896</td>\n",
       "      <td>63</td>\n",
       "      <td>959</td>\n",
       "      <td>6.569343</td>\n",
       "    </tr>\n",
       "    <tr>\n",
       "      <td>5</td>\n",
       "      <td>All</td>\n",
       "      <td>19711</td>\n",
       "      <td>1741</td>\n",
       "      <td>21452</td>\n",
       "      <td>8.115793</td>\n",
       "    </tr>\n",
       "  </tbody>\n",
       "</table>\n",
       "</div>"
      ],
      "text/plain": [
       "debt      family_status  False  True    All  default_rate\n",
       "0     civil partnership   3762   388   4150      9.349398\n",
       "1              divorced   1110    85   1195      7.112971\n",
       "2               married  11407   931  12338      7.545793\n",
       "3             unmarried   2536   274   2810      9.750890\n",
       "4       widow / widower    896    63    959      6.569343\n",
       "5                   All  19711  1741  21452      8.115793"
      ]
     },
     "metadata": {},
     "output_type": "display_data"
    },
    {
     "data": {
      "text/html": [
       "<div>\n",
       "<style scoped>\n",
       "    .dataframe tbody tr th:only-of-type {\n",
       "        vertical-align: middle;\n",
       "    }\n",
       "\n",
       "    .dataframe tbody tr th {\n",
       "        vertical-align: top;\n",
       "    }\n",
       "\n",
       "    .dataframe thead th {\n",
       "        text-align: right;\n",
       "    }\n",
       "</style>\n",
       "<table border=\"1\" class=\"dataframe\">\n",
       "  <thead>\n",
       "    <tr style=\"text-align: right;\">\n",
       "      <th>debt</th>\n",
       "      <th>age_group</th>\n",
       "      <th>False</th>\n",
       "      <th>True</th>\n",
       "      <th>All</th>\n",
       "      <th>default_rate</th>\n",
       "    </tr>\n",
       "  </thead>\n",
       "  <tbody>\n",
       "    <tr>\n",
       "      <td>0</td>\n",
       "      <td>18-29</td>\n",
       "      <td>814</td>\n",
       "      <td>103</td>\n",
       "      <td>917</td>\n",
       "      <td>11.232279</td>\n",
       "    </tr>\n",
       "    <tr>\n",
       "      <td>1</td>\n",
       "      <td>30-59</td>\n",
       "      <td>1476</td>\n",
       "      <td>161</td>\n",
       "      <td>1637</td>\n",
       "      <td>9.835064</td>\n",
       "    </tr>\n",
       "    <tr>\n",
       "      <td>2</td>\n",
       "      <td>60+</td>\n",
       "      <td>231</td>\n",
       "      <td>9</td>\n",
       "      <td>240</td>\n",
       "      <td>3.750000</td>\n",
       "    </tr>\n",
       "    <tr>\n",
       "      <td>3</td>\n",
       "      <td>N/A</td>\n",
       "      <td>15</td>\n",
       "      <td>1</td>\n",
       "      <td>16</td>\n",
       "      <td>6.250000</td>\n",
       "    </tr>\n",
       "    <tr>\n",
       "      <td>4</td>\n",
       "      <td>All</td>\n",
       "      <td>2536</td>\n",
       "      <td>274</td>\n",
       "      <td>2810</td>\n",
       "      <td>9.750890</td>\n",
       "    </tr>\n",
       "  </tbody>\n",
       "</table>\n",
       "</div>"
      ],
      "text/plain": [
       "debt age_group  False  True   All  default_rate\n",
       "0        18-29    814   103   917     11.232279\n",
       "1        30-59   1476   161  1637      9.835064\n",
       "2          60+    231     9   240      3.750000\n",
       "3          N/A     15     1    16      6.250000\n",
       "4          All   2536   274  2810      9.750890"
      ]
     },
     "metadata": {},
     "output_type": "display_data"
    }
   ],
   "source": [
    "#creat a pivot table to show the relation between marital status and repaying a loan on time\n",
    "marital_status = pd.pivot_table(df, index='family_status', columns='debt', values='family_status_id', aggfunc='count', margins=True).reset_index()\n",
    "marital_status['default_rate'] = (marital_status[True]/marital_status['All'])*100\n",
    "#check if there's a tendecy by age \n",
    "marital_status2 = pd.pivot_table(df[df['family_status'] == 'unmarried' ], index='age_group', columns='debt', values='family_status_id', aggfunc='count', margins=True).reset_index()\n",
    "marital_status2['default_rate'] = (marital_status2[True]/marital_status2['All'])*100\n",
    "display(marital_status, marital_status2)"
   ]
  },
  {
   "cell_type": "markdown",
   "metadata": {},
   "source": [
    "### Conclusion"
   ]
  },
  {
   "cell_type": "markdown",
   "metadata": {},
   "source": [
    "Unmarried are the most likely to default on a loan while widow / widower are the most likely to pay on time. We also checked the distribution by age groups for unmarried. It seems that the yonger you are the most likely you won't pay your debts on time. Many young people do not know how to manage themselves financially in their first years as independents."
   ]
  },
  {
   "cell_type": "markdown",
   "metadata": {},
   "source": [
    "- Is there a relation between income level and repaying a loan on time?"
   ]
  },
  {
   "cell_type": "code",
   "execution_count": 31,
   "metadata": {},
   "outputs": [
    {
     "data": {
      "text/html": [
       "<div>\n",
       "<style scoped>\n",
       "    .dataframe tbody tr th:only-of-type {\n",
       "        vertical-align: middle;\n",
       "    }\n",
       "\n",
       "    .dataframe tbody tr th {\n",
       "        vertical-align: top;\n",
       "    }\n",
       "\n",
       "    .dataframe thead th {\n",
       "        text-align: right;\n",
       "    }\n",
       "</style>\n",
       "<table border=\"1\" class=\"dataframe\">\n",
       "  <thead>\n",
       "    <tr style=\"text-align: right;\">\n",
       "      <th>debt</th>\n",
       "      <th>income_level</th>\n",
       "      <th>False</th>\n",
       "      <th>True</th>\n",
       "      <th>All</th>\n",
       "      <th>default_rate</th>\n",
       "    </tr>\n",
       "  </thead>\n",
       "  <tbody>\n",
       "    <tr>\n",
       "      <td>0</td>\n",
       "      <td>above average</td>\n",
       "      <td>2891</td>\n",
       "      <td>294</td>\n",
       "      <td>3185</td>\n",
       "      <td>9.230769</td>\n",
       "    </tr>\n",
       "    <tr>\n",
       "      <td>1</td>\n",
       "      <td>average</td>\n",
       "      <td>3571</td>\n",
       "      <td>326</td>\n",
       "      <td>3897</td>\n",
       "      <td>8.365409</td>\n",
       "    </tr>\n",
       "    <tr>\n",
       "      <td>2</td>\n",
       "      <td>below average</td>\n",
       "      <td>4027</td>\n",
       "      <td>374</td>\n",
       "      <td>4401</td>\n",
       "      <td>8.498069</td>\n",
       "    </tr>\n",
       "    <tr>\n",
       "      <td>3</td>\n",
       "      <td>high</td>\n",
       "      <td>5775</td>\n",
       "      <td>449</td>\n",
       "      <td>6224</td>\n",
       "      <td>7.214010</td>\n",
       "    </tr>\n",
       "    <tr>\n",
       "      <td>4</td>\n",
       "      <td>low</td>\n",
       "      <td>3447</td>\n",
       "      <td>298</td>\n",
       "      <td>3745</td>\n",
       "      <td>7.957276</td>\n",
       "    </tr>\n",
       "    <tr>\n",
       "      <td>5</td>\n",
       "      <td>All</td>\n",
       "      <td>19711</td>\n",
       "      <td>1741</td>\n",
       "      <td>21452</td>\n",
       "      <td>8.115793</td>\n",
       "    </tr>\n",
       "  </tbody>\n",
       "</table>\n",
       "</div>"
      ],
      "text/plain": [
       "debt   income_level  False  True    All  default_rate\n",
       "0     above average   2891   294   3185      9.230769\n",
       "1           average   3571   326   3897      8.365409\n",
       "2     below average   4027   374   4401      8.498069\n",
       "3              high   5775   449   6224      7.214010\n",
       "4               low   3447   298   3745      7.957276\n",
       "5               All  19711  1741  21452      8.115793"
      ]
     },
     "metadata": {},
     "output_type": "display_data"
    },
    {
     "data": {
      "text/html": [
       "<div>\n",
       "<style scoped>\n",
       "    .dataframe tbody tr th:only-of-type {\n",
       "        vertical-align: middle;\n",
       "    }\n",
       "\n",
       "    .dataframe tbody tr th {\n",
       "        vertical-align: top;\n",
       "    }\n",
       "\n",
       "    .dataframe thead th {\n",
       "        text-align: right;\n",
       "    }\n",
       "</style>\n",
       "<table border=\"1\" class=\"dataframe\">\n",
       "  <thead>\n",
       "    <tr style=\"text-align: right;\">\n",
       "      <th>debt</th>\n",
       "      <th>age_group</th>\n",
       "      <th>False</th>\n",
       "      <th>True</th>\n",
       "      <th>All</th>\n",
       "      <th>default_rate</th>\n",
       "    </tr>\n",
       "  </thead>\n",
       "  <tbody>\n",
       "    <tr>\n",
       "      <td>0</td>\n",
       "      <td>18-29</td>\n",
       "      <td>470</td>\n",
       "      <td>62</td>\n",
       "      <td>532</td>\n",
       "      <td>11.654135</td>\n",
       "    </tr>\n",
       "    <tr>\n",
       "      <td>1</td>\n",
       "      <td>30-59</td>\n",
       "      <td>2118</td>\n",
       "      <td>216</td>\n",
       "      <td>2334</td>\n",
       "      <td>9.254499</td>\n",
       "    </tr>\n",
       "    <tr>\n",
       "      <td>2</td>\n",
       "      <td>60+</td>\n",
       "      <td>289</td>\n",
       "      <td>14</td>\n",
       "      <td>303</td>\n",
       "      <td>4.620462</td>\n",
       "    </tr>\n",
       "    <tr>\n",
       "      <td>3</td>\n",
       "      <td>N/A</td>\n",
       "      <td>14</td>\n",
       "      <td>2</td>\n",
       "      <td>16</td>\n",
       "      <td>12.500000</td>\n",
       "    </tr>\n",
       "    <tr>\n",
       "      <td>4</td>\n",
       "      <td>All</td>\n",
       "      <td>2891</td>\n",
       "      <td>294</td>\n",
       "      <td>3185</td>\n",
       "      <td>9.230769</td>\n",
       "    </tr>\n",
       "  </tbody>\n",
       "</table>\n",
       "</div>"
      ],
      "text/plain": [
       "debt age_group  False  True   All  default_rate\n",
       "0        18-29    470    62   532     11.654135\n",
       "1        30-59   2118   216  2334      9.254499\n",
       "2          60+    289    14   303      4.620462\n",
       "3          N/A     14     2    16     12.500000\n",
       "4          All   2891   294  3185      9.230769"
      ]
     },
     "metadata": {},
     "output_type": "display_data"
    }
   ],
   "source": [
    "income_level = pd.pivot_table(df, index='income_level', columns='debt', values='total_income', aggfunc='count', margins=True).reset_index()\n",
    "income_level['default_rate'] = (income_level[True]/income_level['All'])*100\n",
    "#check if there's a tendecy by age \n",
    "income_level2 = pd.pivot_table(df[df['income_level'] == 'above average'], index='age_group', columns='debt', values='total_income', aggfunc='count', margins=True).reset_index()\n",
    "income_level2['default_rate'] = (income_level2[True]/income_level2['All'])*100\n",
    "display(income_level, income_level2)"
   ]
  },
  {
   "cell_type": "markdown",
   "metadata": {},
   "source": [
    "### Conclusion"
   ]
  },
  {
   "cell_type": "markdown",
   "metadata": {},
   "source": [
    "People with around the average income are the most likely to default on a loan. Here also the youngest are at the top. The higher your income, the higher the chance you'll won't be in debt."
   ]
  },
  {
   "cell_type": "markdown",
   "metadata": {},
   "source": [
    "- How do different loan purposes affect on-time repayment of the loan?"
   ]
  },
  {
   "cell_type": "code",
   "execution_count": 32,
   "metadata": {},
   "outputs": [
    {
     "data": {
      "text/html": [
       "<div>\n",
       "<style scoped>\n",
       "    .dataframe tbody tr th:only-of-type {\n",
       "        vertical-align: middle;\n",
       "    }\n",
       "\n",
       "    .dataframe tbody tr th {\n",
       "        vertical-align: top;\n",
       "    }\n",
       "\n",
       "    .dataframe thead th {\n",
       "        text-align: right;\n",
       "    }\n",
       "</style>\n",
       "<table border=\"1\" class=\"dataframe\">\n",
       "  <thead>\n",
       "    <tr style=\"text-align: right;\">\n",
       "      <th>debt</th>\n",
       "      <th>purpose_group</th>\n",
       "      <th>False</th>\n",
       "      <th>True</th>\n",
       "      <th>All</th>\n",
       "      <th>default_rate</th>\n",
       "    </tr>\n",
       "  </thead>\n",
       "  <tbody>\n",
       "    <tr>\n",
       "      <td>0</td>\n",
       "      <td>car</td>\n",
       "      <td>3903</td>\n",
       "      <td>403</td>\n",
       "      <td>4306</td>\n",
       "      <td>9.359034</td>\n",
       "    </tr>\n",
       "    <tr>\n",
       "      <td>1</td>\n",
       "      <td>education</td>\n",
       "      <td>3643</td>\n",
       "      <td>370</td>\n",
       "      <td>4013</td>\n",
       "      <td>9.220035</td>\n",
       "    </tr>\n",
       "    <tr>\n",
       "      <td>2</td>\n",
       "      <td>real estate</td>\n",
       "      <td>10027</td>\n",
       "      <td>782</td>\n",
       "      <td>10809</td>\n",
       "      <td>7.234712</td>\n",
       "    </tr>\n",
       "    <tr>\n",
       "      <td>3</td>\n",
       "      <td>wedding</td>\n",
       "      <td>2138</td>\n",
       "      <td>186</td>\n",
       "      <td>2324</td>\n",
       "      <td>8.003442</td>\n",
       "    </tr>\n",
       "    <tr>\n",
       "      <td>4</td>\n",
       "      <td>All</td>\n",
       "      <td>19711</td>\n",
       "      <td>1741</td>\n",
       "      <td>21452</td>\n",
       "      <td>8.115793</td>\n",
       "    </tr>\n",
       "  </tbody>\n",
       "</table>\n",
       "</div>"
      ],
      "text/plain": [
       "debt purpose_group  False  True    All  default_rate\n",
       "0              car   3903   403   4306      9.359034\n",
       "1        education   3643   370   4013      9.220035\n",
       "2      real estate  10027   782  10809      7.234712\n",
       "3          wedding   2138   186   2324      8.003442\n",
       "4              All  19711  1741  21452      8.115793"
      ]
     },
     "metadata": {},
     "output_type": "display_data"
    },
    {
     "data": {
      "text/html": [
       "<div>\n",
       "<style scoped>\n",
       "    .dataframe tbody tr th:only-of-type {\n",
       "        vertical-align: middle;\n",
       "    }\n",
       "\n",
       "    .dataframe tbody tr th {\n",
       "        vertical-align: top;\n",
       "    }\n",
       "\n",
       "    .dataframe thead th {\n",
       "        text-align: right;\n",
       "    }\n",
       "</style>\n",
       "<table border=\"1\" class=\"dataframe\">\n",
       "  <thead>\n",
       "    <tr style=\"text-align: right;\">\n",
       "      <th>debt</th>\n",
       "      <th>age_group</th>\n",
       "      <th>False</th>\n",
       "      <th>True</th>\n",
       "      <th>All</th>\n",
       "      <th>default_rate</th>\n",
       "    </tr>\n",
       "  </thead>\n",
       "  <tbody>\n",
       "    <tr>\n",
       "      <td>0</td>\n",
       "      <td>18-29</td>\n",
       "      <td>523</td>\n",
       "      <td>76</td>\n",
       "      <td>599</td>\n",
       "      <td>12.687813</td>\n",
       "    </tr>\n",
       "    <tr>\n",
       "      <td>1</td>\n",
       "      <td>30-59</td>\n",
       "      <td>2870</td>\n",
       "      <td>292</td>\n",
       "      <td>3162</td>\n",
       "      <td>9.234662</td>\n",
       "    </tr>\n",
       "    <tr>\n",
       "      <td>2</td>\n",
       "      <td>60+</td>\n",
       "      <td>491</td>\n",
       "      <td>32</td>\n",
       "      <td>523</td>\n",
       "      <td>6.118547</td>\n",
       "    </tr>\n",
       "    <tr>\n",
       "      <td>3</td>\n",
       "      <td>N/A</td>\n",
       "      <td>19</td>\n",
       "      <td>3</td>\n",
       "      <td>22</td>\n",
       "      <td>13.636364</td>\n",
       "    </tr>\n",
       "    <tr>\n",
       "      <td>4</td>\n",
       "      <td>All</td>\n",
       "      <td>3903</td>\n",
       "      <td>403</td>\n",
       "      <td>4306</td>\n",
       "      <td>9.359034</td>\n",
       "    </tr>\n",
       "  </tbody>\n",
       "</table>\n",
       "</div>"
      ],
      "text/plain": [
       "debt age_group  False  True   All  default_rate\n",
       "0        18-29    523    76   599     12.687813\n",
       "1        30-59   2870   292  3162      9.234662\n",
       "2          60+    491    32   523      6.118547\n",
       "3          N/A     19     3    22     13.636364\n",
       "4          All   3903   403  4306      9.359034"
      ]
     },
     "metadata": {},
     "output_type": "display_data"
    }
   ],
   "source": [
    "loan_purpose = pd.pivot_table(df, index='purpose_group', columns='debt', values='purpose', aggfunc='count', margins=True).reset_index()\n",
    "loan_purpose['default_rate'] = (loan_purpose[True]/loan_purpose['All'])*100\n",
    "#check if there's a tendecy by age \n",
    "loan_purpose2 = pd.pivot_table(df[df['purpose_group'] == 'car' ], index='age_group', columns='debt', values='purpose', aggfunc='count', margins=True).reset_index()\n",
    "loan_purpose2['default_rate'] = (loan_purpose2[True]/loan_purpose2['All'])*100\n",
    "display(loan_purpose, loan_purpose2)"
   ]
  },
  {
   "cell_type": "markdown",
   "metadata": {},
   "source": [
    "### Conclusion"
   ]
  },
  {
   "cell_type": "markdown",
   "metadata": {},
   "source": [
    "People that take a loan for buying a car are the most likely to default on a loan. Also here, the youngest at the top with much higher rate."
   ]
  },
  {
   "cell_type": "markdown",
   "metadata": {},
   "source": [
    "## General conclusion"
   ]
  },
  {
   "cell_type": "markdown",
   "metadata": {},
   "source": [
    "There are some parameters that may affect a potential borrower to repay their debts on time. If a person has kids or if his income is about the average, the more likely he will default the loan. Younger people and borrowers for buying a car are also at risk of being in debt.\n",
    "Some of the criteria are distinct and some with a slight differences. It's better to collect more information about the customers so the conclusions will be consistent and bold in every report. There can be other influences on the conclusions like a major changes in the economy (affected by historical events such as an epidemic) so it will be better to add information about the date the loan was taken. \n",
    "There is also lack of clarity about data calculations and it is important to keep track of how it is stored in the databases."
   ]
  }
 ],
 "metadata": {
  "ExecuteTimeLog": [
   {
    "duration": 1766,
    "start_time": "2021-06-19T09:38:39.717Z"
   },
   {
    "duration": 22,
    "start_time": "2021-06-19T09:38:41.486Z"
   },
   {
    "duration": 7,
    "start_time": "2021-06-19T09:38:41.511Z"
   },
   {
    "duration": 15,
    "start_time": "2021-06-19T09:38:41.521Z"
   },
   {
    "duration": 9,
    "start_time": "2021-06-19T09:38:41.539Z"
   },
   {
    "duration": 62,
    "start_time": "2021-06-19T09:38:41.551Z"
   },
   {
    "duration": 13,
    "start_time": "2021-06-19T09:38:41.616Z"
   },
   {
    "duration": 22,
    "start_time": "2021-06-19T09:38:41.633Z"
   },
   {
    "duration": 47,
    "start_time": "2021-06-19T09:38:41.658Z"
   },
   {
    "duration": 31,
    "start_time": "2021-06-19T09:38:41.707Z"
   },
   {
    "duration": 27,
    "start_time": "2021-06-19T09:38:41.741Z"
   },
   {
    "duration": 40,
    "start_time": "2021-06-19T09:38:41.770Z"
   },
   {
    "duration": 37,
    "start_time": "2021-06-19T09:38:41.813Z"
   },
   {
    "duration": 59,
    "start_time": "2021-06-19T09:38:41.852Z"
   },
   {
    "duration": 97,
    "start_time": "2021-06-19T09:38:41.913Z"
   },
   {
    "duration": 14,
    "start_time": "2021-06-19T09:38:42.013Z"
   },
   {
    "duration": 39,
    "start_time": "2021-06-19T09:38:42.029Z"
   },
   {
    "duration": 101,
    "start_time": "2021-06-19T09:38:42.070Z"
   },
   {
    "duration": 3166,
    "start_time": "2021-06-19T09:38:42.174Z"
   },
   {
    "duration": 5,
    "start_time": "2021-06-19T09:38:45.343Z"
   },
   {
    "duration": 1235,
    "start_time": "2021-06-19T09:38:45.351Z"
   },
   {
    "duration": 22,
    "start_time": "2021-06-19T09:38:46.589Z"
   },
   {
    "duration": 37,
    "start_time": "2021-06-19T09:38:46.618Z"
   },
   {
    "duration": 62,
    "start_time": "2021-06-19T09:38:46.659Z"
   },
   {
    "duration": 16,
    "start_time": "2021-06-19T09:38:46.724Z"
   },
   {
    "duration": 152,
    "start_time": "2021-06-19T09:38:46.743Z"
   },
   {
    "duration": 133,
    "start_time": "2021-06-19T09:38:46.901Z"
   },
   {
    "duration": 130,
    "start_time": "2021-06-19T09:38:47.037Z"
   },
   {
    "duration": 133,
    "start_time": "2021-06-19T09:38:47.169Z"
   },
   {
    "duration": 391,
    "start_time": "2021-06-19T09:52:29.450Z"
   },
   {
    "duration": 30,
    "start_time": "2021-06-19T09:52:34.729Z"
   },
   {
    "duration": 306,
    "start_time": "2021-06-19T11:07:53.731Z"
   },
   {
    "duration": 2538,
    "start_time": "2021-06-19T11:08:09.028Z"
   },
   {
    "duration": 2543,
    "start_time": "2021-06-19T11:55:10.152Z"
   },
   {
    "duration": 22,
    "start_time": "2021-06-19T11:55:12.699Z"
   },
   {
    "duration": 36,
    "start_time": "2021-06-19T11:55:12.725Z"
   },
   {
    "duration": 14,
    "start_time": "2021-06-19T11:55:12.765Z"
   },
   {
    "duration": 9,
    "start_time": "2021-06-19T11:55:12.782Z"
   },
   {
    "duration": 12,
    "start_time": "2021-06-19T11:55:12.794Z"
   },
   {
    "duration": 46,
    "start_time": "2021-06-19T11:55:12.809Z"
   },
   {
    "duration": 15,
    "start_time": "2021-06-19T11:55:12.860Z"
   },
   {
    "duration": 11,
    "start_time": "2021-06-19T11:55:12.878Z"
   },
   {
    "duration": 15,
    "start_time": "2021-06-19T11:55:12.891Z"
   },
   {
    "duration": 70,
    "start_time": "2021-06-19T11:55:12.909Z"
   },
   {
    "duration": 23,
    "start_time": "2021-06-19T11:55:12.982Z"
   },
   {
    "duration": 79,
    "start_time": "2021-06-19T11:55:13.008Z"
   },
   {
    "duration": 35,
    "start_time": "2021-06-19T11:55:13.090Z"
   },
   {
    "duration": 134,
    "start_time": "2021-06-19T11:55:13.156Z"
   },
   {
    "duration": 20,
    "start_time": "2021-06-19T11:55:13.293Z"
   },
   {
    "duration": 91,
    "start_time": "2021-06-19T11:55:13.317Z"
   },
   {
    "duration": 87,
    "start_time": "2021-06-19T11:55:13.411Z"
   },
   {
    "duration": 3601,
    "start_time": "2021-06-19T11:55:13.501Z"
   },
   {
    "duration": 5,
    "start_time": "2021-06-19T11:55:17.105Z"
   },
   {
    "duration": 2274,
    "start_time": "2021-06-19T11:55:17.113Z"
   },
   {
    "duration": 15,
    "start_time": "2021-06-19T11:55:19.390Z"
   },
   {
    "duration": 60,
    "start_time": "2021-06-19T11:55:19.411Z"
   },
   {
    "duration": 29,
    "start_time": "2021-06-19T11:55:19.474Z"
   },
   {
    "duration": 54,
    "start_time": "2021-06-19T11:55:19.506Z"
   },
   {
    "duration": 202,
    "start_time": "2021-06-19T11:55:19.563Z"
   },
   {
    "duration": 201,
    "start_time": "2021-06-19T11:55:19.768Z"
   },
   {
    "duration": 136,
    "start_time": "2021-06-19T11:55:19.972Z"
   },
   {
    "duration": 140,
    "start_time": "2021-06-19T11:55:20.111Z"
   },
   {
    "duration": 27,
    "start_time": "2021-06-19T11:57:06.516Z"
   },
   {
    "duration": 1879,
    "start_time": "2021-06-19T11:57:30.202Z"
   },
   {
    "duration": 15,
    "start_time": "2021-06-19T11:57:32.084Z"
   },
   {
    "duration": 11,
    "start_time": "2021-06-19T11:57:32.103Z"
   },
   {
    "duration": 59,
    "start_time": "2021-06-19T11:57:32.118Z"
   },
   {
    "duration": 13,
    "start_time": "2021-06-19T11:57:32.180Z"
   },
   {
    "duration": 15,
    "start_time": "2021-06-19T11:57:32.196Z"
   },
   {
    "duration": 45,
    "start_time": "2021-06-19T11:57:32.213Z"
   },
   {
    "duration": 17,
    "start_time": "2021-06-19T11:57:32.261Z"
   },
   {
    "duration": 12,
    "start_time": "2021-06-19T11:57:32.282Z"
   },
   {
    "duration": 15,
    "start_time": "2021-06-19T11:57:32.297Z"
   },
   {
    "duration": 64,
    "start_time": "2021-06-19T11:57:32.315Z"
   },
   {
    "duration": 31,
    "start_time": "2021-06-19T11:57:32.382Z"
   },
   {
    "duration": 67,
    "start_time": "2021-06-19T11:57:32.416Z"
   },
   {
    "duration": 32,
    "start_time": "2021-06-19T11:57:32.485Z"
   },
   {
    "duration": 110,
    "start_time": "2021-06-19T11:57:32.520Z"
   },
   {
    "duration": 35,
    "start_time": "2021-06-19T11:57:32.633Z"
   },
   {
    "duration": 42,
    "start_time": "2021-06-19T11:57:32.671Z"
   },
   {
    "duration": 68,
    "start_time": "2021-06-19T11:57:32.715Z"
   },
   {
    "duration": 2056,
    "start_time": "2021-06-19T11:57:32.785Z"
   },
   {
    "duration": 12,
    "start_time": "2021-06-19T11:57:34.844Z"
   },
   {
    "duration": 1208,
    "start_time": "2021-06-19T11:57:34.859Z"
   },
   {
    "duration": 11,
    "start_time": "2021-06-19T11:57:36.069Z"
   },
   {
    "duration": 28,
    "start_time": "2021-06-19T11:57:36.083Z"
   },
   {
    "duration": 52,
    "start_time": "2021-06-19T11:57:36.113Z"
   },
   {
    "duration": 16,
    "start_time": "2021-06-19T11:57:36.167Z"
   },
   {
    "duration": 158,
    "start_time": "2021-06-19T11:57:36.186Z"
   },
   {
    "duration": 130,
    "start_time": "2021-06-19T11:57:36.356Z"
   },
   {
    "duration": 138,
    "start_time": "2021-06-19T11:57:36.489Z"
   },
   {
    "duration": 137,
    "start_time": "2021-06-19T11:57:36.629Z"
   },
   {
    "duration": 12,
    "start_time": "2021-06-19T12:55:20.482Z"
   },
   {
    "duration": 22,
    "start_time": "2021-06-19T12:55:26.538Z"
   },
   {
    "duration": 1343,
    "start_time": "2021-06-19T13:03:23.554Z"
   },
   {
    "duration": 278,
    "start_time": "2021-06-19T13:03:31.477Z"
   },
   {
    "duration": 266,
    "start_time": "2021-06-19T13:03:45.193Z"
   },
   {
    "duration": 266,
    "start_time": "2021-06-19T13:05:09.318Z"
   },
   {
    "duration": 1773,
    "start_time": "2021-06-19T13:05:53.355Z"
   },
   {
    "duration": 14,
    "start_time": "2021-06-19T13:05:55.131Z"
   },
   {
    "duration": 10,
    "start_time": "2021-06-19T13:05:55.157Z"
   },
   {
    "duration": 27,
    "start_time": "2021-06-19T13:05:55.171Z"
   },
   {
    "duration": 749,
    "start_time": "2021-06-19T13:05:55.201Z"
   },
   {
    "duration": 550,
    "start_time": "2021-06-19T13:05:55.404Z"
   },
   {
    "duration": 548,
    "start_time": "2021-06-19T13:05:55.408Z"
   },
   {
    "duration": 547,
    "start_time": "2021-06-19T13:05:55.410Z"
   },
   {
    "duration": 546,
    "start_time": "2021-06-19T13:05:55.413Z"
   },
   {
    "duration": 545,
    "start_time": "2021-06-19T13:05:55.415Z"
   },
   {
    "duration": 539,
    "start_time": "2021-06-19T13:05:55.422Z"
   },
   {
    "duration": 538,
    "start_time": "2021-06-19T13:05:55.425Z"
   },
   {
    "duration": 534,
    "start_time": "2021-06-19T13:05:55.430Z"
   },
   {
    "duration": 533,
    "start_time": "2021-06-19T13:05:55.433Z"
   },
   {
    "duration": 527,
    "start_time": "2021-06-19T13:05:55.440Z"
   },
   {
    "duration": 489,
    "start_time": "2021-06-19T13:05:55.479Z"
   },
   {
    "duration": 482,
    "start_time": "2021-06-19T13:05:55.487Z"
   },
   {
    "duration": 370,
    "start_time": "2021-06-19T13:05:55.601Z"
   },
   {
    "duration": 360,
    "start_time": "2021-06-19T13:05:55.612Z"
   },
   {
    "duration": 357,
    "start_time": "2021-06-19T13:05:55.617Z"
   },
   {
    "duration": 346,
    "start_time": "2021-06-19T13:05:55.629Z"
   },
   {
    "duration": 345,
    "start_time": "2021-06-19T13:05:55.631Z"
   },
   {
    "duration": 341,
    "start_time": "2021-06-19T13:05:55.636Z"
   },
   {
    "duration": 332,
    "start_time": "2021-06-19T13:05:55.647Z"
   },
   {
    "duration": 328,
    "start_time": "2021-06-19T13:05:55.652Z"
   },
   {
    "duration": 319,
    "start_time": "2021-06-19T13:05:55.663Z"
   },
   {
    "duration": 314,
    "start_time": "2021-06-19T13:05:55.669Z"
   },
   {
    "duration": 305,
    "start_time": "2021-06-19T13:05:55.679Z"
   },
   {
    "duration": 269,
    "start_time": "2021-06-19T13:05:55.717Z"
   },
   {
    "duration": 259,
    "start_time": "2021-06-19T13:05:55.728Z"
   },
   {
    "duration": 254,
    "start_time": "2021-06-19T13:05:55.735Z"
   },
   {
    "duration": 2089,
    "start_time": "2021-06-19T13:09:46.744Z"
   },
   {
    "duration": 17,
    "start_time": "2021-06-19T13:09:52.716Z"
   },
   {
    "duration": 10,
    "start_time": "2021-06-19T13:09:57.581Z"
   },
   {
    "duration": 21,
    "start_time": "2021-06-19T13:10:00.429Z"
   },
   {
    "duration": 435,
    "start_time": "2021-06-19T13:10:03.633Z"
   },
   {
    "duration": 258,
    "start_time": "2021-06-19T13:10:39.169Z"
   },
   {
    "duration": 266,
    "start_time": "2021-06-19T13:11:27.657Z"
   },
   {
    "duration": 266,
    "start_time": "2021-06-19T13:11:40.420Z"
   },
   {
    "duration": 291,
    "start_time": "2021-06-19T13:15:28.146Z"
   },
   {
    "duration": 255,
    "start_time": "2021-06-19T13:15:55.123Z"
   },
   {
    "duration": 280,
    "start_time": "2021-06-19T13:17:25.497Z"
   },
   {
    "duration": 1749,
    "start_time": "2021-06-19T13:17:35.161Z"
   },
   {
    "duration": 300,
    "start_time": "2021-06-19T13:19:14.913Z"
   },
   {
    "duration": 265,
    "start_time": "2021-06-19T13:19:28.444Z"
   },
   {
    "duration": 18,
    "start_time": "2021-06-19T13:21:12.249Z"
   },
   {
    "duration": 16,
    "start_time": "2021-06-19T13:21:21.081Z"
   },
   {
    "duration": 13,
    "start_time": "2021-06-19T13:21:37.619Z"
   },
   {
    "duration": 6,
    "start_time": "2021-06-19T13:34:12.328Z"
   },
   {
    "duration": 1876,
    "start_time": "2021-06-19T13:36:31.327Z"
   },
   {
    "duration": 15,
    "start_time": "2021-06-19T13:36:33.206Z"
   },
   {
    "duration": 34,
    "start_time": "2021-06-19T13:36:33.225Z"
   },
   {
    "duration": 19,
    "start_time": "2021-06-19T13:36:33.262Z"
   },
   {
    "duration": 16,
    "start_time": "2021-06-19T13:36:33.284Z"
   },
   {
    "duration": 7,
    "start_time": "2021-06-19T13:36:33.303Z"
   },
   {
    "duration": 62,
    "start_time": "2021-06-19T13:36:33.312Z"
   },
   {
    "duration": 9,
    "start_time": "2021-06-19T13:36:33.377Z"
   },
   {
    "duration": 10,
    "start_time": "2021-06-19T13:36:33.390Z"
   },
   {
    "duration": 10,
    "start_time": "2021-06-19T13:36:33.403Z"
   },
   {
    "duration": 53,
    "start_time": "2021-06-19T13:36:33.415Z"
   },
   {
    "duration": 11,
    "start_time": "2021-06-19T13:36:33.471Z"
   },
   {
    "duration": 23,
    "start_time": "2021-06-19T13:36:33.484Z"
   },
   {
    "duration": 66,
    "start_time": "2021-06-19T13:36:33.509Z"
   },
   {
    "duration": 25,
    "start_time": "2021-06-19T13:36:33.578Z"
   },
   {
    "duration": 66,
    "start_time": "2021-06-19T13:36:33.606Z"
   },
   {
    "duration": 31,
    "start_time": "2021-06-19T13:36:33.675Z"
   },
   {
    "duration": 109,
    "start_time": "2021-06-19T13:36:33.709Z"
   },
   {
    "duration": 16,
    "start_time": "2021-06-19T13:36:33.820Z"
   },
   {
    "duration": 42,
    "start_time": "2021-06-19T13:36:33.857Z"
   },
   {
    "duration": 63,
    "start_time": "2021-06-19T13:36:33.902Z"
   },
   {
    "duration": 2021,
    "start_time": "2021-06-19T13:36:33.967Z"
   },
   {
    "duration": 4,
    "start_time": "2021-06-19T13:36:35.990Z"
   },
   {
    "duration": 1204,
    "start_time": "2021-06-19T13:36:35.997Z"
   },
   {
    "duration": 11,
    "start_time": "2021-06-19T13:36:37.203Z"
   },
   {
    "duration": 52,
    "start_time": "2021-06-19T13:36:37.217Z"
   },
   {
    "duration": 21,
    "start_time": "2021-06-19T13:36:37.273Z"
   },
   {
    "duration": 16,
    "start_time": "2021-06-19T13:36:37.296Z"
   },
   {
    "duration": 162,
    "start_time": "2021-06-19T13:36:37.314Z"
   },
   {
    "duration": 133,
    "start_time": "2021-06-19T13:36:37.479Z"
   },
   {
    "duration": 144,
    "start_time": "2021-06-19T13:36:37.614Z"
   },
   {
    "duration": 137,
    "start_time": "2021-06-19T13:36:37.760Z"
   },
   {
    "duration": 1756,
    "start_time": "2021-06-19T13:41:38.885Z"
   },
   {
    "duration": 20,
    "start_time": "2021-06-19T13:41:40.643Z"
   },
   {
    "duration": 10,
    "start_time": "2021-06-19T13:41:40.665Z"
   },
   {
    "duration": 22,
    "start_time": "2021-06-19T13:41:40.677Z"
   },
   {
    "duration": 19,
    "start_time": "2021-06-19T13:41:40.701Z"
   },
   {
    "duration": 35,
    "start_time": "2021-06-19T13:41:40.723Z"
   },
   {
    "duration": 20,
    "start_time": "2021-06-19T13:41:40.761Z"
   },
   {
    "duration": 17,
    "start_time": "2021-06-19T13:41:40.784Z"
   },
   {
    "duration": 11,
    "start_time": "2021-06-19T13:41:40.804Z"
   },
   {
    "duration": 21,
    "start_time": "2021-06-19T13:41:40.817Z"
   },
   {
    "duration": 16,
    "start_time": "2021-06-19T13:41:40.857Z"
   },
   {
    "duration": 11,
    "start_time": "2021-06-19T13:41:40.875Z"
   },
   {
    "duration": 19,
    "start_time": "2021-06-19T13:41:40.888Z"
   },
   {
    "duration": 68,
    "start_time": "2021-06-19T13:41:40.910Z"
   },
   {
    "duration": 25,
    "start_time": "2021-06-19T13:41:40.981Z"
   },
   {
    "duration": 67,
    "start_time": "2021-06-19T13:41:41.008Z"
   },
   {
    "duration": 32,
    "start_time": "2021-06-19T13:41:41.077Z"
   },
   {
    "duration": 105,
    "start_time": "2021-06-19T13:41:41.111Z"
   },
   {
    "duration": 15,
    "start_time": "2021-06-19T13:41:41.218Z"
   },
   {
    "duration": 42,
    "start_time": "2021-06-19T13:41:41.256Z"
   },
   {
    "duration": 67,
    "start_time": "2021-06-19T13:41:41.301Z"
   },
   {
    "duration": 2292,
    "start_time": "2021-06-19T13:41:41.370Z"
   },
   {
    "duration": 6,
    "start_time": "2021-06-19T13:41:43.669Z"
   },
   {
    "duration": 2236,
    "start_time": "2021-06-19T13:41:43.678Z"
   },
   {
    "duration": 14,
    "start_time": "2021-06-19T13:41:45.917Z"
   },
   {
    "duration": 46,
    "start_time": "2021-06-19T13:41:45.933Z"
   },
   {
    "duration": 20,
    "start_time": "2021-06-19T13:41:45.981Z"
   },
   {
    "duration": 17,
    "start_time": "2021-06-19T13:41:46.004Z"
   },
   {
    "duration": 128,
    "start_time": "2021-06-19T13:41:46.055Z"
   },
   {
    "duration": 126,
    "start_time": "2021-06-19T13:41:46.185Z"
   },
   {
    "duration": 135,
    "start_time": "2021-06-19T13:41:46.313Z"
   },
   {
    "duration": 134,
    "start_time": "2021-06-19T13:41:46.450Z"
   },
   {
    "duration": 1700,
    "start_time": "2021-06-20T07:40:32.673Z"
   },
   {
    "duration": 15,
    "start_time": "2021-06-20T07:40:34.375Z"
   },
   {
    "duration": 9,
    "start_time": "2021-06-20T07:40:34.393Z"
   },
   {
    "duration": 20,
    "start_time": "2021-06-20T07:40:34.405Z"
   },
   {
    "duration": 13,
    "start_time": "2021-06-20T07:40:34.427Z"
   },
   {
    "duration": 5,
    "start_time": "2021-06-20T07:40:34.442Z"
   },
   {
    "duration": 14,
    "start_time": "2021-06-20T07:40:34.484Z"
   },
   {
    "duration": 8,
    "start_time": "2021-06-20T07:40:34.502Z"
   },
   {
    "duration": 10,
    "start_time": "2021-06-20T07:40:34.513Z"
   },
   {
    "duration": 9,
    "start_time": "2021-06-20T07:40:34.525Z"
   },
   {
    "duration": 59,
    "start_time": "2021-06-20T07:40:34.536Z"
   },
   {
    "duration": 12,
    "start_time": "2021-06-20T07:40:34.597Z"
   },
   {
    "duration": 17,
    "start_time": "2021-06-20T07:40:34.612Z"
   },
   {
    "duration": 65,
    "start_time": "2021-06-20T07:40:34.631Z"
   },
   {
    "duration": 22,
    "start_time": "2021-06-20T07:40:34.698Z"
   },
   {
    "duration": 64,
    "start_time": "2021-06-20T07:40:34.723Z"
   },
   {
    "duration": 30,
    "start_time": "2021-06-20T07:40:34.789Z"
   },
   {
    "duration": 97,
    "start_time": "2021-06-20T07:40:34.821Z"
   },
   {
    "duration": 14,
    "start_time": "2021-06-20T07:40:34.921Z"
   },
   {
    "duration": 72,
    "start_time": "2021-06-20T07:40:34.937Z"
   },
   {
    "duration": 47,
    "start_time": "2021-06-20T07:40:35.012Z"
   },
   {
    "duration": 1883,
    "start_time": "2021-06-20T07:40:35.084Z"
   },
   {
    "duration": 12,
    "start_time": "2021-06-20T07:40:36.973Z"
   },
   {
    "duration": 1111,
    "start_time": "2021-06-20T07:40:36.988Z"
   },
   {
    "duration": 10,
    "start_time": "2021-06-20T07:40:38.101Z"
   },
   {
    "duration": 26,
    "start_time": "2021-06-20T07:40:38.113Z"
   },
   {
    "duration": 55,
    "start_time": "2021-06-20T07:40:38.141Z"
   },
   {
    "duration": 16,
    "start_time": "2021-06-20T07:40:38.198Z"
   },
   {
    "duration": 132,
    "start_time": "2021-06-20T07:40:38.217Z"
   },
   {
    "duration": 123,
    "start_time": "2021-06-20T07:40:38.351Z"
   },
   {
    "duration": 125,
    "start_time": "2021-06-20T07:40:38.484Z"
   },
   {
    "duration": 142,
    "start_time": "2021-06-20T07:40:38.612Z"
   }
  ],
  "kernelspec": {
   "display_name": "Python 3",
   "language": "python",
   "name": "python3"
  },
  "language_info": {
   "codemirror_mode": {
    "name": "ipython",
    "version": 3
   },
   "file_extension": ".py",
   "mimetype": "text/x-python",
   "name": "python",
   "nbconvert_exporter": "python",
   "pygments_lexer": "ipython3",
   "version": "3.8.5"
  },
  "toc": {
   "base_numbering": 1,
   "nav_menu": {},
   "number_sections": true,
   "sideBar": true,
   "skip_h1_title": true,
   "title_cell": "Table of Contents",
   "title_sidebar": "Contents",
   "toc_cell": false,
   "toc_position": {},
   "toc_section_display": true,
   "toc_window_display": false
  }
 },
 "nbformat": 4,
 "nbformat_minor": 2
}
