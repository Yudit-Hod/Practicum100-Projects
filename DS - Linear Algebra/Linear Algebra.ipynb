{
 "cells": [
  {
   "cell_type": "markdown",
   "metadata": {},
   "source": [
    "# Statement"
   ]
  },
  {
   "cell_type": "markdown",
   "metadata": {},
   "source": [
    "The Sure Tomorrow insurance company wants to solve several tasks with the help of Machine Learning and you are asked to evaluate that possibility.\n",
    "\n",
    "- Task 1: Find customers who are similar to a given customer. This will help the company's agents with marketing.\n",
    "- Task 2: Predict whether a new customer is likely to receive an insurance benefit. Can a prediction model do better than a dummy model?\n",
    "- Task 3: Predict the number of insurance benefits a new customer is likely to receive using a linear regression model.\n",
    "- Task 4: Protect clients' personal data without breaking the model from the previous task. It's necessary to develop a data transformation algorithm that would make it hard to recover personal information if the data fell into the wrong hands. This is called data masking, or data obfuscation. But the data should be protected in such a way that the quality of machine learning models doesn't suffer. You don't need to pick the best model, just prove that the algorithm works correctly."
   ]
  },
  {
   "cell_type": "markdown",
   "metadata": {},
   "source": [
    "# Data Preprocessing & Exploration\n",
    "\n",
    "## Initialization"
   ]
  },
  {
   "cell_type": "code",
   "execution_count": 37,
   "metadata": {},
   "outputs": [],
   "source": [
    "import numpy as np\n",
    "import pandas as pd\n",
    "import math\n",
    "import seaborn as sns\n",
    "\n",
    "\n",
    "import sklearn.linear_model\n",
    "import sklearn.metrics\n",
    "import sklearn.neighbors as neigh\n",
    "import sklearn.preprocessing\n",
    "from sklearn.linear_model import LinearRegression\n",
    "\n",
    "from sklearn.model_selection import train_test_split\n",
    "\n",
    "from IPython.display import display\n",
    "from sklearn.utils import shuffle\n",
    "\n",
    "#ignore warnings\n",
    "import sys\n",
    "import warnings\n",
    "if not sys.warnoptions:\n",
    "       warnings.simplefilter(\"ignore\")"
   ]
  },
  {
   "cell_type": "markdown",
   "metadata": {},
   "source": [
    "## Load Data"
   ]
  },
  {
   "cell_type": "markdown",
   "metadata": {},
   "source": [
    "Load data and conduct a basic check that it's free from obvious issues."
   ]
  },
  {
   "cell_type": "code",
   "execution_count": 3,
   "metadata": {},
   "outputs": [],
   "source": [
    "df = pd.read_csv('/datasets/insurance_us.csv')"
   ]
  },
  {
   "cell_type": "markdown",
   "metadata": {},
   "source": [
    "We rename the colums to make the code look more consistent with its style."
   ]
  },
  {
   "cell_type": "code",
   "execution_count": 4,
   "metadata": {},
   "outputs": [],
   "source": [
    "df = df.rename(columns={'Gender': 'gender', 'Age': 'age', 'Salary': 'income', 'Family members': 'family_members', 'Insurance benefits': 'insurance_benefits'})"
   ]
  },
  {
   "cell_type": "code",
   "execution_count": 5,
   "metadata": {},
   "outputs": [
    {
     "data": {
      "text/html": [
       "<div>\n",
       "<style scoped>\n",
       "    .dataframe tbody tr th:only-of-type {\n",
       "        vertical-align: middle;\n",
       "    }\n",
       "\n",
       "    .dataframe tbody tr th {\n",
       "        vertical-align: top;\n",
       "    }\n",
       "\n",
       "    .dataframe thead th {\n",
       "        text-align: right;\n",
       "    }\n",
       "</style>\n",
       "<table border=\"1\" class=\"dataframe\">\n",
       "  <thead>\n",
       "    <tr style=\"text-align: right;\">\n",
       "      <th></th>\n",
       "      <th>gender</th>\n",
       "      <th>age</th>\n",
       "      <th>income</th>\n",
       "      <th>family_members</th>\n",
       "      <th>insurance_benefits</th>\n",
       "    </tr>\n",
       "  </thead>\n",
       "  <tbody>\n",
       "    <tr>\n",
       "      <td>2927</td>\n",
       "      <td>0</td>\n",
       "      <td>41.0</td>\n",
       "      <td>33800.0</td>\n",
       "      <td>2</td>\n",
       "      <td>0</td>\n",
       "    </tr>\n",
       "    <tr>\n",
       "      <td>4797</td>\n",
       "      <td>1</td>\n",
       "      <td>29.0</td>\n",
       "      <td>36600.0</td>\n",
       "      <td>2</td>\n",
       "      <td>0</td>\n",
       "    </tr>\n",
       "    <tr>\n",
       "      <td>3288</td>\n",
       "      <td>1</td>\n",
       "      <td>24.0</td>\n",
       "      <td>44300.0</td>\n",
       "      <td>2</td>\n",
       "      <td>0</td>\n",
       "    </tr>\n",
       "    <tr>\n",
       "      <td>1168</td>\n",
       "      <td>1</td>\n",
       "      <td>31.0</td>\n",
       "      <td>38600.0</td>\n",
       "      <td>0</td>\n",
       "      <td>0</td>\n",
       "    </tr>\n",
       "    <tr>\n",
       "      <td>2813</td>\n",
       "      <td>1</td>\n",
       "      <td>28.0</td>\n",
       "      <td>39400.0</td>\n",
       "      <td>1</td>\n",
       "      <td>0</td>\n",
       "    </tr>\n",
       "    <tr>\n",
       "      <td>2967</td>\n",
       "      <td>0</td>\n",
       "      <td>27.0</td>\n",
       "      <td>34700.0</td>\n",
       "      <td>0</td>\n",
       "      <td>0</td>\n",
       "    </tr>\n",
       "    <tr>\n",
       "      <td>2192</td>\n",
       "      <td>0</td>\n",
       "      <td>25.0</td>\n",
       "      <td>46200.0</td>\n",
       "      <td>0</td>\n",
       "      <td>0</td>\n",
       "    </tr>\n",
       "    <tr>\n",
       "      <td>703</td>\n",
       "      <td>1</td>\n",
       "      <td>30.0</td>\n",
       "      <td>41700.0</td>\n",
       "      <td>2</td>\n",
       "      <td>0</td>\n",
       "    </tr>\n",
       "    <tr>\n",
       "      <td>3188</td>\n",
       "      <td>1</td>\n",
       "      <td>30.0</td>\n",
       "      <td>52600.0</td>\n",
       "      <td>2</td>\n",
       "      <td>0</td>\n",
       "    </tr>\n",
       "    <tr>\n",
       "      <td>1022</td>\n",
       "      <td>0</td>\n",
       "      <td>21.0</td>\n",
       "      <td>45800.0</td>\n",
       "      <td>0</td>\n",
       "      <td>0</td>\n",
       "    </tr>\n",
       "  </tbody>\n",
       "</table>\n",
       "</div>"
      ],
      "text/plain": [
       "      gender   age   income  family_members  insurance_benefits\n",
       "2927       0  41.0  33800.0               2                   0\n",
       "4797       1  29.0  36600.0               2                   0\n",
       "3288       1  24.0  44300.0               2                   0\n",
       "1168       1  31.0  38600.0               0                   0\n",
       "2813       1  28.0  39400.0               1                   0\n",
       "2967       0  27.0  34700.0               0                   0\n",
       "2192       0  25.0  46200.0               0                   0\n",
       "703        1  30.0  41700.0               2                   0\n",
       "3188       1  30.0  52600.0               2                   0\n",
       "1022       0  21.0  45800.0               0                   0"
      ]
     },
     "execution_count": 5,
     "metadata": {},
     "output_type": "execute_result"
    }
   ],
   "source": [
    "df.sample(10)"
   ]
  },
  {
   "cell_type": "code",
   "execution_count": 6,
   "metadata": {},
   "outputs": [
    {
     "name": "stdout",
     "output_type": "stream",
     "text": [
      "<class 'pandas.core.frame.DataFrame'>\n",
      "RangeIndex: 5000 entries, 0 to 4999\n",
      "Data columns (total 5 columns):\n",
      "gender                5000 non-null int64\n",
      "age                   5000 non-null float64\n",
      "income                5000 non-null float64\n",
      "family_members        5000 non-null int64\n",
      "insurance_benefits    5000 non-null int64\n",
      "dtypes: float64(2), int64(3)\n",
      "memory usage: 195.4 KB\n"
     ]
    }
   ],
   "source": [
    "df.info()"
   ]
  },
  {
   "cell_type": "code",
   "execution_count": 7,
   "metadata": {},
   "outputs": [],
   "source": [
    "# we may want to fix the age type (from float to int) though this is not critical\n",
    "df['age'] = df['age'].astype('int32')"
   ]
  },
  {
   "cell_type": "code",
   "execution_count": 8,
   "metadata": {},
   "outputs": [
    {
     "name": "stdout",
     "output_type": "stream",
     "text": [
      "<class 'pandas.core.frame.DataFrame'>\n",
      "RangeIndex: 5000 entries, 0 to 4999\n",
      "Data columns (total 5 columns):\n",
      "gender                5000 non-null int64\n",
      "age                   5000 non-null int32\n",
      "income                5000 non-null float64\n",
      "family_members        5000 non-null int64\n",
      "insurance_benefits    5000 non-null int64\n",
      "dtypes: float64(1), int32(1), int64(3)\n",
      "memory usage: 175.9 KB\n"
     ]
    }
   ],
   "source": [
    "# check to see that the conversion was successful\n",
    "df.info()"
   ]
  },
  {
   "cell_type": "markdown",
   "metadata": {},
   "source": [
    "As we don't have any unique identifier, we will assume that there are no duplicated row because this is reasonable that some records will have the same values. "
   ]
  },
  {
   "cell_type": "code",
   "execution_count": 10,
   "metadata": {},
   "outputs": [
    {
     "data": {
      "text/html": [
       "<div>\n",
       "<style scoped>\n",
       "    .dataframe tbody tr th:only-of-type {\n",
       "        vertical-align: middle;\n",
       "    }\n",
       "\n",
       "    .dataframe tbody tr th {\n",
       "        vertical-align: top;\n",
       "    }\n",
       "\n",
       "    .dataframe thead th {\n",
       "        text-align: right;\n",
       "    }\n",
       "</style>\n",
       "<table border=\"1\" class=\"dataframe\">\n",
       "  <thead>\n",
       "    <tr style=\"text-align: right;\">\n",
       "      <th></th>\n",
       "      <th>gender</th>\n",
       "      <th>age</th>\n",
       "      <th>income</th>\n",
       "      <th>family_members</th>\n",
       "      <th>insurance_benefits</th>\n",
       "    </tr>\n",
       "  </thead>\n",
       "  <tbody>\n",
       "    <tr>\n",
       "      <td>count</td>\n",
       "      <td>5000.000000</td>\n",
       "      <td>5000.000000</td>\n",
       "      <td>5000.000000</td>\n",
       "      <td>5000.000000</td>\n",
       "      <td>5000.000000</td>\n",
       "    </tr>\n",
       "    <tr>\n",
       "      <td>mean</td>\n",
       "      <td>0.499000</td>\n",
       "      <td>30.952800</td>\n",
       "      <td>39916.360000</td>\n",
       "      <td>1.194200</td>\n",
       "      <td>0.148000</td>\n",
       "    </tr>\n",
       "    <tr>\n",
       "      <td>std</td>\n",
       "      <td>0.500049</td>\n",
       "      <td>8.440807</td>\n",
       "      <td>9900.083569</td>\n",
       "      <td>1.091387</td>\n",
       "      <td>0.463183</td>\n",
       "    </tr>\n",
       "    <tr>\n",
       "      <td>min</td>\n",
       "      <td>0.000000</td>\n",
       "      <td>18.000000</td>\n",
       "      <td>5300.000000</td>\n",
       "      <td>0.000000</td>\n",
       "      <td>0.000000</td>\n",
       "    </tr>\n",
       "    <tr>\n",
       "      <td>25%</td>\n",
       "      <td>0.000000</td>\n",
       "      <td>24.000000</td>\n",
       "      <td>33300.000000</td>\n",
       "      <td>0.000000</td>\n",
       "      <td>0.000000</td>\n",
       "    </tr>\n",
       "    <tr>\n",
       "      <td>50%</td>\n",
       "      <td>0.000000</td>\n",
       "      <td>30.000000</td>\n",
       "      <td>40200.000000</td>\n",
       "      <td>1.000000</td>\n",
       "      <td>0.000000</td>\n",
       "    </tr>\n",
       "    <tr>\n",
       "      <td>75%</td>\n",
       "      <td>1.000000</td>\n",
       "      <td>37.000000</td>\n",
       "      <td>46600.000000</td>\n",
       "      <td>2.000000</td>\n",
       "      <td>0.000000</td>\n",
       "    </tr>\n",
       "    <tr>\n",
       "      <td>max</td>\n",
       "      <td>1.000000</td>\n",
       "      <td>65.000000</td>\n",
       "      <td>79000.000000</td>\n",
       "      <td>6.000000</td>\n",
       "      <td>5.000000</td>\n",
       "    </tr>\n",
       "  </tbody>\n",
       "</table>\n",
       "</div>"
      ],
      "text/plain": [
       "            gender          age        income  family_members  \\\n",
       "count  5000.000000  5000.000000   5000.000000     5000.000000   \n",
       "mean      0.499000    30.952800  39916.360000        1.194200   \n",
       "std       0.500049     8.440807   9900.083569        1.091387   \n",
       "min       0.000000    18.000000   5300.000000        0.000000   \n",
       "25%       0.000000    24.000000  33300.000000        0.000000   \n",
       "50%       0.000000    30.000000  40200.000000        1.000000   \n",
       "75%       1.000000    37.000000  46600.000000        2.000000   \n",
       "max       1.000000    65.000000  79000.000000        6.000000   \n",
       "\n",
       "       insurance_benefits  \n",
       "count         5000.000000  \n",
       "mean             0.148000  \n",
       "std              0.463183  \n",
       "min              0.000000  \n",
       "25%              0.000000  \n",
       "50%              0.000000  \n",
       "75%              0.000000  \n",
       "max              5.000000  "
      ]
     },
     "execution_count": 10,
     "metadata": {},
     "output_type": "execute_result"
    }
   ],
   "source": [
    "df.describe()"
   ]
  },
  {
   "cell_type": "markdown",
   "metadata": {},
   "source": [
    "There are no missing values, and the range of the values seem to be reasonable and it doesn't seem to have any extreme values. Now we'll need to see the distributions of the features. (It is not clear what is the encoding of the gender but for now it's not relevant as long as it is balanced)."
   ]
  },
  {
   "cell_type": "markdown",
   "metadata": {},
   "source": [
    "## EDA"
   ]
  },
  {
   "cell_type": "markdown",
   "metadata": {},
   "source": [
    "Let's quickly check whether there are certain groups of customers by looking at the pair plot."
   ]
  },
  {
   "cell_type": "code",
   "execution_count": 11,
   "metadata": {},
   "outputs": [
    {
     "data": {
      "image/png": "[encoded data removed]",
      "text/plain": [
       "<Figure size 864x864 with 30 Axes>"
      ]
     },
     "metadata": {
      "needs_background": "light"
     },
     "output_type": "display_data"
    }
   ],
   "source": [
    "g = sns.pairplot(df, kind='hist')\n",
    "g.fig.set_size_inches(12, 12)"
   ]
  },
  {
   "cell_type": "markdown",
   "metadata": {},
   "source": [
    "Ok, it is a bit difficult to spot obvious groups (clusters) as it is difficult to combine several variables simultaneously (to analyze multivariate distributions). That's where LA and ML can be quite handy."
   ]
  },
  {
   "cell_type": "markdown",
   "metadata": {},
   "source": [
    "# Task 1. Similar Customers"
   ]
  },
  {
   "cell_type": "markdown",
   "metadata": {},
   "source": [
    "Write a function that returns k nearest neighbors for an $n^{th}$ object based on a specified distance metric. The number of received insurance benefits should not be taken into account for this task. \n",
    "\n",
    "You can use a ready implementation of the kNN algorithm from scikit-learn (check [the link](https://scikit-learn.org/stable/modules/generated/sklearn.neighbors.NearestNeighbors.html#sklearn.neighbors.NearestNeighbors)) or use your own.\n",
    "\n",
    "Test it for four combination of two cases\n",
    "- Scaling\n",
    "  - the data is not scaled\n",
    "  - the data is scaled with the [MaxAbsScaler](https://scikit-learn.org/stable/modules/generated/sklearn.preprocessing.MaxAbsScaler.html) scaler\n",
    "- Distance Metrics\n",
    "  - Euclidean\n",
    "  - Manhattan\n",
    "\n",
    "Answer these questions:\n",
    "- Does the data being not scaled affect the kNN algorithm? If so, how does that appear?\n",
    "- How similar are the results using the Manhattan distance metric (regardless of the scaling)?"
   ]
  },
  {
   "cell_type": "code",
   "execution_count": 12,
   "metadata": {},
   "outputs": [],
   "source": [
    "feature_names = ['gender', 'age', 'income', 'family_members']"
   ]
  },
  {
   "cell_type": "code",
   "execution_count": 13,
   "metadata": {},
   "outputs": [],
   "source": [
    "def get_knn(df, n, k, metric):\n",
    "    \n",
    "    \"\"\"\n",
    "    Returns k nearest neighbors\n",
    "\n",
    "    :param df: pandas DataFrame used to find similar objects within\n",
    "    :param n: object no for which the nearest neighbours are looked for\n",
    "    :param k: the number of the nearest neighbours to return\n",
    "    :param metric: name of distance metric\n",
    "    \"\"\"\n",
    "\n",
    "    nbrs = neigh.NearestNeighbors(n_neighbors = k, metric = metric) \n",
    "    nbrs.fit(df[feature_names])\n",
    "    nbrs_distances, nbrs_indices = nbrs.kneighbors([df.iloc[n][feature_names]], k, return_distance=True)\n",
    "    \n",
    "    df_res = pd.concat([\n",
    "        df.iloc[nbrs_indices[0]], \n",
    "        pd.DataFrame(nbrs_distances.T, index=nbrs_indices[0], columns=['distance'])\n",
    "        ], axis=1)\n",
    "    \n",
    "    return df_res"
   ]
  },
  {
   "cell_type": "markdown",
   "metadata": {},
   "source": [
    "Scaling the data."
   ]
  },
  {
   "cell_type": "code",
   "execution_count": 14,
   "metadata": {},
   "outputs": [],
   "source": [
    "feature_names = ['gender', 'age', 'income', 'family_members']\n",
    "\n",
    "transformer_mas = sklearn.preprocessing.MaxAbsScaler().fit(df[feature_names].to_numpy())\n",
    "\n",
    "df_scaled = df.copy()\n",
    "df_scaled.loc[:, feature_names] = transformer_mas.transform(df[feature_names].to_numpy())"
   ]
  },
  {
   "cell_type": "code",
   "execution_count": 15,
   "metadata": {},
   "outputs": [
    {
     "data": {
      "text/html": [
       "<div>\n",
       "<style scoped>\n",
       "    .dataframe tbody tr th:only-of-type {\n",
       "        vertical-align: middle;\n",
       "    }\n",
       "\n",
       "    .dataframe tbody tr th {\n",
       "        vertical-align: top;\n",
       "    }\n",
       "\n",
       "    .dataframe thead th {\n",
       "        text-align: right;\n",
       "    }\n",
       "</style>\n",
       "<table border=\"1\" class=\"dataframe\">\n",
       "  <thead>\n",
       "    <tr style=\"text-align: right;\">\n",
       "      <th></th>\n",
       "      <th>gender</th>\n",
       "      <th>age</th>\n",
       "      <th>income</th>\n",
       "      <th>family_members</th>\n",
       "      <th>insurance_benefits</th>\n",
       "    </tr>\n",
       "  </thead>\n",
       "  <tbody>\n",
       "    <tr>\n",
       "      <td>1017</td>\n",
       "      <td>1.0</td>\n",
       "      <td>0.353846</td>\n",
       "      <td>0.492405</td>\n",
       "      <td>0.833333</td>\n",
       "      <td>0</td>\n",
       "    </tr>\n",
       "    <tr>\n",
       "      <td>1872</td>\n",
       "      <td>1.0</td>\n",
       "      <td>0.415385</td>\n",
       "      <td>0.551899</td>\n",
       "      <td>0.166667</td>\n",
       "      <td>0</td>\n",
       "    </tr>\n",
       "    <tr>\n",
       "      <td>3537</td>\n",
       "      <td>0.0</td>\n",
       "      <td>0.292308</td>\n",
       "      <td>0.373418</td>\n",
       "      <td>0.166667</td>\n",
       "      <td>0</td>\n",
       "    </tr>\n",
       "    <tr>\n",
       "      <td>1863</td>\n",
       "      <td>0.0</td>\n",
       "      <td>0.707692</td>\n",
       "      <td>0.492405</td>\n",
       "      <td>0.166667</td>\n",
       "      <td>1</td>\n",
       "    </tr>\n",
       "    <tr>\n",
       "      <td>4122</td>\n",
       "      <td>1.0</td>\n",
       "      <td>0.430769</td>\n",
       "      <td>0.559494</td>\n",
       "      <td>0.000000</td>\n",
       "      <td>0</td>\n",
       "    </tr>\n",
       "  </tbody>\n",
       "</table>\n",
       "</div>"
      ],
      "text/plain": [
       "      gender       age    income  family_members  insurance_benefits\n",
       "1017     1.0  0.353846  0.492405        0.833333                   0\n",
       "1872     1.0  0.415385  0.551899        0.166667                   0\n",
       "3537     0.0  0.292308  0.373418        0.166667                   0\n",
       "1863     0.0  0.707692  0.492405        0.166667                   1\n",
       "4122     1.0  0.430769  0.559494        0.000000                   0"
      ]
     },
     "execution_count": 15,
     "metadata": {},
     "output_type": "execute_result"
    }
   ],
   "source": [
    "df_scaled.sample(5)"
   ]
  },
  {
   "cell_type": "markdown",
   "metadata": {},
   "source": [
    "Now, let's get similar records for a given one for every combination"
   ]
  },
  {
   "cell_type": "code",
   "execution_count": 16,
   "metadata": {},
   "outputs": [
    {
     "data": {
      "text/html": [
       "<div>\n",
       "<style scoped>\n",
       "    .dataframe tbody tr th:only-of-type {\n",
       "        vertical-align: middle;\n",
       "    }\n",
       "\n",
       "    .dataframe tbody tr th {\n",
       "        vertical-align: top;\n",
       "    }\n",
       "\n",
       "    .dataframe thead th {\n",
       "        text-align: right;\n",
       "    }\n",
       "</style>\n",
       "<table border=\"1\" class=\"dataframe\">\n",
       "  <thead>\n",
       "    <tr style=\"text-align: right;\">\n",
       "      <th></th>\n",
       "      <th>gender</th>\n",
       "      <th>age</th>\n",
       "      <th>income</th>\n",
       "      <th>family_members</th>\n",
       "      <th>insurance_benefits</th>\n",
       "      <th>distance</th>\n",
       "    </tr>\n",
       "  </thead>\n",
       "  <tbody>\n",
       "    <tr>\n",
       "      <td>50</td>\n",
       "      <td>1</td>\n",
       "      <td>28</td>\n",
       "      <td>39600.0</td>\n",
       "      <td>0</td>\n",
       "      <td>0</td>\n",
       "      <td>0.000000</td>\n",
       "    </tr>\n",
       "    <tr>\n",
       "      <td>3766</td>\n",
       "      <td>1</td>\n",
       "      <td>29</td>\n",
       "      <td>39600.0</td>\n",
       "      <td>0</td>\n",
       "      <td>0</td>\n",
       "      <td>1.000000</td>\n",
       "    </tr>\n",
       "    <tr>\n",
       "      <td>1547</td>\n",
       "      <td>0</td>\n",
       "      <td>21</td>\n",
       "      <td>39600.0</td>\n",
       "      <td>0</td>\n",
       "      <td>0</td>\n",
       "      <td>7.071068</td>\n",
       "    </tr>\n",
       "    <tr>\n",
       "      <td>2930</td>\n",
       "      <td>0</td>\n",
       "      <td>21</td>\n",
       "      <td>39600.0</td>\n",
       "      <td>3</td>\n",
       "      <td>0</td>\n",
       "      <td>7.681146</td>\n",
       "    </tr>\n",
       "    <tr>\n",
       "      <td>270</td>\n",
       "      <td>1</td>\n",
       "      <td>36</td>\n",
       "      <td>39600.0</td>\n",
       "      <td>0</td>\n",
       "      <td>0</td>\n",
       "      <td>8.000000</td>\n",
       "    </tr>\n",
       "  </tbody>\n",
       "</table>\n",
       "</div>"
      ],
      "text/plain": [
       "      gender  age   income  family_members  insurance_benefits  distance\n",
       "50         1   28  39600.0               0                   0  0.000000\n",
       "3766       1   29  39600.0               0                   0  1.000000\n",
       "1547       0   21  39600.0               0                   0  7.071068\n",
       "2930       0   21  39600.0               3                   0  7.681146\n",
       "270        1   36  39600.0               0                   0  8.000000"
      ]
     },
     "execution_count": 16,
     "metadata": {},
     "output_type": "execute_result"
    }
   ],
   "source": [
    "get_knn(df, 50, 5, 'euclidean')"
   ]
  },
  {
   "cell_type": "code",
   "execution_count": 17,
   "metadata": {},
   "outputs": [
    {
     "data": {
      "text/html": [
       "<div>\n",
       "<style scoped>\n",
       "    .dataframe tbody tr th:only-of-type {\n",
       "        vertical-align: middle;\n",
       "    }\n",
       "\n",
       "    .dataframe tbody tr th {\n",
       "        vertical-align: top;\n",
       "    }\n",
       "\n",
       "    .dataframe thead th {\n",
       "        text-align: right;\n",
       "    }\n",
       "</style>\n",
       "<table border=\"1\" class=\"dataframe\">\n",
       "  <thead>\n",
       "    <tr style=\"text-align: right;\">\n",
       "      <th></th>\n",
       "      <th>gender</th>\n",
       "      <th>age</th>\n",
       "      <th>income</th>\n",
       "      <th>family_members</th>\n",
       "      <th>insurance_benefits</th>\n",
       "      <th>distance</th>\n",
       "    </tr>\n",
       "  </thead>\n",
       "  <tbody>\n",
       "    <tr>\n",
       "      <td>50</td>\n",
       "      <td>1</td>\n",
       "      <td>28</td>\n",
       "      <td>39600.0</td>\n",
       "      <td>0</td>\n",
       "      <td>0</td>\n",
       "      <td>0.0</td>\n",
       "    </tr>\n",
       "    <tr>\n",
       "      <td>3766</td>\n",
       "      <td>1</td>\n",
       "      <td>29</td>\n",
       "      <td>39600.0</td>\n",
       "      <td>0</td>\n",
       "      <td>0</td>\n",
       "      <td>1.0</td>\n",
       "    </tr>\n",
       "    <tr>\n",
       "      <td>270</td>\n",
       "      <td>1</td>\n",
       "      <td>36</td>\n",
       "      <td>39600.0</td>\n",
       "      <td>0</td>\n",
       "      <td>0</td>\n",
       "      <td>8.0</td>\n",
       "    </tr>\n",
       "    <tr>\n",
       "      <td>1547</td>\n",
       "      <td>0</td>\n",
       "      <td>21</td>\n",
       "      <td>39600.0</td>\n",
       "      <td>0</td>\n",
       "      <td>0</td>\n",
       "      <td>8.0</td>\n",
       "    </tr>\n",
       "    <tr>\n",
       "      <td>3313</td>\n",
       "      <td>0</td>\n",
       "      <td>19</td>\n",
       "      <td>39600.0</td>\n",
       "      <td>0</td>\n",
       "      <td>0</td>\n",
       "      <td>10.0</td>\n",
       "    </tr>\n",
       "  </tbody>\n",
       "</table>\n",
       "</div>"
      ],
      "text/plain": [
       "      gender  age   income  family_members  insurance_benefits  distance\n",
       "50         1   28  39600.0               0                   0       0.0\n",
       "3766       1   29  39600.0               0                   0       1.0\n",
       "270        1   36  39600.0               0                   0       8.0\n",
       "1547       0   21  39600.0               0                   0       8.0\n",
       "3313       0   19  39600.0               0                   0      10.0"
      ]
     },
     "execution_count": 17,
     "metadata": {},
     "output_type": "execute_result"
    }
   ],
   "source": [
    "get_knn(df, 50, 5, 'manhattan')"
   ]
  },
  {
   "cell_type": "code",
   "execution_count": 18,
   "metadata": {},
   "outputs": [
    {
     "data": {
      "text/html": [
       "<div>\n",
       "<style scoped>\n",
       "    .dataframe tbody tr th:only-of-type {\n",
       "        vertical-align: middle;\n",
       "    }\n",
       "\n",
       "    .dataframe tbody tr th {\n",
       "        vertical-align: top;\n",
       "    }\n",
       "\n",
       "    .dataframe thead th {\n",
       "        text-align: right;\n",
       "    }\n",
       "</style>\n",
       "<table border=\"1\" class=\"dataframe\">\n",
       "  <thead>\n",
       "    <tr style=\"text-align: right;\">\n",
       "      <th></th>\n",
       "      <th>gender</th>\n",
       "      <th>age</th>\n",
       "      <th>income</th>\n",
       "      <th>family_members</th>\n",
       "      <th>insurance_benefits</th>\n",
       "      <th>distance</th>\n",
       "    </tr>\n",
       "  </thead>\n",
       "  <tbody>\n",
       "    <tr>\n",
       "      <td>50</td>\n",
       "      <td>1.0</td>\n",
       "      <td>0.430769</td>\n",
       "      <td>0.501266</td>\n",
       "      <td>0.0</td>\n",
       "      <td>0</td>\n",
       "      <td>0.000000</td>\n",
       "    </tr>\n",
       "    <tr>\n",
       "      <td>946</td>\n",
       "      <td>1.0</td>\n",
       "      <td>0.430769</td>\n",
       "      <td>0.500000</td>\n",
       "      <td>0.0</td>\n",
       "      <td>0</td>\n",
       "      <td>0.001266</td>\n",
       "    </tr>\n",
       "    <tr>\n",
       "      <td>955</td>\n",
       "      <td>1.0</td>\n",
       "      <td>0.430769</td>\n",
       "      <td>0.502532</td>\n",
       "      <td>0.0</td>\n",
       "      <td>0</td>\n",
       "      <td>0.001266</td>\n",
       "    </tr>\n",
       "    <tr>\n",
       "      <td>4898</td>\n",
       "      <td>1.0</td>\n",
       "      <td>0.430769</td>\n",
       "      <td>0.503797</td>\n",
       "      <td>0.0</td>\n",
       "      <td>0</td>\n",
       "      <td>0.002532</td>\n",
       "    </tr>\n",
       "    <tr>\n",
       "      <td>116</td>\n",
       "      <td>1.0</td>\n",
       "      <td>0.430769</td>\n",
       "      <td>0.487342</td>\n",
       "      <td>0.0</td>\n",
       "      <td>0</td>\n",
       "      <td>0.013924</td>\n",
       "    </tr>\n",
       "  </tbody>\n",
       "</table>\n",
       "</div>"
      ],
      "text/plain": [
       "      gender       age    income  family_members  insurance_benefits  distance\n",
       "50       1.0  0.430769  0.501266             0.0                   0  0.000000\n",
       "946      1.0  0.430769  0.500000             0.0                   0  0.001266\n",
       "955      1.0  0.430769  0.502532             0.0                   0  0.001266\n",
       "4898     1.0  0.430769  0.503797             0.0                   0  0.002532\n",
       "116      1.0  0.430769  0.487342             0.0                   0  0.013924"
      ]
     },
     "execution_count": 18,
     "metadata": {},
     "output_type": "execute_result"
    }
   ],
   "source": [
    "get_knn(df_scaled, 50, 5, 'euclidean')"
   ]
  },
  {
   "cell_type": "code",
   "execution_count": 19,
   "metadata": {},
   "outputs": [
    {
     "data": {
      "text/html": [
       "<div>\n",
       "<style scoped>\n",
       "    .dataframe tbody tr th:only-of-type {\n",
       "        vertical-align: middle;\n",
       "    }\n",
       "\n",
       "    .dataframe tbody tr th {\n",
       "        vertical-align: top;\n",
       "    }\n",
       "\n",
       "    .dataframe thead th {\n",
       "        text-align: right;\n",
       "    }\n",
       "</style>\n",
       "<table border=\"1\" class=\"dataframe\">\n",
       "  <thead>\n",
       "    <tr style=\"text-align: right;\">\n",
       "      <th></th>\n",
       "      <th>gender</th>\n",
       "      <th>age</th>\n",
       "      <th>income</th>\n",
       "      <th>family_members</th>\n",
       "      <th>insurance_benefits</th>\n",
       "      <th>distance</th>\n",
       "    </tr>\n",
       "  </thead>\n",
       "  <tbody>\n",
       "    <tr>\n",
       "      <td>50</td>\n",
       "      <td>1.0</td>\n",
       "      <td>0.430769</td>\n",
       "      <td>0.501266</td>\n",
       "      <td>0.0</td>\n",
       "      <td>0</td>\n",
       "      <td>0.000000</td>\n",
       "    </tr>\n",
       "    <tr>\n",
       "      <td>955</td>\n",
       "      <td>1.0</td>\n",
       "      <td>0.430769</td>\n",
       "      <td>0.502532</td>\n",
       "      <td>0.0</td>\n",
       "      <td>0</td>\n",
       "      <td>0.001266</td>\n",
       "    </tr>\n",
       "    <tr>\n",
       "      <td>946</td>\n",
       "      <td>1.0</td>\n",
       "      <td>0.430769</td>\n",
       "      <td>0.500000</td>\n",
       "      <td>0.0</td>\n",
       "      <td>0</td>\n",
       "      <td>0.001266</td>\n",
       "    </tr>\n",
       "    <tr>\n",
       "      <td>4898</td>\n",
       "      <td>1.0</td>\n",
       "      <td>0.430769</td>\n",
       "      <td>0.503797</td>\n",
       "      <td>0.0</td>\n",
       "      <td>0</td>\n",
       "      <td>0.002532</td>\n",
       "    </tr>\n",
       "    <tr>\n",
       "      <td>116</td>\n",
       "      <td>1.0</td>\n",
       "      <td>0.430769</td>\n",
       "      <td>0.487342</td>\n",
       "      <td>0.0</td>\n",
       "      <td>0</td>\n",
       "      <td>0.013924</td>\n",
       "    </tr>\n",
       "  </tbody>\n",
       "</table>\n",
       "</div>"
      ],
      "text/plain": [
       "      gender       age    income  family_members  insurance_benefits  distance\n",
       "50       1.0  0.430769  0.501266             0.0                   0  0.000000\n",
       "955      1.0  0.430769  0.502532             0.0                   0  0.001266\n",
       "946      1.0  0.430769  0.500000             0.0                   0  0.001266\n",
       "4898     1.0  0.430769  0.503797             0.0                   0  0.002532\n",
       "116      1.0  0.430769  0.487342             0.0                   0  0.013924"
      ]
     },
     "execution_count": 19,
     "metadata": {},
     "output_type": "execute_result"
    }
   ],
   "source": [
    "get_knn(df_scaled, 50, 5, 'manhattan')"
   ]
  },
  {
   "cell_type": "markdown",
   "metadata": {},
   "source": [
    "Answers to the questions"
   ]
  },
  {
   "cell_type": "markdown",
   "metadata": {},
   "source": [
    "**Does the data being not scaled affect the kNN algorithm? If so, how does that appear?** \n",
    "\n",
    "The scaling indeed affects on the results. We can see that for the non-scaled data, the first neighbor is pretty similar in terms of the features values but the gender and age for example are different from the second neighbor and on. Also it seems that it gives a significant weight for the income (as it has the highest values in the features) and it has more weight in calculation of the distance (we can see that this specific feature is equal for all the neighbors)."
   ]
  },
  {
   "cell_type": "markdown",
   "metadata": {},
   "source": [
    "**How similar are the results using the Manhattan distance metric (regardless of the scaling)?** \n",
    "\n",
    "The results are pretty similar, for the non-scaled data, 3 out of 4 neighbors are the same, just in different order."
   ]
  },
  {
   "cell_type": "markdown",
   "metadata": {},
   "source": [
    "# Task 2. Is Customer Likely to Receive Insurance Benefit?"
   ]
  },
  {
   "cell_type": "markdown",
   "metadata": {},
   "source": [
    "In terms of machine learning we can look at this like a binary classification task."
   ]
  },
  {
   "cell_type": "markdown",
   "metadata": {},
   "source": [
    "With `insurance_benefits` being more than zero as the target, evaluate whether the kNN classification approach can do better than a dummy model.\n",
    "\n",
    "Instructions:\n",
    "- Build a KNN-based classifier and measure its quality with the F1 metric for k=1..10 for both the original data and the scaled one. That'd be interesting to see how k may influece the evaluation metric, and whether scaling the data makes any difference. You can use a ready implemention of the kNN classification algorithm from scikit-learn (check [the link](https://scikit-learn.org/stable/modules/generated/sklearn.neighbors.KNeighborsClassifier.html)) or use your own.\n",
    "- Build the dummy model which is just random for this case. It should return \"1\" with some probability. Let's test the model with four probability values: 0, the probability of paying any insurance benefit, 0.5, 1.\n",
    "\n",
    "The probability of paying any insurance benefit can be defined as\n",
    "\n",
    "$$\n",
    "P\\{\\text{insurance benefit received}\\}=\\frac{\\text{number of clients received any insurance benefit}}{\\text{total number of clients}}.\n",
    "$$\n",
    "\n",
    "Split the whole data in the 70:30 proportion for the training/testing parts."
   ]
  },
  {
   "cell_type": "code",
   "execution_count": 20,
   "metadata": {},
   "outputs": [],
   "source": [
    "# calculate the target\n",
    "df['insurance_benefits_received'] = np.where(df['insurance_benefits'] >= 1, 1, 0)"
   ]
  },
  {
   "cell_type": "code",
   "execution_count": 21,
   "metadata": {},
   "outputs": [
    {
     "data": {
      "text/plain": [
       "0    4436\n",
       "1     564\n",
       "Name: insurance_benefits_received, dtype: int64"
      ]
     },
     "execution_count": 21,
     "metadata": {},
     "output_type": "execute_result"
    }
   ],
   "source": [
    "# check for the class imbalance with value_counts()\n",
    "df['insurance_benefits_received'].value_counts()"
   ]
  },
  {
   "cell_type": "code",
   "execution_count": 22,
   "metadata": {},
   "outputs": [],
   "source": [
    "# add the new target column to the scaled dataset\n",
    "df_scaled['insurance_benefits_received'] = df['insurance_benefits_received']"
   ]
  },
  {
   "cell_type": "code",
   "execution_count": 23,
   "metadata": {},
   "outputs": [],
   "source": [
    "def upsample(features, target, repeat):\n",
    "    features_zeros = features[target == 0]\n",
    "    features_ones = features[target == 1]\n",
    "    target_zeros = target[target == 0]\n",
    "    target_ones = target[target == 1]\n",
    "\n",
    "    features_upsampled = pd.concat([features_zeros] + [features_ones] * repeat)\n",
    "    target_upsampled = pd.concat([target_zeros] + [target_ones] * repeat)\n",
    "    \n",
    "    features_upsampled, target_upsampled = shuffle(\n",
    "        features_upsampled, target_upsampled, random_state=1234)\n",
    "    \n",
    "    return features_upsampled, target_upsampled"
   ]
  },
  {
   "cell_type": "code",
   "execution_count": 24,
   "metadata": {},
   "outputs": [],
   "source": [
    "# splitting the source data into train and test sets\n",
    "df_train, df_test = train_test_split(df, test_size=0.3, random_state=12345)\n",
    "df_train_scaled, df_test_scaled = train_test_split(df_scaled, test_size=0.3, random_state=12345)\n",
    "\n",
    "features_test = df_test.drop(['insurance_benefits_received'], axis=1)\n",
    "target_test = df_test['insurance_benefits_received']\n",
    "\n",
    "features_test_scaled = df_test_scaled.drop(['insurance_benefits_received'], axis=1)\n",
    "target_test_scaled = df_test_scaled['insurance_benefits_received']\n",
    "\n",
    "#apply the upsampling function on the training set\n",
    "features_train, target_train =  upsample(\n",
    "    df_train.drop(['insurance_benefits_received'], axis=1), \n",
    "    df_train['insurance_benefits_received'],\n",
    "    7\n",
    ") \n",
    "\n",
    "features_train_scaled, target_train_scaled =  upsample(\n",
    "    df_train_scaled.drop(['insurance_benefits_received'], axis=1), \n",
    "    df_train_scaled['insurance_benefits_received'],\n",
    "    7\n",
    ") "
   ]
  },
  {
   "cell_type": "code",
   "execution_count": 25,
   "metadata": {},
   "outputs": [
    {
     "data": {
      "text/plain": [
       "0    3099\n",
       "1    2807\n",
       "Name: insurance_benefits_received, dtype: int64"
      ]
     },
     "execution_count": 25,
     "metadata": {},
     "output_type": "execute_result"
    }
   ],
   "source": [
    "target_train.value_counts()"
   ]
  },
  {
   "cell_type": "code",
   "execution_count": 26,
   "metadata": {},
   "outputs": [
    {
     "data": {
      "text/plain": [
       "0    3099\n",
       "1    2807\n",
       "Name: insurance_benefits_received, dtype: int64"
      ]
     },
     "execution_count": 26,
     "metadata": {},
     "output_type": "execute_result"
    }
   ],
   "source": [
    "target_train_scaled.value_counts()"
   ]
  },
  {
   "cell_type": "markdown",
   "metadata": {},
   "source": [
    "Now the data is balanced and we can train the KNN model."
   ]
  },
  {
   "cell_type": "code",
   "execution_count": 27,
   "metadata": {},
   "outputs": [],
   "source": [
    "def eval_classifier(y_true, y_pred):\n",
    "    \n",
    "    f1_score = sklearn.metrics.f1_score(y_true, y_pred)\n",
    "    print(f'F1: {f1_score:.2f}')\n",
    "    \n",
    "# if you have an issue with the following line, restart the kernel and run the notebook again\n",
    "    cm = sklearn.metrics.confusion_matrix(y_true, y_pred, normalize='all')\n",
    "    print('Confusion Matrix')\n",
    "    print(cm)"
   ]
  },
  {
   "cell_type": "code",
   "execution_count": 28,
   "metadata": {
    "scrolled": false
   },
   "outputs": [
    {
     "name": "stdout",
     "output_type": "stream",
     "text": [
      "for k = 1:\n",
      "\n",
      "**original data**\n",
      "F1: 0.62\n",
      "Confusion Matrix\n",
      "[[0.872      0.01933333]\n",
      " [0.05066667 0.058     ]]\n",
      "\n",
      "**scaled data**\n",
      "F1: 1.00\n",
      "Confusion Matrix\n",
      "[[0.89133333 0.        ]\n",
      " [0.         0.10866667]]\n",
      "-------------------------\n",
      "for k = 2:\n",
      "\n",
      "**original data**\n",
      "F1: 0.63\n",
      "Confusion Matrix\n",
      "[[0.87266667 0.01866667]\n",
      " [0.05066667 0.058     ]]\n",
      "\n",
      "**scaled data**\n",
      "F1: 1.00\n",
      "Confusion Matrix\n",
      "[[0.89133333 0.        ]\n",
      " [0.         0.10866667]]\n",
      "-------------------------\n",
      "for k = 3:\n",
      "\n",
      "**original data**\n",
      "F1: 0.59\n",
      "Confusion Matrix\n",
      "[[0.84866667 0.04266667]\n",
      " [0.04466667 0.064     ]]\n",
      "\n",
      "**scaled data**\n",
      "F1: 1.00\n",
      "Confusion Matrix\n",
      "[[0.89133333 0.        ]\n",
      " [0.         0.10866667]]\n",
      "-------------------------\n",
      "for k = 4:\n",
      "\n",
      "**original data**\n",
      "F1: 0.59\n",
      "Confusion Matrix\n",
      "[[0.84866667 0.04266667]\n",
      " [0.04466667 0.064     ]]\n",
      "\n",
      "**scaled data**\n",
      "F1: 1.00\n",
      "Confusion Matrix\n",
      "[[0.89133333 0.        ]\n",
      " [0.         0.10866667]]\n",
      "-------------------------\n",
      "for k = 5:\n",
      "\n",
      "**original data**\n",
      "F1: 0.53\n",
      "Confusion Matrix\n",
      "[[0.80933333 0.082     ]\n",
      " [0.03933333 0.06933333]]\n",
      "\n",
      "**scaled data**\n",
      "F1: 1.00\n",
      "Confusion Matrix\n",
      "[[0.89133333 0.        ]\n",
      " [0.         0.10866667]]\n",
      "-------------------------\n",
      "for k = 6:\n",
      "\n",
      "**original data**\n",
      "F1: 0.53\n",
      "Confusion Matrix\n",
      "[[0.80933333 0.082     ]\n",
      " [0.03933333 0.06933333]]\n",
      "\n",
      "**scaled data**\n",
      "F1: 1.00\n",
      "Confusion Matrix\n",
      "[[0.89133333 0.        ]\n",
      " [0.         0.10866667]]\n",
      "-------------------------\n",
      "for k = 7:\n",
      "\n",
      "**original data**\n",
      "F1: 0.47\n",
      "Confusion Matrix\n",
      "[[0.76866667 0.12266667]\n",
      " [0.03666667 0.072     ]]\n",
      "\n",
      "**scaled data**\n",
      "F1: 1.00\n",
      "Confusion Matrix\n",
      "[[0.89133333 0.        ]\n",
      " [0.         0.10866667]]\n",
      "-------------------------\n",
      "for k = 8:\n",
      "\n",
      "**original data**\n",
      "F1: 0.47\n",
      "Confusion Matrix\n",
      "[[0.76866667 0.12266667]\n",
      " [0.03666667 0.072     ]]\n",
      "\n",
      "**scaled data**\n",
      "F1: 1.00\n",
      "Confusion Matrix\n",
      "[[0.89133333 0.        ]\n",
      " [0.         0.10866667]]\n",
      "-------------------------\n",
      "for k = 9:\n",
      "\n",
      "**original data**\n",
      "F1: 0.42\n",
      "Confusion Matrix\n",
      "[[0.72066667 0.17066667]\n",
      " [0.034      0.07466667]]\n",
      "\n",
      "**scaled data**\n",
      "F1: 1.00\n",
      "Confusion Matrix\n",
      "[[0.89133333 0.        ]\n",
      " [0.         0.10866667]]\n",
      "-------------------------\n",
      "for k = 10:\n",
      "\n",
      "**original data**\n",
      "F1: 0.42\n",
      "Confusion Matrix\n",
      "[[0.72066667 0.17066667]\n",
      " [0.034      0.07466667]]\n",
      "\n",
      "**scaled data**\n",
      "F1: 1.00\n",
      "Confusion Matrix\n",
      "[[0.89133333 0.        ]\n",
      " [0.         0.10866667]]\n",
      "-------------------------\n"
     ]
    }
   ],
   "source": [
    "for k in range(1,11,1):\n",
    "    model = neigh.KNeighborsClassifier(n_neighbors=k)\n",
    "    \n",
    "    model.fit(features_train, target_train)\n",
    "    y_pred = model.predict(features_test)\n",
    "\n",
    "    model.fit(features_train_scaled, target_train_scaled)\n",
    "    y_pred_scaled = model.predict(features_test_scaled)\n",
    "    print(f'for k = {k}:')\n",
    "    print('\\n**original data**')\n",
    "    eval_classifier(target_test, y_pred)\n",
    "    print('\\n**scaled data**')\n",
    "    eval_classifier(target_test_scaled, y_pred_scaled)\n",
    "    print('-------------------------')"
   ]
  },
  {
   "cell_type": "code",
   "execution_count": 29,
   "metadata": {},
   "outputs": [],
   "source": [
    "# generating output of a random model\n",
    "\n",
    "def rnd_model_predict(P, size, seed=42):\n",
    "    \n",
    "    rng = np.random.default_rng(seed=seed)\n",
    "    return rng.binomial(n=1, p=P, size=size)"
   ]
  },
  {
   "cell_type": "code",
   "execution_count": 30,
   "metadata": {},
   "outputs": [
    {
     "name": "stdout",
     "output_type": "stream",
     "text": [
      "The probability: 0.00\n",
      "F1: 0.00\n",
      "Confusion Matrix\n",
      "[[0.8872 0.    ]\n",
      " [0.1128 0.    ]]\n",
      "\n",
      "The probability: 0.11\n",
      "F1: 0.12\n",
      "Confusion Matrix\n",
      "[[0.7914 0.0958]\n",
      " [0.0994 0.0134]]\n",
      "\n",
      "The probability: 0.50\n",
      "F1: 0.20\n",
      "Confusion Matrix\n",
      "[[0.456  0.4312]\n",
      " [0.053  0.0598]]\n",
      "\n",
      "The probability: 1.00\n",
      "F1: 0.20\n",
      "Confusion Matrix\n",
      "[[0.     0.8872]\n",
      " [0.     0.1128]]\n",
      "\n"
     ]
    }
   ],
   "source": [
    "for P in [0, df['insurance_benefits_received'].sum() / len(df), 0.5, 1]:\n",
    "\n",
    "    print(f'The probability: {P:.2f}')\n",
    "    y_pred_rnd = rnd_model_predict(P, (len(df),)) \n",
    "        \n",
    "    eval_classifier(df['insurance_benefits_received'], y_pred_rnd)\n",
    "    \n",
    "    print()"
   ]
  },
  {
   "cell_type": "markdown",
   "metadata": {},
   "source": [
    "We see that for the scaled dataset, the precision was perfect for all the ks. For the unscaled data, there were an influence of k on the evaluation metric. For k=2 it was max value (F1 = 0.63) and then started to decrease.\n"
   ]
  },
  {
   "cell_type": "markdown",
   "metadata": {},
   "source": [
    "# Task 3. Regression (with Linear Regression)"
   ]
  },
  {
   "cell_type": "markdown",
   "metadata": {},
   "source": [
    "With `insurance_benefits` as the target, evaluate what RMSE would be for a Linear Regression model."
   ]
  },
  {
   "cell_type": "markdown",
   "metadata": {},
   "source": [
    "Build your own implementation of LR. For that, recall how the linear regression task's solution is formulated in terms of LA. Check RMSE for both the original data and the scaled one. Can you see any difference in RMSE between these two cases?\n",
    "\n",
    "Let's denote\n",
    "- $X$ — feature matrix, each row is a case, each column is a feature, the first column consists of unities\n",
    "- $y$ — target (a vector)\n",
    "- $\\hat{y}$ — estimated tagret (a vector)\n",
    "- $w$ — weight vector\n",
    "\n",
    "The task of linear regression in the language of matrices can be formulated as\n",
    "\n",
    "$$\n",
    "y = Xw\n",
    "$$\n",
    "\n",
    "The training objective then is to find such $w$ that it would minimize the L2-distance (MSE) between $Xw$ and $y$:\n",
    "\n",
    "$$\n",
    "\\min_w d_2(Xw, y) \\quad \\text{or} \\quad \\min_w \\text{MSE}(Xw, y)\n",
    "$$\n",
    "\n",
    "It appears that there is analytical solution for the above:\n",
    "\n",
    "$$\n",
    "w = (X^T X)^{-1} X^T y\n",
    "$$\n",
    "\n",
    "The formula above can be used to find the weights $w$ and the latter can be used to calculate predicted values\n",
    "\n",
    "$$\n",
    "\\hat{y} = X_{val}w\n",
    "$$"
   ]
  },
  {
   "cell_type": "markdown",
   "metadata": {},
   "source": [
    "Split the whole data in the 70:30 proportion for the training/validation parts. Use the RMSE metric for the model evaluation."
   ]
  },
  {
   "cell_type": "code",
   "execution_count": 38,
   "metadata": {},
   "outputs": [],
   "source": [
    "class MyLinearRegression:\n",
    "    \n",
    "    def __init__(self):\n",
    "        \n",
    "        self.weights = None\n",
    "    \n",
    "    def fit(self, X, y):\n",
    "        \n",
    "        # adding the unities\n",
    "        X2 = np.append(np.ones([len(X), 1]), X, axis=1)\n",
    "        self.weights = np.linalg.inv(X2.T @ X2) @ X2.T @ y\n",
    "\n",
    "    def predict(self, X):\n",
    "        \n",
    "        # adding the unities\n",
    "        X2 = np.append(np.ones([len(X), 1]), X, axis=1)\n",
    "        y_pred = X2 @ self.weights\n",
    "        \n",
    "        return y_pred"
   ]
  },
  {
   "cell_type": "code",
   "execution_count": 39,
   "metadata": {},
   "outputs": [],
   "source": [
    "def eval_regressor(y_true, y_pred):\n",
    "    \n",
    "    rmse = math.sqrt(sklearn.metrics.mean_squared_error(y_true, y_pred))\n",
    "    print(f'RMSE: {rmse:.2f}')\n",
    "    \n",
    "    r2_score = math.sqrt(sklearn.metrics.r2_score(y_true, y_pred))\n",
    "    print(f'R2: {r2_score:.2f}')    "
   ]
  },
  {
   "cell_type": "code",
   "execution_count": 40,
   "metadata": {},
   "outputs": [
    {
     "name": "stdout",
     "output_type": "stream",
     "text": [
      "[-9.43539012e-01  3.57495491e-02  1.64272726e-02 -2.60743659e-07\n",
      " -1.16902127e-02]\n",
      "RMSE: 0.34\n",
      "R2: 0.66\n"
     ]
    }
   ],
   "source": [
    "X = df[['age', 'gender', 'income', 'family_members']].to_numpy()\n",
    "y = df['insurance_benefits'].to_numpy()\n",
    "\n",
    "X_train, X_test, y_train, y_test = train_test_split(X, y, test_size=0.3, random_state=12345)\n",
    "\n",
    "lr = MyLinearRegression()\n",
    "\n",
    "lr.fit(X_train, y_train)\n",
    "print(lr.weights)\n",
    "\n",
    "y_test_pred = lr.predict(X_test)\n",
    "eval_regressor(y_test, y_test_pred)"
   ]
  },
  {
   "cell_type": "code",
   "execution_count": 41,
   "metadata": {},
   "outputs": [
    {
     "name": "stdout",
     "output_type": "stream",
     "text": [
      "[-0.94353901  2.32372069  0.01642727 -0.02059875 -0.07014128]\n",
      "RMSE: 0.34\n",
      "R2: 0.66\n"
     ]
    }
   ],
   "source": [
    "X = df_scaled[['age', 'gender', 'income', 'family_members']].to_numpy()\n",
    "y = df_scaled['insurance_benefits'].to_numpy()\n",
    "\n",
    "X_train, X_test, y_train, y_test = train_test_split(X, y, test_size=0.3, random_state=12345)\n",
    "\n",
    "lr = MyLinearRegression()\n",
    "\n",
    "lr.fit(X_train, y_train)\n",
    "print(lr.weights)\n",
    "\n",
    "y_test_pred = lr.predict(X_test)\n",
    "eval_regressor(y_test, y_test_pred)"
   ]
  },
  {
   "cell_type": "markdown",
   "metadata": {},
   "source": [
    "The first weight (w0) is the same for both of the dataframes (scaled and not scaled) because it's a constant and it's not influenced by the scale of the features. We see that the weights of the features are different for the scaled and non-scaled data, but the error stays the same!"
   ]
  },
  {
   "cell_type": "markdown",
   "metadata": {},
   "source": [
    "# Task 4. Obfuscating Data"
   ]
  },
  {
   "cell_type": "markdown",
   "metadata": {},
   "source": [
    "It best to obfuscate data by multiplying the numerical features (remember, they can be seen as the matrix $X$) by an invertible matrix $P$. \n",
    "\n",
    "$$\n",
    "X' = X \\times P\n",
    "$$\n",
    "\n",
    "Try to do that and check how the features' values will look like after the transformation. By the way, the intertible property is important here so make sure that $P$ is indeed invertible.\n",
    "\n",
    "You may want to review the 'Matrices and Matrix Operations -> Matrix Mupliplication' lesson to recall the rule of matrix multiplication and its implementation with NumPy."
   ]
  },
  {
   "cell_type": "code",
   "execution_count": 42,
   "metadata": {},
   "outputs": [],
   "source": [
    "personal_info_column_list = ['gender', 'age', 'income', 'family_members']\n",
    "df_pn = df[personal_info_column_list]"
   ]
  },
  {
   "cell_type": "code",
   "execution_count": 43,
   "metadata": {},
   "outputs": [],
   "source": [
    "X = df_pn.to_numpy()"
   ]
  },
  {
   "cell_type": "markdown",
   "metadata": {},
   "source": [
    "Generating a random matrix $P$."
   ]
  },
  {
   "cell_type": "code",
   "execution_count": 44,
   "metadata": {},
   "outputs": [],
   "source": [
    "rng = np.random.default_rng(seed=42)\n",
    "P = rng.random(size=(X.shape[1], X.shape[1]))"
   ]
  },
  {
   "cell_type": "markdown",
   "metadata": {},
   "source": [
    "Checking the matrix $P$ is invertible"
   ]
  },
  {
   "cell_type": "code",
   "execution_count": 45,
   "metadata": {},
   "outputs": [
    {
     "data": {
      "text/plain": [
       "array([[ 0.41467992, -1.43783972,  0.62798546,  1.14001268],\n",
       "       [-1.06101789,  0.44219337,  0.1329549 ,  1.18425933],\n",
       "       [ 1.42362442,  1.60461607, -2.0553823 , -1.53699695],\n",
       "       [-0.11128575, -0.65813802,  1.74995517, -0.11816316]])"
      ]
     },
     "execution_count": 45,
     "metadata": {},
     "output_type": "execute_result"
    }
   ],
   "source": [
    "np.linalg.inv(P)"
   ]
  },
  {
   "cell_type": "code",
   "execution_count": 46,
   "metadata": {},
   "outputs": [],
   "source": [
    "#obfuscated data \n",
    "X_tag = X @ P"
   ]
  },
  {
   "cell_type": "markdown",
   "metadata": {},
   "source": [
    "Can you guess the customers' ages or income after the transformation?"
   ]
  },
  {
   "cell_type": "markdown",
   "metadata": {},
   "source": [
    "Can you recover the original data from $X'$ if you know $P$?"
   ]
  },
  {
   "cell_type": "markdown",
   "metadata": {},
   "source": [
    "**Answer:**\n",
    "$$\n",
    "X' = X \\times P \\quad \\Rightarrow \\quad X'P^{-1} = X \\times PP^{-1} \\quad \\Rightarrow \\quad X'P^{-1} = X\n",
    "$$"
   ]
  },
  {
   "cell_type": "markdown",
   "metadata": {},
   "source": [
    "Print all three cases for a few customers\n",
    "- The original data\n",
    "- The transformed one\n",
    "- The reversed (recovered) one"
   ]
  },
  {
   "cell_type": "code",
   "execution_count": 48,
   "metadata": {},
   "outputs": [
    {
     "data": {
      "text/plain": [
       "array([[1.00e+00, 4.10e+01, 4.96e+04, 1.00e+00],\n",
       "       [0.00e+00, 4.60e+01, 3.80e+04, 1.00e+00],\n",
       "       [0.00e+00, 2.90e+01, 2.10e+04, 0.00e+00],\n",
       "       [0.00e+00, 2.10e+01, 4.17e+04, 2.00e+00],\n",
       "       [1.00e+00, 2.80e+01, 2.61e+04, 0.00e+00]])"
      ]
     },
     "execution_count": 48,
     "metadata": {},
     "output_type": "execute_result"
    }
   ],
   "source": [
    "#first 5 rows of the original data\n",
    "X[:5,:]"
   ]
  },
  {
   "cell_type": "code",
   "execution_count": 49,
   "metadata": {},
   "outputs": [
    {
     "data": {
      "text/plain": [
       "array([[ 6359.71527314, 22380.40467609, 18424.09074184, 46000.69669016],\n",
       "       [ 4873.29406479, 17160.36702982, 14125.78076133, 35253.45577301],\n",
       "       [ 2693.11742928,  9486.397744  ,  7808.83156024, 19484.86063067],\n",
       "       [ 5345.60393712, 18803.22720286, 15479.14837264, 38663.06186284],\n",
       "       [ 3347.17673462, 11782.82928336,  9699.99894205, 24211.27337753]])"
      ]
     },
     "execution_count": 49,
     "metadata": {},
     "output_type": "execute_result"
    }
   ],
   "source": [
    "#first 5 rows of the transformed data\n",
    "X_tag[:5,:]"
   ]
  },
  {
   "cell_type": "code",
   "execution_count": 53,
   "metadata": {},
   "outputs": [
    {
     "data": {
      "text/plain": [
       "array([[ 1.00000000e+00,  4.10000000e+01,  4.96000000e+04,\n",
       "         1.00000000e+00],\n",
       "       [ 1.67952800e-12,  4.60000000e+01,  3.80000000e+04,\n",
       "         1.00000000e+00],\n",
       "       [-6.23021448e-13,  2.90000000e+01,  2.10000000e+04,\n",
       "        -2.03032656e-13],\n",
       "       [-1.08907770e-12,  2.10000000e+01,  4.17000000e+04,\n",
       "         2.00000000e+00],\n",
       "       [ 1.00000000e+00,  2.80000000e+01,  2.61000000e+04,\n",
       "        -1.52424205e-12]])"
      ]
     },
     "execution_count": 53,
     "metadata": {},
     "output_type": "execute_result"
    }
   ],
   "source": [
    "#first 5 rows of the reversed (recovered) data\n",
    "(X_tag @ np.linalg.inv(P))[:5,:]"
   ]
  },
  {
   "cell_type": "code",
   "execution_count": 52,
   "metadata": {},
   "outputs": [
    {
     "data": {
      "text/plain": [
       "array([[ 1.00e+00,  4.10e+01,  4.96e+04,  1.00e+00],\n",
       "       [ 0.00e+00,  4.60e+01,  3.80e+04,  1.00e+00],\n",
       "       [-0.00e+00,  2.90e+01,  2.10e+04, -0.00e+00],\n",
       "       [-0.00e+00,  2.10e+01,  4.17e+04,  2.00e+00],\n",
       "       [ 1.00e+00,  2.80e+01,  2.61e+04, -0.00e+00]])"
      ]
     },
     "execution_count": 52,
     "metadata": {},
     "output_type": "execute_result"
    }
   ],
   "source": [
    "np.round((X_tag @ np.linalg.inv(P))[:5,:])"
   ]
  },
  {
   "cell_type": "markdown",
   "metadata": {},
   "source": [
    "You can probably see that some values are not exactly the same as they are in the original data. What might be the reason for that?"
   ]
  },
  {
   "cell_type": "markdown",
   "metadata": {},
   "source": [
    "As we can see, transformed data doesn't reveal any valuable information, unless you have the matrix P. While recovering the data with the inverse of P we got pretty similar values but there is a problem of rounding with the method, so for accepting the same exact results we need to round and apply abs."
   ]
  },
  {
   "cell_type": "markdown",
   "metadata": {},
   "source": [
    "## Proof That Data Obfuscation Can Work with LR"
   ]
  },
  {
   "cell_type": "markdown",
   "metadata": {},
   "source": [
    "The regression task has been solved with linear regression in this project. Your next task is to prove _analytically_ that the given obfuscation method won't affect linear regression in terms of predicted values i.e. their values will remain the same. Can you believe that? Well, you don't have to, you should prove it!"
   ]
  },
  {
   "cell_type": "markdown",
   "metadata": {},
   "source": [
    "So, the data is obfuscated and there is $X \\times P$ instead of just $X$ now. Consequently, there are other weights $w_P$ as\n",
    "$$\n",
    "w = (X^T X)^{-1} X^T y \\quad \\Rightarrow \\quad w_P = [(XP)^T XP]^{-1} (XP)^T y\n",
    "$$\n",
    "\n",
    "How would $w$ and $w_P$ be linked if you simplify the formula for $w_P$ above? \n",
    "\n",
    "What would be predicted values with $w_P$? \n",
    "\n",
    "What does that mean for the quality of linear regression if you measure it with RMSE?\n",
    "\n",
    "Check Appendix B Properties of Matrices in the end of the notebook. There are useful formulas in there!\n",
    "\n",
    "No code is necessary in this section, only analytical explanation!"
   ]
  },
  {
   "cell_type": "markdown",
   "metadata": {},
   "source": [
    "**Answer**"
   ]
  },
  {
   "cell_type": "markdown",
   "metadata": {},
   "source": [
    "As we can see, even with obfuscated data we get the exact same results for the predictions, which means the quality of linear regression is not affected by the obfuscation transformation."
   ]
  },
  {
   "cell_type": "markdown",
   "metadata": {},
   "source": [
    "**Analytical proof**"
   ]
  },
  {
   "cell_type": "markdown",
   "metadata": {},
   "source": [
    "$$\n",
    "w_P = [(XP)^T XP]^{-1} (XP)^T y = [(P^TX^T) XP]^{-1} (P^TX^T) y = \\{P^T[(X^TX)P]\\}^{-1} (P^TX^T) y  = [(X^TX)P]^{-1} (P^T)^{-1}(P^TX^T) y = P^{-1}(X^TX)^{-1} [(P^T)^{-1}P^T]X^T y = \n",
    "P^{-1}(X^TX)^{-1}IX^T y = P^{-1}[(X^TX)^{-1}X^T y] = P^{-1}w\n",
    "$$"
   ]
  },
  {
   "cell_type": "markdown",
   "metadata": {},
   "source": [
    "$$\n",
    "\\hat{y} = Xw \\quad \\Rightarrow \\quad \\hat{y_p} = XPw_p = XPP^{-1}w = Xw\n",
    "$$"
   ]
  },
  {
   "cell_type": "markdown",
   "metadata": {},
   "source": [
    "## Test Linear Regression With Data Obfuscation"
   ]
  },
  {
   "cell_type": "markdown",
   "metadata": {},
   "source": [
    "Now, let's prove Linear Regression can work computationally with the chosen obfuscation transformation.\n",
    "\n",
    "Build a procedure or a class that runs Linear Regression optionally with the obfuscation. You can use either a ready implementation of Linear Regression from sciki-learn or your own.\n",
    "\n",
    "Run Linear Regression for the original data and the obfuscated one, compare the predicted values and the RMSE, $R^2$ metric values. Is there any difference?"
   ]
  },
  {
   "cell_type": "markdown",
   "metadata": {},
   "source": [
    "**Procedure**\n",
    "\n",
    "- Create a square matrix $P$ of random numbers.\n",
    "- Check that it is invertible. If not, repeat the first point until we get an invertible matrix.\n",
    "- Create a new matrux for the obfuscated data XP.\n",
    "- Use $XP$ as the new feature matrix"
   ]
  },
  {
   "cell_type": "code",
   "execution_count": 54,
   "metadata": {},
   "outputs": [],
   "source": [
    "personal_info_column_list = ['gender', 'age', 'income', 'family_members']\n",
    "df_pn = df[personal_info_column_list]"
   ]
  },
  {
   "cell_type": "code",
   "execution_count": 55,
   "metadata": {},
   "outputs": [],
   "source": [
    "X = df_pn.to_numpy()"
   ]
  },
  {
   "cell_type": "markdown",
   "metadata": {},
   "source": [
    "Generating a random matrix $P$."
   ]
  },
  {
   "cell_type": "code",
   "execution_count": 56,
   "metadata": {},
   "outputs": [],
   "source": [
    "rng = np.random.default_rng(seed=42)\n",
    "P = rng.random(size=(X.shape[1], X.shape[1]))"
   ]
  },
  {
   "cell_type": "markdown",
   "metadata": {},
   "source": [
    "Checking the matrix $P$ is invertible"
   ]
  },
  {
   "cell_type": "code",
   "execution_count": 58,
   "metadata": {},
   "outputs": [
    {
     "data": {
      "text/plain": [
       "array([[ 0.41467992, -1.43783972,  0.62798546,  1.14001268],\n",
       "       [-1.06101789,  0.44219337,  0.1329549 ,  1.18425933],\n",
       "       [ 1.42362442,  1.60461607, -2.0553823 , -1.53699695],\n",
       "       [-0.11128575, -0.65813802,  1.74995517, -0.11816316]])"
      ]
     },
     "execution_count": 58,
     "metadata": {},
     "output_type": "execute_result"
    }
   ],
   "source": [
    "np.linalg.inv(P)"
   ]
  },
  {
   "cell_type": "code",
   "execution_count": 59,
   "metadata": {},
   "outputs": [],
   "source": [
    "#obfuscated data \n",
    "X_tag = X @ P"
   ]
  },
  {
   "cell_type": "markdown",
   "metadata": {},
   "source": [
    "Run Linear Regression for the original data and check the RMSE, 𝑅2 metric values."
   ]
  },
  {
   "cell_type": "code",
   "execution_count": 60,
   "metadata": {},
   "outputs": [
    {
     "name": "stdout",
     "output_type": "stream",
     "text": [
      "[-9.43539012e-01  1.64272726e-02  3.57495491e-02 -2.60743659e-07\n",
      " -1.16902127e-02]\n",
      "RMSE: 0.34\n",
      "R2: 0.66\n"
     ]
    }
   ],
   "source": [
    "X_train, X_test, y_train, y_test = train_test_split(X, y, test_size=0.3, random_state=12345)\n",
    "\n",
    "lr = MyLinearRegression()\n",
    "\n",
    "lr.fit(X_train, y_train)\n",
    "print(lr.weights)\n",
    "\n",
    "y_test_pred = lr.predict(X_test)\n",
    "eval_regressor(y_test, y_test_pred)"
   ]
  },
  {
   "cell_type": "markdown",
   "metadata": {},
   "source": [
    "Run Linear Regression for the obfuscated data and check the RMSE, 𝑅2 metric values."
   ]
  },
  {
   "cell_type": "code",
   "execution_count": 61,
   "metadata": {},
   "outputs": [
    {
     "name": "stdout",
     "output_type": "stream",
     "text": [
      "[-0.94353901 -0.05791721 -0.01546567  0.09871889 -0.02397536]\n",
      "RMSE: 0.34\n",
      "R2: 0.66\n"
     ]
    }
   ],
   "source": [
    "X_train, X_test, y_train, y_test = train_test_split(X_tag, y, test_size=0.3, random_state=12345)\n",
    "\n",
    "lr = MyLinearRegression()\n",
    "\n",
    "lr.fit(X_train, y_train)\n",
    "print(lr.weights)\n",
    "\n",
    "y_test_pred = lr.predict(X_test)\n",
    "eval_regressor(y_test, y_test_pred)"
   ]
  },
  {
   "cell_type": "markdown",
   "metadata": {},
   "source": [
    "As we proved in the previous task, the results (in terms of RMSE and R2) are exactly the same, the transformation does not affect RMSE."
   ]
  },
  {
   "cell_type": "markdown",
   "metadata": {},
   "source": [
    "# Conclusions"
   ]
  },
  {
   "cell_type": "markdown",
   "metadata": {},
   "source": [
    "In this project we tested 2 different models (KNN and LR) and checked how scaling the features and obfuscated data affect the results."
   ]
  },
  {
   "cell_type": "markdown",
   "metadata": {},
   "source": [
    "For the KNN model we found that the scaling indeed affects on the results. It seems that for non-scaled data it gives a significant weight for the feature with the highest values and it has more weight in calculation of the distance.\n",
    "For the different metric of distances, Euclidean Distance VS Manhattan Distance,\n",
    "the results are pretty similar, but in different order.\n",
    "In addition we checked the influence of k parameter on the F1 score. WE found that for the scaled dataset, the precision was perfect for all the ks. For the unscaled data, there were an influence of k on the evaluation metric, there is an ideal k."
   ]
  },
  {
   "cell_type": "markdown",
   "metadata": {},
   "source": [
    "For the LR model we also compared the affect of scaling the data.\n",
    "The first weight (w0) is the same for both of the dataframes (scaled and not scaled) because it's a constant and it doesn't influenced by the scale of the features. We see that the weights of the features are different for the scaled and non-scaled data, but the error stays the same.\n",
    "\n",
    "We also checked the quality of the model for obfuscated data.\n",
    "As we can see, transformed data doesn't reveal any valuable information, unless you have the matrix P. While recovering the data with the inverse of P we got pretty similar values but there is a problem of rounding with the method, so for accepting the same exact results we need to round and apply abs.\n",
    "\n",
    "As we can see, even with obfuscated data we get the exact same results for the predictions, which means the quality of linear regression is not affected by the obfuscation transformation."
   ]
  }
 ],
 "metadata": {
  "ExecuteTimeLog": [
   {
    "duration": 62137,
    "start_time": "2021-11-01T19:54:39.581Z"
   },
   {
    "duration": 1535,
    "start_time": "2021-11-01T19:55:59.999Z"
   },
   {
    "duration": 18,
    "start_time": "2021-11-01T19:56:05.875Z"
   },
   {
    "duration": 5,
    "start_time": "2021-11-01T19:56:09.089Z"
   },
   {
    "duration": 12,
    "start_time": "2021-11-01T19:56:11.506Z"
   },
   {
    "duration": 6,
    "start_time": "2021-11-01T19:56:15.561Z"
   },
   {
    "duration": 4,
    "start_time": "2021-11-01T19:56:18.740Z"
   },
   {
    "duration": 3,
    "start_time": "2021-11-01T19:56:21.579Z"
   },
   {
    "duration": 6,
    "start_time": "2021-11-01T19:56:55.423Z"
   },
   {
    "duration": 4,
    "start_time": "2021-11-01T19:57:12.888Z"
   },
   {
    "duration": 7,
    "start_time": "2021-11-01T19:57:14.150Z"
   },
   {
    "duration": 25,
    "start_time": "2021-11-01T19:58:41.987Z"
   },
   {
    "duration": 8962,
    "start_time": "2021-11-02T18:29:29.816Z"
   },
   {
    "duration": 1605,
    "start_time": "2021-11-02T18:29:38.781Z"
   },
   {
    "duration": 18,
    "start_time": "2021-11-02T18:29:40.389Z"
   },
   {
    "duration": 5,
    "start_time": "2021-11-02T18:29:40.410Z"
   },
   {
    "duration": 24,
    "start_time": "2021-11-02T18:29:40.418Z"
   },
   {
    "duration": 8,
    "start_time": "2021-11-02T18:29:40.444Z"
   },
   {
    "duration": 5,
    "start_time": "2021-11-02T18:29:40.455Z"
   },
   {
    "duration": 13,
    "start_time": "2021-11-02T18:29:40.464Z"
   },
   {
    "duration": 2,
    "start_time": "2021-11-02T18:29:40.480Z"
   },
   {
    "duration": 74,
    "start_time": "2021-11-02T18:29:40.485Z"
   },
   {
    "duration": 8297,
    "start_time": "2021-11-02T18:29:40.561Z"
   },
   {
    "duration": 3,
    "start_time": "2021-11-02T18:29:48.860Z"
   },
   {
    "duration": 22,
    "start_time": "2021-11-02T18:29:48.865Z"
   },
   {
    "duration": 18,
    "start_time": "2021-11-02T18:29:48.889Z"
   },
   {
    "duration": 29,
    "start_time": "2021-11-02T18:29:48.910Z"
   },
   {
    "duration": 633,
    "start_time": "2021-11-02T18:29:48.942Z"
   },
   {
    "duration": -3,
    "start_time": "2021-11-02T18:29:49.581Z"
   },
   {
    "duration": -6,
    "start_time": "2021-11-02T18:29:49.585Z"
   },
   {
    "duration": -96,
    "start_time": "2021-11-02T18:29:49.676Z"
   },
   {
    "duration": -98,
    "start_time": "2021-11-02T18:29:49.680Z"
   },
   {
    "duration": -102,
    "start_time": "2021-11-02T18:29:49.685Z"
   },
   {
    "duration": -115,
    "start_time": "2021-11-02T18:29:49.699Z"
   },
   {
    "duration": -129,
    "start_time": "2021-11-02T18:29:49.714Z"
   },
   {
    "duration": -129,
    "start_time": "2021-11-02T18:29:49.716Z"
   },
   {
    "duration": -137,
    "start_time": "2021-11-02T18:29:49.725Z"
   },
   {
    "duration": -138,
    "start_time": "2021-11-02T18:29:49.727Z"
   },
   {
    "duration": -139,
    "start_time": "2021-11-02T18:29:49.729Z"
   },
   {
    "duration": -140,
    "start_time": "2021-11-02T18:29:49.732Z"
   },
   {
    "duration": -141,
    "start_time": "2021-11-02T18:29:49.734Z"
   },
   {
    "duration": -208,
    "start_time": "2021-11-02T18:29:49.802Z"
   },
   {
    "duration": -221,
    "start_time": "2021-11-02T18:29:49.816Z"
   },
   {
    "duration": -222,
    "start_time": "2021-11-02T18:29:49.819Z"
   },
   {
    "duration": -225,
    "start_time": "2021-11-02T18:29:49.823Z"
   },
   {
    "duration": 84,
    "start_time": "2021-11-02T18:34:15.912Z"
   },
   {
    "duration": 96,
    "start_time": "2021-11-02T18:34:48.758Z"
   },
   {
    "duration": 70,
    "start_time": "2021-11-02T18:34:57.691Z"
   },
   {
    "duration": 6,
    "start_time": "2021-11-02T18:34:57.761Z"
   },
   {
    "duration": 4,
    "start_time": "2021-11-02T18:34:57.765Z"
   },
   {
    "duration": 2,
    "start_time": "2021-11-02T18:34:57.769Z"
   },
   {
    "duration": -1,
    "start_time": "2021-11-02T18:34:57.774Z"
   },
   {
    "duration": -13,
    "start_time": "2021-11-02T18:34:57.788Z"
   },
   {
    "duration": -16,
    "start_time": "2021-11-02T18:34:57.793Z"
   },
   {
    "duration": -18,
    "start_time": "2021-11-02T18:34:57.797Z"
   },
   {
    "duration": -22,
    "start_time": "2021-11-02T18:34:57.803Z"
   },
   {
    "duration": -26,
    "start_time": "2021-11-02T18:34:57.809Z"
   },
   {
    "duration": -29,
    "start_time": "2021-11-02T18:34:57.814Z"
   },
   {
    "duration": -31,
    "start_time": "2021-11-02T18:34:57.818Z"
   },
   {
    "duration": -35,
    "start_time": "2021-11-02T18:34:57.824Z"
   },
   {
    "duration": -37,
    "start_time": "2021-11-02T18:34:57.828Z"
   },
   {
    "duration": -45,
    "start_time": "2021-11-02T18:34:57.838Z"
   },
   {
    "duration": -46,
    "start_time": "2021-11-02T18:34:57.841Z"
   },
   {
    "duration": -94,
    "start_time": "2021-11-02T18:34:57.891Z"
   },
   {
    "duration": -64,
    "start_time": "2021-11-02T18:34:57.893Z"
   },
   {
    "duration": -64,
    "start_time": "2021-11-02T18:34:57.895Z"
   },
   {
    "duration": -65,
    "start_time": "2021-11-02T18:34:57.898Z"
   },
   {
    "duration": -67,
    "start_time": "2021-11-02T18:34:57.902Z"
   },
   {
    "duration": -68,
    "start_time": "2021-11-02T18:34:57.905Z"
   },
   {
    "duration": -68,
    "start_time": "2021-11-02T18:34:57.907Z"
   },
   {
    "duration": -69,
    "start_time": "2021-11-02T18:34:57.910Z"
   },
   {
    "duration": -69,
    "start_time": "2021-11-02T18:34:57.912Z"
   },
   {
    "duration": -71,
    "start_time": "2021-11-02T18:34:57.916Z"
   },
   {
    "duration": -77,
    "start_time": "2021-11-02T18:34:57.924Z"
   },
   {
    "duration": -77,
    "start_time": "2021-11-02T18:34:57.927Z"
   },
   {
    "duration": 354,
    "start_time": "2021-11-02T18:34:57.855Z"
   },
   {
    "duration": 35,
    "start_time": "2021-11-02T18:34:58.177Z"
   },
   {
    "duration": 31,
    "start_time": "2021-11-02T18:34:58.183Z"
   },
   {
    "duration": 14,
    "start_time": "2021-11-02T18:34:58.202Z"
   },
   {
    "duration": 12,
    "start_time": "2021-11-02T18:34:58.206Z"
   },
   {
    "duration": 4321,
    "start_time": "2021-11-02T18:35:37.364Z"
   },
   {
    "duration": 4164,
    "start_time": "2021-11-02T18:35:57.050Z"
   },
   {
    "duration": 1633,
    "start_time": "2021-11-02T18:36:08.725Z"
   },
   {
    "duration": 20,
    "start_time": "2021-11-02T18:36:13.172Z"
   },
   {
    "duration": 6,
    "start_time": "2021-11-02T18:36:16.873Z"
   },
   {
    "duration": 19,
    "start_time": "2021-11-02T18:36:18.973Z"
   },
   {
    "duration": 9,
    "start_time": "2021-11-02T18:36:22.049Z"
   },
   {
    "duration": 6,
    "start_time": "2021-11-02T18:36:24.460Z"
   },
   {
    "duration": 8,
    "start_time": "2021-11-02T18:36:26.986Z"
   },
   {
    "duration": 36,
    "start_time": "2021-11-02T18:36:30.874Z"
   },
   {
    "duration": 14609,
    "start_time": "2021-11-02T18:36:34.399Z"
   },
   {
    "duration": 4,
    "start_time": "2021-11-02T18:37:54.383Z"
   },
   {
    "duration": 6,
    "start_time": "2021-11-02T18:37:56.389Z"
   },
   {
    "duration": 15,
    "start_time": "2021-11-02T18:37:59.864Z"
   },
   {
    "duration": 15,
    "start_time": "2021-11-02T18:38:02.110Z"
   },
   {
    "duration": 593,
    "start_time": "2021-11-02T18:38:04.757Z"
   },
   {
    "duration": 245,
    "start_time": "2021-11-02T18:40:54.282Z"
   },
   {
    "duration": 558,
    "start_time": "2021-11-02T18:41:04.142Z"
   },
   {
    "duration": 7,
    "start_time": "2021-11-02T18:41:55.200Z"
   },
   {
    "duration": 495,
    "start_time": "2021-11-02T18:42:04.243Z"
   },
   {
    "duration": 6,
    "start_time": "2021-11-02T18:44:05.426Z"
   },
   {
    "duration": 597,
    "start_time": "2021-11-02T18:44:09.710Z"
   },
   {
    "duration": 6,
    "start_time": "2021-11-02T18:51:47.875Z"
   },
   {
    "duration": 5,
    "start_time": "2021-11-02T18:52:11.974Z"
   },
   {
    "duration": 9,
    "start_time": "2021-11-02T18:54:11.979Z"
   },
   {
    "duration": 7,
    "start_time": "2021-11-02T18:55:19.193Z"
   },
   {
    "duration": 25,
    "start_time": "2021-11-02T18:55:24.699Z"
   },
   {
    "duration": 26,
    "start_time": "2021-11-02T18:57:53.288Z"
   },
   {
    "duration": 25,
    "start_time": "2021-11-02T18:58:08.525Z"
   },
   {
    "duration": 27,
    "start_time": "2021-11-02T18:58:14.445Z"
   },
   {
    "duration": 8054,
    "start_time": "2021-11-02T19:14:23.870Z"
   },
   {
    "duration": 1678,
    "start_time": "2021-11-02T19:14:31.927Z"
   },
   {
    "duration": 21,
    "start_time": "2021-11-02T19:14:33.610Z"
   },
   {
    "duration": 15,
    "start_time": "2021-11-02T19:14:33.635Z"
   },
   {
    "duration": 39,
    "start_time": "2021-11-02T19:14:33.653Z"
   },
   {
    "duration": 10,
    "start_time": "2021-11-02T19:14:33.695Z"
   },
   {
    "duration": 23,
    "start_time": "2021-11-02T19:14:33.708Z"
   },
   {
    "duration": 12,
    "start_time": "2021-11-02T19:14:33.738Z"
   },
   {
    "duration": 5,
    "start_time": "2021-11-02T19:14:33.753Z"
   },
   {
    "duration": 38,
    "start_time": "2021-11-02T19:14:33.761Z"
   },
   {
    "duration": 19877,
    "start_time": "2021-11-02T19:14:33.806Z"
   },
   {
    "duration": 5,
    "start_time": "2021-11-02T19:14:53.687Z"
   },
   {
    "duration": 34,
    "start_time": "2021-11-02T19:14:53.695Z"
   },
   {
    "duration": 19,
    "start_time": "2021-11-02T19:14:53.732Z"
   },
   {
    "duration": 25,
    "start_time": "2021-11-02T19:14:53.753Z"
   },
   {
    "duration": 8,
    "start_time": "2021-11-02T19:14:53.781Z"
   },
   {
    "duration": 56,
    "start_time": "2021-11-02T19:14:53.791Z"
   },
   {
    "duration": 24,
    "start_time": "2021-11-02T19:14:53.850Z"
   },
   {
    "duration": 52,
    "start_time": "2021-11-02T19:14:53.877Z"
   },
   {
    "duration": 25,
    "start_time": "2021-11-02T19:14:53.932Z"
   },
   {
    "duration": 90,
    "start_time": "2021-11-02T19:14:53.960Z"
   },
   {
    "duration": -776,
    "start_time": "2021-11-02T19:14:54.830Z"
   },
   {
    "duration": -776,
    "start_time": "2021-11-02T19:14:54.832Z"
   },
   {
    "duration": -777,
    "start_time": "2021-11-02T19:14:54.835Z"
   },
   {
    "duration": -777,
    "start_time": "2021-11-02T19:14:54.836Z"
   },
   {
    "duration": -853,
    "start_time": "2021-11-02T19:14:54.914Z"
   },
   {
    "duration": -1029,
    "start_time": "2021-11-02T19:14:55.091Z"
   },
   {
    "duration": -1044,
    "start_time": "2021-11-02T19:14:55.108Z"
   },
   {
    "duration": -1047,
    "start_time": "2021-11-02T19:14:55.112Z"
   },
   {
    "duration": -1049,
    "start_time": "2021-11-02T19:14:55.116Z"
   },
   {
    "duration": -1051,
    "start_time": "2021-11-02T19:14:55.119Z"
   },
   {
    "duration": -1052,
    "start_time": "2021-11-02T19:14:55.122Z"
   },
   {
    "duration": -1054,
    "start_time": "2021-11-02T19:14:55.125Z"
   },
   {
    "duration": -1055,
    "start_time": "2021-11-02T19:14:55.128Z"
   },
   {
    "duration": 380,
    "start_time": "2021-11-03T09:05:51.833Z"
   },
   {
    "duration": 15043,
    "start_time": "2021-11-03T09:07:06.846Z"
   },
   {
    "duration": 1280,
    "start_time": "2021-11-03T09:07:21.892Z"
   },
   {
    "duration": 17,
    "start_time": "2021-11-03T09:07:23.174Z"
   },
   {
    "duration": 6,
    "start_time": "2021-11-03T09:07:23.193Z"
   },
   {
    "duration": 15,
    "start_time": "2021-11-03T09:07:23.201Z"
   },
   {
    "duration": 7,
    "start_time": "2021-11-03T09:07:23.218Z"
   },
   {
    "duration": 10,
    "start_time": "2021-11-03T09:07:23.227Z"
   },
   {
    "duration": 13,
    "start_time": "2021-11-03T09:07:23.239Z"
   },
   {
    "duration": 6,
    "start_time": "2021-11-03T09:07:23.255Z"
   },
   {
    "duration": 24,
    "start_time": "2021-11-03T09:07:23.276Z"
   },
   {
    "duration": 8937,
    "start_time": "2021-11-03T09:07:23.302Z"
   },
   {
    "duration": 2,
    "start_time": "2021-11-03T09:07:32.241Z"
   },
   {
    "duration": 11,
    "start_time": "2021-11-03T09:07:32.245Z"
   },
   {
    "duration": 25,
    "start_time": "2021-11-03T09:07:32.258Z"
   },
   {
    "duration": 9,
    "start_time": "2021-11-03T09:07:32.285Z"
   },
   {
    "duration": 19,
    "start_time": "2021-11-03T09:07:32.295Z"
   },
   {
    "duration": 17,
    "start_time": "2021-11-03T09:07:32.316Z"
   },
   {
    "duration": 42,
    "start_time": "2021-11-03T09:07:32.335Z"
   },
   {
    "duration": 17,
    "start_time": "2021-11-03T09:07:32.379Z"
   },
   {
    "duration": 823,
    "start_time": "2021-11-03T09:07:32.398Z"
   },
   {
    "duration": -529,
    "start_time": "2021-11-03T09:07:33.752Z"
   },
   {
    "duration": -535,
    "start_time": "2021-11-03T09:07:33.759Z"
   },
   {
    "duration": -537,
    "start_time": "2021-11-03T09:07:33.761Z"
   },
   {
    "duration": -539,
    "start_time": "2021-11-03T09:07:33.764Z"
   },
   {
    "duration": -547,
    "start_time": "2021-11-03T09:07:33.773Z"
   },
   {
    "duration": -550,
    "start_time": "2021-11-03T09:07:33.777Z"
   },
   {
    "duration": -595,
    "start_time": "2021-11-03T09:07:33.823Z"
   },
   {
    "duration": -597,
    "start_time": "2021-11-03T09:07:33.826Z"
   },
   {
    "duration": -606,
    "start_time": "2021-11-03T09:07:33.836Z"
   },
   {
    "duration": -607,
    "start_time": "2021-11-03T09:07:33.838Z"
   },
   {
    "duration": -609,
    "start_time": "2021-11-03T09:07:33.841Z"
   },
   {
    "duration": -625,
    "start_time": "2021-11-03T09:07:33.858Z"
   },
   {
    "duration": -627,
    "start_time": "2021-11-03T09:07:33.861Z"
   },
   {
    "duration": 5,
    "start_time": "2021-11-03T09:22:35.019Z"
   },
   {
    "duration": 6,
    "start_time": "2021-11-03T09:22:39.091Z"
   },
   {
    "duration": 8,
    "start_time": "2021-11-03T10:20:18.881Z"
   },
   {
    "duration": 5,
    "start_time": "2021-11-03T10:20:21.116Z"
   },
   {
    "duration": 39,
    "start_time": "2021-11-03T10:20:23.092Z"
   },
   {
    "duration": 7413,
    "start_time": "2021-11-03T15:09:51.949Z"
   },
   {
    "duration": 1544,
    "start_time": "2021-11-03T15:09:59.365Z"
   },
   {
    "duration": 21,
    "start_time": "2021-11-03T15:10:00.912Z"
   },
   {
    "duration": 19,
    "start_time": "2021-11-03T15:10:00.936Z"
   },
   {
    "duration": 22,
    "start_time": "2021-11-03T15:10:00.957Z"
   },
   {
    "duration": 19,
    "start_time": "2021-11-03T15:10:00.982Z"
   },
   {
    "duration": 6,
    "start_time": "2021-11-03T15:10:01.004Z"
   },
   {
    "duration": 30,
    "start_time": "2021-11-03T15:10:01.017Z"
   },
   {
    "duration": 3,
    "start_time": "2021-11-03T15:10:01.059Z"
   },
   {
    "duration": 54,
    "start_time": "2021-11-03T15:10:01.065Z"
   },
   {
    "duration": 14426,
    "start_time": "2021-11-03T15:10:01.122Z"
   },
   {
    "duration": 10,
    "start_time": "2021-11-03T15:10:15.550Z"
   },
   {
    "duration": 7,
    "start_time": "2021-11-03T15:10:15.563Z"
   },
   {
    "duration": 27,
    "start_time": "2021-11-03T15:10:15.572Z"
   },
   {
    "duration": 14,
    "start_time": "2021-11-03T15:10:15.601Z"
   },
   {
    "duration": 52,
    "start_time": "2021-11-03T15:10:15.617Z"
   },
   {
    "duration": 26,
    "start_time": "2021-11-03T15:10:15.671Z"
   },
   {
    "duration": 26,
    "start_time": "2021-11-03T15:10:15.700Z"
   },
   {
    "duration": 53,
    "start_time": "2021-11-03T15:10:15.728Z"
   },
   {
    "duration": 7,
    "start_time": "2021-11-03T15:10:15.784Z"
   },
   {
    "duration": 10,
    "start_time": "2021-11-03T15:10:15.794Z"
   },
   {
    "duration": 6,
    "start_time": "2021-11-03T15:10:15.806Z"
   },
   {
    "duration": 42,
    "start_time": "2021-11-03T15:10:15.817Z"
   },
   {
    "duration": 2497,
    "start_time": "2021-11-03T15:10:15.862Z"
   },
   {
    "duration": 12,
    "start_time": "2021-11-03T15:10:18.350Z"
   },
   {
    "duration": -133,
    "start_time": "2021-11-03T15:10:18.496Z"
   },
   {
    "duration": -153,
    "start_time": "2021-11-03T15:10:18.517Z"
   },
   {
    "duration": -160,
    "start_time": "2021-11-03T15:10:18.526Z"
   },
   {
    "duration": -169,
    "start_time": "2021-11-03T15:10:18.536Z"
   },
   {
    "duration": -177,
    "start_time": "2021-11-03T15:10:18.545Z"
   },
   {
    "duration": -185,
    "start_time": "2021-11-03T15:10:18.555Z"
   },
   {
    "duration": -192,
    "start_time": "2021-11-03T15:10:18.563Z"
   },
   {
    "duration": -199,
    "start_time": "2021-11-03T15:10:18.572Z"
   },
   {
    "duration": -206,
    "start_time": "2021-11-03T15:10:18.580Z"
   },
   {
    "duration": -214,
    "start_time": "2021-11-03T15:10:18.589Z"
   },
   {
    "duration": -220,
    "start_time": "2021-11-03T15:10:18.597Z"
   },
   {
    "duration": -228,
    "start_time": "2021-11-03T15:10:18.606Z"
   },
   {
    "duration": -234,
    "start_time": "2021-11-03T15:10:18.614Z"
   },
   {
    "duration": -256,
    "start_time": "2021-11-03T15:10:18.638Z"
   },
   {
    "duration": 7356,
    "start_time": "2021-11-03T15:12:01.100Z"
   },
   {
    "duration": 1512,
    "start_time": "2021-11-03T15:12:08.459Z"
   },
   {
    "duration": 22,
    "start_time": "2021-11-03T15:12:09.975Z"
   },
   {
    "duration": 14,
    "start_time": "2021-11-03T15:12:10.000Z"
   },
   {
    "duration": 37,
    "start_time": "2021-11-03T15:12:10.016Z"
   },
   {
    "duration": 19,
    "start_time": "2021-11-03T15:12:10.056Z"
   },
   {
    "duration": 13,
    "start_time": "2021-11-03T15:12:10.078Z"
   },
   {
    "duration": 15,
    "start_time": "2021-11-03T15:12:10.098Z"
   },
   {
    "duration": 4,
    "start_time": "2021-11-03T15:12:10.117Z"
   },
   {
    "duration": 51,
    "start_time": "2021-11-03T15:12:10.123Z"
   },
   {
    "duration": 14049,
    "start_time": "2021-11-03T15:12:10.177Z"
   },
   {
    "duration": 4,
    "start_time": "2021-11-03T15:12:24.229Z"
   },
   {
    "duration": 28,
    "start_time": "2021-11-03T15:12:24.236Z"
   },
   {
    "duration": 21,
    "start_time": "2021-11-03T15:12:24.266Z"
   },
   {
    "duration": 15,
    "start_time": "2021-11-03T15:12:24.290Z"
   },
   {
    "duration": 57,
    "start_time": "2021-11-03T15:12:24.308Z"
   },
   {
    "duration": 26,
    "start_time": "2021-11-03T15:12:24.368Z"
   },
   {
    "duration": 26,
    "start_time": "2021-11-03T15:12:24.397Z"
   },
   {
    "duration": 56,
    "start_time": "2021-11-03T15:12:24.426Z"
   },
   {
    "duration": 7,
    "start_time": "2021-11-03T15:12:24.485Z"
   },
   {
    "duration": 10,
    "start_time": "2021-11-03T15:12:24.494Z"
   },
   {
    "duration": 6,
    "start_time": "2021-11-03T15:12:24.507Z"
   },
   {
    "duration": 5,
    "start_time": "2021-11-03T15:12:24.560Z"
   },
   {
    "duration": 37,
    "start_time": "2021-11-03T15:12:24.569Z"
   },
   {
    "duration": 8,
    "start_time": "2021-11-03T15:12:24.609Z"
   },
   {
    "duration": 41,
    "start_time": "2021-11-03T15:12:24.619Z"
   },
   {
    "duration": 529,
    "start_time": "2021-11-03T15:12:24.663Z"
   },
   {
    "duration": -538,
    "start_time": "2021-11-03T15:12:25.732Z"
   },
   {
    "duration": -547,
    "start_time": "2021-11-03T15:12:25.743Z"
   },
   {
    "duration": -559,
    "start_time": "2021-11-03T15:12:25.757Z"
   },
   {
    "duration": -571,
    "start_time": "2021-11-03T15:12:25.770Z"
   },
   {
    "duration": -583,
    "start_time": "2021-11-03T15:12:25.783Z"
   },
   {
    "duration": -592,
    "start_time": "2021-11-03T15:12:25.794Z"
   },
   {
    "duration": -604,
    "start_time": "2021-11-03T15:12:25.807Z"
   },
   {
    "duration": -613,
    "start_time": "2021-11-03T15:12:25.818Z"
   },
   {
    "duration": -626,
    "start_time": "2021-11-03T15:12:25.832Z"
   },
   {
    "duration": -636,
    "start_time": "2021-11-03T15:12:25.843Z"
   },
   {
    "duration": -647,
    "start_time": "2021-11-03T15:12:25.856Z"
   },
   {
    "duration": -656,
    "start_time": "2021-11-03T15:12:25.867Z"
   },
   {
    "duration": 8,
    "start_time": "2021-11-03T15:14:51.695Z"
   },
   {
    "duration": 389,
    "start_time": "2021-11-03T15:22:07.495Z"
   },
   {
    "duration": 579,
    "start_time": "2021-11-03T15:22:38.617Z"
   },
   {
    "duration": 5,
    "start_time": "2021-11-03T15:23:01.951Z"
   },
   {
    "duration": 1706,
    "start_time": "2021-11-03T15:23:05.281Z"
   },
   {
    "duration": 1686,
    "start_time": "2021-11-03T15:23:45.789Z"
   },
   {
    "duration": 4,
    "start_time": "2021-11-03T15:31:46.375Z"
   },
   {
    "duration": 30,
    "start_time": "2021-11-03T15:31:48.281Z"
   },
   {
    "duration": 1725,
    "start_time": "2021-11-03T15:33:24.581Z"
   },
   {
    "duration": 537,
    "start_time": "2021-11-03T15:36:09.864Z"
   },
   {
    "duration": 8,
    "start_time": "2021-11-03T15:36:17.865Z"
   },
   {
    "duration": 2130,
    "start_time": "2021-11-03T16:03:28.784Z"
   },
   {
    "duration": 98,
    "start_time": "2021-11-04T19:23:07.091Z"
   },
   {
    "duration": 10267,
    "start_time": "2021-11-04T19:35:35.270Z"
   },
   {
    "duration": 1203,
    "start_time": "2021-11-04T19:35:45.539Z"
   },
   {
    "duration": 19,
    "start_time": "2021-11-04T19:35:46.745Z"
   },
   {
    "duration": 6,
    "start_time": "2021-11-04T19:35:46.766Z"
   },
   {
    "duration": 16,
    "start_time": "2021-11-04T19:35:46.774Z"
   },
   {
    "duration": 7,
    "start_time": "2021-11-04T19:35:46.791Z"
   },
   {
    "duration": 9,
    "start_time": "2021-11-04T19:35:46.800Z"
   },
   {
    "duration": 13,
    "start_time": "2021-11-04T19:35:46.810Z"
   },
   {
    "duration": 2,
    "start_time": "2021-11-04T19:35:46.825Z"
   },
   {
    "duration": 37,
    "start_time": "2021-11-04T19:35:46.829Z"
   },
   {
    "duration": 8406,
    "start_time": "2021-11-04T19:35:46.868Z"
   },
   {
    "duration": 3,
    "start_time": "2021-11-04T19:35:55.276Z"
   },
   {
    "duration": 17,
    "start_time": "2021-11-04T19:35:55.281Z"
   },
   {
    "duration": 17,
    "start_time": "2021-11-04T19:35:55.300Z"
   },
   {
    "duration": 12,
    "start_time": "2021-11-04T19:35:55.319Z"
   },
   {
    "duration": 16,
    "start_time": "2021-11-04T19:35:55.332Z"
   },
   {
    "duration": 17,
    "start_time": "2021-11-04T19:35:55.363Z"
   },
   {
    "duration": 15,
    "start_time": "2021-11-04T19:35:55.381Z"
   },
   {
    "duration": 15,
    "start_time": "2021-11-04T19:35:55.398Z"
   },
   {
    "duration": 4,
    "start_time": "2021-11-04T19:35:55.415Z"
   },
   {
    "duration": 12,
    "start_time": "2021-11-04T19:35:55.420Z"
   },
   {
    "duration": 30,
    "start_time": "2021-11-04T19:35:55.433Z"
   },
   {
    "duration": 4,
    "start_time": "2021-11-04T19:35:55.465Z"
   },
   {
    "duration": 29,
    "start_time": "2021-11-04T19:35:55.470Z"
   },
   {
    "duration": 5,
    "start_time": "2021-11-04T19:35:55.501Z"
   },
   {
    "duration": 11,
    "start_time": "2021-11-04T19:35:55.508Z"
   },
   {
    "duration": 6,
    "start_time": "2021-11-04T19:35:55.523Z"
   },
   {
    "duration": 1065,
    "start_time": "2021-11-04T19:35:55.531Z"
   },
   {
    "duration": 2,
    "start_time": "2021-11-04T19:35:56.598Z"
   },
   {
    "duration": 38,
    "start_time": "2021-11-04T19:35:56.602Z"
   },
   {
    "duration": 4,
    "start_time": "2021-11-04T19:35:56.642Z"
   },
   {
    "duration": 14,
    "start_time": "2021-11-04T19:35:56.647Z"
   },
   {
    "duration": 618,
    "start_time": "2021-11-04T19:35:56.662Z"
   },
   {
    "duration": -49,
    "start_time": "2021-11-04T19:35:57.331Z"
   },
   {
    "duration": -154,
    "start_time": "2021-11-04T19:35:57.437Z"
   },
   {
    "duration": -172,
    "start_time": "2021-11-04T19:35:57.456Z"
   },
   {
    "duration": -175,
    "start_time": "2021-11-04T19:35:57.460Z"
   },
   {
    "duration": -176,
    "start_time": "2021-11-04T19:35:57.462Z"
   },
   {
    "duration": -177,
    "start_time": "2021-11-04T19:35:57.465Z"
   },
   {
    "duration": 4,
    "start_time": "2021-11-04T19:46:30.826Z"
   },
   {
    "duration": 4,
    "start_time": "2021-11-04T19:46:33.275Z"
   },
   {
    "duration": 560,
    "start_time": "2021-11-04T19:46:35.029Z"
   },
   {
    "duration": 4,
    "start_time": "2021-11-04T19:48:39.956Z"
   },
   {
    "duration": 4,
    "start_time": "2021-11-04T19:48:47.626Z"
   },
   {
    "duration": 3,
    "start_time": "2021-11-04T19:48:49.149Z"
   },
   {
    "duration": 12,
    "start_time": "2021-11-04T19:48:51.049Z"
   },
   {
    "duration": 9,
    "start_time": "2021-11-04T19:52:25.461Z"
   },
   {
    "duration": 4,
    "start_time": "2021-11-04T20:10:23.144Z"
   },
   {
    "duration": 3,
    "start_time": "2021-11-04T20:10:25.115Z"
   },
   {
    "duration": 4,
    "start_time": "2021-11-04T20:10:27.198Z"
   },
   {
    "duration": 6,
    "start_time": "2021-11-04T20:10:29.893Z"
   },
   {
    "duration": 3,
    "start_time": "2021-11-04T20:11:23.591Z"
   },
   {
    "duration": 5,
    "start_time": "2021-11-04T20:12:08.634Z"
   },
   {
    "duration": 5,
    "start_time": "2021-11-04T20:12:36.958Z"
   },
   {
    "duration": 5,
    "start_time": "2021-11-04T20:12:44.005Z"
   },
   {
    "duration": 7,
    "start_time": "2021-11-04T20:18:01.176Z"
   },
   {
    "duration": 258,
    "start_time": "2021-11-04T20:21:38.571Z"
   },
   {
    "duration": 6,
    "start_time": "2021-11-04T20:21:46.272Z"
   },
   {
    "duration": 6,
    "start_time": "2021-11-04T20:22:09.682Z"
   },
   {
    "duration": 4,
    "start_time": "2021-11-04T20:59:02.900Z"
   },
   {
    "duration": 3,
    "start_time": "2021-11-04T20:59:04.514Z"
   },
   {
    "duration": 3,
    "start_time": "2021-11-04T20:59:06.440Z"
   },
   {
    "duration": 265,
    "start_time": "2021-11-04T20:59:09.352Z"
   },
   {
    "duration": 6,
    "start_time": "2021-11-04T20:59:31.487Z"
   },
   {
    "duration": 3,
    "start_time": "2021-11-04T20:59:34.437Z"
   },
   {
    "duration": 8,
    "start_time": "2021-11-04T20:59:36.678Z"
   },
   {
    "duration": 8,
    "start_time": "2021-11-04T20:59:40.915Z"
   }
  ],
  "kernelspec": {
   "display_name": "Python 3",
   "language": "python",
   "name": "python3"
  },
  "language_info": {
   "codemirror_mode": {
    "name": "ipython",
    "version": 3
   },
   "file_extension": ".py",
   "mimetype": "text/x-python",
   "name": "python",
   "nbconvert_exporter": "python",
   "pygments_lexer": "ipython3",
   "version": "3.8.5"
  },
  "toc": {
   "base_numbering": 1,
   "nav_menu": {},
   "number_sections": true,
   "sideBar": true,
   "skip_h1_title": true,
   "title_cell": "Table of Contents",
   "title_sidebar": "Contents",
   "toc_cell": false,
   "toc_position": {},
   "toc_section_display": true,
   "toc_window_display": false
  }
 },
 "nbformat": 4,
 "nbformat_minor": 4
}
