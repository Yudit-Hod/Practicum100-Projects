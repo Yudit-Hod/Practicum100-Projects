{
 "cells": [
  {
   "cell_type": "markdown",
   "metadata": {},
   "source": [
    "# Sales funnels and A/A/B test results analysis"
   ]
  },
  {
   "cell_type": "markdown",
   "metadata": {},
   "source": [
    "There's a startup that sells food products. We need to investigate user behavior for the company's app.\n",
    "First we'll study the sales funnel. We'll find out how users reach the purchase stage. How many users actually make it to this stage? How many get stuck at previous stages? Which stages in particular?  \n",
    "Then we'll look at the results of an A/A/B test. The designers would like to change the fonts for the entire app, so it was decided to make a decision based on the results of an A/A/B test.\n",
    "The users were splitted into three groups: two control groups get the old fonts and one test group gets the new ones. We'll find out which set of fonts produces better results.\n",
    "\n",
    "**Project Steps** <a class=\"anchor\" id=\"table_of_contents\"></a>  \n",
    "[Data file and general information](#chapter1)  \n",
    "[Studying the data](#chapter2)  \n",
    "[Studying the event funnel](#chapter3)  \n",
    "[Studying the results of the experiment](#chapter4)  \n",
    "[General conclusions](#chapter5)"
   ]
  },
  {
   "cell_type": "markdown",
   "metadata": {},
   "source": [
    "## 1. Data file and general information\n",
    "<a class=\"anchor\" id=\"chapter1\"></a>"
   ]
  },
  {
   "cell_type": "code",
   "execution_count": 2,
   "metadata": {},
   "outputs": [],
   "source": [
    "#import libraries of functions\n",
    "import pandas as pd\n",
    "import numpy as np\n",
    "import plotly.graph_objects as go\n",
    "import plotly.express as px\n",
    "from scipy import stats as st\n",
    "import math as mth\n",
    "\n",
    "#ignore warnings\n",
    "import sys\n",
    "import warnings\n",
    "if not sys.warnoptions:\n",
    "       warnings.simplefilter(\"ignore\")\n",
    "        \n",
    "#open the data file locally\n",
    "try:\n",
    "    data = pd.read_csv('logs_exp_us.csv', sep = '\\t')\n",
    "    \n",
    "#open the data file on the platform    \n",
    "except:\n",
    "    data = pd.read_csv('/datasets/logs_exp_us.csv', sep = '\\t')"
   ]
  },
  {
   "cell_type": "code",
   "execution_count": 3,
   "metadata": {},
   "outputs": [
    {
     "data": {
      "text/html": [
       "<div>\n",
       "<style scoped>\n",
       "    .dataframe tbody tr th:only-of-type {\n",
       "        vertical-align: middle;\n",
       "    }\n",
       "\n",
       "    .dataframe tbody tr th {\n",
       "        vertical-align: top;\n",
       "    }\n",
       "\n",
       "    .dataframe thead th {\n",
       "        text-align: right;\n",
       "    }\n",
       "</style>\n",
       "<table border=\"1\" class=\"dataframe\">\n",
       "  <thead>\n",
       "    <tr style=\"text-align: right;\">\n",
       "      <th></th>\n",
       "      <th>EventName</th>\n",
       "      <th>DeviceIDHash</th>\n",
       "      <th>EventTimestamp</th>\n",
       "      <th>ExpId</th>\n",
       "    </tr>\n",
       "  </thead>\n",
       "  <tbody>\n",
       "    <tr>\n",
       "      <th>0</th>\n",
       "      <td>MainScreenAppear</td>\n",
       "      <td>4575588528974610257</td>\n",
       "      <td>1564029816</td>\n",
       "      <td>246</td>\n",
       "    </tr>\n",
       "    <tr>\n",
       "      <th>1</th>\n",
       "      <td>MainScreenAppear</td>\n",
       "      <td>7416695313311560658</td>\n",
       "      <td>1564053102</td>\n",
       "      <td>246</td>\n",
       "    </tr>\n",
       "    <tr>\n",
       "      <th>2</th>\n",
       "      <td>PaymentScreenSuccessful</td>\n",
       "      <td>3518123091307005509</td>\n",
       "      <td>1564054127</td>\n",
       "      <td>248</td>\n",
       "    </tr>\n",
       "    <tr>\n",
       "      <th>3</th>\n",
       "      <td>CartScreenAppear</td>\n",
       "      <td>3518123091307005509</td>\n",
       "      <td>1564054127</td>\n",
       "      <td>248</td>\n",
       "    </tr>\n",
       "    <tr>\n",
       "      <th>4</th>\n",
       "      <td>PaymentScreenSuccessful</td>\n",
       "      <td>6217807653094995999</td>\n",
       "      <td>1564055322</td>\n",
       "      <td>248</td>\n",
       "    </tr>\n",
       "  </tbody>\n",
       "</table>\n",
       "</div>"
      ],
      "text/plain": [
       "                 EventName         DeviceIDHash  EventTimestamp  ExpId\n",
       "0         MainScreenAppear  4575588528974610257      1564029816    246\n",
       "1         MainScreenAppear  7416695313311560658      1564053102    246\n",
       "2  PaymentScreenSuccessful  3518123091307005509      1564054127    248\n",
       "3         CartScreenAppear  3518123091307005509      1564054127    248\n",
       "4  PaymentScreenSuccessful  6217807653094995999      1564055322    248"
      ]
     },
     "execution_count": 3,
     "metadata": {},
     "output_type": "execute_result"
    }
   ],
   "source": [
    "#show general info\n",
    "data.head()"
   ]
  },
  {
   "cell_type": "markdown",
   "metadata": {},
   "source": [
    "##### data description:\n",
    "- `EventName` — event name\n",
    "- `DeviceIDHash` — unique user identifier\n",
    "- `EventTimestamp` — event time\n",
    "- `ExpId` — experiment number: 246 and 247 are the control groups, 248 is the test group"
   ]
  },
  {
   "cell_type": "markdown",
   "metadata": {},
   "source": [
    "We'll rename the columns names for our convinience:"
   ]
  },
  {
   "cell_type": "code",
   "execution_count": 4,
   "metadata": {},
   "outputs": [
    {
     "name": "stdout",
     "output_type": "stream",
     "text": [
      "<class 'pandas.core.frame.DataFrame'>\n",
      "RangeIndex: 244126 entries, 0 to 244125\n",
      "Data columns (total 4 columns):\n",
      " #   Column      Non-Null Count   Dtype \n",
      "---  ------      --------------   ----- \n",
      " 0   event_name  244126 non-null  object\n",
      " 1   uid         244126 non-null  int64 \n",
      " 2   event_ts    244126 non-null  int64 \n",
      " 3   exp_id      244126 non-null  int64 \n",
      "dtypes: int64(3), object(1)\n",
      "memory usage: 22.9 MB\n"
     ]
    }
   ],
   "source": [
    "data.columns = ['event_name','uid','event_ts','exp_id']\n",
    "#names of columns, types and counts\n",
    "data.info(memory_usage='deep')"
   ]
  },
  {
   "cell_type": "markdown",
   "metadata": {},
   "source": [
    "We see that the names of the columns were updated and we don't have any missing values. There are some changes that need to be done. We need to change the type of `event_ts` to datetime and create additional column for the date, to ease the calculations. As the id's are nut used for numeric calculations, we'll change the `exp_id` column to 'object' type."
   ]
  },
  {
   "cell_type": "code",
   "execution_count": 5,
   "metadata": {},
   "outputs": [
    {
     "name": "stdout",
     "output_type": "stream",
     "text": [
      "<class 'pandas.core.frame.DataFrame'>\n",
      "RangeIndex: 244126 entries, 0 to 244125\n",
      "Data columns (total 4 columns):\n",
      " #   Column      Non-Null Count   Dtype         \n",
      "---  ------      --------------   -----         \n",
      " 0   event_name  244126 non-null  object        \n",
      " 1   uid         244126 non-null  int64         \n",
      " 2   event_ts    244126 non-null  datetime64[ns]\n",
      " 3   exp_id      244126 non-null  object        \n",
      "dtypes: datetime64[ns](1), int64(1), object(2)\n",
      "memory usage: 29.4 MB\n"
     ]
    }
   ],
   "source": [
    "data['event_ts'] = pd.to_datetime(data['event_ts'], unit='s')\n",
    "data['exp_id'] = data['exp_id'].astype('object')\n",
    "data.info(memory_usage='deep')"
   ]
  },
  {
   "cell_type": "code",
   "execution_count": 6,
   "metadata": {},
   "outputs": [
    {
     "data": {
      "text/html": [
       "<div>\n",
       "<style scoped>\n",
       "    .dataframe tbody tr th:only-of-type {\n",
       "        vertical-align: middle;\n",
       "    }\n",
       "\n",
       "    .dataframe tbody tr th {\n",
       "        vertical-align: top;\n",
       "    }\n",
       "\n",
       "    .dataframe thead th {\n",
       "        text-align: right;\n",
       "    }\n",
       "</style>\n",
       "<table border=\"1\" class=\"dataframe\">\n",
       "  <thead>\n",
       "    <tr style=\"text-align: right;\">\n",
       "      <th></th>\n",
       "      <th>event_name</th>\n",
       "      <th>uid</th>\n",
       "      <th>event_ts</th>\n",
       "      <th>exp_id</th>\n",
       "      <th>date</th>\n",
       "    </tr>\n",
       "  </thead>\n",
       "  <tbody>\n",
       "    <tr>\n",
       "      <th>0</th>\n",
       "      <td>MainScreenAppear</td>\n",
       "      <td>4575588528974610257</td>\n",
       "      <td>2019-07-25 04:43:36</td>\n",
       "      <td>246</td>\n",
       "      <td>2019-07-25</td>\n",
       "    </tr>\n",
       "    <tr>\n",
       "      <th>1</th>\n",
       "      <td>MainScreenAppear</td>\n",
       "      <td>7416695313311560658</td>\n",
       "      <td>2019-07-25 11:11:42</td>\n",
       "      <td>246</td>\n",
       "      <td>2019-07-25</td>\n",
       "    </tr>\n",
       "    <tr>\n",
       "      <th>2</th>\n",
       "      <td>PaymentScreenSuccessful</td>\n",
       "      <td>3518123091307005509</td>\n",
       "      <td>2019-07-25 11:28:47</td>\n",
       "      <td>248</td>\n",
       "      <td>2019-07-25</td>\n",
       "    </tr>\n",
       "    <tr>\n",
       "      <th>3</th>\n",
       "      <td>CartScreenAppear</td>\n",
       "      <td>3518123091307005509</td>\n",
       "      <td>2019-07-25 11:28:47</td>\n",
       "      <td>248</td>\n",
       "      <td>2019-07-25</td>\n",
       "    </tr>\n",
       "    <tr>\n",
       "      <th>4</th>\n",
       "      <td>PaymentScreenSuccessful</td>\n",
       "      <td>6217807653094995999</td>\n",
       "      <td>2019-07-25 11:48:42</td>\n",
       "      <td>248</td>\n",
       "      <td>2019-07-25</td>\n",
       "    </tr>\n",
       "  </tbody>\n",
       "</table>\n",
       "</div>"
      ],
      "text/plain": [
       "                event_name                  uid            event_ts exp_id  \\\n",
       "0         MainScreenAppear  4575588528974610257 2019-07-25 04:43:36    246   \n",
       "1         MainScreenAppear  7416695313311560658 2019-07-25 11:11:42    246   \n",
       "2  PaymentScreenSuccessful  3518123091307005509 2019-07-25 11:28:47    248   \n",
       "3         CartScreenAppear  3518123091307005509 2019-07-25 11:28:47    248   \n",
       "4  PaymentScreenSuccessful  6217807653094995999 2019-07-25 11:48:42    248   \n",
       "\n",
       "        date  \n",
       "0 2019-07-25  \n",
       "1 2019-07-25  \n",
       "2 2019-07-25  \n",
       "3 2019-07-25  \n",
       "4 2019-07-25  "
      ]
     },
     "execution_count": 6,
     "metadata": {},
     "output_type": "execute_result"
    }
   ],
   "source": [
    "data['date'] = data['event_ts'].astype('datetime64[D]')\n",
    "data.head()"
   ]
  },
  {
   "cell_type": "code",
   "execution_count": 7,
   "metadata": {},
   "outputs": [
    {
     "data": {
      "text/plain": [
       "count                  244126\n",
       "unique                 176654\n",
       "top       2019-08-04 16:23:19\n",
       "freq                        9\n",
       "first     2019-07-25 04:43:36\n",
       "last      2019-08-07 21:15:17\n",
       "Name: event_ts, dtype: object"
      ]
     },
     "metadata": {},
     "output_type": "display_data"
    },
    {
     "data": {
      "text/plain": [
       "count               244126\n",
       "unique                   5\n",
       "top       MainScreenAppear\n",
       "freq                119205\n",
       "Name: event_name, dtype: object"
      ]
     },
     "metadata": {},
     "output_type": "display_data"
    },
    {
     "data": {
      "text/plain": [
       "count     244126\n",
       "unique         3\n",
       "top          248\n",
       "freq       85747\n",
       "Name: exp_id, dtype: int64"
      ]
     },
     "metadata": {},
     "output_type": "display_data"
    }
   ],
   "source": [
    "#show statistical summary\n",
    "display(data['event_ts'].describe(), data['event_name'].describe(), data['exp_id'].describe())"
   ]
  },
  {
   "cell_type": "code",
   "execution_count": 8,
   "metadata": {},
   "outputs": [
    {
     "name": "stdout",
     "output_type": "stream",
     "text": [
      "The number of unique users: 7551\n"
     ]
    }
   ],
   "source": [
    "print('The number of unique users:', data.uid.nunique())"
   ]
  },
  {
   "cell_type": "markdown",
   "metadata": {},
   "source": [
    "- The data spans from 2019-07-25 to 2019-08-07 (two weeks)\n",
    "- There are 7551 unique users.\n",
    "- The biggest group is 248, the test group.\n",
    "- There are 5 possible events and the most common one is 'MainScreenAppear'."
   ]
  },
  {
   "cell_type": "markdown",
   "metadata": {},
   "source": [
    "Now we'll check if there are any duplicates. If there are, we'll need to remove them and update the data engineers so they'll find what caused it."
   ]
  },
  {
   "cell_type": "code",
   "execution_count": 9,
   "metadata": {},
   "outputs": [
    {
     "name": "stdout",
     "output_type": "stream",
     "text": [
      "Number of duplicated rows: 413\n",
      "The share of duplicated rows from the whole dataset: 0.002\n"
     ]
    }
   ],
   "source": [
    "#count the duplicated rows\n",
    "print('Number of duplicated rows:',data.duplicated().sum())\n",
    "print('The share of duplicated rows from the whole dataset:',(data.duplicated().sum()/len(data)).round(3))"
   ]
  },
  {
   "cell_type": "markdown",
   "metadata": {},
   "source": [
    "The share of the duplicated rows is very small. We'll remove them but first we'll try to understand the cause. Maybe we had problems with the platform."
   ]
  },
  {
   "cell_type": "code",
   "execution_count": 10,
   "metadata": {},
   "outputs": [
    {
     "name": "stdout",
     "output_type": "stream",
     "text": [
      "event_name : 5\n",
      "uid : 237\n",
      "event_ts : 352\n",
      "exp_id : 3\n",
      "date : 9\n"
     ]
    }
   ],
   "source": [
    "for i in data[data.duplicated()].columns:\n",
    "    print(i,':', data[data.duplicated()][i].nunique())"
   ]
  },
  {
   "cell_type": "code",
   "execution_count": 11,
   "metadata": {},
   "outputs": [
    {
     "data": {
      "text/plain": [
       "array(['2019-07-30T00:00:00.000000000', '2019-07-31T00:00:00.000000000',\n",
       "       '2019-08-01T00:00:00.000000000', '2019-08-02T00:00:00.000000000',\n",
       "       '2019-08-03T00:00:00.000000000', '2019-08-04T00:00:00.000000000',\n",
       "       '2019-08-05T00:00:00.000000000', '2019-08-06T00:00:00.000000000',\n",
       "       '2019-08-07T00:00:00.000000000'], dtype='datetime64[ns]')"
      ]
     },
     "execution_count": 11,
     "metadata": {},
     "output_type": "execute_result"
    }
   ],
   "source": [
    "data[data.duplicated()]['date'].unique()"
   ]
  },
  {
   "cell_type": "markdown",
   "metadata": {},
   "source": [
    "The duplicates are not related to one of the groups or a specific type of event. It seems that there might be a technical problem as the duplicates are in Consecutive days from 2019-07-30 to 2019-08-07. As we mentioned before, we are going to delete those rows."
   ]
  },
  {
   "cell_type": "code",
   "execution_count": 12,
   "metadata": {},
   "outputs": [],
   "source": [
    "#remove duplicated rows\n",
    "data.drop_duplicates(inplace=True)"
   ]
  },
  {
   "cell_type": "markdown",
   "metadata": {},
   "source": [
    "We also want to make sure that each group has unique users (there are no users that were assigned to more than one group)"
   ]
  },
  {
   "cell_type": "code",
   "execution_count": 13,
   "metadata": {},
   "outputs": [
    {
     "name": "stdout",
     "output_type": "stream",
     "text": [
      "The amount of unique users that were assigned for more than one group: 0\n"
     ]
    }
   ],
   "source": [
    "#count the nuber of groups assigned for each user\n",
    "n_groups = data.groupby('uid').agg({'exp_id':'nunique'})\n",
    "n_groups = n_groups[n_groups['exp_id']>1].reset_index()\n",
    "print('The amount of unique users that were assigned for more than one group: {}'.format(len(n_groups)))"
   ]
  },
  {
   "cell_type": "markdown",
   "metadata": {},
   "source": [
    "We see that:\n",
    "\n",
    "- Data types are correct.\n",
    "- There's no missing values.\n",
    "- The date span is 2019-07-25 to 2019-08-07, total of 14 days.\n",
    "- There were some duplicated rows in specific days' we need to inform our data engineers for additional investigation.\n",
    "- There are 5 possible actions and the most common one is 'MainScreenAppear'.\n",
    "- There are more members in the test group.\n",
    "\n",
    "Now we are ready for our analysis."
   ]
  },
  {
   "cell_type": "markdown",
   "metadata": {},
   "source": [
    "## 2. Studying the data\n",
    "<a class=\"anchor\" id=\"chapter2\"></a>"
   ]
  },
  {
   "cell_type": "markdown",
   "metadata": {},
   "source": [
    "- **How many events are in the logs?**"
   ]
  },
  {
   "cell_type": "code",
   "execution_count": 14,
   "metadata": {},
   "outputs": [
    {
     "name": "stdout",
     "output_type": "stream",
     "text": [
      "Number of events in the logs: 243713\n"
     ]
    }
   ],
   "source": [
    "print('Number of events in the logs:',data.event_name.count())"
   ]
  },
  {
   "cell_type": "markdown",
   "metadata": {},
   "source": [
    "- **How many users are in the logs?**"
   ]
  },
  {
   "cell_type": "code",
   "execution_count": 15,
   "metadata": {},
   "outputs": [
    {
     "name": "stdout",
     "output_type": "stream",
     "text": [
      "Number of users in the log: 7551\n"
     ]
    }
   ],
   "source": [
    "print('Number of users in the log:',data.uid.nunique())"
   ]
  },
  {
   "cell_type": "markdown",
   "metadata": {},
   "source": [
    "- **What's the average number of events per user?**"
   ]
  },
  {
   "cell_type": "code",
   "execution_count": 16,
   "metadata": {},
   "outputs": [
    {
     "data": {
      "text/plain": [
       "4    3035\n",
       "1    2707\n",
       "2    1021\n",
       "5     471\n",
       "3     317\n",
       "Name: event_name, dtype: int64"
      ]
     },
     "execution_count": 16,
     "metadata": {},
     "output_type": "execute_result"
    }
   ],
   "source": [
    "data.groupby(['uid'])['event_name'].nunique().reset_index()['event_name'].value_counts()"
   ]
  },
  {
   "cell_type": "markdown",
   "metadata": {},
   "source": [
    "Most of users have 4 events."
   ]
  },
  {
   "cell_type": "code",
   "execution_count": 17,
   "metadata": {},
   "outputs": [
    {
     "name": "stdout",
     "output_type": "stream",
     "text": [
      "Average number of actions per user: 32.28\n"
     ]
    }
   ],
   "source": [
    "print('Average number of actions per user: {:.2f}'.format(data.groupby(['uid'])['event_name'].count().mean()))"
   ]
  },
  {
   "cell_type": "markdown",
   "metadata": {},
   "source": [
    "- **What period of time does the data cover? Find the maximum and the minimum date. Plot a histogram by date and time. Can you be sure that you have equally complete data for the entire period? Older events could end up in some users' logs for technical reasons, and this could skew the overall picture. Find the moment at which the data starts to be complete and ignore the earlier section. What period does the data actually represent?**"
   ]
  },
  {
   "cell_type": "markdown",
   "metadata": {},
   "source": [
    "As we mentioned. the data covers the dates 2019-07-25 to 2019-08-07. Let's plot the histogram for a clear understanding."
   ]
  },
  {
   "cell_type": "code",
   "execution_count": 18,
   "metadata": {},
   "outputs": [
    {
     "data": {
      "image/png": "[encoded data removed]"
     },
     "metadata": {},
     "output_type": "display_data"
    }
   ],
   "source": [
    "fig = px.histogram(data[['event_ts','event_name']], x=\"event_ts\", title ='Number of events')\n",
    "fig.update_traces(marker = dict(line = dict(color='#000000', width =1)))\n",
    "fig.show(\"png\")"
   ]
  },
  {
   "cell_type": "markdown",
   "metadata": {},
   "source": [
    "The relevant period in that case is 2019-08-01 to 2019-08-07. We'll need to remove those older records that were with a very small volume due to a technical issue or even influation of the marketing. We see the daily cycles. The peak of activity is during the day and the activity is very small in the evening and at night."
   ]
  },
  {
   "cell_type": "code",
   "execution_count": 19,
   "metadata": {},
   "outputs": [],
   "source": [
    "#creat a copy of the data so it could be manipulated without affecting the original data\n",
    "original_copy = data.copy(deep=True)\n",
    "#save the relevant period\n",
    "data = data[data['date'] > '2019-07-31']"
   ]
  },
  {
   "cell_type": "markdown",
   "metadata": {},
   "source": [
    "- **Did you lose many events and users when excluding the older data?**"
   ]
  },
  {
   "cell_type": "code",
   "execution_count": 20,
   "metadata": {},
   "outputs": [
    {
     "name": "stdout",
     "output_type": "stream",
     "text": [
      "Percenatge of removed events from the logs: 1.16%\n",
      "Percenatge of removed users from the log: 0.23%\n",
      "Average number of actions per user: 31.97\n"
     ]
    }
   ],
   "source": [
    "print('Percenatge of removed events from the logs: {:.2%}'.format(1-data.event_name.count()/original_copy.event_name.count()))\n",
    "print('Percenatge of removed users from the log: {:.2%}'.format(1-data.uid.nunique()/original_copy.uid.nunique()))\n",
    "\n",
    "print('Average number of actions per user: {:.2f}'.format(data.groupby(['uid'])['event_name'].count().mean()))"
   ]
  },
  {
   "cell_type": "markdown",
   "metadata": {},
   "source": [
    "We see that the volume of removed data is very low."
   ]
  },
  {
   "cell_type": "markdown",
   "metadata": {},
   "source": [
    "- **Make sure you have users from all three experimental groups.**"
   ]
  },
  {
   "cell_type": "code",
   "execution_count": 21,
   "metadata": {},
   "outputs": [
    {
     "name": "stdout",
     "output_type": "stream",
     "text": [
      "Number of users in the first control group: 2484\n",
      "Number of users in the second control group: 2513\n",
      "Number of users in the test group: 2537\n",
      "Total number of unique users: 7534\n"
     ]
    }
   ],
   "source": [
    "print('Number of users in the first control group:',data[data['exp_id']==246].uid.nunique())\n",
    "print('Number of users in the second control group:',data[data['exp_id']==247].uid.nunique())\n",
    "print('Number of users in the test group:',data[data['exp_id']==248].uid.nunique())\n",
    "print('Total number of unique users:', data.uid.nunique())"
   ]
  },
  {
   "cell_type": "markdown",
   "metadata": {},
   "source": [
    "All the groups are represented with a very similar numbers."
   ]
  },
  {
   "cell_type": "markdown",
   "metadata": {},
   "source": [
    "**Conclusions**"
   ]
  },
  {
   "cell_type": "markdown",
   "metadata": {},
   "source": [
    "- There are 5 types of events.\n",
    "- There were some logs before August 1 that were removed due to a low amount (maybe due to a technical issue).\n",
    "- We have after removing the old data, 7534 unique users.\n",
    "- Each user take about 32 actions."
   ]
  },
  {
   "cell_type": "markdown",
   "metadata": {},
   "source": [
    "## 3. Studying the event funnel\n",
    "<a class=\"anchor\" id=\"chapter3\"></a>"
   ]
  },
  {
   "cell_type": "markdown",
   "metadata": {},
   "source": [
    "- **See what events are in the logs and their frequency of occurrence. Sort them by frequency.**"
   ]
  },
  {
   "cell_type": "code",
   "execution_count": 22,
   "metadata": {},
   "outputs": [
    {
     "data": {
      "text/plain": [
       "MainScreenAppear           117328\n",
       "OffersScreenAppear          46333\n",
       "CartScreenAppear            42303\n",
       "PaymentScreenSuccessful     33918\n",
       "Tutorial                     1005\n",
       "Name: event_name, dtype: int64"
      ]
     },
     "execution_count": 22,
     "metadata": {},
     "output_type": "execute_result"
    }
   ],
   "source": [
    "data['event_name'].value_counts()"
   ]
  },
  {
   "cell_type": "markdown",
   "metadata": {},
   "source": [
    "- **Find the number of users who performed each of these actions. Sort the events by the number of users. Calculate the proportion of users who performed the action at least once.**"
   ]
  },
  {
   "cell_type": "code",
   "execution_count": 23,
   "metadata": {},
   "outputs": [
    {
     "data": {
      "text/plain": [
       "event_name\n",
       "MainScreenAppear           7419\n",
       "OffersScreenAppear         4593\n",
       "CartScreenAppear           3734\n",
       "PaymentScreenSuccessful    3539\n",
       "Tutorial                    840\n",
       "Name: uid, dtype: int64"
      ]
     },
     "execution_count": 23,
     "metadata": {},
     "output_type": "execute_result"
    }
   ],
   "source": [
    "#number of users who performed each of the events\n",
    "data.groupby('event_name')['uid'].nunique().sort_values(ascending=False)"
   ]
  },
  {
   "cell_type": "code",
   "execution_count": 24,
   "metadata": {},
   "outputs": [
    {
     "data": {
      "text/plain": [
       "event_name\n",
       "MainScreenAppear           0.984736\n",
       "OffersScreenAppear         0.609636\n",
       "CartScreenAppear           0.495620\n",
       "PaymentScreenSuccessful    0.469737\n",
       "Tutorial                   0.111495\n",
       "Name: uid, dtype: float64"
      ]
     },
     "execution_count": 24,
     "metadata": {},
     "output_type": "execute_result"
    }
   ],
   "source": [
    "#proportion of users who performed the action at least once\n",
    "data.groupby(['event_name'])['uid'].nunique().sort_values(ascending=False)/data.uid.nunique()"
   ]
  },
  {
   "cell_type": "markdown",
   "metadata": {},
   "source": [
    "We would expect to get 1 for the 'MainScreenAppear' but maybe we drleted some old logs of this event for some of the users."
   ]
  },
  {
   "cell_type": "markdown",
   "metadata": {},
   "source": [
    "- **In what order do you think the actions took place. Are all of them part of a single sequence? You don't need to take them into account when calculating the funnel.**"
   ]
  },
  {
   "cell_type": "markdown",
   "metadata": {},
   "source": [
    "As we can see above, the logic path (also based on the shares of users in each step) is:  \n",
    "1) MainScreenAppear  \n",
    "2) OffersScreenAppear  \n",
    "3) CartScreenAppear  \n",
    "4) PaymentScreenSuccessful  \n",
    "\n",
    "Tutorial is optional but it is not obligatory for completing a purchase. We'll remove this step when calculating the funnel."
   ]
  },
  {
   "cell_type": "code",
   "execution_count": 25,
   "metadata": {},
   "outputs": [],
   "source": [
    "#remove the tutorial events\n",
    "sorted_data = data[data['event_name']!='Tutorial'].sort_values(by=['uid','event_ts'])"
   ]
  },
  {
   "cell_type": "markdown",
   "metadata": {},
   "source": [
    "Now we want to check what is the most common sequence of events."
   ]
  },
  {
   "cell_type": "code",
   "execution_count": 26,
   "metadata": {},
   "outputs": [],
   "source": [
    "#function for calculating the path of each user\n",
    "def sequence(user):\n",
    "    sorted_user = sorted_data[sorted_data['uid'] == user].sort_values(by=['uid','event_ts'])\n",
    "    return sorted_user['event_name'].drop_duplicates().to_list()"
   ]
  },
  {
   "cell_type": "code",
   "execution_count": 27,
   "metadata": {},
   "outputs": [],
   "source": [
    "events_sequence = []\n",
    "for i in sorted_data.uid.unique():\n",
    "    events_sequence.append([i,sequence(i)])"
   ]
  },
  {
   "cell_type": "code",
   "execution_count": 28,
   "metadata": {},
   "outputs": [
    {
     "data": {
      "text/html": [
       "<div>\n",
       "<style scoped>\n",
       "    .dataframe tbody tr th:only-of-type {\n",
       "        vertical-align: middle;\n",
       "    }\n",
       "\n",
       "    .dataframe tbody tr th {\n",
       "        vertical-align: top;\n",
       "    }\n",
       "\n",
       "    .dataframe thead th {\n",
       "        text-align: right;\n",
       "    }\n",
       "</style>\n",
       "<table border=\"1\" class=\"dataframe\">\n",
       "  <thead>\n",
       "    <tr style=\"text-align: right;\">\n",
       "      <th></th>\n",
       "      <th>user</th>\n",
       "      <th>path</th>\n",
       "    </tr>\n",
       "  </thead>\n",
       "  <tbody>\n",
       "    <tr>\n",
       "      <th>0</th>\n",
       "      <td>6888746892508752</td>\n",
       "      <td>[MainScreenAppear]</td>\n",
       "    </tr>\n",
       "    <tr>\n",
       "      <th>1</th>\n",
       "      <td>6909561520679493</td>\n",
       "      <td>[MainScreenAppear, PaymentScreenSuccessful, Ca...</td>\n",
       "    </tr>\n",
       "    <tr>\n",
       "      <th>2</th>\n",
       "      <td>6922444491712477</td>\n",
       "      <td>[MainScreenAppear, PaymentScreenSuccessful, Ca...</td>\n",
       "    </tr>\n",
       "    <tr>\n",
       "      <th>3</th>\n",
       "      <td>7435777799948366</td>\n",
       "      <td>[MainScreenAppear]</td>\n",
       "    </tr>\n",
       "    <tr>\n",
       "      <th>4</th>\n",
       "      <td>7702139951469979</td>\n",
       "      <td>[MainScreenAppear, OffersScreenAppear, CartScr...</td>\n",
       "    </tr>\n",
       "    <tr>\n",
       "      <th>5</th>\n",
       "      <td>8486814028069281</td>\n",
       "      <td>[OffersScreenAppear, CartScreenAppear, MainScr...</td>\n",
       "    </tr>\n",
       "    <tr>\n",
       "      <th>6</th>\n",
       "      <td>8740973466195562</td>\n",
       "      <td>[MainScreenAppear, OffersScreenAppear]</td>\n",
       "    </tr>\n",
       "    <tr>\n",
       "      <th>7</th>\n",
       "      <td>9841258664663090</td>\n",
       "      <td>[MainScreenAppear, OffersScreenAppear, CartScr...</td>\n",
       "    </tr>\n",
       "    <tr>\n",
       "      <th>8</th>\n",
       "      <td>12692216027168046</td>\n",
       "      <td>[MainScreenAppear, OffersScreenAppear]</td>\n",
       "    </tr>\n",
       "    <tr>\n",
       "      <th>9</th>\n",
       "      <td>15708180189885246</td>\n",
       "      <td>[OffersScreenAppear, CartScreenAppear, Payment...</td>\n",
       "    </tr>\n",
       "  </tbody>\n",
       "</table>\n",
       "</div>"
      ],
      "text/plain": [
       "                user                                               path\n",
       "0   6888746892508752                                 [MainScreenAppear]\n",
       "1   6909561520679493  [MainScreenAppear, PaymentScreenSuccessful, Ca...\n",
       "2   6922444491712477  [MainScreenAppear, PaymentScreenSuccessful, Ca...\n",
       "3   7435777799948366                                 [MainScreenAppear]\n",
       "4   7702139951469979  [MainScreenAppear, OffersScreenAppear, CartScr...\n",
       "5   8486814028069281  [OffersScreenAppear, CartScreenAppear, MainScr...\n",
       "6   8740973466195562             [MainScreenAppear, OffersScreenAppear]\n",
       "7   9841258664663090  [MainScreenAppear, OffersScreenAppear, CartScr...\n",
       "8  12692216027168046             [MainScreenAppear, OffersScreenAppear]\n",
       "9  15708180189885246  [OffersScreenAppear, CartScreenAppear, Payment..."
      ]
     },
     "execution_count": 28,
     "metadata": {},
     "output_type": "execute_result"
    }
   ],
   "source": [
    "path_data = pd.DataFrame(events_sequence,columns=['user','path'])\n",
    "path_data.head(10)"
   ]
  },
  {
   "cell_type": "code",
   "execution_count": 29,
   "metadata": {},
   "outputs": [
    {
     "data": {
      "text/plain": [
       "(MainScreenAppear,)                                                                  2882\n",
       "(MainScreenAppear, OffersScreenAppear, CartScreenAppear, PaymentScreenSuccessful)     905\n",
       "(MainScreenAppear, OffersScreenAppear)                                                872\n",
       "(MainScreenAppear, OffersScreenAppear, PaymentScreenSuccessful, CartScreenAppear)     771\n",
       "(MainScreenAppear, PaymentScreenSuccessful, CartScreenAppear, OffersScreenAppear)     668\n",
       "(MainScreenAppear, CartScreenAppear, PaymentScreenSuccessful, OffersScreenAppear)     510\n",
       "(MainScreenAppear, CartScreenAppear, OffersScreenAppear, PaymentScreenSuccessful)     259\n",
       "(MainScreenAppear, OffersScreenAppear, CartScreenAppear)                               92\n",
       "(OffersScreenAppear, MainScreenAppear, PaymentScreenSuccessful, CartScreenAppear)      65\n",
       "(OffersScreenAppear, PaymentScreenSuccessful, CartScreenAppear, MainScreenAppear)      63\n",
       "(MainScreenAppear, CartScreenAppear, OffersScreenAppear)                               52\n",
       "(MainScreenAppear, CartScreenAppear)                                                   48\n",
       "(PaymentScreenSuccessful, CartScreenAppear, OffersScreenAppear, MainScreenAppear)      41\n",
       "(OffersScreenAppear, PaymentScreenSuccessful, CartScreenAppear)                        37\n",
       "(PaymentScreenSuccessful, CartScreenAppear, OffersScreenAppear)                        29\n",
       "(OffersScreenAppear, MainScreenAppear, CartScreenAppear, PaymentScreenSuccessful)      29\n",
       "(OffersScreenAppear, CartScreenAppear, PaymentScreenSuccessful, MainScreenAppear)      26\n",
       "(OffersScreenAppear, MainScreenAppear)                                                 25\n",
       "(PaymentScreenSuccessful, CartScreenAppear, MainScreenAppear, OffersScreenAppear)      17\n",
       "(OffersScreenAppear, CartScreenAppear, PaymentScreenSuccessful)                        14\n",
       "(MainScreenAppear, PaymentScreenSuccessful, OffersScreenAppear, CartScreenAppear)      14\n",
       "(CartScreenAppear, MainScreenAppear, PaymentScreenSuccessful, OffersScreenAppear)      13\n",
       "(OffersScreenAppear,)                                                                  12\n",
       "(OffersScreenAppear, CartScreenAppear, MainScreenAppear, PaymentScreenSuccessful)      11\n",
       "(CartScreenAppear, PaymentScreenSuccessful, MainScreenAppear, OffersScreenAppear)      11\n",
       "(CartScreenAppear, PaymentScreenSuccessful, OffersScreenAppear)                        10\n",
       "(CartScreenAppear, MainScreenAppear, OffersScreenAppear, PaymentScreenSuccessful)      10\n",
       "(CartScreenAppear, PaymentScreenSuccessful, OffersScreenAppear, MainScreenAppear)       8\n",
       "(PaymentScreenSuccessful, OffersScreenAppear, CartScreenAppear)                         5\n",
       "(MainScreenAppear, PaymentScreenSuccessful, OffersScreenAppear)                         4\n",
       "(MainScreenAppear, CartScreenAppear, PaymentScreenSuccessful)                           4\n",
       "(OffersScreenAppear, MainScreenAppear, CartScreenAppear)                                3\n",
       "(MainScreenAppear, PaymentScreenSuccessful, CartScreenAppear)                           3\n",
       "(CartScreenAppear, OffersScreenAppear, PaymentScreenSuccessful, MainScreenAppear)       3\n",
       "(CartScreenAppear, OffersScreenAppear, PaymentScreenSuccessful)                         3\n",
       "(CartScreenAppear, OffersScreenAppear, MainScreenAppear, PaymentScreenSuccessful)       2\n",
       "(OffersScreenAppear, CartScreenAppear, MainScreenAppear)                                2\n",
       "(OffersScreenAppear, CartScreenAppear)                                                  1\n",
       "(CartScreenAppear, MainScreenAppear, OffersScreenAppear)                                1\n",
       "(PaymentScreenSuccessful, MainScreenAppear, CartScreenAppear, OffersScreenAppear)       1\n",
       "(PaymentScreenSuccessful, MainScreenAppear, OffersScreenAppear)                         1\n",
       "(PaymentScreenSuccessful, OffersScreenAppear, CartScreenAppear, MainScreenAppear)       1\n",
       "(PaymentScreenSuccessful, MainScreenAppear, OffersScreenAppear, CartScreenAppear)       1\n",
       "(CartScreenAppear, OffersScreenAppear, MainScreenAppear)                                1\n",
       "Name: path, dtype: int64"
      ]
     },
     "execution_count": 29,
     "metadata": {},
     "output_type": "execute_result"
    }
   ],
   "source": [
    "#count the number of users that took the same path\n",
    "path_data['path'].apply(tuple).value_counts()"
   ]
  },
  {
   "cell_type": "markdown",
   "metadata": {},
   "source": [
    "Most of users saw only the 'MainScreenAppear' after that, the most common path is the full path!"
   ]
  },
  {
   "cell_type": "markdown",
   "metadata": {},
   "source": [
    "- **Use the event funnel to find the share of users that proceed from each stage to the next. (For instance, for the sequence of events A → B → C, calculate the ratio of users at stage B to the number of users at stage A and the ratio of users at stage C to the number at stage B.)**"
   ]
  },
  {
   "cell_type": "code",
   "execution_count": 30,
   "metadata": {},
   "outputs": [
    {
     "data": {
      "text/html": [
       "<div>\n",
       "<style scoped>\n",
       "    .dataframe tbody tr th:only-of-type {\n",
       "        vertical-align: middle;\n",
       "    }\n",
       "\n",
       "    .dataframe tbody tr th {\n",
       "        vertical-align: top;\n",
       "    }\n",
       "\n",
       "    .dataframe thead th {\n",
       "        text-align: right;\n",
       "    }\n",
       "</style>\n",
       "<table border=\"1\" class=\"dataframe\">\n",
       "  <thead>\n",
       "    <tr style=\"text-align: right;\">\n",
       "      <th></th>\n",
       "      <th>event_name</th>\n",
       "      <th>uid</th>\n",
       "    </tr>\n",
       "  </thead>\n",
       "  <tbody>\n",
       "    <tr>\n",
       "      <th>0</th>\n",
       "      <td>MainScreenAppear</td>\n",
       "      <td>7419</td>\n",
       "    </tr>\n",
       "    <tr>\n",
       "      <th>1</th>\n",
       "      <td>OffersScreenAppear</td>\n",
       "      <td>4593</td>\n",
       "    </tr>\n",
       "    <tr>\n",
       "      <th>2</th>\n",
       "      <td>CartScreenAppear</td>\n",
       "      <td>3734</td>\n",
       "    </tr>\n",
       "    <tr>\n",
       "      <th>3</th>\n",
       "      <td>PaymentScreenSuccessful</td>\n",
       "      <td>3539</td>\n",
       "    </tr>\n",
       "  </tbody>\n",
       "</table>\n",
       "</div>"
      ],
      "text/plain": [
       "                event_name   uid\n",
       "0         MainScreenAppear  7419\n",
       "1       OffersScreenAppear  4593\n",
       "2         CartScreenAppear  3734\n",
       "3  PaymentScreenSuccessful  3539"
      ]
     },
     "execution_count": 30,
     "metadata": {},
     "output_type": "execute_result"
    }
   ],
   "source": [
    "#number of users who performed each of the events\n",
    "funnel_shift = sorted_data.groupby(['event_name'])['uid'].nunique().sort_values(ascending=False).reset_index()\n",
    "funnel_shift"
   ]
  },
  {
   "cell_type": "code",
   "execution_count": 31,
   "metadata": {},
   "outputs": [
    {
     "data": {
      "text/html": [
       "<div>\n",
       "<style scoped>\n",
       "    .dataframe tbody tr th:only-of-type {\n",
       "        vertical-align: middle;\n",
       "    }\n",
       "\n",
       "    .dataframe tbody tr th {\n",
       "        vertical-align: top;\n",
       "    }\n",
       "\n",
       "    .dataframe thead th {\n",
       "        text-align: right;\n",
       "    }\n",
       "</style>\n",
       "<table border=\"1\" class=\"dataframe\">\n",
       "  <thead>\n",
       "    <tr style=\"text-align: right;\">\n",
       "      <th></th>\n",
       "      <th>event_name</th>\n",
       "      <th>uid</th>\n",
       "      <th>change_pct</th>\n",
       "    </tr>\n",
       "  </thead>\n",
       "  <tbody>\n",
       "    <tr>\n",
       "      <th>0</th>\n",
       "      <td>MainScreenAppear</td>\n",
       "      <td>7419</td>\n",
       "      <td>NaN</td>\n",
       "    </tr>\n",
       "    <tr>\n",
       "      <th>1</th>\n",
       "      <td>OffersScreenAppear</td>\n",
       "      <td>4593</td>\n",
       "      <td>-0.380914</td>\n",
       "    </tr>\n",
       "    <tr>\n",
       "      <th>2</th>\n",
       "      <td>CartScreenAppear</td>\n",
       "      <td>3734</td>\n",
       "      <td>-0.187024</td>\n",
       "    </tr>\n",
       "    <tr>\n",
       "      <th>3</th>\n",
       "      <td>PaymentScreenSuccessful</td>\n",
       "      <td>3539</td>\n",
       "      <td>-0.052223</td>\n",
       "    </tr>\n",
       "  </tbody>\n",
       "</table>\n",
       "</div>"
      ],
      "text/plain": [
       "                event_name   uid  change_pct\n",
       "0         MainScreenAppear  7419         NaN\n",
       "1       OffersScreenAppear  4593   -0.380914\n",
       "2         CartScreenAppear  3734   -0.187024\n",
       "3  PaymentScreenSuccessful  3539   -0.052223"
      ]
     },
     "execution_count": 31,
     "metadata": {},
     "output_type": "execute_result"
    }
   ],
   "source": [
    "funnel_shift['change_pct'] = funnel_shift['uid'].pct_change()\n",
    "funnel_shift"
   ]
  },
  {
   "cell_type": "markdown",
   "metadata": {},
   "source": [
    "Now we want to know the same but for each of the groups."
   ]
  },
  {
   "cell_type": "code",
   "execution_count": 32,
   "metadata": {},
   "outputs": [
    {
     "data": {
      "text/html": [
       "<div>\n",
       "<style scoped>\n",
       "    .dataframe tbody tr th:only-of-type {\n",
       "        vertical-align: middle;\n",
       "    }\n",
       "\n",
       "    .dataframe tbody tr th {\n",
       "        vertical-align: top;\n",
       "    }\n",
       "\n",
       "    .dataframe thead th {\n",
       "        text-align: right;\n",
       "    }\n",
       "</style>\n",
       "<table border=\"1\" class=\"dataframe\">\n",
       "  <thead>\n",
       "    <tr style=\"text-align: right;\">\n",
       "      <th></th>\n",
       "      <th>event_name</th>\n",
       "      <th>exp_id</th>\n",
       "      <th>uid</th>\n",
       "    </tr>\n",
       "  </thead>\n",
       "  <tbody>\n",
       "    <tr>\n",
       "      <th>1</th>\n",
       "      <td>MainScreenAppear</td>\n",
       "      <td>246</td>\n",
       "      <td>2450</td>\n",
       "    </tr>\n",
       "    <tr>\n",
       "      <th>2</th>\n",
       "      <td>OffersScreenAppear</td>\n",
       "      <td>246</td>\n",
       "      <td>1542</td>\n",
       "    </tr>\n",
       "    <tr>\n",
       "      <th>0</th>\n",
       "      <td>CartScreenAppear</td>\n",
       "      <td>246</td>\n",
       "      <td>1266</td>\n",
       "    </tr>\n",
       "    <tr>\n",
       "      <th>3</th>\n",
       "      <td>PaymentScreenSuccessful</td>\n",
       "      <td>246</td>\n",
       "      <td>1200</td>\n",
       "    </tr>\n",
       "  </tbody>\n",
       "</table>\n",
       "</div>"
      ],
      "text/plain": [
       "                event_name  exp_id   uid\n",
       "1         MainScreenAppear     246  2450\n",
       "2       OffersScreenAppear     246  1542\n",
       "0         CartScreenAppear     246  1266\n",
       "3  PaymentScreenSuccessful     246  1200"
      ]
     },
     "metadata": {},
     "output_type": "display_data"
    },
    {
     "data": {
      "text/html": [
       "<div>\n",
       "<style scoped>\n",
       "    .dataframe tbody tr th:only-of-type {\n",
       "        vertical-align: middle;\n",
       "    }\n",
       "\n",
       "    .dataframe tbody tr th {\n",
       "        vertical-align: top;\n",
       "    }\n",
       "\n",
       "    .dataframe thead th {\n",
       "        text-align: right;\n",
       "    }\n",
       "</style>\n",
       "<table border=\"1\" class=\"dataframe\">\n",
       "  <thead>\n",
       "    <tr style=\"text-align: right;\">\n",
       "      <th></th>\n",
       "      <th>event_name</th>\n",
       "      <th>exp_id</th>\n",
       "      <th>uid</th>\n",
       "    </tr>\n",
       "  </thead>\n",
       "  <tbody>\n",
       "    <tr>\n",
       "      <th>1</th>\n",
       "      <td>MainScreenAppear</td>\n",
       "      <td>247</td>\n",
       "      <td>2476</td>\n",
       "    </tr>\n",
       "    <tr>\n",
       "      <th>2</th>\n",
       "      <td>OffersScreenAppear</td>\n",
       "      <td>247</td>\n",
       "      <td>1520</td>\n",
       "    </tr>\n",
       "    <tr>\n",
       "      <th>0</th>\n",
       "      <td>CartScreenAppear</td>\n",
       "      <td>247</td>\n",
       "      <td>1238</td>\n",
       "    </tr>\n",
       "    <tr>\n",
       "      <th>3</th>\n",
       "      <td>PaymentScreenSuccessful</td>\n",
       "      <td>247</td>\n",
       "      <td>1158</td>\n",
       "    </tr>\n",
       "  </tbody>\n",
       "</table>\n",
       "</div>"
      ],
      "text/plain": [
       "                event_name  exp_id   uid\n",
       "1         MainScreenAppear     247  2476\n",
       "2       OffersScreenAppear     247  1520\n",
       "0         CartScreenAppear     247  1238\n",
       "3  PaymentScreenSuccessful     247  1158"
      ]
     },
     "metadata": {},
     "output_type": "display_data"
    },
    {
     "data": {
      "text/html": [
       "<div>\n",
       "<style scoped>\n",
       "    .dataframe tbody tr th:only-of-type {\n",
       "        vertical-align: middle;\n",
       "    }\n",
       "\n",
       "    .dataframe tbody tr th {\n",
       "        vertical-align: top;\n",
       "    }\n",
       "\n",
       "    .dataframe thead th {\n",
       "        text-align: right;\n",
       "    }\n",
       "</style>\n",
       "<table border=\"1\" class=\"dataframe\">\n",
       "  <thead>\n",
       "    <tr style=\"text-align: right;\">\n",
       "      <th></th>\n",
       "      <th>event_name</th>\n",
       "      <th>exp_id</th>\n",
       "      <th>uid</th>\n",
       "    </tr>\n",
       "  </thead>\n",
       "  <tbody>\n",
       "    <tr>\n",
       "      <th>1</th>\n",
       "      <td>MainScreenAppear</td>\n",
       "      <td>248</td>\n",
       "      <td>2493</td>\n",
       "    </tr>\n",
       "    <tr>\n",
       "      <th>2</th>\n",
       "      <td>OffersScreenAppear</td>\n",
       "      <td>248</td>\n",
       "      <td>1531</td>\n",
       "    </tr>\n",
       "    <tr>\n",
       "      <th>0</th>\n",
       "      <td>CartScreenAppear</td>\n",
       "      <td>248</td>\n",
       "      <td>1230</td>\n",
       "    </tr>\n",
       "    <tr>\n",
       "      <th>3</th>\n",
       "      <td>PaymentScreenSuccessful</td>\n",
       "      <td>248</td>\n",
       "      <td>1181</td>\n",
       "    </tr>\n",
       "  </tbody>\n",
       "</table>\n",
       "</div>"
      ],
      "text/plain": [
       "                event_name  exp_id   uid\n",
       "1         MainScreenAppear     248  2493\n",
       "2       OffersScreenAppear     248  1531\n",
       "0         CartScreenAppear     248  1230\n",
       "3  PaymentScreenSuccessful     248  1181"
      ]
     },
     "metadata": {},
     "output_type": "display_data"
    }
   ],
   "source": [
    "funnel_by_groups = []\n",
    "for i in data.exp_id.unique():\n",
    "    group = sorted_data[sorted_data.exp_id == i].groupby(['event_name','exp_id'])['uid'].nunique().reset_index().sort_values(by='uid',ascending=False)\n",
    "    display(group)\n",
    "    funnel_by_groups.append(group)"
   ]
  },
  {
   "cell_type": "code",
   "execution_count": 33,
   "metadata": {},
   "outputs": [
    {
     "data": {
      "text/html": [
       "<div>\n",
       "<style scoped>\n",
       "    .dataframe tbody tr th:only-of-type {\n",
       "        vertical-align: middle;\n",
       "    }\n",
       "\n",
       "    .dataframe tbody tr th {\n",
       "        vertical-align: top;\n",
       "    }\n",
       "\n",
       "    .dataframe thead th {\n",
       "        text-align: right;\n",
       "    }\n",
       "</style>\n",
       "<table border=\"1\" class=\"dataframe\">\n",
       "  <thead>\n",
       "    <tr style=\"text-align: right;\">\n",
       "      <th></th>\n",
       "      <th>event_name</th>\n",
       "      <th>exp_id</th>\n",
       "      <th>uid</th>\n",
       "    </tr>\n",
       "  </thead>\n",
       "  <tbody>\n",
       "    <tr>\n",
       "      <th>1</th>\n",
       "      <td>MainScreenAppear</td>\n",
       "      <td>246</td>\n",
       "      <td>2450</td>\n",
       "    </tr>\n",
       "    <tr>\n",
       "      <th>2</th>\n",
       "      <td>OffersScreenAppear</td>\n",
       "      <td>246</td>\n",
       "      <td>1542</td>\n",
       "    </tr>\n",
       "    <tr>\n",
       "      <th>0</th>\n",
       "      <td>CartScreenAppear</td>\n",
       "      <td>246</td>\n",
       "      <td>1266</td>\n",
       "    </tr>\n",
       "    <tr>\n",
       "      <th>3</th>\n",
       "      <td>PaymentScreenSuccessful</td>\n",
       "      <td>246</td>\n",
       "      <td>1200</td>\n",
       "    </tr>\n",
       "    <tr>\n",
       "      <th>1</th>\n",
       "      <td>MainScreenAppear</td>\n",
       "      <td>247</td>\n",
       "      <td>2476</td>\n",
       "    </tr>\n",
       "    <tr>\n",
       "      <th>2</th>\n",
       "      <td>OffersScreenAppear</td>\n",
       "      <td>247</td>\n",
       "      <td>1520</td>\n",
       "    </tr>\n",
       "    <tr>\n",
       "      <th>0</th>\n",
       "      <td>CartScreenAppear</td>\n",
       "      <td>247</td>\n",
       "      <td>1238</td>\n",
       "    </tr>\n",
       "    <tr>\n",
       "      <th>3</th>\n",
       "      <td>PaymentScreenSuccessful</td>\n",
       "      <td>247</td>\n",
       "      <td>1158</td>\n",
       "    </tr>\n",
       "    <tr>\n",
       "      <th>1</th>\n",
       "      <td>MainScreenAppear</td>\n",
       "      <td>248</td>\n",
       "      <td>2493</td>\n",
       "    </tr>\n",
       "    <tr>\n",
       "      <th>2</th>\n",
       "      <td>OffersScreenAppear</td>\n",
       "      <td>248</td>\n",
       "      <td>1531</td>\n",
       "    </tr>\n",
       "    <tr>\n",
       "      <th>0</th>\n",
       "      <td>CartScreenAppear</td>\n",
       "      <td>248</td>\n",
       "      <td>1230</td>\n",
       "    </tr>\n",
       "    <tr>\n",
       "      <th>3</th>\n",
       "      <td>PaymentScreenSuccessful</td>\n",
       "      <td>248</td>\n",
       "      <td>1181</td>\n",
       "    </tr>\n",
       "  </tbody>\n",
       "</table>\n",
       "</div>"
      ],
      "text/plain": [
       "                event_name  exp_id   uid\n",
       "1         MainScreenAppear     246  2450\n",
       "2       OffersScreenAppear     246  1542\n",
       "0         CartScreenAppear     246  1266\n",
       "3  PaymentScreenSuccessful     246  1200\n",
       "1         MainScreenAppear     247  2476\n",
       "2       OffersScreenAppear     247  1520\n",
       "0         CartScreenAppear     247  1238\n",
       "3  PaymentScreenSuccessful     247  1158\n",
       "1         MainScreenAppear     248  2493\n",
       "2       OffersScreenAppear     248  1531\n",
       "0         CartScreenAppear     248  1230\n",
       "3  PaymentScreenSuccessful     248  1181"
      ]
     },
     "execution_count": 33,
     "metadata": {},
     "output_type": "execute_result"
    }
   ],
   "source": [
    "funnel_by_groups = pd.concat(funnel_by_groups)\n",
    "funnel_by_groups"
   ]
  },
  {
   "cell_type": "code",
   "execution_count": 34,
   "metadata": {},
   "outputs": [
    {
     "data": {
      "image/png": "[encoded data removed]"
     },
     "metadata": {},
     "output_type": "display_data"
    }
   ],
   "source": [
    "fig = go.Figure()\n",
    "\n",
    "fig.add_trace(go.Funnel(\n",
    "    name = 'Control Group 1 (246)',\n",
    "    y = funnel_by_groups.query('exp_id == 246')['event_name'],\n",
    "    x = funnel_by_groups.query('exp_id == 246')['uid'],\n",
    "    textinfo = \"value+percent initial\"))\n",
    "\n",
    "fig.add_trace(go.Funnel(\n",
    "    orientation = \"h\",\n",
    "    name = 'Control Group 2 (247)',\n",
    "    y = funnel_by_groups.query('exp_id == 247')['event_name'],\n",
    "    x = funnel_by_groups.query('exp_id == 247')['uid'],\n",
    "    textposition = \"inside\",\n",
    "    textinfo = \"value+percent initial\"))\n",
    "\n",
    "fig.add_trace(go.Funnel(\n",
    "    orientation = \"h\",\n",
    "    name = 'Test Group (248)',\n",
    "    y = funnel_by_groups.query('exp_id == 248')['event_name'],\n",
    "    x = funnel_by_groups.query('exp_id == 248')['uid'],\n",
    "    textposition = \"inside\",\n",
    "    textinfo = \"value+percent initial\"))\n",
    "\n",
    "fig.show(\"png\")"
   ]
  },
  {
   "cell_type": "markdown",
   "metadata": {},
   "source": [
    "We see that the percentages for each of the steps is pretty similar between the groups. The best percentages with a tiny difference are for the first control group."
   ]
  },
  {
   "cell_type": "markdown",
   "metadata": {},
   "source": [
    "- **At what stage do you lose the most users?**"
   ]
  },
  {
   "cell_type": "markdown",
   "metadata": {},
   "source": [
    "It seems that the biggest share that we lose is between the first and the second events (from 'MainScreenAppear' to 'OffersScreenAppear'), about 38% of usres from 'MainScreenAppear' event. Maybe if we'll have a shortcut to Quick Buy We can retain these customers."
   ]
  },
  {
   "cell_type": "markdown",
   "metadata": {},
   "source": [
    "- **What share of users make the entire journey from their first event to payment?**"
   ]
  },
  {
   "cell_type": "markdown",
   "metadata": {},
   "source": [
    "The share of users that make the entire journey from their first event to payment is about 47%-49%. "
   ]
  },
  {
   "cell_type": "markdown",
   "metadata": {},
   "source": [
    "**Conclusions**"
   ]
  },
  {
   "cell_type": "markdown",
   "metadata": {},
   "source": [
    "- The full path for a user is: 1) MainScreenAppear. 2) OffersScreenAppear. 3) CartScreenAppear. 4) PaymentScreenSuccessful.\n",
    "- Most of users saw only the 'MainScreenAppear' after that, the most common path is the full path!\n",
    "- We need to make more people to move to 'OffersScreenAppear' after 'MainScreenAppear', it seems that the ratios between the other stages are pretty good."
   ]
  },
  {
   "cell_type": "markdown",
   "metadata": {},
   "source": [
    "## 4. Studying the results of the experiment\n",
    "<a class=\"anchor\" id=\"chapter4\"></a>"
   ]
  },
  {
   "cell_type": "markdown",
   "metadata": {},
   "source": [
    "- **How many users are there in each group?**"
   ]
  },
  {
   "cell_type": "code",
   "execution_count": 35,
   "metadata": {},
   "outputs": [
    {
     "data": {
      "text/plain": [
       "exp_id\n",
       "246    2484\n",
       "247    2513\n",
       "248    2537\n",
       "Name: uid, dtype: int64"
      ]
     },
     "execution_count": 35,
     "metadata": {},
     "output_type": "execute_result"
    }
   ],
   "source": [
    "data.groupby(['exp_id'])['uid'].nunique()"
   ]
  },
  {
   "cell_type": "markdown",
   "metadata": {},
   "source": [
    "- **We have two control groups in the A/A test, where we check our mechanisms and calculations. See if there is a statistically significant difference between samples 246 and 247.  \n",
    "  Select the most popular event. In each of the control groups, find the number of users who performed this action. Find their share. Check whether the difference between the groups is statistically significant. Repeat the procedure for all other events (it will save time if you create a special function for this test). Can you confirm that the groups were split properly?**"
   ]
  },
  {
   "cell_type": "markdown",
   "metadata": {},
   "source": [
    "First we'll organize the number of users in each event for each group."
   ]
  },
  {
   "cell_type": "code",
   "execution_count": 36,
   "metadata": {},
   "outputs": [
    {
     "data": {
      "text/html": [
       "<div>\n",
       "<style scoped>\n",
       "    .dataframe tbody tr th:only-of-type {\n",
       "        vertical-align: middle;\n",
       "    }\n",
       "\n",
       "    .dataframe tbody tr th {\n",
       "        vertical-align: top;\n",
       "    }\n",
       "\n",
       "    .dataframe thead th {\n",
       "        text-align: right;\n",
       "    }\n",
       "</style>\n",
       "<table border=\"1\" class=\"dataframe\">\n",
       "  <thead>\n",
       "    <tr style=\"text-align: right;\">\n",
       "      <th>exp_id</th>\n",
       "      <th>event_name</th>\n",
       "      <th>246</th>\n",
       "      <th>247</th>\n",
       "      <th>248</th>\n",
       "    </tr>\n",
       "  </thead>\n",
       "  <tbody>\n",
       "    <tr>\n",
       "      <th>0</th>\n",
       "      <td>CartScreenAppear</td>\n",
       "      <td>1266</td>\n",
       "      <td>1238</td>\n",
       "      <td>1230</td>\n",
       "    </tr>\n",
       "    <tr>\n",
       "      <th>1</th>\n",
       "      <td>MainScreenAppear</td>\n",
       "      <td>2450</td>\n",
       "      <td>2476</td>\n",
       "      <td>2493</td>\n",
       "    </tr>\n",
       "    <tr>\n",
       "      <th>2</th>\n",
       "      <td>OffersScreenAppear</td>\n",
       "      <td>1542</td>\n",
       "      <td>1520</td>\n",
       "      <td>1531</td>\n",
       "    </tr>\n",
       "    <tr>\n",
       "      <th>3</th>\n",
       "      <td>PaymentScreenSuccessful</td>\n",
       "      <td>1200</td>\n",
       "      <td>1158</td>\n",
       "      <td>1181</td>\n",
       "    </tr>\n",
       "  </tbody>\n",
       "</table>\n",
       "</div>"
      ],
      "text/plain": [
       "exp_id               event_name   246   247   248\n",
       "0              CartScreenAppear  1266  1238  1230\n",
       "1              MainScreenAppear  2450  2476  2493\n",
       "2            OffersScreenAppear  1542  1520  1531\n",
       "3       PaymentScreenSuccessful  1200  1158  1181"
      ]
     },
     "execution_count": 36,
     "metadata": {},
     "output_type": "execute_result"
    }
   ],
   "source": [
    "pivot = sorted_data.pivot_table(\n",
    "    index='event_name', columns='exp_id',values='uid',aggfunc=lambda x: x.nunique()).reset_index()\n",
    "pivot"
   ]
  },
  {
   "cell_type": "code",
   "execution_count": 37,
   "metadata": {},
   "outputs": [],
   "source": [
    "def check_hypothesis(group1,group2,event,alpha=0.05):\n",
    "    # number of users in a specified event in a specified group\n",
    "    success1 = pivot[pivot.event_name == event][group1].iloc[0].sum()\n",
    "    success2 = pivot[pivot.event_name == event][group2].iloc[0].sum()\n",
    "    \n",
    "    # total number of users in a specified group\n",
    "    trials1 = data.query('exp_id in @group1')['uid'].nunique()\n",
    "    trials2 = data.query('exp_id in @group2')['uid'].nunique()\n",
    "    \n",
    "    \n",
    "    # success proportion in the first group:\n",
    "    p1 = success1/trials1\n",
    "\n",
    "    # success proportion in the second group:\n",
    "    p2 = success2/trials2\n",
    "\n",
    "    # success proportion in the combined dataset:\n",
    "    p_combined = (success1 + success2) / (trials1 + trials2)\n",
    "\n",
    "    # the difference between the datasets' proportions\n",
    "    difference = p1 - p2\n",
    "    # calculating the statistic in standard deviations of the standard normal distribution\n",
    "    z_value = difference / mth.sqrt(p_combined * (1 - p_combined) * (1/trials1 + 1/trials2))\n",
    "\n",
    "    # setting up the standard normal distribution (mean 0, standard deviation 1)\n",
    "    distr = st.norm(0, 1)\n",
    "    # calculating the statistic in standard deviations of the standard normal distribution\n",
    "\n",
    "    p_value = (1 - distr.cdf(abs(z_value))) * 2\n",
    "\n",
    "    print('p-value: ', p_value)\n",
    "\n",
    "    if (p_value < alpha):\n",
    "        print(\"Rejecting the null hypothesis for\", event,\"and groups\", group1,group2)\n",
    "    else:\n",
    "        print(\"Failed to reject the null hypothesis for\",event,\"and groups\", group1,group2 )"
   ]
  },
  {
   "cell_type": "markdown",
   "metadata": {},
   "source": [
    "In this case the hypothesis are as follow:\n",
    "- $H_0$ : $\\pi$(event in group 1) = $\\pi$(event in group 2)  \n",
    "- $H_a$ : $\\pi$(event in group 1) != $\\pi$(event in group 2)"
   ]
  },
  {
   "cell_type": "code",
   "execution_count": 38,
   "metadata": {},
   "outputs": [
    {
     "name": "stdout",
     "output_type": "stream",
     "text": [
      "p-value:  0.22883372237997213\n",
      "Failed to reject the null hypothesis for CartScreenAppear and groups [246] [247]\n",
      "p-value:  0.7570597232046099\n",
      "Failed to reject the null hypothesis for MainScreenAppear and groups [246] [247]\n",
      "p-value:  0.2480954578522181\n",
      "Failed to reject the null hypothesis for OffersScreenAppear and groups [246] [247]\n",
      "p-value:  0.11456679313141849\n",
      "Failed to reject the null hypothesis for PaymentScreenSuccessful and groups [246] [247]\n"
     ]
    }
   ],
   "source": [
    "# apply the function for all the events\n",
    "for i in pivot.event_name.unique():\n",
    "    check_hypothesis([246],[247],i,alpha=0.05)"
   ]
  },
  {
   "cell_type": "markdown",
   "metadata": {},
   "source": [
    "As we are checking both of the control groups, the expected results are that we won't find any statistically significant difference between samples 246 and 247, and that exactly what we got, so we can conclude that our mechanisms and calculations work just fine and we can apply the test for the test group!"
   ]
  },
  {
   "cell_type": "markdown",
   "metadata": {},
   "source": [
    "- **Do the same thing for the group with altered fonts. Compare the results with those of each of the control groups for each event in isolation. Compare the results with the combined results for the control groups. What conclusions can you draw from the experiment?**"
   ]
  },
  {
   "cell_type": "code",
   "execution_count": 39,
   "metadata": {},
   "outputs": [
    {
     "name": "stdout",
     "output_type": "stream",
     "text": [
      "p-value:  0.07842923237520116\n",
      "Failed to reject the null hypothesis for CartScreenAppear and groups [246] [248]\n",
      "p-value:  0.2949721933554552\n",
      "Failed to reject the null hypothesis for MainScreenAppear and groups [246] [248]\n",
      "p-value:  0.20836205402738917\n",
      "Failed to reject the null hypothesis for OffersScreenAppear and groups [246] [248]\n",
      "p-value:  0.2122553275697796\n",
      "Failed to reject the null hypothesis for PaymentScreenSuccessful and groups [246] [248]\n"
     ]
    }
   ],
   "source": [
    "for i in pivot.event_name.unique():\n",
    "    check_hypothesis([246],[248],i,alpha=0.05)"
   ]
  },
  {
   "cell_type": "code",
   "execution_count": 40,
   "metadata": {},
   "outputs": [
    {
     "name": "stdout",
     "output_type": "stream",
     "text": [
      "p-value:  0.5786197879539783\n",
      "Failed to reject the null hypothesis for CartScreenAppear and groups [247] [248]\n",
      "p-value:  0.4587053616621515\n",
      "Failed to reject the null hypothesis for MainScreenAppear and groups [247] [248]\n",
      "p-value:  0.9197817830592261\n",
      "Failed to reject the null hypothesis for OffersScreenAppear and groups [247] [248]\n",
      "p-value:  0.7373415053803964\n",
      "Failed to reject the null hypothesis for PaymentScreenSuccessful and groups [247] [248]\n"
     ]
    }
   ],
   "source": [
    "for i in pivot.event_name.unique():\n",
    "    check_hypothesis([247],[248],i,alpha=0.05)"
   ]
  },
  {
   "cell_type": "code",
   "execution_count": 41,
   "metadata": {},
   "outputs": [
    {
     "name": "stdout",
     "output_type": "stream",
     "text": [
      "p-value:  0.18175875284404386\n",
      "Failed to reject the null hypothesis for CartScreenAppear and groups [246, 247] [248]\n",
      "p-value:  0.29424526837179577\n",
      "Failed to reject the null hypothesis for MainScreenAppear and groups [246, 247] [248]\n",
      "p-value:  0.43425549655188256\n",
      "Failed to reject the null hypothesis for OffersScreenAppear and groups [246, 247] [248]\n",
      "p-value:  0.6004294282308704\n",
      "Failed to reject the null hypothesis for PaymentScreenSuccessful and groups [246, 247] [248]\n"
     ]
    }
   ],
   "source": [
    "for i in pivot.event_name.unique():\n",
    "    check_hypothesis([246,247],[248],i,alpha=0.05)"
   ]
  },
  {
   "cell_type": "markdown",
   "metadata": {},
   "source": [
    "We see that in all tests we get the same result - there is no statistically significant difference between samples 246, 247 and 248 which means we don't have difference between the control groups and the test group. The change of the font didn't have an affect on the conversion rate."
   ]
  },
  {
   "cell_type": "markdown",
   "metadata": {},
   "source": [
    "- **What significance level have you set to test the statistical hypotheses mentioned above? Calculate how many statistical hypothesis tests you carried out. With a statistical significance level of 0.1, one in 10 results could be false. What should the significance level be? If you want to change it, run through the previous steps again and check your conclusions.**"
   ]
  },
  {
   "cell_type": "markdown",
   "metadata": {},
   "source": [
    "The chosen significance level is 0.05.  \n",
    "Using the Bonferonni correction, if we want an overall alpha to be 0.05, the significance level for each test will be 0.05 devided by the number of the tests. In our case it will be devided by 16 (4 groups combinations with 4 events in each):\n",
    "\n",
    "0.05/16 = 0.003125"
   ]
  },
  {
   "cell_type": "code",
   "execution_count": 42,
   "metadata": {},
   "outputs": [
    {
     "name": "stdout",
     "output_type": "stream",
     "text": [
      "p-value:  0.22883372237997213\n",
      "Failed to reject the null hypothesis for CartScreenAppear and groups [246] [247]\n",
      "p-value:  0.7570597232046099\n",
      "Failed to reject the null hypothesis for MainScreenAppear and groups [246] [247]\n",
      "p-value:  0.2480954578522181\n",
      "Failed to reject the null hypothesis for OffersScreenAppear and groups [246] [247]\n",
      "p-value:  0.11456679313141849\n",
      "Failed to reject the null hypothesis for PaymentScreenSuccessful and groups [246] [247]\n"
     ]
    }
   ],
   "source": [
    "for i in pivot.event_name.unique():\n",
    "    check_hypothesis([246],[247],i,alpha=0.05/16)"
   ]
  },
  {
   "cell_type": "code",
   "execution_count": 43,
   "metadata": {},
   "outputs": [
    {
     "name": "stdout",
     "output_type": "stream",
     "text": [
      "p-value:  0.07842923237520116\n",
      "Failed to reject the null hypothesis for CartScreenAppear and groups [246] [248]\n",
      "p-value:  0.2949721933554552\n",
      "Failed to reject the null hypothesis for MainScreenAppear and groups [246] [248]\n",
      "p-value:  0.20836205402738917\n",
      "Failed to reject the null hypothesis for OffersScreenAppear and groups [246] [248]\n",
      "p-value:  0.2122553275697796\n",
      "Failed to reject the null hypothesis for PaymentScreenSuccessful and groups [246] [248]\n"
     ]
    }
   ],
   "source": [
    "for i in pivot.event_name.unique():\n",
    "    check_hypothesis([246],[248],i,alpha=0.05/16)"
   ]
  },
  {
   "cell_type": "code",
   "execution_count": 44,
   "metadata": {},
   "outputs": [
    {
     "name": "stdout",
     "output_type": "stream",
     "text": [
      "p-value:  0.5786197879539783\n",
      "Failed to reject the null hypothesis for CartScreenAppear and groups [247] [248]\n",
      "p-value:  0.4587053616621515\n",
      "Failed to reject the null hypothesis for MainScreenAppear and groups [247] [248]\n",
      "p-value:  0.9197817830592261\n",
      "Failed to reject the null hypothesis for OffersScreenAppear and groups [247] [248]\n",
      "p-value:  0.7373415053803964\n",
      "Failed to reject the null hypothesis for PaymentScreenSuccessful and groups [247] [248]\n"
     ]
    }
   ],
   "source": [
    "for i in pivot.event_name.unique():\n",
    "    check_hypothesis([247],[248],i,alpha=0.05/16)"
   ]
  },
  {
   "cell_type": "code",
   "execution_count": 45,
   "metadata": {},
   "outputs": [
    {
     "name": "stdout",
     "output_type": "stream",
     "text": [
      "p-value:  0.18175875284404386\n",
      "Failed to reject the null hypothesis for CartScreenAppear and groups [246, 247] [248]\n",
      "p-value:  0.29424526837179577\n",
      "Failed to reject the null hypothesis for MainScreenAppear and groups [246, 247] [248]\n",
      "p-value:  0.43425549655188256\n",
      "Failed to reject the null hypothesis for OffersScreenAppear and groups [246, 247] [248]\n",
      "p-value:  0.6004294282308704\n",
      "Failed to reject the null hypothesis for PaymentScreenSuccessful and groups [246, 247] [248]\n"
     ]
    }
   ],
   "source": [
    "for i in pivot.event_name.unique():\n",
    "    check_hypothesis([246,247],[248],i,alpha=0.05/16)"
   ]
  },
  {
   "cell_type": "markdown",
   "metadata": {},
   "source": [
    "We see that the results stay the same - there is no statistically significant difference between samples, which means that the change didn't encourage more customers to reach a state of purchase completion."
   ]
  },
  {
   "cell_type": "markdown",
   "metadata": {},
   "source": [
    "## 5. General conclusions\n",
    "<a class=\"anchor\" id=\"chapter5\"></a>"
   ]
  },
  {
   "cell_type": "markdown",
   "metadata": {},
   "source": [
    "The data we got was of a good quality. We had some old records we neede to remove that were not relevant for the period we were testing, maybe we can consult with the data engineers for more efficient way of saving relevant data.\n",
    "\n",
    "We tested our mechanism and calculations with A/A test and tested our hypothesis with A/B tests. We found that **there is no statistically significant difference between samples, which means that the change didn't encourage more customers to reach a state of purchase completion.**"
   ]
  }
 ],
 "metadata": {
  "ExecuteTimeLog": [
   {
    "duration": 14708,
    "start_time": "2021-08-28T13:42:02.477Z"
   },
   {
    "duration": 1422,
    "start_time": "2021-08-28T13:42:17.187Z"
   },
   {
    "duration": 69,
    "start_time": "2021-08-28T13:42:18.611Z"
   },
   {
    "duration": 142,
    "start_time": "2021-08-28T13:42:18.682Z"
   },
   {
    "duration": 307,
    "start_time": "2021-08-28T13:42:18.826Z"
   },
   {
    "duration": 27,
    "start_time": "2021-08-28T13:42:19.135Z"
   },
   {
    "duration": 121,
    "start_time": "2021-08-28T13:42:19.165Z"
   },
   {
    "duration": 6,
    "start_time": "2021-08-28T13:42:19.290Z"
   },
   {
    "duration": 158,
    "start_time": "2021-08-28T13:42:19.298Z"
   },
   {
    "duration": 434,
    "start_time": "2021-08-28T13:42:19.459Z"
   },
   {
    "duration": 75,
    "start_time": "2021-08-28T13:42:19.895Z"
   },
   {
    "duration": 390,
    "start_time": "2021-08-28T13:42:19.972Z"
   },
   {
    "duration": 4,
    "start_time": "2021-08-28T13:42:20.361Z"
   },
   {
    "duration": 1,
    "start_time": "2021-08-28T13:42:20.365Z"
   },
   {
    "duration": -1,
    "start_time": "2021-08-28T13:42:20.368Z"
   },
   {
    "duration": -157,
    "start_time": "2021-08-28T13:42:20.525Z"
   },
   {
    "duration": -162,
    "start_time": "2021-08-28T13:42:20.531Z"
   },
   {
    "duration": -165,
    "start_time": "2021-08-28T13:42:20.535Z"
   },
   {
    "duration": -166,
    "start_time": "2021-08-28T13:42:20.537Z"
   },
   {
    "duration": -167,
    "start_time": "2021-08-28T13:42:20.539Z"
   },
   {
    "duration": -168,
    "start_time": "2021-08-28T13:42:20.541Z"
   },
   {
    "duration": -169,
    "start_time": "2021-08-28T13:42:20.543Z"
   },
   {
    "duration": -170,
    "start_time": "2021-08-28T13:42:20.545Z"
   },
   {
    "duration": -170,
    "start_time": "2021-08-28T13:42:20.546Z"
   },
   {
    "duration": -171,
    "start_time": "2021-08-28T13:42:20.548Z"
   },
   {
    "duration": -172,
    "start_time": "2021-08-28T13:42:20.550Z"
   },
   {
    "duration": -210,
    "start_time": "2021-08-28T13:42:20.590Z"
   },
   {
    "duration": -239,
    "start_time": "2021-08-28T13:42:20.619Z"
   },
   {
    "duration": -244,
    "start_time": "2021-08-28T13:42:20.625Z"
   },
   {
    "duration": -247,
    "start_time": "2021-08-28T13:42:20.629Z"
   },
   {
    "duration": -249,
    "start_time": "2021-08-28T13:42:20.632Z"
   },
   {
    "duration": -251,
    "start_time": "2021-08-28T13:42:20.635Z"
   },
   {
    "duration": -254,
    "start_time": "2021-08-28T13:42:20.639Z"
   },
   {
    "duration": -256,
    "start_time": "2021-08-28T13:42:20.642Z"
   },
   {
    "duration": -258,
    "start_time": "2021-08-28T13:42:20.645Z"
   },
   {
    "duration": -259,
    "start_time": "2021-08-28T13:42:20.647Z"
   },
   {
    "duration": -258,
    "start_time": "2021-08-28T13:42:20.649Z"
   },
   {
    "duration": -273,
    "start_time": "2021-08-28T13:42:20.665Z"
   },
   {
    "duration": -275,
    "start_time": "2021-08-28T13:42:20.668Z"
   },
   {
    "duration": -285,
    "start_time": "2021-08-28T13:42:20.680Z"
   },
   {
    "duration": -323,
    "start_time": "2021-08-28T13:42:20.719Z"
   },
   {
    "duration": -347,
    "start_time": "2021-08-28T13:42:20.745Z"
   },
   {
    "duration": -351,
    "start_time": "2021-08-28T13:42:20.750Z"
   },
   {
    "duration": -352,
    "start_time": "2021-08-28T13:42:20.752Z"
   },
   {
    "duration": -352,
    "start_time": "2021-08-28T13:42:20.754Z"
   },
   {
    "duration": 3106,
    "start_time": "2021-08-28T13:43:28.653Z"
   },
   {
    "duration": 1356,
    "start_time": "2021-08-28T13:43:31.762Z"
   },
   {
    "duration": 67,
    "start_time": "2021-08-28T13:43:33.120Z"
   },
   {
    "duration": 138,
    "start_time": "2021-08-28T13:43:33.189Z"
   },
   {
    "duration": 288,
    "start_time": "2021-08-28T13:43:33.329Z"
   },
   {
    "duration": 42,
    "start_time": "2021-08-28T13:43:33.619Z"
   },
   {
    "duration": 106,
    "start_time": "2021-08-28T13:43:33.663Z"
   },
   {
    "duration": 6,
    "start_time": "2021-08-28T13:43:33.771Z"
   },
   {
    "duration": 148,
    "start_time": "2021-08-28T13:43:33.779Z"
   },
   {
    "duration": 414,
    "start_time": "2021-08-28T13:43:33.929Z"
   },
   {
    "duration": 67,
    "start_time": "2021-08-28T13:43:34.345Z"
   },
   {
    "duration": 85,
    "start_time": "2021-08-28T13:43:34.413Z"
   },
   {
    "duration": 126,
    "start_time": "2021-08-28T13:43:34.500Z"
   },
   {
    "duration": 22,
    "start_time": "2021-08-28T13:43:34.629Z"
   },
   {
    "duration": 7,
    "start_time": "2021-08-28T13:43:34.653Z"
   },
   {
    "duration": 192,
    "start_time": "2021-08-28T13:43:34.662Z"
   },
   {
    "duration": 19,
    "start_time": "2021-08-28T13:43:34.855Z"
   },
   {
    "duration": 7732,
    "start_time": "2021-08-28T13:43:34.876Z"
   },
   {
    "duration": 39,
    "start_time": "2021-08-28T13:43:42.610Z"
   },
   {
    "duration": 411,
    "start_time": "2021-08-28T13:43:42.651Z"
   },
   {
    "duration": 115,
    "start_time": "2021-08-28T13:43:43.064Z"
   },
   {
    "duration": 80,
    "start_time": "2021-08-28T13:43:43.181Z"
   },
   {
    "duration": 106,
    "start_time": "2021-08-28T13:43:43.265Z"
   },
   {
    "duration": 108,
    "start_time": "2021-08-28T13:43:43.374Z"
   },
   {
    "duration": 143,
    "start_time": "2021-08-28T13:43:43.483Z"
   },
   {
    "duration": 3,
    "start_time": "2021-08-28T13:43:43.628Z"
   },
   {
    "duration": 22201,
    "start_time": "2021-08-28T13:43:43.640Z"
   },
   {
    "duration": 18,
    "start_time": "2021-08-28T13:44:05.849Z"
   },
   {
    "duration": 16,
    "start_time": "2021-08-28T13:44:05.869Z"
   },
   {
    "duration": 34,
    "start_time": "2021-08-28T13:44:05.886Z"
   },
   {
    "duration": 27,
    "start_time": "2021-08-28T13:44:05.922Z"
   },
   {
    "duration": 136,
    "start_time": "2021-08-28T13:44:05.950Z"
   },
   {
    "duration": 8,
    "start_time": "2021-08-28T13:44:06.088Z"
   },
   {
    "duration": 25,
    "start_time": "2021-08-28T13:44:06.098Z"
   },
   {
    "duration": 55,
    "start_time": "2021-08-28T13:44:06.141Z"
   },
   {
    "duration": 79,
    "start_time": "2021-08-28T13:44:06.198Z"
   },
   {
    "duration": 6,
    "start_time": "2021-08-28T13:44:06.278Z"
   },
   {
    "duration": 132,
    "start_time": "2021-08-28T13:44:06.286Z"
   },
   {
    "duration": 141,
    "start_time": "2021-08-28T13:44:06.421Z"
   },
   {
    "duration": 129,
    "start_time": "2021-08-28T13:44:06.564Z"
   },
   {
    "duration": 167,
    "start_time": "2021-08-28T13:44:06.695Z"
   },
   {
    "duration": 136,
    "start_time": "2021-08-28T13:44:06.864Z"
   },
   {
    "duration": 142,
    "start_time": "2021-08-28T13:44:07.002Z"
   },
   {
    "duration": 135,
    "start_time": "2021-08-28T13:44:07.146Z"
   },
   {
    "duration": 144,
    "start_time": "2021-08-28T13:44:07.283Z"
   },
   {
    "duration": 196,
    "start_time": "2021-08-28T13:46:36.229Z"
   },
   {
    "duration": 12107,
    "start_time": "2021-08-29T04:42:35.999Z"
   },
   {
    "duration": 1385,
    "start_time": "2021-08-29T04:42:48.108Z"
   },
   {
    "duration": 73,
    "start_time": "2021-08-29T04:42:49.495Z"
   },
   {
    "duration": 116,
    "start_time": "2021-08-29T04:42:49.571Z"
   },
   {
    "duration": 240,
    "start_time": "2021-08-29T04:42:49.692Z"
   },
   {
    "duration": 22,
    "start_time": "2021-08-29T04:42:49.934Z"
   },
   {
    "duration": 98,
    "start_time": "2021-08-29T04:42:49.958Z"
   },
   {
    "duration": 7,
    "start_time": "2021-08-29T04:42:50.058Z"
   },
   {
    "duration": 149,
    "start_time": "2021-08-29T04:42:50.068Z"
   },
   {
    "duration": 348,
    "start_time": "2021-08-29T04:42:50.220Z"
   },
   {
    "duration": 67,
    "start_time": "2021-08-29T04:42:50.570Z"
   },
   {
    "duration": 76,
    "start_time": "2021-08-29T04:42:50.639Z"
   },
   {
    "duration": 105,
    "start_time": "2021-08-29T04:42:50.717Z"
   },
   {
    "duration": 14,
    "start_time": "2021-08-29T04:42:50.824Z"
   },
   {
    "duration": 9,
    "start_time": "2021-08-29T04:42:50.839Z"
   },
   {
    "duration": 150,
    "start_time": "2021-08-29T04:42:50.850Z"
   },
   {
    "duration": 18,
    "start_time": "2021-08-29T04:42:51.002Z"
   },
   {
    "duration": 6509,
    "start_time": "2021-08-29T04:42:51.022Z"
   },
   {
    "duration": 57,
    "start_time": "2021-08-29T04:42:57.534Z"
   },
   {
    "duration": 244,
    "start_time": "2021-08-29T04:42:57.593Z"
   },
   {
    "duration": 107,
    "start_time": "2021-08-29T04:42:57.892Z"
   },
   {
    "duration": 21,
    "start_time": "2021-08-29T04:42:58.001Z"
   },
   {
    "duration": 91,
    "start_time": "2021-08-29T04:42:58.024Z"
   },
   {
    "duration": 100,
    "start_time": "2021-08-29T04:42:58.117Z"
   },
   {
    "duration": 124,
    "start_time": "2021-08-29T04:42:58.218Z"
   },
   {
    "duration": 4,
    "start_time": "2021-08-29T04:42:58.343Z"
   },
   {
    "duration": 19635,
    "start_time": "2021-08-29T04:42:58.350Z"
   },
   {
    "duration": 14,
    "start_time": "2021-08-29T04:43:17.987Z"
   },
   {
    "duration": 16,
    "start_time": "2021-08-29T04:43:18.003Z"
   },
   {
    "duration": 32,
    "start_time": "2021-08-29T04:43:18.020Z"
   },
   {
    "duration": 8,
    "start_time": "2021-08-29T04:43:18.053Z"
   },
   {
    "duration": 129,
    "start_time": "2021-08-29T04:43:18.063Z"
   },
   {
    "duration": 7,
    "start_time": "2021-08-29T04:43:18.194Z"
   },
   {
    "duration": 25,
    "start_time": "2021-08-29T04:43:18.202Z"
   },
   {
    "duration": 34,
    "start_time": "2021-08-29T04:43:18.229Z"
   },
   {
    "duration": 74,
    "start_time": "2021-08-29T04:43:18.265Z"
   },
   {
    "duration": 5,
    "start_time": "2021-08-29T04:43:18.341Z"
   },
   {
    "duration": 116,
    "start_time": "2021-08-29T04:43:18.347Z"
   },
   {
    "duration": 114,
    "start_time": "2021-08-29T04:43:18.465Z"
   },
   {
    "duration": 120,
    "start_time": "2021-08-29T04:43:18.580Z"
   },
   {
    "duration": 139,
    "start_time": "2021-08-29T04:43:18.702Z"
   },
   {
    "duration": 132,
    "start_time": "2021-08-29T04:43:18.843Z"
   },
   {
    "duration": 385,
    "start_time": "2021-08-29T04:43:18.976Z"
   },
   {
    "duration": 351,
    "start_time": "2021-08-29T04:43:19.363Z"
   },
   {
    "duration": 125,
    "start_time": "2021-08-29T04:43:19.716Z"
   },
   {
    "duration": 5951,
    "start_time": "2021-08-29T10:13:20.063Z"
   },
   {
    "duration": 2715,
    "start_time": "2021-08-29T10:13:26.017Z"
   },
   {
    "duration": 66,
    "start_time": "2021-08-29T10:13:28.735Z"
   },
   {
    "duration": 93,
    "start_time": "2021-08-29T10:13:28.803Z"
   },
   {
    "duration": 127,
    "start_time": "2021-08-29T10:13:28.898Z"
   },
   {
    "duration": 77,
    "start_time": "2021-08-29T10:13:29.027Z"
   },
   {
    "duration": 186,
    "start_time": "2021-08-29T10:13:29.105Z"
   },
   {
    "duration": 5,
    "start_time": "2021-08-29T10:13:29.294Z"
   },
   {
    "duration": 298,
    "start_time": "2021-08-29T10:13:29.301Z"
   },
   {
    "duration": 805,
    "start_time": "2021-08-29T10:13:29.601Z"
   },
   {
    "duration": 122,
    "start_time": "2021-08-29T10:13:30.408Z"
   },
   {
    "duration": 198,
    "start_time": "2021-08-29T10:13:30.531Z"
   },
   {
    "duration": 99,
    "start_time": "2021-08-29T10:13:30.731Z"
   },
   {
    "duration": 76,
    "start_time": "2021-08-29T10:13:30.831Z"
   },
   {
    "duration": 9,
    "start_time": "2021-08-29T10:13:30.909Z"
   },
   {
    "duration": 174,
    "start_time": "2021-08-29T10:13:30.920Z"
   },
   {
    "duration": 20,
    "start_time": "2021-08-29T10:13:31.096Z"
   },
   {
    "duration": 20177,
    "start_time": "2021-08-29T10:13:31.119Z"
   },
   {
    "duration": 15,
    "start_time": "2021-08-29T10:13:51.297Z"
   },
   {
    "duration": 205,
    "start_time": "2021-08-29T10:13:51.314Z"
   },
   {
    "duration": 212,
    "start_time": "2021-08-29T10:13:51.591Z"
   },
   {
    "duration": 90,
    "start_time": "2021-08-29T10:13:51.805Z"
   },
   {
    "duration": 213,
    "start_time": "2021-08-29T10:13:51.899Z"
   },
   {
    "duration": 200,
    "start_time": "2021-08-29T10:13:52.115Z"
   },
   {
    "duration": 401,
    "start_time": "2021-08-29T10:13:52.316Z"
   },
   {
    "duration": 3,
    "start_time": "2021-08-29T10:13:52.721Z"
   },
   {
    "duration": 28067,
    "start_time": "2021-08-29T10:13:52.725Z"
   },
   {
    "duration": 13,
    "start_time": "2021-08-29T10:14:20.794Z"
   },
   {
    "duration": 1504,
    "start_time": "2021-08-29T10:14:20.809Z"
   },
   {
    "duration": 186,
    "start_time": "2021-08-29T10:14:22.315Z"
   },
   {
    "duration": 10,
    "start_time": "2021-08-29T10:14:22.503Z"
   },
   {
    "duration": 585,
    "start_time": "2021-08-29T10:14:22.515Z"
   },
   {
    "duration": 11,
    "start_time": "2021-08-29T10:14:23.102Z"
   },
   {
    "duration": 99,
    "start_time": "2021-08-29T10:14:23.115Z"
   },
   {
    "duration": 109,
    "start_time": "2021-08-29T10:14:23.216Z"
   },
   {
    "duration": 132,
    "start_time": "2021-08-29T10:14:23.391Z"
   },
   {
    "duration": 66,
    "start_time": "2021-08-29T10:14:23.525Z"
   },
   {
    "duration": 224,
    "start_time": "2021-08-29T10:14:23.594Z"
   },
   {
    "duration": 208,
    "start_time": "2021-08-29T10:14:23.819Z"
   },
   {
    "duration": 204,
    "start_time": "2021-08-29T10:14:24.029Z"
   },
   {
    "duration": 364,
    "start_time": "2021-08-29T10:14:24.235Z"
   },
   {
    "duration": 212,
    "start_time": "2021-08-29T10:14:24.601Z"
   },
   {
    "duration": 303,
    "start_time": "2021-08-29T10:14:24.815Z"
   },
   {
    "duration": 286,
    "start_time": "2021-08-29T10:14:25.120Z"
   },
   {
    "duration": 217,
    "start_time": "2021-08-29T10:14:25.407Z"
   },
   {
    "duration": 5602,
    "start_time": "2021-08-29T10:27:58.595Z"
   },
   {
    "duration": 2411,
    "start_time": "2021-08-29T10:28:04.200Z"
   },
   {
    "duration": 80,
    "start_time": "2021-08-29T10:28:06.613Z"
   },
   {
    "duration": 96,
    "start_time": "2021-08-29T10:28:06.695Z"
   },
   {
    "duration": 205,
    "start_time": "2021-08-29T10:28:06.793Z"
   },
   {
    "duration": 96,
    "start_time": "2021-08-29T10:28:07.000Z"
   },
   {
    "duration": 214,
    "start_time": "2021-08-29T10:28:07.098Z"
   },
   {
    "duration": 5,
    "start_time": "2021-08-29T10:28:07.314Z"
   },
   {
    "duration": 484,
    "start_time": "2021-08-29T10:28:07.322Z"
   },
   {
    "duration": 1187,
    "start_time": "2021-08-29T10:28:07.808Z"
   },
   {
    "duration": 128,
    "start_time": "2021-08-29T10:28:08.996Z"
   },
   {
    "duration": 272,
    "start_time": "2021-08-29T10:28:09.127Z"
   },
   {
    "duration": 115,
    "start_time": "2021-08-29T10:28:09.401Z"
   },
   {
    "duration": 85,
    "start_time": "2021-08-29T10:28:09.518Z"
   },
   {
    "duration": 11,
    "start_time": "2021-08-29T10:28:09.606Z"
   },
   {
    "duration": 177,
    "start_time": "2021-08-29T10:28:09.619Z"
   },
   {
    "duration": 21,
    "start_time": "2021-08-29T10:28:09.798Z"
   },
   {
    "duration": 18385,
    "start_time": "2021-08-29T10:28:09.820Z"
   },
   {
    "duration": 88,
    "start_time": "2021-08-29T10:28:28.207Z"
   },
   {
    "duration": 308,
    "start_time": "2021-08-29T10:28:28.297Z"
   },
   {
    "duration": 301,
    "start_time": "2021-08-29T10:28:28.607Z"
   },
   {
    "duration": 92,
    "start_time": "2021-08-29T10:28:28.910Z"
   },
   {
    "duration": 209,
    "start_time": "2021-08-29T10:28:29.004Z"
   },
   {
    "duration": 213,
    "start_time": "2021-08-29T10:28:29.215Z"
   },
   {
    "duration": 374,
    "start_time": "2021-08-29T10:28:29.430Z"
   },
   {
    "duration": 4,
    "start_time": "2021-08-29T10:28:29.806Z"
   },
   {
    "duration": 32090,
    "start_time": "2021-08-29T10:28:29.814Z"
   },
   {
    "duration": 13,
    "start_time": "2021-08-29T10:29:01.907Z"
   },
   {
    "duration": 1458,
    "start_time": "2021-08-29T10:29:01.923Z"
   },
   {
    "duration": 39,
    "start_time": "2021-08-29T10:29:03.392Z"
   },
   {
    "duration": 66,
    "start_time": "2021-08-29T10:29:03.433Z"
   },
   {
    "duration": 291,
    "start_time": "2021-08-29T10:29:03.500Z"
   },
   {
    "duration": 10,
    "start_time": "2021-08-29T10:29:03.793Z"
   },
   {
    "duration": 86,
    "start_time": "2021-08-29T10:29:03.806Z"
   },
   {
    "duration": 101,
    "start_time": "2021-08-29T10:29:03.894Z"
   },
   {
    "duration": 120,
    "start_time": "2021-08-29T10:29:03.997Z"
   },
   {
    "duration": 5,
    "start_time": "2021-08-29T10:29:04.119Z"
   },
   {
    "duration": 275,
    "start_time": "2021-08-29T10:29:04.126Z"
   },
   {
    "duration": 224,
    "start_time": "2021-08-29T10:29:04.402Z"
   },
   {
    "duration": 303,
    "start_time": "2021-08-29T10:29:04.628Z"
   },
   {
    "duration": 391,
    "start_time": "2021-08-29T10:29:04.933Z"
   },
   {
    "duration": 373,
    "start_time": "2021-08-29T10:29:05.326Z"
   },
   {
    "duration": 310,
    "start_time": "2021-08-29T10:29:05.701Z"
   },
   {
    "duration": 279,
    "start_time": "2021-08-29T10:29:06.013Z"
   },
   {
    "duration": 242,
    "start_time": "2021-08-29T10:29:06.293Z"
   },
   {
    "duration": 31544,
    "start_time": "2021-08-30T13:30:09.011Z"
   },
   {
    "duration": 1769,
    "start_time": "2021-08-30T13:30:40.559Z"
   },
   {
    "duration": 69,
    "start_time": "2021-08-30T13:30:42.331Z"
   },
   {
    "duration": 201,
    "start_time": "2021-08-30T13:30:42.403Z"
   },
   {
    "duration": 394,
    "start_time": "2021-08-30T13:30:42.607Z"
   },
   {
    "duration": 32,
    "start_time": "2021-08-30T13:30:43.004Z"
   },
   {
    "duration": 127,
    "start_time": "2021-08-30T13:30:43.038Z"
   },
   {
    "duration": 7,
    "start_time": "2021-08-30T13:30:43.167Z"
   },
   {
    "duration": 186,
    "start_time": "2021-08-30T13:30:43.178Z"
   },
   {
    "duration": 502,
    "start_time": "2021-08-30T13:30:43.368Z"
   },
   {
    "duration": 96,
    "start_time": "2021-08-30T13:30:43.873Z"
   },
   {
    "duration": 108,
    "start_time": "2021-08-30T13:30:43.972Z"
   },
   {
    "duration": 152,
    "start_time": "2021-08-30T13:30:44.083Z"
   },
   {
    "duration": 24,
    "start_time": "2021-08-30T13:30:44.238Z"
   },
   {
    "duration": 21,
    "start_time": "2021-08-30T13:30:44.266Z"
   },
   {
    "duration": 223,
    "start_time": "2021-08-30T13:30:44.289Z"
   },
   {
    "duration": 21,
    "start_time": "2021-08-30T13:30:44.515Z"
   },
   {
    "duration": 12196,
    "start_time": "2021-08-30T13:30:44.539Z"
   },
   {
    "duration": 38,
    "start_time": "2021-08-30T13:30:56.738Z"
   },
   {
    "duration": 113,
    "start_time": "2021-08-30T13:30:56.779Z"
   },
   {
    "duration": 202,
    "start_time": "2021-08-30T13:30:56.894Z"
   },
   {
    "duration": 82,
    "start_time": "2021-08-30T13:30:57.099Z"
   },
   {
    "duration": 115,
    "start_time": "2021-08-30T13:30:57.183Z"
   },
   {
    "duration": 171,
    "start_time": "2021-08-30T13:30:57.300Z"
   },
   {
    "duration": 271,
    "start_time": "2021-08-30T13:30:57.473Z"
   },
   {
    "duration": 4,
    "start_time": "2021-08-30T13:30:57.747Z"
   },
   {
    "duration": 34744,
    "start_time": "2021-08-30T13:30:57.763Z"
   },
   {
    "duration": 18,
    "start_time": "2021-08-30T13:31:32.510Z"
   },
   {
    "duration": 40,
    "start_time": "2021-08-30T13:31:32.531Z"
   },
   {
    "duration": 44,
    "start_time": "2021-08-30T13:31:32.574Z"
   },
   {
    "duration": 11,
    "start_time": "2021-08-30T13:31:32.621Z"
   },
   {
    "duration": 170,
    "start_time": "2021-08-30T13:31:32.635Z"
   },
   {
    "duration": 11,
    "start_time": "2021-08-30T13:31:32.807Z"
   },
   {
    "duration": 56,
    "start_time": "2021-08-30T13:31:32.821Z"
   },
   {
    "duration": 47,
    "start_time": "2021-08-30T13:31:32.879Z"
   },
   {
    "duration": 96,
    "start_time": "2021-08-30T13:31:32.929Z"
   },
   {
    "duration": 9,
    "start_time": "2021-08-30T13:31:33.027Z"
   },
   {
    "duration": 174,
    "start_time": "2021-08-30T13:31:33.038Z"
   },
   {
    "duration": 174,
    "start_time": "2021-08-30T13:31:33.214Z"
   },
   {
    "duration": 177,
    "start_time": "2021-08-30T13:31:33.390Z"
   },
   {
    "duration": 202,
    "start_time": "2021-08-30T13:31:33.570Z"
   },
   {
    "duration": 170,
    "start_time": "2021-08-30T13:31:33.775Z"
   },
   {
    "duration": 176,
    "start_time": "2021-08-30T13:31:33.961Z"
   },
   {
    "duration": 190,
    "start_time": "2021-08-30T13:31:34.139Z"
   },
   {
    "duration": 206,
    "start_time": "2021-08-30T13:31:34.331Z"
   }
  ],
  "kernelspec": {
   "display_name": "Python 3",
   "language": "python",
   "name": "python3"
  },
  "language_info": {
   "codemirror_mode": {
    "name": "ipython",
    "version": 3
   },
   "file_extension": ".py",
   "mimetype": "text/x-python",
   "name": "python",
   "nbconvert_exporter": "python",
   "pygments_lexer": "ipython3",
   "version": "3.8.5"
  },
  "toc": {
   "base_numbering": 1,
   "nav_menu": {},
   "number_sections": true,
   "sideBar": true,
   "skip_h1_title": true,
   "title_cell": "Table of Contents",
   "title_sidebar": "Contents",
   "toc_cell": false,
   "toc_position": {},
   "toc_section_display": true,
   "toc_window_display": false
  }
 },
 "nbformat": 4,
 "nbformat_minor": 4
}
