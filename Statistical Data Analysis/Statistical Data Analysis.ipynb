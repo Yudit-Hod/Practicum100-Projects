{
 "cells": [
  {
   "cell_type": "markdown",
   "metadata": {},
   "source": [
    "# Telecom prepaid plans analysis"
   ]
  },
  {
   "cell_type": "markdown",
   "metadata": {},
   "source": [
    "The telecom operator Megaline offers its clients two prepaid plans, Surf and Ultimate. The commercial department wants to know which of the plans brings in more revenue in order to adjust the advertising budget.\n",
    "There's a small dataset for 500 clients of Megaline and their usage during 2018.\n",
    "\n",
    "The purpose of the study: to find out what is the revenue from each customer per month, determine which plan brings in more revenue in order to adjust the advertising budget, and investigate additional hypothesis about the castumers.\n",
    "\n",
    "\n",
    "**Project Steps** <a class=\"anchor\" id=\"table_of_contents\"></a>  \n",
    "[Data file and general info](#chapter1)  \n",
    "[Data preprocessing](#chapter2)  \n",
    "[Exploratory Data Analysis](#chapter3)  \n",
    "[Statistical Data Analysis](#chapter4)  \n",
    "[Overall conclusion](#chapter5)  "
   ]
  },
  {
   "cell_type": "markdown",
   "metadata": {},
   "source": [
    "## 1. Data file and general info\n",
    "<a class=\"anchor\" id=\"chapter1\"></a>"
   ]
  },
  {
   "cell_type": "code",
   "execution_count": 1,
   "metadata": {},
   "outputs": [
    {
     "name": "stdout",
     "output_type": "stream",
     "text": [
      "Requirement already up-to-date: plotly in c:\\users\\yudit\\anaconda3\\lib\\site-packages (5.6.0)\n",
      "Requirement already satisfied, skipping upgrade: six in c:\\users\\yudit\\appdata\\roaming\\python\\python38\\site-packages (from plotly) (1.15.0)\n",
      "Requirement already satisfied, skipping upgrade: tenacity>=6.2.0 in c:\\users\\yudit\\anaconda3\\lib\\site-packages (from plotly) (7.0.0)\n",
      "Collecting kaleido\n",
      "  Downloading kaleido-0.2.1-py2.py3-none-win_amd64.whl (65.9 MB)\n",
      "Installing collected packages: kaleido\n",
      "Successfully installed kaleido-0.2.1\n"
     ]
    }
   ],
   "source": [
    "#import libraries of functions\n",
    "! pip install plotly --upgrade\n",
    "! pip install -U kaleido\n",
    "import pandas as pd\n",
    "import datetime as dt\n",
    "import numpy as np\n",
    "import plotly.express as px\n",
    "import plotly.graph_objects as go\n",
    "import scipy.stats as st\n",
    "\n",
    "#load the data file on the platform,as well as on my local computer.\n",
    "try:\n",
    "    df_calls = pd.read_csv('megaline_calls.csv')\n",
    "    df_internet = pd.read_csv('megaline_internet.csv')\n",
    "    df_msg = pd.read_csv('megaline_messages.csv')\n",
    "    df_plans = pd.read_csv('megaline_plans.csv')\n",
    "    df_users = pd.read_csv('megaline_users.csv')\n",
    "    \n",
    "except:\n",
    "    df_calls = pd.read_csv('/datasets/megaline_calls.csv')\n",
    "    df_internet = pd.read_csv('/datasets/megaline_internet.csv')\n",
    "    df_msg = pd.read_csv('/datasets/megaline_messages.csv')\n",
    "    df_plans = pd.read_csv('/datasets/megaline_plans.csv')\n",
    "    df_users = pd.read_csv('/datasets/megaline_users.csv')"
   ]
  },
  {
   "cell_type": "markdown",
   "metadata": {},
   "source": [
    "Let's first take a closer look at the whole dataset."
   ]
  },
  {
   "cell_type": "code",
   "execution_count": 2,
   "metadata": {
    "scrolled": false
   },
   "outputs": [
    {
     "name": "stdout",
     "output_type": "stream",
     "text": [
      "\n",
      "df_calls\n",
      "         id  user_id   call_date  duration\n",
      "0   1000_93     1000  2018-12-27      8.52\n",
      "1  1000_145     1000  2018-12-27     13.66\n",
      "2  1000_247     1000  2018-12-27     14.48\n",
      "3  1000_309     1000  2018-12-28      5.76\n",
      "4  1000_380     1000  2018-12-30      4.22\n",
      "\n",
      "df_internet\n",
      "         id  user_id session_date  mb_used\n",
      "0   1000_13     1000   2018-12-29    89.86\n",
      "1  1000_204     1000   2018-12-31     0.00\n",
      "2  1000_379     1000   2018-12-28   660.40\n",
      "3  1000_413     1000   2018-12-26   270.99\n",
      "4  1000_442     1000   2018-12-27   880.22\n",
      "\n",
      "df_msg\n",
      "         id  user_id message_date\n",
      "0  1000_125     1000   2018-12-27\n",
      "1  1000_160     1000   2018-12-31\n",
      "2  1000_223     1000   2018-12-31\n",
      "3  1000_251     1000   2018-12-27\n",
      "4  1000_255     1000   2018-12-26\n",
      "\n",
      "df_users\n",
      "   user_id first_name  last_name  age                                   city  \\\n",
      "0     1000   Anamaria      Bauer   45  Atlanta-Sandy Springs-Roswell, GA MSA   \n",
      "1     1001     Mickey  Wilkerson   28        Seattle-Tacoma-Bellevue, WA MSA   \n",
      "2     1002     Carlee    Hoffman   36   Las Vegas-Henderson-Paradise, NV MSA   \n",
      "3     1003   Reynaldo    Jenkins   52                          Tulsa, OK MSA   \n",
      "4     1004    Leonila   Thompson   40        Seattle-Tacoma-Bellevue, WA MSA   \n",
      "\n",
      "     reg_date      plan churn_date  \n",
      "0  2018-12-24  ultimate        NaN  \n",
      "1  2018-08-13      surf        NaN  \n",
      "2  2018-10-21      surf        NaN  \n",
      "3  2018-01-28      surf        NaN  \n",
      "4  2018-05-23      surf        NaN  \n",
      "\n",
      "df_plans\n",
      "   messages_included  mb_per_month_included  minutes_included  \\\n",
      "0                 50                  15360               500   \n",
      "1               1000                  30720              3000   \n",
      "\n",
      "   usd_monthly_pay  usd_per_gb  usd_per_message  usd_per_minute plan_name  \n",
      "0               20          10             0.03            0.03      surf  \n",
      "1               70           7             0.01            0.01  ultimate  \n"
     ]
    }
   ],
   "source": [
    "#dictionery for iterations\n",
    "dfs = {\n",
    "    \"df_calls\" : df_calls,\n",
    "    \"df_internet\" : df_internet,\n",
    "    \"df_msg\" : df_msg,\n",
    "    \"df_users\" : df_users,\n",
    "    \"df_plans\" : df_plans\n",
    "}\n",
    "\n",
    "#show the first rows of the data \n",
    "for k,v in dfs.items():\n",
    "    print('\\n{}\\n{}'.format(k, v.head()))"
   ]
  },
  {
   "cell_type": "code",
   "execution_count": 3,
   "metadata": {
    "scrolled": false
   },
   "outputs": [
    {
     "name": "stdout",
     "output_type": "stream",
     "text": [
      "<class 'pandas.core.frame.DataFrame'>\n",
      "RangeIndex: 137735 entries, 0 to 137734\n",
      "Data columns (total 4 columns):\n",
      " #   Column     Non-Null Count   Dtype  \n",
      "---  ------     --------------   -----  \n",
      " 0   id         137735 non-null  object \n",
      " 1   user_id    137735 non-null  int64  \n",
      " 2   call_date  137735 non-null  object \n",
      " 3   duration   137735 non-null  float64\n",
      "dtypes: float64(1), int64(1), object(2)\n",
      "memory usage: 4.2+ MB\n",
      "\n",
      "None\n",
      "             user_id       duration\n",
      "count  137735.000000  137735.000000\n",
      "mean     1247.658046       6.745927\n",
      "std       139.416268       5.839241\n",
      "min      1000.000000       0.000000\n",
      "25%      1128.000000       1.290000\n",
      "50%      1247.000000       5.980000\n",
      "75%      1365.000000      10.690000\n",
      "max      1499.000000      37.600000\n",
      "\n",
      "<class 'pandas.core.frame.DataFrame'>\n",
      "RangeIndex: 104825 entries, 0 to 104824\n",
      "Data columns (total 4 columns):\n",
      " #   Column        Non-Null Count   Dtype  \n",
      "---  ------        --------------   -----  \n",
      " 0   id            104825 non-null  object \n",
      " 1   user_id       104825 non-null  int64  \n",
      " 2   session_date  104825 non-null  object \n",
      " 3   mb_used       104825 non-null  float64\n",
      "dtypes: float64(1), int64(1), object(2)\n",
      "memory usage: 3.2+ MB\n",
      "\n",
      "None\n",
      "             user_id        mb_used\n",
      "count  104825.000000  104825.000000\n",
      "mean     1242.496361     366.713701\n",
      "std       142.053913     277.170542\n",
      "min      1000.000000       0.000000\n",
      "25%      1122.000000     136.080000\n",
      "50%      1236.000000     343.980000\n",
      "75%      1367.000000     554.610000\n",
      "max      1499.000000    1693.470000\n",
      "\n",
      "<class 'pandas.core.frame.DataFrame'>\n",
      "RangeIndex: 76051 entries, 0 to 76050\n",
      "Data columns (total 3 columns):\n",
      " #   Column        Non-Null Count  Dtype \n",
      "---  ------        --------------  ----- \n",
      " 0   id            76051 non-null  object\n",
      " 1   user_id       76051 non-null  int64 \n",
      " 2   message_date  76051 non-null  object\n",
      "dtypes: int64(1), object(2)\n",
      "memory usage: 1.7+ MB\n",
      "\n",
      "None\n",
      "            user_id\n",
      "count  76051.000000\n",
      "mean    1245.972768\n",
      "std      139.843635\n",
      "min     1000.000000\n",
      "25%     1123.000000\n",
      "50%     1251.000000\n",
      "75%     1362.000000\n",
      "max     1497.000000\n",
      "\n",
      "<class 'pandas.core.frame.DataFrame'>\n",
      "RangeIndex: 500 entries, 0 to 499\n",
      "Data columns (total 8 columns):\n",
      " #   Column      Non-Null Count  Dtype \n",
      "---  ------      --------------  ----- \n",
      " 0   user_id     500 non-null    int64 \n",
      " 1   first_name  500 non-null    object\n",
      " 2   last_name   500 non-null    object\n",
      " 3   age         500 non-null    int64 \n",
      " 4   city        500 non-null    object\n",
      " 5   reg_date    500 non-null    object\n",
      " 6   plan        500 non-null    object\n",
      " 7   churn_date  34 non-null     object\n",
      "dtypes: int64(2), object(6)\n",
      "memory usage: 31.4+ KB\n",
      "\n",
      "None\n",
      "           user_id         age\n",
      "count   500.000000  500.000000\n",
      "mean   1249.500000   45.486000\n",
      "std     144.481833   16.972269\n",
      "min    1000.000000   18.000000\n",
      "25%    1124.750000   30.000000\n",
      "50%    1249.500000   46.000000\n",
      "75%    1374.250000   61.000000\n",
      "max    1499.000000   75.000000\n",
      "\n",
      "<class 'pandas.core.frame.DataFrame'>\n",
      "RangeIndex: 2 entries, 0 to 1\n",
      "Data columns (total 8 columns):\n",
      " #   Column                 Non-Null Count  Dtype  \n",
      "---  ------                 --------------  -----  \n",
      " 0   messages_included      2 non-null      int64  \n",
      " 1   mb_per_month_included  2 non-null      int64  \n",
      " 2   minutes_included       2 non-null      int64  \n",
      " 3   usd_monthly_pay        2 non-null      int64  \n",
      " 4   usd_per_gb             2 non-null      int64  \n",
      " 5   usd_per_message        2 non-null      float64\n",
      " 6   usd_per_minute         2 non-null      float64\n",
      " 7   plan_name              2 non-null      object \n",
      "dtypes: float64(2), int64(5), object(1)\n",
      "memory usage: 256.0+ bytes\n",
      "\n",
      "None\n",
      "       messages_included  mb_per_month_included  minutes_included  \\\n",
      "count           2.000000               2.000000          2.000000   \n",
      "mean          525.000000           23040.000000       1750.000000   \n",
      "std           671.751442           10861.160159       1767.766953   \n",
      "min            50.000000           15360.000000        500.000000   \n",
      "25%           287.500000           19200.000000       1125.000000   \n",
      "50%           525.000000           23040.000000       1750.000000   \n",
      "75%           762.500000           26880.000000       2375.000000   \n",
      "max          1000.000000           30720.000000       3000.000000   \n",
      "\n",
      "       usd_monthly_pay  usd_per_gb  usd_per_message  usd_per_minute  \n",
      "count         2.000000     2.00000         2.000000        2.000000  \n",
      "mean         45.000000     8.50000         0.020000        0.020000  \n",
      "std          35.355339     2.12132         0.014142        0.014142  \n",
      "min          20.000000     7.00000         0.010000        0.010000  \n",
      "25%          32.500000     7.75000         0.015000        0.015000  \n",
      "50%          45.000000     8.50000         0.020000        0.020000  \n",
      "75%          57.500000     9.25000         0.025000        0.025000  \n",
      "max          70.000000    10.00000         0.030000        0.030000  \n",
      "\n"
     ]
    }
   ],
   "source": [
    "#show the first rows of the data \n",
    "for k,v in dfs.items():\n",
    "    print('\\n{}\\n{}\\n'.format(v.info(),v.describe()))"
   ]
  },
  {
   "cell_type": "markdown",
   "metadata": {},
   "source": [
    "- All `user_id` columns should be converted to 'object' type.\n",
    "- All columns containing dates should be converted to 'datetime' type.\n",
    "- The `duration` column in the calls data frame is of float type but we know that at Megaline each individual call is rounded up, so we'll round it up and save it as int type.\n",
    "- There are 34 out of 500 users that stopped using the service.\n",
    "- There are call durations of 0.0 minutes, probablly missed calls, we need to decide how to deal with them."
   ]
  },
  {
   "cell_type": "markdown",
   "metadata": {},
   "source": [
    "## 2. Data Preprocessing\n",
    "<a class=\"anchor\" id=\"chapter2\"></a>"
   ]
  },
  {
   "cell_type": "code",
   "execution_count": 4,
   "metadata": {},
   "outputs": [],
   "source": [
    "#creat a copy of the data so it could be manipulated without affecting the original data\n",
    "for k,v in dfs.items():\n",
    "    name = k + '_original'\n",
    "    name = v.copy(deep=True)"
   ]
  },
  {
   "cell_type": "markdown",
   "metadata": {},
   "source": [
    "### Processing missing values"
   ]
  },
  {
   "cell_type": "markdown",
   "metadata": {},
   "source": [
    "Check the % of calls where the duration is 0.0 minutes"
   ]
  },
  {
   "cell_type": "code",
   "execution_count": 5,
   "metadata": {},
   "outputs": [
    {
     "data": {
      "text/plain": [
       "19.482339274694162"
      ]
     },
     "execution_count": 5,
     "metadata": {},
     "output_type": "execute_result"
    }
   ],
   "source": [
    "#determine how many calls have 0.0 minutes duration\n",
    "df_calls[df_calls['duration'] == 0]['duration'].count()/len(df_calls) * 100"
   ]
  },
  {
   "cell_type": "code",
   "execution_count": 6,
   "metadata": {},
   "outputs": [
    {
     "data": {
      "text/plain": [
       "13.11423801574052"
      ]
     },
     "execution_count": 6,
     "metadata": {},
     "output_type": "execute_result"
    }
   ],
   "source": [
    "#determine how many sessions have 0.0 mb_usage\n",
    "df_internet[df_internet['mb_used'] == 0]['mb_used'].count()/len(df_internet) * 100"
   ]
  },
  {
   "cell_type": "markdown",
   "metadata": {},
   "source": [
    "It make sense that 1 out of 5 calls is not answerd. We could estimate the revenue **if those calls were answered** by calculating the mean duration of a call for a particular user but for this report we can remove those records as they didn't actually affected the revenue. For sessions that use 0 mb we can assume that there were a poor internet infrastructure that might interupt the session, or it was a very short session. Also these values don't contibute much to our analysis so we will remove them."
   ]
  },
  {
   "cell_type": "code",
   "execution_count": 7,
   "metadata": {},
   "outputs": [
    {
     "data": {
      "text/plain": [
       "0.0"
      ]
     },
     "metadata": {},
     "output_type": "display_data"
    },
    {
     "data": {
      "text/plain": [
       "0.0"
      ]
     },
     "metadata": {},
     "output_type": "display_data"
    }
   ],
   "source": [
    "#remove those records\n",
    "df_calls.drop(df_calls[df_calls['duration'] == 0].index, inplace=True)\n",
    "df_internet.drop(df_internet[df_internet['mb_used'] == 0].index, inplace=True)\n",
    "#check if changed\n",
    "display(df_calls[df_calls['duration'] == 0]['duration'].count()/len(df_calls) * 100,\n",
    "df_internet[df_internet['mb_used'] == 0]['mb_used'].count()/len(df_internet) * 100)"
   ]
  },
  {
   "cell_type": "markdown",
   "metadata": {},
   "source": [
    "We will leave the NaN values at the `churn_date` column unchanged because we don't need them for our calculations. For other future purpose we can change them to a date in the future."
   ]
  },
  {
   "cell_type": "markdown",
   "metadata": {},
   "source": [
    "### Changing Data Types"
   ]
  },
  {
   "cell_type": "markdown",
   "metadata": {},
   "source": [
    "As we mentioned, we need to convert the columns containing dates to 'datetime' type. The `user_id` columns into 'object' type and to round up the `duration` column and convert it to 'int' type. We will start with the last one."
   ]
  },
  {
   "cell_type": "code",
   "execution_count": 8,
   "metadata": {},
   "outputs": [
    {
     "data": {
      "text/html": [
       "<div>\n",
       "<style scoped>\n",
       "    .dataframe tbody tr th:only-of-type {\n",
       "        vertical-align: middle;\n",
       "    }\n",
       "\n",
       "    .dataframe tbody tr th {\n",
       "        vertical-align: top;\n",
       "    }\n",
       "\n",
       "    .dataframe thead th {\n",
       "        text-align: right;\n",
       "    }\n",
       "</style>\n",
       "<table border=\"1\" class=\"dataframe\">\n",
       "  <thead>\n",
       "    <tr style=\"text-align: right;\">\n",
       "      <th></th>\n",
       "      <th>id</th>\n",
       "      <th>user_id</th>\n",
       "      <th>call_date</th>\n",
       "      <th>duration</th>\n",
       "    </tr>\n",
       "  </thead>\n",
       "  <tbody>\n",
       "    <tr>\n",
       "      <th>0</th>\n",
       "      <td>1000_93</td>\n",
       "      <td>1000</td>\n",
       "      <td>2018-12-27</td>\n",
       "      <td>9</td>\n",
       "    </tr>\n",
       "    <tr>\n",
       "      <th>1</th>\n",
       "      <td>1000_145</td>\n",
       "      <td>1000</td>\n",
       "      <td>2018-12-27</td>\n",
       "      <td>14</td>\n",
       "    </tr>\n",
       "    <tr>\n",
       "      <th>2</th>\n",
       "      <td>1000_247</td>\n",
       "      <td>1000</td>\n",
       "      <td>2018-12-27</td>\n",
       "      <td>15</td>\n",
       "    </tr>\n",
       "    <tr>\n",
       "      <th>3</th>\n",
       "      <td>1000_309</td>\n",
       "      <td>1000</td>\n",
       "      <td>2018-12-28</td>\n",
       "      <td>6</td>\n",
       "    </tr>\n",
       "    <tr>\n",
       "      <th>4</th>\n",
       "      <td>1000_380</td>\n",
       "      <td>1000</td>\n",
       "      <td>2018-12-30</td>\n",
       "      <td>5</td>\n",
       "    </tr>\n",
       "  </tbody>\n",
       "</table>\n",
       "</div>"
      ],
      "text/plain": [
       "         id  user_id   call_date  duration\n",
       "0   1000_93     1000  2018-12-27         9\n",
       "1  1000_145     1000  2018-12-27        14\n",
       "2  1000_247     1000  2018-12-27        15\n",
       "3  1000_309     1000  2018-12-28         6\n",
       "4  1000_380     1000  2018-12-30         5"
      ]
     },
     "execution_count": 8,
     "metadata": {},
     "output_type": "execute_result"
    }
   ],
   "source": [
    "#round up and convert to int\n",
    "df_calls['duration'] = np.ceil(df_calls['duration']).astype('int')\n",
    "#check if changed\n",
    "df_calls.head()"
   ]
  },
  {
   "cell_type": "markdown",
   "metadata": {},
   "source": [
    "Now chnge the type of `user_id` columns to 'object' and columns containing dates to 'datetime'"
   ]
  },
  {
   "cell_type": "code",
   "execution_count": 9,
   "metadata": {},
   "outputs": [],
   "source": [
    "#for all the user_id columns change the type to object\n",
    "for k,v in dfs.items():\n",
    "    columns = v.columns\n",
    "    for name in columns:\n",
    "        if name == 'user_id':\n",
    "            v[name] = v[name].astype('str')"
   ]
  },
  {
   "cell_type": "code",
   "execution_count": 10,
   "metadata": {},
   "outputs": [
    {
     "name": "stdout",
     "output_type": "stream",
     "text": [
      "<class 'pandas.core.frame.DataFrame'>\n",
      "RangeIndex: 500 entries, 0 to 499\n",
      "Data columns (total 8 columns):\n",
      " #   Column      Non-Null Count  Dtype         \n",
      "---  ------      --------------  -----         \n",
      " 0   user_id     500 non-null    object        \n",
      " 1   first_name  500 non-null    object        \n",
      " 2   last_name   500 non-null    object        \n",
      " 3   age         500 non-null    int64         \n",
      " 4   city        500 non-null    object        \n",
      " 5   reg_date    500 non-null    datetime64[ns]\n",
      " 6   plan        500 non-null    object        \n",
      " 7   churn_date  34 non-null     datetime64[ns]\n",
      "dtypes: datetime64[ns](2), int64(1), object(5)\n",
      "memory usage: 31.4+ KB\n"
     ]
    }
   ],
   "source": [
    "#change the type to datetime for all the dates columns\n",
    "for k,v in dfs.items():\n",
    "    columns = v.columns\n",
    "    for name in columns:\n",
    "        if 'date' in name:\n",
    "            v[name] = pd.to_datetime(v[name], format='%Y-%m-%d')\n",
    "\n",
    "#check if changed\n",
    "df_users.info()"
   ]
  },
  {
   "cell_type": "markdown",
   "metadata": {},
   "source": [
    "Now the data is ready for merging between the datasets for our analysis."
   ]
  },
  {
   "cell_type": "markdown",
   "metadata": {},
   "source": [
    "### Dealing With Duplicates"
   ]
  },
  {
   "cell_type": "code",
   "execution_count": 11,
   "metadata": {},
   "outputs": [
    {
     "data": {
      "text/plain": [
       "user_id       0\n",
       "first_name    0\n",
       "last_name     0\n",
       "age           0\n",
       "city          0\n",
       "reg_date      0\n",
       "plan          0\n",
       "churn_date    0\n",
       "dtype: int64"
      ]
     },
     "execution_count": 11,
     "metadata": {},
     "output_type": "execute_result"
    }
   ],
   "source": [
    "df_users[df_users['user_id'].duplicated()].count()"
   ]
  },
  {
   "cell_type": "markdown",
   "metadata": {},
   "source": [
    "There's no duplicity in user ids, we can continue. We creat a new dataframe that summarize all the data for every user per month - the total duration of calls, total number of messages sent and total mb usage of internet, rounded up to GB. First we will add a column in each dataset of the month the action occured."
   ]
  },
  {
   "cell_type": "code",
   "execution_count": 12,
   "metadata": {},
   "outputs": [],
   "source": [
    "#add a column 'month' for the month the action occured\n",
    "df_calls['month'] = pd.DatetimeIndex(df_calls['call_date']).month\n",
    "df_internet['month'] = pd.DatetimeIndex(df_internet['session_date']).month\n",
    "df_msg['month'] = pd.DatetimeIndex(df_msg['message_date']).month"
   ]
  },
  {
   "cell_type": "raw",
   "metadata": {},
   "source": [
    "call_group = df_calls.groupby(['user_id','month'])['duration'].sum()\n",
    "call_group.head()"
   ]
  },
  {
   "cell_type": "markdown",
   "metadata": {},
   "source": [
    "Now we sum the calls of every user, grouped by the month"
   ]
  },
  {
   "cell_type": "markdown",
   "metadata": {},
   "source": [
    "data_frames = [data_group, call_group, mess_group]\n",
    "df_merged = reduce(lambda  left,right: pd.merge(left,right,on=['user_id', 'month'], how='outer'), data_frames)"
   ]
  },
  {
   "cell_type": "code",
   "execution_count": 13,
   "metadata": {
    "scrolled": false
   },
   "outputs": [
    {
     "data": {
      "text/html": [
       "<div>\n",
       "<style scoped>\n",
       "    .dataframe tbody tr th:only-of-type {\n",
       "        vertical-align: middle;\n",
       "    }\n",
       "\n",
       "    .dataframe tbody tr th {\n",
       "        vertical-align: top;\n",
       "    }\n",
       "\n",
       "    .dataframe thead th {\n",
       "        text-align: right;\n",
       "    }\n",
       "</style>\n",
       "<table border=\"1\" class=\"dataframe\">\n",
       "  <thead>\n",
       "    <tr style=\"text-align: right;\">\n",
       "      <th></th>\n",
       "      <th>user_id</th>\n",
       "      <th>month</th>\n",
       "      <th>duration</th>\n",
       "    </tr>\n",
       "  </thead>\n",
       "  <tbody>\n",
       "    <tr>\n",
       "      <th>0</th>\n",
       "      <td>1000</td>\n",
       "      <td>12</td>\n",
       "      <td>124</td>\n",
       "    </tr>\n",
       "    <tr>\n",
       "      <th>1</th>\n",
       "      <td>1001</td>\n",
       "      <td>8</td>\n",
       "      <td>182</td>\n",
       "    </tr>\n",
       "    <tr>\n",
       "      <th>2</th>\n",
       "      <td>1001</td>\n",
       "      <td>9</td>\n",
       "      <td>315</td>\n",
       "    </tr>\n",
       "    <tr>\n",
       "      <th>3</th>\n",
       "      <td>1001</td>\n",
       "      <td>10</td>\n",
       "      <td>393</td>\n",
       "    </tr>\n",
       "    <tr>\n",
       "      <th>4</th>\n",
       "      <td>1001</td>\n",
       "      <td>11</td>\n",
       "      <td>426</td>\n",
       "    </tr>\n",
       "    <tr>\n",
       "      <th>...</th>\n",
       "      <td>...</td>\n",
       "      <td>...</td>\n",
       "      <td>...</td>\n",
       "    </tr>\n",
       "    <tr>\n",
       "      <th>2251</th>\n",
       "      <td>1498</td>\n",
       "      <td>12</td>\n",
       "      <td>339</td>\n",
       "    </tr>\n",
       "    <tr>\n",
       "      <th>2252</th>\n",
       "      <td>1499</td>\n",
       "      <td>9</td>\n",
       "      <td>346</td>\n",
       "    </tr>\n",
       "    <tr>\n",
       "      <th>2253</th>\n",
       "      <td>1499</td>\n",
       "      <td>10</td>\n",
       "      <td>385</td>\n",
       "    </tr>\n",
       "    <tr>\n",
       "      <th>2254</th>\n",
       "      <td>1499</td>\n",
       "      <td>11</td>\n",
       "      <td>308</td>\n",
       "    </tr>\n",
       "    <tr>\n",
       "      <th>2255</th>\n",
       "      <td>1499</td>\n",
       "      <td>12</td>\n",
       "      <td>496</td>\n",
       "    </tr>\n",
       "  </tbody>\n",
       "</table>\n",
       "<p>2256 rows × 3 columns</p>\n",
       "</div>"
      ],
      "text/plain": [
       "     user_id  month  duration\n",
       "0       1000     12       124\n",
       "1       1001      8       182\n",
       "2       1001      9       315\n",
       "3       1001     10       393\n",
       "4       1001     11       426\n",
       "...      ...    ...       ...\n",
       "2251    1498     12       339\n",
       "2252    1499      9       346\n",
       "2253    1499     10       385\n",
       "2254    1499     11       308\n",
       "2255    1499     12       496\n",
       "\n",
       "[2256 rows x 3 columns]"
      ]
     },
     "execution_count": 13,
     "metadata": {},
     "output_type": "execute_result"
    }
   ],
   "source": [
    "#creat a pivot for the sum of calls for every user in every month\n",
    "user_summary = df_calls.pivot_table(index = ['user_id','month'], values = 'duration', aggfunc='sum').reset_index()\n",
    "user_summary"
   ]
  },
  {
   "cell_type": "markdown",
   "metadata": {},
   "source": [
    "Now we add a column that conatains the number of messages each user sent in every month"
   ]
  },
  {
   "cell_type": "code",
   "execution_count": 14,
   "metadata": {},
   "outputs": [
    {
     "data": {
      "text/html": [
       "<div>\n",
       "<style scoped>\n",
       "    .dataframe tbody tr th:only-of-type {\n",
       "        vertical-align: middle;\n",
       "    }\n",
       "\n",
       "    .dataframe tbody tr th {\n",
       "        vertical-align: top;\n",
       "    }\n",
       "\n",
       "    .dataframe thead th {\n",
       "        text-align: right;\n",
       "    }\n",
       "</style>\n",
       "<table border=\"1\" class=\"dataframe\">\n",
       "  <thead>\n",
       "    <tr style=\"text-align: right;\">\n",
       "      <th></th>\n",
       "      <th>user_id</th>\n",
       "      <th>month</th>\n",
       "      <th>duration</th>\n",
       "      <th>message_date</th>\n",
       "    </tr>\n",
       "  </thead>\n",
       "  <tbody>\n",
       "    <tr>\n",
       "      <th>0</th>\n",
       "      <td>1000</td>\n",
       "      <td>12</td>\n",
       "      <td>124.0</td>\n",
       "      <td>11.0</td>\n",
       "    </tr>\n",
       "    <tr>\n",
       "      <th>1</th>\n",
       "      <td>1001</td>\n",
       "      <td>8</td>\n",
       "      <td>182.0</td>\n",
       "      <td>30.0</td>\n",
       "    </tr>\n",
       "    <tr>\n",
       "      <th>2</th>\n",
       "      <td>1001</td>\n",
       "      <td>9</td>\n",
       "      <td>315.0</td>\n",
       "      <td>44.0</td>\n",
       "    </tr>\n",
       "    <tr>\n",
       "      <th>3</th>\n",
       "      <td>1001</td>\n",
       "      <td>10</td>\n",
       "      <td>393.0</td>\n",
       "      <td>53.0</td>\n",
       "    </tr>\n",
       "    <tr>\n",
       "      <th>4</th>\n",
       "      <td>1001</td>\n",
       "      <td>11</td>\n",
       "      <td>426.0</td>\n",
       "      <td>36.0</td>\n",
       "    </tr>\n",
       "    <tr>\n",
       "      <th>...</th>\n",
       "      <td>...</td>\n",
       "      <td>...</td>\n",
       "      <td>...</td>\n",
       "      <td>...</td>\n",
       "    </tr>\n",
       "    <tr>\n",
       "      <th>2285</th>\n",
       "      <td>1349</td>\n",
       "      <td>11</td>\n",
       "      <td>NaN</td>\n",
       "      <td>72.0</td>\n",
       "    </tr>\n",
       "    <tr>\n",
       "      <th>2286</th>\n",
       "      <td>1349</td>\n",
       "      <td>12</td>\n",
       "      <td>NaN</td>\n",
       "      <td>61.0</td>\n",
       "    </tr>\n",
       "    <tr>\n",
       "      <th>2287</th>\n",
       "      <td>1361</td>\n",
       "      <td>5</td>\n",
       "      <td>NaN</td>\n",
       "      <td>2.0</td>\n",
       "    </tr>\n",
       "    <tr>\n",
       "      <th>2288</th>\n",
       "      <td>1407</td>\n",
       "      <td>11</td>\n",
       "      <td>NaN</td>\n",
       "      <td>1.0</td>\n",
       "    </tr>\n",
       "    <tr>\n",
       "      <th>2289</th>\n",
       "      <td>1482</td>\n",
       "      <td>10</td>\n",
       "      <td>NaN</td>\n",
       "      <td>2.0</td>\n",
       "    </tr>\n",
       "  </tbody>\n",
       "</table>\n",
       "<p>2290 rows × 4 columns</p>\n",
       "</div>"
      ],
      "text/plain": [
       "     user_id  month  duration  message_date\n",
       "0       1000     12     124.0          11.0\n",
       "1       1001      8     182.0          30.0\n",
       "2       1001      9     315.0          44.0\n",
       "3       1001     10     393.0          53.0\n",
       "4       1001     11     426.0          36.0\n",
       "...      ...    ...       ...           ...\n",
       "2285    1349     11       NaN          72.0\n",
       "2286    1349     12       NaN          61.0\n",
       "2287    1361      5       NaN           2.0\n",
       "2288    1407     11       NaN           1.0\n",
       "2289    1482     10       NaN           2.0\n",
       "\n",
       "[2290 rows x 4 columns]"
      ]
     },
     "execution_count": 14,
     "metadata": {},
     "output_type": "execute_result"
    }
   ],
   "source": [
    "#count the number of messages sent by every user in every month\n",
    "messages = df_msg.pivot_table(index = ['user_id','month'], values='message_date', aggfunc='count')\n",
    "#add the column to the summary table\n",
    "user_summary = user_summary.merge(messages, on = ['user_id','month'], how='outer')\n",
    "user_summary"
   ]
  },
  {
   "cell_type": "markdown",
   "metadata": {},
   "source": [
    "Now we add a column that conatains the monthly mb usage of each user in each month"
   ]
  },
  {
   "cell_type": "code",
   "execution_count": 15,
   "metadata": {},
   "outputs": [
    {
     "data": {
      "text/html": [
       "<div>\n",
       "<style scoped>\n",
       "    .dataframe tbody tr th:only-of-type {\n",
       "        vertical-align: middle;\n",
       "    }\n",
       "\n",
       "    .dataframe tbody tr th {\n",
       "        vertical-align: top;\n",
       "    }\n",
       "\n",
       "    .dataframe thead th {\n",
       "        text-align: right;\n",
       "    }\n",
       "</style>\n",
       "<table border=\"1\" class=\"dataframe\">\n",
       "  <thead>\n",
       "    <tr style=\"text-align: right;\">\n",
       "      <th></th>\n",
       "      <th>user_id</th>\n",
       "      <th>month</th>\n",
       "      <th>duration</th>\n",
       "      <th>message_date</th>\n",
       "      <th>mb_used</th>\n",
       "    </tr>\n",
       "  </thead>\n",
       "  <tbody>\n",
       "    <tr>\n",
       "      <th>0</th>\n",
       "      <td>1000</td>\n",
       "      <td>12</td>\n",
       "      <td>124.0</td>\n",
       "      <td>11.0</td>\n",
       "      <td>1901.47</td>\n",
       "    </tr>\n",
       "    <tr>\n",
       "      <th>1</th>\n",
       "      <td>1001</td>\n",
       "      <td>8</td>\n",
       "      <td>182.0</td>\n",
       "      <td>30.0</td>\n",
       "      <td>6919.15</td>\n",
       "    </tr>\n",
       "    <tr>\n",
       "      <th>2</th>\n",
       "      <td>1001</td>\n",
       "      <td>9</td>\n",
       "      <td>315.0</td>\n",
       "      <td>44.0</td>\n",
       "      <td>13314.82</td>\n",
       "    </tr>\n",
       "    <tr>\n",
       "      <th>3</th>\n",
       "      <td>1001</td>\n",
       "      <td>10</td>\n",
       "      <td>393.0</td>\n",
       "      <td>53.0</td>\n",
       "      <td>22330.49</td>\n",
       "    </tr>\n",
       "    <tr>\n",
       "      <th>4</th>\n",
       "      <td>1001</td>\n",
       "      <td>11</td>\n",
       "      <td>426.0</td>\n",
       "      <td>36.0</td>\n",
       "      <td>18504.30</td>\n",
       "    </tr>\n",
       "    <tr>\n",
       "      <th>...</th>\n",
       "      <td>...</td>\n",
       "      <td>...</td>\n",
       "      <td>...</td>\n",
       "      <td>...</td>\n",
       "      <td>...</td>\n",
       "    </tr>\n",
       "    <tr>\n",
       "      <th>2288</th>\n",
       "      <td>1407</td>\n",
       "      <td>11</td>\n",
       "      <td>NaN</td>\n",
       "      <td>1.0</td>\n",
       "      <td>290.06</td>\n",
       "    </tr>\n",
       "    <tr>\n",
       "      <th>2289</th>\n",
       "      <td>1482</td>\n",
       "      <td>10</td>\n",
       "      <td>NaN</td>\n",
       "      <td>2.0</td>\n",
       "      <td>NaN</td>\n",
       "    </tr>\n",
       "    <tr>\n",
       "      <th>2290</th>\n",
       "      <td>1094</td>\n",
       "      <td>10</td>\n",
       "      <td>NaN</td>\n",
       "      <td>NaN</td>\n",
       "      <td>1728.71</td>\n",
       "    </tr>\n",
       "    <tr>\n",
       "      <th>2291</th>\n",
       "      <td>1108</td>\n",
       "      <td>12</td>\n",
       "      <td>NaN</td>\n",
       "      <td>NaN</td>\n",
       "      <td>233.17</td>\n",
       "    </tr>\n",
       "    <tr>\n",
       "      <th>2292</th>\n",
       "      <td>1311</td>\n",
       "      <td>6</td>\n",
       "      <td>NaN</td>\n",
       "      <td>NaN</td>\n",
       "      <td>1498.83</td>\n",
       "    </tr>\n",
       "  </tbody>\n",
       "</table>\n",
       "<p>2293 rows × 5 columns</p>\n",
       "</div>"
      ],
      "text/plain": [
       "     user_id  month  duration  message_date   mb_used\n",
       "0       1000     12     124.0          11.0   1901.47\n",
       "1       1001      8     182.0          30.0   6919.15\n",
       "2       1001      9     315.0          44.0  13314.82\n",
       "3       1001     10     393.0          53.0  22330.49\n",
       "4       1001     11     426.0          36.0  18504.30\n",
       "...      ...    ...       ...           ...       ...\n",
       "2288    1407     11       NaN           1.0    290.06\n",
       "2289    1482     10       NaN           2.0       NaN\n",
       "2290    1094     10       NaN           NaN   1728.71\n",
       "2291    1108     12       NaN           NaN    233.17\n",
       "2292    1311      6       NaN           NaN   1498.83\n",
       "\n",
       "[2293 rows x 5 columns]"
      ]
     },
     "execution_count": 15,
     "metadata": {},
     "output_type": "execute_result"
    }
   ],
   "source": [
    "#sum the mb usage for each user in every month\n",
    "internet_usage = df_internet.pivot_table(index = ['user_id','month'], values = 'mb_used', aggfunc='sum')\n",
    "#add the column to the summary table\n",
    "user_summary = user_summary.merge(internet_usage, on = ['user_id','month'], how='outer')\n",
    "user_summary"
   ]
  },
  {
   "cell_type": "markdown",
   "metadata": {},
   "source": [
    "For the data to be more clear and easy for understanding and analyzing we'll change the columns names. Then we'll add for each user his/her plan. There are some people that doesn't use one or more of the services. In such cases we'll fill the missing values with 0 so it won't affect the total revenue."
   ]
  },
  {
   "cell_type": "code",
   "execution_count": 16,
   "metadata": {},
   "outputs": [
    {
     "data": {
      "text/html": [
       "<div>\n",
       "<style scoped>\n",
       "    .dataframe tbody tr th:only-of-type {\n",
       "        vertical-align: middle;\n",
       "    }\n",
       "\n",
       "    .dataframe tbody tr th {\n",
       "        vertical-align: top;\n",
       "    }\n",
       "\n",
       "    .dataframe thead th {\n",
       "        text-align: right;\n",
       "    }\n",
       "</style>\n",
       "<table border=\"1\" class=\"dataframe\">\n",
       "  <thead>\n",
       "    <tr style=\"text-align: right;\">\n",
       "      <th></th>\n",
       "      <th>user_id</th>\n",
       "      <th>month</th>\n",
       "      <th>minutes</th>\n",
       "      <th>messages</th>\n",
       "      <th>mb_per_month</th>\n",
       "    </tr>\n",
       "  </thead>\n",
       "  <tbody>\n",
       "    <tr>\n",
       "      <th>0</th>\n",
       "      <td>1000</td>\n",
       "      <td>12</td>\n",
       "      <td>124.0</td>\n",
       "      <td>11.0</td>\n",
       "      <td>1901.47</td>\n",
       "    </tr>\n",
       "    <tr>\n",
       "      <th>1</th>\n",
       "      <td>1001</td>\n",
       "      <td>8</td>\n",
       "      <td>182.0</td>\n",
       "      <td>30.0</td>\n",
       "      <td>6919.15</td>\n",
       "    </tr>\n",
       "    <tr>\n",
       "      <th>2</th>\n",
       "      <td>1001</td>\n",
       "      <td>9</td>\n",
       "      <td>315.0</td>\n",
       "      <td>44.0</td>\n",
       "      <td>13314.82</td>\n",
       "    </tr>\n",
       "    <tr>\n",
       "      <th>3</th>\n",
       "      <td>1001</td>\n",
       "      <td>10</td>\n",
       "      <td>393.0</td>\n",
       "      <td>53.0</td>\n",
       "      <td>22330.49</td>\n",
       "    </tr>\n",
       "    <tr>\n",
       "      <th>4</th>\n",
       "      <td>1001</td>\n",
       "      <td>11</td>\n",
       "      <td>426.0</td>\n",
       "      <td>36.0</td>\n",
       "      <td>18504.30</td>\n",
       "    </tr>\n",
       "    <tr>\n",
       "      <th>...</th>\n",
       "      <td>...</td>\n",
       "      <td>...</td>\n",
       "      <td>...</td>\n",
       "      <td>...</td>\n",
       "      <td>...</td>\n",
       "    </tr>\n",
       "    <tr>\n",
       "      <th>2288</th>\n",
       "      <td>1407</td>\n",
       "      <td>11</td>\n",
       "      <td>NaN</td>\n",
       "      <td>1.0</td>\n",
       "      <td>290.06</td>\n",
       "    </tr>\n",
       "    <tr>\n",
       "      <th>2289</th>\n",
       "      <td>1482</td>\n",
       "      <td>10</td>\n",
       "      <td>NaN</td>\n",
       "      <td>2.0</td>\n",
       "      <td>NaN</td>\n",
       "    </tr>\n",
       "    <tr>\n",
       "      <th>2290</th>\n",
       "      <td>1094</td>\n",
       "      <td>10</td>\n",
       "      <td>NaN</td>\n",
       "      <td>NaN</td>\n",
       "      <td>1728.71</td>\n",
       "    </tr>\n",
       "    <tr>\n",
       "      <th>2291</th>\n",
       "      <td>1108</td>\n",
       "      <td>12</td>\n",
       "      <td>NaN</td>\n",
       "      <td>NaN</td>\n",
       "      <td>233.17</td>\n",
       "    </tr>\n",
       "    <tr>\n",
       "      <th>2292</th>\n",
       "      <td>1311</td>\n",
       "      <td>6</td>\n",
       "      <td>NaN</td>\n",
       "      <td>NaN</td>\n",
       "      <td>1498.83</td>\n",
       "    </tr>\n",
       "  </tbody>\n",
       "</table>\n",
       "<p>2293 rows × 5 columns</p>\n",
       "</div>"
      ],
      "text/plain": [
       "     user_id  month  minutes  messages  mb_per_month\n",
       "0       1000     12    124.0      11.0       1901.47\n",
       "1       1001      8    182.0      30.0       6919.15\n",
       "2       1001      9    315.0      44.0      13314.82\n",
       "3       1001     10    393.0      53.0      22330.49\n",
       "4       1001     11    426.0      36.0      18504.30\n",
       "...      ...    ...      ...       ...           ...\n",
       "2288    1407     11      NaN       1.0        290.06\n",
       "2289    1482     10      NaN       2.0           NaN\n",
       "2290    1094     10      NaN       NaN       1728.71\n",
       "2291    1108     12      NaN       NaN        233.17\n",
       "2292    1311      6      NaN       NaN       1498.83\n",
       "\n",
       "[2293 rows x 5 columns]"
      ]
     },
     "execution_count": 16,
     "metadata": {},
     "output_type": "execute_result"
    }
   ],
   "source": [
    "#change the columns names\n",
    "user_summary.columns = ['user_id','month','minutes', 'messages', 'mb_per_month']\n",
    "user_summary"
   ]
  },
  {
   "cell_type": "code",
   "execution_count": 17,
   "metadata": {},
   "outputs": [
    {
     "data": {
      "text/html": [
       "<div>\n",
       "<style scoped>\n",
       "    .dataframe tbody tr th:only-of-type {\n",
       "        vertical-align: middle;\n",
       "    }\n",
       "\n",
       "    .dataframe tbody tr th {\n",
       "        vertical-align: top;\n",
       "    }\n",
       "\n",
       "    .dataframe thead th {\n",
       "        text-align: right;\n",
       "    }\n",
       "</style>\n",
       "<table border=\"1\" class=\"dataframe\">\n",
       "  <thead>\n",
       "    <tr style=\"text-align: right;\">\n",
       "      <th></th>\n",
       "      <th>user_id</th>\n",
       "      <th>month</th>\n",
       "      <th>minutes</th>\n",
       "      <th>messages</th>\n",
       "      <th>mb_per_month</th>\n",
       "      <th>plan</th>\n",
       "    </tr>\n",
       "  </thead>\n",
       "  <tbody>\n",
       "    <tr>\n",
       "      <th>0</th>\n",
       "      <td>1000</td>\n",
       "      <td>12</td>\n",
       "      <td>124.0</td>\n",
       "      <td>11.0</td>\n",
       "      <td>1901.47</td>\n",
       "      <td>ultimate</td>\n",
       "    </tr>\n",
       "    <tr>\n",
       "      <th>1</th>\n",
       "      <td>1001</td>\n",
       "      <td>8</td>\n",
       "      <td>182.0</td>\n",
       "      <td>30.0</td>\n",
       "      <td>6919.15</td>\n",
       "      <td>surf</td>\n",
       "    </tr>\n",
       "    <tr>\n",
       "      <th>2</th>\n",
       "      <td>1001</td>\n",
       "      <td>9</td>\n",
       "      <td>315.0</td>\n",
       "      <td>44.0</td>\n",
       "      <td>13314.82</td>\n",
       "      <td>surf</td>\n",
       "    </tr>\n",
       "    <tr>\n",
       "      <th>3</th>\n",
       "      <td>1001</td>\n",
       "      <td>10</td>\n",
       "      <td>393.0</td>\n",
       "      <td>53.0</td>\n",
       "      <td>22330.49</td>\n",
       "      <td>surf</td>\n",
       "    </tr>\n",
       "    <tr>\n",
       "      <th>4</th>\n",
       "      <td>1001</td>\n",
       "      <td>11</td>\n",
       "      <td>426.0</td>\n",
       "      <td>36.0</td>\n",
       "      <td>18504.30</td>\n",
       "      <td>surf</td>\n",
       "    </tr>\n",
       "    <tr>\n",
       "      <th>...</th>\n",
       "      <td>...</td>\n",
       "      <td>...</td>\n",
       "      <td>...</td>\n",
       "      <td>...</td>\n",
       "      <td>...</td>\n",
       "      <td>...</td>\n",
       "    </tr>\n",
       "    <tr>\n",
       "      <th>2288</th>\n",
       "      <td>1204</td>\n",
       "      <td>12</td>\n",
       "      <td>0.0</td>\n",
       "      <td>78.0</td>\n",
       "      <td>36730.05</td>\n",
       "      <td>ultimate</td>\n",
       "    </tr>\n",
       "    <tr>\n",
       "      <th>2289</th>\n",
       "      <td>1349</td>\n",
       "      <td>10</td>\n",
       "      <td>0.0</td>\n",
       "      <td>76.0</td>\n",
       "      <td>13093.55</td>\n",
       "      <td>surf</td>\n",
       "    </tr>\n",
       "    <tr>\n",
       "      <th>2290</th>\n",
       "      <td>1349</td>\n",
       "      <td>11</td>\n",
       "      <td>0.0</td>\n",
       "      <td>72.0</td>\n",
       "      <td>17128.26</td>\n",
       "      <td>surf</td>\n",
       "    </tr>\n",
       "    <tr>\n",
       "      <th>2291</th>\n",
       "      <td>1349</td>\n",
       "      <td>12</td>\n",
       "      <td>0.0</td>\n",
       "      <td>61.0</td>\n",
       "      <td>13039.91</td>\n",
       "      <td>surf</td>\n",
       "    </tr>\n",
       "    <tr>\n",
       "      <th>2292</th>\n",
       "      <td>1108</td>\n",
       "      <td>12</td>\n",
       "      <td>0.0</td>\n",
       "      <td>0.0</td>\n",
       "      <td>233.17</td>\n",
       "      <td>ultimate</td>\n",
       "    </tr>\n",
       "  </tbody>\n",
       "</table>\n",
       "<p>2293 rows × 6 columns</p>\n",
       "</div>"
      ],
      "text/plain": [
       "     user_id  month  minutes  messages  mb_per_month      plan\n",
       "0       1000     12    124.0      11.0       1901.47  ultimate\n",
       "1       1001      8    182.0      30.0       6919.15      surf\n",
       "2       1001      9    315.0      44.0      13314.82      surf\n",
       "3       1001     10    393.0      53.0      22330.49      surf\n",
       "4       1001     11    426.0      36.0      18504.30      surf\n",
       "...      ...    ...      ...       ...           ...       ...\n",
       "2288    1204     12      0.0      78.0      36730.05  ultimate\n",
       "2289    1349     10      0.0      76.0      13093.55      surf\n",
       "2290    1349     11      0.0      72.0      17128.26      surf\n",
       "2291    1349     12      0.0      61.0      13039.91      surf\n",
       "2292    1108     12      0.0       0.0        233.17  ultimate\n",
       "\n",
       "[2293 rows x 6 columns]"
      ]
     },
     "execution_count": 17,
     "metadata": {},
     "output_type": "execute_result"
    }
   ],
   "source": [
    "#show the plan of each user\n",
    "plans = df_users[['user_id','plan']]\n",
    "#add the plan to the summary table\n",
    "user_summary = user_summary.merge(plans, on = 'user_id').fillna(0)\n",
    "user_summary"
   ]
  },
  {
   "cell_type": "markdown",
   "metadata": {},
   "source": [
    "Now that everything is ready for our calculations, we'll add the total revenue of each user on each month, depending on the plan."
   ]
  },
  {
   "cell_type": "code",
   "execution_count": 18,
   "metadata": {},
   "outputs": [
    {
     "data": {
      "text/html": [
       "<div>\n",
       "<style scoped>\n",
       "    .dataframe tbody tr th:only-of-type {\n",
       "        vertical-align: middle;\n",
       "    }\n",
       "\n",
       "    .dataframe tbody tr th {\n",
       "        vertical-align: top;\n",
       "    }\n",
       "\n",
       "    .dataframe thead th {\n",
       "        text-align: right;\n",
       "    }\n",
       "</style>\n",
       "<table border=\"1\" class=\"dataframe\">\n",
       "  <thead>\n",
       "    <tr style=\"text-align: right;\">\n",
       "      <th></th>\n",
       "      <th>user_id</th>\n",
       "      <th>month</th>\n",
       "      <th>minutes</th>\n",
       "      <th>messages</th>\n",
       "      <th>mb_per_month</th>\n",
       "      <th>plan</th>\n",
       "      <th>revenue</th>\n",
       "    </tr>\n",
       "  </thead>\n",
       "  <tbody>\n",
       "    <tr>\n",
       "      <th>0</th>\n",
       "      <td>1000</td>\n",
       "      <td>12</td>\n",
       "      <td>124.0</td>\n",
       "      <td>11.0</td>\n",
       "      <td>1901.47</td>\n",
       "      <td>ultimate</td>\n",
       "      <td>70.00</td>\n",
       "    </tr>\n",
       "    <tr>\n",
       "      <th>1</th>\n",
       "      <td>1001</td>\n",
       "      <td>8</td>\n",
       "      <td>182.0</td>\n",
       "      <td>30.0</td>\n",
       "      <td>6919.15</td>\n",
       "      <td>surf</td>\n",
       "      <td>20.00</td>\n",
       "    </tr>\n",
       "    <tr>\n",
       "      <th>2</th>\n",
       "      <td>1001</td>\n",
       "      <td>9</td>\n",
       "      <td>315.0</td>\n",
       "      <td>44.0</td>\n",
       "      <td>13314.82</td>\n",
       "      <td>surf</td>\n",
       "      <td>20.00</td>\n",
       "    </tr>\n",
       "    <tr>\n",
       "      <th>3</th>\n",
       "      <td>1001</td>\n",
       "      <td>10</td>\n",
       "      <td>393.0</td>\n",
       "      <td>53.0</td>\n",
       "      <td>22330.49</td>\n",
       "      <td>surf</td>\n",
       "      <td>90.09</td>\n",
       "    </tr>\n",
       "    <tr>\n",
       "      <th>4</th>\n",
       "      <td>1001</td>\n",
       "      <td>11</td>\n",
       "      <td>426.0</td>\n",
       "      <td>36.0</td>\n",
       "      <td>18504.30</td>\n",
       "      <td>surf</td>\n",
       "      <td>60.00</td>\n",
       "    </tr>\n",
       "    <tr>\n",
       "      <th>...</th>\n",
       "      <td>...</td>\n",
       "      <td>...</td>\n",
       "      <td>...</td>\n",
       "      <td>...</td>\n",
       "      <td>...</td>\n",
       "      <td>...</td>\n",
       "      <td>...</td>\n",
       "    </tr>\n",
       "    <tr>\n",
       "      <th>2288</th>\n",
       "      <td>1204</td>\n",
       "      <td>12</td>\n",
       "      <td>0.0</td>\n",
       "      <td>78.0</td>\n",
       "      <td>36730.05</td>\n",
       "      <td>ultimate</td>\n",
       "      <td>112.00</td>\n",
       "    </tr>\n",
       "    <tr>\n",
       "      <th>2289</th>\n",
       "      <td>1349</td>\n",
       "      <td>10</td>\n",
       "      <td>0.0</td>\n",
       "      <td>76.0</td>\n",
       "      <td>13093.55</td>\n",
       "      <td>surf</td>\n",
       "      <td>20.78</td>\n",
       "    </tr>\n",
       "    <tr>\n",
       "      <th>2290</th>\n",
       "      <td>1349</td>\n",
       "      <td>11</td>\n",
       "      <td>0.0</td>\n",
       "      <td>72.0</td>\n",
       "      <td>17128.26</td>\n",
       "      <td>surf</td>\n",
       "      <td>40.66</td>\n",
       "    </tr>\n",
       "    <tr>\n",
       "      <th>2291</th>\n",
       "      <td>1349</td>\n",
       "      <td>12</td>\n",
       "      <td>0.0</td>\n",
       "      <td>61.0</td>\n",
       "      <td>13039.91</td>\n",
       "      <td>surf</td>\n",
       "      <td>20.33</td>\n",
       "    </tr>\n",
       "    <tr>\n",
       "      <th>2292</th>\n",
       "      <td>1108</td>\n",
       "      <td>12</td>\n",
       "      <td>0.0</td>\n",
       "      <td>0.0</td>\n",
       "      <td>233.17</td>\n",
       "      <td>ultimate</td>\n",
       "      <td>70.00</td>\n",
       "    </tr>\n",
       "  </tbody>\n",
       "</table>\n",
       "<p>2293 rows × 7 columns</p>\n",
       "</div>"
      ],
      "text/plain": [
       "     user_id  month  minutes  messages  mb_per_month      plan  revenue\n",
       "0       1000     12    124.0      11.0       1901.47  ultimate    70.00\n",
       "1       1001      8    182.0      30.0       6919.15      surf    20.00\n",
       "2       1001      9    315.0      44.0      13314.82      surf    20.00\n",
       "3       1001     10    393.0      53.0      22330.49      surf    90.09\n",
       "4       1001     11    426.0      36.0      18504.30      surf    60.00\n",
       "...      ...    ...      ...       ...           ...       ...      ...\n",
       "2288    1204     12      0.0      78.0      36730.05  ultimate   112.00\n",
       "2289    1349     10      0.0      76.0      13093.55      surf    20.78\n",
       "2290    1349     11      0.0      72.0      17128.26      surf    40.66\n",
       "2291    1349     12      0.0      61.0      13039.91      surf    20.33\n",
       "2292    1108     12      0.0       0.0        233.17  ultimate    70.00\n",
       "\n",
       "[2293 rows x 7 columns]"
      ]
     },
     "execution_count": 18,
     "metadata": {},
     "output_type": "execute_result"
    }
   ],
   "source": [
    "#function fo calculating the total revenue, based on the plans terms\n",
    "def total_revenue(row):\n",
    "    plan = row['plan']\n",
    "    #start with the montly fee\n",
    "    total_revenue = int(df_plans[df_plans['plan_name'] == plan]['usd_monthly_pay'])\n",
    "    \n",
    "    #calculate the exceeding minutes\n",
    "    if row['minutes'] > int(df_plans[df_plans['plan_name'] == plan]['minutes_included']):\n",
    "        exceed_calls = row['minutes'] - int(df_plans[df_plans['plan_name'] == plan]['minutes_included'])\n",
    "        total_revenue += exceed_calls*float(df_plans[df_plans['plan_name'] == plan]['usd_per_minute'])\n",
    "        \n",
    "    #calculate the exceeding messages\n",
    "    if row['messages'] > int(df_plans[df_plans['plan_name'] == plan]['messages_included']):\n",
    "        exceed_msg = row['messages'] - int(df_plans[df_plans['plan_name'] == plan]['messages_included'])\n",
    "        total_revenue += exceed_msg*float(df_plans[df_plans['plan_name'] == plan]['usd_per_message'])\n",
    "        \n",
    "    #calculate the exceeding mb usage\n",
    "    if row['mb_per_month'] > int(df_plans[df_plans['plan_name'] == plan]['mb_per_month_included']):\n",
    "        exceed_mb = row['mb_per_month'] - int(df_plans[df_plans['plan_name'] == plan]['mb_per_month_included']) \n",
    "        total_revenue += (np.ceil(exceed_mb/1024))*float(df_plans[df_plans['plan_name'] == plan]['usd_per_gb'])\n",
    "        \n",
    "    return total_revenue\n",
    "\n",
    "\n",
    "user_summary['revenue'] = user_summary.apply(total_revenue,axis = 1)\n",
    "user_summary"
   ]
  },
  {
   "cell_type": "code",
   "execution_count": 19,
   "metadata": {},
   "outputs": [
    {
     "data": {
      "text/html": [
       "<div>\n",
       "<style scoped>\n",
       "    .dataframe tbody tr th:only-of-type {\n",
       "        vertical-align: middle;\n",
       "    }\n",
       "\n",
       "    .dataframe tbody tr th {\n",
       "        vertical-align: top;\n",
       "    }\n",
       "\n",
       "    .dataframe thead th {\n",
       "        text-align: right;\n",
       "    }\n",
       "</style>\n",
       "<table border=\"1\" class=\"dataframe\">\n",
       "  <thead>\n",
       "    <tr style=\"text-align: right;\">\n",
       "      <th></th>\n",
       "      <th>user_id</th>\n",
       "      <th>month</th>\n",
       "      <th>minutes</th>\n",
       "      <th>messages</th>\n",
       "      <th>mb_per_month</th>\n",
       "      <th>plan</th>\n",
       "      <th>revenue</th>\n",
       "    </tr>\n",
       "  </thead>\n",
       "  <tbody>\n",
       "    <tr>\n",
       "      <th>1006</th>\n",
       "      <td>1215</td>\n",
       "      <td>11</td>\n",
       "      <td>699.0</td>\n",
       "      <td>92.0</td>\n",
       "      <td>35029.93</td>\n",
       "      <td>surf</td>\n",
       "      <td>227.23</td>\n",
       "    </tr>\n",
       "    <tr>\n",
       "      <th>1245</th>\n",
       "      <td>1268</td>\n",
       "      <td>3</td>\n",
       "      <td>307.0</td>\n",
       "      <td>10.0</td>\n",
       "      <td>19992.19</td>\n",
       "      <td>surf</td>\n",
       "      <td>70.00</td>\n",
       "    </tr>\n",
       "    <tr>\n",
       "      <th>503</th>\n",
       "      <td>1109</td>\n",
       "      <td>6</td>\n",
       "      <td>572.0</td>\n",
       "      <td>0.0</td>\n",
       "      <td>12202.07</td>\n",
       "      <td>surf</td>\n",
       "      <td>22.16</td>\n",
       "    </tr>\n",
       "    <tr>\n",
       "      <th>832</th>\n",
       "      <td>1178</td>\n",
       "      <td>11</td>\n",
       "      <td>405.0</td>\n",
       "      <td>48.0</td>\n",
       "      <td>18044.83</td>\n",
       "      <td>surf</td>\n",
       "      <td>50.00</td>\n",
       "    </tr>\n",
       "    <tr>\n",
       "      <th>1620</th>\n",
       "      <td>1358</td>\n",
       "      <td>7</td>\n",
       "      <td>369.0</td>\n",
       "      <td>3.0</td>\n",
       "      <td>18422.08</td>\n",
       "      <td>surf</td>\n",
       "      <td>50.00</td>\n",
       "    </tr>\n",
       "  </tbody>\n",
       "</table>\n",
       "</div>"
      ],
      "text/plain": [
       "     user_id  month  minutes  messages  mb_per_month  plan  revenue\n",
       "1006    1215     11    699.0      92.0      35029.93  surf   227.23\n",
       "1245    1268      3    307.0      10.0      19992.19  surf    70.00\n",
       "503     1109      6    572.0       0.0      12202.07  surf    22.16\n",
       "832     1178     11    405.0      48.0      18044.83  surf    50.00\n",
       "1620    1358      7    369.0       3.0      18422.08  surf    50.00"
      ]
     },
     "execution_count": 19,
     "metadata": {},
     "output_type": "execute_result"
    }
   ],
   "source": [
    "user_summary.sample(5)"
   ]
  },
  {
   "cell_type": "markdown",
   "metadata": {},
   "source": [
    "Now we have all the needed data for the analysis!"
   ]
  },
  {
   "cell_type": "markdown",
   "metadata": {},
   "source": [
    "## 3. Exploratory Data Analysis\n",
    "<a class=\"anchor\" id=\"chapter3\"></a>"
   ]
  },
  {
   "cell_type": "markdown",
   "metadata": {},
   "source": [
    "Now we will analayz the customers' behavior. We'll show the totals of minutes, texts, and volume of data the users of each plan require per month. We'll calculate the mean, variance and standard deviation and define outliers. We'll clean the data and show the histograms of the relevant values.\n",
    "First we will group the table by plans and months."
   ]
  },
  {
   "cell_type": "code",
   "execution_count": 20,
   "metadata": {
    "scrolled": false
   },
   "outputs": [
    {
     "data": {
      "text/html": [
       "<div>\n",
       "<style scoped>\n",
       "    .dataframe tbody tr th:only-of-type {\n",
       "        vertical-align: middle;\n",
       "    }\n",
       "\n",
       "    .dataframe tbody tr th {\n",
       "        vertical-align: top;\n",
       "    }\n",
       "\n",
       "    .dataframe thead th {\n",
       "        text-align: right;\n",
       "    }\n",
       "</style>\n",
       "<table border=\"1\" class=\"dataframe\">\n",
       "  <thead>\n",
       "    <tr style=\"text-align: right;\">\n",
       "      <th></th>\n",
       "      <th></th>\n",
       "      <th>mb_per_month</th>\n",
       "      <th>messages</th>\n",
       "      <th>minutes</th>\n",
       "      <th>revenue</th>\n",
       "    </tr>\n",
       "    <tr>\n",
       "      <th>plan</th>\n",
       "      <th>month</th>\n",
       "      <th></th>\n",
       "      <th></th>\n",
       "      <th></th>\n",
       "      <th></th>\n",
       "    </tr>\n",
       "  </thead>\n",
       "  <tbody>\n",
       "    <tr>\n",
       "      <th rowspan=\"12\" valign=\"top\">surf</th>\n",
       "      <th>1</th>\n",
       "      <td>4874.860000</td>\n",
       "      <td>10.500000</td>\n",
       "      <td>203.000000</td>\n",
       "      <td>20.000000</td>\n",
       "    </tr>\n",
       "    <tr>\n",
       "      <th>2</th>\n",
       "      <td>12178.843333</td>\n",
       "      <td>12.000000</td>\n",
       "      <td>297.000000</td>\n",
       "      <td>34.396667</td>\n",
       "    </tr>\n",
       "    <tr>\n",
       "      <th>3</th>\n",
       "      <td>13345.440000</td>\n",
       "      <td>15.260870</td>\n",
       "      <td>330.000000</td>\n",
       "      <td>45.941304</td>\n",
       "    </tr>\n",
       "    <tr>\n",
       "      <th>4</th>\n",
       "      <td>11984.203000</td>\n",
       "      <td>17.400000</td>\n",
       "      <td>351.540000</td>\n",
       "      <td>40.710600</td>\n",
       "    </tr>\n",
       "    <tr>\n",
       "      <th>5</th>\n",
       "      <td>13936.354935</td>\n",
       "      <td>24.012987</td>\n",
       "      <td>399.584416</td>\n",
       "      <td>47.628182</td>\n",
       "    </tr>\n",
       "    <tr>\n",
       "      <th>6</th>\n",
       "      <td>15301.529175</td>\n",
       "      <td>25.298969</td>\n",
       "      <td>431.298969</td>\n",
       "      <td>49.276289</td>\n",
       "    </tr>\n",
       "    <tr>\n",
       "      <th>7</th>\n",
       "      <td>16783.600579</td>\n",
       "      <td>27.033058</td>\n",
       "      <td>449.983471</td>\n",
       "      <td>62.674050</td>\n",
       "    </tr>\n",
       "    <tr>\n",
       "      <th>8</th>\n",
       "      <td>16795.331358</td>\n",
       "      <td>28.777778</td>\n",
       "      <td>410.111111</td>\n",
       "      <td>63.931173</td>\n",
       "    </tr>\n",
       "    <tr>\n",
       "      <th>9</th>\n",
       "      <td>16591.431289</td>\n",
       "      <td>30.762887</td>\n",
       "      <td>414.226804</td>\n",
       "      <td>58.271495</td>\n",
       "    </tr>\n",
       "    <tr>\n",
       "      <th>10</th>\n",
       "      <td>17311.335063</td>\n",
       "      <td>33.839662</td>\n",
       "      <td>429.729958</td>\n",
       "      <td>65.421224</td>\n",
       "    </tr>\n",
       "    <tr>\n",
       "      <th>11</th>\n",
       "      <td>16339.254417</td>\n",
       "      <td>32.385159</td>\n",
       "      <td>423.325088</td>\n",
       "      <td>58.004276</td>\n",
       "    </tr>\n",
       "    <tr>\n",
       "      <th>12</th>\n",
       "      <td>18132.469371</td>\n",
       "      <td>38.600629</td>\n",
       "      <td>473.836478</td>\n",
       "      <td>70.557044</td>\n",
       "    </tr>\n",
       "    <tr>\n",
       "      <th rowspan=\"12\" valign=\"top\">ultimate</th>\n",
       "      <th>1</th>\n",
       "      <td>6918.092500</td>\n",
       "      <td>15.500000</td>\n",
       "      <td>193.500000</td>\n",
       "      <td>70.000000</td>\n",
       "    </tr>\n",
       "    <tr>\n",
       "      <th>2</th>\n",
       "      <td>17128.808571</td>\n",
       "      <td>21.571429</td>\n",
       "      <td>403.142857</td>\n",
       "      <td>70.000000</td>\n",
       "    </tr>\n",
       "    <tr>\n",
       "      <th>3</th>\n",
       "      <td>18321.518333</td>\n",
       "      <td>20.250000</td>\n",
       "      <td>304.250000</td>\n",
       "      <td>74.666667</td>\n",
       "    </tr>\n",
       "    <tr>\n",
       "      <th>4</th>\n",
       "      <td>16121.654762</td>\n",
       "      <td>22.047619</td>\n",
       "      <td>336.857143</td>\n",
       "      <td>73.000000</td>\n",
       "    </tr>\n",
       "    <tr>\n",
       "      <th>5</th>\n",
       "      <td>16624.482414</td>\n",
       "      <td>32.103448</td>\n",
       "      <td>406.241379</td>\n",
       "      <td>70.724138</td>\n",
       "    </tr>\n",
       "    <tr>\n",
       "      <th>6</th>\n",
       "      <td>15337.921064</td>\n",
       "      <td>29.340426</td>\n",
       "      <td>370.957447</td>\n",
       "      <td>71.638298</td>\n",
       "    </tr>\n",
       "    <tr>\n",
       "      <th>7</th>\n",
       "      <td>16344.744407</td>\n",
       "      <td>32.830508</td>\n",
       "      <td>427.067797</td>\n",
       "      <td>71.898305</td>\n",
       "    </tr>\n",
       "    <tr>\n",
       "      <th>8</th>\n",
       "      <td>17814.720141</td>\n",
       "      <td>38.478873</td>\n",
       "      <td>421.436620</td>\n",
       "      <td>72.859155</td>\n",
       "    </tr>\n",
       "    <tr>\n",
       "      <th>9</th>\n",
       "      <td>16969.869535</td>\n",
       "      <td>37.895349</td>\n",
       "      <td>437.511628</td>\n",
       "      <td>72.034884</td>\n",
       "    </tr>\n",
       "    <tr>\n",
       "      <th>10</th>\n",
       "      <td>17612.553396</td>\n",
       "      <td>39.443396</td>\n",
       "      <td>450.735849</td>\n",
       "      <td>72.311321</td>\n",
       "    </tr>\n",
       "    <tr>\n",
       "      <th>11</th>\n",
       "      <td>17033.685354</td>\n",
       "      <td>38.606299</td>\n",
       "      <td>445.196850</td>\n",
       "      <td>71.708661</td>\n",
       "    </tr>\n",
       "    <tr>\n",
       "      <th>12</th>\n",
       "      <td>18323.191854</td>\n",
       "      <td>45.006623</td>\n",
       "      <td>459.099338</td>\n",
       "      <td>73.291391</td>\n",
       "    </tr>\n",
       "  </tbody>\n",
       "</table>\n",
       "</div>"
      ],
      "text/plain": [
       "                mb_per_month   messages     minutes    revenue\n",
       "plan     month                                                \n",
       "surf     1       4874.860000  10.500000  203.000000  20.000000\n",
       "         2      12178.843333  12.000000  297.000000  34.396667\n",
       "         3      13345.440000  15.260870  330.000000  45.941304\n",
       "         4      11984.203000  17.400000  351.540000  40.710600\n",
       "         5      13936.354935  24.012987  399.584416  47.628182\n",
       "         6      15301.529175  25.298969  431.298969  49.276289\n",
       "         7      16783.600579  27.033058  449.983471  62.674050\n",
       "         8      16795.331358  28.777778  410.111111  63.931173\n",
       "         9      16591.431289  30.762887  414.226804  58.271495\n",
       "         10     17311.335063  33.839662  429.729958  65.421224\n",
       "         11     16339.254417  32.385159  423.325088  58.004276\n",
       "         12     18132.469371  38.600629  473.836478  70.557044\n",
       "ultimate 1       6918.092500  15.500000  193.500000  70.000000\n",
       "         2      17128.808571  21.571429  403.142857  70.000000\n",
       "         3      18321.518333  20.250000  304.250000  74.666667\n",
       "         4      16121.654762  22.047619  336.857143  73.000000\n",
       "         5      16624.482414  32.103448  406.241379  70.724138\n",
       "         6      15337.921064  29.340426  370.957447  71.638298\n",
       "         7      16344.744407  32.830508  427.067797  71.898305\n",
       "         8      17814.720141  38.478873  421.436620  72.859155\n",
       "         9      16969.869535  37.895349  437.511628  72.034884\n",
       "         10     17612.553396  39.443396  450.735849  72.311321\n",
       "         11     17033.685354  38.606299  445.196850  71.708661\n",
       "         12     18323.191854  45.006623  459.099338  73.291391"
      ]
     },
     "execution_count": 20,
     "metadata": {},
     "output_type": "execute_result"
    }
   ],
   "source": [
    "#creat a pivot table grouped by plan and months\n",
    "mean_per_month = (\n",
    "    user_summary\n",
    "    .pivot_table(index = ['plan','month'], values = ['minutes','messages','mb_per_month','revenue']))\n",
    "mean_per_month"
   ]
  },
  {
   "cell_type": "code",
   "execution_count": 21,
   "metadata": {},
   "outputs": [
    {
     "data": {
      "text/html": [
       "<div>\n",
       "<style scoped>\n",
       "    .dataframe tbody tr th:only-of-type {\n",
       "        vertical-align: middle;\n",
       "    }\n",
       "\n",
       "    .dataframe tbody tr th {\n",
       "        vertical-align: top;\n",
       "    }\n",
       "\n",
       "    .dataframe thead th {\n",
       "        text-align: right;\n",
       "    }\n",
       "</style>\n",
       "<table border=\"1\" class=\"dataframe\">\n",
       "  <thead>\n",
       "    <tr style=\"text-align: right;\">\n",
       "      <th></th>\n",
       "      <th>mb_per_month</th>\n",
       "      <th>messages</th>\n",
       "      <th>minutes</th>\n",
       "      <th>revenue</th>\n",
       "    </tr>\n",
       "  </thead>\n",
       "  <tbody>\n",
       "    <tr>\n",
       "      <th>count</th>\n",
       "      <td>12.000000</td>\n",
       "      <td>12.000000</td>\n",
       "      <td>12.000000</td>\n",
       "      <td>12.000000</td>\n",
       "    </tr>\n",
       "    <tr>\n",
       "      <th>mean</th>\n",
       "      <td>14464.554377</td>\n",
       "      <td>24.656000</td>\n",
       "      <td>384.469691</td>\n",
       "      <td>51.401025</td>\n",
       "    </tr>\n",
       "    <tr>\n",
       "      <th>std</th>\n",
       "      <td>3642.890430</td>\n",
       "      <td>9.049246</td>\n",
       "      <td>76.535567</td>\n",
       "      <td>14.698256</td>\n",
       "    </tr>\n",
       "    <tr>\n",
       "      <th>min</th>\n",
       "      <td>4874.860000</td>\n",
       "      <td>10.500000</td>\n",
       "      <td>203.000000</td>\n",
       "      <td>20.000000</td>\n",
       "    </tr>\n",
       "    <tr>\n",
       "      <th>25%</th>\n",
       "      <td>13053.790833</td>\n",
       "      <td>16.865217</td>\n",
       "      <td>346.155000</td>\n",
       "      <td>44.633628</td>\n",
       "    </tr>\n",
       "    <tr>\n",
       "      <th>50%</th>\n",
       "      <td>15820.391796</td>\n",
       "      <td>26.166013</td>\n",
       "      <td>412.168958</td>\n",
       "      <td>53.640282</td>\n",
       "    </tr>\n",
       "    <tr>\n",
       "      <th>75%</th>\n",
       "      <td>16786.533273</td>\n",
       "      <td>31.168455</td>\n",
       "      <td>430.122211</td>\n",
       "      <td>62.988330</td>\n",
       "    </tr>\n",
       "    <tr>\n",
       "      <th>max</th>\n",
       "      <td>18132.469371</td>\n",
       "      <td>38.600629</td>\n",
       "      <td>473.836478</td>\n",
       "      <td>70.557044</td>\n",
       "    </tr>\n",
       "  </tbody>\n",
       "</table>\n",
       "</div>"
      ],
      "text/plain": [
       "       mb_per_month   messages     minutes    revenue\n",
       "count     12.000000  12.000000   12.000000  12.000000\n",
       "mean   14464.554377  24.656000  384.469691  51.401025\n",
       "std     3642.890430   9.049246   76.535567  14.698256\n",
       "min     4874.860000  10.500000  203.000000  20.000000\n",
       "25%    13053.790833  16.865217  346.155000  44.633628\n",
       "50%    15820.391796  26.166013  412.168958  53.640282\n",
       "75%    16786.533273  31.168455  430.122211  62.988330\n",
       "max    18132.469371  38.600629  473.836478  70.557044"
      ]
     },
     "metadata": {},
     "output_type": "display_data"
    },
    {
     "data": {
      "text/plain": [
       "'variance: '"
      ]
     },
     "metadata": {},
     "output_type": "display_data"
    },
    {
     "data": {
      "text/plain": [
       "mb_per_month    1.327065e+07\n",
       "messages        8.188885e+01\n",
       "minutes         5.857693e+03\n",
       "revenue         2.160387e+02\n",
       "dtype: float64"
      ]
     },
     "metadata": {},
     "output_type": "display_data"
    }
   ],
   "source": [
    "#show statistic summary for surf\n",
    "display(mean_per_month.loc['surf'].describe(),'variance: ',\n",
    "mean_per_month.loc['surf'].var())"
   ]
  },
  {
   "cell_type": "code",
   "execution_count": 22,
   "metadata": {},
   "outputs": [
    {
     "data": {
      "text/html": [
       "<div>\n",
       "<style scoped>\n",
       "    .dataframe tbody tr th:only-of-type {\n",
       "        vertical-align: middle;\n",
       "    }\n",
       "\n",
       "    .dataframe tbody tr th {\n",
       "        vertical-align: top;\n",
       "    }\n",
       "\n",
       "    .dataframe thead th {\n",
       "        text-align: right;\n",
       "    }\n",
       "</style>\n",
       "<table border=\"1\" class=\"dataframe\">\n",
       "  <thead>\n",
       "    <tr style=\"text-align: right;\">\n",
       "      <th></th>\n",
       "      <th>mb_per_month</th>\n",
       "      <th>messages</th>\n",
       "      <th>minutes</th>\n",
       "      <th>revenue</th>\n",
       "    </tr>\n",
       "  </thead>\n",
       "  <tbody>\n",
       "    <tr>\n",
       "      <th>count</th>\n",
       "      <td>12.000000</td>\n",
       "      <td>12.000000</td>\n",
       "      <td>12.000000</td>\n",
       "      <td>12.000000</td>\n",
       "    </tr>\n",
       "    <tr>\n",
       "      <th>mean</th>\n",
       "      <td>16212.603528</td>\n",
       "      <td>31.089497</td>\n",
       "      <td>387.999742</td>\n",
       "      <td>72.011068</td>\n",
       "    </tr>\n",
       "    <tr>\n",
       "      <th>std</th>\n",
       "      <td>3057.987791</td>\n",
       "      <td>9.346334</td>\n",
       "      <td>77.266064</td>\n",
       "      <td>1.364068</td>\n",
       "    </tr>\n",
       "    <tr>\n",
       "      <th>min</th>\n",
       "      <td>6918.092500</td>\n",
       "      <td>15.500000</td>\n",
       "      <td>193.500000</td>\n",
       "      <td>70.000000</td>\n",
       "    </tr>\n",
       "    <tr>\n",
       "      <th>25%</th>\n",
       "      <td>16288.971996</td>\n",
       "      <td>21.928571</td>\n",
       "      <td>362.432371</td>\n",
       "      <td>71.409758</td>\n",
       "    </tr>\n",
       "    <tr>\n",
       "      <th>50%</th>\n",
       "      <td>17001.777445</td>\n",
       "      <td>32.466978</td>\n",
       "      <td>413.839000</td>\n",
       "      <td>71.966594</td>\n",
       "    </tr>\n",
       "    <tr>\n",
       "      <th>75%</th>\n",
       "      <td>17663.095082</td>\n",
       "      <td>38.510730</td>\n",
       "      <td>439.432934</td>\n",
       "      <td>72.894366</td>\n",
       "    </tr>\n",
       "    <tr>\n",
       "      <th>max</th>\n",
       "      <td>18323.191854</td>\n",
       "      <td>45.006623</td>\n",
       "      <td>459.099338</td>\n",
       "      <td>74.666667</td>\n",
       "    </tr>\n",
       "  </tbody>\n",
       "</table>\n",
       "</div>"
      ],
      "text/plain": [
       "       mb_per_month   messages     minutes    revenue\n",
       "count     12.000000  12.000000   12.000000  12.000000\n",
       "mean   16212.603528  31.089497  387.999742  72.011068\n",
       "std     3057.987791   9.346334   77.266064   1.364068\n",
       "min     6918.092500  15.500000  193.500000  70.000000\n",
       "25%    16288.971996  21.928571  362.432371  71.409758\n",
       "50%    17001.777445  32.466978  413.839000  71.966594\n",
       "75%    17663.095082  38.510730  439.432934  72.894366\n",
       "max    18323.191854  45.006623  459.099338  74.666667"
      ]
     },
     "metadata": {},
     "output_type": "display_data"
    },
    {
     "data": {
      "text/plain": [
       "'variance:'"
      ]
     },
     "metadata": {},
     "output_type": "display_data"
    },
    {
     "data": {
      "text/plain": [
       "mb_per_month    9.351289e+06\n",
       "messages        8.735396e+01\n",
       "minutes         5.970045e+03\n",
       "revenue         1.860681e+00\n",
       "dtype: float64"
      ]
     },
     "metadata": {},
     "output_type": "display_data"
    }
   ],
   "source": [
    "#show statistic summary for ultimate\n",
    "display(mean_per_month.loc['ultimate'].describe(), 'variance:',\n",
    "mean_per_month.loc['ultimate'].var())"
   ]
  },
  {
   "cell_type": "markdown",
   "metadata": {},
   "source": [
    "Now we can calculate the outliers based on the IQR method and clean the data."
   ]
  },
  {
   "cell_type": "code",
   "execution_count": 23,
   "metadata": {},
   "outputs": [],
   "source": [
    "#clear data based on the IQR method\n",
    "def clear_data(df):\n",
    "    Q1 = df.quantile(0.25)\n",
    "    Q3 = df.quantile(0.75)\n",
    "    IQR = Q3 - Q1\n",
    "        \n",
    "    #filter out the outliers\n",
    "    clear_data = df[~((df < (Q1 - 1.5 * IQR)) |(df > (Q3 + 1.5 * IQR)))]\n",
    "    return clear_data\n",
    "\n",
    "#apply the function on each table\n",
    "clean_surf = mean_per_month.loc['surf'].apply(clear_data)\n",
    "clean_ultimate = mean_per_month.loc['ultimate'].apply(clear_data)"
   ]
  },
  {
   "cell_type": "code",
   "execution_count": 24,
   "metadata": {},
   "outputs": [
    {
     "data": {
      "text/plain": [
       "'clean surf:'"
      ]
     },
     "metadata": {},
     "output_type": "display_data"
    },
    {
     "data": {
      "text/html": [
       "<div>\n",
       "<style scoped>\n",
       "    .dataframe tbody tr th:only-of-type {\n",
       "        vertical-align: middle;\n",
       "    }\n",
       "\n",
       "    .dataframe tbody tr th {\n",
       "        vertical-align: top;\n",
       "    }\n",
       "\n",
       "    .dataframe thead th {\n",
       "        text-align: right;\n",
       "    }\n",
       "</style>\n",
       "<table border=\"1\" class=\"dataframe\">\n",
       "  <thead>\n",
       "    <tr style=\"text-align: right;\">\n",
       "      <th></th>\n",
       "      <th>mb_per_month</th>\n",
       "      <th>messages</th>\n",
       "      <th>minutes</th>\n",
       "      <th>revenue</th>\n",
       "    </tr>\n",
       "    <tr>\n",
       "      <th>month</th>\n",
       "      <th></th>\n",
       "      <th></th>\n",
       "      <th></th>\n",
       "      <th></th>\n",
       "    </tr>\n",
       "  </thead>\n",
       "  <tbody>\n",
       "    <tr>\n",
       "      <th>1</th>\n",
       "      <td>NaN</td>\n",
       "      <td>10.500000</td>\n",
       "      <td>NaN</td>\n",
       "      <td>20.000000</td>\n",
       "    </tr>\n",
       "    <tr>\n",
       "      <th>2</th>\n",
       "      <td>12178.843333</td>\n",
       "      <td>12.000000</td>\n",
       "      <td>297.000000</td>\n",
       "      <td>34.396667</td>\n",
       "    </tr>\n",
       "    <tr>\n",
       "      <th>3</th>\n",
       "      <td>13345.440000</td>\n",
       "      <td>15.260870</td>\n",
       "      <td>330.000000</td>\n",
       "      <td>45.941304</td>\n",
       "    </tr>\n",
       "    <tr>\n",
       "      <th>4</th>\n",
       "      <td>11984.203000</td>\n",
       "      <td>17.400000</td>\n",
       "      <td>351.540000</td>\n",
       "      <td>40.710600</td>\n",
       "    </tr>\n",
       "    <tr>\n",
       "      <th>5</th>\n",
       "      <td>13936.354935</td>\n",
       "      <td>24.012987</td>\n",
       "      <td>399.584416</td>\n",
       "      <td>47.628182</td>\n",
       "    </tr>\n",
       "    <tr>\n",
       "      <th>6</th>\n",
       "      <td>15301.529175</td>\n",
       "      <td>25.298969</td>\n",
       "      <td>431.298969</td>\n",
       "      <td>49.276289</td>\n",
       "    </tr>\n",
       "    <tr>\n",
       "      <th>7</th>\n",
       "      <td>16783.600579</td>\n",
       "      <td>27.033058</td>\n",
       "      <td>449.983471</td>\n",
       "      <td>62.674050</td>\n",
       "    </tr>\n",
       "    <tr>\n",
       "      <th>8</th>\n",
       "      <td>16795.331358</td>\n",
       "      <td>28.777778</td>\n",
       "      <td>410.111111</td>\n",
       "      <td>63.931173</td>\n",
       "    </tr>\n",
       "    <tr>\n",
       "      <th>9</th>\n",
       "      <td>16591.431289</td>\n",
       "      <td>30.762887</td>\n",
       "      <td>414.226804</td>\n",
       "      <td>58.271495</td>\n",
       "    </tr>\n",
       "    <tr>\n",
       "      <th>10</th>\n",
       "      <td>17311.335063</td>\n",
       "      <td>33.839662</td>\n",
       "      <td>429.729958</td>\n",
       "      <td>65.421224</td>\n",
       "    </tr>\n",
       "    <tr>\n",
       "      <th>11</th>\n",
       "      <td>16339.254417</td>\n",
       "      <td>32.385159</td>\n",
       "      <td>423.325088</td>\n",
       "      <td>58.004276</td>\n",
       "    </tr>\n",
       "    <tr>\n",
       "      <th>12</th>\n",
       "      <td>18132.469371</td>\n",
       "      <td>38.600629</td>\n",
       "      <td>473.836478</td>\n",
       "      <td>70.557044</td>\n",
       "    </tr>\n",
       "  </tbody>\n",
       "</table>\n",
       "</div>"
      ],
      "text/plain": [
       "       mb_per_month   messages     minutes    revenue\n",
       "month                                                \n",
       "1               NaN  10.500000         NaN  20.000000\n",
       "2      12178.843333  12.000000  297.000000  34.396667\n",
       "3      13345.440000  15.260870  330.000000  45.941304\n",
       "4      11984.203000  17.400000  351.540000  40.710600\n",
       "5      13936.354935  24.012987  399.584416  47.628182\n",
       "6      15301.529175  25.298969  431.298969  49.276289\n",
       "7      16783.600579  27.033058  449.983471  62.674050\n",
       "8      16795.331358  28.777778  410.111111  63.931173\n",
       "9      16591.431289  30.762887  414.226804  58.271495\n",
       "10     17311.335063  33.839662  429.729958  65.421224\n",
       "11     16339.254417  32.385159  423.325088  58.004276\n",
       "12     18132.469371  38.600629  473.836478  70.557044"
      ]
     },
     "metadata": {},
     "output_type": "display_data"
    },
    {
     "data": {
      "text/plain": [
       "'clean ultimate:'"
      ]
     },
     "metadata": {},
     "output_type": "display_data"
    },
    {
     "data": {
      "text/html": [
       "<div>\n",
       "<style scoped>\n",
       "    .dataframe tbody tr th:only-of-type {\n",
       "        vertical-align: middle;\n",
       "    }\n",
       "\n",
       "    .dataframe tbody tr th {\n",
       "        vertical-align: top;\n",
       "    }\n",
       "\n",
       "    .dataframe thead th {\n",
       "        text-align: right;\n",
       "    }\n",
       "</style>\n",
       "<table border=\"1\" class=\"dataframe\">\n",
       "  <thead>\n",
       "    <tr style=\"text-align: right;\">\n",
       "      <th></th>\n",
       "      <th>mb_per_month</th>\n",
       "      <th>messages</th>\n",
       "      <th>minutes</th>\n",
       "      <th>revenue</th>\n",
       "    </tr>\n",
       "    <tr>\n",
       "      <th>month</th>\n",
       "      <th></th>\n",
       "      <th></th>\n",
       "      <th></th>\n",
       "      <th></th>\n",
       "    </tr>\n",
       "  </thead>\n",
       "  <tbody>\n",
       "    <tr>\n",
       "      <th>1</th>\n",
       "      <td>NaN</td>\n",
       "      <td>15.500000</td>\n",
       "      <td>NaN</td>\n",
       "      <td>70.000000</td>\n",
       "    </tr>\n",
       "    <tr>\n",
       "      <th>2</th>\n",
       "      <td>17128.808571</td>\n",
       "      <td>21.571429</td>\n",
       "      <td>403.142857</td>\n",
       "      <td>70.000000</td>\n",
       "    </tr>\n",
       "    <tr>\n",
       "      <th>3</th>\n",
       "      <td>18321.518333</td>\n",
       "      <td>20.250000</td>\n",
       "      <td>304.250000</td>\n",
       "      <td>74.666667</td>\n",
       "    </tr>\n",
       "    <tr>\n",
       "      <th>4</th>\n",
       "      <td>16121.654762</td>\n",
       "      <td>22.047619</td>\n",
       "      <td>336.857143</td>\n",
       "      <td>73.000000</td>\n",
       "    </tr>\n",
       "    <tr>\n",
       "      <th>5</th>\n",
       "      <td>16624.482414</td>\n",
       "      <td>32.103448</td>\n",
       "      <td>406.241379</td>\n",
       "      <td>70.724138</td>\n",
       "    </tr>\n",
       "    <tr>\n",
       "      <th>6</th>\n",
       "      <td>15337.921064</td>\n",
       "      <td>29.340426</td>\n",
       "      <td>370.957447</td>\n",
       "      <td>71.638298</td>\n",
       "    </tr>\n",
       "    <tr>\n",
       "      <th>7</th>\n",
       "      <td>16344.744407</td>\n",
       "      <td>32.830508</td>\n",
       "      <td>427.067797</td>\n",
       "      <td>71.898305</td>\n",
       "    </tr>\n",
       "    <tr>\n",
       "      <th>8</th>\n",
       "      <td>17814.720141</td>\n",
       "      <td>38.478873</td>\n",
       "      <td>421.436620</td>\n",
       "      <td>72.859155</td>\n",
       "    </tr>\n",
       "    <tr>\n",
       "      <th>9</th>\n",
       "      <td>16969.869535</td>\n",
       "      <td>37.895349</td>\n",
       "      <td>437.511628</td>\n",
       "      <td>72.034884</td>\n",
       "    </tr>\n",
       "    <tr>\n",
       "      <th>10</th>\n",
       "      <td>17612.553396</td>\n",
       "      <td>39.443396</td>\n",
       "      <td>450.735849</td>\n",
       "      <td>72.311321</td>\n",
       "    </tr>\n",
       "    <tr>\n",
       "      <th>11</th>\n",
       "      <td>17033.685354</td>\n",
       "      <td>38.606299</td>\n",
       "      <td>445.196850</td>\n",
       "      <td>71.708661</td>\n",
       "    </tr>\n",
       "    <tr>\n",
       "      <th>12</th>\n",
       "      <td>18323.191854</td>\n",
       "      <td>45.006623</td>\n",
       "      <td>459.099338</td>\n",
       "      <td>73.291391</td>\n",
       "    </tr>\n",
       "  </tbody>\n",
       "</table>\n",
       "</div>"
      ],
      "text/plain": [
       "       mb_per_month   messages     minutes    revenue\n",
       "month                                                \n",
       "1               NaN  15.500000         NaN  70.000000\n",
       "2      17128.808571  21.571429  403.142857  70.000000\n",
       "3      18321.518333  20.250000  304.250000  74.666667\n",
       "4      16121.654762  22.047619  336.857143  73.000000\n",
       "5      16624.482414  32.103448  406.241379  70.724138\n",
       "6      15337.921064  29.340426  370.957447  71.638298\n",
       "7      16344.744407  32.830508  427.067797  71.898305\n",
       "8      17814.720141  38.478873  421.436620  72.859155\n",
       "9      16969.869535  37.895349  437.511628  72.034884\n",
       "10     17612.553396  39.443396  450.735849  72.311321\n",
       "11     17033.685354  38.606299  445.196850  71.708661\n",
       "12     18323.191854  45.006623  459.099338  73.291391"
      ]
     },
     "metadata": {},
     "output_type": "display_data"
    }
   ],
   "source": [
    "display('clean surf:',clean_surf,'clean ultimate:',clean_ultimate)"
   ]
  },
  {
   "cell_type": "markdown",
   "metadata": {},
   "source": [
    "Now we can visualize all the clean data with comparing histograms and bar charts"
   ]
  },
  {
   "cell_type": "code",
   "execution_count": 25,
   "metadata": {
    "scrolled": false
   },
   "outputs": [
    {
     "data": {
      "image/png": "[encoded data removed]"
     },
     "metadata": {},
     "output_type": "display_data"
    },
    {
     "data": {
      "image/png": "[encoded data removed]"
     },
     "metadata": {},
     "output_type": "display_data"
    },
    {
     "data": {
      "image/png": "[encoded data removed]"
     },
     "metadata": {},
     "output_type": "display_data"
    },
    {
     "data": {
      "image/png": "[encoded data removed]"
     },
     "metadata": {},
     "output_type": "display_data"
    },
    {
     "data": {
      "image/png": "[encoded data removed]"
     },
     "metadata": {},
     "output_type": "display_data"
    },
    {
     "data": {
      "image/png": "[encoded data removed]"
     },
     "metadata": {},
     "output_type": "display_data"
    },
    {
     "data": {
      "image/png": "[encoded data removed]"
     },
     "metadata": {},
     "output_type": "display_data"
    },
    {
     "data": {
      "image/png": "[encoded data removed]"
     },
     "metadata": {},
     "output_type": "display_data"
    }
   ],
   "source": [
    "#creat all the deeded graphs\n",
    "columns = ['minutes','messages','mb_per_month','revenue']\n",
    "for col_name in columns:\n",
    "    fig1 = go.Figure()\n",
    "    fig1.add_trace(go.Histogram(x=clean_surf[col_name], nbinsx = 6, name = 'Surf'))\n",
    "    fig1.add_trace(go.Histogram(x=clean_ultimate[col_name], name = 'Ultimate'))\n",
    "\n",
    "    # Overlay both histograms\n",
    "    fig1.update_layout(barmode='overlay', xaxis_title = col_name, yaxis_title = 'counts',\n",
    "                       title={'text': 'Compared distribution','y':0.85, 'x':0.45, 'xanchor': 'center'},\n",
    "                       width = 500, height = 400)\n",
    "    # Reduce opacity to see both histograms\n",
    "    fig1.update_traces(opacity=0.75)\n",
    "    \n",
    "    fig2 = go.Figure()\n",
    "    fig2.add_trace(go.Bar(x=clean_surf.index, y = clean_surf[col_name],  name = 'Surf'))\n",
    "    fig2.add_trace(go.Bar(x=clean_ultimate.index, y = clean_ultimate[col_name], name = 'Ultimate'))\n",
    "\n",
    "    # Overlay both bar charts\n",
    "    fig2.update_layout(barmode='group', xaxis_title = 'month', yaxis_title = col_name,\n",
    "                       xaxis = dict(dtick = 1),\n",
    "                       title={'text': 'Compared require per month','y':0.85, 'x':0.45, 'xanchor': 'center'},\n",
    "                       width = 500, height = 400)\n",
    "    # Reduce opacity to see both bars\n",
    "    fig2.update_traces(opacity=0.75)\n",
    "    \n",
    "    fig1.show(\"png\")\n",
    "    fig2.show(\"png\")"
   ]
  },
  {
   "cell_type": "markdown",
   "metadata": {},
   "source": [
    "It seems that in both plans, an avarage customer in an avarage month is calling for about 400-450 minutes, sending 20-40 texts and using 15-17k of mb (14.5-16.5 gb). In most of the parameters we see growth in the 'surf' taarif, and more slight in the 'ultimate' maybe it depends on the amoount on customers in each plan in each month."
   ]
  },
  {
   "cell_type": "markdown",
   "metadata": {},
   "source": [
    "## 4. Statistical Data Analysis\n",
    "<a class=\"anchor\" id=\"chapter4\"></a>"
   ]
  },
  {
   "cell_type": "markdown",
   "metadata": {},
   "source": [
    "We want to test two hypothesis:\n",
    "- The average revenue from users of Ultimate and Surf calling plans differs.\n",
    "- The average revenue from users in NY-NJ area is different from that of the users from other regions."
   ]
  },
  {
   "cell_type": "markdown",
   "metadata": {},
   "source": [
    "For te first hypothesis we'll define the null hypothesis and the alternative hepothesis as follow:\n",
    "- H_0 = mean(Ultimate_revenue) is equal to mean(Surf_revenue)  \n",
    "- H_a = mean(Ultimate_revenue) is **not** equal to mean(Surf_revenue)  \n",
    "\n",
    "First we will check if our distribution is normal with Shapiro-Wilk test for normality and than we'll decide which test to choose. The hypothesis for the Shapiro-Wilk are as follow:\n",
    "- H_0 = the data has a normal distribution\n",
    "- H_a = the data doesn't have a normal distribution"
   ]
  },
  {
   "cell_type": "code",
   "execution_count": 26,
   "metadata": {},
   "outputs": [
    {
     "data": {
      "text/plain": [
       "ShapiroResult(statistic=0.9433496594429016, pvalue=0.5426446199417114)"
      ]
     },
     "metadata": {},
     "output_type": "display_data"
    },
    {
     "data": {
      "text/plain": [
       "ShapiroResult(statistic=0.9618239998817444, pvalue=0.8095207810401917)"
      ]
     },
     "metadata": {},
     "output_type": "display_data"
    }
   ],
   "source": [
    "#check if the distribution is normal\n",
    "display(st.shapiro(clean_surf['revenue']), st.shapiro(clean_ultimate['revenue']))"
   ]
  },
  {
   "cell_type": "markdown",
   "metadata": {},
   "source": [
    "The p-value is grater than 0.05 which means that the assumption of **normality was not rejected**, so we will choose the t-test! Now we'll check the varience values for both plans to know how to declare equal_var. The equality will be tested with Levene’s test. The hypothesis for this test are as follow:\n",
    "- H_0 = the variance values of the two datasets are equal.\n",
    "- H_a = the variance values of the two datasets are not equal."
   ]
  },
  {
   "cell_type": "code",
   "execution_count": 27,
   "metadata": {},
   "outputs": [
    {
     "data": {
      "text/plain": [
       "LeveneResult(statistic=20.80436443418562, pvalue=0.0001531925821834029)"
      ]
     },
     "execution_count": 27,
     "metadata": {},
     "output_type": "execute_result"
    }
   ],
   "source": [
    "#check if the variance values are equal\n",
    "st.levene(clean_surf['revenue'], clean_ultimate['revenue'], center='mean')"
   ]
  },
  {
   "cell_type": "markdown",
   "metadata": {},
   "source": [
    "The p-values for this test is less than 0.05 thus we reject the null hypothesis and we consider the variance values as not equal."
   ]
  },
  {
   "cell_type": "code",
   "execution_count": 28,
   "metadata": {},
   "outputs": [
    {
     "name": "stdout",
     "output_type": "stream",
     "text": [
      "p-value:  0.0004970238953490146\n",
      "We reject the null hypothesis\n"
     ]
    }
   ],
   "source": [
    "alpha = 0.05 # critical statistical significance level\n",
    "#check if the means of the groups are equal\n",
    "results = st.ttest_ind(clean_surf['revenue'], clean_ultimate['revenue'], equal_var =False)\n",
    "\n",
    "print('p-value: ', results.pvalue)\n",
    "\n",
    "if results.pvalue < alpha:\n",
    "    print(\"We reject the null hypothesis\")\n",
    "else:\n",
    "    print(\"We can't reject the null hypothesis\") "
   ]
  },
  {
   "cell_type": "markdown",
   "metadata": {},
   "source": [
    "The null hypothesis was rejected, therefore, we can conclude that the average revenue from users of Ultimate and Surf calling plans differs. We talked about the avarage revenue of an avarage customer. Let's see a boxplot that compares the means (which we clearly see that are differ from each other) and the plans' **total revenue**"
   ]
  },
  {
   "cell_type": "code",
   "execution_count": 29,
   "metadata": {},
   "outputs": [
    {
     "data": {
      "image/png": "[encoded data removed]"
     },
     "metadata": {},
     "output_type": "display_data"
    },
    {
     "data": {
      "image/png": "[encoded data removed]"
     },
     "metadata": {},
     "output_type": "display_data"
    }
   ],
   "source": [
    "#creat the neede graphs\n",
    "fig = go.Figure()\n",
    "fig.add_trace(go.Box(y=clean_surf['revenue'], name = 'Surf'))\n",
    "fig.add_trace(go.Box(y=clean_ultimate['revenue'], name = 'Ultimate'))\n",
    "fig.update_layout(xaxis_title = 'plan', yaxis_title = 'revenue ($)',\n",
    "                  title={'text': 'Compared mean revenue per plan','y':0.85, 'x':0.45,'xanchor': 'center'}\n",
    "                  , width = 500, height = 400)\n",
    "fig.show(\"png\")\n",
    "\n",
    "#creat a pivot table grouped by plan and months - *totals*\n",
    "total_per_month = (\n",
    "    user_summary\n",
    "    .pivot_table(index = ['plan','month'], values = ['minutes','messages','mb_per_month','revenue'], aggfunc = 'sum').reset_index())\n",
    "\n",
    "fig2 = go.Figure()\n",
    "fig2.add_trace(go.Bar(x =total_per_month.query('plan == \"surf\"')['month'],\n",
    "                     y = total_per_month.query('plan == \"surf\"')['revenue'],  name = 'Surf'))\n",
    "fig2.add_trace(go.Bar(x =total_per_month.query('plan == \"ultimate\"')['month'],\n",
    "                     y = total_per_month.query('plan == \"ultimate\"')['revenue'], name = 'Ultimate'))\n",
    "# Overlay both bar charts\n",
    "fig2.update_layout(barmode='group', xaxis_title = 'month', yaxis_title = 'total revenue ($)',\n",
    "                       xaxis = dict(dtick = 1),\n",
    "                       title={'text': 'Compared total revenue per month','y':0.85, 'x':0.45, 'xanchor': 'center'},\n",
    "                       width = 500, height = 400)\n",
    "\n",
    "fig2.show(\"png\")"
   ]
  },
  {
   "cell_type": "markdown",
   "metadata": {},
   "source": [
    "We can see that maybe an avarage revenue from a customer in the 'Ultimate' taarif is higher than in 'Surf' but when we look at the totals, the customers of the 'Surf' plan are bringing more profit! Probably more people are signed to 'Surf'"
   ]
  },
  {
   "cell_type": "markdown",
   "metadata": {},
   "source": [
    "For te second hypothesis we'll define the null hypothesis as follow:\n",
    "- H0 = mean(NY-NJ_revenue) is equal to mean(Other_revenue)\n",
    "- H_a = mean(NY-NJ_revenue) is **not** equal to mean(Other_revenue) \n",
    "\n",
    "First we will check if our distribution is normal with Shapiro-Wilk test as we explained before."
   ]
  },
  {
   "cell_type": "code",
   "execution_count": 30,
   "metadata": {},
   "outputs": [],
   "source": [
    "#save the user ids of the people from NY-NJ\n",
    "users_ny_nj = df_users[df_users.city.str.contains('NY-NJ')][['user_id','city']]\n",
    "users_ny_nj['city'] = 'NY-NJ'\n",
    "\n",
    "#add a column to the user summary table that indicates the city\n",
    "user_summary_NY_others = user_summary.merge(users_ny_nj, on = 'user_id', how = 'left').fillna('Other')\n",
    "NY_NJ_revenue = user_summary_NY_others.query('city == \"NY-NJ\"')['revenue']\n",
    "others_revenue = user_summary_NY_others.query('city == \"Other\"')['revenue']"
   ]
  },
  {
   "cell_type": "code",
   "execution_count": 31,
   "metadata": {},
   "outputs": [
    {
     "data": {
      "text/plain": [
       "ShapiroResult(statistic=0.8283720016479492, pvalue=9.160762912674237e-20)"
      ]
     },
     "metadata": {},
     "output_type": "display_data"
    },
    {
     "data": {
      "text/plain": [
       "ShapiroResult(statistic=0.7427323460578918, pvalue=0.0)"
      ]
     },
     "metadata": {},
     "output_type": "display_data"
    }
   ],
   "source": [
    "#check if the distribution is normal\n",
    "display(st.shapiro(NY_NJ_revenue), st.shapiro(others_revenue))"
   ]
  },
  {
   "cell_type": "markdown",
   "metadata": {},
   "source": [
    "The p-value is much less than 0.05 which means that the assumption of **normality *was* rejected**, so we will choose the Mann-Whitney U test that doesn't require a normal distribution."
   ]
  },
  {
   "cell_type": "code",
   "execution_count": 32,
   "metadata": {},
   "outputs": [
    {
     "name": "stdout",
     "output_type": "stream",
     "text": [
      "p-value:  0.0019638157250138114\n",
      "We reject the null hypothesis\n"
     ]
    }
   ],
   "source": [
    "alpha = 0.05 # critical statistical significance level\n",
    "#check if the means of the groups are equal\n",
    "results = st.mannwhitneyu(NY_NJ_revenue, others_revenue)\n",
    "\n",
    "print('p-value: ', results.pvalue)\n",
    "\n",
    "if results.pvalue < alpha:\n",
    "    print(\"We reject the null hypothesis\")\n",
    "else:\n",
    "    print(\"We can't reject the null hypothesis\") \n",
    "    "
   ]
  },
  {
   "cell_type": "code",
   "execution_count": 33,
   "metadata": {},
   "outputs": [
    {
     "data": {
      "image/png": "[encoded data removed]"
     },
     "metadata": {},
     "output_type": "display_data"
    },
    {
     "data": {
      "image/png": "[encoded data removed]"
     },
     "metadata": {},
     "output_type": "display_data"
    }
   ],
   "source": [
    "#creat the neede graphs\n",
    "fig = go.Figure()\n",
    "fig.add_trace(go.Box(y = NY_NJ_revenue, name = 'NY_NJ'))\n",
    "fig.add_trace(go.Box(y = others_revenue, name = 'Other'))\n",
    "fig.update_layout(xaxis_title = 'City', yaxis_title = 'revenue ($)',\n",
    "                  title={'text': 'Compared mean revenue by city','y':0.9, 'x':0.45,'xanchor': 'center'}\n",
    "                  , width = 800, height = 600)\n",
    "fig.show(\"png\")\n",
    "\n",
    "#creat a pivot table grouped by city and months - *totals*\n",
    "mean_city_per_month = (\n",
    "    user_summary_NY_others\n",
    "    .pivot_table(index = ['city','month'], values = ['minutes','messages','mb_per_month','revenue']).reset_index())\n",
    "\n",
    "fig2 = go.Figure()\n",
    "fig2.add_trace(go.Bar(x =mean_city_per_month.query('city == \"NY-NJ\"')['month'],\n",
    "                     y = mean_city_per_month.query('city == \"NY-NJ\"')['revenue'],  name = 'NY-NJ'))\n",
    "fig2.add_trace(go.Bar(x =mean_city_per_month.query('city == \"Other\"')['month'],\n",
    "                     y = mean_city_per_month.query('city == \"Other\"')['revenue'], name = 'Other'))\n",
    "# Overlay both bar charts\n",
    "fig2.update_layout(barmode='group', xaxis_title = 'month', yaxis_title = 'mean revenue ($)',\n",
    "                       xaxis = dict(dtick = 1),\n",
    "                       title={'text': 'Compared mean revenue per month','y':0.85, 'x':0.45, 'xanchor': 'center'},\n",
    "                       width = 500, height = 400)\n",
    "\n",
    "fig2.show(\"png\")"
   ]
  },
  {
   "cell_type": "markdown",
   "metadata": {},
   "source": [
    "The null hypothesis was rejected, therefore, we can conclude that the average revenue from users in NY-NJ area is different from that of the users from other regions! We checked it and found that the mean revenue from people in NY-NJ is lower than in other cities! Intersting why? We should investigate their behviour in the future"
   ]
  },
  {
   "cell_type": "markdown",
   "metadata": {},
   "source": [
    "## 5. Overall conclusion\n",
    "<a class=\"anchor\" id=\"chapter5\"></a>"
   ]
  },
  {
   "cell_type": "markdown",
   "metadata": {},
   "source": [
    "In this study, we analayzed collected data about the usage of 500 clients of Mgaline. The aim of this research was to test which of the two plans that we offer is more profitable for the company.\n",
    "\n",
    "The quality of the data was good enough for our research. We found one column with missing values, the `churn_date` column but it has a meaning - the missing values were for users that are still using our services when this data was gathered. We also found out that 20% of the calls are of 0 duration, it makes sense that 1 of 5 calls is not answerd but we also found that 1 out of 8 internet session (~13%) is saved as 0 MB. We need to figure out why exactly we recieve these numbers, if it caused by our infrastructures we should think how to improve it.\n",
    "\n",
    "It seems that in both plans, an avarage customer in an avarage month is calling for about 400-450 minutes, sending 20-40 texts and using 15-17k of mb (14.5-16.5 gb). So in most of the parameters the 'Surf' taarif is enough, but still there are people that exceeds the limitations and pay a little more. It's much more common to pay extra fee in the 'Surf' taarif than in the 'Ultimate' and that's why an avarage customer of the 'Ultimate' plan is more profitable but in totals the 'Surf' plan brings more money to the company.  \n",
    "People preffer to pay less so it seems that the 'Surf' plan will be popular even without massive advertising and we should keep the limits unchanged beacuse it is easy to exceed those limits and pay the extra fee which bring us more revenue.\n",
    "The usage of an avarage customer is pretty much the same on both plans and probably won't exceed the 'Ultimate' limits, so the profit per customer in this plan is higher and we want more people to join this plan.  \n",
    "In addition, we found out that the revenue of people from NY-NJ differ from people in other places, and it is lower then other cities, so it will be better to investigate why."
   ]
  }
 ],
 "metadata": {
  "ExecuteTimeLog": [
   {
    "duration": 25231,
    "start_time": "2021-07-05T15:57:49.899Z"
   },
   {
    "duration": 24,
    "start_time": "2021-07-05T15:58:15.133Z"
   },
   {
    "duration": 219,
    "start_time": "2021-07-05T15:58:15.160Z"
   },
   {
    "duration": 14,
    "start_time": "2021-07-05T15:58:15.386Z"
   },
   {
    "duration": 18,
    "start_time": "2021-07-05T15:58:15.403Z"
   },
   {
    "duration": 32,
    "start_time": "2021-07-05T15:58:15.423Z"
   },
   {
    "duration": 15,
    "start_time": "2021-07-05T15:58:15.486Z"
   },
   {
    "duration": 280,
    "start_time": "2021-07-05T15:58:15.505Z"
   },
   {
    "duration": 67,
    "start_time": "2021-07-05T15:58:15.789Z"
   },
   {
    "duration": 9,
    "start_time": "2021-07-05T15:58:15.858Z"
   },
   {
    "duration": 46,
    "start_time": "2021-07-05T15:58:15.886Z"
   },
   {
    "duration": 59,
    "start_time": "2021-07-05T15:58:15.935Z"
   },
   {
    "duration": 48,
    "start_time": "2021-07-05T15:58:15.996Z"
   },
   {
    "duration": 74,
    "start_time": "2021-07-05T15:58:16.046Z"
   },
   {
    "duration": 75,
    "start_time": "2021-07-05T15:58:16.123Z"
   },
   {
    "duration": 19,
    "start_time": "2021-07-05T15:58:16.201Z"
   },
   {
    "duration": 30,
    "start_time": "2021-07-05T15:58:16.222Z"
   },
   {
    "duration": 14772,
    "start_time": "2021-07-05T15:58:16.255Z"
   },
   {
    "duration": 29,
    "start_time": "2021-07-05T15:58:31.029Z"
   },
   {
    "duration": 60,
    "start_time": "2021-07-05T15:58:31.061Z"
   },
   {
    "duration": 69,
    "start_time": "2021-07-05T15:58:31.124Z"
   },
   {
    "duration": 57,
    "start_time": "2021-07-05T15:58:31.195Z"
   },
   {
    "duration": 52,
    "start_time": "2021-07-05T15:58:31.256Z"
   },
   {
    "duration": 591,
    "start_time": "2021-07-05T15:58:31.311Z"
   },
   {
    "duration": 10,
    "start_time": "2021-07-05T15:58:31.905Z"
   },
   {
    "duration": 128,
    "start_time": "2021-07-05T15:58:31.918Z"
   },
   {
    "duration": 28,
    "start_time": "2021-07-05T15:58:32.087Z"
   },
   {
    "duration": 29879,
    "start_time": "2021-07-06T11:07:17.652Z"
   },
   {
    "duration": 25,
    "start_time": "2021-07-06T11:07:47.534Z"
   },
   {
    "duration": 211,
    "start_time": "2021-07-06T11:07:47.562Z"
   },
   {
    "duration": 16,
    "start_time": "2021-07-06T11:07:47.784Z"
   },
   {
    "duration": 21,
    "start_time": "2021-07-06T11:07:47.803Z"
   },
   {
    "duration": 69,
    "start_time": "2021-07-06T11:07:47.827Z"
   },
   {
    "duration": 15,
    "start_time": "2021-07-06T11:07:47.899Z"
   },
   {
    "duration": 291,
    "start_time": "2021-07-06T11:07:47.918Z"
   },
   {
    "duration": 74,
    "start_time": "2021-07-06T11:07:48.212Z"
   },
   {
    "duration": 12,
    "start_time": "2021-07-06T11:07:48.288Z"
   },
   {
    "duration": 48,
    "start_time": "2021-07-06T11:07:48.303Z"
   },
   {
    "duration": 59,
    "start_time": "2021-07-06T11:07:48.353Z"
   },
   {
    "duration": 43,
    "start_time": "2021-07-06T11:07:48.415Z"
   },
   {
    "duration": 70,
    "start_time": "2021-07-06T11:07:48.461Z"
   },
   {
    "duration": 83,
    "start_time": "2021-07-06T11:07:48.533Z"
   },
   {
    "duration": 19,
    "start_time": "2021-07-06T11:07:48.618Z"
   },
   {
    "duration": 56,
    "start_time": "2021-07-06T11:07:48.639Z"
   },
   {
    "duration": 15016,
    "start_time": "2021-07-06T11:07:48.698Z"
   },
   {
    "duration": 28,
    "start_time": "2021-07-06T11:08:03.716Z"
   },
   {
    "duration": 61,
    "start_time": "2021-07-06T11:08:03.747Z"
   },
   {
    "duration": 35,
    "start_time": "2021-07-06T11:08:03.810Z"
   },
   {
    "duration": 91,
    "start_time": "2021-07-06T11:08:03.847Z"
   },
   {
    "duration": 53,
    "start_time": "2021-07-06T11:08:03.944Z"
   },
   {
    "duration": 907,
    "start_time": "2021-07-06T11:08:04.003Z"
   },
   {
    "duration": 8,
    "start_time": "2021-07-06T11:08:04.912Z"
   },
   {
    "duration": 964,
    "start_time": "2021-07-06T11:08:04.923Z"
   },
   {
    "duration": 125,
    "start_time": "2021-07-06T11:08:05.889Z"
   },
   {
    "duration": 17,
    "start_time": "2021-07-06T11:18:39.742Z"
   },
   {
    "duration": 184,
    "start_time": "2021-07-06T15:30:04.208Z"
   },
   {
    "duration": 6281,
    "start_time": "2021-07-06T15:30:12.168Z"
   },
   {
    "duration": 25,
    "start_time": "2021-07-06T15:30:18.452Z"
   },
   {
    "duration": 268,
    "start_time": "2021-07-06T15:30:18.480Z"
   },
   {
    "duration": 35,
    "start_time": "2021-07-06T15:30:18.752Z"
   },
   {
    "duration": 21,
    "start_time": "2021-07-06T15:30:18.790Z"
   },
   {
    "duration": 9,
    "start_time": "2021-07-06T15:30:18.813Z"
   },
   {
    "duration": 89,
    "start_time": "2021-07-06T15:30:18.824Z"
   },
   {
    "duration": 14,
    "start_time": "2021-07-06T15:30:18.917Z"
   },
   {
    "duration": 375,
    "start_time": "2021-07-06T15:30:18.936Z"
   },
   {
    "duration": 99,
    "start_time": "2021-07-06T15:30:19.313Z"
   },
   {
    "duration": 11,
    "start_time": "2021-07-06T15:30:19.416Z"
   },
   {
    "duration": 68,
    "start_time": "2021-07-06T15:30:19.430Z"
   },
   {
    "duration": 62,
    "start_time": "2021-07-06T15:30:19.500Z"
   },
   {
    "duration": 69,
    "start_time": "2021-07-06T15:30:19.565Z"
   },
   {
    "duration": 88,
    "start_time": "2021-07-06T15:30:19.637Z"
   },
   {
    "duration": 23,
    "start_time": "2021-07-06T15:30:19.727Z"
   },
   {
    "duration": 69,
    "start_time": "2021-07-06T15:30:19.752Z"
   },
   {
    "duration": 16240,
    "start_time": "2021-07-06T15:30:19.823Z"
   },
   {
    "duration": 29,
    "start_time": "2021-07-06T15:30:36.067Z"
   },
   {
    "duration": 39,
    "start_time": "2021-07-06T15:30:36.098Z"
   },
   {
    "duration": 81,
    "start_time": "2021-07-06T15:30:36.140Z"
   },
   {
    "duration": 66,
    "start_time": "2021-07-06T15:30:36.224Z"
   },
   {
    "duration": 95,
    "start_time": "2021-07-06T15:30:36.295Z"
   },
   {
    "duration": 31,
    "start_time": "2021-07-06T15:30:36.393Z"
   },
   {
    "duration": 670,
    "start_time": "2021-07-06T15:30:36.426Z"
   },
   {
    "duration": 10,
    "start_time": "2021-07-06T15:30:37.099Z"
   },
   {
    "duration": 9,
    "start_time": "2021-07-06T15:30:37.112Z"
   },
   {
    "duration": 63,
    "start_time": "2021-07-06T15:30:37.123Z"
   },
   {
    "duration": 134,
    "start_time": "2021-07-06T15:30:37.188Z"
   },
   {
    "duration": 28,
    "start_time": "2021-07-06T15:30:37.326Z"
   },
   {
    "duration": 29,
    "start_time": "2021-07-06T15:30:37.356Z"
   },
   {
    "duration": 8,
    "start_time": "2021-07-06T15:30:37.388Z"
   },
   {
    "duration": 138,
    "start_time": "2021-07-06T15:30:37.399Z"
   }
  ],
  "kernelspec": {
   "display_name": "Python 3",
   "language": "python",
   "name": "python3"
  },
  "language_info": {
   "codemirror_mode": {
    "name": "ipython",
    "version": 3
   },
   "file_extension": ".py",
   "mimetype": "text/x-python",
   "name": "python",
   "nbconvert_exporter": "python",
   "pygments_lexer": "ipython3",
   "version": "3.8.5"
  },
  "toc": {
   "base_numbering": 1,
   "nav_menu": {},
   "number_sections": true,
   "sideBar": true,
   "skip_h1_title": true,
   "title_cell": "Table of Contents",
   "title_sidebar": "Contents",
   "toc_cell": false,
   "toc_position": {},
   "toc_section_display": true,
   "toc_window_display": false
  }
 },
 "nbformat": 4,
 "nbformat_minor": 4
}
