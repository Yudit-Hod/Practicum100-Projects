{
 "cells": [
  {
   "cell_type": "markdown",
   "metadata": {},
   "source": [
    "# Research on car sales ads\n",
    "\n",
    "We are analysts at Crankshaft List. Hundreds of free advertisements for vehicles are published on our site every day.\n",
    "\n",
    "We studied the data collected over the last few years and try to determine which factors influence the price of a vehicle.\n",
    "\n",
    "We will deal with missing values, change data types and use some graphs for more valuable conclusions.\n",
    "\n",
    "**Project Steps** <a class=\"anchor\" id=\"table_of_contents\"></a>  \n",
    "[Data file and general info](#chapter1)  \n",
    "[Data preprocessing](#chapter2)  \n",
    "[Calculations](#chapter3)  \n",
    "[Exploratory data analysis](#chapter4)  \n",
    "[Overall conclusion](#chapter5)  "
   ]
  },
  {
   "cell_type": "markdown",
   "metadata": {},
   "source": [
    "## Data file and general info \n",
    "<a class=\"anchor\" id=\"chapter1\"></a>"
   ]
  },
  {
   "cell_type": "code",
   "execution_count": 1,
   "metadata": {},
   "outputs": [
    {
     "name": "stdout",
     "output_type": "stream",
     "text": [
      "<class 'pandas.core.frame.DataFrame'>\n",
      "RangeIndex: 51525 entries, 0 to 51524\n",
      "Data columns (total 13 columns):\n",
      "price           51525 non-null int64\n",
      "model_year      47906 non-null float64\n",
      "model           51525 non-null object\n",
      "condition       51525 non-null object\n",
      "cylinders       46265 non-null float64\n",
      "fuel            51525 non-null object\n",
      "odometer        43633 non-null float64\n",
      "transmission    51525 non-null object\n",
      "type            51525 non-null object\n",
      "paint_color     42258 non-null object\n",
      "is_4wd          25572 non-null float64\n",
      "date_posted     51525 non-null object\n",
      "days_listed     51525 non-null int64\n",
      "dtypes: float64(4), int64(2), object(7)\n",
      "memory usage: 5.1+ MB\n"
     ]
    },
    {
     "data": {
      "text/plain": [
       "None"
      ]
     },
     "metadata": {},
     "output_type": "display_data"
    },
    {
     "data": {
      "text/html": [
       "<div>\n",
       "<style scoped>\n",
       "    .dataframe tbody tr th:only-of-type {\n",
       "        vertical-align: middle;\n",
       "    }\n",
       "\n",
       "    .dataframe tbody tr th {\n",
       "        vertical-align: top;\n",
       "    }\n",
       "\n",
       "    .dataframe thead th {\n",
       "        text-align: right;\n",
       "    }\n",
       "</style>\n",
       "<table border=\"1\" class=\"dataframe\">\n",
       "  <thead>\n",
       "    <tr style=\"text-align: right;\">\n",
       "      <th></th>\n",
       "      <th>price</th>\n",
       "      <th>model_year</th>\n",
       "      <th>model</th>\n",
       "      <th>condition</th>\n",
       "      <th>cylinders</th>\n",
       "      <th>fuel</th>\n",
       "      <th>odometer</th>\n",
       "      <th>transmission</th>\n",
       "      <th>type</th>\n",
       "      <th>paint_color</th>\n",
       "      <th>is_4wd</th>\n",
       "      <th>date_posted</th>\n",
       "      <th>days_listed</th>\n",
       "    </tr>\n",
       "  </thead>\n",
       "  <tbody>\n",
       "    <tr>\n",
       "      <td>0</td>\n",
       "      <td>9400</td>\n",
       "      <td>2011.0</td>\n",
       "      <td>bmw x5</td>\n",
       "      <td>good</td>\n",
       "      <td>6.0</td>\n",
       "      <td>gas</td>\n",
       "      <td>145000.0</td>\n",
       "      <td>automatic</td>\n",
       "      <td>SUV</td>\n",
       "      <td>NaN</td>\n",
       "      <td>1.0</td>\n",
       "      <td>2018-06-23</td>\n",
       "      <td>19</td>\n",
       "    </tr>\n",
       "    <tr>\n",
       "      <td>1</td>\n",
       "      <td>25500</td>\n",
       "      <td>NaN</td>\n",
       "      <td>ford f-150</td>\n",
       "      <td>good</td>\n",
       "      <td>6.0</td>\n",
       "      <td>gas</td>\n",
       "      <td>88705.0</td>\n",
       "      <td>automatic</td>\n",
       "      <td>pickup</td>\n",
       "      <td>white</td>\n",
       "      <td>1.0</td>\n",
       "      <td>2018-10-19</td>\n",
       "      <td>50</td>\n",
       "    </tr>\n",
       "    <tr>\n",
       "      <td>2</td>\n",
       "      <td>5500</td>\n",
       "      <td>2013.0</td>\n",
       "      <td>hyundai sonata</td>\n",
       "      <td>like new</td>\n",
       "      <td>4.0</td>\n",
       "      <td>gas</td>\n",
       "      <td>110000.0</td>\n",
       "      <td>automatic</td>\n",
       "      <td>sedan</td>\n",
       "      <td>red</td>\n",
       "      <td>NaN</td>\n",
       "      <td>2019-02-07</td>\n",
       "      <td>79</td>\n",
       "    </tr>\n",
       "    <tr>\n",
       "      <td>3</td>\n",
       "      <td>1500</td>\n",
       "      <td>2003.0</td>\n",
       "      <td>ford f-150</td>\n",
       "      <td>fair</td>\n",
       "      <td>8.0</td>\n",
       "      <td>gas</td>\n",
       "      <td>NaN</td>\n",
       "      <td>automatic</td>\n",
       "      <td>pickup</td>\n",
       "      <td>NaN</td>\n",
       "      <td>NaN</td>\n",
       "      <td>2019-03-22</td>\n",
       "      <td>9</td>\n",
       "    </tr>\n",
       "    <tr>\n",
       "      <td>4</td>\n",
       "      <td>14900</td>\n",
       "      <td>2017.0</td>\n",
       "      <td>chrysler 200</td>\n",
       "      <td>excellent</td>\n",
       "      <td>4.0</td>\n",
       "      <td>gas</td>\n",
       "      <td>80903.0</td>\n",
       "      <td>automatic</td>\n",
       "      <td>sedan</td>\n",
       "      <td>black</td>\n",
       "      <td>NaN</td>\n",
       "      <td>2019-04-02</td>\n",
       "      <td>28</td>\n",
       "    </tr>\n",
       "    <tr>\n",
       "      <td>5</td>\n",
       "      <td>14990</td>\n",
       "      <td>2014.0</td>\n",
       "      <td>chrysler 300</td>\n",
       "      <td>excellent</td>\n",
       "      <td>6.0</td>\n",
       "      <td>gas</td>\n",
       "      <td>57954.0</td>\n",
       "      <td>automatic</td>\n",
       "      <td>sedan</td>\n",
       "      <td>black</td>\n",
       "      <td>1.0</td>\n",
       "      <td>2018-06-20</td>\n",
       "      <td>15</td>\n",
       "    </tr>\n",
       "    <tr>\n",
       "      <td>6</td>\n",
       "      <td>12990</td>\n",
       "      <td>2015.0</td>\n",
       "      <td>toyota camry</td>\n",
       "      <td>excellent</td>\n",
       "      <td>4.0</td>\n",
       "      <td>gas</td>\n",
       "      <td>79212.0</td>\n",
       "      <td>automatic</td>\n",
       "      <td>sedan</td>\n",
       "      <td>white</td>\n",
       "      <td>NaN</td>\n",
       "      <td>2018-12-27</td>\n",
       "      <td>73</td>\n",
       "    </tr>\n",
       "    <tr>\n",
       "      <td>7</td>\n",
       "      <td>15990</td>\n",
       "      <td>2013.0</td>\n",
       "      <td>honda pilot</td>\n",
       "      <td>excellent</td>\n",
       "      <td>6.0</td>\n",
       "      <td>gas</td>\n",
       "      <td>109473.0</td>\n",
       "      <td>automatic</td>\n",
       "      <td>SUV</td>\n",
       "      <td>black</td>\n",
       "      <td>1.0</td>\n",
       "      <td>2019-01-07</td>\n",
       "      <td>68</td>\n",
       "    </tr>\n",
       "    <tr>\n",
       "      <td>8</td>\n",
       "      <td>11500</td>\n",
       "      <td>2012.0</td>\n",
       "      <td>kia sorento</td>\n",
       "      <td>excellent</td>\n",
       "      <td>4.0</td>\n",
       "      <td>gas</td>\n",
       "      <td>104174.0</td>\n",
       "      <td>automatic</td>\n",
       "      <td>SUV</td>\n",
       "      <td>NaN</td>\n",
       "      <td>1.0</td>\n",
       "      <td>2018-07-16</td>\n",
       "      <td>19</td>\n",
       "    </tr>\n",
       "    <tr>\n",
       "      <td>9</td>\n",
       "      <td>9200</td>\n",
       "      <td>2008.0</td>\n",
       "      <td>honda pilot</td>\n",
       "      <td>excellent</td>\n",
       "      <td>NaN</td>\n",
       "      <td>gas</td>\n",
       "      <td>147191.0</td>\n",
       "      <td>automatic</td>\n",
       "      <td>SUV</td>\n",
       "      <td>blue</td>\n",
       "      <td>1.0</td>\n",
       "      <td>2019-02-15</td>\n",
       "      <td>17</td>\n",
       "    </tr>\n",
       "  </tbody>\n",
       "</table>\n",
       "</div>"
      ],
      "text/plain": [
       "   price  model_year           model  condition  cylinders fuel  odometer  \\\n",
       "0   9400      2011.0          bmw x5       good        6.0  gas  145000.0   \n",
       "1  25500         NaN      ford f-150       good        6.0  gas   88705.0   \n",
       "2   5500      2013.0  hyundai sonata   like new        4.0  gas  110000.0   \n",
       "3   1500      2003.0      ford f-150       fair        8.0  gas       NaN   \n",
       "4  14900      2017.0    chrysler 200  excellent        4.0  gas   80903.0   \n",
       "5  14990      2014.0    chrysler 300  excellent        6.0  gas   57954.0   \n",
       "6  12990      2015.0    toyota camry  excellent        4.0  gas   79212.0   \n",
       "7  15990      2013.0     honda pilot  excellent        6.0  gas  109473.0   \n",
       "8  11500      2012.0     kia sorento  excellent        4.0  gas  104174.0   \n",
       "9   9200      2008.0     honda pilot  excellent        NaN  gas  147191.0   \n",
       "\n",
       "  transmission    type paint_color  is_4wd date_posted  days_listed  \n",
       "0    automatic     SUV         NaN     1.0  2018-06-23           19  \n",
       "1    automatic  pickup       white     1.0  2018-10-19           50  \n",
       "2    automatic   sedan         red     NaN  2019-02-07           79  \n",
       "3    automatic  pickup         NaN     NaN  2019-03-22            9  \n",
       "4    automatic   sedan       black     NaN  2019-04-02           28  \n",
       "5    automatic   sedan       black     1.0  2018-06-20           15  \n",
       "6    automatic   sedan       white     NaN  2018-12-27           73  \n",
       "7    automatic     SUV       black     1.0  2019-01-07           68  \n",
       "8    automatic     SUV         NaN     1.0  2018-07-16           19  \n",
       "9    automatic     SUV        blue     1.0  2019-02-15           17  "
      ]
     },
     "metadata": {},
     "output_type": "display_data"
    },
    {
     "data": {
      "text/plain": [
       "price            0.000000\n",
       "model_year       7.023775\n",
       "model            0.000000\n",
       "condition        0.000000\n",
       "cylinders       10.208637\n",
       "fuel             0.000000\n",
       "odometer        15.316836\n",
       "transmission     0.000000\n",
       "type             0.000000\n",
       "paint_color     17.985444\n",
       "is_4wd          50.369723\n",
       "date_posted      0.000000\n",
       "days_listed      0.000000\n",
       "dtype: float64"
      ]
     },
     "metadata": {},
     "output_type": "display_data"
    }
   ],
   "source": [
    "import pandas as pd\n",
    "import matplotlib.pyplot as plt\n",
    "import datetime as dt\n",
    "import numpy as np\n",
    "\n",
    "#open the data file\n",
    "try:\n",
    "    data = pd.read_csv('vehicles_us.csv')\n",
    "except:\n",
    "    data = pd.read_csv('/datasets/vehicles_us.csv')\n",
    "\n",
    "#show general information\n",
    "display(data.info(),data.head(10),data.isna().mean() * 100 )"
   ]
  },
  {
   "cell_type": "markdown",
   "metadata": {},
   "source": [
    "The missing values are shown as a percentage of the data. The largest amount of missing values is in `is_4wd` followed by `paint_color`, then `odometer`, then `cylinders` and at last `model_year`. Possible reasons for missing values are for `cylinders` they might not know, `model_year`and `odometer` might be left out for 'older' vhicles and `paint_color` might seem unrelevant.\n",
    "It seems that if a vehicle doesn't have 4-wheel drive it is marked with NaN in the `is_4wd` column. This column should be boolean type instead of float. Let's check the unique values in this column."
   ]
  },
  {
   "cell_type": "code",
   "execution_count": 2,
   "metadata": {},
   "outputs": [
    {
     "data": {
      "text/plain": [
       "array([ 1., nan])"
      ]
     },
     "execution_count": 2,
     "metadata": {},
     "output_type": "execute_result"
    }
   ],
   "source": [
    "#the unique values of the column\n",
    "data['is_4wd'].unique()"
   ]
  },
  {
   "cell_type": "markdown",
   "metadata": {},
   "source": [
    "Our assumption was right, we need to change the column type to boolean and make sure that all NaN values are converted to False. We will try to evalueate the missing values in `cylinders` and `model_year` based on other parameters. The missing values in `paint_color` will be hard to guess so we will categorize them as 'other' and the same is for `odometer`, we'll define the missing values as 'undefined'. We will add a new column of estimated values of `odometer` and will see if there's affect by the change."
   ]
  },
  {
   "cell_type": "code",
   "execution_count": 3,
   "metadata": {},
   "outputs": [
    {
     "data": {
      "text/plain": [
       "array(['bmw x5', 'ford f-150', 'hyundai sonata', 'chrysler 200',\n",
       "       'chrysler 300', 'toyota camry', 'honda pilot', 'kia sorento',\n",
       "       'chevrolet silverado 1500', 'honda accord', 'ram 1500',\n",
       "       'gmc yukon', 'jeep cherokee', 'chevrolet traverse',\n",
       "       'hyundai elantra', 'chevrolet tahoe', 'toyota rav4',\n",
       "       'chevrolet silverado', 'jeep wrangler', 'chevrolet malibu',\n",
       "       'ford fusion se', 'chevrolet impala', 'chevrolet corvette',\n",
       "       'jeep liberty', 'toyota camry le', 'nissan altima',\n",
       "       'subaru outback', 'toyota highlander', 'dodge charger',\n",
       "       'toyota tacoma', 'chevrolet equinox', 'nissan rogue',\n",
       "       'mercedes-benz benze sprinter 2500', 'honda cr-v',\n",
       "       'jeep grand cherokee', 'toyota 4runner', 'ford focus',\n",
       "       'honda civic', 'kia soul', 'chevrolet colorado',\n",
       "       'ford f150 supercrew cab xlt', 'chevrolet camaro lt coupe 2d',\n",
       "       'chevrolet cruze', 'ford mustang', 'chevrolet silverado 3500hd',\n",
       "       'nissan frontier crew cab sv', 'subaru impreza',\n",
       "       'jeep grand cherokee laredo', 'nissan versa', 'ford f-250 sd',\n",
       "       'chevrolet silverado 1500 crew', 'ford f250 super duty',\n",
       "       'chevrolet camaro', 'ford mustang gt coupe 2d', 'subaru forester',\n",
       "       'ford explorer', 'ford f-350 sd', 'ford edge', 'nissan maxima',\n",
       "       'ford f-250', 'nissan sentra', 'ford f150', 'chevrolet suburban',\n",
       "       'ford expedition', 'dodge grand caravan', 'ford taurus',\n",
       "       'acura tl', 'ford f350 super duty', 'ford ranger', 'gmc sierra',\n",
       "       'hyundai santa fe', 'ford escape', 'gmc sierra 2500hd',\n",
       "       'honda civic lx', 'gmc sierra 1500', 'honda odyssey',\n",
       "       'cadillac escalade', 'volkswagen jetta', 'toyota corolla',\n",
       "       'chrysler town & country', 'volkswagen passat', 'toyota prius',\n",
       "       'buick enclave', 'ford fusion', 'toyota tundra', 'ram 3500',\n",
       "       'ram 2500', 'nissan frontier', 'chevrolet silverado 2500hd',\n",
       "       'jeep wrangler unlimited', 'ford f-250 super duty', 'gmc acadia',\n",
       "       'toyota sienna', 'ford focus se', 'ford f250', 'dodge dakota',\n",
       "       'ford f350', 'chevrolet trailblazer', 'ford econoline',\n",
       "       'nissan murano'], dtype=object)"
      ]
     },
     "metadata": {},
     "output_type": "display_data"
    },
    {
     "data": {
      "text/plain": [
       "array(['SUV', 'pickup', 'sedan', 'truck', 'coupe', 'van', 'convertible',\n",
       "       'hatchback', 'wagon', 'mini-van', 'other', 'offroad', 'bus'],\n",
       "      dtype=object)"
      ]
     },
     "metadata": {},
     "output_type": "display_data"
    },
    {
     "data": {
      "text/plain": [
       "array(['good', 'like new', 'fair', 'excellent', 'salvage', 'new'],\n",
       "      dtype=object)"
      ]
     },
     "metadata": {},
     "output_type": "display_data"
    },
    {
     "data": {
      "text/plain": [
       "array(['automatic', 'manual', 'other'], dtype=object)"
      ]
     },
     "metadata": {},
     "output_type": "display_data"
    },
    {
     "data": {
      "text/plain": [
       "array(['gas', 'diesel', 'other', 'hybrid', 'electric'], dtype=object)"
      ]
     },
     "metadata": {},
     "output_type": "display_data"
    },
    {
     "data": {
      "text/plain": [
       "count    47906.000000\n",
       "mean      2009.750470\n",
       "std          6.282065\n",
       "min       1908.000000\n",
       "25%       2006.000000\n",
       "50%       2011.000000\n",
       "75%       2014.000000\n",
       "max       2019.000000\n",
       "Name: model_year, dtype: float64"
      ]
     },
     "metadata": {},
     "output_type": "display_data"
    },
    {
     "data": {
      "text/plain": [
       "count    51525.00000\n",
       "mean        39.55476\n",
       "std         28.20427\n",
       "min          0.00000\n",
       "25%         19.00000\n",
       "50%         33.00000\n",
       "75%         53.00000\n",
       "max        271.00000\n",
       "Name: days_listed, dtype: float64"
      ]
     },
     "metadata": {},
     "output_type": "display_data"
    },
    {
     "data": {
      "text/plain": [
       "count     51525.000000\n",
       "mean      12132.464920\n",
       "std       10040.803015\n",
       "min           1.000000\n",
       "25%        5000.000000\n",
       "50%        9000.000000\n",
       "75%       16839.000000\n",
       "max      375000.000000\n",
       "Name: price, dtype: float64"
      ]
     },
     "metadata": {},
     "output_type": "display_data"
    },
    {
     "data": {
      "text/plain": [
       "count     43633.000000\n",
       "mean     115553.461738\n",
       "std       65094.611341\n",
       "min           0.000000\n",
       "25%       70000.000000\n",
       "50%      113000.000000\n",
       "75%      155000.000000\n",
       "max      990000.000000\n",
       "Name: odometer, dtype: float64"
      ]
     },
     "metadata": {},
     "output_type": "display_data"
    },
    {
     "data": {
      "text/plain": [
       "'2019-04-19'"
      ]
     },
     "metadata": {},
     "output_type": "display_data"
    },
    {
     "data": {
      "text/plain": [
       "'2018-05-01'"
      ]
     },
     "metadata": {},
     "output_type": "display_data"
    }
   ],
   "source": [
    "#show the unique values of each categorical columns and the span of the numeric columns\n",
    "display(data['model'].unique(),data['type'].unique(), data['condition'].unique(),\n",
    "        data['transmission'].unique() ,data['fuel'].unique(), data['model_year'].describe(),\n",
    "        data['days_listed'].describe(), data['price'].describe(), data['odometer'].describe(),\n",
    "        data['date_posted'].max(), data['date_posted'].min()\n",
    ")"
   ]
  },
  {
   "cell_type": "markdown",
   "metadata": {},
   "source": [
    "We see that everything is ok about the categories in `model`,`type`,`condition`,`transmission` and `fuel`. The oldest vehicle is from 1908. The ads were posted between May 2018 and April 2019. There are three interesting values: the first is '0' for the `days_listed`, the second is '1' for `price` and the last one is '0' for `odometer`. We need to check all of them."
   ]
  },
  {
   "cell_type": "code",
   "execution_count": 4,
   "metadata": {},
   "outputs": [
    {
     "name": "stdout",
     "output_type": "stream",
     "text": [
      "The precentage of the data: 0.10%\n"
     ]
    },
    {
     "data": {
      "text/plain": [
       "date_posted\n",
       "2018-05-11    1\n",
       "2018-05-15    1\n",
       "2018-05-20    1\n",
       "2018-05-29    1\n",
       "2018-05-31    1\n",
       "2018-06-12    1\n",
       "2018-06-18    1\n",
       "2018-07-05    1\n",
       "2018-07-06    1\n",
       "2018-07-11    1\n",
       "2018-07-13    1\n",
       "2018-07-17    1\n",
       "2018-07-21    1\n",
       "2018-07-30    1\n",
       "2018-07-31    1\n",
       "2018-08-02    1\n",
       "2018-08-07    1\n",
       "2018-08-11    1\n",
       "2018-08-12    1\n",
       "2018-08-13    1\n",
       "2018-08-19    1\n",
       "2018-08-27    2\n",
       "2018-09-02    1\n",
       "2018-09-03    1\n",
       "2018-09-09    1\n",
       "2018-09-16    1\n",
       "2018-09-21    1\n",
       "2018-09-23    1\n",
       "2018-09-25    1\n",
       "2018-09-27    1\n",
       "2018-09-28    1\n",
       "2018-10-14    1\n",
       "2018-10-16    1\n",
       "2018-10-22    1\n",
       "2018-10-23    1\n",
       "2018-10-30    1\n",
       "2018-10-31    1\n",
       "2018-11-30    1\n",
       "2018-12-17    1\n",
       "2018-12-31    1\n",
       "2019-01-13    1\n",
       "2019-01-21    1\n",
       "2019-01-27    1\n",
       "2019-02-06    1\n",
       "2019-02-09    1\n",
       "2019-03-04    1\n",
       "2019-03-09    1\n",
       "2019-03-15    1\n",
       "2019-03-18    1\n",
       "2019-03-23    1\n",
       "2019-03-26    1\n",
       "2019-04-11    1\n",
       "2019-04-16    1\n",
       "Name: days_listed, dtype: int64"
      ]
     },
     "metadata": {},
     "output_type": "display_data"
    },
    {
     "data": {
      "text/plain": [
       "None"
      ]
     },
     "metadata": {},
     "output_type": "display_data"
    },
    {
     "data": {
      "text/html": [
       "<div>\n",
       "<style scoped>\n",
       "    .dataframe tbody tr th:only-of-type {\n",
       "        vertical-align: middle;\n",
       "    }\n",
       "\n",
       "    .dataframe tbody tr th {\n",
       "        vertical-align: top;\n",
       "    }\n",
       "\n",
       "    .dataframe thead th {\n",
       "        text-align: right;\n",
       "    }\n",
       "</style>\n",
       "<table border=\"1\" class=\"dataframe\">\n",
       "  <thead>\n",
       "    <tr style=\"text-align: right;\">\n",
       "      <th></th>\n",
       "      <th>price</th>\n",
       "      <th>model_year</th>\n",
       "      <th>model</th>\n",
       "      <th>condition</th>\n",
       "      <th>cylinders</th>\n",
       "      <th>fuel</th>\n",
       "      <th>odometer</th>\n",
       "      <th>transmission</th>\n",
       "      <th>type</th>\n",
       "      <th>paint_color</th>\n",
       "      <th>is_4wd</th>\n",
       "      <th>date_posted</th>\n",
       "      <th>days_listed</th>\n",
       "    </tr>\n",
       "  </thead>\n",
       "  <tbody>\n",
       "    <tr>\n",
       "      <td>1247</td>\n",
       "      <td>14995</td>\n",
       "      <td>2008.0</td>\n",
       "      <td>chevrolet silverado 1500</td>\n",
       "      <td>excellent</td>\n",
       "      <td>8.0</td>\n",
       "      <td>gas</td>\n",
       "      <td>93300.0</td>\n",
       "      <td>automatic</td>\n",
       "      <td>truck</td>\n",
       "      <td>grey</td>\n",
       "      <td>1.0</td>\n",
       "      <td>2018-05-15</td>\n",
       "      <td>0</td>\n",
       "    </tr>\n",
       "    <tr>\n",
       "      <td>1711</td>\n",
       "      <td>59589</td>\n",
       "      <td>2019.0</td>\n",
       "      <td>chevrolet silverado 2500hd</td>\n",
       "      <td>excellent</td>\n",
       "      <td>8.0</td>\n",
       "      <td>diesel</td>\n",
       "      <td>NaN</td>\n",
       "      <td>automatic</td>\n",
       "      <td>truck</td>\n",
       "      <td>white</td>\n",
       "      <td>1.0</td>\n",
       "      <td>2019-01-13</td>\n",
       "      <td>0</td>\n",
       "    </tr>\n",
       "    <tr>\n",
       "      <td>1983</td>\n",
       "      <td>14000</td>\n",
       "      <td>1999.0</td>\n",
       "      <td>ford f250</td>\n",
       "      <td>excellent</td>\n",
       "      <td>8.0</td>\n",
       "      <td>diesel</td>\n",
       "      <td>137500.0</td>\n",
       "      <td>automatic</td>\n",
       "      <td>truck</td>\n",
       "      <td>red</td>\n",
       "      <td>1.0</td>\n",
       "      <td>2018-09-27</td>\n",
       "      <td>0</td>\n",
       "    </tr>\n",
       "    <tr>\n",
       "      <td>2883</td>\n",
       "      <td>4000</td>\n",
       "      <td>2004.0</td>\n",
       "      <td>ram 1500</td>\n",
       "      <td>excellent</td>\n",
       "      <td>8.0</td>\n",
       "      <td>gas</td>\n",
       "      <td>250000.0</td>\n",
       "      <td>automatic</td>\n",
       "      <td>truck</td>\n",
       "      <td>brown</td>\n",
       "      <td>1.0</td>\n",
       "      <td>2018-08-13</td>\n",
       "      <td>0</td>\n",
       "    </tr>\n",
       "    <tr>\n",
       "      <td>3965</td>\n",
       "      <td>16750</td>\n",
       "      <td>1985.0</td>\n",
       "      <td>chevrolet corvette</td>\n",
       "      <td>like new</td>\n",
       "      <td>8.0</td>\n",
       "      <td>gas</td>\n",
       "      <td>24540.0</td>\n",
       "      <td>automatic</td>\n",
       "      <td>hatchback</td>\n",
       "      <td>white</td>\n",
       "      <td>NaN</td>\n",
       "      <td>2018-10-14</td>\n",
       "      <td>0</td>\n",
       "    </tr>\n",
       "    <tr>\n",
       "      <td>4567</td>\n",
       "      <td>5000</td>\n",
       "      <td>2007.0</td>\n",
       "      <td>toyota corolla</td>\n",
       "      <td>good</td>\n",
       "      <td>4.0</td>\n",
       "      <td>gas</td>\n",
       "      <td>223000.0</td>\n",
       "      <td>manual</td>\n",
       "      <td>sedan</td>\n",
       "      <td>silver</td>\n",
       "      <td>NaN</td>\n",
       "      <td>2018-07-11</td>\n",
       "      <td>0</td>\n",
       "    </tr>\n",
       "    <tr>\n",
       "      <td>4901</td>\n",
       "      <td>12500</td>\n",
       "      <td>2001.0</td>\n",
       "      <td>ram 1500</td>\n",
       "      <td>good</td>\n",
       "      <td>8.0</td>\n",
       "      <td>gas</td>\n",
       "      <td>99892.0</td>\n",
       "      <td>automatic</td>\n",
       "      <td>truck</td>\n",
       "      <td>black</td>\n",
       "      <td>1.0</td>\n",
       "      <td>2018-05-11</td>\n",
       "      <td>0</td>\n",
       "    </tr>\n",
       "    <tr>\n",
       "      <td>6114</td>\n",
       "      <td>500</td>\n",
       "      <td>2003.0</td>\n",
       "      <td>dodge dakota</td>\n",
       "      <td>fair</td>\n",
       "      <td>6.0</td>\n",
       "      <td>gas</td>\n",
       "      <td>215457.0</td>\n",
       "      <td>automatic</td>\n",
       "      <td>pickup</td>\n",
       "      <td>NaN</td>\n",
       "      <td>NaN</td>\n",
       "      <td>2018-10-31</td>\n",
       "      <td>0</td>\n",
       "    </tr>\n",
       "    <tr>\n",
       "      <td>6548</td>\n",
       "      <td>4800</td>\n",
       "      <td>2007.0</td>\n",
       "      <td>honda odyssey</td>\n",
       "      <td>good</td>\n",
       "      <td>6.0</td>\n",
       "      <td>gas</td>\n",
       "      <td>152400.0</td>\n",
       "      <td>automatic</td>\n",
       "      <td>mini-van</td>\n",
       "      <td>brown</td>\n",
       "      <td>NaN</td>\n",
       "      <td>2018-09-25</td>\n",
       "      <td>0</td>\n",
       "    </tr>\n",
       "    <tr>\n",
       "      <td>7036</td>\n",
       "      <td>5900</td>\n",
       "      <td>2007.0</td>\n",
       "      <td>jeep grand cherokee laredo</td>\n",
       "      <td>excellent</td>\n",
       "      <td>6.0</td>\n",
       "      <td>gas</td>\n",
       "      <td>NaN</td>\n",
       "      <td>automatic</td>\n",
       "      <td>SUV</td>\n",
       "      <td>grey</td>\n",
       "      <td>1.0</td>\n",
       "      <td>2018-07-21</td>\n",
       "      <td>0</td>\n",
       "    </tr>\n",
       "  </tbody>\n",
       "</table>\n",
       "</div>"
      ],
      "text/plain": [
       "      price  model_year                       model  condition  cylinders  \\\n",
       "1247  14995      2008.0    chevrolet silverado 1500  excellent        8.0   \n",
       "1711  59589      2019.0  chevrolet silverado 2500hd  excellent        8.0   \n",
       "1983  14000      1999.0                   ford f250  excellent        8.0   \n",
       "2883   4000      2004.0                    ram 1500  excellent        8.0   \n",
       "3965  16750      1985.0          chevrolet corvette   like new        8.0   \n",
       "4567   5000      2007.0              toyota corolla       good        4.0   \n",
       "4901  12500      2001.0                    ram 1500       good        8.0   \n",
       "6114    500      2003.0                dodge dakota       fair        6.0   \n",
       "6548   4800      2007.0               honda odyssey       good        6.0   \n",
       "7036   5900      2007.0  jeep grand cherokee laredo  excellent        6.0   \n",
       "\n",
       "        fuel  odometer transmission       type paint_color  is_4wd  \\\n",
       "1247     gas   93300.0    automatic      truck        grey     1.0   \n",
       "1711  diesel       NaN    automatic      truck       white     1.0   \n",
       "1983  diesel  137500.0    automatic      truck         red     1.0   \n",
       "2883     gas  250000.0    automatic      truck       brown     1.0   \n",
       "3965     gas   24540.0    automatic  hatchback       white     NaN   \n",
       "4567     gas  223000.0       manual      sedan      silver     NaN   \n",
       "4901     gas   99892.0    automatic      truck       black     1.0   \n",
       "6114     gas  215457.0    automatic     pickup         NaN     NaN   \n",
       "6548     gas  152400.0    automatic   mini-van       brown     NaN   \n",
       "7036     gas       NaN    automatic        SUV        grey     1.0   \n",
       "\n",
       "     date_posted  days_listed  \n",
       "1247  2018-05-15            0  \n",
       "1711  2019-01-13            0  \n",
       "1983  2018-09-27            0  \n",
       "2883  2018-08-13            0  \n",
       "3965  2018-10-14            0  \n",
       "4567  2018-07-11            0  \n",
       "4901  2018-05-11            0  \n",
       "6114  2018-10-31            0  \n",
       "6548  2018-09-25            0  \n",
       "7036  2018-07-21            0  "
      ]
     },
     "metadata": {},
     "output_type": "display_data"
    }
   ],
   "source": [
    "#show the rows where days_listed is equal to '0' and count the percentage of the data\n",
    "display(\n",
    "    data[data['days_listed'] == 0].groupby('date_posted')['days_listed'].count(),print('The precentage of the data: {:.2%}'.format(data[data['days_listed'] == 0]['days_listed'].count()/len(data))),\n",
    "    data[data['days_listed'] == 0].head(10)\n",
    ")"
   ]
  },
  {
   "cell_type": "markdown",
   "metadata": {},
   "source": [
    "There are few possible reasons for such a short time. Maybe the users changed their minds about selling the vehicle, pretty extreme but maybe the vehicle was bought at the same day. It doesn't seem to be related to the posting date, and it's about 0.1% of the data so we leave it unchanged. Now we will check about the prices that set to '1'."
   ]
  },
  {
   "cell_type": "code",
   "execution_count": 5,
   "metadata": {},
   "outputs": [
    {
     "name": "stdout",
     "output_type": "stream",
     "text": [
      "The precentage of the data: 1.55%\n"
     ]
    },
    {
     "data": {
      "text/html": [
       "<div>\n",
       "<style scoped>\n",
       "    .dataframe tbody tr th:only-of-type {\n",
       "        vertical-align: middle;\n",
       "    }\n",
       "\n",
       "    .dataframe tbody tr th {\n",
       "        vertical-align: top;\n",
       "    }\n",
       "\n",
       "    .dataframe thead th {\n",
       "        text-align: right;\n",
       "    }\n",
       "</style>\n",
       "<table border=\"1\" class=\"dataframe\">\n",
       "  <thead>\n",
       "    <tr style=\"text-align: right;\">\n",
       "      <th></th>\n",
       "      <th>price</th>\n",
       "      <th>model_year</th>\n",
       "      <th>model</th>\n",
       "      <th>condition</th>\n",
       "      <th>cylinders</th>\n",
       "      <th>fuel</th>\n",
       "      <th>odometer</th>\n",
       "      <th>transmission</th>\n",
       "      <th>type</th>\n",
       "      <th>paint_color</th>\n",
       "      <th>is_4wd</th>\n",
       "      <th>date_posted</th>\n",
       "      <th>days_listed</th>\n",
       "    </tr>\n",
       "  </thead>\n",
       "  <tbody>\n",
       "    <tr>\n",
       "      <td>405</td>\n",
       "      <td>1</td>\n",
       "      <td>2014.0</td>\n",
       "      <td>chevrolet camaro</td>\n",
       "      <td>excellent</td>\n",
       "      <td>6.0</td>\n",
       "      <td>gas</td>\n",
       "      <td>71310.0</td>\n",
       "      <td>automatic</td>\n",
       "      <td>coupe</td>\n",
       "      <td>NaN</td>\n",
       "      <td>NaN</td>\n",
       "      <td>2018-07-14</td>\n",
       "      <td>29</td>\n",
       "    </tr>\n",
       "    <tr>\n",
       "      <td>3063</td>\n",
       "      <td>1</td>\n",
       "      <td>1998.0</td>\n",
       "      <td>chevrolet silverado</td>\n",
       "      <td>good</td>\n",
       "      <td>8.0</td>\n",
       "      <td>gas</td>\n",
       "      <td>164000.0</td>\n",
       "      <td>automatic</td>\n",
       "      <td>pickup</td>\n",
       "      <td>NaN</td>\n",
       "      <td>1.0</td>\n",
       "      <td>2018-10-11</td>\n",
       "      <td>49</td>\n",
       "    </tr>\n",
       "    <tr>\n",
       "      <td>3808</td>\n",
       "      <td>1</td>\n",
       "      <td>2007.0</td>\n",
       "      <td>chevrolet tahoe</td>\n",
       "      <td>good</td>\n",
       "      <td>8.0</td>\n",
       "      <td>gas</td>\n",
       "      <td>200.0</td>\n",
       "      <td>automatic</td>\n",
       "      <td>SUV</td>\n",
       "      <td>red</td>\n",
       "      <td>NaN</td>\n",
       "      <td>2019-03-18</td>\n",
       "      <td>63</td>\n",
       "    </tr>\n",
       "    <tr>\n",
       "      <td>3902</td>\n",
       "      <td>1</td>\n",
       "      <td>1996.0</td>\n",
       "      <td>ford f-150</td>\n",
       "      <td>fair</td>\n",
       "      <td>NaN</td>\n",
       "      <td>gas</td>\n",
       "      <td>163000.0</td>\n",
       "      <td>manual</td>\n",
       "      <td>truck</td>\n",
       "      <td>white</td>\n",
       "      <td>NaN</td>\n",
       "      <td>2019-02-23</td>\n",
       "      <td>54</td>\n",
       "    </tr>\n",
       "    <tr>\n",
       "      <td>4140</td>\n",
       "      <td>1</td>\n",
       "      <td>2004.0</td>\n",
       "      <td>chevrolet silverado</td>\n",
       "      <td>excellent</td>\n",
       "      <td>8.0</td>\n",
       "      <td>diesel</td>\n",
       "      <td>83000.0</td>\n",
       "      <td>automatic</td>\n",
       "      <td>pickup</td>\n",
       "      <td>NaN</td>\n",
       "      <td>1.0</td>\n",
       "      <td>2019-02-04</td>\n",
       "      <td>14</td>\n",
       "    </tr>\n",
       "    <tr>\n",
       "      <td>...</td>\n",
       "      <td>...</td>\n",
       "      <td>...</td>\n",
       "      <td>...</td>\n",
       "      <td>...</td>\n",
       "      <td>...</td>\n",
       "      <td>...</td>\n",
       "      <td>...</td>\n",
       "      <td>...</td>\n",
       "      <td>...</td>\n",
       "      <td>...</td>\n",
       "      <td>...</td>\n",
       "      <td>...</td>\n",
       "      <td>...</td>\n",
       "    </tr>\n",
       "    <tr>\n",
       "      <td>49699</td>\n",
       "      <td>1</td>\n",
       "      <td>2007.0</td>\n",
       "      <td>chevrolet trailblazer</td>\n",
       "      <td>excellent</td>\n",
       "      <td>8.0</td>\n",
       "      <td>gas</td>\n",
       "      <td>NaN</td>\n",
       "      <td>automatic</td>\n",
       "      <td>SUV</td>\n",
       "      <td>black</td>\n",
       "      <td>1.0</td>\n",
       "      <td>2018-08-06</td>\n",
       "      <td>28</td>\n",
       "    </tr>\n",
       "    <tr>\n",
       "      <td>49709</td>\n",
       "      <td>1</td>\n",
       "      <td>NaN</td>\n",
       "      <td>ford f150</td>\n",
       "      <td>excellent</td>\n",
       "      <td>8.0</td>\n",
       "      <td>gas</td>\n",
       "      <td>139700.0</td>\n",
       "      <td>other</td>\n",
       "      <td>pickup</td>\n",
       "      <td>red</td>\n",
       "      <td>1.0</td>\n",
       "      <td>2019-03-11</td>\n",
       "      <td>18</td>\n",
       "    </tr>\n",
       "    <tr>\n",
       "      <td>50245</td>\n",
       "      <td>1</td>\n",
       "      <td>1986.0</td>\n",
       "      <td>chevrolet silverado</td>\n",
       "      <td>good</td>\n",
       "      <td>8.0</td>\n",
       "      <td>gas</td>\n",
       "      <td>NaN</td>\n",
       "      <td>automatic</td>\n",
       "      <td>truck</td>\n",
       "      <td>red</td>\n",
       "      <td>1.0</td>\n",
       "      <td>2018-11-30</td>\n",
       "      <td>50</td>\n",
       "    </tr>\n",
       "    <tr>\n",
       "      <td>50393</td>\n",
       "      <td>1</td>\n",
       "      <td>2003.0</td>\n",
       "      <td>gmc sierra 2500hd</td>\n",
       "      <td>good</td>\n",
       "      <td>8.0</td>\n",
       "      <td>diesel</td>\n",
       "      <td>212300.0</td>\n",
       "      <td>automatic</td>\n",
       "      <td>pickup</td>\n",
       "      <td>black</td>\n",
       "      <td>1.0</td>\n",
       "      <td>2019-04-12</td>\n",
       "      <td>28</td>\n",
       "    </tr>\n",
       "    <tr>\n",
       "      <td>51256</td>\n",
       "      <td>1</td>\n",
       "      <td>2012.0</td>\n",
       "      <td>honda civic lx</td>\n",
       "      <td>excellent</td>\n",
       "      <td>4.0</td>\n",
       "      <td>gas</td>\n",
       "      <td>71262.0</td>\n",
       "      <td>automatic</td>\n",
       "      <td>sedan</td>\n",
       "      <td>blue</td>\n",
       "      <td>NaN</td>\n",
       "      <td>2018-05-06</td>\n",
       "      <td>53</td>\n",
       "    </tr>\n",
       "  </tbody>\n",
       "</table>\n",
       "<p>798 rows × 13 columns</p>\n",
       "</div>"
      ],
      "text/plain": [
       "       price  model_year                  model  condition  cylinders    fuel  \\\n",
       "405        1      2014.0       chevrolet camaro  excellent        6.0     gas   \n",
       "3063       1      1998.0    chevrolet silverado       good        8.0     gas   \n",
       "3808       1      2007.0        chevrolet tahoe       good        8.0     gas   \n",
       "3902       1      1996.0             ford f-150       fair        NaN     gas   \n",
       "4140       1      2004.0    chevrolet silverado  excellent        8.0  diesel   \n",
       "...      ...         ...                    ...        ...        ...     ...   \n",
       "49699      1      2007.0  chevrolet trailblazer  excellent        8.0     gas   \n",
       "49709      1         NaN              ford f150  excellent        8.0     gas   \n",
       "50245      1      1986.0    chevrolet silverado       good        8.0     gas   \n",
       "50393      1      2003.0      gmc sierra 2500hd       good        8.0  diesel   \n",
       "51256      1      2012.0         honda civic lx  excellent        4.0     gas   \n",
       "\n",
       "       odometer transmission    type paint_color  is_4wd date_posted  \\\n",
       "405     71310.0    automatic   coupe         NaN     NaN  2018-07-14   \n",
       "3063   164000.0    automatic  pickup         NaN     1.0  2018-10-11   \n",
       "3808      200.0    automatic     SUV         red     NaN  2019-03-18   \n",
       "3902   163000.0       manual   truck       white     NaN  2019-02-23   \n",
       "4140    83000.0    automatic  pickup         NaN     1.0  2019-02-04   \n",
       "...         ...          ...     ...         ...     ...         ...   \n",
       "49699       NaN    automatic     SUV       black     1.0  2018-08-06   \n",
       "49709  139700.0        other  pickup         red     1.0  2019-03-11   \n",
       "50245       NaN    automatic   truck         red     1.0  2018-11-30   \n",
       "50393  212300.0    automatic  pickup       black     1.0  2019-04-12   \n",
       "51256   71262.0    automatic   sedan        blue     NaN  2018-05-06   \n",
       "\n",
       "       days_listed  \n",
       "405             29  \n",
       "3063            49  \n",
       "3808            63  \n",
       "3902            54  \n",
       "4140            14  \n",
       "...            ...  \n",
       "49699           28  \n",
       "49709           18  \n",
       "50245           50  \n",
       "50393           28  \n",
       "51256           53  \n",
       "\n",
       "[798 rows x 13 columns]"
      ]
     },
     "metadata": {},
     "output_type": "display_data"
    },
    {
     "data": {
      "text/plain": [
       "None"
      ]
     },
     "metadata": {},
     "output_type": "display_data"
    }
   ],
   "source": [
    "#show the rows where price is equal to '1' and count the percentage of the data\n",
    "display(\n",
    "    data[data['price'] == 1],print('The precentage of the data: {:.2%}'.format(data[data['price'] == 1]['price'].count()/len(data)))\n",
    ")"
   ]
  },
  {
   "cell_type": "markdown",
   "metadata": {},
   "source": [
    "Maybe people preffer to set the price to '1' as they might think the raiting and views for such price will be higher. This is about 1.5% of the data. We will not change these values for now as it is the main variable of interest of our analysis. Now we will check the rows where `odometer` is equal to '0', there is two possible reasons: the same as '1' for the price they might think it will rank the post higher, the other option is that it is a new car first hand. Let's check!"
   ]
  },
  {
   "cell_type": "code",
   "execution_count": 6,
   "metadata": {},
   "outputs": [
    {
     "name": "stdout",
     "output_type": "stream",
     "text": [
      "The precentage of the data: 0.36%\n"
     ]
    },
    {
     "data": {
      "text/plain": [
       "good         104\n",
       "excellent     69\n",
       "fair           6\n",
       "like new       4\n",
       "salvage        2\n",
       "Name: condition, dtype: int64"
      ]
     },
     "metadata": {},
     "output_type": "display_data"
    },
    {
     "data": {
      "text/plain": [
       "None"
      ]
     },
     "metadata": {},
     "output_type": "display_data"
    }
   ],
   "source": [
    "#show the number of rows where odometer is equal to '0' in each condition and count the percentage of the data\n",
    "display(\n",
    "    data[data['odometer'] == 0]['condition'].value_counts() ,print('The precentage of the data: {:.2%}'.format(data[data['odometer'] == 0]['odometer'].count()/len(data)))\n",
    ")"
   ]
  },
  {
   "cell_type": "markdown",
   "metadata": {},
   "source": [
    "It seems that the first reason is possible, as there are no cars with '0' odometer that are new. Maybe the new cars has some missing values in odometer because they didn't fill as it is new?"
   ]
  },
  {
   "cell_type": "code",
   "execution_count": 7,
   "metadata": {},
   "outputs": [
    {
     "data": {
      "text/plain": [
       "18"
      ]
     },
     "execution_count": 7,
     "metadata": {},
     "output_type": "execute_result"
    }
   ],
   "source": [
    "data[data['condition'] == 'new']['odometer'].isna().sum()"
   ]
  },
  {
   "cell_type": "code",
   "execution_count": 8,
   "metadata": {},
   "outputs": [
    {
     "data": {
      "text/plain": [
       "count       125.000000\n",
       "mean      43476.056000\n",
       "std       67269.684251\n",
       "min           5.000000\n",
       "25%          21.000000\n",
       "50%        8002.000000\n",
       "75%       69000.000000\n",
       "max      315000.000000\n",
       "Name: odometer, dtype: float64"
      ]
     },
     "execution_count": 8,
     "metadata": {},
     "output_type": "execute_result"
    }
   ],
   "source": [
    "data[data['condition'] == 'new']['odometer'].describe()"
   ]
  },
  {
   "cell_type": "markdown",
   "metadata": {},
   "source": [
    "As we can see, most of the new cars are not exactly new. Probably the same reason as above - defining the vehicle as new might influence on the raiting and views."
   ]
  },
  {
   "cell_type": "markdown",
   "metadata": {},
   "source": [
    "### Conclusion"
   ]
  },
  {
   "cell_type": "markdown",
   "metadata": {},
   "source": [
    "- We have some missing values at `model_year`, `cylinders`, `odometer`, `paint_color` and `is_4wd`\n",
    "- We can try to evaluate the missing values in `model_year` cloumn based on `odometer` and most common value for the `model`.\n",
    "- We can try to evaluate the missing values in `cylinders` cloumn based on `model` and `model_year`.\n",
    "- It will be hard to find a good approximation for `paint_color` based on other parameters and it is not directly related to the analysis we are conducting. We will change the missing values and group them as 'other'.\n",
    "- Also `odometer` has a lot of missing values, we'll define the missing values as '0' which will considered as 'undefined', because by deleting them we will lose a lot of valuable data and we think it is wrong to try guessing them. We will add a column with estimations to help evaluate other parameters.\n",
    "- The False values in `is_4wd` are shown as NaN, and the column type is float. We need to change it to boolean so the NaNs will be transformed to False.\n",
    "- `model_year`, `odometer` and `cylinders` types are floats and they should be converted to int because years and cylinders are whole numbers and the fractions in odometers are irrelevant.\n",
    "- `date_posted` type is object and it should be converted to datetime type.\n",
    "- Most of the vehicles that are mentioned as new, have a pretty large odometer for a new one.\n",
    "- Could be nice to categorize the data also by manufacturer and not only by model."
   ]
  },
  {
   "cell_type": "markdown",
   "metadata": {},
   "source": [
    "## Data preprocessing\n",
    "<a class=\"anchor\" id=\"chapter2\"></a>"
   ]
  },
  {
   "cell_type": "markdown",
   "metadata": {},
   "source": [
    "First we will fill the missing values where we can do it."
   ]
  },
  {
   "cell_type": "code",
   "execution_count": 9,
   "metadata": {},
   "outputs": [
    {
     "data": {
      "text/plain": [
       "price                 0\n",
       "model_year         2080\n",
       "model                 0\n",
       "condition             0\n",
       "cylinders           245\n",
       "fuel                  0\n",
       "odometer              0\n",
       "transmission          0\n",
       "type                  0\n",
       "paint_color           0\n",
       "is_4wd                0\n",
       "date_posted           0\n",
       "days_listed           0\n",
       "odometer_filled     625\n",
       "dtype: int64"
      ]
     },
     "execution_count": 9,
     "metadata": {},
     "output_type": "execute_result"
    }
   ],
   "source": [
    "#save a copy of the original dataset\n",
    "data_original = data.copy()\n",
    "\n",
    "#fill in the missing values\n",
    "data['odometer_filled'] = data['odometer'].fillna(data.groupby(['model_year','model'])['odometer'].transform('median'))\n",
    "data['odometer'].fillna(0, inplace = True)\n",
    "data['is_4wd'].fillna(0, inplace = True)\n",
    "data['model_year'].fillna(data.groupby(['model','odometer_filled'])['model_year'].transform('median'), inplace = True)\n",
    "data['cylinders'].fillna(data.groupby(['model_year','model'])['cylinders'].transform('median'), inplace = True)\n",
    "\n",
    "data['paint_color'].fillna('other', inplace = True)\n",
    "\n",
    "#check for missing values\n",
    "data.isna().sum()"
   ]
  },
  {
   "cell_type": "markdown",
   "metadata": {},
   "source": [
    "We remain with much less missing values, about few percentage of the data. It will be better to remove them because we did the best estimation we could."
   ]
  },
  {
   "cell_type": "code",
   "execution_count": 10,
   "metadata": {},
   "outputs": [
    {
     "data": {
      "text/plain": [
       "price              0\n",
       "model_year         0\n",
       "model              0\n",
       "condition          0\n",
       "cylinders          0\n",
       "fuel               0\n",
       "odometer           0\n",
       "transmission       0\n",
       "type               0\n",
       "paint_color        0\n",
       "is_4wd             0\n",
       "date_posted        0\n",
       "days_listed        0\n",
       "odometer_filled    0\n",
       "dtype: int64"
      ]
     },
     "execution_count": 10,
     "metadata": {},
     "output_type": "execute_result"
    }
   ],
   "source": [
    "#drop the remaining missing values\n",
    "data.dropna(subset = ['model_year','cylinders','odometer_filled'],inplace = True)\n",
    "#check for missing values\n",
    "data.isna().sum()"
   ]
  },
  {
   "cell_type": "code",
   "execution_count": 11,
   "metadata": {},
   "outputs": [
    {
     "data": {
      "text/plain": [
       "4.246482290150411"
      ]
     },
     "execution_count": 11,
     "metadata": {},
     "output_type": "execute_result"
    }
   ],
   "source": [
    "#the percentage of the removed values from the original dataset\n",
    "100-len(data)*100/len(data_original)"
   ]
  },
  {
   "cell_type": "markdown",
   "metadata": {},
   "source": [
    "Now we will change the data types of `is_4wd` to boolean, `model_year`,`odometer` and `cylinders` to int and `date_posted` to datetime."
   ]
  },
  {
   "cell_type": "code",
   "execution_count": 12,
   "metadata": {},
   "outputs": [
    {
     "name": "stdout",
     "output_type": "stream",
     "text": [
      "<class 'pandas.core.frame.DataFrame'>\n",
      "Int64Index: 49337 entries, 0 to 51524\n",
      "Data columns (total 14 columns):\n",
      "price              49337 non-null int64\n",
      "model_year         49337 non-null int64\n",
      "model              49337 non-null object\n",
      "condition          49337 non-null object\n",
      "cylinders          49337 non-null int64\n",
      "fuel               49337 non-null object\n",
      "odometer           49337 non-null int64\n",
      "transmission       49337 non-null object\n",
      "type               49337 non-null object\n",
      "paint_color        49337 non-null object\n",
      "is_4wd             49337 non-null bool\n",
      "date_posted        49337 non-null datetime64[ns]\n",
      "days_listed        49337 non-null int64\n",
      "odometer_filled    49337 non-null int64\n",
      "dtypes: bool(1), datetime64[ns](1), int64(6), object(6)\n",
      "memory usage: 5.3+ MB\n"
     ]
    }
   ],
   "source": [
    "#change the data types\n",
    "data = data.astype({'model_year':'int','cylinders':'int', 'odometer':'int', 'odometer_filled':'int','is_4wd':'bool'})\n",
    "data['date_posted']= pd.to_datetime(data['date_posted'], format='%Y-%m-%d')\n",
    "#check if changed\n",
    "data.info()"
   ]
  },
  {
   "cell_type": "markdown",
   "metadata": {},
   "source": [
    "## Make calculations and add them to the table\n",
    "<a class=\"anchor\" id=\"chapter3\"></a>"
   ]
  },
  {
   "cell_type": "markdown",
   "metadata": {},
   "source": [
    "Now we will add some calculations we were asked to do:\n",
    "- The weekday of the post, the month and the year.\n",
    "- The age of the vhicle when the ad was posted and the avarage milage per year. The age can be sometimes zero or even negative in cases that the `model_year` was estimated. That will also affect the milage per year calculation, so vehicles that are less than 1 year old their `mileage_per_year` will be the same as the `odometer`.\n",
    "- Replace the `condition` string values to numeric (new = 5, like new = 4, excellent = 3, good = 2, fair = 1, salvage = 0)."
   ]
  },
  {
   "cell_type": "code",
   "execution_count": 13,
   "metadata": {
    "scrolled": false
   },
   "outputs": [
    {
     "data": {
      "text/html": [
       "<div>\n",
       "<style scoped>\n",
       "    .dataframe tbody tr th:only-of-type {\n",
       "        vertical-align: middle;\n",
       "    }\n",
       "\n",
       "    .dataframe tbody tr th {\n",
       "        vertical-align: top;\n",
       "    }\n",
       "\n",
       "    .dataframe thead th {\n",
       "        text-align: right;\n",
       "    }\n",
       "</style>\n",
       "<table border=\"1\" class=\"dataframe\">\n",
       "  <thead>\n",
       "    <tr style=\"text-align: right;\">\n",
       "      <th></th>\n",
       "      <th>price</th>\n",
       "      <th>model_year</th>\n",
       "      <th>model</th>\n",
       "      <th>condition</th>\n",
       "      <th>cylinders</th>\n",
       "      <th>fuel</th>\n",
       "      <th>odometer</th>\n",
       "      <th>transmission</th>\n",
       "      <th>type</th>\n",
       "      <th>paint_color</th>\n",
       "      <th>is_4wd</th>\n",
       "      <th>date_posted</th>\n",
       "      <th>days_listed</th>\n",
       "      <th>odometer_filled</th>\n",
       "      <th>weekday_post</th>\n",
       "      <th>month_post</th>\n",
       "      <th>year_post</th>\n",
       "      <th>vehicle_age</th>\n",
       "      <th>mileage_per_year</th>\n",
       "    </tr>\n",
       "  </thead>\n",
       "  <tbody>\n",
       "    <tr>\n",
       "      <td>19</td>\n",
       "      <td>13990</td>\n",
       "      <td>2018</td>\n",
       "      <td>hyundai elantra</td>\n",
       "      <td>3</td>\n",
       "      <td>4</td>\n",
       "      <td>gas</td>\n",
       "      <td>31932</td>\n",
       "      <td>automatic</td>\n",
       "      <td>sedan</td>\n",
       "      <td>red</td>\n",
       "      <td>False</td>\n",
       "      <td>2018-08-25</td>\n",
       "      <td>27</td>\n",
       "      <td>31932</td>\n",
       "      <td>5</td>\n",
       "      <td>8</td>\n",
       "      <td>2018</td>\n",
       "      <td>0</td>\n",
       "      <td>31932.0</td>\n",
       "    </tr>\n",
       "    <tr>\n",
       "      <td>71</td>\n",
       "      <td>23300</td>\n",
       "      <td>2018</td>\n",
       "      <td>nissan frontier crew cab sv</td>\n",
       "      <td>2</td>\n",
       "      <td>6</td>\n",
       "      <td>gas</td>\n",
       "      <td>27493</td>\n",
       "      <td>other</td>\n",
       "      <td>pickup</td>\n",
       "      <td>other</td>\n",
       "      <td>True</td>\n",
       "      <td>2018-10-13</td>\n",
       "      <td>36</td>\n",
       "      <td>27493</td>\n",
       "      <td>5</td>\n",
       "      <td>10</td>\n",
       "      <td>2018</td>\n",
       "      <td>0</td>\n",
       "      <td>27493.0</td>\n",
       "    </tr>\n",
       "    <tr>\n",
       "      <td>78</td>\n",
       "      <td>23800</td>\n",
       "      <td>2019</td>\n",
       "      <td>nissan frontier crew cab sv</td>\n",
       "      <td>2</td>\n",
       "      <td>6</td>\n",
       "      <td>gas</td>\n",
       "      <td>10899</td>\n",
       "      <td>other</td>\n",
       "      <td>pickup</td>\n",
       "      <td>silver</td>\n",
       "      <td>True</td>\n",
       "      <td>2019-02-28</td>\n",
       "      <td>30</td>\n",
       "      <td>10899</td>\n",
       "      <td>3</td>\n",
       "      <td>2</td>\n",
       "      <td>2019</td>\n",
       "      <td>0</td>\n",
       "      <td>10899.0</td>\n",
       "    </tr>\n",
       "    <tr>\n",
       "      <td>99</td>\n",
       "      <td>39950</td>\n",
       "      <td>2018</td>\n",
       "      <td>chevrolet silverado</td>\n",
       "      <td>3</td>\n",
       "      <td>8</td>\n",
       "      <td>gas</td>\n",
       "      <td>18500</td>\n",
       "      <td>automatic</td>\n",
       "      <td>truck</td>\n",
       "      <td>other</td>\n",
       "      <td>True</td>\n",
       "      <td>2018-08-05</td>\n",
       "      <td>16</td>\n",
       "      <td>18500</td>\n",
       "      <td>6</td>\n",
       "      <td>8</td>\n",
       "      <td>2018</td>\n",
       "      <td>0</td>\n",
       "      <td>18500.0</td>\n",
       "    </tr>\n",
       "    <tr>\n",
       "      <td>106</td>\n",
       "      <td>21500</td>\n",
       "      <td>2019</td>\n",
       "      <td>nissan frontier crew cab sv</td>\n",
       "      <td>2</td>\n",
       "      <td>6</td>\n",
       "      <td>gas</td>\n",
       "      <td>16168</td>\n",
       "      <td>other</td>\n",
       "      <td>pickup</td>\n",
       "      <td>white</td>\n",
       "      <td>False</td>\n",
       "      <td>2019-03-29</td>\n",
       "      <td>70</td>\n",
       "      <td>16168</td>\n",
       "      <td>4</td>\n",
       "      <td>3</td>\n",
       "      <td>2019</td>\n",
       "      <td>0</td>\n",
       "      <td>16168.0</td>\n",
       "    </tr>\n",
       "  </tbody>\n",
       "</table>\n",
       "</div>"
      ],
      "text/plain": [
       "     price  model_year                        model  condition  cylinders  \\\n",
       "19   13990        2018              hyundai elantra          3          4   \n",
       "71   23300        2018  nissan frontier crew cab sv          2          6   \n",
       "78   23800        2019  nissan frontier crew cab sv          2          6   \n",
       "99   39950        2018          chevrolet silverado          3          8   \n",
       "106  21500        2019  nissan frontier crew cab sv          2          6   \n",
       "\n",
       "    fuel  odometer transmission    type paint_color  is_4wd date_posted  \\\n",
       "19   gas     31932    automatic   sedan         red   False  2018-08-25   \n",
       "71   gas     27493        other  pickup       other    True  2018-10-13   \n",
       "78   gas     10899        other  pickup      silver    True  2019-02-28   \n",
       "99   gas     18500    automatic   truck       other    True  2018-08-05   \n",
       "106  gas     16168        other  pickup       white   False  2019-03-29   \n",
       "\n",
       "     days_listed  odometer_filled  weekday_post  month_post  year_post  \\\n",
       "19            27            31932             5           8       2018   \n",
       "71            36            27493             5          10       2018   \n",
       "78            30            10899             3           2       2019   \n",
       "99            16            18500             6           8       2018   \n",
       "106           70            16168             4           3       2019   \n",
       "\n",
       "     vehicle_age  mileage_per_year  \n",
       "19             0           31932.0  \n",
       "71             0           27493.0  \n",
       "78             0           10899.0  \n",
       "99             0           18500.0  \n",
       "106            0           16168.0  "
      ]
     },
     "execution_count": 13,
     "metadata": {},
     "output_type": "execute_result"
    }
   ],
   "source": [
    "#replace the `condition` string values to numeric\n",
    "data['condition'].replace(['new', 'like new', 'excellent', 'good', 'fair', 'salvage'], [5, 4, 3, 2, 1, 0], inplace = True)\n",
    "\n",
    "#create new columns\n",
    "data['weekday_post'] = pd.DatetimeIndex(data['date_posted']).weekday\n",
    "data['month_post'] = pd.DatetimeIndex(data['date_posted']).month\n",
    "data['year_post'] = pd.DatetimeIndex(data['date_posted']).year\n",
    "data['vehicle_age'] = data['year_post'] - data['model_year']\n",
    "\n",
    "#mileage per year for vehicles that are at least 1 year old\n",
    "data['mileage_per_year'] = (data.query('vehicle_age > 0')['odometer']/data.query('vehicle_age > 0')['vehicle_age'])\n",
    "\n",
    "#mileage per year for vehicles that are less than 1 year old - the same value as in 'odometer'\n",
    "data['mileage_per_year'].where(data['vehicle_age'] > 0, data['odometer'], inplace = True)\n",
    "\n",
    "#check that 'mileage_per_year' for vehicles that are less than 1 year old is the same as in 'odometer'\n",
    "data[data['vehicle_age'] < 1].head()"
   ]
  },
  {
   "cell_type": "markdown",
   "metadata": {},
   "source": [
    "## Carry out exploratory data analysis\n",
    "<a class=\"anchor\" id=\"chapter4\"></a>"
   ]
  },
  {
   "cell_type": "markdown",
   "metadata": {},
   "source": [
    "First we will study the following parameters: price, vehicle's age when the ad was placed, mileage, number of cylinders and condition. We will find how outliers affect the form and readability of the histograms."
   ]
  },
  {
   "cell_type": "code",
   "execution_count": 14,
   "metadata": {
    "scrolled": false
   },
   "outputs": [
    {
     "data": {
      "image/png": "[encoded data removed]",
      "text/plain": [
       "<Figure size 432x288 with 1 Axes>"
      ]
     },
     "metadata": {
      "needs_background": "light"
     },
     "output_type": "display_data"
    },
    {
     "data": {
      "image/png": "[encoded data removed]",
      "text/plain": [
       "<Figure size 432x288 with 1 Axes>"
      ]
     },
     "metadata": {
      "needs_background": "light"
     },
     "output_type": "display_data"
    },
    {
     "data": {
      "image/png": "[encoded data removed]",
      "text/plain": [
       "<Figure size 432x288 with 1 Axes>"
      ]
     },
     "metadata": {
      "needs_background": "light"
     },
     "output_type": "display_data"
    },
    {
     "data": {
      "image/png": "[encoded data removed]",
      "text/plain": [
       "<Figure size 432x288 with 1 Axes>"
      ]
     },
     "metadata": {
      "needs_background": "light"
     },
     "output_type": "display_data"
    },
    {
     "data": {
      "image/png": "[encoded data removed]",
      "text/plain": [
       "<Figure size 432x288 with 1 Axes>"
      ]
     },
     "metadata": {
      "needs_background": "light"
     },
     "output_type": "display_data"
    }
   ],
   "source": [
    "#plot histograms for the relevant parameters\n",
    "data['price'].plot(kind = 'hist', bins = 20, title = 'price')\n",
    "plt.show()\n",
    "data['condition'].plot(kind = 'hist', bins = 6, title = 'condition')\n",
    "plt.show()\n",
    "data['cylinders'].plot(kind = 'hist', bins = 12, title = 'cylinders')\n",
    "plt.show()\n",
    "data['vehicle_age'].plot(kind = 'hist', bins = 50, title = 'vehicle_age')\n",
    "plt.show()\n",
    "data['mileage_per_year'].plot(kind = 'hist', bins = 20, title = 'mileage per year')\n",
    "plt.show()"
   ]
  },
  {
   "cell_type": "markdown",
   "metadata": {},
   "source": [
    "From the histograms we can inffer that the majority of the vehicles that are posted are between 0 to 20 yeas old and the majority of the vehicle's milage per year is between 0 to 50000. Probably we have some extreme values at milage per year and vehicle's age because the range is very big.\n",
    "The majority of the vehicles is sold for between 0 to 25000 (probably not exactly 0 because it mean it is for free) and we have some very extreme values and thats why the range is so wide. Most of the vehicles are defined as excellent or good. Most of the vehicles has standart number of cylinders (4,6 or 8). Let's find the outliers in our data by viewing the statistical summary of the numeric parameters."
   ]
  },
  {
   "cell_type": "code",
   "execution_count": 15,
   "metadata": {},
   "outputs": [
    {
     "data": {
      "text/plain": [
       "count     49337.000000\n",
       "mean      12154.500010\n",
       "std       10039.634533\n",
       "min           1.000000\n",
       "25%        5000.000000\n",
       "50%        9000.000000\n",
       "75%       16900.000000\n",
       "max      375000.000000\n",
       "Name: price, dtype: float64"
      ]
     },
     "metadata": {},
     "output_type": "display_data"
    },
    {
     "data": {
      "text/plain": [
       "count    49337.000000\n",
       "mean         8.522934\n",
       "std          6.197777\n",
       "min         -1.000000\n",
       "25%          4.000000\n",
       "50%          7.000000\n",
       "75%         12.000000\n",
       "max        110.000000\n",
       "Name: vehicle_age, dtype: float64"
      ]
     },
     "metadata": {},
     "output_type": "display_data"
    },
    {
     "data": {
      "text/plain": [
       "count     49337.000000\n",
       "mean      15345.786653\n",
       "std       13924.688807\n",
       "min           0.000000\n",
       "25%        7629.333333\n",
       "50%       13472.666667\n",
       "75%       20000.000000\n",
       "max      373200.000000\n",
       "Name: mileage_per_year, dtype: float64"
      ]
     },
     "metadata": {},
     "output_type": "display_data"
    }
   ],
   "source": [
    "display(\n",
    "    data['price'].describe(), data['vehicle_age'].describe(), data['mileage_per_year'].describe()\n",
    ")"
   ]
  },
  {
   "cell_type": "markdown",
   "metadata": {},
   "source": [
    "Prices that are higher than 20000 and less than 1000 are rare. We have some outliers in the `vehicle_age` because of the estimation so where the age is less than '0' it doesn't make sense. We have a vehicle from 1908 thus the range is very wide, would be more accurate to see the distibution between 0 to 15. In the `mileage_per_year` the '0' values are where the odometer wasn't defined so these are outliers but the normal values are between 5000 and 25000. Let's filter the data and see the histograms at the ranges that we have mentioned."
   ]
  },
  {
   "cell_type": "code",
   "execution_count": 16,
   "metadata": {},
   "outputs": [],
   "source": [
    "filtered_data = data.query(\n",
    "    '1000<price<20000 & 0<=vehicle_age<=15 & 5000<=mileage_per_year<=25000'\n",
    ").reset_index()"
   ]
  },
  {
   "cell_type": "code",
   "execution_count": 17,
   "metadata": {},
   "outputs": [
    {
     "data": {
      "image/png": "[encoded data removed]",
      "text/plain": [
       "<Figure size 432x288 with 1 Axes>"
      ]
     },
     "metadata": {
      "needs_background": "light"
     },
     "output_type": "display_data"
    },
    {
     "data": {
      "image/png": "[encoded data removed]",
      "text/plain": [
       "<Figure size 432x288 with 1 Axes>"
      ]
     },
     "metadata": {
      "needs_background": "light"
     },
     "output_type": "display_data"
    },
    {
     "data": {
      "image/png": "[encoded data removed]",
      "text/plain": [
       "<Figure size 432x288 with 1 Axes>"
      ]
     },
     "metadata": {
      "needs_background": "light"
     },
     "output_type": "display_data"
    }
   ],
   "source": [
    "filtered_data['price'].plot(kind = 'hist', bins = 20, title = 'price')\n",
    "plt.show()\n",
    "filtered_data['vehicle_age'].plot(kind = 'hist', bins = 16, title = 'vehicle_age')\n",
    "plt.show()\n",
    "filtered_data['mileage_per_year'].plot(kind = 'hist', bins = 30, title = 'mileage per year')\n",
    "plt.show()"
   ]
  },
  {
   "cell_type": "markdown",
   "metadata": {},
   "source": [
    "We can see now there are no outliers that skew the histograms. Now let's check the correlations between the parameters."
   ]
  },
  {
   "cell_type": "code",
   "execution_count": 18,
   "metadata": {},
   "outputs": [
    {
     "data": {
      "text/html": [
       "<div>\n",
       "<style scoped>\n",
       "    .dataframe tbody tr th:only-of-type {\n",
       "        vertical-align: middle;\n",
       "    }\n",
       "\n",
       "    .dataframe tbody tr th {\n",
       "        vertical-align: top;\n",
       "    }\n",
       "\n",
       "    .dataframe thead th {\n",
       "        text-align: right;\n",
       "    }\n",
       "</style>\n",
       "<table border=\"1\" class=\"dataframe\">\n",
       "  <thead>\n",
       "    <tr style=\"text-align: right;\">\n",
       "      <th></th>\n",
       "      <th>price</th>\n",
       "      <th>condition</th>\n",
       "      <th>mileage_per_year</th>\n",
       "      <th>is_4wd</th>\n",
       "      <th>vehicle_age</th>\n",
       "      <th>cylinders</th>\n",
       "    </tr>\n",
       "  </thead>\n",
       "  <tbody>\n",
       "    <tr>\n",
       "      <td>price</td>\n",
       "      <td>1.000000</td>\n",
       "      <td>0.191759</td>\n",
       "      <td>0.058514</td>\n",
       "      <td>0.313931</td>\n",
       "      <td>-0.456707</td>\n",
       "      <td>0.319061</td>\n",
       "    </tr>\n",
       "    <tr>\n",
       "      <td>condition</td>\n",
       "      <td>0.191759</td>\n",
       "      <td>1.000000</td>\n",
       "      <td>-0.026503</td>\n",
       "      <td>-0.008333</td>\n",
       "      <td>-0.240377</td>\n",
       "      <td>-0.111154</td>\n",
       "    </tr>\n",
       "    <tr>\n",
       "      <td>mileage_per_year</td>\n",
       "      <td>0.058514</td>\n",
       "      <td>-0.026503</td>\n",
       "      <td>1.000000</td>\n",
       "      <td>-0.015001</td>\n",
       "      <td>-0.421816</td>\n",
       "      <td>-0.064329</td>\n",
       "    </tr>\n",
       "    <tr>\n",
       "      <td>is_4wd</td>\n",
       "      <td>0.313931</td>\n",
       "      <td>-0.008333</td>\n",
       "      <td>-0.015001</td>\n",
       "      <td>1.000000</td>\n",
       "      <td>0.163116</td>\n",
       "      <td>0.406825</td>\n",
       "    </tr>\n",
       "    <tr>\n",
       "      <td>vehicle_age</td>\n",
       "      <td>-0.456707</td>\n",
       "      <td>-0.240377</td>\n",
       "      <td>-0.421816</td>\n",
       "      <td>0.163116</td>\n",
       "      <td>1.000000</td>\n",
       "      <td>0.323006</td>\n",
       "    </tr>\n",
       "    <tr>\n",
       "      <td>cylinders</td>\n",
       "      <td>0.319061</td>\n",
       "      <td>-0.111154</td>\n",
       "      <td>-0.064329</td>\n",
       "      <td>0.406825</td>\n",
       "      <td>0.323006</td>\n",
       "      <td>1.000000</td>\n",
       "    </tr>\n",
       "  </tbody>\n",
       "</table>\n",
       "</div>"
      ],
      "text/plain": [
       "                     price  condition  mileage_per_year    is_4wd  \\\n",
       "price             1.000000   0.191759          0.058514  0.313931   \n",
       "condition         0.191759   1.000000         -0.026503 -0.008333   \n",
       "mileage_per_year  0.058514  -0.026503          1.000000 -0.015001   \n",
       "is_4wd            0.313931  -0.008333         -0.015001  1.000000   \n",
       "vehicle_age      -0.456707  -0.240377         -0.421816  0.163116   \n",
       "cylinders         0.319061  -0.111154         -0.064329  0.406825   \n",
       "\n",
       "                  vehicle_age  cylinders  \n",
       "price               -0.456707   0.319061  \n",
       "condition           -0.240377  -0.111154  \n",
       "mileage_per_year    -0.421816  -0.064329  \n",
       "is_4wd               0.163116   0.406825  \n",
       "vehicle_age          1.000000   0.323006  \n",
       "cylinders            0.323006   1.000000  "
      ]
     },
     "execution_count": 18,
     "metadata": {},
     "output_type": "execute_result"
    }
   ],
   "source": [
    "filtered_data[['price', 'condition','mileage_per_year','is_4wd','vehicle_age','cylinders']].corr()"
   ]
  },
  {
   "cell_type": "markdown",
   "metadata": {},
   "source": [
    "We can see there is some negative correlation between price and vehicle's age, which makes sense because when the vehicle's age is higher, the lower the price. Also the condition and having a 4WD and the number of cylinders have some positive correlation with the price, the better the condition of the car, it costs more, the higher the engine's power (affected by the number of cylinders) the higher the price. We can inffer that the most influencing parameters on the price are: vehicle's age, having 4WD and number of cylinders.\n",
    "\n",
    "Now we want to check what is the typical lifetime of an ad:"
   ]
  },
  {
   "cell_type": "code",
   "execution_count": 19,
   "metadata": {},
   "outputs": [
    {
     "data": {
      "image/png": "[encoded data removed]",
      "text/plain": [
       "<Figure size 432x288 with 1 Axes>"
      ]
     },
     "metadata": {
      "needs_background": "light"
     },
     "output_type": "display_data"
    },
    {
     "data": {
      "image/png": "[encoded data removed]",
      "text/plain": [
       "<Figure size 432x288 with 1 Axes>"
      ]
     },
     "metadata": {
      "needs_background": "light"
     },
     "output_type": "display_data"
    },
    {
     "data": {
      "image/png": "[encoded data removed]",
      "text/plain": [
       "<Figure size 720x432 with 1 Axes>"
      ]
     },
     "metadata": {
      "needs_background": "light"
     },
     "output_type": "display_data"
    },
    {
     "data": {
      "text/plain": [
       "count    23319.000000\n",
       "mean        39.778464\n",
       "std         28.315792\n",
       "min          0.000000\n",
       "25%         19.000000\n",
       "50%         33.000000\n",
       "75%         54.000000\n",
       "max        271.000000\n",
       "Name: days_listed, dtype: float64"
      ]
     },
     "execution_count": 19,
     "metadata": {},
     "output_type": "execute_result"
    }
   ],
   "source": [
    "filtered_data['days_listed'].plot(kind = 'hist', bins = 50, title = 'hist of days_listed')\n",
    "filtered_data['days_listed'].plot(kind = 'hist', range = (7,60))\n",
    "plt.show()\n",
    "filtered_data['days_listed'].plot(kind = 'hist', range = (7,60), title = 'days_listed no outliers')\n",
    "plt.show()\n",
    "filtered_data['days_listed'].plot(kind = 'box', grid = True, figsize = (10,6),  title = 'days_listed outliers')\n",
    "plt.show()\n",
    "filtered_data['days_listed'].describe()"
   ]
  },
  {
   "cell_type": "markdown",
   "metadata": {},
   "source": [
    "We can see that a typical lifetime of an ad is between a week till two months. If an ad was removed less than a week after it was posted it considered as quickly. Abnormally long time for an ad is above 100."
   ]
  },
  {
   "cell_type": "markdown",
   "metadata": {},
   "source": [
    "Now we want to analyze the number of ads and the average price for each type of vehicle."
   ]
  },
  {
   "cell_type": "code",
   "execution_count": 20,
   "metadata": {},
   "outputs": [
    {
     "data": {
      "image/png": "[encoded data removed]",
      "text/plain": [
       "<Figure size 432x288 with 1 Axes>"
      ]
     },
     "metadata": {
      "needs_background": "light"
     },
     "output_type": "display_data"
    },
    {
     "data": {
      "text/html": [
       "<div>\n",
       "<style scoped>\n",
       "    .dataframe tbody tr th:only-of-type {\n",
       "        vertical-align: middle;\n",
       "    }\n",
       "\n",
       "    .dataframe tbody tr th {\n",
       "        vertical-align: top;\n",
       "    }\n",
       "\n",
       "    .dataframe thead tr th {\n",
       "        text-align: left;\n",
       "    }\n",
       "\n",
       "    .dataframe thead tr:last-of-type th {\n",
       "        text-align: right;\n",
       "    }\n",
       "</style>\n",
       "<table border=\"1\" class=\"dataframe\">\n",
       "  <thead>\n",
       "    <tr>\n",
       "      <th></th>\n",
       "      <th>count</th>\n",
       "      <th>mean</th>\n",
       "    </tr>\n",
       "    <tr>\n",
       "      <th></th>\n",
       "      <th>price</th>\n",
       "      <th>price</th>\n",
       "    </tr>\n",
       "    <tr>\n",
       "      <th>type</th>\n",
       "      <th></th>\n",
       "      <th></th>\n",
       "    </tr>\n",
       "  </thead>\n",
       "  <tbody>\n",
       "    <tr>\n",
       "      <td>sedan</td>\n",
       "      <td>6881</td>\n",
       "      <td>6705.623601</td>\n",
       "    </tr>\n",
       "    <tr>\n",
       "      <td>SUV</td>\n",
       "      <td>6196</td>\n",
       "      <td>9147.792931</td>\n",
       "    </tr>\n",
       "    <tr>\n",
       "      <td>truck</td>\n",
       "      <td>4363</td>\n",
       "      <td>11862.702040</td>\n",
       "    </tr>\n",
       "    <tr>\n",
       "      <td>pickup</td>\n",
       "      <td>2310</td>\n",
       "      <td>10893.496104</td>\n",
       "    </tr>\n",
       "    <tr>\n",
       "      <td>wagon</td>\n",
       "      <td>902</td>\n",
       "      <td>8599.764967</td>\n",
       "    </tr>\n",
       "    <tr>\n",
       "      <td>coupe</td>\n",
       "      <td>787</td>\n",
       "      <td>10167.648030</td>\n",
       "    </tr>\n",
       "    <tr>\n",
       "      <td>mini-van</td>\n",
       "      <td>648</td>\n",
       "      <td>7002.645062</td>\n",
       "    </tr>\n",
       "    <tr>\n",
       "      <td>hatchback</td>\n",
       "      <td>616</td>\n",
       "      <td>6559.418831</td>\n",
       "    </tr>\n",
       "    <tr>\n",
       "      <td>van</td>\n",
       "      <td>304</td>\n",
       "      <td>7852.575658</td>\n",
       "    </tr>\n",
       "    <tr>\n",
       "      <td>other</td>\n",
       "      <td>124</td>\n",
       "      <td>8472.741935</td>\n",
       "    </tr>\n",
       "    <tr>\n",
       "      <td>convertible</td>\n",
       "      <td>117</td>\n",
       "      <td>11062.461538</td>\n",
       "    </tr>\n",
       "    <tr>\n",
       "      <td>offroad</td>\n",
       "      <td>64</td>\n",
       "      <td>12947.296875</td>\n",
       "    </tr>\n",
       "    <tr>\n",
       "      <td>bus</td>\n",
       "      <td>7</td>\n",
       "      <td>5767.857143</td>\n",
       "    </tr>\n",
       "  </tbody>\n",
       "</table>\n",
       "</div>"
      ],
      "text/plain": [
       "            count          mean\n",
       "            price         price\n",
       "type                           \n",
       "sedan        6881   6705.623601\n",
       "SUV          6196   9147.792931\n",
       "truck        4363  11862.702040\n",
       "pickup       2310  10893.496104\n",
       "wagon         902   8599.764967\n",
       "coupe         787  10167.648030\n",
       "mini-van      648   7002.645062\n",
       "hatchback     616   6559.418831\n",
       "van           304   7852.575658\n",
       "other         124   8472.741935\n",
       "convertible   117  11062.461538\n",
       "offroad        64  12947.296875\n",
       "bus             7   5767.857143"
      ]
     },
     "execution_count": 20,
     "metadata": {},
     "output_type": "execute_result"
    }
   ],
   "source": [
    "popular_type = filtered_data.pivot_table(index = 'type', values = 'price', aggfunc = ['count','mean']).sort_values([('count','price')], ascending = False)\n",
    "popular_type[('count','price')].plot(kind='bar')\n",
    "plt.show()\n",
    "popular_type"
   ]
  },
  {
   "cell_type": "markdown",
   "metadata": {},
   "source": [
    "We can see that the most common ads are for **sedan** and **SUV**."
   ]
  },
  {
   "cell_type": "markdown",
   "metadata": {},
   "source": [
    "What factors impact the price most? For the popular types we detected at the previous stage we'll try to find out whether the price depends on age, mileage, condition, transmission type, and color."
   ]
  },
  {
   "cell_type": "code",
   "execution_count": 21,
   "metadata": {
    "scrolled": false
   },
   "outputs": [
    {
     "data": {
      "image/png": "[encoded data removed]",
      "text/plain": [
       "<Figure size 720x432 with 1 Axes>"
      ]
     },
     "metadata": {
      "needs_background": "light"
     },
     "output_type": "display_data"
    },
    {
     "data": {
      "image/png": "[encoded data removed]",
      "text/plain": [
       "<Figure size 720x432 with 1 Axes>"
      ]
     },
     "metadata": {
      "needs_background": "light"
     },
     "output_type": "display_data"
    },
    {
     "data": {
      "image/png": "[encoded data removed]",
      "text/plain": [
       "<Figure size 720x432 with 1 Axes>"
      ]
     },
     "metadata": {
      "needs_background": "light"
     },
     "output_type": "display_data"
    },
    {
     "data": {
      "image/png": "[encoded data removed]",
      "text/plain": [
       "<Figure size 720x432 with 1 Axes>"
      ]
     },
     "metadata": {
      "needs_background": "light"
     },
     "output_type": "display_data"
    }
   ],
   "source": [
    "for parameter in ['vehicle_age','odometer']:\n",
    "    filtered_data.query('type == \"sedan\"').plot(x = parameter, y= 'price', kind = 'scatter', title = 'sedan', figsize = (10,6))\n",
    "    plt.show()\n",
    "    filtered_data.query('type == \"SUV\"').plot(x = parameter, y= 'price', kind = 'scatter', title = 'SUV',figsize = (10,6))\n",
    "    plt.show()"
   ]
  },
  {
   "cell_type": "code",
   "execution_count": 22,
   "metadata": {
    "scrolled": false
   },
   "outputs": [
    {
     "name": "stderr",
     "output_type": "stream",
     "text": [
      "/opt/conda/lib/python3.7/site-packages/numpy/core/_asarray.py:83: VisibleDeprecationWarning: Creating an ndarray from ragged nested sequences (which is a list-or-tuple of lists-or-tuples-or ndarrays with different lengths or shapes) is deprecated. If you meant to do this, you must specify 'dtype=object' when creating the ndarray\n",
      "  return array(a, dtype, copy=False, order=order)\n"
     ]
    },
    {
     "data": {
      "image/png": "[encoded data removed]",
      "text/plain": [
       "<Figure size 720x432 with 1 Axes>"
      ]
     },
     "metadata": {
      "needs_background": "light"
     },
     "output_type": "display_data"
    },
    {
     "name": "stderr",
     "output_type": "stream",
     "text": [
      "/opt/conda/lib/python3.7/site-packages/numpy/core/_asarray.py:83: VisibleDeprecationWarning: Creating an ndarray from ragged nested sequences (which is a list-or-tuple of lists-or-tuples-or ndarrays with different lengths or shapes) is deprecated. If you meant to do this, you must specify 'dtype=object' when creating the ndarray\n",
      "  return array(a, dtype, copy=False, order=order)\n"
     ]
    },
    {
     "data": {
      "image/png": "[encoded data removed]",
      "text/plain": [
       "<Figure size 720x432 with 1 Axes>"
      ]
     },
     "metadata": {
      "needs_background": "light"
     },
     "output_type": "display_data"
    }
   ],
   "source": [
    "filtered_data.query('type == \"sedan\"').boxplot('price',by = 'condition' , figsize = (10,6))\n",
    "plt.title('sedan')\n",
    "plt.show()\n",
    "filtered_data.query('type == \"SUV\"').boxplot('price',by = 'condition', figsize = (10,6))\n",
    "plt.title('SUV')\n",
    "plt.show()"
   ]
  },
  {
   "cell_type": "code",
   "execution_count": 23,
   "metadata": {},
   "outputs": [
    {
     "data": {
      "text/plain": [
       "'Correlation matrix for sedan:'"
      ]
     },
     "metadata": {},
     "output_type": "display_data"
    },
    {
     "data": {
      "text/html": [
       "<div>\n",
       "<style scoped>\n",
       "    .dataframe tbody tr th:only-of-type {\n",
       "        vertical-align: middle;\n",
       "    }\n",
       "\n",
       "    .dataframe tbody tr th {\n",
       "        vertical-align: top;\n",
       "    }\n",
       "\n",
       "    .dataframe thead th {\n",
       "        text-align: right;\n",
       "    }\n",
       "</style>\n",
       "<table border=\"1\" class=\"dataframe\">\n",
       "  <thead>\n",
       "    <tr style=\"text-align: right;\">\n",
       "      <th></th>\n",
       "      <th>price</th>\n",
       "      <th>condition</th>\n",
       "      <th>odometer</th>\n",
       "      <th>vehicle_age</th>\n",
       "      <th>cylinders</th>\n",
       "    </tr>\n",
       "  </thead>\n",
       "  <tbody>\n",
       "    <tr>\n",
       "      <td>price</td>\n",
       "      <td>1.000000</td>\n",
       "      <td>0.284834</td>\n",
       "      <td>-0.673224</td>\n",
       "      <td>-0.701034</td>\n",
       "      <td>-0.028389</td>\n",
       "    </tr>\n",
       "    <tr>\n",
       "      <td>condition</td>\n",
       "      <td>0.284834</td>\n",
       "      <td>1.000000</td>\n",
       "      <td>-0.299534</td>\n",
       "      <td>-0.261185</td>\n",
       "      <td>-0.083392</td>\n",
       "    </tr>\n",
       "    <tr>\n",
       "      <td>odometer</td>\n",
       "      <td>-0.673224</td>\n",
       "      <td>-0.299534</td>\n",
       "      <td>1.000000</td>\n",
       "      <td>0.709634</td>\n",
       "      <td>0.147066</td>\n",
       "    </tr>\n",
       "    <tr>\n",
       "      <td>vehicle_age</td>\n",
       "      <td>-0.701034</td>\n",
       "      <td>-0.261185</td>\n",
       "      <td>0.709634</td>\n",
       "      <td>1.000000</td>\n",
       "      <td>0.219492</td>\n",
       "    </tr>\n",
       "    <tr>\n",
       "      <td>cylinders</td>\n",
       "      <td>-0.028389</td>\n",
       "      <td>-0.083392</td>\n",
       "      <td>0.147066</td>\n",
       "      <td>0.219492</td>\n",
       "      <td>1.000000</td>\n",
       "    </tr>\n",
       "  </tbody>\n",
       "</table>\n",
       "</div>"
      ],
      "text/plain": [
       "                price  condition  odometer  vehicle_age  cylinders\n",
       "price        1.000000   0.284834 -0.673224    -0.701034  -0.028389\n",
       "condition    0.284834   1.000000 -0.299534    -0.261185  -0.083392\n",
       "odometer    -0.673224  -0.299534  1.000000     0.709634   0.147066\n",
       "vehicle_age -0.701034  -0.261185  0.709634     1.000000   0.219492\n",
       "cylinders   -0.028389  -0.083392  0.147066     0.219492   1.000000"
      ]
     },
     "metadata": {},
     "output_type": "display_data"
    },
    {
     "data": {
      "text/plain": [
       "'Correlation matrix for SUV:'"
      ]
     },
     "metadata": {},
     "output_type": "display_data"
    },
    {
     "data": {
      "text/html": [
       "<div>\n",
       "<style scoped>\n",
       "    .dataframe tbody tr th:only-of-type {\n",
       "        vertical-align: middle;\n",
       "    }\n",
       "\n",
       "    .dataframe tbody tr th {\n",
       "        vertical-align: top;\n",
       "    }\n",
       "\n",
       "    .dataframe thead th {\n",
       "        text-align: right;\n",
       "    }\n",
       "</style>\n",
       "<table border=\"1\" class=\"dataframe\">\n",
       "  <thead>\n",
       "    <tr style=\"text-align: right;\">\n",
       "      <th></th>\n",
       "      <th>price</th>\n",
       "      <th>condition</th>\n",
       "      <th>odometer</th>\n",
       "      <th>vehicle_age</th>\n",
       "      <th>cylinders</th>\n",
       "    </tr>\n",
       "  </thead>\n",
       "  <tbody>\n",
       "    <tr>\n",
       "      <td>price</td>\n",
       "      <td>1.000000</td>\n",
       "      <td>0.222287</td>\n",
       "      <td>-0.580476</td>\n",
       "      <td>-0.610241</td>\n",
       "      <td>0.021010</td>\n",
       "    </tr>\n",
       "    <tr>\n",
       "      <td>condition</td>\n",
       "      <td>0.222287</td>\n",
       "      <td>1.000000</td>\n",
       "      <td>-0.272402</td>\n",
       "      <td>-0.241205</td>\n",
       "      <td>-0.099848</td>\n",
       "    </tr>\n",
       "    <tr>\n",
       "      <td>odometer</td>\n",
       "      <td>-0.580476</td>\n",
       "      <td>-0.272402</td>\n",
       "      <td>1.000000</td>\n",
       "      <td>0.659387</td>\n",
       "      <td>0.341274</td>\n",
       "    </tr>\n",
       "    <tr>\n",
       "      <td>vehicle_age</td>\n",
       "      <td>-0.610241</td>\n",
       "      <td>-0.241205</td>\n",
       "      <td>0.659387</td>\n",
       "      <td>1.000000</td>\n",
       "      <td>0.374149</td>\n",
       "    </tr>\n",
       "    <tr>\n",
       "      <td>cylinders</td>\n",
       "      <td>0.021010</td>\n",
       "      <td>-0.099848</td>\n",
       "      <td>0.341274</td>\n",
       "      <td>0.374149</td>\n",
       "      <td>1.000000</td>\n",
       "    </tr>\n",
       "  </tbody>\n",
       "</table>\n",
       "</div>"
      ],
      "text/plain": [
       "                price  condition  odometer  vehicle_age  cylinders\n",
       "price        1.000000   0.222287 -0.580476    -0.610241   0.021010\n",
       "condition    0.222287   1.000000 -0.272402    -0.241205  -0.099848\n",
       "odometer    -0.580476  -0.272402  1.000000     0.659387   0.341274\n",
       "vehicle_age -0.610241  -0.241205  0.659387     1.000000   0.374149\n",
       "cylinders    0.021010  -0.099848  0.341274     0.374149   1.000000"
      ]
     },
     "metadata": {},
     "output_type": "display_data"
    }
   ],
   "source": [
    "display(\n",
    "    \"Correlation matrix for sedan:\",\n",
    "    filtered_data.query('type == \"sedan\"')[['price', 'condition','odometer','vehicle_age','cylinders']].corr(),\n",
    "    \"Correlation matrix for SUV:\",\n",
    "    filtered_data.query('type == \"SUV\"')[['price', 'condition','odometer','vehicle_age','cylinders']].corr()\n",
    ")"
   ]
  },
  {
   "cell_type": "markdown",
   "metadata": {},
   "source": [
    "In both we can see there is strong negative correlation between price and vehicle's age, the higer the age of a vehicle' the lower its price. The same is for odometer, the larger the odometer, the cheaper the car is. The condition has a positive correlation with the price. The better the condition the higher the price!"
   ]
  },
  {
   "cell_type": "code",
   "execution_count": 24,
   "metadata": {
    "scrolled": false
   },
   "outputs": [
    {
     "name": "stderr",
     "output_type": "stream",
     "text": [
      "/opt/conda/lib/python3.7/site-packages/numpy/core/_asarray.py:83: VisibleDeprecationWarning: Creating an ndarray from ragged nested sequences (which is a list-or-tuple of lists-or-tuples-or ndarrays with different lengths or shapes) is deprecated. If you meant to do this, you must specify 'dtype=object' when creating the ndarray\n",
      "  return array(a, dtype, copy=False, order=order)\n"
     ]
    },
    {
     "data": {
      "image/png": "[encoded data removed]",
      "text/plain": [
       "<Figure size 720x432 with 1 Axes>"
      ]
     },
     "metadata": {
      "needs_background": "light"
     },
     "output_type": "display_data"
    },
    {
     "name": "stderr",
     "output_type": "stream",
     "text": [
      "/opt/conda/lib/python3.7/site-packages/numpy/core/_asarray.py:83: VisibleDeprecationWarning: Creating an ndarray from ragged nested sequences (which is a list-or-tuple of lists-or-tuples-or ndarrays with different lengths or shapes) is deprecated. If you meant to do this, you must specify 'dtype=object' when creating the ndarray\n",
      "  return array(a, dtype, copy=False, order=order)\n"
     ]
    },
    {
     "data": {
      "image/png": "[encoded data removed]",
      "text/plain": [
       "<Figure size 720x432 with 1 Axes>"
      ]
     },
     "metadata": {
      "needs_background": "light"
     },
     "output_type": "display_data"
    },
    {
     "name": "stderr",
     "output_type": "stream",
     "text": [
      "/opt/conda/lib/python3.7/site-packages/numpy/core/_asarray.py:83: VisibleDeprecationWarning: Creating an ndarray from ragged nested sequences (which is a list-or-tuple of lists-or-tuples-or ndarrays with different lengths or shapes) is deprecated. If you meant to do this, you must specify 'dtype=object' when creating the ndarray\n",
      "  return array(a, dtype, copy=False, order=order)\n"
     ]
    },
    {
     "data": {
      "image/png": "[encoded data removed]",
      "text/plain": [
       "<Figure size 720x432 with 1 Axes>"
      ]
     },
     "metadata": {
      "needs_background": "light"
     },
     "output_type": "display_data"
    },
    {
     "name": "stderr",
     "output_type": "stream",
     "text": [
      "/opt/conda/lib/python3.7/site-packages/numpy/core/_asarray.py:83: VisibleDeprecationWarning: Creating an ndarray from ragged nested sequences (which is a list-or-tuple of lists-or-tuples-or ndarrays with different lengths or shapes) is deprecated. If you meant to do this, you must specify 'dtype=object' when creating the ndarray\n",
      "  return array(a, dtype, copy=False, order=order)\n"
     ]
    },
    {
     "data": {
      "image/png": "[encoded data removed]",
      "text/plain": [
       "<Figure size 720x432 with 1 Axes>"
      ]
     },
     "metadata": {
      "needs_background": "light"
     },
     "output_type": "display_data"
    }
   ],
   "source": [
    "for parameter in ['transmission','paint_color']:\n",
    "    filtered_data[filtered_data['type'] == 'sedan'].boxplot(column='price', by=parameter, figsize = (10,6))\n",
    "    plt.title('sedan')\n",
    "    plt.show()\n",
    "    filtered_data[filtered_data['type'] == 'SUV'].boxplot(column='price', by=parameter, figsize = (10,6))\n",
    "    plt.title('SUV')\n",
    "    plt.show()"
   ]
  },
  {
   "cell_type": "markdown",
   "metadata": {},
   "source": [
    "In general we can say that SUVs are more expensive than sedans. And most of the cases the different parameters influence the same way on the price.\n",
    "- vehicle's age: the older the vehicle is, the cheaper it is.\n",
    "- total mileage: the bigger the total mileage, the cheaper the vehicle is.\n",
    "- condition: better condition leads to a higher price\n",
    "- transmission: for sedans, automatic transmission is a bit more expensive than the others and for SUV manual transmission and other types are about the same price but higher than the automatic one.\n",
    "- color: surprisingly, for both types of vehicles, orange and black vehicles are the price leaders."
   ]
  },
  {
   "cell_type": "markdown",
   "metadata": {},
   "source": [
    "## Overall conclusion\n",
    "<a class=\"anchor\" id=\"chapter5\"></a>"
   ]
  },
  {
   "cell_type": "markdown",
   "metadata": {},
   "source": [
    "In conclusion we can say that changing perspective allows better inference. We managed to find the most popular vehicles -  sedan and SUV. We found that most of the parameters that affect the price are quite reasonable. The older a car is, the less it will cost, the higher the mileage, the more used it will be and therefore its price will be cheaper. Also in the case of a 4WD vehicle of course the price of the vehicle is more expensive. There are few differences between the types of vehicles and features that affect its price.\n",
    "\n",
    "Next we can examine whether there is an effect of the day of the week or the month on the lifetime of the ad and how different parameters affect the price of other types of vehicles."
   ]
  }
 ],
 "metadata": {
  "ExecuteTimeLog": [
   {
    "duration": 1325,
    "start_time": "2021-06-26T21:22:50.285Z"
   },
   {
    "duration": 6,
    "start_time": "2021-06-26T21:22:51.612Z"
   },
   {
    "duration": 99,
    "start_time": "2021-06-26T21:22:51.621Z"
   },
   {
    "duration": 63,
    "start_time": "2021-06-26T21:22:51.723Z"
   },
   {
    "duration": 68,
    "start_time": "2021-06-26T21:22:51.789Z"
   },
   {
    "duration": 14,
    "start_time": "2021-06-26T21:22:51.860Z"
   },
   {
    "duration": 27,
    "start_time": "2021-06-26T21:22:51.876Z"
   },
   {
    "duration": 29,
    "start_time": "2021-06-26T21:22:51.906Z"
   },
   {
    "duration": 113,
    "start_time": "2021-06-26T21:22:51.938Z"
   },
   {
    "duration": 36,
    "start_time": "2021-06-26T21:22:52.054Z"
   },
   {
    "duration": 5,
    "start_time": "2021-06-26T21:22:52.093Z"
   },
   {
    "duration": 79,
    "start_time": "2021-06-26T21:22:52.101Z"
   },
   {
    "duration": 126,
    "start_time": "2021-06-26T21:22:52.182Z"
   },
   {
    "duration": 1848,
    "start_time": "2021-06-26T21:22:52.311Z"
   },
   {
    "duration": 33,
    "start_time": "2021-06-26T21:22:54.161Z"
   },
   {
    "duration": 25,
    "start_time": "2021-06-26T21:22:54.197Z"
   },
   {
    "duration": 1147,
    "start_time": "2021-06-26T21:22:54.255Z"
   },
   {
    "duration": 52,
    "start_time": "2021-06-26T21:22:55.405Z"
   },
   {
    "duration": 934,
    "start_time": "2021-06-26T21:22:55.459Z"
   },
   {
    "duration": 662,
    "start_time": "2021-06-26T21:22:56.395Z"
   },
   {
    "duration": 230,
    "start_time": "2021-06-26T21:22:56.830Z"
   },
   {
    "duration": 230,
    "start_time": "2021-06-26T21:22:56.832Z"
   },
   {
    "duration": 572,
    "start_time": "2021-06-26T21:24:12.106Z"
   },
   {
    "duration": 1227,
    "start_time": "2021-06-26T21:24:50.903Z"
   },
   {
    "duration": 23,
    "start_time": "2021-06-26T21:24:52.133Z"
   },
   {
    "duration": 104,
    "start_time": "2021-06-26T21:24:52.159Z"
   },
   {
    "duration": 39,
    "start_time": "2021-06-26T21:24:52.267Z"
   },
   {
    "duration": 84,
    "start_time": "2021-06-26T21:24:52.309Z"
   },
   {
    "duration": 16,
    "start_time": "2021-06-26T21:24:52.396Z"
   },
   {
    "duration": 51,
    "start_time": "2021-06-26T21:24:52.415Z"
   },
   {
    "duration": 17,
    "start_time": "2021-06-26T21:24:52.472Z"
   },
   {
    "duration": 131,
    "start_time": "2021-06-26T21:24:52.493Z"
   },
   {
    "duration": 51,
    "start_time": "2021-06-26T21:24:52.627Z"
   },
   {
    "duration": 5,
    "start_time": "2021-06-26T21:24:52.681Z"
   },
   {
    "duration": 77,
    "start_time": "2021-06-26T21:24:52.689Z"
   },
   {
    "duration": 120,
    "start_time": "2021-06-26T21:24:52.769Z"
   },
   {
    "duration": 1666,
    "start_time": "2021-06-26T21:24:52.892Z"
   },
   {
    "duration": 27,
    "start_time": "2021-06-26T21:24:54.561Z"
   },
   {
    "duration": 19,
    "start_time": "2021-06-26T21:24:54.591Z"
   },
   {
    "duration": 984,
    "start_time": "2021-06-26T21:24:54.613Z"
   },
   {
    "duration": 33,
    "start_time": "2021-06-26T21:24:55.600Z"
   },
   {
    "duration": 904,
    "start_time": "2021-06-26T21:24:55.635Z"
   },
   {
    "duration": 340,
    "start_time": "2021-06-26T21:24:56.541Z"
   },
   {
    "duration": 3490,
    "start_time": "2021-06-26T21:24:56.883Z"
   },
   {
    "duration": 1943,
    "start_time": "2021-06-26T21:25:00.376Z"
   },
   {
    "duration": 1224,
    "start_time": "2021-06-27T09:46:22.998Z"
   },
   {
    "duration": 6,
    "start_time": "2021-06-27T09:46:24.225Z"
   },
   {
    "duration": 92,
    "start_time": "2021-06-27T09:46:24.234Z"
   },
   {
    "duration": 67,
    "start_time": "2021-06-27T09:46:24.329Z"
   },
   {
    "duration": 68,
    "start_time": "2021-06-27T09:46:24.398Z"
   },
   {
    "duration": 14,
    "start_time": "2021-06-27T09:46:24.469Z"
   },
   {
    "duration": 13,
    "start_time": "2021-06-27T09:46:24.485Z"
   },
   {
    "duration": 16,
    "start_time": "2021-06-27T09:46:24.501Z"
   },
   {
    "duration": 132,
    "start_time": "2021-06-27T09:46:24.520Z"
   },
   {
    "duration": 46,
    "start_time": "2021-06-27T09:46:24.654Z"
   },
   {
    "duration": 5,
    "start_time": "2021-06-27T09:46:24.702Z"
   },
   {
    "duration": 78,
    "start_time": "2021-06-27T09:46:24.709Z"
   },
   {
    "duration": 121,
    "start_time": "2021-06-27T09:46:24.789Z"
   },
   {
    "duration": 1699,
    "start_time": "2021-06-27T09:46:24.912Z"
   },
   {
    "duration": 25,
    "start_time": "2021-06-27T09:46:26.613Z"
   },
   {
    "duration": 40,
    "start_time": "2021-06-27T09:46:26.640Z"
   },
   {
    "duration": 1004,
    "start_time": "2021-06-27T09:46:26.683Z"
   },
   {
    "duration": 31,
    "start_time": "2021-06-27T09:46:27.690Z"
   },
   {
    "duration": 949,
    "start_time": "2021-06-27T09:46:27.723Z"
   },
   {
    "duration": 353,
    "start_time": "2021-06-27T09:46:28.674Z"
   },
   {
    "duration": 3566,
    "start_time": "2021-06-27T09:46:29.030Z"
   },
   {
    "duration": 2018,
    "start_time": "2021-06-27T09:46:32.599Z"
   },
   {
    "duration": 422,
    "start_time": "2021-06-27T10:59:58.957Z"
   },
   {
    "duration": 1347,
    "start_time": "2021-06-27T11:00:09.389Z"
   },
   {
    "duration": 6,
    "start_time": "2021-06-27T11:00:10.738Z"
   },
   {
    "duration": 96,
    "start_time": "2021-06-27T11:00:10.747Z"
   },
   {
    "duration": 76,
    "start_time": "2021-06-27T11:00:10.846Z"
   },
   {
    "duration": 40,
    "start_time": "2021-06-27T11:00:10.924Z"
   },
   {
    "duration": 42,
    "start_time": "2021-06-27T11:00:10.967Z"
   },
   {
    "duration": 11,
    "start_time": "2021-06-27T11:00:11.011Z"
   },
   {
    "duration": 16,
    "start_time": "2021-06-27T11:00:11.026Z"
   },
   {
    "duration": 136,
    "start_time": "2021-06-27T11:00:11.045Z"
   },
   {
    "duration": 50,
    "start_time": "2021-06-27T11:00:11.183Z"
   },
   {
    "duration": 5,
    "start_time": "2021-06-27T11:00:11.235Z"
   },
   {
    "duration": 70,
    "start_time": "2021-06-27T11:00:11.242Z"
   },
   {
    "duration": 131,
    "start_time": "2021-06-27T11:00:11.314Z"
   },
   {
    "duration": 1772,
    "start_time": "2021-06-27T11:00:11.448Z"
   },
   {
    "duration": 27,
    "start_time": "2021-06-27T11:00:13.223Z"
   },
   {
    "duration": 24,
    "start_time": "2021-06-27T11:00:13.252Z"
   },
   {
    "duration": 1148,
    "start_time": "2021-06-27T11:00:13.279Z"
   },
   {
    "duration": 33,
    "start_time": "2021-06-27T11:00:14.429Z"
   },
   {
    "duration": 927,
    "start_time": "2021-06-27T11:00:14.465Z"
   },
   {
    "duration": 831,
    "start_time": "2021-06-27T11:00:14.564Z"
   },
   {
    "duration": 828,
    "start_time": "2021-06-27T11:00:14.568Z"
   },
   {
    "duration": 825,
    "start_time": "2021-06-27T11:00:14.573Z"
   },
   {
    "duration": 928,
    "start_time": "2021-06-27T11:01:08.037Z"
   },
   {
    "duration": 1140,
    "start_time": "2021-06-27T11:02:26.447Z"
   },
   {
    "duration": 959,
    "start_time": "2021-06-27T11:03:47.951Z"
   },
   {
    "duration": 1613,
    "start_time": "2021-06-27T11:04:52.324Z"
   },
   {
    "duration": 1021,
    "start_time": "2021-06-27T11:05:22.646Z"
   },
   {
    "duration": 1016,
    "start_time": "2021-06-27T11:05:41.896Z"
   },
   {
    "duration": 2355,
    "start_time": "2021-06-27T11:05:56.354Z"
   },
   {
    "duration": 1173,
    "start_time": "2021-06-27T11:06:27.457Z"
   },
   {
    "duration": 1021,
    "start_time": "2021-06-27T11:07:37.067Z"
   },
   {
    "duration": 350,
    "start_time": "2021-06-27T11:08:54.605Z"
   },
   {
    "duration": 2456,
    "start_time": "2021-06-27T11:09:08.028Z"
   },
   {
    "duration": 1438,
    "start_time": "2021-06-27T11:11:14.872Z"
   },
   {
    "duration": 6,
    "start_time": "2021-06-27T11:11:16.314Z"
   },
   {
    "duration": 100,
    "start_time": "2021-06-27T11:11:16.323Z"
   },
   {
    "duration": 36,
    "start_time": "2021-06-27T11:11:16.426Z"
   },
   {
    "duration": 81,
    "start_time": "2021-06-27T11:11:16.465Z"
   },
   {
    "duration": 13,
    "start_time": "2021-06-27T11:11:16.548Z"
   },
   {
    "duration": 46,
    "start_time": "2021-06-27T11:11:16.563Z"
   },
   {
    "duration": 18,
    "start_time": "2021-06-27T11:11:16.613Z"
   },
   {
    "duration": 125,
    "start_time": "2021-06-27T11:11:16.634Z"
   },
   {
    "duration": 49,
    "start_time": "2021-06-27T11:11:16.761Z"
   },
   {
    "duration": 5,
    "start_time": "2021-06-27T11:11:16.813Z"
   },
   {
    "duration": 55,
    "start_time": "2021-06-27T11:11:16.821Z"
   },
   {
    "duration": 143,
    "start_time": "2021-06-27T11:11:16.878Z"
   },
   {
    "duration": 1900,
    "start_time": "2021-06-27T11:11:17.023Z"
   },
   {
    "duration": 26,
    "start_time": "2021-06-27T11:11:18.925Z"
   },
   {
    "duration": 21,
    "start_time": "2021-06-27T11:11:18.953Z"
   },
   {
    "duration": 1053,
    "start_time": "2021-06-27T11:11:18.976Z"
   },
   {
    "duration": 32,
    "start_time": "2021-06-27T11:11:20.031Z"
   },
   {
    "duration": 1057,
    "start_time": "2021-06-27T11:11:20.066Z"
   },
   {
    "duration": 361,
    "start_time": "2021-06-27T11:11:21.125Z"
   },
   {
    "duration": 2383,
    "start_time": "2021-06-27T11:11:21.489Z"
   },
   {
    "duration": 201207,
    "start_time": "2021-06-27T11:11:23.874Z"
   },
   {
    "duration": 2428,
    "start_time": "2021-06-27T11:14:45.087Z"
   },
   {
    "duration": 8925,
    "start_time": "2021-06-27T11:16:14.418Z"
   },
   {
    "duration": 9673,
    "start_time": "2021-06-27T11:16:55.092Z"
   },
   {
    "duration": 892,
    "start_time": "2021-06-27T11:17:45.780Z"
   },
   {
    "duration": 846,
    "start_time": "2021-06-27T11:17:56.249Z"
   },
   {
    "duration": 896,
    "start_time": "2021-06-27T11:18:11.915Z"
   },
   {
    "duration": 9277,
    "start_time": "2021-06-27T11:19:27.516Z"
   },
   {
    "duration": 9774,
    "start_time": "2021-06-27T11:20:01.937Z"
   },
   {
    "duration": 9055,
    "start_time": "2021-06-27T11:20:42.111Z"
   },
   {
    "duration": 127,
    "start_time": "2021-06-27T11:21:17.212Z"
   },
   {
    "duration": 9742,
    "start_time": "2021-06-27T11:21:22.200Z"
   },
   {
    "duration": 9704,
    "start_time": "2021-06-27T11:35:38.037Z"
   },
   {
    "duration": 688,
    "start_time": "2021-06-27T11:36:05.714Z"
   },
   {
    "duration": -80,
    "start_time": "2021-06-27T11:39:10.916Z"
   },
   {
    "duration": 380,
    "start_time": "2021-06-27T11:40:00.955Z"
   },
   {
    "duration": 519,
    "start_time": "2021-06-27T11:40:22.409Z"
   },
   {
    "duration": 399,
    "start_time": "2021-06-27T11:41:10.777Z"
   },
   {
    "duration": 471,
    "start_time": "2021-06-27T11:41:45.394Z"
   },
   {
    "duration": 472,
    "start_time": "2021-06-27T11:43:06.584Z"
   },
   {
    "duration": 921,
    "start_time": "2021-06-27T11:43:28.236Z"
   },
   {
    "duration": 334,
    "start_time": "2021-06-27T11:47:13.212Z"
   },
   {
    "duration": 860,
    "start_time": "2021-06-27T11:47:29.345Z"
   },
   {
    "duration": 676,
    "start_time": "2021-06-27T11:47:45.941Z"
   },
   {
    "duration": 931,
    "start_time": "2021-06-27T11:48:05.036Z"
   },
   {
    "duration": 22,
    "start_time": "2021-06-27T11:49:37.435Z"
   },
   {
    "duration": 31,
    "start_time": "2021-06-27T11:51:48.309Z"
   },
   {
    "duration": 168,
    "start_time": "2021-06-27T11:52:03.262Z"
   },
   {
    "duration": 38,
    "start_time": "2021-06-27T11:52:09.511Z"
   },
   {
    "duration": 347,
    "start_time": "2021-06-27T11:53:03.343Z"
   },
   {
    "duration": 41,
    "start_time": "2021-06-27T11:53:13.341Z"
   },
   {
    "duration": 43,
    "start_time": "2021-06-27T11:53:31.926Z"
   },
   {
    "duration": 39,
    "start_time": "2021-06-27T11:53:56.976Z"
   },
   {
    "duration": 41,
    "start_time": "2021-06-27T11:54:18.217Z"
   },
   {
    "duration": 41,
    "start_time": "2021-06-27T11:54:29.025Z"
   },
   {
    "duration": 1308,
    "start_time": "2021-06-27T11:59:16.687Z"
   },
   {
    "duration": 8,
    "start_time": "2021-06-27T11:59:18.011Z"
   },
   {
    "duration": 105,
    "start_time": "2021-06-27T11:59:18.024Z"
   },
   {
    "duration": 84,
    "start_time": "2021-06-27T11:59:18.133Z"
   },
   {
    "duration": 44,
    "start_time": "2021-06-27T11:59:18.220Z"
   },
   {
    "duration": 55,
    "start_time": "2021-06-27T11:59:18.267Z"
   },
   {
    "duration": 15,
    "start_time": "2021-06-27T11:59:18.325Z"
   },
   {
    "duration": 17,
    "start_time": "2021-06-27T11:59:18.342Z"
   },
   {
    "duration": 113,
    "start_time": "2021-06-27T11:59:18.408Z"
   },
   {
    "duration": 38,
    "start_time": "2021-06-27T11:59:18.525Z"
   },
   {
    "duration": 6,
    "start_time": "2021-06-27T11:59:18.567Z"
   },
   {
    "duration": 84,
    "start_time": "2021-06-27T11:59:18.577Z"
   },
   {
    "duration": 133,
    "start_time": "2021-06-27T11:59:18.664Z"
   },
   {
    "duration": 1713,
    "start_time": "2021-06-27T11:59:18.808Z"
   },
   {
    "duration": 29,
    "start_time": "2021-06-27T11:59:20.524Z"
   },
   {
    "duration": 64,
    "start_time": "2021-06-27T11:59:20.556Z"
   },
   {
    "duration": 1005,
    "start_time": "2021-06-27T11:59:20.622Z"
   },
   {
    "duration": 33,
    "start_time": "2021-06-27T11:59:21.630Z"
   },
   {
    "duration": 1060,
    "start_time": "2021-06-27T11:59:21.666Z"
   },
   {
    "duration": 357,
    "start_time": "2021-06-27T11:59:22.729Z"
   },
   {
    "duration": 2367,
    "start_time": "2021-06-27T11:59:23.088Z"
   },
   {
    "duration": 940,
    "start_time": "2021-06-27T11:59:25.458Z"
   },
   {
    "duration": 45,
    "start_time": "2021-06-27T11:59:26.400Z"
   },
   {
    "duration": 2093,
    "start_time": "2021-06-27T11:59:26.448Z"
   },
   {
    "duration": 1302,
    "start_time": "2021-06-27T12:09:57.929Z"
   },
   {
    "duration": 6,
    "start_time": "2021-06-27T12:09:59.234Z"
   },
   {
    "duration": 104,
    "start_time": "2021-06-27T12:09:59.244Z"
   },
   {
    "duration": 74,
    "start_time": "2021-06-27T12:09:59.351Z"
   },
   {
    "duration": 41,
    "start_time": "2021-06-27T12:09:59.427Z"
   },
   {
    "duration": 50,
    "start_time": "2021-06-27T12:09:59.471Z"
   },
   {
    "duration": 13,
    "start_time": "2021-06-27T12:09:59.523Z"
   },
   {
    "duration": 16,
    "start_time": "2021-06-27T12:09:59.540Z"
   },
   {
    "duration": 151,
    "start_time": "2021-06-27T12:09:59.559Z"
   },
   {
    "duration": 38,
    "start_time": "2021-06-27T12:09:59.713Z"
   },
   {
    "duration": 5,
    "start_time": "2021-06-27T12:09:59.753Z"
   },
   {
    "duration": 84,
    "start_time": "2021-06-27T12:09:59.761Z"
   },
   {
    "duration": 128,
    "start_time": "2021-06-27T12:09:59.847Z"
   },
   {
    "duration": 1794,
    "start_time": "2021-06-27T12:09:59.978Z"
   },
   {
    "duration": 42,
    "start_time": "2021-06-27T12:10:01.775Z"
   },
   {
    "duration": 119,
    "start_time": "2021-06-27T12:10:01.820Z"
   },
   {
    "duration": 1376,
    "start_time": "2021-06-27T12:10:01.942Z"
   },
   {
    "duration": 33,
    "start_time": "2021-06-27T12:10:03.320Z"
   },
   {
    "duration": 1061,
    "start_time": "2021-06-27T12:10:03.357Z"
   },
   {
    "duration": 457,
    "start_time": "2021-06-27T12:10:04.421Z"
   },
   {
    "duration": 2387,
    "start_time": "2021-06-27T12:10:04.881Z"
   },
   {
    "duration": 928,
    "start_time": "2021-06-27T12:10:07.272Z"
   },
   {
    "duration": 43,
    "start_time": "2021-06-27T12:10:08.210Z"
   },
   {
    "duration": 2170,
    "start_time": "2021-06-27T12:10:08.257Z"
   },
   {
    "duration": 1204,
    "start_time": "2021-06-27T23:29:34.433Z"
   },
   {
    "duration": 16,
    "start_time": "2021-06-27T23:29:35.639Z"
   },
   {
    "duration": 96,
    "start_time": "2021-06-27T23:29:35.658Z"
   },
   {
    "duration": 35,
    "start_time": "2021-06-27T23:29:35.757Z"
   },
   {
    "duration": 72,
    "start_time": "2021-06-27T23:29:35.794Z"
   },
   {
    "duration": 14,
    "start_time": "2021-06-27T23:29:35.868Z"
   },
   {
    "duration": 11,
    "start_time": "2021-06-27T23:29:35.884Z"
   },
   {
    "duration": 16,
    "start_time": "2021-06-27T23:29:35.898Z"
   },
   {
    "duration": 102,
    "start_time": "2021-06-27T23:29:35.956Z"
   },
   {
    "duration": 36,
    "start_time": "2021-06-27T23:29:36.060Z"
   },
   {
    "duration": 4,
    "start_time": "2021-06-27T23:29:36.099Z"
   },
   {
    "duration": 85,
    "start_time": "2021-06-27T23:29:36.105Z"
   },
   {
    "duration": 119,
    "start_time": "2021-06-27T23:29:36.192Z"
   },
   {
    "duration": 1663,
    "start_time": "2021-06-27T23:29:36.313Z"
   },
   {
    "duration": 26,
    "start_time": "2021-06-27T23:29:37.978Z"
   },
   {
    "duration": 19,
    "start_time": "2021-06-27T23:29:38.006Z"
   },
   {
    "duration": 956,
    "start_time": "2021-06-27T23:29:38.054Z"
   },
   {
    "duration": 42,
    "start_time": "2021-06-27T23:29:39.012Z"
   },
   {
    "duration": 1074,
    "start_time": "2021-06-27T23:29:39.056Z"
   },
   {
    "duration": 335,
    "start_time": "2021-06-27T23:29:40.132Z"
   },
   {
    "duration": 2276,
    "start_time": "2021-06-27T23:29:40.470Z"
   },
   {
    "duration": 881,
    "start_time": "2021-06-27T23:29:42.755Z"
   },
   {
    "duration": 46,
    "start_time": "2021-06-27T23:29:43.640Z"
   },
   {
    "duration": 2094,
    "start_time": "2021-06-27T23:29:43.689Z"
   }
  ],
  "kernelspec": {
   "display_name": "Python 3",
   "language": "python",
   "name": "python3"
  },
  "language_info": {
   "codemirror_mode": {
    "name": "ipython",
    "version": 3
   },
   "file_extension": ".py",
   "mimetype": "text/x-python",
   "name": "python",
   "nbconvert_exporter": "python",
   "pygments_lexer": "ipython3",
   "version": "3.8.5"
  },
  "toc": {
   "base_numbering": 1,
   "nav_menu": {},
   "number_sections": true,
   "sideBar": true,
   "skip_h1_title": true,
   "title_cell": "Table of Contents",
   "title_sidebar": "Contents",
   "toc_cell": false,
   "toc_position": {},
   "toc_section_display": true,
   "toc_window_display": false
  }
 },
 "nbformat": 4,
 "nbformat_minor": 2
}
