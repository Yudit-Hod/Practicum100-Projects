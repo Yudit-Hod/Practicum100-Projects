{
 "cells": [
  {
   "cell_type": "markdown",
   "metadata": {},
   "source": [
    "# Churn Prediction"
   ]
  },
  {
   "cell_type": "markdown",
   "metadata": {},
   "source": [
    "The telecom operator ***Interconnect*** would like to be able to forecast their churn of clients. If it's discovered that a user is planning to leave, they will be offered promotional codes and special plan options. Interconnect's marketing team has collected some of their clientele's personal data, including information about their plans and contracts.\n",
    "\n",
    "**Interconnect's services**\n",
    "\n",
    "Interconnect mainly provides two types of services:\n",
    "\n",
    "1. Landline communication. The telephone can be connected to several lines simultaneously.\n",
    "2. Internet. The network can be set up via a telephone line (DSL, *digital subscriber line*) or through a fiber optic cable.\n",
    "\n",
    "Some other services the company provides include:\n",
    "\n",
    "- Internet security: antivirus software (*DeviceProtection*) and a malicious website blocker (*OnlineSecurity*)\n",
    "- A dedicated technical support line (*TechSupport*)\n",
    "- Cloud file storage and data backup (*OnlineBackup*)\n",
    "- TV streaming (*StreamingTV*) and a movie directory (*StreamingMovies*)\n",
    "\n",
    "The clients can choose either a monthly payment or sign a 1- or 2-year contract. They can use various payment methods and receive an electronic invoice after a transaction."
   ]
  },
  {
   "cell_type": "markdown",
   "metadata": {},
   "source": [
    "**Data Description**\n",
    "\n",
    "The data consists of files obtained from different sources:\n",
    "\n",
    "- `contract.csv` — contract information\n",
    "- `personal.csv` — the client's personal data\n",
    "- `internet.csv` — information about Internet services\n",
    "- `phone.csv` — information about telephone services\n",
    "\n",
    "In each file, the column `customerID` contains a unique code assigned to each client.\n",
    "\n",
    "The contract information is valid as of February 1, 2020."
   ]
  },
  {
   "cell_type": "markdown",
   "metadata": {},
   "source": [
    "# Table of content <a class=\"anchor\" id=\"table_of_contents\"></a>  \n",
    "\n",
    "- [1. Downloading the data](#chapter1)\n",
    "    - [1.1 General info](#chapter1.1)\n",
    "    - [1.2 Missing values and duplicates](#chapter1.2)\n",
    "    - [1.3 Converting to desired data types](#chapter1.3)\n",
    "    - [1.4 Additional features](#chapter1.4)\n",
    "    - [1.5 Merging all the dataframes](#chapter1.5)\n",
    "    - [1.6 Investigating the unique end-dates](#chapter1.6)    \n",
    "    \n",
    "- [2. EDA](#chapter2)\n",
    "    - [2.1 Personal Information](#chapter2.1)\n",
    "    - [2.2 Account Information](#chapter2.2)\n",
    "    - [2.3 Additional services used by the customer](#chapter2.3)\n",
    "    - [2.4 Correlations between features and target](#chapter2.4)\n",
    "    \n",
    "- [3. Data preprocessing](#chapter3)\n",
    "    - [3.1 Splitting dataset into traning and test sets](#chapter3.1)\n",
    "    - [3.2 Encoding and Scaling](#chapter3.2)\n",
    "\n",
    "- [4. Model Building](#chapter4)  \n",
    "    - [4.1 Base model](#chapter4.1) \n",
    "    - [4.2 Logistic Regression Classifier](#chapter4.2) \n",
    "    - [4.3 Random Forest Classifier](#chapter4.3)\n",
    "    - [4.4 XGB Classifier](#chapter4.4) \n",
    "    - [4.5 LGBM Classifier](#chapter4.5) \n",
    "    - [4.6 Neural Network](#chapter4.6) \n",
    "     \n",
    "- [5. Model performances over training and test set](#chapter5)\n",
    "\n",
    "- [6. Choosing the best model](#chapter6)\n",
    "\n",
    "- [7. Conclusions](#chapter7)"
   ]
  },
  {
   "cell_type": "markdown",
   "metadata": {},
   "source": [
    "## Downloading the data\n",
    "***\n",
    "<a class=\"anchor\" id=\"chapter1\"></a>"
   ]
  },
  {
   "cell_type": "code",
   "execution_count": 2,
   "metadata": {},
   "outputs": [],
   "source": [
    "# standard imports and setup\n",
    "import pandas as pd\n",
    "import numpy as np\n",
    "import seaborn as sns\n",
    "import matplotlib.pyplot as plt\n",
    "\n",
    "# data preparation\n",
    "from sklearn.model_selection import train_test_split as tts\n",
    "from sklearn.preprocessing import StandardScaler\n",
    "from sklearn.preprocessing import OneHotEncoder\n",
    "from sklearn.utils import shuffle\n",
    "\n",
    "# pipelines\n",
    "from sklearn.compose import ColumnTransformer\n",
    "from sklearn.pipeline import Pipeline\n",
    "\n",
    "# machine learning models\n",
    "from sklearn.dummy import DummyClassifier\n",
    "from sklearn.model_selection import GridSearchCV\n",
    "from sklearn.linear_model import LogisticRegression\n",
    "from sklearn.ensemble import RandomForestClassifier\n",
    "from xgboost import XGBClassifier\n",
    "from lightgbm import LGBMClassifier\n",
    "from catboost import CatBoostClassifier\n",
    "from tensorflow.keras.models import Sequential\n",
    "from tensorflow.keras.layers import Dense\n",
    "from sklearn.utils import class_weight\n",
    "\n",
    "# model evaluation\n",
    "from sklearn.metrics import roc_curve\n",
    "from sklearn.metrics import confusion_matrix, f1_score, roc_auc_score\n",
    "from sklearn.metrics import ConfusionMatrixDisplay\n",
    "\n",
    "# ignore warnings\n",
    "import sys\n",
    "import warnings\n",
    "if not sys.warnoptions:\n",
    "       warnings.simplefilter(\"ignore\")\n",
    "        \n",
    "%matplotlib inline\n",
    "plt.style.use('seaborn')"
   ]
  },
  {
   "cell_type": "code",
   "execution_count": 3,
   "metadata": {},
   "outputs": [],
   "source": [
    "# download the datasets\n",
    "try:\n",
    "    contract = pd.read_csv('contract.csv')\n",
    "    personal = pd.read_csv('personal.csv')\n",
    "    internet = pd.read_csv('internet.csv')\n",
    "    phone = pd.read_csv('phone.csv')\n",
    "except:   \n",
    "    contract = pd.read_csv('/datasets/final_provider/contract.csv')\n",
    "    personal = pd.read_csv('/datasets/final_provider/personal.csv')\n",
    "    internet = pd.read_csv('/datasets/final_provider/internet.csv')\n",
    "    phone = pd.read_csv('/datasets/final_provider/phone.csv')"
   ]
  },
  {
   "cell_type": "markdown",
   "metadata": {},
   "source": [
    "### General info\n",
    "<a class=\"anchor\" id=\"chapter1.1\"></a>"
   ]
  },
  {
   "cell_type": "code",
   "execution_count": 4,
   "metadata": {},
   "outputs": [
    {
     "name": "stdout",
     "output_type": "stream",
     "text": [
      "contract\n"
     ]
    },
    {
     "data": {
      "text/html": [
       "<div>\n",
       "<style scoped>\n",
       "    .dataframe tbody tr th:only-of-type {\n",
       "        vertical-align: middle;\n",
       "    }\n",
       "\n",
       "    .dataframe tbody tr th {\n",
       "        vertical-align: top;\n",
       "    }\n",
       "\n",
       "    .dataframe thead th {\n",
       "        text-align: right;\n",
       "    }\n",
       "</style>\n",
       "<table border=\"1\" class=\"dataframe\">\n",
       "  <thead>\n",
       "    <tr style=\"text-align: right;\">\n",
       "      <th></th>\n",
       "      <th>customerID</th>\n",
       "      <th>BeginDate</th>\n",
       "      <th>EndDate</th>\n",
       "      <th>Type</th>\n",
       "      <th>PaperlessBilling</th>\n",
       "      <th>PaymentMethod</th>\n",
       "      <th>MonthlyCharges</th>\n",
       "      <th>TotalCharges</th>\n",
       "    </tr>\n",
       "  </thead>\n",
       "  <tbody>\n",
       "    <tr>\n",
       "      <td>0</td>\n",
       "      <td>7590-VHVEG</td>\n",
       "      <td>2020-01-01</td>\n",
       "      <td>No</td>\n",
       "      <td>Month-to-month</td>\n",
       "      <td>Yes</td>\n",
       "      <td>Electronic check</td>\n",
       "      <td>29.85</td>\n",
       "      <td>29.85</td>\n",
       "    </tr>\n",
       "    <tr>\n",
       "      <td>1</td>\n",
       "      <td>5575-GNVDE</td>\n",
       "      <td>2017-04-01</td>\n",
       "      <td>No</td>\n",
       "      <td>One year</td>\n",
       "      <td>No</td>\n",
       "      <td>Mailed check</td>\n",
       "      <td>56.95</td>\n",
       "      <td>1889.5</td>\n",
       "    </tr>\n",
       "    <tr>\n",
       "      <td>2</td>\n",
       "      <td>3668-QPYBK</td>\n",
       "      <td>2019-10-01</td>\n",
       "      <td>2019-12-01 00:00:00</td>\n",
       "      <td>Month-to-month</td>\n",
       "      <td>Yes</td>\n",
       "      <td>Mailed check</td>\n",
       "      <td>53.85</td>\n",
       "      <td>108.15</td>\n",
       "    </tr>\n",
       "    <tr>\n",
       "      <td>3</td>\n",
       "      <td>7795-CFOCW</td>\n",
       "      <td>2016-05-01</td>\n",
       "      <td>No</td>\n",
       "      <td>One year</td>\n",
       "      <td>No</td>\n",
       "      <td>Bank transfer (automatic)</td>\n",
       "      <td>42.30</td>\n",
       "      <td>1840.75</td>\n",
       "    </tr>\n",
       "    <tr>\n",
       "      <td>4</td>\n",
       "      <td>9237-HQITU</td>\n",
       "      <td>2019-09-01</td>\n",
       "      <td>2019-11-01 00:00:00</td>\n",
       "      <td>Month-to-month</td>\n",
       "      <td>Yes</td>\n",
       "      <td>Electronic check</td>\n",
       "      <td>70.70</td>\n",
       "      <td>151.65</td>\n",
       "    </tr>\n",
       "  </tbody>\n",
       "</table>\n",
       "</div>"
      ],
      "text/plain": [
       "   customerID   BeginDate              EndDate            Type  \\\n",
       "0  7590-VHVEG  2020-01-01                   No  Month-to-month   \n",
       "1  5575-GNVDE  2017-04-01                   No        One year   \n",
       "2  3668-QPYBK  2019-10-01  2019-12-01 00:00:00  Month-to-month   \n",
       "3  7795-CFOCW  2016-05-01                   No        One year   \n",
       "4  9237-HQITU  2019-09-01  2019-11-01 00:00:00  Month-to-month   \n",
       "\n",
       "  PaperlessBilling              PaymentMethod  MonthlyCharges TotalCharges  \n",
       "0              Yes           Electronic check           29.85        29.85  \n",
       "1               No               Mailed check           56.95       1889.5  \n",
       "2              Yes               Mailed check           53.85       108.15  \n",
       "3               No  Bank transfer (automatic)           42.30      1840.75  \n",
       "4              Yes           Electronic check           70.70       151.65  "
      ]
     },
     "metadata": {},
     "output_type": "display_data"
    },
    {
     "name": "stdout",
     "output_type": "stream",
     "text": [
      "\n",
      "personal\n"
     ]
    },
    {
     "data": {
      "text/html": [
       "<div>\n",
       "<style scoped>\n",
       "    .dataframe tbody tr th:only-of-type {\n",
       "        vertical-align: middle;\n",
       "    }\n",
       "\n",
       "    .dataframe tbody tr th {\n",
       "        vertical-align: top;\n",
       "    }\n",
       "\n",
       "    .dataframe thead th {\n",
       "        text-align: right;\n",
       "    }\n",
       "</style>\n",
       "<table border=\"1\" class=\"dataframe\">\n",
       "  <thead>\n",
       "    <tr style=\"text-align: right;\">\n",
       "      <th></th>\n",
       "      <th>customerID</th>\n",
       "      <th>gender</th>\n",
       "      <th>SeniorCitizen</th>\n",
       "      <th>Partner</th>\n",
       "      <th>Dependents</th>\n",
       "    </tr>\n",
       "  </thead>\n",
       "  <tbody>\n",
       "    <tr>\n",
       "      <td>0</td>\n",
       "      <td>7590-VHVEG</td>\n",
       "      <td>Female</td>\n",
       "      <td>0</td>\n",
       "      <td>Yes</td>\n",
       "      <td>No</td>\n",
       "    </tr>\n",
       "    <tr>\n",
       "      <td>1</td>\n",
       "      <td>5575-GNVDE</td>\n",
       "      <td>Male</td>\n",
       "      <td>0</td>\n",
       "      <td>No</td>\n",
       "      <td>No</td>\n",
       "    </tr>\n",
       "    <tr>\n",
       "      <td>2</td>\n",
       "      <td>3668-QPYBK</td>\n",
       "      <td>Male</td>\n",
       "      <td>0</td>\n",
       "      <td>No</td>\n",
       "      <td>No</td>\n",
       "    </tr>\n",
       "    <tr>\n",
       "      <td>3</td>\n",
       "      <td>7795-CFOCW</td>\n",
       "      <td>Male</td>\n",
       "      <td>0</td>\n",
       "      <td>No</td>\n",
       "      <td>No</td>\n",
       "    </tr>\n",
       "    <tr>\n",
       "      <td>4</td>\n",
       "      <td>9237-HQITU</td>\n",
       "      <td>Female</td>\n",
       "      <td>0</td>\n",
       "      <td>No</td>\n",
       "      <td>No</td>\n",
       "    </tr>\n",
       "  </tbody>\n",
       "</table>\n",
       "</div>"
      ],
      "text/plain": [
       "   customerID  gender  SeniorCitizen Partner Dependents\n",
       "0  7590-VHVEG  Female              0     Yes         No\n",
       "1  5575-GNVDE    Male              0      No         No\n",
       "2  3668-QPYBK    Male              0      No         No\n",
       "3  7795-CFOCW    Male              0      No         No\n",
       "4  9237-HQITU  Female              0      No         No"
      ]
     },
     "metadata": {},
     "output_type": "display_data"
    },
    {
     "name": "stdout",
     "output_type": "stream",
     "text": [
      "\n",
      "internet\n"
     ]
    },
    {
     "data": {
      "text/html": [
       "<div>\n",
       "<style scoped>\n",
       "    .dataframe tbody tr th:only-of-type {\n",
       "        vertical-align: middle;\n",
       "    }\n",
       "\n",
       "    .dataframe tbody tr th {\n",
       "        vertical-align: top;\n",
       "    }\n",
       "\n",
       "    .dataframe thead th {\n",
       "        text-align: right;\n",
       "    }\n",
       "</style>\n",
       "<table border=\"1\" class=\"dataframe\">\n",
       "  <thead>\n",
       "    <tr style=\"text-align: right;\">\n",
       "      <th></th>\n",
       "      <th>customerID</th>\n",
       "      <th>InternetService</th>\n",
       "      <th>OnlineSecurity</th>\n",
       "      <th>OnlineBackup</th>\n",
       "      <th>DeviceProtection</th>\n",
       "      <th>TechSupport</th>\n",
       "      <th>StreamingTV</th>\n",
       "      <th>StreamingMovies</th>\n",
       "    </tr>\n",
       "  </thead>\n",
       "  <tbody>\n",
       "    <tr>\n",
       "      <td>0</td>\n",
       "      <td>7590-VHVEG</td>\n",
       "      <td>DSL</td>\n",
       "      <td>No</td>\n",
       "      <td>Yes</td>\n",
       "      <td>No</td>\n",
       "      <td>No</td>\n",
       "      <td>No</td>\n",
       "      <td>No</td>\n",
       "    </tr>\n",
       "    <tr>\n",
       "      <td>1</td>\n",
       "      <td>5575-GNVDE</td>\n",
       "      <td>DSL</td>\n",
       "      <td>Yes</td>\n",
       "      <td>No</td>\n",
       "      <td>Yes</td>\n",
       "      <td>No</td>\n",
       "      <td>No</td>\n",
       "      <td>No</td>\n",
       "    </tr>\n",
       "    <tr>\n",
       "      <td>2</td>\n",
       "      <td>3668-QPYBK</td>\n",
       "      <td>DSL</td>\n",
       "      <td>Yes</td>\n",
       "      <td>Yes</td>\n",
       "      <td>No</td>\n",
       "      <td>No</td>\n",
       "      <td>No</td>\n",
       "      <td>No</td>\n",
       "    </tr>\n",
       "    <tr>\n",
       "      <td>3</td>\n",
       "      <td>7795-CFOCW</td>\n",
       "      <td>DSL</td>\n",
       "      <td>Yes</td>\n",
       "      <td>No</td>\n",
       "      <td>Yes</td>\n",
       "      <td>Yes</td>\n",
       "      <td>No</td>\n",
       "      <td>No</td>\n",
       "    </tr>\n",
       "    <tr>\n",
       "      <td>4</td>\n",
       "      <td>9237-HQITU</td>\n",
       "      <td>Fiber optic</td>\n",
       "      <td>No</td>\n",
       "      <td>No</td>\n",
       "      <td>No</td>\n",
       "      <td>No</td>\n",
       "      <td>No</td>\n",
       "      <td>No</td>\n",
       "    </tr>\n",
       "  </tbody>\n",
       "</table>\n",
       "</div>"
      ],
      "text/plain": [
       "   customerID InternetService OnlineSecurity OnlineBackup DeviceProtection  \\\n",
       "0  7590-VHVEG             DSL             No          Yes               No   \n",
       "1  5575-GNVDE             DSL            Yes           No              Yes   \n",
       "2  3668-QPYBK             DSL            Yes          Yes               No   \n",
       "3  7795-CFOCW             DSL            Yes           No              Yes   \n",
       "4  9237-HQITU     Fiber optic             No           No               No   \n",
       "\n",
       "  TechSupport StreamingTV StreamingMovies  \n",
       "0          No          No              No  \n",
       "1          No          No              No  \n",
       "2          No          No              No  \n",
       "3         Yes          No              No  \n",
       "4          No          No              No  "
      ]
     },
     "metadata": {},
     "output_type": "display_data"
    },
    {
     "name": "stdout",
     "output_type": "stream",
     "text": [
      "\n",
      "phone\n"
     ]
    },
    {
     "data": {
      "text/html": [
       "<div>\n",
       "<style scoped>\n",
       "    .dataframe tbody tr th:only-of-type {\n",
       "        vertical-align: middle;\n",
       "    }\n",
       "\n",
       "    .dataframe tbody tr th {\n",
       "        vertical-align: top;\n",
       "    }\n",
       "\n",
       "    .dataframe thead th {\n",
       "        text-align: right;\n",
       "    }\n",
       "</style>\n",
       "<table border=\"1\" class=\"dataframe\">\n",
       "  <thead>\n",
       "    <tr style=\"text-align: right;\">\n",
       "      <th></th>\n",
       "      <th>customerID</th>\n",
       "      <th>MultipleLines</th>\n",
       "    </tr>\n",
       "  </thead>\n",
       "  <tbody>\n",
       "    <tr>\n",
       "      <td>0</td>\n",
       "      <td>5575-GNVDE</td>\n",
       "      <td>No</td>\n",
       "    </tr>\n",
       "    <tr>\n",
       "      <td>1</td>\n",
       "      <td>3668-QPYBK</td>\n",
       "      <td>No</td>\n",
       "    </tr>\n",
       "    <tr>\n",
       "      <td>2</td>\n",
       "      <td>9237-HQITU</td>\n",
       "      <td>No</td>\n",
       "    </tr>\n",
       "    <tr>\n",
       "      <td>3</td>\n",
       "      <td>9305-CDSKC</td>\n",
       "      <td>Yes</td>\n",
       "    </tr>\n",
       "    <tr>\n",
       "      <td>4</td>\n",
       "      <td>1452-KIOVK</td>\n",
       "      <td>Yes</td>\n",
       "    </tr>\n",
       "  </tbody>\n",
       "</table>\n",
       "</div>"
      ],
      "text/plain": [
       "   customerID MultipleLines\n",
       "0  5575-GNVDE            No\n",
       "1  3668-QPYBK            No\n",
       "2  9237-HQITU            No\n",
       "3  9305-CDSKC           Yes\n",
       "4  1452-KIOVK           Yes"
      ]
     },
     "metadata": {},
     "output_type": "display_data"
    },
    {
     "name": "stdout",
     "output_type": "stream",
     "text": [
      "\n"
     ]
    }
   ],
   "source": [
    "# dictionery for iterations\n",
    "dfs = {\n",
    "    \"contract\" : contract,\n",
    "    \"personal\" : personal,\n",
    "    \"internet\" : internet,\n",
    "    \"phone\" : phone\n",
    "}\n",
    "\n",
    "# show the first rows of the data \n",
    "for k,v in dfs.items():\n",
    "    print(k)\n",
    "    display(v.head())\n",
    "    print('')"
   ]
  },
  {
   "cell_type": "code",
   "execution_count": 5,
   "metadata": {},
   "outputs": [
    {
     "name": "stdout",
     "output_type": "stream",
     "text": [
      "<class 'pandas.core.frame.DataFrame'>\n",
      "RangeIndex: 7043 entries, 0 to 7042\n",
      "Data columns (total 8 columns):\n",
      "customerID          7043 non-null object\n",
      "BeginDate           7043 non-null object\n",
      "EndDate             7043 non-null object\n",
      "Type                7043 non-null object\n",
      "PaperlessBilling    7043 non-null object\n",
      "PaymentMethod       7043 non-null object\n",
      "MonthlyCharges      7043 non-null float64\n",
      "TotalCharges        7043 non-null object\n",
      "dtypes: float64(1), object(7)\n",
      "memory usage: 440.3+ KB\n"
     ]
    },
    {
     "data": {
      "text/plain": [
       "None"
      ]
     },
     "metadata": {},
     "output_type": "display_data"
    },
    {
     "name": "stdout",
     "output_type": "stream",
     "text": [
      "<class 'pandas.core.frame.DataFrame'>\n",
      "RangeIndex: 7043 entries, 0 to 7042\n",
      "Data columns (total 5 columns):\n",
      "customerID       7043 non-null object\n",
      "gender           7043 non-null object\n",
      "SeniorCitizen    7043 non-null int64\n",
      "Partner          7043 non-null object\n",
      "Dependents       7043 non-null object\n",
      "dtypes: int64(1), object(4)\n",
      "memory usage: 275.2+ KB\n"
     ]
    },
    {
     "data": {
      "text/plain": [
       "None"
      ]
     },
     "metadata": {},
     "output_type": "display_data"
    },
    {
     "name": "stdout",
     "output_type": "stream",
     "text": [
      "<class 'pandas.core.frame.DataFrame'>\n",
      "RangeIndex: 5517 entries, 0 to 5516\n",
      "Data columns (total 8 columns):\n",
      "customerID          5517 non-null object\n",
      "InternetService     5517 non-null object\n",
      "OnlineSecurity      5517 non-null object\n",
      "OnlineBackup        5517 non-null object\n",
      "DeviceProtection    5517 non-null object\n",
      "TechSupport         5517 non-null object\n",
      "StreamingTV         5517 non-null object\n",
      "StreamingMovies     5517 non-null object\n",
      "dtypes: object(8)\n",
      "memory usage: 344.9+ KB\n"
     ]
    },
    {
     "data": {
      "text/plain": [
       "None"
      ]
     },
     "metadata": {},
     "output_type": "display_data"
    },
    {
     "name": "stdout",
     "output_type": "stream",
     "text": [
      "<class 'pandas.core.frame.DataFrame'>\n",
      "RangeIndex: 6361 entries, 0 to 6360\n",
      "Data columns (total 2 columns):\n",
      "customerID       6361 non-null object\n",
      "MultipleLines    6361 non-null object\n",
      "dtypes: object(2)\n",
      "memory usage: 99.5+ KB\n"
     ]
    },
    {
     "data": {
      "text/plain": [
       "None"
      ]
     },
     "metadata": {},
     "output_type": "display_data"
    }
   ],
   "source": [
    "# show the general info of the data \n",
    "for k,v in dfs.items():\n",
    "    display(v.info())"
   ]
  },
  {
   "cell_type": "code",
   "execution_count": 6,
   "metadata": {},
   "outputs": [
    {
     "name": "stdout",
     "output_type": "stream",
     "text": [
      "contract\n",
      "--------\n",
      "customerID\n",
      "['7590-VHVEG' '5575-GNVDE' '3668-QPYBK' ... '4801-JZAZL' '8361-LTMKD'\n",
      " '3186-AJIEK']\n",
      "BeginDate\n",
      "['2020-01-01' '2017-04-01' '2019-10-01' '2016-05-01' '2019-09-01'\n",
      " '2019-03-01' '2018-04-01' '2019-04-01' '2017-07-01' '2014-12-01'\n",
      " '2019-01-01' '2018-10-01' '2015-04-01' '2015-09-01' '2018-01-01'\n",
      " '2014-05-01' '2015-10-01' '2014-03-01' '2018-05-01' '2019-11-01'\n",
      " '2019-02-01' '2016-01-01' '2017-08-01' '2015-12-01' '2014-02-01'\n",
      " '2018-06-01' '2019-12-01' '2017-11-01' '2019-06-01' '2016-04-01'\n",
      " '2017-02-01' '2018-12-01' '2014-04-01' '2018-09-01' '2014-11-01'\n",
      " '2016-07-01' '2015-02-01' '2018-07-01' '2014-08-01' '2016-03-01'\n",
      " '2018-08-01' '2014-10-01' '2015-06-01' '2016-08-01' '2019-05-01'\n",
      " '2017-03-01' '2016-02-01' '2017-09-01' '2014-09-01' '2017-12-01'\n",
      " '2016-12-01' '2017-06-01' '2015-05-01' '2016-10-01' '2016-09-01'\n",
      " '2019-08-01' '2019-07-01' '2017-05-01' '2017-10-01' '2014-07-01'\n",
      " '2018-03-01' '2015-01-01' '2018-11-01' '2015-03-01' '2018-02-01'\n",
      " '2016-06-01' '2015-08-01' '2015-11-01' '2014-06-01' '2017-01-01'\n",
      " '2015-07-01' '2020-02-01' '2016-11-01' '2013-11-01' '2014-01-01'\n",
      " '2013-10-01' '2013-12-01']\n",
      "EndDate\n",
      "['No' '2019-12-01 00:00:00' '2019-11-01 00:00:00' '2019-10-01 00:00:00'\n",
      " '2020-01-01 00:00:00']\n",
      "Type\n",
      "['Month-to-month' 'One year' 'Two year']\n",
      "PaperlessBilling\n",
      "['Yes' 'No']\n",
      "PaymentMethod\n",
      "['Electronic check' 'Mailed check' 'Bank transfer (automatic)'\n",
      " 'Credit card (automatic)']\n",
      "MonthlyCharges\n",
      "[29.85 56.95 53.85 ... 63.1  44.2  78.7 ]\n",
      "TotalCharges\n",
      "['29.85' '1889.5' '108.15' ... '346.45' '306.6' '6844.5']\n",
      "\n",
      "\n",
      "personal\n",
      "--------\n",
      "customerID\n",
      "['7590-VHVEG' '5575-GNVDE' '3668-QPYBK' ... '4801-JZAZL' '8361-LTMKD'\n",
      " '3186-AJIEK']\n",
      "gender\n",
      "['Female' 'Male']\n",
      "SeniorCitizen\n",
      "[0 1]\n",
      "Partner\n",
      "['Yes' 'No']\n",
      "Dependents\n",
      "['No' 'Yes']\n",
      "\n",
      "\n",
      "internet\n",
      "--------\n",
      "customerID\n",
      "['7590-VHVEG' '5575-GNVDE' '3668-QPYBK' ... '4801-JZAZL' '8361-LTMKD'\n",
      " '3186-AJIEK']\n",
      "InternetService\n",
      "['DSL' 'Fiber optic']\n",
      "OnlineSecurity\n",
      "['No' 'Yes']\n",
      "OnlineBackup\n",
      "['Yes' 'No']\n",
      "DeviceProtection\n",
      "['No' 'Yes']\n",
      "TechSupport\n",
      "['No' 'Yes']\n",
      "StreamingTV\n",
      "['No' 'Yes']\n",
      "StreamingMovies\n",
      "['No' 'Yes']\n",
      "\n",
      "\n",
      "phone\n",
      "-----\n",
      "customerID\n",
      "['5575-GNVDE' '3668-QPYBK' '9237-HQITU' ... '2234-XADUH' '8361-LTMKD'\n",
      " '3186-AJIEK']\n",
      "MultipleLines\n",
      "['No' 'Yes']\n",
      "\n",
      "\n"
     ]
    }
   ],
   "source": [
    "# unique values\n",
    "for k,v in dfs.items():\n",
    "    print(k)\n",
    "    print('-'*len(k))\n",
    "    for column in v.columns:\n",
    "        print(column)\n",
    "        print(v[column].unique())\n",
    "    print('\\n')"
   ]
  },
  {
   "cell_type": "markdown",
   "metadata": {},
   "source": [
    "* Contract and personal dataframes have 7043 rows.\n",
    "* Internet dataframe has 5517 rows and phone dataset has 6361 rows, which can indicate that not all customers have both services.\n",
    "* In the contract dataframe `EndDate` column has two types of inputs, dates or 'No'. We'll make a copy of this column and replace in the copy the 'No' with the last date (February 1, 2020). We'll create a new column `Tenure` which will be the difference between the copied `EndDate` and `BeginDate`.\n",
    "* In contract dataframe we need to change the type of few columns (`BeginDate` to datetime object and `TotalCharges` to float).\n",
    "* The dates in the `EndDate` column will be replaced with 'Yes'.\n",
    "* All dates start on the first of the month so we'll replace the `BeginDate` column with `BeginMonth` and `BeginYear`.\n",
    "* All dataframes has the `customerID`, we will merge all dataframes based on this column.\n",
    "* In the merged dataframe we need to assure that all columns are UpperCamelCase (need to fix `customerID` and `gender`).\n",
    "* There are many binary and categorical features, later on we'll encode them."
   ]
  },
  {
   "cell_type": "markdown",
   "metadata": {},
   "source": [
    "### Missing values and duplicates\n",
    "<a class=\"anchor\" id=\"chapter1.2\"></a>"
   ]
  },
  {
   "cell_type": "code",
   "execution_count": 7,
   "metadata": {},
   "outputs": [
    {
     "data": {
      "text/plain": [
       "customerID          0\n",
       "BeginDate           0\n",
       "EndDate             0\n",
       "Type                0\n",
       "PaperlessBilling    0\n",
       "PaymentMethod       0\n",
       "MonthlyCharges      0\n",
       "TotalCharges        0\n",
       "dtype: int64"
      ]
     },
     "metadata": {},
     "output_type": "display_data"
    },
    {
     "data": {
      "text/plain": [
       "customerID       0\n",
       "gender           0\n",
       "SeniorCitizen    0\n",
       "Partner          0\n",
       "Dependents       0\n",
       "dtype: int64"
      ]
     },
     "metadata": {},
     "output_type": "display_data"
    },
    {
     "data": {
      "text/plain": [
       "customerID          0\n",
       "InternetService     0\n",
       "OnlineSecurity      0\n",
       "OnlineBackup        0\n",
       "DeviceProtection    0\n",
       "TechSupport         0\n",
       "StreamingTV         0\n",
       "StreamingMovies     0\n",
       "dtype: int64"
      ]
     },
     "metadata": {},
     "output_type": "display_data"
    },
    {
     "data": {
      "text/plain": [
       "customerID       0\n",
       "MultipleLines    0\n",
       "dtype: int64"
      ]
     },
     "metadata": {},
     "output_type": "display_data"
    }
   ],
   "source": [
    "# looking for missing values\n",
    "for k,v in dfs.items():\n",
    "    display(v.isna().sum())"
   ]
  },
  {
   "cell_type": "markdown",
   "metadata": {},
   "source": [
    "For all the columns that have a lot of string values, we will check for empty strings as well."
   ]
  },
  {
   "cell_type": "code",
   "execution_count": 8,
   "metadata": {},
   "outputs": [
    {
     "data": {
      "text/plain": [
       "0"
      ]
     },
     "metadata": {},
     "output_type": "display_data"
    },
    {
     "data": {
      "text/plain": [
       "0"
      ]
     },
     "metadata": {},
     "output_type": "display_data"
    },
    {
     "data": {
      "text/plain": [
       "0"
      ]
     },
     "metadata": {},
     "output_type": "display_data"
    },
    {
     "data": {
      "text/plain": [
       "0"
      ]
     },
     "metadata": {},
     "output_type": "display_data"
    }
   ],
   "source": [
    "# looking for emtpy strings\n",
    "for k,v in dfs.items():\n",
    "    display(v['customerID'].str.contains(' ').sum())"
   ]
  },
  {
   "cell_type": "code",
   "execution_count": 9,
   "metadata": {},
   "outputs": [
    {
     "data": {
      "text/plain": [
       "11"
      ]
     },
     "execution_count": 9,
     "metadata": {},
     "output_type": "execute_result"
    }
   ],
   "source": [
    "# looking for emtpy strings\n",
    "contract['TotalCharges'].str.contains(' ').sum()"
   ]
  },
  {
   "cell_type": "code",
   "execution_count": 10,
   "metadata": {},
   "outputs": [
    {
     "data": {
      "text/html": [
       "<div>\n",
       "<style scoped>\n",
       "    .dataframe tbody tr th:only-of-type {\n",
       "        vertical-align: middle;\n",
       "    }\n",
       "\n",
       "    .dataframe tbody tr th {\n",
       "        vertical-align: top;\n",
       "    }\n",
       "\n",
       "    .dataframe thead th {\n",
       "        text-align: right;\n",
       "    }\n",
       "</style>\n",
       "<table border=\"1\" class=\"dataframe\">\n",
       "  <thead>\n",
       "    <tr style=\"text-align: right;\">\n",
       "      <th></th>\n",
       "      <th>customerID</th>\n",
       "      <th>BeginDate</th>\n",
       "      <th>EndDate</th>\n",
       "      <th>Type</th>\n",
       "      <th>PaperlessBilling</th>\n",
       "      <th>PaymentMethod</th>\n",
       "      <th>MonthlyCharges</th>\n",
       "      <th>TotalCharges</th>\n",
       "    </tr>\n",
       "  </thead>\n",
       "  <tbody>\n",
       "    <tr>\n",
       "      <td>488</td>\n",
       "      <td>4472-LVYGI</td>\n",
       "      <td>2020-02-01</td>\n",
       "      <td>No</td>\n",
       "      <td>Two year</td>\n",
       "      <td>Yes</td>\n",
       "      <td>Bank transfer (automatic)</td>\n",
       "      <td>52.55</td>\n",
       "      <td></td>\n",
       "    </tr>\n",
       "    <tr>\n",
       "      <td>753</td>\n",
       "      <td>3115-CZMZD</td>\n",
       "      <td>2020-02-01</td>\n",
       "      <td>No</td>\n",
       "      <td>Two year</td>\n",
       "      <td>No</td>\n",
       "      <td>Mailed check</td>\n",
       "      <td>20.25</td>\n",
       "      <td></td>\n",
       "    </tr>\n",
       "    <tr>\n",
       "      <td>936</td>\n",
       "      <td>5709-LVOEQ</td>\n",
       "      <td>2020-02-01</td>\n",
       "      <td>No</td>\n",
       "      <td>Two year</td>\n",
       "      <td>No</td>\n",
       "      <td>Mailed check</td>\n",
       "      <td>80.85</td>\n",
       "      <td></td>\n",
       "    </tr>\n",
       "    <tr>\n",
       "      <td>1082</td>\n",
       "      <td>4367-NUYAO</td>\n",
       "      <td>2020-02-01</td>\n",
       "      <td>No</td>\n",
       "      <td>Two year</td>\n",
       "      <td>No</td>\n",
       "      <td>Mailed check</td>\n",
       "      <td>25.75</td>\n",
       "      <td></td>\n",
       "    </tr>\n",
       "    <tr>\n",
       "      <td>1340</td>\n",
       "      <td>1371-DWPAZ</td>\n",
       "      <td>2020-02-01</td>\n",
       "      <td>No</td>\n",
       "      <td>Two year</td>\n",
       "      <td>No</td>\n",
       "      <td>Credit card (automatic)</td>\n",
       "      <td>56.05</td>\n",
       "      <td></td>\n",
       "    </tr>\n",
       "    <tr>\n",
       "      <td>3331</td>\n",
       "      <td>7644-OMVMY</td>\n",
       "      <td>2020-02-01</td>\n",
       "      <td>No</td>\n",
       "      <td>Two year</td>\n",
       "      <td>No</td>\n",
       "      <td>Mailed check</td>\n",
       "      <td>19.85</td>\n",
       "      <td></td>\n",
       "    </tr>\n",
       "    <tr>\n",
       "      <td>3826</td>\n",
       "      <td>3213-VVOLG</td>\n",
       "      <td>2020-02-01</td>\n",
       "      <td>No</td>\n",
       "      <td>Two year</td>\n",
       "      <td>No</td>\n",
       "      <td>Mailed check</td>\n",
       "      <td>25.35</td>\n",
       "      <td></td>\n",
       "    </tr>\n",
       "    <tr>\n",
       "      <td>4380</td>\n",
       "      <td>2520-SGTTA</td>\n",
       "      <td>2020-02-01</td>\n",
       "      <td>No</td>\n",
       "      <td>Two year</td>\n",
       "      <td>No</td>\n",
       "      <td>Mailed check</td>\n",
       "      <td>20.00</td>\n",
       "      <td></td>\n",
       "    </tr>\n",
       "    <tr>\n",
       "      <td>5218</td>\n",
       "      <td>2923-ARZLG</td>\n",
       "      <td>2020-02-01</td>\n",
       "      <td>No</td>\n",
       "      <td>One year</td>\n",
       "      <td>Yes</td>\n",
       "      <td>Mailed check</td>\n",
       "      <td>19.70</td>\n",
       "      <td></td>\n",
       "    </tr>\n",
       "    <tr>\n",
       "      <td>6670</td>\n",
       "      <td>4075-WKNIU</td>\n",
       "      <td>2020-02-01</td>\n",
       "      <td>No</td>\n",
       "      <td>Two year</td>\n",
       "      <td>No</td>\n",
       "      <td>Mailed check</td>\n",
       "      <td>73.35</td>\n",
       "      <td></td>\n",
       "    </tr>\n",
       "    <tr>\n",
       "      <td>6754</td>\n",
       "      <td>2775-SEFEE</td>\n",
       "      <td>2020-02-01</td>\n",
       "      <td>No</td>\n",
       "      <td>Two year</td>\n",
       "      <td>Yes</td>\n",
       "      <td>Bank transfer (automatic)</td>\n",
       "      <td>61.90</td>\n",
       "      <td></td>\n",
       "    </tr>\n",
       "  </tbody>\n",
       "</table>\n",
       "</div>"
      ],
      "text/plain": [
       "      customerID   BeginDate EndDate      Type PaperlessBilling  \\\n",
       "488   4472-LVYGI  2020-02-01      No  Two year              Yes   \n",
       "753   3115-CZMZD  2020-02-01      No  Two year               No   \n",
       "936   5709-LVOEQ  2020-02-01      No  Two year               No   \n",
       "1082  4367-NUYAO  2020-02-01      No  Two year               No   \n",
       "1340  1371-DWPAZ  2020-02-01      No  Two year               No   \n",
       "3331  7644-OMVMY  2020-02-01      No  Two year               No   \n",
       "3826  3213-VVOLG  2020-02-01      No  Two year               No   \n",
       "4380  2520-SGTTA  2020-02-01      No  Two year               No   \n",
       "5218  2923-ARZLG  2020-02-01      No  One year              Yes   \n",
       "6670  4075-WKNIU  2020-02-01      No  Two year               No   \n",
       "6754  2775-SEFEE  2020-02-01      No  Two year              Yes   \n",
       "\n",
       "                  PaymentMethod  MonthlyCharges TotalCharges  \n",
       "488   Bank transfer (automatic)           52.55               \n",
       "753                Mailed check           20.25               \n",
       "936                Mailed check           80.85               \n",
       "1082               Mailed check           25.75               \n",
       "1340    Credit card (automatic)           56.05               \n",
       "3331               Mailed check           19.85               \n",
       "3826               Mailed check           25.35               \n",
       "4380               Mailed check           20.00               \n",
       "5218               Mailed check           19.70               \n",
       "6670               Mailed check           73.35               \n",
       "6754  Bank transfer (automatic)           61.90               "
      ]
     },
     "execution_count": 10,
     "metadata": {},
     "output_type": "execute_result"
    }
   ],
   "source": [
    "contract.loc[contract['TotalCharges'].str.contains(' ')]"
   ]
  },
  {
   "cell_type": "markdown",
   "metadata": {},
   "source": [
    "All customers who signed up on 2020-02-01 actually have the contract for less than a month and of course they have not yet been charged any fee, and since they are new customers, we will remove them from the dataset. For this purpose we need to assure that the indexes in personal and contract datasets are the same."
   ]
  },
  {
   "cell_type": "code",
   "execution_count": 11,
   "metadata": {},
   "outputs": [
    {
     "data": {
      "text/plain": [
       "True"
      ]
     },
     "execution_count": 11,
     "metadata": {},
     "output_type": "execute_result"
    }
   ],
   "source": [
    "# check for index equlity\n",
    "personal['customerID'].equals(contract['customerID'])"
   ]
  },
  {
   "cell_type": "code",
   "execution_count": 12,
   "metadata": {},
   "outputs": [
    {
     "data": {
      "text/html": [
       "<div>\n",
       "<style scoped>\n",
       "    .dataframe tbody tr th:only-of-type {\n",
       "        vertical-align: middle;\n",
       "    }\n",
       "\n",
       "    .dataframe tbody tr th {\n",
       "        vertical-align: top;\n",
       "    }\n",
       "\n",
       "    .dataframe thead th {\n",
       "        text-align: right;\n",
       "    }\n",
       "</style>\n",
       "<table border=\"1\" class=\"dataframe\">\n",
       "  <thead>\n",
       "    <tr style=\"text-align: right;\">\n",
       "      <th></th>\n",
       "      <th>customerID</th>\n",
       "      <th>BeginDate</th>\n",
       "      <th>EndDate</th>\n",
       "      <th>Type</th>\n",
       "      <th>PaperlessBilling</th>\n",
       "      <th>PaymentMethod</th>\n",
       "      <th>MonthlyCharges</th>\n",
       "      <th>TotalCharges</th>\n",
       "    </tr>\n",
       "  </thead>\n",
       "  <tbody>\n",
       "  </tbody>\n",
       "</table>\n",
       "</div>"
      ],
      "text/plain": [
       "Empty DataFrame\n",
       "Columns: [customerID, BeginDate, EndDate, Type, PaperlessBilling, PaymentMethod, MonthlyCharges, TotalCharges]\n",
       "Index: []"
      ]
     },
     "execution_count": 12,
     "metadata": {},
     "output_type": "execute_result"
    }
   ],
   "source": [
    "# remove new customers\n",
    "personal.drop(contract[contract['TotalCharges'].str.contains(' ')].index, inplace=True)\n",
    "contract.drop(contract[contract['TotalCharges'].str.contains(' ')].index, inplace=True)\n",
    "# check if removed correctly\n",
    "contract.loc[contract['TotalCharges'].str.contains(' ')]"
   ]
  },
  {
   "cell_type": "code",
   "execution_count": 13,
   "metadata": {},
   "outputs": [
    {
     "data": {
      "text/plain": [
       "0"
      ]
     },
     "metadata": {},
     "output_type": "display_data"
    },
    {
     "data": {
      "text/plain": [
       "0"
      ]
     },
     "metadata": {},
     "output_type": "display_data"
    },
    {
     "data": {
      "text/plain": [
       "0"
      ]
     },
     "metadata": {},
     "output_type": "display_data"
    },
    {
     "data": {
      "text/plain": [
       "0"
      ]
     },
     "metadata": {},
     "output_type": "display_data"
    }
   ],
   "source": [
    "# looking for duplicated ids\n",
    "for k,v in dfs.items():\n",
    "    display(v['customerID'].duplicated().sum())"
   ]
  },
  {
   "cell_type": "markdown",
   "metadata": {},
   "source": [
    "Now ther's no missing values or duplicates!"
   ]
  },
  {
   "cell_type": "markdown",
   "metadata": {},
   "source": [
    "### Converting to desired data types\n",
    "<a class=\"anchor\" id=\"chapter1.3\"></a>"
   ]
  },
  {
   "cell_type": "code",
   "execution_count": 14,
   "metadata": {},
   "outputs": [],
   "source": [
    "# convert from object to datetime\n",
    "contract['BeginDate'] = pd.to_datetime(contract['BeginDate'])"
   ]
  },
  {
   "cell_type": "code",
   "execution_count": 15,
   "metadata": {},
   "outputs": [],
   "source": [
    "# convert from object to float\n",
    "contract['TotalCharges'] = pd.to_numeric(contract['TotalCharges'], errors='coerce')"
   ]
  },
  {
   "cell_type": "code",
   "execution_count": 16,
   "metadata": {},
   "outputs": [
    {
     "data": {
      "text/plain": [
       "customerID                  object\n",
       "BeginDate           datetime64[ns]\n",
       "EndDate                     object\n",
       "Type                        object\n",
       "PaperlessBilling            object\n",
       "PaymentMethod               object\n",
       "MonthlyCharges             float64\n",
       "TotalCharges               float64\n",
       "dtype: object"
      ]
     },
     "execution_count": 16,
     "metadata": {},
     "output_type": "execute_result"
    }
   ],
   "source": [
    "# check if converted correctly\n",
    "contract.dtypes"
   ]
  },
  {
   "cell_type": "markdown",
   "metadata": {},
   "source": [
    "### Additional features\n",
    "<a class=\"anchor\" id=\"chapter1.4\"></a>"
   ]
  },
  {
   "cell_type": "markdown",
   "metadata": {},
   "source": [
    "We would like to add two features to the contract dataset:\n",
    "- `Churn` - Our target value (values of Yes/No). Based on a copy of the `EndDate`.\n",
    "- `Tenure` - Number of days the customer has a contract with the company. It will be calculated as the difference between the `EndDate` and `BeginDate`. \n",
    "- `BeginMonth` and `BeginYear` - All the dates begin with the first of the month, so we can refer only to the month and the year."
   ]
  },
  {
   "cell_type": "code",
   "execution_count": 17,
   "metadata": {},
   "outputs": [],
   "source": [
    "# create the target feature based on the EndDate column\n",
    "contract['Churn'] = contract['EndDate'].copy()"
   ]
  },
  {
   "cell_type": "code",
   "execution_count": 18,
   "metadata": {},
   "outputs": [],
   "source": [
    "# replace the 'No' values with the last valid date (2020-02-01)\n",
    "contract['EndDate'].replace(to_replace = 'No', value = '2020-02-01', inplace = True)\n",
    "# convert from object to datetime\n",
    "contract['EndDate'] = pd.to_datetime(contract['EndDate'])"
   ]
  },
  {
   "cell_type": "code",
   "execution_count": 19,
   "metadata": {},
   "outputs": [],
   "source": [
    "# create a new feature - Tenure\n",
    "contract['Tenure'] = (contract['EndDate'] - contract['BeginDate']).dt.days"
   ]
  },
  {
   "cell_type": "code",
   "execution_count": 20,
   "metadata": {},
   "outputs": [],
   "source": [
    "# replace the specified dates in the EndDate with 'Yes' for churned customers\n",
    "contract.loc[~(contract.Churn == 'No'), 'Churn'] = 'Yes'"
   ]
  },
  {
   "cell_type": "code",
   "execution_count": 21,
   "metadata": {},
   "outputs": [],
   "source": [
    "contract['BeginMonth'] = contract.BeginDate.dt.month\n",
    "contract['BeginYear'] = contract.BeginDate.dt.year"
   ]
  },
  {
   "cell_type": "markdown",
   "metadata": {},
   "source": [
    "### Merging the dataframes\n",
    "<a class=\"anchor\" id=\"chapter1.5\"></a>"
   ]
  },
  {
   "cell_type": "code",
   "execution_count": 22,
   "metadata": {},
   "outputs": [
    {
     "data": {
      "text/html": [
       "<div>\n",
       "<style scoped>\n",
       "    .dataframe tbody tr th:only-of-type {\n",
       "        vertical-align: middle;\n",
       "    }\n",
       "\n",
       "    .dataframe tbody tr th {\n",
       "        vertical-align: top;\n",
       "    }\n",
       "\n",
       "    .dataframe thead th {\n",
       "        text-align: right;\n",
       "    }\n",
       "</style>\n",
       "<table border=\"1\" class=\"dataframe\">\n",
       "  <thead>\n",
       "    <tr style=\"text-align: right;\">\n",
       "      <th></th>\n",
       "      <th>customerID</th>\n",
       "      <th>gender</th>\n",
       "      <th>SeniorCitizen</th>\n",
       "      <th>Partner</th>\n",
       "      <th>Dependents</th>\n",
       "      <th>BeginDate</th>\n",
       "      <th>EndDate</th>\n",
       "      <th>Type</th>\n",
       "      <th>PaperlessBilling</th>\n",
       "      <th>PaymentMethod</th>\n",
       "      <th>...</th>\n",
       "      <th>BeginMonth</th>\n",
       "      <th>BeginYear</th>\n",
       "      <th>MultipleLines</th>\n",
       "      <th>InternetService</th>\n",
       "      <th>OnlineSecurity</th>\n",
       "      <th>OnlineBackup</th>\n",
       "      <th>DeviceProtection</th>\n",
       "      <th>TechSupport</th>\n",
       "      <th>StreamingTV</th>\n",
       "      <th>StreamingMovies</th>\n",
       "    </tr>\n",
       "  </thead>\n",
       "  <tbody>\n",
       "    <tr>\n",
       "      <td>0</td>\n",
       "      <td>7590-VHVEG</td>\n",
       "      <td>Female</td>\n",
       "      <td>0</td>\n",
       "      <td>Yes</td>\n",
       "      <td>No</td>\n",
       "      <td>2020-01-01</td>\n",
       "      <td>2020-02-01</td>\n",
       "      <td>Month-to-month</td>\n",
       "      <td>Yes</td>\n",
       "      <td>Electronic check</td>\n",
       "      <td>...</td>\n",
       "      <td>1</td>\n",
       "      <td>2020</td>\n",
       "      <td>NaN</td>\n",
       "      <td>DSL</td>\n",
       "      <td>No</td>\n",
       "      <td>Yes</td>\n",
       "      <td>No</td>\n",
       "      <td>No</td>\n",
       "      <td>No</td>\n",
       "      <td>No</td>\n",
       "    </tr>\n",
       "    <tr>\n",
       "      <td>1</td>\n",
       "      <td>5575-GNVDE</td>\n",
       "      <td>Male</td>\n",
       "      <td>0</td>\n",
       "      <td>No</td>\n",
       "      <td>No</td>\n",
       "      <td>2017-04-01</td>\n",
       "      <td>2020-02-01</td>\n",
       "      <td>One year</td>\n",
       "      <td>No</td>\n",
       "      <td>Mailed check</td>\n",
       "      <td>...</td>\n",
       "      <td>4</td>\n",
       "      <td>2017</td>\n",
       "      <td>No</td>\n",
       "      <td>DSL</td>\n",
       "      <td>Yes</td>\n",
       "      <td>No</td>\n",
       "      <td>Yes</td>\n",
       "      <td>No</td>\n",
       "      <td>No</td>\n",
       "      <td>No</td>\n",
       "    </tr>\n",
       "    <tr>\n",
       "      <td>2</td>\n",
       "      <td>3668-QPYBK</td>\n",
       "      <td>Male</td>\n",
       "      <td>0</td>\n",
       "      <td>No</td>\n",
       "      <td>No</td>\n",
       "      <td>2019-10-01</td>\n",
       "      <td>2019-12-01</td>\n",
       "      <td>Month-to-month</td>\n",
       "      <td>Yes</td>\n",
       "      <td>Mailed check</td>\n",
       "      <td>...</td>\n",
       "      <td>10</td>\n",
       "      <td>2019</td>\n",
       "      <td>No</td>\n",
       "      <td>DSL</td>\n",
       "      <td>Yes</td>\n",
       "      <td>Yes</td>\n",
       "      <td>No</td>\n",
       "      <td>No</td>\n",
       "      <td>No</td>\n",
       "      <td>No</td>\n",
       "    </tr>\n",
       "    <tr>\n",
       "      <td>3</td>\n",
       "      <td>7795-CFOCW</td>\n",
       "      <td>Male</td>\n",
       "      <td>0</td>\n",
       "      <td>No</td>\n",
       "      <td>No</td>\n",
       "      <td>2016-05-01</td>\n",
       "      <td>2020-02-01</td>\n",
       "      <td>One year</td>\n",
       "      <td>No</td>\n",
       "      <td>Bank transfer (automatic)</td>\n",
       "      <td>...</td>\n",
       "      <td>5</td>\n",
       "      <td>2016</td>\n",
       "      <td>NaN</td>\n",
       "      <td>DSL</td>\n",
       "      <td>Yes</td>\n",
       "      <td>No</td>\n",
       "      <td>Yes</td>\n",
       "      <td>Yes</td>\n",
       "      <td>No</td>\n",
       "      <td>No</td>\n",
       "    </tr>\n",
       "    <tr>\n",
       "      <td>4</td>\n",
       "      <td>9237-HQITU</td>\n",
       "      <td>Female</td>\n",
       "      <td>0</td>\n",
       "      <td>No</td>\n",
       "      <td>No</td>\n",
       "      <td>2019-09-01</td>\n",
       "      <td>2019-11-01</td>\n",
       "      <td>Month-to-month</td>\n",
       "      <td>Yes</td>\n",
       "      <td>Electronic check</td>\n",
       "      <td>...</td>\n",
       "      <td>9</td>\n",
       "      <td>2019</td>\n",
       "      <td>No</td>\n",
       "      <td>Fiber optic</td>\n",
       "      <td>No</td>\n",
       "      <td>No</td>\n",
       "      <td>No</td>\n",
       "      <td>No</td>\n",
       "      <td>No</td>\n",
       "      <td>No</td>\n",
       "    </tr>\n",
       "  </tbody>\n",
       "</table>\n",
       "<p>5 rows × 24 columns</p>\n",
       "</div>"
      ],
      "text/plain": [
       "   customerID  gender  SeniorCitizen Partner Dependents  BeginDate    EndDate  \\\n",
       "0  7590-VHVEG  Female              0     Yes         No 2020-01-01 2020-02-01   \n",
       "1  5575-GNVDE    Male              0      No         No 2017-04-01 2020-02-01   \n",
       "2  3668-QPYBK    Male              0      No         No 2019-10-01 2019-12-01   \n",
       "3  7795-CFOCW    Male              0      No         No 2016-05-01 2020-02-01   \n",
       "4  9237-HQITU  Female              0      No         No 2019-09-01 2019-11-01   \n",
       "\n",
       "             Type PaperlessBilling              PaymentMethod  ...  \\\n",
       "0  Month-to-month              Yes           Electronic check  ...   \n",
       "1        One year               No               Mailed check  ...   \n",
       "2  Month-to-month              Yes               Mailed check  ...   \n",
       "3        One year               No  Bank transfer (automatic)  ...   \n",
       "4  Month-to-month              Yes           Electronic check  ...   \n",
       "\n",
       "   BeginMonth  BeginYear MultipleLines  InternetService  OnlineSecurity  \\\n",
       "0           1       2020           NaN              DSL              No   \n",
       "1           4       2017            No              DSL             Yes   \n",
       "2          10       2019            No              DSL             Yes   \n",
       "3           5       2016           NaN              DSL             Yes   \n",
       "4           9       2019            No      Fiber optic              No   \n",
       "\n",
       "   OnlineBackup DeviceProtection TechSupport StreamingTV StreamingMovies  \n",
       "0           Yes               No          No          No              No  \n",
       "1            No              Yes          No          No              No  \n",
       "2           Yes               No          No          No              No  \n",
       "3            No              Yes         Yes          No              No  \n",
       "4            No               No          No          No              No  \n",
       "\n",
       "[5 rows x 24 columns]"
      ]
     },
     "execution_count": 22,
     "metadata": {},
     "output_type": "execute_result"
    }
   ],
   "source": [
    "data = personal.merge(contract, on='customerID', how='left')\n",
    "data = data.merge(phone, on='customerID', how='left')\n",
    "data = data.merge(internet, on='customerID', how='left')\n",
    "data.head()"
   ]
  },
  {
   "cell_type": "code",
   "execution_count": 23,
   "metadata": {},
   "outputs": [
    {
     "name": "stdout",
     "output_type": "stream",
     "text": [
      "Number of customres: 7032\n"
     ]
    }
   ],
   "source": [
    "print(f\"Number of customres: {len(data)}\")"
   ]
  },
  {
   "cell_type": "code",
   "execution_count": 24,
   "metadata": {},
   "outputs": [
    {
     "data": {
      "text/plain": [
       "customerID             0\n",
       "gender                 0\n",
       "SeniorCitizen          0\n",
       "Partner                0\n",
       "Dependents             0\n",
       "BeginDate              0\n",
       "EndDate                0\n",
       "Type                   0\n",
       "PaperlessBilling       0\n",
       "PaymentMethod          0\n",
       "MonthlyCharges         0\n",
       "TotalCharges           0\n",
       "Churn                  0\n",
       "Tenure                 0\n",
       "BeginMonth             0\n",
       "BeginYear              0\n",
       "MultipleLines        680\n",
       "InternetService     1520\n",
       "OnlineSecurity      1520\n",
       "OnlineBackup        1520\n",
       "DeviceProtection    1520\n",
       "TechSupport         1520\n",
       "StreamingTV         1520\n",
       "StreamingMovies     1520\n",
       "dtype: int64"
      ]
     },
     "execution_count": 24,
     "metadata": {},
     "output_type": "execute_result"
    }
   ],
   "source": [
    "# missing values in each column\n",
    "data.isna().sum()"
   ]
  },
  {
   "cell_type": "markdown",
   "metadata": {},
   "source": [
    "As a result of the mergings we got some rows that have NaN values for the phone and internet services. We have 680 rows with missing values in the `MultipleLines` column, which reffers to the phone service and 1520 missing values in the columns that reffer to the internet services. As the `TotalCharges` doesn't have missing values at all, we assume that they actually paying for some services. We assume that there are customers that uses only one of the two srvices - only phone srevice or only internet service."
   ]
  },
  {
   "cell_type": "code",
   "execution_count": 25,
   "metadata": {},
   "outputs": [
    {
     "name": "stdout",
     "output_type": "stream",
     "text": [
      "Rows with missing values in one of the services: 2200\n"
     ]
    },
    {
     "data": {
      "text/html": [
       "<div>\n",
       "<style scoped>\n",
       "    .dataframe tbody tr th:only-of-type {\n",
       "        vertical-align: middle;\n",
       "    }\n",
       "\n",
       "    .dataframe tbody tr th {\n",
       "        vertical-align: top;\n",
       "    }\n",
       "\n",
       "    .dataframe thead th {\n",
       "        text-align: right;\n",
       "    }\n",
       "</style>\n",
       "<table border=\"1\" class=\"dataframe\">\n",
       "  <thead>\n",
       "    <tr style=\"text-align: right;\">\n",
       "      <th></th>\n",
       "      <th>MultipleLines</th>\n",
       "      <th>InternetService</th>\n",
       "    </tr>\n",
       "  </thead>\n",
       "  <tbody>\n",
       "    <tr>\n",
       "      <td>0</td>\n",
       "      <td>NaN</td>\n",
       "      <td>DSL</td>\n",
       "    </tr>\n",
       "    <tr>\n",
       "      <td>3</td>\n",
       "      <td>NaN</td>\n",
       "      <td>DSL</td>\n",
       "    </tr>\n",
       "    <tr>\n",
       "      <td>7</td>\n",
       "      <td>NaN</td>\n",
       "      <td>DSL</td>\n",
       "    </tr>\n",
       "    <tr>\n",
       "      <td>11</td>\n",
       "      <td>No</td>\n",
       "      <td>NaN</td>\n",
       "    </tr>\n",
       "    <tr>\n",
       "      <td>16</td>\n",
       "      <td>No</td>\n",
       "      <td>NaN</td>\n",
       "    </tr>\n",
       "  </tbody>\n",
       "</table>\n",
       "</div>"
      ],
      "text/plain": [
       "   MultipleLines InternetService\n",
       "0            NaN             DSL\n",
       "3            NaN             DSL\n",
       "7            NaN             DSL\n",
       "11            No             NaN\n",
       "16            No             NaN"
      ]
     },
     "metadata": {},
     "output_type": "display_data"
    }
   ],
   "source": [
    "print(f\"Rows with missing values in one of the services: {len(data[data.isna().any(axis=1)])}\")\n",
    "display(data[data.isna().any(axis=1)][['MultipleLines','InternetService']].head())"
   ]
  },
  {
   "cell_type": "markdown",
   "metadata": {},
   "source": [
    "There are 2200 rows with missing values in one of the services. We can see that those who don't have phone services, do have some internet services and vice versa. Also we can see that the sum of the missing values as we mentioned before, which we assume that can't accure simultaniusly is 1520 + 680 = 2200, the exact number of rows that we got now.\n",
    "For the information to be more clear we will create new columns that indicates if the customer has or not internet or phone services. In the original columns we will **replace those NaN values with 'No phone service' and 'No internet service'.** For the additional internet services we will replace the NaNs with 'No'."
   ]
  },
  {
   "cell_type": "code",
   "execution_count": 26,
   "metadata": {},
   "outputs": [],
   "source": [
    "data['MultipleLines'].fillna('No phone service', inplace = True)\n",
    "data['InternetService'].fillna('No internet service', inplace = True)\n",
    "data['HasPhone'] = data['MultipleLines'].replace(to_replace = {\"No phone service\": 0, \"No\": 1, \"Yes\":1})\n",
    "data['HasInternet'] = data['InternetService'].replace(to_replace = {\"No internet service\": 0, \"DSL\":1, \"Fiber optic\":1})\n",
    "data.fillna('No', inplace = True)"
   ]
  },
  {
   "cell_type": "code",
   "execution_count": 27,
   "metadata": {},
   "outputs": [
    {
     "data": {
      "text/plain": [
       "1    6352\n",
       "0     680\n",
       "Name: HasPhone, dtype: int64"
      ]
     },
     "metadata": {},
     "output_type": "display_data"
    },
    {
     "data": {
      "text/plain": [
       "1    5512\n",
       "0    1520\n",
       "Name: HasInternet, dtype: int64"
      ]
     },
     "metadata": {},
     "output_type": "display_data"
    }
   ],
   "source": [
    "display(data['HasPhone'].value_counts(), data['HasInternet'].value_counts())"
   ]
  },
  {
   "cell_type": "code",
   "execution_count": 28,
   "metadata": {},
   "outputs": [
    {
     "data": {
      "text/plain": [
       "customerID          0\n",
       "gender              0\n",
       "SeniorCitizen       0\n",
       "Partner             0\n",
       "Dependents          0\n",
       "BeginDate           0\n",
       "EndDate             0\n",
       "Type                0\n",
       "PaperlessBilling    0\n",
       "PaymentMethod       0\n",
       "MonthlyCharges      0\n",
       "TotalCharges        0\n",
       "Churn               0\n",
       "Tenure              0\n",
       "BeginMonth          0\n",
       "BeginYear           0\n",
       "MultipleLines       0\n",
       "InternetService     0\n",
       "OnlineSecurity      0\n",
       "OnlineBackup        0\n",
       "DeviceProtection    0\n",
       "TechSupport         0\n",
       "StreamingTV         0\n",
       "StreamingMovies     0\n",
       "HasPhone            0\n",
       "HasInternet         0\n",
       "dtype: int64"
      ]
     },
     "execution_count": 28,
     "metadata": {},
     "output_type": "execute_result"
    }
   ],
   "source": [
    "# missing values in each column\n",
    "data.isna().sum()"
   ]
  },
  {
   "cell_type": "markdown",
   "metadata": {},
   "source": [
    "### Investigating the unique end-dates\n",
    "<a class=\"anchor\" id=\"chapter1.6\"></a>"
   ]
  },
  {
   "cell_type": "code",
   "execution_count": 29,
   "metadata": {},
   "outputs": [
    {
     "data": {
      "text/plain": [
       "array(['2020-02-01T00:00:00.000000000', '2019-12-01T00:00:00.000000000',\n",
       "       '2019-11-01T00:00:00.000000000', '2019-10-01T00:00:00.000000000',\n",
       "       '2020-01-01T00:00:00.000000000'], dtype='datetime64[ns]')"
      ]
     },
     "execution_count": 29,
     "metadata": {},
     "output_type": "execute_result"
    }
   ],
   "source": [
    "data.EndDate.unique()"
   ]
  },
  {
   "cell_type": "markdown",
   "metadata": {},
   "source": [
    "There are 4 unique dates when customers left the services. **4 months in a row - October 2019 to January 2020**. Information about new customer promotions, year-end specials, new companies entering the market, etc. would be helpful."
   ]
  },
  {
   "cell_type": "markdown",
   "metadata": {},
   "source": [
    "## EDA\n",
    "***\n",
    "<a class=\"anchor\" id=\"chapter2\"></a>"
   ]
  },
  {
   "cell_type": "markdown",
   "metadata": {},
   "source": [
    "First we want to see the distribution of our target variable."
   ]
  },
  {
   "cell_type": "code",
   "execution_count": 30,
   "metadata": {},
   "outputs": [],
   "source": [
    "palette = [\"#264653\", \"#2a9d8f\", \"#e9c46a\", \"#f4a261\", \"#e76f51\"]\n",
    "sns.set_palette(palette)"
   ]
  },
  {
   "cell_type": "code",
   "execution_count": 31,
   "metadata": {},
   "outputs": [
    {
     "data": {
      "image/png": "[encoded data removed]",
      "text/plain": [
       "<Figure size 360x360 with 1 Axes>"
      ]
     },
     "metadata": {},
     "output_type": "display_data"
    }
   ],
   "source": [
    "ax = sns.catplot(x=\"Churn\", kind=\"count\", data=data)\n",
    "plt.title('Churn Distribution', weight='bold').set_fontsize('16');"
   ]
  },
  {
   "cell_type": "markdown",
   "metadata": {},
   "source": [
    "As we can see our target is binary so our task is a binary classification, and the target is unblanced, we need to choose models that can handle this imbalance and choose the right metric."
   ]
  },
  {
   "cell_type": "markdown",
   "metadata": {},
   "source": [
    "### Personal Information\n",
    "<a class=\"anchor\" id=\"chapter2.1\"></a>"
   ]
  },
  {
   "cell_type": "markdown",
   "metadata": {},
   "source": [
    "Here we'll plot some visualization of the relations between the personal information and churn."
   ]
  },
  {
   "cell_type": "code",
   "execution_count": 32,
   "metadata": {},
   "outputs": [
    {
     "data": {
      "image/png": "[encoded data removed]",
      "text/plain": [
       "<Figure size 429.375x360 with 1 Axes>"
      ]
     },
     "metadata": {},
     "output_type": "display_data"
    },
    {
     "data": {
      "image/png": "[encoded data removed]",
      "text/plain": [
       "<Figure size 427.5x360 with 1 Axes>"
      ]
     },
     "metadata": {},
     "output_type": "display_data"
    },
    {
     "data": {
      "image/png": "[encoded data removed]",
      "text/plain": [
       "<Figure size 413.25x360 with 1 Axes>"
      ]
     },
     "metadata": {},
     "output_type": "display_data"
    },
    {
     "data": {
      "image/png": "[encoded data removed]",
      "text/plain": [
       "<Figure size 422x360 with 1 Axes>"
      ]
     },
     "metadata": {},
     "output_type": "display_data"
    }
   ],
   "source": [
    "binary_features = {\"gender\" : \"Customer gender distribution\", \n",
    "                   \"SeniorCitizen\" : \"Customer age distribution\", \n",
    "                   \"Partner\" : \"Has Partner\", \n",
    "                   \"Dependents\" : \"Has Dependents\"}\n",
    "\n",
    "# plot for all binary features\n",
    "for k in binary_features:\n",
    "    ax = sns.catplot(x=\"Churn\", kind=\"count\", data=data, hue = k)\n",
    "    plt.title(binary_features[k], weight='bold').set_fontsize('16')\n",
    "    plt.show();"
   ]
  },
  {
   "cell_type": "markdown",
   "metadata": {},
   "source": [
    "- `Gender` - The churn rate is similar for both genders.\n",
    "- `SeniorCitizen` - Despite having a small percentage out of all customers, senior citizens have a much higher churn rate. This means that churn is higher for senior citizens.\n",
    "- `Partner` - Customers who have no partners are more likely to churn.\n",
    "- `Dependents` - Customers who have no dependents are more likely to churn."
   ]
  },
  {
   "cell_type": "markdown",
   "metadata": {},
   "source": [
    "### Account Information\n",
    "<a class=\"anchor\" id=\"chapter2.2\"></a>"
   ]
  },
  {
   "cell_type": "markdown",
   "metadata": {},
   "source": [
    "Now we'll plot some visualization of the relations between the account information and churn."
   ]
  },
  {
   "cell_type": "code",
   "execution_count": 33,
   "metadata": {},
   "outputs": [
    {
     "data": {
      "image/png": "[encoded data removed]",
      "text/plain": [
       "<Figure size 701.25x216 with 1 Axes>"
      ]
     },
     "metadata": {},
     "output_type": "display_data"
    },
    {
     "data": {
      "image/png": "[encoded data removed]",
      "text/plain": [
       "<Figure size 701.25x216 with 1 Axes>"
      ]
     },
     "metadata": {},
     "output_type": "display_data"
    },
    {
     "data": {
      "image/png": "[encoded data removed]",
      "text/plain": [
       "<Figure size 701.25x216 with 1 Axes>"
      ]
     },
     "metadata": {},
     "output_type": "display_data"
    }
   ],
   "source": [
    "continues_features = [\"Tenure\", \"MonthlyCharges\", \"TotalCharges\"]\n",
    "for item in continues_features:  \n",
    "    s = sns.FacetGrid(data, hue = 'Churn', aspect = 3)\n",
    "    s.map(sns.kdeplot, item, shade = True, alpha = 0.7)\n",
    "    s.set(xlim=(0, data[item].max()))\n",
    "    s.add_legend()\n",
    "    s.set_axis_labels(item, 'Density')\n",
    "    s.fig.suptitle(f\"KDE for {item}\", weight='bold')\n",
    "    plt.show()"
   ]
  },
  {
   "cell_type": "code",
   "execution_count": 34,
   "metadata": {},
   "outputs": [
    {
     "data": {
      "text/html": [
       "<div>\n",
       "<style scoped>\n",
       "    .dataframe tbody tr th:only-of-type {\n",
       "        vertical-align: middle;\n",
       "    }\n",
       "\n",
       "    .dataframe tbody tr th {\n",
       "        vertical-align: top;\n",
       "    }\n",
       "\n",
       "    .dataframe thead th {\n",
       "        text-align: right;\n",
       "    }\n",
       "</style>\n",
       "<table border=\"1\" class=\"dataframe\">\n",
       "  <thead>\n",
       "    <tr style=\"text-align: right;\">\n",
       "      <th></th>\n",
       "      <th>Tenure</th>\n",
       "      <th>MonthlyCharges</th>\n",
       "      <th>TotalCharges</th>\n",
       "    </tr>\n",
       "    <tr>\n",
       "      <th>Churn</th>\n",
       "      <th></th>\n",
       "      <th></th>\n",
       "      <th></th>\n",
       "    </tr>\n",
       "  </thead>\n",
       "  <tbody>\n",
       "    <tr>\n",
       "      <td>No</td>\n",
       "      <td>1157</td>\n",
       "      <td>64.45</td>\n",
       "      <td>1683.60</td>\n",
       "    </tr>\n",
       "    <tr>\n",
       "      <td>Yes</td>\n",
       "      <td>304</td>\n",
       "      <td>79.65</td>\n",
       "      <td>703.55</td>\n",
       "    </tr>\n",
       "  </tbody>\n",
       "</table>\n",
       "</div>"
      ],
      "text/plain": [
       "       Tenure  MonthlyCharges  TotalCharges\n",
       "Churn                                      \n",
       "No       1157           64.45       1683.60\n",
       "Yes       304           79.65        703.55"
      ]
     },
     "execution_count": 34,
     "metadata": {},
     "output_type": "execute_result"
    }
   ],
   "source": [
    "data.groupby('Churn')[['Tenure','MonthlyCharges','TotalCharges']].median()"
   ]
  },
  {
   "cell_type": "markdown",
   "metadata": {},
   "source": [
    "- `Tenure` - The median tenure for customers who have left is around 10 months (304 days), which means that recent clients are more likely to churn.\n",
    "- `MonthlyCharges` - Monthly charges for customers who have left are usually higher and are around 80.\n",
    "- `TotalCharges` - The median total charges of customers who have churned is very low, what correlates with the low tenure."
   ]
  },
  {
   "cell_type": "code",
   "execution_count": 35,
   "metadata": {
    "scrolled": false
   },
   "outputs": [
    {
     "data": {
      "image/png": "[encoded data removed]",
      "text/plain": [
       "<Figure size 466.875x360 with 1 Axes>"
      ]
     },
     "metadata": {},
     "output_type": "display_data"
    },
    {
     "data": {
      "image/png": "[encoded data removed]",
      "text/plain": [
       "<Figure size 508.125x360 with 1 Axes>"
      ]
     },
     "metadata": {},
     "output_type": "display_data"
    },
    {
     "data": {
      "image/png": "[encoded data removed]",
      "text/plain": [
       "<Figure size 473.75x360 with 1 Axes>"
      ]
     },
     "metadata": {},
     "output_type": "display_data"
    },
    {
     "data": {
      "image/png": "[encoded data removed]",
      "text/plain": [
       "<Figure size 479.5x360 with 1 Axes>"
      ]
     },
     "metadata": {},
     "output_type": "display_data"
    },
    {
     "data": {
      "image/png": "[encoded data removed]",
      "text/plain": [
       "<Figure size 439.25x360 with 1 Axes>"
      ]
     },
     "metadata": {},
     "output_type": "display_data"
    }
   ],
   "source": [
    "categorical_features = {\"Type\" : \"Type Of Contract\",\n",
    "                        \"PaymentMethod\" : \"Payment Method\",\n",
    "                        \"MultipleLines\" : \"Phone Service\",\n",
    "                        \"InternetService\" : \"Internet Service\",\n",
    "                        \"PaperlessBilling\" : \"Has paperless billing\"}\n",
    "\n",
    "# plot for all categorical features\n",
    "for k in categorical_features:\n",
    "    ax = sns.catplot(x=\"Churn\", kind=\"count\", data=data, hue = k)\n",
    "    plt.title(categorical_features[k], weight='bold').set_fontsize('16')\n",
    "    plt.show();"
   ]
  },
  {
   "cell_type": "markdown",
   "metadata": {},
   "source": [
    "- `Type` - In contrast to Customers on one or two year contracts, customers on monthly subscriptions are more likely to churn.\n",
    "- `PaymentMethod` - Customers who have electronic check payment method are more likely to churn.\n",
    "- `MultipleLines` - \n",
    "- `InternetService` - Churn rate is much higher for customers with Fiber optic internet services.\n",
    "- `PaperlessBilling` - Customers who have paperless billing are more likely to churn."
   ]
  },
  {
   "cell_type": "code",
   "execution_count": 36,
   "metadata": {},
   "outputs": [],
   "source": [
    "palette1 = [\"#001219\", \"#005f73\", \"#0a9396\", \"#94d2bd\", \"#e9d8a6\", \"#ee9b00\", \"#ca6702\", \"#bb3e03\"]"
   ]
  },
  {
   "cell_type": "code",
   "execution_count": 37,
   "metadata": {},
   "outputs": [
    {
     "data": {
      "image/png": "[encoded data removed]",
      "text/plain": [
       "<Figure size 418.5x360 with 1 Axes>"
      ]
     },
     "metadata": {},
     "output_type": "display_data"
    }
   ],
   "source": [
    "ax = sns.catplot(x=\"Churn\", kind=\"count\", data=data, hue = \"BeginYear\", palette=sns.color_palette(palette1))\n",
    "plt.title(\"Begin Year\", weight='bold').set_fontsize('16')\n",
    "plt.show();"
   ]
  },
  {
   "cell_type": "markdown",
   "metadata": {},
   "source": [
    "- `BeginYear` - The majority of customers who churned the company were those who signed up for its services in 2019."
   ]
  },
  {
   "cell_type": "markdown",
   "metadata": {},
   "source": [
    "### Additional services used by the customer\n",
    "<a class=\"anchor\" id=\"chapter2.3\"></a>"
   ]
  },
  {
   "cell_type": "code",
   "execution_count": 38,
   "metadata": {
    "scrolled": false
   },
   "outputs": [
    {
     "data": {
      "image/png": "[encoded data removed]",
      "text/plain": [
       "<Figure size 433x360 with 1 Axes>"
      ]
     },
     "metadata": {},
     "output_type": "display_data"
    },
    {
     "data": {
      "image/png": "[encoded data removed]",
      "text/plain": [
       "<Figure size 430.125x360 with 1 Axes>"
      ]
     },
     "metadata": {},
     "output_type": "display_data"
    },
    {
     "data": {
      "image/png": "[encoded data removed]",
      "text/plain": [
       "<Figure size 443.875x360 with 1 Axes>"
      ]
     },
     "metadata": {},
     "output_type": "display_data"
    },
    {
     "data": {
      "image/png": "[encoded data removed]",
      "text/plain": [
       "<Figure size 425.109x360 with 1 Axes>"
      ]
     },
     "metadata": {},
     "output_type": "display_data"
    },
    {
     "data": {
      "image/png": "[encoded data removed]",
      "text/plain": [
       "<Figure size 426.125x360 with 1 Axes>"
      ]
     },
     "metadata": {},
     "output_type": "display_data"
    },
    {
     "data": {
      "image/png": "[encoded data removed]",
      "text/plain": [
       "<Figure size 445.25x360 with 1 Axes>"
      ]
     },
     "metadata": {},
     "output_type": "display_data"
    }
   ],
   "source": [
    "binary_features = {\"OnlineSecurity\" : \"Has Online Security\", \n",
    "                   \"OnlineBackup\" : \"Has Online Backup\", \n",
    "                   \"DeviceProtection\" : \"Has Device Protection\", \n",
    "                   \"TechSupport\" : \"Has Tech Support\",\n",
    "                   \"StreamingTV\" : \"Has Streaming TV\",\n",
    "                   \"StreamingMovies\" : \"Has Streaming Movies\"}\n",
    "\n",
    "# plot for all binary features\n",
    "for k in binary_features:\n",
    "    ax = sns.catplot(x=\"Churn\", kind=\"count\", data=data, hue = k)\n",
    "    plt.title(binary_features[k], weight='bold').set_fontsize('16')\n",
    "    plt.show();"
   ]
  },
  {
   "cell_type": "markdown",
   "metadata": {},
   "source": [
    "- `OnlineSecurity` - Customers who have no online security service are more likely to churn.\n",
    "- `OnlineBackup` - Customers who have no online backup service are more likely to churn.\n",
    "- `DeviceProtection` - Customers who have no device protection service are more likely to churn.\n",
    "- `TechSupport` - Customers who have no tech support service are more likely to churn.\n",
    "- `StreamingTV` - Customers with a Streaming TV service are more likely to churn.\n",
    "- `StreamingMovies` - Customers with a Streaming Movies service are more likely to churn."
   ]
  },
  {
   "cell_type": "markdown",
   "metadata": {},
   "source": [
    "### Correlations between features and target\n",
    "<a class=\"anchor\" id=\"chapter2.4\"></a>"
   ]
  },
  {
   "cell_type": "markdown",
   "metadata": {},
   "source": [
    "For revealing the correlation of the categorical fatures with the target, we'll make a copy of the data and make some manipulations based on the results of the graphs above.\n",
    "Binary features will be converted to numeric values of 0 and 1.\n",
    "Categorical features will get the values in the ordere that were shown in the graphs."
   ]
  },
  {
   "cell_type": "code",
   "execution_count": 39,
   "metadata": {},
   "outputs": [],
   "source": [
    "data_copy = data.copy()"
   ]
  },
  {
   "cell_type": "code",
   "execution_count": 40,
   "metadata": {},
   "outputs": [],
   "source": [
    "# list of binary features\n",
    "binary_features = [\"OnlineSecurity\", \"OnlineBackup\" , \"DeviceProtection\", \"TechSupport\", \"StreamingTV\", \"StreamingMovies\",\n",
    "                   \"Partner\" , \"Dependents\" , \"PaperlessBilling\", \"Churn\"]"
   ]
  },
  {
   "cell_type": "code",
   "execution_count": 41,
   "metadata": {},
   "outputs": [],
   "source": [
    "# encode the strings to numeric values\n",
    "for f in binary_features:\n",
    "    data_copy[f].replace(to_replace = {\"Yes\": 1, \"No\": 0}, inplace = True)"
   ]
  },
  {
   "cell_type": "code",
   "execution_count": 42,
   "metadata": {},
   "outputs": [],
   "source": [
    "data_copy.gender.replace(to_replace = {\"Male\" : 0, \"Female\" : 1}, inplace = True)\n",
    "data_copy.Type.replace(to_replace = {\"Month-to-month\" : 0, \"One year\" : 1, \"Two year\" : 2}, inplace = True)\n",
    "data_copy.PaymentMethod.replace(to_replace = {\"Electronic check\" : 0, \"Mailed check\": 1, \n",
    "                                                 \"Bank transfer (automatic)\":2, \"Credit card (automatic)\":3}, inplace = True)\n",
    "data_copy.MultipleLines.replace(to_replace = {\"No phone service\": 0, \"No\": 1, \"Yes\" : 2}, inplace = True)\n",
    "data_copy.InternetService.replace(to_replace = {\"No internet service\" : 0, \"DSL\" :1, \"Fiber optic\" : 2}, inplace = True)"
   ]
  },
  {
   "cell_type": "code",
   "execution_count": 43,
   "metadata": {},
   "outputs": [],
   "source": [
    "# find the correlations of the target with the features\n",
    "churn_corr = data_copy.corr()['Churn'].sort_values(ascending = False)"
   ]
  },
  {
   "cell_type": "code",
   "execution_count": 44,
   "metadata": {},
   "outputs": [],
   "source": [
    "# assign the red color for negative values and green for positive values\n",
    "colors = ['red' if x < 0 else 'green' for x in churn_corr]"
   ]
  },
  {
   "cell_type": "code",
   "execution_count": 45,
   "metadata": {},
   "outputs": [
    {
     "data": {
      "image/png": "[encoded data removed]",
      "text/plain": [
       "<Figure size 864x576 with 1 Axes>"
      ]
     },
     "metadata": {},
     "output_type": "display_data"
    }
   ],
   "source": [
    "# plot the correlations\n",
    "plt.figure(figsize=(12,8))\n",
    "plt.hlines(y = churn_corr.index, xmin = 0, xmax= churn_corr, color = colors, alpha = 0.4, linewidth = 10);\n",
    "plt.title('Corrleations between Churn and other features', weight='bold').set_fontsize('16');"
   ]
  },
  {
   "cell_type": "markdown",
   "metadata": {},
   "source": [
    "Based on our analysis, we see that the following features are most correlated with the target:\n",
    "`InternetService`, `BeginYear`, `HasInternet`, `Type`, `Tenure`, `PaymentMethod` and `TotalCharges`."
   ]
  },
  {
   "cell_type": "markdown",
   "metadata": {},
   "source": [
    "Now we want to see the correlations between the features themselves, and if there high correlation between the features, we will drop few of them."
   ]
  },
  {
   "cell_type": "code",
   "execution_count": 46,
   "metadata": {},
   "outputs": [
    {
     "data": {
      "text/html": [
       "<div>\n",
       "<style scoped>\n",
       "    .dataframe tbody tr th:only-of-type {\n",
       "        vertical-align: middle;\n",
       "    }\n",
       "\n",
       "    .dataframe tbody tr th {\n",
       "        vertical-align: top;\n",
       "    }\n",
       "\n",
       "    .dataframe thead th {\n",
       "        text-align: right;\n",
       "    }\n",
       "</style>\n",
       "<table border=\"1\" class=\"dataframe\">\n",
       "  <thead>\n",
       "    <tr style=\"text-align: right;\">\n",
       "      <th></th>\n",
       "      <th>Churn</th>\n",
       "      <th>InternetService</th>\n",
       "      <th>BeginYear</th>\n",
       "      <th>HasInternet</th>\n",
       "      <th>Type</th>\n",
       "      <th>Tenure</th>\n",
       "      <th>PaymentMethod</th>\n",
       "      <th>TotalCharges</th>\n",
       "    </tr>\n",
       "  </thead>\n",
       "  <tbody>\n",
       "    <tr>\n",
       "      <td>Churn</td>\n",
       "      <td>1.000000</td>\n",
       "      <td>0.316350</td>\n",
       "      <td>0.293770</td>\n",
       "      <td>0.227578</td>\n",
       "      <td>-0.396150</td>\n",
       "      <td>-0.354496</td>\n",
       "      <td>-0.262918</td>\n",
       "      <td>-0.199484</td>\n",
       "    </tr>\n",
       "    <tr>\n",
       "      <td>InternetService</td>\n",
       "      <td>0.316350</td>\n",
       "      <td>1.000000</td>\n",
       "      <td>-0.055959</td>\n",
       "      <td>0.825625</td>\n",
       "      <td>-0.288855</td>\n",
       "      <td>0.031119</td>\n",
       "      <td>-0.178655</td>\n",
       "      <td>0.428212</td>\n",
       "    </tr>\n",
       "    <tr>\n",
       "      <td>BeginYear</td>\n",
       "      <td>0.293770</td>\n",
       "      <td>-0.055959</td>\n",
       "      <td>1.000000</td>\n",
       "      <td>-0.055637</td>\n",
       "      <td>-0.654961</td>\n",
       "      <td>-0.987425</td>\n",
       "      <td>-0.326365</td>\n",
       "      <td>-0.819304</td>\n",
       "    </tr>\n",
       "    <tr>\n",
       "      <td>HasInternet</td>\n",
       "      <td>0.227578</td>\n",
       "      <td>0.825625</td>\n",
       "      <td>-0.055637</td>\n",
       "      <td>1.000000</td>\n",
       "      <td>-0.241574</td>\n",
       "      <td>0.037417</td>\n",
       "      <td>-0.117927</td>\n",
       "      <td>0.374878</td>\n",
       "    </tr>\n",
       "    <tr>\n",
       "      <td>Type</td>\n",
       "      <td>-0.396150</td>\n",
       "      <td>-0.288855</td>\n",
       "      <td>-0.654961</td>\n",
       "      <td>-0.241574</td>\n",
       "      <td>1.000000</td>\n",
       "      <td>0.676787</td>\n",
       "      <td>0.359487</td>\n",
       "      <td>0.450306</td>\n",
       "    </tr>\n",
       "    <tr>\n",
       "      <td>Tenure</td>\n",
       "      <td>-0.354496</td>\n",
       "      <td>0.031119</td>\n",
       "      <td>-0.987425</td>\n",
       "      <td>0.037417</td>\n",
       "      <td>0.676787</td>\n",
       "      <td>1.000000</td>\n",
       "      <td>0.340997</td>\n",
       "      <td>0.825811</td>\n",
       "    </tr>\n",
       "    <tr>\n",
       "      <td>PaymentMethod</td>\n",
       "      <td>-0.262918</td>\n",
       "      <td>-0.178655</td>\n",
       "      <td>-0.326365</td>\n",
       "      <td>-0.117927</td>\n",
       "      <td>0.359487</td>\n",
       "      <td>0.340997</td>\n",
       "      <td>1.000000</td>\n",
       "      <td>0.222694</td>\n",
       "    </tr>\n",
       "    <tr>\n",
       "      <td>TotalCharges</td>\n",
       "      <td>-0.199484</td>\n",
       "      <td>0.428212</td>\n",
       "      <td>-0.819304</td>\n",
       "      <td>0.374878</td>\n",
       "      <td>0.450306</td>\n",
       "      <td>0.825811</td>\n",
       "      <td>0.222694</td>\n",
       "      <td>1.000000</td>\n",
       "    </tr>\n",
       "  </tbody>\n",
       "</table>\n",
       "</div>"
      ],
      "text/plain": [
       "                    Churn  InternetService  BeginYear  HasInternet      Type  \\\n",
       "Churn            1.000000         0.316350   0.293770     0.227578 -0.396150   \n",
       "InternetService  0.316350         1.000000  -0.055959     0.825625 -0.288855   \n",
       "BeginYear        0.293770        -0.055959   1.000000    -0.055637 -0.654961   \n",
       "HasInternet      0.227578         0.825625  -0.055637     1.000000 -0.241574   \n",
       "Type            -0.396150        -0.288855  -0.654961    -0.241574  1.000000   \n",
       "Tenure          -0.354496         0.031119  -0.987425     0.037417  0.676787   \n",
       "PaymentMethod   -0.262918        -0.178655  -0.326365    -0.117927  0.359487   \n",
       "TotalCharges    -0.199484         0.428212  -0.819304     0.374878  0.450306   \n",
       "\n",
       "                   Tenure  PaymentMethod  TotalCharges  \n",
       "Churn           -0.354496      -0.262918     -0.199484  \n",
       "InternetService  0.031119      -0.178655      0.428212  \n",
       "BeginYear       -0.987425      -0.326365     -0.819304  \n",
       "HasInternet      0.037417      -0.117927      0.374878  \n",
       "Type             0.676787       0.359487      0.450306  \n",
       "Tenure           1.000000       0.340997      0.825811  \n",
       "PaymentMethod    0.340997       1.000000      0.222694  \n",
       "TotalCharges     0.825811       0.222694      1.000000  "
      ]
     },
     "execution_count": 46,
     "metadata": {},
     "output_type": "execute_result"
    }
   ],
   "source": [
    "data_copy[['Churn', 'InternetService', 'BeginYear', 'HasInternet', 'Type', 'Tenure','PaymentMethod', 'TotalCharges']].corr()"
   ]
  },
  {
   "cell_type": "markdown",
   "metadata": {},
   "source": [
    "As we can see, there is a high correlation between `Tenure` and `BeginYear` because it was calculated based on it, so we'll drop both cloumns, `BeginYear` and `BeginMonth` to avoid data leakage."
   ]
  },
  {
   "cell_type": "markdown",
   "metadata": {},
   "source": [
    "## Data preprocessing\n",
    "***\n",
    "<a class=\"anchor\" id=\"chapter3\"></a>"
   ]
  },
  {
   "cell_type": "markdown",
   "metadata": {},
   "source": [
    "We will drop some columns as they are not relavant for our task. First of all we will drop the `customerID`. Also as the `Churn` column is a modified copy of the `EndDate` column, so we'll remove `EndDate` as well. The `BeginDate` was splitted to `BeginYear` and `BeginMonth` so we'll drop the original date and the relevant data still will be available. \n",
    "As we mentioned in the previous section, we have two features that are highly correlated with the `Tenure` feature and we'll drop them too (`BeginYear` and `BeginMonth`)."
   ]
  },
  {
   "cell_type": "markdown",
   "metadata": {},
   "source": [
    "As we saw before, the task is a **Binary Classification Task**, and the target is unbalnced so we need to choose a balancing method, or use models that can handle imbalanced data."
   ]
  },
  {
   "cell_type": "code",
   "execution_count": 47,
   "metadata": {},
   "outputs": [],
   "source": [
    "# drop irrelevant columns\n",
    "data = data.drop(['customerID','EndDate','BeginDate','BeginMonth','BeginYear'], axis = 1)"
   ]
  },
  {
   "cell_type": "markdown",
   "metadata": {},
   "source": [
    "### Splitting dataset into traning and test sets\n",
    "<a class=\"anchor\" id=\"chapter3.1\"></a>"
   ]
  },
  {
   "cell_type": "code",
   "execution_count": 48,
   "metadata": {},
   "outputs": [],
   "source": [
    "# devide to target (y) and features (X), encode the target\n",
    "y = data['Churn'].replace(to_replace = {\"Yes\": 1, \"No\": 0})\n",
    "X = data.drop(['Churn'], axis = 1)"
   ]
  },
  {
   "cell_type": "code",
   "execution_count": 49,
   "metadata": {},
   "outputs": [],
   "source": [
    "# split to train and test sets\n",
    "X_train, X_test, y_train, y_test = tts(X, y, test_size=0.25, random_state=123, stratify = y)"
   ]
  },
  {
   "cell_type": "markdown",
   "metadata": {},
   "source": [
    "### Encoding and Scaling\n",
    "<a class=\"anchor\" id=\"chapter3.2\"></a>"
   ]
  },
  {
   "cell_type": "markdown",
   "metadata": {},
   "source": [
    "As our data has a lot of binary and categorical features, we need to encode them for the ML algorithms to work properly.\n",
    "Also we need to scale the numeric features."
   ]
  },
  {
   "cell_type": "code",
   "execution_count": 50,
   "metadata": {},
   "outputs": [],
   "source": [
    "categorical_features = ['SeniorCitizen', 'Partner', 'Dependents', 'Type', 'PaperlessBilling', 'gender', \n",
    "                        'MultipleLines', 'OnlineBackup' ,'DeviceProtection', 'StreamingTV', 'StreamingMovies',\n",
    "                        'PaymentMethod', 'HasPhone', 'HasInternet', 'InternetService','OnlineSecurity', 'TechSupport']\n",
    "\n",
    "categorical_transformer = OneHotEncoder(drop='first')\n",
    "\n",
    "numeric_features = ['MonthlyCharges','Tenure', 'TotalCharges']\n",
    "numeric_transformer = StandardScaler()\n",
    "\n",
    "preprocessor = ColumnTransformer(\n",
    "    transformers=[(\"cat\", categorical_transformer, categorical_features),\n",
    "                 (\"num\", numeric_transformer, numeric_features)],  remainder = 'passthrough'\n",
    ")"
   ]
  },
  {
   "cell_type": "markdown",
   "metadata": {},
   "source": [
    "## Model Building\n",
    "***\n",
    "<a class=\"anchor\" id=\"chapter4\"></a>"
   ]
  },
  {
   "cell_type": "markdown",
   "metadata": {},
   "source": [
    "Before training the models, we want to see the features importance, based on RandomForest Classifier and decide which feature are most valuble for the models."
   ]
  },
  {
   "cell_type": "code",
   "execution_count": 51,
   "metadata": {},
   "outputs": [],
   "source": [
    "# encode the categorical features\n",
    "X_fi = OneHotEncoder(drop='first').fit(X_train[categorical_features])\n",
    "# get all features name after preprocessing\n",
    "feature_names = np.append(X_fi.get_feature_names_out(categorical_features),numeric_features)"
   ]
  },
  {
   "cell_type": "code",
   "execution_count": 52,
   "metadata": {},
   "outputs": [
    {
     "data": {
      "text/plain": [
       "RandomForestClassifier(random_state=0)"
      ]
     },
     "execution_count": 52,
     "metadata": {},
     "output_type": "execute_result"
    }
   ],
   "source": [
    "forest = RandomForestClassifier(random_state=0)\n",
    "forest.fit(preprocessor.fit_transform(X_train), y_train)"
   ]
  },
  {
   "cell_type": "code",
   "execution_count": 53,
   "metadata": {},
   "outputs": [],
   "source": [
    "importances = forest.feature_importances_\n",
    "std = np.std([tree.feature_importances_ for tree in forest.estimators_], axis=0)"
   ]
  },
  {
   "cell_type": "code",
   "execution_count": 54,
   "metadata": {},
   "outputs": [
    {
     "data": {
      "image/png": "[encoded data removed]",
      "text/plain": [
       "<Figure size 576x396 with 1 Axes>"
      ]
     },
     "metadata": {},
     "output_type": "display_data"
    }
   ],
   "source": [
    "forest_importances = pd.Series(importances, index=feature_names)\n",
    "\n",
    "fig, ax = plt.subplots()\n",
    "forest_importances.plot.bar(yerr=std, ax=ax)\n",
    "ax.set_title(\"Feature importances using MDI\", weight='bold').set_fontsize('14');\n",
    "ax.set_ylabel(\"Mean decrease in impurity\")\n",
    "fig.tight_layout()"
   ]
  },
  {
   "cell_type": "markdown",
   "metadata": {},
   "source": [
    "Based on this analysis and the correlation analysis, we will drop the following columns:\n",
    "`gender`, `OnlineBackup` ,`DeviceProtection`, `StreamingTV`, `StreamingMovies` and `HasPhone`."
   ]
  },
  {
   "cell_type": "code",
   "execution_count": 55,
   "metadata": {},
   "outputs": [],
   "source": [
    "categorical_features = ['SeniorCitizen', 'Partner', 'Dependents', 'Type', 'PaperlessBilling', \n",
    "                        'MultipleLines','PaymentMethod', 'HasInternet', 'InternetService', 'OnlineSecurity', 'TechSupport']"
   ]
  },
  {
   "cell_type": "markdown",
   "metadata": {},
   "source": [
    "As our task is a binary classification task and the target is unbalanced, we will use **ROC-AUC and F1 score**."
   ]
  },
  {
   "cell_type": "markdown",
   "metadata": {},
   "source": [
    "### Base model\n",
    "<a class=\"anchor\" id=\"chapter4.1\"></a>"
   ]
  },
  {
   "cell_type": "markdown",
   "metadata": {},
   "source": [
    "* Predicting the most frequent class"
   ]
  },
  {
   "cell_type": "code",
   "execution_count": 56,
   "metadata": {},
   "outputs": [
    {
     "name": "stdout",
     "output_type": "stream",
     "text": [
      "The ROC_AUC score: 0.500\n",
      "The F1 score: 0.000\n"
     ]
    }
   ],
   "source": [
    "pipe = Pipeline(\n",
    "    steps=[(\"preprocessor\", preprocessor), (\"clf\", DummyClassifier(strategy='most_frequent', random_state=123))]\n",
    ")\n",
    "\n",
    "pipe.fit(X_train, y_train)\n",
    "y_pred = pipe.predict(X_test)\n",
    "print(f\"The ROC_AUC score: {roc_auc_score(y_test,pipe.predict_proba(X_test)[:, 1]):.3f}\")\n",
    "print(f\"The F1 score: {f1_score(y_test,y_pred):.3f}\")"
   ]
  },
  {
   "cell_type": "code",
   "execution_count": 57,
   "metadata": {},
   "outputs": [],
   "source": [
    "# function for plotting roc-curve and confusion matrix\n",
    "def plot_roc_cm(name, y_test, y_pred, pred_proba):\n",
    "    fpr, tpr, roc_thresholds = roc_curve(y_test, pred_proba)\n",
    "    roc_auc = roc_auc_score(y_test, pred_proba)    \n",
    "\n",
    "    fig, axs = plt.subplots(1, 2, figsize=(10, 4)) \n",
    "    axs[0].plot(fpr, tpr, label=f'ROC AUC={roc_auc:.3f}' )\n",
    "    axs[0].plot([0, 1], [0, 1], color='grey', linestyle='--')\n",
    "    axs[0].set_xlabel('FPR')\n",
    "    axs[0].set_ylabel('TPR')\n",
    "    axs[0].legend(loc='lower center')        \n",
    "    axs[0].set_title('ROC Curve', weight='bold', fontsize=13)\n",
    "\n",
    "    ConfusionMatrixDisplay(confusion_matrix(y_test, y_pred)).plot(ax=axs[1])\n",
    "    plt.grid(None)\n",
    "    axs[1].set_title(f\"{name} Classifier Confusion Matrix\",weight='bold',fontsize=13);"
   ]
  },
  {
   "cell_type": "code",
   "execution_count": 58,
   "metadata": {},
   "outputs": [
    {
     "data": {
      "image/png": "[encoded data removed]",
      "text/plain": [
       "<Figure size 720x288 with 3 Axes>"
      ]
     },
     "metadata": {},
     "output_type": "display_data"
    }
   ],
   "source": [
    "pred_proba = pipe.predict_proba(X_test)[:, 1]\n",
    "plot_roc_cm('Dummy',y_test,y_pred,pred_proba)"
   ]
  },
  {
   "cell_type": "markdown",
   "metadata": {},
   "source": [
    "### Logistic Regression Classifier\n",
    "<a class=\"anchor\" id=\"chapter4.2\"></a>"
   ]
  },
  {
   "cell_type": "code",
   "execution_count": 59,
   "metadata": {},
   "outputs": [
    {
     "name": "stdout",
     "output_type": "stream",
     "text": [
      "Best params:\n",
      "{'clf__C': 1000}\n",
      "Best ROC_AUC score: 0.848\n"
     ]
    }
   ],
   "source": [
    "# creating a pipeline\n",
    "pipe = Pipeline(\n",
    "    steps=[(\"preprocessor\", preprocessor), (\"clf\", LogisticRegression(class_weight='balanced', random_state = 123))]\n",
    ")\n",
    "\n",
    "param_grid = {\n",
    "    \"clf__C\" : [1, 10, 100, 1000]\n",
    "}\n",
    "\n",
    "grid = GridSearchCV(pipe, param_grid, cv=5, scoring = 'roc_auc')\n",
    "\n",
    "grid.fit(X_train, y_train)\n",
    "\n",
    "print(\"Best params:\")\n",
    "print(grid.best_params_)\n",
    "\n",
    "print(f\"Best ROC_AUC score: {grid.best_score_:.3f}\")"
   ]
  },
  {
   "cell_type": "markdown",
   "metadata": {},
   "source": [
    "### Random Forest Classifier\n",
    "<a class=\"anchor\" id=\"chapter4.3\"></a>"
   ]
  },
  {
   "cell_type": "code",
   "execution_count": 60,
   "metadata": {},
   "outputs": [
    {
     "name": "stdout",
     "output_type": "stream",
     "text": [
      "Best params:\n",
      "{'clf__max_depth': 10, 'clf__max_leaf_nodes': 50, 'clf__n_estimators': 300}\n",
      "Best ROC_AUC score: 0.862\n"
     ]
    }
   ],
   "source": [
    "# creating a pipeline\n",
    "pipe = Pipeline(\n",
    "    steps=[(\"preprocessor\", preprocessor), (\"clf\", RandomForestClassifier(class_weight = 'balanced', random_state=123))]\n",
    ")\n",
    "\n",
    "param_grid = {\n",
    "    \"clf__n_estimators\" : [100, 200, 300],\n",
    "    \"clf__max_depth\" : [8, 10, 15],\n",
    "    \"clf__max_leaf_nodes\" : [30, 40, 50]\n",
    "}\n",
    "\n",
    "grid = GridSearchCV(pipe, param_grid, cv=5, scoring = 'roc_auc')\n",
    "\n",
    "grid.fit(X_train, y_train)\n",
    "\n",
    "print(\"Best params:\")\n",
    "print(grid.best_params_)\n",
    "\n",
    "print(f\"Best ROC_AUC score: {grid.best_score_:.3f}\")"
   ]
  },
  {
   "cell_type": "markdown",
   "metadata": {},
   "source": [
    "### XGB Classifier\n",
    "<a class=\"anchor\" id=\"chapter4.4\"></a>"
   ]
  },
  {
   "cell_type": "markdown",
   "metadata": {},
   "source": [
    "In order to deal with the unbalanced data we need to define the scale_pos_weight which is the majority count devided by the minority count (0: 0.734, 1: 0.265).\n",
    "**scale_pos_weight = neg_count/pos_count = 0.734/0.265 = 2.769**"
   ]
  },
  {
   "cell_type": "code",
   "execution_count": 61,
   "metadata": {},
   "outputs": [
    {
     "name": "stdout",
     "output_type": "stream",
     "text": [
      "Best params:\n",
      "{'clf__learning_rate': 0.2, 'clf__max_depth': 5, 'clf__n_estimators': 300}\n",
      "Best ROC_AUC score: 0.901\n"
     ]
    }
   ],
   "source": [
    "# creating a pipeline\n",
    "pipe = Pipeline(\n",
    "    steps=[(\"preprocessor\", preprocessor), (\"clf\", XGBClassifier(eval_metric= [\"logloss\"], \n",
    "                                                                 scale_pos_weight = 2.7 , random_state=123))]\n",
    ")\n",
    "\n",
    "param_grid = {\n",
    "    \"clf__learning_rate\" : [0.05, 0.1, 0.2],\n",
    "    \"clf__n_estimators\" : [100, 200, 300],\n",
    "    \"clf__max_depth\" : [5, 8, 10]\n",
    "}\n",
    "\n",
    "grid = GridSearchCV(pipe, param_grid, cv=5, scoring = 'roc_auc')\n",
    "\n",
    "grid.fit(X_train, y_train)\n",
    "\n",
    "print(\"Best params:\")\n",
    "print(grid.best_params_)\n",
    "\n",
    "print(f\"Best ROC_AUC score: {grid.best_score_:.3f}\")"
   ]
  },
  {
   "cell_type": "markdown",
   "metadata": {},
   "source": [
    "### LGBM Classifier\n",
    "<a class=\"anchor\" id=\"chapter4.5\"></a>"
   ]
  },
  {
   "cell_type": "code",
   "execution_count": 62,
   "metadata": {},
   "outputs": [
    {
     "name": "stdout",
     "output_type": "stream",
     "text": [
      "Best params:\n",
      "{'clf__lambda_l1': 1, 'clf__lambda_l2': 0, 'clf__learning_rate': 0.2, 'clf__max_depth': 3, 'clf__n_estimators': 1000}\n",
      "Best ROC_AUC score: 0.909\n"
     ]
    }
   ],
   "source": [
    "# creating a pipeline\n",
    "pipe = Pipeline(\n",
    "    steps=[(\"preprocessor\", preprocessor), (\"clf\", LGBMClassifier(scale_pos_weight = 2.7, \n",
    "                                                                  metric = \"binary_logloss\", random_state=123))]\n",
    ")\n",
    "\n",
    "param_grid = {\n",
    "    \"clf__learning_rate\" : [0.1, 0.2, 0.3], \n",
    "    \"clf__n_estimators\" : [500, 700, 1000],\n",
    "    \"clf__max_depth\" : [3, 5, 8, 10, 12],\n",
    "    \"clf__lambda_l1\" : [0, 1],\n",
    "    \"clf__lambda_l2\" : [0, 1]\n",
    "}\n",
    "\n",
    "grid = GridSearchCV(pipe, param_grid, cv=5, scoring = 'roc_auc')\n",
    "\n",
    "grid.fit(X_train, y_train)\n",
    "\n",
    "print(\"Best params:\")\n",
    "print(grid.best_params_)\n",
    "\n",
    "print(f\"Best ROC_AUC score: {grid.best_score_:.3f}\")"
   ]
  },
  {
   "cell_type": "markdown",
   "metadata": {},
   "source": [
    "### Neural Network\n",
    "<a class=\"anchor\" id=\"chapter4.6\"></a>"
   ]
  },
  {
   "cell_type": "markdown",
   "metadata": {},
   "source": [
    "In order to deal with the unbalanced data, we need to define the class_weights parameter. We will do that using the compute_class_weight function."
   ]
  },
  {
   "cell_type": "code",
   "execution_count": 63,
   "metadata": {},
   "outputs": [],
   "source": [
    "classifier = Sequential()\n",
    "\n",
    "# input layer and first hidden layer\n",
    "classifier.add(Dense(6, activation='relu',input_dim = 25))\n",
    "\n",
    "# second hidden layer\n",
    "classifier.add(Dense(6, activation='relu'))\n",
    "\n",
    "# output layer\n",
    "classifier.add(Dense(1, activation = 'sigmoid'))\n",
    "\n",
    "classifier.compile(optimizer='adam', loss='binary_crossentropy', metrics = ['AUC'])"
   ]
  },
  {
   "cell_type": "code",
   "execution_count": 64,
   "metadata": {},
   "outputs": [],
   "source": [
    "# preprocess the training set\n",
    "X_train_nn = preprocessor.fit_transform(X_train)"
   ]
  },
  {
   "cell_type": "code",
   "execution_count": 65,
   "metadata": {},
   "outputs": [],
   "source": [
    "# calculate the class_weight\n",
    "class_weights = class_weight.compute_class_weight(class_weight = 'balanced', classes = np.unique(y_train), y=y_train)"
   ]
  },
  {
   "cell_type": "code",
   "execution_count": 66,
   "metadata": {
    "scrolled": true
   },
   "outputs": [
    {
     "name": "stdout",
     "output_type": "stream",
     "text": [
      "Train on 4219 samples, validate on 1055 samples\n",
      "Epoch 1/100\n",
      "4219/4219 - 1s - loss: 0.5881 - AUC: 0.5787 - val_loss: 0.5020 - val_AUC: 0.7670\n",
      "Epoch 2/100\n",
      "4219/4219 - 1s - loss: 0.4723 - AUC: 0.7998 - val_loss: 0.4435 - val_AUC: 0.8201\n",
      "Epoch 3/100\n",
      "4219/4219 - 1s - loss: 0.4424 - AUC: 0.8252 - val_loss: 0.4291 - val_AUC: 0.8316\n",
      "Epoch 4/100\n",
      "4219/4219 - 1s - loss: 0.4325 - AUC: 0.8344 - val_loss: 0.4222 - val_AUC: 0.8380\n",
      "Epoch 5/100\n",
      "4219/4219 - 1s - loss: 0.4271 - AUC: 0.8391 - val_loss: 0.4202 - val_AUC: 0.8400\n",
      "Epoch 6/100\n",
      "4219/4219 - 1s - loss: 0.4234 - AUC: 0.8419 - val_loss: 0.4168 - val_AUC: 0.8437\n",
      "Epoch 7/100\n",
      "4219/4219 - 1s - loss: 0.4212 - AUC: 0.8441 - val_loss: 0.4164 - val_AUC: 0.8442\n",
      "Epoch 8/100\n",
      "4219/4219 - 1s - loss: 0.4188 - AUC: 0.8457 - val_loss: 0.4155 - val_AUC: 0.8450\n",
      "Epoch 9/100\n",
      "4219/4219 - 1s - loss: 0.4181 - AUC: 0.8464 - val_loss: 0.4146 - val_AUC: 0.8457\n",
      "Epoch 10/100\n",
      "4219/4219 - 1s - loss: 0.4166 - AUC: 0.8472 - val_loss: 0.4131 - val_AUC: 0.8472\n",
      "Epoch 11/100\n",
      "4219/4219 - 1s - loss: 0.4149 - AUC: 0.8488 - val_loss: 0.4124 - val_AUC: 0.8480\n",
      "Epoch 12/100\n",
      "4219/4219 - 1s - loss: 0.4135 - AUC: 0.8495 - val_loss: 0.4140 - val_AUC: 0.8475\n",
      "Epoch 13/100\n",
      "4219/4219 - 1s - loss: 0.4129 - AUC: 0.8500 - val_loss: 0.4122 - val_AUC: 0.8484\n",
      "Epoch 14/100\n",
      "4219/4219 - 1s - loss: 0.4119 - AUC: 0.8507 - val_loss: 0.4115 - val_AUC: 0.8488\n",
      "Epoch 15/100\n",
      "4219/4219 - 1s - loss: 0.4108 - AUC: 0.8516 - val_loss: 0.4096 - val_AUC: 0.8501\n",
      "Epoch 16/100\n",
      "4219/4219 - 1s - loss: 0.4109 - AUC: 0.8515 - val_loss: 0.4099 - val_AUC: 0.8508\n",
      "Epoch 17/100\n",
      "4219/4219 - 1s - loss: 0.4097 - AUC: 0.8523 - val_loss: 0.4090 - val_AUC: 0.8502\n",
      "Epoch 18/100\n",
      "4219/4219 - 1s - loss: 0.4092 - AUC: 0.8524 - val_loss: 0.4100 - val_AUC: 0.8496\n",
      "Epoch 19/100\n",
      "4219/4219 - 1s - loss: 0.4092 - AUC: 0.8523 - val_loss: 0.4087 - val_AUC: 0.8506\n",
      "Epoch 20/100\n",
      "4219/4219 - 1s - loss: 0.4084 - AUC: 0.8530 - val_loss: 0.4087 - val_AUC: 0.8507\n",
      "Epoch 21/100\n",
      "4219/4219 - 1s - loss: 0.4080 - AUC: 0.8534 - val_loss: 0.4084 - val_AUC: 0.8505\n",
      "Epoch 22/100\n",
      "4219/4219 - 1s - loss: 0.4076 - AUC: 0.8537 - val_loss: 0.4086 - val_AUC: 0.8510\n",
      "Epoch 23/100\n",
      "4219/4219 - 1s - loss: 0.4073 - AUC: 0.8540 - val_loss: 0.4094 - val_AUC: 0.8500\n",
      "Epoch 24/100\n",
      "4219/4219 - 1s - loss: 0.4071 - AUC: 0.8541 - val_loss: 0.4095 - val_AUC: 0.8501\n",
      "Epoch 25/100\n",
      "4219/4219 - 1s - loss: 0.4074 - AUC: 0.8536 - val_loss: 0.4079 - val_AUC: 0.8512\n",
      "Epoch 26/100\n",
      "4219/4219 - 1s - loss: 0.4068 - AUC: 0.8543 - val_loss: 0.4090 - val_AUC: 0.8508\n",
      "Epoch 27/100\n",
      "4219/4219 - 1s - loss: 0.4062 - AUC: 0.8545 - val_loss: 0.4096 - val_AUC: 0.8521\n",
      "Epoch 28/100\n",
      "4219/4219 - 1s - loss: 0.4062 - AUC: 0.8544 - val_loss: 0.4081 - val_AUC: 0.8519\n",
      "Epoch 29/100\n",
      "4219/4219 - 1s - loss: 0.4062 - AUC: 0.8544 - val_loss: 0.4082 - val_AUC: 0.8509\n",
      "Epoch 30/100\n",
      "4219/4219 - 1s - loss: 0.4052 - AUC: 0.8554 - val_loss: 0.4083 - val_AUC: 0.8508\n",
      "Epoch 31/100\n",
      "4219/4219 - 1s - loss: 0.4057 - AUC: 0.8549 - val_loss: 0.4100 - val_AUC: 0.8495\n",
      "Epoch 32/100\n",
      "4219/4219 - 1s - loss: 0.4054 - AUC: 0.8553 - val_loss: 0.4087 - val_AUC: 0.8509\n",
      "Epoch 33/100\n",
      "4219/4219 - 1s - loss: 0.4049 - AUC: 0.8557 - val_loss: 0.4101 - val_AUC: 0.8499\n",
      "Epoch 34/100\n",
      "4219/4219 - 1s - loss: 0.4052 - AUC: 0.8552 - val_loss: 0.4093 - val_AUC: 0.8502\n",
      "Epoch 35/100\n",
      "4219/4219 - 1s - loss: 0.4048 - AUC: 0.8553 - val_loss: 0.4085 - val_AUC: 0.8510\n",
      "Epoch 36/100\n",
      "4219/4219 - 1s - loss: 0.4053 - AUC: 0.8553 - val_loss: 0.4103 - val_AUC: 0.8502\n",
      "Epoch 37/100\n",
      "4219/4219 - 1s - loss: 0.4049 - AUC: 0.8556 - val_loss: 0.4090 - val_AUC: 0.8505\n",
      "Epoch 38/100\n",
      "4219/4219 - 1s - loss: 0.4044 - AUC: 0.8557 - val_loss: 0.4092 - val_AUC: 0.8507\n",
      "Epoch 39/100\n",
      "4219/4219 - 1s - loss: 0.4044 - AUC: 0.8560 - val_loss: 0.4104 - val_AUC: 0.8502\n",
      "Epoch 40/100\n",
      "4219/4219 - 1s - loss: 0.4045 - AUC: 0.8559 - val_loss: 0.4093 - val_AUC: 0.8502\n",
      "Epoch 41/100\n",
      "4219/4219 - 1s - loss: 0.4036 - AUC: 0.8565 - val_loss: 0.4089 - val_AUC: 0.8504\n",
      "Epoch 42/100\n",
      "4219/4219 - 1s - loss: 0.4042 - AUC: 0.8559 - val_loss: 0.4092 - val_AUC: 0.8502\n",
      "Epoch 43/100\n",
      "4219/4219 - 1s - loss: 0.4036 - AUC: 0.8563 - val_loss: 0.4109 - val_AUC: 0.8494\n",
      "Epoch 44/100\n",
      "4219/4219 - 1s - loss: 0.4036 - AUC: 0.8564 - val_loss: 0.4091 - val_AUC: 0.8498\n",
      "Epoch 45/100\n",
      "4219/4219 - 1s - loss: 0.4033 - AUC: 0.8567 - val_loss: 0.4101 - val_AUC: 0.8496\n",
      "Epoch 46/100\n",
      "4219/4219 - 1s - loss: 0.4030 - AUC: 0.8569 - val_loss: 0.4105 - val_AUC: 0.8491\n",
      "Epoch 47/100\n",
      "4219/4219 - 1s - loss: 0.4032 - AUC: 0.8568 - val_loss: 0.4131 - val_AUC: 0.8485\n",
      "Epoch 48/100\n",
      "4219/4219 - 1s - loss: 0.4026 - AUC: 0.8573 - val_loss: 0.4109 - val_AUC: 0.8488\n",
      "Epoch 49/100\n",
      "4219/4219 - 1s - loss: 0.4020 - AUC: 0.8579 - val_loss: 0.4119 - val_AUC: 0.8491\n",
      "Epoch 50/100\n",
      "4219/4219 - 1s - loss: 0.4027 - AUC: 0.8573 - val_loss: 0.4114 - val_AUC: 0.8489\n",
      "Epoch 51/100\n",
      "4219/4219 - 1s - loss: 0.4027 - AUC: 0.8571 - val_loss: 0.4107 - val_AUC: 0.8492\n",
      "Epoch 52/100\n",
      "4219/4219 - 1s - loss: 0.4023 - AUC: 0.8576 - val_loss: 0.4111 - val_AUC: 0.8487\n",
      "Epoch 53/100\n",
      "4219/4219 - 1s - loss: 0.4025 - AUC: 0.8573 - val_loss: 0.4104 - val_AUC: 0.8491\n",
      "Epoch 54/100\n",
      "4219/4219 - 1s - loss: 0.4025 - AUC: 0.8573 - val_loss: 0.4107 - val_AUC: 0.8494\n",
      "Epoch 55/100\n",
      "4219/4219 - 1s - loss: 0.4020 - AUC: 0.8577 - val_loss: 0.4114 - val_AUC: 0.8485\n",
      "Epoch 56/100\n",
      "4219/4219 - 1s - loss: 0.4018 - AUC: 0.8579 - val_loss: 0.4107 - val_AUC: 0.8488\n",
      "Epoch 57/100\n",
      "4219/4219 - 1s - loss: 0.4013 - AUC: 0.8582 - val_loss: 0.4119 - val_AUC: 0.8484\n",
      "Epoch 58/100\n",
      "4219/4219 - 1s - loss: 0.4014 - AUC: 0.8584 - val_loss: 0.4108 - val_AUC: 0.8494\n",
      "Epoch 59/100\n",
      "4219/4219 - 1s - loss: 0.4014 - AUC: 0.8583 - val_loss: 0.4109 - val_AUC: 0.8489\n",
      "Epoch 60/100\n",
      "4219/4219 - 1s - loss: 0.4017 - AUC: 0.8581 - val_loss: 0.4118 - val_AUC: 0.8483\n",
      "Epoch 61/100\n",
      "4219/4219 - 1s - loss: 0.4016 - AUC: 0.8580 - val_loss: 0.4116 - val_AUC: 0.8484\n",
      "Epoch 62/100\n",
      "4219/4219 - 1s - loss: 0.4004 - AUC: 0.8591 - val_loss: 0.4139 - val_AUC: 0.8466\n",
      "Epoch 63/100\n",
      "4219/4219 - 1s - loss: 0.4008 - AUC: 0.8587 - val_loss: 0.4119 - val_AUC: 0.8477\n",
      "Epoch 64/100\n",
      "4219/4219 - 1s - loss: 0.4005 - AUC: 0.8588 - val_loss: 0.4114 - val_AUC: 0.8488\n",
      "Epoch 65/100\n",
      "4219/4219 - 1s - loss: 0.4007 - AUC: 0.8590 - val_loss: 0.4113 - val_AUC: 0.8483\n",
      "Epoch 66/100\n",
      "4219/4219 - 1s - loss: 0.4006 - AUC: 0.8587 - val_loss: 0.4122 - val_AUC: 0.8479\n",
      "Epoch 67/100\n",
      "4219/4219 - 1s - loss: 0.4009 - AUC: 0.8588 - val_loss: 0.4142 - val_AUC: 0.8490\n",
      "Epoch 68/100\n",
      "4219/4219 - 1s - loss: 0.4001 - AUC: 0.8594 - val_loss: 0.4133 - val_AUC: 0.8471\n",
      "Epoch 69/100\n",
      "4219/4219 - 1s - loss: 0.3997 - AUC: 0.8597 - val_loss: 0.4129 - val_AUC: 0.8476\n",
      "Epoch 70/100\n",
      "4219/4219 - 1s - loss: 0.3997 - AUC: 0.8598 - val_loss: 0.4139 - val_AUC: 0.8479\n",
      "Epoch 71/100\n",
      "4219/4219 - 1s - loss: 0.3996 - AUC: 0.8598 - val_loss: 0.4120 - val_AUC: 0.8476\n",
      "Epoch 72/100\n",
      "4219/4219 - 1s - loss: 0.3997 - AUC: 0.8595 - val_loss: 0.4119 - val_AUC: 0.8471\n",
      "Epoch 73/100\n",
      "4219/4219 - 1s - loss: 0.3991 - AUC: 0.8601 - val_loss: 0.4127 - val_AUC: 0.8471\n",
      "Epoch 74/100\n",
      "4219/4219 - 1s - loss: 0.3995 - AUC: 0.8599 - val_loss: 0.4126 - val_AUC: 0.8469\n",
      "Epoch 75/100\n",
      "4219/4219 - 1s - loss: 0.3994 - AUC: 0.8600 - val_loss: 0.4123 - val_AUC: 0.8471\n",
      "Epoch 76/100\n",
      "4219/4219 - 1s - loss: 0.3994 - AUC: 0.8599 - val_loss: 0.4124 - val_AUC: 0.8476\n",
      "Epoch 77/100\n",
      "4219/4219 - 1s - loss: 0.3997 - AUC: 0.8596 - val_loss: 0.4127 - val_AUC: 0.8479\n",
      "Epoch 78/100\n",
      "4219/4219 - 1s - loss: 0.3993 - AUC: 0.8599 - val_loss: 0.4133 - val_AUC: 0.8470\n",
      "Epoch 79/100\n",
      "4219/4219 - 1s - loss: 0.3990 - AUC: 0.8602 - val_loss: 0.4123 - val_AUC: 0.8472\n",
      "Epoch 80/100\n",
      "4219/4219 - 1s - loss: 0.3987 - AUC: 0.8605 - val_loss: 0.4130 - val_AUC: 0.8470\n",
      "Epoch 81/100\n",
      "4219/4219 - 1s - loss: 0.3985 - AUC: 0.8607 - val_loss: 0.4136 - val_AUC: 0.8472\n",
      "Epoch 82/100\n",
      "4219/4219 - 1s - loss: 0.3984 - AUC: 0.8606 - val_loss: 0.4129 - val_AUC: 0.8472\n",
      "Epoch 83/100\n",
      "4219/4219 - 1s - loss: 0.3990 - AUC: 0.8601 - val_loss: 0.4127 - val_AUC: 0.8470\n",
      "Epoch 84/100\n",
      "4219/4219 - 1s - loss: 0.3986 - AUC: 0.8605 - val_loss: 0.4168 - val_AUC: 0.8466\n",
      "Epoch 85/100\n",
      "4219/4219 - 1s - loss: 0.3982 - AUC: 0.8607 - val_loss: 0.4156 - val_AUC: 0.8465\n",
      "Epoch 86/100\n",
      "4219/4219 - 1s - loss: 0.3992 - AUC: 0.8601 - val_loss: 0.4136 - val_AUC: 0.8469\n",
      "Epoch 87/100\n",
      "4219/4219 - 1s - loss: 0.3984 - AUC: 0.8605 - val_loss: 0.4133 - val_AUC: 0.8469\n",
      "Epoch 88/100\n",
      "4219/4219 - 1s - loss: 0.3982 - AUC: 0.8611 - val_loss: 0.4139 - val_AUC: 0.8473\n",
      "Epoch 89/100\n",
      "4219/4219 - 1s - loss: 0.3984 - AUC: 0.8607 - val_loss: 0.4128 - val_AUC: 0.8471\n",
      "Epoch 90/100\n",
      "4219/4219 - 1s - loss: 0.3987 - AUC: 0.8605 - val_loss: 0.4138 - val_AUC: 0.8468\n",
      "Epoch 91/100\n",
      "4219/4219 - 1s - loss: 0.3982 - AUC: 0.8609 - val_loss: 0.4137 - val_AUC: 0.8463\n",
      "Epoch 92/100\n",
      "4219/4219 - 1s - loss: 0.3983 - AUC: 0.8608 - val_loss: 0.4153 - val_AUC: 0.8460\n",
      "Epoch 93/100\n",
      "4219/4219 - 1s - loss: 0.3981 - AUC: 0.8613 - val_loss: 0.4142 - val_AUC: 0.8461\n",
      "Epoch 94/100\n",
      "4219/4219 - 1s - loss: 0.3984 - AUC: 0.8608 - val_loss: 0.4130 - val_AUC: 0.8468\n",
      "Epoch 95/100\n",
      "4219/4219 - 1s - loss: 0.3985 - AUC: 0.8608 - val_loss: 0.4138 - val_AUC: 0.8462\n",
      "Epoch 96/100\n",
      "4219/4219 - 1s - loss: 0.3976 - AUC: 0.8614 - val_loss: 0.4141 - val_AUC: 0.8466\n",
      "Epoch 97/100\n",
      "4219/4219 - 1s - loss: 0.3987 - AUC: 0.8602 - val_loss: 0.4138 - val_AUC: 0.8461\n",
      "Epoch 98/100\n",
      "4219/4219 - 1s - loss: 0.3983 - AUC: 0.8607 - val_loss: 0.4141 - val_AUC: 0.8460\n",
      "Epoch 99/100\n",
      "4219/4219 - 1s - loss: 0.3975 - AUC: 0.8615 - val_loss: 0.4128 - val_AUC: 0.8468\n",
      "Epoch 100/100\n",
      "4219/4219 - 1s - loss: 0.3976 - AUC: 0.8613 - val_loss: 0.4145 - val_AUC: 0.8461\n",
      "CPU times: user 46.5 s, sys: 9.54 s, total: 56.1 s\n",
      "Wall time: 56.6 s\n"
     ]
    },
    {
     "data": {
      "text/plain": [
       "<tensorflow.python.keras.callbacks.History at 0x7fa25e088650>"
      ]
     },
     "execution_count": 66,
     "metadata": {},
     "output_type": "execute_result"
    }
   ],
   "source": [
    "%%time\n",
    "classifier.fit(\n",
    "    X_train_nn, y_train, validation_split=0.2, class_weight = class_weights, batch_size = 32, epochs = 100, verbose=2)"
   ]
  },
  {
   "cell_type": "markdown",
   "metadata": {},
   "source": [
    "## Model performances over training and test set\n",
    "***\n",
    "<a class=\"anchor\" id=\"chapter5\"></a>"
   ]
  },
  {
   "cell_type": "markdown",
   "metadata": {},
   "source": [
    "For each model we will calculat AUC-ROC and F1 scores and plot ROC Curve and Confusion matrices."
   ]
  },
  {
   "cell_type": "markdown",
   "metadata": {},
   "source": [
    "**Logistic Regression**"
   ]
  },
  {
   "cell_type": "code",
   "execution_count": 67,
   "metadata": {},
   "outputs": [
    {
     "name": "stdout",
     "output_type": "stream",
     "text": [
      "CPU times: user 155 ms, sys: 127 ms, total: 283 ms\n",
      "Wall time: 284 ms\n"
     ]
    }
   ],
   "source": [
    "%%time\n",
    "pipe = Pipeline(\n",
    "    steps=[(\"preprocessor\", preprocessor), (\"clf\", LogisticRegression(class_weight='balanced', C = 1000, random_state = 123))]\n",
    ")\n",
    "pipe = pipe.fit(X_train, y_train)"
   ]
  },
  {
   "cell_type": "code",
   "execution_count": 68,
   "metadata": {},
   "outputs": [
    {
     "name": "stdout",
     "output_type": "stream",
     "text": [
      "The ROC_AUC score: 0.837\n",
      "The F1 score: 0.629\n",
      "CPU times: user 141 ms, sys: 200 ms, total: 341 ms\n",
      "Wall time: 390 ms\n"
     ]
    }
   ],
   "source": [
    "%%time\n",
    "y_pred = pipe.predict(X_test)\n",
    "print(f\"The ROC_AUC score: {roc_auc_score(y_test,pipe.predict_proba(X_test)[:, 1]):.3f}\")\n",
    "print(f\"The F1 score: {f1_score(y_test,y_pred):.3f}\")"
   ]
  },
  {
   "cell_type": "code",
   "execution_count": 69,
   "metadata": {},
   "outputs": [
    {
     "data": {
      "image/png": "[encoded data removed]",
      "text/plain": [
       "<Figure size 720x288 with 3 Axes>"
      ]
     },
     "metadata": {},
     "output_type": "display_data"
    }
   ],
   "source": [
    "pred_proba = pipe.predict_proba(X_test)[:, 1]\n",
    "plot_roc_cm('Logistic Regression',y_test,y_pred,pred_proba)"
   ]
  },
  {
   "cell_type": "markdown",
   "metadata": {},
   "source": [
    "**Random Forest Classifier**"
   ]
  },
  {
   "cell_type": "code",
   "execution_count": 70,
   "metadata": {},
   "outputs": [
    {
     "name": "stdout",
     "output_type": "stream",
     "text": [
      "CPU times: user 1.07 s, sys: 3.23 ms, total: 1.07 s\n",
      "Wall time: 1.08 s\n"
     ]
    }
   ],
   "source": [
    "%%time\n",
    "pipe = Pipeline(\n",
    "    steps=[(\"preprocessor\", preprocessor), \n",
    "           (\"clf\", RandomForestClassifier(n_estimators=300, max_depth=10, max_leaf_nodes=50, \n",
    "                                          class_weight = 'balanced', random_state=123))]\n",
    ")\n",
    "pipe = pipe.fit(X_train, y_train)"
   ]
  },
  {
   "cell_type": "code",
   "execution_count": 71,
   "metadata": {},
   "outputs": [
    {
     "name": "stdout",
     "output_type": "stream",
     "text": [
      "The ROC_AUC score: 0.848\n",
      "The F1 score: 0.644\n",
      "CPU times: user 181 ms, sys: 142 µs, total: 181 ms\n",
      "Wall time: 187 ms\n"
     ]
    }
   ],
   "source": [
    "%%time\n",
    "y_pred = pipe.predict(X_test)\n",
    "print(f\"The ROC_AUC score: {roc_auc_score(y_test,pipe.predict_proba(X_test)[:, 1]):.3f}\")\n",
    "print(f\"The F1 score: {f1_score(y_test,y_pred):.3f}\")"
   ]
  },
  {
   "cell_type": "code",
   "execution_count": 72,
   "metadata": {},
   "outputs": [
    {
     "data": {
      "image/png": "[encoded data removed]",
      "text/plain": [
       "<Figure size 720x288 with 3 Axes>"
      ]
     },
     "metadata": {},
     "output_type": "display_data"
    }
   ],
   "source": [
    "pred_proba = pipe.predict_proba(X_test)[:, 1]\n",
    "plot_roc_cm('Random Forest',y_test,y_pred,pred_proba)"
   ]
  },
  {
   "cell_type": "markdown",
   "metadata": {},
   "source": [
    "**XGB Classifier**"
   ]
  },
  {
   "cell_type": "code",
   "execution_count": 73,
   "metadata": {},
   "outputs": [
    {
     "name": "stdout",
     "output_type": "stream",
     "text": [
      "CPU times: user 1.86 s, sys: 19.2 ms, total: 1.88 s\n",
      "Wall time: 1.88 s\n"
     ]
    }
   ],
   "source": [
    "%%time\n",
    "pipe = Pipeline(\n",
    "    steps=[(\"preprocessor\", preprocessor), \n",
    "           (\"clf\", XGBClassifier(learning_rate=0.2, n_estimators=300, max_depth=5, scale_pos_weight = 2.7,\n",
    "                                 eval_metric = [\"logloss\"], random_state=123))]\n",
    ")\n",
    "pipe = pipe.fit(X_train, y_train)"
   ]
  },
  {
   "cell_type": "code",
   "execution_count": 74,
   "metadata": {},
   "outputs": [
    {
     "name": "stdout",
     "output_type": "stream",
     "text": [
      "The ROC_AUC score: 0.897\n",
      "The F1 score: 0.728\n",
      "CPU times: user 86.5 ms, sys: 4.13 ms, total: 90.6 ms\n",
      "Wall time: 87.9 ms\n"
     ]
    }
   ],
   "source": [
    "%%time\n",
    "y_pred = pipe.predict(X_test)\n",
    "print(f\"The ROC_AUC score: {roc_auc_score(y_test,pipe.predict_proba(X_test)[:, 1]):.3f}\")\n",
    "print(f\"The F1 score: {f1_score(y_test,y_pred):.3f}\")"
   ]
  },
  {
   "cell_type": "code",
   "execution_count": 75,
   "metadata": {},
   "outputs": [
    {
     "data": {
      "image/png": "[encoded data removed]",
      "text/plain": [
       "<Figure size 720x288 with 3 Axes>"
      ]
     },
     "metadata": {},
     "output_type": "display_data"
    }
   ],
   "source": [
    "pred_proba = pipe.predict_proba(X_test)[:, 1]\n",
    "plot_roc_cm('XGB',y_test,y_pred,pred_proba)"
   ]
  },
  {
   "cell_type": "markdown",
   "metadata": {},
   "source": [
    "**LGBM Classifier**"
   ]
  },
  {
   "cell_type": "code",
   "execution_count": 83,
   "metadata": {},
   "outputs": [
    {
     "name": "stdout",
     "output_type": "stream",
     "text": [
      "CPU times: user 484 ms, sys: 3.58 ms, total: 488 ms\n",
      "Wall time: 487 ms\n"
     ]
    }
   ],
   "source": [
    "%%time\n",
    "pipe = Pipeline(\n",
    "    steps=[(\"preprocessor\", preprocessor), \n",
    "           (\"clf\", LGBMClassifier(scale_pos_weight = 2.7, metric = \"binary_logloss\", learning_rate = 0.2, max_depth = 3, \n",
    "                                  n_estimators = 700, lambda_l1 = 1, lambda_l2 = 0, random_state=123))]\n",
    ")\n",
    "pipe = pipe.fit(X_train, y_train)"
   ]
  },
  {
   "cell_type": "code",
   "execution_count": 84,
   "metadata": {},
   "outputs": [
    {
     "name": "stdout",
     "output_type": "stream",
     "text": [
      "The ROC_AUC score: 0.905\n",
      "The F1 score: 0.733\n",
      "CPU times: user 101 ms, sys: 3.84 ms, total: 105 ms\n",
      "Wall time: 103 ms\n"
     ]
    }
   ],
   "source": [
    "%%time\n",
    "y_pred = pipe.predict(X_test)\n",
    "print(f\"The ROC_AUC score: {roc_auc_score(y_test,pipe.predict_proba(X_test)[:, 1]):.3f}\")\n",
    "print(f\"The F1 score: {f1_score(y_test,y_pred):.3f}\")"
   ]
  },
  {
   "cell_type": "code",
   "execution_count": 78,
   "metadata": {},
   "outputs": [
    {
     "data": {
      "image/png": "[encoded data removed]",
      "text/plain": [
       "<Figure size 720x288 with 3 Axes>"
      ]
     },
     "metadata": {},
     "output_type": "display_data"
    }
   ],
   "source": [
    "pred_proba = pipe.predict_proba(X_test)[:, 1]\n",
    "plot_roc_cm('LGBM',y_test,y_pred,pred_proba)"
   ]
  },
  {
   "cell_type": "markdown",
   "metadata": {},
   "source": [
    "**Neural Network**"
   ]
  },
  {
   "cell_type": "code",
   "execution_count": 79,
   "metadata": {},
   "outputs": [
    {
     "name": "stdout",
     "output_type": "stream",
     "text": [
      "The ROC_AUC score: 0.834\n",
      "The F1 score: 0.562\n",
      "CPU times: user 219 ms, sys: 25.1 ms, total: 244 ms\n",
      "Wall time: 248 ms\n"
     ]
    }
   ],
   "source": [
    "%%time\n",
    "X_test_nn = preprocessor.transform(X_test)\n",
    "y_pred = classifier.predict_classes(X_test_nn)\n",
    "print(f\"The ROC_AUC score: {roc_auc_score(y_test,classifier.predict(X_test_nn)):.3f}\")\n",
    "print(f\"The F1 score: {f1_score(y_test,y_pred):.3f}\")"
   ]
  },
  {
   "cell_type": "code",
   "execution_count": 80,
   "metadata": {},
   "outputs": [
    {
     "data": {
      "image/png": "[encoded data removed]",
      "text/plain": [
       "<Figure size 720x288 with 3 Axes>"
      ]
     },
     "metadata": {},
     "output_type": "display_data"
    }
   ],
   "source": [
    "pred_proba = classifier.predict(X_test_nn)\n",
    "plot_roc_cm('Neural Network',y_test,y_pred,pred_proba)"
   ]
  },
  {
   "cell_type": "markdown",
   "metadata": {},
   "source": [
    "## Choosing the best model\n",
    "***\n",
    "<a class=\"anchor\" id=\"chapter6\"></a>"
   ]
  },
  {
   "cell_type": "markdown",
   "metadata": {},
   "source": [
    "* **Logistic Regression**\n",
    "    - `train time:` 620 ms  \n",
    "    - `test time:` 132 ms  \n",
    "    - `ROC-AUC:` 0.837  \n",
    "    - `F1:` 0.629    \n",
    "* **Random Forest Classifier**\n",
    "    - `train time:` 1.1 s\n",
    "    - `test time:` 254 ms\n",
    "    - `ROC-AUC:` 0.848\n",
    "    - `F1:` 0.644  \n",
    "* **XGB Classifier**\n",
    "    - `train time:` 1.7 s\n",
    "    - `test time:` 81.5 ms\n",
    "    - `ROC-AUC:` 0.897\n",
    "    - `F1:` 0.728  \n",
    "* **LGBM Classifier**\n",
    "    - `train time:` 514 ms\n",
    "    - `test time:` 107 ms\n",
    "    - `ROC-AUC:` 0.905\n",
    "    - `F1:` 0.733  \n",
    "* **Neural Network Classifier**\n",
    "    - `train time:` 56.4 s\n",
    "    - `test time:` 197 ms\n",
    "    - `ROC-AUC:` 0.831\n",
    "    - `F1:` 0.524"
   ]
  },
  {
   "cell_type": "markdown",
   "metadata": {},
   "source": [
    "The neural network was trained only for the sake of experience, but it is a heavy tool, and models have been found that provide a much better result.\n",
    "The two leading models are XGB and LGBM Classifiers. Except the negligible difference in the test time, the **LGBM Clasiifier is the best model, with ROC-AUC score of 0.905 and F1 score of 0.733**."
   ]
  },
  {
   "cell_type": "markdown",
   "metadata": {},
   "source": [
    "## Conclusions\n",
    "***\n",
    "<a class=\"anchor\" id=\"chapter7\"></a>"
   ]
  },
  {
   "cell_type": "markdown",
   "metadata": {},
   "source": [
    "We got 4 datasets containing client's personal data, contract information and information about Internet and Phone services. The aim of this project build a model that will be able to predict the churn of the clients.\n",
    "\n",
    "The data was of a good quality, there were no missing values or duplicates, except the information about Total Charges for the very new customers that signed for the services in the same day the data was gathered (February 1, 2020).\n",
    "The data contained 7043 unique customers, part of them have only one of the availble services (internet or phone) and the majority had them both.\n",
    "We created some new features based on the existing -\n",
    "- `Churn` - Our target value (values of Yes/No). Based on a copy of the EndDate.\n",
    "- `Tenure` - Number of days the customer has a contract with the company. Calculated as the difference between the EndDate and BeginDate.\n",
    "- `BeginMonth` and `BeginYear` - All the dates begin with the first of the month, so we can refer only to the month and the year.\n",
    "\n",
    "We found there were 4 unique dates when customers left the services. 4 months in a row - October 2019 to January 2020. Information about new customer promotions, year-end specials, new companies entering the market, etc. would be helpful.\n",
    "\n",
    "Based on our analysis, we found some features that were correlated with the target such as InternetService, BeginYear, Type, Tenure, PaymentMethod, TotalCharges.\n",
    "We found that customers with Fiber-optic internet service are more likely to churn, as well as customers who signed for the services in the year of 2019, customers who has month-to-month cantract, new customers, customers who pay with an electronic check and customers with a high monthly charges.\n",
    "\n",
    "We trained few models and compared them based on the ROC-AUC metric. **Our best model was LGBM Classifier with ROC-AUC score of 0.905 and F1 score of 0.733. (The hyperparameters are listed below: scale_pos_weight = 2.7, metric = \"binary_logloss\", learning_rate = 0.2, max_depth = 3, n_estimators = 700, lambda_l1 = 1, lambda_l2 = 0, random_state=123).**"
   ]
  }
 ],
 "metadata": {
  "ExecuteTimeLog": [
   {
    "duration": 307,
    "start_time": "2021-12-16T10:46:07.066Z"
   },
   {
    "duration": 1286,
    "start_time": "2021-12-16T10:46:13.852Z"
   },
   {
    "duration": 267,
    "start_time": "2021-12-16T10:46:16.964Z"
   },
   {
    "duration": 44,
    "start_time": "2021-12-16T10:46:19.280Z"
   },
   {
    "duration": 30,
    "start_time": "2021-12-16T10:46:26.384Z"
   },
   {
    "duration": 23,
    "start_time": "2021-12-16T10:46:32.029Z"
   },
   {
    "duration": 14,
    "start_time": "2021-12-16T10:46:35.184Z"
   },
   {
    "duration": 88,
    "start_time": "2021-12-16T10:46:40.341Z"
   },
   {
    "duration": 5,
    "start_time": "2021-12-16T10:52:27.499Z"
   },
   {
    "duration": 8,
    "start_time": "2021-12-16T10:56:29.644Z"
   },
   {
    "duration": 288,
    "start_time": "2021-12-16T10:56:51.986Z"
   },
   {
    "duration": 6,
    "start_time": "2021-12-16T10:58:14.022Z"
   },
   {
    "duration": 5,
    "start_time": "2021-12-16T10:58:20.811Z"
   },
   {
    "duration": 5,
    "start_time": "2021-12-16T11:07:17.687Z"
   },
   {
    "duration": 247,
    "start_time": "2021-12-16T11:10:43.537Z"
   },
   {
    "duration": 319,
    "start_time": "2021-12-16T11:11:56.312Z"
   },
   {
    "duration": 473,
    "start_time": "2021-12-16T11:14:55.463Z"
   },
   {
    "duration": 245,
    "start_time": "2021-12-16T11:14:59.127Z"
   },
   {
    "duration": 278,
    "start_time": "2021-12-16T11:15:17.059Z"
   },
   {
    "duration": 5,
    "start_time": "2021-12-16T11:17:45.584Z"
   },
   {
    "duration": 5,
    "start_time": "2021-12-16T11:17:53.117Z"
   },
   {
    "duration": 4,
    "start_time": "2021-12-16T11:32:18.231Z"
   },
   {
    "duration": 3,
    "start_time": "2021-12-16T11:32:20.554Z"
   },
   {
    "duration": 5,
    "start_time": "2021-12-16T11:32:31.535Z"
   },
   {
    "duration": 307,
    "start_time": "2021-12-16T11:33:51.633Z"
   },
   {
    "duration": 266,
    "start_time": "2021-12-16T11:33:58.256Z"
   },
   {
    "duration": 260,
    "start_time": "2021-12-16T11:34:00.975Z"
   },
   {
    "duration": 4,
    "start_time": "2021-12-16T11:34:07.817Z"
   },
   {
    "duration": 8,
    "start_time": "2021-12-16T11:36:04.737Z"
   },
   {
    "duration": 5,
    "start_time": "2021-12-16T11:36:14.732Z"
   },
   {
    "duration": 5,
    "start_time": "2021-12-16T11:36:23.589Z"
   },
   {
    "duration": 256,
    "start_time": "2021-12-16T11:36:44.507Z"
   },
   {
    "duration": 248,
    "start_time": "2021-12-16T11:36:50.831Z"
   },
   {
    "duration": 9,
    "start_time": "2021-12-16T11:38:50.909Z"
   },
   {
    "duration": 9,
    "start_time": "2021-12-16T11:39:34.612Z"
   },
   {
    "duration": 5,
    "start_time": "2021-12-16T11:39:58.233Z"
   },
   {
    "duration": 275,
    "start_time": "2021-12-16T11:41:21.711Z"
   },
   {
    "duration": 35,
    "start_time": "2021-12-16T11:42:46.565Z"
   },
   {
    "duration": 5,
    "start_time": "2021-12-16T11:42:52.017Z"
   },
   {
    "duration": 34,
    "start_time": "2021-12-16T11:46:20.144Z"
   },
   {
    "duration": 5,
    "start_time": "2021-12-16T11:46:23.055Z"
   },
   {
    "duration": 6,
    "start_time": "2021-12-16T11:46:47.785Z"
   },
   {
    "duration": 263,
    "start_time": "2021-12-16T11:49:58.762Z"
   },
   {
    "duration": 1350,
    "start_time": "2021-12-16T11:50:19.308Z"
   },
   {
    "duration": 291,
    "start_time": "2021-12-16T11:50:20.660Z"
   },
   {
    "duration": 40,
    "start_time": "2021-12-16T11:50:20.953Z"
   },
   {
    "duration": 31,
    "start_time": "2021-12-16T11:50:20.996Z"
   },
   {
    "duration": 18,
    "start_time": "2021-12-16T11:50:21.029Z"
   },
   {
    "duration": 52,
    "start_time": "2021-12-16T11:50:21.049Z"
   },
   {
    "duration": 12,
    "start_time": "2021-12-16T11:50:21.104Z"
   },
   {
    "duration": 6,
    "start_time": "2021-12-16T11:50:21.119Z"
   },
   {
    "duration": 10,
    "start_time": "2021-12-16T11:50:21.126Z"
   },
   {
    "duration": 7,
    "start_time": "2021-12-16T11:50:21.138Z"
   },
   {
    "duration": 18,
    "start_time": "2021-12-16T11:50:21.146Z"
   },
   {
    "duration": 28,
    "start_time": "2021-12-16T11:50:21.165Z"
   },
   {
    "duration": 6,
    "start_time": "2021-12-16T11:50:21.195Z"
   },
   {
    "duration": 356,
    "start_time": "2021-12-16T11:50:21.203Z"
   },
   {
    "duration": -424,
    "start_time": "2021-12-16T11:50:21.985Z"
   },
   {
    "duration": -429,
    "start_time": "2021-12-16T11:50:21.991Z"
   },
   {
    "duration": -433,
    "start_time": "2021-12-16T11:50:21.996Z"
   },
   {
    "duration": -438,
    "start_time": "2021-12-16T11:50:22.002Z"
   },
   {
    "duration": -441,
    "start_time": "2021-12-16T11:50:22.006Z"
   },
   {
    "duration": -446,
    "start_time": "2021-12-16T11:50:22.011Z"
   },
   {
    "duration": -450,
    "start_time": "2021-12-16T11:50:22.016Z"
   },
   {
    "duration": 8,
    "start_time": "2021-12-16T11:50:45.518Z"
   },
   {
    "duration": 263,
    "start_time": "2021-12-16T11:53:26.524Z"
   },
   {
    "duration": 5,
    "start_time": "2021-12-16T11:55:30.059Z"
   },
   {
    "duration": 7,
    "start_time": "2021-12-16T11:55:34.100Z"
   },
   {
    "duration": 236,
    "start_time": "2021-12-16T11:56:13.672Z"
   },
   {
    "duration": 55,
    "start_time": "2021-12-16T11:56:53.981Z"
   },
   {
    "duration": 5,
    "start_time": "2021-12-16T11:57:19.895Z"
   },
   {
    "duration": 5,
    "start_time": "2021-12-16T11:57:27.472Z"
   },
   {
    "duration": 247,
    "start_time": "2021-12-16T11:58:29.679Z"
   },
   {
    "duration": 7,
    "start_time": "2021-12-16T11:58:53.491Z"
   },
   {
    "duration": 5,
    "start_time": "2021-12-16T11:59:08.673Z"
   },
   {
    "duration": 6,
    "start_time": "2021-12-16T11:59:49.429Z"
   },
   {
    "duration": 5,
    "start_time": "2021-12-16T12:00:01.577Z"
   },
   {
    "duration": 7,
    "start_time": "2021-12-16T12:00:23.118Z"
   },
   {
    "duration": 6,
    "start_time": "2021-12-16T12:03:23.644Z"
   },
   {
    "duration": 7,
    "start_time": "2021-12-16T12:40:27.983Z"
   },
   {
    "duration": 5,
    "start_time": "2021-12-16T12:40:35.917Z"
   },
   {
    "duration": 5,
    "start_time": "2021-12-16T12:47:52.103Z"
   },
   {
    "duration": 4,
    "start_time": "2021-12-16T13:26:16.274Z"
   },
   {
    "duration": 5,
    "start_time": "2021-12-16T13:26:22.983Z"
   },
   {
    "duration": 7,
    "start_time": "2021-12-16T13:26:41.420Z"
   },
   {
    "duration": 234,
    "start_time": "2021-12-16T13:31:08.418Z"
   },
   {
    "duration": 5,
    "start_time": "2021-12-16T13:31:28.957Z"
   },
   {
    "duration": 4,
    "start_time": "2021-12-16T13:36:56.120Z"
   },
   {
    "duration": 39,
    "start_time": "2021-12-16T13:37:15.704Z"
   },
   {
    "duration": 3,
    "start_time": "2021-12-16T13:37:52.567Z"
   },
   {
    "duration": 12,
    "start_time": "2021-12-16T13:37:55.105Z"
   },
   {
    "duration": 38,
    "start_time": "2021-12-16T13:39:06.383Z"
   },
   {
    "duration": 24,
    "start_time": "2021-12-16T13:40:57.360Z"
   },
   {
    "duration": 1176,
    "start_time": "2021-12-16T13:45:17.202Z"
   },
   {
    "duration": 244,
    "start_time": "2021-12-16T13:45:19.629Z"
   },
   {
    "duration": 29,
    "start_time": "2021-12-16T13:45:21.926Z"
   },
   {
    "duration": 21,
    "start_time": "2021-12-16T13:45:26.278Z"
   },
   {
    "duration": 21,
    "start_time": "2021-12-16T13:45:28.767Z"
   },
   {
    "duration": 8,
    "start_time": "2021-12-16T13:48:57.394Z"
   },
   {
    "duration": 366,
    "start_time": "2021-12-16T13:49:28.735Z"
   },
   {
    "duration": 6,
    "start_time": "2021-12-16T13:49:35.946Z"
   },
   {
    "duration": 4,
    "start_time": "2021-12-16T13:49:50.337Z"
   },
   {
    "duration": 10,
    "start_time": "2021-12-16T13:52:06.300Z"
   },
   {
    "duration": 10,
    "start_time": "2021-12-16T13:52:12.279Z"
   },
   {
    "duration": 17,
    "start_time": "2021-12-16T14:04:37.541Z"
   },
   {
    "duration": 21,
    "start_time": "2021-12-16T14:06:56.885Z"
   },
   {
    "duration": 7,
    "start_time": "2021-12-16T14:57:31.452Z"
   },
   {
    "duration": 9,
    "start_time": "2021-12-16T14:57:36.498Z"
   },
   {
    "duration": 12,
    "start_time": "2021-12-16T14:58:54.248Z"
   },
   {
    "duration": 6,
    "start_time": "2021-12-16T15:06:32.469Z"
   },
   {
    "duration": 10,
    "start_time": "2021-12-16T15:06:43.605Z"
   },
   {
    "duration": 7,
    "start_time": "2021-12-16T15:06:57.136Z"
   },
   {
    "duration": 7,
    "start_time": "2021-12-16T15:07:12.529Z"
   },
   {
    "duration": 9,
    "start_time": "2021-12-16T15:10:35.626Z"
   },
   {
    "duration": 10,
    "start_time": "2021-12-16T15:11:29.014Z"
   },
   {
    "duration": 7,
    "start_time": "2021-12-16T15:11:32.212Z"
   },
   {
    "duration": 9,
    "start_time": "2021-12-16T15:11:34.603Z"
   },
   {
    "duration": 5,
    "start_time": "2021-12-16T15:11:36.511Z"
   },
   {
    "duration": 4,
    "start_time": "2021-12-16T15:11:56.962Z"
   },
   {
    "duration": 9,
    "start_time": "2021-12-16T15:11:59.089Z"
   },
   {
    "duration": 6,
    "start_time": "2021-12-16T15:12:02.059Z"
   },
   {
    "duration": 8,
    "start_time": "2021-12-16T15:12:04.233Z"
   },
   {
    "duration": 4,
    "start_time": "2021-12-16T15:12:07.100Z"
   },
   {
    "duration": 4,
    "start_time": "2021-12-16T15:12:09.049Z"
   },
   {
    "duration": 39,
    "start_time": "2021-12-16T15:12:11.612Z"
   },
   {
    "duration": 4,
    "start_time": "2021-12-16T15:12:14.755Z"
   },
   {
    "duration": 12,
    "start_time": "2021-12-16T15:12:29.706Z"
   },
   {
    "duration": 247,
    "start_time": "2021-12-16T15:16:28.708Z"
   },
   {
    "duration": 5,
    "start_time": "2021-12-16T15:16:48.477Z"
   },
   {
    "duration": 9,
    "start_time": "2021-12-16T15:18:36.821Z"
   },
   {
    "duration": 1119,
    "start_time": "2021-12-16T15:19:13.380Z"
   },
   {
    "duration": 257,
    "start_time": "2021-12-16T15:19:14.501Z"
   },
   {
    "duration": 42,
    "start_time": "2021-12-16T15:19:14.760Z"
   },
   {
    "duration": 26,
    "start_time": "2021-12-16T15:19:14.804Z"
   },
   {
    "duration": 20,
    "start_time": "2021-12-16T15:19:14.832Z"
   },
   {
    "duration": 56,
    "start_time": "2021-12-16T15:19:14.854Z"
   },
   {
    "duration": 20,
    "start_time": "2021-12-16T15:19:14.911Z"
   },
   {
    "duration": 7,
    "start_time": "2021-12-16T15:19:14.935Z"
   },
   {
    "duration": 47,
    "start_time": "2021-12-16T15:19:14.944Z"
   },
   {
    "duration": 10,
    "start_time": "2021-12-16T15:19:14.997Z"
   },
   {
    "duration": 30,
    "start_time": "2021-12-16T15:19:15.008Z"
   },
   {
    "duration": 14,
    "start_time": "2021-12-16T15:19:15.039Z"
   },
   {
    "duration": 6,
    "start_time": "2021-12-16T15:19:15.055Z"
   },
   {
    "duration": 5,
    "start_time": "2021-12-16T15:19:15.063Z"
   },
   {
    "duration": 31,
    "start_time": "2021-12-16T15:19:15.070Z"
   },
   {
    "duration": 4,
    "start_time": "2021-12-16T15:19:15.103Z"
   },
   {
    "duration": 21,
    "start_time": "2021-12-16T15:19:15.109Z"
   },
   {
    "duration": 6,
    "start_time": "2021-12-16T15:19:15.132Z"
   },
   {
    "duration": 10,
    "start_time": "2021-12-16T15:19:15.140Z"
   },
   {
    "duration": 5,
    "start_time": "2021-12-16T15:19:15.152Z"
   },
   {
    "duration": 5,
    "start_time": "2021-12-16T15:19:15.158Z"
   },
   {
    "duration": 49,
    "start_time": "2021-12-16T15:19:15.164Z"
   },
   {
    "duration": 3,
    "start_time": "2021-12-16T15:19:15.216Z"
   },
   {
    "duration": 13,
    "start_time": "2021-12-16T15:19:15.221Z"
   },
   {
    "duration": 11,
    "start_time": "2021-12-16T15:19:15.236Z"
   },
   {
    "duration": 51,
    "start_time": "2021-12-16T15:19:15.249Z"
   },
   {
    "duration": 6,
    "start_time": "2021-12-16T15:19:15.302Z"
   },
   {
    "duration": 4609,
    "start_time": "2021-12-16T15:19:15.310Z"
   },
   {
    "duration": 22,
    "start_time": "2021-12-16T15:21:58.989Z"
   },
   {
    "duration": 8,
    "start_time": "2021-12-16T15:25:20.589Z"
   },
   {
    "duration": 5,
    "start_time": "2021-12-16T15:34:40.613Z"
   },
   {
    "duration": 12,
    "start_time": "2021-12-16T15:42:36.858Z"
   },
   {
    "duration": 10,
    "start_time": "2021-12-16T15:42:51.544Z"
   },
   {
    "duration": 4,
    "start_time": "2021-12-16T15:43:11.830Z"
   },
   {
    "duration": 10,
    "start_time": "2021-12-16T15:43:25.528Z"
   },
   {
    "duration": 5,
    "start_time": "2021-12-16T15:43:39.607Z"
   },
   {
    "duration": 14,
    "start_time": "2021-12-16T15:50:30.923Z"
   },
   {
    "duration": 8,
    "start_time": "2021-12-16T15:50:47.470Z"
   },
   {
    "duration": 7,
    "start_time": "2021-12-16T15:51:03.579Z"
   },
   {
    "duration": 7,
    "start_time": "2021-12-16T15:51:23.754Z"
   },
   {
    "duration": 8,
    "start_time": "2021-12-16T15:53:04.475Z"
   },
   {
    "duration": 8,
    "start_time": "2021-12-16T15:53:28.412Z"
   },
   {
    "duration": 8,
    "start_time": "2021-12-16T15:53:44.589Z"
   },
   {
    "duration": 8,
    "start_time": "2021-12-16T15:54:31.087Z"
   },
   {
    "duration": 6908,
    "start_time": "2021-12-16T16:22:39.614Z"
   },
   {
    "duration": 10,
    "start_time": "2021-12-16T16:23:16.261Z"
   },
   {
    "duration": 640,
    "start_time": "2021-12-16T16:29:59.862Z"
   },
   {
    "duration": 151,
    "start_time": "2021-12-16T16:30:12.381Z"
   },
   {
    "duration": 237,
    "start_time": "2021-12-16T16:44:57.526Z"
   },
   {
    "duration": 220,
    "start_time": "2021-12-16T16:45:09.576Z"
   },
   {
    "duration": 332,
    "start_time": "2021-12-16T16:45:17.116Z"
   },
   {
    "duration": 515,
    "start_time": "2021-12-16T16:45:34.854Z"
   },
   {
    "duration": 439,
    "start_time": "2021-12-16T16:50:03.037Z"
   },
   {
    "duration": 732,
    "start_time": "2021-12-16T16:50:32.289Z"
   },
   {
    "duration": 1216,
    "start_time": "2021-12-16T16:51:22.515Z"
   },
   {
    "duration": 6841,
    "start_time": "2021-12-16T16:52:15.586Z"
   },
   {
    "duration": 222,
    "start_time": "2021-12-16T16:52:31.007Z"
   },
   {
    "duration": 1033,
    "start_time": "2021-12-16T16:56:53.420Z"
   },
   {
    "duration": 27,
    "start_time": "2021-12-16T16:57:21.225Z"
   },
   {
    "duration": 265,
    "start_time": "2021-12-16T16:58:19.916Z"
   },
   {
    "duration": 733,
    "start_time": "2021-12-16T16:58:24.803Z"
   },
   {
    "duration": 257,
    "start_time": "2021-12-16T17:00:43.905Z"
   },
   {
    "duration": 394,
    "start_time": "2021-12-16T17:02:30.933Z"
   },
   {
    "duration": 254,
    "start_time": "2021-12-16T17:02:45.449Z"
   },
   {
    "duration": 50,
    "start_time": "2021-12-16T17:07:42.647Z"
   },
   {
    "duration": 328,
    "start_time": "2021-12-16T17:10:21.442Z"
   },
   {
    "duration": 298,
    "start_time": "2021-12-16T17:10:33.658Z"
   },
   {
    "duration": 238,
    "start_time": "2021-12-16T17:10:40.502Z"
   },
   {
    "duration": 253,
    "start_time": "2021-12-16T17:11:12.843Z"
   },
   {
    "duration": 216,
    "start_time": "2021-12-16T17:12:42.751Z"
   },
   {
    "duration": 266,
    "start_time": "2021-12-16T17:13:33.718Z"
   },
   {
    "duration": 291,
    "start_time": "2021-12-16T17:15:23.690Z"
   },
   {
    "duration": 435,
    "start_time": "2021-12-16T17:15:28.947Z"
   },
   {
    "duration": 111,
    "start_time": "2021-12-16T17:18:15.804Z"
   },
   {
    "duration": 353,
    "start_time": "2021-12-16T17:28:36.604Z"
   },
   {
    "duration": 248,
    "start_time": "2021-12-16T17:29:46.888Z"
   },
   {
    "duration": 498,
    "start_time": "2021-12-16T17:30:17.366Z"
   },
   {
    "duration": 242,
    "start_time": "2021-12-16T17:30:22.997Z"
   },
   {
    "duration": 373,
    "start_time": "2021-12-16T17:30:31.621Z"
   },
   {
    "duration": 239,
    "start_time": "2021-12-16T17:32:01.508Z"
   },
   {
    "duration": 410,
    "start_time": "2021-12-16T17:33:05.231Z"
   },
   {
    "duration": 245,
    "start_time": "2021-12-16T17:33:19.535Z"
   },
   {
    "duration": 218,
    "start_time": "2021-12-16T17:34:34.370Z"
   },
   {
    "duration": 362,
    "start_time": "2021-12-16T17:35:09.716Z"
   },
   {
    "duration": 235,
    "start_time": "2021-12-16T17:36:31.162Z"
   },
   {
    "duration": 568,
    "start_time": "2021-12-16T17:45:17.081Z"
   },
   {
    "duration": 192,
    "start_time": "2021-12-16T17:47:42.806Z"
   },
   {
    "duration": 314,
    "start_time": "2021-12-16T17:50:22.974Z"
   },
   {
    "duration": 3,
    "start_time": "2021-12-16T18:14:51.578Z"
   },
   {
    "duration": 610,
    "start_time": "2021-12-16T18:19:14.234Z"
   },
   {
    "duration": 390,
    "start_time": "2021-12-16T18:24:51.398Z"
   },
   {
    "duration": 262,
    "start_time": "2021-12-16T18:25:16.816Z"
   },
   {
    "duration": 389,
    "start_time": "2021-12-16T18:25:32.318Z"
   },
   {
    "duration": 277,
    "start_time": "2021-12-16T18:27:09.242Z"
   },
   {
    "duration": 1492,
    "start_time": "2021-12-16T18:39:48.580Z"
   },
   {
    "duration": 781,
    "start_time": "2021-12-16T18:41:50.700Z"
   },
   {
    "duration": 275,
    "start_time": "2021-12-16T18:50:52.895Z"
   },
   {
    "duration": 10567,
    "start_time": "2021-12-16T18:54:27.492Z"
   },
   {
    "duration": 13,
    "start_time": "2021-12-16T18:54:41.555Z"
   },
   {
    "duration": 241,
    "start_time": "2021-12-16T18:54:50.331Z"
   },
   {
    "duration": 4,
    "start_time": "2021-12-16T18:56:34.307Z"
   },
   {
    "duration": 3145,
    "start_time": "2021-12-16T18:57:52.408Z"
   },
   {
    "duration": 4,
    "start_time": "2021-12-16T18:58:42.966Z"
   },
   {
    "duration": 5309,
    "start_time": "2021-12-16T18:59:11.077Z"
   },
   {
    "duration": 1168,
    "start_time": "2021-12-16T18:59:16.388Z"
   },
   {
    "duration": 263,
    "start_time": "2021-12-16T18:59:17.558Z"
   },
   {
    "duration": 46,
    "start_time": "2021-12-16T18:59:17.823Z"
   },
   {
    "duration": 40,
    "start_time": "2021-12-16T18:59:17.871Z"
   },
   {
    "duration": 20,
    "start_time": "2021-12-16T18:59:17.912Z"
   },
   {
    "duration": 15,
    "start_time": "2021-12-16T18:59:17.934Z"
   },
   {
    "duration": 52,
    "start_time": "2021-12-16T18:59:17.951Z"
   },
   {
    "duration": 7,
    "start_time": "2021-12-16T18:59:18.005Z"
   },
   {
    "duration": 19,
    "start_time": "2021-12-16T18:59:18.014Z"
   },
   {
    "duration": 5,
    "start_time": "2021-12-16T18:59:18.034Z"
   },
   {
    "duration": 21,
    "start_time": "2021-12-16T18:59:18.040Z"
   },
   {
    "duration": 11,
    "start_time": "2021-12-16T18:59:18.088Z"
   },
   {
    "duration": 4,
    "start_time": "2021-12-16T18:59:18.101Z"
   },
   {
    "duration": 6,
    "start_time": "2021-12-16T18:59:18.107Z"
   },
   {
    "duration": 7,
    "start_time": "2021-12-16T18:59:18.114Z"
   },
   {
    "duration": 5,
    "start_time": "2021-12-16T18:59:18.122Z"
   },
   {
    "duration": 7,
    "start_time": "2021-12-16T18:59:18.128Z"
   },
   {
    "duration": 4,
    "start_time": "2021-12-16T18:59:18.137Z"
   },
   {
    "duration": 45,
    "start_time": "2021-12-16T18:59:18.143Z"
   },
   {
    "duration": 4,
    "start_time": "2021-12-16T18:59:18.189Z"
   },
   {
    "duration": 9,
    "start_time": "2021-12-16T18:59:18.195Z"
   },
   {
    "duration": 44,
    "start_time": "2021-12-16T18:59:18.207Z"
   },
   {
    "duration": 3,
    "start_time": "2021-12-16T18:59:18.253Z"
   },
   {
    "duration": 33,
    "start_time": "2021-12-16T18:59:18.257Z"
   },
   {
    "duration": 20,
    "start_time": "2021-12-16T18:59:18.292Z"
   },
   {
    "duration": 11,
    "start_time": "2021-12-16T18:59:18.314Z"
   },
   {
    "duration": 9,
    "start_time": "2021-12-16T18:59:18.327Z"
   },
   {
    "duration": 103,
    "start_time": "2021-12-16T18:59:18.338Z"
   },
   {
    "duration": -229,
    "start_time": "2021-12-16T18:59:18.672Z"
   },
   {
    "duration": -230,
    "start_time": "2021-12-16T18:59:18.674Z"
   },
   {
    "duration": -312,
    "start_time": "2021-12-16T18:59:18.757Z"
   },
   {
    "duration": -321,
    "start_time": "2021-12-16T18:59:18.767Z"
   },
   {
    "duration": -324,
    "start_time": "2021-12-16T18:59:18.771Z"
   },
   {
    "duration": -324,
    "start_time": "2021-12-16T18:59:18.773Z"
   },
   {
    "duration": -327,
    "start_time": "2021-12-16T18:59:18.776Z"
   },
   {
    "duration": -346,
    "start_time": "2021-12-16T18:59:18.797Z"
   },
   {
    "duration": -347,
    "start_time": "2021-12-16T18:59:18.799Z"
   },
   {
    "duration": -351,
    "start_time": "2021-12-16T18:59:18.805Z"
   },
   {
    "duration": -353,
    "start_time": "2021-12-16T18:59:18.808Z"
   },
   {
    "duration": -422,
    "start_time": "2021-12-16T18:59:18.878Z"
   },
   {
    "duration": -429,
    "start_time": "2021-12-16T18:59:18.886Z"
   },
   {
    "duration": -434,
    "start_time": "2021-12-16T18:59:18.892Z"
   },
   {
    "duration": -436,
    "start_time": "2021-12-16T18:59:18.895Z"
   },
   {
    "duration": 219,
    "start_time": "2021-12-16T19:02:16.197Z"
   },
   {
    "duration": 347,
    "start_time": "2021-12-16T19:04:51.663Z"
   },
   {
    "duration": 385,
    "start_time": "2021-12-16T19:04:55.938Z"
   },
   {
    "duration": 689,
    "start_time": "2021-12-16T19:05:06.867Z"
   },
   {
    "duration": 359,
    "start_time": "2021-12-16T19:05:13.563Z"
   },
   {
    "duration": 351,
    "start_time": "2021-12-16T19:05:58.927Z"
   },
   {
    "duration": 318,
    "start_time": "2021-12-16T19:06:05.102Z"
   },
   {
    "duration": 339,
    "start_time": "2021-12-16T19:07:09.368Z"
   },
   {
    "duration": 351,
    "start_time": "2021-12-16T19:07:17.691Z"
   },
   {
    "duration": 364,
    "start_time": "2021-12-16T19:07:22.841Z"
   },
   {
    "duration": 473,
    "start_time": "2021-12-16T19:09:22.579Z"
   },
   {
    "duration": 503,
    "start_time": "2021-12-16T19:17:14.944Z"
   },
   {
    "duration": 492,
    "start_time": "2021-12-16T19:18:13.757Z"
   },
   {
    "duration": 3,
    "start_time": "2021-12-16T19:23:13.268Z"
   },
   {
    "duration": 75,
    "start_time": "2021-12-16T19:23:15.651Z"
   },
   {
    "duration": 251,
    "start_time": "2021-12-16T19:23:21.189Z"
   },
   {
    "duration": 138,
    "start_time": "2021-12-16T19:24:00.004Z"
   },
   {
    "duration": 3,
    "start_time": "2021-12-16T19:24:03.928Z"
   },
   {
    "duration": 244,
    "start_time": "2021-12-16T19:24:05.754Z"
   },
   {
    "duration": 681,
    "start_time": "2021-12-16T19:24:17.256Z"
   },
   {
    "duration": 326,
    "start_time": "2021-12-16T19:24:42.076Z"
   },
   {
    "duration": 3,
    "start_time": "2021-12-16T19:33:02.567Z"
   },
   {
    "duration": 357,
    "start_time": "2021-12-16T19:33:09.055Z"
   },
   {
    "duration": 303,
    "start_time": "2021-12-16T19:33:33.753Z"
   },
   {
    "duration": 157,
    "start_time": "2021-12-16T19:35:39.657Z"
   },
   {
    "duration": 241,
    "start_time": "2021-12-16T19:35:52.008Z"
   },
   {
    "duration": 441,
    "start_time": "2021-12-16T19:35:57.976Z"
   },
   {
    "duration": 144050,
    "start_time": "2021-12-16T19:36:16.875Z"
   },
   {
    "duration": 356,
    "start_time": "2021-12-16T19:39:32.216Z"
   },
   {
    "duration": 3,
    "start_time": "2021-12-16T19:41:53.380Z"
   },
   {
    "duration": 371,
    "start_time": "2021-12-16T19:41:55.933Z"
   },
   {
    "duration": 8093,
    "start_time": "2021-12-16T19:42:41.358Z"
   },
   {
    "duration": 4,
    "start_time": "2021-12-16T19:43:52.618Z"
   },
   {
    "duration": 408,
    "start_time": "2021-12-16T19:43:58.373Z"
   },
   {
    "duration": 490,
    "start_time": "2021-12-16T19:45:15.977Z"
   },
   {
    "duration": 3,
    "start_time": "2021-12-16T19:46:00.687Z"
   },
   {
    "duration": 432,
    "start_time": "2021-12-16T19:46:03.835Z"
   },
   {
    "duration": 3,
    "start_time": "2021-12-16T19:46:10.686Z"
   },
   {
    "duration": 465,
    "start_time": "2021-12-16T19:46:12.871Z"
   },
   {
    "duration": 703,
    "start_time": "2021-12-16T19:48:04.315Z"
   },
   {
    "duration": 524,
    "start_time": "2021-12-16T19:48:52.809Z"
   },
   {
    "duration": 472,
    "start_time": "2021-12-16T19:49:26.579Z"
   },
   {
    "duration": 2,
    "start_time": "2021-12-16T19:58:26.834Z"
   },
   {
    "duration": 305,
    "start_time": "2021-12-16T19:58:53.156Z"
   },
   {
    "duration": 495,
    "start_time": "2021-12-16T20:04:24.154Z"
   },
   {
    "duration": 493,
    "start_time": "2021-12-16T20:08:06.745Z"
   },
   {
    "duration": 529,
    "start_time": "2021-12-16T20:09:06.525Z"
   },
   {
    "duration": 576,
    "start_time": "2021-12-16T20:10:24.599Z"
   },
   {
    "duration": 6869,
    "start_time": "2021-12-16T20:16:23.620Z"
   },
   {
    "duration": 1000,
    "start_time": "2021-12-16T20:16:37.084Z"
   },
   {
    "duration": 1026,
    "start_time": "2021-12-16T20:17:45.986Z"
   },
   {
    "duration": 981,
    "start_time": "2021-12-16T20:19:26.151Z"
   },
   {
    "duration": 1428,
    "start_time": "2021-12-16T20:22:41.998Z"
   },
   {
    "duration": 1516,
    "start_time": "2021-12-16T20:23:04.129Z"
   },
   {
    "duration": 3,
    "start_time": "2021-12-16T20:23:35.607Z"
   },
   {
    "duration": 1523,
    "start_time": "2021-12-16T20:23:37.642Z"
   },
   {
    "duration": 2226,
    "start_time": "2021-12-16T20:26:11.875Z"
   },
   {
    "duration": 2202,
    "start_time": "2021-12-16T20:26:55.172Z"
   },
   {
    "duration": 1487,
    "start_time": "2021-12-16T20:27:31.071Z"
   },
   {
    "duration": 1662,
    "start_time": "2021-12-16T20:27:43.962Z"
   },
   {
    "duration": 1440,
    "start_time": "2021-12-16T20:29:23.744Z"
   },
   {
    "duration": 1506,
    "start_time": "2021-12-16T20:34:26.923Z"
   },
   {
    "duration": 1469,
    "start_time": "2021-12-16T20:43:10.335Z"
   },
   {
    "duration": 172,
    "start_time": "2021-12-16T20:44:58.229Z"
   },
   {
    "duration": 155,
    "start_time": "2021-12-16T20:45:08.916Z"
   },
   {
    "duration": 515,
    "start_time": "2021-12-16T20:46:01.701Z"
   },
   {
    "duration": 433,
    "start_time": "2021-12-16T20:46:47.531Z"
   },
   {
    "duration": 483,
    "start_time": "2021-12-16T20:47:34.717Z"
   },
   {
    "duration": 512,
    "start_time": "2021-12-16T22:56:07.793Z"
   },
   {
    "duration": 449,
    "start_time": "2021-12-16T23:01:56.795Z"
   },
   {
    "duration": 1181,
    "start_time": "2021-12-16T23:10:25.259Z"
   },
   {
    "duration": 1288,
    "start_time": "2021-12-16T23:11:21.031Z"
   },
   {
    "duration": 1167,
    "start_time": "2021-12-16T23:11:59.330Z"
   },
   {
    "duration": 1021,
    "start_time": "2021-12-16T23:12:21.741Z"
   },
   {
    "duration": 1171,
    "start_time": "2021-12-16T23:14:21.373Z"
   },
   {
    "duration": 1643,
    "start_time": "2021-12-16T23:17:25.307Z"
   },
   {
    "duration": 1090,
    "start_time": "2021-12-16T23:17:36.086Z"
   },
   {
    "duration": 627,
    "start_time": "2021-12-16T23:21:54.329Z"
   },
   {
    "duration": 518,
    "start_time": "2021-12-16T23:22:00.855Z"
   },
   {
    "duration": 1079,
    "start_time": "2021-12-16T23:24:01.625Z"
   },
   {
    "duration": 1546,
    "start_time": "2021-12-16T23:25:52.235Z"
   },
   {
    "duration": 1153,
    "start_time": "2021-12-16T23:26:02.929Z"
   },
   {
    "duration": 531,
    "start_time": "2021-12-16T23:27:09.586Z"
   },
   {
    "duration": 471,
    "start_time": "2021-12-16T23:27:51.963Z"
   },
   {
    "duration": 250,
    "start_time": "2021-12-16T23:34:02.630Z"
   },
   {
    "duration": 252,
    "start_time": "2021-12-16T23:34:27.376Z"
   },
   {
    "duration": 243,
    "start_time": "2021-12-16T23:35:16.952Z"
   },
   {
    "duration": 234,
    "start_time": "2021-12-16T23:37:38.040Z"
   },
   {
    "duration": 4,
    "start_time": "2021-12-16T23:38:21.349Z"
   },
   {
    "duration": 237,
    "start_time": "2021-12-16T23:38:28.976Z"
   },
   {
    "duration": 3,
    "start_time": "2021-12-16T23:38:45.872Z"
   },
   {
    "duration": 276,
    "start_time": "2021-12-16T23:38:53.181Z"
   },
   {
    "duration": 1137,
    "start_time": "2021-12-16T23:39:39.558Z"
   },
   {
    "duration": 1876,
    "start_time": "2021-12-16T23:40:03.725Z"
   },
   {
    "duration": 1697,
    "start_time": "2021-12-16T23:44:48.048Z"
   },
   {
    "duration": 2820,
    "start_time": "2021-12-16T23:50:22.112Z"
   },
   {
    "duration": 487,
    "start_time": "2021-12-16T23:51:10.269Z"
   },
   {
    "duration": 468,
    "start_time": "2021-12-16T23:52:26.011Z"
   },
   {
    "duration": 2234,
    "start_time": "2021-12-16T23:56:32.841Z"
   },
   {
    "duration": 488,
    "start_time": "2021-12-16T23:59:58.966Z"
   },
   {
    "duration": 541,
    "start_time": "2021-12-17T00:01:01.294Z"
   },
   {
    "duration": 333,
    "start_time": "2021-12-17T00:05:37.085Z"
   },
   {
    "duration": 463,
    "start_time": "2021-12-17T00:06:09.904Z"
   },
   {
    "duration": 3,
    "start_time": "2021-12-17T00:07:49.901Z"
   },
   {
    "duration": 550,
    "start_time": "2021-12-17T00:09:00.967Z"
   },
   {
    "duration": 588,
    "start_time": "2021-12-17T00:11:14.275Z"
   },
   {
    "duration": 662,
    "start_time": "2021-12-17T00:20:14.386Z"
   },
   {
    "duration": 90,
    "start_time": "2021-12-17T00:23:01.346Z"
   },
   {
    "duration": 1932,
    "start_time": "2021-12-17T00:23:12.996Z"
   },
   {
    "duration": 1866,
    "start_time": "2021-12-17T00:23:32.616Z"
   },
   {
    "duration": 549,
    "start_time": "2021-12-17T00:28:10.854Z"
   },
   {
    "duration": 368,
    "start_time": "2021-12-17T00:28:36.659Z"
   },
   {
    "duration": 626,
    "start_time": "2021-12-17T00:28:50.047Z"
   },
   {
    "duration": 394,
    "start_time": "2021-12-17T00:30:49.731Z"
   },
   {
    "duration": 2647,
    "start_time": "2021-12-17T00:31:31.030Z"
   },
   {
    "duration": 250,
    "start_time": "2021-12-17T00:41:27.886Z"
   },
   {
    "duration": 237,
    "start_time": "2021-12-17T00:41:45.681Z"
   },
   {
    "duration": 4,
    "start_time": "2021-12-17T00:44:44.113Z"
   },
   {
    "duration": 4,
    "start_time": "2021-12-17T00:44:46.404Z"
   },
   {
    "duration": 236,
    "start_time": "2021-12-17T00:44:48.606Z"
   },
   {
    "duration": 16,
    "start_time": "2021-12-17T00:45:17.903Z"
   },
   {
    "duration": 4,
    "start_time": "2021-12-17T00:48:44.777Z"
   },
   {
    "duration": 2,
    "start_time": "2021-12-17T00:49:40.923Z"
   },
   {
    "duration": 22,
    "start_time": "2021-12-17T00:49:43.008Z"
   },
   {
    "duration": 4,
    "start_time": "2021-12-17T00:50:18.795Z"
   },
   {
    "duration": 4,
    "start_time": "2021-12-17T00:52:08.035Z"
   },
   {
    "duration": 7,
    "start_time": "2021-12-17T00:52:42.153Z"
   },
   {
    "duration": 14,
    "start_time": "2021-12-17T00:53:31.109Z"
   },
   {
    "duration": 5746,
    "start_time": "2021-12-17T00:53:39.912Z"
   },
   {
    "duration": 6244,
    "start_time": "2021-12-17T00:53:51.023Z"
   },
   {
    "duration": 601,
    "start_time": "2021-12-17T00:54:15.540Z"
   },
   {
    "duration": 661,
    "start_time": "2021-12-17T00:56:11.610Z"
   },
   {
    "duration": 228,
    "start_time": "2021-12-17T00:56:37.510Z"
   },
   {
    "duration": 9,
    "start_time": "2021-12-17T00:57:17.261Z"
   },
   {
    "duration": 3,
    "start_time": "2021-12-17T00:58:00.486Z"
   },
   {
    "duration": 24,
    "start_time": "2021-12-17T00:58:02.750Z"
   },
   {
    "duration": 16,
    "start_time": "2021-12-17T00:58:05.485Z"
   },
   {
    "duration": 6225,
    "start_time": "2021-12-17T00:58:16.854Z"
   },
   {
    "duration": 10,
    "start_time": "2021-12-17T00:58:30.316Z"
   },
   {
    "duration": 224,
    "start_time": "2021-12-17T00:58:43.729Z"
   },
   {
    "duration": 4,
    "start_time": "2021-12-17T00:58:49.774Z"
   },
   {
    "duration": 3,
    "start_time": "2021-12-17T00:58:52.830Z"
   },
   {
    "duration": 19,
    "start_time": "2021-12-17T00:59:00.363Z"
   },
   {
    "duration": 12,
    "start_time": "2021-12-17T00:59:03.224Z"
   },
   {
    "duration": 26,
    "start_time": "2021-12-17T00:59:11.863Z"
   },
   {
    "duration": 4,
    "start_time": "2021-12-17T01:04:54.776Z"
   },
   {
    "duration": 3,
    "start_time": "2021-12-17T01:04:56.840Z"
   },
   {
    "duration": 694,
    "start_time": "2021-12-17T01:04:58.925Z"
   },
   {
    "duration": 27,
    "start_time": "2021-12-17T01:05:15.635Z"
   },
   {
    "duration": 79,
    "start_time": "2021-12-17T01:09:27.169Z"
   },
   {
    "duration": 254,
    "start_time": "2021-12-17T01:15:21.221Z"
   },
   {
    "duration": 4,
    "start_time": "2021-12-17T01:15:54.750Z"
   },
   {
    "duration": 2,
    "start_time": "2021-12-17T01:15:56.903Z"
   },
   {
    "duration": 27,
    "start_time": "2021-12-17T01:15:58.613Z"
   },
   {
    "duration": 19,
    "start_time": "2021-12-17T01:16:01.333Z"
   },
   {
    "duration": 24,
    "start_time": "2021-12-17T01:16:05.091Z"
   },
   {
    "duration": 349,
    "start_time": "2021-12-17T01:16:36.503Z"
   },
   {
    "duration": 414,
    "start_time": "2021-12-17T01:18:58.776Z"
   },
   {
    "duration": 11,
    "start_time": "2021-12-17T01:20:28.305Z"
   },
   {
    "duration": 11,
    "start_time": "2021-12-17T01:30:39.966Z"
   },
   {
    "duration": 267,
    "start_time": "2021-12-17T01:33:42.233Z"
   },
   {
    "duration": 9,
    "start_time": "2021-12-17T01:36:43.489Z"
   },
   {
    "duration": 187,
    "start_time": "2021-12-17T01:36:58.890Z"
   },
   {
    "duration": 21,
    "start_time": "2021-12-17T01:37:13.693Z"
   },
   {
    "duration": 5,
    "start_time": "2021-12-17T01:37:24.036Z"
   },
   {
    "duration": 142,
    "start_time": "2021-12-17T01:37:41.202Z"
   },
   {
    "duration": 4,
    "start_time": "2021-12-17T01:38:04.397Z"
   },
   {
    "duration": 4,
    "start_time": "2021-12-17T01:38:13.372Z"
   },
   {
    "duration": 260,
    "start_time": "2021-12-17T01:39:00.680Z"
   },
   {
    "duration": 317,
    "start_time": "2021-12-17T01:39:19.419Z"
   },
   {
    "duration": 141,
    "start_time": "2021-12-17T01:39:59.933Z"
   },
   {
    "duration": 355,
    "start_time": "2021-12-17T01:40:22.520Z"
   },
   {
    "duration": 333,
    "start_time": "2021-12-17T12:59:11.986Z"
   },
   {
    "duration": 17798,
    "start_time": "2021-12-17T12:59:21.657Z"
   },
   {
    "duration": 1870,
    "start_time": "2021-12-17T12:59:39.458Z"
   },
   {
    "duration": 337,
    "start_time": "2021-12-17T12:59:41.332Z"
   },
   {
    "duration": 64,
    "start_time": "2021-12-17T12:59:41.672Z"
   },
   {
    "duration": 97,
    "start_time": "2021-12-17T12:59:41.739Z"
   },
   {
    "duration": 48,
    "start_time": "2021-12-17T12:59:41.840Z"
   },
   {
    "duration": 63,
    "start_time": "2021-12-17T12:59:41.891Z"
   },
   {
    "duration": 68,
    "start_time": "2021-12-17T12:59:41.959Z"
   },
   {
    "duration": 15,
    "start_time": "2021-12-17T12:59:42.032Z"
   },
   {
    "duration": 31,
    "start_time": "2021-12-17T12:59:42.052Z"
   },
   {
    "duration": 46,
    "start_time": "2021-12-17T12:59:42.085Z"
   },
   {
    "duration": 45,
    "start_time": "2021-12-17T12:59:42.134Z"
   },
   {
    "duration": 59,
    "start_time": "2021-12-17T12:59:42.182Z"
   },
   {
    "duration": 14,
    "start_time": "2021-12-17T12:59:42.244Z"
   },
   {
    "duration": 19,
    "start_time": "2021-12-17T12:59:42.262Z"
   },
   {
    "duration": 54,
    "start_time": "2021-12-17T12:59:42.284Z"
   },
   {
    "duration": 7,
    "start_time": "2021-12-17T12:59:42.343Z"
   },
   {
    "duration": 12,
    "start_time": "2021-12-17T12:59:42.353Z"
   },
   {
    "duration": 9,
    "start_time": "2021-12-17T12:59:42.368Z"
   },
   {
    "duration": 40,
    "start_time": "2021-12-17T12:59:42.380Z"
   },
   {
    "duration": 9,
    "start_time": "2021-12-17T12:59:42.423Z"
   },
   {
    "duration": 9,
    "start_time": "2021-12-17T12:59:42.435Z"
   },
   {
    "duration": 117,
    "start_time": "2021-12-17T12:59:42.453Z"
   },
   {
    "duration": 4,
    "start_time": "2021-12-17T12:59:42.574Z"
   },
   {
    "duration": 43,
    "start_time": "2021-12-17T12:59:42.580Z"
   },
   {
    "duration": 39,
    "start_time": "2021-12-17T12:59:42.626Z"
   },
   {
    "duration": 50,
    "start_time": "2021-12-17T12:59:42.667Z"
   },
   {
    "duration": 15,
    "start_time": "2021-12-17T12:59:42.719Z"
   },
   {
    "duration": 8,
    "start_time": "2021-12-17T12:59:42.738Z"
   },
   {
    "duration": 4,
    "start_time": "2021-12-17T12:59:42.750Z"
   },
   {
    "duration": 734,
    "start_time": "2021-12-17T12:59:42.757Z"
   },
   {
    "duration": 3307,
    "start_time": "2021-12-17T12:59:43.494Z"
   },
   {
    "duration": 3332,
    "start_time": "2021-12-17T12:59:46.804Z"
   },
   {
    "duration": 5442,
    "start_time": "2021-12-17T12:59:50.139Z"
   },
   {
    "duration": 5,
    "start_time": "2021-12-17T12:59:55.585Z"
   },
   {
    "duration": 1146,
    "start_time": "2021-12-17T12:59:55.593Z"
   },
   {
    "duration": 5103,
    "start_time": "2021-12-17T12:59:56.742Z"
   },
   {
    "duration": 6,
    "start_time": "2021-12-17T13:00:01.848Z"
   },
   {
    "duration": 10,
    "start_time": "2021-12-17T13:00:01.857Z"
   },
   {
    "duration": 101,
    "start_time": "2021-12-17T13:00:01.870Z"
   },
   {
    "duration": 58,
    "start_time": "2021-12-17T13:00:01.974Z"
   },
   {
    "duration": 26,
    "start_time": "2021-12-17T13:00:02.035Z"
   },
   {
    "duration": 5,
    "start_time": "2021-12-17T13:00:02.065Z"
   },
   {
    "duration": 575,
    "start_time": "2021-12-17T13:00:02.073Z"
   },
   {
    "duration": -67,
    "start_time": "2021-12-17T13:00:02.717Z"
   },
   {
    "duration": -60,
    "start_time": "2021-12-17T13:00:02.721Z"
   },
   {
    "duration": -67,
    "start_time": "2021-12-17T13:00:02.730Z"
   },
   {
    "duration": -68,
    "start_time": "2021-12-17T13:00:02.732Z"
   },
   {
    "duration": -68,
    "start_time": "2021-12-17T13:00:02.734Z"
   },
   {
    "duration": 6,
    "start_time": "2021-12-17T13:00:46.311Z"
   },
   {
    "duration": 273,
    "start_time": "2021-12-17T13:01:19.919Z"
   },
   {
    "duration": 609,
    "start_time": "2021-12-17T13:01:40.227Z"
   },
   {
    "duration": 599,
    "start_time": "2021-12-17T13:02:07.998Z"
   },
   {
    "duration": 724,
    "start_time": "2021-12-17T13:06:22.242Z"
   },
   {
    "duration": 694,
    "start_time": "2021-12-17T13:20:50.847Z"
   },
   {
    "duration": 1279,
    "start_time": "2021-12-17T13:22:32.068Z"
   },
   {
    "duration": 238,
    "start_time": "2021-12-17T13:22:41.439Z"
   },
   {
    "duration": 269,
    "start_time": "2021-12-17T13:23:28.150Z"
   },
   {
    "duration": 4,
    "start_time": "2021-12-17T13:23:34.289Z"
   },
   {
    "duration": 4,
    "start_time": "2021-12-17T13:25:29.045Z"
   },
   {
    "duration": 673,
    "start_time": "2021-12-17T13:25:36.882Z"
   },
   {
    "duration": 2817,
    "start_time": "2021-12-17T13:25:49.757Z"
   },
   {
    "duration": 2763,
    "start_time": "2021-12-17T13:26:13.634Z"
   },
   {
    "duration": 3768,
    "start_time": "2021-12-17T13:26:53.620Z"
   },
   {
    "duration": 952,
    "start_time": "2021-12-17T13:27:33.421Z"
   },
   {
    "duration": 4411,
    "start_time": "2021-12-17T13:27:44.335Z"
   },
   {
    "duration": 4,
    "start_time": "2021-12-17T13:30:03.271Z"
   },
   {
    "duration": 1708,
    "start_time": "2021-12-17T13:30:03.279Z"
   },
   {
    "duration": 272,
    "start_time": "2021-12-17T13:30:04.990Z"
   },
   {
    "duration": 55,
    "start_time": "2021-12-17T13:30:05.266Z"
   },
   {
    "duration": 40,
    "start_time": "2021-12-17T13:30:05.324Z"
   },
   {
    "duration": 88,
    "start_time": "2021-12-17T13:30:05.367Z"
   },
   {
    "duration": 64,
    "start_time": "2021-12-17T13:30:05.459Z"
   },
   {
    "duration": 38,
    "start_time": "2021-12-17T13:30:05.527Z"
   },
   {
    "duration": 17,
    "start_time": "2021-12-17T13:30:05.567Z"
   },
   {
    "duration": 33,
    "start_time": "2021-12-17T13:30:05.617Z"
   },
   {
    "duration": 28,
    "start_time": "2021-12-17T13:30:05.653Z"
   },
   {
    "duration": 71,
    "start_time": "2021-12-17T13:30:05.684Z"
   },
   {
    "duration": 21,
    "start_time": "2021-12-17T13:30:05.758Z"
   },
   {
    "duration": 9,
    "start_time": "2021-12-17T13:30:05.781Z"
   },
   {
    "duration": 21,
    "start_time": "2021-12-17T13:30:05.818Z"
   },
   {
    "duration": 11,
    "start_time": "2021-12-17T13:30:05.843Z"
   },
   {
    "duration": 5,
    "start_time": "2021-12-17T13:30:05.857Z"
   },
   {
    "duration": 14,
    "start_time": "2021-12-17T13:30:05.865Z"
   },
   {
    "duration": 42,
    "start_time": "2021-12-17T13:30:05.882Z"
   },
   {
    "duration": 20,
    "start_time": "2021-12-17T13:30:05.927Z"
   },
   {
    "duration": 5,
    "start_time": "2021-12-17T13:30:05.949Z"
   },
   {
    "duration": 7,
    "start_time": "2021-12-17T13:30:05.957Z"
   },
   {
    "duration": 138,
    "start_time": "2021-12-17T13:30:05.966Z"
   },
   {
    "duration": 14,
    "start_time": "2021-12-17T13:30:06.107Z"
   },
   {
    "duration": 28,
    "start_time": "2021-12-17T13:30:06.135Z"
   },
   {
    "duration": 58,
    "start_time": "2021-12-17T13:30:06.165Z"
   },
   {
    "duration": 22,
    "start_time": "2021-12-17T13:30:06.228Z"
   },
   {
    "duration": 31,
    "start_time": "2021-12-17T13:30:06.256Z"
   },
   {
    "duration": 36,
    "start_time": "2021-12-17T13:30:06.290Z"
   },
   {
    "duration": 4,
    "start_time": "2021-12-17T13:30:06.338Z"
   },
   {
    "duration": 630,
    "start_time": "2021-12-17T13:30:06.345Z"
   },
   {
    "duration": 2903,
    "start_time": "2021-12-17T13:30:06.977Z"
   },
   {
    "duration": 2765,
    "start_time": "2021-12-17T13:30:09.883Z"
   },
   {
    "duration": 3826,
    "start_time": "2021-12-17T13:30:12.651Z"
   },
   {
    "duration": 4,
    "start_time": "2021-12-17T13:30:16.479Z"
   },
   {
    "duration": 891,
    "start_time": "2021-12-17T13:30:16.485Z"
   },
   {
    "duration": 4634,
    "start_time": "2021-12-17T13:30:17.379Z"
   },
   {
    "duration": 6,
    "start_time": "2021-12-17T13:30:22.018Z"
   },
   {
    "duration": 13,
    "start_time": "2021-12-17T13:30:22.027Z"
   },
   {
    "duration": 95,
    "start_time": "2021-12-17T13:30:22.043Z"
   },
   {
    "duration": 27,
    "start_time": "2021-12-17T13:30:22.141Z"
   },
   {
    "duration": 17,
    "start_time": "2021-12-17T13:30:22.170Z"
   },
   {
    "duration": 4,
    "start_time": "2021-12-17T13:30:22.190Z"
   },
   {
    "duration": 590,
    "start_time": "2021-12-17T13:30:22.217Z"
   },
   {
    "duration": 422,
    "start_time": "2021-12-17T13:30:22.817Z"
   },
   {
    "duration": -35,
    "start_time": "2021-12-17T13:30:23.277Z"
   },
   {
    "duration": 16,
    "start_time": "2021-12-17T14:11:10.048Z"
   },
   {
    "duration": 6,
    "start_time": "2021-12-17T14:11:18.867Z"
   },
   {
    "duration": 10,
    "start_time": "2021-12-17T14:11:22.842Z"
   },
   {
    "duration": 26,
    "start_time": "2021-12-17T14:59:14.116Z"
   },
   {
    "duration": 265,
    "start_time": "2021-12-17T14:59:51.104Z"
   },
   {
    "duration": 13,
    "start_time": "2021-12-17T14:59:55.942Z"
   },
   {
    "duration": 8,
    "start_time": "2021-12-17T15:00:14.069Z"
   },
   {
    "duration": 10,
    "start_time": "2021-12-17T15:00:49.394Z"
   },
   {
    "duration": 10,
    "start_time": "2021-12-17T15:00:51.758Z"
   },
   {
    "duration": 9,
    "start_time": "2021-12-17T15:00:55.231Z"
   },
   {
    "duration": 289,
    "start_time": "2021-12-17T15:13:24.566Z"
   },
   {
    "duration": 119,
    "start_time": "2021-12-17T15:14:38.806Z"
   },
   {
    "duration": 239,
    "start_time": "2021-12-17T15:15:52.066Z"
   },
   {
    "duration": 249,
    "start_time": "2021-12-17T15:16:53.459Z"
   },
   {
    "duration": 9,
    "start_time": "2021-12-17T15:17:06.571Z"
   },
   {
    "duration": 7,
    "start_time": "2021-12-17T15:17:21.495Z"
   },
   {
    "duration": 18,
    "start_time": "2021-12-17T15:17:23.680Z"
   },
   {
    "duration": 62,
    "start_time": "2021-12-17T15:17:26.442Z"
   },
   {
    "duration": 119,
    "start_time": "2021-12-17T15:17:56.539Z"
   },
   {
    "duration": 723,
    "start_time": "2021-12-17T15:27:34.137Z"
   },
   {
    "duration": 992,
    "start_time": "2021-12-17T15:32:43.240Z"
   },
   {
    "duration": 1057,
    "start_time": "2021-12-17T15:33:03.593Z"
   },
   {
    "duration": 993,
    "start_time": "2021-12-17T15:35:15.074Z"
   },
   {
    "duration": 1541,
    "start_time": "2021-12-17T16:54:46.192Z"
   },
   {
    "duration": 1342,
    "start_time": "2021-12-17T16:55:25.718Z"
   },
   {
    "duration": 949,
    "start_time": "2021-12-17T16:55:50.642Z"
   },
   {
    "duration": 979,
    "start_time": "2021-12-17T16:56:17.917Z"
   },
   {
    "duration": 954,
    "start_time": "2021-12-17T16:57:19.679Z"
   },
   {
    "duration": 1599,
    "start_time": "2021-12-17T16:58:34.059Z"
   },
   {
    "duration": 1431,
    "start_time": "2021-12-17T17:01:40.238Z"
   },
   {
    "duration": 1282,
    "start_time": "2021-12-17T17:02:02.452Z"
   },
   {
    "duration": 1293,
    "start_time": "2021-12-17T17:02:19.727Z"
   },
   {
    "duration": 1087,
    "start_time": "2021-12-17T17:02:32.064Z"
   },
   {
    "duration": 1261,
    "start_time": "2021-12-17T17:03:39.115Z"
   },
   {
    "duration": 1191,
    "start_time": "2021-12-17T17:03:49.487Z"
   },
   {
    "duration": 1750,
    "start_time": "2021-12-17T17:04:12.305Z"
   },
   {
    "duration": 47466,
    "start_time": "2021-12-17T17:14:07.946Z"
   },
   {
    "duration": 11,
    "start_time": "2021-12-17T17:21:35.509Z"
   },
   {
    "duration": 9,
    "start_time": "2021-12-17T17:21:38.007Z"
   },
   {
    "duration": 19,
    "start_time": "2021-12-17T17:21:40.049Z"
   },
   {
    "duration": 1077,
    "start_time": "2021-12-17T17:21:42.334Z"
   },
   {
    "duration": 10,
    "start_time": "2021-12-17T17:21:52.458Z"
   },
   {
    "duration": 8,
    "start_time": "2021-12-17T17:21:55.003Z"
   },
   {
    "duration": 80,
    "start_time": "2021-12-17T17:29:27.457Z"
   },
   {
    "duration": 6,
    "start_time": "2021-12-17T17:29:45.296Z"
   },
   {
    "duration": 256,
    "start_time": "2021-12-17T17:38:16.143Z"
   },
   {
    "duration": 37002,
    "start_time": "2021-12-17T17:40:06.890Z"
   },
   {
    "duration": 36877,
    "start_time": "2021-12-17T17:40:55.545Z"
   },
   {
    "duration": 54,
    "start_time": "2021-12-17T17:43:06.025Z"
   },
   {
    "duration": 5,
    "start_time": "2021-12-17T17:43:33.156Z"
   },
   {
    "duration": 11,
    "start_time": "2021-12-17T17:44:06.450Z"
   },
   {
    "duration": 9,
    "start_time": "2021-12-17T17:44:15.753Z"
   },
   {
    "duration": 17,
    "start_time": "2021-12-17T17:44:22.188Z"
   },
   {
    "duration": 1269,
    "start_time": "2021-12-17T17:44:25.701Z"
   },
   {
    "duration": 9,
    "start_time": "2021-12-17T17:44:30.200Z"
   },
   {
    "duration": 8,
    "start_time": "2021-12-17T17:44:31.978Z"
   },
   {
    "duration": 6,
    "start_time": "2021-12-17T17:44:34.539Z"
   },
   {
    "duration": 7,
    "start_time": "2021-12-17T17:44:59.739Z"
   },
   {
    "duration": 11,
    "start_time": "2021-12-17T17:45:38.226Z"
   },
   {
    "duration": 13,
    "start_time": "2021-12-17T17:45:40.232Z"
   },
   {
    "duration": 15,
    "start_time": "2021-12-17T17:45:42.225Z"
   },
   {
    "duration": 1060,
    "start_time": "2021-12-17T17:45:45.515Z"
   },
   {
    "duration": 9,
    "start_time": "2021-12-17T17:45:49.590Z"
   },
   {
    "duration": 9,
    "start_time": "2021-12-17T17:45:51.651Z"
   },
   {
    "duration": 5,
    "start_time": "2021-12-17T17:45:55.253Z"
   },
   {
    "duration": 30257,
    "start_time": "2021-12-17T17:45:59.060Z"
   },
   {
    "duration": 7,
    "start_time": "2021-12-17T18:01:10.212Z"
   },
   {
    "duration": 11,
    "start_time": "2021-12-17T18:01:12.374Z"
   },
   {
    "duration": 14,
    "start_time": "2021-12-17T18:01:14.413Z"
   },
   {
    "duration": 1048,
    "start_time": "2021-12-17T18:01:16.375Z"
   },
   {
    "duration": 9,
    "start_time": "2021-12-17T18:01:20.426Z"
   },
   {
    "duration": 9,
    "start_time": "2021-12-17T18:01:22.264Z"
   },
   {
    "duration": 263,
    "start_time": "2021-12-17T18:01:24.737Z"
   },
   {
    "duration": 18387,
    "start_time": "2021-12-17T18:02:58.452Z"
   },
   {
    "duration": 12,
    "start_time": "2021-12-17T18:03:19.365Z"
   },
   {
    "duration": 261,
    "start_time": "2021-12-17T18:03:22.852Z"
   },
   {
    "duration": 6,
    "start_time": "2021-12-17T18:03:34.914Z"
   },
   {
    "duration": 29916,
    "start_time": "2021-12-17T18:03:42.701Z"
   },
   {
    "duration": 1527,
    "start_time": "2021-12-17T18:04:47.494Z"
   },
   {
    "duration": 13,
    "start_time": "2021-12-17T18:05:16.512Z"
   },
   {
    "duration": 1426,
    "start_time": "2021-12-17T18:05:24.093Z"
   },
   {
    "duration": 26040,
    "start_time": "2021-12-18T18:07:18.744Z"
   },
   {
    "duration": 1389,
    "start_time": "2021-12-18T18:07:44.787Z"
   },
   {
    "duration": 193,
    "start_time": "2021-12-18T18:07:46.178Z"
   },
   {
    "duration": 32,
    "start_time": "2021-12-18T18:07:46.373Z"
   },
   {
    "duration": 36,
    "start_time": "2021-12-18T18:07:46.406Z"
   },
   {
    "duration": 21,
    "start_time": "2021-12-18T18:07:46.443Z"
   },
   {
    "duration": 50,
    "start_time": "2021-12-18T18:07:46.465Z"
   },
   {
    "duration": 19,
    "start_time": "2021-12-18T18:07:46.517Z"
   },
   {
    "duration": 7,
    "start_time": "2021-12-18T18:07:46.537Z"
   },
   {
    "duration": 17,
    "start_time": "2021-12-18T18:07:46.545Z"
   },
   {
    "duration": 5,
    "start_time": "2021-12-18T18:07:46.563Z"
   },
   {
    "duration": 48,
    "start_time": "2021-12-18T18:07:46.569Z"
   },
   {
    "duration": 10,
    "start_time": "2021-12-18T18:07:46.619Z"
   },
   {
    "duration": 5,
    "start_time": "2021-12-18T18:07:46.630Z"
   },
   {
    "duration": 7,
    "start_time": "2021-12-18T18:07:46.637Z"
   },
   {
    "duration": 6,
    "start_time": "2021-12-18T18:07:46.646Z"
   },
   {
    "duration": 4,
    "start_time": "2021-12-18T18:07:46.653Z"
   },
   {
    "duration": 6,
    "start_time": "2021-12-18T18:07:46.659Z"
   },
   {
    "duration": 39,
    "start_time": "2021-12-18T18:07:46.667Z"
   },
   {
    "duration": 5,
    "start_time": "2021-12-18T18:07:46.708Z"
   },
   {
    "duration": 8,
    "start_time": "2021-12-18T18:07:46.714Z"
   },
   {
    "duration": 8,
    "start_time": "2021-12-18T18:07:46.723Z"
   },
   {
    "duration": 36,
    "start_time": "2021-12-18T18:07:46.735Z"
   },
   {
    "duration": 2,
    "start_time": "2021-12-18T18:07:46.774Z"
   },
   {
    "duration": 38,
    "start_time": "2021-12-18T18:07:46.778Z"
   },
   {
    "duration": 24,
    "start_time": "2021-12-18T18:07:46.818Z"
   },
   {
    "duration": 128,
    "start_time": "2021-12-18T18:07:46.844Z"
   },
   {
    "duration": 12,
    "start_time": "2021-12-18T18:07:46.974Z"
   },
   {
    "duration": 18,
    "start_time": "2021-12-18T18:07:46.988Z"
   },
   {
    "duration": 3,
    "start_time": "2021-12-18T18:07:47.008Z"
   },
   {
    "duration": 365,
    "start_time": "2021-12-18T18:07:47.013Z"
   },
   {
    "duration": 1773,
    "start_time": "2021-12-18T18:07:47.380Z"
   },
   {
    "duration": 1787,
    "start_time": "2021-12-18T18:07:49.155Z"
   },
   {
    "duration": 2331,
    "start_time": "2021-12-18T18:07:50.944Z"
   },
   {
    "duration": 3,
    "start_time": "2021-12-18T18:07:53.276Z"
   },
   {
    "duration": 522,
    "start_time": "2021-12-18T18:07:53.280Z"
   },
   {
    "duration": 2776,
    "start_time": "2021-12-18T18:07:53.804Z"
   },
   {
    "duration": 3,
    "start_time": "2021-12-18T18:07:56.582Z"
   },
   {
    "duration": 4,
    "start_time": "2021-12-18T18:07:56.587Z"
   },
   {
    "duration": 44,
    "start_time": "2021-12-18T18:07:56.593Z"
   },
   {
    "duration": 21,
    "start_time": "2021-12-18T18:07:56.639Z"
   },
   {
    "duration": 13,
    "start_time": "2021-12-18T18:07:56.662Z"
   },
   {
    "duration": 2,
    "start_time": "2021-12-18T18:07:56.677Z"
   },
   {
    "duration": 352,
    "start_time": "2021-12-18T18:07:56.681Z"
   },
   {
    "duration": 11,
    "start_time": "2021-12-18T18:07:57.035Z"
   },
   {
    "duration": 5,
    "start_time": "2021-12-18T18:07:57.047Z"
   },
   {
    "duration": 9,
    "start_time": "2021-12-18T18:07:57.053Z"
   },
   {
    "duration": 9,
    "start_time": "2021-12-18T18:07:57.063Z"
   },
   {
    "duration": 699,
    "start_time": "2021-12-18T18:07:57.074Z"
   },
   {
    "duration": 5,
    "start_time": "2021-12-18T18:07:57.775Z"
   },
   {
    "duration": 9,
    "start_time": "2021-12-18T18:07:57.782Z"
   },
   {
    "duration": 4,
    "start_time": "2021-12-18T18:07:57.806Z"
   },
   {
    "duration": 483,
    "start_time": "2021-12-18T18:07:57.812Z"
   },
   {
    "duration": 968,
    "start_time": "2021-12-18T18:07:57.329Z"
   },
   {
    "duration": 960,
    "start_time": "2021-12-18T18:07:57.338Z"
   },
   {
    "duration": 951,
    "start_time": "2021-12-18T18:07:57.348Z"
   },
   {
    "duration": 945,
    "start_time": "2021-12-18T18:07:57.355Z"
   },
   {
    "duration": 938,
    "start_time": "2021-12-18T18:07:57.363Z"
   },
   {
    "duration": 243,
    "start_time": "2021-12-18T18:12:05.090Z"
   },
   {
    "duration": 8,
    "start_time": "2021-12-18T18:12:33.280Z"
   },
   {
    "duration": 67,
    "start_time": "2021-12-18T18:12:46.432Z"
   },
   {
    "duration": 57,
    "start_time": "2021-12-18T18:13:52.304Z"
   },
   {
    "duration": 27582,
    "start_time": "2021-12-18T18:14:42.130Z"
   },
   {
    "duration": 1041,
    "start_time": "2021-12-18T18:15:17.178Z"
   },
   {
    "duration": 73607,
    "start_time": "2021-12-18T18:16:13.484Z"
   },
   {
    "duration": 74441,
    "start_time": "2021-12-18T18:19:15.896Z"
   },
   {
    "duration": 210,
    "start_time": "2021-12-18T18:21:09.337Z"
   },
   {
    "duration": 3906,
    "start_time": "2021-12-18T18:21:29.295Z"
   },
   {
    "duration": 75819,
    "start_time": "2021-12-18T18:26:52.420Z"
   },
   {
    "duration": 25472,
    "start_time": "2021-12-18T18:28:29.937Z"
   },
   {
    "duration": 894,
    "start_time": "2021-12-18T18:29:07.822Z"
   },
   {
    "duration": 1839,
    "start_time": "2021-12-18T18:29:26.935Z"
   },
   {
    "duration": 1767,
    "start_time": "2021-12-18T18:33:25.622Z"
   },
   {
    "duration": 184,
    "start_time": "2021-12-18T18:41:56.958Z"
   },
   {
    "duration": 243517,
    "start_time": "2021-12-18T18:42:07.366Z"
   },
   {
    "duration": 5240,
    "start_time": "2021-12-18T18:54:03.950Z"
   },
   {
    "duration": 32244,
    "start_time": "2021-12-18T21:08:38.110Z"
   },
   {
    "duration": 1745,
    "start_time": "2021-12-18T21:09:10.357Z"
   },
   {
    "duration": 190,
    "start_time": "2021-12-18T21:09:12.105Z"
   },
   {
    "duration": 70,
    "start_time": "2021-12-18T21:09:12.298Z"
   },
   {
    "duration": 60,
    "start_time": "2021-12-18T21:09:12.370Z"
   },
   {
    "duration": 29,
    "start_time": "2021-12-18T21:09:12.468Z"
   },
   {
    "duration": 67,
    "start_time": "2021-12-18T21:09:12.500Z"
   },
   {
    "duration": 29,
    "start_time": "2021-12-18T21:09:12.573Z"
   },
   {
    "duration": 11,
    "start_time": "2021-12-18T21:09:12.605Z"
   },
   {
    "duration": 63,
    "start_time": "2021-12-18T21:09:12.619Z"
   },
   {
    "duration": 6,
    "start_time": "2021-12-18T21:09:12.685Z"
   },
   {
    "duration": 29,
    "start_time": "2021-12-18T21:09:12.693Z"
   },
   {
    "duration": 49,
    "start_time": "2021-12-18T21:09:12.725Z"
   },
   {
    "duration": 8,
    "start_time": "2021-12-18T21:09:12.776Z"
   },
   {
    "duration": 13,
    "start_time": "2021-12-18T21:09:12.786Z"
   },
   {
    "duration": 11,
    "start_time": "2021-12-18T21:09:12.801Z"
   },
   {
    "duration": 5,
    "start_time": "2021-12-18T21:09:12.815Z"
   },
   {
    "duration": 45,
    "start_time": "2021-12-18T21:09:12.822Z"
   },
   {
    "duration": 8,
    "start_time": "2021-12-18T21:09:12.870Z"
   },
   {
    "duration": 13,
    "start_time": "2021-12-18T21:09:12.880Z"
   },
   {
    "duration": 10,
    "start_time": "2021-12-18T21:09:12.895Z"
   },
   {
    "duration": 7,
    "start_time": "2021-12-18T21:09:12.907Z"
   },
   {
    "duration": 86,
    "start_time": "2021-12-18T21:09:12.920Z"
   },
   {
    "duration": 4,
    "start_time": "2021-12-18T21:09:13.010Z"
   },
   {
    "duration": 21,
    "start_time": "2021-12-18T21:09:13.017Z"
   },
   {
    "duration": 55,
    "start_time": "2021-12-18T21:09:13.041Z"
   },
   {
    "duration": 191,
    "start_time": "2021-12-18T21:09:13.099Z"
   },
   {
    "duration": 18,
    "start_time": "2021-12-18T21:09:13.292Z"
   },
   {
    "duration": 7,
    "start_time": "2021-12-18T21:09:13.313Z"
   },
   {
    "duration": 5,
    "start_time": "2021-12-18T21:09:13.322Z"
   },
   {
    "duration": 572,
    "start_time": "2021-12-18T21:09:13.329Z"
   },
   {
    "duration": 2666,
    "start_time": "2021-12-18T21:09:13.903Z"
   },
   {
    "duration": 2582,
    "start_time": "2021-12-18T21:09:16.572Z"
   },
   {
    "duration": 3793,
    "start_time": "2021-12-18T21:09:19.157Z"
   },
   {
    "duration": 14,
    "start_time": "2021-12-18T21:09:22.954Z"
   },
   {
    "duration": 873,
    "start_time": "2021-12-18T21:09:22.972Z"
   },
   {
    "duration": 4682,
    "start_time": "2021-12-18T21:09:23.847Z"
   },
   {
    "duration": 4,
    "start_time": "2021-12-18T21:09:28.531Z"
   },
   {
    "duration": 6,
    "start_time": "2021-12-18T21:09:28.538Z"
   },
   {
    "duration": 72,
    "start_time": "2021-12-18T21:09:28.547Z"
   },
   {
    "duration": 45,
    "start_time": "2021-12-18T21:09:28.622Z"
   },
   {
    "duration": 18,
    "start_time": "2021-12-18T21:09:28.670Z"
   },
   {
    "duration": 5,
    "start_time": "2021-12-18T21:09:28.690Z"
   },
   {
    "duration": 579,
    "start_time": "2021-12-18T21:09:28.698Z"
   },
   {
    "duration": 19,
    "start_time": "2021-12-18T21:09:29.280Z"
   },
   {
    "duration": 8,
    "start_time": "2021-12-18T21:09:29.302Z"
   },
   {
    "duration": 14,
    "start_time": "2021-12-18T21:09:29.313Z"
   },
   {
    "duration": 14,
    "start_time": "2021-12-18T21:09:29.368Z"
   },
   {
    "duration": 1194,
    "start_time": "2021-12-18T21:09:29.384Z"
   },
   {
    "duration": 9,
    "start_time": "2021-12-18T21:09:30.581Z"
   },
   {
    "duration": 44,
    "start_time": "2021-12-18T21:09:30.593Z"
   },
   {
    "duration": 11,
    "start_time": "2021-12-18T21:09:30.650Z"
   },
   {
    "duration": 128,
    "start_time": "2021-12-18T21:09:30.664Z"
   },
   {
    "duration": 27381,
    "start_time": "2021-12-18T21:09:30.795Z"
   },
   {
    "duration": 1320,
    "start_time": "2021-12-18T21:09:58.269Z"
   },
   {
    "duration": 121847,
    "start_time": "2021-12-18T21:09:59.677Z"
   },
   {
    "duration": 2905,
    "start_time": "2021-12-18T21:12:01.526Z"
   },
   {
    "duration": 6,
    "start_time": "2021-12-18T21:12:04.434Z"
   },
   {
    "duration": 365004,
    "start_time": "2021-12-18T21:12:04.443Z"
   },
   {
    "duration": 7840,
    "start_time": "2021-12-18T21:18:09.450Z"
   },
   {
    "duration": 13017,
    "start_time": "2021-12-18T21:18:17.293Z"
   },
   {
    "duration": 64734,
    "start_time": "2021-12-18T21:22:49.485Z"
   },
   {
    "duration": 1329,
    "start_time": "2021-12-18T21:24:10.010Z"
   },
   {
    "duration": 292,
    "start_time": "2021-12-18T21:41:26.540Z"
   },
   {
    "duration": 4016,
    "start_time": "2021-12-18T21:42:11.894Z"
   },
   {
    "duration": 7,
    "start_time": "2021-12-18T21:42:52.880Z"
   },
   {
    "duration": 6,
    "start_time": "2021-12-18T21:43:47.854Z"
   },
   {
    "duration": 525,
    "start_time": "2021-12-18T21:47:23.506Z"
   },
   {
    "duration": 5,
    "start_time": "2021-12-18T21:47:31.491Z"
   },
   {
    "duration": 376,
    "start_time": "2021-12-18T21:47:34.037Z"
   },
   {
    "duration": 349,
    "start_time": "2021-12-18T21:47:57.561Z"
   },
   {
    "duration": 417,
    "start_time": "2021-12-18T21:48:15.095Z"
   },
   {
    "duration": 37,
    "start_time": "2021-12-18T21:48:41.212Z"
   },
   {
    "duration": 73,
    "start_time": "2021-12-18T21:50:55.922Z"
   },
   {
    "duration": 39,
    "start_time": "2021-12-18T21:51:03.728Z"
   },
   {
    "duration": 68,
    "start_time": "2021-12-18T21:51:25.683Z"
   },
   {
    "duration": 274,
    "start_time": "2021-12-18T21:51:32.250Z"
   },
   {
    "duration": 226,
    "start_time": "2021-12-18T21:52:01.478Z"
   },
   {
    "duration": 64,
    "start_time": "2021-12-18T21:52:03.803Z"
   },
   {
    "duration": 239975,
    "start_time": "2021-12-18T21:52:06.233Z"
   },
   {
    "duration": 164,
    "start_time": "2021-12-18T21:59:11.264Z"
   },
   {
    "duration": 4,
    "start_time": "2021-12-18T22:03:28.328Z"
   },
   {
    "duration": 330,
    "start_time": "2021-12-18T22:03:31.413Z"
   },
   {
    "duration": 287,
    "start_time": "2021-12-18T22:05:39.710Z"
   },
   {
    "duration": 6,
    "start_time": "2021-12-18T22:06:13.899Z"
   },
   {
    "duration": 5,
    "start_time": "2021-12-18T22:06:20.612Z"
   },
   {
    "duration": 40281,
    "start_time": "2021-12-18T22:07:34.137Z"
   },
   {
    "duration": 73230,
    "start_time": "2021-12-18T22:10:09.976Z"
   },
   {
    "duration": 8,
    "start_time": "2021-12-18T22:12:30.289Z"
   },
   {
    "duration": 72922,
    "start_time": "2021-12-18T22:14:28.576Z"
   },
   {
    "duration": 194,
    "start_time": "2021-12-18T22:17:43.430Z"
   },
   {
    "duration": 198,
    "start_time": "2021-12-18T22:18:02.394Z"
   },
   {
    "duration": 1342,
    "start_time": "2021-12-18T22:23:26.736Z"
   },
   {
    "duration": 13,
    "start_time": "2021-12-18T22:23:39.867Z"
   },
   {
    "duration": 344,
    "start_time": "2021-12-18T22:35:19.855Z"
   },
   {
    "duration": 1601,
    "start_time": "2021-12-18T22:35:46.477Z"
   },
   {
    "duration": 107,
    "start_time": "2021-12-18T22:35:51.432Z"
   },
   {
    "duration": 296,
    "start_time": "2021-12-18T22:36:28.047Z"
   },
   {
    "duration": 302,
    "start_time": "2021-12-18T22:37:03.950Z"
   },
   {
    "duration": 296,
    "start_time": "2021-12-18T22:37:24.337Z"
   },
   {
    "duration": 7,
    "start_time": "2021-12-18T22:37:40.198Z"
   },
   {
    "duration": 6,
    "start_time": "2021-12-18T22:37:46.872Z"
   },
   {
    "duration": 5,
    "start_time": "2021-12-18T22:38:01.547Z"
   },
   {
    "duration": 1331,
    "start_time": "2021-12-18T22:38:24.005Z"
   },
   {
    "duration": 371,
    "start_time": "2021-12-18T22:38:28.578Z"
   },
   {
    "duration": 301,
    "start_time": "2021-12-18T22:39:12.714Z"
   },
   {
    "duration": 296,
    "start_time": "2021-12-18T22:40:04.487Z"
   },
   {
    "duration": 300,
    "start_time": "2021-12-18T22:40:17.464Z"
   },
   {
    "duration": 347,
    "start_time": "2021-12-18T22:41:05.066Z"
   },
   {
    "duration": 697,
    "start_time": "2021-12-18T22:41:17.753Z"
   },
   {
    "duration": 624,
    "start_time": "2021-12-18T22:41:38.029Z"
   },
   {
    "duration": 632,
    "start_time": "2021-12-18T22:41:54.253Z"
   },
   {
    "duration": 368,
    "start_time": "2021-12-18T22:42:06.369Z"
   },
   {
    "duration": 359,
    "start_time": "2021-12-18T22:43:28.108Z"
   },
   {
    "duration": 344,
    "start_time": "2021-12-18T22:43:52.792Z"
   },
   {
    "duration": 311,
    "start_time": "2021-12-18T22:44:04.759Z"
   },
   {
    "duration": 335,
    "start_time": "2021-12-18T22:44:15.094Z"
   },
   {
    "duration": 308,
    "start_time": "2021-12-18T22:45:00.071Z"
   },
   {
    "duration": 298,
    "start_time": "2021-12-19T00:09:32.978Z"
   },
   {
    "duration": 754,
    "start_time": "2021-12-19T00:09:49.491Z"
   },
   {
    "duration": 1095,
    "start_time": "2021-12-19T00:10:02.593Z"
   },
   {
    "duration": 721,
    "start_time": "2021-12-19T00:10:13.619Z"
   },
   {
    "duration": 781,
    "start_time": "2021-12-19T00:10:44.894Z"
   },
   {
    "duration": 733,
    "start_time": "2021-12-19T00:11:19.871Z"
   },
   {
    "duration": 989,
    "start_time": "2021-12-19T00:11:53.517Z"
   },
   {
    "duration": 817,
    "start_time": "2021-12-19T00:12:07.382Z"
   },
   {
    "duration": 817,
    "start_time": "2021-12-19T00:12:19.744Z"
   },
   {
    "duration": 764,
    "start_time": "2021-12-19T00:12:27.359Z"
   },
   {
    "duration": 757,
    "start_time": "2021-12-19T00:12:39.058Z"
   },
   {
    "duration": 983,
    "start_time": "2021-12-19T00:13:06.423Z"
   },
   {
    "duration": 736,
    "start_time": "2021-12-19T00:13:13.896Z"
   },
   {
    "duration": 760,
    "start_time": "2021-12-19T00:13:19.871Z"
   },
   {
    "duration": 804,
    "start_time": "2021-12-19T00:13:27.784Z"
   },
   {
    "duration": 815,
    "start_time": "2021-12-19T00:13:35.137Z"
   },
   {
    "duration": 1059,
    "start_time": "2021-12-19T00:14:19.008Z"
   },
   {
    "duration": 3,
    "start_time": "2021-12-19T00:20:15.019Z"
   },
   {
    "duration": 10,
    "start_time": "2021-12-19T00:20:35.194Z"
   },
   {
    "duration": 373,
    "start_time": "2021-12-19T00:20:53.372Z"
   },
   {
    "duration": 348,
    "start_time": "2021-12-19T00:21:15.798Z"
   },
   {
    "duration": 302,
    "start_time": "2021-12-19T00:21:34.071Z"
   },
   {
    "duration": 671,
    "start_time": "2021-12-19T00:22:27.758Z"
   },
   {
    "duration": 365,
    "start_time": "2021-12-19T00:23:29.759Z"
   },
   {
    "duration": 837,
    "start_time": "2021-12-19T00:24:03.898Z"
   },
   {
    "duration": 875,
    "start_time": "2021-12-19T00:24:28.402Z"
   },
   {
    "duration": 93,
    "start_time": "2021-12-19T00:24:59.537Z"
   },
   {
    "duration": 97,
    "start_time": "2021-12-19T00:25:07.226Z"
   },
   {
    "duration": 866,
    "start_time": "2021-12-19T00:25:19.326Z"
   },
   {
    "duration": 857,
    "start_time": "2021-12-19T00:25:45.300Z"
   },
   {
    "duration": 551,
    "start_time": "2021-12-19T00:26:02.941Z"
   },
   {
    "duration": 919,
    "start_time": "2021-12-19T00:26:15.752Z"
   },
   {
    "duration": 932,
    "start_time": "2021-12-19T00:26:45.116Z"
   },
   {
    "duration": 613,
    "start_time": "2021-12-19T00:29:08.057Z"
   },
   {
    "duration": 650,
    "start_time": "2021-12-19T00:29:20.869Z"
   },
   {
    "duration": 264,
    "start_time": "2021-12-19T01:08:43.783Z"
   },
   {
    "duration": 20,
    "start_time": "2021-12-19T01:08:46.364Z"
   },
   {
    "duration": 10656,
    "start_time": "2021-12-19T02:52:06.510Z"
   },
   {
    "duration": 5054,
    "start_time": "2021-12-19T02:52:17.169Z"
   },
   {
    "duration": 196,
    "start_time": "2021-12-19T02:52:22.226Z"
   },
   {
    "duration": 56,
    "start_time": "2021-12-19T02:52:22.425Z"
   },
   {
    "duration": 97,
    "start_time": "2021-12-19T02:52:22.484Z"
   },
   {
    "duration": 40,
    "start_time": "2021-12-19T02:52:22.584Z"
   },
   {
    "duration": 66,
    "start_time": "2021-12-19T02:52:22.627Z"
   },
   {
    "duration": 29,
    "start_time": "2021-12-19T02:52:22.698Z"
   },
   {
    "duration": 11,
    "start_time": "2021-12-19T02:52:22.769Z"
   },
   {
    "duration": 29,
    "start_time": "2021-12-19T02:52:22.782Z"
   },
   {
    "duration": 9,
    "start_time": "2021-12-19T02:52:22.814Z"
   },
   {
    "duration": 66,
    "start_time": "2021-12-19T02:52:22.825Z"
   },
   {
    "duration": 15,
    "start_time": "2021-12-19T02:52:22.893Z"
   },
   {
    "duration": 8,
    "start_time": "2021-12-19T02:52:22.910Z"
   },
   {
    "duration": 9,
    "start_time": "2021-12-19T02:52:22.920Z"
   },
   {
    "duration": 6,
    "start_time": "2021-12-19T02:52:22.968Z"
   },
   {
    "duration": 7,
    "start_time": "2021-12-19T02:52:22.977Z"
   },
   {
    "duration": 12,
    "start_time": "2021-12-19T02:52:22.986Z"
   },
   {
    "duration": 7,
    "start_time": "2021-12-19T02:52:23.000Z"
   },
   {
    "duration": 9,
    "start_time": "2021-12-19T02:52:23.009Z"
   },
   {
    "duration": 47,
    "start_time": "2021-12-19T02:52:23.020Z"
   },
   {
    "duration": 62,
    "start_time": "2021-12-19T02:52:23.070Z"
   },
   {
    "duration": 4,
    "start_time": "2021-12-19T02:52:23.138Z"
   },
   {
    "duration": 17,
    "start_time": "2021-12-19T02:52:23.168Z"
   },
   {
    "duration": 34,
    "start_time": "2021-12-19T02:52:23.188Z"
   },
   {
    "duration": 125,
    "start_time": "2021-12-19T02:52:23.225Z"
   },
   {
    "duration": 25,
    "start_time": "2021-12-19T02:52:23.352Z"
   },
   {
    "duration": 6,
    "start_time": "2021-12-19T02:52:23.380Z"
   },
   {
    "duration": 4,
    "start_time": "2021-12-19T02:52:23.389Z"
   },
   {
    "duration": 579,
    "start_time": "2021-12-19T02:52:23.396Z"
   },
   {
    "duration": 2689,
    "start_time": "2021-12-19T02:52:23.978Z"
   },
   {
    "duration": 2605,
    "start_time": "2021-12-19T02:52:26.670Z"
   },
   {
    "duration": 19,
    "start_time": "2021-12-19T02:52:29.278Z"
   },
   {
    "duration": 3587,
    "start_time": "2021-12-19T02:52:29.300Z"
   },
   {
    "duration": 4,
    "start_time": "2021-12-19T02:52:32.891Z"
   },
   {
    "duration": 801,
    "start_time": "2021-12-19T02:52:32.898Z"
   },
   {
    "duration": 4154,
    "start_time": "2021-12-19T02:52:33.702Z"
   },
   {
    "duration": 10,
    "start_time": "2021-12-19T02:52:37.859Z"
   },
   {
    "duration": 6,
    "start_time": "2021-12-19T02:52:37.871Z"
   },
   {
    "duration": 54,
    "start_time": "2021-12-19T02:52:37.880Z"
   },
   {
    "duration": 51,
    "start_time": "2021-12-19T02:52:37.936Z"
   },
   {
    "duration": 18,
    "start_time": "2021-12-19T02:52:37.989Z"
   },
   {
    "duration": 4,
    "start_time": "2021-12-19T02:52:38.009Z"
   },
   {
    "duration": 563,
    "start_time": "2021-12-19T02:52:38.015Z"
   },
   {
    "duration": 7,
    "start_time": "2021-12-19T02:52:38.581Z"
   },
   {
    "duration": 793,
    "start_time": "2021-12-19T02:52:38.591Z"
   },
   {
    "duration": 1249,
    "start_time": "2021-12-19T02:52:38.139Z"
   },
   {
    "duration": 1248,
    "start_time": "2021-12-19T02:52:38.142Z"
   },
   {
    "duration": 1246,
    "start_time": "2021-12-19T02:52:38.146Z"
   },
   {
    "duration": 1244,
    "start_time": "2021-12-19T02:52:38.150Z"
   },
   {
    "duration": 1244,
    "start_time": "2021-12-19T02:52:38.152Z"
   },
   {
    "duration": 1244,
    "start_time": "2021-12-19T02:52:38.155Z"
   },
   {
    "duration": 1182,
    "start_time": "2021-12-19T02:52:38.219Z"
   },
   {
    "duration": 1166,
    "start_time": "2021-12-19T02:52:38.237Z"
   },
   {
    "duration": 1164,
    "start_time": "2021-12-19T02:52:38.241Z"
   },
   {
    "duration": 1154,
    "start_time": "2021-12-19T02:52:38.253Z"
   },
   {
    "duration": 1153,
    "start_time": "2021-12-19T02:52:38.256Z"
   },
   {
    "duration": 1152,
    "start_time": "2021-12-19T02:52:38.259Z"
   },
   {
    "duration": 1152,
    "start_time": "2021-12-19T02:52:38.261Z"
   },
   {
    "duration": 1150,
    "start_time": "2021-12-19T02:52:38.265Z"
   },
   {
    "duration": 1151,
    "start_time": "2021-12-19T02:52:38.267Z"
   },
   {
    "duration": 1149,
    "start_time": "2021-12-19T02:52:38.271Z"
   },
   {
    "duration": 1149,
    "start_time": "2021-12-19T02:52:38.273Z"
   },
   {
    "duration": 1148,
    "start_time": "2021-12-19T02:52:38.276Z"
   },
   {
    "duration": 1147,
    "start_time": "2021-12-19T02:52:38.279Z"
   },
   {
    "duration": 1145,
    "start_time": "2021-12-19T02:52:38.282Z"
   },
   {
    "duration": 1182,
    "start_time": "2021-12-19T02:52:38.285Z"
   },
   {
    "duration": 1182,
    "start_time": "2021-12-19T02:52:38.288Z"
   },
   {
    "duration": 1181,
    "start_time": "2021-12-19T02:52:38.291Z"
   },
   {
    "duration": 1179,
    "start_time": "2021-12-19T02:52:38.295Z"
   },
   {
    "duration": 1178,
    "start_time": "2021-12-19T02:52:38.298Z"
   },
   {
    "duration": 1177,
    "start_time": "2021-12-19T02:52:38.302Z"
   },
   {
    "duration": 1175,
    "start_time": "2021-12-19T02:52:38.305Z"
   },
   {
    "duration": 10,
    "start_time": "2021-12-19T02:53:07.630Z"
   },
   {
    "duration": 13,
    "start_time": "2021-12-19T02:53:10.103Z"
   },
   {
    "duration": 6,
    "start_time": "2021-12-19T02:53:12.555Z"
   },
   {
    "duration": 97,
    "start_time": "2021-12-19T02:53:15.343Z"
   },
   {
    "duration": 8,
    "start_time": "2021-12-19T02:53:21.055Z"
   },
   {
    "duration": 596,
    "start_time": "2021-12-19T02:53:23.328Z"
   },
   {
    "duration": 28269,
    "start_time": "2021-12-19T02:54:23.805Z"
   },
   {
    "duration": 6,
    "start_time": "2021-12-19T02:55:34.972Z"
   },
   {
    "duration": 1196,
    "start_time": "2021-12-19T02:55:49.582Z"
   },
   {
    "duration": 1206,
    "start_time": "2021-12-19T02:55:59.869Z"
   },
   {
    "duration": 1010,
    "start_time": "2021-12-19T02:57:08.559Z"
   },
   {
    "duration": 64,
    "start_time": "2021-12-19T02:57:14.506Z"
   },
   {
    "duration": 754,
    "start_time": "2021-12-19T02:57:18.777Z"
   },
   {
    "duration": 118477,
    "start_time": "2021-12-19T03:03:06.199Z"
   },
   {
    "duration": 2659,
    "start_time": "2021-12-19T03:05:43.735Z"
   },
   {
    "duration": 207,
    "start_time": "2021-12-19T03:05:57.020Z"
   },
   {
    "duration": 780,
    "start_time": "2021-12-19T03:06:01.348Z"
   },
   {
    "duration": 216,
    "start_time": "2021-12-19T03:07:05.999Z"
   },
   {
    "duration": 771,
    "start_time": "2021-12-19T03:07:09.111Z"
   },
   {
    "duration": 359582,
    "start_time": "2021-12-19T03:10:18.768Z"
   },
   {
    "duration": 7574,
    "start_time": "2021-12-19T03:16:47.728Z"
   },
   {
    "duration": 145,
    "start_time": "2021-12-19T03:16:59.711Z"
   },
   {
    "duration": 707,
    "start_time": "2021-12-19T03:17:04.976Z"
   },
   {
    "duration": 64498,
    "start_time": "2021-12-19T03:18:06.518Z"
   },
   {
    "duration": 1189,
    "start_time": "2021-12-19T03:25:10.827Z"
   },
   {
    "duration": 149,
    "start_time": "2021-12-19T03:25:14.802Z"
   },
   {
    "duration": 712,
    "start_time": "2021-12-19T03:25:19.076Z"
   },
   {
    "duration": 198,
    "start_time": "2021-12-19T03:26:28.228Z"
   },
   {
    "duration": 64,
    "start_time": "2021-12-19T03:26:39.238Z"
   },
   {
    "duration": 6,
    "start_time": "2021-12-19T03:29:36.430Z"
   },
   {
    "duration": 74153,
    "start_time": "2021-12-19T03:29:49.319Z"
   },
   {
    "duration": 438,
    "start_time": "2021-12-19T03:31:11.494Z"
   },
   {
    "duration": 7,
    "start_time": "2021-12-19T03:33:12.387Z"
   },
   {
    "duration": 6,
    "start_time": "2021-12-19T03:33:17.872Z"
   },
   {
    "duration": 314,
    "start_time": "2021-12-19T03:33:34.686Z"
   },
   {
    "duration": 6,
    "start_time": "2021-12-19T03:33:45.769Z"
   },
   {
    "duration": 279,
    "start_time": "2021-12-19T03:33:55.976Z"
   },
   {
    "duration": 6,
    "start_time": "2021-12-19T03:34:07.435Z"
   },
   {
    "duration": 289,
    "start_time": "2021-12-19T03:34:15.563Z"
   },
   {
    "duration": 282,
    "start_time": "2021-12-19T03:34:21.550Z"
   },
   {
    "duration": 289,
    "start_time": "2021-12-19T03:34:31.887Z"
   },
   {
    "duration": 6,
    "start_time": "2021-12-19T03:34:36.600Z"
   },
   {
    "duration": 7,
    "start_time": "2021-12-19T03:35:09.024Z"
   },
   {
    "duration": 299,
    "start_time": "2021-12-19T03:37:09.642Z"
   },
   {
    "duration": 6,
    "start_time": "2021-12-19T03:37:19.903Z"
   },
   {
    "duration": 327,
    "start_time": "2021-12-19T03:37:48.980Z"
   },
   {
    "duration": 367,
    "start_time": "2021-12-19T03:38:20.708Z"
   },
   {
    "duration": 105,
    "start_time": "2021-12-19T03:38:49.483Z"
   },
   {
    "duration": 6,
    "start_time": "2021-12-19T03:38:54.681Z"
   },
   {
    "duration": 5,
    "start_time": "2021-12-19T03:39:50.658Z"
   },
   {
    "duration": 1197,
    "start_time": "2021-12-19T03:40:02.819Z"
   },
   {
    "duration": 153,
    "start_time": "2021-12-19T03:42:36.315Z"
   },
   {
    "duration": 788,
    "start_time": "2021-12-19T03:43:01.100Z"
   },
   {
    "duration": 10380,
    "start_time": "2021-12-19T04:37:10.525Z"
   },
   {
    "duration": 5064,
    "start_time": "2021-12-19T04:37:20.908Z"
   },
   {
    "duration": 207,
    "start_time": "2021-12-19T04:37:25.975Z"
   },
   {
    "duration": 49,
    "start_time": "2021-12-19T04:37:26.185Z"
   },
   {
    "duration": 75,
    "start_time": "2021-12-19T04:37:26.236Z"
   },
   {
    "duration": 70,
    "start_time": "2021-12-19T04:37:26.314Z"
   },
   {
    "duration": 25,
    "start_time": "2021-12-19T04:37:26.387Z"
   },
   {
    "duration": 64,
    "start_time": "2021-12-19T04:37:26.416Z"
   },
   {
    "duration": 9,
    "start_time": "2021-12-19T04:37:26.483Z"
   },
   {
    "duration": 23,
    "start_time": "2021-12-19T04:37:26.494Z"
   },
   {
    "duration": 9,
    "start_time": "2021-12-19T04:37:26.519Z"
   },
   {
    "duration": 63,
    "start_time": "2021-12-19T04:37:26.530Z"
   },
   {
    "duration": 15,
    "start_time": "2021-12-19T04:37:26.595Z"
   },
   {
    "duration": 8,
    "start_time": "2021-12-19T04:37:26.612Z"
   },
   {
    "duration": 46,
    "start_time": "2021-12-19T04:37:26.622Z"
   },
   {
    "duration": 9,
    "start_time": "2021-12-19T04:37:26.671Z"
   },
   {
    "duration": 7,
    "start_time": "2021-12-19T04:37:26.683Z"
   },
   {
    "duration": 13,
    "start_time": "2021-12-19T04:37:26.692Z"
   },
   {
    "duration": 8,
    "start_time": "2021-12-19T04:37:26.708Z"
   },
   {
    "duration": 9,
    "start_time": "2021-12-19T04:37:26.718Z"
   },
   {
    "duration": 39,
    "start_time": "2021-12-19T04:37:26.730Z"
   },
   {
    "duration": 68,
    "start_time": "2021-12-19T04:37:26.772Z"
   },
   {
    "duration": 4,
    "start_time": "2021-12-19T04:37:26.847Z"
   },
   {
    "duration": 17,
    "start_time": "2021-12-19T04:37:26.868Z"
   },
   {
    "duration": 33,
    "start_time": "2021-12-19T04:37:26.888Z"
   },
   {
    "duration": 126,
    "start_time": "2021-12-19T04:37:26.923Z"
   },
   {
    "duration": 26,
    "start_time": "2021-12-19T04:37:27.052Z"
   },
   {
    "duration": 7,
    "start_time": "2021-12-19T04:37:27.081Z"
   },
   {
    "duration": 5,
    "start_time": "2021-12-19T04:37:27.090Z"
   },
   {
    "duration": 580,
    "start_time": "2021-12-19T04:37:27.097Z"
   },
   {
    "duration": 2695,
    "start_time": "2021-12-19T04:37:27.680Z"
   },
   {
    "duration": 2605,
    "start_time": "2021-12-19T04:37:30.377Z"
   },
   {
    "duration": 17,
    "start_time": "2021-12-19T04:37:32.985Z"
   },
   {
    "duration": 3643,
    "start_time": "2021-12-19T04:37:33.004Z"
   },
   {
    "duration": 3,
    "start_time": "2021-12-19T04:37:36.650Z"
   },
   {
    "duration": 786,
    "start_time": "2021-12-19T04:37:36.667Z"
   },
   {
    "duration": 4171,
    "start_time": "2021-12-19T04:37:37.456Z"
   },
   {
    "duration": 4,
    "start_time": "2021-12-19T04:37:41.630Z"
   },
   {
    "duration": 8,
    "start_time": "2021-12-19T04:37:41.636Z"
   },
   {
    "duration": 64,
    "start_time": "2021-12-19T04:37:41.646Z"
   },
   {
    "duration": 30,
    "start_time": "2021-12-19T04:37:41.713Z"
   },
   {
    "duration": 33,
    "start_time": "2021-12-19T04:37:41.746Z"
   },
   {
    "duration": 4,
    "start_time": "2021-12-19T04:37:41.781Z"
   },
   {
    "duration": 562,
    "start_time": "2021-12-19T04:37:41.787Z"
   },
   {
    "duration": 16,
    "start_time": "2021-12-19T04:37:42.351Z"
   },
   {
    "duration": 11,
    "start_time": "2021-12-19T04:37:42.369Z"
   },
   {
    "duration": 12,
    "start_time": "2021-12-19T04:37:42.382Z"
   },
   {
    "duration": 6,
    "start_time": "2021-12-19T04:37:42.397Z"
   },
   {
    "duration": 130,
    "start_time": "2021-12-19T04:37:42.405Z"
   },
   {
    "duration": 8,
    "start_time": "2021-12-19T04:37:42.538Z"
   },
   {
    "duration": 721,
    "start_time": "2021-12-19T04:37:42.548Z"
   },
   {
    "duration": 26901,
    "start_time": "2021-12-19T04:37:43.272Z"
   },
   {
    "duration": 118320,
    "start_time": "2021-12-19T04:38:10.176Z"
   },
   {
    "duration": 357775,
    "start_time": "2021-12-19T04:40:08.499Z"
   },
   {
    "duration": 63173,
    "start_time": "2021-12-19T04:46:06.277Z"
   },
   {
    "duration": 209,
    "start_time": "2021-12-19T04:47:09.452Z"
   },
   {
    "duration": 68,
    "start_time": "2021-12-19T04:47:09.663Z"
   },
   {
    "duration": 6,
    "start_time": "2021-12-19T04:47:09.734Z"
   },
   {
    "duration": 73756,
    "start_time": "2021-12-19T04:47:09.743Z"
   },
   {
    "duration": 971,
    "start_time": "2021-12-19T04:48:23.502Z"
   },
   {
    "duration": 293,
    "start_time": "2021-12-19T04:48:24.477Z"
   },
   {
    "duration": 853,
    "start_time": "2021-12-19T04:48:24.774Z"
   },
   {
    "duration": 2861,
    "start_time": "2021-12-19T04:48:25.630Z"
   },
   {
    "duration": 227,
    "start_time": "2021-12-19T04:48:28.494Z"
   },
   {
    "duration": 790,
    "start_time": "2021-12-19T04:48:28.724Z"
   },
   {
    "duration": 7895,
    "start_time": "2021-12-19T04:48:29.517Z"
   },
   {
    "duration": 162,
    "start_time": "2021-12-19T04:48:37.415Z"
   },
   {
    "duration": 737,
    "start_time": "2021-12-19T04:48:37.584Z"
   },
   {
    "duration": 1221,
    "start_time": "2021-12-19T04:48:38.323Z"
   },
   {
    "duration": 170,
    "start_time": "2021-12-19T04:48:39.547Z"
   },
   {
    "duration": 738,
    "start_time": "2021-12-19T04:48:39.719Z"
   },
   {
    "duration": 209,
    "start_time": "2021-12-19T04:48:40.467Z"
   },
   {
    "duration": 736,
    "start_time": "2021-12-19T04:48:40.679Z"
   },
   {
    "duration": 7685,
    "start_time": "2021-12-20T01:47:06.033Z"
   },
   {
    "duration": 155,
    "start_time": "2021-12-20T01:47:39.376Z"
   },
   {
    "duration": 34,
    "start_time": "2021-12-20T01:47:41.912Z"
   },
   {
    "duration": 36,
    "start_time": "2021-12-20T01:47:46.052Z"
   },
   {
    "duration": 24,
    "start_time": "2021-12-20T01:47:49.088Z"
   },
   {
    "duration": 25,
    "start_time": "2021-12-20T01:47:54.015Z"
   },
   {
    "duration": 28,
    "start_time": "2021-12-20T01:47:56.625Z"
   },
   {
    "duration": 7,
    "start_time": "2021-12-20T01:47:58.453Z"
   },
   {
    "duration": 14,
    "start_time": "2021-12-20T01:48:00.890Z"
   },
   {
    "duration": 5,
    "start_time": "2021-12-20T01:48:03.974Z"
   },
   {
    "duration": 20,
    "start_time": "2021-12-20T01:48:09.001Z"
   },
   {
    "duration": 13,
    "start_time": "2021-12-20T01:48:13.412Z"
   },
   {
    "duration": 6,
    "start_time": "2021-12-20T01:48:16.412Z"
   },
   {
    "duration": 6,
    "start_time": "2021-12-20T01:48:18.288Z"
   },
   {
    "duration": 5,
    "start_time": "2021-12-20T01:48:20.262Z"
   },
   {
    "duration": 4,
    "start_time": "2021-12-20T01:48:24.110Z"
   },
   {
    "duration": 7,
    "start_time": "2021-12-20T01:48:25.998Z"
   },
   {
    "duration": 5,
    "start_time": "2021-12-20T01:48:29.488Z"
   },
   {
    "duration": 4,
    "start_time": "2021-12-20T01:48:32.268Z"
   },
   {
    "duration": 6,
    "start_time": "2021-12-20T01:48:33.986Z"
   },
   {
    "duration": 41,
    "start_time": "2021-12-20T01:48:36.475Z"
   },
   {
    "duration": 3,
    "start_time": "2021-12-20T01:48:39.125Z"
   },
   {
    "duration": 13,
    "start_time": "2021-12-20T01:48:44.375Z"
   },
   {
    "duration": 24,
    "start_time": "2021-12-20T01:48:47.474Z"
   },
   {
    "duration": 69,
    "start_time": "2021-12-20T01:48:51.103Z"
   },
   {
    "duration": 19,
    "start_time": "2021-12-20T01:48:53.224Z"
   },
   {
    "duration": 6,
    "start_time": "2021-12-20T01:48:56.073Z"
   },
   {
    "duration": 3,
    "start_time": "2021-12-20T01:48:58.660Z"
   },
   {
    "duration": 417,
    "start_time": "2021-12-20T01:49:00.974Z"
   },
   {
    "duration": 1815,
    "start_time": "2021-12-20T01:49:06.099Z"
   },
   {
    "duration": 1741,
    "start_time": "2021-12-20T01:49:10.650Z"
   },
   {
    "duration": 13,
    "start_time": "2021-12-20T01:49:15.424Z"
   },
   {
    "duration": 2550,
    "start_time": "2021-12-20T01:49:18.377Z"
   },
   {
    "duration": 3,
    "start_time": "2021-12-20T01:49:23.399Z"
   },
   {
    "duration": 590,
    "start_time": "2021-12-20T01:49:26.112Z"
   },
   {
    "duration": 3050,
    "start_time": "2021-12-20T01:49:30.164Z"
   },
   {
    "duration": 4,
    "start_time": "2021-12-20T01:49:37.137Z"
   },
   {
    "duration": 3,
    "start_time": "2021-12-20T01:49:38.776Z"
   },
   {
    "duration": 31,
    "start_time": "2021-12-20T01:49:40.462Z"
   },
   {
    "duration": 20,
    "start_time": "2021-12-20T01:49:42.753Z"
   },
   {
    "duration": 18,
    "start_time": "2021-12-20T01:49:44.650Z"
   },
   {
    "duration": 3,
    "start_time": "2021-12-20T01:49:46.823Z"
   },
   {
    "duration": 340,
    "start_time": "2021-12-20T01:49:49.976Z"
   },
   {
    "duration": 16,
    "start_time": "2021-12-20T01:50:57.327Z"
   },
   {
    "duration": 5,
    "start_time": "2021-12-20T01:54:50.495Z"
   },
   {
    "duration": 10,
    "start_time": "2021-12-20T01:54:52.583Z"
   },
   {
    "duration": 9,
    "start_time": "2021-12-20T01:54:55.006Z"
   },
   {
    "duration": 13,
    "start_time": "2021-12-20T01:58:53.559Z"
   },
   {
    "duration": 45,
    "start_time": "2021-12-20T02:01:07.011Z"
   },
   {
    "duration": 61,
    "start_time": "2021-12-20T02:01:17.991Z"
   },
   {
    "duration": 9,
    "start_time": "2021-12-20T02:01:30.240Z"
   },
   {
    "duration": 11,
    "start_time": "2021-12-20T02:01:33.900Z"
   },
   {
    "duration": 9,
    "start_time": "2021-12-20T02:01:37.403Z"
   },
   {
    "duration": 4,
    "start_time": "2021-12-20T02:02:50.581Z"
   },
   {
    "duration": 65,
    "start_time": "2021-12-20T02:03:44.658Z"
   },
   {
    "duration": 5,
    "start_time": "2021-12-20T02:03:49.633Z"
   },
   {
    "duration": 383,
    "start_time": "2021-12-20T02:03:54.133Z"
   },
   {
    "duration": 26377,
    "start_time": "2021-12-20T02:04:06.622Z"
   },
   {
    "duration": 62267,
    "start_time": "2021-12-20T02:05:35.737Z"
   },
   {
    "duration": 278960,
    "start_time": "2021-12-20T02:09:07.403Z"
   },
   {
    "duration": 35618,
    "start_time": "2021-12-20T02:14:32.589Z"
   },
   {
    "duration": 296,
    "start_time": "2021-12-20T02:16:23.273Z"
   },
   {
    "duration": 34,
    "start_time": "2021-12-20T02:16:27.153Z"
   },
   {
    "duration": 5,
    "start_time": "2021-12-20T02:16:30.822Z"
   },
   {
    "duration": 507,
    "start_time": "2021-12-20T02:16:35.579Z"
   },
   {
    "duration": 106,
    "start_time": "2021-12-20T02:16:45.692Z"
   },
   {
    "duration": 5,
    "start_time": "2021-12-20T02:16:48.981Z"
   },
   {
    "duration": 103,
    "start_time": "2021-12-20T02:17:03.785Z"
   },
   {
    "duration": 54508,
    "start_time": "2021-12-20T02:17:07.235Z"
   },
   {
    "duration": 477,
    "start_time": "2021-12-20T02:18:10.725Z"
   },
   {
    "duration": 157,
    "start_time": "2021-12-20T02:18:14.342Z"
   },
   {
    "duration": 565,
    "start_time": "2021-12-20T02:18:19.255Z"
   },
   {
    "duration": 577,
    "start_time": "2021-12-20T02:18:24.879Z"
   },
   {
    "duration": 113,
    "start_time": "2021-12-20T02:18:29.564Z"
   },
   {
    "duration": 414,
    "start_time": "2021-12-20T02:18:32.695Z"
   },
   {
    "duration": 1193,
    "start_time": "2021-12-20T02:18:37.011Z"
   },
   {
    "duration": 35,
    "start_time": "2021-12-20T02:18:40.620Z"
   },
   {
    "duration": 61,
    "start_time": "2021-12-20T02:19:06.596Z"
   },
   {
    "duration": 398,
    "start_time": "2021-12-20T02:19:09.438Z"
   },
   {
    "duration": 182,
    "start_time": "2021-12-20T02:19:21.532Z"
   },
   {
    "duration": 52,
    "start_time": "2021-12-20T02:19:25.005Z"
   },
   {
    "duration": 385,
    "start_time": "2021-12-20T02:19:28.808Z"
   },
   {
    "duration": 194,
    "start_time": "2021-12-20T02:20:15.562Z"
   },
   {
    "duration": 455,
    "start_time": "2021-12-20T02:20:20.802Z"
   },
   {
    "duration": 41901,
    "start_time": "2021-12-20T02:21:16.713Z"
   },
   {
    "duration": 92870,
    "start_time": "2021-12-20T02:22:59.454Z"
   },
   {
    "duration": 180804,
    "start_time": "2021-12-20T02:26:12.728Z"
   },
   {
    "duration": 104190,
    "start_time": "2021-12-20T02:31:29.971Z"
   },
   {
    "duration": 555653,
    "start_time": "2021-12-20T02:34:16.833Z"
   },
   {
    "duration": 123921,
    "start_time": "2021-12-20T02:45:17.852Z"
   },
   {
    "duration": 1129,
    "start_time": "2021-12-20T02:48:49.072Z"
   },
   {
    "duration": 58,
    "start_time": "2021-12-20T02:48:52.495Z"
   },
   {
    "duration": 55524,
    "start_time": "2021-12-20T02:49:52.658Z"
   },
   {
    "duration": 55870,
    "start_time": "2021-12-20T02:51:34.838Z"
   },
   {
    "duration": 286,
    "start_time": "2021-12-20T02:53:06.478Z"
   },
   {
    "duration": 61,
    "start_time": "2021-12-20T02:53:10.786Z"
   },
   {
    "duration": 72912,
    "start_time": "2021-12-20T02:54:16.039Z"
   },
   {
    "duration": 61995,
    "start_time": "2021-12-20T02:57:30.197Z"
   },
   {
    "duration": 259,
    "start_time": "2021-12-20T03:06:22.120Z"
   },
   {
    "duration": 66,
    "start_time": "2021-12-20T03:06:24.973Z"
   },
   {
    "duration": 36,
    "start_time": "2021-12-20T03:06:42.111Z"
   },
   {
    "duration": 64,
    "start_time": "2021-12-20T03:06:47.326Z"
   },
   {
    "duration": 984582,
    "start_time": "2021-12-20T03:15:05.637Z"
   },
   {
    "duration": 3,
    "start_time": "2021-12-20T03:33:52.143Z"
   },
   {
    "duration": 1193,
    "start_time": "2021-12-20T03:33:57.182Z"
   },
   {
    "duration": 19,
    "start_time": "2021-12-20T03:38:25.286Z"
   },
   {
    "duration": 1266,
    "start_time": "2021-12-20T03:38:29.292Z"
   },
   {
    "duration": 1306,
    "start_time": "2021-12-20T03:39:30.504Z"
   },
   {
    "duration": 18,
    "start_time": "2021-12-20T03:41:28.747Z"
   },
   {
    "duration": 15,
    "start_time": "2021-12-20T03:41:31.971Z"
   },
   {
    "duration": 1252,
    "start_time": "2021-12-20T03:48:26.320Z"
   },
   {
    "duration": 1240,
    "start_time": "2021-12-20T03:51:44.968Z"
   },
   {
    "duration": 222690,
    "start_time": "2021-12-20T03:52:32.090Z"
   },
   {
    "duration": 70924,
    "start_time": "2021-12-20T04:00:12.936Z"
   },
   {
    "duration": 401817,
    "start_time": "2021-12-20T04:11:55.800Z"
   },
   {
    "duration": 66709,
    "start_time": "2021-12-20T04:20:57.238Z"
   },
   {
    "duration": 2,
    "start_time": "2021-12-20T04:28:17.750Z"
   },
   {
    "duration": 3,
    "start_time": "2021-12-20T04:28:19.992Z"
   },
   {
    "duration": 13,
    "start_time": "2021-12-20T04:29:03.529Z"
   },
   {
    "duration": 83352,
    "start_time": "2021-12-20T04:30:11.761Z"
   },
   {
    "duration": 1631,
    "start_time": "2021-12-20T04:34:20.421Z"
   },
   {
    "duration": 335,
    "start_time": "2021-12-20T04:34:24.757Z"
   },
   {
    "duration": 238125,
    "start_time": "2021-12-20T04:35:37.538Z"
   },
   {
    "duration": 1719,
    "start_time": "2021-12-20T04:40:29.120Z"
   },
   {
    "duration": 342,
    "start_time": "2021-12-20T04:40:34.132Z"
   },
   {
    "duration": 820922,
    "start_time": "2021-12-20T04:41:23.346Z"
   },
   {
    "duration": 1416,
    "start_time": "2021-12-20T04:56:07.889Z"
   },
   {
    "duration": 374,
    "start_time": "2021-12-20T04:56:12.646Z"
   },
   {
    "duration": 498,
    "start_time": "2021-12-20T04:57:52.463Z"
   },
   {
    "duration": 80,
    "start_time": "2021-12-20T04:57:56.025Z"
   },
   {
    "duration": 1792,
    "start_time": "2021-12-20T04:58:20.400Z"
   },
   {
    "duration": 341,
    "start_time": "2021-12-20T04:58:24.012Z"
   },
   {
    "duration": 65,
    "start_time": "2021-12-20T04:58:49.490Z"
   },
   {
    "duration": 490,
    "start_time": "2021-12-20T04:58:54.602Z"
   },
   {
    "duration": 78,
    "start_time": "2021-12-20T04:58:56.902Z"
   },
   {
    "duration": 524,
    "start_time": "2021-12-20T04:59:19.261Z"
   },
   {
    "duration": 75,
    "start_time": "2021-12-20T04:59:21.623Z"
   },
   {
    "duration": 480,
    "start_time": "2021-12-20T04:59:30.342Z"
   },
   {
    "duration": 79,
    "start_time": "2021-12-20T04:59:32.263Z"
   },
   {
    "duration": 463,
    "start_time": "2021-12-20T04:59:38.466Z"
   },
   {
    "duration": 78,
    "start_time": "2021-12-20T04:59:40.889Z"
   },
   {
    "duration": 498,
    "start_time": "2021-12-20T04:59:49.451Z"
   },
   {
    "duration": 79,
    "start_time": "2021-12-20T04:59:51.763Z"
   },
   {
    "duration": 1061,
    "start_time": "2021-12-20T05:00:08.713Z"
   },
   {
    "duration": 139,
    "start_time": "2021-12-20T05:00:12.660Z"
   },
   {
    "duration": 754,
    "start_time": "2021-12-20T05:00:19.160Z"
   },
   {
    "duration": 105,
    "start_time": "2021-12-20T05:00:21.555Z"
   },
   {
    "duration": 505,
    "start_time": "2021-12-20T05:00:27.003Z"
   },
   {
    "duration": 80,
    "start_time": "2021-12-20T05:00:29.851Z"
   },
   {
    "duration": 971,
    "start_time": "2021-12-20T05:00:50.504Z"
   },
   {
    "duration": 154,
    "start_time": "2021-12-20T05:00:52.966Z"
   },
   {
    "duration": 1797,
    "start_time": "2021-12-20T05:00:58.444Z"
   },
   {
    "duration": 361,
    "start_time": "2021-12-20T05:01:02.664Z"
   },
   {
    "duration": 926,
    "start_time": "2021-12-20T05:01:08.167Z"
   },
   {
    "duration": 146,
    "start_time": "2021-12-20T05:01:11.203Z"
   },
   {
    "duration": 906,
    "start_time": "2021-12-20T05:01:25.453Z"
   },
   {
    "duration": 146,
    "start_time": "2021-12-20T05:01:27.889Z"
   },
   {
    "duration": 915,
    "start_time": "2021-12-20T05:01:32.415Z"
   },
   {
    "duration": 147,
    "start_time": "2021-12-20T05:01:34.941Z"
   },
   {
    "duration": 928,
    "start_time": "2021-12-20T05:01:39.367Z"
   },
   {
    "duration": 143,
    "start_time": "2021-12-20T05:01:41.625Z"
   },
   {
    "duration": 888,
    "start_time": "2021-12-20T05:02:31.209Z"
   },
   {
    "duration": 146,
    "start_time": "2021-12-20T05:02:33.919Z"
   },
   {
    "duration": 915,
    "start_time": "2021-12-20T05:02:38.283Z"
   },
   {
    "duration": 142,
    "start_time": "2021-12-20T05:02:40.644Z"
   },
   {
    "duration": 974,
    "start_time": "2021-12-20T05:02:45.703Z"
   },
   {
    "duration": 139,
    "start_time": "2021-12-20T05:02:48.220Z"
   },
   {
    "duration": 922,
    "start_time": "2021-12-20T05:02:53.481Z"
   },
   {
    "duration": 146,
    "start_time": "2021-12-20T05:02:56.740Z"
   },
   {
    "duration": 919,
    "start_time": "2021-12-20T05:03:01.205Z"
   },
   {
    "duration": 150,
    "start_time": "2021-12-20T05:03:03.608Z"
   },
   {
    "duration": 921,
    "start_time": "2021-12-20T05:03:30.067Z"
   },
   {
    "duration": 142,
    "start_time": "2021-12-20T05:03:32.514Z"
   },
   {
    "duration": 915,
    "start_time": "2021-12-20T05:04:40.032Z"
   },
   {
    "duration": 139,
    "start_time": "2021-12-20T05:04:43.756Z"
   },
   {
    "duration": 895,
    "start_time": "2021-12-20T05:05:14.630Z"
   },
   {
    "duration": 142,
    "start_time": "2021-12-20T05:05:18.106Z"
   },
   {
    "duration": 1342,
    "start_time": "2021-12-20T05:05:45.782Z"
   },
   {
    "duration": 246,
    "start_time": "2021-12-20T05:05:48.925Z"
   },
   {
    "duration": 908,
    "start_time": "2021-12-20T05:06:10.674Z"
   },
   {
    "duration": 138,
    "start_time": "2021-12-20T05:06:13.609Z"
   },
   {
    "duration": 909,
    "start_time": "2021-12-20T05:06:25.484Z"
   },
   {
    "duration": 146,
    "start_time": "2021-12-20T05:06:27.998Z"
   },
   {
    "duration": 916,
    "start_time": "2021-12-20T05:06:32.999Z"
   },
   {
    "duration": 150,
    "start_time": "2021-12-20T05:06:35.382Z"
   },
   {
    "duration": 896,
    "start_time": "2021-12-20T05:07:38.533Z"
   },
   {
    "duration": 154,
    "start_time": "2021-12-20T05:07:41.072Z"
   },
   {
    "duration": 677,
    "start_time": "2021-12-20T05:07:53.011Z"
   },
   {
    "duration": 143,
    "start_time": "2021-12-20T05:07:56.128Z"
   },
   {
    "duration": 656,
    "start_time": "2021-12-20T05:08:19.400Z"
   },
   {
    "duration": 157,
    "start_time": "2021-12-20T05:08:22.260Z"
   },
   {
    "duration": 88,
    "start_time": "2021-12-20T05:17:01.149Z"
   },
   {
    "duration": 4,
    "start_time": "2021-12-20T05:17:05.574Z"
   },
   {
    "duration": 60,
    "start_time": "2021-12-20T05:17:08.337Z"
   },
   {
    "duration": 4,
    "start_time": "2021-12-20T05:17:15.388Z"
   },
   {
    "duration": 175975,
    "start_time": "2021-12-20T05:18:35.399Z"
   },
   {
    "duration": 13,
    "start_time": "2021-12-20T05:22:56.519Z"
   },
   {
    "duration": 217472,
    "start_time": "2021-12-20T05:23:15.846Z"
   },
   {
    "duration": 2093,
    "start_time": "2021-12-20T05:29:45.681Z"
   },
   {
    "duration": 1726,
    "start_time": "2021-12-20T05:30:11.654Z"
   },
   {
    "duration": 397,
    "start_time": "2021-12-20T05:30:16.115Z"
   },
   {
    "duration": 1503,
    "start_time": "2021-12-20T05:30:35.270Z"
   },
   {
    "duration": 353,
    "start_time": "2021-12-20T05:30:38.895Z"
   },
   {
    "duration": 384,
    "start_time": "2021-12-20T09:52:53.226Z"
   },
   {
    "duration": 14969,
    "start_time": "2021-12-20T09:53:08.719Z"
   },
   {
    "duration": 4589,
    "start_time": "2021-12-20T09:53:43.773Z"
   },
   {
    "duration": 329,
    "start_time": "2021-12-20T09:53:51.510Z"
   },
   {
    "duration": 31,
    "start_time": "2021-12-20T09:53:54.194Z"
   },
   {
    "duration": 24,
    "start_time": "2021-12-20T09:53:57.711Z"
   },
   {
    "duration": 21,
    "start_time": "2021-12-20T09:54:00.359Z"
   },
   {
    "duration": 19,
    "start_time": "2021-12-20T09:54:04.221Z"
   },
   {
    "duration": 20,
    "start_time": "2021-12-20T09:54:07.820Z"
   },
   {
    "duration": 8,
    "start_time": "2021-12-20T09:54:10.135Z"
   },
   {
    "duration": 16,
    "start_time": "2021-12-20T09:54:12.275Z"
   },
   {
    "duration": 7,
    "start_time": "2021-12-20T09:54:15.083Z"
   },
   {
    "duration": 20,
    "start_time": "2021-12-20T09:54:16.985Z"
   },
   {
    "duration": 11,
    "start_time": "2021-12-20T09:54:21.089Z"
   },
   {
    "duration": 6,
    "start_time": "2021-12-20T09:54:24.154Z"
   },
   {
    "duration": 5,
    "start_time": "2021-12-20T09:54:27.123Z"
   },
   {
    "duration": 5,
    "start_time": "2021-12-20T09:54:29.585Z"
   },
   {
    "duration": 4,
    "start_time": "2021-12-20T09:54:33.907Z"
   },
   {
    "duration": 7,
    "start_time": "2021-12-20T09:54:35.873Z"
   },
   {
    "duration": 5,
    "start_time": "2021-12-20T09:54:38.321Z"
   },
   {
    "duration": 7,
    "start_time": "2021-12-20T09:54:41.187Z"
   },
   {
    "duration": 7,
    "start_time": "2021-12-20T09:54:43.657Z"
   },
   {
    "duration": 43,
    "start_time": "2021-12-20T09:54:46.159Z"
   },
   {
    "duration": 3,
    "start_time": "2021-12-20T09:54:49.010Z"
   },
   {
    "duration": 14,
    "start_time": "2021-12-20T09:54:51.034Z"
   },
   {
    "duration": 22,
    "start_time": "2021-12-20T09:54:55.009Z"
   },
   {
    "duration": 22,
    "start_time": "2021-12-20T09:55:00.396Z"
   },
   {
    "duration": 6,
    "start_time": "2021-12-20T09:55:28.286Z"
   },
   {
    "duration": 10,
    "start_time": "2021-12-20T09:55:56.147Z"
   },
   {
    "duration": 712,
    "start_time": "2021-12-20T09:56:57.163Z"
   },
   {
    "duration": 21,
    "start_time": "2021-12-20T09:58:24.164Z"
   },
   {
    "duration": 8,
    "start_time": "2021-12-20T09:58:26.058Z"
   },
   {
    "duration": 5,
    "start_time": "2021-12-20T10:03:36.238Z"
   },
   {
    "duration": 7,
    "start_time": "2021-12-20T10:03:40.987Z"
   },
   {
    "duration": 9,
    "start_time": "2021-12-20T10:03:42.911Z"
   },
   {
    "duration": 4,
    "start_time": "2021-12-20T10:04:20.486Z"
   },
   {
    "duration": 4,
    "start_time": "2021-12-20T10:05:07.533Z"
   },
   {
    "duration": 52,
    "start_time": "2021-12-20T10:05:15.815Z"
   },
   {
    "duration": 5,
    "start_time": "2021-12-20T10:05:19.061Z"
   },
   {
    "duration": 358,
    "start_time": "2021-12-20T10:05:21.238Z"
   },
   {
    "duration": 13528,
    "start_time": "2021-12-20T10:05:39.288Z"
   },
   {
    "duration": 82782,
    "start_time": "2021-12-20T10:06:09.724Z"
   },
   {
    "duration": 989,
    "start_time": "2021-12-20T10:08:20.504Z"
   },
   {
    "duration": 168,
    "start_time": "2021-12-20T10:08:23.767Z"
   },
   {
    "duration": 328,
    "start_time": "2021-12-20T10:08:33.079Z"
   },
   {
    "duration": 55,
    "start_time": "2021-12-20T10:08:35.153Z"
   },
   {
    "duration": 551,
    "start_time": "2021-12-20T10:08:37.561Z"
   },
   {
    "duration": 114472,
    "start_time": "2021-12-20T10:08:59.062Z"
   },
   {
    "duration": 1012,
    "start_time": "2021-12-20T10:11:53.174Z"
   },
   {
    "duration": 55,
    "start_time": "2021-12-20T10:11:59.663Z"
   },
   {
    "duration": 369,
    "start_time": "2021-12-20T10:12:13.673Z"
   },
   {
    "duration": 9,
    "start_time": "2021-12-20T10:12:41.294Z"
   },
   {
    "duration": 5,
    "start_time": "2021-12-20T10:12:50.659Z"
   },
   {
    "duration": 406,
    "start_time": "2021-12-20T10:13:21.900Z"
   },
   {
    "duration": 15,
    "start_time": "2021-12-20T10:13:32.265Z"
   },
   {
    "duration": 219577,
    "start_time": "2021-12-20T10:14:05.488Z"
   },
   {
    "duration": 243,
    "start_time": "2021-12-20T10:18:14.795Z"
   },
   {
    "duration": 1739,
    "start_time": "2021-12-20T10:18:20.683Z"
   },
   {
    "duration": 372,
    "start_time": "2021-12-20T10:18:29.820Z"
   },
   {
    "duration": 19,
    "start_time": "2021-12-20T10:27:19.698Z"
   },
   {
    "duration": 3,
    "start_time": "2021-12-20T10:27:30.047Z"
   },
   {
    "duration": 3146,
    "start_time": "2021-12-20T10:27:32.695Z"
   },
   {
    "duration": 3382,
    "start_time": "2021-12-20T10:35:38.724Z"
   },
   {
    "duration": 3811,
    "start_time": "2021-12-20T10:55:16.144Z"
   },
   {
    "duration": 3842,
    "start_time": "2021-12-20T10:56:34.424Z"
   },
   {
    "duration": 15,
    "start_time": "2021-12-20T11:04:50.323Z"
   },
   {
    "duration": 221808,
    "start_time": "2021-12-20T11:05:09.763Z"
   },
   {
    "duration": 4,
    "start_time": "2021-12-20T11:08:51.574Z"
   },
   {
    "duration": 1492,
    "start_time": "2021-12-20T11:09:47.463Z"
   },
   {
    "duration": 385,
    "start_time": "2021-12-20T11:09:51.624Z"
   },
   {
    "duration": 478,
    "start_time": "2021-12-20T11:10:40.223Z"
   },
   {
    "duration": 2,
    "start_time": "2021-12-20T11:11:28.498Z"
   },
   {
    "duration": 112,
    "start_time": "2021-12-20T11:11:43.924Z"
   },
   {
    "duration": 2740,
    "start_time": "2021-12-20T11:11:55.970Z"
   },
   {
    "duration": 3086346,
    "start_time": "2021-12-20T11:14:14.483Z"
   },
   {
    "duration": 422,
    "start_time": "2021-12-20T12:09:10.763Z"
   },
   {
    "duration": 14486,
    "start_time": "2021-12-20T12:09:21.738Z"
   },
   {
    "duration": 45,
    "start_time": "2021-12-20T12:09:40.132Z"
   },
   {
    "duration": 21193,
    "start_time": "2021-12-20T12:10:15.442Z"
   },
   {
    "duration": 43,
    "start_time": "2021-12-20T12:10:38.592Z"
   },
   {
    "duration": 479258,
    "start_time": "2021-12-20T12:11:10.716Z"
   },
   {
    "duration": 2745112,
    "start_time": "2021-12-20T12:19:38.159Z"
   },
   {
    "duration": 9659,
    "start_time": "2021-12-20T13:13:12.718Z"
   },
   {
    "duration": 1790,
    "start_time": "2021-12-20T13:13:31.652Z"
   },
   {
    "duration": 6,
    "start_time": "2021-12-20T13:14:28.266Z"
   },
   {
    "duration": 7,
    "start_time": "2021-12-20T13:17:37.912Z"
   },
   {
    "duration": 9781,
    "start_time": "2021-12-20T13:17:40.574Z"
   },
   {
    "duration": 3,
    "start_time": "2021-12-20T13:20:08.098Z"
   },
   {
    "duration": 28600,
    "start_time": "2021-12-20T13:20:11.260Z"
   },
   {
    "duration": 4,
    "start_time": "2021-12-20T13:24:22.912Z"
   },
   {
    "duration": 8232,
    "start_time": "2021-12-20T13:24:29.093Z"
   },
   {
    "duration": 1788,
    "start_time": "2021-12-20T13:25:12.801Z"
   },
   {
    "duration": 540,
    "start_time": "2021-12-20T13:38:37.626Z"
   },
   {
    "duration": 514,
    "start_time": "2021-12-20T13:39:30.377Z"
   },
   {
    "duration": 5,
    "start_time": "2021-12-20T13:40:32.891Z"
   },
   {
    "duration": 366,
    "start_time": "2021-12-20T13:41:11.399Z"
   },
   {
    "duration": 15457,
    "start_time": "2021-12-20T13:41:49.529Z"
   },
   {
    "duration": 574,
    "start_time": "2021-12-20T13:42:40.947Z"
   },
   {
    "duration": 10298,
    "start_time": "2021-12-20T13:42:46.862Z"
   },
   {
    "duration": 4,
    "start_time": "2021-12-20T13:44:01.702Z"
   },
   {
    "duration": 502,
    "start_time": "2021-12-20T13:45:18.045Z"
   },
   {
    "duration": 4,
    "start_time": "2021-12-20T13:45:21.540Z"
   },
   {
    "duration": 9510,
    "start_time": "2021-12-20T13:45:28.670Z"
   },
   {
    "duration": 6,
    "start_time": "2021-12-20T13:46:16.170Z"
   },
   {
    "duration": 407,
    "start_time": "2021-12-20T13:47:20.650Z"
   },
   {
    "duration": 9421,
    "start_time": "2021-12-20T13:47:38.268Z"
   },
   {
    "duration": 13117,
    "start_time": "2021-12-21T17:10:29.823Z"
   },
   {
    "duration": 4771,
    "start_time": "2021-12-21T17:11:39.690Z"
   },
   {
    "duration": 313,
    "start_time": "2021-12-21T17:11:48.192Z"
   },
   {
    "duration": 37,
    "start_time": "2021-12-21T17:11:53.937Z"
   },
   {
    "duration": 24,
    "start_time": "2021-12-21T17:11:56.691Z"
   },
   {
    "duration": 18,
    "start_time": "2021-12-21T17:12:01.680Z"
   },
   {
    "duration": 22,
    "start_time": "2021-12-21T17:12:04.942Z"
   },
   {
    "duration": 8,
    "start_time": "2021-12-21T17:12:08.933Z"
   },
   {
    "duration": 17,
    "start_time": "2021-12-21T17:12:11.469Z"
   },
   {
    "duration": 5,
    "start_time": "2021-12-21T17:12:14.595Z"
   },
   {
    "duration": 20,
    "start_time": "2021-12-21T17:12:17.700Z"
   },
   {
    "duration": 13,
    "start_time": "2021-12-21T17:12:20.248Z"
   },
   {
    "duration": 6,
    "start_time": "2021-12-21T17:12:52.753Z"
   },
   {
    "duration": 6,
    "start_time": "2021-12-21T17:12:56.652Z"
   },
   {
    "duration": 6,
    "start_time": "2021-12-21T17:12:58.752Z"
   },
   {
    "duration": 4,
    "start_time": "2021-12-21T17:13:30.335Z"
   },
   {
    "duration": 7,
    "start_time": "2021-12-21T17:13:38.686Z"
   },
   {
    "duration": 5,
    "start_time": "2021-12-21T17:14:00.269Z"
   },
   {
    "duration": 8,
    "start_time": "2021-12-21T17:14:06.234Z"
   },
   {
    "duration": 7,
    "start_time": "2021-12-21T17:14:10.512Z"
   },
   {
    "duration": 42,
    "start_time": "2021-12-21T17:14:14.356Z"
   },
   {
    "duration": 3,
    "start_time": "2021-12-21T17:14:21.592Z"
   },
   {
    "duration": 13,
    "start_time": "2021-12-21T17:14:24.064Z"
   },
   {
    "duration": 21,
    "start_time": "2021-12-21T17:14:28.109Z"
   },
   {
    "duration": 23,
    "start_time": "2021-12-21T17:14:33.920Z"
   },
   {
    "duration": 8,
    "start_time": "2021-12-21T17:14:36.543Z"
   },
   {
    "duration": 10,
    "start_time": "2021-12-21T17:14:40.293Z"
   },
   {
    "duration": 5,
    "start_time": "2021-12-21T17:14:44.083Z"
   },
   {
    "duration": 3,
    "start_time": "2021-12-21T17:14:47.930Z"
   },
   {
    "duration": 435,
    "start_time": "2021-12-21T17:14:50.486Z"
   },
   {
    "duration": 2175,
    "start_time": "2021-12-21T17:14:54.594Z"
   },
   {
    "duration": 1119,
    "start_time": "2021-12-21T17:15:06.963Z"
   },
   {
    "duration": 5,
    "start_time": "2021-12-21T17:15:58.872Z"
   },
   {
    "duration": 5,
    "start_time": "2021-12-21T17:16:16.031Z"
   },
   {
    "duration": 6,
    "start_time": "2021-12-21T17:17:52.447Z"
   },
   {
    "duration": 6,
    "start_time": "2021-12-21T17:17:57.968Z"
   },
   {
    "duration": 6,
    "start_time": "2021-12-21T17:18:04.552Z"
   },
   {
    "duration": 121,
    "start_time": "2021-12-21T17:18:23.782Z"
   },
   {
    "duration": 5,
    "start_time": "2021-12-21T17:18:27.888Z"
   },
   {
    "duration": 889,
    "start_time": "2021-12-21T17:18:35.252Z"
   },
   {
    "duration": 724,
    "start_time": "2021-12-21T17:18:45.211Z"
   },
   {
    "duration": 352,
    "start_time": "2021-12-21T17:18:58.931Z"
   },
   {
    "duration": 4,
    "start_time": "2021-12-21T17:19:02.305Z"
   },
   {
    "duration": 5,
    "start_time": "2021-12-21T17:19:11.801Z"
   },
   {
    "duration": 5,
    "start_time": "2021-12-21T17:19:58.297Z"
   },
   {
    "duration": 7,
    "start_time": "2021-12-21T17:20:09.869Z"
   },
   {
    "duration": 6,
    "start_time": "2021-12-21T17:20:25.749Z"
   },
   {
    "duration": 43,
    "start_time": "2021-12-21T17:20:46.077Z"
   },
   {
    "duration": 3,
    "start_time": "2021-12-21T17:20:49.141Z"
   },
   {
    "duration": 14,
    "start_time": "2021-12-21T17:20:51.142Z"
   },
   {
    "duration": 22,
    "start_time": "2021-12-21T17:20:53.996Z"
   },
   {
    "duration": 21,
    "start_time": "2021-12-21T17:20:57.794Z"
   },
   {
    "duration": 8,
    "start_time": "2021-12-21T17:20:59.755Z"
   },
   {
    "duration": 11,
    "start_time": "2021-12-21T17:21:05.075Z"
   },
   {
    "duration": 6,
    "start_time": "2021-12-21T17:21:08.024Z"
   },
   {
    "duration": 3,
    "start_time": "2021-12-21T17:21:10.372Z"
   },
   {
    "duration": 372,
    "start_time": "2021-12-21T17:21:12.513Z"
   },
   {
    "duration": 1848,
    "start_time": "2021-12-21T17:21:16.677Z"
   },
   {
    "duration": 1614,
    "start_time": "2021-12-21T17:21:26.725Z"
   },
   {
    "duration": 12,
    "start_time": "2021-12-21T17:21:33.952Z"
   },
   {
    "duration": 2655,
    "start_time": "2021-12-21T17:22:10.429Z"
   },
   {
    "duration": 3,
    "start_time": "2021-12-21T17:22:16.203Z"
   },
   {
    "duration": 525,
    "start_time": "2021-12-21T17:22:18.796Z"
   },
   {
    "duration": 2780,
    "start_time": "2021-12-21T17:22:23.119Z"
   },
   {
    "duration": 4,
    "start_time": "2021-12-21T17:22:30.791Z"
   },
   {
    "duration": 3,
    "start_time": "2021-12-21T17:22:32.538Z"
   },
   {
    "duration": 29,
    "start_time": "2021-12-21T17:22:34.516Z"
   },
   {
    "duration": 20,
    "start_time": "2021-12-21T17:22:37.693Z"
   },
   {
    "duration": 12,
    "start_time": "2021-12-21T17:22:39.091Z"
   },
   {
    "duration": 3,
    "start_time": "2021-12-21T17:22:40.031Z"
   },
   {
    "duration": 335,
    "start_time": "2021-12-21T17:22:40.935Z"
   },
   {
    "duration": 15,
    "start_time": "2021-12-21T17:24:43.420Z"
   },
   {
    "duration": 472,
    "start_time": "2021-12-21T17:26:08.982Z"
   },
   {
    "duration": 6,
    "start_time": "2021-12-21T17:27:38.312Z"
   },
   {
    "duration": 7,
    "start_time": "2021-12-21T17:27:40.883Z"
   },
   {
    "duration": 10,
    "start_time": "2021-12-21T17:27:55.847Z"
   },
   {
    "duration": 4,
    "start_time": "2021-12-21T17:30:10.222Z"
   },
   {
    "duration": 564,
    "start_time": "2021-12-21T17:30:13.394Z"
   },
   {
    "duration": 15670,
    "start_time": "2021-12-21T17:30:17.276Z"
   },
   {
    "duration": 32,
    "start_time": "2021-12-21T17:34:11.151Z"
   },
   {
    "duration": 476,
    "start_time": "2021-12-21T17:34:48.330Z"
   },
   {
    "duration": 41,
    "start_time": "2021-12-21T17:35:46.624Z"
   },
   {
    "duration": 6,
    "start_time": "2021-12-21T17:35:57.104Z"
   },
   {
    "duration": 35,
    "start_time": "2021-12-21T17:37:17.352Z"
   },
   {
    "duration": 4,
    "start_time": "2021-12-21T17:37:23.954Z"
   },
   {
    "duration": 355,
    "start_time": "2021-12-21T17:37:29.155Z"
   },
   {
    "duration": 359,
    "start_time": "2021-12-21T17:38:25.981Z"
   },
   {
    "duration": 352,
    "start_time": "2021-12-21T17:39:40.632Z"
   },
   {
    "duration": 10,
    "start_time": "2021-12-21T17:40:06.189Z"
   },
   {
    "duration": 5,
    "start_time": "2021-12-21T17:40:08.342Z"
   },
   {
    "duration": 5,
    "start_time": "2021-12-21T17:40:45.360Z"
   },
   {
    "duration": 366,
    "start_time": "2021-12-21T17:41:53.734Z"
   },
   {
    "duration": 4,
    "start_time": "2021-12-21T17:43:24.220Z"
   },
   {
    "duration": 506,
    "start_time": "2021-12-21T17:44:05.529Z"
   },
   {
    "duration": 3,
    "start_time": "2021-12-21T17:45:24.307Z"
   },
   {
    "duration": 347,
    "start_time": "2021-12-21T17:45:36.865Z"
   },
   {
    "duration": 4,
    "start_time": "2021-12-21T17:45:43.224Z"
   },
   {
    "duration": 376,
    "start_time": "2021-12-21T17:46:02.990Z"
   },
   {
    "duration": 3,
    "start_time": "2021-12-21T17:47:25.038Z"
   },
   {
    "duration": 4,
    "start_time": "2021-12-21T17:47:33.224Z"
   },
   {
    "duration": 4,
    "start_time": "2021-12-21T17:47:45.727Z"
   },
   {
    "duration": 119,
    "start_time": "2021-12-21T17:48:29.086Z"
   },
   {
    "duration": 534,
    "start_time": "2021-12-21T17:48:36.604Z"
   },
   {
    "duration": 14728,
    "start_time": "2021-12-21T17:48:51.030Z"
   },
   {
    "duration": 519,
    "start_time": "2021-12-21T17:49:24.937Z"
   },
   {
    "duration": 19,
    "start_time": "2021-12-21T17:51:32.735Z"
   },
   {
    "duration": 551,
    "start_time": "2021-12-21T17:51:54.019Z"
   },
   {
    "duration": 3,
    "start_time": "2021-12-21T18:03:05.379Z"
   },
   {
    "duration": 347,
    "start_time": "2021-12-21T18:03:53.390Z"
   },
   {
    "duration": 3,
    "start_time": "2021-12-21T18:04:02.703Z"
   },
   {
    "duration": 4,
    "start_time": "2021-12-21T18:04:06.524Z"
   },
   {
    "duration": 65,
    "start_time": "2021-12-21T18:04:54.107Z"
   },
   {
    "duration": 4,
    "start_time": "2021-12-21T18:04:57.938Z"
   },
   {
    "duration": 755,
    "start_time": "2021-12-21T18:05:00.030Z"
   },
   {
    "duration": 994,
    "start_time": "2021-12-21T18:07:37.393Z"
   },
   {
    "duration": 5,
    "start_time": "2021-12-21T18:08:10.749Z"
   },
   {
    "duration": 5,
    "start_time": "2021-12-21T18:08:26.824Z"
   },
   {
    "duration": 2,
    "start_time": "2021-12-21T18:08:35.582Z"
   },
   {
    "duration": 925,
    "start_time": "2021-12-21T18:08:41.862Z"
   },
   {
    "duration": 930,
    "start_time": "2021-12-21T18:08:56.674Z"
   },
   {
    "duration": 347,
    "start_time": "2021-12-21T18:14:59.365Z"
   },
   {
    "duration": 6,
    "start_time": "2021-12-21T18:15:06.011Z"
   },
   {
    "duration": 5,
    "start_time": "2021-12-21T18:15:11.453Z"
   },
   {
    "duration": 19899,
    "start_time": "2021-12-21T18:15:29.516Z"
   },
   {
    "duration": 13516,
    "start_time": "2021-12-21T18:15:57.396Z"
   },
   {
    "duration": 8565,
    "start_time": "2021-12-21T18:16:14.242Z"
   },
   {
    "duration": 90795,
    "start_time": "2021-12-21T18:17:03.157Z"
   },
   {
    "duration": 86052,
    "start_time": "2021-12-21T18:18:57.711Z"
   },
   {
    "duration": 88482,
    "start_time": "2021-12-21T18:20:40.473Z"
   },
   {
    "duration": 138860,
    "start_time": "2021-12-21T18:23:12.781Z"
   },
   {
    "duration": 116028,
    "start_time": "2021-12-21T18:26:01.879Z"
   },
   {
    "duration": 80987,
    "start_time": "2021-12-21T18:29:30.755Z"
   },
   {
    "duration": 206531,
    "start_time": "2021-12-21T18:34:40.192Z"
   },
   {
    "duration": 186410,
    "start_time": "2021-12-21T18:39:33.816Z"
   },
   {
    "duration": 146448,
    "start_time": "2021-12-21T18:44:09.900Z"
   },
   {
    "duration": 290,
    "start_time": "2021-12-21T18:47:35.118Z"
   },
   {
    "duration": 1673,
    "start_time": "2021-12-21T18:47:39.047Z"
   },
   {
    "duration": 70,
    "start_time": "2021-12-21T18:47:43.920Z"
   },
   {
    "duration": 4,
    "start_time": "2021-12-21T18:48:50.160Z"
   },
   {
    "duration": 4,
    "start_time": "2021-12-21T18:49:01.693Z"
   },
   {
    "duration": 3,
    "start_time": "2021-12-21T18:49:08.984Z"
   },
   {
    "duration": 21139,
    "start_time": "2021-12-21T18:49:21.976Z"
   },
   {
    "duration": 624,
    "start_time": "2021-12-21T18:49:58.986Z"
   },
   {
    "duration": 135,
    "start_time": "2021-12-21T18:50:02.480Z"
   },
   {
    "duration": 601,
    "start_time": "2021-12-21T18:50:11.568Z"
   },
   {
    "duration": 90848,
    "start_time": "2021-12-21T18:50:38.170Z"
   },
   {
    "duration": 1101,
    "start_time": "2021-12-21T18:52:58.499Z"
   },
   {
    "duration": 257,
    "start_time": "2021-12-21T18:53:01.562Z"
   },
   {
    "duration": 470,
    "start_time": "2021-12-21T18:53:04.938Z"
   },
   {
    "duration": 205436,
    "start_time": "2021-12-21T18:54:38.030Z"
   },
   {
    "duration": 1700,
    "start_time": "2021-12-21T18:58:35.288Z"
   },
   {
    "duration": 86,
    "start_time": "2021-12-21T18:58:39.336Z"
   },
   {
    "duration": 374,
    "start_time": "2021-12-21T18:58:47.146Z"
   },
   {
    "duration": 211162,
    "start_time": "2021-12-21T18:59:39.532Z"
   },
   {
    "duration": 492,
    "start_time": "2021-12-21T19:08:26.543Z"
   },
   {
    "duration": 101,
    "start_time": "2021-12-21T19:08:29.711Z"
   },
   {
    "duration": 261,
    "start_time": "2021-12-21T19:10:39.778Z"
   },
   {
    "duration": 41,
    "start_time": "2021-12-21T19:10:57.973Z"
   },
   {
    "duration": 5,
    "start_time": "2021-12-21T19:11:01.515Z"
   },
   {
    "duration": 291,
    "start_time": "2021-12-21T19:11:08.310Z"
   },
   {
    "duration": 108,
    "start_time": "2021-12-21T19:11:20.553Z"
   },
   {
    "duration": 5,
    "start_time": "2021-12-21T19:11:23.616Z"
   },
   {
    "duration": 56357,
    "start_time": "2021-12-21T19:11:31.361Z"
   },
   {
    "duration": 483,
    "start_time": "2021-12-21T19:14:59.908Z"
   },
   {
    "duration": 114,
    "start_time": "2021-12-21T19:15:01.959Z"
   },
   {
    "duration": 524,
    "start_time": "2021-12-21T19:15:08.654Z"
   },
   {
    "duration": 142,
    "start_time": "2021-12-21T19:15:10.950Z"
   },
   {
    "duration": 2286280,
    "start_time": "2021-12-21T19:19:43.173Z"
   },
   {
    "duration": 519,
    "start_time": "2021-12-21T20:03:05.287Z"
   },
   {
    "duration": 110,
    "start_time": "2021-12-21T20:03:09.191Z"
   },
   {
    "duration": 201,
    "start_time": "2021-12-21T20:04:03.760Z"
   },
   {
    "duration": 442,
    "start_time": "2021-12-21T20:04:06.619Z"
   },
   {
    "duration": 5795,
    "start_time": "2021-12-21T20:13:47.709Z"
   },
   {
    "duration": 4762,
    "start_time": "2021-12-21T20:13:53.507Z"
   },
   {
    "duration": 318,
    "start_time": "2021-12-21T20:13:58.271Z"
   },
   {
    "duration": 33,
    "start_time": "2021-12-21T20:13:58.591Z"
   },
   {
    "duration": 23,
    "start_time": "2021-12-21T20:13:58.626Z"
   },
   {
    "duration": 61,
    "start_time": "2021-12-21T20:13:58.651Z"
   },
   {
    "duration": 17,
    "start_time": "2021-12-21T20:13:58.714Z"
   },
   {
    "duration": 19,
    "start_time": "2021-12-21T20:13:58.734Z"
   },
   {
    "duration": 7,
    "start_time": "2021-12-21T20:13:58.755Z"
   },
   {
    "duration": 53,
    "start_time": "2021-12-21T20:13:58.764Z"
   },
   {
    "duration": 6,
    "start_time": "2021-12-21T20:13:58.819Z"
   },
   {
    "duration": 21,
    "start_time": "2021-12-21T20:13:58.826Z"
   },
   {
    "duration": 10,
    "start_time": "2021-12-21T20:13:58.849Z"
   },
   {
    "duration": 5,
    "start_time": "2021-12-21T20:13:58.861Z"
   },
   {
    "duration": 7,
    "start_time": "2021-12-21T20:13:58.868Z"
   },
   {
    "duration": 35,
    "start_time": "2021-12-21T20:13:58.876Z"
   },
   {
    "duration": 4,
    "start_time": "2021-12-21T20:13:58.913Z"
   },
   {
    "duration": 8,
    "start_time": "2021-12-21T20:13:58.919Z"
   },
   {
    "duration": 7,
    "start_time": "2021-12-21T20:13:58.929Z"
   },
   {
    "duration": 8,
    "start_time": "2021-12-21T20:13:58.938Z"
   },
   {
    "duration": 6,
    "start_time": "2021-12-21T20:13:58.947Z"
   },
   {
    "duration": 65,
    "start_time": "2021-12-21T20:13:58.955Z"
   },
   {
    "duration": 3,
    "start_time": "2021-12-21T20:13:59.024Z"
   },
   {
    "duration": 15,
    "start_time": "2021-12-21T20:13:59.030Z"
   },
   {
    "duration": 18,
    "start_time": "2021-12-21T20:13:59.047Z"
   },
   {
    "duration": 45,
    "start_time": "2021-12-21T20:13:59.067Z"
   },
   {
    "duration": 11,
    "start_time": "2021-12-21T20:13:59.114Z"
   },
   {
    "duration": 10,
    "start_time": "2021-12-21T20:13:59.127Z"
   },
   {
    "duration": 4,
    "start_time": "2021-12-21T20:13:59.138Z"
   },
   {
    "duration": 4,
    "start_time": "2021-12-21T20:13:59.144Z"
   },
   {
    "duration": 415,
    "start_time": "2021-12-21T20:13:59.149Z"
   },
   {
    "duration": 1903,
    "start_time": "2021-12-21T20:13:59.566Z"
   },
   {
    "duration": 1651,
    "start_time": "2021-12-21T20:14:01.471Z"
   },
   {
    "duration": 12,
    "start_time": "2021-12-21T20:14:03.124Z"
   },
   {
    "duration": 2747,
    "start_time": "2021-12-21T20:14:03.138Z"
   },
   {
    "duration": 3,
    "start_time": "2021-12-21T20:14:05.887Z"
   },
   {
    "duration": 570,
    "start_time": "2021-12-21T20:14:05.892Z"
   },
   {
    "duration": 3104,
    "start_time": "2021-12-21T20:14:06.464Z"
   },
   {
    "duration": 3,
    "start_time": "2021-12-21T20:14:09.570Z"
   },
   {
    "duration": 30,
    "start_time": "2021-12-21T20:14:09.575Z"
   },
   {
    "duration": 48,
    "start_time": "2021-12-21T20:14:09.607Z"
   },
   {
    "duration": 25,
    "start_time": "2021-12-21T20:14:09.657Z"
   },
   {
    "duration": 27,
    "start_time": "2021-12-21T20:14:09.684Z"
   },
   {
    "duration": 10,
    "start_time": "2021-12-21T20:14:09.713Z"
   },
   {
    "duration": 381,
    "start_time": "2021-12-21T20:14:09.725Z"
   },
   {
    "duration": 14,
    "start_time": "2021-12-21T20:14:10.108Z"
   },
   {
    "duration": 4,
    "start_time": "2021-12-21T20:14:10.124Z"
   },
   {
    "duration": 12,
    "start_time": "2021-12-21T20:14:10.130Z"
   },
   {
    "duration": 10,
    "start_time": "2021-12-21T20:14:10.144Z"
   },
   {
    "duration": 4,
    "start_time": "2021-12-21T20:14:10.155Z"
   },
   {
    "duration": 12,
    "start_time": "2021-12-21T20:14:10.161Z"
   },
   {
    "duration": 709,
    "start_time": "2021-12-21T20:14:10.175Z"
   },
   {
    "duration": 26,
    "start_time": "2021-12-21T20:14:10.886Z"
   },
   {
    "duration": 610,
    "start_time": "2021-12-21T20:14:10.914Z"
   },
   {
    "duration": 3,
    "start_time": "2021-12-21T20:14:11.526Z"
   },
   {
    "duration": 830,
    "start_time": "2021-12-21T20:14:11.530Z"
   },
   {
    "duration": -86,
    "start_time": "2021-12-21T20:14:12.449Z"
   },
   {
    "duration": -96,
    "start_time": "2021-12-21T20:14:12.460Z"
   },
   {
    "duration": -137,
    "start_time": "2021-12-21T20:14:12.502Z"
   },
   {
    "duration": -189,
    "start_time": "2021-12-21T20:14:12.556Z"
   },
   {
    "duration": -195,
    "start_time": "2021-12-21T20:14:12.563Z"
   },
   {
    "duration": -200,
    "start_time": "2021-12-21T20:14:12.569Z"
   },
   {
    "duration": -212,
    "start_time": "2021-12-21T20:14:12.582Z"
   },
   {
    "duration": -218,
    "start_time": "2021-12-21T20:14:12.589Z"
   },
   {
    "duration": -223,
    "start_time": "2021-12-21T20:14:12.596Z"
   },
   {
    "duration": -230,
    "start_time": "2021-12-21T20:14:12.604Z"
   },
   {
    "duration": -251,
    "start_time": "2021-12-21T20:14:12.626Z"
   },
   {
    "duration": -256,
    "start_time": "2021-12-21T20:14:12.633Z"
   },
   {
    "duration": -262,
    "start_time": "2021-12-21T20:14:12.640Z"
   },
   {
    "duration": -291,
    "start_time": "2021-12-21T20:14:12.670Z"
   },
   {
    "duration": -304,
    "start_time": "2021-12-21T20:14:12.684Z"
   },
   {
    "duration": -307,
    "start_time": "2021-12-21T20:14:12.689Z"
   },
   {
    "duration": -330,
    "start_time": "2021-12-21T20:14:12.713Z"
   },
   {
    "duration": -334,
    "start_time": "2021-12-21T20:14:12.718Z"
   },
   {
    "duration": -338,
    "start_time": "2021-12-21T20:14:12.723Z"
   },
   {
    "duration": -342,
    "start_time": "2021-12-21T20:14:12.728Z"
   },
   {
    "duration": -623,
    "start_time": "2021-12-21T20:14:13.009Z"
   },
   {
    "duration": -651,
    "start_time": "2021-12-21T20:14:13.038Z"
   },
   {
    "duration": -663,
    "start_time": "2021-12-21T20:14:13.051Z"
   },
   {
    "duration": -677,
    "start_time": "2021-12-21T20:14:13.065Z"
   },
   {
    "duration": 5723,
    "start_time": "2021-12-21T20:18:38.363Z"
   },
   {
    "duration": 4445,
    "start_time": "2021-12-21T20:18:44.088Z"
   },
   {
    "duration": 302,
    "start_time": "2021-12-21T20:18:48.535Z"
   },
   {
    "duration": 35,
    "start_time": "2021-12-21T20:18:48.839Z"
   },
   {
    "duration": 44,
    "start_time": "2021-12-21T20:18:48.876Z"
   },
   {
    "duration": 21,
    "start_time": "2021-12-21T20:18:48.922Z"
   },
   {
    "duration": 17,
    "start_time": "2021-12-21T20:18:48.945Z"
   },
   {
    "duration": 55,
    "start_time": "2021-12-21T20:18:48.964Z"
   },
   {
    "duration": 7,
    "start_time": "2021-12-21T20:18:49.021Z"
   },
   {
    "duration": 15,
    "start_time": "2021-12-21T20:18:49.030Z"
   },
   {
    "duration": 5,
    "start_time": "2021-12-21T20:18:49.047Z"
   },
   {
    "duration": 53,
    "start_time": "2021-12-21T20:18:49.054Z"
   },
   {
    "duration": 12,
    "start_time": "2021-12-21T20:18:49.109Z"
   },
   {
    "duration": 6,
    "start_time": "2021-12-21T20:18:49.122Z"
   },
   {
    "duration": 5,
    "start_time": "2021-12-21T20:18:49.130Z"
   },
   {
    "duration": 9,
    "start_time": "2021-12-21T20:18:49.136Z"
   },
   {
    "duration": 4,
    "start_time": "2021-12-21T20:18:49.147Z"
   },
   {
    "duration": 7,
    "start_time": "2021-12-21T20:18:49.152Z"
   },
   {
    "duration": 5,
    "start_time": "2021-12-21T20:18:49.161Z"
   },
   {
    "duration": 42,
    "start_time": "2021-12-21T20:18:49.167Z"
   },
   {
    "duration": 6,
    "start_time": "2021-12-21T20:18:49.211Z"
   },
   {
    "duration": 41,
    "start_time": "2021-12-21T20:18:49.218Z"
   },
   {
    "duration": 4,
    "start_time": "2021-12-21T20:18:49.263Z"
   },
   {
    "duration": 12,
    "start_time": "2021-12-21T20:18:49.269Z"
   },
   {
    "duration": 40,
    "start_time": "2021-12-21T20:18:49.283Z"
   },
   {
    "duration": 20,
    "start_time": "2021-12-21T20:18:49.325Z"
   },
   {
    "duration": 8,
    "start_time": "2021-12-21T20:18:49.347Z"
   },
   {
    "duration": 10,
    "start_time": "2021-12-21T20:18:49.357Z"
   },
   {
    "duration": 39,
    "start_time": "2021-12-21T20:18:49.369Z"
   },
   {
    "duration": 5,
    "start_time": "2021-12-21T20:18:49.410Z"
   },
   {
    "duration": 377,
    "start_time": "2021-12-21T20:18:49.417Z"
   },
   {
    "duration": 1885,
    "start_time": "2021-12-21T20:18:49.795Z"
   },
   {
    "duration": 1672,
    "start_time": "2021-12-21T20:18:51.682Z"
   },
   {
    "duration": 13,
    "start_time": "2021-12-21T20:18:53.356Z"
   },
   {
    "duration": 2541,
    "start_time": "2021-12-21T20:18:53.371Z"
   },
   {
    "duration": 3,
    "start_time": "2021-12-21T20:18:55.914Z"
   },
   {
    "duration": 518,
    "start_time": "2021-12-21T20:18:55.918Z"
   },
   {
    "duration": 2780,
    "start_time": "2021-12-21T20:18:56.438Z"
   },
   {
    "duration": 3,
    "start_time": "2021-12-21T20:18:59.219Z"
   },
   {
    "duration": 5,
    "start_time": "2021-12-21T20:18:59.224Z"
   },
   {
    "duration": 35,
    "start_time": "2021-12-21T20:18:59.231Z"
   },
   {
    "duration": 38,
    "start_time": "2021-12-21T20:18:59.268Z"
   },
   {
    "duration": 13,
    "start_time": "2021-12-21T20:18:59.308Z"
   },
   {
    "duration": 3,
    "start_time": "2021-12-21T20:18:59.323Z"
   },
   {
    "duration": 348,
    "start_time": "2021-12-21T20:18:59.327Z"
   },
   {
    "duration": 15,
    "start_time": "2021-12-21T20:18:59.677Z"
   },
   {
    "duration": 15,
    "start_time": "2021-12-21T20:18:59.693Z"
   },
   {
    "duration": 9,
    "start_time": "2021-12-21T20:18:59.710Z"
   },
   {
    "duration": 8,
    "start_time": "2021-12-21T20:18:59.721Z"
   },
   {
    "duration": 4,
    "start_time": "2021-12-21T20:18:59.731Z"
   },
   {
    "duration": 11,
    "start_time": "2021-12-21T20:18:59.736Z"
   },
   {
    "duration": 557,
    "start_time": "2021-12-21T20:18:59.748Z"
   },
   {
    "duration": 18,
    "start_time": "2021-12-21T20:19:00.307Z"
   },
   {
    "duration": 548,
    "start_time": "2021-12-21T20:19:00.328Z"
   },
   {
    "duration": 4,
    "start_time": "2021-12-21T20:19:00.878Z"
   },
   {
    "duration": 105,
    "start_time": "2021-12-21T20:19:00.883Z"
   },
   {
    "duration": 6,
    "start_time": "2021-12-21T20:19:00.990Z"
   },
   {
    "duration": 529,
    "start_time": "2021-12-21T20:19:00.998Z"
   },
   {
    "duration": 20078,
    "start_time": "2021-12-21T20:19:01.530Z"
   },
   {
    "duration": 90607,
    "start_time": "2021-12-21T20:19:21.612Z"
   },
   {
    "duration": 200009,
    "start_time": "2021-12-21T20:20:52.221Z"
   },
   {
    "duration": 742627,
    "start_time": "2021-12-21T20:24:12.232Z"
   },
   {
    "duration": 143,
    "start_time": "2021-12-21T20:36:34.861Z"
   },
   {
    "duration": 37,
    "start_time": "2021-12-21T20:36:35.006Z"
   },
   {
    "duration": 4,
    "start_time": "2021-12-21T20:36:35.045Z"
   },
   {
    "duration": 56570,
    "start_time": "2021-12-21T20:36:35.051Z"
   },
   {
    "duration": 288,
    "start_time": "2021-12-21T20:37:31.623Z"
   },
   {
    "duration": 394,
    "start_time": "2021-12-21T20:37:31.917Z"
   },
   {
    "duration": 655,
    "start_time": "2021-12-21T20:37:32.317Z"
   },
   {
    "duration": 1083,
    "start_time": "2021-12-21T20:37:32.975Z"
   },
   {
    "duration": 191,
    "start_time": "2021-12-21T20:37:34.060Z"
   },
   {
    "duration": 457,
    "start_time": "2021-12-21T20:37:34.253Z"
   },
   {
    "duration": 1888,
    "start_time": "2021-12-21T20:37:34.712Z"
   },
   {
    "duration": 94,
    "start_time": "2021-12-21T20:37:36.601Z"
   },
   {
    "duration": 433,
    "start_time": "2021-12-21T20:37:36.707Z"
   },
   {
    "duration": 520,
    "start_time": "2021-12-21T20:37:37.143Z"
   },
   {
    "duration": 121,
    "start_time": "2021-12-21T20:37:37.665Z"
   },
   {
    "duration": 576,
    "start_time": "2021-12-21T20:37:37.788Z"
   },
   {
    "duration": 252,
    "start_time": "2021-12-21T20:37:38.366Z"
   },
   {
    "duration": 683,
    "start_time": "2021-12-21T20:37:38.619Z"
   },
   {
    "duration": 669,
    "start_time": "2021-12-21T21:17:32.129Z"
   },
   {
    "duration": 152,
    "start_time": "2021-12-21T21:17:35.031Z"
   },
   {
    "duration": 490,
    "start_time": "2021-12-21T21:17:42.486Z"
   },
   {
    "duration": 107,
    "start_time": "2021-12-21T21:17:44.909Z"
   }
  ],
  "kernelspec": {
   "display_name": "Python 3",
   "language": "python",
   "name": "python3"
  },
  "language_info": {
   "codemirror_mode": {
    "name": "ipython",
    "version": 3
   },
   "file_extension": ".py",
   "mimetype": "text/x-python",
   "name": "python",
   "nbconvert_exporter": "python",
   "pygments_lexer": "ipython3",
   "version": "3.8.5"
  },
  "toc": {
   "base_numbering": 1,
   "nav_menu": {},
   "number_sections": true,
   "sideBar": true,
   "skip_h1_title": true,
   "title_cell": "Table of Contents",
   "title_sidebar": "Contents",
   "toc_cell": false,
   "toc_position": {},
   "toc_section_display": true,
   "toc_window_display": false
  }
 },
 "nbformat": 4,
 "nbformat_minor": 4
}
