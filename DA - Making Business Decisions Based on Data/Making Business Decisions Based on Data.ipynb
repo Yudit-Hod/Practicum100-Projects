{
 "cells": [
  {
   "cell_type": "markdown",
   "metadata": {},
   "source": [
    "# A/B Testing Result Analysis"
   ]
  },
  {
   "cell_type": "markdown",
   "metadata": {},
   "source": [
    "The data department together with the marketing department, compiled a list of hypotheses that may help our company boost the revenue.\n",
    "First we need to prioritize these hypotheses. Based on the results, we'll launch an A/B test, and analyze the results.\n",
    "\n",
    "**Project Parts** <a class=\"anchor\" id=\"table_of_contents\"></a>  \n",
    "[Part 1. Prioritizing Hypothesess](#chapter1)  \n",
    "[Part 2. A/B Test Analysis](#chapter2)   "
   ]
  },
  {
   "cell_type": "markdown",
   "metadata": {},
   "source": [
    "## Part 1. Prioritizing Hypotheses\n",
    "<a class=\"anchor\" id=\"chapter1\"></a>"
   ]
  },
  {
   "cell_type": "markdown",
   "metadata": {},
   "source": [
    "### 1. Opening the data file"
   ]
  },
  {
   "cell_type": "code",
   "execution_count": 1,
   "metadata": {},
   "outputs": [],
   "source": [
    "#import libraries of functions\n",
    "import pandas as pd\n",
    "import datetime as dt\n",
    "import numpy as np\n",
    "import matplotlib.pyplot as plt\n",
    "import scipy.stats as st\n",
    "import sys\n",
    "import warnings\n",
    "if not sys.warnoptions:\n",
    "       warnings.simplefilter(\"ignore\")\n",
    "\n",
    "try:\n",
    "    #saving the data provided in the .csv in the variable ---(locally)\n",
    "    hypotheses = pd.read_csv('hypotheses_us.csv', sep=';')\n",
    "    \n",
    "except:\n",
    "    #saving the data provided in the .csv in the variable ---(platform)\n",
    "    hypotheses = pd.read_csv('/datasets/hypotheses_us.csv', sep=';')"
   ]
  },
  {
   "cell_type": "code",
   "execution_count": 2,
   "metadata": {},
   "outputs": [
    {
     "data": {
      "text/html": [
       "<div>\n",
       "<style scoped>\n",
       "    .dataframe tbody tr th:only-of-type {\n",
       "        vertical-align: middle;\n",
       "    }\n",
       "\n",
       "    .dataframe tbody tr th {\n",
       "        vertical-align: top;\n",
       "    }\n",
       "\n",
       "    .dataframe thead th {\n",
       "        text-align: right;\n",
       "    }\n",
       "</style>\n",
       "<table border=\"1\" class=\"dataframe\">\n",
       "  <thead>\n",
       "    <tr style=\"text-align: right;\">\n",
       "      <th></th>\n",
       "      <th>Hypothesis</th>\n",
       "      <th>Reach</th>\n",
       "      <th>Impact</th>\n",
       "      <th>Confidence</th>\n",
       "      <th>Effort</th>\n",
       "    </tr>\n",
       "  </thead>\n",
       "  <tbody>\n",
       "    <tr>\n",
       "      <td>0</td>\n",
       "      <td>Add two new channels for attracting traffic. T...</td>\n",
       "      <td>3</td>\n",
       "      <td>10</td>\n",
       "      <td>8</td>\n",
       "      <td>6</td>\n",
       "    </tr>\n",
       "    <tr>\n",
       "      <td>1</td>\n",
       "      <td>Launch your own delivery service. This will sh...</td>\n",
       "      <td>2</td>\n",
       "      <td>5</td>\n",
       "      <td>4</td>\n",
       "      <td>10</td>\n",
       "    </tr>\n",
       "    <tr>\n",
       "      <td>2</td>\n",
       "      <td>Add product recommendation blocks to the store...</td>\n",
       "      <td>8</td>\n",
       "      <td>3</td>\n",
       "      <td>7</td>\n",
       "      <td>3</td>\n",
       "    </tr>\n",
       "    <tr>\n",
       "      <td>3</td>\n",
       "      <td>Change the category structure. This will incre...</td>\n",
       "      <td>8</td>\n",
       "      <td>3</td>\n",
       "      <td>3</td>\n",
       "      <td>8</td>\n",
       "    </tr>\n",
       "    <tr>\n",
       "      <td>4</td>\n",
       "      <td>Change the background color on the main page. ...</td>\n",
       "      <td>3</td>\n",
       "      <td>1</td>\n",
       "      <td>1</td>\n",
       "      <td>1</td>\n",
       "    </tr>\n",
       "    <tr>\n",
       "      <td>5</td>\n",
       "      <td>Add a customer review page. This will increase...</td>\n",
       "      <td>3</td>\n",
       "      <td>2</td>\n",
       "      <td>2</td>\n",
       "      <td>3</td>\n",
       "    </tr>\n",
       "    <tr>\n",
       "      <td>6</td>\n",
       "      <td>Show banners with current offers and sales on ...</td>\n",
       "      <td>5</td>\n",
       "      <td>3</td>\n",
       "      <td>8</td>\n",
       "      <td>3</td>\n",
       "    </tr>\n",
       "    <tr>\n",
       "      <td>7</td>\n",
       "      <td>Add a subscription form to all the main pages....</td>\n",
       "      <td>10</td>\n",
       "      <td>7</td>\n",
       "      <td>8</td>\n",
       "      <td>5</td>\n",
       "    </tr>\n",
       "    <tr>\n",
       "      <td>8</td>\n",
       "      <td>Launch a promotion that gives users discounts ...</td>\n",
       "      <td>1</td>\n",
       "      <td>9</td>\n",
       "      <td>9</td>\n",
       "      <td>5</td>\n",
       "    </tr>\n",
       "  </tbody>\n",
       "</table>\n",
       "</div>"
      ],
      "text/plain": [
       "                                          Hypothesis  Reach  Impact  \\\n",
       "0  Add two new channels for attracting traffic. T...      3      10   \n",
       "1  Launch your own delivery service. This will sh...      2       5   \n",
       "2  Add product recommendation blocks to the store...      8       3   \n",
       "3  Change the category structure. This will incre...      8       3   \n",
       "4  Change the background color on the main page. ...      3       1   \n",
       "5  Add a customer review page. This will increase...      3       2   \n",
       "6  Show banners with current offers and sales on ...      5       3   \n",
       "7  Add a subscription form to all the main pages....     10       7   \n",
       "8  Launch a promotion that gives users discounts ...      1       9   \n",
       "\n",
       "   Confidence  Effort  \n",
       "0           8       6  \n",
       "1           4      10  \n",
       "2           7       3  \n",
       "3           3       8  \n",
       "4           1       1  \n",
       "5           2       3  \n",
       "6           8       3  \n",
       "7           8       5  \n",
       "8           9       5  "
      ]
     },
     "execution_count": 2,
     "metadata": {},
     "output_type": "execute_result"
    }
   ],
   "source": [
    "#let's first take a closer look at the data set\n",
    "hypotheses"
   ]
  },
  {
   "cell_type": "code",
   "execution_count": 3,
   "metadata": {},
   "outputs": [],
   "source": [
    "#convert columns names to lower case\n",
    "hypotheses.columns = hypotheses.columns.str.lower()"
   ]
  },
  {
   "cell_type": "markdown",
   "metadata": {},
   "source": [
    "The file contains nine hypotheses on boosting an online store's revenue with Reach, Impact, Confidence, and Effort specified for each. Now we'll apply the ICE and RICE frameworks to prioritize hypotheses and see if the prioritization of hypotheses changes. If so' we'll try to provide an explanation for the changes."
   ]
  },
  {
   "cell_type": "code",
   "execution_count": 4,
   "metadata": {},
   "outputs": [
    {
     "name": "stdout",
     "output_type": "stream",
     "text": [
      "                                          hypothesis        ICE\n",
      "8  Launch a promotion that gives users discounts ...  16.200000\n",
      "0  Add two new channels for attracting traffic. T...  13.333333\n",
      "7  Add a subscription form to all the main pages....  11.200000\n",
      "6  Show banners with current offers and sales on ...   8.000000\n",
      "2  Add product recommendation blocks to the store...   7.000000\n",
      "1  Launch your own delivery service. This will sh...   2.000000\n",
      "5  Add a customer review page. This will increase...   1.333333\n",
      "3  Change the category structure. This will incre...   1.125000\n",
      "4  Change the background color on the main page. ...   1.000000\n"
     ]
    }
   ],
   "source": [
    "hypotheses['ICE'] = hypotheses['impact']*hypotheses['confidence']/hypotheses['effort']\n",
    "print(hypotheses[['hypothesis','ICE']].sort_values('ICE', ascending = False))"
   ]
  },
  {
   "cell_type": "code",
   "execution_count": 5,
   "metadata": {},
   "outputs": [
    {
     "name": "stdout",
     "output_type": "stream",
     "text": [
      "                                          hypothesis   RICE\n",
      "7  Add a subscription form to all the main pages....  112.0\n",
      "2  Add product recommendation blocks to the store...   56.0\n",
      "0  Add two new channels for attracting traffic. T...   40.0\n",
      "6  Show banners with current offers and sales on ...   40.0\n",
      "8  Launch a promotion that gives users discounts ...   16.2\n",
      "3  Change the category structure. This will incre...    9.0\n",
      "1  Launch your own delivery service. This will sh...    4.0\n",
      "5  Add a customer review page. This will increase...    4.0\n",
      "4  Change the background color on the main page. ...    3.0\n"
     ]
    }
   ],
   "source": [
    "hypotheses['RICE'] = hypotheses['reach']*hypotheses['impact']*hypotheses['confidence']/hypotheses['effort']\n",
    "print(hypotheses[['hypothesis','RICE']].sort_values('RICE', ascending = False))"
   ]
  },
  {
   "cell_type": "markdown",
   "metadata": {},
   "source": [
    "We see that hypotheses 1,3,4,5 are the last in both methodsd, and in both method, 4 is at the bottom. The most significant change is of hypothesis 8 whcih moved from the middle to the top. The difference between the methods is that RICE is ICE multiplied by the Reach Parameter (how many users will be affected by the update we want to introduce), so it's better to depend more on the RICE score. We'll need to start testing hypothesis 7."
   ]
  },
  {
   "cell_type": "code",
   "execution_count": 6,
   "metadata": {},
   "outputs": [
    {
     "name": "stdout",
     "output_type": "stream",
     "text": [
      "Add a subscription form to all the main pages. This will help you compile a mailing list\n"
     ]
    }
   ],
   "source": [
    "print(hypotheses['hypothesis'][7])"
   ]
  },
  {
   "cell_type": "markdown",
   "metadata": {},
   "source": [
    "## Part 2. A/B Test Analysis\n",
    "<a class=\"anchor\" id=\"chapter2\"></a>"
   ]
  },
  {
   "cell_type": "markdown",
   "metadata": {},
   "source": [
    "### 1. Opening the data file"
   ]
  },
  {
   "cell_type": "code",
   "execution_count": 7,
   "metadata": {},
   "outputs": [],
   "source": [
    "try:\n",
    "    #saving the data provided in the .csv in the variable ---(locally)\n",
    "    orders = pd.read_csv(\n",
    "        'orders_us.csv',\n",
    "        parse_dates = ['date']\n",
    "    )\n",
    "    visits = pd.read_csv(\n",
    "        'visits_us.csv',\n",
    "        dtype = {'visits':'int16'}, \n",
    "        parse_dates = ['date']\n",
    "    )\n",
    "    \n",
    "except:\n",
    "    #saving the data provided in the .csv in the variable ---(platform)\n",
    "    orders = pd.read_csv(\n",
    "        '/datasets/orders_us.csv', \n",
    "        parse_dates = ['date']\n",
    "    )\n",
    "    visits = pd.read_csv(\n",
    "        '/datasets/visits_us.csv',\n",
    "        dtype = {'visits':'int16'}, \n",
    "        parse_dates = ['date']\n",
    "    )"
   ]
  },
  {
   "cell_type": "code",
   "execution_count": 8,
   "metadata": {},
   "outputs": [
    {
     "data": {
      "text/html": [
       "<div>\n",
       "<style scoped>\n",
       "    .dataframe tbody tr th:only-of-type {\n",
       "        vertical-align: middle;\n",
       "    }\n",
       "\n",
       "    .dataframe tbody tr th {\n",
       "        vertical-align: top;\n",
       "    }\n",
       "\n",
       "    .dataframe thead th {\n",
       "        text-align: right;\n",
       "    }\n",
       "</style>\n",
       "<table border=\"1\" class=\"dataframe\">\n",
       "  <thead>\n",
       "    <tr style=\"text-align: right;\">\n",
       "      <th></th>\n",
       "      <th>transactionId</th>\n",
       "      <th>visitorId</th>\n",
       "      <th>date</th>\n",
       "      <th>revenue</th>\n",
       "      <th>group</th>\n",
       "    </tr>\n",
       "  </thead>\n",
       "  <tbody>\n",
       "    <tr>\n",
       "      <td>0</td>\n",
       "      <td>3667963787</td>\n",
       "      <td>3312258926</td>\n",
       "      <td>2019-08-15</td>\n",
       "      <td>30.4</td>\n",
       "      <td>B</td>\n",
       "    </tr>\n",
       "    <tr>\n",
       "      <td>1</td>\n",
       "      <td>2804400009</td>\n",
       "      <td>3642806036</td>\n",
       "      <td>2019-08-15</td>\n",
       "      <td>15.2</td>\n",
       "      <td>B</td>\n",
       "    </tr>\n",
       "    <tr>\n",
       "      <td>2</td>\n",
       "      <td>2961555356</td>\n",
       "      <td>4069496402</td>\n",
       "      <td>2019-08-15</td>\n",
       "      <td>10.2</td>\n",
       "      <td>A</td>\n",
       "    </tr>\n",
       "    <tr>\n",
       "      <td>3</td>\n",
       "      <td>3797467345</td>\n",
       "      <td>1196621759</td>\n",
       "      <td>2019-08-15</td>\n",
       "      <td>155.1</td>\n",
       "      <td>B</td>\n",
       "    </tr>\n",
       "    <tr>\n",
       "      <td>4</td>\n",
       "      <td>2282983706</td>\n",
       "      <td>2322279887</td>\n",
       "      <td>2019-08-15</td>\n",
       "      <td>40.5</td>\n",
       "      <td>B</td>\n",
       "    </tr>\n",
       "  </tbody>\n",
       "</table>\n",
       "</div>"
      ],
      "text/plain": [
       "   transactionId   visitorId       date  revenue group\n",
       "0     3667963787  3312258926 2019-08-15     30.4     B\n",
       "1     2804400009  3642806036 2019-08-15     15.2     B\n",
       "2     2961555356  4069496402 2019-08-15     10.2     A\n",
       "3     3797467345  1196621759 2019-08-15    155.1     B\n",
       "4     2282983706  2322279887 2019-08-15     40.5     B"
      ]
     },
     "metadata": {},
     "output_type": "display_data"
    },
    {
     "data": {
      "text/html": [
       "<div>\n",
       "<style scoped>\n",
       "    .dataframe tbody tr th:only-of-type {\n",
       "        vertical-align: middle;\n",
       "    }\n",
       "\n",
       "    .dataframe tbody tr th {\n",
       "        vertical-align: top;\n",
       "    }\n",
       "\n",
       "    .dataframe thead th {\n",
       "        text-align: right;\n",
       "    }\n",
       "</style>\n",
       "<table border=\"1\" class=\"dataframe\">\n",
       "  <thead>\n",
       "    <tr style=\"text-align: right;\">\n",
       "      <th></th>\n",
       "      <th>date</th>\n",
       "      <th>group</th>\n",
       "      <th>visits</th>\n",
       "    </tr>\n",
       "  </thead>\n",
       "  <tbody>\n",
       "    <tr>\n",
       "      <td>0</td>\n",
       "      <td>2019-08-01</td>\n",
       "      <td>A</td>\n",
       "      <td>719</td>\n",
       "    </tr>\n",
       "    <tr>\n",
       "      <td>1</td>\n",
       "      <td>2019-08-02</td>\n",
       "      <td>A</td>\n",
       "      <td>619</td>\n",
       "    </tr>\n",
       "    <tr>\n",
       "      <td>2</td>\n",
       "      <td>2019-08-03</td>\n",
       "      <td>A</td>\n",
       "      <td>507</td>\n",
       "    </tr>\n",
       "    <tr>\n",
       "      <td>3</td>\n",
       "      <td>2019-08-04</td>\n",
       "      <td>A</td>\n",
       "      <td>717</td>\n",
       "    </tr>\n",
       "    <tr>\n",
       "      <td>4</td>\n",
       "      <td>2019-08-05</td>\n",
       "      <td>A</td>\n",
       "      <td>756</td>\n",
       "    </tr>\n",
       "  </tbody>\n",
       "</table>\n",
       "</div>"
      ],
      "text/plain": [
       "        date group  visits\n",
       "0 2019-08-01     A     719\n",
       "1 2019-08-02     A     619\n",
       "2 2019-08-03     A     507\n",
       "3 2019-08-04     A     717\n",
       "4 2019-08-05     A     756"
      ]
     },
     "execution_count": 8,
     "metadata": {},
     "output_type": "execute_result"
    }
   ],
   "source": [
    "#show the first rows of the data \n",
    "display(orders.head())\n",
    "visits.head()"
   ]
  },
  {
   "cell_type": "code",
   "execution_count": 9,
   "metadata": {},
   "outputs": [
    {
     "name": "stdout",
     "output_type": "stream",
     "text": [
      "<class 'pandas.core.frame.DataFrame'>\n",
      "RangeIndex: 1197 entries, 0 to 1196\n",
      "Data columns (total 5 columns):\n",
      "transactionId    1197 non-null int64\n",
      "visitorId        1197 non-null int64\n",
      "date             1197 non-null datetime64[ns]\n",
      "revenue          1197 non-null float64\n",
      "group            1197 non-null object\n",
      "dtypes: datetime64[ns](1), float64(1), int64(2), object(1)\n",
      "memory usage: 105.3 KB\n",
      "<class 'pandas.core.frame.DataFrame'>\n",
      "RangeIndex: 62 entries, 0 to 61\n",
      "Data columns (total 3 columns):\n",
      "date      62 non-null datetime64[ns]\n",
      "group     62 non-null object\n",
      "visits    62 non-null int16\n",
      "dtypes: datetime64[ns](1), int16(1), object(1)\n",
      "memory usage: 4.2 KB\n"
     ]
    }
   ],
   "source": [
    "#names of columns, types and counts\n",
    "orders.info(memory_usage='deep')\n",
    "visits.info(memory_usage='deep')"
   ]
  },
  {
   "cell_type": "code",
   "execution_count": 10,
   "metadata": {},
   "outputs": [
    {
     "data": {
      "text/plain": [
       "count     1197.000000\n",
       "mean       131.491646\n",
       "std        603.004729\n",
       "min          5.000000\n",
       "25%         20.800000\n",
       "50%         50.200000\n",
       "75%        130.400000\n",
       "max      19920.400000\n",
       "Name: revenue, dtype: float64"
      ]
     },
     "metadata": {},
     "output_type": "display_data"
    },
    {
     "data": {
      "text/plain": [
       "count                    1197\n",
       "unique                     31\n",
       "top       2019-08-05 00:00:00\n",
       "freq                       48\n",
       "first     2019-08-01 00:00:00\n",
       "last      2019-08-31 00:00:00\n",
       "Name: date, dtype: object"
      ]
     },
     "metadata": {},
     "output_type": "display_data"
    },
    {
     "data": {
      "text/plain": [
       "count     1197\n",
       "unique       2\n",
       "top          B\n",
       "freq       640\n",
       "Name: group, dtype: object"
      ]
     },
     "metadata": {},
     "output_type": "display_data"
    },
    {
     "data": {
      "text/html": [
       "<div>\n",
       "<style scoped>\n",
       "    .dataframe tbody tr th:only-of-type {\n",
       "        vertical-align: middle;\n",
       "    }\n",
       "\n",
       "    .dataframe tbody tr th {\n",
       "        vertical-align: top;\n",
       "    }\n",
       "\n",
       "    .dataframe thead th {\n",
       "        text-align: right;\n",
       "    }\n",
       "</style>\n",
       "<table border=\"1\" class=\"dataframe\">\n",
       "  <thead>\n",
       "    <tr style=\"text-align: right;\">\n",
       "      <th></th>\n",
       "      <th>visits</th>\n",
       "    </tr>\n",
       "  </thead>\n",
       "  <tbody>\n",
       "    <tr>\n",
       "      <td>count</td>\n",
       "      <td>62.000000</td>\n",
       "    </tr>\n",
       "    <tr>\n",
       "      <td>mean</td>\n",
       "      <td>607.290323</td>\n",
       "    </tr>\n",
       "    <tr>\n",
       "      <td>std</td>\n",
       "      <td>114.400560</td>\n",
       "    </tr>\n",
       "    <tr>\n",
       "      <td>min</td>\n",
       "      <td>361.000000</td>\n",
       "    </tr>\n",
       "    <tr>\n",
       "      <td>25%</td>\n",
       "      <td>534.000000</td>\n",
       "    </tr>\n",
       "    <tr>\n",
       "      <td>50%</td>\n",
       "      <td>624.500000</td>\n",
       "    </tr>\n",
       "    <tr>\n",
       "      <td>75%</td>\n",
       "      <td>710.500000</td>\n",
       "    </tr>\n",
       "    <tr>\n",
       "      <td>max</td>\n",
       "      <td>770.000000</td>\n",
       "    </tr>\n",
       "  </tbody>\n",
       "</table>\n",
       "</div>"
      ],
      "text/plain": [
       "           visits\n",
       "count   62.000000\n",
       "mean   607.290323\n",
       "std    114.400560\n",
       "min    361.000000\n",
       "25%    534.000000\n",
       "50%    624.500000\n",
       "75%    710.500000\n",
       "max    770.000000"
      ]
     },
     "metadata": {},
     "output_type": "display_data"
    },
    {
     "data": {
      "text/plain": [
       "count                      62\n",
       "unique                     31\n",
       "top       2019-08-02 00:00:00\n",
       "freq                        2\n",
       "first     2019-08-01 00:00:00\n",
       "last      2019-08-31 00:00:00\n",
       "Name: date, dtype: object"
      ]
     },
     "metadata": {},
     "output_type": "display_data"
    },
    {
     "data": {
      "text/plain": [
       "count     62\n",
       "unique     2\n",
       "top        A\n",
       "freq      31\n",
       "Name: group, dtype: object"
      ]
     },
     "metadata": {},
     "output_type": "display_data"
    }
   ],
   "source": [
    "#show statistical summary\n",
    "display(orders['revenue'].describe(), orders['date'].describe(), orders['group'].describe(),\n",
    "        visits.describe(), visits['date'].describe(), visits['group'].describe())"
   ]
  },
  {
   "cell_type": "code",
   "execution_count": 11,
   "metadata": {},
   "outputs": [
    {
     "data": {
      "text/plain": [
       "0"
      ]
     },
     "metadata": {},
     "output_type": "display_data"
    },
    {
     "data": {
      "text/plain": [
       "0"
      ]
     },
     "metadata": {},
     "output_type": "display_data"
    }
   ],
   "source": [
    "display(orders.duplicated().sum(), visits.duplicated().sum())"
   ]
  },
  {
   "cell_type": "markdown",
   "metadata": {},
   "source": [
    "We see that:\n",
    "- Data types are correct. \n",
    "- There's no duplicated rows. \n",
    "- There's no missing values.\n",
    "- The date span is all days in May 2019, total of 31 days.\n",
    "- The median revenue is 50\\\\$ and there an extreme value of 19920\\\\$. The minimum revenue is 5\\\\$.\n",
    "- There are more orders from group B."
   ]
  },
  {
   "cell_type": "markdown",
   "metadata": {},
   "source": [
    "Now we'll check if there are visitors that have gotten into both group A and group B."
   ]
  },
  {
   "cell_type": "code",
   "execution_count": 12,
   "metadata": {},
   "outputs": [
    {
     "name": "stdout",
     "output_type": "stream",
     "text": [
      "The amount of unique users that were assigned for both groups: 58\n"
     ]
    }
   ],
   "source": [
    "a_and_b = orders.groupby('visitorId').agg({'group':'nunique'})\n",
    "a_and_b = a_and_b[a_and_b['group']==2].reset_index()\n",
    "print('The amount of unique users that were assigned for both groups: {}'.format(len(a_and_b)))"
   ]
  },
  {
   "cell_type": "markdown",
   "metadata": {},
   "source": [
    "We'll need to delete those records because each user should be assigned for one group only!"
   ]
  },
  {
   "cell_type": "code",
   "execution_count": 13,
   "metadata": {},
   "outputs": [
    {
     "name": "stdout",
     "output_type": "stream",
     "text": [
      "The amount of unique users that were assigned for both groups: 0\n"
     ]
    }
   ],
   "source": [
    "doubled = a_and_b['visitorId']\n",
    "orders = orders.query('visitorId not in @doubled')\n",
    "a_and_b = orders.groupby('visitorId').agg({'group':'nunique'})\n",
    "a_and_b = a_and_b[a_and_b['group']==2].reset_index()\n",
    "print('The amount of unique users that were assigned for both groups: {}'.format(len(a_and_b)))"
   ]
  },
  {
   "cell_type": "markdown",
   "metadata": {},
   "source": [
    "Now we can continue to our test, but we need to inform the data engineers that we had this issue. First we will calculate all the cunnulative data for each group and then we'll visualize the results."
   ]
  },
  {
   "cell_type": "code",
   "execution_count": 14,
   "metadata": {},
   "outputs": [
    {
     "data": {
      "text/html": [
       "<div>\n",
       "<style scoped>\n",
       "    .dataframe tbody tr th:only-of-type {\n",
       "        vertical-align: middle;\n",
       "    }\n",
       "\n",
       "    .dataframe tbody tr th {\n",
       "        vertical-align: top;\n",
       "    }\n",
       "\n",
       "    .dataframe thead th {\n",
       "        text-align: right;\n",
       "    }\n",
       "</style>\n",
       "<table border=\"1\" class=\"dataframe\">\n",
       "  <thead>\n",
       "    <tr style=\"text-align: right;\">\n",
       "      <th></th>\n",
       "      <th>date</th>\n",
       "      <th>group</th>\n",
       "      <th>orders</th>\n",
       "      <th>buyers</th>\n",
       "      <th>revenue</th>\n",
       "      <th>visitors</th>\n",
       "    </tr>\n",
       "  </thead>\n",
       "  <tbody>\n",
       "    <tr>\n",
       "      <td>0</td>\n",
       "      <td>2019-08-01</td>\n",
       "      <td>A</td>\n",
       "      <td>23</td>\n",
       "      <td>19</td>\n",
       "      <td>2266.6</td>\n",
       "      <td>719</td>\n",
       "    </tr>\n",
       "    <tr>\n",
       "      <td>1</td>\n",
       "      <td>2019-08-01</td>\n",
       "      <td>B</td>\n",
       "      <td>17</td>\n",
       "      <td>17</td>\n",
       "      <td>967.2</td>\n",
       "      <td>713</td>\n",
       "    </tr>\n",
       "    <tr>\n",
       "      <td>2</td>\n",
       "      <td>2019-08-02</td>\n",
       "      <td>A</td>\n",
       "      <td>42</td>\n",
       "      <td>36</td>\n",
       "      <td>3734.9</td>\n",
       "      <td>1338</td>\n",
       "    </tr>\n",
       "    <tr>\n",
       "      <td>3</td>\n",
       "      <td>2019-08-02</td>\n",
       "      <td>B</td>\n",
       "      <td>40</td>\n",
       "      <td>39</td>\n",
       "      <td>3535.3</td>\n",
       "      <td>1294</td>\n",
       "    </tr>\n",
       "    <tr>\n",
       "      <td>4</td>\n",
       "      <td>2019-08-03</td>\n",
       "      <td>A</td>\n",
       "      <td>66</td>\n",
       "      <td>60</td>\n",
       "      <td>5550.1</td>\n",
       "      <td>1845</td>\n",
       "    </tr>\n",
       "    <tr>\n",
       "      <td>5</td>\n",
       "      <td>2019-08-03</td>\n",
       "      <td>B</td>\n",
       "      <td>54</td>\n",
       "      <td>53</td>\n",
       "      <td>4606.9</td>\n",
       "      <td>1803</td>\n",
       "    </tr>\n",
       "    <tr>\n",
       "      <td>6</td>\n",
       "      <td>2019-08-04</td>\n",
       "      <td>A</td>\n",
       "      <td>77</td>\n",
       "      <td>71</td>\n",
       "      <td>6225.6</td>\n",
       "      <td>2562</td>\n",
       "    </tr>\n",
       "    <tr>\n",
       "      <td>7</td>\n",
       "      <td>2019-08-04</td>\n",
       "      <td>B</td>\n",
       "      <td>68</td>\n",
       "      <td>66</td>\n",
       "      <td>6138.5</td>\n",
       "      <td>2573</td>\n",
       "    </tr>\n",
       "    <tr>\n",
       "      <td>8</td>\n",
       "      <td>2019-08-05</td>\n",
       "      <td>A</td>\n",
       "      <td>99</td>\n",
       "      <td>92</td>\n",
       "      <td>7623.6</td>\n",
       "      <td>3318</td>\n",
       "    </tr>\n",
       "    <tr>\n",
       "      <td>9</td>\n",
       "      <td>2019-08-05</td>\n",
       "      <td>B</td>\n",
       "      <td>89</td>\n",
       "      <td>87</td>\n",
       "      <td>7587.8</td>\n",
       "      <td>3280</td>\n",
       "    </tr>\n",
       "  </tbody>\n",
       "</table>\n",
       "</div>"
      ],
      "text/plain": [
       "        date group  orders  buyers  revenue  visitors\n",
       "0 2019-08-01     A      23      19   2266.6       719\n",
       "1 2019-08-01     B      17      17    967.2       713\n",
       "2 2019-08-02     A      42      36   3734.9      1338\n",
       "3 2019-08-02     B      40      39   3535.3      1294\n",
       "4 2019-08-03     A      66      60   5550.1      1845\n",
       "5 2019-08-03     B      54      53   4606.9      1803\n",
       "6 2019-08-04     A      77      71   6225.6      2562\n",
       "7 2019-08-04     B      68      66   6138.5      2573\n",
       "8 2019-08-05     A      99      92   7623.6      3318\n",
       "9 2019-08-05     B      89      87   7587.8      3280"
      ]
     },
     "execution_count": 14,
     "metadata": {},
     "output_type": "execute_result"
    }
   ],
   "source": [
    "datesGroups = orders[['date', 'group']].drop_duplicates()\n",
    "ordersAggregated = datesGroups.apply(\n",
    "    lambda x: orders[np.logical_and(orders['date'] <= x['date'], orders['group'] == x['group'])].agg(\n",
    "        {'date': 'max', 'group': 'max', 'transactionId': pd.Series.nunique, 'visitorId': pd.Series.nunique, 'revenue': 'sum'}),\n",
    "        axis=1\n",
    ").sort_values(by=['date', 'group'])\n",
    "\n",
    "visitsAggregated = datesGroups.apply(\n",
    "    lambda x: visits[np.logical_and(visits['date'] <= x['date'], visits['group'] == x['group'])]\n",
    "    .agg({'date': 'max', 'group': 'max', 'visits': 'sum'}),\n",
    "    axis=1\n",
    ").sort_values(by=['date', 'group'])\n",
    "\n",
    "cumulativeData = ordersAggregated.merge(\n",
    "    visitsAggregated, left_on=['date', 'group'], right_on=['date', 'group']\n",
    ")\n",
    "cumulativeData.columns = ['date','group','orders','buyers','revenue','visitors']\n",
    "cumulativeData.head(10)"
   ]
  },
  {
   "cell_type": "markdown",
   "metadata": {},
   "source": [
    "- **Graph cumulative revenue by group. Make conclusions and conjectures.**"
   ]
  },
  {
   "cell_type": "code",
   "execution_count": 16,
   "metadata": {},
   "outputs": [
    {
     "data": {
      "image/png": "[encoded data removed]",
      "text/plain": [
       "<Figure size 648x432 with 1 Axes>"
      ]
     },
     "metadata": {
      "needs_background": "light"
     },
     "output_type": "display_data"
    }
   ],
   "source": [
    "cumulativeRevenueA = cumulativeData[cumulativeData['group']=='A'][['date','revenue', 'orders']]\n",
    "cumulativeRevenueB = cumulativeData[cumulativeData['group']=='B'][['date','revenue', 'orders']]\n",
    "\n",
    "plt.figure(figsize=(9,6))\n",
    "plt.plot(cumulativeRevenueA['date'], cumulativeRevenueA['revenue'], label='A')\n",
    "plt.plot(cumulativeRevenueB['date'], cumulativeRevenueB['revenue'], label='B')\n",
    "plt.xticks(rotation=45)\n",
    "plt.title('Cumulative Revenue')\n",
    "plt.xlabel('date')\n",
    "plt.ylabel('cumulative revenue $')\n",
    "plt.legend(); "
   ]
  },
  {
   "cell_type": "markdown",
   "metadata": {},
   "source": [
    "Revenue is rising steadily throughout the whole test. At the first two weeks the groups act the same but afterwards group B's cumulative revenue is much higher than A's. Maybe there are very expensive orders in the sample of group B, we'll check it later."
   ]
  },
  {
   "cell_type": "markdown",
   "metadata": {},
   "source": [
    "- **Graph cumulative average order size by group. Make conclusions and conjectures.**"
   ]
  },
  {
   "cell_type": "code",
   "execution_count": 17,
   "metadata": {},
   "outputs": [
    {
     "data": {
      "image/png": "[encoded data removed]",
      "text/plain": [
       "<Figure size 648x432 with 1 Axes>"
      ]
     },
     "metadata": {
      "needs_background": "light"
     },
     "output_type": "display_data"
    }
   ],
   "source": [
    "plt.figure(figsize=(9,6))\n",
    "#calculate and plot the average order size by group\n",
    "plt.plot(cumulativeRevenueA['date'], cumulativeRevenueA['revenue']/cumulativeRevenueA['orders'], label='A')\n",
    "plt.plot(cumulativeRevenueB['date'], cumulativeRevenueB['revenue']/cumulativeRevenueB['orders'], label='B')\n",
    "plt.xticks(rotation=45)\n",
    "plt.title('Cumulative average order size')\n",
    "plt.xlabel('date')\n",
    "plt.ylabel('cumulative average order size')\n",
    "plt.legend();"
   ]
  },
  {
   "cell_type": "markdown",
   "metadata": {},
   "source": [
    "For group A, first the average purchase size drops in the first days and than grows and becomes steady by the middle of the test. For group B there are a lot of changes. In general we can say that till the 2019-08-19 there is a growth and then it starts to drop. This extreme jump in group B at 2019-08-19 is probably due to expensive orders."
   ]
  },
  {
   "cell_type": "markdown",
   "metadata": {},
   "source": [
    "- **Graph the relative difference in cumulative average order size for group B compared with group A. Make conclusions and conjectures.**"
   ]
  },
  {
   "cell_type": "code",
   "execution_count": 18,
   "metadata": {},
   "outputs": [
    {
     "data": {
      "image/png": "[encoded data removed]",
      "text/plain": [
       "<Figure size 648x432 with 1 Axes>"
      ]
     },
     "metadata": {
      "needs_background": "light"
     },
     "output_type": "display_data"
    }
   ],
   "source": [
    "mergedCumulativeRevenue = cumulativeRevenueA.merge(\n",
    "    cumulativeRevenueB, left_on='date', right_on='date', how='left', suffixes=['A', 'B'])\n",
    "\n",
    "plt.figure(figsize=(9,6))\n",
    "plt.plot(\n",
    "    mergedCumulativeRevenue['date'], \n",
    "    (mergedCumulativeRevenue['revenueB']/mergedCumulativeRevenue['ordersB'])/(mergedCumulativeRevenue['revenueA']/mergedCumulativeRevenue['ordersA'])-1)\n",
    "\n",
    "# adding the X axis\n",
    "plt.axhline(y=0, color='black', linestyle='--')\n",
    "plt.xticks(rotation=45)\n",
    "plt.title('Relative difference in cumulative average order size')\n",
    "plt.xlabel('date')\n",
    "plt.ylabel('relative difference'); "
   ]
  },
  {
   "cell_type": "markdown",
   "metadata": {},
   "source": [
    "We see that the relative difference in cumulative average order size spikes at several points. This means there must be some big orders and outliers."
   ]
  },
  {
   "cell_type": "markdown",
   "metadata": {},
   "source": [
    "- **Calculate each group's conversion rate as the ratio of orders to the number of visits for each day. Plot the daily conversion rates of the two groups and describe the difference. Draw conclusions and make conjectures.**"
   ]
  },
  {
   "cell_type": "code",
   "execution_count": 19,
   "metadata": {},
   "outputs": [
    {
     "data": {
      "image/png": "[encoded data removed]",
      "text/plain": [
       "<Figure size 648x432 with 1 Axes>"
      ]
     },
     "metadata": {
      "needs_background": "light"
     },
     "output_type": "display_data"
    }
   ],
   "source": [
    "cumulativeData['conversion'] = cumulativeData['orders']/cumulativeData['visitors']\n",
    "cumulativeDataA = cumulativeData[cumulativeData['group']=='A']\n",
    "cumulativeDataB = cumulativeData[cumulativeData['group']=='B']\n",
    "\n",
    "plt.figure(figsize=(9,6))\n",
    "plt.plot(cumulativeDataA['date'], cumulativeDataA['conversion']*100, label='A')\n",
    "plt.plot(cumulativeDataB['date'], cumulativeDataB['conversion']*100, label='B')\n",
    "plt.legend()\n",
    "plt.xticks(rotation=45)\n",
    "plt.title('Conversion Rate')\n",
    "plt.xlabel('date')\n",
    "plt.ylabel('conversion rate %');"
   ]
  },
  {
   "cell_type": "markdown",
   "metadata": {},
   "source": [
    "The groups were fluctuating around different value. Group A's conversion rate dropped but then stabilized around 2.5%, and group B's rose and dropped and then rose again before stabilizing on 3%."
   ]
  },
  {
   "cell_type": "code",
   "execution_count": 20,
   "metadata": {},
   "outputs": [
    {
     "data": {
      "image/png": "[encoded data removed]",
      "text/plain": [
       "<Figure size 648x432 with 1 Axes>"
      ]
     },
     "metadata": {
      "needs_background": "light"
     },
     "output_type": "display_data"
    }
   ],
   "source": [
    "mergedCumulativeConversions = cumulativeDataA[['date','conversion']].merge(cumulativeDataB[['date','conversion']], left_on='date', right_on='date', how='left', suffixes=['A', 'B'])\n",
    "\n",
    "plt.figure(figsize=(9,6))\n",
    "plt.plot(mergedCumulativeConversions['date'], mergedCumulativeConversions['conversionB']/mergedCumulativeConversions['conversionA']-1)\n",
    "\n",
    "plt.axhline(y=0, color='black', linestyle='--')\n",
    "plt.xticks(rotation=45)\n",
    "plt.title('Relative gain in conversion in group B as opposed to group A')\n",
    "plt.xlabel('date')\n",
    "plt.ylabel('relative gain in conversion');"
   ]
  },
  {
   "cell_type": "markdown",
   "metadata": {},
   "source": [
    "As we can see, at the beginning, group B's relative gain in conversion is negative, which means that group A's had a larger conversion rate, but then the relative gain stabilized."
   ]
  },
  {
   "cell_type": "markdown",
   "metadata": {},
   "source": [
    "- **Plot a scatter chart of the number of orders per user. Make conclusions and conjectures.**"
   ]
  },
  {
   "cell_type": "code",
   "execution_count": 21,
   "metadata": {},
   "outputs": [
    {
     "data": {
      "image/png": "[encoded data removed]",
      "text/plain": [
       "<Figure size 648x432 with 1 Axes>"
      ]
     },
     "metadata": {
      "needs_background": "light"
     },
     "output_type": "display_data"
    }
   ],
   "source": [
    "ordersByUsers = (\n",
    "    orders.drop(['group', 'revenue', 'date'], axis=1)\n",
    "    .groupby('visitorId', as_index=False)\n",
    "    .agg({'transactionId': pd.Series.nunique})\n",
    ")\n",
    "\n",
    "ordersByUsers.columns = ['userId', 'orders']\n",
    "x_values = pd.Series(range(0,len(ordersByUsers)))\n",
    "\n",
    "plt.figure(figsize=(9,6))\n",
    "plt.scatter(x_values, ordersByUsers['orders'])\n",
    "plt.title('Number of orders per user')\n",
    "plt.xlabel('user')\n",
    "plt.ylabel('Number of orders'); "
   ]
  },
  {
   "cell_type": "markdown",
   "metadata": {},
   "source": [
    "Most of the users order only once during this month. Only a tiny share buys more than that, and the max number of orders per user is 3."
   ]
  },
  {
   "cell_type": "markdown",
   "metadata": {},
   "source": [
    "- **Calculate the 95th and 99th percentiles for the number of orders per user. Define the point at which a data point becomes an anomaly.**"
   ]
  },
  {
   "cell_type": "code",
   "execution_count": 22,
   "metadata": {},
   "outputs": [
    {
     "name": "stdout",
     "output_type": "stream",
     "text": [
      "[1. 1. 2.]\n"
     ]
    }
   ],
   "source": [
    "print(np.percentile(ordersByUsers['orders'], [90, 95, 99]))"
   ]
  },
  {
   "cell_type": "markdown",
   "metadata": {},
   "source": [
    "Not more than 5% of the users ordered more than once. Thus, it would be reasonable to consider that more than one order per user is an anomaly."
   ]
  },
  {
   "cell_type": "markdown",
   "metadata": {},
   "source": [
    "- **Plot a scatter chart of order prices. Make conclusions and conjectures.**"
   ]
  },
  {
   "cell_type": "code",
   "execution_count": 23,
   "metadata": {},
   "outputs": [
    {
     "data": {
      "image/png": "[encoded data removed]",
      "text/plain": [
       "<Figure size 648x432 with 1 Axes>"
      ]
     },
     "metadata": {
      "needs_background": "light"
     },
     "output_type": "display_data"
    }
   ],
   "source": [
    "x_values = pd.Series(range(0,len(orders['revenue'])))\n",
    "plt.figure(figsize=(9,6))\n",
    "plt.scatter(x_values, orders['revenue'])\n",
    "plt.title('Order prices')\n",
    "plt.xlabel('order')\n",
    "plt.ylabel('price $'); "
   ]
  },
  {
   "cell_type": "markdown",
   "metadata": {},
   "source": [
    "There are two extremely big orders, probably those who caused the differences between the groups. Based on the graph, we can set the limit for abnormal orders around \\\\$1,000 but we'll check the exact value on the next step."
   ]
  },
  {
   "cell_type": "markdown",
   "metadata": {},
   "source": [
    "- **Calculate the 95th and 99th percentiles of order prices. Define the point at which a data point becomes an anomaly.**"
   ]
  },
  {
   "cell_type": "code",
   "execution_count": 24,
   "metadata": {},
   "outputs": [
    {
     "name": "stdout",
     "output_type": "stream",
     "text": [
      "[280.8   414.275 830.3  ]\n"
     ]
    }
   ],
   "source": [
    "print(np.percentile(orders['revenue'], [90, 95, 99]))"
   ]
  },
  {
   "cell_type": "markdown",
   "metadata": {},
   "source": [
    "Not more than 5% of the orderes are more than \\\\$414.275. Thus, it would be reasonable to consider orders more than \\\\$415 as an anomaly."
   ]
  },
  {
   "cell_type": "markdown",
   "metadata": {},
   "source": [
    "- **Find the statistical significance of the difference in conversion between the groups using the raw data. Make conclusions and conjectures.**"
   ]
  },
  {
   "cell_type": "markdown",
   "metadata": {},
   "source": [
    "For the first hypothesis we'll define the null hypothesis and the alternative hepothesis as follow:\n",
    "- $H_0$ : $\\mu$(`conversion` of group A) = $\\mu$(`conversion` of group B)  \n",
    "- $H_a$ : $\\mu$(`conversion` of group A) != $\\mu$(`conversion` of group B)  \n",
    "\n",
    "First we will check if our distribution is normal with Shapiro-Wilk test for normality and than we'll decide which test to choose. The hypothesis for the Shapiro-Wilk are as follow:\n",
    "- $H_0$ : the data has a normal distribution\n",
    "- $H_a$ : the data doesn't have a normal distribution"
   ]
  },
  {
   "cell_type": "code",
   "execution_count": 25,
   "metadata": {},
   "outputs": [
    {
     "data": {
      "text/plain": [
       "(0.13264614343643188, 0.0)"
      ]
     },
     "metadata": {},
     "output_type": "display_data"
    },
    {
     "data": {
      "text/plain": [
       "(0.15058749914169312, 0.0)"
      ]
     },
     "metadata": {},
     "output_type": "display_data"
    }
   ],
   "source": [
    "ordersByUsersA = orders[orders['group']=='A'].groupby('visitorId', as_index=False).agg({'transactionId' : pd.Series.nunique})\n",
    "ordersByUsersA.columns = ['userId', 'orders']\n",
    "ordersByUsersB = orders[orders['group']=='B'].groupby('visitorId', as_index=False).agg({'transactionId' : pd.Series.nunique})\n",
    "ordersByUsersB.columns = ['userId', 'orders']\n",
    "\n",
    "sampleA = pd.concat([ordersByUsersA['orders'],pd.Series(0, index=np.arange(visits[visits['group']=='A']['visits'].sum() - len(ordersByUsersA['orders'])), name='orders')],axis=0)\n",
    "sampleB = pd.concat([ordersByUsersB['orders'],pd.Series(0, index=np.arange(visits[visits['group']=='B']['visits'].sum() - len(ordersByUsersB['orders'])), name='orders')],axis=0) \n",
    "\n",
    "#first we'll check for normality\n",
    "display(st.shapiro(sampleA), st.shapiro(sampleB))"
   ]
  },
  {
   "cell_type": "markdown",
   "metadata": {},
   "source": [
    "As we can see, the distribution is not normal so we need to use the mann-whitneyu method."
   ]
  },
  {
   "cell_type": "code",
   "execution_count": 26,
   "metadata": {},
   "outputs": [
    {
     "name": "stdout",
     "output_type": "stream",
     "text": [
      "p-value: 0.00551\n",
      "Group B's relative gain in conversion: 0.160\n"
     ]
    }
   ],
   "source": [
    "print(\"p-value: {0:.5f}\".format(st.mannwhitneyu(sampleA, sampleB)[1]))\n",
    "print(\"Group B's relative gain in conversion: {0:.3f}\".format(sampleB.mean()/sampleA.mean()-1)) "
   ]
  },
  {
   "cell_type": "markdown",
   "metadata": {},
   "source": [
    "Based on the results we can say that the conversion rates differs between the groups and the relative gained coversion of group B is positive."
   ]
  },
  {
   "cell_type": "markdown",
   "metadata": {},
   "source": [
    "- **Find the statistical significance of the difference in average order size between the groups using the raw data. Make conclusions and conjectures.**"
   ]
  },
  {
   "cell_type": "markdown",
   "metadata": {},
   "source": [
    "For the first hypothesis we'll define the null hypothesis and the alternative hepothesis as follow:\n",
    "- $H_0$ : $\\mu$(`average order size` of group A) = $\\mu$(`average order size` of group B)  \n",
    "- $H_a$ : $\\mu$(`average order size` of group A) != $\\mu$(`average order size` of group B)  \n",
    "\n",
    "First we will check if our distribution is normal with Shapiro-Wilk test for normality and than we'll decide which test to choose. The hypothesis for the Shapiro-Wilk are as follow:\n",
    "- $H_0$ : the data has a normal distribution\n",
    "- $H_a$ : the data doesn't have a normal distribution"
   ]
  },
  {
   "cell_type": "code",
   "execution_count": 27,
   "metadata": {},
   "outputs": [
    {
     "data": {
      "text/plain": [
       "(0.6051600575447083, 2.7709587438572045e-31)"
      ]
     },
     "metadata": {},
     "output_type": "display_data"
    },
    {
     "data": {
      "text/plain": [
       "(0.08029580116271973, 4.203895392974451e-45)"
      ]
     },
     "metadata": {},
     "output_type": "display_data"
    }
   ],
   "source": [
    "sampleA = orders[orders['group']=='A']['revenue']\n",
    "sampleB = orders[orders['group']=='B']['revenue']\n",
    "#first we'll check for normality\n",
    "display(st.shapiro(sampleA), st.shapiro(sampleB))"
   ]
  },
  {
   "cell_type": "markdown",
   "metadata": {},
   "source": [
    "As we can see, the distribution is not normal so we need to use the mann-whitneyu method."
   ]
  },
  {
   "cell_type": "code",
   "execution_count": 28,
   "metadata": {},
   "outputs": [
    {
     "name": "stdout",
     "output_type": "stream",
     "text": [
      "p-value: 0.431\n",
      "Group B's relative gain in average order size: 0.278\n"
     ]
    }
   ],
   "source": [
    "print('p-value: {0:.3f}'.format(st.mannwhitneyu(sampleA, sampleB)[1]))\n",
    "print(\"Group B's relative gain in average order size: {0:.3f}\".format(sampleB.mean()/sampleA.mean()-1))"
   ]
  },
  {
   "cell_type": "markdown",
   "metadata": {},
   "source": [
    "Based on the results, there isn't a statistical significance of the difference between groups A and B in terms of average order size, although the relative gained average order size of group B is positive."
   ]
  },
  {
   "cell_type": "markdown",
   "metadata": {},
   "source": [
    "- **Find the statistical significance of the difference in conversion between the groups using the filtered data. Make conclusions and conjectures.**"
   ]
  },
  {
   "cell_type": "markdown",
   "metadata": {},
   "source": [
    "First we will filter the data and then check the differences of the filtered data."
   ]
  },
  {
   "cell_type": "code",
   "execution_count": 29,
   "metadata": {},
   "outputs": [
    {
     "name": "stdout",
     "output_type": "stream",
     "text": [
      "568     113298937\n",
      "1099    148427295\n",
      "928     204675465\n",
      "33      249864742\n",
      "684     358944393\n",
      "dtype: int64\n",
      "The number of abnormal users:  86\n"
     ]
    }
   ],
   "source": [
    "ordersByUsersA = (\n",
    "    orders[orders['group'] == 'A']\n",
    "    .groupby('visitorId', as_index=False)\n",
    "    .agg({'transactionId': pd.Series.nunique})\n",
    ")\n",
    "ordersByUsersA.columns = ['userId', 'orders']\n",
    "\n",
    "ordersByUsersB = (\n",
    "    orders[orders['group'] == 'B']\n",
    "    .groupby('visitorId', as_index=False)\n",
    "    .agg({'transactionId': pd.Series.nunique})\n",
    ")\n",
    "ordersByUsersB.columns = ['userId', 'orders']\n",
    "\n",
    "usersWithManyOrders = pd.concat([ordersByUsersA[ordersByUsersA['orders'] > 1]['userId'], ordersByUsersB[ordersByUsersB['orders'] > 1]['userId']], axis = 0)\n",
    "usersWithExpensiveOrders = orders[orders['revenue'] > 415]['visitorId']\n",
    "abnormalUsers = pd.concat([usersWithManyOrders, usersWithExpensiveOrders], axis = 0).drop_duplicates().sort_values()\n",
    "\n",
    "print(abnormalUsers.head())\n",
    "print('The number of abnormal users: ', len(abnormalUsers))"
   ]
  },
  {
   "cell_type": "code",
   "execution_count": 30,
   "metadata": {},
   "outputs": [
    {
     "data": {
      "text/plain": [
       "(0.12683314085006714, 0.0)"
      ]
     },
     "metadata": {},
     "output_type": "display_data"
    },
    {
     "data": {
      "text/plain": [
       "(0.14204901456832886, 0.0)"
      ]
     },
     "metadata": {},
     "output_type": "display_data"
    }
   ],
   "source": [
    "sampleAFiltered = pd.concat(\n",
    "    [ordersByUsersA[np.logical_not(ordersByUsersA['userId'].isin(abnormalUsers))]['orders'],\n",
    "     pd.Series(0, index=np.arange(visits[visits['group']=='A']['visits'].sum() - len(ordersByUsersA['orders'])),name='orders')]\n",
    "    ,axis=0)\n",
    "sampleBFiltered = pd.concat(\n",
    "    [ordersByUsersB[np.logical_not(ordersByUsersB['userId'].isin(abnormalUsers))]['orders'],\n",
    "     pd.Series(0, index=np.arange(visits[visits['group']=='B']['visits'].sum() - len(ordersByUsersB['orders'])),name='orders')]\n",
    "    ,axis=0) \n",
    "\n",
    "#first we'll check for normality\n",
    "display(st.shapiro(sampleAFiltered), st.shapiro(sampleBFiltered))"
   ]
  },
  {
   "cell_type": "markdown",
   "metadata": {},
   "source": [
    "As we can see, the distribution is not normal so we need to use the mann-whitneyu method."
   ]
  },
  {
   "cell_type": "code",
   "execution_count": 31,
   "metadata": {},
   "outputs": [
    {
     "name": "stdout",
     "output_type": "stream",
     "text": [
      "p-value: 0.00797\n",
      "Group B's relative gain in conversion: 0.174\n"
     ]
    }
   ],
   "source": [
    "print(\"p-value: {0:.5f}\".format(st.mannwhitneyu(sampleAFiltered, sampleBFiltered)[1]))\n",
    "print(\"Group B's relative gain in conversion: {0:.3f}\".format(sampleBFiltered.mean()/sampleAFiltered.mean()-1)) "
   ]
  },
  {
   "cell_type": "markdown",
   "metadata": {},
   "source": [
    "Based on the results we can say that the conversion rates differs between the groups and the relative gained coversion of group B is positive."
   ]
  },
  {
   "cell_type": "markdown",
   "metadata": {},
   "source": [
    "- **Find the statistical significance of the difference in average order size between the groups using the filtered data. Make conclusions and conjectures.**"
   ]
  },
  {
   "cell_type": "code",
   "execution_count": 32,
   "metadata": {},
   "outputs": [
    {
     "data": {
      "text/plain": [
       "(0.7915213704109192, 1.9246829051796534e-22)"
      ]
     },
     "metadata": {},
     "output_type": "display_data"
    },
    {
     "data": {
      "text/plain": [
       "(0.7629193067550659, 9.619500533352445e-26)"
      ]
     },
     "metadata": {},
     "output_type": "display_data"
    }
   ],
   "source": [
    "sampleAFiltered = orders[np.logical_and(orders['group']=='A', np.logical_not(orders['visitorId'].isin(abnormalUsers)))]['revenue']\n",
    "sampleBFiltered = orders[np.logical_and(orders['group']=='B', np.logical_not(orders['visitorId'].isin(abnormalUsers)))]['revenue']\n",
    "\n",
    "#first we'll check for normality\n",
    "display(st.shapiro(sampleAFiltered), st.shapiro(sampleBFiltered))"
   ]
  },
  {
   "cell_type": "markdown",
   "metadata": {},
   "source": [
    "As we can see, the distribution is not normal so we need to use the mann-whitneyu method."
   ]
  },
  {
   "cell_type": "code",
   "execution_count": 33,
   "metadata": {},
   "outputs": [
    {
     "name": "stdout",
     "output_type": "stream",
     "text": [
      "p-value: 0.38559\n",
      "Group B's relative gain in average order size: -0.033\n"
     ]
    }
   ],
   "source": [
    "print('p-value: {0:.5f}'.format(st.mannwhitneyu(sampleAFiltered, sampleBFiltered)[1]))\n",
    "print(\"Group B's relative gain in average order size: {0:.3f}\".format(sampleBFiltered.mean()/sampleAFiltered.mean()-1))"
   ]
  },
  {
   "cell_type": "markdown",
   "metadata": {},
   "source": [
    "Based on the filtered results we can say that there's no statistical significance of the difference in average order size between the groups, although the relative gained average order size of group B is negative, which means that in average, the gain in average order size is larger for group A than B."
   ]
  },
  {
   "cell_type": "markdown",
   "metadata": {},
   "source": [
    "- **Make a decision based on the test results. The possible decisions are: 1. Stop the test, consider one of the groups the leader. 2. Stop the test, conclude that there is no difference between the groups. 3. Continue the test.**"
   ]
  },
  {
   "cell_type": "markdown",
   "metadata": {},
   "source": [
    "In general, the data we got was of a good quality. We didn't have missing values or duplicates, but we had a problem with some users that appeared in both of the groups and we need to investigate why it happend.\n",
    "Also we had some anomalies in the data in terms of number of orders per users and the order sizes. The order size had two very extreme values and we need to see if this an anomaly or an error while gathering the data.\n",
    "We tested our hypothesis twice, with the raw data and with the filtered one.\n",
    "\n",
    "From the filtered data we learn that the conversion rates differs between the groups and the relative gained coversion of group B is higher, which means that on average, the gained conversion rate of group B is higher.\n",
    "Also we can say that there's no statistical significance of the difference in average order size between the groups, although the relative gained average order size of group B is negative, which means that in average, the gain in average order size is a bit larger for group A than B. So in general we can say that the conversion rate is better in group B and the average order size is a bit better for group A. \n",
    "We think it's is possible to improve the average order size of group B and in terms of conversion rate it is successfull, so we stop the test and consider group B as the leader!"
   ]
  }
 ],
 "metadata": {
  "ExecuteTimeLog": [
   {
    "duration": 93,
    "start_time": "2021-08-18T07:56:31.999Z"
   },
   {
    "duration": 1454,
    "start_time": "2021-08-18T08:10:11.559Z"
   },
   {
    "duration": 9,
    "start_time": "2021-08-18T08:10:13.015Z"
   },
   {
    "duration": 6,
    "start_time": "2021-08-18T08:10:13.026Z"
   },
   {
    "duration": 23,
    "start_time": "2021-08-18T08:10:13.034Z"
   },
   {
    "duration": 7,
    "start_time": "2021-08-18T08:10:13.059Z"
   },
   {
    "duration": 7,
    "start_time": "2021-08-18T08:10:13.068Z"
   },
   {
    "duration": 226,
    "start_time": "2021-08-18T08:10:13.076Z"
   },
   {
    "duration": 11,
    "start_time": "2021-08-18T08:10:13.304Z"
   },
   {
    "duration": 8,
    "start_time": "2021-08-18T08:10:13.318Z"
   },
   {
    "duration": 29,
    "start_time": "2021-08-18T08:10:13.328Z"
   },
   {
    "duration": 7,
    "start_time": "2021-08-18T08:10:13.358Z"
   },
   {
    "duration": 25,
    "start_time": "2021-08-18T08:10:13.366Z"
   },
   {
    "duration": 11,
    "start_time": "2021-08-18T08:10:13.393Z"
   },
   {
    "duration": 397,
    "start_time": "2021-08-18T08:10:13.406Z"
   },
   {
    "duration": 234,
    "start_time": "2021-08-18T08:10:13.805Z"
   },
   {
    "duration": 221,
    "start_time": "2021-08-18T08:10:14.040Z"
   },
   {
    "duration": 346,
    "start_time": "2021-08-18T08:10:14.262Z"
   },
   {
    "duration": 221,
    "start_time": "2021-08-18T08:10:14.609Z"
   },
   {
    "duration": 299,
    "start_time": "2021-08-18T08:10:14.832Z"
   },
   {
    "duration": 382,
    "start_time": "2021-08-18T08:10:15.133Z"
   },
   {
    "duration": 4,
    "start_time": "2021-08-18T08:10:15.517Z"
   },
   {
    "duration": 299,
    "start_time": "2021-08-18T08:10:15.522Z"
   },
   {
    "duration": 5,
    "start_time": "2021-08-18T08:10:15.823Z"
   },
   {
    "duration": 113,
    "start_time": "2021-08-18T08:10:15.830Z"
   },
   {
    "duration": 7,
    "start_time": "2021-08-18T08:10:15.944Z"
   },
   {
    "duration": 7,
    "start_time": "2021-08-18T08:10:15.953Z"
   },
   {
    "duration": 4,
    "start_time": "2021-08-18T08:10:15.963Z"
   },
   {
    "duration": 115,
    "start_time": "2021-08-18T08:10:15.992Z"
   },
   {
    "duration": 13,
    "start_time": "2021-08-18T08:10:16.109Z"
   },
   {
    "duration": 8,
    "start_time": "2021-08-18T08:10:16.123Z"
   },
   {
    "duration": 10,
    "start_time": "2021-08-18T08:10:16.133Z"
   },
   {
    "duration": 6,
    "start_time": "2021-08-18T08:10:16.144Z"
   },
   {
    "duration": 3,
    "start_time": "2021-08-18T12:51:53.990Z"
   },
   {
    "duration": 262,
    "start_time": "2021-08-18T12:51:54.352Z"
   },
   {
    "duration": 1517,
    "start_time": "2021-08-18T13:19:01.905Z"
   },
   {
    "duration": 17,
    "start_time": "2021-08-18T13:19:03.425Z"
   },
   {
    "duration": 26,
    "start_time": "2021-08-18T13:19:03.445Z"
   },
   {
    "duration": 30,
    "start_time": "2021-08-18T13:19:03.474Z"
   },
   {
    "duration": 31,
    "start_time": "2021-08-18T13:19:03.506Z"
   },
   {
    "duration": 32,
    "start_time": "2021-08-18T13:19:03.539Z"
   },
   {
    "duration": 284,
    "start_time": "2021-08-18T13:19:03.574Z"
   },
   {
    "duration": 21,
    "start_time": "2021-08-18T13:19:03.861Z"
   },
   {
    "duration": 26,
    "start_time": "2021-08-18T13:19:03.885Z"
   },
   {
    "duration": 65,
    "start_time": "2021-08-18T13:19:03.913Z"
   },
   {
    "duration": 12,
    "start_time": "2021-08-18T13:19:03.981Z"
   },
   {
    "duration": 34,
    "start_time": "2021-08-18T13:19:03.997Z"
   },
   {
    "duration": 38,
    "start_time": "2021-08-18T13:19:04.033Z"
   },
   {
    "duration": 936,
    "start_time": "2021-08-18T13:19:04.074Z"
   },
   {
    "duration": 5,
    "start_time": "2021-08-18T13:19:05.013Z"
   },
   {
    "duration": 603,
    "start_time": "2021-08-18T13:19:05.021Z"
   },
   {
    "duration": 555,
    "start_time": "2021-08-18T13:19:05.627Z"
   },
   {
    "duration": 545,
    "start_time": "2021-08-18T13:19:06.185Z"
   },
   {
    "duration": 421,
    "start_time": "2021-08-18T13:19:06.732Z"
   },
   {
    "duration": 473,
    "start_time": "2021-08-18T13:19:07.156Z"
   },
   {
    "duration": 683,
    "start_time": "2021-08-18T13:19:07.632Z"
   },
   {
    "duration": 6,
    "start_time": "2021-08-18T13:19:08.318Z"
   },
   {
    "duration": 478,
    "start_time": "2021-08-18T13:19:08.329Z"
   },
   {
    "duration": 5,
    "start_time": "2021-08-18T13:19:08.811Z"
   },
   {
    "duration": 223,
    "start_time": "2021-08-18T13:19:08.820Z"
   },
   {
    "duration": 22,
    "start_time": "2021-08-18T13:19:09.047Z"
   },
   {
    "duration": 37,
    "start_time": "2021-08-18T13:19:09.071Z"
   },
   {
    "duration": 17,
    "start_time": "2021-08-18T13:19:09.110Z"
   },
   {
    "duration": 244,
    "start_time": "2021-08-18T13:19:09.129Z"
   },
   {
    "duration": 20,
    "start_time": "2021-08-18T13:19:09.375Z"
   },
   {
    "duration": 23,
    "start_time": "2021-08-18T13:19:09.397Z"
   },
   {
    "duration": 31,
    "start_time": "2021-08-18T13:19:09.422Z"
   },
   {
    "duration": 25,
    "start_time": "2021-08-18T13:19:09.462Z"
   },
   {
    "duration": 1892,
    "start_time": "2021-08-18T13:37:24.464Z"
   },
   {
    "duration": 15,
    "start_time": "2021-08-18T13:37:26.359Z"
   },
   {
    "duration": 5,
    "start_time": "2021-08-18T13:37:26.377Z"
   },
   {
    "duration": 40,
    "start_time": "2021-08-18T13:37:26.385Z"
   },
   {
    "duration": 14,
    "start_time": "2021-08-18T13:37:26.427Z"
   },
   {
    "duration": 10,
    "start_time": "2021-08-18T13:37:26.444Z"
   },
   {
    "duration": 319,
    "start_time": "2021-08-18T13:37:26.457Z"
   },
   {
    "duration": 22,
    "start_time": "2021-08-18T13:37:26.780Z"
   },
   {
    "duration": 14,
    "start_time": "2021-08-18T13:37:26.805Z"
   },
   {
    "duration": 52,
    "start_time": "2021-08-18T13:37:26.822Z"
   },
   {
    "duration": 10,
    "start_time": "2021-08-18T13:37:26.877Z"
   },
   {
    "duration": 10,
    "start_time": "2021-08-18T13:37:26.890Z"
   },
   {
    "duration": 66,
    "start_time": "2021-08-18T13:37:26.903Z"
   },
   {
    "duration": 821,
    "start_time": "2021-08-18T13:37:26.971Z"
   },
   {
    "duration": 4,
    "start_time": "2021-08-18T13:37:27.794Z"
   },
   {
    "duration": 440,
    "start_time": "2021-08-18T13:37:27.800Z"
   },
   {
    "duration": 402,
    "start_time": "2021-08-18T13:37:28.243Z"
   },
   {
    "duration": 481,
    "start_time": "2021-08-18T13:37:28.647Z"
   },
   {
    "duration": 422,
    "start_time": "2021-08-18T13:37:29.130Z"
   },
   {
    "duration": 478,
    "start_time": "2021-08-18T13:37:29.562Z"
   },
   {
    "duration": 689,
    "start_time": "2021-08-18T13:37:30.042Z"
   },
   {
    "duration": 7,
    "start_time": "2021-08-18T13:37:30.734Z"
   },
   {
    "duration": 475,
    "start_time": "2021-08-18T13:37:30.746Z"
   },
   {
    "duration": 6,
    "start_time": "2021-08-18T13:37:31.224Z"
   },
   {
    "duration": 248,
    "start_time": "2021-08-18T13:37:31.233Z"
   },
   {
    "duration": 11,
    "start_time": "2021-08-18T13:37:31.483Z"
   },
   {
    "duration": 20,
    "start_time": "2021-08-18T13:37:31.497Z"
   },
   {
    "duration": 26,
    "start_time": "2021-08-18T13:37:31.519Z"
   },
   {
    "duration": 253,
    "start_time": "2021-08-18T13:37:31.563Z"
   },
   {
    "duration": 43,
    "start_time": "2021-08-18T13:37:31.819Z"
   },
   {
    "duration": 9,
    "start_time": "2021-08-18T13:37:31.865Z"
   },
   {
    "duration": 22,
    "start_time": "2021-08-18T13:37:31.876Z"
   },
   {
    "duration": 7,
    "start_time": "2021-08-18T13:37:31.901Z"
   },
   {
    "duration": 1617,
    "start_time": "2021-08-19T14:32:33.282Z"
   },
   {
    "duration": 16,
    "start_time": "2021-08-19T14:32:34.901Z"
   },
   {
    "duration": 5,
    "start_time": "2021-08-19T14:32:34.920Z"
   },
   {
    "duration": 22,
    "start_time": "2021-08-19T14:32:34.929Z"
   },
   {
    "duration": 13,
    "start_time": "2021-08-19T14:32:34.953Z"
   },
   {
    "duration": 24,
    "start_time": "2021-08-19T14:32:34.968Z"
   },
   {
    "duration": 274,
    "start_time": "2021-08-19T14:32:34.995Z"
   },
   {
    "duration": 20,
    "start_time": "2021-08-19T14:32:35.273Z"
   },
   {
    "duration": 18,
    "start_time": "2021-08-19T14:32:35.296Z"
   },
   {
    "duration": 72,
    "start_time": "2021-08-19T14:32:35.317Z"
   },
   {
    "duration": 10,
    "start_time": "2021-08-19T14:32:35.392Z"
   },
   {
    "duration": 20,
    "start_time": "2021-08-19T14:32:35.404Z"
   },
   {
    "duration": 22,
    "start_time": "2021-08-19T14:32:35.426Z"
   },
   {
    "duration": 627,
    "start_time": "2021-08-19T14:32:35.451Z"
   },
   {
    "duration": 8,
    "start_time": "2021-08-19T14:32:36.080Z"
   },
   {
    "duration": 415,
    "start_time": "2021-08-19T14:32:36.090Z"
   },
   {
    "duration": 397,
    "start_time": "2021-08-19T14:32:36.508Z"
   },
   {
    "duration": 455,
    "start_time": "2021-08-19T14:32:36.908Z"
   },
   {
    "duration": 392,
    "start_time": "2021-08-19T14:32:37.365Z"
   },
   {
    "duration": 495,
    "start_time": "2021-08-19T14:32:37.759Z"
   },
   {
    "duration": 586,
    "start_time": "2021-08-19T14:32:38.257Z"
   },
   {
    "duration": 5,
    "start_time": "2021-08-19T14:32:38.846Z"
   },
   {
    "duration": 472,
    "start_time": "2021-08-19T14:32:38.855Z"
   },
   {
    "duration": 6,
    "start_time": "2021-08-19T14:32:39.330Z"
   },
   {
    "duration": 207,
    "start_time": "2021-08-19T14:32:39.339Z"
   },
   {
    "duration": 12,
    "start_time": "2021-08-19T14:32:39.548Z"
   },
   {
    "duration": 29,
    "start_time": "2021-08-19T14:32:39.562Z"
   },
   {
    "duration": 7,
    "start_time": "2021-08-19T14:32:39.594Z"
   },
   {
    "duration": 240,
    "start_time": "2021-08-19T14:32:39.603Z"
   },
   {
    "duration": 17,
    "start_time": "2021-08-19T14:32:39.845Z"
   },
   {
    "duration": 10,
    "start_time": "2021-08-19T14:32:39.885Z"
   },
   {
    "duration": 14,
    "start_time": "2021-08-19T14:32:39.897Z"
   },
   {
    "duration": 9,
    "start_time": "2021-08-19T14:32:39.913Z"
   }
  ],
  "kernelspec": {
   "display_name": "Python 3",
   "language": "python",
   "name": "python3"
  },
  "language_info": {
   "codemirror_mode": {
    "name": "ipython",
    "version": 3
   },
   "file_extension": ".py",
   "mimetype": "text/x-python",
   "name": "python",
   "nbconvert_exporter": "python",
   "pygments_lexer": "ipython3",
   "version": "3.8.5"
  },
  "toc": {
   "base_numbering": 1,
   "nav_menu": {},
   "number_sections": true,
   "sideBar": true,
   "skip_h1_title": true,
   "title_cell": "Table of Contents",
   "title_sidebar": "Contents",
   "toc_cell": false,
   "toc_position": {},
   "toc_section_display": true,
   "toc_window_display": false
  }
 },
 "nbformat": 4,
 "nbformat_minor": 4
}
