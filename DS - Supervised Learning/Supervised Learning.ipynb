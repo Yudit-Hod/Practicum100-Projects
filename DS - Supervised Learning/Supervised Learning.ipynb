{
 "cells": [
  {
   "cell_type": "markdown",
   "metadata": {},
   "source": [
    "# Churn Prediction"
   ]
  },
  {
   "cell_type": "markdown",
   "metadata": {},
   "source": [
    "The Beta Bank customers are leaving: little by little, chipping away every month. It’s cheaper to save the existing customers rather than to attract new ones.\n",
    "We need to predict whether a customer will leave the bank soon. We have the data on clients’ past behavior and termination of contracts with the bank.\n",
    "We'll build a model that tries to predict whether a customer is likely to leave.\n",
    "The metric for this task is F1 score and it should be at least 0.59 .\n",
    "\n",
    "**Project Steps** <a class=\"anchor\" id=\"table_of_contents\"></a>  \n",
    "- [1. Data file and general info](#chapter1)  \n",
    "   -  [1.1 Load dataset](#chapter1.1)  \n",
    "   -  [1.2 Missing values](#chapter1.2)  \n",
    "   -  [1.3 Exploratory Data Analysis](#chapter1.3)  \n",
    "- [2. Building a classification model](#chapter2)   \n",
    "- [3. Testing the chosen model](#chapter3)  \n",
    "- [4. General conclusions](#chapter4)"
   ]
  },
  {
   "cell_type": "markdown",
   "metadata": {},
   "source": [
    "## Data file and general info\n",
    "***\n",
    "<a class=\"anchor\" id=\"chapter1\"></a>"
   ]
  },
  {
   "cell_type": "code",
   "execution_count": 1,
   "metadata": {},
   "outputs": [],
   "source": [
    "import pandas as pd\n",
    "import seaborn as sns\n",
    "import matplotlib.pyplot as plt\n",
    "%matplotlib inline\n",
    "\n",
    "from sklearn.model_selection import train_test_split\n",
    "from sklearn.preprocessing import StandardScaler, OneHotEncoder\n",
    "\n",
    "from sklearn.tree import DecisionTreeClassifier\n",
    "from sklearn.ensemble import RandomForestClassifier\n",
    "from sklearn.linear_model import LogisticRegression\n",
    "from sklearn.model_selection import GridSearchCV\n",
    "\n",
    "from sklearn.metrics import f1_score, roc_curve, roc_auc_score\n",
    "from sklearn.utils import shuffle\n",
    "\n",
    "#ignore warnings\n",
    "import sys\n",
    "import warnings\n",
    "if not sys.warnoptions:\n",
    "       warnings.simplefilter(\"ignore\")"
   ]
  },
  {
   "cell_type": "markdown",
   "metadata": {},
   "source": [
    "### Load dataset\n",
    "<a class=\"anchor\" id=\"chapter1.1\"></a>"
   ]
  },
  {
   "cell_type": "code",
   "execution_count": 2,
   "metadata": {},
   "outputs": [
    {
     "data": {
      "text/html": [
       "<div>\n",
       "<style scoped>\n",
       "    .dataframe tbody tr th:only-of-type {\n",
       "        vertical-align: middle;\n",
       "    }\n",
       "\n",
       "    .dataframe tbody tr th {\n",
       "        vertical-align: top;\n",
       "    }\n",
       "\n",
       "    .dataframe thead th {\n",
       "        text-align: right;\n",
       "    }\n",
       "</style>\n",
       "<table border=\"1\" class=\"dataframe\">\n",
       "  <thead>\n",
       "    <tr style=\"text-align: right;\">\n",
       "      <th></th>\n",
       "      <th>RowNumber</th>\n",
       "      <th>CustomerId</th>\n",
       "      <th>Surname</th>\n",
       "      <th>CreditScore</th>\n",
       "      <th>Geography</th>\n",
       "      <th>Gender</th>\n",
       "      <th>Age</th>\n",
       "      <th>Tenure</th>\n",
       "      <th>Balance</th>\n",
       "      <th>NumOfProducts</th>\n",
       "      <th>HasCrCard</th>\n",
       "      <th>IsActiveMember</th>\n",
       "      <th>EstimatedSalary</th>\n",
       "      <th>Exited</th>\n",
       "    </tr>\n",
       "  </thead>\n",
       "  <tbody>\n",
       "    <tr>\n",
       "      <td>0</td>\n",
       "      <td>1</td>\n",
       "      <td>15634602</td>\n",
       "      <td>Hargrave</td>\n",
       "      <td>619</td>\n",
       "      <td>France</td>\n",
       "      <td>Female</td>\n",
       "      <td>42</td>\n",
       "      <td>2.0</td>\n",
       "      <td>0.00</td>\n",
       "      <td>1</td>\n",
       "      <td>1</td>\n",
       "      <td>1</td>\n",
       "      <td>101348.88</td>\n",
       "      <td>1</td>\n",
       "    </tr>\n",
       "    <tr>\n",
       "      <td>1</td>\n",
       "      <td>2</td>\n",
       "      <td>15647311</td>\n",
       "      <td>Hill</td>\n",
       "      <td>608</td>\n",
       "      <td>Spain</td>\n",
       "      <td>Female</td>\n",
       "      <td>41</td>\n",
       "      <td>1.0</td>\n",
       "      <td>83807.86</td>\n",
       "      <td>1</td>\n",
       "      <td>0</td>\n",
       "      <td>1</td>\n",
       "      <td>112542.58</td>\n",
       "      <td>0</td>\n",
       "    </tr>\n",
       "    <tr>\n",
       "      <td>2</td>\n",
       "      <td>3</td>\n",
       "      <td>15619304</td>\n",
       "      <td>Onio</td>\n",
       "      <td>502</td>\n",
       "      <td>France</td>\n",
       "      <td>Female</td>\n",
       "      <td>42</td>\n",
       "      <td>8.0</td>\n",
       "      <td>159660.80</td>\n",
       "      <td>3</td>\n",
       "      <td>1</td>\n",
       "      <td>0</td>\n",
       "      <td>113931.57</td>\n",
       "      <td>1</td>\n",
       "    </tr>\n",
       "    <tr>\n",
       "      <td>3</td>\n",
       "      <td>4</td>\n",
       "      <td>15701354</td>\n",
       "      <td>Boni</td>\n",
       "      <td>699</td>\n",
       "      <td>France</td>\n",
       "      <td>Female</td>\n",
       "      <td>39</td>\n",
       "      <td>1.0</td>\n",
       "      <td>0.00</td>\n",
       "      <td>2</td>\n",
       "      <td>0</td>\n",
       "      <td>0</td>\n",
       "      <td>93826.63</td>\n",
       "      <td>0</td>\n",
       "    </tr>\n",
       "    <tr>\n",
       "      <td>4</td>\n",
       "      <td>5</td>\n",
       "      <td>15737888</td>\n",
       "      <td>Mitchell</td>\n",
       "      <td>850</td>\n",
       "      <td>Spain</td>\n",
       "      <td>Female</td>\n",
       "      <td>43</td>\n",
       "      <td>2.0</td>\n",
       "      <td>125510.82</td>\n",
       "      <td>1</td>\n",
       "      <td>1</td>\n",
       "      <td>1</td>\n",
       "      <td>79084.10</td>\n",
       "      <td>0</td>\n",
       "    </tr>\n",
       "  </tbody>\n",
       "</table>\n",
       "</div>"
      ],
      "text/plain": [
       "   RowNumber  CustomerId   Surname  CreditScore Geography  Gender  Age  \\\n",
       "0          1    15634602  Hargrave          619    France  Female   42   \n",
       "1          2    15647311      Hill          608     Spain  Female   41   \n",
       "2          3    15619304      Onio          502    France  Female   42   \n",
       "3          4    15701354      Boni          699    France  Female   39   \n",
       "4          5    15737888  Mitchell          850     Spain  Female   43   \n",
       "\n",
       "   Tenure    Balance  NumOfProducts  HasCrCard  IsActiveMember  \\\n",
       "0     2.0       0.00              1          1               1   \n",
       "1     1.0   83807.86              1          0               1   \n",
       "2     8.0  159660.80              3          1               0   \n",
       "3     1.0       0.00              2          0               0   \n",
       "4     2.0  125510.82              1          1               1   \n",
       "\n",
       "   EstimatedSalary  Exited  \n",
       "0        101348.88       1  \n",
       "1        112542.58       0  \n",
       "2        113931.57       1  \n",
       "3         93826.63       0  \n",
       "4         79084.10       0  "
      ]
     },
     "execution_count": 2,
     "metadata": {},
     "output_type": "execute_result"
    }
   ],
   "source": [
    "#open the data file and show the first 10 rows\n",
    "data = pd.read_csv('/datasets/Churn.csv')\n",
    "data.head()"
   ]
  },
  {
   "cell_type": "markdown",
   "metadata": {},
   "source": [
    "**Features**  \n",
    "`RowNumber` — data string index  \n",
    "`CustomerId` — unique customer identifier  \n",
    "`Surname` — surname  \n",
    "`CreditScore` — credit score  \n",
    "`Geography` — country of residence  \n",
    "`Gender` — gender  \n",
    "`Age` — age  \n",
    "`Tenure` — period of maturation for a customer’s fixed deposit (years)  \n",
    "`Balance` — account balance  \n",
    "`NumOfProducts` — number of banking products used by the customer  \n",
    "`HasCrCard` — customer has a credit card  \n",
    "`IsActiveMember` — customer’s activeness  \n",
    "`EstimatedSalary` — estimated salary  \n",
    "\n",
    "**Target**  \n",
    "`Exited` — сustomer has left  "
   ]
  },
  {
   "cell_type": "markdown",
   "metadata": {},
   "source": [
    "First we see that there are some coulmns that should be removed as they don't suppose to affect the target such as `RowNumber`, `CustomerId` and `Surname`."
   ]
  },
  {
   "cell_type": "code",
   "execution_count": 3,
   "metadata": {},
   "outputs": [
    {
     "data": {
      "text/html": [
       "<div>\n",
       "<style scoped>\n",
       "    .dataframe tbody tr th:only-of-type {\n",
       "        vertical-align: middle;\n",
       "    }\n",
       "\n",
       "    .dataframe tbody tr th {\n",
       "        vertical-align: top;\n",
       "    }\n",
       "\n",
       "    .dataframe thead th {\n",
       "        text-align: right;\n",
       "    }\n",
       "</style>\n",
       "<table border=\"1\" class=\"dataframe\">\n",
       "  <thead>\n",
       "    <tr style=\"text-align: right;\">\n",
       "      <th></th>\n",
       "      <th>CreditScore</th>\n",
       "      <th>Geography</th>\n",
       "      <th>Gender</th>\n",
       "      <th>Age</th>\n",
       "      <th>Tenure</th>\n",
       "      <th>Balance</th>\n",
       "      <th>NumOfProducts</th>\n",
       "      <th>HasCrCard</th>\n",
       "      <th>IsActiveMember</th>\n",
       "      <th>EstimatedSalary</th>\n",
       "      <th>Exited</th>\n",
       "    </tr>\n",
       "  </thead>\n",
       "  <tbody>\n",
       "    <tr>\n",
       "      <td>0</td>\n",
       "      <td>619</td>\n",
       "      <td>France</td>\n",
       "      <td>Female</td>\n",
       "      <td>42</td>\n",
       "      <td>2.0</td>\n",
       "      <td>0.00</td>\n",
       "      <td>1</td>\n",
       "      <td>1</td>\n",
       "      <td>1</td>\n",
       "      <td>101348.88</td>\n",
       "      <td>1</td>\n",
       "    </tr>\n",
       "    <tr>\n",
       "      <td>1</td>\n",
       "      <td>608</td>\n",
       "      <td>Spain</td>\n",
       "      <td>Female</td>\n",
       "      <td>41</td>\n",
       "      <td>1.0</td>\n",
       "      <td>83807.86</td>\n",
       "      <td>1</td>\n",
       "      <td>0</td>\n",
       "      <td>1</td>\n",
       "      <td>112542.58</td>\n",
       "      <td>0</td>\n",
       "    </tr>\n",
       "    <tr>\n",
       "      <td>2</td>\n",
       "      <td>502</td>\n",
       "      <td>France</td>\n",
       "      <td>Female</td>\n",
       "      <td>42</td>\n",
       "      <td>8.0</td>\n",
       "      <td>159660.80</td>\n",
       "      <td>3</td>\n",
       "      <td>1</td>\n",
       "      <td>0</td>\n",
       "      <td>113931.57</td>\n",
       "      <td>1</td>\n",
       "    </tr>\n",
       "    <tr>\n",
       "      <td>3</td>\n",
       "      <td>699</td>\n",
       "      <td>France</td>\n",
       "      <td>Female</td>\n",
       "      <td>39</td>\n",
       "      <td>1.0</td>\n",
       "      <td>0.00</td>\n",
       "      <td>2</td>\n",
       "      <td>0</td>\n",
       "      <td>0</td>\n",
       "      <td>93826.63</td>\n",
       "      <td>0</td>\n",
       "    </tr>\n",
       "    <tr>\n",
       "      <td>4</td>\n",
       "      <td>850</td>\n",
       "      <td>Spain</td>\n",
       "      <td>Female</td>\n",
       "      <td>43</td>\n",
       "      <td>2.0</td>\n",
       "      <td>125510.82</td>\n",
       "      <td>1</td>\n",
       "      <td>1</td>\n",
       "      <td>1</td>\n",
       "      <td>79084.10</td>\n",
       "      <td>0</td>\n",
       "    </tr>\n",
       "  </tbody>\n",
       "</table>\n",
       "</div>"
      ],
      "text/plain": [
       "   CreditScore Geography  Gender  Age  Tenure    Balance  NumOfProducts  \\\n",
       "0          619    France  Female   42     2.0       0.00              1   \n",
       "1          608     Spain  Female   41     1.0   83807.86              1   \n",
       "2          502    France  Female   42     8.0  159660.80              3   \n",
       "3          699    France  Female   39     1.0       0.00              2   \n",
       "4          850     Spain  Female   43     2.0  125510.82              1   \n",
       "\n",
       "   HasCrCard  IsActiveMember  EstimatedSalary  Exited  \n",
       "0          1               1        101348.88       1  \n",
       "1          0               1        112542.58       0  \n",
       "2          1               0        113931.57       1  \n",
       "3          0               0         93826.63       0  \n",
       "4          1               1         79084.10       0  "
      ]
     },
     "execution_count": 3,
     "metadata": {},
     "output_type": "execute_result"
    }
   ],
   "source": [
    "#remove unnecessary columns\n",
    "data.drop(['RowNumber','CustomerId','Surname'], axis=1, inplace=True)\n",
    "data.head()"
   ]
  },
  {
   "cell_type": "code",
   "execution_count": 4,
   "metadata": {},
   "outputs": [
    {
     "data": {
      "text/plain": [
       "0"
      ]
     },
     "execution_count": 4,
     "metadata": {},
     "output_type": "execute_result"
    }
   ],
   "source": [
    "#check for duplicates\n",
    "data.duplicated().sum()"
   ]
  },
  {
   "cell_type": "code",
   "execution_count": 5,
   "metadata": {},
   "outputs": [
    {
     "name": "stdout",
     "output_type": "stream",
     "text": [
      "<class 'pandas.core.frame.DataFrame'>\n",
      "RangeIndex: 10000 entries, 0 to 9999\n",
      "Data columns (total 11 columns):\n",
      "CreditScore        10000 non-null int64\n",
      "Geography          10000 non-null object\n",
      "Gender             10000 non-null object\n",
      "Age                10000 non-null int64\n",
      "Tenure             9091 non-null float64\n",
      "Balance            10000 non-null float64\n",
      "NumOfProducts      10000 non-null int64\n",
      "HasCrCard          10000 non-null int64\n",
      "IsActiveMember     10000 non-null int64\n",
      "EstimatedSalary    10000 non-null float64\n",
      "Exited             10000 non-null int64\n",
      "dtypes: float64(3), int64(6), object(2)\n",
      "memory usage: 859.5+ KB\n"
     ]
    }
   ],
   "source": [
    "#show general information\n",
    "data.info()"
   ]
  },
  {
   "cell_type": "markdown",
   "metadata": {},
   "source": [
    "### Missing values\n",
    "<a class=\"anchor\" id=\"chapter1.2\"></a>"
   ]
  },
  {
   "cell_type": "markdown",
   "metadata": {},
   "source": [
    "We see that we don't have any duplicates but do have some missing values at the `Tenure` column, and its data type should be changed from float to int. \n",
    "We'll try to fill the missing values in the `Tenure` column."
   ]
  },
  {
   "cell_type": "code",
   "execution_count": 6,
   "metadata": {},
   "outputs": [
    {
     "data": {
      "text/plain": [
       "CreditScore        0.00\n",
       "Geography          0.00\n",
       "Gender             0.00\n",
       "Age                0.00\n",
       "Tenure             9.09\n",
       "Balance            0.00\n",
       "NumOfProducts      0.00\n",
       "HasCrCard          0.00\n",
       "IsActiveMember     0.00\n",
       "EstimatedSalary    0.00\n",
       "Exited             0.00\n",
       "dtype: float64"
      ]
     },
     "execution_count": 6,
     "metadata": {},
     "output_type": "execute_result"
    }
   ],
   "source": [
    "#check the misiing values by columns, show in percentage\n",
    "data.isna().sum()*100/len(data)"
   ]
  },
  {
   "cell_type": "markdown",
   "metadata": {},
   "source": [
    "About 10% of the data for `Tenure` is missing. We'll try to figure out if the `Tenure` values related to specific feature."
   ]
  },
  {
   "cell_type": "code",
   "execution_count": 7,
   "metadata": {},
   "outputs": [
    {
     "data": {
      "text/plain": [
       "CreditScore       -0.000062\n",
       "Age               -0.013134\n",
       "Tenure             1.000000\n",
       "Balance           -0.007911\n",
       "NumOfProducts      0.011979\n",
       "HasCrCard          0.027232\n",
       "IsActiveMember    -0.032178\n",
       "EstimatedSalary    0.010520\n",
       "Exited            -0.016761\n",
       "Name: Tenure, dtype: float64"
      ]
     },
     "execution_count": 7,
     "metadata": {},
     "output_type": "execute_result"
    }
   ],
   "source": [
    "data.corr()['Tenure']"
   ]
  },
  {
   "cell_type": "markdown",
   "metadata": {},
   "source": [
    "It doesn't seem that there is any correlation between the `Tenure` and the other features. As it is related to time, it might be influenced by the time the customer uses our services (the missing values might be related to new customers). As it is a numeric feature, we will take its median or mean for completing the missing values, so first we'll check the distribution."
   ]
  },
  {
   "cell_type": "code",
   "execution_count": 8,
   "metadata": {},
   "outputs": [
    {
     "data": {
      "image/png": "[encoded data removed]",
      "text/plain": [
       "<Figure size 648x288 with 1 Axes>"
      ]
     },
     "metadata": {
      "needs_background": "light"
     },
     "output_type": "display_data"
    }
   ],
   "source": [
    "#show the distribution of 'Tenure' featuer\n",
    "data['Tenure'].hist(edgecolor='black', linewidth=1.2, figsize=(9,4))\n",
    "plt.title('Tenure Distribution', fontsize=16)\n",
    "plt.xlabel('Tenure')\n",
    "plt.ylabel('count');"
   ]
  },
  {
   "cell_type": "code",
   "execution_count": 9,
   "metadata": {},
   "outputs": [
    {
     "data": {
      "text/plain": [
       "5.0"
      ]
     },
     "execution_count": 9,
     "metadata": {},
     "output_type": "execute_result"
    }
   ],
   "source": [
    "data['Tenure'].median()"
   ]
  },
  {
   "cell_type": "code",
   "execution_count": 10,
   "metadata": {},
   "outputs": [],
   "source": [
    "#fill the missing values with the median\n",
    "data['Tenure'].fillna(data['Tenure'].median(), inplace = True)\n",
    "#change the data type from float to int\n",
    "data['Tenure'] = data['Tenure'].astype('int')"
   ]
  },
  {
   "cell_type": "markdown",
   "metadata": {},
   "source": [
    "### Exploratory Data Analysis\n",
    "<a class=\"anchor\" id=\"chapter1.3\"></a>"
   ]
  },
  {
   "cell_type": "markdown",
   "metadata": {},
   "source": [
    "Now we'll look at the distirubtions for all the variables in the dataset."
   ]
  },
  {
   "cell_type": "code",
   "execution_count": 11,
   "metadata": {},
   "outputs": [
    {
     "data": {
      "image/png": "[encoded data removed]",
      "text/plain": [
       "<Figure size 1080x648 with 9 Axes>"
      ]
     },
     "metadata": {
      "needs_background": "light"
     },
     "output_type": "display_data"
    }
   ],
   "source": [
    "data.hist(edgecolor='black', figsize=(15,9))\n",
    "plt.suptitle('Features Distribution', fontsize=16);"
   ]
  },
  {
   "cell_type": "markdown",
   "metadata": {},
   "source": [
    "We see that there are some features that are distributed pretty much evenly (such as `EstimatedSalary` and `IsActiveMember`) but the most critical variable that is not balanced is our target variable `Exited`. There are 4 times more records for those who didn't exir our services. This imbalance might affect the result of our model. We'll deal with it later and show the difference between the results."
   ]
  },
  {
   "cell_type": "markdown",
   "metadata": {},
   "source": [
    "**Conclusions**"
   ]
  },
  {
   "cell_type": "markdown",
   "metadata": {},
   "source": [
    "- We had few columns that were irrelevant for our classification task so we removed them.\n",
    "- There were about 10% of missing values in the `Tenure` column which might be related to new customers. We filled it with the median value of the column and changed its type.\n",
    "- The target variable is imbalanced and we need to fix it for better results."
   ]
  },
  {
   "cell_type": "markdown",
   "metadata": {},
   "source": [
    "##  Building a classification model\n",
    "***\n",
    "<a class=\"anchor\" id=\"chapter2\"></a>"
   ]
  },
  {
   "cell_type": "markdown",
   "metadata": {},
   "source": [
    "**Splitting the data:**  \n",
    "We will split our data into 3 parts - training set, validation set and test set, with the ratio 3:1:1."
   ]
  },
  {
   "cell_type": "code",
   "execution_count": 12,
   "metadata": {},
   "outputs": [],
   "source": [
    "target = data['Exited']\n",
    "features = data.drop(['Exited'], axis=1)"
   ]
  },
  {
   "cell_type": "code",
   "execution_count": 13,
   "metadata": {},
   "outputs": [],
   "source": [
    "features_train, features_test, target_train, target_test = train_test_split(\n",
    "    features, target, test_size=0.2, random_state=1234\n",
    ")"
   ]
  },
  {
   "cell_type": "code",
   "execution_count": 14,
   "metadata": {},
   "outputs": [],
   "source": [
    "features_train, features_valid, target_train, target_valid = train_test_split(\n",
    "    features_train, target_train, test_size=0.25, random_state=1234\n",
    ")"
   ]
  },
  {
   "cell_type": "code",
   "execution_count": 15,
   "metadata": {},
   "outputs": [
    {
     "name": "stdout",
     "output_type": "stream",
     "text": [
      "Training set: features (6000, 10), target (6000,)\n",
      "Validation set: features (2000, 10), target (2000,)\n",
      "Test set: features (2000, 10), target (2000,)\n"
     ]
    }
   ],
   "source": [
    "print('Training set: features {}, target {}'.format(features_train.shape, target_train.shape))\n",
    "print('Validation set: features {}, target {}'.format(features_valid.shape, target_valid.shape))\n",
    "print('Test set: features {}, target {}'.format(features_test.shape, target_test.shape))"
   ]
  },
  {
   "cell_type": "markdown",
   "metadata": {},
   "source": [
    "**Transforming the data:**  \n",
    "We need to encode some of the categorical columns as the models can't deal with strings. Two of the categorical columns are already encoded as they are binary (`HasCrCard` and `IsActiveMember`) so we need to encode the `Geography` and `Gender` columns.\n",
    "Also we need to scale the numeric columns."
   ]
  },
  {
   "cell_type": "code",
   "execution_count": 16,
   "metadata": {},
   "outputs": [],
   "source": [
    "categorical = ['Geography','Gender']\n",
    "numeric = ['Age', 'Balance', 'CreditScore', 'EstimatedSalary', 'NumOfProducts', 'Tenure']"
   ]
  },
  {
   "cell_type": "code",
   "execution_count": 17,
   "metadata": {},
   "outputs": [
    {
     "data": {
      "text/html": [
       "<div>\n",
       "<style scoped>\n",
       "    .dataframe tbody tr th:only-of-type {\n",
       "        vertical-align: middle;\n",
       "    }\n",
       "\n",
       "    .dataframe tbody tr th {\n",
       "        vertical-align: top;\n",
       "    }\n",
       "\n",
       "    .dataframe thead th {\n",
       "        text-align: right;\n",
       "    }\n",
       "</style>\n",
       "<table border=\"1\" class=\"dataframe\">\n",
       "  <thead>\n",
       "    <tr style=\"text-align: right;\">\n",
       "      <th></th>\n",
       "      <th>Geography_Germany</th>\n",
       "      <th>Geography_Spain</th>\n",
       "      <th>Gender_Male</th>\n",
       "    </tr>\n",
       "  </thead>\n",
       "  <tbody>\n",
       "    <tr>\n",
       "      <td>8761</td>\n",
       "      <td>0</td>\n",
       "      <td>1</td>\n",
       "      <td>1</td>\n",
       "    </tr>\n",
       "    <tr>\n",
       "      <td>6016</td>\n",
       "      <td>1</td>\n",
       "      <td>0</td>\n",
       "      <td>1</td>\n",
       "    </tr>\n",
       "    <tr>\n",
       "      <td>1140</td>\n",
       "      <td>0</td>\n",
       "      <td>0</td>\n",
       "      <td>0</td>\n",
       "    </tr>\n",
       "    <tr>\n",
       "      <td>5845</td>\n",
       "      <td>1</td>\n",
       "      <td>0</td>\n",
       "      <td>1</td>\n",
       "    </tr>\n",
       "    <tr>\n",
       "      <td>8991</td>\n",
       "      <td>1</td>\n",
       "      <td>0</td>\n",
       "      <td>0</td>\n",
       "    </tr>\n",
       "  </tbody>\n",
       "</table>\n",
       "</div>"
      ],
      "text/plain": [
       "      Geography_Germany  Geography_Spain  Gender_Male\n",
       "8761                  0                1            1\n",
       "6016                  1                0            1\n",
       "1140                  0                0            0\n",
       "5845                  1                0            1\n",
       "8991                  1                0            0"
      ]
     },
     "execution_count": 17,
     "metadata": {},
     "output_type": "execute_result"
    }
   ],
   "source": [
    "#apply One Hot Encoding on the categorical features\n",
    "ohe = OneHotEncoder(drop='first', dtype='int8').fit(features_train[categorical])\n",
    "\n",
    "features_train_ohe = pd.DataFrame(data=ohe.transform(features_train[categorical]).toarray(),\n",
    "                                columns=ohe.get_feature_names(categorical),\n",
    "                                index=features_train.index)\n",
    "features_train_ohe.head()"
   ]
  },
  {
   "cell_type": "code",
   "execution_count": 18,
   "metadata": {},
   "outputs": [
    {
     "data": {
      "text/html": [
       "<div>\n",
       "<style scoped>\n",
       "    .dataframe tbody tr th:only-of-type {\n",
       "        vertical-align: middle;\n",
       "    }\n",
       "\n",
       "    .dataframe tbody tr th {\n",
       "        vertical-align: top;\n",
       "    }\n",
       "\n",
       "    .dataframe thead th {\n",
       "        text-align: right;\n",
       "    }\n",
       "</style>\n",
       "<table border=\"1\" class=\"dataframe\">\n",
       "  <thead>\n",
       "    <tr style=\"text-align: right;\">\n",
       "      <th></th>\n",
       "      <th>Age</th>\n",
       "      <th>Balance</th>\n",
       "      <th>CreditScore</th>\n",
       "      <th>EstimatedSalary</th>\n",
       "      <th>NumOfProducts</th>\n",
       "      <th>Tenure</th>\n",
       "    </tr>\n",
       "  </thead>\n",
       "  <tbody>\n",
       "    <tr>\n",
       "      <td>8761</td>\n",
       "      <td>2.323416</td>\n",
       "      <td>-1.216709</td>\n",
       "      <td>-0.180546</td>\n",
       "      <td>-1.230361</td>\n",
       "      <td>0.822661</td>\n",
       "      <td>1.815334</td>\n",
       "    </tr>\n",
       "    <tr>\n",
       "      <td>6016</td>\n",
       "      <td>-0.097666</td>\n",
       "      <td>0.413673</td>\n",
       "      <td>2.039133</td>\n",
       "      <td>-1.002516</td>\n",
       "      <td>0.822661</td>\n",
       "      <td>0.730149</td>\n",
       "    </tr>\n",
       "    <tr>\n",
       "      <td>1140</td>\n",
       "      <td>-0.194510</td>\n",
       "      <td>0.328419</td>\n",
       "      <td>-0.344967</td>\n",
       "      <td>-0.042666</td>\n",
       "      <td>-0.911082</td>\n",
       "      <td>0.006692</td>\n",
       "    </tr>\n",
       "    <tr>\n",
       "      <td>5845</td>\n",
       "      <td>-0.581883</td>\n",
       "      <td>-0.013859</td>\n",
       "      <td>-1.249280</td>\n",
       "      <td>0.009944</td>\n",
       "      <td>-0.911082</td>\n",
       "      <td>0.006692</td>\n",
       "    </tr>\n",
       "    <tr>\n",
       "      <td>8991</td>\n",
       "      <td>0.289707</td>\n",
       "      <td>1.064599</td>\n",
       "      <td>-1.074583</td>\n",
       "      <td>-0.260901</td>\n",
       "      <td>-0.911082</td>\n",
       "      <td>0.006692</td>\n",
       "    </tr>\n",
       "  </tbody>\n",
       "</table>\n",
       "</div>"
      ],
      "text/plain": [
       "           Age   Balance  CreditScore  EstimatedSalary  NumOfProducts  \\\n",
       "8761  2.323416 -1.216709    -0.180546        -1.230361       0.822661   \n",
       "6016 -0.097666  0.413673     2.039133        -1.002516       0.822661   \n",
       "1140 -0.194510  0.328419    -0.344967        -0.042666      -0.911082   \n",
       "5845 -0.581883 -0.013859    -1.249280         0.009944      -0.911082   \n",
       "8991  0.289707  1.064599    -1.074583        -0.260901      -0.911082   \n",
       "\n",
       "        Tenure  \n",
       "8761  1.815334  \n",
       "6016  0.730149  \n",
       "1140  0.006692  \n",
       "5845  0.006692  \n",
       "8991  0.006692  "
      ]
     },
     "execution_count": 18,
     "metadata": {},
     "output_type": "execute_result"
    }
   ],
   "source": [
    "#normalize the numeric features\n",
    "scaler = StandardScaler()\n",
    "features_train[numeric]= scaler.fit_transform(features_train[numeric])\n",
    "features_train[numeric].head()"
   ]
  },
  {
   "cell_type": "code",
   "execution_count": 19,
   "metadata": {},
   "outputs": [
    {
     "data": {
      "text/html": [
       "<div>\n",
       "<style scoped>\n",
       "    .dataframe tbody tr th:only-of-type {\n",
       "        vertical-align: middle;\n",
       "    }\n",
       "\n",
       "    .dataframe tbody tr th {\n",
       "        vertical-align: top;\n",
       "    }\n",
       "\n",
       "    .dataframe thead th {\n",
       "        text-align: right;\n",
       "    }\n",
       "</style>\n",
       "<table border=\"1\" class=\"dataframe\">\n",
       "  <thead>\n",
       "    <tr style=\"text-align: right;\">\n",
       "      <th></th>\n",
       "      <th>Age</th>\n",
       "      <th>Balance</th>\n",
       "      <th>CreditScore</th>\n",
       "      <th>EstimatedSalary</th>\n",
       "      <th>NumOfProducts</th>\n",
       "      <th>Tenure</th>\n",
       "      <th>Geography_Germany</th>\n",
       "      <th>Geography_Spain</th>\n",
       "      <th>Gender_Male</th>\n",
       "      <th>HasCrCard</th>\n",
       "      <th>IsActiveMember</th>\n",
       "    </tr>\n",
       "  </thead>\n",
       "  <tbody>\n",
       "    <tr>\n",
       "      <td>8761</td>\n",
       "      <td>2.323416</td>\n",
       "      <td>-1.216709</td>\n",
       "      <td>-0.180546</td>\n",
       "      <td>-1.230361</td>\n",
       "      <td>0.822661</td>\n",
       "      <td>1.815334</td>\n",
       "      <td>0</td>\n",
       "      <td>1</td>\n",
       "      <td>1</td>\n",
       "      <td>1</td>\n",
       "      <td>0</td>\n",
       "    </tr>\n",
       "    <tr>\n",
       "      <td>6016</td>\n",
       "      <td>-0.097666</td>\n",
       "      <td>0.413673</td>\n",
       "      <td>2.039133</td>\n",
       "      <td>-1.002516</td>\n",
       "      <td>0.822661</td>\n",
       "      <td>0.730149</td>\n",
       "      <td>1</td>\n",
       "      <td>0</td>\n",
       "      <td>1</td>\n",
       "      <td>0</td>\n",
       "      <td>0</td>\n",
       "    </tr>\n",
       "    <tr>\n",
       "      <td>1140</td>\n",
       "      <td>-0.194510</td>\n",
       "      <td>0.328419</td>\n",
       "      <td>-0.344967</td>\n",
       "      <td>-0.042666</td>\n",
       "      <td>-0.911082</td>\n",
       "      <td>0.006692</td>\n",
       "      <td>0</td>\n",
       "      <td>0</td>\n",
       "      <td>0</td>\n",
       "      <td>1</td>\n",
       "      <td>0</td>\n",
       "    </tr>\n",
       "    <tr>\n",
       "      <td>5845</td>\n",
       "      <td>-0.581883</td>\n",
       "      <td>-0.013859</td>\n",
       "      <td>-1.249280</td>\n",
       "      <td>0.009944</td>\n",
       "      <td>-0.911082</td>\n",
       "      <td>0.006692</td>\n",
       "      <td>1</td>\n",
       "      <td>0</td>\n",
       "      <td>1</td>\n",
       "      <td>0</td>\n",
       "      <td>1</td>\n",
       "    </tr>\n",
       "    <tr>\n",
       "      <td>8991</td>\n",
       "      <td>0.289707</td>\n",
       "      <td>1.064599</td>\n",
       "      <td>-1.074583</td>\n",
       "      <td>-0.260901</td>\n",
       "      <td>-0.911082</td>\n",
       "      <td>0.006692</td>\n",
       "      <td>1</td>\n",
       "      <td>0</td>\n",
       "      <td>0</td>\n",
       "      <td>1</td>\n",
       "      <td>0</td>\n",
       "    </tr>\n",
       "  </tbody>\n",
       "</table>\n",
       "</div>"
      ],
      "text/plain": [
       "           Age   Balance  CreditScore  EstimatedSalary  NumOfProducts  \\\n",
       "8761  2.323416 -1.216709    -0.180546        -1.230361       0.822661   \n",
       "6016 -0.097666  0.413673     2.039133        -1.002516       0.822661   \n",
       "1140 -0.194510  0.328419    -0.344967        -0.042666      -0.911082   \n",
       "5845 -0.581883 -0.013859    -1.249280         0.009944      -0.911082   \n",
       "8991  0.289707  1.064599    -1.074583        -0.260901      -0.911082   \n",
       "\n",
       "        Tenure  Geography_Germany  Geography_Spain  Gender_Male  HasCrCard  \\\n",
       "8761  1.815334                  0                1            1          1   \n",
       "6016  0.730149                  1                0            1          0   \n",
       "1140  0.006692                  0                0            0          1   \n",
       "5845  0.006692                  1                0            1          0   \n",
       "8991  0.006692                  1                0            0          1   \n",
       "\n",
       "      IsActiveMember  \n",
       "8761               0  \n",
       "6016               0  \n",
       "1140               0  \n",
       "5845               1  \n",
       "8991               0  "
      ]
     },
     "execution_count": 19,
     "metadata": {},
     "output_type": "execute_result"
    }
   ],
   "source": [
    "#update the features_train after OHE and scaling        \n",
    "features_train = pd.concat(\n",
    "    [features_train[numeric], features_train_ohe, features_train[['HasCrCard','IsActiveMember']]], axis=1\n",
    ")\n",
    "features_train.head()"
   ]
  },
  {
   "cell_type": "code",
   "execution_count": 20,
   "metadata": {},
   "outputs": [
    {
     "data": {
      "text/html": [
       "<div>\n",
       "<style scoped>\n",
       "    .dataframe tbody tr th:only-of-type {\n",
       "        vertical-align: middle;\n",
       "    }\n",
       "\n",
       "    .dataframe tbody tr th {\n",
       "        vertical-align: top;\n",
       "    }\n",
       "\n",
       "    .dataframe thead th {\n",
       "        text-align: right;\n",
       "    }\n",
       "</style>\n",
       "<table border=\"1\" class=\"dataframe\">\n",
       "  <thead>\n",
       "    <tr style=\"text-align: right;\">\n",
       "      <th></th>\n",
       "      <th>Age</th>\n",
       "      <th>Balance</th>\n",
       "      <th>CreditScore</th>\n",
       "      <th>EstimatedSalary</th>\n",
       "      <th>NumOfProducts</th>\n",
       "      <th>Tenure</th>\n",
       "      <th>Geography_Germany</th>\n",
       "      <th>Geography_Spain</th>\n",
       "      <th>Gender_Male</th>\n",
       "      <th>HasCrCard</th>\n",
       "      <th>IsActiveMember</th>\n",
       "    </tr>\n",
       "  </thead>\n",
       "  <tbody>\n",
       "    <tr>\n",
       "      <td>642</td>\n",
       "      <td>-1.162943</td>\n",
       "      <td>0.788086</td>\n",
       "      <td>-0.704637</td>\n",
       "      <td>0.168909</td>\n",
       "      <td>-0.911082</td>\n",
       "      <td>0.006692</td>\n",
       "      <td>0</td>\n",
       "      <td>0</td>\n",
       "      <td>0</td>\n",
       "      <td>1</td>\n",
       "      <td>1</td>\n",
       "    </tr>\n",
       "    <tr>\n",
       "      <td>9466</td>\n",
       "      <td>1.258140</td>\n",
       "      <td>-1.216709</td>\n",
       "      <td>-0.951268</td>\n",
       "      <td>0.487707</td>\n",
       "      <td>-0.911082</td>\n",
       "      <td>0.006692</td>\n",
       "      <td>0</td>\n",
       "      <td>0</td>\n",
       "      <td>1</td>\n",
       "      <td>1</td>\n",
       "      <td>0</td>\n",
       "    </tr>\n",
       "    <tr>\n",
       "      <td>3303</td>\n",
       "      <td>0.483393</td>\n",
       "      <td>0.922168</td>\n",
       "      <td>-0.201098</td>\n",
       "      <td>-1.163306</td>\n",
       "      <td>-0.911082</td>\n",
       "      <td>-0.716765</td>\n",
       "      <td>0</td>\n",
       "      <td>0</td>\n",
       "      <td>0</td>\n",
       "      <td>1</td>\n",
       "      <td>1</td>\n",
       "    </tr>\n",
       "    <tr>\n",
       "      <td>4719</td>\n",
       "      <td>-0.388196</td>\n",
       "      <td>0.750285</td>\n",
       "      <td>-0.879334</td>\n",
       "      <td>-0.610004</td>\n",
       "      <td>-0.911082</td>\n",
       "      <td>-1.440221</td>\n",
       "      <td>1</td>\n",
       "      <td>0</td>\n",
       "      <td>0</td>\n",
       "      <td>1</td>\n",
       "      <td>0</td>\n",
       "    </tr>\n",
       "    <tr>\n",
       "      <td>6861</td>\n",
       "      <td>0.192863</td>\n",
       "      <td>0.432359</td>\n",
       "      <td>-0.478558</td>\n",
       "      <td>0.735870</td>\n",
       "      <td>-0.911082</td>\n",
       "      <td>0.006692</td>\n",
       "      <td>0</td>\n",
       "      <td>1</td>\n",
       "      <td>1</td>\n",
       "      <td>0</td>\n",
       "      <td>0</td>\n",
       "    </tr>\n",
       "  </tbody>\n",
       "</table>\n",
       "</div>"
      ],
      "text/plain": [
       "           Age   Balance  CreditScore  EstimatedSalary  NumOfProducts  \\\n",
       "642  -1.162943  0.788086    -0.704637         0.168909      -0.911082   \n",
       "9466  1.258140 -1.216709    -0.951268         0.487707      -0.911082   \n",
       "3303  0.483393  0.922168    -0.201098        -1.163306      -0.911082   \n",
       "4719 -0.388196  0.750285    -0.879334        -0.610004      -0.911082   \n",
       "6861  0.192863  0.432359    -0.478558         0.735870      -0.911082   \n",
       "\n",
       "        Tenure  Geography_Germany  Geography_Spain  Gender_Male  HasCrCard  \\\n",
       "642   0.006692                  0                0            0          1   \n",
       "9466  0.006692                  0                0            1          1   \n",
       "3303 -0.716765                  0                0            0          1   \n",
       "4719 -1.440221                  1                0            0          1   \n",
       "6861  0.006692                  0                1            1          0   \n",
       "\n",
       "      IsActiveMember  \n",
       "642                1  \n",
       "9466               0  \n",
       "3303               1  \n",
       "4719               0  \n",
       "6861               0  "
      ]
     },
     "execution_count": 20,
     "metadata": {},
     "output_type": "execute_result"
    }
   ],
   "source": [
    "#standardize the validation set\n",
    "features_valid_ohe = pd.DataFrame(data=ohe.transform(features_valid[categorical]).toarray(),\n",
    "                                columns=ohe.get_feature_names(categorical),\n",
    "                                index=features_valid.index)\n",
    "features_valid[numeric]= scaler.transform(features_valid[numeric])\n",
    "features_valid = pd.concat(\n",
    "    [features_valid[numeric], features_valid_ohe, features_valid[['HasCrCard','IsActiveMember']]], axis=1\n",
    ")\n",
    "features_valid.head()"
   ]
  },
  {
   "cell_type": "markdown",
   "metadata": {},
   "source": [
    "Now both the training and validation sets are standardized and we are ready for comparing between different models."
   ]
  },
  {
   "cell_type": "markdown",
   "metadata": {},
   "source": [
    "**Selecting algorithm - imbalanced data:**  \n",
    "We'll compare between three type of models:  \n",
    "1) Decision Tree Classifier  \n",
    "2) Random Forest Classifier  \n",
    "3) Logistic Regression Classifier  \n",
    "\n",
    "The metric we use for comparisom is the F1 score."
   ]
  },
  {
   "cell_type": "markdown",
   "metadata": {},
   "source": [
    "1) Decision Tree Classifier"
   ]
  },
  {
   "cell_type": "code",
   "execution_count": 21,
   "metadata": {},
   "outputs": [],
   "source": [
    "model = DecisionTreeClassifier(random_state=1234)\n",
    "param_grid_dt= {'criterion':['gini', 'entropy'], 'max_depth':[4, 8, 12, 16],\n",
    "                'min_samples_split': [2, 4, 8] ,'min_samples_leaf':[1, 2, 3]}"
   ]
  },
  {
   "cell_type": "code",
   "execution_count": 22,
   "metadata": {},
   "outputs": [
    {
     "data": {
      "text/plain": [
       "{'criterion': 'gini',\n",
       " 'max_depth': 8,\n",
       " 'min_samples_leaf': 1,\n",
       " 'min_samples_split': 8}"
      ]
     },
     "execution_count": 22,
     "metadata": {},
     "output_type": "execute_result"
    }
   ],
   "source": [
    "#find the best hyperparameters for the classifier\n",
    "dt_classifier = GridSearchCV(model, param_grid=param_grid_dt, cv=5, scoring='f1').fit(features_train, target_train)\n",
    "dt_classifier.best_params_"
   ]
  },
  {
   "cell_type": "code",
   "execution_count": 23,
   "metadata": {},
   "outputs": [
    {
     "name": "stdout",
     "output_type": "stream",
     "text": [
      "F1 score for this model: 0.5331\n",
      "ROC_AUC score for this model: 0.9024\n"
     ]
    }
   ],
   "source": [
    "#use the best hyperparameters\n",
    "dt_best = DecisionTreeClassifier(random_state=1234, criterion='gini', max_depth=8, min_samples_leaf=2, min_samples_split=8)\n",
    "dt_best.fit(features_train, target_train) \n",
    "print('F1 score for this model: {:.4f}'.format(f1_score(target_valid, dt_best.predict(features_valid))))\n",
    "probabilities_test = dt_best.predict_proba(features_train)\n",
    "probabilities_one_test = probabilities_test[:, 1]\n",
    "print('ROC_AUC score for this model: {:.4f}'.format(roc_auc_score(target_train, probabilities_one_test)))"
   ]
  },
  {
   "cell_type": "markdown",
   "metadata": {},
   "source": [
    "2) Random Forest Classifier"
   ]
  },
  {
   "cell_type": "code",
   "execution_count": 24,
   "metadata": {},
   "outputs": [],
   "source": [
    "model = RandomForestClassifier(random_state=1234)\n",
    "param_grid_rf= {'criterion':['gini', 'entropy'], 'n_estimators':[20, 50, 100] ,'max_depth':[4, 8, 12, 16]}"
   ]
  },
  {
   "cell_type": "code",
   "execution_count": 25,
   "metadata": {},
   "outputs": [
    {
     "data": {
      "text/plain": [
       "{'criterion': 'gini', 'max_depth': 16, 'n_estimators': 100}"
      ]
     },
     "execution_count": 25,
     "metadata": {},
     "output_type": "execute_result"
    }
   ],
   "source": [
    "#find the best hyperparameters for the classifier\n",
    "rf_classifier = GridSearchCV(model, param_grid=param_grid_rf, cv=5, scoring='f1').fit(features_train, target_train)\n",
    "rf_classifier.best_params_"
   ]
  },
  {
   "cell_type": "code",
   "execution_count": 26,
   "metadata": {},
   "outputs": [
    {
     "name": "stdout",
     "output_type": "stream",
     "text": [
      "F1 score for this model: 0.5913\n",
      "ROC_AUC score for this model: 1.0000\n"
     ]
    }
   ],
   "source": [
    "#use the best hyperparameters\n",
    "rf_best = RandomForestClassifier(random_state=1234, criterion='gini', max_depth=16, n_estimators=100)\n",
    "rf_best.fit(features_train, target_train) \n",
    "print('F1 score for this model: {:.4f}'.format(f1_score(target_valid, rf_best.predict(features_valid))))\n",
    "probabilities_test = rf_best.predict_proba(features_train)\n",
    "probabilities_one_test = probabilities_test[:, 1]\n",
    "print('ROC_AUC score for this model: {:.4f}'.format(roc_auc_score(target_train, probabilities_one_test)))"
   ]
  },
  {
   "cell_type": "markdown",
   "metadata": {},
   "source": [
    "This score is better than the score for the Decision Tree Classifier."
   ]
  },
  {
   "cell_type": "markdown",
   "metadata": {},
   "source": [
    "3) Logistic Regression Classifier "
   ]
  },
  {
   "cell_type": "code",
   "execution_count": 27,
   "metadata": {},
   "outputs": [],
   "source": [
    "model = LogisticRegression(random_state=1234)\n",
    "param_grid_lr= {'solver':['newton-cg', 'lbfgs', 'liblinear', 'sag', 'saga']}"
   ]
  },
  {
   "cell_type": "code",
   "execution_count": 28,
   "metadata": {},
   "outputs": [
    {
     "data": {
      "text/plain": [
       "{'solver': 'newton-cg'}"
      ]
     },
     "execution_count": 28,
     "metadata": {},
     "output_type": "execute_result"
    }
   ],
   "source": [
    "#find the best hyperparameters for the classifier\n",
    "lr_classifier = GridSearchCV(model, param_grid=param_grid_lr, cv=5, scoring='f1').fit(features_train, target_train)\n",
    "lr_classifier.best_params_"
   ]
  },
  {
   "cell_type": "code",
   "execution_count": 29,
   "metadata": {},
   "outputs": [
    {
     "name": "stdout",
     "output_type": "stream",
     "text": [
      "F1 score for this model: 0.3105\n",
      "ROC_AUC score for this model: 0.7702\n"
     ]
    }
   ],
   "source": [
    "#use the best hyperparameters\n",
    "lr_best = LogisticRegression(random_state=1234, solver = 'newton-cg')\n",
    "lr_best.fit(features_train, target_train) \n",
    "print('F1 score for this model: {:.4f}'.format(f1_score(target_valid, lr_best.predict(features_valid))))\n",
    "probabilities_test = lr_best.predict_proba(features_train)\n",
    "probabilities_one_test = probabilities_test[:, 1]\n",
    "print('ROC_AUC score for this model: {:.4f}'.format(roc_auc_score(target_train, probabilities_one_test)))"
   ]
  },
  {
   "cell_type": "markdown",
   "metadata": {},
   "source": [
    "This is the lowest score compared to the models tested."
   ]
  },
  {
   "cell_type": "markdown",
   "metadata": {},
   "source": [
    "For the imbalanced data we get the best results for the **Random Forest Classifier** that gives F1 score of 0.5913 and ROC-AUC of 1, which means the model always knows how to distinguish between the two classes and this high score related to the imbalance of the data. F1 score is only a bit higher than our target value (F1 > 0.59). Now we'll balance the traget in the training set and see how the results change."
   ]
  },
  {
   "cell_type": "markdown",
   "metadata": {},
   "source": [
    "**Selecting algorithm - balanced data:**"
   ]
  },
  {
   "cell_type": "code",
   "execution_count": 30,
   "metadata": {},
   "outputs": [
    {
     "data": {
      "text/plain": [
       "0    4775\n",
       "1    1225\n",
       "Name: Exited, dtype: int64"
      ]
     },
     "execution_count": 30,
     "metadata": {},
     "output_type": "execute_result"
    }
   ],
   "source": [
    "target_train.value_counts()"
   ]
  },
  {
   "cell_type": "markdown",
   "metadata": {},
   "source": [
    "The records for customers that didn't leave our bank is about 4 times larger than the users who chose to leave. We have few methods to deal with this imbalance:\n",
    "\n",
    "1) Upsampling  \n",
    "2) Downsampling  \n",
    "3) Class weight adjustment  \n",
    "\n",
    "We'll define functions for the first two options and investigate the different result for each method."
   ]
  },
  {
   "cell_type": "code",
   "execution_count": 31,
   "metadata": {},
   "outputs": [],
   "source": [
    "def upsample(features, target, repeat):\n",
    "    features_zeros = features[target == 0]\n",
    "    features_ones = features[target == 1]\n",
    "    target_zeros = target[target == 0]\n",
    "    target_ones = target[target == 1]\n",
    "\n",
    "    features_upsampled = pd.concat([features_zeros] + [features_ones] * repeat)\n",
    "    target_upsampled = pd.concat([target_zeros] + [target_ones] * repeat)\n",
    "    \n",
    "    features_upsampled, target_upsampled = shuffle(\n",
    "        features_upsampled, target_upsampled, random_state=1234)\n",
    "    \n",
    "    return features_upsampled, target_upsampled"
   ]
  },
  {
   "cell_type": "code",
   "execution_count": 32,
   "metadata": {},
   "outputs": [
    {
     "data": {
      "text/plain": [
       "(9675, 11)"
      ]
     },
     "metadata": {},
     "output_type": "display_data"
    },
    {
     "data": {
      "text/plain": [
       "(9675,)"
      ]
     },
     "metadata": {},
     "output_type": "display_data"
    }
   ],
   "source": [
    "#apply the function on the training set\n",
    "features_upsampled, target_upsampled = upsample(\n",
    "    features_train, target_train, 4)\n",
    "display(features_upsampled.shape, target_upsampled.shape)"
   ]
  },
  {
   "cell_type": "code",
   "execution_count": 33,
   "metadata": {},
   "outputs": [
    {
     "data": {
      "text/plain": [
       "1    4900\n",
       "0    4775\n",
       "Name: Exited, dtype: int64"
      ]
     },
     "execution_count": 33,
     "metadata": {},
     "output_type": "execute_result"
    }
   ],
   "source": [
    "target_upsampled.value_counts()"
   ]
  },
  {
   "cell_type": "markdown",
   "metadata": {},
   "source": [
    "Now the data balanced! We'll make another set but now, downsampled."
   ]
  },
  {
   "cell_type": "code",
   "execution_count": 34,
   "metadata": {},
   "outputs": [],
   "source": [
    "def downsample(features, target, fraction):\n",
    "    features_zeros = features[target == 0]\n",
    "    features_ones = features[target == 1]\n",
    "    target_zeros = target[target == 0]\n",
    "    target_ones = target[target == 1]\n",
    "\n",
    "    features_downsampled = pd.concat(\n",
    "        [features_zeros.sample(frac=fraction, random_state=1234)] + [features_ones])\n",
    "    target_downsampled = pd.concat(\n",
    "        [target_zeros.sample(frac=fraction, random_state=1234)] + [target_ones])\n",
    "    \n",
    "    features_downsampled, target_downsampled = shuffle(\n",
    "        features_downsampled, target_downsampled, random_state=1234)\n",
    "    \n",
    "    return features_downsampled, target_downsampled"
   ]
  },
  {
   "cell_type": "code",
   "execution_count": 35,
   "metadata": {},
   "outputs": [
    {
     "data": {
      "text/plain": [
       "(2419, 11)"
      ]
     },
     "metadata": {},
     "output_type": "display_data"
    },
    {
     "data": {
      "text/plain": [
       "(2419,)"
      ]
     },
     "metadata": {},
     "output_type": "display_data"
    }
   ],
   "source": [
    "#apply the function on the training set\n",
    "features_downsampled, target_downsampled = downsample(\n",
    "    features_train, target_train, 0.25)\n",
    "display(features_downsampled.shape, target_downsampled.shape)"
   ]
  },
  {
   "cell_type": "code",
   "execution_count": 36,
   "metadata": {},
   "outputs": [
    {
     "data": {
      "text/plain": [
       "1    1225\n",
       "0    1194\n",
       "Name: Exited, dtype: int64"
      ]
     },
     "execution_count": 36,
     "metadata": {},
     "output_type": "execute_result"
    }
   ],
   "source": [
    "target_downsampled.value_counts()"
   ]
  },
  {
   "cell_type": "markdown",
   "metadata": {},
   "source": [
    "Also here the data is balnced. Now we are ready for comparing between the methods for each one of the models."
   ]
  },
  {
   "cell_type": "markdown",
   "metadata": {},
   "source": [
    "1) Desicion Tree Classifier"
   ]
  },
  {
   "cell_type": "code",
   "execution_count": 37,
   "metadata": {},
   "outputs": [
    {
     "name": "stdout",
     "output_type": "stream",
     "text": [
      "F1 score for this method: 0.5502\n",
      "ROC_AUC score for this method: 0.9078\n"
     ]
    }
   ],
   "source": [
    "#use the class weight adjustment\n",
    "dt_best = DecisionTreeClassifier(random_state=1234, criterion='gini', max_depth=8, \n",
    "                                 min_samples_leaf=2, min_samples_split=8, class_weight='balanced')\n",
    "dt_best.fit(features_train, target_train) \n",
    "print('F1 score for this method: {:.4f}'.format(f1_score(target_valid, dt_best.predict(features_valid))))\n",
    "probabilities_test = dt_best.predict_proba(features_train)\n",
    "probabilities_one_test = probabilities_test[:, 1]\n",
    "print('ROC_AUC score for this method: {:.4f}'.format(roc_auc_score(target_train, probabilities_one_test)))"
   ]
  },
  {
   "cell_type": "code",
   "execution_count": 38,
   "metadata": {},
   "outputs": [
    {
     "name": "stdout",
     "output_type": "stream",
     "text": [
      "F1 score for this method: 0.5564\n",
      "ROC_AUC score for this method: 0.9098\n"
     ]
    }
   ],
   "source": [
    "#use the upsampling method\n",
    "dt_best = DecisionTreeClassifier(random_state=1234, criterion='gini', max_depth=8, \n",
    "                                 min_samples_leaf=2, min_samples_split=8)\n",
    "dt_best.fit(features_upsampled, target_upsampled) \n",
    "print('F1 score for this method: {:.4f}'.format(f1_score(target_valid, dt_best.predict(features_valid))))\n",
    "probabilities_test = dt_best.predict_proba(features_upsampled)\n",
    "probabilities_one_test = probabilities_test[:, 1]\n",
    "print('ROC_AUC score for this method: {:.4f}'.format(roc_auc_score(target_upsampled, probabilities_one_test)))"
   ]
  },
  {
   "cell_type": "code",
   "execution_count": 39,
   "metadata": {},
   "outputs": [
    {
     "name": "stdout",
     "output_type": "stream",
     "text": [
      "F1 score for this method: 0.5054\n",
      "ROC_AUC score for this method: 0.9096\n"
     ]
    }
   ],
   "source": [
    "#use the downsampling method\n",
    "dt_best = DecisionTreeClassifier(random_state=1234, criterion='gini', max_depth=8, \n",
    "                                 min_samples_leaf=2, min_samples_split=8)\n",
    "dt_best.fit(features_downsampled, target_downsampled) \n",
    "print('F1 score for this method: {:.4f}'.format(f1_score(target_valid, dt_best.predict(features_valid))))\n",
    "probabilities_test = dt_best.predict_proba(features_downsampled)\n",
    "probabilities_one_test = probabilities_test[:, 1]\n",
    "print('ROC_AUC score for this method: {:.4f}'.format(roc_auc_score(target_downsampled, probabilities_one_test)))"
   ]
  },
  {
   "cell_type": "markdown",
   "metadata": {},
   "source": [
    "For the Decision Tree Classifier, the best results were for the upsampling method, but the score is still not high enough. The ROC_AUC score stays pretty much the same."
   ]
  },
  {
   "cell_type": "markdown",
   "metadata": {},
   "source": [
    "2) Random Forest Classifier"
   ]
  },
  {
   "cell_type": "code",
   "execution_count": 40,
   "metadata": {},
   "outputs": [
    {
     "name": "stdout",
     "output_type": "stream",
     "text": [
      "F1 score for this method: 0.5551\n",
      "ROC_AUC score for this method: 1.0000\n"
     ]
    }
   ],
   "source": [
    "#use the class weight adjustment\n",
    "rf_best = RandomForestClassifier(random_state=1234, criterion='gini', max_depth=16, n_estimators=100, class_weight='balanced')\n",
    "rf_best.fit(features_train, target_train) \n",
    "print('F1 score for this method: {:.4f}'.format(f1_score(target_valid, rf_best.predict(features_valid))))\n",
    "probabilities_test = rf_best.predict_proba(features_train)\n",
    "probabilities_one_test = probabilities_test[:, 1]\n",
    "print('ROC_AUC score for this method: {:.4f}'.format(roc_auc_score(target_train, probabilities_one_test)))"
   ]
  },
  {
   "cell_type": "code",
   "execution_count": 41,
   "metadata": {},
   "outputs": [
    {
     "name": "stdout",
     "output_type": "stream",
     "text": [
      "F1 score for this method: 0.6016\n",
      "ROC_AUC score for this method: 1.0000\n"
     ]
    }
   ],
   "source": [
    "#use the upsampling method\n",
    "rf_best = RandomForestClassifier(random_state=1234, criterion='gini', max_depth=16, n_estimators=100)\n",
    "rf_best.fit(features_upsampled, target_upsampled) \n",
    "print('F1 score for this method: {:.4f}'.format(f1_score(target_valid, rf_best.predict(features_valid))))\n",
    "probabilities_test = rf_best.predict_proba(features_upsampled)\n",
    "probabilities_one_test = probabilities_test[:, 1]\n",
    "print('ROC_AUC score for this method: {:.4f}'.format(roc_auc_score(target_upsampled, probabilities_one_test)))"
   ]
  },
  {
   "cell_type": "code",
   "execution_count": 42,
   "metadata": {},
   "outputs": [
    {
     "name": "stdout",
     "output_type": "stream",
     "text": [
      "F1 score for this method: 0.5871\n",
      "ROC_AUC score for this method: 1.0000\n"
     ]
    }
   ],
   "source": [
    "#use the downsampling method\n",
    "rf_best = RandomForestClassifier(random_state=1234, criterion='gini', max_depth=16, n_estimators=100)\n",
    "rf_best.fit(features_downsampled, target_downsampled) \n",
    "print('F1 score for this method: {:.4f}'.format(f1_score(target_valid, rf_best.predict(features_valid))))\n",
    "probabilities_test = rf_best.predict_proba(features_downsampled)\n",
    "probabilities_one_test = probabilities_test[:, 1]\n",
    "print('ROC_AUC score for this method: {:.4f}'.format(roc_auc_score(target_downsampled, probabilities_one_test)))"
   ]
  },
  {
   "cell_type": "markdown",
   "metadata": {},
   "source": [
    "Also for the Random Forest Classifier, the best results were for the upsampling method, and it is also high enough!"
   ]
  },
  {
   "cell_type": "markdown",
   "metadata": {},
   "source": [
    "3) Logistic Regression Classifier"
   ]
  },
  {
   "cell_type": "code",
   "execution_count": 43,
   "metadata": {},
   "outputs": [
    {
     "name": "stdout",
     "output_type": "stream",
     "text": [
      "F1 score for this method: 0.4956\n",
      "ROC_AUC score for this method: 0.7743\n"
     ]
    }
   ],
   "source": [
    "#use the class weight adjustment\n",
    "lr_best = LogisticRegression(random_state=1234, solver = 'newton-cg', class_weight='balanced')\n",
    "lr_best.fit(features_train, target_train) \n",
    "print('F1 score for this method: {:.4f}'.format(f1_score(target_valid, lr_best.predict(features_valid))))\n",
    "probabilities_test = lr_best.predict_proba(features_train)\n",
    "probabilities_one_test = probabilities_test[:, 1]\n",
    "print('ROC_AUC score for this method: {:.4f}'.format(roc_auc_score(target_train, probabilities_one_test)))"
   ]
  },
  {
   "cell_type": "code",
   "execution_count": 44,
   "metadata": {},
   "outputs": [
    {
     "name": "stdout",
     "output_type": "stream",
     "text": [
      "F1 score for this method: 0.4939\n",
      "ROC_AUC score for this method: 0.7743\n"
     ]
    }
   ],
   "source": [
    "#use the upsampling method\n",
    "lr_best = LogisticRegression(random_state=1234, solver = 'newton-cg')\n",
    "lr_best.fit(features_upsampled, target_upsampled) \n",
    "print('F1 score for this method: {:.4f}'.format(f1_score(target_valid, lr_best.predict(features_valid))))\n",
    "probabilities_test = lr_best.predict_proba(features_upsampled)\n",
    "probabilities_one_test = probabilities_test[:, 1]\n",
    "print('ROC_AUC score for this method: {:.4f}'.format(roc_auc_score(target_upsampled, probabilities_one_test)))"
   ]
  },
  {
   "cell_type": "code",
   "execution_count": 45,
   "metadata": {},
   "outputs": [
    {
     "name": "stdout",
     "output_type": "stream",
     "text": [
      "F1 score for this method: 0.4939\n",
      "ROC_AUC score for this method: 0.7688\n"
     ]
    }
   ],
   "source": [
    "#use the downsampling method\n",
    "lr_best = LogisticRegression(random_state=1234, solver = 'newton-cg')\n",
    "lr_best.fit(features_downsampled, target_downsampled) \n",
    "print('F1 score for this method: {:.4f}'.format(f1_score(target_valid, lr_best.predict(features_valid))))\n",
    "probabilities_test = lr_best.predict_proba(features_downsampled)\n",
    "probabilities_one_test = probabilities_test[:, 1]\n",
    "print('ROC_AUC score for this method: {:.4f}'.format(roc_auc_score(target_downsampled, probabilities_one_test)))"
   ]
  },
  {
   "cell_type": "markdown",
   "metadata": {},
   "source": [
    "There is not a great difference between the methods for the Logistic Regression Classifier and as before, we got the lowest score between the three models tested.\n",
    "From what we mentioned above, we found out that the best model and method for our task is **Random Forest Classifier with upsampling method (F1=0.6016) and ROC_AUC score of 1.**"
   ]
  },
  {
   "cell_type": "markdown",
   "metadata": {},
   "source": [
    "## Testing the chosen model\n",
    "***\n",
    "<a class=\"anchor\" id=\"chapter3\"></a>"
   ]
  },
  {
   "cell_type": "markdown",
   "metadata": {},
   "source": [
    "Now when we have chosen the best model for our task, we'll test it with our test set. First we'll combine the training set and the validation set, as training the model on larger dataset should provide better results. The target of the training set is imblanced so we'll use the upsampling method for balancing the target variable of the training set.\n",
    "Then we'll train our final model and test it."
   ]
  },
  {
   "cell_type": "code",
   "execution_count": 46,
   "metadata": {},
   "outputs": [
    {
     "data": {
      "text/plain": [
       "(8000, 11)"
      ]
     },
     "metadata": {},
     "output_type": "display_data"
    },
    {
     "data": {
      "text/plain": [
       "(8000,)"
      ]
     },
     "metadata": {},
     "output_type": "display_data"
    }
   ],
   "source": [
    "#combine the training and validation sets for better results\n",
    "features_train = pd.concat([features_train, features_valid])\n",
    "target_train = pd.concat([target_train, target_valid])\n",
    "display(features_train.shape, target_train.shape)"
   ]
  },
  {
   "cell_type": "code",
   "execution_count": 47,
   "metadata": {},
   "outputs": [
    {
     "data": {
      "text/plain": [
       "0    6375\n",
       "1    1625\n",
       "Name: Exited, dtype: int64"
      ]
     },
     "execution_count": 47,
     "metadata": {},
     "output_type": "execute_result"
    }
   ],
   "source": [
    "target_train.value_counts()"
   ]
  },
  {
   "cell_type": "markdown",
   "metadata": {},
   "source": [
    "As we know, our data is imbalanced, the negative class is 4 times larger than the positive class. We'll use the upsampling method for balancing it."
   ]
  },
  {
   "cell_type": "code",
   "execution_count": 48,
   "metadata": {},
   "outputs": [
    {
     "data": {
      "text/plain": [
       "(12875, 11)"
      ]
     },
     "metadata": {},
     "output_type": "display_data"
    },
    {
     "data": {
      "text/plain": [
       "(12875,)"
      ]
     },
     "metadata": {},
     "output_type": "display_data"
    }
   ],
   "source": [
    "#use the upsampling method on the training set\n",
    "features_upsampled, target_upsampled = upsample(features_train, target_train, 4)\n",
    "display(features_upsampled.shape, target_upsampled.shape)"
   ]
  },
  {
   "cell_type": "code",
   "execution_count": 49,
   "metadata": {},
   "outputs": [
    {
     "data": {
      "text/plain": [
       "1    6500\n",
       "0    6375\n",
       "Name: Exited, dtype: int64"
      ]
     },
     "execution_count": 49,
     "metadata": {},
     "output_type": "execute_result"
    }
   ],
   "source": [
    "target_upsampled.value_counts()"
   ]
  },
  {
   "cell_type": "markdown",
   "metadata": {},
   "source": [
    "Now the target variable is balanced and we can move for preprocessing the test features."
   ]
  },
  {
   "cell_type": "code",
   "execution_count": 50,
   "metadata": {},
   "outputs": [
    {
     "data": {
      "text/html": [
       "<div>\n",
       "<style scoped>\n",
       "    .dataframe tbody tr th:only-of-type {\n",
       "        vertical-align: middle;\n",
       "    }\n",
       "\n",
       "    .dataframe tbody tr th {\n",
       "        vertical-align: top;\n",
       "    }\n",
       "\n",
       "    .dataframe thead th {\n",
       "        text-align: right;\n",
       "    }\n",
       "</style>\n",
       "<table border=\"1\" class=\"dataframe\">\n",
       "  <thead>\n",
       "    <tr style=\"text-align: right;\">\n",
       "      <th></th>\n",
       "      <th>Age</th>\n",
       "      <th>Balance</th>\n",
       "      <th>CreditScore</th>\n",
       "      <th>EstimatedSalary</th>\n",
       "      <th>NumOfProducts</th>\n",
       "      <th>Tenure</th>\n",
       "      <th>Geography_Germany</th>\n",
       "      <th>Geography_Spain</th>\n",
       "      <th>Gender_Male</th>\n",
       "      <th>HasCrCard</th>\n",
       "      <th>IsActiveMember</th>\n",
       "    </tr>\n",
       "  </thead>\n",
       "  <tbody>\n",
       "    <tr>\n",
       "      <td>2374</td>\n",
       "      <td>-0.969256</td>\n",
       "      <td>0.916424</td>\n",
       "      <td>-0.129164</td>\n",
       "      <td>-0.054959</td>\n",
       "      <td>0.822661</td>\n",
       "      <td>-0.355036</td>\n",
       "      <td>0</td>\n",
       "      <td>1</td>\n",
       "      <td>1</td>\n",
       "      <td>1</td>\n",
       "      <td>0</td>\n",
       "    </tr>\n",
       "    <tr>\n",
       "      <td>1784</td>\n",
       "      <td>-0.291353</td>\n",
       "      <td>1.565884</td>\n",
       "      <td>0.066085</td>\n",
       "      <td>-0.108435</td>\n",
       "      <td>-0.911082</td>\n",
       "      <td>1.091877</td>\n",
       "      <td>0</td>\n",
       "      <td>0</td>\n",
       "      <td>1</td>\n",
       "      <td>1</td>\n",
       "      <td>1</td>\n",
       "    </tr>\n",
       "    <tr>\n",
       "      <td>6301</td>\n",
       "      <td>0.580237</td>\n",
       "      <td>0.344407</td>\n",
       "      <td>1.175925</td>\n",
       "      <td>0.458304</td>\n",
       "      <td>-0.911082</td>\n",
       "      <td>0.368420</td>\n",
       "      <td>1</td>\n",
       "      <td>0</td>\n",
       "      <td>0</td>\n",
       "      <td>1</td>\n",
       "      <td>0</td>\n",
       "    </tr>\n",
       "    <tr>\n",
       "      <td>1600</td>\n",
       "      <td>-1.066100</td>\n",
       "      <td>0.622723</td>\n",
       "      <td>-1.382872</td>\n",
       "      <td>1.362870</td>\n",
       "      <td>-0.911082</td>\n",
       "      <td>-1.078493</td>\n",
       "      <td>0</td>\n",
       "      <td>0</td>\n",
       "      <td>1</td>\n",
       "      <td>1</td>\n",
       "      <td>0</td>\n",
       "    </tr>\n",
       "    <tr>\n",
       "      <td>7920</td>\n",
       "      <td>-0.485040</td>\n",
       "      <td>1.040134</td>\n",
       "      <td>0.641557</td>\n",
       "      <td>-0.038999</td>\n",
       "      <td>-0.911082</td>\n",
       "      <td>0.006692</td>\n",
       "      <td>0</td>\n",
       "      <td>0</td>\n",
       "      <td>1</td>\n",
       "      <td>0</td>\n",
       "      <td>1</td>\n",
       "    </tr>\n",
       "  </tbody>\n",
       "</table>\n",
       "</div>"
      ],
      "text/plain": [
       "           Age   Balance  CreditScore  EstimatedSalary  NumOfProducts  \\\n",
       "2374 -0.969256  0.916424    -0.129164        -0.054959       0.822661   \n",
       "1784 -0.291353  1.565884     0.066085        -0.108435      -0.911082   \n",
       "6301  0.580237  0.344407     1.175925         0.458304      -0.911082   \n",
       "1600 -1.066100  0.622723    -1.382872         1.362870      -0.911082   \n",
       "7920 -0.485040  1.040134     0.641557        -0.038999      -0.911082   \n",
       "\n",
       "        Tenure  Geography_Germany  Geography_Spain  Gender_Male  HasCrCard  \\\n",
       "2374 -0.355036                  0                1            1          1   \n",
       "1784  1.091877                  0                0            1          1   \n",
       "6301  0.368420                  1                0            0          1   \n",
       "1600 -1.078493                  0                0            1          1   \n",
       "7920  0.006692                  0                0            1          0   \n",
       "\n",
       "      IsActiveMember  \n",
       "2374               0  \n",
       "1784               1  \n",
       "6301               0  \n",
       "1600               0  \n",
       "7920               1  "
      ]
     },
     "execution_count": 50,
     "metadata": {},
     "output_type": "execute_result"
    }
   ],
   "source": [
    "#standardize the test set\n",
    "features_test_ohe = pd.DataFrame(data=ohe.transform(features_test[categorical]).toarray(),\n",
    "                                columns=ohe.get_feature_names(categorical),\n",
    "                                index=features_test.index)\n",
    "features_test[numeric]= scaler.transform(features_test[numeric])\n",
    "features_test = pd.concat(\n",
    "    [features_test[numeric], features_test_ohe, features_test[['HasCrCard','IsActiveMember']]], axis=1\n",
    ")\n",
    "\n",
    "features_test.head()"
   ]
  },
  {
   "cell_type": "markdown",
   "metadata": {},
   "source": [
    "Now everything is ready for the final test! We'll use the same hyperparameters from the previous section. We'll also calculate the ROC-AUC score and visualize it."
   ]
  },
  {
   "cell_type": "code",
   "execution_count": 51,
   "metadata": {},
   "outputs": [
    {
     "name": "stdout",
     "output_type": "stream",
     "text": [
      "F1 score for the final model: 0.6016\n"
     ]
    }
   ],
   "source": [
    "final_model = RandomForestClassifier(random_state=1234, criterion='gini', max_depth=16, n_estimators=100)\n",
    "final_model.fit(features_upsampled, target_upsampled) \n",
    "print('F1 score for the final model: {:.4f}'.format(f1_score(target_test, final_model.predict(features_test))))"
   ]
  },
  {
   "cell_type": "code",
   "execution_count": 52,
   "metadata": {},
   "outputs": [
    {
     "name": "stdout",
     "output_type": "stream",
     "text": [
      "ROC_AUC score for the final model: 0.8483\n"
     ]
    }
   ],
   "source": [
    "probabilities_test = final_model.predict_proba(features_test)\n",
    "probabilities_one_test = probabilities_test[:, 1]\n",
    "print('ROC_AUC score for the final model: {:.4f}'.format(roc_auc_score(target_test, probabilities_one_test)))"
   ]
  },
  {
   "cell_type": "markdown",
   "metadata": {},
   "source": [
    "Now we'll visualize the ROC-AUC metric."
   ]
  },
  {
   "cell_type": "code",
   "execution_count": 53,
   "metadata": {},
   "outputs": [
    {
     "data": {
      "image/png": "[encoded data removed]",
      "text/plain": [
       "<Figure size 576x432 with 1 Axes>"
      ]
     },
     "metadata": {
      "needs_background": "light"
     },
     "output_type": "display_data"
    }
   ],
   "source": [
    "fpr, tpr, thresholds = roc_curve(target_test, probabilities_one_test) \n",
    "\n",
    "plt.figure(figsize=(8, 6))\n",
    "\n",
    "plt.plot(fpr, tpr)\n",
    "plt.plot([0, 1], [0, 1], linestyle='--')\n",
    "\n",
    "plt.xlim([0.0, 1.0])\n",
    "plt.ylim([0.0, 1.0])\n",
    "plt.xlabel('False Positive Rate')\n",
    "plt.ylabel('True Positive Rate')\n",
    "\n",
    "plt.title('ROC curve')\n",
    "plt.show()"
   ]
  },
  {
   "cell_type": "markdown",
   "metadata": {},
   "source": [
    "The ROC_AUC score we get is 0.8483 which is higher than 0.5, which means the model do much better than a random model. It has a pretty good ability to distinguish between the different classes but not perfectly."
   ]
  },
  {
   "cell_type": "markdown",
   "metadata": {},
   "source": [
    "## General conclusions\n",
    "***\n",
    "<a class=\"anchor\" id=\"chapter4\"></a>"
   ]
  },
  {
   "cell_type": "markdown",
   "metadata": {},
   "source": [
    "In this report, we tried to find the best model for predicting our customers churn.\n",
    "We had some missing values for the `Tenure` column and the data we got had to be preprocessed for fitting to ML algorithems.\n",
    "We also had data 4 times larger for the customers who stayed than for customers who left, which can cause bad results.\n",
    "\n",
    "The data was splitted and tested on different models with different hyperparameters to achieve the best results.\n",
    "We examined different data balancing techniques such as upsampling, downsampling, and class weight adjustment.\n",
    "\n",
    "From all our test we recommend using the Random Forest Classifier ,with upsampling method for dealing with the imbalanced data, with the following hyperparameters: criterion='gini', max_depth=16, n_estimators=100.\n",
    "We got F1 score of 0.6016 which exceeds the minimum threshold required for our task (F1 > 0.59)."
   ]
  }
 ],
 "metadata": {
  "ExecuteTimeLog": [
   {
    "duration": 3,
    "start_time": "2021-10-08T11:00:08.417Z"
   },
   {
    "duration": 1101,
    "start_time": "2021-10-08T11:37:52.627Z"
   },
   {
    "duration": 44,
    "start_time": "2021-10-08T11:38:04.418Z"
   },
   {
    "duration": 8,
    "start_time": "2021-10-08T11:38:39.545Z"
   },
   {
    "duration": 40,
    "start_time": "2021-10-08T11:41:42.030Z"
   },
   {
    "duration": 16,
    "start_time": "2021-10-08T12:02:25.084Z"
   },
   {
    "duration": 7,
    "start_time": "2021-10-08T12:02:30.873Z"
   },
   {
    "duration": 229,
    "start_time": "2021-10-08T12:02:44.200Z"
   },
   {
    "duration": 9,
    "start_time": "2021-10-08T12:03:14.042Z"
   },
   {
    "duration": 11,
    "start_time": "2021-10-08T12:08:30.449Z"
   },
   {
    "duration": 21,
    "start_time": "2021-10-08T12:09:30.864Z"
   },
   {
    "duration": 7,
    "start_time": "2021-10-08T12:11:01.454Z"
   },
   {
    "duration": 7,
    "start_time": "2021-10-08T12:11:18.093Z"
   },
   {
    "duration": 21,
    "start_time": "2021-10-08T12:12:06.534Z"
   },
   {
    "duration": 9,
    "start_time": "2021-10-08T12:12:24.123Z"
   },
   {
    "duration": 6,
    "start_time": "2021-10-08T12:12:51.099Z"
   },
   {
    "duration": 1012,
    "start_time": "2021-10-08T12:35:16.916Z"
   },
   {
    "duration": 43,
    "start_time": "2021-10-08T12:35:17.930Z"
   },
   {
    "duration": 7,
    "start_time": "2021-10-08T12:35:17.975Z"
   },
   {
    "duration": 22,
    "start_time": "2021-10-08T12:35:17.984Z"
   },
   {
    "duration": 22,
    "start_time": "2021-10-08T12:35:18.007Z"
   },
   {
    "duration": 13,
    "start_time": "2021-10-08T12:35:18.030Z"
   },
   {
    "duration": 7,
    "start_time": "2021-10-08T12:35:18.045Z"
   },
   {
    "duration": 9,
    "start_time": "2021-10-08T12:35:18.054Z"
   },
   {
    "duration": 6,
    "start_time": "2021-10-08T12:35:18.064Z"
   },
   {
    "duration": 303,
    "start_time": "2021-10-08T12:35:18.072Z"
   },
   {
    "duration": -26,
    "start_time": "2021-10-08T12:35:18.402Z"
   },
   {
    "duration": -26,
    "start_time": "2021-10-08T12:35:18.403Z"
   },
   {
    "duration": -27,
    "start_time": "2021-10-08T12:35:18.405Z"
   },
   {
    "duration": -27,
    "start_time": "2021-10-08T12:35:18.406Z"
   },
   {
    "duration": -27,
    "start_time": "2021-10-08T12:35:18.407Z"
   },
   {
    "duration": -28,
    "start_time": "2021-10-08T12:35:18.409Z"
   },
   {
    "duration": -29,
    "start_time": "2021-10-08T12:35:18.411Z"
   },
   {
    "duration": 1333,
    "start_time": "2021-10-08T12:44:22.577Z"
   },
   {
    "duration": 1446,
    "start_time": "2021-10-08T12:44:48.719Z"
   },
   {
    "duration": 6,
    "start_time": "2021-10-08T12:47:23.358Z"
   },
   {
    "duration": 155,
    "start_time": "2021-10-08T12:50:56.913Z"
   },
   {
    "duration": 57,
    "start_time": "2021-10-08T12:51:06.347Z"
   },
   {
    "duration": 911,
    "start_time": "2021-10-08T12:51:14.076Z"
   },
   {
    "duration": 678,
    "start_time": "2021-10-08T12:53:53.397Z"
   },
   {
    "duration": 1465,
    "start_time": "2021-10-08T15:19:12.222Z"
   },
   {
    "duration": 301,
    "start_time": "2021-10-08T15:46:49.654Z"
   },
   {
    "duration": 195,
    "start_time": "2021-10-08T15:47:00.896Z"
   },
   {
    "duration": 4,
    "start_time": "2021-10-08T15:47:35.938Z"
   },
   {
    "duration": 5,
    "start_time": "2021-10-08T15:47:37.633Z"
   },
   {
    "duration": 194,
    "start_time": "2021-10-08T15:57:16.579Z"
   },
   {
    "duration": 185,
    "start_time": "2021-10-08T15:57:21.022Z"
   },
   {
    "duration": 512,
    "start_time": "2021-10-08T16:15:53.473Z"
   },
   {
    "duration": 530,
    "start_time": "2021-10-08T16:17:24.557Z"
   },
   {
    "duration": 1360,
    "start_time": "2021-10-08T16:26:19.970Z"
   },
   {
    "duration": 40,
    "start_time": "2021-10-08T16:27:14.332Z"
   },
   {
    "duration": 36429,
    "start_time": "2021-10-08T16:27:26.134Z"
   },
   {
    "duration": 4,
    "start_time": "2021-10-08T16:28:30.598Z"
   },
   {
    "duration": 3258,
    "start_time": "2021-10-08T16:31:42.166Z"
   },
   {
    "duration": 1412,
    "start_time": "2021-10-08T16:32:43.149Z"
   },
   {
    "duration": 4,
    "start_time": "2021-10-08T16:33:18.391Z"
   },
   {
    "duration": 4,
    "start_time": "2021-10-08T16:33:25.979Z"
   },
   {
    "duration": 4,
    "start_time": "2021-10-08T16:33:31.955Z"
   },
   {
    "duration": 4,
    "start_time": "2021-10-08T16:33:36.492Z"
   },
   {
    "duration": 182,
    "start_time": "2021-10-08T16:33:45.087Z"
   },
   {
    "duration": 1064,
    "start_time": "2021-10-08T17:14:27.195Z"
   },
   {
    "duration": 1497,
    "start_time": "2021-10-08T17:15:14.470Z"
   },
   {
    "duration": 1421,
    "start_time": "2021-10-08T17:15:27.588Z"
   },
   {
    "duration": 1632,
    "start_time": "2021-10-08T17:16:00.447Z"
   },
   {
    "duration": 1920,
    "start_time": "2021-10-08T17:16:13.888Z"
   },
   {
    "duration": 1460,
    "start_time": "2021-10-08T17:17:17.724Z"
   },
   {
    "duration": 1386,
    "start_time": "2021-10-08T17:17:51.090Z"
   },
   {
    "duration": 1107,
    "start_time": "2021-10-08T17:28:29.969Z"
   },
   {
    "duration": 40,
    "start_time": "2021-10-08T17:28:31.078Z"
   },
   {
    "duration": 12,
    "start_time": "2021-10-08T17:28:31.120Z"
   },
   {
    "duration": 12,
    "start_time": "2021-10-08T17:28:31.133Z"
   },
   {
    "duration": 10,
    "start_time": "2021-10-08T17:28:31.147Z"
   },
   {
    "duration": 14,
    "start_time": "2021-10-08T17:28:31.158Z"
   },
   {
    "duration": 229,
    "start_time": "2021-10-08T17:28:31.174Z"
   },
   {
    "duration": 5,
    "start_time": "2021-10-08T17:28:31.405Z"
   },
   {
    "duration": 8,
    "start_time": "2021-10-08T17:28:31.411Z"
   },
   {
    "duration": 39,
    "start_time": "2021-10-08T17:28:31.420Z"
   },
   {
    "duration": 2,
    "start_time": "2021-10-08T17:28:31.461Z"
   },
   {
    "duration": 1640,
    "start_time": "2021-10-08T17:28:31.464Z"
   },
   {
    "duration": 950,
    "start_time": "2021-10-08T17:28:33.105Z"
   },
   {
    "duration": 810,
    "start_time": "2021-10-08T17:28:34.057Z"
   },
   {
    "duration": 6,
    "start_time": "2021-10-08T17:28:34.869Z"
   },
   {
    "duration": 9,
    "start_time": "2021-10-08T17:28:34.876Z"
   },
   {
    "duration": 3,
    "start_time": "2021-10-08T17:28:34.899Z"
   },
   {
    "duration": 9,
    "start_time": "2021-10-08T17:30:48.934Z"
   },
   {
    "duration": 1084,
    "start_time": "2021-10-08T17:32:57.611Z"
   },
   {
    "duration": 41,
    "start_time": "2021-10-08T17:32:58.697Z"
   },
   {
    "duration": 12,
    "start_time": "2021-10-08T17:32:58.739Z"
   },
   {
    "duration": 17,
    "start_time": "2021-10-08T17:32:58.752Z"
   },
   {
    "duration": 7,
    "start_time": "2021-10-08T17:32:58.770Z"
   },
   {
    "duration": 7,
    "start_time": "2021-10-08T17:32:58.778Z"
   },
   {
    "duration": 225,
    "start_time": "2021-10-08T17:32:58.800Z"
   },
   {
    "duration": 5,
    "start_time": "2021-10-08T17:32:59.027Z"
   },
   {
    "duration": 6,
    "start_time": "2021-10-08T17:32:59.034Z"
   },
   {
    "duration": 4,
    "start_time": "2021-10-08T17:32:59.042Z"
   },
   {
    "duration": 56,
    "start_time": "2021-10-08T17:32:59.048Z"
   },
   {
    "duration": 3,
    "start_time": "2021-10-08T17:32:59.105Z"
   },
   {
    "duration": 1664,
    "start_time": "2021-10-08T17:32:59.109Z"
   },
   {
    "duration": 1073,
    "start_time": "2021-10-08T17:33:00.775Z"
   },
   {
    "duration": 778,
    "start_time": "2021-10-08T17:33:01.850Z"
   },
   {
    "duration": 8,
    "start_time": "2021-10-08T17:33:02.630Z"
   },
   {
    "duration": 21,
    "start_time": "2021-10-08T17:33:02.639Z"
   },
   {
    "duration": 15,
    "start_time": "2021-10-08T17:33:02.661Z"
   },
   {
    "duration": 32,
    "start_time": "2021-10-08T17:35:58.181Z"
   },
   {
    "duration": 339,
    "start_time": "2021-10-09T11:12:34.764Z"
   },
   {
    "duration": 1557,
    "start_time": "2021-10-09T11:12:41.324Z"
   },
   {
    "duration": 56,
    "start_time": "2021-10-09T11:12:42.883Z"
   },
   {
    "duration": 18,
    "start_time": "2021-10-09T11:12:42.942Z"
   },
   {
    "duration": 15,
    "start_time": "2021-10-09T11:12:42.963Z"
   },
   {
    "duration": 10,
    "start_time": "2021-10-09T11:12:43.002Z"
   },
   {
    "duration": 10,
    "start_time": "2021-10-09T11:12:43.014Z"
   },
   {
    "duration": 9,
    "start_time": "2021-10-09T11:12:43.027Z"
   },
   {
    "duration": 564,
    "start_time": "2021-10-09T11:12:43.040Z"
   },
   {
    "duration": 8,
    "start_time": "2021-10-09T11:12:43.608Z"
   },
   {
    "duration": 9,
    "start_time": "2021-10-09T11:12:43.619Z"
   },
   {
    "duration": 103,
    "start_time": "2021-10-09T11:12:43.631Z"
   },
   {
    "duration": 2783,
    "start_time": "2021-10-09T11:12:43.737Z"
   },
   {
    "duration": 1707,
    "start_time": "2021-10-09T11:12:46.523Z"
   },
   {
    "duration": 1148,
    "start_time": "2021-10-09T11:12:48.233Z"
   },
   {
    "duration": 18,
    "start_time": "2021-10-09T11:12:49.383Z"
   },
   {
    "duration": 13,
    "start_time": "2021-10-09T11:12:49.404Z"
   },
   {
    "duration": 3,
    "start_time": "2021-10-09T11:12:49.420Z"
   },
   {
    "duration": 444,
    "start_time": "2021-10-09T11:12:49.426Z"
   },
   {
    "duration": 643,
    "start_time": "2021-10-09T11:12:49.229Z"
   },
   {
    "duration": 643,
    "start_time": "2021-10-09T11:12:49.231Z"
   },
   {
    "duration": 1686,
    "start_time": "2021-10-09T11:16:05.494Z"
   },
   {
    "duration": 57,
    "start_time": "2021-10-09T11:16:07.183Z"
   },
   {
    "duration": 19,
    "start_time": "2021-10-09T11:16:07.243Z"
   },
   {
    "duration": 35,
    "start_time": "2021-10-09T11:16:07.265Z"
   },
   {
    "duration": 10,
    "start_time": "2021-10-09T11:16:07.303Z"
   },
   {
    "duration": 11,
    "start_time": "2021-10-09T11:16:07.316Z"
   },
   {
    "duration": 10,
    "start_time": "2021-10-09T11:16:07.329Z"
   },
   {
    "duration": 9,
    "start_time": "2021-10-09T11:16:07.343Z"
   },
   {
    "duration": 86,
    "start_time": "2021-10-09T11:16:07.355Z"
   },
   {
    "duration": 252,
    "start_time": "2021-10-09T11:16:07.191Z"
   },
   {
    "duration": 248,
    "start_time": "2021-10-09T11:16:07.197Z"
   },
   {
    "duration": 248,
    "start_time": "2021-10-09T11:16:07.198Z"
   },
   {
    "duration": 248,
    "start_time": "2021-10-09T11:16:07.199Z"
   },
   {
    "duration": 249,
    "start_time": "2021-10-09T11:16:07.200Z"
   },
   {
    "duration": 248,
    "start_time": "2021-10-09T11:16:07.202Z"
   },
   {
    "duration": 248,
    "start_time": "2021-10-09T11:16:07.204Z"
   },
   {
    "duration": 248,
    "start_time": "2021-10-09T11:16:07.205Z"
   },
   {
    "duration": 248,
    "start_time": "2021-10-09T11:16:07.206Z"
   },
   {
    "duration": 249,
    "start_time": "2021-10-09T11:16:07.207Z"
   },
   {
    "duration": 247,
    "start_time": "2021-10-09T11:16:07.210Z"
   },
   {
    "duration": 247,
    "start_time": "2021-10-09T11:16:07.211Z"
   },
   {
    "duration": 246,
    "start_time": "2021-10-09T11:16:07.213Z"
   },
   {
    "duration": 348,
    "start_time": "2021-10-09T11:21:43.628Z"
   },
   {
    "duration": 390,
    "start_time": "2021-10-09T11:23:36.847Z"
   },
   {
    "duration": 6,
    "start_time": "2021-10-09T11:23:46.944Z"
   },
   {
    "duration": 6,
    "start_time": "2021-10-09T11:23:57.218Z"
   },
   {
    "duration": 2727,
    "start_time": "2021-10-09T11:32:11.158Z"
   },
   {
    "duration": 1569,
    "start_time": "2021-10-09T11:36:20.887Z"
   },
   {
    "duration": 55,
    "start_time": "2021-10-09T11:36:22.459Z"
   },
   {
    "duration": 18,
    "start_time": "2021-10-09T11:36:22.517Z"
   },
   {
    "duration": 19,
    "start_time": "2021-10-09T11:36:22.537Z"
   },
   {
    "duration": 9,
    "start_time": "2021-10-09T11:36:22.558Z"
   },
   {
    "duration": 37,
    "start_time": "2021-10-09T11:36:22.570Z"
   },
   {
    "duration": 11,
    "start_time": "2021-10-09T11:36:22.609Z"
   },
   {
    "duration": 392,
    "start_time": "2021-10-09T11:36:22.624Z"
   },
   {
    "duration": 6,
    "start_time": "2021-10-09T11:36:23.019Z"
   },
   {
    "duration": 2830,
    "start_time": "2021-10-09T11:36:23.027Z"
   },
   {
    "duration": 661,
    "start_time": "2021-10-09T11:36:25.198Z"
   },
   {
    "duration": 540,
    "start_time": "2021-10-09T11:36:25.321Z"
   },
   {
    "duration": 534,
    "start_time": "2021-10-09T11:36:25.328Z"
   },
   {
    "duration": 533,
    "start_time": "2021-10-09T11:36:25.330Z"
   },
   {
    "duration": 533,
    "start_time": "2021-10-09T11:36:25.332Z"
   },
   {
    "duration": 532,
    "start_time": "2021-10-09T11:36:25.334Z"
   },
   {
    "duration": 532,
    "start_time": "2021-10-09T11:36:25.335Z"
   },
   {
    "duration": 532,
    "start_time": "2021-10-09T11:36:25.337Z"
   },
   {
    "duration": 532,
    "start_time": "2021-10-09T11:36:25.338Z"
   },
   {
    "duration": 296,
    "start_time": "2021-10-09T11:38:32.100Z"
   },
   {
    "duration": 11,
    "start_time": "2021-10-09T11:39:19.538Z"
   },
   {
    "duration": 9,
    "start_time": "2021-10-09T11:39:44.852Z"
   },
   {
    "duration": 287,
    "start_time": "2021-10-09T11:40:29.966Z"
   },
   {
    "duration": 6,
    "start_time": "2021-10-09T11:40:56.836Z"
   },
   {
    "duration": 1568,
    "start_time": "2021-10-09T11:41:39.013Z"
   },
   {
    "duration": 60,
    "start_time": "2021-10-09T11:41:40.585Z"
   },
   {
    "duration": 20,
    "start_time": "2021-10-09T11:41:40.649Z"
   },
   {
    "duration": 36,
    "start_time": "2021-10-09T11:41:40.672Z"
   },
   {
    "duration": 10,
    "start_time": "2021-10-09T11:41:40.710Z"
   },
   {
    "duration": 10,
    "start_time": "2021-10-09T11:41:40.723Z"
   },
   {
    "duration": 9,
    "start_time": "2021-10-09T11:41:40.736Z"
   },
   {
    "duration": 407,
    "start_time": "2021-10-09T11:41:40.748Z"
   },
   {
    "duration": 7,
    "start_time": "2021-10-09T11:41:41.157Z"
   },
   {
    "duration": 22,
    "start_time": "2021-10-09T11:41:41.166Z"
   },
   {
    "duration": 20,
    "start_time": "2021-10-09T11:41:41.190Z"
   },
   {
    "duration": 2788,
    "start_time": "2021-10-09T11:41:41.212Z"
   },
   {
    "duration": 1518,
    "start_time": "2021-10-09T11:41:44.003Z"
   },
   {
    "duration": 1280,
    "start_time": "2021-10-09T11:41:45.524Z"
   },
   {
    "duration": 7,
    "start_time": "2021-10-09T11:41:46.807Z"
   },
   {
    "duration": 12,
    "start_time": "2021-10-09T11:41:46.816Z"
   },
   {
    "duration": 4,
    "start_time": "2021-10-09T11:41:46.831Z"
   },
   {
    "duration": 414,
    "start_time": "2021-10-09T11:41:46.837Z"
   },
   {
    "duration": 516,
    "start_time": "2021-10-09T11:41:46.738Z"
   },
   {
    "duration": 516,
    "start_time": "2021-10-09T11:41:46.740Z"
   },
   {
    "duration": 10,
    "start_time": "2021-10-09T11:42:00.697Z"
   },
   {
    "duration": 1550,
    "start_time": "2021-10-09T11:42:07.325Z"
   },
   {
    "duration": 56,
    "start_time": "2021-10-09T11:42:08.878Z"
   },
   {
    "duration": 19,
    "start_time": "2021-10-09T11:42:08.937Z"
   },
   {
    "duration": 17,
    "start_time": "2021-10-09T11:42:08.958Z"
   },
   {
    "duration": 30,
    "start_time": "2021-10-09T11:42:08.977Z"
   },
   {
    "duration": 14,
    "start_time": "2021-10-09T11:42:09.010Z"
   },
   {
    "duration": 10,
    "start_time": "2021-10-09T11:42:09.026Z"
   },
   {
    "duration": 400,
    "start_time": "2021-10-09T11:42:09.040Z"
   },
   {
    "duration": 6,
    "start_time": "2021-10-09T11:42:09.443Z"
   },
   {
    "duration": 12,
    "start_time": "2021-10-09T11:42:09.452Z"
   },
   {
    "duration": 35,
    "start_time": "2021-10-09T11:42:09.467Z"
   },
   {
    "duration": 2885,
    "start_time": "2021-10-09T11:42:09.505Z"
   },
   {
    "duration": 1650,
    "start_time": "2021-10-09T11:42:12.392Z"
   },
   {
    "duration": 1256,
    "start_time": "2021-10-09T11:42:14.044Z"
   },
   {
    "duration": 8,
    "start_time": "2021-10-09T11:42:15.303Z"
   },
   {
    "duration": 14,
    "start_time": "2021-10-09T11:42:15.313Z"
   },
   {
    "duration": 6,
    "start_time": "2021-10-09T11:42:15.329Z"
   },
   {
    "duration": 410,
    "start_time": "2021-10-09T11:42:15.339Z"
   },
   {
    "duration": 653,
    "start_time": "2021-10-09T11:42:15.098Z"
   },
   {
    "duration": 652,
    "start_time": "2021-10-09T11:42:15.101Z"
   },
   {
    "duration": 10,
    "start_time": "2021-10-09T11:42:20.394Z"
   },
   {
    "duration": 1592,
    "start_time": "2021-10-09T11:42:26.763Z"
   },
   {
    "duration": 56,
    "start_time": "2021-10-09T11:42:28.357Z"
   },
   {
    "duration": 17,
    "start_time": "2021-10-09T11:42:28.415Z"
   },
   {
    "duration": 15,
    "start_time": "2021-10-09T11:42:28.435Z"
   },
   {
    "duration": 9,
    "start_time": "2021-10-09T11:42:28.452Z"
   },
   {
    "duration": 46,
    "start_time": "2021-10-09T11:42:28.464Z"
   },
   {
    "duration": 12,
    "start_time": "2021-10-09T11:42:28.513Z"
   },
   {
    "duration": 395,
    "start_time": "2021-10-09T11:42:28.531Z"
   },
   {
    "duration": 8,
    "start_time": "2021-10-09T11:42:28.930Z"
   },
   {
    "duration": 11,
    "start_time": "2021-10-09T11:42:28.940Z"
   },
   {
    "duration": 47,
    "start_time": "2021-10-09T11:42:28.953Z"
   },
   {
    "duration": 2669,
    "start_time": "2021-10-09T11:42:29.002Z"
   },
   {
    "duration": 1590,
    "start_time": "2021-10-09T11:42:31.674Z"
   },
   {
    "duration": 1139,
    "start_time": "2021-10-09T11:42:33.266Z"
   },
   {
    "duration": 9,
    "start_time": "2021-10-09T11:42:34.407Z"
   },
   {
    "duration": 10,
    "start_time": "2021-10-09T11:42:34.418Z"
   },
   {
    "duration": 4,
    "start_time": "2021-10-09T11:42:34.431Z"
   },
   {
    "duration": 413,
    "start_time": "2021-10-09T11:42:34.437Z"
   },
   {
    "duration": 668,
    "start_time": "2021-10-09T11:42:34.185Z"
   },
   {
    "duration": 668,
    "start_time": "2021-10-09T11:42:34.187Z"
   },
   {
    "duration": 1578,
    "start_time": "2021-10-09T13:44:17.997Z"
   },
   {
    "duration": 57,
    "start_time": "2021-10-09T13:44:19.578Z"
   },
   {
    "duration": 18,
    "start_time": "2021-10-09T13:44:19.639Z"
   },
   {
    "duration": 40,
    "start_time": "2021-10-09T13:44:19.661Z"
   },
   {
    "duration": 12,
    "start_time": "2021-10-09T13:44:19.705Z"
   },
   {
    "duration": 17,
    "start_time": "2021-10-09T13:44:19.720Z"
   },
   {
    "duration": 13,
    "start_time": "2021-10-09T13:44:19.740Z"
   },
   {
    "duration": 398,
    "start_time": "2021-10-09T13:44:19.758Z"
   },
   {
    "duration": 8,
    "start_time": "2021-10-09T13:44:20.160Z"
   },
   {
    "duration": 29,
    "start_time": "2021-10-09T13:44:20.171Z"
   },
   {
    "duration": 2574,
    "start_time": "2021-10-09T13:44:20.203Z"
   },
   {
    "duration": 6,
    "start_time": "2021-10-09T13:44:22.779Z"
   },
   {
    "duration": 21,
    "start_time": "2021-10-09T13:44:22.788Z"
   },
   {
    "duration": 10,
    "start_time": "2021-10-09T13:44:22.812Z"
   },
   {
    "duration": 5,
    "start_time": "2021-10-09T13:44:22.825Z"
   },
   {
    "duration": 7,
    "start_time": "2021-10-09T13:44:22.833Z"
   },
   {
    "duration": 428,
    "start_time": "2021-10-09T13:44:22.843Z"
   },
   {
    "duration": 727,
    "start_time": "2021-10-09T13:44:22.546Z"
   },
   {
    "duration": 727,
    "start_time": "2021-10-09T13:44:22.548Z"
   },
   {
    "duration": 726,
    "start_time": "2021-10-09T13:44:22.550Z"
   },
   {
    "duration": 726,
    "start_time": "2021-10-09T13:44:22.552Z"
   },
   {
    "duration": 283,
    "start_time": "2021-10-09T13:52:17.161Z"
   },
   {
    "duration": 283,
    "start_time": "2021-10-09T13:55:27.855Z"
   },
   {
    "duration": 282,
    "start_time": "2021-10-09T13:56:10.269Z"
   },
   {
    "duration": 308,
    "start_time": "2021-10-09T13:58:57.386Z"
   },
   {
    "duration": 14,
    "start_time": "2021-10-09T13:59:05.923Z"
   },
   {
    "duration": 357,
    "start_time": "2021-10-09T14:08:15.173Z"
   },
   {
    "duration": 726,
    "start_time": "2021-10-09T14:08:25.399Z"
   },
   {
    "duration": 22,
    "start_time": "2021-10-09T14:09:06.479Z"
   },
   {
    "duration": 30,
    "start_time": "2021-10-09T14:44:24.469Z"
   },
   {
    "duration": 253,
    "start_time": "2021-10-09T14:47:27.434Z"
   },
   {
    "duration": 253,
    "start_time": "2021-10-09T14:47:34.412Z"
   },
   {
    "duration": 272,
    "start_time": "2021-10-09T14:47:57.920Z"
   },
   {
    "duration": 1566,
    "start_time": "2021-10-09T14:48:11.508Z"
   },
   {
    "duration": 56,
    "start_time": "2021-10-09T14:48:13.077Z"
   },
   {
    "duration": 19,
    "start_time": "2021-10-09T14:48:13.136Z"
   },
   {
    "duration": 42,
    "start_time": "2021-10-09T14:48:13.158Z"
   },
   {
    "duration": 10,
    "start_time": "2021-10-09T14:48:13.203Z"
   },
   {
    "duration": 14,
    "start_time": "2021-10-09T14:48:13.215Z"
   },
   {
    "duration": 11,
    "start_time": "2021-10-09T14:48:13.232Z"
   },
   {
    "duration": 453,
    "start_time": "2021-10-09T14:48:13.247Z"
   },
   {
    "duration": 7,
    "start_time": "2021-10-09T14:48:13.704Z"
   },
   {
    "duration": 18,
    "start_time": "2021-10-09T14:48:13.713Z"
   },
   {
    "duration": 2817,
    "start_time": "2021-10-09T14:48:13.733Z"
   },
   {
    "duration": 6,
    "start_time": "2021-10-09T14:48:16.552Z"
   },
   {
    "duration": 12,
    "start_time": "2021-10-09T14:48:16.560Z"
   },
   {
    "duration": 30,
    "start_time": "2021-10-09T14:48:16.574Z"
   },
   {
    "duration": 5,
    "start_time": "2021-10-09T14:48:16.606Z"
   },
   {
    "duration": 4,
    "start_time": "2021-10-09T14:48:16.614Z"
   },
   {
    "duration": 27,
    "start_time": "2021-10-09T14:48:16.621Z"
   },
   {
    "duration": 405,
    "start_time": "2021-10-09T14:48:16.651Z"
   },
   {
    "duration": 794,
    "start_time": "2021-10-09T14:48:16.264Z"
   },
   {
    "duration": 793,
    "start_time": "2021-10-09T14:48:16.267Z"
   },
   {
    "duration": 792,
    "start_time": "2021-10-09T14:48:16.269Z"
   },
   {
    "duration": 791,
    "start_time": "2021-10-09T14:48:16.271Z"
   },
   {
    "duration": 13,
    "start_time": "2021-10-09T14:49:01.357Z"
   },
   {
    "duration": 262,
    "start_time": "2021-10-09T14:49:14.243Z"
   },
   {
    "duration": 31,
    "start_time": "2021-10-09T14:49:31.302Z"
   },
   {
    "duration": 6548,
    "start_time": "2021-10-09T14:49:53.072Z"
   },
   {
    "duration": 22,
    "start_time": "2021-10-09T14:50:19.158Z"
   },
   {
    "duration": 342,
    "start_time": "2021-10-09T15:30:09.458Z"
   },
   {
    "duration": 19,
    "start_time": "2021-10-09T15:30:20.559Z"
   },
   {
    "duration": 5,
    "start_time": "2021-10-09T15:30:24.869Z"
   },
   {
    "duration": 6213,
    "start_time": "2021-10-09T15:30:27.245Z"
   },
   {
    "duration": 11456,
    "start_time": "2021-10-09T15:31:13.697Z"
   },
   {
    "duration": 11710,
    "start_time": "2021-10-09T15:32:38.560Z"
   },
   {
    "duration": 100,
    "start_time": "2021-10-09T15:54:34.579Z"
   },
   {
    "duration": 290,
    "start_time": "2021-10-09T15:54:46.465Z"
   },
   {
    "duration": 40,
    "start_time": "2021-10-09T15:55:15.126Z"
   },
   {
    "duration": 41,
    "start_time": "2021-10-09T15:56:08.689Z"
   },
   {
    "duration": 5,
    "start_time": "2021-10-09T15:57:29.881Z"
   },
   {
    "duration": 11056,
    "start_time": "2021-10-09T15:57:32.618Z"
   },
   {
    "duration": 36,
    "start_time": "2021-10-09T15:57:53.538Z"
   },
   {
    "duration": 10,
    "start_time": "2021-10-09T16:11:50.304Z"
   },
   {
    "duration": 1671,
    "start_time": "2021-10-09T16:13:40.796Z"
   },
   {
    "duration": 56,
    "start_time": "2021-10-09T16:13:42.470Z"
   },
   {
    "duration": 18,
    "start_time": "2021-10-09T16:13:42.530Z"
   },
   {
    "duration": 17,
    "start_time": "2021-10-09T16:13:42.551Z"
   },
   {
    "duration": 35,
    "start_time": "2021-10-09T16:13:42.570Z"
   },
   {
    "duration": 11,
    "start_time": "2021-10-09T16:13:42.607Z"
   },
   {
    "duration": 10,
    "start_time": "2021-10-09T16:13:42.620Z"
   },
   {
    "duration": 400,
    "start_time": "2021-10-09T16:13:42.633Z"
   },
   {
    "duration": 6,
    "start_time": "2021-10-09T16:13:43.036Z"
   },
   {
    "duration": 7,
    "start_time": "2021-10-09T16:13:43.044Z"
   },
   {
    "duration": 2662,
    "start_time": "2021-10-09T16:13:43.053Z"
   },
   {
    "duration": 7,
    "start_time": "2021-10-09T16:13:45.717Z"
   },
   {
    "duration": 20,
    "start_time": "2021-10-09T16:13:45.726Z"
   },
   {
    "duration": 8,
    "start_time": "2021-10-09T16:13:45.749Z"
   },
   {
    "duration": 6,
    "start_time": "2021-10-09T16:13:45.759Z"
   },
   {
    "duration": 33,
    "start_time": "2021-10-09T16:13:45.768Z"
   },
   {
    "duration": 39,
    "start_time": "2021-10-09T16:13:45.804Z"
   },
   {
    "duration": 33,
    "start_time": "2021-10-09T16:13:45.845Z"
   },
   {
    "duration": 32,
    "start_time": "2021-10-09T16:13:45.881Z"
   },
   {
    "duration": 32,
    "start_time": "2021-10-09T16:13:45.916Z"
   },
   {
    "duration": 9,
    "start_time": "2021-10-09T16:13:45.951Z"
   },
   {
    "duration": 5,
    "start_time": "2021-10-09T16:13:45.962Z"
   },
   {
    "duration": 10916,
    "start_time": "2021-10-09T16:13:45.971Z"
   },
   {
    "duration": 40,
    "start_time": "2021-10-09T16:13:56.890Z"
   },
   {
    "duration": 6,
    "start_time": "2021-10-09T16:13:56.932Z"
   },
   {
    "duration": 10,
    "start_time": "2021-10-09T16:13:56.940Z"
   },
   {
    "duration": 6,
    "start_time": "2021-10-09T16:13:56.953Z"
   },
   {
    "duration": 56,
    "start_time": "2021-10-09T16:13:56.961Z"
   },
   {
    "duration": 6,
    "start_time": "2021-10-09T16:16:32.062Z"
   },
   {
    "duration": 433,
    "start_time": "2021-10-09T16:16:44.424Z"
   },
   {
    "duration": 259,
    "start_time": "2021-10-09T16:17:02.630Z"
   },
   {
    "duration": 258,
    "start_time": "2021-10-09T16:17:10.286Z"
   },
   {
    "duration": 6,
    "start_time": "2021-10-09T16:17:17.586Z"
   },
   {
    "duration": 254,
    "start_time": "2021-10-09T16:18:21.680Z"
   },
   {
    "duration": 9,
    "start_time": "2021-10-09T16:20:19.091Z"
   },
   {
    "duration": 9,
    "start_time": "2021-10-09T16:21:50.107Z"
   },
   {
    "duration": 1657,
    "start_time": "2021-10-09T16:45:56.412Z"
   },
   {
    "duration": 57,
    "start_time": "2021-10-09T16:45:58.071Z"
   },
   {
    "duration": 19,
    "start_time": "2021-10-09T16:45:58.130Z"
   },
   {
    "duration": 14,
    "start_time": "2021-10-09T16:45:58.152Z"
   },
   {
    "duration": 34,
    "start_time": "2021-10-09T16:45:58.169Z"
   },
   {
    "duration": 10,
    "start_time": "2021-10-09T16:45:58.205Z"
   },
   {
    "duration": 9,
    "start_time": "2021-10-09T16:45:58.218Z"
   },
   {
    "duration": 394,
    "start_time": "2021-10-09T16:45:58.231Z"
   },
   {
    "duration": 7,
    "start_time": "2021-10-09T16:45:58.628Z"
   },
   {
    "duration": 9,
    "start_time": "2021-10-09T16:45:58.637Z"
   },
   {
    "duration": 2651,
    "start_time": "2021-10-09T16:45:58.649Z"
   },
   {
    "duration": 7,
    "start_time": "2021-10-09T16:46:01.302Z"
   },
   {
    "duration": 25,
    "start_time": "2021-10-09T16:46:01.311Z"
   },
   {
    "duration": 15,
    "start_time": "2021-10-09T16:46:01.339Z"
   },
   {
    "duration": 17,
    "start_time": "2021-10-09T16:46:01.356Z"
   },
   {
    "duration": 10,
    "start_time": "2021-10-09T16:46:01.375Z"
   },
   {
    "duration": 33,
    "start_time": "2021-10-09T16:46:01.387Z"
   },
   {
    "duration": 39,
    "start_time": "2021-10-09T16:46:01.423Z"
   },
   {
    "duration": 20,
    "start_time": "2021-10-09T16:46:01.465Z"
   },
   {
    "duration": 35,
    "start_time": "2021-10-09T16:46:01.500Z"
   },
   {
    "duration": 4,
    "start_time": "2021-10-09T16:46:01.538Z"
   },
   {
    "duration": 10613,
    "start_time": "2021-10-09T16:46:01.545Z"
   },
   {
    "duration": 47,
    "start_time": "2021-10-09T16:46:12.162Z"
   },
   {
    "duration": 91,
    "start_time": "2021-10-09T16:46:12.212Z"
   },
   {
    "duration": 864,
    "start_time": "2021-10-09T16:46:11.442Z"
   },
   {
    "duration": 861,
    "start_time": "2021-10-09T16:46:11.446Z"
   },
   {
    "duration": 860,
    "start_time": "2021-10-09T16:46:11.449Z"
   },
   {
    "duration": 859,
    "start_time": "2021-10-09T16:46:11.451Z"
   },
   {
    "duration": 857,
    "start_time": "2021-10-09T16:46:11.454Z"
   },
   {
    "duration": 845,
    "start_time": "2021-10-09T16:46:11.467Z"
   },
   {
    "duration": 405,
    "start_time": "2021-10-09T16:46:41.024Z"
   },
   {
    "duration": 4,
    "start_time": "2021-10-09T16:46:46.686Z"
   },
   {
    "duration": 1541,
    "start_time": "2021-10-09T16:49:12.157Z"
   },
   {
    "duration": 57,
    "start_time": "2021-10-09T16:49:13.700Z"
   },
   {
    "duration": 18,
    "start_time": "2021-10-09T16:49:13.760Z"
   },
   {
    "duration": 29,
    "start_time": "2021-10-09T16:49:13.782Z"
   },
   {
    "duration": 12,
    "start_time": "2021-10-09T16:49:13.814Z"
   },
   {
    "duration": 11,
    "start_time": "2021-10-09T16:49:13.829Z"
   },
   {
    "duration": 10,
    "start_time": "2021-10-09T16:49:13.842Z"
   },
   {
    "duration": 370,
    "start_time": "2021-10-09T16:49:13.901Z"
   },
   {
    "duration": 7,
    "start_time": "2021-10-09T16:49:14.274Z"
   },
   {
    "duration": 20,
    "start_time": "2021-10-09T16:49:14.284Z"
   },
   {
    "duration": 2696,
    "start_time": "2021-10-09T16:49:14.307Z"
   },
   {
    "duration": 7,
    "start_time": "2021-10-09T16:49:17.007Z"
   },
   {
    "duration": 11,
    "start_time": "2021-10-09T16:49:17.017Z"
   },
   {
    "duration": 9,
    "start_time": "2021-10-09T16:49:17.030Z"
   },
   {
    "duration": 6,
    "start_time": "2021-10-09T16:49:17.041Z"
   },
   {
    "duration": 4,
    "start_time": "2021-10-09T16:49:17.049Z"
   },
   {
    "duration": 63,
    "start_time": "2021-10-09T16:49:17.056Z"
   },
   {
    "duration": 30,
    "start_time": "2021-10-09T16:49:17.122Z"
   },
   {
    "duration": 19,
    "start_time": "2021-10-09T16:49:17.154Z"
   },
   {
    "duration": 33,
    "start_time": "2021-10-09T16:49:17.199Z"
   },
   {
    "duration": 4,
    "start_time": "2021-10-09T16:49:17.235Z"
   },
   {
    "duration": 10865,
    "start_time": "2021-10-09T16:49:17.242Z"
   },
   {
    "duration": 36,
    "start_time": "2021-10-09T16:49:28.111Z"
   },
   {
    "duration": 4,
    "start_time": "2021-10-09T16:49:28.150Z"
   },
   {
    "duration": 50047,
    "start_time": "2021-10-09T16:49:28.156Z"
   },
   {
    "duration": 41,
    "start_time": "2021-10-09T16:50:18.206Z"
   },
   {
    "duration": 6,
    "start_time": "2021-10-09T16:50:18.249Z"
   },
   {
    "duration": 9,
    "start_time": "2021-10-09T16:50:18.258Z"
   },
   {
    "duration": 32,
    "start_time": "2021-10-09T16:50:18.270Z"
   },
   {
    "duration": 29,
    "start_time": "2021-10-09T16:50:18.304Z"
   },
   {
    "duration": 401,
    "start_time": "2021-10-09T16:52:34.174Z"
   },
   {
    "duration": 1033,
    "start_time": "2021-10-09T16:52:58.109Z"
   },
   {
    "duration": 4,
    "start_time": "2021-10-09T17:01:13.012Z"
   },
   {
    "duration": 6891,
    "start_time": "2021-10-09T17:01:17.725Z"
   },
   {
    "duration": 53,
    "start_time": "2021-10-09T17:01:31.748Z"
   },
   {
    "duration": 532,
    "start_time": "2021-10-09T17:12:37.952Z"
   },
   {
    "duration": 1589,
    "start_time": "2021-10-09T17:14:05.881Z"
   },
   {
    "duration": 57,
    "start_time": "2021-10-09T17:14:07.473Z"
   },
   {
    "duration": 19,
    "start_time": "2021-10-09T17:14:07.533Z"
   },
   {
    "duration": 18,
    "start_time": "2021-10-09T17:14:07.554Z"
   },
   {
    "duration": 35,
    "start_time": "2021-10-09T17:14:07.574Z"
   },
   {
    "duration": 27,
    "start_time": "2021-10-09T17:14:07.612Z"
   },
   {
    "duration": 12,
    "start_time": "2021-10-09T17:14:07.642Z"
   },
   {
    "duration": 382,
    "start_time": "2021-10-09T17:14:07.656Z"
   },
   {
    "duration": 7,
    "start_time": "2021-10-09T17:14:08.042Z"
   },
   {
    "duration": 14,
    "start_time": "2021-10-09T17:14:08.052Z"
   },
   {
    "duration": 2760,
    "start_time": "2021-10-09T17:14:08.069Z"
   },
   {
    "duration": 6,
    "start_time": "2021-10-09T17:14:10.832Z"
   },
   {
    "duration": 11,
    "start_time": "2021-10-09T17:14:10.841Z"
   },
   {
    "duration": 8,
    "start_time": "2021-10-09T17:14:10.854Z"
   },
   {
    "duration": 37,
    "start_time": "2021-10-09T17:14:10.864Z"
   },
   {
    "duration": 4,
    "start_time": "2021-10-09T17:14:10.903Z"
   },
   {
    "duration": 24,
    "start_time": "2021-10-09T17:14:10.910Z"
   },
   {
    "duration": 30,
    "start_time": "2021-10-09T17:14:10.937Z"
   },
   {
    "duration": 22,
    "start_time": "2021-10-09T17:14:11.000Z"
   },
   {
    "duration": 34,
    "start_time": "2021-10-09T17:14:11.024Z"
   },
   {
    "duration": 4,
    "start_time": "2021-10-09T17:14:11.061Z"
   },
   {
    "duration": 10863,
    "start_time": "2021-10-09T17:14:11.068Z"
   },
   {
    "duration": 34,
    "start_time": "2021-10-09T17:14:21.934Z"
   },
   {
    "duration": 4,
    "start_time": "2021-10-09T17:14:21.971Z"
   },
   {
    "duration": 49279,
    "start_time": "2021-10-09T17:14:22.001Z"
   },
   {
    "duration": 1009,
    "start_time": "2021-10-09T17:15:11.282Z"
   },
   {
    "duration": 3,
    "start_time": "2021-10-09T17:15:12.300Z"
   },
   {
    "duration": 7805,
    "start_time": "2021-10-09T17:15:12.306Z"
   },
   {
    "duration": 89,
    "start_time": "2021-10-09T17:15:20.114Z"
   },
   {
    "duration": 96,
    "start_time": "2021-10-09T17:15:20.206Z"
   },
   {
    "duration": 21,
    "start_time": "2021-10-09T17:15:20.305Z"
   },
   {
    "duration": 5,
    "start_time": "2021-10-09T17:15:20.329Z"
   },
   {
    "duration": 22,
    "start_time": "2021-10-09T17:15:20.337Z"
   },
   {
    "duration": 54,
    "start_time": "2021-10-09T17:15:20.362Z"
   },
   {
    "duration": 8,
    "start_time": "2021-10-09T17:18:53.601Z"
   },
   {
    "duration": 94,
    "start_time": "2021-10-09T17:25:07.095Z"
   },
   {
    "duration": 1558,
    "start_time": "2021-10-11T11:53:30.522Z"
   },
   {
    "duration": 53,
    "start_time": "2021-10-11T11:53:32.083Z"
   },
   {
    "duration": 30,
    "start_time": "2021-10-11T11:53:32.139Z"
   },
   {
    "duration": 15,
    "start_time": "2021-10-11T11:53:32.172Z"
   },
   {
    "duration": 11,
    "start_time": "2021-10-11T11:53:32.189Z"
   },
   {
    "duration": 11,
    "start_time": "2021-10-11T11:53:32.202Z"
   },
   {
    "duration": 54,
    "start_time": "2021-10-11T11:53:32.215Z"
   },
   {
    "duration": 375,
    "start_time": "2021-10-11T11:53:32.274Z"
   },
   {
    "duration": 16,
    "start_time": "2021-10-11T11:53:32.652Z"
   },
   {
    "duration": 6,
    "start_time": "2021-10-11T11:53:32.670Z"
   },
   {
    "duration": 2695,
    "start_time": "2021-10-11T11:53:32.679Z"
   },
   {
    "duration": 7,
    "start_time": "2021-10-11T11:53:35.376Z"
   },
   {
    "duration": 16,
    "start_time": "2021-10-11T11:53:35.385Z"
   },
   {
    "duration": 13,
    "start_time": "2021-10-11T11:53:35.404Z"
   },
   {
    "duration": 6,
    "start_time": "2021-10-11T11:53:35.420Z"
   },
   {
    "duration": 10,
    "start_time": "2021-10-11T11:53:35.428Z"
   },
   {
    "duration": 47,
    "start_time": "2021-10-11T11:53:35.440Z"
   },
   {
    "duration": 30,
    "start_time": "2021-10-11T11:53:35.489Z"
   },
   {
    "duration": 49,
    "start_time": "2021-10-11T11:53:35.521Z"
   },
   {
    "duration": 36,
    "start_time": "2021-10-11T11:53:35.572Z"
   },
   {
    "duration": 4,
    "start_time": "2021-10-11T11:53:35.610Z"
   },
   {
    "duration": 11092,
    "start_time": "2021-10-11T11:53:35.616Z"
   },
   {
    "duration": 34,
    "start_time": "2021-10-11T11:53:46.712Z"
   },
   {
    "duration": 20,
    "start_time": "2021-10-11T11:53:46.749Z"
   },
   {
    "duration": 48937,
    "start_time": "2021-10-11T11:53:46.772Z"
   },
   {
    "duration": 1014,
    "start_time": "2021-10-11T11:54:35.712Z"
   },
   {
    "duration": 4,
    "start_time": "2021-10-11T11:54:36.728Z"
   },
   {
    "duration": 7835,
    "start_time": "2021-10-11T11:54:36.734Z"
   },
   {
    "duration": 195,
    "start_time": "2021-10-11T11:54:44.572Z"
   },
   {
    "duration": 99,
    "start_time": "2021-10-11T11:54:44.771Z"
   },
   {
    "duration": 7,
    "start_time": "2021-10-11T11:54:44.873Z"
   },
   {
    "duration": 20,
    "start_time": "2021-10-11T11:54:44.882Z"
   },
   {
    "duration": 8,
    "start_time": "2021-10-11T11:54:44.904Z"
   },
   {
    "duration": 8,
    "start_time": "2021-10-11T11:54:44.914Z"
   },
   {
    "duration": 60,
    "start_time": "2021-10-11T11:54:44.924Z"
   },
   {
    "duration": 8,
    "start_time": "2021-10-11T11:54:44.986Z"
   },
   {
    "duration": 7,
    "start_time": "2021-10-11T11:54:44.997Z"
   },
   {
    "duration": 12,
    "start_time": "2021-10-11T11:54:45.006Z"
   },
   {
    "duration": 65,
    "start_time": "2021-10-11T11:54:45.020Z"
   },
   {
    "duration": 489,
    "start_time": "2021-10-11T11:59:09.887Z"
   },
   {
    "duration": 1542,
    "start_time": "2021-10-11T12:02:40.188Z"
   },
   {
    "duration": 56,
    "start_time": "2021-10-11T12:02:41.733Z"
   },
   {
    "duration": 20,
    "start_time": "2021-10-11T12:02:41.792Z"
   },
   {
    "duration": 16,
    "start_time": "2021-10-11T12:02:41.814Z"
   },
   {
    "duration": 9,
    "start_time": "2021-10-11T12:02:41.832Z"
   },
   {
    "duration": 11,
    "start_time": "2021-10-11T12:02:41.867Z"
   },
   {
    "duration": 10,
    "start_time": "2021-10-11T12:02:41.880Z"
   },
   {
    "duration": 406,
    "start_time": "2021-10-11T12:02:41.894Z"
   },
   {
    "duration": 6,
    "start_time": "2021-10-11T12:02:42.303Z"
   },
   {
    "duration": 8,
    "start_time": "2021-10-11T12:02:42.312Z"
   },
   {
    "duration": 2700,
    "start_time": "2021-10-11T12:02:42.322Z"
   },
   {
    "duration": 7,
    "start_time": "2021-10-11T12:02:45.024Z"
   },
   {
    "duration": 11,
    "start_time": "2021-10-11T12:02:45.034Z"
   },
   {
    "duration": 28,
    "start_time": "2021-10-11T12:02:45.047Z"
   },
   {
    "duration": 7,
    "start_time": "2021-10-11T12:02:45.077Z"
   },
   {
    "duration": 6,
    "start_time": "2021-10-11T12:02:45.087Z"
   },
   {
    "duration": 23,
    "start_time": "2021-10-11T12:02:45.095Z"
   },
   {
    "duration": 66,
    "start_time": "2021-10-11T12:02:45.121Z"
   },
   {
    "duration": 22,
    "start_time": "2021-10-11T12:02:45.190Z"
   },
   {
    "duration": 66,
    "start_time": "2021-10-11T12:02:45.215Z"
   },
   {
    "duration": 4,
    "start_time": "2021-10-11T12:02:45.284Z"
   },
   {
    "duration": 10710,
    "start_time": "2021-10-11T12:02:45.291Z"
   },
   {
    "duration": 35,
    "start_time": "2021-10-11T12:02:56.007Z"
   },
   {
    "duration": 22,
    "start_time": "2021-10-11T12:02:56.045Z"
   },
   {
    "duration": 49810,
    "start_time": "2021-10-11T12:02:56.069Z"
   },
   {
    "duration": 1011,
    "start_time": "2021-10-11T12:03:45.881Z"
   },
   {
    "duration": 3,
    "start_time": "2021-10-11T12:03:46.895Z"
   },
   {
    "duration": 8069,
    "start_time": "2021-10-11T12:03:46.900Z"
   },
   {
    "duration": 701,
    "start_time": "2021-10-11T12:03:54.973Z"
   },
   {
    "duration": 95,
    "start_time": "2021-10-11T12:03:55.676Z"
   },
   {
    "duration": 10,
    "start_time": "2021-10-11T12:03:55.774Z"
   },
   {
    "duration": 19,
    "start_time": "2021-10-11T12:03:55.866Z"
   },
   {
    "duration": 7,
    "start_time": "2021-10-11T12:03:55.888Z"
   },
   {
    "duration": 5,
    "start_time": "2021-10-11T12:03:55.898Z"
   },
   {
    "duration": 19,
    "start_time": "2021-10-11T12:03:55.906Z"
   },
   {
    "duration": 8,
    "start_time": "2021-10-11T12:03:55.967Z"
   },
   {
    "duration": 7,
    "start_time": "2021-10-11T12:03:55.978Z"
   },
   {
    "duration": 7,
    "start_time": "2021-10-11T12:03:55.987Z"
   },
   {
    "duration": 10,
    "start_time": "2021-10-11T12:03:55.996Z"
   },
   {
    "duration": 75,
    "start_time": "2021-10-11T12:03:56.009Z"
   },
   {
    "duration": 9,
    "start_time": "2021-10-11T12:06:04.918Z"
   },
   {
    "duration": 530,
    "start_time": "2021-10-11T12:06:13.467Z"
   },
   {
    "duration": 255,
    "start_time": "2021-10-11T12:06:46.555Z"
   },
   {
    "duration": 9,
    "start_time": "2021-10-11T12:06:51.254Z"
   },
   {
    "duration": 295,
    "start_time": "2021-10-11T12:07:39.556Z"
   },
   {
    "duration": 123,
    "start_time": "2021-10-11T12:11:18.459Z"
   },
   {
    "duration": 310,
    "start_time": "2021-10-11T12:11:38.450Z"
   },
   {
    "duration": 83,
    "start_time": "2021-10-11T12:16:05.499Z"
   },
   {
    "duration": 291,
    "start_time": "2021-10-11T12:16:10.156Z"
   },
   {
    "duration": 274,
    "start_time": "2021-10-11T12:16:27.780Z"
   },
   {
    "duration": 9,
    "start_time": "2021-10-11T12:17:14.321Z"
   },
   {
    "duration": 80,
    "start_time": "2021-10-11T12:17:23.979Z"
   },
   {
    "duration": 1532,
    "start_time": "2021-10-11T12:19:29.108Z"
   },
   {
    "duration": 57,
    "start_time": "2021-10-11T12:19:30.643Z"
   },
   {
    "duration": 19,
    "start_time": "2021-10-11T12:19:30.705Z"
   },
   {
    "duration": 44,
    "start_time": "2021-10-11T12:19:30.728Z"
   },
   {
    "duration": 12,
    "start_time": "2021-10-11T12:19:30.775Z"
   },
   {
    "duration": 13,
    "start_time": "2021-10-11T12:19:30.790Z"
   },
   {
    "duration": 13,
    "start_time": "2021-10-11T12:19:30.805Z"
   },
   {
    "duration": 386,
    "start_time": "2021-10-11T12:19:30.868Z"
   },
   {
    "duration": 8,
    "start_time": "2021-10-11T12:19:31.266Z"
   },
   {
    "duration": 17,
    "start_time": "2021-10-11T12:19:31.277Z"
   },
   {
    "duration": 2659,
    "start_time": "2021-10-11T12:19:31.296Z"
   },
   {
    "duration": 11,
    "start_time": "2021-10-11T12:19:33.957Z"
   },
   {
    "duration": 12,
    "start_time": "2021-10-11T12:19:33.971Z"
   },
   {
    "duration": 9,
    "start_time": "2021-10-11T12:19:33.985Z"
   },
   {
    "duration": 14,
    "start_time": "2021-10-11T12:19:33.996Z"
   },
   {
    "duration": 6,
    "start_time": "2021-10-11T12:19:34.012Z"
   },
   {
    "duration": 51,
    "start_time": "2021-10-11T12:19:34.020Z"
   },
   {
    "duration": 29,
    "start_time": "2021-10-11T12:19:34.073Z"
   },
   {
    "duration": 19,
    "start_time": "2021-10-11T12:19:34.104Z"
   },
   {
    "duration": 62,
    "start_time": "2021-10-11T12:19:34.125Z"
   },
   {
    "duration": 5,
    "start_time": "2021-10-11T12:19:34.189Z"
   },
   {
    "duration": 10578,
    "start_time": "2021-10-11T12:19:34.196Z"
   },
   {
    "duration": 34,
    "start_time": "2021-10-11T12:19:44.779Z"
   },
   {
    "duration": 4,
    "start_time": "2021-10-11T12:19:44.816Z"
   },
   {
    "duration": 49487,
    "start_time": "2021-10-11T12:19:44.823Z"
   },
   {
    "duration": 999,
    "start_time": "2021-10-11T12:20:34.312Z"
   },
   {
    "duration": 4,
    "start_time": "2021-10-11T12:20:35.314Z"
   },
   {
    "duration": 7355,
    "start_time": "2021-10-11T12:20:35.320Z"
   },
   {
    "duration": 609,
    "start_time": "2021-10-11T12:20:42.768Z"
   },
   {
    "duration": 91,
    "start_time": "2021-10-11T12:20:43.381Z"
   },
   {
    "duration": 96,
    "start_time": "2021-10-11T12:20:43.476Z"
   },
   {
    "duration": 27,
    "start_time": "2021-10-11T12:20:43.576Z"
   },
   {
    "duration": 7,
    "start_time": "2021-10-11T12:20:43.606Z"
   },
   {
    "duration": 7,
    "start_time": "2021-10-11T12:20:43.615Z"
   },
   {
    "duration": 60,
    "start_time": "2021-10-11T12:20:43.624Z"
   },
   {
    "duration": 10,
    "start_time": "2021-10-11T12:20:43.687Z"
   },
   {
    "duration": 9,
    "start_time": "2021-10-11T12:20:43.701Z"
   },
   {
    "duration": 69,
    "start_time": "2021-10-11T12:20:43.713Z"
   },
   {
    "duration": 36,
    "start_time": "2021-10-11T12:38:45.466Z"
   },
   {
    "duration": 49,
    "start_time": "2021-10-11T12:38:48.086Z"
   },
   {
    "duration": 23,
    "start_time": "2021-10-11T12:38:51.000Z"
   },
   {
    "duration": 937,
    "start_time": "2021-10-11T12:41:55.584Z"
   },
   {
    "duration": 1452,
    "start_time": "2021-10-11T12:41:59.040Z"
   },
   {
    "duration": 515,
    "start_time": "2021-10-11T12:42:04.640Z"
   },
   {
    "duration": 364,
    "start_time": "2021-10-11T12:44:50.809Z"
   },
   {
    "duration": 695,
    "start_time": "2021-10-11T12:44:53.273Z"
   },
   {
    "duration": 402,
    "start_time": "2021-10-11T12:44:56.206Z"
   },
   {
    "duration": 297,
    "start_time": "2021-10-11T12:45:11.776Z"
   },
   {
    "duration": 272,
    "start_time": "2021-10-11T13:18:44.973Z"
   },
   {
    "duration": 288,
    "start_time": "2021-10-11T13:19:15.943Z"
   },
   {
    "duration": 10,
    "start_time": "2021-10-11T13:21:14.544Z"
   },
   {
    "duration": 9,
    "start_time": "2021-10-11T13:21:43.901Z"
   },
   {
    "duration": 24,
    "start_time": "2021-10-11T13:40:44.213Z"
   },
   {
    "duration": 12,
    "start_time": "2021-10-11T13:40:48.847Z"
   },
   {
    "duration": 1930,
    "start_time": "2021-10-11T13:53:27.700Z"
   },
   {
    "duration": 260,
    "start_time": "2021-10-11T13:53:32.577Z"
   },
   {
    "duration": 67,
    "start_time": "2021-10-11T13:54:03.293Z"
   },
   {
    "duration": 309,
    "start_time": "2021-10-11T13:55:24.653Z"
   },
   {
    "duration": 1592,
    "start_time": "2021-10-11T14:32:33.639Z"
   },
   {
    "duration": 54,
    "start_time": "2021-10-11T14:32:35.234Z"
   },
   {
    "duration": 20,
    "start_time": "2021-10-11T14:32:35.291Z"
   },
   {
    "duration": 18,
    "start_time": "2021-10-11T14:32:35.314Z"
   },
   {
    "duration": 33,
    "start_time": "2021-10-11T14:32:35.334Z"
   },
   {
    "duration": 11,
    "start_time": "2021-10-11T14:32:35.370Z"
   },
   {
    "duration": 11,
    "start_time": "2021-10-11T14:32:35.383Z"
   },
   {
    "duration": 395,
    "start_time": "2021-10-11T14:32:35.396Z"
   },
   {
    "duration": 7,
    "start_time": "2021-10-11T14:32:35.796Z"
   },
   {
    "duration": 8,
    "start_time": "2021-10-11T14:32:35.806Z"
   },
   {
    "duration": 2694,
    "start_time": "2021-10-11T14:32:35.817Z"
   },
   {
    "duration": 8,
    "start_time": "2021-10-11T14:32:38.514Z"
   },
   {
    "duration": 11,
    "start_time": "2021-10-11T14:32:38.525Z"
   },
   {
    "duration": 35,
    "start_time": "2021-10-11T14:32:38.539Z"
   },
   {
    "duration": 6,
    "start_time": "2021-10-11T14:32:38.577Z"
   },
   {
    "duration": 10,
    "start_time": "2021-10-11T14:32:38.586Z"
   },
   {
    "duration": 27,
    "start_time": "2021-10-11T14:32:38.598Z"
   },
   {
    "duration": 63,
    "start_time": "2021-10-11T14:32:38.627Z"
   },
   {
    "duration": 21,
    "start_time": "2021-10-11T14:32:38.692Z"
   },
   {
    "duration": 61,
    "start_time": "2021-10-11T14:32:38.716Z"
   },
   {
    "duration": 5,
    "start_time": "2021-10-11T14:32:38.780Z"
   },
   {
    "duration": 10590,
    "start_time": "2021-10-11T14:32:38.787Z"
   },
   {
    "duration": 35,
    "start_time": "2021-10-11T14:32:49.379Z"
   },
   {
    "duration": 4,
    "start_time": "2021-10-11T14:32:49.416Z"
   },
   {
    "duration": 49970,
    "start_time": "2021-10-11T14:32:49.423Z"
   },
   {
    "duration": 1001,
    "start_time": "2021-10-11T14:33:39.395Z"
   },
   {
    "duration": 3,
    "start_time": "2021-10-11T14:33:40.402Z"
   },
   {
    "duration": 7662,
    "start_time": "2021-10-11T14:33:40.408Z"
   },
   {
    "duration": 702,
    "start_time": "2021-10-11T14:33:48.167Z"
   },
   {
    "duration": 100,
    "start_time": "2021-10-11T14:33:48.873Z"
   },
   {
    "duration": 6,
    "start_time": "2021-10-11T14:33:48.975Z"
   },
   {
    "duration": 27,
    "start_time": "2021-10-11T14:33:48.983Z"
   },
   {
    "duration": 7,
    "start_time": "2021-10-11T14:33:49.012Z"
   },
   {
    "duration": 45,
    "start_time": "2021-10-11T14:33:49.022Z"
   },
   {
    "duration": 21,
    "start_time": "2021-10-11T14:33:49.070Z"
   },
   {
    "duration": 7,
    "start_time": "2021-10-11T14:33:49.093Z"
   },
   {
    "duration": 67,
    "start_time": "2021-10-11T14:33:49.104Z"
   },
   {
    "duration": 47,
    "start_time": "2021-10-11T14:33:49.174Z"
   },
   {
    "duration": 48,
    "start_time": "2021-10-11T14:33:49.224Z"
   },
   {
    "duration": 972,
    "start_time": "2021-10-11T14:33:49.275Z"
   },
   {
    "duration": 1431,
    "start_time": "2021-10-11T14:33:50.250Z"
   },
   {
    "duration": 527,
    "start_time": "2021-10-11T14:33:51.684Z"
   },
   {
    "duration": 455,
    "start_time": "2021-10-11T14:33:52.213Z"
   },
   {
    "duration": 609,
    "start_time": "2021-10-11T14:33:52.671Z"
   },
   {
    "duration": 402,
    "start_time": "2021-10-11T14:33:53.369Z"
   },
   {
    "duration": 96,
    "start_time": "2021-10-11T14:33:53.775Z"
   },
   {
    "duration": 9,
    "start_time": "2021-10-11T14:33:53.873Z"
   },
   {
    "duration": 17,
    "start_time": "2021-10-11T14:33:53.885Z"
   },
   {
    "duration": 7,
    "start_time": "2021-10-11T14:33:53.905Z"
   },
   {
    "duration": 82,
    "start_time": "2021-10-11T14:33:53.915Z"
   },
   {
    "duration": 2040,
    "start_time": "2021-10-11T14:33:53.999Z"
   },
   {
    "duration": 80,
    "start_time": "2021-10-11T14:33:56.042Z"
   },
   {
    "duration": 319,
    "start_time": "2021-10-11T14:33:56.124Z"
   },
   {
    "duration": 1152,
    "start_time": "2021-10-12T00:19:17.593Z"
   },
   {
    "duration": 43,
    "start_time": "2021-10-12T00:19:18.747Z"
   },
   {
    "duration": 11,
    "start_time": "2021-10-12T00:19:18.792Z"
   },
   {
    "duration": 17,
    "start_time": "2021-10-12T00:19:18.804Z"
   },
   {
    "duration": 6,
    "start_time": "2021-10-12T00:19:18.823Z"
   },
   {
    "duration": 20,
    "start_time": "2021-10-12T00:19:18.830Z"
   },
   {
    "duration": 7,
    "start_time": "2021-10-12T00:19:18.852Z"
   },
   {
    "duration": 232,
    "start_time": "2021-10-12T00:19:18.862Z"
   },
   {
    "duration": 5,
    "start_time": "2021-10-12T00:19:19.096Z"
   },
   {
    "duration": 7,
    "start_time": "2021-10-12T00:19:19.103Z"
   },
   {
    "duration": 1559,
    "start_time": "2021-10-12T00:19:19.111Z"
   },
   {
    "duration": 4,
    "start_time": "2021-10-12T00:19:20.672Z"
   },
   {
    "duration": 17,
    "start_time": "2021-10-12T00:19:20.678Z"
   },
   {
    "duration": 21,
    "start_time": "2021-10-12T00:19:20.696Z"
   },
   {
    "duration": 7,
    "start_time": "2021-10-12T00:19:20.719Z"
   },
   {
    "duration": 7,
    "start_time": "2021-10-12T00:19:20.728Z"
   },
   {
    "duration": 19,
    "start_time": "2021-10-12T00:19:20.736Z"
   },
   {
    "duration": 20,
    "start_time": "2021-10-12T00:19:20.756Z"
   },
   {
    "duration": 12,
    "start_time": "2021-10-12T00:19:20.777Z"
   },
   {
    "duration": 22,
    "start_time": "2021-10-12T00:19:20.790Z"
   },
   {
    "duration": 3,
    "start_time": "2021-10-12T00:19:20.813Z"
   },
   {
    "duration": 7195,
    "start_time": "2021-10-12T00:19:20.818Z"
   },
   {
    "duration": 37,
    "start_time": "2021-10-12T00:19:28.017Z"
   },
   {
    "duration": 2,
    "start_time": "2021-10-12T00:19:28.057Z"
   },
   {
    "duration": 30808,
    "start_time": "2021-10-12T00:19:28.061Z"
   },
   {
    "duration": 718,
    "start_time": "2021-10-12T00:19:58.871Z"
   },
   {
    "duration": 3,
    "start_time": "2021-10-12T00:19:59.591Z"
   },
   {
    "duration": 6456,
    "start_time": "2021-10-12T00:19:59.595Z"
   },
   {
    "duration": 697,
    "start_time": "2021-10-12T00:20:06.053Z"
   },
   {
    "duration": 97,
    "start_time": "2021-10-12T00:20:06.753Z"
   },
   {
    "duration": 4,
    "start_time": "2021-10-12T00:20:06.853Z"
   },
   {
    "duration": 15,
    "start_time": "2021-10-12T00:20:06.860Z"
   },
   {
    "duration": 10,
    "start_time": "2021-10-12T00:20:06.877Z"
   },
   {
    "duration": 5,
    "start_time": "2021-10-12T00:20:06.888Z"
   },
   {
    "duration": 19,
    "start_time": "2021-10-12T00:20:06.894Z"
   },
   {
    "duration": 4,
    "start_time": "2021-10-12T00:20:06.915Z"
   },
   {
    "duration": 29,
    "start_time": "2021-10-12T00:20:06.950Z"
   },
   {
    "duration": 36,
    "start_time": "2021-10-12T00:20:06.981Z"
   },
   {
    "duration": 43,
    "start_time": "2021-10-12T00:20:07.019Z"
   },
   {
    "duration": 790,
    "start_time": "2021-10-12T00:20:07.063Z"
   },
   {
    "duration": 1039,
    "start_time": "2021-10-12T00:20:07.855Z"
   },
   {
    "duration": 365,
    "start_time": "2021-10-12T00:20:08.896Z"
   },
   {
    "duration": 487,
    "start_time": "2021-10-12T00:20:09.263Z"
   },
   {
    "duration": 698,
    "start_time": "2021-10-12T00:20:09.753Z"
   },
   {
    "duration": 399,
    "start_time": "2021-10-12T00:20:10.453Z"
   },
   {
    "duration": 98,
    "start_time": "2021-10-12T00:20:10.854Z"
   },
   {
    "duration": 6,
    "start_time": "2021-10-12T00:20:10.954Z"
   },
   {
    "duration": 13,
    "start_time": "2021-10-12T00:20:10.962Z"
   },
   {
    "duration": 5,
    "start_time": "2021-10-12T00:20:10.977Z"
   },
   {
    "duration": 24,
    "start_time": "2021-10-12T00:20:10.984Z"
   },
   {
    "duration": 1205,
    "start_time": "2021-10-12T00:20:11.009Z"
   },
   {
    "duration": 53,
    "start_time": "2021-10-12T00:20:12.216Z"
   },
   {
    "duration": 188,
    "start_time": "2021-10-12T00:20:12.270Z"
   }
  ],
  "kernelspec": {
   "display_name": "Python 3",
   "language": "python",
   "name": "python3"
  },
  "language_info": {
   "codemirror_mode": {
    "name": "ipython",
    "version": 3
   },
   "file_extension": ".py",
   "mimetype": "text/x-python",
   "name": "python",
   "nbconvert_exporter": "python",
   "pygments_lexer": "ipython3",
   "version": "3.8.5"
  },
  "toc": {
   "base_numbering": 1,
   "nav_menu": {},
   "number_sections": true,
   "sideBar": true,
   "skip_h1_title": true,
   "title_cell": "Table of Contents",
   "title_sidebar": "Contents",
   "toc_cell": false,
   "toc_position": {},
   "toc_section_display": true,
   "toc_window_display": false
  }
 },
 "nbformat": 4,
 "nbformat_minor": 2
}
