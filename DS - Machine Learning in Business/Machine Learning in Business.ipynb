{
 "cells": [
  {
   "cell_type": "markdown",
   "metadata": {},
   "source": [
    "# New well location"
   ]
  },
  {
   "cell_type": "markdown",
   "metadata": {},
   "source": [
    "We work at GiantOil and collected data on oil samples from three regions. Parameters of each oil well\n",
    "in the region are already known. We want to build a model that will help us to pick the region\n",
    "with the highest profit margin.\n",
    "\n",
    "**Project Steps** <a class=\"anchor\" id=\"table_of_contents\"></a>  \n",
    "- [1. Data file and general info](#chapter1)  \n",
    "   -  [1.1 Load dataset](#chapter1.1)  \n",
    "   -  [1.2 Missing values](#chapter1.2)  \n",
    "   -  [1.3 Exploratory Data Analysis](#chapter1.3)  \n",
    "- [2. Model training and validating for each region](#chapter2)   \n",
    "- [3. Profit calculation and risk evaluation](#chapter3)  \n",
    "- [4. General conclusions](#chapter4)"
   ]
  },
  {
   "cell_type": "markdown",
   "metadata": {},
   "source": [
    "## Data file and general info\n",
    "***\n",
    "<a class=\"anchor\" id=\"chapter1\"></a>"
   ]
  },
  {
   "cell_type": "code",
   "execution_count": 1,
   "metadata": {},
   "outputs": [
    {
     "name": "stdout",
     "output_type": "stream",
     "text": [
      "Defaulting to user installation because normal site-packages is not writeable\n",
      "Requirement already up-to-date: scikit-learn in /home/jovyan/.local/lib/python3.7/site-packages (1.0)\n",
      "Requirement already satisfied, skipping upgrade: joblib>=0.11 in /opt/conda/lib/python3.7/site-packages (from scikit-learn) (1.0.1)\n",
      "Requirement already satisfied, skipping upgrade: scipy>=1.1.0 in /opt/conda/lib/python3.7/site-packages (from scikit-learn) (1.4.1)\n",
      "Requirement already satisfied, skipping upgrade: threadpoolctl>=2.0.0 in /home/jovyan/.local/lib/python3.7/site-packages (from scikit-learn) (3.0.0)\n",
      "Requirement already satisfied, skipping upgrade: numpy>=1.14.6 in /opt/conda/lib/python3.7/site-packages (from scikit-learn) (1.19.5)\n"
     ]
    }
   ],
   "source": [
    "!pip install -U scikit-learn --upgrade"
   ]
  },
  {
   "cell_type": "code",
   "execution_count": 2,
   "metadata": {},
   "outputs": [],
   "source": [
    "import pandas as pd\n",
    "import numpy as np\n",
    "import seaborn as sns\n",
    "import scipy.stats as st\n",
    "import matplotlib.pyplot as plt\n",
    "\n",
    "from sklearn.model_selection import train_test_split\n",
    "from sklearn.preprocessing import StandardScaler\n",
    "\n",
    "from sklearn.linear_model import LinearRegression\n",
    "from sklearn.metrics import mean_squared_error\n",
    "\n",
    "#ignore warnings\n",
    "import sys\n",
    "import warnings\n",
    "if not sys.warnoptions:\n",
    "       warnings.simplefilter(\"ignore\")"
   ]
  },
  {
   "cell_type": "markdown",
   "metadata": {},
   "source": [
    "### Load datasets\n",
    "<a class=\"anchor\" id=\"chapter1.1\"></a>"
   ]
  },
  {
   "cell_type": "code",
   "execution_count": 3,
   "metadata": {},
   "outputs": [],
   "source": [
    "df0 = pd.read_csv('/datasets/geo_data_0.csv')\n",
    "df1 = pd.read_csv('/datasets/geo_data_1.csv')\n",
    "df2 = pd.read_csv('/datasets/geo_data_2.csv')"
   ]
  },
  {
   "cell_type": "code",
   "execution_count": 4,
   "metadata": {},
   "outputs": [],
   "source": [
    "#list of dataframes for easy iteration\n",
    "df_list = [df0,df1,df2]"
   ]
  },
  {
   "cell_type": "code",
   "execution_count": 5,
   "metadata": {},
   "outputs": [
    {
     "data": {
      "text/html": [
       "<div>\n",
       "<style scoped>\n",
       "    .dataframe tbody tr th:only-of-type {\n",
       "        vertical-align: middle;\n",
       "    }\n",
       "\n",
       "    .dataframe tbody tr th {\n",
       "        vertical-align: top;\n",
       "    }\n",
       "\n",
       "    .dataframe thead th {\n",
       "        text-align: right;\n",
       "    }\n",
       "</style>\n",
       "<table border=\"1\" class=\"dataframe\">\n",
       "  <thead>\n",
       "    <tr style=\"text-align: right;\">\n",
       "      <th></th>\n",
       "      <th>id</th>\n",
       "      <th>f0</th>\n",
       "      <th>f1</th>\n",
       "      <th>f2</th>\n",
       "      <th>product</th>\n",
       "    </tr>\n",
       "  </thead>\n",
       "  <tbody>\n",
       "    <tr>\n",
       "      <td>0</td>\n",
       "      <td>txEyH</td>\n",
       "      <td>0.705745</td>\n",
       "      <td>-0.497823</td>\n",
       "      <td>1.221170</td>\n",
       "      <td>105.280062</td>\n",
       "    </tr>\n",
       "    <tr>\n",
       "      <td>1</td>\n",
       "      <td>2acmU</td>\n",
       "      <td>1.334711</td>\n",
       "      <td>-0.340164</td>\n",
       "      <td>4.365080</td>\n",
       "      <td>73.037750</td>\n",
       "    </tr>\n",
       "    <tr>\n",
       "      <td>2</td>\n",
       "      <td>409Wp</td>\n",
       "      <td>1.022732</td>\n",
       "      <td>0.151990</td>\n",
       "      <td>1.419926</td>\n",
       "      <td>85.265647</td>\n",
       "    </tr>\n",
       "    <tr>\n",
       "      <td>3</td>\n",
       "      <td>iJLyR</td>\n",
       "      <td>-0.032172</td>\n",
       "      <td>0.139033</td>\n",
       "      <td>2.978566</td>\n",
       "      <td>168.620776</td>\n",
       "    </tr>\n",
       "    <tr>\n",
       "      <td>4</td>\n",
       "      <td>Xdl7t</td>\n",
       "      <td>1.988431</td>\n",
       "      <td>0.155413</td>\n",
       "      <td>4.751769</td>\n",
       "      <td>154.036647</td>\n",
       "    </tr>\n",
       "  </tbody>\n",
       "</table>\n",
       "</div>"
      ],
      "text/plain": [
       "      id        f0        f1        f2     product\n",
       "0  txEyH  0.705745 -0.497823  1.221170  105.280062\n",
       "1  2acmU  1.334711 -0.340164  4.365080   73.037750\n",
       "2  409Wp  1.022732  0.151990  1.419926   85.265647\n",
       "3  iJLyR -0.032172  0.139033  2.978566  168.620776\n",
       "4  Xdl7t  1.988431  0.155413  4.751769  154.036647"
      ]
     },
     "metadata": {},
     "output_type": "display_data"
    },
    {
     "data": {
      "text/html": [
       "<div>\n",
       "<style scoped>\n",
       "    .dataframe tbody tr th:only-of-type {\n",
       "        vertical-align: middle;\n",
       "    }\n",
       "\n",
       "    .dataframe tbody tr th {\n",
       "        vertical-align: top;\n",
       "    }\n",
       "\n",
       "    .dataframe thead th {\n",
       "        text-align: right;\n",
       "    }\n",
       "</style>\n",
       "<table border=\"1\" class=\"dataframe\">\n",
       "  <thead>\n",
       "    <tr style=\"text-align: right;\">\n",
       "      <th></th>\n",
       "      <th>id</th>\n",
       "      <th>f0</th>\n",
       "      <th>f1</th>\n",
       "      <th>f2</th>\n",
       "      <th>product</th>\n",
       "    </tr>\n",
       "  </thead>\n",
       "  <tbody>\n",
       "    <tr>\n",
       "      <td>0</td>\n",
       "      <td>kBEdx</td>\n",
       "      <td>-15.001348</td>\n",
       "      <td>-8.276000</td>\n",
       "      <td>-0.005876</td>\n",
       "      <td>3.179103</td>\n",
       "    </tr>\n",
       "    <tr>\n",
       "      <td>1</td>\n",
       "      <td>62mP7</td>\n",
       "      <td>14.272088</td>\n",
       "      <td>-3.475083</td>\n",
       "      <td>0.999183</td>\n",
       "      <td>26.953261</td>\n",
       "    </tr>\n",
       "    <tr>\n",
       "      <td>2</td>\n",
       "      <td>vyE1P</td>\n",
       "      <td>6.263187</td>\n",
       "      <td>-5.948386</td>\n",
       "      <td>5.001160</td>\n",
       "      <td>134.766305</td>\n",
       "    </tr>\n",
       "    <tr>\n",
       "      <td>3</td>\n",
       "      <td>KcrkZ</td>\n",
       "      <td>-13.081196</td>\n",
       "      <td>-11.506057</td>\n",
       "      <td>4.999415</td>\n",
       "      <td>137.945408</td>\n",
       "    </tr>\n",
       "    <tr>\n",
       "      <td>4</td>\n",
       "      <td>AHL4O</td>\n",
       "      <td>12.702195</td>\n",
       "      <td>-8.147433</td>\n",
       "      <td>5.004363</td>\n",
       "      <td>134.766305</td>\n",
       "    </tr>\n",
       "  </tbody>\n",
       "</table>\n",
       "</div>"
      ],
      "text/plain": [
       "      id         f0         f1        f2     product\n",
       "0  kBEdx -15.001348  -8.276000 -0.005876    3.179103\n",
       "1  62mP7  14.272088  -3.475083  0.999183   26.953261\n",
       "2  vyE1P   6.263187  -5.948386  5.001160  134.766305\n",
       "3  KcrkZ -13.081196 -11.506057  4.999415  137.945408\n",
       "4  AHL4O  12.702195  -8.147433  5.004363  134.766305"
      ]
     },
     "metadata": {},
     "output_type": "display_data"
    },
    {
     "data": {
      "text/html": [
       "<div>\n",
       "<style scoped>\n",
       "    .dataframe tbody tr th:only-of-type {\n",
       "        vertical-align: middle;\n",
       "    }\n",
       "\n",
       "    .dataframe tbody tr th {\n",
       "        vertical-align: top;\n",
       "    }\n",
       "\n",
       "    .dataframe thead th {\n",
       "        text-align: right;\n",
       "    }\n",
       "</style>\n",
       "<table border=\"1\" class=\"dataframe\">\n",
       "  <thead>\n",
       "    <tr style=\"text-align: right;\">\n",
       "      <th></th>\n",
       "      <th>id</th>\n",
       "      <th>f0</th>\n",
       "      <th>f1</th>\n",
       "      <th>f2</th>\n",
       "      <th>product</th>\n",
       "    </tr>\n",
       "  </thead>\n",
       "  <tbody>\n",
       "    <tr>\n",
       "      <td>0</td>\n",
       "      <td>fwXo0</td>\n",
       "      <td>-1.146987</td>\n",
       "      <td>0.963328</td>\n",
       "      <td>-0.828965</td>\n",
       "      <td>27.758673</td>\n",
       "    </tr>\n",
       "    <tr>\n",
       "      <td>1</td>\n",
       "      <td>WJtFt</td>\n",
       "      <td>0.262778</td>\n",
       "      <td>0.269839</td>\n",
       "      <td>-2.530187</td>\n",
       "      <td>56.069697</td>\n",
       "    </tr>\n",
       "    <tr>\n",
       "      <td>2</td>\n",
       "      <td>ovLUW</td>\n",
       "      <td>0.194587</td>\n",
       "      <td>0.289035</td>\n",
       "      <td>-5.586433</td>\n",
       "      <td>62.871910</td>\n",
       "    </tr>\n",
       "    <tr>\n",
       "      <td>3</td>\n",
       "      <td>q6cA6</td>\n",
       "      <td>2.236060</td>\n",
       "      <td>-0.553760</td>\n",
       "      <td>0.930038</td>\n",
       "      <td>114.572842</td>\n",
       "    </tr>\n",
       "    <tr>\n",
       "      <td>4</td>\n",
       "      <td>WPMUX</td>\n",
       "      <td>-0.515993</td>\n",
       "      <td>1.716266</td>\n",
       "      <td>5.899011</td>\n",
       "      <td>149.600746</td>\n",
       "    </tr>\n",
       "  </tbody>\n",
       "</table>\n",
       "</div>"
      ],
      "text/plain": [
       "      id        f0        f1        f2     product\n",
       "0  fwXo0 -1.146987  0.963328 -0.828965   27.758673\n",
       "1  WJtFt  0.262778  0.269839 -2.530187   56.069697\n",
       "2  ovLUW  0.194587  0.289035 -5.586433   62.871910\n",
       "3  q6cA6  2.236060 -0.553760  0.930038  114.572842\n",
       "4  WPMUX -0.515993  1.716266  5.899011  149.600746"
      ]
     },
     "metadata": {},
     "output_type": "display_data"
    }
   ],
   "source": [
    "#show the first 5 rows for each dataframe\n",
    "for df in df_list:\n",
    "    display(df.head())"
   ]
  },
  {
   "cell_type": "markdown",
   "metadata": {},
   "source": [
    "**Features**  \n",
    "`id` — unique oil well identifier   \n",
    "`f0`,`f1`,`f2` — three features of points\n",
    "\n",
    "**Target**  \n",
    "`product` — volume of reserves in the oil well (thousand barrels)"
   ]
  },
  {
   "cell_type": "markdown",
   "metadata": {},
   "source": [
    "### Missing values and duplicates\n",
    "<a class=\"anchor\" id=\"chapter1.2\"></a>"
   ]
  },
  {
   "cell_type": "code",
   "execution_count": 6,
   "metadata": {},
   "outputs": [
    {
     "name": "stdout",
     "output_type": "stream",
     "text": [
      "<class 'pandas.core.frame.DataFrame'>\n",
      "RangeIndex: 100000 entries, 0 to 99999\n",
      "Data columns (total 5 columns):\n",
      "id         100000 non-null object\n",
      "f0         100000 non-null float64\n",
      "f1         100000 non-null float64\n",
      "f2         100000 non-null float64\n",
      "product    100000 non-null float64\n",
      "dtypes: float64(4), object(1)\n",
      "memory usage: 3.8+ MB\n"
     ]
    },
    {
     "data": {
      "text/plain": [
       "None"
      ]
     },
     "metadata": {},
     "output_type": "display_data"
    },
    {
     "name": "stdout",
     "output_type": "stream",
     "text": [
      "<class 'pandas.core.frame.DataFrame'>\n",
      "RangeIndex: 100000 entries, 0 to 99999\n",
      "Data columns (total 5 columns):\n",
      "id         100000 non-null object\n",
      "f0         100000 non-null float64\n",
      "f1         100000 non-null float64\n",
      "f2         100000 non-null float64\n",
      "product    100000 non-null float64\n",
      "dtypes: float64(4), object(1)\n",
      "memory usage: 3.8+ MB\n"
     ]
    },
    {
     "data": {
      "text/plain": [
       "None"
      ]
     },
     "metadata": {},
     "output_type": "display_data"
    },
    {
     "name": "stdout",
     "output_type": "stream",
     "text": [
      "<class 'pandas.core.frame.DataFrame'>\n",
      "RangeIndex: 100000 entries, 0 to 99999\n",
      "Data columns (total 5 columns):\n",
      "id         100000 non-null object\n",
      "f0         100000 non-null float64\n",
      "f1         100000 non-null float64\n",
      "f2         100000 non-null float64\n",
      "product    100000 non-null float64\n",
      "dtypes: float64(4), object(1)\n",
      "memory usage: 3.8+ MB\n"
     ]
    },
    {
     "data": {
      "text/plain": [
       "None"
      ]
     },
     "metadata": {},
     "output_type": "display_data"
    }
   ],
   "source": [
    "for df in df_list:\n",
    "    #show general information\n",
    "    display(df.info())"
   ]
  },
  {
   "cell_type": "code",
   "execution_count": 7,
   "metadata": {},
   "outputs": [
    {
     "data": {
      "text/plain": [
       "0"
      ]
     },
     "metadata": {},
     "output_type": "display_data"
    },
    {
     "data": {
      "text/plain": [
       "0"
      ]
     },
     "metadata": {},
     "output_type": "display_data"
    },
    {
     "data": {
      "text/plain": [
       "0"
      ]
     },
     "metadata": {},
     "output_type": "display_data"
    }
   ],
   "source": [
    "#check for duplicated rows\n",
    "for df in df_list:\n",
    "    display(df.duplicated().sum())"
   ]
  },
  {
   "cell_type": "code",
   "execution_count": 8,
   "metadata": {},
   "outputs": [
    {
     "data": {
      "text/plain": [
       "10"
      ]
     },
     "metadata": {},
     "output_type": "display_data"
    },
    {
     "data": {
      "text/plain": [
       "4"
      ]
     },
     "metadata": {},
     "output_type": "display_data"
    },
    {
     "data": {
      "text/plain": [
       "4"
      ]
     },
     "metadata": {},
     "output_type": "display_data"
    }
   ],
   "source": [
    "#check for duplicated ids\n",
    "for df in df_list:\n",
    "    display(df['id'].duplicated().sum())"
   ]
  },
  {
   "cell_type": "markdown",
   "metadata": {},
   "source": [
    "As we can see we don't have duplicated rows but we do have duplicated ids. Probably this is by mistake, as the amount of those ids is extremely low related to the size of our datasets, so we'll just remove them. After that we'll remove the whole `id` columns as it should not affect our predictions."
   ]
  },
  {
   "cell_type": "code",
   "execution_count": 9,
   "metadata": {},
   "outputs": [],
   "source": [
    "#remove duplicated ids and then remove the unnecessary 'id' column\n",
    "for df in df_list:\n",
    "    df.drop(df.index[df['id'].duplicated()].unique(), inplace=True)\n",
    "    df.drop(['id'], axis=1, inplace=True)"
   ]
  },
  {
   "cell_type": "markdown",
   "metadata": {},
   "source": [
    "### Exploratory Data Analysis\n",
    "<a class=\"anchor\" id=\"chapter1.3\"></a>"
   ]
  },
  {
   "cell_type": "code",
   "execution_count": 10,
   "metadata": {
    "scrolled": false
   },
   "outputs": [
    {
     "data": {
      "image/png": "[encoded data removed]",
      "text/plain": [
       "<Figure size 1080x648 with 4 Axes>"
      ]
     },
     "metadata": {
      "needs_background": "light"
     },
     "output_type": "display_data"
    },
    {
     "data": {
      "image/png": "[encoded data removed]",
      "text/plain": [
       "<Figure size 720x360 with 2 Axes>"
      ]
     },
     "metadata": {
      "needs_background": "light"
     },
     "output_type": "display_data"
    },
    {
     "data": {
      "image/png": "[encoded data removed]",
      "text/plain": [
       "<Figure size 1080x648 with 4 Axes>"
      ]
     },
     "metadata": {
      "needs_background": "light"
     },
     "output_type": "display_data"
    },
    {
     "data": {
      "image/png": "[encoded data removed]",
      "text/plain": [
       "<Figure size 720x360 with 2 Axes>"
      ]
     },
     "metadata": {
      "needs_background": "light"
     },
     "output_type": "display_data"
    },
    {
     "data": {
      "image/png": "[encoded data removed]",
      "text/plain": [
       "<Figure size 1080x648 with 4 Axes>"
      ]
     },
     "metadata": {
      "needs_background": "light"
     },
     "output_type": "display_data"
    },
    {
     "data": {
      "image/png": "[encoded data removed]",
      "text/plain": [
       "<Figure size 720x360 with 2 Axes>"
      ]
     },
     "metadata": {
      "needs_background": "light"
     },
     "output_type": "display_data"
    }
   ],
   "source": [
    "i = 0\n",
    "for df in df_list:\n",
    "    df.hist(edgecolor='black', figsize=(15,9), bins=30)\n",
    "    plt.suptitle('Features Distribution df'+str(i), fontsize=16)\n",
    "    plt.figure(figsize=(10,5))\n",
    "    ax = sns.heatmap(df.corr(), annot=True, cmap='cividis')\n",
    "    bottom, top = ax.get_ylim()\n",
    "    ax.set_ylim(bottom + 0.5, top - 0.5);\n",
    "    plt.yticks(rotation=0)\n",
    "    plt.title('Features correlations df'+str(i), fontsize=16);\n",
    "    i+=1"
   ]
  },
  {
   "cell_type": "markdown",
   "metadata": {},
   "source": [
    "**Region 0:**\n",
    "Feature 0 and 1 have a weak correlation with the target which might cause our model to poorly predict the target. Also these features has a strange distribution and it's mirrored around the mean.\n",
    "On the other hand, feature 2 has a medium positive correlation with the target and it's normaly distributed.\n",
    "\n",
    "**Region 1:**\n",
    "Feature 0 and 1 have a weak correlation with the target which might cause our model to poorly predict the target.\n",
    "On the other hand, feature 2 has a maximal positive correlation with the target, like a linear dependence, which might cause our model to predict with pretty high accuracy.\n",
    "\n",
    "**Region 2:**\n",
    "Feature 0 and 1 have a weak correlation with the target which might cause our model to poorly predict the target.\n",
    "On the other hand, feature 2 has a medium positive correlation with the target. All the features are normaly distributed."
   ]
  },
  {
   "cell_type": "markdown",
   "metadata": {},
   "source": [
    "**Conclusions:**\n",
    "- There are no missing values in our data.\n",
    "- There are no duplicates in the data sets except very few ids which might be doubled by mistake, we removed them.\n",
    "- The correlations in the datasets seems similar for region 0 and region 2, while region 1 seems to have a very strong correlation of feature 2 with the target (product)."
   ]
  },
  {
   "cell_type": "markdown",
   "metadata": {},
   "source": [
    "## Model training and testing for each region\n",
    "***\n",
    "<a class=\"anchor\" id=\"chapter2\"></a>"
   ]
  },
  {
   "cell_type": "markdown",
   "metadata": {},
   "source": [
    "We will split our data into 2 parts - training set and validation set , with the ratio 3:1.\n",
    "In addition, we need to standardize our features as their range exceeds the range of (-1,1) and we don't want our algorithm to give more weight on a specific feature as the units might differ.\n",
    "For this task we will use a linear regression model.\n",
    "We'll create a function that does the same actions for each region:\n",
    "1) Spliting the data  \n",
    "2) Standardizing the features  \n",
    "3) Creating a model  \n",
    "4) Training the model  \n",
    "5) Predicting on the validation set  \n",
    "6) Printing the RMSE score of the model and the average volume of product predicted  \n",
    "7) Saving the true target and the prdicted target of the validation set"
   ]
  },
  {
   "cell_type": "code",
   "execution_count": 11,
   "metadata": {},
   "outputs": [],
   "source": [
    "#constant random_state for repeating the same results\n",
    "state = 12"
   ]
  },
  {
   "cell_type": "code",
   "execution_count": 12,
   "metadata": {},
   "outputs": [],
   "source": [
    "scaler = StandardScaler()\n",
    "\n",
    "def train_n_validate_model(df, name):\n",
    "    #first split each data frame to features and target\n",
    "    features = df.drop(['product'], axis=1)\n",
    "    target = df['product']\n",
    "    #split to train and validation sets with ratio 3:1\n",
    "    features_train, features_valid, target_train, target_valid = train_test_split(\n",
    "        features, target, test_size=0.25, random_state=state)\n",
    "    #standardize the features\n",
    "    features_train = scaler.fit_transform(features_train)\n",
    "    features_valid = scaler.transform(features_valid)\n",
    "    \n",
    "    #create a model\n",
    "    model = LinearRegression()\n",
    "    #train the model\n",
    "    model.fit(features_train, target_train)\n",
    "    #predict on the validation set\n",
    "    predicted_valid = model.predict(features_valid)\n",
    "    \n",
    "    print('Linear Regression model for '+name+':\\n'+len('Linear Regression model for '+name+':')*'-')\n",
    "    #calculate RMSE\n",
    "    print('RMSE:', round(mean_squared_error(target_valid, predicted_valid, squared=False), 2))\n",
    "\n",
    "    #calculate average volume of product predicted\n",
    "    print('Average volume of product predicted:', round(predicted_valid.mean(), 2),'\\n')\n",
    "    sub_df = pd.DataFrame({'target': target_valid, 'predicted':predicted_valid})\n",
    "    return sub_df"
   ]
  },
  {
   "cell_type": "code",
   "execution_count": 13,
   "metadata": {},
   "outputs": [
    {
     "name": "stdout",
     "output_type": "stream",
     "text": [
      "Linear Regression model for region 0:\n",
      "-------------------------------------\n",
      "RMSE: 37.8\n",
      "Average volume of product predicted: 92.41 \n",
      "\n",
      "Linear Regression model for region 1:\n",
      "-------------------------------------\n",
      "RMSE: 0.89\n",
      "Average volume of product predicted: 68.66 \n",
      "\n",
      "Linear Regression model for region 2:\n",
      "-------------------------------------\n",
      "RMSE: 40.1\n",
      "Average volume of product predicted: 94.98 \n",
      "\n"
     ]
    }
   ],
   "source": [
    "sub_df0 = train_n_validate_model(df0,'region 0')\n",
    "sub_df1 = train_n_validate_model(df1,'region 1')\n",
    "sub_df2 = train_n_validate_model(df2,'region 2')"
   ]
  },
  {
   "cell_type": "markdown",
   "metadata": {},
   "source": [
    "It seems that region 0 and region 2 are similar in terms model quality (RMSE score) and average volume of product.\n",
    "Region 1 has a very low error score which is good.\n",
    "Even though regions 0 and 2 have a greater average volume then region 1, if we take into account that regions 0 and 2 have a much higher error score than it would be reasonable to say that all three models might bring similar results."
   ]
  },
  {
   "cell_type": "markdown",
   "metadata": {},
   "source": [
    "## Profit Calculation and risk evaluation\n",
    "***\n",
    "<a class=\"anchor\" id=\"chapter3\"></a>"
   ]
  },
  {
   "cell_type": "markdown",
   "metadata": {},
   "source": [
    "**Preparing for profit calculation:**\n",
    "We'll store all key values for calculations in separate variables and calculate the volume of reserves sufficient for developing a new well without losses. We'll also compare the obtained value with the average volume of reserves in each region."
   ]
  },
  {
   "cell_type": "code",
   "execution_count": 14,
   "metadata": {},
   "outputs": [],
   "source": [
    "#number of wells to develop\n",
    "n_wells = 200\n",
    "\n",
    "#budget for development of 200 oil wells in USD\n",
    "budget200 = 100000000\n",
    "\n",
    "#revenue from one barrel of oil\n",
    "barrel_profit = 4.5\n",
    "\n",
    "#revenue from one unit of product\n",
    "product_profit = barrel_profit*1000"
   ]
  },
  {
   "cell_type": "code",
   "execution_count": 15,
   "metadata": {},
   "outputs": [
    {
     "name": "stdout",
     "output_type": "stream",
     "text": [
      "Minimal volume of product to start profiting: 111.11 \n",
      "\n",
      "Average volume of product predicted for region 0: 92.41\n",
      "Average volume of product predicted for region 1: 68.66\n",
      "Average volume of product predicted for region 2: 94.98\n"
     ]
    }
   ],
   "source": [
    "#budget for development one oil well in USD\n",
    "well_budget = budget200/n_wells\n",
    "#volume of reserves sufficient for developing a new well without losses\n",
    "min_vol_to_profit = well_budget/product_profit\n",
    "\n",
    "print('Minimal volume of product to start profiting:', round(min_vol_to_profit, 2),'\\n')\n",
    "\n",
    "#the average units of product of wells per region as predicted by our model.\n",
    "print('Average volume of product predicted for region 0:',round(sub_df0['predicted'].mean(), 2))\n",
    "print('Average volume of product predicted for region 1:',round(sub_df1['predicted'].mean(), 2))\n",
    "print('Average volume of product predicted for region 2:',round(sub_df2['predicted'].mean(), 2))"
   ]
  },
  {
   "cell_type": "markdown",
   "metadata": {},
   "source": [
    "As we can see the **average product per well is not high enough to avoid losses**, but it doesn't mean that there are no profitable wells in our regions."
   ]
  },
  {
   "cell_type": "markdown",
   "metadata": {},
   "source": [
    "**Profit Function**"
   ]
  },
  {
   "cell_type": "code",
   "execution_count": 16,
   "metadata": {},
   "outputs": [],
   "source": [
    "def profit_calculation(sample, n_highest, unit_profit, i, print_profit):\n",
    "    #sort the rows by the highest predictions\n",
    "    sorted_sample = sample.sort_values(by=['predicted'], ascending=False)\n",
    "    \n",
    "    #sum the target column\n",
    "    target_sum = sorted_sample['target'][:n_highest].sum()\n",
    "    \n",
    "    #sum the predicted column\n",
    "    predicted_sum = sorted_sample['predicted'][:n_highest].sum()\n",
    "    \n",
    "    #calculate true revenue\n",
    "    revenue = target_sum * unit_profit\n",
    "    \n",
    "    #calculate predicted revenue\n",
    "    predicted_revenue = predicted_sum * unit_profit\n",
    "    \n",
    "    #calculate true profit (for 200 wells)\n",
    "    true_profit = revenue - budget200\n",
    "    \n",
    "    #calculating predicted profit.\n",
    "    predicted_profit = predicted_revenue - budget200\n",
    "    if print_profit:\n",
    "        print('Profits for region '+str(i)+':\\n'+len('Profits for region '+str(i)+':')*'-')\n",
    "        print('True profit: ${} Million'.format(round(true_profit/1000000, 2)))\n",
    "        print('Predicted profit: ${} Million\\n'.format(round(predicted_profit/1000000, 2)))\n",
    "    return true_profit, predicted_profit"
   ]
  },
  {
   "cell_type": "code",
   "execution_count": 17,
   "metadata": {},
   "outputs": [
    {
     "name": "stdout",
     "output_type": "stream",
     "text": [
      "Profits for region 0:\n",
      "---------------------\n",
      "True profit: $32.9 Million\n",
      "Predicted profit: $39.5 Million\n",
      "\n",
      "Profits for region 1:\n",
      "---------------------\n",
      "True profit: $24.15 Million\n",
      "Predicted profit: $24.86 Million\n",
      "\n",
      "Profits for region 2:\n",
      "---------------------\n",
      "True profit: $24.1 Million\n",
      "Predicted profit: $34.1 Million\n",
      "\n"
     ]
    }
   ],
   "source": [
    "true_profit0, predicted_profit0 = profit_calculation(sub_df0, 200, 4500, 0, True)\n",
    "true_profit1, predicted_profit1 = profit_calculation(sub_df1, 200, 4500, 1, True)\n",
    "true_profit2, predicted_profit2 = profit_calculation(sub_df2, 200, 4500, 2, True)"
   ]
  },
  {
   "cell_type": "markdown",
   "metadata": {},
   "source": [
    "For the **overall top 200 profitable wells, the highest true profit (and predicted) is for region 0.**\n",
    "We see that in all regions, the predicted profit is higher than the true profit, and for region 2 this difference is pretty high."
   ]
  },
  {
   "cell_type": "markdown",
   "metadata": {},
   "source": [
    "Now for each region we'll calculate the profit, average profit and risks with the bootstrap technique (with 1,000 random samples)."
   ]
  },
  {
   "cell_type": "code",
   "execution_count": 18,
   "metadata": {},
   "outputs": [],
   "source": [
    "def bootstrap_calc(sub_df, n, i):\n",
    "    #generate random numbers\n",
    "    rnd = np.random.RandomState(state)\n",
    "    top200_profit = []\n",
    "    \n",
    "    #create random subsamples with size n. for each subsample pick the 200 highest predicted wells and claculate the profit\n",
    "    for j in range(n):   \n",
    "        subsample = sub_df.sample(500, replace=True, random_state=rnd)\n",
    "        profit = profit_calculation(subsample, 200, 4500, i, False)\n",
    "        top200_profit.append(profit)\n",
    "    \n",
    "    #convert to dataframe\n",
    "    top200_dist = pd.DataFrame(top200_profit, columns = ['true', 'predicted'])\n",
    "    \n",
    "    #create two plots, one for the true profit distribution and one for the predicted\n",
    "    fig, axes = plt.subplots(1, 2, figsize = (11,4), sharex=True)\n",
    "    sns.histplot(data=top200_dist['true']/1000000, ax=axes[0])\n",
    "    sns.histplot(data=top200_dist['predicted']/1000000, ax=axes[1])\n",
    "    axes[0].set(xlabel='Profit ($ Million)', ylabel='Frequecy');\n",
    "    axes[0].set(title='Distribution of true profit region '+str(i));\n",
    "    axes[1].set(xlabel='Profit ($ Million)', ylabel='Frequecy');\n",
    "    axes[1].set(title='Distribution of predicted profit region '+str(i));\n",
    "    \n",
    "    plt.show()\n",
    "    \n",
    "    #print average profit\n",
    "    print('Average Profit for region '+str(i)+':\\n'+len('Average Profit for region '+str(i)+':')*'-')\n",
    "    print('True average profit: ${} Million'.format(round(top200_dist.mean()[0]/1000000, 2)))\n",
    "    print('Predicted average profit: ${} Million\\n'.format(round(top200_dist.mean()[1]/1000000, 2)))\n",
    "    \n",
    "    #calculate the confidence interval\n",
    "    confidence_interval = st.t.interval(0.95, len(top200_dist['true'])-1, top200_dist['true'].mean(), top200_dist['true'].sem())\n",
    "    print('95% Confidence Interval for region '+str(i)+':\\n'+len('95% Confidence Interval for region '+str(i)+':')*'-')\n",
    "    print('Lower: ${} Million'.format(round(confidence_interval[0]/1000000, 3)))\n",
    "    print('Upper: ${} Million'.format(round(confidence_interval[1]/1000000, 3)))\n",
    "    \n",
    "    #calculate the risk of losses\n",
    "    loss_risk = (top200_dist['true']<0).mean()\n",
    "    print('\\nRisk of Losses for region '+str(i)+': {:.2%}'.format(loss_risk))\n",
    "    \n",
    "    return top200_dist, confidence_interval, loss_risk"
   ]
  },
  {
   "cell_type": "code",
   "execution_count": 19,
   "metadata": {},
   "outputs": [
    {
     "data": {
      "image/png": "[encoded data removed]",
      "text/plain": [
       "<Figure size 792x288 with 2 Axes>"
      ]
     },
     "metadata": {
      "needs_background": "light"
     },
     "output_type": "display_data"
    },
    {
     "name": "stdout",
     "output_type": "stream",
     "text": [
      "Average Profit for region 0:\n",
      "----------------------------\n",
      "True average profit: $4.17 Million\n",
      "Predicted average profit: $3.51 Million\n",
      "\n",
      "95% Confidence Interval for region 0:\n",
      "-------------------------------------\n",
      "Lower: $4.002 Million\n",
      "Upper: $4.332 Million\n",
      "\n",
      "Risk of Losses for region 0: 5.60%\n"
     ]
    }
   ],
   "source": [
    "#bootstrap technique for\n",
    "top200_dist0, confidence_interval0, loss_risk0 = bootstrap_calc(sub_df0, 1000, 0)"
   ]
  },
  {
   "cell_type": "markdown",
   "metadata": {},
   "source": [
    "We can see that this region has an average profit (for 200 wells) of $4.17 Millions. The model predicts the profit with a noticeable difference from the true average profit (as we mentioned before, the model predicts poorly the volume of the product, which influence how the profit is calculated)."
   ]
  },
  {
   "cell_type": "code",
   "execution_count": 20,
   "metadata": {},
   "outputs": [
    {
     "data": {
      "image/png": "[encoded data removed]",
      "text/plain": [
       "<Figure size 792x288 with 2 Axes>"
      ]
     },
     "metadata": {
      "needs_background": "light"
     },
     "output_type": "display_data"
    },
    {
     "name": "stdout",
     "output_type": "stream",
     "text": [
      "Average Profit for region 1:\n",
      "----------------------------\n",
      "True average profit: $4.43 Million\n",
      "Predicted average profit: $4.41 Million\n",
      "\n",
      "95% Confidence Interval for region 1:\n",
      "-------------------------------------\n",
      "Lower: $4.302 Million\n",
      "Upper: $4.557 Million\n",
      "\n",
      "Risk of Losses for region 1: 1.40%\n"
     ]
    }
   ],
   "source": [
    "top200_dist1, confidence_interval1, loss_risk1 = bootstrap_calc(sub_df1, 1000, 1)"
   ]
  },
  {
   "cell_type": "markdown",
   "metadata": {},
   "source": [
    "We can see that this region has an average profit (for 200 wells) of $4.43 Millions, which is a bit higher than region 0. The model predicts the profit with a very good accuracy. The interval is a bit smaller than the interval of region 0. There's almost no losses (negative profits) and the risk of losses is much less than in region 0."
   ]
  },
  {
   "cell_type": "code",
   "execution_count": 21,
   "metadata": {},
   "outputs": [
    {
     "data": {
      "image/png": "[encoded data removed]",
      "text/plain": [
       "<Figure size 792x288 with 2 Axes>"
      ]
     },
     "metadata": {
      "needs_background": "light"
     },
     "output_type": "display_data"
    },
    {
     "name": "stdout",
     "output_type": "stream",
     "text": [
      "Average Profit for region 2:\n",
      "----------------------------\n",
      "True average profit: $4.55 Million\n",
      "Predicted average profit: $2.91 Million\n",
      "\n",
      "95% Confidence Interval for region 2:\n",
      "-------------------------------------\n",
      "Lower: $4.386 Million\n",
      "Upper: $4.723 Million\n",
      "\n",
      "Risk of Losses for region 2: 4.80%\n"
     ]
    }
   ],
   "source": [
    "top200_dist2, confidence_interval2, loss_risk2 = bootstrap_calc(sub_df2, 1000, 2)"
   ]
  },
  {
   "cell_type": "markdown",
   "metadata": {},
   "source": [
    "We can see that this region has an average profit (for 200 wells) of $4.55 Millions which is even higher than region 1. The model predicts the profit with a noticeable difference from the true average profit (as we mentioned before, the model predicts poorly the volume of the product, which influence how the profit is calculated).\n",
    "The interval in this region is the widest and as for region 0, the risk of losses is higher than region 1."
   ]
  },
  {
   "cell_type": "markdown",
   "metadata": {},
   "source": [
    "**Conclusions**:\n",
    "\n",
    "- The highest average profit is of region 2 (\\\\$4.55 Millions), followed by region 1 (\\\\$4.43 Millions) and region 0 (\\\\$4.17 Millions).\n",
    "- The narrowest confidence interval is of region 1.\n",
    "- The lowest risk of losses is for region 1 with a noticeable sagnificance (1.4%).\n",
    "- The highest risk of losses is for region 0 (5.6%)."
   ]
  },
  {
   "cell_type": "markdown",
   "metadata": {},
   "source": [
    "## General conclusions\n",
    "***\n",
    "<a class=\"anchor\" id=\"chapter4\"></a>"
   ]
  },
  {
   "cell_type": "markdown",
   "metadata": {},
   "source": [
    "\n",
    "    \n"
   ]
  },
  {
   "cell_type": "markdown",
   "metadata": {},
   "source": [
    "Our company looks for the best region to invest in developing new wells so we made this study to help us choose the next location out of 3 possible. The data we collected was of good quality, though we found very few IDs that were duplicated and we need to understand why and try to avoid it.\n",
    "\n",
    "We created 3 different linear regression models for each of the regions and tried to predict the volume of the wells in this region and the profit from them. In addition, we calculated some statistics to help with the decision. Our study shows that **the best region to invest in is region 1** as it has a high average profit, the lowest risk of losses and the narrowest confidence interval.\n",
    "\n",
    "Regions 0 and 2 both have a too high probability of losses."
   ]
  }
 ],
 "metadata": {
  "ExecuteTimeLog": [
   {
    "duration": 1132,
    "start_time": "2021-10-16T11:35:38.066Z"
   },
   {
    "duration": 353,
    "start_time": "2021-10-16T11:35:41.330Z"
   },
   {
    "duration": 12,
    "start_time": "2021-10-16T11:35:47.431Z"
   },
   {
    "duration": 19,
    "start_time": "2021-10-16T11:39:26.855Z"
   },
   {
    "duration": 3,
    "start_time": "2021-10-16T12:07:37.518Z"
   },
   {
    "duration": 403,
    "start_time": "2021-10-16T12:07:49.242Z"
   },
   {
    "duration": 4,
    "start_time": "2021-10-16T12:13:09.633Z"
   },
   {
    "duration": 19,
    "start_time": "2021-10-16T12:13:18.360Z"
   },
   {
    "duration": 28,
    "start_time": "2021-10-16T12:18:31.308Z"
   },
   {
    "duration": 273,
    "start_time": "2021-10-16T12:19:08.834Z"
   },
   {
    "duration": 103,
    "start_time": "2021-10-16T12:19:15.885Z"
   },
   {
    "duration": 105,
    "start_time": "2021-10-16T12:19:25.484Z"
   },
   {
    "duration": 67,
    "start_time": "2021-10-16T12:19:45.798Z"
   },
   {
    "duration": 120,
    "start_time": "2021-10-16T12:20:34.649Z"
   },
   {
    "duration": 48,
    "start_time": "2021-10-16T12:20:53.771Z"
   },
   {
    "duration": 13,
    "start_time": "2021-10-16T12:22:15.453Z"
   },
   {
    "duration": 13,
    "start_time": "2021-10-16T12:22:45.578Z"
   },
   {
    "duration": 13,
    "start_time": "2021-10-16T12:23:18.202Z"
   },
   {
    "duration": 2446,
    "start_time": "2021-10-16T12:51:58.294Z"
   },
   {
    "duration": 2040,
    "start_time": "2021-10-16T12:55:51.411Z"
   },
   {
    "duration": 2847,
    "start_time": "2021-10-16T12:58:22.441Z"
   },
   {
    "duration": 24584,
    "start_time": "2021-10-16T12:59:20.754Z"
   },
   {
    "duration": 24875,
    "start_time": "2021-10-16T13:00:08.403Z"
   },
   {
    "duration": 2409,
    "start_time": "2021-10-16T13:02:19.497Z"
   },
   {
    "duration": 4,
    "start_time": "2021-10-16T13:39:36.070Z"
   },
   {
    "duration": 2254,
    "start_time": "2021-10-16T13:48:00.751Z"
   },
   {
    "duration": 17,
    "start_time": "2021-10-16T13:48:19.676Z"
   },
   {
    "duration": 257,
    "start_time": "2021-10-16T13:54:50.641Z"
   },
   {
    "duration": 10,
    "start_time": "2021-10-16T14:08:44.154Z"
   },
   {
    "duration": 273,
    "start_time": "2021-10-16T14:09:02.481Z"
   },
   {
    "duration": 276,
    "start_time": "2021-10-16T14:09:19.922Z"
   },
   {
    "duration": 276,
    "start_time": "2021-10-16T14:10:44.246Z"
   },
   {
    "duration": 252,
    "start_time": "2021-10-16T14:10:50.957Z"
   },
   {
    "duration": 91,
    "start_time": "2021-10-16T14:11:09.472Z"
   },
   {
    "duration": 4,
    "start_time": "2021-10-16T14:14:27.699Z"
   },
   {
    "duration": 13,
    "start_time": "2021-10-16T14:25:21.615Z"
   },
   {
    "duration": 5,
    "start_time": "2021-10-16T14:27:36.732Z"
   },
   {
    "duration": 3,
    "start_time": "2021-10-16T14:28:19.970Z"
   },
   {
    "duration": 14,
    "start_time": "2021-10-16T14:28:21.557Z"
   },
   {
    "duration": 8,
    "start_time": "2021-10-16T14:28:23.372Z"
   },
   {
    "duration": 1542,
    "start_time": "2021-10-21T10:51:39.227Z"
   },
   {
    "duration": 514,
    "start_time": "2021-10-21T10:51:40.771Z"
   },
   {
    "duration": 3,
    "start_time": "2021-10-21T10:51:41.288Z"
   },
   {
    "duration": 42,
    "start_time": "2021-10-21T10:51:41.293Z"
   },
   {
    "duration": 68,
    "start_time": "2021-10-21T10:51:41.337Z"
   },
   {
    "duration": 213,
    "start_time": "2021-10-21T10:51:41.407Z"
   },
   {
    "duration": 80,
    "start_time": "2021-10-21T10:51:41.623Z"
   },
   {
    "duration": 547,
    "start_time": "2021-10-21T10:51:41.707Z"
   },
   {
    "duration": 1464,
    "start_time": "2021-10-21T10:51:40.793Z"
   },
   {
    "duration": 1463,
    "start_time": "2021-10-21T10:51:40.796Z"
   },
   {
    "duration": 1462,
    "start_time": "2021-10-21T10:51:40.798Z"
   },
   {
    "duration": 1462,
    "start_time": "2021-10-21T10:51:40.800Z"
   },
   {
    "duration": 1377,
    "start_time": "2021-10-21T10:51:40.887Z"
   },
   {
    "duration": 1367,
    "start_time": "2021-10-21T10:51:40.899Z"
   },
   {
    "duration": 1365,
    "start_time": "2021-10-21T10:51:40.903Z"
   },
   {
    "duration": 1355,
    "start_time": "2021-10-21T10:51:40.915Z"
   },
   {
    "duration": 1355,
    "start_time": "2021-10-21T10:51:40.917Z"
   },
   {
    "duration": 466,
    "start_time": "2021-10-21T10:52:20.744Z"
   },
   {
    "duration": 21,
    "start_time": "2021-10-21T10:54:23.829Z"
   },
   {
    "duration": 381,
    "start_time": "2021-10-21T10:54:37.621Z"
   },
   {
    "duration": 23,
    "start_time": "2021-10-21T10:54:43.247Z"
   },
   {
    "duration": 31,
    "start_time": "2021-10-21T10:54:53.609Z"
   },
   {
    "duration": 11,
    "start_time": "2021-10-21T10:58:46.521Z"
   },
   {
    "duration": 6,
    "start_time": "2021-10-21T10:58:52.852Z"
   },
   {
    "duration": 21,
    "start_time": "2021-10-21T10:59:13.327Z"
   },
   {
    "duration": 7,
    "start_time": "2021-10-21T10:59:44.878Z"
   },
   {
    "duration": 7,
    "start_time": "2021-10-21T10:59:55.341Z"
   },
   {
    "duration": 22,
    "start_time": "2021-10-21T11:00:19.355Z"
   },
   {
    "duration": 93,
    "start_time": "2021-10-21T11:00:57.019Z"
   },
   {
    "duration": 4596,
    "start_time": "2021-10-21T11:01:00.729Z"
   },
   {
    "duration": 4242,
    "start_time": "2021-10-21T11:01:39.620Z"
   },
   {
    "duration": 4520,
    "start_time": "2021-10-21T11:02:13.672Z"
   },
   {
    "duration": 4184,
    "start_time": "2021-10-21T11:02:37.059Z"
   },
   {
    "duration": 4323,
    "start_time": "2021-10-21T11:03:05.633Z"
   },
   {
    "duration": 4426,
    "start_time": "2021-10-21T11:04:03.274Z"
   },
   {
    "duration": 440,
    "start_time": "2021-10-21T16:13:23.606Z"
   },
   {
    "duration": 1553,
    "start_time": "2021-10-21T16:13:29.124Z"
   },
   {
    "duration": 506,
    "start_time": "2021-10-21T16:13:30.680Z"
   },
   {
    "duration": 3,
    "start_time": "2021-10-21T16:13:31.189Z"
   },
   {
    "duration": 42,
    "start_time": "2021-10-21T16:13:31.196Z"
   },
   {
    "duration": 69,
    "start_time": "2021-10-21T16:13:31.240Z"
   },
   {
    "duration": 220,
    "start_time": "2021-10-21T16:13:31.312Z"
   },
   {
    "duration": 70,
    "start_time": "2021-10-21T16:13:31.534Z"
   },
   {
    "duration": 106,
    "start_time": "2021-10-21T16:13:31.606Z"
   },
   {
    "duration": 5894,
    "start_time": "2021-10-21T16:13:31.716Z"
   },
   {
    "duration": 4,
    "start_time": "2021-10-21T16:13:37.613Z"
   },
   {
    "duration": 15,
    "start_time": "2021-10-21T16:13:37.620Z"
   },
   {
    "duration": 14,
    "start_time": "2021-10-21T16:13:37.638Z"
   },
   {
    "duration": 45,
    "start_time": "2021-10-21T16:13:37.655Z"
   },
   {
    "duration": 56,
    "start_time": "2021-10-21T16:13:37.703Z"
   },
   {
    "duration": 113,
    "start_time": "2021-10-21T16:13:37.762Z"
   },
   {
    "duration": 113,
    "start_time": "2021-10-21T16:13:37.766Z"
   },
   {
    "duration": 113,
    "start_time": "2021-10-21T16:13:37.768Z"
   },
   {
    "duration": 6103,
    "start_time": "2021-10-21T16:14:41.700Z"
   },
   {
    "duration": 6224,
    "start_time": "2021-10-21T16:16:26.821Z"
   },
   {
    "duration": 5626,
    "start_time": "2021-10-21T16:18:33.455Z"
   },
   {
    "duration": 6135,
    "start_time": "2021-10-21T16:23:11.689Z"
   },
   {
    "duration": 5,
    "start_time": "2021-10-21T17:49:01.176Z"
   },
   {
    "duration": 20,
    "start_time": "2021-10-21T17:49:34.163Z"
   },
   {
    "duration": 5,
    "start_time": "2021-10-21T17:50:13.315Z"
   },
   {
    "duration": 5,
    "start_time": "2021-10-21T17:50:39.789Z"
   },
   {
    "duration": 6,
    "start_time": "2021-10-21T17:50:46.627Z"
   },
   {
    "duration": 5,
    "start_time": "2021-10-21T17:51:37.605Z"
   },
   {
    "duration": 5,
    "start_time": "2021-10-21T17:51:42.640Z"
   },
   {
    "duration": 5,
    "start_time": "2021-10-21T17:51:52.363Z"
   },
   {
    "duration": 6,
    "start_time": "2021-10-21T17:52:00.693Z"
   },
   {
    "duration": 491,
    "start_time": "2021-10-21T17:54:06.917Z"
   },
   {
    "duration": 494,
    "start_time": "2021-10-21T17:57:05.674Z"
   },
   {
    "duration": 5,
    "start_time": "2021-10-21T18:04:10.058Z"
   },
   {
    "duration": 5888,
    "start_time": "2021-10-21T18:16:42.976Z"
   },
   {
    "duration": 49,
    "start_time": "2021-10-21T19:05:57.533Z"
   },
   {
    "duration": 276,
    "start_time": "2021-10-23T12:17:14.758Z"
   },
   {
    "duration": 1460,
    "start_time": "2021-10-23T12:17:29.958Z"
   },
   {
    "duration": 461,
    "start_time": "2021-10-23T12:17:31.421Z"
   },
   {
    "duration": 3,
    "start_time": "2021-10-23T12:17:31.886Z"
   },
   {
    "duration": 54,
    "start_time": "2021-10-23T12:17:31.893Z"
   },
   {
    "duration": 80,
    "start_time": "2021-10-23T12:17:31.950Z"
   },
   {
    "duration": 222,
    "start_time": "2021-10-23T12:17:32.033Z"
   },
   {
    "duration": 72,
    "start_time": "2021-10-23T12:17:32.257Z"
   },
   {
    "duration": 104,
    "start_time": "2021-10-23T12:17:32.331Z"
   },
   {
    "duration": 5,
    "start_time": "2021-10-23T12:17:32.438Z"
   },
   {
    "duration": 5659,
    "start_time": "2021-10-23T12:17:32.445Z"
   },
   {
    "duration": 4,
    "start_time": "2021-10-23T12:17:38.106Z"
   },
   {
    "duration": 20,
    "start_time": "2021-10-23T12:17:38.112Z"
   },
   {
    "duration": 323,
    "start_time": "2021-10-23T12:17:38.135Z"
   },
   {
    "duration": -43,
    "start_time": "2021-10-23T12:17:38.504Z"
   },
   {
    "duration": -44,
    "start_time": "2021-10-23T12:17:38.506Z"
   },
   {
    "duration": -43,
    "start_time": "2021-10-23T12:17:38.508Z"
   },
   {
    "duration": 9,
    "start_time": "2021-10-23T12:26:14.709Z"
   },
   {
    "duration": 8,
    "start_time": "2021-10-23T12:26:54.040Z"
   },
   {
    "duration": 418,
    "start_time": "2021-10-23T12:26:57.619Z"
   },
   {
    "duration": 7,
    "start_time": "2021-10-23T12:29:54.309Z"
   },
   {
    "duration": 441,
    "start_time": "2021-10-23T12:29:56.338Z"
   },
   {
    "duration": 8790,
    "start_time": "2021-10-23T12:34:11.653Z"
   },
   {
    "duration": 1437,
    "start_time": "2021-10-23T12:34:20.446Z"
   },
   {
    "duration": 445,
    "start_time": "2021-10-23T12:34:21.886Z"
   },
   {
    "duration": 3,
    "start_time": "2021-10-23T12:34:22.334Z"
   },
   {
    "duration": 46,
    "start_time": "2021-10-23T12:34:22.339Z"
   },
   {
    "duration": 58,
    "start_time": "2021-10-23T12:34:22.387Z"
   },
   {
    "duration": 203,
    "start_time": "2021-10-23T12:34:22.447Z"
   },
   {
    "duration": 51,
    "start_time": "2021-10-23T12:34:22.654Z"
   },
   {
    "duration": 102,
    "start_time": "2021-10-23T12:34:22.708Z"
   },
   {
    "duration": 17,
    "start_time": "2021-10-23T12:34:22.813Z"
   },
   {
    "duration": 5771,
    "start_time": "2021-10-23T12:34:22.832Z"
   },
   {
    "duration": 3,
    "start_time": "2021-10-23T12:34:28.606Z"
   },
   {
    "duration": 19,
    "start_time": "2021-10-23T12:34:28.612Z"
   },
   {
    "duration": 420,
    "start_time": "2021-10-23T12:34:28.633Z"
   },
   {
    "duration": 6,
    "start_time": "2021-10-23T12:34:29.129Z"
   },
   {
    "duration": 411,
    "start_time": "2021-10-23T12:34:29.138Z"
   },
   {
    "duration": 221,
    "start_time": "2021-10-23T12:37:17.555Z"
   },
   {
    "duration": 6,
    "start_time": "2021-10-23T12:37:39.649Z"
   },
   {
    "duration": 5,
    "start_time": "2021-10-23T12:38:08.857Z"
   },
   {
    "duration": 7,
    "start_time": "2021-10-23T12:38:18.033Z"
   },
   {
    "duration": 446,
    "start_time": "2021-10-23T12:38:20.609Z"
   },
   {
    "duration": 7,
    "start_time": "2021-10-23T12:38:51.942Z"
   },
   {
    "duration": 433,
    "start_time": "2021-10-23T12:38:53.615Z"
   },
   {
    "duration": 516,
    "start_time": "2021-10-23T12:39:13.114Z"
   },
   {
    "duration": 4,
    "start_time": "2021-10-23T13:22:42.626Z"
   },
   {
    "duration": 204,
    "start_time": "2021-10-23T13:32:45.786Z"
   },
   {
    "duration": 7,
    "start_time": "2021-10-23T13:32:55.778Z"
   },
   {
    "duration": 8,
    "start_time": "2021-10-23T13:33:10.348Z"
   },
   {
    "duration": 8,
    "start_time": "2021-10-23T13:34:02.812Z"
   },
   {
    "duration": 209,
    "start_time": "2021-10-23T14:14:44.655Z"
   },
   {
    "duration": 4,
    "start_time": "2021-10-23T14:15:00.266Z"
   },
   {
    "duration": 11,
    "start_time": "2021-10-23T14:15:02.336Z"
   },
   {
    "duration": 194,
    "start_time": "2021-10-23T14:52:03.671Z"
   },
   {
    "duration": 7,
    "start_time": "2021-10-23T14:52:18.273Z"
   },
   {
    "duration": 157,
    "start_time": "2021-10-23T14:54:21.697Z"
   },
   {
    "duration": 9,
    "start_time": "2021-10-23T14:54:40.498Z"
   },
   {
    "duration": 175,
    "start_time": "2021-10-23T14:54:46.402Z"
   },
   {
    "duration": 28,
    "start_time": "2021-10-23T14:54:59.560Z"
   },
   {
    "duration": 12,
    "start_time": "2021-10-23T14:56:34.315Z"
   },
   {
    "duration": 7,
    "start_time": "2021-10-23T14:57:30.952Z"
   },
   {
    "duration": 211,
    "start_time": "2021-10-23T14:57:42.977Z"
   },
   {
    "duration": 514,
    "start_time": "2021-10-23T14:59:13.954Z"
   },
   {
    "duration": 198,
    "start_time": "2021-10-23T14:59:18.867Z"
   },
   {
    "duration": 192,
    "start_time": "2021-10-23T14:59:45.041Z"
   },
   {
    "duration": 210,
    "start_time": "2021-10-23T14:59:50.142Z"
   },
   {
    "duration": 5,
    "start_time": "2021-10-23T15:00:45.732Z"
   },
   {
    "duration": 4,
    "start_time": "2021-10-23T15:01:06.633Z"
   },
   {
    "duration": 7,
    "start_time": "2021-10-23T15:04:54.546Z"
   },
   {
    "duration": 468,
    "start_time": "2021-10-23T15:04:56.461Z"
   },
   {
    "duration": 11,
    "start_time": "2021-10-23T15:05:09.773Z"
   },
   {
    "duration": 6,
    "start_time": "2021-10-23T15:20:17.971Z"
   },
   {
    "duration": 5802,
    "start_time": "2021-10-23T15:20:20.834Z"
   },
   {
    "duration": 5,
    "start_time": "2021-10-23T15:20:37.425Z"
   },
   {
    "duration": 384,
    "start_time": "2021-10-23T15:20:39.651Z"
   },
   {
    "duration": 6,
    "start_time": "2021-10-23T15:20:55.224Z"
   },
   {
    "duration": 3367,
    "start_time": "2021-10-23T16:12:31.304Z"
   },
   {
    "duration": 1513,
    "start_time": "2021-10-23T16:12:34.674Z"
   },
   {
    "duration": 456,
    "start_time": "2021-10-23T16:12:36.190Z"
   },
   {
    "duration": 5,
    "start_time": "2021-10-23T16:12:36.649Z"
   },
   {
    "duration": 46,
    "start_time": "2021-10-23T16:12:36.656Z"
   },
   {
    "duration": 60,
    "start_time": "2021-10-23T16:12:36.705Z"
   },
   {
    "duration": 236,
    "start_time": "2021-10-23T16:12:36.768Z"
   },
   {
    "duration": 70,
    "start_time": "2021-10-23T16:12:37.010Z"
   },
   {
    "duration": 108,
    "start_time": "2021-10-23T16:12:37.083Z"
   },
   {
    "duration": 5,
    "start_time": "2021-10-23T16:12:37.193Z"
   },
   {
    "duration": 5754,
    "start_time": "2021-10-23T16:12:37.201Z"
   },
   {
    "duration": 3,
    "start_time": "2021-10-23T16:12:42.957Z"
   },
   {
    "duration": 15,
    "start_time": "2021-10-23T16:12:42.963Z"
   },
   {
    "duration": 555,
    "start_time": "2021-10-23T16:12:42.980Z"
   },
   {
    "duration": 92,
    "start_time": "2021-10-23T16:12:43.538Z"
   },
   {
    "duration": 326,
    "start_time": "2021-10-23T16:12:43.632Z"
   },
   {
    "duration": 99,
    "start_time": "2021-10-23T16:12:43.861Z"
   },
   {
    "duration": 96,
    "start_time": "2021-10-23T16:12:43.865Z"
   },
   {
    "duration": 96,
    "start_time": "2021-10-23T16:12:43.867Z"
   },
   {
    "duration": 95,
    "start_time": "2021-10-23T16:12:43.869Z"
   },
   {
    "duration": 95,
    "start_time": "2021-10-23T16:12:43.871Z"
   },
   {
    "duration": 10,
    "start_time": "2021-10-23T16:13:49.330Z"
   },
   {
    "duration": 6,
    "start_time": "2021-10-23T16:13:54.559Z"
   },
   {
    "duration": 872,
    "start_time": "2021-10-23T16:13:56.220Z"
   },
   {
    "duration": 6,
    "start_time": "2021-10-23T16:16:53.139Z"
   },
   {
    "duration": 22,
    "start_time": "2021-10-23T16:16:55.049Z"
   },
   {
    "duration": 7,
    "start_time": "2021-10-23T16:49:25.572Z"
   },
   {
    "duration": 390,
    "start_time": "2021-10-23T16:49:28.063Z"
   },
   {
    "duration": 7,
    "start_time": "2021-10-23T16:49:36.084Z"
   },
   {
    "duration": 22,
    "start_time": "2021-10-23T16:49:37.379Z"
   },
   {
    "duration": 16294,
    "start_time": "2021-10-24T13:36:32.664Z"
   },
   {
    "duration": 1608,
    "start_time": "2021-10-24T13:36:48.961Z"
   },
   {
    "duration": 486,
    "start_time": "2021-10-24T13:36:50.572Z"
   },
   {
    "duration": 3,
    "start_time": "2021-10-24T13:36:51.061Z"
   },
   {
    "duration": 51,
    "start_time": "2021-10-24T13:36:51.067Z"
   },
   {
    "duration": 38,
    "start_time": "2021-10-24T13:36:51.120Z"
   },
   {
    "duration": 228,
    "start_time": "2021-10-24T13:36:51.161Z"
   },
   {
    "duration": 60,
    "start_time": "2021-10-24T13:36:51.391Z"
   },
   {
    "duration": 112,
    "start_time": "2021-10-24T13:36:51.454Z"
   },
   {
    "duration": 6868,
    "start_time": "2021-10-24T13:36:51.568Z"
   },
   {
    "duration": 3,
    "start_time": "2021-10-24T13:36:58.439Z"
   },
   {
    "duration": 11,
    "start_time": "2021-10-24T13:36:58.444Z"
   },
   {
    "duration": 545,
    "start_time": "2021-10-24T13:36:58.457Z"
   },
   {
    "duration": 95,
    "start_time": "2021-10-24T13:36:59.005Z"
   },
   {
    "duration": 10,
    "start_time": "2021-10-24T13:36:59.103Z"
   },
   {
    "duration": 18,
    "start_time": "2021-10-24T13:36:59.115Z"
   },
   {
    "duration": 30,
    "start_time": "2021-10-24T13:36:59.135Z"
   },
   {
    "duration": 503,
    "start_time": "2021-10-24T13:36:59.167Z"
   },
   {
    "duration": 1205,
    "start_time": "2021-10-24T13:36:58.467Z"
   },
   {
    "duration": 1199,
    "start_time": "2021-10-24T13:36:58.475Z"
   },
   {
    "duration": 9,
    "start_time": "2021-10-24T18:18:02.114Z"
   },
   {
    "duration": 315,
    "start_time": "2021-10-24T18:18:06.526Z"
   },
   {
    "duration": 7177,
    "start_time": "2021-10-24T18:18:27.330Z"
   },
   {
    "duration": 1099,
    "start_time": "2021-10-24T18:18:34.509Z"
   },
   {
    "duration": 868,
    "start_time": "2021-10-24T18:18:35.610Z"
   },
   {
    "duration": 3,
    "start_time": "2021-10-24T18:18:36.480Z"
   },
   {
    "duration": 25,
    "start_time": "2021-10-24T18:18:36.484Z"
   },
   {
    "duration": 55,
    "start_time": "2021-10-24T18:18:36.510Z"
   },
   {
    "duration": 118,
    "start_time": "2021-10-24T18:18:36.567Z"
   },
   {
    "duration": 41,
    "start_time": "2021-10-24T18:18:36.687Z"
   },
   {
    "duration": 73,
    "start_time": "2021-10-24T18:18:36.730Z"
   },
   {
    "duration": 4124,
    "start_time": "2021-10-24T18:18:36.805Z"
   },
   {
    "duration": 2,
    "start_time": "2021-10-24T18:18:40.931Z"
   },
   {
    "duration": 18,
    "start_time": "2021-10-24T18:18:40.935Z"
   },
   {
    "duration": 407,
    "start_time": "2021-10-24T18:18:40.954Z"
   },
   {
    "duration": 87,
    "start_time": "2021-10-24T18:18:41.363Z"
   },
   {
    "duration": 98,
    "start_time": "2021-10-24T18:18:41.451Z"
   },
   {
    "duration": 6,
    "start_time": "2021-10-24T18:18:41.556Z"
   },
   {
    "duration": 19,
    "start_time": "2021-10-24T18:18:41.564Z"
   },
   {
    "duration": 9,
    "start_time": "2021-10-24T18:18:41.585Z"
   },
   {
    "duration": 3197,
    "start_time": "2021-10-24T18:18:41.595Z"
   },
   {
    "duration": 4,
    "start_time": "2021-10-24T18:22:51.159Z"
   },
   {
    "duration": 19,
    "start_time": "2021-10-24T18:22:54.211Z"
   },
   {
    "duration": 9,
    "start_time": "2021-10-24T18:22:56.869Z"
   },
   {
    "duration": 2412,
    "start_time": "2021-10-24T18:22:59.051Z"
   },
   {
    "duration": 6732,
    "start_time": "2021-10-24T18:24:07.246Z"
   },
   {
    "duration": 1173,
    "start_time": "2021-10-24T18:24:13.980Z"
   },
   {
    "duration": 378,
    "start_time": "2021-10-24T18:24:15.155Z"
   },
   {
    "duration": 3,
    "start_time": "2021-10-24T18:24:15.535Z"
   },
   {
    "duration": 35,
    "start_time": "2021-10-24T18:24:15.540Z"
   },
   {
    "duration": 41,
    "start_time": "2021-10-24T18:24:15.577Z"
   },
   {
    "duration": 159,
    "start_time": "2021-10-24T18:24:15.620Z"
   },
   {
    "duration": 63,
    "start_time": "2021-10-24T18:24:15.782Z"
   },
   {
    "duration": 69,
    "start_time": "2021-10-24T18:24:15.849Z"
   },
   {
    "duration": 4570,
    "start_time": "2021-10-24T18:24:15.920Z"
   },
   {
    "duration": 2,
    "start_time": "2021-10-24T18:24:20.492Z"
   },
   {
    "duration": 29,
    "start_time": "2021-10-24T18:24:20.496Z"
   },
   {
    "duration": 441,
    "start_time": "2021-10-24T18:24:20.527Z"
   },
   {
    "duration": 3,
    "start_time": "2021-10-24T18:24:20.970Z"
   },
   {
    "duration": 84,
    "start_time": "2021-10-24T18:24:20.976Z"
   },
   {
    "duration": 77,
    "start_time": "2021-10-24T18:24:21.068Z"
   },
   {
    "duration": 25,
    "start_time": "2021-10-24T18:24:21.156Z"
   },
   {
    "duration": 10,
    "start_time": "2021-10-24T18:24:21.182Z"
   },
   {
    "duration": 1839,
    "start_time": "2021-10-24T18:24:21.194Z"
   },
   {
    "duration": 1794,
    "start_time": "2021-10-24T18:24:47.519Z"
   },
   {
    "duration": 4,
    "start_time": "2021-10-24T18:28:01.593Z"
   },
   {
    "duration": 379,
    "start_time": "2021-10-24T18:30:52.201Z"
   },
   {
    "duration": 8,
    "start_time": "2021-10-24T18:30:57.090Z"
   },
   {
    "duration": 4,
    "start_time": "2021-10-24T18:31:13.433Z"
   },
   {
    "duration": 9,
    "start_time": "2021-10-24T18:32:30.362Z"
   },
   {
    "duration": 1955,
    "start_time": "2021-10-24T18:32:32.390Z"
   },
   {
    "duration": 8,
    "start_time": "2021-10-24T18:36:16.018Z"
   },
   {
    "duration": 1787,
    "start_time": "2021-10-24T18:36:18.709Z"
   },
   {
    "duration": 8,
    "start_time": "2021-10-24T18:38:17.017Z"
   },
   {
    "duration": 2253,
    "start_time": "2021-10-24T18:38:18.860Z"
   },
   {
    "duration": 10,
    "start_time": "2021-10-24T18:38:39.300Z"
   },
   {
    "duration": 1876,
    "start_time": "2021-10-24T18:38:40.786Z"
   },
   {
    "duration": 4,
    "start_time": "2021-10-24T18:40:05.365Z"
   },
   {
    "duration": 5824,
    "start_time": "2021-10-24T18:40:10.259Z"
   },
   {
    "duration": 1205,
    "start_time": "2021-10-24T18:40:16.085Z"
   },
   {
    "duration": 386,
    "start_time": "2021-10-24T18:40:17.293Z"
   },
   {
    "duration": 3,
    "start_time": "2021-10-24T18:40:17.682Z"
   },
   {
    "duration": 44,
    "start_time": "2021-10-24T18:40:17.687Z"
   },
   {
    "duration": 41,
    "start_time": "2021-10-24T18:40:17.733Z"
   },
   {
    "duration": 128,
    "start_time": "2021-10-24T18:40:17.775Z"
   },
   {
    "duration": 62,
    "start_time": "2021-10-24T18:40:17.906Z"
   },
   {
    "duration": 104,
    "start_time": "2021-10-24T18:40:17.970Z"
   },
   {
    "duration": 1220,
    "start_time": "2021-10-24T18:40:18.076Z"
   },
   {
    "duration": 1182,
    "start_time": "2021-10-24T18:40:18.116Z"
   },
   {
    "duration": 1174,
    "start_time": "2021-10-24T18:40:18.125Z"
   },
   {
    "duration": 1173,
    "start_time": "2021-10-24T18:40:18.127Z"
   },
   {
    "duration": 1172,
    "start_time": "2021-10-24T18:40:18.129Z"
   },
   {
    "duration": 1172,
    "start_time": "2021-10-24T18:40:18.130Z"
   },
   {
    "duration": 1172,
    "start_time": "2021-10-24T18:40:18.131Z"
   },
   {
    "duration": 1100,
    "start_time": "2021-10-24T18:40:18.203Z"
   },
   {
    "duration": 1099,
    "start_time": "2021-10-24T18:40:18.205Z"
   },
   {
    "duration": 1098,
    "start_time": "2021-10-24T18:40:18.207Z"
   },
   {
    "duration": 1093,
    "start_time": "2021-10-24T18:40:18.213Z"
   },
   {
    "duration": 5690,
    "start_time": "2021-10-24T18:41:55.981Z"
   },
   {
    "duration": 1290,
    "start_time": "2021-10-24T18:42:01.673Z"
   },
   {
    "duration": 510,
    "start_time": "2021-10-24T18:42:02.965Z"
   },
   {
    "duration": 3,
    "start_time": "2021-10-24T18:42:03.477Z"
   },
   {
    "duration": 32,
    "start_time": "2021-10-24T18:42:03.482Z"
   },
   {
    "duration": 50,
    "start_time": "2021-10-24T18:42:03.516Z"
   },
   {
    "duration": 126,
    "start_time": "2021-10-24T18:42:03.568Z"
   },
   {
    "duration": 59,
    "start_time": "2021-10-24T18:42:03.697Z"
   },
   {
    "duration": 65,
    "start_time": "2021-10-24T18:42:03.758Z"
   },
   {
    "duration": 3706,
    "start_time": "2021-10-24T18:42:03.824Z"
   },
   {
    "duration": 3,
    "start_time": "2021-10-24T18:42:07.531Z"
   },
   {
    "duration": 8,
    "start_time": "2021-10-24T18:42:07.545Z"
   },
   {
    "duration": 422,
    "start_time": "2021-10-24T18:42:07.555Z"
   },
   {
    "duration": 77,
    "start_time": "2021-10-24T18:42:07.979Z"
   },
   {
    "duration": 86,
    "start_time": "2021-10-24T18:42:08.066Z"
   },
   {
    "duration": 7,
    "start_time": "2021-10-24T18:42:08.154Z"
   },
   {
    "duration": 22,
    "start_time": "2021-10-24T18:42:08.163Z"
   },
   {
    "duration": 13,
    "start_time": "2021-10-24T18:42:08.187Z"
   },
   {
    "duration": 421,
    "start_time": "2021-10-24T18:42:08.202Z"
   },
   {
    "duration": 1378,
    "start_time": "2021-10-24T18:42:07.247Z"
   },
   {
    "duration": 2642,
    "start_time": "2021-10-24T18:42:42.753Z"
   },
   {
    "duration": 2414,
    "start_time": "2021-10-24T18:43:32.592Z"
   },
   {
    "duration": 1908,
    "start_time": "2021-10-24T18:43:56.216Z"
   },
   {
    "duration": 10,
    "start_time": "2021-10-24T19:07:51.776Z"
   },
   {
    "duration": 10,
    "start_time": "2021-10-24T19:10:08.423Z"
   },
   {
    "duration": 105,
    "start_time": "2021-10-24T19:11:45.659Z"
   },
   {
    "duration": 8,
    "start_time": "2021-10-24T19:11:56.153Z"
   },
   {
    "duration": 1611,
    "start_time": "2021-10-24T19:11:59.694Z"
   },
   {
    "duration": 8,
    "start_time": "2021-10-24T19:12:52.449Z"
   },
   {
    "duration": 1537,
    "start_time": "2021-10-24T19:13:00.231Z"
   },
   {
    "duration": 8,
    "start_time": "2021-10-24T20:00:16.203Z"
   },
   {
    "duration": 1552,
    "start_time": "2021-10-24T20:00:20.817Z"
   },
   {
    "duration": 7,
    "start_time": "2021-10-24T20:21:49.148Z"
   },
   {
    "duration": 5,
    "start_time": "2021-10-24T20:22:13.256Z"
   },
   {
    "duration": 5657,
    "start_time": "2021-10-24T20:23:27.877Z"
   },
   {
    "duration": 1158,
    "start_time": "2021-10-24T20:23:33.536Z"
   },
   {
    "duration": 368,
    "start_time": "2021-10-24T20:23:34.696Z"
   },
   {
    "duration": 3,
    "start_time": "2021-10-24T20:23:35.066Z"
   },
   {
    "duration": 32,
    "start_time": "2021-10-24T20:23:35.070Z"
   },
   {
    "duration": 28,
    "start_time": "2021-10-24T20:23:35.104Z"
   },
   {
    "duration": 138,
    "start_time": "2021-10-24T20:23:35.145Z"
   },
   {
    "duration": 71,
    "start_time": "2021-10-24T20:23:35.286Z"
   },
   {
    "duration": 110,
    "start_time": "2021-10-24T20:23:35.360Z"
   },
   {
    "duration": 3878,
    "start_time": "2021-10-24T20:23:35.473Z"
   },
   {
    "duration": 3,
    "start_time": "2021-10-24T20:23:39.352Z"
   },
   {
    "duration": 14,
    "start_time": "2021-10-24T20:23:39.357Z"
   },
   {
    "duration": 388,
    "start_time": "2021-10-24T20:23:39.373Z"
   },
   {
    "duration": 83,
    "start_time": "2021-10-24T20:23:39.763Z"
   },
   {
    "duration": 103,
    "start_time": "2021-10-24T20:23:39.849Z"
   },
   {
    "duration": 4,
    "start_time": "2021-10-24T20:23:39.954Z"
   },
   {
    "duration": 24,
    "start_time": "2021-10-24T20:23:39.959Z"
   },
   {
    "duration": 8,
    "start_time": "2021-10-24T20:23:39.985Z"
   },
   {
    "duration": 1493,
    "start_time": "2021-10-24T20:23:39.995Z"
   },
   {
    "duration": 1479,
    "start_time": "2021-10-24T20:23:41.490Z"
   },
   {
    "duration": 1593,
    "start_time": "2021-10-24T20:23:42.970Z"
   },
   {
    "duration": 9,
    "start_time": "2021-10-24T20:26:20.155Z"
   },
   {
    "duration": 1541,
    "start_time": "2021-10-24T20:26:24.217Z"
   },
   {
    "duration": 4,
    "start_time": "2021-10-24T20:27:36.390Z"
   },
   {
    "duration": 4,
    "start_time": "2021-10-24T20:27:47.028Z"
   },
   {
    "duration": 4,
    "start_time": "2021-10-24T20:28:22.003Z"
   },
   {
    "duration": 9,
    "start_time": "2021-10-24T20:29:01.272Z"
   },
   {
    "duration": 1586,
    "start_time": "2021-10-24T20:29:03.648Z"
   },
   {
    "duration": 9,
    "start_time": "2021-10-24T20:30:44.028Z"
   },
   {
    "duration": 1702,
    "start_time": "2021-10-24T20:30:46.291Z"
   },
   {
    "duration": 1520,
    "start_time": "2021-10-24T20:48:08.645Z"
   },
   {
    "duration": 1516,
    "start_time": "2021-10-24T20:48:37.142Z"
   },
   {
    "duration": 2632,
    "start_time": "2021-10-24T20:48:52.321Z"
   },
   {
    "duration": 1153,
    "start_time": "2021-10-24T20:48:54.955Z"
   },
   {
    "duration": 367,
    "start_time": "2021-10-24T20:48:56.110Z"
   },
   {
    "duration": 2,
    "start_time": "2021-10-24T20:48:56.480Z"
   },
   {
    "duration": 26,
    "start_time": "2021-10-24T20:48:56.484Z"
   },
   {
    "duration": 45,
    "start_time": "2021-10-24T20:48:56.511Z"
   },
   {
    "duration": 121,
    "start_time": "2021-10-24T20:48:56.557Z"
   },
   {
    "duration": 47,
    "start_time": "2021-10-24T20:48:56.681Z"
   },
   {
    "duration": 81,
    "start_time": "2021-10-24T20:48:56.729Z"
   },
   {
    "duration": 3634,
    "start_time": "2021-10-24T20:48:56.811Z"
   },
   {
    "duration": 2,
    "start_time": "2021-10-24T20:49:00.447Z"
   },
   {
    "duration": 8,
    "start_time": "2021-10-24T20:49:00.451Z"
   },
   {
    "duration": 399,
    "start_time": "2021-10-24T20:49:00.461Z"
   },
   {
    "duration": 83,
    "start_time": "2021-10-24T20:49:00.862Z"
   },
   {
    "duration": 102,
    "start_time": "2021-10-24T20:49:00.947Z"
   },
   {
    "duration": 8,
    "start_time": "2021-10-24T20:49:01.051Z"
   },
   {
    "duration": 23,
    "start_time": "2021-10-24T20:49:01.061Z"
   },
   {
    "duration": 9,
    "start_time": "2021-10-24T20:49:01.086Z"
   },
   {
    "duration": 1561,
    "start_time": "2021-10-24T20:49:01.097Z"
   },
   {
    "duration": 1505,
    "start_time": "2021-10-24T20:49:02.660Z"
   },
   {
    "duration": 1637,
    "start_time": "2021-10-24T20:49:04.167Z"
   },
   {
    "duration": 2853,
    "start_time": "2021-10-24T22:30:30.165Z"
   },
   {
    "duration": 1179,
    "start_time": "2021-10-24T22:30:33.020Z"
   },
   {
    "duration": 374,
    "start_time": "2021-10-24T22:30:34.201Z"
   },
   {
    "duration": 2,
    "start_time": "2021-10-24T22:30:34.577Z"
   },
   {
    "duration": 27,
    "start_time": "2021-10-24T22:30:34.581Z"
   },
   {
    "duration": 41,
    "start_time": "2021-10-24T22:30:34.610Z"
   },
   {
    "duration": 134,
    "start_time": "2021-10-24T22:30:34.652Z"
   },
   {
    "duration": 62,
    "start_time": "2021-10-24T22:30:34.790Z"
   },
   {
    "duration": 70,
    "start_time": "2021-10-24T22:30:34.854Z"
   },
   {
    "duration": 3530,
    "start_time": "2021-10-24T22:30:34.925Z"
   },
   {
    "duration": 2,
    "start_time": "2021-10-24T22:30:38.457Z"
   },
   {
    "duration": 20,
    "start_time": "2021-10-24T22:30:38.460Z"
   },
   {
    "duration": 562,
    "start_time": "2021-10-24T22:30:38.481Z"
   },
   {
    "duration": 4,
    "start_time": "2021-10-24T22:30:39.046Z"
   },
   {
    "duration": 98,
    "start_time": "2021-10-24T22:30:39.052Z"
   },
   {
    "duration": 5,
    "start_time": "2021-10-24T22:30:39.152Z"
   },
   {
    "duration": 20,
    "start_time": "2021-10-24T22:30:39.158Z"
   },
   {
    "duration": 9,
    "start_time": "2021-10-24T22:30:39.180Z"
   },
   {
    "duration": 1647,
    "start_time": "2021-10-24T22:30:39.190Z"
   },
   {
    "duration": 1493,
    "start_time": "2021-10-24T22:30:40.844Z"
   },
   {
    "duration": 1641,
    "start_time": "2021-10-24T22:30:42.339Z"
   }
  ],
  "kernelspec": {
   "display_name": "Python 3",
   "language": "python",
   "name": "python3"
  },
  "language_info": {
   "codemirror_mode": {
    "name": "ipython",
    "version": 3
   },
   "file_extension": ".py",
   "mimetype": "text/x-python",
   "name": "python",
   "nbconvert_exporter": "python",
   "pygments_lexer": "ipython3",
   "version": "3.8.5"
  },
  "toc": {
   "base_numbering": 1,
   "nav_menu": {},
   "number_sections": true,
   "sideBar": true,
   "skip_h1_title": true,
   "title_cell": "Table of Contents",
   "title_sidebar": "Contents",
   "toc_cell": false,
   "toc_position": {},
   "toc_section_display": true,
   "toc_window_display": false
  }
 },
 "nbformat": 4,
 "nbformat_minor": 2
}
