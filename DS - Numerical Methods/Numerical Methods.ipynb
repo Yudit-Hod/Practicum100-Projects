{
 "cells": [
  {
   "cell_type": "markdown",
   "metadata": {},
   "source": [
    "# Used Car Value Prediction"
   ]
  },
  {
   "cell_type": "markdown",
   "metadata": {},
   "source": [
    "Rusty Bargain used car sales service is developing an app to attract new customers. In that app, you can quickly find out the market value of your car. You have access to historical data: technical specifications, trim versions, and prices. You need to build the model to determine the value. \n",
    "\n",
    "Rusty Bargain is interested in:\n",
    "\n",
    "- the quality of the prediction;\n",
    "- the speed of the prediction;\n",
    "- the time required for training"
   ]
  },
  {
   "cell_type": "markdown",
   "metadata": {},
   "source": [
    "## Data preparation"
   ]
  },
  {
   "cell_type": "code",
   "execution_count": 2,
   "metadata": {},
   "outputs": [],
   "source": [
    "import pandas as pd\n",
    "import numpy as np\n",
    "import seaborn as sns\n",
    "import matplotlib.pyplot as plt\n",
    "import missingno as msno\n",
    "%matplotlib inline\n",
    "\n",
    "import xgboost as xgb\n",
    "from xgboost import XGBRegressor\n",
    "from lightgbm import LGBMRegressor\n",
    "from catboost import CatBoostRegressor\n",
    "from sklearn.linear_model import LinearRegression\n",
    "from sklearn.ensemble import RandomForestRegressor\n",
    "\n",
    "from sklearn.model_selection import train_test_split as tts\n",
    "from sklearn.model_selection import GridSearchCV\n",
    "from sklearn.preprocessing import StandardScaler\n",
    "from sklearn.preprocessing import OneHotEncoder\n",
    "from sklearn.compose import ColumnTransformer\n",
    "from sklearn.pipeline import Pipeline\n",
    "from sklearn.metrics import mean_squared_error\n",
    "\n",
    "# ignore warnings\n",
    "import sys\n",
    "import warnings\n",
    "if not sys.warnoptions:\n",
    "       warnings.simplefilter(\"ignore\")"
   ]
  },
  {
   "cell_type": "code",
   "execution_count": 3,
   "metadata": {},
   "outputs": [],
   "source": [
    "try:\n",
    "    data = pd.read_csv('car_data.csv')\n",
    "except:\n",
    "    data = pd.read_csv('/datasets/car_data.csv')"
   ]
  },
  {
   "cell_type": "code",
   "execution_count": 4,
   "metadata": {},
   "outputs": [
    {
     "data": {
      "text/html": [
       "<div>\n",
       "<style scoped>\n",
       "    .dataframe tbody tr th:only-of-type {\n",
       "        vertical-align: middle;\n",
       "    }\n",
       "\n",
       "    .dataframe tbody tr th {\n",
       "        vertical-align: top;\n",
       "    }\n",
       "\n",
       "    .dataframe thead th {\n",
       "        text-align: right;\n",
       "    }\n",
       "</style>\n",
       "<table border=\"1\" class=\"dataframe\">\n",
       "  <thead>\n",
       "    <tr style=\"text-align: right;\">\n",
       "      <th></th>\n",
       "      <th>DateCrawled</th>\n",
       "      <th>Price</th>\n",
       "      <th>VehicleType</th>\n",
       "      <th>RegistrationYear</th>\n",
       "      <th>Gearbox</th>\n",
       "      <th>Power</th>\n",
       "      <th>Model</th>\n",
       "      <th>Mileage</th>\n",
       "      <th>RegistrationMonth</th>\n",
       "      <th>FuelType</th>\n",
       "      <th>Brand</th>\n",
       "      <th>NotRepaired</th>\n",
       "      <th>DateCreated</th>\n",
       "      <th>NumberOfPictures</th>\n",
       "      <th>PostalCode</th>\n",
       "      <th>LastSeen</th>\n",
       "    </tr>\n",
       "  </thead>\n",
       "  <tbody>\n",
       "    <tr>\n",
       "      <td>0</td>\n",
       "      <td>24/03/2016 11:52</td>\n",
       "      <td>480</td>\n",
       "      <td>NaN</td>\n",
       "      <td>1993</td>\n",
       "      <td>manual</td>\n",
       "      <td>0</td>\n",
       "      <td>golf</td>\n",
       "      <td>150000</td>\n",
       "      <td>0</td>\n",
       "      <td>petrol</td>\n",
       "      <td>volkswagen</td>\n",
       "      <td>NaN</td>\n",
       "      <td>24/03/2016 00:00</td>\n",
       "      <td>0</td>\n",
       "      <td>70435</td>\n",
       "      <td>07/04/2016 03:16</td>\n",
       "    </tr>\n",
       "    <tr>\n",
       "      <td>1</td>\n",
       "      <td>24/03/2016 10:58</td>\n",
       "      <td>18300</td>\n",
       "      <td>coupe</td>\n",
       "      <td>2011</td>\n",
       "      <td>manual</td>\n",
       "      <td>190</td>\n",
       "      <td>NaN</td>\n",
       "      <td>125000</td>\n",
       "      <td>5</td>\n",
       "      <td>gasoline</td>\n",
       "      <td>audi</td>\n",
       "      <td>yes</td>\n",
       "      <td>24/03/2016 00:00</td>\n",
       "      <td>0</td>\n",
       "      <td>66954</td>\n",
       "      <td>07/04/2016 01:46</td>\n",
       "    </tr>\n",
       "    <tr>\n",
       "      <td>2</td>\n",
       "      <td>14/03/2016 12:52</td>\n",
       "      <td>9800</td>\n",
       "      <td>suv</td>\n",
       "      <td>2004</td>\n",
       "      <td>auto</td>\n",
       "      <td>163</td>\n",
       "      <td>grand</td>\n",
       "      <td>125000</td>\n",
       "      <td>8</td>\n",
       "      <td>gasoline</td>\n",
       "      <td>jeep</td>\n",
       "      <td>NaN</td>\n",
       "      <td>14/03/2016 00:00</td>\n",
       "      <td>0</td>\n",
       "      <td>90480</td>\n",
       "      <td>05/04/2016 12:47</td>\n",
       "    </tr>\n",
       "    <tr>\n",
       "      <td>3</td>\n",
       "      <td>17/03/2016 16:54</td>\n",
       "      <td>1500</td>\n",
       "      <td>small</td>\n",
       "      <td>2001</td>\n",
       "      <td>manual</td>\n",
       "      <td>75</td>\n",
       "      <td>golf</td>\n",
       "      <td>150000</td>\n",
       "      <td>6</td>\n",
       "      <td>petrol</td>\n",
       "      <td>volkswagen</td>\n",
       "      <td>no</td>\n",
       "      <td>17/03/2016 00:00</td>\n",
       "      <td>0</td>\n",
       "      <td>91074</td>\n",
       "      <td>17/03/2016 17:40</td>\n",
       "    </tr>\n",
       "    <tr>\n",
       "      <td>4</td>\n",
       "      <td>31/03/2016 17:25</td>\n",
       "      <td>3600</td>\n",
       "      <td>small</td>\n",
       "      <td>2008</td>\n",
       "      <td>manual</td>\n",
       "      <td>69</td>\n",
       "      <td>fabia</td>\n",
       "      <td>90000</td>\n",
       "      <td>7</td>\n",
       "      <td>gasoline</td>\n",
       "      <td>skoda</td>\n",
       "      <td>no</td>\n",
       "      <td>31/03/2016 00:00</td>\n",
       "      <td>0</td>\n",
       "      <td>60437</td>\n",
       "      <td>06/04/2016 10:17</td>\n",
       "    </tr>\n",
       "  </tbody>\n",
       "</table>\n",
       "</div>"
      ],
      "text/plain": [
       "        DateCrawled  Price VehicleType  RegistrationYear Gearbox  Power  \\\n",
       "0  24/03/2016 11:52    480         NaN              1993  manual      0   \n",
       "1  24/03/2016 10:58  18300       coupe              2011  manual    190   \n",
       "2  14/03/2016 12:52   9800         suv              2004    auto    163   \n",
       "3  17/03/2016 16:54   1500       small              2001  manual     75   \n",
       "4  31/03/2016 17:25   3600       small              2008  manual     69   \n",
       "\n",
       "   Model  Mileage  RegistrationMonth  FuelType       Brand NotRepaired  \\\n",
       "0   golf   150000                  0    petrol  volkswagen         NaN   \n",
       "1    NaN   125000                  5  gasoline        audi         yes   \n",
       "2  grand   125000                  8  gasoline        jeep         NaN   \n",
       "3   golf   150000                  6    petrol  volkswagen          no   \n",
       "4  fabia    90000                  7  gasoline       skoda          no   \n",
       "\n",
       "        DateCreated  NumberOfPictures  PostalCode          LastSeen  \n",
       "0  24/03/2016 00:00                 0       70435  07/04/2016 03:16  \n",
       "1  24/03/2016 00:00                 0       66954  07/04/2016 01:46  \n",
       "2  14/03/2016 00:00                 0       90480  05/04/2016 12:47  \n",
       "3  17/03/2016 00:00                 0       91074  17/03/2016 17:40  \n",
       "4  31/03/2016 00:00                 0       60437  06/04/2016 10:17  "
      ]
     },
     "execution_count": 4,
     "metadata": {},
     "output_type": "execute_result"
    }
   ],
   "source": [
    "data.head()"
   ]
  },
  {
   "cell_type": "markdown",
   "metadata": {},
   "source": [
    "**Features**  \n",
    "`DateCrawled` — date profile was downloaded from the database  \n",
    "`VehicleType` — vehicle body type  \n",
    "`RegistrationYear` — vehicle registration year  \n",
    "`Gearbox` — gearbox type  \n",
    "`Power` — power (hp)  \n",
    "`Model` — vehicle model  \n",
    "`Mileage` — mileage (measured in km due to dataset's regional specifics)  \n",
    "`RegistrationMonth` — vehicle registration month  \n",
    "`FuelType` — fuel type  \n",
    "`Brand` — vehicle brand  \n",
    "`NotRepaired` — vehicle repaired or not  \n",
    "`DateCreated` — date of profile creation  \n",
    "`NumberOfPictures` — number of vehicle pictures  \n",
    "`PostalCode` — postal code of profile owner (user)  \n",
    "`LastSeen` — date of the last activity of the user  \n",
    "\n",
    "**Target**  \n",
    "`Price` — price (Euro)"
   ]
  },
  {
   "cell_type": "markdown",
   "metadata": {},
   "source": [
    "As we can see there are some columns that are not relevant for assesing the vehicle's price, thus we'll remove them, such as `DateCrawled`, `DateCreated`, `NumberOfPictures` and `LastSeen`. First we'll check if there's any duplicated rows (as the timestemp will help us to determine such rows) and then we'll remove those columns."
   ]
  },
  {
   "cell_type": "code",
   "execution_count": 5,
   "metadata": {},
   "outputs": [
    {
     "data": {
      "text/plain": [
       "262"
      ]
     },
     "execution_count": 5,
     "metadata": {},
     "output_type": "execute_result"
    }
   ],
   "source": [
    "data.duplicated().sum()"
   ]
  },
  {
   "cell_type": "code",
   "execution_count": 6,
   "metadata": {},
   "outputs": [],
   "source": [
    "# remove the duplicated rows\n",
    "data.drop(index = data[data.duplicated()].index, inplace = True)"
   ]
  },
  {
   "cell_type": "code",
   "execution_count": 7,
   "metadata": {},
   "outputs": [],
   "source": [
    "# remove unnecessary columns for prediction \n",
    "data = data.drop(columns = ['DateCrawled', 'DateCreated', 'NumberOfPictures', 'LastSeen','PostalCode'], axis = 1)"
   ]
  },
  {
   "cell_type": "code",
   "execution_count": 8,
   "metadata": {},
   "outputs": [
    {
     "name": "stdout",
     "output_type": "stream",
     "text": [
      "<class 'pandas.core.frame.DataFrame'>\n",
      "Int64Index: 354107 entries, 0 to 354368\n",
      "Data columns (total 11 columns):\n",
      "Price                354107 non-null int64\n",
      "VehicleType          316623 non-null object\n",
      "RegistrationYear     354107 non-null int64\n",
      "Gearbox              334277 non-null object\n",
      "Power                354107 non-null int64\n",
      "Model                334406 non-null object\n",
      "Mileage              354107 non-null int64\n",
      "RegistrationMonth    354107 non-null int64\n",
      "FuelType             321218 non-null object\n",
      "Brand                354107 non-null object\n",
      "NotRepaired          282962 non-null object\n",
      "dtypes: int64(5), object(6)\n",
      "memory usage: 32.4+ MB\n"
     ]
    }
   ],
   "source": [
    "data.info()"
   ]
  },
  {
   "cell_type": "code",
   "execution_count": 9,
   "metadata": {},
   "outputs": [
    {
     "data": {
      "text/plain": [
       "NotRepaired          20.09\n",
       "VehicleType          10.59\n",
       "FuelType              9.29\n",
       "Gearbox               5.60\n",
       "Model                 5.56\n",
       "Brand                 0.00\n",
       "RegistrationMonth     0.00\n",
       "Mileage               0.00\n",
       "Power                 0.00\n",
       "RegistrationYear      0.00\n",
       "Price                 0.00\n",
       "dtype: float64"
      ]
     },
     "execution_count": 9,
     "metadata": {},
     "output_type": "execute_result"
    }
   ],
   "source": [
    "# missing values in the data set (percentage of the data)\n",
    "round(data.isna().sum().sort_values(ascending=False)*100/len(data),2)"
   ]
  },
  {
   "cell_type": "code",
   "execution_count": 10,
   "metadata": {},
   "outputs": [
    {
     "data": {
      "image/png": "[encoded data removed]",
      "text/plain": [
       "<Figure size 1800x720 with 2 Axes>"
      ]
     },
     "metadata": {
      "needs_background": "light"
     },
     "output_type": "display_data"
    }
   ],
   "source": [
    "#visualize the missing values\n",
    "msno.matrix(data);"
   ]
  },
  {
   "cell_type": "markdown",
   "metadata": {},
   "source": [
    "It is not possible to predict if a vehicle is repaired or not by the data we have so although it is a huge amount of data, we'll need to drop the rows with this missing data (probably the most correlated column to this data will be the price but we want to avoid data leakage)."
   ]
  },
  {
   "cell_type": "code",
   "execution_count": 11,
   "metadata": {},
   "outputs": [],
   "source": [
    "# remove rows that are missing the 'NotRepaired' values\n",
    "data.drop(index = data[data['NotRepaired'].isna()].index, inplace = True)"
   ]
  },
  {
   "cell_type": "code",
   "execution_count": 12,
   "metadata": {},
   "outputs": [
    {
     "data": {
      "image/png": "[encoded data removed]",
      "text/plain": [
       "<Figure size 1800x720 with 2 Axes>"
      ]
     },
     "metadata": {
      "needs_background": "light"
     },
     "output_type": "display_data"
    }
   ],
   "source": [
    "#visualize the missing values\n",
    "msno.matrix(data);"
   ]
  },
  {
   "cell_type": "markdown",
   "metadata": {},
   "source": [
    "All the missing values are of categorical type. As we have enough data we'll drop those rows with missing values. Now we want to have a look on the statistics of the features."
   ]
  },
  {
   "cell_type": "code",
   "execution_count": 13,
   "metadata": {},
   "outputs": [],
   "source": [
    "# drop the rows with missng values\n",
    "data.drop(index = data[data.isna().any(axis=1)].index, inplace = True)"
   ]
  },
  {
   "cell_type": "code",
   "execution_count": 14,
   "metadata": {
    "scrolled": true
   },
   "outputs": [
    {
     "data": {
      "text/html": [
       "<div>\n",
       "<style scoped>\n",
       "    .dataframe tbody tr th:only-of-type {\n",
       "        vertical-align: middle;\n",
       "    }\n",
       "\n",
       "    .dataframe tbody tr th {\n",
       "        vertical-align: top;\n",
       "    }\n",
       "\n",
       "    .dataframe thead th {\n",
       "        text-align: right;\n",
       "    }\n",
       "</style>\n",
       "<table border=\"1\" class=\"dataframe\">\n",
       "  <thead>\n",
       "    <tr style=\"text-align: right;\">\n",
       "      <th></th>\n",
       "      <th>Price</th>\n",
       "      <th>RegistrationYear</th>\n",
       "      <th>Power</th>\n",
       "      <th>Mileage</th>\n",
       "      <th>RegistrationMonth</th>\n",
       "    </tr>\n",
       "  </thead>\n",
       "  <tbody>\n",
       "    <tr>\n",
       "      <td>count</td>\n",
       "      <td>245567.000000</td>\n",
       "      <td>245567.000000</td>\n",
       "      <td>245567.000000</td>\n",
       "      <td>245567.000000</td>\n",
       "      <td>245567.000000</td>\n",
       "    </tr>\n",
       "    <tr>\n",
       "      <td>mean</td>\n",
       "      <td>5125.680959</td>\n",
       "      <td>2002.918287</td>\n",
       "      <td>119.971796</td>\n",
       "      <td>127297.112397</td>\n",
       "      <td>6.179401</td>\n",
       "    </tr>\n",
       "    <tr>\n",
       "      <td>std</td>\n",
       "      <td>4718.468928</td>\n",
       "      <td>6.164689</td>\n",
       "      <td>139.448062</td>\n",
       "      <td>37079.536493</td>\n",
       "      <td>3.479783</td>\n",
       "    </tr>\n",
       "    <tr>\n",
       "      <td>min</td>\n",
       "      <td>0.000000</td>\n",
       "      <td>1910.000000</td>\n",
       "      <td>0.000000</td>\n",
       "      <td>5000.000000</td>\n",
       "      <td>0.000000</td>\n",
       "    </tr>\n",
       "    <tr>\n",
       "      <td>25%</td>\n",
       "      <td>1499.000000</td>\n",
       "      <td>1999.000000</td>\n",
       "      <td>75.000000</td>\n",
       "      <td>125000.000000</td>\n",
       "      <td>3.000000</td>\n",
       "    </tr>\n",
       "    <tr>\n",
       "      <td>50%</td>\n",
       "      <td>3500.000000</td>\n",
       "      <td>2003.000000</td>\n",
       "      <td>110.000000</td>\n",
       "      <td>150000.000000</td>\n",
       "      <td>6.000000</td>\n",
       "    </tr>\n",
       "    <tr>\n",
       "      <td>75%</td>\n",
       "      <td>7500.000000</td>\n",
       "      <td>2007.000000</td>\n",
       "      <td>150.000000</td>\n",
       "      <td>150000.000000</td>\n",
       "      <td>9.000000</td>\n",
       "    </tr>\n",
       "    <tr>\n",
       "      <td>max</td>\n",
       "      <td>20000.000000</td>\n",
       "      <td>2018.000000</td>\n",
       "      <td>20000.000000</td>\n",
       "      <td>150000.000000</td>\n",
       "      <td>12.000000</td>\n",
       "    </tr>\n",
       "  </tbody>\n",
       "</table>\n",
       "</div>"
      ],
      "text/plain": [
       "               Price  RegistrationYear          Power        Mileage  \\\n",
       "count  245567.000000     245567.000000  245567.000000  245567.000000   \n",
       "mean     5125.680959       2002.918287     119.971796  127297.112397   \n",
       "std      4718.468928          6.164689     139.448062   37079.536493   \n",
       "min         0.000000       1910.000000       0.000000    5000.000000   \n",
       "25%      1499.000000       1999.000000      75.000000  125000.000000   \n",
       "50%      3500.000000       2003.000000     110.000000  150000.000000   \n",
       "75%      7500.000000       2007.000000     150.000000  150000.000000   \n",
       "max     20000.000000       2018.000000   20000.000000  150000.000000   \n",
       "\n",
       "       RegistrationMonth  \n",
       "count      245567.000000  \n",
       "mean            6.179401  \n",
       "std             3.479783  \n",
       "min             0.000000  \n",
       "25%             3.000000  \n",
       "50%             6.000000  \n",
       "75%             9.000000  \n",
       "max            12.000000  "
      ]
     },
     "execution_count": 14,
     "metadata": {},
     "output_type": "execute_result"
    }
   ],
   "source": [
    "# statistics of numeric features\n",
    "data.describe()"
   ]
  },
  {
   "cell_type": "code",
   "execution_count": 15,
   "metadata": {},
   "outputs": [
    {
     "data": {
      "text/html": [
       "<div>\n",
       "<style scoped>\n",
       "    .dataframe tbody tr th:only-of-type {\n",
       "        vertical-align: middle;\n",
       "    }\n",
       "\n",
       "    .dataframe tbody tr th {\n",
       "        vertical-align: top;\n",
       "    }\n",
       "\n",
       "    .dataframe thead th {\n",
       "        text-align: right;\n",
       "    }\n",
       "</style>\n",
       "<table border=\"1\" class=\"dataframe\">\n",
       "  <thead>\n",
       "    <tr style=\"text-align: right;\">\n",
       "      <th></th>\n",
       "      <th>VehicleType</th>\n",
       "      <th>Gearbox</th>\n",
       "      <th>Model</th>\n",
       "      <th>FuelType</th>\n",
       "      <th>Brand</th>\n",
       "      <th>NotRepaired</th>\n",
       "    </tr>\n",
       "  </thead>\n",
       "  <tbody>\n",
       "    <tr>\n",
       "      <td>count</td>\n",
       "      <td>245567</td>\n",
       "      <td>245567</td>\n",
       "      <td>245567</td>\n",
       "      <td>245567</td>\n",
       "      <td>245567</td>\n",
       "      <td>245567</td>\n",
       "    </tr>\n",
       "    <tr>\n",
       "      <td>unique</td>\n",
       "      <td>8</td>\n",
       "      <td>2</td>\n",
       "      <td>249</td>\n",
       "      <td>7</td>\n",
       "      <td>39</td>\n",
       "      <td>2</td>\n",
       "    </tr>\n",
       "    <tr>\n",
       "      <td>top</td>\n",
       "      <td>sedan</td>\n",
       "      <td>manual</td>\n",
       "      <td>golf</td>\n",
       "      <td>petrol</td>\n",
       "      <td>volkswagen</td>\n",
       "      <td>no</td>\n",
       "    </tr>\n",
       "    <tr>\n",
       "      <td>freq</td>\n",
       "      <td>72202</td>\n",
       "      <td>194529</td>\n",
       "      <td>20184</td>\n",
       "      <td>162426</td>\n",
       "      <td>51787</td>\n",
       "      <td>217767</td>\n",
       "    </tr>\n",
       "  </tbody>\n",
       "</table>\n",
       "</div>"
      ],
      "text/plain": [
       "       VehicleType Gearbox   Model FuelType       Brand NotRepaired\n",
       "count       245567  245567  245567   245567      245567      245567\n",
       "unique           8       2     249        7          39           2\n",
       "top          sedan  manual    golf   petrol  volkswagen          no\n",
       "freq         72202  194529   20184   162426       51787      217767"
      ]
     },
     "execution_count": 15,
     "metadata": {},
     "output_type": "execute_result"
    }
   ],
   "source": [
    "# statistics of categorical features\n",
    "data.describe(include = [np.object])"
   ]
  },
  {
   "cell_type": "code",
   "execution_count": 16,
   "metadata": {},
   "outputs": [
    {
     "data": {
      "image/png": "[encoded data removed]",
      "text/plain": [
       "<Figure size 1080x648 with 6 Axes>"
      ]
     },
     "metadata": {
      "needs_background": "light"
     },
     "output_type": "display_data"
    }
   ],
   "source": [
    "data.hist(edgecolor='black', figsize=(15,9), bins=30)\n",
    "plt.suptitle('Features Distribution', fontsize=16);"
   ]
  },
  {
   "cell_type": "markdown",
   "metadata": {},
   "source": [
    "As we can see, there are some extreme values in the `Power` column and `RegistrationYear` which might happen due to incorrect typing when posting. We'll remove those outliers. We will take 1960 as the minimal year of registration and 800 as the maximal power. Also there are some rows with `Price` of 0. We'll assume that it was intended to attract potential buyers and that's not the actual cost of the vehicle. We'll assume that 500 Euros is the minimal price."
   ]
  },
  {
   "cell_type": "code",
   "execution_count": 17,
   "metadata": {},
   "outputs": [],
   "source": [
    "# remove the outliers\n",
    "data = data[(data['RegistrationYear'] > 1960) & (data['Power'] < 800) & (data['Price'] > 500)]"
   ]
  },
  {
   "cell_type": "code",
   "execution_count": 18,
   "metadata": {},
   "outputs": [
    {
     "data": {
      "image/png": "[encoded data removed]",
      "text/plain": [
       "<Figure size 1080x648 with 6 Axes>"
      ]
     },
     "metadata": {
      "needs_background": "light"
     },
     "output_type": "display_data"
    },
    {
     "data": {
      "image/png": "[encoded data removed]",
      "text/plain": [
       "<Figure size 720x360 with 2 Axes>"
      ]
     },
     "metadata": {
      "needs_background": "light"
     },
     "output_type": "display_data"
    }
   ],
   "source": [
    "data.hist(edgecolor='black', figsize=(15,9), bins=30)\n",
    "plt.suptitle('Features Distribution', fontsize=16)\n",
    "plt.figure(figsize=(10,5))\n",
    "ax = sns.heatmap(data.corr(), annot=True, cmap='cividis')\n",
    "bottom, top = ax.get_ylim()\n",
    "ax.set_ylim(bottom + 0.5, top - 0.5);\n",
    "plt.yticks(rotation=0)\n",
    "plt.title('Features correlations', fontsize=16);"
   ]
  },
  {
   "cell_type": "markdown",
   "metadata": {},
   "source": [
    "Now the distributions look more reasonable. We also see that there are some corrlations between the price and the features. There is a positive correlation of the Price with the Registration Year and the Power, which is pretty obvious and negative correlation with Milage as we also could guess."
   ]
  },
  {
   "cell_type": "code",
   "execution_count": 19,
   "metadata": {},
   "outputs": [
    {
     "data": {
      "text/plain": [
       "229204"
      ]
     },
     "execution_count": 19,
     "metadata": {},
     "output_type": "execute_result"
    }
   ],
   "source": [
    "len(data)"
   ]
  },
  {
   "cell_type": "markdown",
   "metadata": {},
   "source": [
    "Even though we removed a lot of data, we still have a large enough data to work with."
   ]
  },
  {
   "cell_type": "markdown",
   "metadata": {},
   "source": [
    "## Model training"
   ]
  },
  {
   "cell_type": "markdown",
   "metadata": {},
   "source": [
    "Now we'll tune hyperparameters of different models and later we'll compare their training time and quality."
   ]
  },
  {
   "cell_type": "code",
   "execution_count": 20,
   "metadata": {},
   "outputs": [],
   "source": [
    "# first split each data frame to features and target\n",
    "X = data.drop(['Price'], axis=1)\n",
    "Y = data['Price']"
   ]
  },
  {
   "cell_type": "code",
   "execution_count": 21,
   "metadata": {},
   "outputs": [],
   "source": [
    "# split the data to training set and test set\n",
    "X_train, X_test, y_train, y_test = tts(X,Y,test_size=0.3, random_state=12)"
   ]
  },
  {
   "cell_type": "markdown",
   "metadata": {},
   "source": [
    "We have some categorical features and there are some models thats can't deal them so we'll need to apply an encoding for those models (we'll use OneHotEncoder). Since the models that we chose do not benefit from feature scaling, we will not preprocess the numeric features."
   ]
  },
  {
   "cell_type": "code",
   "execution_count": 22,
   "metadata": {},
   "outputs": [],
   "source": [
    "categorical_features = ['VehicleType', 'Gearbox', 'Model', 'FuelType', 'Brand', 'NotRepaired']\n",
    "categorical_transformer = OneHotEncoder(drop='if_binary', handle_unknown=\"ignore\")\n",
    "\n",
    "preprocessor = ColumnTransformer(\n",
    "    transformers=[(\"cat\", categorical_transformer, categorical_features)],  remainder = 'passthrough'\n",
    ")"
   ]
  },
  {
   "cell_type": "markdown",
   "metadata": {},
   "source": [
    "### Random Forest Regressor"
   ]
  },
  {
   "cell_type": "code",
   "execution_count": 23,
   "metadata": {},
   "outputs": [
    {
     "name": "stdout",
     "output_type": "stream",
     "text": [
      "Best params:\n",
      "{'regressor__max_depth': 20, 'regressor__n_estimators': 50}\n",
      "Best RMSE score: 1621.615\n"
     ]
    }
   ],
   "source": [
    "# creating a pipeline\n",
    "pipe1 = Pipeline(\n",
    "    steps=[(\"preprocessor\", preprocessor), (\"regressor\", RandomForestRegressor(random_state=12))]\n",
    ")\n",
    "\n",
    "param_grid = {\n",
    "    \"regressor__n_estimators\" : [10, 50],\n",
    "    \"regressor__max_depth\" : [10, 20]\n",
    "}\n",
    "\n",
    "grid1 = GridSearchCV(pipe1, param_grid, cv=3, scoring = \"neg_root_mean_squared_error\")\n",
    "\n",
    "grid1.fit(X_train, y_train)\n",
    "\n",
    "print(\"Best params:\")\n",
    "print(grid1.best_params_)\n",
    "\n",
    "print(f\"Best RMSE score: {abs(grid1.best_score_):.3f}\")"
   ]
  },
  {
   "cell_type": "markdown",
   "metadata": {},
   "source": [
    "###  XGB Regressor"
   ]
  },
  {
   "cell_type": "code",
   "execution_count": 24,
   "metadata": {},
   "outputs": [
    {
     "name": "stdout",
     "output_type": "stream",
     "text": [
      "Best params:\n",
      "{'regressor__learning_rate': 0.15, 'regressor__max_depth': 10}\n",
      "Best RMSE score: 1559.403\n"
     ]
    }
   ],
   "source": [
    "# creating a pipeline\n",
    "pipe2 = Pipeline(\n",
    "    steps =[\n",
    "        (\"preprocessor\", preprocessor), \n",
    "        (\"regressor\", XGBRegressor(objective='reg:squarederror', n_estimators = 100, random_state=12))]\n",
    ")\n",
    "\n",
    "param_grid = {\n",
    "    \"regressor__learning_rate\" : [0.1, 0.15],\n",
    "    \"regressor__max_depth\" : [10, 20]\n",
    "         }\n",
    "\n",
    "\n",
    "grid2 = GridSearchCV(pipe2, param_grid, cv=3, scoring = \"neg_root_mean_squared_error\")\n",
    "\n",
    "grid2.fit(X_train, y_train)\n",
    "\n",
    "print(\"Best params:\")\n",
    "print(grid2.best_params_)\n",
    "\n",
    "print(f\"Best RMSE score: {abs(grid2.best_score_):.3f}\")"
   ]
  },
  {
   "cell_type": "markdown",
   "metadata": {},
   "source": [
    "### LGBM Regressor"
   ]
  },
  {
   "cell_type": "code",
   "execution_count": 25,
   "metadata": {},
   "outputs": [],
   "source": [
    "X_train_lgbm = X_train.copy()\n",
    "X_test_lgbm = X_test.copy()\n",
    "for col in categorical_features:\n",
    "    X_train_lgbm[col] = X_train_lgbm[col].astype('category')\n",
    "    X_test_lgbm[col] = X_test_lgbm[col].astype('category')"
   ]
  },
  {
   "cell_type": "code",
   "execution_count": 26,
   "metadata": {},
   "outputs": [
    {
     "name": "stdout",
     "output_type": "stream",
     "text": [
      "Best params:\n",
      "{'learning_rate': 0.2, 'max_depth': 20, 'n_estimators': 200}\n",
      "Best RMSE score: 1548.156\n"
     ]
    }
   ],
   "source": [
    "# creating a LGBM Regressor\n",
    "model = LGBMRegressor(random_state=12)\n",
    "\n",
    "param_grid = {\n",
    "    \"learning_rate\" : [0.1, 0.2],\n",
    "    \"n_estimators\" : [150, 200],\n",
    "    \"max_depth\" : [10, 20]\n",
    "}\n",
    "\n",
    "grid3 = GridSearchCV(model, param_grid, cv=3, scoring = \"neg_root_mean_squared_error\")\n",
    "\n",
    "grid3.fit(X_train_lgbm, y_train)\n",
    "\n",
    "print(\"Best params:\")\n",
    "print(grid3.best_params_)\n",
    "\n",
    "print(f\"Best RMSE score: {abs(grid3.best_score_):.3f}\")"
   ]
  },
  {
   "cell_type": "markdown",
   "metadata": {},
   "source": [
    "### CatBoostRegressor"
   ]
  },
  {
   "cell_type": "code",
   "execution_count": 27,
   "metadata": {},
   "outputs": [
    {
     "name": "stdout",
     "output_type": "stream",
     "text": [
      "Best params:\n",
      "{'learning_rate': 0.25, 'n_estimators': 250}\n",
      "Best RMSE score: 1552.033\n"
     ]
    }
   ],
   "source": [
    "# creating a CatBoost Regressor\n",
    "model = CatBoostRegressor(\n",
    "    random_state=12, max_depth = 10, cat_features = categorical_features, logging_level='Silent')\n",
    "\n",
    "param_grid = {\n",
    "    \"learning_rate\" : [0.25, 0.3],\n",
    "    \"n_estimators\" : [200, 250]\n",
    "}\n",
    "\n",
    "grid4 = GridSearchCV(model, param_grid, cv=3, scoring = \"neg_root_mean_squared_error\")\n",
    "\n",
    "grid4.fit(X_train, y_train)\n",
    "\n",
    "print(\"Best params:\")\n",
    "print(grid4.best_params_)\n",
    "\n",
    "print(f\"Best RMSE score: {abs(grid4.best_score_):.3f}\")"
   ]
  },
  {
   "cell_type": "markdown",
   "metadata": {},
   "source": [
    "### Linear Regression for a sanity check"
   ]
  },
  {
   "cell_type": "code",
   "execution_count": 28,
   "metadata": {},
   "outputs": [
    {
     "name": "stdout",
     "output_type": "stream",
     "text": [
      "Best params:\n",
      "{}\n",
      "Best RMSE score: 2565.502\n"
     ]
    }
   ],
   "source": [
    "# creating a pipeline\n",
    "pipe5 = Pipeline(\n",
    "    steps=[(\"preprocessor\", preprocessor), (\"regressor\", LinearRegression())]\n",
    ")\n",
    "\n",
    "grid5 = GridSearchCV(pipe5, param_grid = {}, cv=3, scoring = \"neg_root_mean_squared_error\")\n",
    "\n",
    "grid5.fit(X_train, y_train)\n",
    "\n",
    "print(\"Best params:\")\n",
    "print(grid5.best_params_)\n",
    "\n",
    "print(f\"Best RMSE score: {abs(grid5.best_score_):.3f}\")"
   ]
  },
  {
   "cell_type": "markdown",
   "metadata": {},
   "source": [
    "All the models have a much better RMSE score than the dummy model. Now we want to compare the preformances in terms of running time and RMSE score on the test set."
   ]
  },
  {
   "cell_type": "markdown",
   "metadata": {},
   "source": [
    "## Model analysis"
   ]
  },
  {
   "cell_type": "code",
   "execution_count": 30,
   "metadata": {},
   "outputs": [
    {
     "name": "stdout",
     "output_type": "stream",
     "text": [
      "The RMSE score: 1579.907850680334\n",
      "CPU times: user 8min 40s, sys: 0 ns, total: 8min 40s\n",
      "Wall time: 9min\n"
     ]
    }
   ],
   "source": [
    "%%time\n",
    "pipe = Pipeline(\n",
    "    steps=[(\"preprocessor\", preprocessor), \n",
    "           (\"regressor\", RandomForestRegressor(max_depth = 20, n_estimators = 50, random_state=12))]\n",
    ")\n",
    "\n",
    "pipe.fit(X_train, y_train)\n",
    "y_pred = pipe.predict(X_test)\n",
    "print(f\"The RMSE score: {mean_squared_error(y_test, y_pred, squared=False)}\")"
   ]
  },
  {
   "cell_type": "code",
   "execution_count": 31,
   "metadata": {},
   "outputs": [
    {
     "name": "stdout",
     "output_type": "stream",
     "text": [
      "The RMSE score: 1541.0791029903903\n",
      "CPU times: user 32.8 s, sys: 0 ns, total: 32.8 s\n",
      "Wall time: 33.3 s\n"
     ]
    }
   ],
   "source": [
    "%%time\n",
    "pipe = Pipeline(\n",
    "    steps=[(\"preprocessor\", preprocessor), \n",
    "           (\"regressor\", XGBRegressor(objective='reg:squarederror', n_estimators = 100, \n",
    "                                      learning_rate=0.15, max_depth = 10, random_state=12))]\n",
    ")\n",
    "\n",
    "pipe.fit(X_train, y_train)\n",
    "y_pred = pipe.predict(X_test)\n",
    "print(f\"The RMSE score: {mean_squared_error(y_test, y_pred, squared=False)}\")"
   ]
  },
  {
   "cell_type": "code",
   "execution_count": 32,
   "metadata": {},
   "outputs": [
    {
     "name": "stdout",
     "output_type": "stream",
     "text": [
      "The RMSE score: 1535.2235882002028\n",
      "CPU times: user 3.95 s, sys: 0 ns, total: 3.95 s\n",
      "Wall time: 3.96 s\n"
     ]
    }
   ],
   "source": [
    "%%time\n",
    "model = LGBMRegressor(learning_rate = 0.2, max_depth = 20, n_estimators = 200, random_state=12)\n",
    "\n",
    "model.fit(X_train_lgbm, y_train)\n",
    "y_pred = model.predict(X_test_lgbm)\n",
    "print(f\"The RMSE score: {mean_squared_error(y_test, y_pred, squared=False)}\")"
   ]
  },
  {
   "cell_type": "code",
   "execution_count": 33,
   "metadata": {},
   "outputs": [
    {
     "name": "stdout",
     "output_type": "stream",
     "text": [
      "The RMSE score: 1535.2678080194542\n",
      "CPU times: user 3min 24s, sys: 13.7 s, total: 3min 38s\n",
      "Wall time: 3min 39s\n"
     ]
    }
   ],
   "source": [
    "%%time\n",
    "model = CatBoostRegressor(learning_rate = 0.25, n_estimators = 250, max_depth = 10, \n",
    "                          cat_features=categorical_features, random_state=12, logging_level='Silent')\n",
    "\n",
    "model.fit(X_train, y_train)\n",
    "y_pred = model.predict(X_test)\n",
    "print(f\"The RMSE score: {mean_squared_error(y_test, y_pred, squared=False)}\")"
   ]
  },
  {
   "cell_type": "markdown",
   "metadata": {},
   "source": [
    "The worset RMSE score is for Random Forest Regressor and it is 1579, the best RMSE score is for LGBM Regressor and CatBoostRegressor and it is 1535. The difference in terms of the quality are pretty small, but the runing time of the models training varies from 3.96 seconds for the LGBM Regressor to 9 min for the Random Forest Regressor.\n",
    "Given these two parameters for comparison, **the most cost-effective model for our task is LGBM Regressor.**"
   ]
  }
 ],
 "metadata": {
  "ExecuteTimeLog": [
   {
    "duration": 1482,
    "start_time": "2021-11-08T00:42:07.380Z"
   },
   {
    "duration": 585,
    "start_time": "2021-11-08T00:42:12.131Z"
   },
   {
    "duration": 106,
    "start_time": "2021-11-08T00:42:19.155Z"
   },
   {
    "duration": 20,
    "start_time": "2021-11-08T00:42:58.344Z"
   },
   {
    "duration": 12,
    "start_time": "2021-11-08T00:43:10.710Z"
   },
   {
    "duration": 1719,
    "start_time": "2021-11-10T13:09:21.868Z"
   },
   {
    "duration": 78,
    "start_time": "2021-11-10T13:09:41.552Z"
   },
   {
    "duration": 912,
    "start_time": "2021-11-10T13:10:18.206Z"
   },
   {
    "duration": 207,
    "start_time": "2021-11-10T13:10:20.327Z"
   },
   {
    "duration": 29,
    "start_time": "2021-11-10T13:10:23.382Z"
   },
   {
    "duration": 10122,
    "start_time": "2021-11-10T13:15:10.474Z"
   },
   {
    "duration": 25,
    "start_time": "2021-11-10T13:15:28.300Z"
   },
   {
    "duration": 922,
    "start_time": "2021-11-10T13:15:31.739Z"
   },
   {
    "duration": 200,
    "start_time": "2021-11-10T13:15:34.415Z"
   },
   {
    "duration": 20,
    "start_time": "2021-11-10T13:15:37.510Z"
   },
   {
    "duration": 214,
    "start_time": "2021-11-10T14:18:18.416Z"
   },
   {
    "duration": 455,
    "start_time": "2021-11-10T14:23:46.164Z"
   },
   {
    "duration": 73,
    "start_time": "2021-11-10T14:57:16.841Z"
   },
   {
    "duration": 122,
    "start_time": "2021-11-10T16:37:03.669Z"
   },
   {
    "duration": 305,
    "start_time": "2021-11-10T16:55:03.112Z"
   },
   {
    "duration": 575,
    "start_time": "2021-11-10T16:57:45.219Z"
   },
   {
    "duration": 728,
    "start_time": "2021-11-10T16:59:24.000Z"
   },
   {
    "duration": 28,
    "start_time": "2021-11-10T17:02:35.612Z"
   },
   {
    "duration": 368,
    "start_time": "2021-11-10T17:18:14.683Z"
   },
   {
    "duration": 36,
    "start_time": "2021-11-10T17:18:25.139Z"
   },
   {
    "duration": 135,
    "start_time": "2021-11-10T17:18:30.082Z"
   },
   {
    "duration": 141,
    "start_time": "2021-11-10T17:23:32.642Z"
   },
   {
    "duration": 729,
    "start_time": "2021-11-10T17:44:43.155Z"
   },
   {
    "duration": 658,
    "start_time": "2021-11-10T17:45:06.744Z"
   },
   {
    "duration": 655,
    "start_time": "2021-11-10T17:45:23.545Z"
   },
   {
    "duration": 8,
    "start_time": "2021-11-10T17:45:31.894Z"
   },
   {
    "duration": 401,
    "start_time": "2021-11-10T17:52:56.871Z"
   },
   {
    "duration": 14,
    "start_time": "2021-11-10T17:53:05.278Z"
   },
   {
    "duration": 8,
    "start_time": "2021-11-10T17:53:21.251Z"
   },
   {
    "duration": 7,
    "start_time": "2021-11-10T17:53:34.811Z"
   },
   {
    "duration": 1103,
    "start_time": "2021-11-10T17:53:37.109Z"
   },
   {
    "duration": 21,
    "start_time": "2021-11-10T17:53:39.681Z"
   },
   {
    "duration": 407,
    "start_time": "2021-11-10T17:53:44.202Z"
   },
   {
    "duration": 401,
    "start_time": "2021-11-10T17:53:50.447Z"
   },
   {
    "duration": 707,
    "start_time": "2021-11-10T17:53:54.884Z"
   },
   {
    "duration": 808,
    "start_time": "2021-11-10T17:54:15.113Z"
   },
   {
    "duration": 413,
    "start_time": "2021-11-10T17:54:18.987Z"
   },
   {
    "duration": 390,
    "start_time": "2021-11-10T17:54:38.050Z"
   },
   {
    "duration": 471,
    "start_time": "2021-11-10T17:54:55.848Z"
   },
   {
    "duration": 46,
    "start_time": "2021-11-10T17:54:58.699Z"
   },
   {
    "duration": 131,
    "start_time": "2021-11-10T17:55:00.818Z"
   },
   {
    "duration": 136,
    "start_time": "2021-11-10T17:55:04.747Z"
   },
   {
    "duration": 59,
    "start_time": "2021-11-10T17:55:07.940Z"
   },
   {
    "duration": 7968,
    "start_time": "2021-11-10T18:06:25.619Z"
   },
   {
    "duration": 1660,
    "start_time": "2021-11-10T18:06:36.695Z"
   },
   {
    "duration": 1161,
    "start_time": "2021-11-10T18:06:40.931Z"
   },
   {
    "duration": 27,
    "start_time": "2021-11-10T18:06:43.528Z"
   },
   {
    "duration": 698,
    "start_time": "2021-11-10T18:06:47.654Z"
   },
   {
    "duration": 571,
    "start_time": "2021-11-10T18:06:50.953Z"
   },
   {
    "duration": 53,
    "start_time": "2021-11-10T18:06:53.241Z"
   },
   {
    "duration": 109,
    "start_time": "2021-11-10T18:06:56.105Z"
   },
   {
    "duration": 108,
    "start_time": "2021-11-10T18:06:59.031Z"
   },
   {
    "duration": 2699,
    "start_time": "2021-11-10T18:07:01.435Z"
   },
   {
    "duration": 447,
    "start_time": "2021-11-10T18:14:35.089Z"
   },
   {
    "duration": 56,
    "start_time": "2021-11-10T18:14:47.728Z"
   },
   {
    "duration": 390,
    "start_time": "2021-11-10T18:14:52.811Z"
   },
   {
    "duration": 36,
    "start_time": "2021-11-10T18:14:57.065Z"
   },
   {
    "duration": 114,
    "start_time": "2021-11-10T18:15:10.367Z"
   },
   {
    "duration": 2477,
    "start_time": "2021-11-10T18:15:24.637Z"
   },
   {
    "duration": 24,
    "start_time": "2021-11-10T20:33:00.263Z"
   },
   {
    "duration": 3094,
    "start_time": "2021-11-10T20:40:47.163Z"
   },
   {
    "duration": 1562,
    "start_time": "2021-11-10T20:43:03.915Z"
   },
   {
    "duration": 1089,
    "start_time": "2021-11-10T20:43:08.876Z"
   },
   {
    "duration": 28,
    "start_time": "2021-11-10T20:43:11.475Z"
   },
   {
    "duration": 457,
    "start_time": "2021-11-10T20:43:14.883Z"
   },
   {
    "duration": 522,
    "start_time": "2021-11-10T20:43:16.976Z"
   },
   {
    "duration": 59,
    "start_time": "2021-11-10T20:43:20.019Z"
   },
   {
    "duration": 100,
    "start_time": "2021-11-10T20:43:22.278Z"
   },
   {
    "duration": 106,
    "start_time": "2021-11-10T20:43:24.836Z"
   },
   {
    "duration": 2708,
    "start_time": "2021-11-10T20:43:28.531Z"
   },
   {
    "duration": 118,
    "start_time": "2021-11-10T20:43:36.974Z"
   },
   {
    "duration": 88,
    "start_time": "2021-11-10T20:43:41.841Z"
   },
   {
    "duration": 312,
    "start_time": "2021-11-10T20:43:51.213Z"
   },
   {
    "duration": 2632,
    "start_time": "2021-11-10T20:44:28.794Z"
   },
   {
    "duration": 23553,
    "start_time": "2021-11-12T15:32:37.459Z"
   },
   {
    "duration": 1652,
    "start_time": "2021-11-12T15:33:01.015Z"
   },
   {
    "duration": 1123,
    "start_time": "2021-11-12T15:33:02.670Z"
   },
   {
    "duration": 24,
    "start_time": "2021-11-12T15:33:03.796Z"
   },
   {
    "duration": 483,
    "start_time": "2021-11-12T15:33:03.823Z"
   },
   {
    "duration": 531,
    "start_time": "2021-11-12T15:33:04.309Z"
   },
   {
    "duration": 60,
    "start_time": "2021-11-12T15:33:04.842Z"
   },
   {
    "duration": 124,
    "start_time": "2021-11-12T15:33:04.908Z"
   },
   {
    "duration": 122,
    "start_time": "2021-11-12T15:33:05.036Z"
   },
   {
    "duration": 2583,
    "start_time": "2021-11-12T15:33:05.161Z"
   },
   {
    "duration": 131,
    "start_time": "2021-11-12T15:33:07.747Z"
   },
   {
    "duration": 2334,
    "start_time": "2021-11-12T15:33:07.881Z"
   },
   {
    "duration": 51,
    "start_time": "2021-11-12T15:33:10.218Z"
   },
   {
    "duration": 78,
    "start_time": "2021-11-12T15:33:10.271Z"
   },
   {
    "duration": 344,
    "start_time": "2021-11-12T15:33:10.352Z"
   },
   {
    "duration": 162,
    "start_time": "2021-11-12T15:33:10.698Z"
   },
   {
    "duration": 2717,
    "start_time": "2021-11-12T15:33:10.862Z"
   },
   {
    "duration": 413,
    "start_time": "2021-11-12T15:33:13.581Z"
   },
   {
    "duration": -225,
    "start_time": "2021-11-12T15:33:14.222Z"
   },
   {
    "duration": -229,
    "start_time": "2021-11-12T15:33:14.227Z"
   },
   {
    "duration": -232,
    "start_time": "2021-11-12T15:33:14.232Z"
   },
   {
    "duration": -236,
    "start_time": "2021-11-12T15:33:14.237Z"
   },
   {
    "duration": -238,
    "start_time": "2021-11-12T15:33:14.241Z"
   },
   {
    "duration": -244,
    "start_time": "2021-11-12T15:33:14.249Z"
   },
   {
    "duration": -247,
    "start_time": "2021-11-12T15:33:14.253Z"
   },
   {
    "duration": -284,
    "start_time": "2021-11-12T15:33:14.292Z"
   },
   {
    "duration": 5,
    "start_time": "2021-11-12T15:33:38.394Z"
   },
   {
    "duration": 22,
    "start_time": "2021-11-12T15:35:36.034Z"
   },
   {
    "duration": 113,
    "start_time": "2021-11-12T15:35:56.107Z"
   },
   {
    "duration": 16274,
    "start_time": "2021-11-13T11:28:21.631Z"
   },
   {
    "duration": 1623,
    "start_time": "2021-11-13T11:28:37.908Z"
   },
   {
    "duration": 685,
    "start_time": "2021-11-13T11:28:38.849Z"
   },
   {
    "duration": 677,
    "start_time": "2021-11-13T11:28:38.858Z"
   },
   {
    "duration": 581,
    "start_time": "2021-11-13T11:28:38.955Z"
   },
   {
    "duration": 581,
    "start_time": "2021-11-13T11:28:38.956Z"
   },
   {
    "duration": 580,
    "start_time": "2021-11-13T11:28:38.958Z"
   },
   {
    "duration": 580,
    "start_time": "2021-11-13T11:28:38.959Z"
   },
   {
    "duration": 579,
    "start_time": "2021-11-13T11:28:38.961Z"
   },
   {
    "duration": 579,
    "start_time": "2021-11-13T11:28:38.962Z"
   },
   {
    "duration": 578,
    "start_time": "2021-11-13T11:28:38.964Z"
   },
   {
    "duration": 578,
    "start_time": "2021-11-13T11:28:38.965Z"
   },
   {
    "duration": 577,
    "start_time": "2021-11-13T11:28:38.967Z"
   },
   {
    "duration": 576,
    "start_time": "2021-11-13T11:28:38.969Z"
   },
   {
    "duration": 575,
    "start_time": "2021-11-13T11:28:38.971Z"
   },
   {
    "duration": 575,
    "start_time": "2021-11-13T11:28:38.972Z"
   },
   {
    "duration": 575,
    "start_time": "2021-11-13T11:28:38.973Z"
   },
   {
    "duration": 567,
    "start_time": "2021-11-13T11:28:38.981Z"
   },
   {
    "duration": 566,
    "start_time": "2021-11-13T11:28:38.983Z"
   },
   {
    "duration": 565,
    "start_time": "2021-11-13T11:28:38.985Z"
   },
   {
    "duration": 564,
    "start_time": "2021-11-13T11:28:38.987Z"
   },
   {
    "duration": 564,
    "start_time": "2021-11-13T11:28:38.989Z"
   },
   {
    "duration": 564,
    "start_time": "2021-11-13T11:28:38.990Z"
   },
   {
    "duration": 559,
    "start_time": "2021-11-13T11:28:38.996Z"
   },
   {
    "duration": 558,
    "start_time": "2021-11-13T11:28:38.998Z"
   },
   {
    "duration": 8,
    "start_time": "2021-11-13T11:28:59.010Z"
   },
   {
    "duration": 875,
    "start_time": "2021-11-13T11:29:02.954Z"
   },
   {
    "duration": 17,
    "start_time": "2021-11-13T11:29:05.104Z"
   },
   {
    "duration": 397,
    "start_time": "2021-11-13T11:29:09.403Z"
   },
   {
    "duration": 351,
    "start_time": "2021-11-13T11:29:12.339Z"
   },
   {
    "duration": 37,
    "start_time": "2021-11-13T11:29:14.541Z"
   },
   {
    "duration": 76,
    "start_time": "2021-11-13T11:29:16.752Z"
   },
   {
    "duration": 91,
    "start_time": "2021-11-13T11:29:19.526Z"
   },
   {
    "duration": 1740,
    "start_time": "2021-11-13T11:29:22.440Z"
   },
   {
    "duration": 62,
    "start_time": "2021-11-13T11:29:27.015Z"
   },
   {
    "duration": 1561,
    "start_time": "2021-11-13T11:29:30.293Z"
   },
   {
    "duration": 26,
    "start_time": "2021-11-13T11:29:35.303Z"
   },
   {
    "duration": 54,
    "start_time": "2021-11-13T11:29:37.815Z"
   },
   {
    "duration": 256,
    "start_time": "2021-11-13T11:29:40.143Z"
   },
   {
    "duration": 98,
    "start_time": "2021-11-13T11:29:42.441Z"
   },
   {
    "duration": 1467,
    "start_time": "2021-11-13T11:29:44.680Z"
   },
   {
    "duration": 4,
    "start_time": "2021-11-13T11:29:50.380Z"
   },
   {
    "duration": 12,
    "start_time": "2021-11-13T11:29:52.631Z"
   },
   {
    "duration": 53,
    "start_time": "2021-11-13T11:29:55.528Z"
   },
   {
    "duration": 365,
    "start_time": "2021-11-13T11:29:57.946Z"
   },
   {
    "duration": 5412,
    "start_time": "2021-11-13T12:15:09.489Z"
   },
   {
    "duration": 1336,
    "start_time": "2021-11-13T12:15:14.903Z"
   },
   {
    "duration": 878,
    "start_time": "2021-11-13T12:15:16.241Z"
   },
   {
    "duration": 17,
    "start_time": "2021-11-13T12:15:17.121Z"
   },
   {
    "duration": 311,
    "start_time": "2021-11-13T12:15:17.139Z"
   },
   {
    "duration": 351,
    "start_time": "2021-11-13T12:15:17.452Z"
   },
   {
    "duration": 33,
    "start_time": "2021-11-13T12:15:17.804Z"
   },
   {
    "duration": 92,
    "start_time": "2021-11-13T12:15:17.840Z"
   },
   {
    "duration": 90,
    "start_time": "2021-11-13T12:15:17.934Z"
   },
   {
    "duration": 1888,
    "start_time": "2021-11-13T12:15:18.025Z"
   },
   {
    "duration": 69,
    "start_time": "2021-11-13T12:15:19.915Z"
   },
   {
    "duration": 1860,
    "start_time": "2021-11-13T12:15:19.986Z"
   },
   {
    "duration": 27,
    "start_time": "2021-11-13T12:15:21.848Z"
   },
   {
    "duration": 73,
    "start_time": "2021-11-13T12:15:21.876Z"
   },
   {
    "duration": 235,
    "start_time": "2021-11-13T12:15:21.950Z"
   },
   {
    "duration": 98,
    "start_time": "2021-11-13T12:15:22.186Z"
   },
   {
    "duration": 1644,
    "start_time": "2021-11-13T12:15:22.286Z"
   },
   {
    "duration": 4,
    "start_time": "2021-11-13T12:15:23.932Z"
   },
   {
    "duration": 18,
    "start_time": "2021-11-13T12:15:23.938Z"
   },
   {
    "duration": 68,
    "start_time": "2021-11-13T12:15:23.958Z"
   },
   {
    "duration": 496,
    "start_time": "2021-11-13T12:15:24.028Z"
   },
   {
    "duration": 716,
    "start_time": "2021-11-13T12:15:23.810Z"
   },
   {
    "duration": 716,
    "start_time": "2021-11-13T12:15:23.812Z"
   },
   {
    "duration": 715,
    "start_time": "2021-11-13T12:15:23.814Z"
   },
   {
    "duration": 714,
    "start_time": "2021-11-13T12:15:23.816Z"
   },
   {
    "duration": 5326,
    "start_time": "2021-11-13T12:16:41.437Z"
   },
   {
    "duration": 1249,
    "start_time": "2021-11-13T12:16:46.765Z"
   },
   {
    "duration": 835,
    "start_time": "2021-11-13T12:16:48.017Z"
   },
   {
    "duration": 16,
    "start_time": "2021-11-13T12:16:48.854Z"
   },
   {
    "duration": 304,
    "start_time": "2021-11-13T12:16:48.872Z"
   },
   {
    "duration": 345,
    "start_time": "2021-11-13T12:16:49.178Z"
   },
   {
    "duration": 35,
    "start_time": "2021-11-13T12:16:49.524Z"
   },
   {
    "duration": 89,
    "start_time": "2021-11-13T12:16:49.562Z"
   },
   {
    "duration": 85,
    "start_time": "2021-11-13T12:16:49.653Z"
   },
   {
    "duration": 1847,
    "start_time": "2021-11-13T12:16:49.740Z"
   },
   {
    "duration": 78,
    "start_time": "2021-11-13T12:16:51.589Z"
   },
   {
    "duration": 1662,
    "start_time": "2021-11-13T12:16:51.669Z"
   },
   {
    "duration": 27,
    "start_time": "2021-11-13T12:16:53.333Z"
   },
   {
    "duration": 76,
    "start_time": "2021-11-13T12:16:53.362Z"
   },
   {
    "duration": 287,
    "start_time": "2021-11-13T12:16:53.440Z"
   },
   {
    "duration": 104,
    "start_time": "2021-11-13T12:16:53.729Z"
   },
   {
    "duration": 1581,
    "start_time": "2021-11-13T12:16:53.835Z"
   },
   {
    "duration": 4,
    "start_time": "2021-11-13T12:16:55.418Z"
   },
   {
    "duration": 20,
    "start_time": "2021-11-13T12:16:55.424Z"
   },
   {
    "duration": 67,
    "start_time": "2021-11-13T12:16:55.446Z"
   },
   {
    "duration": 1389959,
    "start_time": "2021-11-13T12:16:55.515Z"
   },
   {
    "duration": 64,
    "start_time": "2021-11-13T12:40:05.412Z"
   },
   {
    "duration": 63,
    "start_time": "2021-11-13T12:40:05.414Z"
   },
   {
    "duration": 61,
    "start_time": "2021-11-13T12:40:05.417Z"
   },
   {
    "duration": 61,
    "start_time": "2021-11-13T12:40:05.418Z"
   },
   {
    "duration": 498622,
    "start_time": "2021-11-13T12:40:34.270Z"
   },
   {
    "duration": 5413,
    "start_time": "2021-11-13T12:53:38.036Z"
   },
   {
    "duration": 1165,
    "start_time": "2021-11-13T12:53:43.451Z"
   },
   {
    "duration": 853,
    "start_time": "2021-11-13T12:53:44.618Z"
   },
   {
    "duration": 17,
    "start_time": "2021-11-13T12:53:45.473Z"
   },
   {
    "duration": 317,
    "start_time": "2021-11-13T12:53:45.491Z"
   },
   {
    "duration": 342,
    "start_time": "2021-11-13T12:53:45.810Z"
   },
   {
    "duration": 35,
    "start_time": "2021-11-13T12:53:46.154Z"
   },
   {
    "duration": 89,
    "start_time": "2021-11-13T12:53:46.191Z"
   },
   {
    "duration": 88,
    "start_time": "2021-11-13T12:53:46.282Z"
   },
   {
    "duration": 1803,
    "start_time": "2021-11-13T12:53:46.372Z"
   },
   {
    "duration": 72,
    "start_time": "2021-11-13T12:53:48.176Z"
   },
   {
    "duration": 1698,
    "start_time": "2021-11-13T12:53:48.250Z"
   },
   {
    "duration": 27,
    "start_time": "2021-11-13T12:53:49.950Z"
   },
   {
    "duration": 76,
    "start_time": "2021-11-13T12:53:49.979Z"
   },
   {
    "duration": 287,
    "start_time": "2021-11-13T12:53:50.058Z"
   },
   {
    "duration": 102,
    "start_time": "2021-11-13T12:53:50.347Z"
   },
   {
    "duration": 1126,
    "start_time": "2021-11-13T12:53:50.451Z"
   },
   {
    "duration": 473,
    "start_time": "2021-11-13T12:53:51.579Z"
   },
   {
    "duration": 712,
    "start_time": "2021-11-13T12:53:51.342Z"
   },
   {
    "duration": 710,
    "start_time": "2021-11-13T12:53:51.344Z"
   },
   {
    "duration": 710,
    "start_time": "2021-11-13T12:53:51.346Z"
   },
   {
    "duration": 710,
    "start_time": "2021-11-13T12:53:51.347Z"
   },
   {
    "duration": 704,
    "start_time": "2021-11-13T12:53:51.354Z"
   },
   {
    "duration": 703,
    "start_time": "2021-11-13T12:53:51.356Z"
   },
   {
    "duration": 702,
    "start_time": "2021-11-13T12:53:51.358Z"
   },
   {
    "duration": 702,
    "start_time": "2021-11-13T12:53:51.359Z"
   },
   {
    "duration": 703,
    "start_time": "2021-11-13T12:53:51.360Z"
   },
   {
    "duration": 20,
    "start_time": "2021-11-13T13:59:00.464Z"
   },
   {
    "duration": 1646,
    "start_time": "2021-11-13T13:59:02.525Z"
   },
   {
    "duration": 21,
    "start_time": "2021-11-13T13:59:31.329Z"
   },
   {
    "duration": 1715,
    "start_time": "2021-11-13T13:59:33.739Z"
   },
   {
    "duration": 5,
    "start_time": "2021-11-13T14:00:04.516Z"
   },
   {
    "duration": 12,
    "start_time": "2021-11-13T14:00:08.246Z"
   },
   {
    "duration": 54,
    "start_time": "2021-11-13T14:00:10.218Z"
   },
   {
    "duration": 4971485,
    "start_time": "2021-11-13T14:00:59.486Z"
   },
   {
    "duration": 346910,
    "start_time": "2021-11-13T15:25:16.501Z"
   },
   {
    "duration": 353,
    "start_time": "2021-11-13T15:43:12.161Z"
   },
   {
    "duration": 2,
    "start_time": "2021-11-13T15:46:57.175Z"
   },
   {
    "duration": 215433,
    "start_time": "2021-11-13T15:47:01.547Z"
   },
   {
    "duration": 347778,
    "start_time": "2021-11-13T15:50:58.103Z"
   },
   {
    "duration": 3,
    "start_time": "2021-11-13T15:59:52.175Z"
   },
   {
    "duration": 5,
    "start_time": "2021-11-13T16:00:16.739Z"
   },
   {
    "duration": 43202,
    "start_time": "2021-11-13T16:01:09.791Z"
   },
   {
    "duration": 150840,
    "start_time": "2021-11-13T16:01:55.579Z"
   },
   {
    "duration": 352,
    "start_time": "2021-11-13T17:19:49.789Z"
   },
   {
    "duration": 410,
    "start_time": "2021-11-13T17:33:25.303Z"
   },
   {
    "duration": 61948,
    "start_time": "2021-11-13T17:33:42.258Z"
   },
   {
    "duration": 14985,
    "start_time": "2021-11-13T17:36:07.100Z"
   },
   {
    "duration": 13224,
    "start_time": "2021-11-13T17:38:51.693Z"
   },
   {
    "duration": 13321,
    "start_time": "2021-11-13T17:43:33.499Z"
   },
   {
    "duration": 12752,
    "start_time": "2021-11-13T17:44:30.088Z"
   },
   {
    "duration": 209955,
    "start_time": "2021-11-13T17:47:00.656Z"
   },
   {
    "duration": 223577,
    "start_time": "2021-11-13T18:10:20.743Z"
   },
   {
    "duration": 2737118,
    "start_time": "2021-11-13T18:14:35.792Z"
   },
   {
    "duration": 13865,
    "start_time": "2021-11-14T15:45:55.393Z"
   },
   {
    "duration": 1710,
    "start_time": "2021-11-14T15:46:09.261Z"
   },
   {
    "duration": 1158,
    "start_time": "2021-11-14T15:46:10.975Z"
   },
   {
    "duration": 28,
    "start_time": "2021-11-14T15:46:12.137Z"
   },
   {
    "duration": 609,
    "start_time": "2021-11-14T15:46:12.168Z"
   },
   {
    "duration": 584,
    "start_time": "2021-11-14T15:46:12.780Z"
   },
   {
    "duration": 64,
    "start_time": "2021-11-14T15:46:13.366Z"
   },
   {
    "duration": 125,
    "start_time": "2021-11-14T15:46:13.433Z"
   },
   {
    "duration": 117,
    "start_time": "2021-11-14T15:46:13.562Z"
   },
   {
    "duration": 2669,
    "start_time": "2021-11-14T15:46:13.683Z"
   },
   {
    "duration": 133,
    "start_time": "2021-11-14T15:46:16.355Z"
   },
   {
    "duration": 2450,
    "start_time": "2021-11-14T15:46:16.490Z"
   },
   {
    "duration": 35,
    "start_time": "2021-11-14T15:46:18.943Z"
   },
   {
    "duration": 80,
    "start_time": "2021-11-14T15:46:18.981Z"
   },
   {
    "duration": 382,
    "start_time": "2021-11-14T15:46:19.064Z"
   },
   {
    "duration": 160,
    "start_time": "2021-11-14T15:46:19.449Z"
   },
   {
    "duration": 2150,
    "start_time": "2021-11-14T15:46:19.612Z"
   },
   {
    "duration": 38,
    "start_time": "2021-11-14T15:46:21.764Z"
   },
   {
    "duration": 2771,
    "start_time": "2021-11-14T15:46:21.805Z"
   },
   {
    "duration": 5,
    "start_time": "2021-11-14T15:46:24.578Z"
   },
   {
    "duration": 48,
    "start_time": "2021-11-14T15:46:24.586Z"
   },
   {
    "duration": 135,
    "start_time": "2021-11-14T15:46:24.637Z"
   },
   {
    "duration": 6,
    "start_time": "2021-11-14T15:46:24.775Z"
   },
   {
    "duration": 2222225,
    "start_time": "2021-11-14T15:46:24.784Z"
   },
   {
    "duration": 1278037,
    "start_time": "2021-11-14T16:23:27.012Z"
   },
   {
    "duration": 293,
    "start_time": "2021-11-14T16:44:45.052Z"
   },
   {
    "duration": 2238,
    "start_time": "2021-11-14T16:44:43.110Z"
   },
   {
    "duration": 2227,
    "start_time": "2021-11-14T16:44:43.123Z"
   },
   {
    "duration": 2219,
    "start_time": "2021-11-14T16:44:43.133Z"
   },
   {
    "duration": 2210,
    "start_time": "2021-11-14T16:44:43.143Z"
   },
   {
    "duration": 2201,
    "start_time": "2021-11-14T16:44:43.153Z"
   },
   {
    "duration": 2139,
    "start_time": "2021-11-14T16:44:43.216Z"
   },
   {
    "duration": 2134,
    "start_time": "2021-11-14T16:44:43.223Z"
   },
   {
    "duration": 2128,
    "start_time": "2021-11-14T16:44:43.230Z"
   },
   {
    "duration": 461,
    "start_time": "2021-11-14T16:49:42.518Z"
   },
   {
    "duration": 307,
    "start_time": "2021-11-14T16:50:54.045Z"
   },
   {
    "duration": 196,
    "start_time": "2021-11-14T16:53:18.805Z"
   },
   {
    "duration": 26503,
    "start_time": "2021-11-14T16:54:03.779Z"
   },
   {
    "duration": 55350,
    "start_time": "2021-11-14T16:55:23.657Z"
   },
   {
    "duration": 127662,
    "start_time": "2021-11-14T16:57:18.139Z"
   },
   {
    "duration": 153053,
    "start_time": "2021-11-14T17:05:48.682Z"
   },
   {
    "duration": 49352,
    "start_time": "2021-11-14T17:13:05.990Z"
   },
   {
    "duration": 241539,
    "start_time": "2021-11-14T17:15:47.643Z"
   },
   {
    "duration": 747336,
    "start_time": "2021-11-14T17:19:52.631Z"
   },
   {
    "duration": 151570,
    "start_time": "2021-11-14T17:39:05.012Z"
   },
   {
    "duration": 163530,
    "start_time": "2021-11-14T17:42:20.510Z"
   },
   {
    "duration": 2134897,
    "start_time": "2021-11-14T17:47:20.436Z"
   },
   {
    "duration": 2124777,
    "start_time": "2021-11-14T18:33:05.469Z"
   },
   {
    "duration": 7402,
    "start_time": "2021-11-14T19:23:06.862Z"
   },
   {
    "duration": 1776,
    "start_time": "2021-11-14T19:23:14.267Z"
   },
   {
    "duration": 1145,
    "start_time": "2021-11-14T19:23:16.046Z"
   },
   {
    "duration": 37,
    "start_time": "2021-11-14T19:23:17.194Z"
   },
   {
    "duration": 512,
    "start_time": "2021-11-14T19:23:17.233Z"
   },
   {
    "duration": 569,
    "start_time": "2021-11-14T19:23:17.747Z"
   },
   {
    "duration": 56,
    "start_time": "2021-11-14T19:23:18.319Z"
   },
   {
    "duration": 124,
    "start_time": "2021-11-14T19:23:18.379Z"
   },
   {
    "duration": 124,
    "start_time": "2021-11-14T19:23:18.506Z"
   },
   {
    "duration": 2930,
    "start_time": "2021-11-14T19:23:18.633Z"
   },
   {
    "duration": 136,
    "start_time": "2021-11-14T19:23:21.565Z"
   },
   {
    "duration": 2945,
    "start_time": "2021-11-14T19:23:21.703Z"
   },
   {
    "duration": 81,
    "start_time": "2021-11-14T19:23:24.651Z"
   },
   {
    "duration": 96,
    "start_time": "2021-11-14T19:23:24.735Z"
   },
   {
    "duration": 414,
    "start_time": "2021-11-14T19:23:24.834Z"
   },
   {
    "duration": 155,
    "start_time": "2021-11-14T19:23:25.251Z"
   },
   {
    "duration": 2080,
    "start_time": "2021-11-14T19:23:25.408Z"
   },
   {
    "duration": 49,
    "start_time": "2021-11-14T19:23:27.490Z"
   },
   {
    "duration": 2748,
    "start_time": "2021-11-14T19:23:27.542Z"
   },
   {
    "duration": 6,
    "start_time": "2021-11-14T19:23:30.293Z"
   },
   {
    "duration": 49,
    "start_time": "2021-11-14T19:23:30.301Z"
   },
   {
    "duration": 129,
    "start_time": "2021-11-14T19:23:30.353Z"
   },
   {
    "duration": 6,
    "start_time": "2021-11-14T19:23:30.486Z"
   },
   {
    "duration": 2155828,
    "start_time": "2021-11-14T19:23:30.494Z"
   },
   {
    "duration": 531700,
    "start_time": "2021-11-14T19:59:26.324Z"
   },
   {
    "duration": 194,
    "start_time": "2021-11-14T20:08:18.030Z"
   },
   {
    "duration": 77427,
    "start_time": "2021-11-14T20:08:18.226Z"
   },
   {
    "duration": 2854460,
    "start_time": "2021-11-14T20:09:35.655Z"
   },
   {
    "duration": 230111,
    "start_time": "2021-11-14T20:57:10.118Z"
   },
   {
    "duration": 523,
    "start_time": "2021-11-14T21:01:00.235Z"
   },
   {
    "duration": 31,
    "start_time": "2021-11-14T21:01:00.729Z"
   },
   {
    "duration": 23142,
    "start_time": "2021-11-14T21:17:48.516Z"
   },
   {
    "duration": 5,
    "start_time": "2021-11-14T21:18:24.290Z"
   },
   {
    "duration": 575453,
    "start_time": "2021-11-14T21:18:47.824Z"
   },
   {
    "duration": 32583,
    "start_time": "2021-11-14T21:29:53.288Z"
   },
   {
    "duration": 196,
    "start_time": "2021-11-14T21:31:43.296Z"
   },
   {
    "duration": 6181,
    "start_time": "2021-11-14T21:31:48.750Z"
   },
   {
    "duration": 150,
    "start_time": "2021-11-14T21:32:13.228Z"
   },
   {
    "duration": 4853,
    "start_time": "2021-11-14T21:32:16.039Z"
   },
   {
    "duration": 227526,
    "start_time": "2021-11-14T21:33:02.313Z"
   },
   {
    "duration": 6821,
    "start_time": "2021-11-14T22:14:37.046Z"
   },
   {
    "duration": 1573,
    "start_time": "2021-11-14T22:14:43.870Z"
   },
   {
    "duration": 1175,
    "start_time": "2021-11-14T22:14:45.446Z"
   },
   {
    "duration": 28,
    "start_time": "2021-11-14T22:14:46.624Z"
   },
   {
    "duration": 462,
    "start_time": "2021-11-14T22:14:46.654Z"
   },
   {
    "duration": 530,
    "start_time": "2021-11-14T22:14:47.118Z"
   },
   {
    "duration": 57,
    "start_time": "2021-11-14T22:14:47.651Z"
   },
   {
    "duration": 122,
    "start_time": "2021-11-14T22:14:47.712Z"
   },
   {
    "duration": 115,
    "start_time": "2021-11-14T22:14:47.837Z"
   },
   {
    "duration": 2583,
    "start_time": "2021-11-14T22:14:47.954Z"
   },
   {
    "duration": 126,
    "start_time": "2021-11-14T22:14:50.540Z"
   },
   {
    "duration": 2326,
    "start_time": "2021-11-14T22:14:50.669Z"
   },
   {
    "duration": 150,
    "start_time": "2021-11-14T22:14:52.997Z"
   },
   {
    "duration": 80,
    "start_time": "2021-11-14T22:14:53.150Z"
   },
   {
    "duration": 372,
    "start_time": "2021-11-14T22:14:53.233Z"
   },
   {
    "duration": 1962,
    "start_time": "2021-11-14T22:14:53.608Z"
   },
   {
    "duration": 40,
    "start_time": "2021-11-14T22:14:55.573Z"
   },
   {
    "duration": 2580,
    "start_time": "2021-11-14T22:14:55.628Z"
   },
   {
    "duration": 10,
    "start_time": "2021-11-14T22:14:58.210Z"
   },
   {
    "duration": 41,
    "start_time": "2021-11-14T22:14:58.229Z"
   },
   {
    "duration": 106,
    "start_time": "2021-11-14T22:14:58.273Z"
   },
   {
    "duration": 4,
    "start_time": "2021-11-14T22:14:58.381Z"
   },
   {
    "duration": 5616,
    "start_time": "2021-11-14T22:14:58.390Z"
   },
   {
    "duration": -274,
    "start_time": "2021-11-14T22:15:04.283Z"
   },
   {
    "duration": -280,
    "start_time": "2021-11-14T22:15:04.290Z"
   },
   {
    "duration": -280,
    "start_time": "2021-11-14T22:15:04.292Z"
   },
   {
    "duration": -281,
    "start_time": "2021-11-14T22:15:04.294Z"
   },
   {
    "duration": -281,
    "start_time": "2021-11-14T22:15:04.296Z"
   },
   {
    "duration": -281,
    "start_time": "2021-11-14T22:15:04.297Z"
   },
   {
    "duration": -284,
    "start_time": "2021-11-14T22:15:04.301Z"
   },
   {
    "duration": -284,
    "start_time": "2021-11-14T22:15:04.303Z"
   },
   {
    "duration": -285,
    "start_time": "2021-11-14T22:15:04.305Z"
   },
   {
    "duration": -285,
    "start_time": "2021-11-14T22:15:04.306Z"
   },
   {
    "duration": 6827,
    "start_time": "2021-11-14T22:17:41.312Z"
   },
   {
    "duration": 1638,
    "start_time": "2021-11-14T22:17:48.142Z"
   },
   {
    "duration": 1186,
    "start_time": "2021-11-14T22:17:49.783Z"
   },
   {
    "duration": 25,
    "start_time": "2021-11-14T22:17:50.972Z"
   },
   {
    "duration": 453,
    "start_time": "2021-11-14T22:17:50.999Z"
   },
   {
    "duration": 588,
    "start_time": "2021-11-14T22:17:51.454Z"
   },
   {
    "duration": 52,
    "start_time": "2021-11-14T22:17:52.044Z"
   },
   {
    "duration": 122,
    "start_time": "2021-11-14T22:17:52.100Z"
   },
   {
    "duration": 106,
    "start_time": "2021-11-14T22:17:52.224Z"
   },
   {
    "duration": 2681,
    "start_time": "2021-11-14T22:17:52.332Z"
   },
   {
    "duration": 123,
    "start_time": "2021-11-14T22:17:55.015Z"
   },
   {
    "duration": 2269,
    "start_time": "2021-11-14T22:17:55.140Z"
   },
   {
    "duration": 159,
    "start_time": "2021-11-14T22:17:57.411Z"
   },
   {
    "duration": 79,
    "start_time": "2021-11-14T22:17:57.573Z"
   },
   {
    "duration": 348,
    "start_time": "2021-11-14T22:17:57.654Z"
   },
   {
    "duration": 1905,
    "start_time": "2021-11-14T22:17:58.004Z"
   },
   {
    "duration": 45,
    "start_time": "2021-11-14T22:17:59.911Z"
   },
   {
    "duration": 2675,
    "start_time": "2021-11-14T22:17:59.959Z"
   },
   {
    "duration": 5,
    "start_time": "2021-11-14T22:18:02.637Z"
   },
   {
    "duration": 23,
    "start_time": "2021-11-14T22:18:02.644Z"
   },
   {
    "duration": 137,
    "start_time": "2021-11-14T22:18:02.669Z"
   },
   {
    "duration": 4,
    "start_time": "2021-11-14T22:18:02.809Z"
   },
   {
    "duration": 1914281,
    "start_time": "2021-11-14T22:18:02.818Z"
   },
   {
    "duration": 510927,
    "start_time": "2021-11-14T22:49:57.101Z"
   },
   {
    "duration": 157,
    "start_time": "2021-11-14T22:58:28.030Z"
   },
   {
    "duration": 75081,
    "start_time": "2021-11-14T22:58:28.189Z"
   },
   {
    "duration": 1913557,
    "start_time": "2021-11-14T22:59:43.273Z"
   },
   {
    "duration": 46713,
    "start_time": "2021-11-14T23:31:36.832Z"
   },
   {
    "duration": 5,
    "start_time": "2021-11-14T23:32:23.632Z"
   },
   {
    "duration": 540193,
    "start_time": "2021-11-14T23:32:23.730Z"
   },
   {
    "duration": 33290,
    "start_time": "2021-11-14T23:41:23.930Z"
   },
   {
    "duration": 3966,
    "start_time": "2021-11-14T23:41:57.229Z"
   },
   {
    "duration": 219853,
    "start_time": "2021-11-14T23:42:01.197Z"
   }
  ],
  "kernelspec": {
   "display_name": "Python 3",
   "language": "python",
   "name": "python3"
  },
  "language_info": {
   "codemirror_mode": {
    "name": "ipython",
    "version": 3
   },
   "file_extension": ".py",
   "mimetype": "text/x-python",
   "name": "python",
   "nbconvert_exporter": "python",
   "pygments_lexer": "ipython3",
   "version": "3.8.5"
  },
  "toc": {
   "base_numbering": 1,
   "nav_menu": {},
   "number_sections": true,
   "sideBar": true,
   "skip_h1_title": true,
   "title_cell": "Table of Contents",
   "title_sidebar": "Contents",
   "toc_cell": false,
   "toc_position": {},
   "toc_section_display": true,
   "toc_window_display": false
  }
 },
 "nbformat": 4,
 "nbformat_minor": 2
}
