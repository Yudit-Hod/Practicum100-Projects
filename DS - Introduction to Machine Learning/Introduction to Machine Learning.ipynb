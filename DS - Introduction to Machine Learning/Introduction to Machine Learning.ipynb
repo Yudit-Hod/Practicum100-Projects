{
 "cells": [
  {
   "cell_type": "markdown",
   "metadata": {},
   "source": [
    "# Recommendation for Megaline's plan"
   ]
  },
  {
   "cell_type": "markdown",
   "metadata": {},
   "source": [
    "The telecom company Megaline has found out that many of the subscribers use legacy plans. \n",
    "We want to develop a model that would analyze subscribers' behavior and recommend one of Megaline's newer plans: Smart or Ultra.\n",
    "We have access to behavior data about subscribers who have already switched to the new plans.\n",
    "We need to develop a model that will pick the right plan.\n",
    "We'll develop a model with the highest possible accuracy. In this project, the threshold for accuracy is 0.75."
   ]
  },
  {
   "cell_type": "markdown",
   "metadata": {},
   "source": [
    "## Opening the Data file"
   ]
  },
  {
   "cell_type": "code",
   "execution_count": 1,
   "metadata": {},
   "outputs": [],
   "source": [
    "import pandas as pd\n",
    "from sklearn.model_selection import train_test_split \n",
    "from sklearn.tree import DecisionTreeClassifier\n",
    "from sklearn.ensemble import RandomForestClassifier\n",
    "from sklearn.linear_model import LogisticRegression\n",
    "from sklearn.metrics import accuracy_score \n",
    "from sklearn.dummy import DummyClassifier"
   ]
  },
  {
   "cell_type": "code",
   "execution_count": 2,
   "metadata": {},
   "outputs": [
    {
     "data": {
      "text/html": [
       "<div>\n",
       "<style scoped>\n",
       "    .dataframe tbody tr th:only-of-type {\n",
       "        vertical-align: middle;\n",
       "    }\n",
       "\n",
       "    .dataframe tbody tr th {\n",
       "        vertical-align: top;\n",
       "    }\n",
       "\n",
       "    .dataframe thead th {\n",
       "        text-align: right;\n",
       "    }\n",
       "</style>\n",
       "<table border=\"1\" class=\"dataframe\">\n",
       "  <thead>\n",
       "    <tr style=\"text-align: right;\">\n",
       "      <th></th>\n",
       "      <th>calls</th>\n",
       "      <th>minutes</th>\n",
       "      <th>messages</th>\n",
       "      <th>mb_used</th>\n",
       "      <th>is_ultra</th>\n",
       "    </tr>\n",
       "  </thead>\n",
       "  <tbody>\n",
       "    <tr>\n",
       "      <td>0</td>\n",
       "      <td>40.0</td>\n",
       "      <td>311.90</td>\n",
       "      <td>83.0</td>\n",
       "      <td>19915.42</td>\n",
       "      <td>0</td>\n",
       "    </tr>\n",
       "    <tr>\n",
       "      <td>1</td>\n",
       "      <td>85.0</td>\n",
       "      <td>516.75</td>\n",
       "      <td>56.0</td>\n",
       "      <td>22696.96</td>\n",
       "      <td>0</td>\n",
       "    </tr>\n",
       "    <tr>\n",
       "      <td>2</td>\n",
       "      <td>77.0</td>\n",
       "      <td>467.66</td>\n",
       "      <td>86.0</td>\n",
       "      <td>21060.45</td>\n",
       "      <td>0</td>\n",
       "    </tr>\n",
       "    <tr>\n",
       "      <td>3</td>\n",
       "      <td>106.0</td>\n",
       "      <td>745.53</td>\n",
       "      <td>81.0</td>\n",
       "      <td>8437.39</td>\n",
       "      <td>1</td>\n",
       "    </tr>\n",
       "    <tr>\n",
       "      <td>4</td>\n",
       "      <td>66.0</td>\n",
       "      <td>418.74</td>\n",
       "      <td>1.0</td>\n",
       "      <td>14502.75</td>\n",
       "      <td>0</td>\n",
       "    </tr>\n",
       "    <tr>\n",
       "      <td>5</td>\n",
       "      <td>58.0</td>\n",
       "      <td>344.56</td>\n",
       "      <td>21.0</td>\n",
       "      <td>15823.37</td>\n",
       "      <td>0</td>\n",
       "    </tr>\n",
       "    <tr>\n",
       "      <td>6</td>\n",
       "      <td>57.0</td>\n",
       "      <td>431.64</td>\n",
       "      <td>20.0</td>\n",
       "      <td>3738.90</td>\n",
       "      <td>1</td>\n",
       "    </tr>\n",
       "    <tr>\n",
       "      <td>7</td>\n",
       "      <td>15.0</td>\n",
       "      <td>132.40</td>\n",
       "      <td>6.0</td>\n",
       "      <td>21911.60</td>\n",
       "      <td>0</td>\n",
       "    </tr>\n",
       "    <tr>\n",
       "      <td>8</td>\n",
       "      <td>7.0</td>\n",
       "      <td>43.39</td>\n",
       "      <td>3.0</td>\n",
       "      <td>2538.67</td>\n",
       "      <td>1</td>\n",
       "    </tr>\n",
       "    <tr>\n",
       "      <td>9</td>\n",
       "      <td>90.0</td>\n",
       "      <td>665.41</td>\n",
       "      <td>38.0</td>\n",
       "      <td>17358.61</td>\n",
       "      <td>0</td>\n",
       "    </tr>\n",
       "  </tbody>\n",
       "</table>\n",
       "</div>"
      ],
      "text/plain": [
       "   calls  minutes  messages   mb_used  is_ultra\n",
       "0   40.0   311.90      83.0  19915.42         0\n",
       "1   85.0   516.75      56.0  22696.96         0\n",
       "2   77.0   467.66      86.0  21060.45         0\n",
       "3  106.0   745.53      81.0   8437.39         1\n",
       "4   66.0   418.74       1.0  14502.75         0\n",
       "5   58.0   344.56      21.0  15823.37         0\n",
       "6   57.0   431.64      20.0   3738.90         1\n",
       "7   15.0   132.40       6.0  21911.60         0\n",
       "8    7.0    43.39       3.0   2538.67         1\n",
       "9   90.0   665.41      38.0  17358.61         0"
      ]
     },
     "execution_count": 2,
     "metadata": {},
     "output_type": "execute_result"
    }
   ],
   "source": [
    "# open the data file\n",
    "df = pd.read_csv('/datasets/users_behavior.csv')\n",
    "df.head(10)"
   ]
  },
  {
   "cell_type": "markdown",
   "metadata": {},
   "source": [
    "**Data Description:**  \n",
    "`сalls` — number of calls  \n",
    "`minutes` — total call duration in minutes  \n",
    "`messages` — number of text messages  \n",
    "`mb_used` — Internet traffic used in MB  \n",
    "`is_ultra` — plan for the current month (Ultra - 1, Smart - 0)"
   ]
  },
  {
   "cell_type": "code",
   "execution_count": 3,
   "metadata": {},
   "outputs": [
    {
     "name": "stdout",
     "output_type": "stream",
     "text": [
      "<class 'pandas.core.frame.DataFrame'>\n",
      "RangeIndex: 3214 entries, 0 to 3213\n",
      "Data columns (total 5 columns):\n",
      "calls       3214 non-null float64\n",
      "minutes     3214 non-null float64\n",
      "messages    3214 non-null float64\n",
      "mb_used     3214 non-null float64\n",
      "is_ultra    3214 non-null int64\n",
      "dtypes: float64(4), int64(1)\n",
      "memory usage: 125.7 KB\n"
     ]
    }
   ],
   "source": [
    "# show general info\n",
    "df.info()"
   ]
  },
  {
   "cell_type": "code",
   "execution_count": 4,
   "metadata": {},
   "outputs": [
    {
     "data": {
      "text/html": [
       "<div>\n",
       "<style scoped>\n",
       "    .dataframe tbody tr th:only-of-type {\n",
       "        vertical-align: middle;\n",
       "    }\n",
       "\n",
       "    .dataframe tbody tr th {\n",
       "        vertical-align: top;\n",
       "    }\n",
       "\n",
       "    .dataframe thead th {\n",
       "        text-align: right;\n",
       "    }\n",
       "</style>\n",
       "<table border=\"1\" class=\"dataframe\">\n",
       "  <thead>\n",
       "    <tr style=\"text-align: right;\">\n",
       "      <th></th>\n",
       "      <th>calls</th>\n",
       "      <th>minutes</th>\n",
       "      <th>messages</th>\n",
       "      <th>mb_used</th>\n",
       "      <th>is_ultra</th>\n",
       "    </tr>\n",
       "  </thead>\n",
       "  <tbody>\n",
       "    <tr>\n",
       "      <td>count</td>\n",
       "      <td>3214.000000</td>\n",
       "      <td>3214.000000</td>\n",
       "      <td>3214.000000</td>\n",
       "      <td>3214.000000</td>\n",
       "      <td>3214.000000</td>\n",
       "    </tr>\n",
       "    <tr>\n",
       "      <td>mean</td>\n",
       "      <td>63.038892</td>\n",
       "      <td>438.208787</td>\n",
       "      <td>38.281269</td>\n",
       "      <td>17207.673836</td>\n",
       "      <td>0.306472</td>\n",
       "    </tr>\n",
       "    <tr>\n",
       "      <td>std</td>\n",
       "      <td>33.236368</td>\n",
       "      <td>234.569872</td>\n",
       "      <td>36.148326</td>\n",
       "      <td>7570.968246</td>\n",
       "      <td>0.461100</td>\n",
       "    </tr>\n",
       "    <tr>\n",
       "      <td>min</td>\n",
       "      <td>0.000000</td>\n",
       "      <td>0.000000</td>\n",
       "      <td>0.000000</td>\n",
       "      <td>0.000000</td>\n",
       "      <td>0.000000</td>\n",
       "    </tr>\n",
       "    <tr>\n",
       "      <td>25%</td>\n",
       "      <td>40.000000</td>\n",
       "      <td>274.575000</td>\n",
       "      <td>9.000000</td>\n",
       "      <td>12491.902500</td>\n",
       "      <td>0.000000</td>\n",
       "    </tr>\n",
       "    <tr>\n",
       "      <td>50%</td>\n",
       "      <td>62.000000</td>\n",
       "      <td>430.600000</td>\n",
       "      <td>30.000000</td>\n",
       "      <td>16943.235000</td>\n",
       "      <td>0.000000</td>\n",
       "    </tr>\n",
       "    <tr>\n",
       "      <td>75%</td>\n",
       "      <td>82.000000</td>\n",
       "      <td>571.927500</td>\n",
       "      <td>57.000000</td>\n",
       "      <td>21424.700000</td>\n",
       "      <td>1.000000</td>\n",
       "    </tr>\n",
       "    <tr>\n",
       "      <td>max</td>\n",
       "      <td>244.000000</td>\n",
       "      <td>1632.060000</td>\n",
       "      <td>224.000000</td>\n",
       "      <td>49745.730000</td>\n",
       "      <td>1.000000</td>\n",
       "    </tr>\n",
       "  </tbody>\n",
       "</table>\n",
       "</div>"
      ],
      "text/plain": [
       "             calls      minutes     messages       mb_used     is_ultra\n",
       "count  3214.000000  3214.000000  3214.000000   3214.000000  3214.000000\n",
       "mean     63.038892   438.208787    38.281269  17207.673836     0.306472\n",
       "std      33.236368   234.569872    36.148326   7570.968246     0.461100\n",
       "min       0.000000     0.000000     0.000000      0.000000     0.000000\n",
       "25%      40.000000   274.575000     9.000000  12491.902500     0.000000\n",
       "50%      62.000000   430.600000    30.000000  16943.235000     0.000000\n",
       "75%      82.000000   571.927500    57.000000  21424.700000     1.000000\n",
       "max     244.000000  1632.060000   224.000000  49745.730000     1.000000"
      ]
     },
     "execution_count": 4,
     "metadata": {},
     "output_type": "execute_result"
    }
   ],
   "source": [
    "# show statistical summary\n",
    "df.describe()"
   ]
  },
  {
   "cell_type": "markdown",
   "metadata": {},
   "source": [
    "There are some data types that should be changed. The calls and messages are a whole numbers so we'll convert them to integers."
   ]
  },
  {
   "cell_type": "code",
   "execution_count": 5,
   "metadata": {},
   "outputs": [
    {
     "data": {
      "text/plain": [
       "calls         int64\n",
       "minutes     float64\n",
       "messages      int64\n",
       "mb_used     float64\n",
       "is_ultra      int64\n",
       "dtype: object"
      ]
     },
     "execution_count": 5,
     "metadata": {},
     "output_type": "execute_result"
    }
   ],
   "source": [
    "# change data types\n",
    "df = df.astype({\"calls\": int, \"messages\": int})\n",
    "df.dtypes"
   ]
  },
  {
   "cell_type": "code",
   "execution_count": 6,
   "metadata": {},
   "outputs": [
    {
     "data": {
      "text/plain": [
       "0"
      ]
     },
     "execution_count": 6,
     "metadata": {},
     "output_type": "execute_result"
    }
   ],
   "source": [
    "# check for duplicates\n",
    "df.duplicated().sum()"
   ]
  },
  {
   "cell_type": "code",
   "execution_count": 7,
   "metadata": {},
   "outputs": [
    {
     "data": {
      "text/plain": [
       "0.31"
      ]
     },
     "execution_count": 7,
     "metadata": {},
     "output_type": "execute_result"
    }
   ],
   "source": [
    "# the share of the 'Ultra' users\n",
    "(df['is_ultra'].sum()/df['is_ultra'].count()).round(2)"
   ]
  },
  {
   "cell_type": "code",
   "execution_count": 8,
   "metadata": {},
   "outputs": [
    {
     "data": {
      "text/plain": [
       "0.69"
      ]
     },
     "execution_count": 8,
     "metadata": {},
     "output_type": "execute_result"
    }
   ],
   "source": [
    "# the share of the 'Smart' users\n",
    "((df['is_ultra'].count() - df['is_ultra'].sum())/df['is_ultra'].count()).round(2)"
   ]
  },
  {
   "cell_type": "markdown",
   "metadata": {},
   "source": [
    "Datatypes of a few columns in the dataset had to be changed, and they were successfully changed.\n",
    "There were no missing values or duplicates.\n",
    "We found that the shares of the plans are not balanced. It might affect the results. Probably the most common plan will be the most predicted one.\n",
    "Now we can move on for choosing the model for prediction."
   ]
  },
  {
   "cell_type": "markdown",
   "metadata": {},
   "source": [
    "## Chosing the best model"
   ]
  },
  {
   "cell_type": "markdown",
   "metadata": {},
   "source": [
    "We will split the data into train, validation and test sets with this ratio 3:1:1.\n",
    "For each type of model we will find the most accurate one, and then we will chose the best typoe for our task."
   ]
  },
  {
   "cell_type": "code",
   "execution_count": 9,
   "metadata": {},
   "outputs": [],
   "source": [
    "# splitting the source data into train, validation and test sets\n",
    "df_train, df_check = train_test_split(df, test_size=0.4, random_state=12345)\n",
    "df_valid, df_test = train_test_split(df_check, test_size=0.5, random_state=12345)\n",
    "\n",
    "features_train = df_train.drop(['is_ultra'], axis=1)\n",
    "target_train = df_train['is_ultra']\n",
    "\n",
    "features_valid = df_valid.drop(['is_ultra'], axis=1)\n",
    "target_valid = df_valid['is_ultra']\n",
    "\n",
    "features_test = df_test.drop(['is_ultra'], axis=1)\n",
    "target_test = df_test['is_ultra']"
   ]
  },
  {
   "cell_type": "markdown",
   "metadata": {},
   "source": [
    "First we will check the Decision Tree model"
   ]
  },
  {
   "cell_type": "code",
   "execution_count": 10,
   "metadata": {},
   "outputs": [
    {
     "name": "stdout",
     "output_type": "stream",
     "text": [
      "max_depth = 1 : 0.7543\n",
      "max_depth = 2 : 0.7823\n",
      "max_depth = 3 : 0.7854\n",
      "max_depth = 4 : 0.7792\n",
      "max_depth = 5 : 0.7792\n"
     ]
    }
   ],
   "source": [
    "for i in range(1, 6):\n",
    "    model = DecisionTreeClassifier(random_state=12345, max_depth = i)\n",
    "    model.fit(features_train, target_train)\n",
    "    predictions_valid = model.predict(features_valid)\n",
    "    \n",
    "    print(\"max_depth =\", i, \": \", end='')\n",
    "    print('{:.4f}'.format(accuracy_score(target_valid, predictions_valid)))"
   ]
  },
  {
   "cell_type": "markdown",
   "metadata": {},
   "source": [
    "We see that the best score is for depth of 3.\n",
    "Now we wi'll check the Random Forest model."
   ]
  },
  {
   "cell_type": "code",
   "execution_count": 11,
   "metadata": {},
   "outputs": [
    {
     "name": "stdout",
     "output_type": "stream",
     "text": [
      "max_depth = 2 : \n",
      "n_estimators = 1 : 0.7854\n",
      "n_estimators = 2 : 0.7823\n",
      "n_estimators = 3 : 0.7776\n",
      "n_estimators = 4 : 0.7869\n",
      "n_estimators = 5 : 0.7698\n",
      "n_estimators = 6 : 0.7729\n",
      "max_depth = 3 : \n",
      "n_estimators = 1 : 0.7854\n",
      "n_estimators = 2 : 0.7854\n",
      "n_estimators = 3 : 0.7854\n",
      "n_estimators = 4 : 0.7838\n",
      "n_estimators = 5 : 0.7838\n",
      "n_estimators = 6 : 0.7854\n",
      "max_depth = 4 : \n",
      "n_estimators = 1 : 0.7745\n",
      "n_estimators = 2 : 0.7776\n",
      "n_estimators = 3 : 0.7760\n",
      "n_estimators = 4 : 0.7885\n",
      "n_estimators = 5 : 0.7854\n",
      "n_estimators = 6 : 0.7869\n",
      "max_depth = 5 : \n",
      "n_estimators = 1 : 0.7760\n",
      "n_estimators = 2 : 0.7729\n",
      "n_estimators = 3 : 0.7885\n",
      "n_estimators = 4 : 0.7854\n",
      "n_estimators = 5 : 0.7885\n",
      "n_estimators = 6 : 0.7885\n",
      "max_depth = 6 : \n",
      "n_estimators = 1 : 0.7854\n",
      "n_estimators = 2 : 0.7854\n",
      "n_estimators = 3 : 0.7838\n",
      "n_estimators = 4 : 0.7885\n",
      "n_estimators = 5 : 0.7947\n",
      "n_estimators = 6 : 0.7932\n",
      "max_depth = 7 : \n",
      "n_estimators = 1 : 0.7776\n",
      "n_estimators = 2 : 0.7776\n",
      "n_estimators = 3 : 0.7869\n",
      "n_estimators = 4 : 0.7869\n",
      "n_estimators = 5 : 0.7916\n",
      "n_estimators = 6 : 0.7900\n",
      "max_depth = 8 : \n",
      "n_estimators = 1 : 0.7776\n",
      "n_estimators = 2 : 0.7807\n",
      "n_estimators = 3 : 0.7854\n",
      "n_estimators = 4 : 0.7900\n",
      "n_estimators = 5 : 0.7932\n",
      "n_estimators = 6 : 0.7963\n",
      "max_depth = 9 : \n",
      "n_estimators = 1 : 0.7792\n",
      "n_estimators = 2 : 0.7667\n",
      "n_estimators = 3 : 0.7792\n",
      "n_estimators = 4 : 0.7792\n",
      "n_estimators = 5 : 0.7792\n",
      "n_estimators = 6 : 0.7792\n",
      "max_depth = 10 : \n",
      "n_estimators = 1 : 0.7729\n",
      "n_estimators = 2 : 0.7698\n",
      "n_estimators = 3 : 0.7729\n",
      "n_estimators = 4 : 0.7745\n",
      "n_estimators = 5 : 0.7807\n",
      "n_estimators = 6 : 0.7823\n"
     ]
    }
   ],
   "source": [
    "for j in range(2, 11):\n",
    "    print(\"max_depth =\", j, \": \", end='\\n')\n",
    "    for i in range(1, 7):\n",
    "        model = RandomForestClassifier(random_state=12345, n_estimators=i, max_depth = j)\n",
    "        model.fit(features_train, target_train)\n",
    "        predictions_valid = model.predict(features_valid)\n",
    "    \n",
    "        print(\"n_estimators =\", i, \": \", end='')\n",
    "        print('{:.4f}'.format(accuracy_score(target_valid, predictions_valid)))"
   ]
  },
  {
   "cell_type": "markdown",
   "metadata": {},
   "source": [
    "We see that the number of estimators that brings the best results is 6 with max_depth of 8.   \n",
    "max_depth = 8, n_estimators = 6 : 0.7963  \n",
    "Now we'll check the Logistic Regression model."
   ]
  },
  {
   "cell_type": "code",
   "execution_count": 12,
   "metadata": {},
   "outputs": [
    {
     "name": "stdout",
     "output_type": "stream",
     "text": [
      "0.7589\n"
     ]
    }
   ],
   "source": [
    "model = LogisticRegression(random_state=12345, solver='liblinear')\n",
    "model.fit(features_train, target_train)\n",
    "predictions_valid = model.predict(features_valid)\n",
    "print('{:.4f}'.format(accuracy_score(target_valid, predictions_valid)))"
   ]
  },
  {
   "cell_type": "markdown",
   "metadata": {},
   "source": [
    "The best result for the Decision Tree was:  \n",
    "max_depth = 3 : 0.7854  \n",
    "The best result for the Random Forest was:\n",
    "max_depth = 8, n_estimators = 6 : 0.7963  \n",
    "The best result for the Logistic Regression was:  \n",
    "0.7589  \n",
    "\n",
    "From all that was mentioned above, the most accurate model is Random Forest model with max_depth = 8, n_estimators = 6."
   ]
  },
  {
   "cell_type": "code",
   "execution_count": 13,
   "metadata": {},
   "outputs": [
    {
     "name": "stdout",
     "output_type": "stream",
     "text": [
      "Accuracy\n",
      "Training set: 0.7942\n",
      "Test set: 0.7885\n"
     ]
    }
   ],
   "source": [
    "# the chosen model\n",
    "model = RandomForestClassifier(random_state=12345, n_estimators=4, max_depth = 4)\n",
    "features = pd.concat([features_train, features_valid], ignore_index=True)\n",
    "target = pd.concat([target_train, target_valid], ignore_index=True)\n",
    "model.fit(features, target)\n",
    "predictions_test = model.predict(features_test)\n",
    "predictions_train = model.predict(features)\n",
    "\n",
    "print('Accuracy')\n",
    "print('Training set: {:.4f}'.format(accuracy_score(target, predictions_train)))\n",
    "print('Test set: {:.4f}'.format(accuracy_score(target_test, predictions_test)))"
   ]
  },
  {
   "cell_type": "code",
   "execution_count": 14,
   "metadata": {},
   "outputs": [
    {
     "name": "stdout",
     "output_type": "stream",
     "text": [
      "Accuracy\n",
      "Training set: 0.6958\n",
      "Test set: 0.6843\n"
     ]
    }
   ],
   "source": [
    "dummy_model = DummyClassifier(random_state=12345, strategy=\"most_frequent\")\n",
    "dummy_model.fit(features, target)\n",
    "dummy_predictions_test = dummy_model.predict(features_test)\n",
    "dummy_predictions_train = dummy_model.predict(features)\n",
    "\n",
    "print('Accuracy')\n",
    "print('Training set: {:.4f}'.format(accuracy_score(target, dummy_predictions_train)))\n",
    "print('Test set: {:.4f}'.format(accuracy_score(target_test, dummy_predictions_test)))"
   ]
  },
  {
   "cell_type": "markdown",
   "metadata": {},
   "source": [
    "We found out that accuracy-wise, our model is doing better with the training set compared to the test set. This is a cllasic symptom of overfitting.\n",
    "The sanity test for our model is showing that it is working better than just by chance."
   ]
  },
  {
   "cell_type": "markdown",
   "metadata": {},
   "source": [
    "## Conclusions"
   ]
  },
  {
   "cell_type": "markdown",
   "metadata": {},
   "source": [
    "In general our dataset was of a good quality. \n",
    "There were no duplicates or missing values but there were datatypes that could be stored in a better way. We found that the shares of the plans are not balanced which might affect the results.\n",
    "\n",
    "We checked three types of classification models and compared their preformence in terms of accurecy:\n",
    "1) Decision Tree\n",
    "2) Random Forest\n",
    "3) Logistic Regression\n",
    "For each type we tried to find the best hyperparameters.\n",
    "\n",
    "At the end we chose the best model as **Random Forest with max_depth of 8 and n_estimatiors of 6**.\n",
    "We made sure that the results obtained were better than guessing by a sanity test."
   ]
  }
 ],
 "metadata": {
  "ExecuteTimeLog": [
   {
    "duration": 1464,
    "start_time": "2021-09-16T23:18:25.795Z"
   },
   {
    "duration": 3439,
    "start_time": "2021-09-16T23:18:28.855Z"
   },
   {
    "duration": 4216,
    "start_time": "2021-09-16T23:20:35.829Z"
   },
   {
    "duration": 431,
    "start_time": "2021-09-16T23:31:40.445Z"
   },
   {
    "duration": 1355,
    "start_time": "2021-09-16T23:31:44.171Z"
   },
   {
    "duration": 41,
    "start_time": "2021-09-16T23:31:46.812Z"
   },
   {
    "duration": 35,
    "start_time": "2021-09-16T23:39:27.780Z"
   },
   {
    "duration": 9,
    "start_time": "2021-09-16T23:39:35.626Z"
   },
   {
    "duration": 391,
    "start_time": "2021-09-18T12:36:55.632Z"
   },
   {
    "duration": 1124,
    "start_time": "2021-09-18T12:37:15.496Z"
   },
   {
    "duration": 32,
    "start_time": "2021-09-18T12:37:19.520Z"
   },
   {
    "duration": 7,
    "start_time": "2021-09-18T12:37:37.309Z"
   },
   {
    "duration": 23,
    "start_time": "2021-09-18T12:37:53.171Z"
   },
   {
    "duration": 4,
    "start_time": "2021-09-18T12:38:01.457Z"
   },
   {
    "duration": 5,
    "start_time": "2021-09-18T12:39:53.075Z"
   },
   {
    "duration": 5,
    "start_time": "2021-09-18T12:40:50.358Z"
   },
   {
    "duration": 6,
    "start_time": "2021-09-18T12:41:42.090Z"
   },
   {
    "duration": 5,
    "start_time": "2021-09-18T12:42:21.451Z"
   },
   {
    "duration": 5,
    "start_time": "2021-09-18T12:42:25.221Z"
   },
   {
    "duration": 5,
    "start_time": "2021-09-18T12:42:53.197Z"
   },
   {
    "duration": 6,
    "start_time": "2021-09-18T12:43:16.572Z"
   },
   {
    "duration": 3,
    "start_time": "2021-09-18T13:21:18.902Z"
   },
   {
    "duration": 26,
    "start_time": "2021-09-18T13:21:21.639Z"
   },
   {
    "duration": 8,
    "start_time": "2021-09-18T13:21:25.144Z"
   },
   {
    "duration": 22,
    "start_time": "2021-09-18T13:21:27.699Z"
   },
   {
    "duration": 5,
    "start_time": "2021-09-18T13:21:31.726Z"
   },
   {
    "duration": 5,
    "start_time": "2021-09-18T13:21:33.891Z"
   },
   {
    "duration": 10,
    "start_time": "2021-09-18T13:21:46.299Z"
   },
   {
    "duration": 28,
    "start_time": "2021-09-18T13:43:19.000Z"
   },
   {
    "duration": 451,
    "start_time": "2021-09-18T13:46:36.881Z"
   },
   {
    "duration": 12,
    "start_time": "2021-09-18T13:46:42.557Z"
   },
   {
    "duration": 77,
    "start_time": "2021-09-18T13:46:51.717Z"
   },
   {
    "duration": 20,
    "start_time": "2021-09-18T13:49:56.352Z"
   },
   {
    "duration": 372,
    "start_time": "2021-09-18T13:50:59.939Z"
   },
   {
    "duration": 15,
    "start_time": "2021-09-18T13:51:15.163Z"
   },
   {
    "duration": 14,
    "start_time": "2021-09-18T13:51:30.834Z"
   },
   {
    "duration": 1325,
    "start_time": "2021-09-18T16:20:53.794Z"
   },
   {
    "duration": 35,
    "start_time": "2021-09-18T16:20:55.122Z"
   },
   {
    "duration": 15,
    "start_time": "2021-09-18T16:20:55.160Z"
   },
   {
    "duration": 31,
    "start_time": "2021-09-18T16:20:55.178Z"
   },
   {
    "duration": 9,
    "start_time": "2021-09-18T16:20:55.211Z"
   },
   {
    "duration": 6,
    "start_time": "2021-09-18T16:20:55.222Z"
   },
   {
    "duration": 10,
    "start_time": "2021-09-18T16:20:55.230Z"
   },
   {
    "duration": 60,
    "start_time": "2021-09-18T16:20:55.243Z"
   },
   {
    "duration": 125,
    "start_time": "2021-09-18T16:20:55.305Z"
   },
   {
    "duration": 19,
    "start_time": "2021-09-18T16:20:55.432Z"
   },
   {
    "duration": 15,
    "start_time": "2021-09-18T16:33:17.289Z"
   },
   {
    "duration": 5,
    "start_time": "2021-09-18T17:09:36.177Z"
   },
   {
    "duration": 6,
    "start_time": "2021-09-18T17:10:20.120Z"
   },
   {
    "duration": 482,
    "start_time": "2021-09-18T17:10:57.823Z"
   },
   {
    "duration": 350,
    "start_time": "2021-09-18T17:11:49.724Z"
   },
   {
    "duration": 425,
    "start_time": "2021-09-18T17:13:06.002Z"
   },
   {
    "duration": 4,
    "start_time": "2021-09-18T17:13:19.576Z"
   },
   {
    "duration": 4,
    "start_time": "2021-09-18T17:13:27.013Z"
   },
   {
    "duration": 4,
    "start_time": "2021-09-18T17:13:44.988Z"
   },
   {
    "duration": 5,
    "start_time": "2021-09-18T17:13:59.048Z"
   },
   {
    "duration": 1477,
    "start_time": "2021-09-19T18:05:19.189Z"
   },
   {
    "duration": 41,
    "start_time": "2021-09-19T18:05:20.669Z"
   },
   {
    "duration": 9,
    "start_time": "2021-09-19T18:05:20.713Z"
   },
   {
    "duration": 44,
    "start_time": "2021-09-19T18:05:20.725Z"
   },
   {
    "duration": 6,
    "start_time": "2021-09-19T18:05:20.772Z"
   },
   {
    "duration": 8,
    "start_time": "2021-09-19T18:05:20.781Z"
   },
   {
    "duration": 39,
    "start_time": "2021-09-19T18:05:20.792Z"
   },
   {
    "duration": 47,
    "start_time": "2021-09-19T18:05:20.835Z"
   },
   {
    "duration": 291,
    "start_time": "2021-09-19T18:05:20.884Z"
   },
   {
    "duration": 46,
    "start_time": "2021-09-19T18:05:21.178Z"
   },
   {
    "duration": 18,
    "start_time": "2021-09-19T18:05:21.226Z"
   },
   {
    "duration": 154,
    "start_time": "2021-09-19T18:05:21.247Z"
   },
   {
    "duration": 113,
    "start_time": "2021-09-19T18:05:21.290Z"
   },
   {
    "duration": 110,
    "start_time": "2021-09-19T18:05:21.295Z"
   },
   {
    "duration": 109,
    "start_time": "2021-09-19T18:05:21.297Z"
   },
   {
    "duration": 287,
    "start_time": "2021-09-19T18:07:27.317Z"
   },
   {
    "duration": 36,
    "start_time": "2021-09-19T18:13:50.420Z"
   },
   {
    "duration": 7,
    "start_time": "2021-09-19T18:31:46.432Z"
   },
   {
    "duration": 6,
    "start_time": "2021-09-19T18:32:41.391Z"
   },
   {
    "duration": 7,
    "start_time": "2021-09-19T18:33:13.491Z"
   },
   {
    "duration": 568,
    "start_time": "2021-09-19T18:39:01.903Z"
   },
   {
    "duration": 6,
    "start_time": "2021-09-19T18:39:23.464Z"
   },
   {
    "duration": 1114,
    "start_time": "2021-09-21T17:57:29.009Z"
   },
   {
    "duration": 33,
    "start_time": "2021-09-21T17:57:30.125Z"
   },
   {
    "duration": 6,
    "start_time": "2021-09-21T17:57:30.161Z"
   },
   {
    "duration": 27,
    "start_time": "2021-09-21T17:57:30.169Z"
   },
   {
    "duration": 6,
    "start_time": "2021-09-21T17:57:30.198Z"
   },
   {
    "duration": 7,
    "start_time": "2021-09-21T17:57:30.206Z"
   },
   {
    "duration": 11,
    "start_time": "2021-09-21T17:57:30.215Z"
   },
   {
    "duration": 52,
    "start_time": "2021-09-21T17:57:30.228Z"
   },
   {
    "duration": 722,
    "start_time": "2021-09-21T17:57:30.282Z"
   },
   {
    "duration": 14,
    "start_time": "2021-09-21T17:57:31.006Z"
   },
   {
    "duration": 30,
    "start_time": "2021-09-21T17:57:31.021Z"
   },
   {
    "duration": 30,
    "start_time": "2021-09-21T17:57:31.053Z"
   },
   {
    "duration": 7,
    "start_time": "2021-09-21T17:57:55.470Z"
   },
   {
    "duration": 990,
    "start_time": "2021-09-22T07:19:30.338Z"
   },
   {
    "duration": 31,
    "start_time": "2021-09-22T07:19:31.329Z"
   },
   {
    "duration": 6,
    "start_time": "2021-09-22T07:19:31.364Z"
   },
   {
    "duration": 29,
    "start_time": "2021-09-22T07:19:31.372Z"
   },
   {
    "duration": 4,
    "start_time": "2021-09-22T07:19:31.403Z"
   },
   {
    "duration": 9,
    "start_time": "2021-09-22T07:19:31.408Z"
   },
   {
    "duration": 11,
    "start_time": "2021-09-22T07:19:31.419Z"
   },
   {
    "duration": 26,
    "start_time": "2021-09-22T07:19:31.431Z"
   },
   {
    "duration": 626,
    "start_time": "2021-09-22T07:19:31.458Z"
   },
   {
    "duration": 26,
    "start_time": "2021-09-22T07:19:32.086Z"
   },
   {
    "duration": 20,
    "start_time": "2021-09-22T07:19:32.114Z"
   },
   {
    "duration": 7,
    "start_time": "2021-09-22T07:19:32.136Z"
   },
   {
    "duration": 1136,
    "start_time": "2021-09-22T13:42:06.198Z"
   },
   {
    "duration": 33,
    "start_time": "2021-09-22T13:42:07.336Z"
   },
   {
    "duration": 11,
    "start_time": "2021-09-22T13:42:07.371Z"
   },
   {
    "duration": 38,
    "start_time": "2021-09-22T13:42:07.385Z"
   },
   {
    "duration": 6,
    "start_time": "2021-09-22T13:42:07.425Z"
   },
   {
    "duration": 26,
    "start_time": "2021-09-22T13:42:07.432Z"
   },
   {
    "duration": 33,
    "start_time": "2021-09-22T13:42:07.459Z"
   },
   {
    "duration": 31,
    "start_time": "2021-09-22T13:42:07.495Z"
   },
   {
    "duration": 677,
    "start_time": "2021-09-22T13:42:07.528Z"
   },
   {
    "duration": 14,
    "start_time": "2021-09-22T13:42:08.206Z"
   },
   {
    "duration": 22,
    "start_time": "2021-09-22T13:42:08.221Z"
   },
   {
    "duration": 6,
    "start_time": "2021-09-22T13:42:08.244Z"
   },
   {
    "duration": 1102,
    "start_time": "2021-09-22T15:09:34.720Z"
   },
   {
    "duration": 32,
    "start_time": "2021-09-22T15:09:35.824Z"
   },
   {
    "duration": 6,
    "start_time": "2021-09-22T15:09:35.858Z"
   },
   {
    "duration": 26,
    "start_time": "2021-09-22T15:09:35.866Z"
   },
   {
    "duration": 4,
    "start_time": "2021-09-22T15:09:35.894Z"
   },
   {
    "duration": 8,
    "start_time": "2021-09-22T15:09:35.900Z"
   },
   {
    "duration": 18,
    "start_time": "2021-09-22T15:09:35.909Z"
   },
   {
    "duration": 39,
    "start_time": "2021-09-22T15:09:35.930Z"
   },
   {
    "duration": 714,
    "start_time": "2021-09-22T15:09:35.971Z"
   },
   {
    "duration": 14,
    "start_time": "2021-09-22T15:09:36.687Z"
   },
   {
    "duration": 23,
    "start_time": "2021-09-22T15:09:36.703Z"
   },
   {
    "duration": 7,
    "start_time": "2021-09-22T15:09:36.728Z"
   },
   {
    "duration": 278,
    "start_time": "2021-09-24T09:59:30.822Z"
   },
   {
    "duration": 1148,
    "start_time": "2021-09-24T09:59:37.622Z"
   },
   {
    "duration": 33,
    "start_time": "2021-09-24T09:59:38.773Z"
   },
   {
    "duration": 8,
    "start_time": "2021-09-24T09:59:38.809Z"
   },
   {
    "duration": 34,
    "start_time": "2021-09-24T09:59:38.819Z"
   },
   {
    "duration": 9,
    "start_time": "2021-09-24T09:59:38.855Z"
   },
   {
    "duration": 9,
    "start_time": "2021-09-24T09:59:38.866Z"
   },
   {
    "duration": 13,
    "start_time": "2021-09-24T09:59:38.877Z"
   },
   {
    "duration": 11,
    "start_time": "2021-09-24T09:59:38.893Z"
   },
   {
    "duration": 55,
    "start_time": "2021-09-24T09:59:38.907Z"
   },
   {
    "duration": 701,
    "start_time": "2021-09-24T09:59:38.965Z"
   },
   {
    "duration": 14,
    "start_time": "2021-09-24T09:59:39.668Z"
   },
   {
    "duration": 23,
    "start_time": "2021-09-24T09:59:39.685Z"
   },
   {
    "duration": 8,
    "start_time": "2021-09-24T09:59:39.710Z"
   },
   {
    "duration": 7,
    "start_time": "2021-09-24T09:59:49.790Z"
   },
   {
    "duration": 7,
    "start_time": "2021-09-24T10:07:15.381Z"
   },
   {
    "duration": 7,
    "start_time": "2021-09-24T10:11:45.265Z"
   },
   {
    "duration": 9,
    "start_time": "2021-09-24T10:12:41.389Z"
   },
   {
    "duration": 27,
    "start_time": "2021-09-24T10:16:54.822Z"
   },
   {
    "duration": 953,
    "start_time": "2021-09-24T10:19:45.750Z"
   },
   {
    "duration": 711,
    "start_time": "2021-09-24T10:20:07.560Z"
   },
   {
    "duration": 695,
    "start_time": "2021-09-24T10:21:02.696Z"
   },
   {
    "duration": 26,
    "start_time": "2021-09-24T10:21:32.261Z"
   },
   {
    "duration": 657,
    "start_time": "2021-09-24T10:25:54.292Z"
   },
   {
    "duration": 15,
    "start_time": "2021-09-24T10:27:23.188Z"
   },
   {
    "duration": 23,
    "start_time": "2021-09-24T10:28:28.228Z"
   },
   {
    "duration": 9,
    "start_time": "2021-09-24T10:28:58.396Z"
   },
   {
    "duration": 1371,
    "start_time": "2021-09-24T10:41:46.941Z"
   },
   {
    "duration": 41,
    "start_time": "2021-09-24T10:41:48.314Z"
   },
   {
    "duration": 8,
    "start_time": "2021-09-24T10:41:48.357Z"
   },
   {
    "duration": 36,
    "start_time": "2021-09-24T10:41:48.367Z"
   },
   {
    "duration": 8,
    "start_time": "2021-09-24T10:41:48.405Z"
   },
   {
    "duration": 8,
    "start_time": "2021-09-24T10:41:48.416Z"
   },
   {
    "duration": 6,
    "start_time": "2021-09-24T10:41:48.449Z"
   },
   {
    "duration": 6,
    "start_time": "2021-09-24T10:41:48.456Z"
   },
   {
    "duration": 11,
    "start_time": "2021-09-24T10:41:48.465Z"
   },
   {
    "duration": 34,
    "start_time": "2021-09-24T10:41:48.477Z"
   },
   {
    "duration": 715,
    "start_time": "2021-09-24T10:41:48.513Z"
   },
   {
    "duration": 28,
    "start_time": "2021-09-24T10:41:49.230Z"
   },
   {
    "duration": 25,
    "start_time": "2021-09-24T10:41:49.260Z"
   },
   {
    "duration": 8,
    "start_time": "2021-09-24T10:41:49.288Z"
   },
   {
    "duration": 1365,
    "start_time": "2021-09-25T08:10:33.374Z"
   },
   {
    "duration": 43,
    "start_time": "2021-09-25T08:10:34.741Z"
   },
   {
    "duration": 8,
    "start_time": "2021-09-25T08:10:34.787Z"
   },
   {
    "duration": 57,
    "start_time": "2021-09-25T08:10:34.798Z"
   },
   {
    "duration": 9,
    "start_time": "2021-09-25T08:10:34.857Z"
   },
   {
    "duration": 15,
    "start_time": "2021-09-25T08:10:34.868Z"
   },
   {
    "duration": 34,
    "start_time": "2021-09-25T08:10:34.886Z"
   },
   {
    "duration": 8,
    "start_time": "2021-09-25T08:10:34.924Z"
   },
   {
    "duration": 20,
    "start_time": "2021-09-25T08:10:34.936Z"
   },
   {
    "duration": 77,
    "start_time": "2021-09-25T08:10:34.959Z"
   },
   {
    "duration": 1047,
    "start_time": "2021-09-25T08:10:35.039Z"
   },
   {
    "duration": 44,
    "start_time": "2021-09-25T08:10:36.089Z"
   },
   {
    "duration": 34,
    "start_time": "2021-09-25T08:10:36.135Z"
   },
   {
    "duration": 11,
    "start_time": "2021-09-25T08:10:36.172Z"
   },
   {
    "duration": 1327,
    "start_time": "2021-09-25T08:36:34.337Z"
   },
   {
    "duration": 42,
    "start_time": "2021-09-25T08:36:35.667Z"
   },
   {
    "duration": 20,
    "start_time": "2021-09-25T08:36:35.711Z"
   },
   {
    "duration": 50,
    "start_time": "2021-09-25T08:36:35.734Z"
   },
   {
    "duration": 9,
    "start_time": "2021-09-25T08:36:35.786Z"
   },
   {
    "duration": 22,
    "start_time": "2021-09-25T08:36:35.797Z"
   },
   {
    "duration": 7,
    "start_time": "2021-09-25T08:36:35.825Z"
   },
   {
    "duration": 22,
    "start_time": "2021-09-25T08:36:35.836Z"
   },
   {
    "duration": 20,
    "start_time": "2021-09-25T08:36:35.861Z"
   },
   {
    "duration": 52,
    "start_time": "2021-09-25T08:36:35.884Z"
   },
   {
    "duration": 1015,
    "start_time": "2021-09-25T08:36:35.943Z"
   },
   {
    "duration": 25,
    "start_time": "2021-09-25T08:36:36.961Z"
   },
   {
    "duration": 56,
    "start_time": "2021-09-25T08:36:36.989Z"
   },
   {
    "duration": 9,
    "start_time": "2021-09-25T08:36:37.048Z"
   }
  ],
  "kernelspec": {
   "display_name": "Python 3",
   "language": "python",
   "name": "python3"
  },
  "language_info": {
   "codemirror_mode": {
    "name": "ipython",
    "version": 3
   },
   "file_extension": ".py",
   "mimetype": "text/x-python",
   "name": "python",
   "nbconvert_exporter": "python",
   "pygments_lexer": "ipython3",
   "version": "3.8.5"
  },
  "toc": {
   "base_numbering": 1,
   "nav_menu": {},
   "number_sections": true,
   "sideBar": true,
   "skip_h1_title": true,
   "title_cell": "Table of Contents",
   "title_sidebar": "Contents",
   "toc_cell": false,
   "toc_position": {},
   "toc_section_display": true,
   "toc_window_display": false
  }
 },
 "nbformat": 4,
 "nbformat_minor": 2
}
