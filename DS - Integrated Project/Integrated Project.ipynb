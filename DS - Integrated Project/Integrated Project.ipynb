{
 "cells": [
  {
   "cell_type": "markdown",
   "metadata": {},
   "source": [
    "# Predicting the quality of gold"
   ]
  },
  {
   "cell_type": "markdown",
   "metadata": {},
   "source": [
    "Zyfra is a company that develops efficiency solutions for heavy industry. It is searching for ways to optimize the production of gold. We need to develop a ML model that predicts the amount of gold recovered from gold ore. Based on the data of extraction and purification we will train and test few models and choose the most eficient one.\n",
    "\n",
    "**Project Steps** <a class=\"anchor\" id=\"table_of_contents\"></a>  \n",
    "- [1. Data file, general info and preprocessing](#chapter1) \n",
    "   -  [1.1 Importing libraries](#chapter1.1)\n",
    "   -  [1.2 Importing data](#chapter1.2)\n",
    "   -  [1.3 Checking the recovery calculations](#chapter1.3)\n",
    "   -  [1.4 Features not available in the test set](#chapter1.4)  \n",
    "   -  [1.5 Data Preprocessing](#chapter1.5)  \n",
    "   -  [1.6 Exploratory Data Analysis](#chapter1.6)  \n",
    "   -  [1.7 Remove outliers](#chapter1.7)  \n",
    "- [2. Building a model](#chapter2)  \n",
    "   -  [2.1 Functions for calculating sMAPE & Final sMAPE](#chapter2.1)\n",
    "   -  [2.2 Training and evaluating models](#chapter2.2)\n",
    "   -  [2.3 Testing the Best Model](#chapter2.3)\n",
    "- [3. General conclusions](#chapter3)"
   ]
  },
  {
   "cell_type": "markdown",
   "metadata": {},
   "source": [
    "## Data file, general info and preprocessing\n",
    "***\n",
    "<a class=\"anchor\" id=\"chapter1\"></a>"
   ]
  },
  {
   "cell_type": "markdown",
   "metadata": {},
   "source": [
    "### Importing libraries\n",
    "<a class=\"anchor\" id=\"chapter1.1\"></a>"
   ]
  },
  {
   "cell_type": "code",
   "execution_count": 2,
   "metadata": {},
   "outputs": [],
   "source": [
    "import pandas as pd\n",
    "import numpy as np\n",
    "import seaborn as sns\n",
    "import matplotlib.pyplot as plt\n",
    "import missingno as msno\n",
    "%matplotlib inline\n",
    "\n",
    "from sklearn.preprocessing import StandardScaler\n",
    "from sklearn.impute import KNNImputer\n",
    "\n",
    "from sklearn.tree import DecisionTreeRegressor\n",
    "from sklearn.ensemble import RandomForestRegressor\n",
    "from sklearn.linear_model import LinearRegression\n",
    "from sklearn.linear_model import ElasticNet\n",
    "from sklearn.linear_model import Lasso\n",
    "from sklearn.model_selection import GridSearchCV\n",
    "from sklearn.dummy import DummyRegressor\n",
    "\n",
    "from sklearn.metrics import make_scorer\n",
    "from sklearn.metrics import mean_absolute_error\n",
    "\n",
    "\n",
    "#ignore warnings\n",
    "import sys\n",
    "import warnings\n",
    "if not sys.warnoptions:\n",
    "       warnings.simplefilter(\"ignore\")"
   ]
  },
  {
   "cell_type": "markdown",
   "metadata": {},
   "source": [
    "### Importing data\n",
    "<a class=\"anchor\" id=\"chapter1.2\"></a>"
   ]
  },
  {
   "cell_type": "code",
   "execution_count": 3,
   "metadata": {},
   "outputs": [],
   "source": [
    "try:\n",
    "    gold_train = pd.read_csv('gold_recovery_train.csv')\n",
    "    gold_test = pd.read_csv('gold_recovery_test.csv')\n",
    "    gold_full = pd.read_csv('gold_recovery_full.csv')\n",
    "except:\n",
    "    gold_train = pd.read_csv('/datasets/gold_recovery_train.csv')\n",
    "    gold_test = pd.read_csv('/datasets/gold_recovery_test.csv')\n",
    "    gold_full = pd.read_csv('/datasets/gold_recovery_full.csv')    "
   ]
  },
  {
   "cell_type": "code",
   "execution_count": 4,
   "metadata": {},
   "outputs": [
    {
     "data": {
      "text/html": [
       "<div>\n",
       "<style scoped>\n",
       "    .dataframe tbody tr th:only-of-type {\n",
       "        vertical-align: middle;\n",
       "    }\n",
       "\n",
       "    .dataframe tbody tr th {\n",
       "        vertical-align: top;\n",
       "    }\n",
       "\n",
       "    .dataframe thead th {\n",
       "        text-align: right;\n",
       "    }\n",
       "</style>\n",
       "<table border=\"1\" class=\"dataframe\">\n",
       "  <thead>\n",
       "    <tr style=\"text-align: right;\">\n",
       "      <th></th>\n",
       "      <th>date</th>\n",
       "      <th>final.output.concentrate_ag</th>\n",
       "      <th>final.output.concentrate_pb</th>\n",
       "      <th>final.output.concentrate_sol</th>\n",
       "      <th>final.output.concentrate_au</th>\n",
       "      <th>final.output.recovery</th>\n",
       "      <th>final.output.tail_ag</th>\n",
       "      <th>final.output.tail_pb</th>\n",
       "      <th>final.output.tail_sol</th>\n",
       "      <th>final.output.tail_au</th>\n",
       "      <th>...</th>\n",
       "      <th>secondary_cleaner.state.floatbank4_a_air</th>\n",
       "      <th>secondary_cleaner.state.floatbank4_a_level</th>\n",
       "      <th>secondary_cleaner.state.floatbank4_b_air</th>\n",
       "      <th>secondary_cleaner.state.floatbank4_b_level</th>\n",
       "      <th>secondary_cleaner.state.floatbank5_a_air</th>\n",
       "      <th>secondary_cleaner.state.floatbank5_a_level</th>\n",
       "      <th>secondary_cleaner.state.floatbank5_b_air</th>\n",
       "      <th>secondary_cleaner.state.floatbank5_b_level</th>\n",
       "      <th>secondary_cleaner.state.floatbank6_a_air</th>\n",
       "      <th>secondary_cleaner.state.floatbank6_a_level</th>\n",
       "    </tr>\n",
       "  </thead>\n",
       "  <tbody>\n",
       "    <tr>\n",
       "      <td>0</td>\n",
       "      <td>2016-01-15 00:00:00</td>\n",
       "      <td>6.055403</td>\n",
       "      <td>9.889648</td>\n",
       "      <td>5.507324</td>\n",
       "      <td>42.192020</td>\n",
       "      <td>70.541216</td>\n",
       "      <td>10.411962</td>\n",
       "      <td>0.895447</td>\n",
       "      <td>16.904297</td>\n",
       "      <td>2.143149</td>\n",
       "      <td>...</td>\n",
       "      <td>14.016835</td>\n",
       "      <td>-502.488007</td>\n",
       "      <td>12.099931</td>\n",
       "      <td>-504.715942</td>\n",
       "      <td>9.925633</td>\n",
       "      <td>-498.310211</td>\n",
       "      <td>8.079666</td>\n",
       "      <td>-500.470978</td>\n",
       "      <td>14.151341</td>\n",
       "      <td>-605.841980</td>\n",
       "    </tr>\n",
       "    <tr>\n",
       "      <td>1</td>\n",
       "      <td>2016-01-15 01:00:00</td>\n",
       "      <td>6.029369</td>\n",
       "      <td>9.968944</td>\n",
       "      <td>5.257781</td>\n",
       "      <td>42.701629</td>\n",
       "      <td>69.266198</td>\n",
       "      <td>10.462676</td>\n",
       "      <td>0.927452</td>\n",
       "      <td>16.634514</td>\n",
       "      <td>2.224930</td>\n",
       "      <td>...</td>\n",
       "      <td>13.992281</td>\n",
       "      <td>-505.503262</td>\n",
       "      <td>11.950531</td>\n",
       "      <td>-501.331529</td>\n",
       "      <td>10.039245</td>\n",
       "      <td>-500.169983</td>\n",
       "      <td>7.984757</td>\n",
       "      <td>-500.582168</td>\n",
       "      <td>13.998353</td>\n",
       "      <td>-599.787184</td>\n",
       "    </tr>\n",
       "    <tr>\n",
       "      <td>2</td>\n",
       "      <td>2016-01-15 02:00:00</td>\n",
       "      <td>6.055926</td>\n",
       "      <td>10.213995</td>\n",
       "      <td>5.383759</td>\n",
       "      <td>42.657501</td>\n",
       "      <td>68.116445</td>\n",
       "      <td>10.507046</td>\n",
       "      <td>0.953716</td>\n",
       "      <td>16.208849</td>\n",
       "      <td>2.257889</td>\n",
       "      <td>...</td>\n",
       "      <td>14.015015</td>\n",
       "      <td>-502.520901</td>\n",
       "      <td>11.912783</td>\n",
       "      <td>-501.133383</td>\n",
       "      <td>10.070913</td>\n",
       "      <td>-500.129135</td>\n",
       "      <td>8.013877</td>\n",
       "      <td>-500.517572</td>\n",
       "      <td>14.028663</td>\n",
       "      <td>-601.427363</td>\n",
       "    </tr>\n",
       "    <tr>\n",
       "      <td>3</td>\n",
       "      <td>2016-01-15 03:00:00</td>\n",
       "      <td>6.047977</td>\n",
       "      <td>9.977019</td>\n",
       "      <td>4.858634</td>\n",
       "      <td>42.689819</td>\n",
       "      <td>68.347543</td>\n",
       "      <td>10.422762</td>\n",
       "      <td>0.883763</td>\n",
       "      <td>16.532835</td>\n",
       "      <td>2.146849</td>\n",
       "      <td>...</td>\n",
       "      <td>14.036510</td>\n",
       "      <td>-500.857308</td>\n",
       "      <td>11.999550</td>\n",
       "      <td>-501.193686</td>\n",
       "      <td>9.970366</td>\n",
       "      <td>-499.201640</td>\n",
       "      <td>7.977324</td>\n",
       "      <td>-500.255908</td>\n",
       "      <td>14.005551</td>\n",
       "      <td>-599.996129</td>\n",
       "    </tr>\n",
       "    <tr>\n",
       "      <td>4</td>\n",
       "      <td>2016-01-15 04:00:00</td>\n",
       "      <td>6.148599</td>\n",
       "      <td>10.142511</td>\n",
       "      <td>4.939416</td>\n",
       "      <td>42.774141</td>\n",
       "      <td>66.927016</td>\n",
       "      <td>10.360302</td>\n",
       "      <td>0.792826</td>\n",
       "      <td>16.525686</td>\n",
       "      <td>2.055292</td>\n",
       "      <td>...</td>\n",
       "      <td>14.027298</td>\n",
       "      <td>-499.838632</td>\n",
       "      <td>11.953070</td>\n",
       "      <td>-501.053894</td>\n",
       "      <td>9.925709</td>\n",
       "      <td>-501.686727</td>\n",
       "      <td>7.894242</td>\n",
       "      <td>-500.356035</td>\n",
       "      <td>13.996647</td>\n",
       "      <td>-601.496691</td>\n",
       "    </tr>\n",
       "  </tbody>\n",
       "</table>\n",
       "<p>5 rows × 87 columns</p>\n",
       "</div>"
      ],
      "text/plain": [
       "                  date  final.output.concentrate_ag  \\\n",
       "0  2016-01-15 00:00:00                     6.055403   \n",
       "1  2016-01-15 01:00:00                     6.029369   \n",
       "2  2016-01-15 02:00:00                     6.055926   \n",
       "3  2016-01-15 03:00:00                     6.047977   \n",
       "4  2016-01-15 04:00:00                     6.148599   \n",
       "\n",
       "   final.output.concentrate_pb  final.output.concentrate_sol  \\\n",
       "0                     9.889648                      5.507324   \n",
       "1                     9.968944                      5.257781   \n",
       "2                    10.213995                      5.383759   \n",
       "3                     9.977019                      4.858634   \n",
       "4                    10.142511                      4.939416   \n",
       "\n",
       "   final.output.concentrate_au  final.output.recovery  final.output.tail_ag  \\\n",
       "0                    42.192020              70.541216             10.411962   \n",
       "1                    42.701629              69.266198             10.462676   \n",
       "2                    42.657501              68.116445             10.507046   \n",
       "3                    42.689819              68.347543             10.422762   \n",
       "4                    42.774141              66.927016             10.360302   \n",
       "\n",
       "   final.output.tail_pb  final.output.tail_sol  final.output.tail_au  ...  \\\n",
       "0              0.895447              16.904297              2.143149  ...   \n",
       "1              0.927452              16.634514              2.224930  ...   \n",
       "2              0.953716              16.208849              2.257889  ...   \n",
       "3              0.883763              16.532835              2.146849  ...   \n",
       "4              0.792826              16.525686              2.055292  ...   \n",
       "\n",
       "   secondary_cleaner.state.floatbank4_a_air  \\\n",
       "0                                 14.016835   \n",
       "1                                 13.992281   \n",
       "2                                 14.015015   \n",
       "3                                 14.036510   \n",
       "4                                 14.027298   \n",
       "\n",
       "   secondary_cleaner.state.floatbank4_a_level  \\\n",
       "0                                 -502.488007   \n",
       "1                                 -505.503262   \n",
       "2                                 -502.520901   \n",
       "3                                 -500.857308   \n",
       "4                                 -499.838632   \n",
       "\n",
       "   secondary_cleaner.state.floatbank4_b_air  \\\n",
       "0                                 12.099931   \n",
       "1                                 11.950531   \n",
       "2                                 11.912783   \n",
       "3                                 11.999550   \n",
       "4                                 11.953070   \n",
       "\n",
       "   secondary_cleaner.state.floatbank4_b_level  \\\n",
       "0                                 -504.715942   \n",
       "1                                 -501.331529   \n",
       "2                                 -501.133383   \n",
       "3                                 -501.193686   \n",
       "4                                 -501.053894   \n",
       "\n",
       "   secondary_cleaner.state.floatbank5_a_air  \\\n",
       "0                                  9.925633   \n",
       "1                                 10.039245   \n",
       "2                                 10.070913   \n",
       "3                                  9.970366   \n",
       "4                                  9.925709   \n",
       "\n",
       "   secondary_cleaner.state.floatbank5_a_level  \\\n",
       "0                                 -498.310211   \n",
       "1                                 -500.169983   \n",
       "2                                 -500.129135   \n",
       "3                                 -499.201640   \n",
       "4                                 -501.686727   \n",
       "\n",
       "   secondary_cleaner.state.floatbank5_b_air  \\\n",
       "0                                  8.079666   \n",
       "1                                  7.984757   \n",
       "2                                  8.013877   \n",
       "3                                  7.977324   \n",
       "4                                  7.894242   \n",
       "\n",
       "   secondary_cleaner.state.floatbank5_b_level  \\\n",
       "0                                 -500.470978   \n",
       "1                                 -500.582168   \n",
       "2                                 -500.517572   \n",
       "3                                 -500.255908   \n",
       "4                                 -500.356035   \n",
       "\n",
       "   secondary_cleaner.state.floatbank6_a_air  \\\n",
       "0                                 14.151341   \n",
       "1                                 13.998353   \n",
       "2                                 14.028663   \n",
       "3                                 14.005551   \n",
       "4                                 13.996647   \n",
       "\n",
       "   secondary_cleaner.state.floatbank6_a_level  \n",
       "0                                 -605.841980  \n",
       "1                                 -599.787184  \n",
       "2                                 -601.427363  \n",
       "3                                 -599.996129  \n",
       "4                                 -601.496691  \n",
       "\n",
       "[5 rows x 87 columns]"
      ]
     },
     "execution_count": 4,
     "metadata": {},
     "output_type": "execute_result"
    }
   ],
   "source": [
    "gold_train.head()"
   ]
  },
  {
   "cell_type": "code",
   "execution_count": 5,
   "metadata": {},
   "outputs": [
    {
     "name": "stdout",
     "output_type": "stream",
     "text": [
      "<class 'pandas.core.frame.DataFrame'>\n",
      "RangeIndex: 16860 entries, 0 to 16859\n",
      "Data columns (total 87 columns):\n",
      "date                                                  16860 non-null object\n",
      "final.output.concentrate_ag                           16788 non-null float64\n",
      "final.output.concentrate_pb                           16788 non-null float64\n",
      "final.output.concentrate_sol                          16490 non-null float64\n",
      "final.output.concentrate_au                           16789 non-null float64\n",
      "final.output.recovery                                 15339 non-null float64\n",
      "final.output.tail_ag                                  16794 non-null float64\n",
      "final.output.tail_pb                                  16677 non-null float64\n",
      "final.output.tail_sol                                 16715 non-null float64\n",
      "final.output.tail_au                                  16794 non-null float64\n",
      "primary_cleaner.input.sulfate                         15553 non-null float64\n",
      "primary_cleaner.input.depressant                      15598 non-null float64\n",
      "primary_cleaner.input.feed_size                       16860 non-null float64\n",
      "primary_cleaner.input.xanthate                        15875 non-null float64\n",
      "primary_cleaner.output.concentrate_ag                 16778 non-null float64\n",
      "primary_cleaner.output.concentrate_pb                 16502 non-null float64\n",
      "primary_cleaner.output.concentrate_sol                16224 non-null float64\n",
      "primary_cleaner.output.concentrate_au                 16778 non-null float64\n",
      "primary_cleaner.output.tail_ag                        16777 non-null float64\n",
      "primary_cleaner.output.tail_pb                        16761 non-null float64\n",
      "primary_cleaner.output.tail_sol                       16579 non-null float64\n",
      "primary_cleaner.output.tail_au                        16777 non-null float64\n",
      "primary_cleaner.state.floatbank8_a_air                16820 non-null float64\n",
      "primary_cleaner.state.floatbank8_a_level              16827 non-null float64\n",
      "primary_cleaner.state.floatbank8_b_air                16820 non-null float64\n",
      "primary_cleaner.state.floatbank8_b_level              16833 non-null float64\n",
      "primary_cleaner.state.floatbank8_c_air                16822 non-null float64\n",
      "primary_cleaner.state.floatbank8_c_level              16833 non-null float64\n",
      "primary_cleaner.state.floatbank8_d_air                16821 non-null float64\n",
      "primary_cleaner.state.floatbank8_d_level              16833 non-null float64\n",
      "rougher.calculation.sulfate_to_au_concentrate         16833 non-null float64\n",
      "rougher.calculation.floatbank10_sulfate_to_au_feed    16833 non-null float64\n",
      "rougher.calculation.floatbank11_sulfate_to_au_feed    16833 non-null float64\n",
      "rougher.calculation.au_pb_ratio                       15618 non-null float64\n",
      "rougher.input.feed_ag                                 16778 non-null float64\n",
      "rougher.input.feed_pb                                 16632 non-null float64\n",
      "rougher.input.feed_rate                               16347 non-null float64\n",
      "rougher.input.feed_size                               16443 non-null float64\n",
      "rougher.input.feed_sol                                16568 non-null float64\n",
      "rougher.input.feed_au                                 16777 non-null float64\n",
      "rougher.input.floatbank10_sulfate                     15816 non-null float64\n",
      "rougher.input.floatbank10_xanthate                    16514 non-null float64\n",
      "rougher.input.floatbank11_sulfate                     16237 non-null float64\n",
      "rougher.input.floatbank11_xanthate                    14956 non-null float64\n",
      "rougher.output.concentrate_ag                         16778 non-null float64\n",
      "rougher.output.concentrate_pb                         16778 non-null float64\n",
      "rougher.output.concentrate_sol                        16698 non-null float64\n",
      "rougher.output.concentrate_au                         16778 non-null float64\n",
      "rougher.output.recovery                               14287 non-null float64\n",
      "rougher.output.tail_ag                                14610 non-null float64\n",
      "rougher.output.tail_pb                                16778 non-null float64\n",
      "rougher.output.tail_sol                               14611 non-null float64\n",
      "rougher.output.tail_au                                14611 non-null float64\n",
      "rougher.state.floatbank10_a_air                       16807 non-null float64\n",
      "rougher.state.floatbank10_a_level                     16807 non-null float64\n",
      "rougher.state.floatbank10_b_air                       16807 non-null float64\n",
      "rougher.state.floatbank10_b_level                     16807 non-null float64\n",
      "rougher.state.floatbank10_c_air                       16807 non-null float64\n",
      "rougher.state.floatbank10_c_level                     16814 non-null float64\n",
      "rougher.state.floatbank10_d_air                       16802 non-null float64\n",
      "rougher.state.floatbank10_d_level                     16809 non-null float64\n",
      "rougher.state.floatbank10_e_air                       16257 non-null float64\n",
      "rougher.state.floatbank10_e_level                     16809 non-null float64\n",
      "rougher.state.floatbank10_f_air                       16802 non-null float64\n",
      "rougher.state.floatbank10_f_level                     16802 non-null float64\n",
      "secondary_cleaner.output.tail_ag                      16776 non-null float64\n",
      "secondary_cleaner.output.tail_pb                      16764 non-null float64\n",
      "secondary_cleaner.output.tail_sol                     14874 non-null float64\n",
      "secondary_cleaner.output.tail_au                      16778 non-null float64\n",
      "secondary_cleaner.state.floatbank2_a_air              16497 non-null float64\n",
      "secondary_cleaner.state.floatbank2_a_level            16751 non-null float64\n",
      "secondary_cleaner.state.floatbank2_b_air              16705 non-null float64\n",
      "secondary_cleaner.state.floatbank2_b_level            16748 non-null float64\n",
      "secondary_cleaner.state.floatbank3_a_air              16763 non-null float64\n",
      "secondary_cleaner.state.floatbank3_a_level            16747 non-null float64\n",
      "secondary_cleaner.state.floatbank3_b_air              16752 non-null float64\n",
      "secondary_cleaner.state.floatbank3_b_level            16750 non-null float64\n",
      "secondary_cleaner.state.floatbank4_a_air              16731 non-null float64\n",
      "secondary_cleaner.state.floatbank4_a_level            16747 non-null float64\n",
      "secondary_cleaner.state.floatbank4_b_air              16768 non-null float64\n",
      "secondary_cleaner.state.floatbank4_b_level            16767 non-null float64\n",
      "secondary_cleaner.state.floatbank5_a_air              16775 non-null float64\n",
      "secondary_cleaner.state.floatbank5_a_level            16775 non-null float64\n",
      "secondary_cleaner.state.floatbank5_b_air              16775 non-null float64\n",
      "secondary_cleaner.state.floatbank5_b_level            16776 non-null float64\n",
      "secondary_cleaner.state.floatbank6_a_air              16757 non-null float64\n",
      "secondary_cleaner.state.floatbank6_a_level            16775 non-null float64\n",
      "dtypes: float64(86), object(1)\n",
      "memory usage: 11.2+ MB\n"
     ]
    }
   ],
   "source": [
    "gold_train.info()"
   ]
  },
  {
   "cell_type": "markdown",
   "metadata": {},
   "source": [
    "###  Checking the recovery calculations\n",
    "<a class=\"anchor\" id=\"chapter1.3\"></a>"
   ]
  },
  {
   "cell_type": "markdown",
   "metadata": {},
   "source": [
    "The recovery calculation is as follows:\n",
    "$$Recovery = \\frac{C*(F-T)}{F*(C-T)} * 100\\%$$\n",
    "Where:  \n",
    "C is the concentrate after process  \n",
    "F is the concentrate before process  \n",
    "T is the tails after process  \n",
    "\n",
    "We check the calculations for the rougher process:"
   ]
  },
  {
   "cell_type": "code",
   "execution_count": 6,
   "metadata": {},
   "outputs": [],
   "source": [
    "def recovery(df):\n",
    "    C = df['rougher.output.concentrate_au']\n",
    "    F = df['rougher.input.feed_au']\n",
    "    T = df['rougher.output.tail_au']\n",
    "    calculated = (C * (F - T)) / (F * (C - T)) * 100\n",
    "    return calculated"
   ]
  },
  {
   "cell_type": "code",
   "execution_count": 7,
   "metadata": {},
   "outputs": [
    {
     "name": "stdout",
     "output_type": "stream",
     "text": [
      "Mean Absolute Error: 9.444891926100695e-15\n"
     ]
    }
   ],
   "source": [
    "calculated_recovery = recovery(gold_train[~gold_train['rougher.output.recovery'].isna()])\n",
    "actual_recovery = gold_train['rougher.output.recovery'].dropna().to_list()\n",
    "print(f\"Mean Absolute Error: {mean_absolute_error(actual_recovery, calculated_recovery)}\")"
   ]
  },
  {
   "cell_type": "markdown",
   "metadata": {},
   "source": [
    "The mean absolute error is 9.44e-15 which is very small, indicating that the recovery calculations in the data are very accurate."
   ]
  },
  {
   "cell_type": "markdown",
   "metadata": {},
   "source": [
    "### Features not available in the test set\n",
    "<a class=\"anchor\" id=\"chapter1.4\"></a>"
   ]
  },
  {
   "cell_type": "code",
   "execution_count": 8,
   "metadata": {},
   "outputs": [
    {
     "data": {
      "text/plain": [
       "Index(['final.output.concentrate_ag', 'final.output.concentrate_au',\n",
       "       'final.output.concentrate_pb', 'final.output.concentrate_sol',\n",
       "       'final.output.recovery', 'final.output.tail_ag', 'final.output.tail_au',\n",
       "       'final.output.tail_pb', 'final.output.tail_sol',\n",
       "       'primary_cleaner.output.concentrate_ag',\n",
       "       'primary_cleaner.output.concentrate_au',\n",
       "       'primary_cleaner.output.concentrate_pb',\n",
       "       'primary_cleaner.output.concentrate_sol',\n",
       "       'primary_cleaner.output.tail_ag', 'primary_cleaner.output.tail_au',\n",
       "       'primary_cleaner.output.tail_pb', 'primary_cleaner.output.tail_sol',\n",
       "       'rougher.calculation.au_pb_ratio',\n",
       "       'rougher.calculation.floatbank10_sulfate_to_au_feed',\n",
       "       'rougher.calculation.floatbank11_sulfate_to_au_feed',\n",
       "       'rougher.calculation.sulfate_to_au_concentrate',\n",
       "       'rougher.output.concentrate_ag', 'rougher.output.concentrate_au',\n",
       "       'rougher.output.concentrate_pb', 'rougher.output.concentrate_sol',\n",
       "       'rougher.output.recovery', 'rougher.output.tail_ag',\n",
       "       'rougher.output.tail_au', 'rougher.output.tail_pb',\n",
       "       'rougher.output.tail_sol', 'secondary_cleaner.output.tail_ag',\n",
       "       'secondary_cleaner.output.tail_au', 'secondary_cleaner.output.tail_pb',\n",
       "       'secondary_cleaner.output.tail_sol'],\n",
       "      dtype='object')"
      ]
     },
     "execution_count": 8,
     "metadata": {},
     "output_type": "execute_result"
    }
   ],
   "source": [
    "#check if there are features that are in the train set and not in the test set\n",
    "not_in_test = gold_train.columns.difference(gold_test.columns)\n",
    "not_in_test"
   ]
  },
  {
   "cell_type": "code",
   "execution_count": 9,
   "metadata": {},
   "outputs": [
    {
     "data": {
      "text/plain": [
       "Index([], dtype='object')"
      ]
     },
     "execution_count": 9,
     "metadata": {},
     "output_type": "execute_result"
    }
   ],
   "source": [
    "#check if there are features that are in the test set and not in the train set\n",
    "not_in_train = gold_test.columns.difference(gold_train.columns)\n",
    "not_in_train"
   ]
  },
  {
   "cell_type": "markdown",
   "metadata": {},
   "source": [
    "As we can see, the features that are not available in the test set are of type `output` at different stages and `calculation`. These features represent values that are not known before the purification process. Including these feature in the training set will lead to information leakage thus we'll remove them. There are two variables that are missing in the test set which are our target features: `rougher.output.recovery` and `final.output.recovery`. We'll need to retrieve them from the full dataset."
   ]
  },
  {
   "cell_type": "code",
   "execution_count": 10,
   "metadata": {},
   "outputs": [],
   "source": [
    "#retrieve the target coulmns from the full dataset to the test dataset by merge\n",
    "gold_test = pd.merge(gold_test, gold_full[['date', 'rougher.output.recovery', 'final.output.recovery']],\n",
    "                    on = 'date', how = 'left')\n",
    "\n",
    "#drop features from the train set that are not in the test set\n",
    "gold_train = gold_train.drop(columns = not_in_test.drop(['rougher.output.recovery','final.output.recovery']), axis = 1)"
   ]
  },
  {
   "cell_type": "code",
   "execution_count": 11,
   "metadata": {},
   "outputs": [
    {
     "data": {
      "text/plain": [
       "Index([], dtype='object')"
      ]
     },
     "execution_count": 11,
     "metadata": {},
     "output_type": "execute_result"
    }
   ],
   "source": [
    "gold_train.columns.difference(gold_test.columns)"
   ]
  },
  {
   "cell_type": "markdown",
   "metadata": {},
   "source": [
    "Now there the same amount of columns in the train and test sets."
   ]
  },
  {
   "cell_type": "markdown",
   "metadata": {},
   "source": [
    "### Data Preprocessing\n",
    "<a class=\"anchor\" id=\"chapter1.5\"></a>"
   ]
  },
  {
   "cell_type": "markdown",
   "metadata": {},
   "source": [
    "In both train and test sets we have a `date` column which has an *object* type but as the time is not relevant for our analysis, we'll drop this column without changing its type in a later section. All other columns have the correct datat type of *float64* which means they are all numerical features and we don't need to encode them.\n",
    "We have missing values in the data so we'll need to investigate it and decide how to fill them."
   ]
  },
  {
   "cell_type": "markdown",
   "metadata": {},
   "source": [
    "**Check for rows with missing values:**"
   ]
  },
  {
   "cell_type": "code",
   "execution_count": 12,
   "metadata": {},
   "outputs": [
    {
     "name": "stdout",
     "output_type": "stream",
     "text": [
      "Number of rows with at least one missing value in the train set: 4181\n",
      "Percentage of total train set: 24.80%\n"
     ]
    }
   ],
   "source": [
    "print(f\"Number of rows with at least one missing value in the train set: {gold_train.isna().any(axis=1).sum()}\")\n",
    "print(f\"Percentage of total train set: {gold_train.isna().any(axis=1).sum()/len(gold_train):.2%}\")"
   ]
  },
  {
   "cell_type": "code",
   "execution_count": 13,
   "metadata": {},
   "outputs": [
    {
     "name": "stdout",
     "output_type": "stream",
     "text": [
      "Number of rows with at least one missing value in the test set: 627\n",
      "Percentage of total test set: 10.71%\n"
     ]
    }
   ],
   "source": [
    "print(f\"Number of rows with at least one missing value in the test set: {gold_test.isna().any(axis=1).sum()}\")\n",
    "print(f\"Percentage of total test set: {gold_test.isna().any(axis=1).sum()/len(gold_test):.2%}\")"
   ]
  },
  {
   "cell_type": "code",
   "execution_count": 14,
   "metadata": {},
   "outputs": [
    {
     "data": {
      "text/plain": [
       "rougher.output.recovery               15.26\n",
       "rougher.input.floatbank11_xanthate    11.29\n",
       "final.output.recovery                  9.02\n",
       "primary_cleaner.input.sulfate          7.75\n",
       "primary_cleaner.input.depressant       7.49\n",
       "rougher.input.floatbank10_sulfate      6.19\n",
       "primary_cleaner.input.xanthate         5.84\n",
       "rougher.input.floatbank11_sulfate      3.70\n",
       "rougher.state.floatbank10_e_air        3.58\n",
       "rougher.input.feed_rate                3.04\n",
       "dtype: float64"
      ]
     },
     "execution_count": 14,
     "metadata": {},
     "output_type": "execute_result"
    }
   ],
   "source": [
    "#top 10 missing values in the train set (percentage of the data)\n",
    "round(gold_train.isna().sum().sort_values(ascending=False).head(10)*100/len(gold_train),2)"
   ]
  },
  {
   "cell_type": "code",
   "execution_count": 15,
   "metadata": {},
   "outputs": [
    {
     "data": {
      "text/plain": [
       "rougher.output.recovery               9.32\n",
       "final.output.recovery                 7.55\n",
       "rougher.input.floatbank11_xanthate    6.03\n",
       "primary_cleaner.input.sulfate         5.16\n",
       "primary_cleaner.input.depressant      4.85\n",
       "rougher.input.floatbank10_sulfate     4.39\n",
       "primary_cleaner.input.xanthate        2.83\n",
       "rougher.input.floatbank10_xanthate    2.10\n",
       "rougher.input.feed_sol                1.14\n",
       "rougher.input.floatbank11_sulfate     0.94\n",
       "dtype: float64"
      ]
     },
     "execution_count": 15,
     "metadata": {},
     "output_type": "execute_result"
    }
   ],
   "source": [
    "#top 10 missing values in the test set (percentage of the data)\n",
    "round(gold_test.isna().sum().sort_values(ascending=False).head(10)*100/len(gold_test),2)"
   ]
  },
  {
   "cell_type": "code",
   "execution_count": 16,
   "metadata": {},
   "outputs": [
    {
     "data": {
      "image/png": "[encoded data removed]",
      "text/plain": [
       "<Figure size 1800x720 with 2 Axes>"
      ]
     },
     "metadata": {
      "needs_background": "light"
     },
     "output_type": "display_data"
    }
   ],
   "source": [
    "#visualize the missing values for the train set\n",
    "msno.matrix(gold_train);"
   ]
  },
  {
   "cell_type": "code",
   "execution_count": 17,
   "metadata": {},
   "outputs": [
    {
     "data": {
      "image/png": "[encoded data removed]",
      "text/plain": [
       "<Figure size 1800x720 with 2 Axes>"
      ]
     },
     "metadata": {
      "needs_background": "light"
     },
     "output_type": "display_data"
    }
   ],
   "source": [
    "#visualize the missing values for the test set\n",
    "msno.matrix(gold_test);"
   ]
  },
  {
   "cell_type": "markdown",
   "metadata": {},
   "source": [
    "As we can see we have a lot of missing values. We could use the `ffil()` method, because we know that parameters that are next to each other in terms of time are often similar, but there are situations where the missing values are consecutive one after other so we'll use an ml algorithm to predict the missing values, we'll use the `KNNImputer()`. As it uses the euclidean distance, it is affected by the scale of the features, so we'll scale our features before using it."
   ]
  },
  {
   "cell_type": "markdown",
   "metadata": {},
   "source": [
    "**Scale the data for the imputer:**"
   ]
  },
  {
   "cell_type": "markdown",
   "metadata": {},
   "source": [
    "There are columns that shouldn't be scaled: the `date` column and our target columns which are `rougher.output.recovery` and `final.output.recovery`."
   ]
  },
  {
   "cell_type": "code",
   "execution_count": 18,
   "metadata": {},
   "outputs": [],
   "source": [
    "#define scaler\n",
    "scaler = StandardScaler()\n",
    "not_scaled = ['date', 'rougher.output.recovery', 'final.output.recovery']\n",
    "columns2scale = [x for x in gold_train.columns if x not in not_scaled]\n",
    "#scale the required columns\n",
    "train_scaled = pd.DataFrame(scaler.fit_transform(gold_train[columns2scale].copy()), columns = columns2scale)\n",
    "test_scaled = pd.DataFrame(scaler.transform(gold_test[columns2scale].copy()), columns = columns2scale)"
   ]
  },
  {
   "cell_type": "markdown",
   "metadata": {},
   "source": [
    "**Fill NaNs and drop the remaining rows with NaNs:**"
   ]
  },
  {
   "cell_type": "code",
   "execution_count": 19,
   "metadata": {},
   "outputs": [],
   "source": [
    "#define imputer\n",
    "imputer = KNNImputer(weights='distance')\n",
    "#fit on the train dataset\n",
    "train_scaled = imputer.fit_transform(train_scaled)\n",
    "#transform the test dataset\n",
    "test_scaled = imputer.transform(test_scaled)"
   ]
  },
  {
   "cell_type": "code",
   "execution_count": 20,
   "metadata": {},
   "outputs": [],
   "source": [
    "#concat the scaled and not scaled column to one dataframe\n",
    "gold_train_scaled = pd.concat([gold_train[not_scaled], pd.DataFrame(train_scaled, columns = columns2scale)], axis=1)\n",
    "gold_test_scaled = pd.concat([gold_test[not_scaled], pd.DataFrame(test_scaled, columns = columns2scale)], axis=1)"
   ]
  },
  {
   "cell_type": "code",
   "execution_count": 21,
   "metadata": {},
   "outputs": [
    {
     "data": {
      "image/png": "[encoded data removed]",
      "text/plain": [
       "<Figure size 1800x720 with 2 Axes>"
      ]
     },
     "metadata": {
      "needs_background": "light"
     },
     "output_type": "display_data"
    }
   ],
   "source": [
    "#visualize the missing values for the train_scaeld set\n",
    "msno.matrix(gold_train_scaled);"
   ]
  },
  {
   "cell_type": "code",
   "execution_count": 22,
   "metadata": {},
   "outputs": [
    {
     "data": {
      "image/png": "[encoded data removed]",
      "text/plain": [
       "<Figure size 1800x720 with 2 Axes>"
      ]
     },
     "metadata": {
      "needs_background": "light"
     },
     "output_type": "display_data"
    }
   ],
   "source": [
    "#visualize the missing values for the test_scaled set\n",
    "msno.matrix(gold_test_scaled);"
   ]
  },
  {
   "cell_type": "markdown",
   "metadata": {},
   "source": [
    "As we can infer from the graphs and the structure of the data, the missing values are of the target variables. We don't want to try to fill them as it may affect badly the model. So we'll drop those rows with missing target values, even though it is still a pretty high amount."
   ]
  },
  {
   "cell_type": "code",
   "execution_count": 23,
   "metadata": {},
   "outputs": [],
   "source": [
    "#drop rows with missing target\n",
    "gold_train_scaled = gold_train_scaled.dropna().reset_index(drop=True)\n",
    "gold_test_scaled = gold_test_scaled.dropna().reset_index(drop=True)"
   ]
  },
  {
   "cell_type": "markdown",
   "metadata": {},
   "source": [
    "**Check for duplicates:**"
   ]
  },
  {
   "cell_type": "code",
   "execution_count": 24,
   "metadata": {},
   "outputs": [
    {
     "name": "stdout",
     "output_type": "stream",
     "text": [
      "Number of duplicated rows in the train set: 0\n",
      "Number of duplicated rows in the test set: 0\n"
     ]
    }
   ],
   "source": [
    "print(f\"Number of duplicated rows in the train set: {gold_train.duplicated().sum()}\")\n",
    "print(f\"Number of duplicated rows in the test set: {gold_test.duplicated().sum()}\")"
   ]
  },
  {
   "cell_type": "markdown",
   "metadata": {},
   "source": [
    "**Conclusions**\n",
    "***"
   ]
  },
  {
   "cell_type": "markdown",
   "metadata": {},
   "source": [
    "- All the data types of features and targets are correct. The features are all numeric so no need in encoding. The date column was deleted as it not relevant to the prediction.\n",
    "- There are no duplicates.\n",
    "- The missing values of the features were filled with a KNNImputer.\n",
    "- The rows with missing target values were deleted."
   ]
  },
  {
   "cell_type": "markdown",
   "metadata": {},
   "source": [
    "### Exploratory Data Analysis\n",
    "<a class=\"anchor\" id=\"chapter1.6\"></a>"
   ]
  },
  {
   "cell_type": "markdown",
   "metadata": {},
   "source": [
    "**Concentrations of metals on different purification stages**"
   ]
  },
  {
   "cell_type": "markdown",
   "metadata": {},
   "source": [
    "The train and test sets don't contain all the needed concentration (just the initial ones) so we'll need to use the full set for retrieving this information."
   ]
  },
  {
   "cell_type": "code",
   "execution_count": 25,
   "metadata": {},
   "outputs": [
    {
     "data": {
      "image/png": "[encoded data removed]",
      "text/plain": [
       "<Figure size 1080x1080 with 3 Axes>"
      ]
     },
     "metadata": {
      "needs_background": "light"
     },
     "output_type": "display_data"
    }
   ],
   "source": [
    "stages = ['rougher.input.feed','rougher.output.concentrate','primary_cleaner.output.concentrate','final.output.concentrate']\n",
    "metals = {'_au': 'Gold','_ag': 'Silver','_pb':'Lead'}\n",
    "\n",
    "fig, axes = plt.subplots(nrows=3, ncols =1, figsize =(15,15))\n",
    "fig.suptitle('Metal concentration in different purification stages', fontsize=14, y=0.92)\n",
    "\n",
    "i=0\n",
    "for m in metals.keys():\n",
    "    for s in stages:\n",
    "        ax = i\n",
    "        sns.kdeplot(gold_full[(s+m)], ax = axes[ax], shade='fill', label = (s+m))\n",
    "        axes[ax].set(title=metals[m], xlabel='Concentration (%)', ylabel='Density')\n",
    "        axes[ax].legend(['raw feed','after floatation','after primary purification','final concentration'], loc='top_left')\n",
    "        axes[ax].xaxis.set_label_position('bottom')\n",
    "    i+=1\n",
    "\n",
    "plt.show()"
   ]
  },
  {
   "cell_type": "markdown",
   "metadata": {},
   "source": [
    "For all the metals in all stages, there are significant amount of records with concentration of 0%. It might be that there are cases where the concentration is indeed 0, but also might be a problem with the collected data, therefore it is worth removing these values to ensure accuracy in the model.\n",
    "\n",
    "The Gold concentration increases in every purification stage which is what we excpect from the process.\n",
    "The Silver concentration also increases after the floatation stage and then starts do decrease till it gets to a lower level then the initial feed. The Lead concentration increases in every purification stage, but it stays pretty much the same during the first and the second stages of the cleaner process."
   ]
  },
  {
   "cell_type": "markdown",
   "metadata": {},
   "source": [
    "**Feed particle size distributions in training and test sets**"
   ]
  },
  {
   "cell_type": "markdown",
   "metadata": {},
   "source": [
    "As our train and test set are already standardized, the particle size is not actual, but scaled."
   ]
  },
  {
   "cell_type": "code",
   "execution_count": 26,
   "metadata": {},
   "outputs": [
    {
     "data": {
      "image/png": "[encoded data removed]",
      "text/plain": [
       "<Figure size 1080x360 with 2 Axes>"
      ]
     },
     "metadata": {
      "needs_background": "light"
     },
     "output_type": "display_data"
    }
   ],
   "source": [
    "fig, axes = plt.subplots(nrows=1, ncols =2, figsize =(15,5), sharey = True)\n",
    "fig.suptitle('Distribution of Primary Cleaner and Rougher Input Feed_Size Values', fontsize=14, y=0.94)\n",
    "sns.kdeplot(gold_train_scaled['rougher.input.feed_size'], ax = axes[0], shade='fill')\n",
    "sns.kdeplot(gold_test_scaled['rougher.input.feed_size'], ax = axes[0], shade='fill')\n",
    "sns.kdeplot(gold_train_scaled['primary_cleaner.input.feed_size'], ax = axes[1], shade='fill')\n",
    "sns.kdeplot(gold_test_scaled['primary_cleaner.input.feed_size'], ax = axes[1], shade='fill')\n",
    "axes[0].legend(['Train','Test'], loc='top_left')\n",
    "axes[1].legend(['Train','Test'], loc='top_left')\n",
    "axes[0].set_xlabel('Rougher Feed Size (scaled)')\n",
    "axes[1].set_xlabel('Primary Feed Size (scaled)')\n",
    "plt.show();"
   ]
  },
  {
   "cell_type": "markdown",
   "metadata": {},
   "source": [
    "The particle size distributions of the particle feed sizes shows that they don't vary siginificantly between the train and the test set, which is good, as differce in the distributions might affect poorly on model's performance."
   ]
  },
  {
   "cell_type": "markdown",
   "metadata": {},
   "source": [
    "**Total concentrations of all substances at different stages**"
   ]
  },
  {
   "cell_type": "markdown",
   "metadata": {},
   "source": [
    "The train and test sets don't contain all the needed concentration (just the initial ones) so we'll need to use the full set for retrieving this information."
   ]
  },
  {
   "cell_type": "code",
   "execution_count": 27,
   "metadata": {},
   "outputs": [
    {
     "data": {
      "image/png": "[encoded data removed]",
      "text/plain": [
       "<Figure size 1080x360 with 1 Axes>"
      ]
     },
     "metadata": {
      "needs_background": "light"
     },
     "output_type": "display_data"
    }
   ],
   "source": [
    "stages = ['rougher.input.feed','rougher.output.concentrate','final.output.concentrate']\n",
    "materials = ['_au','_ag','_pb','_sol']\n",
    "\n",
    "fig = plt.figure(figsize=(15, 5))\n",
    "fig.suptitle('Total concentration of all substences in different purification stages', fontsize=14, y=0.92)\n",
    "\n",
    "for s in stages:\n",
    "    total = 0\n",
    "    for m in materials:\n",
    "        #sum all metal concentrations in the stage\n",
    "        total+= gold_full[(s+m)] \n",
    "    sns.kdeplot(total, label=s, shade='fill')\n",
    "    \n",
    "plt.legend(['raw feed','rougher concentrate','final concentration'], loc='top_left')\n",
    "plt.xlabel('Concentration (%)')\n",
    "plt.show()"
   ]
  },
  {
   "cell_type": "markdown",
   "metadata": {},
   "source": [
    "The concentration distributions at all stages show abnormal values around 0%. As we want to ensure the accuracy of the model, we will remove this outliers from the train and test sets.\n",
    "Based on all concentration graphs above, we will remove rows that sums up to less than 15% concentration at each stage.\n",
    "As our train and test sets are already scaled, we will filter these outliers from the full dataframe and then remove these rows from the other datasets based on the `date` column."
   ]
  },
  {
   "cell_type": "markdown",
   "metadata": {},
   "source": [
    "### Remove outliers\n",
    "<a class=\"anchor\" id=\"chapter1.7\"></a>"
   ]
  },
  {
   "cell_type": "markdown",
   "metadata": {},
   "source": [
    "**Filter out outliers from full dataset**"
   ]
  },
  {
   "cell_type": "code",
   "execution_count": 28,
   "metadata": {},
   "outputs": [],
   "source": [
    "#filter out the rows that sums up to less than 1% concentration at each stage\n",
    "gold_full_filtered = gold_full[\n",
    "    (gold_full[['rougher.input.feed_au','rougher.input.feed_pb','rougher.input.feed_ag', \\\n",
    "                'rougher.input.feed_sol']].sum(axis=1) >= 15) \\\n",
    "    & (gold_full[['rougher.output.concentrate_au','rougher.output.concentrate_pb', \\\n",
    "                  'rougher.output.concentrate_ag','rougher.output.concentrate_sol']].sum(axis=1) >= 15) \\\n",
    "    & (gold_full[['primary_cleaner.output.concentrate_au','primary_cleaner.output.concentrate_pb', \\\n",
    "                  'primary_cleaner.output.concentrate_ag','primary_cleaner.output.concentrate_sol']].sum(axis=1) >= 15) \\\n",
    "    & (gold_full[['final.output.concentrate_au','final.output.concentrate_pb', \\\n",
    "                  'final.output.concentrate_ag','final.output.concentrate_sol']].sum(axis=1) >= 15)]"
   ]
  },
  {
   "cell_type": "markdown",
   "metadata": {},
   "source": [
    "We'll plot again the distribution of total concentration of all substences in different purification stages to check the effect of the change."
   ]
  },
  {
   "cell_type": "code",
   "execution_count": 29,
   "metadata": {},
   "outputs": [
    {
     "data": {
      "image/png": "[encoded data removed]",
      "text/plain": [
       "<Figure size 1080x360 with 1 Axes>"
      ]
     },
     "metadata": {
      "needs_background": "light"
     },
     "output_type": "display_data"
    }
   ],
   "source": [
    "stages = ['rougher.input.feed','rougher.output.concentrate','final.output.concentrate']\n",
    "materials = ['_au','_ag','_pb','_sol']\n",
    "\n",
    "fig = plt.figure(figsize=(15, 5))\n",
    "fig.suptitle('Total concentration of all substences in different purification stages - filtered', fontsize=14, y=0.92)\n",
    "\n",
    "for s in stages:\n",
    "    total = 0\n",
    "    for m in materials:\n",
    "        #sum all substences concentrations in the stage\n",
    "        total+= gold_full_filtered[(s+m)] \n",
    "    sns.kdeplot(total, label=s, shade='fill')\n",
    "    \n",
    "plt.legend(['raw feed','rougher concentrate','final concentration'], loc='top_left')\n",
    "plt.xlabel('Concentration (%)')\n",
    "plt.show()"
   ]
  },
  {
   "cell_type": "markdown",
   "metadata": {},
   "source": [
    "The outliers removed successfully! Now we'll ensure that the train and test sets contain only rows that appeer in the filtered full dataset. We'll do this based on the `date` column."
   ]
  },
  {
   "cell_type": "markdown",
   "metadata": {},
   "source": [
    "**Filter out outliers from train and test sets**"
   ]
  },
  {
   "cell_type": "code",
   "execution_count": 30,
   "metadata": {},
   "outputs": [],
   "source": [
    "#a list of the dates that can be included\n",
    "legit_dates = gold_full_filtered['date']"
   ]
  },
  {
   "cell_type": "code",
   "execution_count": 31,
   "metadata": {},
   "outputs": [],
   "source": [
    "#filter out the outliers from the train and test set\n",
    "gold_train_scaled = gold_train_scaled.query('date in @legit_dates').reset_index(drop=True)\n",
    "gold_test_scaled = gold_test_scaled.query('date in @legit_dates').reset_index(drop=True)"
   ]
  },
  {
   "cell_type": "markdown",
   "metadata": {},
   "source": [
    "Now when the data is clean, we are ready for developing a model."
   ]
  },
  {
   "cell_type": "markdown",
   "metadata": {},
   "source": [
    "## Building a model\n",
    "***\n",
    "<a class=\"anchor\" id=\"chapter2\"></a>"
   ]
  },
  {
   "cell_type": "markdown",
   "metadata": {},
   "source": [
    "### Functions for calculating sMAPE & Final sMAPE\n",
    "<a class=\"anchor\" id=\"chapter2.1\"></a>"
   ]
  },
  {
   "cell_type": "markdown",
   "metadata": {},
   "source": [
    "These are the formulas of our error evaluation metrics:\n",
    "\n",
    "$$\\text{sMAPE}  = \\frac{1}{N}\\sum_{i=1}^{N}\\frac{|y_i- \\hat{y_i}|}{(|y_i|+|\\hat{y_i}|)/2}*100\\%$$\n",
    "\n",
    "$$\\text{Final sMAPE} = 25\\%*\\text{sMAPE}(rougher)+75\\%*\\text{sMAPE}(final)$$\n",
    "\n",
    "Now we'll define the functions that will calculate them."
   ]
  },
  {
   "cell_type": "code",
   "execution_count": 32,
   "metadata": {},
   "outputs": [],
   "source": [
    "#function for calculating the smape metric\n",
    "def smape(y_true, y_pred):\n",
    "    error = abs(y_true - y_pred)\n",
    "    smape = np.mean(error / ((abs(y_true) + abs(y_pred)) / 2))\n",
    "    return smape\n",
    "\n",
    "#function for calculating the final smape\n",
    "def final_smape(y_true, y_pred):\n",
    "    y_true = y_true.to_numpy()\n",
    "    rougher = smape(y_true[:, 0], y_pred[:,0])\n",
    "    final = smape(y_true[:,1], y_pred[:,1])\n",
    "    final_smape = 0.25 * rougher + 0.75 * final\n",
    "    return final_smape"
   ]
  },
  {
   "cell_type": "markdown",
   "metadata": {},
   "source": [
    "**Spliting the sets to features and targets**"
   ]
  },
  {
   "cell_type": "markdown",
   "metadata": {},
   "source": [
    "As we mentioned before, the `date` column is not relevant for our prediction, thus we'll remove it."
   ]
  },
  {
   "cell_type": "code",
   "execution_count": 33,
   "metadata": {},
   "outputs": [],
   "source": [
    "#drop the date column\n",
    "gold_train_scaled = gold_train_scaled.drop(['date'], axis=1)\n",
    "gold_test_scaled = gold_test_scaled.drop(['date'], axis=1)"
   ]
  },
  {
   "cell_type": "markdown",
   "metadata": {},
   "source": [
    "Now we'll split the sets to features and targets."
   ]
  },
  {
   "cell_type": "code",
   "execution_count": 34,
   "metadata": {},
   "outputs": [
    {
     "name": "stdout",
     "output_type": "stream",
     "text": [
      "Sizes of the train set:\n",
      "-----------------------\n",
      "Features train: (13518, 52)\n",
      "Targets train: (13518, 2)\n",
      "\n",
      "Sizes of the test set:\n",
      "----------------------\n",
      "Features test: (5101, 52)\n",
      "Targets test: (5101, 2)\n"
     ]
    }
   ],
   "source": [
    "#split train and test sets to features and targets\n",
    "targets_train = gold_train_scaled[['rougher.output.recovery', 'final.output.recovery']]\n",
    "features_train = gold_train_scaled.drop(['rougher.output.recovery', 'final.output.recovery'], axis=1)\n",
    "\n",
    "targets_test = gold_test_scaled[['rougher.output.recovery', 'final.output.recovery']]\n",
    "features_test = gold_test_scaled.drop(['rougher.output.recovery', 'final.output.recovery'], axis=1)\n",
    "\n",
    "print('Sizes of the train set:\\n'+len('Sizes of the train set:')*'-')\n",
    "print(f'Features train: {features_train.shape}')\n",
    "print(f'Targets train: {targets_train.shape}\\n')\n",
    "print('Sizes of the test set:\\n'+len('Sizes of the test set:')*'-')\n",
    "print(f'Features test: {features_test.shape}')\n",
    "print(f'Targets test: {targets_test.shape}')"
   ]
  },
  {
   "cell_type": "markdown",
   "metadata": {},
   "source": [
    "As the data is clean and organized we are ready to compare between different regression models."
   ]
  },
  {
   "cell_type": "markdown",
   "metadata": {},
   "source": [
    "### Training and evaluating models\n",
    "<a class=\"anchor\" id=\"chapter2.2\"></a>"
   ]
  },
  {
   "cell_type": "code",
   "execution_count": 35,
   "metadata": {},
   "outputs": [],
   "source": [
    "#constant random state for repeating the same results\n",
    "state = 1234\n",
    "\n",
    "#create scorer for GridSearchCV\n",
    "smape_score = make_scorer(final_smape, greater_is_better=False)"
   ]
  },
  {
   "cell_type": "markdown",
   "metadata": {},
   "source": [
    "**Decision Tree Regressor**"
   ]
  },
  {
   "cell_type": "code",
   "execution_count": 36,
   "metadata": {},
   "outputs": [
    {
     "name": "stdout",
     "output_type": "stream",
     "text": [
      "Decision Tree Regressor:\n",
      "------------------------\n",
      "Best Final sMAPE: 9.78%\n",
      "Best Params: {'max_depth': 5, 'min_samples_split': 2}\n",
      "\n",
      "CPU times: user 53.1 s, sys: 0 ns, total: 53.1 s\n",
      "Wall time: 54.4 s\n"
     ]
    }
   ],
   "source": [
    "%%time\n",
    "model = GridSearchCV(DecisionTreeRegressor(random_state=state),\n",
    "                     param_grid={'max_depth': range(5, 10, 1), \n",
    "                                 'min_samples_split' : range(2, 10, 2)},\n",
    "                     cv=5, scoring = smape_score)\n",
    "model.fit(features_train, targets_train)\n",
    "print('Decision Tree Regressor:\\n'+len('Decision Tree Regressor:')*'-')\n",
    "print(f'Best Final sMAPE: {abs(model.best_score_):.2%}')\n",
    "print(f'Best Params: {model.best_params_}\\n')"
   ]
  },
  {
   "cell_type": "markdown",
   "metadata": {},
   "source": [
    "**Random Forest Regressor**"
   ]
  },
  {
   "cell_type": "code",
   "execution_count": 37,
   "metadata": {},
   "outputs": [
    {
     "name": "stdout",
     "output_type": "stream",
     "text": [
      "Random Forest Regressor:\n",
      "------------------------\n",
      "Best Final sMAPE: 8.56%\n",
      "Best Params: {'max_depth': 4, 'n_estimators': 45}\n",
      "\n",
      "CPU times: user 6min 43s, sys: 220 ms, total: 6min 43s\n",
      "Wall time: 6min 49s\n"
     ]
    }
   ],
   "source": [
    "%%time\n",
    "model = GridSearchCV(RandomForestRegressor(random_state=state),\n",
    "                     param_grid={'max_depth' : range(4, 10, 2), 'n_estimators' : range(40, 50, 5)},\n",
    "                     cv=5, scoring=smape_score)\n",
    "model.fit(features_train, targets_train)\n",
    "print('Random Forest Regressor:\\n'+len('Random Forest Regressor:')*'-')\n",
    "print(f'Best Final sMAPE: {abs(model.best_score_):.2%}')\n",
    "print(f'Best Params: {model.best_params_}\\n')"
   ]
  },
  {
   "cell_type": "markdown",
   "metadata": {},
   "source": [
    "**Linear Regressor**"
   ]
  },
  {
   "cell_type": "code",
   "execution_count": 38,
   "metadata": {},
   "outputs": [
    {
     "name": "stdout",
     "output_type": "stream",
     "text": [
      "Linear Regressor:\n",
      "-----------------\n",
      "Best Final sMAPE: 10.07%\n",
      "\n",
      "CPU times: user 1.26 s, sys: 876 ms, total: 2.13 s\n",
      "Wall time: 2.12 s\n"
     ]
    }
   ],
   "source": [
    "%%time\n",
    "model = GridSearchCV(LinearRegression(), param_grid={}, cv=5, scoring=smape_score)\n",
    "model.fit(features_train, targets_train)\n",
    "print('Linear Regressor:\\n'+len('Linear Regressor:')*'-')\n",
    "print(f'Best Final sMAPE: {abs(model.best_score_):.2%}\\n')"
   ]
  },
  {
   "cell_type": "markdown",
   "metadata": {},
   "source": [
    "**Elastic Net Regressor**"
   ]
  },
  {
   "cell_type": "code",
   "execution_count": 39,
   "metadata": {},
   "outputs": [
    {
     "name": "stdout",
     "output_type": "stream",
     "text": [
      "Elastic Net Regressor:\n",
      "----------------------\n",
      "Best Final sMAPE: 8.38%\n",
      "Best Params: {'alpha': 0.5, 'l1_ratio': 0.6000000000000001}\n",
      "\n",
      "CPU times: user 26.6 s, sys: 23.8 s, total: 50.5 s\n",
      "Wall time: 50.9 s\n"
     ]
    }
   ],
   "source": [
    "%%time\n",
    "model = GridSearchCV(ElasticNet(random_state=state), \n",
    "                     param_grid={'alpha' : np.arange(.5, 1, .1), 'l1_ratio' : np.arange(0.4, 1, .2)}, \n",
    "                     cv=5, scoring=smape_score)\n",
    "model.fit(features_train, targets_train)\n",
    "print('Elastic Net Regressor:\\n'+len('Elastic Net Regressor:')*'-')\n",
    "print(f'Best Final sMAPE: {abs(model.best_score_):.2%}')\n",
    "print(f'Best Params: {model.best_params_}\\n')"
   ]
  },
  {
   "cell_type": "markdown",
   "metadata": {},
   "source": [
    "**Lasso Regressor**"
   ]
  },
  {
   "cell_type": "code",
   "execution_count": 40,
   "metadata": {},
   "outputs": [
    {
     "name": "stdout",
     "output_type": "stream",
     "text": [
      "Lasso Regressor:\n",
      "----------------\n",
      "Best Final sMAPE: 8.47%\n",
      "Best Params: {'alpha': 0.31000000000000005}\n",
      "\n",
      "CPU times: user 1min 13s, sys: 1min 5s, total: 2min 19s\n",
      "Wall time: 2min 19s\n"
     ]
    }
   ],
   "source": [
    "%%time\n",
    "model = GridSearchCV(Lasso(random_state=state), \n",
    "                     param_grid={'alpha' : np.arange(.01, 1, .05)}, \n",
    "                     cv=5, scoring=smape_score)\n",
    "model.fit(features_train, targets_train)\n",
    "print('Lasso Regressor:\\n'+len('Lasso Regressor:')*'-')\n",
    "print(f'Best Final sMAPE: {abs(model.best_score_):.2%}')\n",
    "print(f'Best Params: {model.best_params_}\\n')"
   ]
  },
  {
   "cell_type": "markdown",
   "metadata": {},
   "source": [
    "We trained 5 different regression models and found their average sMAPE scores and hyperparameters using cross validation (with GreadSearchCV). As we can see, **the Elastic Net Regressor yields the best results, with an average sMAPE of 8.38%.**"
   ]
  },
  {
   "cell_type": "markdown",
   "metadata": {},
   "source": [
    "### Testing the Best Model\n",
    "<a class=\"anchor\" id=\"chapter2.3\"></a>"
   ]
  },
  {
   "cell_type": "code",
   "execution_count": 41,
   "metadata": {},
   "outputs": [
    {
     "name": "stdout",
     "output_type": "stream",
     "text": [
      "Best Final sMAPE score for best Elastic Net Regressor (test set): 6.28%\n"
     ]
    }
   ],
   "source": [
    "#the best model with the best parameters found\n",
    "best_model = ElasticNet(random_state=state, alpha=0.5, l1_ratio=0.6000000000000001)\n",
    "best_model.fit(features_train, targets_train)\n",
    "targets_pred = best_model.predict(features_test)\n",
    "\n",
    "best_smape = final_smape(targets_test, targets_pred)\n",
    "\n",
    "print(f'Best Final sMAPE score for best Elastic Net Regressor (test set): {best_smape:.2%}')"
   ]
  },
  {
   "cell_type": "markdown",
   "metadata": {},
   "source": [
    "Interestingly, for our best model with the best hyperparameters, we got a better sMAPE score for the test set than the training set. Now we'll build a dummy model for a sanity check for our best model. We want to see that the sMAPE score of our model is lower than the dummy model."
   ]
  },
  {
   "cell_type": "markdown",
   "metadata": {},
   "source": [
    "**Sanity Check**"
   ]
  },
  {
   "cell_type": "code",
   "execution_count": 42,
   "metadata": {},
   "outputs": [
    {
     "name": "stdout",
     "output_type": "stream",
     "text": [
      "Final sMAPE score for dummy model: 7.67%\n"
     ]
    }
   ],
   "source": [
    "#dummy model\n",
    "dummy = DummyRegressor(strategy=\"mean\")\n",
    "dummy.fit(features_train, targets_train)\n",
    "\n",
    "#calculate sMAPE score for the dummy model\n",
    "smape_dummy = final_smape(targets_test, dummy.predict(features_test))\n",
    "print(f'Final sMAPE score for dummy model: {smape_dummy:.2%}')"
   ]
  },
  {
   "cell_type": "markdown",
   "metadata": {},
   "source": [
    "As we see, our best model obtained a sMAPE score of 6.28% and the dummy model (the average values of the targets) obtained a sMAPE score of 7.67% which means that our model is better!"
   ]
  },
  {
   "cell_type": "markdown",
   "metadata": {},
   "source": [
    "## General conclusions\n",
    "***\n",
    "<a class=\"anchor\" id=\"chapter3\"></a>"
   ]
  },
  {
   "cell_type": "markdown",
   "metadata": {},
   "source": [
    "In this project we tried to build a ML model that predicts the amount of gold recovered from gold ore, based on collected data about extraction and purification processes.\n",
    "\n",
    "We had to preprocess the data as we had some missing values and missing columns in the different datasets. We predicted the missing values with a KNN imputer and added the missing columns from the full dataset. \n",
    "Later on we analyzed the concentration of the metals at different stages and the total concentration of all substences at different stages. Based on the resulting graphs we decided on a method to remove the outliers.\n",
    "We chose the sMAPE error score as our evaluating metric and defined a function for calculating the final sMAPE score.\n",
    "We trained 5 different regression models and calculated their average final sMAPE score using cross validation. The best model with the lowest sMAPE score was a Elastic Net regressor (with alpha=0.5, l1_ratio=0.6000000000000001) and we needed to compare it with a dummy model.\n",
    "We found out our best model obtained a sMAPE score of 6.28% and the dummy model (the average values of the targets) obtained a sMAPE score of 7.67% which means that our model is better.\n",
    "\n",
    "As the results of the dummy model and the best model on the test set are lower than the lowest score of our best model on the train set, we recommend selecting randomized samples for the train and test sets as well as retraining our best model checking for consistency."
   ]
  }
 ],
 "metadata": {
  "ExecuteTimeLog": [
   {
    "duration": 9829,
    "start_time": "2021-10-26T14:52:12.849Z"
   },
   {
    "duration": 1589,
    "start_time": "2021-10-26T14:52:25.072Z"
   },
   {
    "duration": 1220,
    "start_time": "2021-10-26T14:52:29.410Z"
   },
   {
    "duration": 27,
    "start_time": "2021-10-26T15:03:12.303Z"
   },
   {
    "duration": 416,
    "start_time": "2021-10-26T15:26:53.829Z"
   },
   {
    "duration": 274,
    "start_time": "2021-10-26T15:27:03.971Z"
   },
   {
    "duration": 330,
    "start_time": "2021-10-26T15:27:26.442Z"
   },
   {
    "duration": 289,
    "start_time": "2021-10-26T15:30:18.488Z"
   },
   {
    "duration": 20,
    "start_time": "2021-10-26T15:30:29.484Z"
   },
   {
    "duration": 4,
    "start_time": "2021-10-26T15:30:59.526Z"
   },
   {
    "duration": 19,
    "start_time": "2021-10-26T15:31:01.006Z"
   },
   {
    "duration": 11,
    "start_time": "2021-10-26T15:37:47.720Z"
   },
   {
    "duration": 297,
    "start_time": "2021-10-26T16:07:37.323Z"
   },
   {
    "duration": 40,
    "start_time": "2021-10-26T16:07:45.429Z"
   },
   {
    "duration": 13,
    "start_time": "2021-10-26T16:09:59.544Z"
   },
   {
    "duration": 13,
    "start_time": "2021-10-26T16:10:22.770Z"
   },
   {
    "duration": 6,
    "start_time": "2021-10-26T16:24:49.506Z"
   },
   {
    "duration": 4544,
    "start_time": "2021-10-26T17:10:41.780Z"
   },
   {
    "duration": 1726,
    "start_time": "2021-10-26T17:10:46.327Z"
   },
   {
    "duration": 1224,
    "start_time": "2021-10-26T17:10:48.056Z"
   },
   {
    "duration": 40,
    "start_time": "2021-10-26T17:10:49.283Z"
   },
   {
    "duration": 4,
    "start_time": "2021-10-26T17:10:49.325Z"
   },
   {
    "duration": 28,
    "start_time": "2021-10-26T17:10:49.331Z"
   },
   {
    "duration": 9,
    "start_time": "2021-10-26T17:10:49.361Z"
   },
   {
    "duration": 7,
    "start_time": "2021-10-26T17:10:49.373Z"
   },
   {
    "duration": 532,
    "start_time": "2021-10-26T17:10:49.382Z"
   },
   {
    "duration": 828,
    "start_time": "2021-10-26T17:10:49.089Z"
   },
   {
    "duration": 815,
    "start_time": "2021-10-26T17:10:49.103Z"
   },
   {
    "duration": 667,
    "start_time": "2021-10-26T17:10:49.253Z"
   },
   {
    "duration": 655,
    "start_time": "2021-10-26T17:10:49.266Z"
   },
   {
    "duration": 271,
    "start_time": "2021-10-26T17:13:12.055Z"
   },
   {
    "duration": 5,
    "start_time": "2021-10-26T17:13:33.027Z"
   },
   {
    "duration": 6,
    "start_time": "2021-10-26T17:15:19.649Z"
   },
   {
    "duration": 273,
    "start_time": "2021-10-26T17:17:30.843Z"
   },
   {
    "duration": 279,
    "start_time": "2021-10-26T17:17:54.218Z"
   },
   {
    "duration": 4,
    "start_time": "2021-10-26T17:18:11.580Z"
   },
   {
    "duration": 3,
    "start_time": "2021-10-26T17:18:32.916Z"
   },
   {
    "duration": 271,
    "start_time": "2021-10-26T17:18:49.716Z"
   },
   {
    "duration": 7,
    "start_time": "2021-10-26T17:18:58.723Z"
   },
   {
    "duration": 288,
    "start_time": "2021-10-26T17:19:01.727Z"
   },
   {
    "duration": 6,
    "start_time": "2021-10-26T17:19:21.729Z"
   },
   {
    "duration": 1255,
    "start_time": "2021-10-26T17:22:04.401Z"
   },
   {
    "duration": 24,
    "start_time": "2021-10-26T17:22:08.193Z"
   },
   {
    "duration": 5,
    "start_time": "2021-10-26T17:22:13.180Z"
   },
   {
    "duration": 19,
    "start_time": "2021-10-26T17:22:14.895Z"
   },
   {
    "duration": 7,
    "start_time": "2021-10-26T17:22:18.093Z"
   },
   {
    "duration": 7,
    "start_time": "2021-10-26T17:22:21.573Z"
   },
   {
    "duration": 6,
    "start_time": "2021-10-26T17:22:24.561Z"
   },
   {
    "duration": 277,
    "start_time": "2021-10-26T17:22:59.470Z"
   },
   {
    "duration": 375,
    "start_time": "2021-10-26T17:23:08.965Z"
   },
   {
    "duration": 3,
    "start_time": "2021-10-26T17:23:16.063Z"
   },
   {
    "duration": 7,
    "start_time": "2021-10-26T17:23:24.518Z"
   },
   {
    "duration": 6,
    "start_time": "2021-10-26T17:23:28.223Z"
   },
   {
    "duration": 280,
    "start_time": "2021-10-26T17:23:32.170Z"
   },
   {
    "duration": 4,
    "start_time": "2021-10-26T17:23:40.875Z"
   },
   {
    "duration": 5,
    "start_time": "2021-10-26T17:23:46.826Z"
   },
   {
    "duration": 9,
    "start_time": "2021-10-26T17:24:10.388Z"
   },
   {
    "duration": 6,
    "start_time": "2021-10-26T17:24:17.527Z"
   },
   {
    "duration": 5,
    "start_time": "2021-10-26T17:24:34.067Z"
   },
   {
    "duration": 8,
    "start_time": "2021-10-26T17:25:41.280Z"
   },
   {
    "duration": 284,
    "start_time": "2021-10-26T17:26:11.758Z"
   },
   {
    "duration": 6,
    "start_time": "2021-10-26T17:26:21.718Z"
   },
   {
    "duration": 3851,
    "start_time": "2021-10-26T17:28:27.415Z"
   },
   {
    "duration": 1503,
    "start_time": "2021-10-26T17:28:31.269Z"
   },
   {
    "duration": 1238,
    "start_time": "2021-10-26T17:28:32.776Z"
   },
   {
    "duration": 25,
    "start_time": "2021-10-26T17:28:34.017Z"
   },
   {
    "duration": 5,
    "start_time": "2021-10-26T17:28:34.044Z"
   },
   {
    "duration": 34,
    "start_time": "2021-10-26T17:28:34.052Z"
   },
   {
    "duration": 36,
    "start_time": "2021-10-26T17:28:34.089Z"
   },
   {
    "duration": 7,
    "start_time": "2021-10-26T17:28:34.129Z"
   },
   {
    "duration": 111,
    "start_time": "2021-10-26T17:28:34.138Z"
   },
   {
    "duration": 9,
    "start_time": "2021-10-26T17:28:34.253Z"
   },
   {
    "duration": 18,
    "start_time": "2021-10-26T17:28:34.264Z"
   },
   {
    "duration": 474,
    "start_time": "2021-10-26T17:28:34.285Z"
   },
   {
    "duration": 801,
    "start_time": "2021-10-26T17:28:33.962Z"
   },
   {
    "duration": 790,
    "start_time": "2021-10-26T17:28:33.975Z"
   },
   {
    "duration": 3900,
    "start_time": "2021-10-26T17:29:27.407Z"
   },
   {
    "duration": 1593,
    "start_time": "2021-10-26T17:29:31.310Z"
   },
   {
    "duration": 1174,
    "start_time": "2021-10-26T17:29:32.906Z"
   },
   {
    "duration": 39,
    "start_time": "2021-10-26T17:29:34.083Z"
   },
   {
    "duration": 6,
    "start_time": "2021-10-26T17:29:34.125Z"
   },
   {
    "duration": 34,
    "start_time": "2021-10-26T17:29:34.134Z"
   },
   {
    "duration": 9,
    "start_time": "2021-10-26T17:29:34.171Z"
   },
   {
    "duration": 9,
    "start_time": "2021-10-26T17:29:34.184Z"
   },
   {
    "duration": 29,
    "start_time": "2021-10-26T17:29:34.223Z"
   },
   {
    "duration": 6,
    "start_time": "2021-10-26T17:29:34.254Z"
   },
   {
    "duration": 16,
    "start_time": "2021-10-26T17:29:34.262Z"
   },
   {
    "duration": 408,
    "start_time": "2021-10-26T17:29:34.280Z"
   },
   {
    "duration": 839,
    "start_time": "2021-10-26T17:29:33.851Z"
   },
   {
    "duration": 834,
    "start_time": "2021-10-26T17:29:33.857Z"
   },
   {
    "duration": 13,
    "start_time": "2021-10-26T17:35:38.682Z"
   },
   {
    "duration": 9,
    "start_time": "2021-10-26T17:36:59.154Z"
   },
   {
    "duration": 10,
    "start_time": "2021-10-26T17:37:42.900Z"
   },
   {
    "duration": 10,
    "start_time": "2021-10-26T17:38:20.601Z"
   },
   {
    "duration": 4154,
    "start_time": "2021-10-26T17:39:08.498Z"
   },
   {
    "duration": 1608,
    "start_time": "2021-10-26T17:39:12.655Z"
   },
   {
    "duration": 1188,
    "start_time": "2021-10-26T17:39:14.266Z"
   },
   {
    "duration": 25,
    "start_time": "2021-10-26T17:39:15.457Z"
   },
   {
    "duration": 6,
    "start_time": "2021-10-26T17:39:15.484Z"
   },
   {
    "duration": 32,
    "start_time": "2021-10-26T17:39:15.492Z"
   },
   {
    "duration": 8,
    "start_time": "2021-10-26T17:39:15.527Z"
   },
   {
    "duration": 6,
    "start_time": "2021-10-26T17:39:15.538Z"
   },
   {
    "duration": 30,
    "start_time": "2021-10-26T17:39:15.546Z"
   },
   {
    "duration": 6,
    "start_time": "2021-10-26T17:39:15.578Z"
   },
   {
    "duration": 22,
    "start_time": "2021-10-26T17:39:15.586Z"
   },
   {
    "duration": 14,
    "start_time": "2021-10-26T17:39:15.610Z"
   },
   {
    "duration": 11,
    "start_time": "2021-10-26T17:39:15.627Z"
   },
   {
    "duration": 510,
    "start_time": "2021-10-26T17:39:15.641Z"
   },
   {
    "duration": 550,
    "start_time": "2021-10-26T17:39:15.604Z"
   },
   {
    "duration": 539,
    "start_time": "2021-10-26T17:39:15.616Z"
   },
   {
    "duration": 13,
    "start_time": "2021-10-26T17:44:21.969Z"
   },
   {
    "duration": 10,
    "start_time": "2021-10-26T17:44:25.025Z"
   },
   {
    "duration": 11,
    "start_time": "2021-10-26T17:45:03.382Z"
   },
   {
    "duration": 9,
    "start_time": "2021-10-26T17:45:05.897Z"
   },
   {
    "duration": 10,
    "start_time": "2021-10-26T17:47:11.281Z"
   },
   {
    "duration": 10,
    "start_time": "2021-10-26T17:47:45.689Z"
   },
   {
    "duration": 13,
    "start_time": "2021-10-26T17:47:54.025Z"
   },
   {
    "duration": 11,
    "start_time": "2021-10-26T17:49:07.734Z"
   },
   {
    "duration": 10,
    "start_time": "2021-10-26T17:58:35.798Z"
   },
   {
    "duration": 12,
    "start_time": "2021-10-26T17:58:45.109Z"
   },
   {
    "duration": 134,
    "start_time": "2021-10-26T18:01:06.179Z"
   },
   {
    "duration": 8979,
    "start_time": "2021-10-27T09:35:26.016Z"
   },
   {
    "duration": 1283,
    "start_time": "2021-10-27T09:35:34.997Z"
   },
   {
    "duration": 1030,
    "start_time": "2021-10-27T09:35:36.282Z"
   },
   {
    "duration": 16,
    "start_time": "2021-10-27T09:35:37.315Z"
   },
   {
    "duration": 3,
    "start_time": "2021-10-27T09:35:37.333Z"
   },
   {
    "duration": 39,
    "start_time": "2021-10-27T09:35:37.338Z"
   },
   {
    "duration": 7,
    "start_time": "2021-10-27T09:35:37.378Z"
   },
   {
    "duration": 5,
    "start_time": "2021-10-27T09:35:37.388Z"
   },
   {
    "duration": 25,
    "start_time": "2021-10-27T09:35:37.395Z"
   },
   {
    "duration": 5,
    "start_time": "2021-10-27T09:35:37.421Z"
   },
   {
    "duration": 11,
    "start_time": "2021-10-27T09:35:37.428Z"
   },
   {
    "duration": 41,
    "start_time": "2021-10-27T09:35:37.441Z"
   },
   {
    "duration": 9,
    "start_time": "2021-10-27T09:35:37.484Z"
   },
   {
    "duration": 7,
    "start_time": "2021-10-27T09:35:37.494Z"
   },
   {
    "duration": 486,
    "start_time": "2021-10-27T09:35:37.503Z"
   },
   {
    "duration": 579,
    "start_time": "2021-10-27T09:35:37.412Z"
   },
   {
    "duration": 578,
    "start_time": "2021-10-27T09:35:37.414Z"
   },
   {
    "duration": 578,
    "start_time": "2021-10-27T09:35:37.415Z"
   },
   {
    "duration": 578,
    "start_time": "2021-10-27T09:35:37.416Z"
   },
   {
    "duration": 578,
    "start_time": "2021-10-27T09:35:37.418Z"
   },
   {
    "duration": 577,
    "start_time": "2021-10-27T09:35:37.419Z"
   },
   {
    "duration": 374,
    "start_time": "2021-10-27T09:38:31.819Z"
   },
   {
    "duration": 3783,
    "start_time": "2021-10-27T09:39:21.671Z"
   },
   {
    "duration": 761,
    "start_time": "2021-10-27T09:39:28.174Z"
   },
   {
    "duration": 767,
    "start_time": "2021-10-27T09:39:53.048Z"
   },
   {
    "duration": 728,
    "start_time": "2021-10-27T09:40:27.827Z"
   },
   {
    "duration": 695,
    "start_time": "2021-10-27T09:41:01.848Z"
   },
   {
    "duration": 5519,
    "start_time": "2021-10-27T12:26:00.991Z"
   },
   {
    "duration": 1302,
    "start_time": "2021-10-27T12:26:06.513Z"
   },
   {
    "duration": 1076,
    "start_time": "2021-10-27T12:26:07.817Z"
   },
   {
    "duration": 22,
    "start_time": "2021-10-27T12:26:08.896Z"
   },
   {
    "duration": 4,
    "start_time": "2021-10-27T12:26:08.920Z"
   },
   {
    "duration": 29,
    "start_time": "2021-10-27T12:26:08.926Z"
   },
   {
    "duration": 24,
    "start_time": "2021-10-27T12:26:08.957Z"
   },
   {
    "duration": 10,
    "start_time": "2021-10-27T12:26:08.983Z"
   },
   {
    "duration": 20,
    "start_time": "2021-10-27T12:26:08.996Z"
   },
   {
    "duration": 4,
    "start_time": "2021-10-27T12:26:09.018Z"
   },
   {
    "duration": 10,
    "start_time": "2021-10-27T12:26:09.024Z"
   },
   {
    "duration": 6,
    "start_time": "2021-10-27T12:26:09.036Z"
   },
   {
    "duration": 19,
    "start_time": "2021-10-27T12:26:09.078Z"
   },
   {
    "duration": 9,
    "start_time": "2021-10-27T12:26:09.099Z"
   },
   {
    "duration": 834,
    "start_time": "2021-10-27T12:26:09.110Z"
   },
   {
    "duration": 750,
    "start_time": "2021-10-27T12:26:09.946Z"
   },
   {
    "duration": 470,
    "start_time": "2021-10-27T12:26:10.698Z"
   },
   {
    "duration": 972,
    "start_time": "2021-10-27T12:26:10.197Z"
   },
   {
    "duration": 969,
    "start_time": "2021-10-27T12:26:10.201Z"
   },
   {
    "duration": 969,
    "start_time": "2021-10-27T12:26:10.202Z"
   },
   {
    "duration": 968,
    "start_time": "2021-10-27T12:26:10.204Z"
   },
   {
    "duration": 969,
    "start_time": "2021-10-27T12:26:10.205Z"
   },
   {
    "duration": 968,
    "start_time": "2021-10-27T12:26:10.207Z"
   },
   {
    "duration": 967,
    "start_time": "2021-10-27T12:26:10.209Z"
   },
   {
    "duration": 37,
    "start_time": "2021-10-27T12:26:45.013Z"
   },
   {
    "duration": 16472,
    "start_time": "2021-10-27T12:26:48.255Z"
   },
   {
    "duration": 1240,
    "start_time": "2021-10-27T12:27:28.558Z"
   },
   {
    "duration": 5,
    "start_time": "2021-10-27T12:27:44.751Z"
   },
   {
    "duration": 11,
    "start_time": "2021-10-27T12:28:58.790Z"
   },
   {
    "duration": 981,
    "start_time": "2021-10-27T12:29:01.175Z"
   },
   {
    "duration": 653,
    "start_time": "2021-10-27T12:29:06.678Z"
   },
   {
    "duration": 470,
    "start_time": "2021-10-27T12:29:57.972Z"
   },
   {
    "duration": 503,
    "start_time": "2021-10-27T12:31:45.645Z"
   },
   {
    "duration": 514,
    "start_time": "2021-10-27T12:32:08.521Z"
   },
   {
    "duration": 750,
    "start_time": "2021-10-27T12:32:54.133Z"
   },
   {
    "duration": 863,
    "start_time": "2021-10-27T12:33:13.789Z"
   },
   {
    "duration": 10,
    "start_time": "2021-10-27T13:03:00.006Z"
   },
   {
    "duration": 11,
    "start_time": "2021-10-27T13:03:47.844Z"
   },
   {
    "duration": 16105,
    "start_time": "2021-10-27T22:13:27.390Z"
   },
   {
    "duration": 1563,
    "start_time": "2021-10-27T22:13:43.498Z"
   },
   {
    "duration": 11094,
    "start_time": "2021-10-27T22:13:45.064Z"
   },
   {
    "duration": 35,
    "start_time": "2021-10-27T22:13:56.162Z"
   },
   {
    "duration": 6,
    "start_time": "2021-10-27T22:13:56.200Z"
   },
   {
    "duration": 24,
    "start_time": "2021-10-27T22:13:56.209Z"
   },
   {
    "duration": 10,
    "start_time": "2021-10-27T22:13:56.236Z"
   },
   {
    "duration": 8,
    "start_time": "2021-10-27T22:13:56.285Z"
   },
   {
    "duration": 23,
    "start_time": "2021-10-27T22:13:56.298Z"
   },
   {
    "duration": 14,
    "start_time": "2021-10-27T22:13:56.324Z"
   },
   {
    "duration": 11,
    "start_time": "2021-10-27T22:13:56.383Z"
   },
   {
    "duration": 16,
    "start_time": "2021-10-27T22:13:56.397Z"
   },
   {
    "duration": 11,
    "start_time": "2021-10-27T22:13:56.415Z"
   },
   {
    "duration": 1369,
    "start_time": "2021-10-27T22:13:56.429Z"
   },
   {
    "duration": 1037,
    "start_time": "2021-10-27T22:13:57.801Z"
   },
   {
    "duration": 4,
    "start_time": "2021-10-27T22:13:58.841Z"
   },
   {
    "duration": 7,
    "start_time": "2021-10-27T22:13:58.847Z"
   },
   {
    "duration": 90,
    "start_time": "2021-10-27T22:13:58.856Z"
   },
   {
    "duration": 1289,
    "start_time": "2021-10-27T22:13:57.661Z"
   },
   {
    "duration": 1288,
    "start_time": "2021-10-27T22:13:57.663Z"
   },
   {
    "duration": 1287,
    "start_time": "2021-10-27T22:13:57.665Z"
   },
   {
    "duration": 1288,
    "start_time": "2021-10-27T22:13:57.666Z"
   },
   {
    "duration": 1287,
    "start_time": "2021-10-27T22:13:57.668Z"
   },
   {
    "duration": 1287,
    "start_time": "2021-10-27T22:13:57.670Z"
   },
   {
    "duration": 1287,
    "start_time": "2021-10-27T22:13:57.672Z"
   },
   {
    "duration": 1202,
    "start_time": "2021-10-27T22:13:57.758Z"
   },
   {
    "duration": 1198,
    "start_time": "2021-10-27T22:13:57.764Z"
   },
   {
    "duration": 1197,
    "start_time": "2021-10-27T22:13:57.766Z"
   },
   {
    "duration": 1196,
    "start_time": "2021-10-27T22:13:57.768Z"
   },
   {
    "duration": 1196,
    "start_time": "2021-10-27T22:13:57.770Z"
   },
   {
    "duration": 1195,
    "start_time": "2021-10-27T22:13:57.772Z"
   },
   {
    "duration": 117,
    "start_time": "2021-10-27T22:17:27.911Z"
   },
   {
    "duration": 102,
    "start_time": "2021-10-27T22:17:55.173Z"
   },
   {
    "duration": 106,
    "start_time": "2021-10-27T22:18:16.301Z"
   },
   {
    "duration": 3959,
    "start_time": "2021-10-27T22:20:08.118Z"
   },
   {
    "duration": 602,
    "start_time": "2021-10-27T22:20:32.642Z"
   },
   {
    "duration": 288,
    "start_time": "2021-10-27T22:28:25.098Z"
   },
   {
    "duration": 604,
    "start_time": "2021-10-27T22:28:37.361Z"
   },
   {
    "duration": 5,
    "start_time": "2021-10-27T22:29:10.966Z"
   },
   {
    "duration": 678,
    "start_time": "2021-10-27T22:29:13.517Z"
   },
   {
    "duration": 41,
    "start_time": "2021-10-27T22:32:36.912Z"
   },
   {
    "duration": 10,
    "start_time": "2021-10-27T22:33:00.180Z"
   },
   {
    "duration": 5,
    "start_time": "2021-10-27T22:33:14.110Z"
   },
   {
    "duration": 119,
    "start_time": "2021-10-27T22:33:16.947Z"
   },
   {
    "duration": 285,
    "start_time": "2021-10-27T22:34:08.535Z"
   },
   {
    "duration": 9494,
    "start_time": "2021-10-27T22:34:15.814Z"
   },
   {
    "duration": 6991,
    "start_time": "2021-10-27T22:43:15.986Z"
   },
   {
    "duration": 1587,
    "start_time": "2021-10-27T22:43:22.981Z"
   },
   {
    "duration": 1282,
    "start_time": "2021-10-27T22:43:24.571Z"
   },
   {
    "duration": 50,
    "start_time": "2021-10-27T22:43:25.857Z"
   },
   {
    "duration": 4,
    "start_time": "2021-10-27T22:43:25.910Z"
   },
   {
    "duration": 29,
    "start_time": "2021-10-27T22:43:25.917Z"
   },
   {
    "duration": 35,
    "start_time": "2021-10-27T22:43:25.949Z"
   },
   {
    "duration": 8,
    "start_time": "2021-10-27T22:43:25.989Z"
   },
   {
    "duration": 22,
    "start_time": "2021-10-27T22:43:26.002Z"
   },
   {
    "duration": 13,
    "start_time": "2021-10-27T22:43:26.026Z"
   },
   {
    "duration": 48,
    "start_time": "2021-10-27T22:43:26.042Z"
   },
   {
    "duration": 16,
    "start_time": "2021-10-27T22:43:26.092Z"
   },
   {
    "duration": 14,
    "start_time": "2021-10-27T22:43:26.111Z"
   },
   {
    "duration": 1424,
    "start_time": "2021-10-27T22:43:26.128Z"
   },
   {
    "duration": 1214,
    "start_time": "2021-10-27T22:43:27.554Z"
   },
   {
    "duration": 13,
    "start_time": "2021-10-27T22:43:28.771Z"
   },
   {
    "duration": 109,
    "start_time": "2021-10-27T22:43:28.787Z"
   },
   {
    "duration": 1154,
    "start_time": "2021-10-27T22:43:27.746Z"
   },
   {
    "duration": 1154,
    "start_time": "2021-10-27T22:43:27.748Z"
   },
   {
    "duration": 1153,
    "start_time": "2021-10-27T22:43:27.751Z"
   },
   {
    "duration": 1146,
    "start_time": "2021-10-27T22:43:27.760Z"
   },
   {
    "duration": 1145,
    "start_time": "2021-10-27T22:43:27.763Z"
   },
   {
    "duration": 1145,
    "start_time": "2021-10-27T22:43:27.765Z"
   },
   {
    "duration": 1145,
    "start_time": "2021-10-27T22:43:27.767Z"
   },
   {
    "duration": 1140,
    "start_time": "2021-10-27T22:43:27.774Z"
   },
   {
    "duration": 1140,
    "start_time": "2021-10-27T22:43:27.776Z"
   },
   {
    "duration": 1140,
    "start_time": "2021-10-27T22:43:27.778Z"
   },
   {
    "duration": 1140,
    "start_time": "2021-10-27T22:43:27.779Z"
   },
   {
    "duration": 1140,
    "start_time": "2021-10-27T22:43:27.781Z"
   },
   {
    "duration": 1139,
    "start_time": "2021-10-27T22:43:27.783Z"
   },
   {
    "duration": 1131,
    "start_time": "2021-10-27T22:43:27.792Z"
   },
   {
    "duration": 8,
    "start_time": "2021-10-27T22:44:02.562Z"
   },
   {
    "duration": 126,
    "start_time": "2021-10-27T22:44:04.686Z"
   },
   {
    "duration": 78,
    "start_time": "2021-10-27T22:44:06.480Z"
   },
   {
    "duration": 9,
    "start_time": "2021-10-27T22:44:08.894Z"
   },
   {
    "duration": 6977,
    "start_time": "2021-10-27T23:13:48.344Z"
   },
   {
    "duration": 1554,
    "start_time": "2021-10-27T23:13:55.324Z"
   },
   {
    "duration": 1242,
    "start_time": "2021-10-27T23:13:56.883Z"
   },
   {
    "duration": 26,
    "start_time": "2021-10-27T23:13:58.128Z"
   },
   {
    "duration": 4,
    "start_time": "2021-10-27T23:13:58.156Z"
   },
   {
    "duration": 23,
    "start_time": "2021-10-27T23:13:58.182Z"
   },
   {
    "duration": 8,
    "start_time": "2021-10-27T23:13:58.207Z"
   },
   {
    "duration": 6,
    "start_time": "2021-10-27T23:13:58.219Z"
   },
   {
    "duration": 63,
    "start_time": "2021-10-27T23:13:58.228Z"
   },
   {
    "duration": 5,
    "start_time": "2021-10-27T23:13:58.294Z"
   },
   {
    "duration": 12,
    "start_time": "2021-10-27T23:13:58.302Z"
   },
   {
    "duration": 11,
    "start_time": "2021-10-27T23:13:58.316Z"
   },
   {
    "duration": 14,
    "start_time": "2021-10-27T23:13:58.329Z"
   },
   {
    "duration": 12,
    "start_time": "2021-10-27T23:13:58.382Z"
   },
   {
    "duration": 1098,
    "start_time": "2021-10-27T23:13:58.397Z"
   },
   {
    "duration": 936,
    "start_time": "2021-10-27T23:13:59.498Z"
   },
   {
    "duration": 67,
    "start_time": "2021-10-27T23:14:00.436Z"
   },
   {
    "duration": 18786,
    "start_time": "2021-10-27T23:14:00.506Z"
   },
   {
    "duration": 14,
    "start_time": "2021-10-27T23:14:19.294Z"
   },
   {
    "duration": 1124,
    "start_time": "2021-10-27T23:14:19.310Z"
   },
   {
    "duration": 923,
    "start_time": "2021-10-27T23:14:20.436Z"
   },
   {
    "duration": 28,
    "start_time": "2021-10-27T23:14:21.361Z"
   },
   {
    "duration": 138,
    "start_time": "2021-10-27T23:14:21.393Z"
   },
   {
    "duration": 12,
    "start_time": "2021-10-27T23:14:21.533Z"
   },
   {
    "duration": 3378,
    "start_time": "2021-10-27T23:14:21.547Z"
   },
   {
    "duration": 5,
    "start_time": "2021-10-27T23:14:24.928Z"
   },
   {
    "duration": 6736,
    "start_time": "2021-10-27T23:19:21.515Z"
   },
   {
    "duration": 1581,
    "start_time": "2021-10-27T23:19:28.254Z"
   },
   {
    "duration": 1194,
    "start_time": "2021-10-27T23:19:29.838Z"
   },
   {
    "duration": 32,
    "start_time": "2021-10-27T23:19:31.035Z"
   },
   {
    "duration": 6,
    "start_time": "2021-10-27T23:19:31.083Z"
   },
   {
    "duration": 26,
    "start_time": "2021-10-27T23:19:31.091Z"
   },
   {
    "duration": 9,
    "start_time": "2021-10-27T23:19:31.120Z"
   },
   {
    "duration": 11,
    "start_time": "2021-10-27T23:19:31.133Z"
   },
   {
    "duration": 30,
    "start_time": "2021-10-27T23:19:31.182Z"
   },
   {
    "duration": 7,
    "start_time": "2021-10-27T23:19:31.215Z"
   },
   {
    "duration": 13,
    "start_time": "2021-10-27T23:19:31.225Z"
   },
   {
    "duration": 45,
    "start_time": "2021-10-27T23:19:31.242Z"
   },
   {
    "duration": 15,
    "start_time": "2021-10-27T23:19:31.289Z"
   },
   {
    "duration": 11,
    "start_time": "2021-10-27T23:19:31.306Z"
   },
   {
    "duration": 1183,
    "start_time": "2021-10-27T23:19:31.320Z"
   },
   {
    "duration": 1007,
    "start_time": "2021-10-27T23:19:32.506Z"
   },
   {
    "duration": 34,
    "start_time": "2021-10-27T23:19:33.515Z"
   },
   {
    "duration": 18121,
    "start_time": "2021-10-27T23:19:33.551Z"
   },
   {
    "duration": 18,
    "start_time": "2021-10-27T23:19:51.674Z"
   },
   {
    "duration": 1125,
    "start_time": "2021-10-27T23:19:51.694Z"
   },
   {
    "duration": 922,
    "start_time": "2021-10-27T23:19:52.821Z"
   },
   {
    "duration": 21,
    "start_time": "2021-10-27T23:19:53.746Z"
   },
   {
    "duration": 137,
    "start_time": "2021-10-27T23:19:53.785Z"
   },
   {
    "duration": 9,
    "start_time": "2021-10-27T23:19:53.924Z"
   },
   {
    "duration": 3486,
    "start_time": "2021-10-27T23:19:53.936Z"
   },
   {
    "duration": 5,
    "start_time": "2021-10-27T23:19:57.425Z"
   },
   {
    "duration": 6938,
    "start_time": "2021-10-27T23:22:07.870Z"
   },
   {
    "duration": 1546,
    "start_time": "2021-10-27T23:22:14.812Z"
   },
   {
    "duration": 1187,
    "start_time": "2021-10-27T23:22:16.361Z"
   },
   {
    "duration": 33,
    "start_time": "2021-10-27T23:22:17.550Z"
   },
   {
    "duration": 4,
    "start_time": "2021-10-27T23:22:17.585Z"
   },
   {
    "duration": 24,
    "start_time": "2021-10-27T23:22:17.592Z"
   },
   {
    "duration": 9,
    "start_time": "2021-10-27T23:22:17.618Z"
   },
   {
    "duration": 6,
    "start_time": "2021-10-27T23:22:17.631Z"
   },
   {
    "duration": 64,
    "start_time": "2021-10-27T23:22:17.640Z"
   },
   {
    "duration": 6,
    "start_time": "2021-10-27T23:22:17.706Z"
   },
   {
    "duration": 12,
    "start_time": "2021-10-27T23:22:17.714Z"
   },
   {
    "duration": 12,
    "start_time": "2021-10-27T23:22:17.728Z"
   },
   {
    "duration": 15,
    "start_time": "2021-10-27T23:22:17.783Z"
   },
   {
    "duration": 12,
    "start_time": "2021-10-27T23:22:17.800Z"
   },
   {
    "duration": 1114,
    "start_time": "2021-10-27T23:22:17.814Z"
   },
   {
    "duration": 957,
    "start_time": "2021-10-27T23:22:18.931Z"
   },
   {
    "duration": 34,
    "start_time": "2021-10-27T23:22:19.890Z"
   },
   {
    "duration": 18406,
    "start_time": "2021-10-27T23:22:19.926Z"
   },
   {
    "duration": 13,
    "start_time": "2021-10-27T23:22:38.335Z"
   },
   {
    "duration": 1112,
    "start_time": "2021-10-27T23:22:38.351Z"
   },
   {
    "duration": 936,
    "start_time": "2021-10-27T23:22:39.465Z"
   },
   {
    "duration": 22,
    "start_time": "2021-10-27T23:22:40.404Z"
   },
   {
    "duration": 156,
    "start_time": "2021-10-27T23:22:40.431Z"
   },
   {
    "duration": 13,
    "start_time": "2021-10-27T23:22:40.590Z"
   },
   {
    "duration": 3438,
    "start_time": "2021-10-27T23:22:40.606Z"
   },
   {
    "duration": 6,
    "start_time": "2021-10-27T23:22:44.046Z"
   },
   {
    "duration": 3633,
    "start_time": "2021-10-27T23:23:28.212Z"
   },
   {
    "duration": 2544,
    "start_time": "2021-10-27T23:23:59.133Z"
   },
   {
    "duration": 2576,
    "start_time": "2021-10-27T23:24:51.594Z"
   },
   {
    "duration": 2979,
    "start_time": "2021-10-27T23:25:07.018Z"
   },
   {
    "duration": 2524,
    "start_time": "2021-10-27T23:25:24.733Z"
   },
   {
    "duration": 2548,
    "start_time": "2021-10-27T23:25:36.326Z"
   },
   {
    "duration": 2620,
    "start_time": "2021-10-27T23:25:43.934Z"
   },
   {
    "duration": 2604,
    "start_time": "2021-10-27T23:25:53.559Z"
   },
   {
    "duration": 1455,
    "start_time": "2021-10-27T23:26:44.595Z"
   },
   {
    "duration": 1635,
    "start_time": "2021-10-27T23:29:26.751Z"
   },
   {
    "duration": 1377,
    "start_time": "2021-10-27T23:31:01.042Z"
   },
   {
    "duration": 1425,
    "start_time": "2021-10-27T23:33:30.096Z"
   },
   {
    "duration": 1447,
    "start_time": "2021-10-27T23:33:39.183Z"
   },
   {
    "duration": 1660,
    "start_time": "2021-10-27T23:36:28.245Z"
   },
   {
    "duration": 1527,
    "start_time": "2021-10-27T23:36:46.091Z"
   },
   {
    "duration": 1471,
    "start_time": "2021-10-27T23:38:32.840Z"
   },
   {
    "duration": 1509,
    "start_time": "2021-10-27T23:39:05.368Z"
   },
   {
    "duration": 1483,
    "start_time": "2021-10-27T23:39:17.168Z"
   },
   {
    "duration": 1373,
    "start_time": "2021-10-27T23:39:37.302Z"
   },
   {
    "duration": 1364,
    "start_time": "2021-10-27T23:39:49.967Z"
   },
   {
    "duration": 1473,
    "start_time": "2021-10-27T23:39:58.867Z"
   },
   {
    "duration": 1265,
    "start_time": "2021-10-27T23:44:00.279Z"
   },
   {
    "duration": 89,
    "start_time": "2021-10-27T23:44:30.025Z"
   },
   {
    "duration": 1411,
    "start_time": "2021-10-27T23:45:01.887Z"
   },
   {
    "duration": 1158,
    "start_time": "2021-10-27T23:45:11.424Z"
   },
   {
    "duration": 1400,
    "start_time": "2021-10-27T23:45:23.177Z"
   },
   {
    "duration": 10800,
    "start_time": "2021-10-28T10:54:53.916Z"
   },
   {
    "duration": 1475,
    "start_time": "2021-10-28T10:55:04.719Z"
   },
   {
    "duration": 1023,
    "start_time": "2021-10-28T10:55:06.196Z"
   },
   {
    "duration": 24,
    "start_time": "2021-10-28T10:55:07.221Z"
   },
   {
    "duration": 3,
    "start_time": "2021-10-28T10:55:07.247Z"
   },
   {
    "duration": 23,
    "start_time": "2021-10-28T10:55:07.252Z"
   },
   {
    "duration": 6,
    "start_time": "2021-10-28T10:55:07.276Z"
   },
   {
    "duration": 13,
    "start_time": "2021-10-28T10:55:07.285Z"
   },
   {
    "duration": 20,
    "start_time": "2021-10-28T10:55:07.300Z"
   },
   {
    "duration": 4,
    "start_time": "2021-10-28T10:55:07.321Z"
   },
   {
    "duration": 24,
    "start_time": "2021-10-28T10:55:07.327Z"
   },
   {
    "duration": 8,
    "start_time": "2021-10-28T10:55:07.353Z"
   },
   {
    "duration": 9,
    "start_time": "2021-10-28T10:55:07.363Z"
   },
   {
    "duration": 7,
    "start_time": "2021-10-28T10:55:07.373Z"
   },
   {
    "duration": 765,
    "start_time": "2021-10-28T10:55:07.381Z"
   },
   {
    "duration": 625,
    "start_time": "2021-10-28T10:55:08.147Z"
   },
   {
    "duration": 24,
    "start_time": "2021-10-28T10:55:08.774Z"
   },
   {
    "duration": 10,
    "start_time": "2021-10-28T10:55:23.320Z"
   },
   {
    "duration": 766,
    "start_time": "2021-10-28T10:55:23.332Z"
   },
   {
    "duration": 607,
    "start_time": "2021-10-28T10:55:24.099Z"
   },
   {
    "duration": 16,
    "start_time": "2021-10-28T10:55:24.708Z"
   },
   {
    "duration": 75,
    "start_time": "2021-10-28T10:55:24.727Z"
   },
   {
    "duration": 6,
    "start_time": "2021-10-28T10:55:24.804Z"
   },
   {
    "duration": 748,
    "start_time": "2021-10-28T10:55:24.812Z"
   },
   {
    "duration": 608,
    "start_time": "2021-10-28T10:55:25.562Z"
   },
   {
    "duration": -29356,
    "start_time": "2021-10-28T10:55:55.528Z"
   },
   {
    "duration": 8582,
    "start_time": "2021-10-28T11:00:37.625Z"
   },
   {
    "duration": 1244,
    "start_time": "2021-10-28T11:00:46.209Z"
   },
   {
    "duration": 984,
    "start_time": "2021-10-28T11:00:47.455Z"
   },
   {
    "duration": 16,
    "start_time": "2021-10-28T11:00:48.444Z"
   },
   {
    "duration": 3,
    "start_time": "2021-10-28T11:00:48.462Z"
   },
   {
    "duration": 22,
    "start_time": "2021-10-28T11:00:48.466Z"
   },
   {
    "duration": 6,
    "start_time": "2021-10-28T11:00:48.490Z"
   },
   {
    "duration": 8,
    "start_time": "2021-10-28T11:00:48.498Z"
   },
   {
    "duration": 44,
    "start_time": "2021-10-28T11:00:48.508Z"
   },
   {
    "duration": 4,
    "start_time": "2021-10-28T11:00:48.554Z"
   },
   {
    "duration": 17,
    "start_time": "2021-10-28T11:00:48.559Z"
   },
   {
    "duration": 7,
    "start_time": "2021-10-28T11:00:48.578Z"
   },
   {
    "duration": 9,
    "start_time": "2021-10-28T11:00:48.587Z"
   },
   {
    "duration": 8,
    "start_time": "2021-10-28T11:00:48.598Z"
   },
   {
    "duration": 768,
    "start_time": "2021-10-28T11:00:48.608Z"
   },
   {
    "duration": 657,
    "start_time": "2021-10-28T11:00:49.378Z"
   },
   {
    "duration": 31,
    "start_time": "2021-10-28T11:00:50.037Z"
   },
   {
    "duration": 15077,
    "start_time": "2021-10-28T11:00:50.070Z"
   },
   {
    "duration": 10,
    "start_time": "2021-10-28T11:01:05.149Z"
   },
   {
    "duration": 792,
    "start_time": "2021-10-28T11:01:05.161Z"
   },
   {
    "duration": 707,
    "start_time": "2021-10-28T11:01:05.955Z"
   },
   {
    "duration": 15,
    "start_time": "2021-10-28T11:01:06.663Z"
   },
   {
    "duration": 87,
    "start_time": "2021-10-28T11:01:06.681Z"
   },
   {
    "duration": 7,
    "start_time": "2021-10-28T11:01:06.771Z"
   },
   {
    "duration": 3789,
    "start_time": "2021-10-28T11:01:06.780Z"
   },
   {
    "duration": 757,
    "start_time": "2021-10-28T11:01:10.571Z"
   },
   {
    "duration": 14,
    "start_time": "2021-10-28T11:01:11.330Z"
   },
   {
    "duration": 3853,
    "start_time": "2021-10-28T11:13:52.618Z"
   },
   {
    "duration": 4095,
    "start_time": "2021-10-28T11:14:54.506Z"
   },
   {
    "duration": 826,
    "start_time": "2021-10-28T11:17:41.453Z"
   },
   {
    "duration": 947,
    "start_time": "2021-10-28T11:24:49.123Z"
   },
   {
    "duration": 8028,
    "start_time": "2021-10-28T12:56:53.879Z"
   },
   {
    "duration": 1240,
    "start_time": "2021-10-28T12:57:01.909Z"
   },
   {
    "duration": 1017,
    "start_time": "2021-10-28T12:57:03.151Z"
   },
   {
    "duration": 15,
    "start_time": "2021-10-28T12:57:04.170Z"
   },
   {
    "duration": 3,
    "start_time": "2021-10-28T12:57:04.187Z"
   },
   {
    "duration": 25,
    "start_time": "2021-10-28T12:57:04.191Z"
   },
   {
    "duration": 7,
    "start_time": "2021-10-28T12:57:04.217Z"
   },
   {
    "duration": 21,
    "start_time": "2021-10-28T12:57:04.226Z"
   },
   {
    "duration": 24,
    "start_time": "2021-10-28T12:57:04.250Z"
   },
   {
    "duration": 10,
    "start_time": "2021-10-28T12:57:04.275Z"
   },
   {
    "duration": 27,
    "start_time": "2021-10-28T12:57:04.287Z"
   },
   {
    "duration": 12,
    "start_time": "2021-10-28T12:57:04.316Z"
   },
   {
    "duration": 28,
    "start_time": "2021-10-28T12:57:04.329Z"
   },
   {
    "duration": 9,
    "start_time": "2021-10-28T12:57:04.358Z"
   },
   {
    "duration": 808,
    "start_time": "2021-10-28T12:57:04.369Z"
   },
   {
    "duration": 686,
    "start_time": "2021-10-28T12:57:05.178Z"
   },
   {
    "duration": 24,
    "start_time": "2021-10-28T12:57:05.866Z"
   },
   {
    "duration": 15114,
    "start_time": "2021-10-28T12:57:05.892Z"
   },
   {
    "duration": 10,
    "start_time": "2021-10-28T12:57:21.008Z"
   },
   {
    "duration": 805,
    "start_time": "2021-10-28T12:57:21.019Z"
   },
   {
    "duration": 655,
    "start_time": "2021-10-28T12:57:21.826Z"
   },
   {
    "duration": 19,
    "start_time": "2021-10-28T12:57:22.482Z"
   },
   {
    "duration": 85,
    "start_time": "2021-10-28T12:57:22.504Z"
   },
   {
    "duration": 7,
    "start_time": "2021-10-28T12:57:22.592Z"
   },
   {
    "duration": 3735,
    "start_time": "2021-10-28T12:57:22.601Z"
   },
   {
    "duration": 1039,
    "start_time": "2021-10-28T12:57:26.337Z"
   },
   {
    "duration": 3,
    "start_time": "2021-10-28T12:57:27.378Z"
   },
   {
    "duration": 1189,
    "start_time": "2021-10-28T12:57:27.383Z"
   },
   {
    "duration": 16,
    "start_time": "2021-10-28T12:57:28.573Z"
   },
   {
    "duration": 1189,
    "start_time": "2021-10-28T12:57:28.591Z"
   },
   {
    "duration": 7590,
    "start_time": "2021-10-28T12:57:29.782Z"
   },
   {
    "duration": 1235,
    "start_time": "2021-10-28T12:57:36.139Z"
   },
   {
    "duration": 1228,
    "start_time": "2021-10-28T12:57:36.147Z"
   },
   {
    "duration": 1221,
    "start_time": "2021-10-28T12:57:36.155Z"
   },
   {
    "duration": 1215,
    "start_time": "2021-10-28T12:57:36.163Z"
   },
   {
    "duration": 1209,
    "start_time": "2021-10-28T12:57:36.170Z"
   },
   {
    "duration": 1201,
    "start_time": "2021-10-28T12:57:36.179Z"
   },
   {
    "duration": 1194,
    "start_time": "2021-10-28T12:57:36.187Z"
   },
   {
    "duration": 1187,
    "start_time": "2021-10-28T12:57:36.195Z"
   },
   {
    "duration": 1180,
    "start_time": "2021-10-28T12:57:36.203Z"
   },
   {
    "duration": 1173,
    "start_time": "2021-10-28T12:57:36.211Z"
   },
   {
    "duration": 1163,
    "start_time": "2021-10-28T12:57:36.222Z"
   },
   {
    "duration": 719,
    "start_time": "2021-10-28T13:09:24.092Z"
   },
   {
    "duration": 3,
    "start_time": "2021-10-28T13:09:46.802Z"
   },
   {
    "duration": 1008,
    "start_time": "2021-10-28T13:10:04.772Z"
   },
   {
    "duration": 893,
    "start_time": "2021-10-28T13:10:40.971Z"
   },
   {
    "duration": 900,
    "start_time": "2021-10-28T13:13:44.957Z"
   },
   {
    "duration": 1207,
    "start_time": "2021-10-28T13:16:13.576Z"
   },
   {
    "duration": 1617,
    "start_time": "2021-10-28T13:16:36.527Z"
   },
   {
    "duration": 1309,
    "start_time": "2021-10-28T13:17:13.428Z"
   },
   {
    "duration": 965,
    "start_time": "2021-10-28T13:18:17.789Z"
   },
   {
    "duration": 950,
    "start_time": "2021-10-28T13:18:55.720Z"
   },
   {
    "duration": 349,
    "start_time": "2021-10-28T16:04:16.650Z"
   },
   {
    "duration": 19015,
    "start_time": "2021-10-28T16:04:25.620Z"
   },
   {
    "duration": 1612,
    "start_time": "2021-10-28T16:04:44.638Z"
   },
   {
    "duration": 1452,
    "start_time": "2021-10-28T16:04:46.254Z"
   },
   {
    "duration": 39,
    "start_time": "2021-10-28T16:04:47.710Z"
   },
   {
    "duration": 6,
    "start_time": "2021-10-28T16:04:47.752Z"
   },
   {
    "duration": 29,
    "start_time": "2021-10-28T16:04:47.762Z"
   },
   {
    "duration": 30,
    "start_time": "2021-10-28T16:04:47.794Z"
   },
   {
    "duration": 7,
    "start_time": "2021-10-28T16:04:47.830Z"
   },
   {
    "duration": 29,
    "start_time": "2021-10-28T16:04:47.841Z"
   },
   {
    "duration": 8,
    "start_time": "2021-10-28T16:04:47.873Z"
   },
   {
    "duration": 13,
    "start_time": "2021-10-28T16:04:47.924Z"
   },
   {
    "duration": 12,
    "start_time": "2021-10-28T16:04:47.939Z"
   },
   {
    "duration": 23,
    "start_time": "2021-10-28T16:04:47.954Z"
   },
   {
    "duration": 11,
    "start_time": "2021-10-28T16:04:48.023Z"
   },
   {
    "duration": 1179,
    "start_time": "2021-10-28T16:04:48.037Z"
   },
   {
    "duration": 1194,
    "start_time": "2021-10-28T16:04:49.222Z"
   },
   {
    "duration": 32,
    "start_time": "2021-10-28T16:04:50.422Z"
   },
   {
    "duration": 20218,
    "start_time": "2021-10-28T16:04:50.456Z"
   },
   {
    "duration": 13,
    "start_time": "2021-10-28T16:05:10.676Z"
   },
   {
    "duration": 1131,
    "start_time": "2021-10-28T16:05:10.691Z"
   },
   {
    "duration": 906,
    "start_time": "2021-10-28T16:05:11.825Z"
   },
   {
    "duration": 22,
    "start_time": "2021-10-28T16:05:12.734Z"
   },
   {
    "duration": 161,
    "start_time": "2021-10-28T16:05:12.761Z"
   },
   {
    "duration": 10,
    "start_time": "2021-10-28T16:05:12.925Z"
   },
   {
    "duration": 1879,
    "start_time": "2021-10-28T16:05:12.938Z"
   },
   {
    "duration": -1095,
    "start_time": "2021-10-28T16:05:15.918Z"
   },
   {
    "duration": -1103,
    "start_time": "2021-10-28T16:05:15.928Z"
   },
   {
    "duration": -1104,
    "start_time": "2021-10-28T16:05:15.931Z"
   },
   {
    "duration": -1251,
    "start_time": "2021-10-28T16:05:16.079Z"
   },
   {
    "duration": -1252,
    "start_time": "2021-10-28T16:05:16.082Z"
   },
   {
    "duration": -1254,
    "start_time": "2021-10-28T16:05:16.086Z"
   },
   {
    "duration": -1256,
    "start_time": "2021-10-28T16:05:16.089Z"
   },
   {
    "duration": -1257,
    "start_time": "2021-10-28T16:05:16.092Z"
   },
   {
    "duration": -1257,
    "start_time": "2021-10-28T16:05:16.094Z"
   },
   {
    "duration": -1259,
    "start_time": "2021-10-28T16:05:16.097Z"
   },
   {
    "duration": -1260,
    "start_time": "2021-10-28T16:05:16.100Z"
   },
   {
    "duration": -1262,
    "start_time": "2021-10-28T16:05:16.104Z"
   },
   {
    "duration": -1265,
    "start_time": "2021-10-28T16:05:16.108Z"
   },
   {
    "duration": -1266,
    "start_time": "2021-10-28T16:05:16.111Z"
   },
   {
    "duration": -1267,
    "start_time": "2021-10-28T16:05:16.113Z"
   },
   {
    "duration": -1267,
    "start_time": "2021-10-28T16:05:16.115Z"
   },
   {
    "duration": -1277,
    "start_time": "2021-10-28T16:05:16.126Z"
   },
   {
    "duration": -1435,
    "start_time": "2021-10-28T16:05:16.286Z"
   },
   {
    "duration": 6,
    "start_time": "2021-10-28T16:06:09.214Z"
   },
   {
    "duration": 2948,
    "start_time": "2021-10-28T16:06:58.131Z"
   },
   {
    "duration": 4776,
    "start_time": "2021-10-28T16:07:15.375Z"
   },
   {
    "duration": 1350,
    "start_time": "2021-10-28T16:36:22.621Z"
   },
   {
    "duration": 1282,
    "start_time": "2021-10-28T16:40:37.496Z"
   },
   {
    "duration": 1214,
    "start_time": "2021-10-28T16:41:34.394Z"
   },
   {
    "duration": 1578,
    "start_time": "2021-10-28T16:50:32.530Z"
   },
   {
    "duration": 1227,
    "start_time": "2021-10-28T16:56:36.375Z"
   },
   {
    "duration": 100,
    "start_time": "2021-10-28T16:57:24.992Z"
   },
   {
    "duration": 1257,
    "start_time": "2021-10-28T16:57:30.816Z"
   },
   {
    "duration": 1188,
    "start_time": "2021-10-28T17:10:17.078Z"
   },
   {
    "duration": 1431,
    "start_time": "2021-10-28T17:40:40.614Z"
   },
   {
    "duration": 815,
    "start_time": "2021-10-28T17:40:48.926Z"
   },
   {
    "duration": 5,
    "start_time": "2021-10-28T17:40:57.068Z"
   },
   {
    "duration": 1088,
    "start_time": "2021-10-28T17:41:00.323Z"
   },
   {
    "duration": 1320,
    "start_time": "2021-10-28T17:44:56.035Z"
   },
   {
    "duration": 1402,
    "start_time": "2021-10-28T17:45:11.677Z"
   },
   {
    "duration": 1621,
    "start_time": "2021-10-28T18:08:45.284Z"
   },
   {
    "duration": 1392,
    "start_time": "2021-10-28T18:09:02.097Z"
   },
   {
    "duration": 1441,
    "start_time": "2021-10-28T18:09:54.028Z"
   },
   {
    "duration": 1270,
    "start_time": "2021-10-28T18:12:02.117Z"
   },
   {
    "duration": 21,
    "start_time": "2021-10-28T18:16:42.547Z"
   },
   {
    "duration": 19,
    "start_time": "2021-10-28T18:16:52.591Z"
   },
   {
    "duration": 21,
    "start_time": "2021-10-28T18:17:23.704Z"
   },
   {
    "duration": 299,
    "start_time": "2021-10-28T18:17:36.551Z"
   },
   {
    "duration": 322,
    "start_time": "2021-10-28T18:17:47.400Z"
   },
   {
    "duration": 21,
    "start_time": "2021-10-28T18:18:00.559Z"
   },
   {
    "duration": 31,
    "start_time": "2021-10-28T18:54:41.947Z"
   },
   {
    "duration": 34,
    "start_time": "2021-10-28T19:06:00.003Z"
   },
   {
    "duration": 594,
    "start_time": "2021-10-28T19:06:23.201Z"
   },
   {
    "duration": 1511,
    "start_time": "2021-10-28T19:07:59.456Z"
   },
   {
    "duration": 30,
    "start_time": "2021-10-28T19:10:15.211Z"
   },
   {
    "duration": 1688,
    "start_time": "2021-10-28T19:10:17.768Z"
   },
   {
    "duration": 31,
    "start_time": "2021-10-28T19:11:08.215Z"
   },
   {
    "duration": 1355,
    "start_time": "2021-10-28T19:11:10.136Z"
   },
   {
    "duration": 96,
    "start_time": "2021-10-28T19:20:04.626Z"
   },
   {
    "duration": 335,
    "start_time": "2021-10-28T19:21:30.755Z"
   },
   {
    "duration": 103,
    "start_time": "2021-10-28T19:21:52.069Z"
   },
   {
    "duration": 100,
    "start_time": "2021-10-28T19:22:02.012Z"
   },
   {
    "duration": 97,
    "start_time": "2021-10-28T19:22:42.988Z"
   },
   {
    "duration": 25,
    "start_time": "2021-10-28T19:23:03.774Z"
   },
   {
    "duration": 28,
    "start_time": "2021-10-28T19:23:11.822Z"
   },
   {
    "duration": 383,
    "start_time": "2021-10-28T19:23:47.672Z"
   },
   {
    "duration": 304,
    "start_time": "2021-10-28T19:24:37.999Z"
   },
   {
    "duration": 39,
    "start_time": "2021-10-28T19:25:14.920Z"
   },
   {
    "duration": 26,
    "start_time": "2021-10-28T19:26:17.056Z"
   },
   {
    "duration": 1586,
    "start_time": "2021-10-28T19:26:20.285Z"
   },
   {
    "duration": 26,
    "start_time": "2021-10-28T19:27:03.885Z"
   },
   {
    "duration": 1707,
    "start_time": "2021-10-28T19:27:06.069Z"
   },
   {
    "duration": 30,
    "start_time": "2021-10-28T19:27:31.420Z"
   },
   {
    "duration": 30,
    "start_time": "2021-10-28T19:27:58.632Z"
   },
   {
    "duration": 300,
    "start_time": "2021-10-28T19:28:37.688Z"
   },
   {
    "duration": 7097,
    "start_time": "2021-10-28T19:28:51.191Z"
   },
   {
    "duration": 15,
    "start_time": "2021-10-28T19:29:51.976Z"
   },
   {
    "duration": 9,
    "start_time": "2021-10-28T19:30:01.588Z"
   },
   {
    "duration": 324,
    "start_time": "2021-10-28T19:30:38.290Z"
   },
   {
    "duration": 11,
    "start_time": "2021-10-28T19:30:51.102Z"
   },
   {
    "duration": 34,
    "start_time": "2021-10-28T19:35:15.516Z"
   },
   {
    "duration": 1667,
    "start_time": "2021-10-28T19:35:22.690Z"
   },
   {
    "duration": 24742,
    "start_time": "2021-10-29T07:17:05.627Z"
   },
   {
    "duration": 1631,
    "start_time": "2021-10-29T07:17:30.372Z"
   },
   {
    "duration": 1235,
    "start_time": "2021-10-29T07:17:32.006Z"
   },
   {
    "duration": 36,
    "start_time": "2021-10-29T07:17:33.244Z"
   },
   {
    "duration": 36,
    "start_time": "2021-10-29T07:17:33.283Z"
   },
   {
    "duration": 5,
    "start_time": "2021-10-29T07:17:33.322Z"
   },
   {
    "duration": 31,
    "start_time": "2021-10-29T07:17:33.329Z"
   },
   {
    "duration": 6,
    "start_time": "2021-10-29T07:17:33.364Z"
   },
   {
    "duration": 7,
    "start_time": "2021-10-29T07:17:33.402Z"
   },
   {
    "duration": 29,
    "start_time": "2021-10-29T07:17:33.411Z"
   },
   {
    "duration": 7,
    "start_time": "2021-10-29T07:17:33.442Z"
   },
   {
    "duration": 55,
    "start_time": "2021-10-29T07:17:33.451Z"
   },
   {
    "duration": 9,
    "start_time": "2021-10-29T07:17:33.509Z"
   },
   {
    "duration": 12,
    "start_time": "2021-10-29T07:17:33.521Z"
   },
   {
    "duration": 11,
    "start_time": "2021-10-29T07:17:33.536Z"
   },
   {
    "duration": 1224,
    "start_time": "2021-10-29T07:17:33.550Z"
   },
   {
    "duration": 1126,
    "start_time": "2021-10-29T07:17:34.776Z"
   },
   {
    "duration": 48,
    "start_time": "2021-10-29T07:17:35.904Z"
   },
   {
    "duration": 19147,
    "start_time": "2021-10-29T07:17:35.954Z"
   },
   {
    "duration": 15,
    "start_time": "2021-10-29T07:17:55.103Z"
   },
   {
    "duration": 1289,
    "start_time": "2021-10-29T07:17:55.120Z"
   },
   {
    "duration": 931,
    "start_time": "2021-10-29T07:17:56.411Z"
   },
   {
    "duration": 23,
    "start_time": "2021-10-29T07:17:57.346Z"
   },
   {
    "duration": 160,
    "start_time": "2021-10-29T07:17:57.372Z"
   },
   {
    "duration": 4742,
    "start_time": "2021-10-29T07:17:57.534Z"
   },
   {
    "duration": 1176,
    "start_time": "2021-10-29T07:18:02.278Z"
   },
   {
    "duration": 1294,
    "start_time": "2021-10-29T07:18:03.457Z"
   },
   {
    "duration": 30,
    "start_time": "2021-10-29T07:18:04.753Z"
   },
   {
    "duration": 1267,
    "start_time": "2021-10-29T07:18:04.786Z"
   },
   {
    "duration": 525,
    "start_time": "2021-10-29T07:18:06.055Z"
   },
   {
    "duration": -263,
    "start_time": "2021-10-29T07:18:06.846Z"
   },
   {
    "duration": -265,
    "start_time": "2021-10-29T07:18:06.849Z"
   },
   {
    "duration": -267,
    "start_time": "2021-10-29T07:18:06.852Z"
   },
   {
    "duration": -267,
    "start_time": "2021-10-29T07:18:06.854Z"
   },
   {
    "duration": -267,
    "start_time": "2021-10-29T07:18:06.856Z"
   },
   {
    "duration": -268,
    "start_time": "2021-10-29T07:18:06.858Z"
   },
   {
    "duration": -269,
    "start_time": "2021-10-29T07:18:06.861Z"
   },
   {
    "duration": -273,
    "start_time": "2021-10-29T07:18:06.866Z"
   },
   {
    "duration": -275,
    "start_time": "2021-10-29T07:18:06.869Z"
   },
   {
    "duration": -275,
    "start_time": "2021-10-29T07:18:06.871Z"
   },
   {
    "duration": -277,
    "start_time": "2021-10-29T07:18:06.874Z"
   },
   {
    "duration": -279,
    "start_time": "2021-10-29T07:18:06.877Z"
   },
   {
    "duration": 360,
    "start_time": "2021-10-29T07:34:45.678Z"
   },
   {
    "duration": 11543,
    "start_time": "2021-10-29T07:34:57.510Z"
   },
   {
    "duration": 1632,
    "start_time": "2021-10-29T07:35:09.056Z"
   },
   {
    "duration": 1416,
    "start_time": "2021-10-29T07:35:10.691Z"
   },
   {
    "duration": 37,
    "start_time": "2021-10-29T07:35:12.109Z"
   },
   {
    "duration": 24,
    "start_time": "2021-10-29T07:35:12.149Z"
   },
   {
    "duration": 4,
    "start_time": "2021-10-29T07:35:12.176Z"
   },
   {
    "duration": 41,
    "start_time": "2021-10-29T07:35:12.182Z"
   },
   {
    "duration": 6,
    "start_time": "2021-10-29T07:35:12.227Z"
   },
   {
    "duration": 8,
    "start_time": "2021-10-29T07:35:12.236Z"
   },
   {
    "duration": 37,
    "start_time": "2021-10-29T07:35:12.246Z"
   },
   {
    "duration": 5,
    "start_time": "2021-10-29T07:35:12.285Z"
   },
   {
    "duration": 11,
    "start_time": "2021-10-29T07:35:12.293Z"
   },
   {
    "duration": 12,
    "start_time": "2021-10-29T07:35:12.306Z"
   },
   {
    "duration": 12,
    "start_time": "2021-10-29T07:35:12.320Z"
   },
   {
    "duration": 14,
    "start_time": "2021-10-29T07:35:12.334Z"
   },
   {
    "duration": 1298,
    "start_time": "2021-10-29T07:35:12.350Z"
   },
   {
    "duration": 1010,
    "start_time": "2021-10-29T07:35:13.651Z"
   },
   {
    "duration": 59,
    "start_time": "2021-10-29T07:35:14.663Z"
   },
   {
    "duration": 19219,
    "start_time": "2021-10-29T07:35:14.724Z"
   },
   {
    "duration": 13,
    "start_time": "2021-10-29T07:35:33.946Z"
   },
   {
    "duration": 1201,
    "start_time": "2021-10-29T07:35:33.961Z"
   },
   {
    "duration": 940,
    "start_time": "2021-10-29T07:35:35.165Z"
   },
   {
    "duration": 20,
    "start_time": "2021-10-29T07:35:36.110Z"
   },
   {
    "duration": 153,
    "start_time": "2021-10-29T07:35:36.133Z"
   },
   {
    "duration": 4859,
    "start_time": "2021-10-29T07:35:36.289Z"
   },
   {
    "duration": 1173,
    "start_time": "2021-10-29T07:35:41.150Z"
   },
   {
    "duration": 1326,
    "start_time": "2021-10-29T07:35:42.325Z"
   },
   {
    "duration": 28,
    "start_time": "2021-10-29T07:35:43.653Z"
   },
   {
    "duration": 1378,
    "start_time": "2021-10-29T07:35:43.684Z"
   },
   {
    "duration": 3,
    "start_time": "2021-10-29T07:35:45.065Z"
   },
   {
    "duration": 561,
    "start_time": "2021-10-29T07:35:45.071Z"
   },
   {
    "duration": -430,
    "start_time": "2021-10-29T07:35:46.065Z"
   },
   {
    "duration": -432,
    "start_time": "2021-10-29T07:35:46.068Z"
   },
   {
    "duration": -433,
    "start_time": "2021-10-29T07:35:46.071Z"
   },
   {
    "duration": -435,
    "start_time": "2021-10-29T07:35:46.074Z"
   },
   {
    "duration": -435,
    "start_time": "2021-10-29T07:35:46.076Z"
   },
   {
    "duration": -437,
    "start_time": "2021-10-29T07:35:46.079Z"
   },
   {
    "duration": -437,
    "start_time": "2021-10-29T07:35:46.081Z"
   },
   {
    "duration": -438,
    "start_time": "2021-10-29T07:35:46.083Z"
   },
   {
    "duration": -438,
    "start_time": "2021-10-29T07:35:46.084Z"
   },
   {
    "duration": -438,
    "start_time": "2021-10-29T07:35:46.086Z"
   },
   {
    "duration": -439,
    "start_time": "2021-10-29T07:35:46.088Z"
   },
   {
    "duration": -440,
    "start_time": "2021-10-29T07:35:46.091Z"
   },
   {
    "duration": -441,
    "start_time": "2021-10-29T07:35:46.093Z"
   },
   {
    "duration": 180,
    "start_time": "2021-10-29T07:37:37.614Z"
   },
   {
    "duration": 131,
    "start_time": "2021-10-29T07:38:47.777Z"
   },
   {
    "duration": 7,
    "start_time": "2021-10-29T07:52:30.321Z"
   },
   {
    "duration": 10,
    "start_time": "2021-10-29T07:55:37.125Z"
   },
   {
    "duration": 8875,
    "start_time": "2021-10-29T07:55:38.812Z"
   },
   {
    "duration": 393,
    "start_time": "2021-10-29T07:56:22.001Z"
   },
   {
    "duration": 15,
    "start_time": "2021-10-29T07:59:03.233Z"
   },
   {
    "duration": 9493,
    "start_time": "2021-10-29T07:59:23.832Z"
   },
   {
    "duration": 15,
    "start_time": "2021-10-29T07:59:57.495Z"
   },
   {
    "duration": 14,
    "start_time": "2021-10-29T08:00:08.269Z"
   },
   {
    "duration": 392,
    "start_time": "2021-10-29T08:00:24.021Z"
   },
   {
    "duration": 409,
    "start_time": "2021-10-29T08:00:46.911Z"
   },
   {
    "duration": 12,
    "start_time": "2021-10-29T08:01:01.459Z"
   },
   {
    "duration": 5,
    "start_time": "2021-10-29T08:04:55.828Z"
   },
   {
    "duration": 11292,
    "start_time": "2021-10-29T08:09:53.086Z"
   },
   {
    "duration": 1673,
    "start_time": "2021-10-29T08:10:04.381Z"
   },
   {
    "duration": 1239,
    "start_time": "2021-10-29T08:10:06.057Z"
   },
   {
    "duration": 42,
    "start_time": "2021-10-29T08:10:07.301Z"
   },
   {
    "duration": 29,
    "start_time": "2021-10-29T08:10:07.346Z"
   },
   {
    "duration": 4,
    "start_time": "2021-10-29T08:10:07.401Z"
   },
   {
    "duration": 27,
    "start_time": "2021-10-29T08:10:07.408Z"
   },
   {
    "duration": 7,
    "start_time": "2021-10-29T08:10:07.439Z"
   },
   {
    "duration": 11,
    "start_time": "2021-10-29T08:10:07.449Z"
   },
   {
    "duration": 58,
    "start_time": "2021-10-29T08:10:07.463Z"
   },
   {
    "duration": 6,
    "start_time": "2021-10-29T08:10:07.523Z"
   },
   {
    "duration": 12,
    "start_time": "2021-10-29T08:10:07.531Z"
   },
   {
    "duration": 9,
    "start_time": "2021-10-29T08:10:07.546Z"
   },
   {
    "duration": 55,
    "start_time": "2021-10-29T08:10:07.557Z"
   },
   {
    "duration": 10,
    "start_time": "2021-10-29T08:10:07.615Z"
   },
   {
    "duration": 1215,
    "start_time": "2021-10-29T08:10:07.628Z"
   },
   {
    "duration": 1042,
    "start_time": "2021-10-29T08:10:08.846Z"
   },
   {
    "duration": 57,
    "start_time": "2021-10-29T08:10:09.891Z"
   },
   {
    "duration": 19253,
    "start_time": "2021-10-29T08:10:09.951Z"
   },
   {
    "duration": 13,
    "start_time": "2021-10-29T08:10:29.206Z"
   },
   {
    "duration": 1215,
    "start_time": "2021-10-29T08:10:29.222Z"
   },
   {
    "duration": 1004,
    "start_time": "2021-10-29T08:10:30.440Z"
   },
   {
    "duration": 23,
    "start_time": "2021-10-29T08:10:31.450Z"
   },
   {
    "duration": 161,
    "start_time": "2021-10-29T08:10:31.476Z"
   },
   {
    "duration": 4807,
    "start_time": "2021-10-29T08:10:31.640Z"
   },
   {
    "duration": 1254,
    "start_time": "2021-10-29T08:10:36.449Z"
   },
   {
    "duration": 1349,
    "start_time": "2021-10-29T08:10:37.706Z"
   },
   {
    "duration": 30,
    "start_time": "2021-10-29T08:10:39.057Z"
   },
   {
    "duration": 1385,
    "start_time": "2021-10-29T08:10:39.089Z"
   },
   {
    "duration": 4,
    "start_time": "2021-10-29T08:10:40.477Z"
   },
   {
    "duration": 154,
    "start_time": "2021-10-29T08:10:40.483Z"
   },
   {
    "duration": 6,
    "start_time": "2021-10-29T08:10:40.639Z"
   },
   {
    "duration": 11,
    "start_time": "2021-10-29T08:10:40.648Z"
   },
   {
    "duration": 39,
    "start_time": "2021-10-29T08:10:40.662Z"
   },
   {
    "duration": 5,
    "start_time": "2021-10-29T08:10:40.703Z"
   },
   {
    "duration": 10,
    "start_time": "2021-10-29T08:10:40.711Z"
   },
   {
    "duration": 769,
    "start_time": "2021-10-29T08:10:40.723Z"
   },
   {
    "duration": 610,
    "start_time": "2021-10-29T08:10:41.495Z"
   },
   {
    "duration": 630,
    "start_time": "2021-10-29T08:10:42.108Z"
   },
   {
    "duration": 603,
    "start_time": "2021-10-29T08:10:42.740Z"
   },
   {
    "duration": 361,
    "start_time": "2021-10-29T08:10:43.346Z"
   },
   {
    "duration": -209,
    "start_time": "2021-10-29T08:10:43.919Z"
   },
   {
    "duration": -211,
    "start_time": "2021-10-29T08:10:43.922Z"
   },
   {
    "duration": 10452,
    "start_time": "2021-10-29T08:31:48.913Z"
   },
   {
    "duration": 15133,
    "start_time": "2021-10-29T08:32:38.239Z"
   },
   {
    "duration": 10945,
    "start_time": "2021-10-29T08:35:52.045Z"
   },
   {
    "duration": 11304,
    "start_time": "2021-10-29T08:37:54.138Z"
   },
   {
    "duration": 1561,
    "start_time": "2021-10-29T08:38:05.445Z"
   },
   {
    "duration": 1240,
    "start_time": "2021-10-29T08:38:07.009Z"
   },
   {
    "duration": 50,
    "start_time": "2021-10-29T08:38:08.252Z"
   },
   {
    "duration": 25,
    "start_time": "2021-10-29T08:38:08.305Z"
   },
   {
    "duration": 4,
    "start_time": "2021-10-29T08:38:08.333Z"
   },
   {
    "duration": 26,
    "start_time": "2021-10-29T08:38:08.340Z"
   },
   {
    "duration": 36,
    "start_time": "2021-10-29T08:38:08.370Z"
   },
   {
    "duration": 6,
    "start_time": "2021-10-29T08:38:08.409Z"
   },
   {
    "duration": 30,
    "start_time": "2021-10-29T08:38:08.418Z"
   },
   {
    "duration": 7,
    "start_time": "2021-10-29T08:38:08.450Z"
   },
   {
    "duration": 46,
    "start_time": "2021-10-29T08:38:08.459Z"
   },
   {
    "duration": 10,
    "start_time": "2021-10-29T08:38:08.507Z"
   },
   {
    "duration": 13,
    "start_time": "2021-10-29T08:38:08.520Z"
   },
   {
    "duration": 11,
    "start_time": "2021-10-29T08:38:08.535Z"
   },
   {
    "duration": 1196,
    "start_time": "2021-10-29T08:38:08.549Z"
   },
   {
    "duration": 1010,
    "start_time": "2021-10-29T08:38:09.747Z"
   },
   {
    "duration": 61,
    "start_time": "2021-10-29T08:38:10.759Z"
   },
   {
    "duration": 19421,
    "start_time": "2021-10-29T08:38:10.822Z"
   },
   {
    "duration": 15,
    "start_time": "2021-10-29T08:38:30.246Z"
   },
   {
    "duration": 1148,
    "start_time": "2021-10-29T08:38:30.263Z"
   },
   {
    "duration": 941,
    "start_time": "2021-10-29T08:38:31.414Z"
   },
   {
    "duration": 22,
    "start_time": "2021-10-29T08:38:32.362Z"
   },
   {
    "duration": 144,
    "start_time": "2021-10-29T08:38:32.402Z"
   },
   {
    "duration": 4812,
    "start_time": "2021-10-29T08:38:32.549Z"
   },
   {
    "duration": 1186,
    "start_time": "2021-10-29T08:38:37.363Z"
   },
   {
    "duration": 1405,
    "start_time": "2021-10-29T08:38:38.551Z"
   },
   {
    "duration": 26,
    "start_time": "2021-10-29T08:38:39.959Z"
   },
   {
    "duration": 1369,
    "start_time": "2021-10-29T08:38:39.988Z"
   },
   {
    "duration": 4,
    "start_time": "2021-10-29T08:38:41.359Z"
   },
   {
    "duration": 127,
    "start_time": "2021-10-29T08:38:41.365Z"
   },
   {
    "duration": 10,
    "start_time": "2021-10-29T08:38:41.495Z"
   },
   {
    "duration": 14,
    "start_time": "2021-10-29T08:38:41.507Z"
   },
   {
    "duration": 14,
    "start_time": "2021-10-29T08:38:41.524Z"
   },
   {
    "duration": 5,
    "start_time": "2021-10-29T08:38:41.541Z"
   },
   {
    "duration": 8,
    "start_time": "2021-10-29T08:38:41.549Z"
   },
   {
    "duration": 11087,
    "start_time": "2021-10-29T08:38:41.559Z"
   },
   {
    "duration": 783,
    "start_time": "2021-10-29T08:38:52.648Z"
   },
   {
    "duration": 645,
    "start_time": "2021-10-29T08:38:53.433Z"
   },
   {
    "duration": 609,
    "start_time": "2021-10-29T08:38:54.082Z"
   },
   {
    "duration": 388,
    "start_time": "2021-10-29T08:38:54.694Z"
   },
   {
    "duration": -189,
    "start_time": "2021-10-29T08:38:55.275Z"
   },
   {
    "duration": -306,
    "start_time": "2021-10-29T08:38:55.394Z"
   },
   {
    "duration": 20676,
    "start_time": "2021-10-30T10:22:50.315Z"
   },
   {
    "duration": 1288,
    "start_time": "2021-10-30T10:23:10.993Z"
   },
   {
    "duration": 1016,
    "start_time": "2021-10-30T10:23:12.283Z"
   },
   {
    "duration": 23,
    "start_time": "2021-10-30T10:23:13.301Z"
   },
   {
    "duration": 15,
    "start_time": "2021-10-30T10:23:13.326Z"
   },
   {
    "duration": 3,
    "start_time": "2021-10-30T10:23:13.342Z"
   },
   {
    "duration": 39,
    "start_time": "2021-10-30T10:23:13.347Z"
   },
   {
    "duration": 4,
    "start_time": "2021-10-30T10:23:13.388Z"
   },
   {
    "duration": 18,
    "start_time": "2021-10-30T10:23:13.394Z"
   },
   {
    "duration": 23,
    "start_time": "2021-10-30T10:23:13.413Z"
   },
   {
    "duration": 4,
    "start_time": "2021-10-30T10:23:13.438Z"
   },
   {
    "duration": 17,
    "start_time": "2021-10-30T10:23:13.444Z"
   },
   {
    "duration": 16,
    "start_time": "2021-10-30T10:23:13.462Z"
   },
   {
    "duration": 10,
    "start_time": "2021-10-30T10:23:13.479Z"
   },
   {
    "duration": 8,
    "start_time": "2021-10-30T10:23:13.490Z"
   },
   {
    "duration": 821,
    "start_time": "2021-10-30T10:23:13.499Z"
   },
   {
    "duration": 662,
    "start_time": "2021-10-30T10:23:14.322Z"
   },
   {
    "duration": 41,
    "start_time": "2021-10-30T10:23:14.986Z"
   },
   {
    "duration": 15047,
    "start_time": "2021-10-30T10:23:15.029Z"
   },
   {
    "duration": 10,
    "start_time": "2021-10-30T10:23:30.078Z"
   },
   {
    "duration": 774,
    "start_time": "2021-10-30T10:23:30.089Z"
   },
   {
    "duration": 628,
    "start_time": "2021-10-30T10:23:30.864Z"
   },
   {
    "duration": 16,
    "start_time": "2021-10-30T10:23:31.495Z"
   },
   {
    "duration": 90,
    "start_time": "2021-10-30T10:23:31.513Z"
   },
   {
    "duration": 3779,
    "start_time": "2021-10-30T10:23:31.604Z"
   },
   {
    "duration": 870,
    "start_time": "2021-10-30T10:23:35.386Z"
   },
   {
    "duration": 1785,
    "start_time": "2021-10-30T10:23:36.258Z"
   },
   {
    "duration": 22,
    "start_time": "2021-10-30T10:23:38.045Z"
   },
   {
    "duration": 1182,
    "start_time": "2021-10-30T10:23:38.077Z"
   },
   {
    "duration": 2,
    "start_time": "2021-10-30T10:23:39.261Z"
   },
   {
    "duration": 103,
    "start_time": "2021-10-30T10:23:39.265Z"
   },
   {
    "duration": 8,
    "start_time": "2021-10-30T10:23:39.369Z"
   },
   {
    "duration": 9,
    "start_time": "2021-10-30T10:23:39.379Z"
   },
   {
    "duration": 10,
    "start_time": "2021-10-30T10:23:39.389Z"
   },
   {
    "duration": 5,
    "start_time": "2021-10-30T10:23:39.401Z"
   },
   {
    "duration": 6,
    "start_time": "2021-10-30T10:23:39.408Z"
   },
   {
    "duration": 8571,
    "start_time": "2021-10-30T10:23:39.415Z"
   },
   {
    "duration": 646,
    "start_time": "2021-10-30T10:23:47.988Z"
   },
   {
    "duration": 564,
    "start_time": "2021-10-30T10:23:48.635Z"
   },
   {
    "duration": 570,
    "start_time": "2021-10-30T10:23:49.201Z"
   },
   {
    "duration": 347,
    "start_time": "2021-10-30T10:23:49.773Z"
   },
   {
    "duration": 608,
    "start_time": "2021-10-30T10:23:49.514Z"
   },
   {
    "duration": 601,
    "start_time": "2021-10-30T10:23:49.522Z"
   },
   {
    "duration": 378,
    "start_time": "2021-10-30T10:25:01.959Z"
   },
   {
    "duration": 4,
    "start_time": "2021-10-30T10:25:06.497Z"
   },
   {
    "duration": 4,
    "start_time": "2021-10-30T10:25:16.334Z"
   },
   {
    "duration": 152916,
    "start_time": "2021-10-30T10:29:20.375Z"
   },
   {
    "duration": 331,
    "start_time": "2021-10-30T10:41:27.523Z"
   },
   {
    "duration": 7,
    "start_time": "2021-10-30T10:42:12.363Z"
   },
   {
    "duration": 8689,
    "start_time": "2021-10-30T10:44:24.365Z"
   },
   {
    "duration": 1693,
    "start_time": "2021-10-30T10:44:33.057Z"
   },
   {
    "duration": 1444,
    "start_time": "2021-10-30T10:44:34.752Z"
   },
   {
    "duration": 35,
    "start_time": "2021-10-30T10:44:36.199Z"
   },
   {
    "duration": 41,
    "start_time": "2021-10-30T10:44:36.236Z"
   },
   {
    "duration": 4,
    "start_time": "2021-10-30T10:44:36.279Z"
   },
   {
    "duration": 36,
    "start_time": "2021-10-30T10:44:36.285Z"
   },
   {
    "duration": 6,
    "start_time": "2021-10-30T10:44:36.324Z"
   },
   {
    "duration": 7,
    "start_time": "2021-10-30T10:44:36.333Z"
   },
   {
    "duration": 20,
    "start_time": "2021-10-30T10:44:36.342Z"
   },
   {
    "duration": 4,
    "start_time": "2021-10-30T10:44:36.376Z"
   },
   {
    "duration": 10,
    "start_time": "2021-10-30T10:44:36.382Z"
   },
   {
    "duration": 7,
    "start_time": "2021-10-30T10:44:36.394Z"
   },
   {
    "duration": 9,
    "start_time": "2021-10-30T10:44:36.402Z"
   },
   {
    "duration": 7,
    "start_time": "2021-10-30T10:44:36.413Z"
   },
   {
    "duration": 841,
    "start_time": "2021-10-30T10:44:36.422Z"
   },
   {
    "duration": 714,
    "start_time": "2021-10-30T10:44:37.265Z"
   },
   {
    "duration": 37,
    "start_time": "2021-10-30T10:44:37.981Z"
   },
   {
    "duration": 16115,
    "start_time": "2021-10-30T10:44:38.020Z"
   },
   {
    "duration": 11,
    "start_time": "2021-10-30T10:44:54.138Z"
   },
   {
    "duration": 850,
    "start_time": "2021-10-30T10:44:54.151Z"
   },
   {
    "duration": 834,
    "start_time": "2021-10-30T10:44:55.003Z"
   },
   {
    "duration": 21,
    "start_time": "2021-10-30T10:44:55.843Z"
   },
   {
    "duration": 86,
    "start_time": "2021-10-30T10:44:55.878Z"
   },
   {
    "duration": 5421,
    "start_time": "2021-10-30T10:44:55.976Z"
   },
   {
    "duration": 982,
    "start_time": "2021-10-30T10:45:01.399Z"
   },
   {
    "duration": 1178,
    "start_time": "2021-10-30T10:45:02.383Z"
   },
   {
    "duration": 26,
    "start_time": "2021-10-30T10:45:03.563Z"
   },
   {
    "duration": 1162,
    "start_time": "2021-10-30T10:45:03.590Z"
   },
   {
    "duration": 3,
    "start_time": "2021-10-30T10:45:04.755Z"
   },
   {
    "duration": 121,
    "start_time": "2021-10-30T10:45:04.760Z"
   },
   {
    "duration": 6,
    "start_time": "2021-10-30T10:45:04.883Z"
   },
   {
    "duration": 447,
    "start_time": "2021-10-30T10:45:04.891Z"
   },
   {
    "duration": 724,
    "start_time": "2021-10-30T10:45:04.616Z"
   },
   {
    "duration": 717,
    "start_time": "2021-10-30T10:45:04.625Z"
   },
   {
    "duration": 709,
    "start_time": "2021-10-30T10:45:04.634Z"
   },
   {
    "duration": 702,
    "start_time": "2021-10-30T10:45:04.642Z"
   },
   {
    "duration": 693,
    "start_time": "2021-10-30T10:45:04.652Z"
   },
   {
    "duration": 686,
    "start_time": "2021-10-30T10:45:04.660Z"
   },
   {
    "duration": 679,
    "start_time": "2021-10-30T10:45:04.668Z"
   },
   {
    "duration": 672,
    "start_time": "2021-10-30T10:45:04.676Z"
   },
   {
    "duration": 664,
    "start_time": "2021-10-30T10:45:04.685Z"
   },
   {
    "duration": 657,
    "start_time": "2021-10-30T10:45:04.693Z"
   },
   {
    "duration": 648,
    "start_time": "2021-10-30T10:45:04.703Z"
   },
   {
    "duration": 620,
    "start_time": "2021-10-30T10:45:04.732Z"
   },
   {
    "duration": 608,
    "start_time": "2021-10-30T10:45:04.745Z"
   },
   {
    "duration": 600,
    "start_time": "2021-10-30T10:45:04.754Z"
   },
   {
    "duration": 591,
    "start_time": "2021-10-30T10:45:04.764Z"
   },
   {
    "duration": 584,
    "start_time": "2021-10-30T10:45:04.773Z"
   },
   {
    "duration": 7,
    "start_time": "2021-10-30T10:46:04.796Z"
   },
   {
    "duration": 10,
    "start_time": "2021-10-30T10:46:12.955Z"
   },
   {
    "duration": 3,
    "start_time": "2021-10-30T10:46:16.705Z"
   },
   {
    "duration": 156605,
    "start_time": "2021-10-30T10:46:21.868Z"
   },
   {
    "duration": 42114,
    "start_time": "2021-10-30T10:49:40.003Z"
   },
   {
    "duration": 6,
    "start_time": "2021-10-30T10:57:09.984Z"
   },
   {
    "duration": 25,
    "start_time": "2021-10-30T10:57:25.541Z"
   },
   {
    "duration": 14,
    "start_time": "2021-10-30T10:57:35.481Z"
   },
   {
    "duration": 376,
    "start_time": "2021-10-30T10:57:45.417Z"
   },
   {
    "duration": 6,
    "start_time": "2021-10-30T10:57:51.619Z"
   },
   {
    "duration": 5,
    "start_time": "2021-10-30T10:58:24.420Z"
   },
   {
    "duration": 9,
    "start_time": "2021-10-30T10:58:28.346Z"
   },
   {
    "duration": 3,
    "start_time": "2021-10-30T10:59:39.685Z"
   },
   {
    "duration": 3,
    "start_time": "2021-10-30T10:59:41.433Z"
   },
   {
    "duration": 7,
    "start_time": "2021-10-30T10:59:58.973Z"
   },
   {
    "duration": 5,
    "start_time": "2021-10-30T11:00:38.909Z"
   },
   {
    "duration": 3,
    "start_time": "2021-10-30T11:00:40.500Z"
   },
   {
    "duration": 9,
    "start_time": "2021-10-30T11:00:47.487Z"
   },
   {
    "duration": 240,
    "start_time": "2021-10-30T11:04:23.121Z"
   },
   {
    "duration": 8172,
    "start_time": "2021-10-30T11:04:56.850Z"
   },
   {
    "duration": 1270,
    "start_time": "2021-10-30T11:05:05.024Z"
   },
   {
    "duration": 1073,
    "start_time": "2021-10-30T11:05:06.296Z"
   },
   {
    "duration": 26,
    "start_time": "2021-10-30T11:05:07.371Z"
   },
   {
    "duration": 16,
    "start_time": "2021-10-30T11:05:07.399Z"
   },
   {
    "duration": 4,
    "start_time": "2021-10-30T11:05:07.416Z"
   },
   {
    "duration": 28,
    "start_time": "2021-10-30T11:05:07.422Z"
   },
   {
    "duration": 25,
    "start_time": "2021-10-30T11:05:07.453Z"
   },
   {
    "duration": 6,
    "start_time": "2021-10-30T11:05:07.480Z"
   },
   {
    "duration": 22,
    "start_time": "2021-10-30T11:05:07.488Z"
   },
   {
    "duration": 5,
    "start_time": "2021-10-30T11:05:07.512Z"
   },
   {
    "duration": 18,
    "start_time": "2021-10-30T11:05:07.518Z"
   },
   {
    "duration": 8,
    "start_time": "2021-10-30T11:05:07.538Z"
   },
   {
    "duration": 11,
    "start_time": "2021-10-30T11:05:07.576Z"
   },
   {
    "duration": 8,
    "start_time": "2021-10-30T11:05:07.589Z"
   },
   {
    "duration": 933,
    "start_time": "2021-10-30T11:05:07.599Z"
   },
   {
    "duration": 732,
    "start_time": "2021-10-30T11:05:08.534Z"
   },
   {
    "duration": 44,
    "start_time": "2021-10-30T11:05:09.268Z"
   },
   {
    "duration": 15278,
    "start_time": "2021-10-30T11:05:09.314Z"
   },
   {
    "duration": 10,
    "start_time": "2021-10-30T11:05:24.594Z"
   },
   {
    "duration": 828,
    "start_time": "2021-10-30T11:05:24.606Z"
   },
   {
    "duration": 681,
    "start_time": "2021-10-30T11:05:25.436Z"
   },
   {
    "duration": 17,
    "start_time": "2021-10-30T11:05:26.121Z"
   },
   {
    "duration": 86,
    "start_time": "2021-10-30T11:05:26.140Z"
   },
   {
    "duration": 4060,
    "start_time": "2021-10-30T11:05:26.228Z"
   },
   {
    "duration": 867,
    "start_time": "2021-10-30T11:05:30.289Z"
   },
   {
    "duration": 997,
    "start_time": "2021-10-30T11:05:31.158Z"
   },
   {
    "duration": 27,
    "start_time": "2021-10-30T11:05:32.156Z"
   },
   {
    "duration": 1069,
    "start_time": "2021-10-30T11:05:32.184Z"
   },
   {
    "duration": 4,
    "start_time": "2021-10-30T11:05:33.254Z"
   },
   {
    "duration": 113,
    "start_time": "2021-10-30T11:05:33.259Z"
   },
   {
    "duration": 4,
    "start_time": "2021-10-30T11:05:33.374Z"
   },
   {
    "duration": 14,
    "start_time": "2021-10-30T11:05:33.379Z"
   },
   {
    "duration": 16,
    "start_time": "2021-10-30T11:05:33.395Z"
   },
   {
    "duration": 6,
    "start_time": "2021-10-30T11:05:33.412Z"
   },
   {
    "duration": 88734,
    "start_time": "2021-10-30T11:05:33.419Z"
   },
   {
    "duration": 8120,
    "start_time": "2021-10-30T11:14:55.811Z"
   },
   {
    "duration": 1259,
    "start_time": "2021-10-30T11:15:03.934Z"
   },
   {
    "duration": 1072,
    "start_time": "2021-10-30T11:15:05.195Z"
   },
   {
    "duration": 27,
    "start_time": "2021-10-30T11:15:06.270Z"
   },
   {
    "duration": 17,
    "start_time": "2021-10-30T11:15:06.299Z"
   },
   {
    "duration": 4,
    "start_time": "2021-10-30T11:15:06.318Z"
   },
   {
    "duration": 21,
    "start_time": "2021-10-30T11:15:06.325Z"
   },
   {
    "duration": 30,
    "start_time": "2021-10-30T11:15:06.350Z"
   },
   {
    "duration": 6,
    "start_time": "2021-10-30T11:15:06.382Z"
   },
   {
    "duration": 22,
    "start_time": "2021-10-30T11:15:06.389Z"
   },
   {
    "duration": 4,
    "start_time": "2021-10-30T11:15:06.413Z"
   },
   {
    "duration": 12,
    "start_time": "2021-10-30T11:15:06.418Z"
   },
   {
    "duration": 8,
    "start_time": "2021-10-30T11:15:06.432Z"
   },
   {
    "duration": 10,
    "start_time": "2021-10-30T11:15:06.476Z"
   },
   {
    "duration": 8,
    "start_time": "2021-10-30T11:15:06.488Z"
   },
   {
    "duration": 809,
    "start_time": "2021-10-30T11:15:06.498Z"
   },
   {
    "duration": 661,
    "start_time": "2021-10-30T11:15:07.309Z"
   },
   {
    "duration": 40,
    "start_time": "2021-10-30T11:15:07.972Z"
   },
   {
    "duration": 15074,
    "start_time": "2021-10-30T11:15:08.014Z"
   },
   {
    "duration": 10,
    "start_time": "2021-10-30T11:15:23.090Z"
   },
   {
    "duration": 750,
    "start_time": "2021-10-30T11:15:23.102Z"
   },
   {
    "duration": 637,
    "start_time": "2021-10-30T11:15:23.854Z"
   },
   {
    "duration": 16,
    "start_time": "2021-10-30T11:15:24.494Z"
   },
   {
    "duration": 84,
    "start_time": "2021-10-30T11:15:24.512Z"
   },
   {
    "duration": 4091,
    "start_time": "2021-10-30T11:15:24.598Z"
   },
   {
    "duration": 972,
    "start_time": "2021-10-30T11:15:28.691Z"
   },
   {
    "duration": 1094,
    "start_time": "2021-10-30T11:15:29.665Z"
   },
   {
    "duration": 29,
    "start_time": "2021-10-30T11:15:30.760Z"
   },
   {
    "duration": 1076,
    "start_time": "2021-10-30T11:15:30.791Z"
   },
   {
    "duration": 4,
    "start_time": "2021-10-30T11:15:31.876Z"
   },
   {
    "duration": 109,
    "start_time": "2021-10-30T11:15:31.882Z"
   },
   {
    "duration": 6,
    "start_time": "2021-10-30T11:15:31.993Z"
   },
   {
    "duration": 11,
    "start_time": "2021-10-30T11:15:32.001Z"
   },
   {
    "duration": 11,
    "start_time": "2021-10-30T11:15:32.014Z"
   },
   {
    "duration": 20,
    "start_time": "2021-10-30T11:15:32.026Z"
   },
   {
    "duration": 86597,
    "start_time": "2021-10-30T11:15:32.048Z"
   },
   {
    "duration": 416601,
    "start_time": "2021-10-30T11:16:58.648Z"
   },
   {
    "duration": 280,
    "start_time": "2021-10-30T11:23:55.251Z"
   },
   {
    "duration": 237,
    "start_time": "2021-10-30T11:23:55.532Z"
   },
   {
    "duration": 226,
    "start_time": "2021-10-30T11:23:55.771Z"
   },
   {
    "duration": 339,
    "start_time": "2021-10-30T11:23:55.998Z"
   },
   {
    "duration": 708,
    "start_time": "2021-10-30T11:23:55.631Z"
   },
   {
    "duration": 699,
    "start_time": "2021-10-30T11:23:55.641Z"
   },
   {
    "duration": 83990,
    "start_time": "2021-10-30T11:27:29.073Z"
   },
   {
    "duration": 15,
    "start_time": "2021-10-30T11:30:49.745Z"
   },
   {
    "duration": 869218,
    "start_time": "2021-10-30T11:33:16.890Z"
   },
   {
    "duration": 6,
    "start_time": "2021-10-30T11:52:46.569Z"
   },
   {
    "duration": 3,
    "start_time": "2021-10-30T11:52:51.094Z"
   },
   {
    "duration": 273215,
    "start_time": "2021-10-30T11:52:54.895Z"
   },
   {
    "duration": 5,
    "start_time": "2021-10-30T12:02:15.389Z"
   },
   {
    "duration": 9434,
    "start_time": "2021-10-30T12:02:32.785Z"
   },
   {
    "duration": 4,
    "start_time": "2021-10-30T12:03:01.966Z"
   },
   {
    "duration": 5,
    "start_time": "2021-10-30T12:03:04.291Z"
   },
   {
    "duration": 5,
    "start_time": "2021-10-30T12:03:07.217Z"
   },
   {
    "duration": 166612,
    "start_time": "2021-10-30T12:03:26.270Z"
   },
   {
    "duration": 7998,
    "start_time": "2021-10-30T12:06:35.687Z"
   },
   {
    "duration": 1234,
    "start_time": "2021-10-30T12:06:43.687Z"
   },
   {
    "duration": 1055,
    "start_time": "2021-10-30T12:06:44.923Z"
   },
   {
    "duration": 23,
    "start_time": "2021-10-30T12:06:45.980Z"
   },
   {
    "duration": 16,
    "start_time": "2021-10-30T12:06:46.004Z"
   },
   {
    "duration": 3,
    "start_time": "2021-10-30T12:06:46.022Z"
   },
   {
    "duration": 19,
    "start_time": "2021-10-30T12:06:46.027Z"
   },
   {
    "duration": 32,
    "start_time": "2021-10-30T12:06:46.048Z"
   },
   {
    "duration": 5,
    "start_time": "2021-10-30T12:06:46.082Z"
   },
   {
    "duration": 22,
    "start_time": "2021-10-30T12:06:46.089Z"
   },
   {
    "duration": 4,
    "start_time": "2021-10-30T12:06:46.113Z"
   },
   {
    "duration": 10,
    "start_time": "2021-10-30T12:06:46.118Z"
   },
   {
    "duration": 7,
    "start_time": "2021-10-30T12:06:46.130Z"
   },
   {
    "duration": 43,
    "start_time": "2021-10-30T12:06:46.139Z"
   },
   {
    "duration": 8,
    "start_time": "2021-10-30T12:06:46.184Z"
   },
   {
    "duration": 854,
    "start_time": "2021-10-30T12:06:46.193Z"
   },
   {
    "duration": 703,
    "start_time": "2021-10-30T12:06:47.049Z"
   },
   {
    "duration": 47,
    "start_time": "2021-10-30T12:06:47.754Z"
   },
   {
    "duration": 15788,
    "start_time": "2021-10-30T12:06:47.802Z"
   },
   {
    "duration": 11,
    "start_time": "2021-10-30T12:07:03.592Z"
   },
   {
    "duration": 771,
    "start_time": "2021-10-30T12:07:03.605Z"
   },
   {
    "duration": 610,
    "start_time": "2021-10-30T12:07:04.378Z"
   },
   {
    "duration": 19,
    "start_time": "2021-10-30T12:07:04.991Z"
   },
   {
    "duration": 96,
    "start_time": "2021-10-30T12:07:05.011Z"
   },
   {
    "duration": 3860,
    "start_time": "2021-10-30T12:07:05.109Z"
   },
   {
    "duration": 893,
    "start_time": "2021-10-30T12:07:08.971Z"
   },
   {
    "duration": 1084,
    "start_time": "2021-10-30T12:07:09.869Z"
   },
   {
    "duration": 31,
    "start_time": "2021-10-30T12:07:10.956Z"
   },
   {
    "duration": 1068,
    "start_time": "2021-10-30T12:07:10.989Z"
   },
   {
    "duration": 2,
    "start_time": "2021-10-30T12:07:12.059Z"
   },
   {
    "duration": 105,
    "start_time": "2021-10-30T12:07:12.063Z"
   },
   {
    "duration": 8,
    "start_time": "2021-10-30T12:07:12.170Z"
   },
   {
    "duration": 15,
    "start_time": "2021-10-30T12:07:12.179Z"
   },
   {
    "duration": 11,
    "start_time": "2021-10-30T12:07:12.196Z"
   },
   {
    "duration": 9,
    "start_time": "2021-10-30T12:07:12.209Z"
   },
   {
    "duration": 92471,
    "start_time": "2021-10-30T12:07:12.219Z"
   },
   {
    "duration": 181054,
    "start_time": "2021-10-30T12:08:44.692Z"
   },
   {
    "duration": 1533,
    "start_time": "2021-10-30T12:11:45.748Z"
   },
   {
    "duration": 30168,
    "start_time": "2021-10-30T12:11:47.283Z"
   },
   {
    "duration": 371,
    "start_time": "2021-10-30T12:12:17.453Z"
   },
   {
    "duration": 692,
    "start_time": "2021-10-30T12:12:17.135Z"
   },
   {
    "duration": 682,
    "start_time": "2021-10-30T12:12:17.146Z"
   },
   {
    "duration": 675,
    "start_time": "2021-10-30T12:12:17.155Z"
   },
   {
    "duration": 4,
    "start_time": "2021-10-30T12:12:25.894Z"
   },
   {
    "duration": 2,
    "start_time": "2021-10-30T12:12:34.721Z"
   },
   {
    "duration": 141440,
    "start_time": "2021-10-30T12:12:37.810Z"
   },
   {
    "duration": 4,
    "start_time": "2021-10-30T12:16:34.921Z"
   },
   {
    "duration": 2,
    "start_time": "2021-10-30T12:16:39.555Z"
   },
   {
    "duration": 4,
    "start_time": "2021-10-30T12:16:51.338Z"
   },
   {
    "duration": 371,
    "start_time": "2021-10-30T12:17:47.556Z"
   },
   {
    "duration": 354,
    "start_time": "2021-10-30T12:18:35.157Z"
   },
   {
    "duration": 1223,
    "start_time": "2021-10-30T12:19:51.900Z"
   },
   {
    "duration": 1545,
    "start_time": "2021-10-30T12:20:03.498Z"
   },
   {
    "duration": 9094,
    "start_time": "2021-10-30T12:20:59.954Z"
   },
   {
    "duration": 8804,
    "start_time": "2021-10-30T12:21:31.793Z"
   },
   {
    "duration": 4,
    "start_time": "2021-10-30T12:23:01.769Z"
   },
   {
    "duration": 3,
    "start_time": "2021-10-30T12:23:06.888Z"
   },
   {
    "duration": 933,
    "start_time": "2021-10-30T12:23:11.232Z"
   },
   {
    "duration": 4,
    "start_time": "2021-10-30T12:23:49.125Z"
   },
   {
    "duration": 2,
    "start_time": "2021-10-30T12:23:55.074Z"
   },
   {
    "duration": 10,
    "start_time": "2021-10-30T12:23:57.659Z"
   },
   {
    "duration": 60069,
    "start_time": "2021-10-30T12:24:34.275Z"
   },
   {
    "duration": 40203,
    "start_time": "2021-10-30T12:30:39.849Z"
   },
   {
    "duration": 4,
    "start_time": "2021-10-30T13:09:55.885Z"
   },
   {
    "duration": 3,
    "start_time": "2021-10-30T13:10:09.081Z"
   },
   {
    "duration": 41531,
    "start_time": "2021-10-30T13:10:15.549Z"
   },
   {
    "duration": 7927,
    "start_time": "2021-10-30T13:12:55.956Z"
   },
   {
    "duration": 1214,
    "start_time": "2021-10-30T13:13:03.886Z"
   },
   {
    "duration": 1031,
    "start_time": "2021-10-30T13:13:05.102Z"
   },
   {
    "duration": 24,
    "start_time": "2021-10-30T13:13:06.135Z"
   },
   {
    "duration": 25,
    "start_time": "2021-10-30T13:13:06.161Z"
   },
   {
    "duration": 4,
    "start_time": "2021-10-30T13:13:06.188Z"
   },
   {
    "duration": 22,
    "start_time": "2021-10-30T13:13:06.193Z"
   },
   {
    "duration": 5,
    "start_time": "2021-10-30T13:13:06.218Z"
   },
   {
    "duration": 8,
    "start_time": "2021-10-30T13:13:06.225Z"
   },
   {
    "duration": 46,
    "start_time": "2021-10-30T13:13:06.235Z"
   },
   {
    "duration": 4,
    "start_time": "2021-10-30T13:13:06.283Z"
   },
   {
    "duration": 13,
    "start_time": "2021-10-30T13:13:06.289Z"
   },
   {
    "duration": 9,
    "start_time": "2021-10-30T13:13:06.304Z"
   },
   {
    "duration": 12,
    "start_time": "2021-10-30T13:13:06.315Z"
   },
   {
    "duration": 7,
    "start_time": "2021-10-30T13:13:06.328Z"
   },
   {
    "duration": 797,
    "start_time": "2021-10-30T13:13:06.337Z"
   },
   {
    "duration": 722,
    "start_time": "2021-10-30T13:13:07.136Z"
   },
   {
    "duration": 47,
    "start_time": "2021-10-30T13:13:07.859Z"
   },
   {
    "duration": 15372,
    "start_time": "2021-10-30T13:13:07.907Z"
   },
   {
    "duration": 11,
    "start_time": "2021-10-30T13:13:23.281Z"
   },
   {
    "duration": 788,
    "start_time": "2021-10-30T13:13:23.295Z"
   },
   {
    "duration": 634,
    "start_time": "2021-10-30T13:13:24.084Z"
   },
   {
    "duration": 16,
    "start_time": "2021-10-30T13:13:24.721Z"
   },
   {
    "duration": 88,
    "start_time": "2021-10-30T13:13:24.739Z"
   },
   {
    "duration": 3849,
    "start_time": "2021-10-30T13:13:24.828Z"
   },
   {
    "duration": 861,
    "start_time": "2021-10-30T13:13:28.679Z"
   },
   {
    "duration": 1015,
    "start_time": "2021-10-30T13:13:29.542Z"
   },
   {
    "duration": 28,
    "start_time": "2021-10-30T13:13:30.559Z"
   },
   {
    "duration": 1070,
    "start_time": "2021-10-30T13:13:30.589Z"
   },
   {
    "duration": 3,
    "start_time": "2021-10-30T13:13:31.661Z"
   },
   {
    "duration": 110,
    "start_time": "2021-10-30T13:13:31.666Z"
   },
   {
    "duration": 4,
    "start_time": "2021-10-30T13:13:31.778Z"
   },
   {
    "duration": 11,
    "start_time": "2021-10-30T13:13:31.784Z"
   },
   {
    "duration": 10,
    "start_time": "2021-10-30T13:13:31.796Z"
   },
   {
    "duration": 8,
    "start_time": "2021-10-30T13:13:31.808Z"
   },
   {
    "duration": 39947,
    "start_time": "2021-10-30T13:13:31.818Z"
   },
   {
    "duration": 1186943,
    "start_time": "2021-10-30T13:14:11.767Z"
   },
   {
    "duration": 1465,
    "start_time": "2021-10-30T13:33:58.712Z"
   },
   {
    "duration": 95710,
    "start_time": "2021-10-30T13:34:00.180Z"
   },
   {
    "duration": 537,
    "start_time": "2021-10-30T13:35:35.984Z"
   },
   {
    "duration": 859,
    "start_time": "2021-10-30T13:35:35.664Z"
   },
   {
    "duration": 855,
    "start_time": "2021-10-30T13:35:35.668Z"
   },
   {
    "duration": 503136,
    "start_time": "2021-10-30T13:47:40.741Z"
   },
   {
    "duration": 1963252,
    "start_time": "2021-10-30T13:59:43.897Z"
   },
   {
    "duration": 8046,
    "start_time": "2021-10-30T14:32:47.236Z"
   },
   {
    "duration": 1201,
    "start_time": "2021-10-30T14:32:55.284Z"
   },
   {
    "duration": 1356,
    "start_time": "2021-10-30T14:32:56.487Z"
   },
   {
    "duration": 33,
    "start_time": "2021-10-30T14:32:57.845Z"
   },
   {
    "duration": 16,
    "start_time": "2021-10-30T14:32:57.879Z"
   },
   {
    "duration": 3,
    "start_time": "2021-10-30T14:32:57.897Z"
   },
   {
    "duration": 20,
    "start_time": "2021-10-30T14:32:57.902Z"
   },
   {
    "duration": 5,
    "start_time": "2021-10-30T14:32:57.925Z"
   },
   {
    "duration": 5,
    "start_time": "2021-10-30T14:32:57.932Z"
   },
   {
    "duration": 64,
    "start_time": "2021-10-30T14:32:57.938Z"
   },
   {
    "duration": 5,
    "start_time": "2021-10-30T14:32:58.004Z"
   },
   {
    "duration": 14,
    "start_time": "2021-10-30T14:32:58.011Z"
   },
   {
    "duration": 7,
    "start_time": "2021-10-30T14:32:58.026Z"
   },
   {
    "duration": 9,
    "start_time": "2021-10-30T14:32:58.035Z"
   },
   {
    "duration": 36,
    "start_time": "2021-10-30T14:32:58.046Z"
   },
   {
    "duration": 775,
    "start_time": "2021-10-30T14:32:58.084Z"
   },
   {
    "duration": 805,
    "start_time": "2021-10-30T14:32:58.861Z"
   },
   {
    "duration": 40,
    "start_time": "2021-10-30T14:32:59.676Z"
   },
   {
    "duration": 15392,
    "start_time": "2021-10-30T14:32:59.717Z"
   },
   {
    "duration": 9,
    "start_time": "2021-10-30T14:33:15.111Z"
   },
   {
    "duration": 786,
    "start_time": "2021-10-30T14:33:15.122Z"
   },
   {
    "duration": 627,
    "start_time": "2021-10-30T14:33:15.910Z"
   },
   {
    "duration": 15,
    "start_time": "2021-10-30T14:33:16.541Z"
   },
   {
    "duration": 80,
    "start_time": "2021-10-30T14:33:16.558Z"
   },
   {
    "duration": 3731,
    "start_time": "2021-10-30T14:33:16.640Z"
   },
   {
    "duration": 981,
    "start_time": "2021-10-30T14:33:20.373Z"
   },
   {
    "duration": 996,
    "start_time": "2021-10-30T14:33:21.356Z"
   },
   {
    "duration": 28,
    "start_time": "2021-10-30T14:33:22.354Z"
   },
   {
    "duration": 1034,
    "start_time": "2021-10-30T14:33:22.384Z"
   },
   {
    "duration": 3,
    "start_time": "2021-10-30T14:33:23.420Z"
   },
   {
    "duration": 110,
    "start_time": "2021-10-30T14:33:23.425Z"
   },
   {
    "duration": 4,
    "start_time": "2021-10-30T14:33:23.537Z"
   },
   {
    "duration": 8,
    "start_time": "2021-10-30T14:33:23.543Z"
   },
   {
    "duration": 10,
    "start_time": "2021-10-30T14:33:23.553Z"
   },
   {
    "duration": 3,
    "start_time": "2021-10-30T14:33:23.577Z"
   },
   {
    "duration": 39589,
    "start_time": "2021-10-30T14:33:23.582Z"
   },
   {
    "duration": 277879,
    "start_time": "2021-10-30T14:34:03.173Z"
   },
   {
    "duration": 1538,
    "start_time": "2021-10-30T14:38:41.054Z"
   },
   {
    "duration": 607287,
    "start_time": "2021-10-30T14:38:42.594Z"
   },
   {
    "duration": 909,
    "start_time": "2021-10-30T14:48:49.883Z"
   },
   {
    "duration": 787,
    "start_time": "2021-10-30T14:48:50.007Z"
   },
   {
    "duration": 205820,
    "start_time": "2021-10-30T14:49:56.318Z"
   },
   {
    "duration": 442143,
    "start_time": "2021-10-30T14:53:55.439Z"
   },
   {
    "duration": 3,
    "start_time": "2021-10-30T15:01:20.943Z"
   },
   {
    "duration": 99579,
    "start_time": "2021-10-30T15:01:22.809Z"
   },
   {
    "duration": 47566,
    "start_time": "2021-10-30T15:03:38.014Z"
   },
   {
    "duration": 36732,
    "start_time": "2021-10-30T15:04:47.448Z"
   },
   {
    "duration": 4430,
    "start_time": "2021-10-30T15:07:32.790Z"
   },
   {
    "duration": 5215,
    "start_time": "2021-10-30T15:08:24.231Z"
   },
   {
    "duration": 7971,
    "start_time": "2021-10-30T15:11:28.048Z"
   },
   {
    "duration": 1169,
    "start_time": "2021-10-30T15:11:36.022Z"
   },
   {
    "duration": 1053,
    "start_time": "2021-10-30T15:11:37.194Z"
   },
   {
    "duration": 28,
    "start_time": "2021-10-30T15:11:38.249Z"
   },
   {
    "duration": 17,
    "start_time": "2021-10-30T15:11:38.279Z"
   },
   {
    "duration": 4,
    "start_time": "2021-10-30T15:11:38.297Z"
   },
   {
    "duration": 20,
    "start_time": "2021-10-30T15:11:38.303Z"
   },
   {
    "duration": 5,
    "start_time": "2021-10-30T15:11:38.325Z"
   },
   {
    "duration": 6,
    "start_time": "2021-10-30T15:11:38.332Z"
   },
   {
    "duration": 53,
    "start_time": "2021-10-30T15:11:38.340Z"
   },
   {
    "duration": 5,
    "start_time": "2021-10-30T15:11:38.395Z"
   },
   {
    "duration": 22,
    "start_time": "2021-10-30T15:11:38.401Z"
   },
   {
    "duration": 7,
    "start_time": "2021-10-30T15:11:38.425Z"
   },
   {
    "duration": 14,
    "start_time": "2021-10-30T15:11:38.434Z"
   },
   {
    "duration": 28,
    "start_time": "2021-10-30T15:11:38.449Z"
   },
   {
    "duration": 800,
    "start_time": "2021-10-30T15:11:38.479Z"
   },
   {
    "duration": 689,
    "start_time": "2021-10-30T15:11:39.281Z"
   },
   {
    "duration": 39,
    "start_time": "2021-10-30T15:11:39.972Z"
   },
   {
    "duration": 15204,
    "start_time": "2021-10-30T15:11:40.013Z"
   },
   {
    "duration": 10,
    "start_time": "2021-10-30T15:11:55.219Z"
   },
   {
    "duration": 792,
    "start_time": "2021-10-30T15:11:55.231Z"
   },
   {
    "duration": 622,
    "start_time": "2021-10-30T15:11:56.025Z"
   },
   {
    "duration": 16,
    "start_time": "2021-10-30T15:11:56.650Z"
   },
   {
    "duration": 69,
    "start_time": "2021-10-30T15:11:56.677Z"
   },
   {
    "duration": 4039,
    "start_time": "2021-10-30T15:11:56.748Z"
   },
   {
    "duration": 871,
    "start_time": "2021-10-30T15:12:00.789Z"
   },
   {
    "duration": 988,
    "start_time": "2021-10-30T15:12:01.663Z"
   },
   {
    "duration": 29,
    "start_time": "2021-10-30T15:12:02.654Z"
   },
   {
    "duration": 1091,
    "start_time": "2021-10-30T15:12:02.685Z"
   },
   {
    "duration": 3,
    "start_time": "2021-10-30T15:12:03.777Z"
   },
   {
    "duration": 104,
    "start_time": "2021-10-30T15:12:03.781Z"
   },
   {
    "duration": 3,
    "start_time": "2021-10-30T15:12:03.887Z"
   },
   {
    "duration": 10,
    "start_time": "2021-10-30T15:12:03.892Z"
   },
   {
    "duration": 11,
    "start_time": "2021-10-30T15:12:03.903Z"
   },
   {
    "duration": 11,
    "start_time": "2021-10-30T15:12:03.917Z"
   },
   {
    "duration": 39578,
    "start_time": "2021-10-30T15:12:03.930Z"
   },
   {
    "duration": 309354,
    "start_time": "2021-10-30T15:12:43.510Z"
   },
   {
    "duration": 1523,
    "start_time": "2021-10-30T15:17:52.866Z"
   },
   {
    "duration": 46499,
    "start_time": "2021-10-30T15:17:54.391Z"
   },
   {
    "duration": 5,
    "start_time": "2021-10-30T15:18:40.977Z"
   },
   {
    "duration": 111507,
    "start_time": "2021-10-30T15:18:40.984Z"
   },
   {
    "duration": 754,
    "start_time": "2021-10-30T15:20:32.577Z"
   },
   {
    "duration": 835,
    "start_time": "2021-10-30T15:20:32.499Z"
   },
   {
    "duration": 14038,
    "start_time": "2021-10-30T15:21:35.817Z"
   },
   {
    "duration": 14090,
    "start_time": "2021-10-30T15:36:54.751Z"
   },
   {
    "duration": 14460,
    "start_time": "2021-10-30T15:37:23.719Z"
   },
   {
    "duration": 355,
    "start_time": "2021-10-30T15:41:13.859Z"
   },
   {
    "duration": 919,
    "start_time": "2021-10-30T15:41:27.672Z"
   },
   {
    "duration": 8,
    "start_time": "2021-10-30T15:42:23.103Z"
   },
   {
    "duration": 8,
    "start_time": "2021-10-30T15:42:51.908Z"
   },
   {
    "duration": 8071,
    "start_time": "2021-10-30T16:25:12.894Z"
   },
   {
    "duration": 1333,
    "start_time": "2021-10-30T16:25:20.967Z"
   },
   {
    "duration": 1087,
    "start_time": "2021-10-30T16:25:22.303Z"
   },
   {
    "duration": 24,
    "start_time": "2021-10-30T16:25:23.392Z"
   },
   {
    "duration": 18,
    "start_time": "2021-10-30T16:25:23.417Z"
   },
   {
    "duration": 3,
    "start_time": "2021-10-30T16:25:23.437Z"
   },
   {
    "duration": 45,
    "start_time": "2021-10-30T16:25:23.442Z"
   },
   {
    "duration": 5,
    "start_time": "2021-10-30T16:25:23.490Z"
   },
   {
    "duration": 5,
    "start_time": "2021-10-30T16:25:23.497Z"
   },
   {
    "duration": 21,
    "start_time": "2021-10-30T16:25:23.504Z"
   },
   {
    "duration": 5,
    "start_time": "2021-10-30T16:25:23.526Z"
   },
   {
    "duration": 11,
    "start_time": "2021-10-30T16:25:23.532Z"
   },
   {
    "duration": 38,
    "start_time": "2021-10-30T16:25:23.544Z"
   },
   {
    "duration": 10,
    "start_time": "2021-10-30T16:25:23.584Z"
   },
   {
    "duration": 8,
    "start_time": "2021-10-30T16:25:23.596Z"
   },
   {
    "duration": 832,
    "start_time": "2021-10-30T16:25:23.606Z"
   },
   {
    "duration": 743,
    "start_time": "2021-10-30T16:25:24.441Z"
   },
   {
    "duration": 42,
    "start_time": "2021-10-30T16:25:25.186Z"
   },
   {
    "duration": 15464,
    "start_time": "2021-10-30T16:25:25.230Z"
   },
   {
    "duration": 10,
    "start_time": "2021-10-30T16:25:40.696Z"
   },
   {
    "duration": 805,
    "start_time": "2021-10-30T16:25:40.707Z"
   },
   {
    "duration": 653,
    "start_time": "2021-10-30T16:25:41.514Z"
   },
   {
    "duration": 20,
    "start_time": "2021-10-30T16:25:42.171Z"
   },
   {
    "duration": 71,
    "start_time": "2021-10-30T16:25:42.193Z"
   },
   {
    "duration": 3913,
    "start_time": "2021-10-30T16:25:42.276Z"
   },
   {
    "duration": 880,
    "start_time": "2021-10-30T16:25:46.190Z"
   },
   {
    "duration": 982,
    "start_time": "2021-10-30T16:25:47.072Z"
   },
   {
    "duration": 28,
    "start_time": "2021-10-30T16:25:48.056Z"
   },
   {
    "duration": 1088,
    "start_time": "2021-10-30T16:25:48.086Z"
   },
   {
    "duration": 2,
    "start_time": "2021-10-30T16:25:49.177Z"
   },
   {
    "duration": 118,
    "start_time": "2021-10-30T16:25:49.181Z"
   },
   {
    "duration": 14,
    "start_time": "2021-10-30T16:25:49.301Z"
   },
   {
    "duration": 21,
    "start_time": "2021-10-30T16:25:49.317Z"
   },
   {
    "duration": 13,
    "start_time": "2021-10-30T16:25:49.340Z"
   },
   {
    "duration": 8,
    "start_time": "2021-10-30T16:25:49.355Z"
   },
   {
    "duration": 40264,
    "start_time": "2021-10-30T16:25:49.365Z"
   },
   {
    "duration": 283128,
    "start_time": "2021-10-30T16:26:29.631Z"
   },
   {
    "duration": 1523,
    "start_time": "2021-10-30T16:31:12.761Z"
   },
   {
    "duration": 39593,
    "start_time": "2021-10-30T16:31:14.286Z"
   },
   {
    "duration": 54923,
    "start_time": "2021-10-30T16:31:53.881Z"
   },
   {
    "duration": 13804,
    "start_time": "2021-10-30T16:32:48.806Z"
   },
   {
    "duration": 7,
    "start_time": "2021-10-30T16:33:02.613Z"
   },
   {
    "duration": 11,
    "start_time": "2021-10-30T16:33:22.952Z"
   },
   {
    "duration": 8414,
    "start_time": "2021-10-30T16:34:06.677Z"
   },
   {
    "duration": 1229,
    "start_time": "2021-10-30T16:34:15.093Z"
   },
   {
    "duration": 1057,
    "start_time": "2021-10-30T16:34:16.324Z"
   },
   {
    "duration": 27,
    "start_time": "2021-10-30T16:34:17.383Z"
   },
   {
    "duration": 20,
    "start_time": "2021-10-30T16:34:17.412Z"
   },
   {
    "duration": 4,
    "start_time": "2021-10-30T16:34:17.433Z"
   },
   {
    "duration": 40,
    "start_time": "2021-10-30T16:34:17.438Z"
   },
   {
    "duration": 5,
    "start_time": "2021-10-30T16:34:17.481Z"
   },
   {
    "duration": 6,
    "start_time": "2021-10-30T16:34:17.488Z"
   },
   {
    "duration": 24,
    "start_time": "2021-10-30T16:34:17.496Z"
   },
   {
    "duration": 4,
    "start_time": "2021-10-30T16:34:17.522Z"
   },
   {
    "duration": 10,
    "start_time": "2021-10-30T16:34:17.528Z"
   },
   {
    "duration": 40,
    "start_time": "2021-10-30T16:34:17.540Z"
   },
   {
    "duration": 9,
    "start_time": "2021-10-30T16:34:17.581Z"
   },
   {
    "duration": 7,
    "start_time": "2021-10-30T16:34:17.592Z"
   },
   {
    "duration": 1017,
    "start_time": "2021-10-30T16:34:17.601Z"
   },
   {
    "duration": 664,
    "start_time": "2021-10-30T16:34:18.620Z"
   },
   {
    "duration": 38,
    "start_time": "2021-10-30T16:34:19.286Z"
   },
   {
    "duration": 15959,
    "start_time": "2021-10-30T16:34:19.326Z"
   },
   {
    "duration": 10,
    "start_time": "2021-10-30T16:34:35.287Z"
   },
   {
    "duration": 794,
    "start_time": "2021-10-30T16:34:35.299Z"
   },
   {
    "duration": 604,
    "start_time": "2021-10-30T16:34:36.094Z"
   },
   {
    "duration": 16,
    "start_time": "2021-10-30T16:34:36.702Z"
   },
   {
    "duration": 84,
    "start_time": "2021-10-30T16:34:36.720Z"
   },
   {
    "duration": 3991,
    "start_time": "2021-10-30T16:34:36.806Z"
   },
   {
    "duration": 971,
    "start_time": "2021-10-30T16:34:40.799Z"
   },
   {
    "duration": 912,
    "start_time": "2021-10-30T16:34:41.772Z"
   },
   {
    "duration": 21,
    "start_time": "2021-10-30T16:34:42.687Z"
   },
   {
    "duration": 1057,
    "start_time": "2021-10-30T16:34:42.710Z"
   },
   {
    "duration": 7,
    "start_time": "2021-10-30T16:34:43.769Z"
   },
   {
    "duration": 111,
    "start_time": "2021-10-30T16:34:43.778Z"
   },
   {
    "duration": 5,
    "start_time": "2021-10-30T16:34:43.891Z"
   },
   {
    "duration": 11,
    "start_time": "2021-10-30T16:34:43.898Z"
   },
   {
    "duration": 15,
    "start_time": "2021-10-30T16:34:43.911Z"
   },
   {
    "duration": 7,
    "start_time": "2021-10-30T16:34:43.928Z"
   },
   {
    "duration": 41264,
    "start_time": "2021-10-30T16:34:43.938Z"
   },
   {
    "duration": 283713,
    "start_time": "2021-10-30T16:35:25.204Z"
   },
   {
    "duration": 1660,
    "start_time": "2021-10-30T16:40:08.918Z"
   },
   {
    "duration": 39200,
    "start_time": "2021-10-30T16:40:10.581Z"
   },
   {
    "duration": 98893,
    "start_time": "2021-10-30T16:40:49.784Z"
   },
   {
    "duration": 13662,
    "start_time": "2021-10-30T16:42:28.679Z"
   },
   {
    "duration": 7,
    "start_time": "2021-10-30T16:42:42.344Z"
   },
   {
    "duration": 614,
    "start_time": "2021-10-31T13:22:22.939Z"
   },
   {
    "duration": 3,
    "start_time": "2021-10-31T13:22:29.683Z"
   },
   {
    "duration": 12,
    "start_time": "2021-10-31T13:22:31.459Z"
   },
   {
    "duration": 4,
    "start_time": "2021-10-31T13:22:34.606Z"
   },
   {
    "duration": 7,
    "start_time": "2021-10-31T13:22:43.489Z"
   },
   {
    "duration": 7,
    "start_time": "2021-10-31T13:22:48.897Z"
   },
   {
    "duration": 5,
    "start_time": "2021-10-31T13:23:01.147Z"
   },
   {
    "duration": 5,
    "start_time": "2021-10-31T13:23:01.756Z"
   },
   {
    "duration": 6,
    "start_time": "2021-10-31T13:23:02.322Z"
   },
   {
    "duration": 6,
    "start_time": "2021-10-31T13:23:02.798Z"
   },
   {
    "duration": 17121,
    "start_time": "2021-10-31T13:54:34.055Z"
   },
   {
    "duration": 1686,
    "start_time": "2021-10-31T13:54:51.180Z"
   },
   {
    "duration": 1122,
    "start_time": "2021-10-31T13:54:52.869Z"
   },
   {
    "duration": 43,
    "start_time": "2021-10-31T13:54:53.993Z"
   },
   {
    "duration": 23,
    "start_time": "2021-10-31T13:54:54.039Z"
   },
   {
    "duration": 3,
    "start_time": "2021-10-31T13:54:54.065Z"
   },
   {
    "duration": 26,
    "start_time": "2021-10-31T13:54:54.071Z"
   },
   {
    "duration": 6,
    "start_time": "2021-10-31T13:54:54.124Z"
   },
   {
    "duration": 8,
    "start_time": "2021-10-31T13:54:54.133Z"
   },
   {
    "duration": 29,
    "start_time": "2021-10-31T13:54:54.143Z"
   },
   {
    "duration": 6,
    "start_time": "2021-10-31T13:54:54.174Z"
   },
   {
    "duration": 48,
    "start_time": "2021-10-31T13:54:54.182Z"
   },
   {
    "duration": 8,
    "start_time": "2021-10-31T13:54:54.232Z"
   },
   {
    "duration": 12,
    "start_time": "2021-10-31T13:54:54.242Z"
   },
   {
    "duration": 9,
    "start_time": "2021-10-31T13:54:54.257Z"
   },
   {
    "duration": 1145,
    "start_time": "2021-10-31T13:54:54.269Z"
   },
   {
    "duration": 962,
    "start_time": "2021-10-31T13:54:55.416Z"
   },
   {
    "duration": 63,
    "start_time": "2021-10-31T13:54:56.381Z"
   },
   {
    "duration": 18219,
    "start_time": "2021-10-31T13:54:56.446Z"
   },
   {
    "duration": 10472,
    "start_time": "2021-10-31T13:55:18.592Z"
   },
   {
    "duration": 1789,
    "start_time": "2021-10-31T13:55:29.068Z"
   },
   {
    "duration": 1243,
    "start_time": "2021-10-31T13:55:30.860Z"
   },
   {
    "duration": 39,
    "start_time": "2021-10-31T13:55:32.106Z"
   },
   {
    "duration": 24,
    "start_time": "2021-10-31T13:55:32.147Z"
   },
   {
    "duration": 4,
    "start_time": "2021-10-31T13:55:32.174Z"
   },
   {
    "duration": 61,
    "start_time": "2021-10-31T13:55:32.181Z"
   },
   {
    "duration": 6,
    "start_time": "2021-10-31T13:55:32.247Z"
   },
   {
    "duration": 7,
    "start_time": "2021-10-31T13:55:32.256Z"
   },
   {
    "duration": 27,
    "start_time": "2021-10-31T13:55:32.265Z"
   },
   {
    "duration": 31,
    "start_time": "2021-10-31T13:55:32.294Z"
   },
   {
    "duration": 20,
    "start_time": "2021-10-31T13:55:32.327Z"
   },
   {
    "duration": 15,
    "start_time": "2021-10-31T13:55:32.349Z"
   },
   {
    "duration": 16,
    "start_time": "2021-10-31T13:55:32.367Z"
   },
   {
    "duration": 39,
    "start_time": "2021-10-31T13:55:32.386Z"
   },
   {
    "duration": 1234,
    "start_time": "2021-10-31T13:55:32.428Z"
   },
   {
    "duration": 995,
    "start_time": "2021-10-31T13:55:33.664Z"
   },
   {
    "duration": 60,
    "start_time": "2021-10-31T13:55:34.662Z"
   },
   {
    "duration": 18418,
    "start_time": "2021-10-31T13:55:34.724Z"
   },
   {
    "duration": 15,
    "start_time": "2021-10-31T13:55:53.145Z"
   },
   {
    "duration": 1131,
    "start_time": "2021-10-31T13:55:53.163Z"
   },
   {
    "duration": 917,
    "start_time": "2021-10-31T13:55:54.297Z"
   },
   {
    "duration": 22,
    "start_time": "2021-10-31T13:55:55.223Z"
   },
   {
    "duration": 151,
    "start_time": "2021-10-31T13:55:55.248Z"
   },
   {
    "duration": 4858,
    "start_time": "2021-10-31T13:55:55.401Z"
   },
   {
    "duration": 1273,
    "start_time": "2021-10-31T13:56:00.261Z"
   },
   {
    "duration": 1319,
    "start_time": "2021-10-31T13:56:01.537Z"
   },
   {
    "duration": 29,
    "start_time": "2021-10-31T13:56:02.860Z"
   },
   {
    "duration": 1480,
    "start_time": "2021-10-31T13:56:02.891Z"
   },
   {
    "duration": 4,
    "start_time": "2021-10-31T13:56:04.374Z"
   },
   {
    "duration": 120,
    "start_time": "2021-10-31T13:56:04.380Z"
   },
   {
    "duration": 5,
    "start_time": "2021-10-31T13:56:04.504Z"
   },
   {
    "duration": 18,
    "start_time": "2021-10-31T13:56:04.512Z"
   },
   {
    "duration": 15,
    "start_time": "2021-10-31T13:56:04.533Z"
   },
   {
    "duration": 8,
    "start_time": "2021-10-31T13:56:04.551Z"
   },
   {
    "duration": 59387,
    "start_time": "2021-10-31T13:56:04.562Z"
   },
   {
    "duration": 93304,
    "start_time": "2021-10-31T13:57:03.952Z"
   },
   {
    "duration": 1771,
    "start_time": "2021-10-31T13:58:37.258Z"
   },
   {
    "duration": 10779,
    "start_time": "2021-10-31T13:59:24.810Z"
   },
   {
    "duration": 1567,
    "start_time": "2021-10-31T13:59:35.592Z"
   },
   {
    "duration": 1137,
    "start_time": "2021-10-31T13:59:37.162Z"
   },
   {
    "duration": 42,
    "start_time": "2021-10-31T13:59:38.302Z"
   },
   {
    "duration": 25,
    "start_time": "2021-10-31T13:59:38.347Z"
   },
   {
    "duration": 5,
    "start_time": "2021-10-31T13:59:38.374Z"
   },
   {
    "duration": 58,
    "start_time": "2021-10-31T13:59:38.381Z"
   },
   {
    "duration": 7,
    "start_time": "2021-10-31T13:59:38.443Z"
   },
   {
    "duration": 6,
    "start_time": "2021-10-31T13:59:38.453Z"
   },
   {
    "duration": 29,
    "start_time": "2021-10-31T13:59:38.462Z"
   },
   {
    "duration": 33,
    "start_time": "2021-10-31T13:59:38.493Z"
   },
   {
    "duration": 13,
    "start_time": "2021-10-31T13:59:38.528Z"
   },
   {
    "duration": 11,
    "start_time": "2021-10-31T13:59:38.543Z"
   },
   {
    "duration": 12,
    "start_time": "2021-10-31T13:59:38.556Z"
   },
   {
    "duration": 56,
    "start_time": "2021-10-31T13:59:38.571Z"
   },
   {
    "duration": 1105,
    "start_time": "2021-10-31T13:59:38.629Z"
   },
   {
    "duration": 934,
    "start_time": "2021-10-31T13:59:39.736Z"
   },
   {
    "duration": 55,
    "start_time": "2021-10-31T13:59:40.673Z"
   },
   {
    "duration": 18612,
    "start_time": "2021-10-31T13:59:40.730Z"
   },
   {
    "duration": 13,
    "start_time": "2021-10-31T13:59:59.345Z"
   },
   {
    "duration": 1130,
    "start_time": "2021-10-31T13:59:59.360Z"
   },
   {
    "duration": 937,
    "start_time": "2021-10-31T14:00:00.492Z"
   },
   {
    "duration": 21,
    "start_time": "2021-10-31T14:00:01.434Z"
   },
   {
    "duration": 160,
    "start_time": "2021-10-31T14:00:01.459Z"
   },
   {
    "duration": 4728,
    "start_time": "2021-10-31T14:00:01.623Z"
   },
   {
    "duration": 1187,
    "start_time": "2021-10-31T14:00:06.354Z"
   },
   {
    "duration": 1313,
    "start_time": "2021-10-31T14:00:07.543Z"
   },
   {
    "duration": 30,
    "start_time": "2021-10-31T14:00:08.859Z"
   },
   {
    "duration": 1277,
    "start_time": "2021-10-31T14:00:08.892Z"
   },
   {
    "duration": 3,
    "start_time": "2021-10-31T14:00:10.172Z"
   },
   {
    "duration": 126,
    "start_time": "2021-10-31T14:00:10.177Z"
   },
   {
    "duration": 6,
    "start_time": "2021-10-31T14:00:10.305Z"
   },
   {
    "duration": 15,
    "start_time": "2021-10-31T14:00:10.313Z"
   },
   {
    "duration": 19,
    "start_time": "2021-10-31T14:00:10.331Z"
   },
   {
    "duration": 8,
    "start_time": "2021-10-31T14:00:10.352Z"
   },
   {
    "duration": 48792,
    "start_time": "2021-10-31T14:00:10.362Z"
   },
   {
    "duration": 336023,
    "start_time": "2021-10-31T14:00:59.157Z"
   },
   {
    "duration": 1845,
    "start_time": "2021-10-31T14:06:35.183Z"
   },
   {
    "duration": 47700,
    "start_time": "2021-10-31T14:06:37.031Z"
   },
   {
    "duration": 136690,
    "start_time": "2021-10-31T14:07:24.734Z"
   },
   {
    "duration": 17123,
    "start_time": "2021-10-31T14:09:41.427Z"
   },
   {
    "duration": 9,
    "start_time": "2021-10-31T14:09:58.553Z"
   },
   {
    "duration": 384,
    "start_time": "2021-10-31T15:02:42.546Z"
   },
   {
    "duration": 10852,
    "start_time": "2021-10-31T15:04:57.234Z"
   },
   {
    "duration": 1601,
    "start_time": "2021-10-31T15:05:08.089Z"
   },
   {
    "duration": 1158,
    "start_time": "2021-10-31T15:05:09.693Z"
   },
   {
    "duration": 35,
    "start_time": "2021-10-31T15:05:10.854Z"
   },
   {
    "duration": 44,
    "start_time": "2021-10-31T15:05:10.891Z"
   },
   {
    "duration": 5,
    "start_time": "2021-10-31T15:05:10.938Z"
   },
   {
    "duration": 27,
    "start_time": "2021-10-31T15:05:10.945Z"
   },
   {
    "duration": 7,
    "start_time": "2021-10-31T15:05:10.976Z"
   },
   {
    "duration": 40,
    "start_time": "2021-10-31T15:05:10.988Z"
   },
   {
    "duration": 34,
    "start_time": "2021-10-31T15:05:11.030Z"
   },
   {
    "duration": 7,
    "start_time": "2021-10-31T15:05:11.067Z"
   },
   {
    "duration": 14,
    "start_time": "2021-10-31T15:05:11.077Z"
   },
   {
    "duration": 38,
    "start_time": "2021-10-31T15:05:11.094Z"
   },
   {
    "duration": 16,
    "start_time": "2021-10-31T15:05:11.135Z"
   },
   {
    "duration": 14,
    "start_time": "2021-10-31T15:05:11.154Z"
   },
   {
    "duration": 1271,
    "start_time": "2021-10-31T15:05:11.171Z"
   },
   {
    "duration": 1054,
    "start_time": "2021-10-31T15:05:12.445Z"
   },
   {
    "duration": 57,
    "start_time": "2021-10-31T15:05:13.502Z"
   },
   {
    "duration": 18706,
    "start_time": "2021-10-31T15:05:13.562Z"
   },
   {
    "duration": 14,
    "start_time": "2021-10-31T15:05:32.270Z"
   },
   {
    "duration": 1112,
    "start_time": "2021-10-31T15:05:32.288Z"
   },
   {
    "duration": 919,
    "start_time": "2021-10-31T15:05:33.403Z"
   },
   {
    "duration": 19,
    "start_time": "2021-10-31T15:05:34.328Z"
   },
   {
    "duration": 157,
    "start_time": "2021-10-31T15:05:34.349Z"
   },
   {
    "duration": 4727,
    "start_time": "2021-10-31T15:05:34.508Z"
   },
   {
    "duration": 1300,
    "start_time": "2021-10-31T15:05:39.238Z"
   },
   {
    "duration": 1317,
    "start_time": "2021-10-31T15:05:40.540Z"
   },
   {
    "duration": 26,
    "start_time": "2021-10-31T15:05:41.860Z"
   },
   {
    "duration": 1279,
    "start_time": "2021-10-31T15:05:41.889Z"
   },
   {
    "duration": 4,
    "start_time": "2021-10-31T15:05:43.171Z"
   },
   {
    "duration": 122,
    "start_time": "2021-10-31T15:05:43.178Z"
   },
   {
    "duration": 5,
    "start_time": "2021-10-31T15:05:43.303Z"
   },
   {
    "duration": 16,
    "start_time": "2021-10-31T15:05:43.322Z"
   },
   {
    "duration": 26,
    "start_time": "2021-10-31T15:05:43.340Z"
   },
   {
    "duration": 7,
    "start_time": "2021-10-31T15:05:43.369Z"
   },
   {
    "duration": 54439,
    "start_time": "2021-10-31T15:05:43.379Z"
   },
   {
    "duration": 409079,
    "start_time": "2021-10-31T15:06:37.823Z"
   },
   {
    "duration": 2126,
    "start_time": "2021-10-31T15:13:26.904Z"
   },
   {
    "duration": 50997,
    "start_time": "2021-10-31T15:13:29.035Z"
   },
   {
    "duration": 139606,
    "start_time": "2021-10-31T15:14:20.124Z"
   },
   {
    "duration": 707,
    "start_time": "2021-10-31T15:16:39.733Z"
   },
   {
    "duration": 84,
    "start_time": "2021-10-31T15:16:40.443Z"
   }
  ],
  "kernelspec": {
   "display_name": "Python 3",
   "language": "python",
   "name": "python3"
  },
  "language_info": {
   "codemirror_mode": {
    "name": "ipython",
    "version": 3
   },
   "file_extension": ".py",
   "mimetype": "text/x-python",
   "name": "python",
   "nbconvert_exporter": "python",
   "pygments_lexer": "ipython3",
   "version": "3.8.5"
  },
  "toc": {
   "base_numbering": 1,
   "nav_menu": {},
   "number_sections": true,
   "sideBar": true,
   "skip_h1_title": true,
   "title_cell": "Table of Contents",
   "title_sidebar": "Contents",
   "toc_cell": false,
   "toc_position": {},
   "toc_section_display": true,
   "toc_window_display": false
  }
 },
 "nbformat": 4,
 "nbformat_minor": 2
}
